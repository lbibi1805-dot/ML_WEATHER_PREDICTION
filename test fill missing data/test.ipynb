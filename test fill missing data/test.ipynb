{
 "cells": [
  {
   "cell_type": "code",
   "execution_count": 1,
   "metadata": {},
   "outputs": [],
   "source": [
    "import pandas as pd\n",
    "from sklearn.ensemble import RandomForestRegressor\n",
    "from sklearn.model_selection import train_test_split\n",
    "\n",
    "# Load your dataset\n",
    "data = pd.read_csv('Data.csv')\n",
    "\n",
    "# Prepare data: Separate rows with and without missing values\n",
    "data_not_missing = data.dropna(subset=['severerisk'])\n",
    "data_missing = data[data['severerisk'].isnull()]\n",
    "\n",
    "# Features and target variable\n",
    "features = ['tempmax', 'tempmin', 'temp', 'humidity', 'precip']  # Adjust based on relevant features\n",
    "X_train = data_not_missing[features]\n",
    "y_train = data_not_missing['severerisk']\n",
    "\n",
    "# Train the model\n",
    "model = RandomForestRegressor()\n",
    "model.fit(X_train, y_train)\n",
    "\n",
    "# Predict missing values\n",
    "X_missing = data_missing[features]\n",
    "predicted_values = model.predict(X_missing)\n",
    "\n",
    "# Fill missing values with predictions\n",
    "data.loc[data['severerisk'].isnull(), 'severerisk'] = predicted_values\n",
    "\n",
    "# Save the cleaned dataset\n",
    "data.to_csv('new_data.csv', index=False)\n"
   ]
  }
 ],
 "metadata": {
  "kernelspec": {
   "display_name": "Python 3",
   "language": "python",
   "name": "python3"
  },
  "language_info": {
   "codemirror_mode": {
    "name": "ipython",
    "version": 3
   },
   "file_extension": ".py",
   "mimetype": "text/x-python",
   "name": "python",
   "nbconvert_exporter": "python",
   "pygments_lexer": "ipython3",
   "version": "3.12.5"
  }
 },
 "nbformat": 4,
 "nbformat_minor": 2
}
