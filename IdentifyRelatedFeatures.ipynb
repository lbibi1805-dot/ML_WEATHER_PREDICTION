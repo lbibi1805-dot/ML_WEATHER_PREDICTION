{
 "cells": [
  {
   "cell_type": "code",
   "execution_count": 28,
   "metadata": {},
   "outputs": [
    {
     "name": "stdout",
     "output_type": "stream",
     "text": [
      "Mutual Information between Features and Target:\n",
      "             Feature  Mutual Information\n",
      "2               temp            3.190251\n",
      "3       feelslikemax            1.750444\n",
      "4       feelslikemin            1.502751\n",
      "1            tempmin            1.494775\n",
      "0            tempmax            1.419369\n",
      "5                dew            1.158433\n",
      "14  sealevelpressure            0.740701\n",
      "15        cloudcover            0.280636\n",
      "16        visibility            0.273655\n",
      "17    solarradiation            0.266939\n",
      "18       solarenergy            0.266572\n",
      "19           uvindex            0.239078\n",
      "6           humidity            0.231080\n",
      "13           winddir            0.181604\n",
      "7             precip            0.089658\n",
      "11          windgust            0.082332\n",
      "12         windspeed            0.033797\n",
      "8        precipcover            0.031931\n",
      "10         snowdepth            0.000000\n",
      "9               snow            0.000000\n",
      "20         moonphase            0.000000\n",
      "Top features based on MI: ['temp' 'feelslikemax' 'feelslikemin' 'tempmin' 'tempmax' 'dew'\n",
      " 'sealevelpressure']\n"
     ]
    }
   ],
   "source": [
    "# Import necessary libraries\n",
    "import pandas as pd\n",
    "from sklearn.feature_selection import mutual_info_regression\n",
    "from sklearn.decomposition import PCA\n",
    "import matplotlib.pyplot as plt\n",
    "\n",
    "# Load the dataset\n",
    "file_path = 'dataset/data.csv'  # Adjust the path to your dataset\n",
    "data = pd.read_csv(file_path)\n",
    "\n",
    "# Select only the numeric columns from the dataset\n",
    "numeric_cols = data.select_dtypes(include=['float64', 'int64']).columns\n",
    "data_numeric = data[numeric_cols]\n",
    "\n",
    "# Drop rows with missing values (NaN) in the numeric dataset\n",
    "data_numeric_cleaned = data_numeric.dropna()\n",
    "\n",
    "# Prepare the feature set (all numeric features except `temp`)\n",
    "X = data_numeric_cleaned.drop(columns=['feelslike', 'severerisk', 'precipprob'])  # Drop 'temp' (target variable)\n",
    "y = data_numeric_cleaned['feelslike']  # Target variable\n",
    "\n",
    "# Step 1: Calculate Mutual Information\n",
    "mi = mutual_info_regression(X, y)\n",
    "\n",
    "# Create a DataFrame for mutual information\n",
    "mi_df = pd.DataFrame({\n",
    "    'Feature': X.columns,\n",
    "    'Mutual Information': mi\n",
    "}).sort_values(by='Mutual Information', ascending=False)\n",
    "\n",
    "# Print mutual information\n",
    "print(\"Mutual Information between Features and Target:\")\n",
    "print(mi_df)\n",
    "\n",
    "# Step 2: Select top features based on MI (lấy tất cả những chỉ số MI trên 0.3)\n",
    "top_features = mi_df['Feature'].head(7).values ## Có 7 chỉ số MI trên 0.3\n",
    "print(f\"Top features based on MI: {top_features}\")\n",
    "\n",
    "\n"
   ]
  }
 ],
 "metadata": {
  "kernelspec": {
   "display_name": "Python 3",
   "language": "python",
   "name": "python3"
  },
  "language_info": {
   "codemirror_mode": {
    "name": "ipython",
    "version": 3
   },
   "file_extension": ".py",
   "mimetype": "text/x-python",
   "name": "python",
   "nbconvert_exporter": "python",
   "pygments_lexer": "ipython3",
   "version": "3.10.7"
  }
 },
 "nbformat": 4,
 "nbformat_minor": 2
}
