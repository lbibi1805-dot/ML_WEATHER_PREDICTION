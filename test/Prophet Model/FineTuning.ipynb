{
 "cells": [
  {
   "cell_type": "code",
   "execution_count": 1,
   "metadata": {},
   "outputs": [
    {
     "name": "stderr",
     "output_type": "stream",
     "text": [
      "c:\\Users\\natra\\AppData\\Local\\Programs\\Python\\Python310\\lib\\site-packages\\tqdm\\auto.py:21: TqdmWarning: IProgress not found. Please update jupyter and ipywidgets. See https://ipywidgets.readthedocs.io/en/stable/user_install.html\n",
      "  from .autonotebook import tqdm as notebook_tqdm\n",
      "C:\\Users\\natra\\AppData\\Local\\Temp\\ipykernel_38228\\3699711374.py:15: SettingWithCopyWarning: \n",
      "A value is trying to be set on a copy of a slice from a DataFrame\n",
      "\n",
      "See the caveats in the documentation: https://pandas.pydata.org/pandas-docs/stable/user_guide/indexing.html#returning-a-view-versus-a-copy\n",
      "  feels_like_data.rename(columns={'feelslike': 'y'}, inplace=True)\n"
     ]
    },
    {
     "name": "stdout",
     "output_type": "stream",
     "text": [
      "Evaluating: changepoint_prior_scale=0.01, seasonality_prior_scale=0.1, seasonality_mode=additive\n"
     ]
    },
    {
     "name": "stderr",
     "output_type": "stream",
     "text": [
      "19:31:08 - cmdstanpy - INFO - Chain [1] start processing\n",
      "19:31:08 - cmdstanpy - INFO - Chain [1] done processing\n",
      "c:\\Users\\natra\\AppData\\Local\\Programs\\Python\\Python310\\lib\\site-packages\\sklearn\\metrics\\_regression.py:492: FutureWarning: 'squared' is deprecated in version 1.4 and will be removed in 1.6. To calculate the root mean squared error, use the function'root_mean_squared_error'.\n",
      "  warnings.warn(\n",
      "19:31:09 - cmdstanpy - INFO - Chain [1] start processing\n",
      "19:31:09 - cmdstanpy - INFO - Chain [1] done processing\n",
      "c:\\Users\\natra\\AppData\\Local\\Programs\\Python\\Python310\\lib\\site-packages\\sklearn\\metrics\\_regression.py:492: FutureWarning: 'squared' is deprecated in version 1.4 and will be removed in 1.6. To calculate the root mean squared error, use the function'root_mean_squared_error'.\n",
      "  warnings.warn(\n",
      "19:31:10 - cmdstanpy - INFO - Chain [1] start processing\n",
      "19:31:10 - cmdstanpy - INFO - Chain [1] done processing\n",
      "c:\\Users\\natra\\AppData\\Local\\Programs\\Python\\Python310\\lib\\site-packages\\sklearn\\metrics\\_regression.py:492: FutureWarning: 'squared' is deprecated in version 1.4 and will be removed in 1.6. To calculate the root mean squared error, use the function'root_mean_squared_error'.\n",
      "  warnings.warn(\n",
      "19:31:11 - cmdstanpy - INFO - Chain [1] start processing\n",
      "19:31:11 - cmdstanpy - INFO - Chain [1] done processing\n",
      "c:\\Users\\natra\\AppData\\Local\\Programs\\Python\\Python310\\lib\\site-packages\\sklearn\\metrics\\_regression.py:492: FutureWarning: 'squared' is deprecated in version 1.4 and will be removed in 1.6. To calculate the root mean squared error, use the function'root_mean_squared_error'.\n",
      "  warnings.warn(\n",
      "19:31:12 - cmdstanpy - INFO - Chain [1] start processing\n",
      "19:31:12 - cmdstanpy - INFO - Chain [1] done processing\n",
      "c:\\Users\\natra\\AppData\\Local\\Programs\\Python\\Python310\\lib\\site-packages\\sklearn\\metrics\\_regression.py:492: FutureWarning: 'squared' is deprecated in version 1.4 and will be removed in 1.6. To calculate the root mean squared error, use the function'root_mean_squared_error'.\n",
      "  warnings.warn(\n"
     ]
    },
    {
     "name": "stdout",
     "output_type": "stream",
     "text": [
      "R² Score: 0.768, RMSE: 3.762, MAE: 3.064\n",
      "\n",
      "Evaluating: changepoint_prior_scale=0.01, seasonality_prior_scale=0.1, seasonality_mode=multiplicative\n"
     ]
    },
    {
     "name": "stderr",
     "output_type": "stream",
     "text": [
      "19:31:12 - cmdstanpy - INFO - Chain [1] start processing\n",
      "19:31:13 - cmdstanpy - INFO - Chain [1] done processing\n",
      "c:\\Users\\natra\\AppData\\Local\\Programs\\Python\\Python310\\lib\\site-packages\\sklearn\\metrics\\_regression.py:492: FutureWarning: 'squared' is deprecated in version 1.4 and will be removed in 1.6. To calculate the root mean squared error, use the function'root_mean_squared_error'.\n",
      "  warnings.warn(\n",
      "19:31:13 - cmdstanpy - INFO - Chain [1] start processing\n",
      "19:31:13 - cmdstanpy - INFO - Chain [1] done processing\n",
      "c:\\Users\\natra\\AppData\\Local\\Programs\\Python\\Python310\\lib\\site-packages\\sklearn\\metrics\\_regression.py:492: FutureWarning: 'squared' is deprecated in version 1.4 and will be removed in 1.6. To calculate the root mean squared error, use the function'root_mean_squared_error'.\n",
      "  warnings.warn(\n",
      "19:31:14 - cmdstanpy - INFO - Chain [1] start processing\n",
      "19:31:14 - cmdstanpy - INFO - Chain [1] done processing\n",
      "c:\\Users\\natra\\AppData\\Local\\Programs\\Python\\Python310\\lib\\site-packages\\sklearn\\metrics\\_regression.py:492: FutureWarning: 'squared' is deprecated in version 1.4 and will be removed in 1.6. To calculate the root mean squared error, use the function'root_mean_squared_error'.\n",
      "  warnings.warn(\n",
      "19:31:15 - cmdstanpy - INFO - Chain [1] start processing\n",
      "19:31:15 - cmdstanpy - INFO - Chain [1] done processing\n",
      "c:\\Users\\natra\\AppData\\Local\\Programs\\Python\\Python310\\lib\\site-packages\\sklearn\\metrics\\_regression.py:492: FutureWarning: 'squared' is deprecated in version 1.4 and will be removed in 1.6. To calculate the root mean squared error, use the function'root_mean_squared_error'.\n",
      "  warnings.warn(\n",
      "19:31:16 - cmdstanpy - INFO - Chain [1] start processing\n",
      "19:31:16 - cmdstanpy - INFO - Chain [1] done processing\n",
      "c:\\Users\\natra\\AppData\\Local\\Programs\\Python\\Python310\\lib\\site-packages\\sklearn\\metrics\\_regression.py:492: FutureWarning: 'squared' is deprecated in version 1.4 and will be removed in 1.6. To calculate the root mean squared error, use the function'root_mean_squared_error'.\n",
      "  warnings.warn(\n"
     ]
    },
    {
     "name": "stdout",
     "output_type": "stream",
     "text": [
      "R² Score: 0.768, RMSE: 3.766, MAE: 3.063\n",
      "\n",
      "Evaluating: changepoint_prior_scale=0.01, seasonality_prior_scale=1.1, seasonality_mode=additive\n"
     ]
    },
    {
     "name": "stderr",
     "output_type": "stream",
     "text": [
      "19:31:16 - cmdstanpy - INFO - Chain [1] start processing\n",
      "19:31:17 - cmdstanpy - INFO - Chain [1] done processing\n",
      "c:\\Users\\natra\\AppData\\Local\\Programs\\Python\\Python310\\lib\\site-packages\\sklearn\\metrics\\_regression.py:492: FutureWarning: 'squared' is deprecated in version 1.4 and will be removed in 1.6. To calculate the root mean squared error, use the function'root_mean_squared_error'.\n",
      "  warnings.warn(\n",
      "19:31:17 - cmdstanpy - INFO - Chain [1] start processing\n",
      "19:31:17 - cmdstanpy - INFO - Chain [1] done processing\n",
      "c:\\Users\\natra\\AppData\\Local\\Programs\\Python\\Python310\\lib\\site-packages\\sklearn\\metrics\\_regression.py:492: FutureWarning: 'squared' is deprecated in version 1.4 and will be removed in 1.6. To calculate the root mean squared error, use the function'root_mean_squared_error'.\n",
      "  warnings.warn(\n",
      "19:31:18 - cmdstanpy - INFO - Chain [1] start processing\n",
      "19:31:18 - cmdstanpy - INFO - Chain [1] done processing\n",
      "c:\\Users\\natra\\AppData\\Local\\Programs\\Python\\Python310\\lib\\site-packages\\sklearn\\metrics\\_regression.py:492: FutureWarning: 'squared' is deprecated in version 1.4 and will be removed in 1.6. To calculate the root mean squared error, use the function'root_mean_squared_error'.\n",
      "  warnings.warn(\n",
      "19:31:19 - cmdstanpy - INFO - Chain [1] start processing\n",
      "19:31:19 - cmdstanpy - INFO - Chain [1] done processing\n",
      "c:\\Users\\natra\\AppData\\Local\\Programs\\Python\\Python310\\lib\\site-packages\\sklearn\\metrics\\_regression.py:492: FutureWarning: 'squared' is deprecated in version 1.4 and will be removed in 1.6. To calculate the root mean squared error, use the function'root_mean_squared_error'.\n",
      "  warnings.warn(\n",
      "19:31:20 - cmdstanpy - INFO - Chain [1] start processing\n",
      "19:31:20 - cmdstanpy - INFO - Chain [1] done processing\n",
      "c:\\Users\\natra\\AppData\\Local\\Programs\\Python\\Python310\\lib\\site-packages\\sklearn\\metrics\\_regression.py:492: FutureWarning: 'squared' is deprecated in version 1.4 and will be removed in 1.6. To calculate the root mean squared error, use the function'root_mean_squared_error'.\n",
      "  warnings.warn(\n"
     ]
    },
    {
     "name": "stdout",
     "output_type": "stream",
     "text": [
      "R² Score: 0.769, RMSE: 3.757, MAE: 3.059\n",
      "\n",
      "Evaluating: changepoint_prior_scale=0.01, seasonality_prior_scale=1.1, seasonality_mode=multiplicative\n"
     ]
    },
    {
     "name": "stderr",
     "output_type": "stream",
     "text": [
      "19:31:21 - cmdstanpy - INFO - Chain [1] start processing\n",
      "19:31:21 - cmdstanpy - INFO - Chain [1] done processing\n",
      "c:\\Users\\natra\\AppData\\Local\\Programs\\Python\\Python310\\lib\\site-packages\\sklearn\\metrics\\_regression.py:492: FutureWarning: 'squared' is deprecated in version 1.4 and will be removed in 1.6. To calculate the root mean squared error, use the function'root_mean_squared_error'.\n",
      "  warnings.warn(\n",
      "19:31:22 - cmdstanpy - INFO - Chain [1] start processing\n",
      "19:31:22 - cmdstanpy - INFO - Chain [1] done processing\n",
      "c:\\Users\\natra\\AppData\\Local\\Programs\\Python\\Python310\\lib\\site-packages\\sklearn\\metrics\\_regression.py:492: FutureWarning: 'squared' is deprecated in version 1.4 and will be removed in 1.6. To calculate the root mean squared error, use the function'root_mean_squared_error'.\n",
      "  warnings.warn(\n",
      "19:31:23 - cmdstanpy - INFO - Chain [1] start processing\n",
      "19:31:23 - cmdstanpy - INFO - Chain [1] done processing\n",
      "c:\\Users\\natra\\AppData\\Local\\Programs\\Python\\Python310\\lib\\site-packages\\sklearn\\metrics\\_regression.py:492: FutureWarning: 'squared' is deprecated in version 1.4 and will be removed in 1.6. To calculate the root mean squared error, use the function'root_mean_squared_error'.\n",
      "  warnings.warn(\n",
      "19:31:24 - cmdstanpy - INFO - Chain [1] start processing\n",
      "19:31:24 - cmdstanpy - INFO - Chain [1] done processing\n",
      "c:\\Users\\natra\\AppData\\Local\\Programs\\Python\\Python310\\lib\\site-packages\\sklearn\\metrics\\_regression.py:492: FutureWarning: 'squared' is deprecated in version 1.4 and will be removed in 1.6. To calculate the root mean squared error, use the function'root_mean_squared_error'.\n",
      "  warnings.warn(\n",
      "19:31:25 - cmdstanpy - INFO - Chain [1] start processing\n",
      "19:31:25 - cmdstanpy - INFO - Chain [1] done processing\n",
      "c:\\Users\\natra\\AppData\\Local\\Programs\\Python\\Python310\\lib\\site-packages\\sklearn\\metrics\\_regression.py:492: FutureWarning: 'squared' is deprecated in version 1.4 and will be removed in 1.6. To calculate the root mean squared error, use the function'root_mean_squared_error'.\n",
      "  warnings.warn(\n"
     ]
    },
    {
     "name": "stdout",
     "output_type": "stream",
     "text": [
      "R² Score: 0.768, RMSE: 3.765, MAE: 3.062\n",
      "\n",
      "Evaluating: changepoint_prior_scale=0.01, seasonality_prior_scale=2.1, seasonality_mode=additive\n"
     ]
    },
    {
     "name": "stderr",
     "output_type": "stream",
     "text": [
      "19:31:26 - cmdstanpy - INFO - Chain [1] start processing\n",
      "19:31:26 - cmdstanpy - INFO - Chain [1] done processing\n",
      "c:\\Users\\natra\\AppData\\Local\\Programs\\Python\\Python310\\lib\\site-packages\\sklearn\\metrics\\_regression.py:492: FutureWarning: 'squared' is deprecated in version 1.4 and will be removed in 1.6. To calculate the root mean squared error, use the function'root_mean_squared_error'.\n",
      "  warnings.warn(\n",
      "19:31:27 - cmdstanpy - INFO - Chain [1] start processing\n",
      "19:31:27 - cmdstanpy - INFO - Chain [1] done processing\n",
      "c:\\Users\\natra\\AppData\\Local\\Programs\\Python\\Python310\\lib\\site-packages\\sklearn\\metrics\\_regression.py:492: FutureWarning: 'squared' is deprecated in version 1.4 and will be removed in 1.6. To calculate the root mean squared error, use the function'root_mean_squared_error'.\n",
      "  warnings.warn(\n",
      "19:31:27 - cmdstanpy - INFO - Chain [1] start processing\n",
      "19:31:28 - cmdstanpy - INFO - Chain [1] done processing\n",
      "c:\\Users\\natra\\AppData\\Local\\Programs\\Python\\Python310\\lib\\site-packages\\sklearn\\metrics\\_regression.py:492: FutureWarning: 'squared' is deprecated in version 1.4 and will be removed in 1.6. To calculate the root mean squared error, use the function'root_mean_squared_error'.\n",
      "  warnings.warn(\n",
      "19:31:28 - cmdstanpy - INFO - Chain [1] start processing\n",
      "19:31:28 - cmdstanpy - INFO - Chain [1] done processing\n",
      "c:\\Users\\natra\\AppData\\Local\\Programs\\Python\\Python310\\lib\\site-packages\\sklearn\\metrics\\_regression.py:492: FutureWarning: 'squared' is deprecated in version 1.4 and will be removed in 1.6. To calculate the root mean squared error, use the function'root_mean_squared_error'.\n",
      "  warnings.warn(\n",
      "19:31:29 - cmdstanpy - INFO - Chain [1] start processing\n",
      "19:31:29 - cmdstanpy - INFO - Chain [1] done processing\n",
      "c:\\Users\\natra\\AppData\\Local\\Programs\\Python\\Python310\\lib\\site-packages\\sklearn\\metrics\\_regression.py:492: FutureWarning: 'squared' is deprecated in version 1.4 and will be removed in 1.6. To calculate the root mean squared error, use the function'root_mean_squared_error'.\n",
      "  warnings.warn(\n"
     ]
    },
    {
     "name": "stdout",
     "output_type": "stream",
     "text": [
      "R² Score: 0.768, RMSE: 3.761, MAE: 3.062\n",
      "\n",
      "Evaluating: changepoint_prior_scale=0.01, seasonality_prior_scale=2.1, seasonality_mode=multiplicative\n"
     ]
    },
    {
     "name": "stderr",
     "output_type": "stream",
     "text": [
      "19:31:30 - cmdstanpy - INFO - Chain [1] start processing\n",
      "19:31:30 - cmdstanpy - INFO - Chain [1] done processing\n",
      "c:\\Users\\natra\\AppData\\Local\\Programs\\Python\\Python310\\lib\\site-packages\\sklearn\\metrics\\_regression.py:492: FutureWarning: 'squared' is deprecated in version 1.4 and will be removed in 1.6. To calculate the root mean squared error, use the function'root_mean_squared_error'.\n",
      "  warnings.warn(\n",
      "19:31:31 - cmdstanpy - INFO - Chain [1] start processing\n",
      "19:31:32 - cmdstanpy - INFO - Chain [1] done processing\n",
      "c:\\Users\\natra\\AppData\\Local\\Programs\\Python\\Python310\\lib\\site-packages\\sklearn\\metrics\\_regression.py:492: FutureWarning: 'squared' is deprecated in version 1.4 and will be removed in 1.6. To calculate the root mean squared error, use the function'root_mean_squared_error'.\n",
      "  warnings.warn(\n",
      "19:31:32 - cmdstanpy - INFO - Chain [1] start processing\n",
      "19:31:33 - cmdstanpy - INFO - Chain [1] done processing\n",
      "c:\\Users\\natra\\AppData\\Local\\Programs\\Python\\Python310\\lib\\site-packages\\sklearn\\metrics\\_regression.py:492: FutureWarning: 'squared' is deprecated in version 1.4 and will be removed in 1.6. To calculate the root mean squared error, use the function'root_mean_squared_error'.\n",
      "  warnings.warn(\n",
      "19:31:33 - cmdstanpy - INFO - Chain [1] start processing\n",
      "19:31:33 - cmdstanpy - INFO - Chain [1] done processing\n",
      "c:\\Users\\natra\\AppData\\Local\\Programs\\Python\\Python310\\lib\\site-packages\\sklearn\\metrics\\_regression.py:492: FutureWarning: 'squared' is deprecated in version 1.4 and will be removed in 1.6. To calculate the root mean squared error, use the function'root_mean_squared_error'.\n",
      "  warnings.warn(\n",
      "19:31:34 - cmdstanpy - INFO - Chain [1] start processing\n",
      "19:31:34 - cmdstanpy - INFO - Chain [1] done processing\n",
      "c:\\Users\\natra\\AppData\\Local\\Programs\\Python\\Python310\\lib\\site-packages\\sklearn\\metrics\\_regression.py:492: FutureWarning: 'squared' is deprecated in version 1.4 and will be removed in 1.6. To calculate the root mean squared error, use the function'root_mean_squared_error'.\n",
      "  warnings.warn(\n"
     ]
    },
    {
     "name": "stdout",
     "output_type": "stream",
     "text": [
      "R² Score: 0.767, RMSE: 3.766, MAE: 3.064\n",
      "\n",
      "Evaluating: changepoint_prior_scale=0.01, seasonality_prior_scale=3.1, seasonality_mode=additive\n"
     ]
    },
    {
     "name": "stderr",
     "output_type": "stream",
     "text": [
      "19:31:35 - cmdstanpy - INFO - Chain [1] start processing\n",
      "19:31:35 - cmdstanpy - INFO - Chain [1] done processing\n",
      "c:\\Users\\natra\\AppData\\Local\\Programs\\Python\\Python310\\lib\\site-packages\\sklearn\\metrics\\_regression.py:492: FutureWarning: 'squared' is deprecated in version 1.4 and will be removed in 1.6. To calculate the root mean squared error, use the function'root_mean_squared_error'.\n",
      "  warnings.warn(\n",
      "19:31:36 - cmdstanpy - INFO - Chain [1] start processing\n",
      "19:31:36 - cmdstanpy - INFO - Chain [1] done processing\n",
      "c:\\Users\\natra\\AppData\\Local\\Programs\\Python\\Python310\\lib\\site-packages\\sklearn\\metrics\\_regression.py:492: FutureWarning: 'squared' is deprecated in version 1.4 and will be removed in 1.6. To calculate the root mean squared error, use the function'root_mean_squared_error'.\n",
      "  warnings.warn(\n",
      "19:31:37 - cmdstanpy - INFO - Chain [1] start processing\n",
      "19:31:37 - cmdstanpy - INFO - Chain [1] done processing\n",
      "c:\\Users\\natra\\AppData\\Local\\Programs\\Python\\Python310\\lib\\site-packages\\sklearn\\metrics\\_regression.py:492: FutureWarning: 'squared' is deprecated in version 1.4 and will be removed in 1.6. To calculate the root mean squared error, use the function'root_mean_squared_error'.\n",
      "  warnings.warn(\n",
      "19:31:38 - cmdstanpy - INFO - Chain [1] start processing\n",
      "19:31:38 - cmdstanpy - INFO - Chain [1] done processing\n",
      "c:\\Users\\natra\\AppData\\Local\\Programs\\Python\\Python310\\lib\\site-packages\\sklearn\\metrics\\_regression.py:492: FutureWarning: 'squared' is deprecated in version 1.4 and will be removed in 1.6. To calculate the root mean squared error, use the function'root_mean_squared_error'.\n",
      "  warnings.warn(\n",
      "19:31:39 - cmdstanpy - INFO - Chain [1] start processing\n",
      "19:31:39 - cmdstanpy - INFO - Chain [1] done processing\n",
      "c:\\Users\\natra\\AppData\\Local\\Programs\\Python\\Python310\\lib\\site-packages\\sklearn\\metrics\\_regression.py:492: FutureWarning: 'squared' is deprecated in version 1.4 and will be removed in 1.6. To calculate the root mean squared error, use the function'root_mean_squared_error'.\n",
      "  warnings.warn(\n"
     ]
    },
    {
     "name": "stdout",
     "output_type": "stream",
     "text": [
      "R² Score: 0.768, RMSE: 3.761, MAE: 3.062\n",
      "\n",
      "Evaluating: changepoint_prior_scale=0.01, seasonality_prior_scale=3.1, seasonality_mode=multiplicative\n"
     ]
    },
    {
     "name": "stderr",
     "output_type": "stream",
     "text": [
      "19:31:40 - cmdstanpy - INFO - Chain [1] start processing\n",
      "19:31:40 - cmdstanpy - INFO - Chain [1] done processing\n",
      "c:\\Users\\natra\\AppData\\Local\\Programs\\Python\\Python310\\lib\\site-packages\\sklearn\\metrics\\_regression.py:492: FutureWarning: 'squared' is deprecated in version 1.4 and will be removed in 1.6. To calculate the root mean squared error, use the function'root_mean_squared_error'.\n",
      "  warnings.warn(\n",
      "19:31:41 - cmdstanpy - INFO - Chain [1] start processing\n",
      "19:31:41 - cmdstanpy - INFO - Chain [1] done processing\n",
      "c:\\Users\\natra\\AppData\\Local\\Programs\\Python\\Python310\\lib\\site-packages\\sklearn\\metrics\\_regression.py:492: FutureWarning: 'squared' is deprecated in version 1.4 and will be removed in 1.6. To calculate the root mean squared error, use the function'root_mean_squared_error'.\n",
      "  warnings.warn(\n",
      "19:31:41 - cmdstanpy - INFO - Chain [1] start processing\n",
      "19:31:42 - cmdstanpy - INFO - Chain [1] done processing\n",
      "c:\\Users\\natra\\AppData\\Local\\Programs\\Python\\Python310\\lib\\site-packages\\sklearn\\metrics\\_regression.py:492: FutureWarning: 'squared' is deprecated in version 1.4 and will be removed in 1.6. To calculate the root mean squared error, use the function'root_mean_squared_error'.\n",
      "  warnings.warn(\n",
      "19:31:42 - cmdstanpy - INFO - Chain [1] start processing\n",
      "19:31:43 - cmdstanpy - INFO - Chain [1] done processing\n",
      "c:\\Users\\natra\\AppData\\Local\\Programs\\Python\\Python310\\lib\\site-packages\\sklearn\\metrics\\_regression.py:492: FutureWarning: 'squared' is deprecated in version 1.4 and will be removed in 1.6. To calculate the root mean squared error, use the function'root_mean_squared_error'.\n",
      "  warnings.warn(\n",
      "19:31:43 - cmdstanpy - INFO - Chain [1] start processing\n",
      "19:31:43 - cmdstanpy - INFO - Chain [1] done processing\n",
      "c:\\Users\\natra\\AppData\\Local\\Programs\\Python\\Python310\\lib\\site-packages\\sklearn\\metrics\\_regression.py:492: FutureWarning: 'squared' is deprecated in version 1.4 and will be removed in 1.6. To calculate the root mean squared error, use the function'root_mean_squared_error'.\n",
      "  warnings.warn(\n"
     ]
    },
    {
     "name": "stdout",
     "output_type": "stream",
     "text": [
      "R² Score: 0.768, RMSE: 3.765, MAE: 3.061\n",
      "\n",
      "Evaluating: changepoint_prior_scale=0.01, seasonality_prior_scale=4.1, seasonality_mode=additive\n"
     ]
    },
    {
     "name": "stderr",
     "output_type": "stream",
     "text": [
      "19:31:44 - cmdstanpy - INFO - Chain [1] start processing\n",
      "19:31:44 - cmdstanpy - INFO - Chain [1] done processing\n",
      "c:\\Users\\natra\\AppData\\Local\\Programs\\Python\\Python310\\lib\\site-packages\\sklearn\\metrics\\_regression.py:492: FutureWarning: 'squared' is deprecated in version 1.4 and will be removed in 1.6. To calculate the root mean squared error, use the function'root_mean_squared_error'.\n",
      "  warnings.warn(\n",
      "19:31:45 - cmdstanpy - INFO - Chain [1] start processing\n",
      "19:31:45 - cmdstanpy - INFO - Chain [1] done processing\n",
      "c:\\Users\\natra\\AppData\\Local\\Programs\\Python\\Python310\\lib\\site-packages\\sklearn\\metrics\\_regression.py:492: FutureWarning: 'squared' is deprecated in version 1.4 and will be removed in 1.6. To calculate the root mean squared error, use the function'root_mean_squared_error'.\n",
      "  warnings.warn(\n",
      "19:31:46 - cmdstanpy - INFO - Chain [1] start processing\n",
      "19:31:46 - cmdstanpy - INFO - Chain [1] done processing\n",
      "c:\\Users\\natra\\AppData\\Local\\Programs\\Python\\Python310\\lib\\site-packages\\sklearn\\metrics\\_regression.py:492: FutureWarning: 'squared' is deprecated in version 1.4 and will be removed in 1.6. To calculate the root mean squared error, use the function'root_mean_squared_error'.\n",
      "  warnings.warn(\n",
      "19:31:47 - cmdstanpy - INFO - Chain [1] start processing\n",
      "19:31:47 - cmdstanpy - INFO - Chain [1] done processing\n",
      "c:\\Users\\natra\\AppData\\Local\\Programs\\Python\\Python310\\lib\\site-packages\\sklearn\\metrics\\_regression.py:492: FutureWarning: 'squared' is deprecated in version 1.4 and will be removed in 1.6. To calculate the root mean squared error, use the function'root_mean_squared_error'.\n",
      "  warnings.warn(\n",
      "19:31:48 - cmdstanpy - INFO - Chain [1] start processing\n",
      "19:31:48 - cmdstanpy - INFO - Chain [1] done processing\n",
      "c:\\Users\\natra\\AppData\\Local\\Programs\\Python\\Python310\\lib\\site-packages\\sklearn\\metrics\\_regression.py:492: FutureWarning: 'squared' is deprecated in version 1.4 and will be removed in 1.6. To calculate the root mean squared error, use the function'root_mean_squared_error'.\n",
      "  warnings.warn(\n"
     ]
    },
    {
     "name": "stdout",
     "output_type": "stream",
     "text": [
      "R² Score: 0.768, RMSE: 3.763, MAE: 3.063\n",
      "\n",
      "Evaluating: changepoint_prior_scale=0.01, seasonality_prior_scale=4.1, seasonality_mode=multiplicative\n"
     ]
    },
    {
     "name": "stderr",
     "output_type": "stream",
     "text": [
      "19:31:48 - cmdstanpy - INFO - Chain [1] start processing\n",
      "19:31:49 - cmdstanpy - INFO - Chain [1] done processing\n",
      "c:\\Users\\natra\\AppData\\Local\\Programs\\Python\\Python310\\lib\\site-packages\\sklearn\\metrics\\_regression.py:492: FutureWarning: 'squared' is deprecated in version 1.4 and will be removed in 1.6. To calculate the root mean squared error, use the function'root_mean_squared_error'.\n",
      "  warnings.warn(\n",
      "19:31:49 - cmdstanpy - INFO - Chain [1] start processing\n",
      "19:31:49 - cmdstanpy - INFO - Chain [1] done processing\n",
      "c:\\Users\\natra\\AppData\\Local\\Programs\\Python\\Python310\\lib\\site-packages\\sklearn\\metrics\\_regression.py:492: FutureWarning: 'squared' is deprecated in version 1.4 and will be removed in 1.6. To calculate the root mean squared error, use the function'root_mean_squared_error'.\n",
      "  warnings.warn(\n",
      "19:31:50 - cmdstanpy - INFO - Chain [1] start processing\n",
      "19:31:50 - cmdstanpy - INFO - Chain [1] done processing\n",
      "c:\\Users\\natra\\AppData\\Local\\Programs\\Python\\Python310\\lib\\site-packages\\sklearn\\metrics\\_regression.py:492: FutureWarning: 'squared' is deprecated in version 1.4 and will be removed in 1.6. To calculate the root mean squared error, use the function'root_mean_squared_error'.\n",
      "  warnings.warn(\n",
      "19:31:51 - cmdstanpy - INFO - Chain [1] start processing\n",
      "19:31:51 - cmdstanpy - INFO - Chain [1] done processing\n",
      "c:\\Users\\natra\\AppData\\Local\\Programs\\Python\\Python310\\lib\\site-packages\\sklearn\\metrics\\_regression.py:492: FutureWarning: 'squared' is deprecated in version 1.4 and will be removed in 1.6. To calculate the root mean squared error, use the function'root_mean_squared_error'.\n",
      "  warnings.warn(\n",
      "19:31:52 - cmdstanpy - INFO - Chain [1] start processing\n",
      "19:31:52 - cmdstanpy - INFO - Chain [1] done processing\n",
      "c:\\Users\\natra\\AppData\\Local\\Programs\\Python\\Python310\\lib\\site-packages\\sklearn\\metrics\\_regression.py:492: FutureWarning: 'squared' is deprecated in version 1.4 and will be removed in 1.6. To calculate the root mean squared error, use the function'root_mean_squared_error'.\n",
      "  warnings.warn(\n"
     ]
    },
    {
     "name": "stdout",
     "output_type": "stream",
     "text": [
      "R² Score: 0.768, RMSE: 3.760, MAE: 3.060\n",
      "\n",
      "Evaluating: changepoint_prior_scale=0.01, seasonality_prior_scale=5.1, seasonality_mode=additive\n"
     ]
    },
    {
     "name": "stderr",
     "output_type": "stream",
     "text": [
      "19:31:52 - cmdstanpy - INFO - Chain [1] start processing\n",
      "19:31:53 - cmdstanpy - INFO - Chain [1] done processing\n",
      "c:\\Users\\natra\\AppData\\Local\\Programs\\Python\\Python310\\lib\\site-packages\\sklearn\\metrics\\_regression.py:492: FutureWarning: 'squared' is deprecated in version 1.4 and will be removed in 1.6. To calculate the root mean squared error, use the function'root_mean_squared_error'.\n",
      "  warnings.warn(\n",
      "19:31:53 - cmdstanpy - INFO - Chain [1] start processing\n",
      "19:31:53 - cmdstanpy - INFO - Chain [1] done processing\n",
      "c:\\Users\\natra\\AppData\\Local\\Programs\\Python\\Python310\\lib\\site-packages\\sklearn\\metrics\\_regression.py:492: FutureWarning: 'squared' is deprecated in version 1.4 and will be removed in 1.6. To calculate the root mean squared error, use the function'root_mean_squared_error'.\n",
      "  warnings.warn(\n",
      "19:31:54 - cmdstanpy - INFO - Chain [1] start processing\n",
      "19:31:54 - cmdstanpy - INFO - Chain [1] done processing\n",
      "c:\\Users\\natra\\AppData\\Local\\Programs\\Python\\Python310\\lib\\site-packages\\sklearn\\metrics\\_regression.py:492: FutureWarning: 'squared' is deprecated in version 1.4 and will be removed in 1.6. To calculate the root mean squared error, use the function'root_mean_squared_error'.\n",
      "  warnings.warn(\n",
      "19:31:55 - cmdstanpy - INFO - Chain [1] start processing\n",
      "19:31:55 - cmdstanpy - INFO - Chain [1] done processing\n",
      "c:\\Users\\natra\\AppData\\Local\\Programs\\Python\\Python310\\lib\\site-packages\\sklearn\\metrics\\_regression.py:492: FutureWarning: 'squared' is deprecated in version 1.4 and will be removed in 1.6. To calculate the root mean squared error, use the function'root_mean_squared_error'.\n",
      "  warnings.warn(\n",
      "19:31:56 - cmdstanpy - INFO - Chain [1] start processing\n",
      "19:31:56 - cmdstanpy - INFO - Chain [1] done processing\n",
      "c:\\Users\\natra\\AppData\\Local\\Programs\\Python\\Python310\\lib\\site-packages\\sklearn\\metrics\\_regression.py:492: FutureWarning: 'squared' is deprecated in version 1.4 and will be removed in 1.6. To calculate the root mean squared error, use the function'root_mean_squared_error'.\n",
      "  warnings.warn(\n"
     ]
    },
    {
     "name": "stdout",
     "output_type": "stream",
     "text": [
      "R² Score: 0.769, RMSE: 3.757, MAE: 3.057\n",
      "\n",
      "Evaluating: changepoint_prior_scale=0.01, seasonality_prior_scale=5.1, seasonality_mode=multiplicative\n"
     ]
    },
    {
     "name": "stderr",
     "output_type": "stream",
     "text": [
      "19:31:57 - cmdstanpy - INFO - Chain [1] start processing\n",
      "19:31:57 - cmdstanpy - INFO - Chain [1] done processing\n",
      "c:\\Users\\natra\\AppData\\Local\\Programs\\Python\\Python310\\lib\\site-packages\\sklearn\\metrics\\_regression.py:492: FutureWarning: 'squared' is deprecated in version 1.4 and will be removed in 1.6. To calculate the root mean squared error, use the function'root_mean_squared_error'.\n",
      "  warnings.warn(\n",
      "19:31:58 - cmdstanpy - INFO - Chain [1] start processing\n",
      "19:31:58 - cmdstanpy - INFO - Chain [1] done processing\n",
      "c:\\Users\\natra\\AppData\\Local\\Programs\\Python\\Python310\\lib\\site-packages\\sklearn\\metrics\\_regression.py:492: FutureWarning: 'squared' is deprecated in version 1.4 and will be removed in 1.6. To calculate the root mean squared error, use the function'root_mean_squared_error'.\n",
      "  warnings.warn(\n",
      "19:31:59 - cmdstanpy - INFO - Chain [1] start processing\n",
      "19:31:59 - cmdstanpy - INFO - Chain [1] done processing\n",
      "c:\\Users\\natra\\AppData\\Local\\Programs\\Python\\Python310\\lib\\site-packages\\sklearn\\metrics\\_regression.py:492: FutureWarning: 'squared' is deprecated in version 1.4 and will be removed in 1.6. To calculate the root mean squared error, use the function'root_mean_squared_error'.\n",
      "  warnings.warn(\n",
      "19:32:00 - cmdstanpy - INFO - Chain [1] start processing\n",
      "19:32:01 - cmdstanpy - INFO - Chain [1] done processing\n",
      "c:\\Users\\natra\\AppData\\Local\\Programs\\Python\\Python310\\lib\\site-packages\\sklearn\\metrics\\_regression.py:492: FutureWarning: 'squared' is deprecated in version 1.4 and will be removed in 1.6. To calculate the root mean squared error, use the function'root_mean_squared_error'.\n",
      "  warnings.warn(\n",
      "19:32:01 - cmdstanpy - INFO - Chain [1] start processing\n",
      "19:32:01 - cmdstanpy - INFO - Chain [1] done processing\n",
      "c:\\Users\\natra\\AppData\\Local\\Programs\\Python\\Python310\\lib\\site-packages\\sklearn\\metrics\\_regression.py:492: FutureWarning: 'squared' is deprecated in version 1.4 and will be removed in 1.6. To calculate the root mean squared error, use the function'root_mean_squared_error'.\n",
      "  warnings.warn(\n"
     ]
    },
    {
     "name": "stdout",
     "output_type": "stream",
     "text": [
      "R² Score: 0.768, RMSE: 3.763, MAE: 3.062\n",
      "\n",
      "Evaluating: changepoint_prior_scale=0.01, seasonality_prior_scale=6.1, seasonality_mode=additive\n"
     ]
    },
    {
     "name": "stderr",
     "output_type": "stream",
     "text": [
      "19:32:02 - cmdstanpy - INFO - Chain [1] start processing\n",
      "19:32:02 - cmdstanpy - INFO - Chain [1] done processing\n",
      "c:\\Users\\natra\\AppData\\Local\\Programs\\Python\\Python310\\lib\\site-packages\\sklearn\\metrics\\_regression.py:492: FutureWarning: 'squared' is deprecated in version 1.4 and will be removed in 1.6. To calculate the root mean squared error, use the function'root_mean_squared_error'.\n",
      "  warnings.warn(\n",
      "19:32:03 - cmdstanpy - INFO - Chain [1] start processing\n",
      "19:32:03 - cmdstanpy - INFO - Chain [1] done processing\n",
      "c:\\Users\\natra\\AppData\\Local\\Programs\\Python\\Python310\\lib\\site-packages\\sklearn\\metrics\\_regression.py:492: FutureWarning: 'squared' is deprecated in version 1.4 and will be removed in 1.6. To calculate the root mean squared error, use the function'root_mean_squared_error'.\n",
      "  warnings.warn(\n",
      "19:32:04 - cmdstanpy - INFO - Chain [1] start processing\n",
      "19:32:04 - cmdstanpy - INFO - Chain [1] done processing\n",
      "c:\\Users\\natra\\AppData\\Local\\Programs\\Python\\Python310\\lib\\site-packages\\sklearn\\metrics\\_regression.py:492: FutureWarning: 'squared' is deprecated in version 1.4 and will be removed in 1.6. To calculate the root mean squared error, use the function'root_mean_squared_error'.\n",
      "  warnings.warn(\n",
      "19:32:04 - cmdstanpy - INFO - Chain [1] start processing\n",
      "19:32:05 - cmdstanpy - INFO - Chain [1] done processing\n",
      "c:\\Users\\natra\\AppData\\Local\\Programs\\Python\\Python310\\lib\\site-packages\\sklearn\\metrics\\_regression.py:492: FutureWarning: 'squared' is deprecated in version 1.4 and will be removed in 1.6. To calculate the root mean squared error, use the function'root_mean_squared_error'.\n",
      "  warnings.warn(\n",
      "19:32:05 - cmdstanpy - INFO - Chain [1] start processing\n",
      "19:32:06 - cmdstanpy - INFO - Chain [1] done processing\n",
      "c:\\Users\\natra\\AppData\\Local\\Programs\\Python\\Python310\\lib\\site-packages\\sklearn\\metrics\\_regression.py:492: FutureWarning: 'squared' is deprecated in version 1.4 and will be removed in 1.6. To calculate the root mean squared error, use the function'root_mean_squared_error'.\n",
      "  warnings.warn(\n"
     ]
    },
    {
     "name": "stdout",
     "output_type": "stream",
     "text": [
      "R² Score: 0.768, RMSE: 3.764, MAE: 3.063\n",
      "\n",
      "Evaluating: changepoint_prior_scale=0.01, seasonality_prior_scale=6.1, seasonality_mode=multiplicative\n"
     ]
    },
    {
     "name": "stderr",
     "output_type": "stream",
     "text": [
      "19:32:06 - cmdstanpy - INFO - Chain [1] start processing\n",
      "19:32:06 - cmdstanpy - INFO - Chain [1] done processing\n",
      "c:\\Users\\natra\\AppData\\Local\\Programs\\Python\\Python310\\lib\\site-packages\\sklearn\\metrics\\_regression.py:492: FutureWarning: 'squared' is deprecated in version 1.4 and will be removed in 1.6. To calculate the root mean squared error, use the function'root_mean_squared_error'.\n",
      "  warnings.warn(\n",
      "19:32:07 - cmdstanpy - INFO - Chain [1] start processing\n",
      "19:32:08 - cmdstanpy - INFO - Chain [1] done processing\n",
      "c:\\Users\\natra\\AppData\\Local\\Programs\\Python\\Python310\\lib\\site-packages\\sklearn\\metrics\\_regression.py:492: FutureWarning: 'squared' is deprecated in version 1.4 and will be removed in 1.6. To calculate the root mean squared error, use the function'root_mean_squared_error'.\n",
      "  warnings.warn(\n",
      "19:32:08 - cmdstanpy - INFO - Chain [1] start processing\n",
      "19:32:08 - cmdstanpy - INFO - Chain [1] done processing\n",
      "c:\\Users\\natra\\AppData\\Local\\Programs\\Python\\Python310\\lib\\site-packages\\sklearn\\metrics\\_regression.py:492: FutureWarning: 'squared' is deprecated in version 1.4 and will be removed in 1.6. To calculate the root mean squared error, use the function'root_mean_squared_error'.\n",
      "  warnings.warn(\n",
      "19:32:09 - cmdstanpy - INFO - Chain [1] start processing\n",
      "19:32:09 - cmdstanpy - INFO - Chain [1] done processing\n",
      "c:\\Users\\natra\\AppData\\Local\\Programs\\Python\\Python310\\lib\\site-packages\\sklearn\\metrics\\_regression.py:492: FutureWarning: 'squared' is deprecated in version 1.4 and will be removed in 1.6. To calculate the root mean squared error, use the function'root_mean_squared_error'.\n",
      "  warnings.warn(\n",
      "19:32:10 - cmdstanpy - INFO - Chain [1] start processing\n",
      "19:32:10 - cmdstanpy - INFO - Chain [1] done processing\n",
      "c:\\Users\\natra\\AppData\\Local\\Programs\\Python\\Python310\\lib\\site-packages\\sklearn\\metrics\\_regression.py:492: FutureWarning: 'squared' is deprecated in version 1.4 and will be removed in 1.6. To calculate the root mean squared error, use the function'root_mean_squared_error'.\n",
      "  warnings.warn(\n"
     ]
    },
    {
     "name": "stdout",
     "output_type": "stream",
     "text": [
      "R² Score: 0.767, RMSE: 3.767, MAE: 3.066\n",
      "\n",
      "Evaluating: changepoint_prior_scale=0.01, seasonality_prior_scale=7.1, seasonality_mode=additive\n"
     ]
    },
    {
     "name": "stderr",
     "output_type": "stream",
     "text": [
      "19:32:11 - cmdstanpy - INFO - Chain [1] start processing\n",
      "19:32:11 - cmdstanpy - INFO - Chain [1] done processing\n",
      "c:\\Users\\natra\\AppData\\Local\\Programs\\Python\\Python310\\lib\\site-packages\\sklearn\\metrics\\_regression.py:492: FutureWarning: 'squared' is deprecated in version 1.4 and will be removed in 1.6. To calculate the root mean squared error, use the function'root_mean_squared_error'.\n",
      "  warnings.warn(\n",
      "19:32:12 - cmdstanpy - INFO - Chain [1] start processing\n",
      "19:32:12 - cmdstanpy - INFO - Chain [1] done processing\n",
      "c:\\Users\\natra\\AppData\\Local\\Programs\\Python\\Python310\\lib\\site-packages\\sklearn\\metrics\\_regression.py:492: FutureWarning: 'squared' is deprecated in version 1.4 and will be removed in 1.6. To calculate the root mean squared error, use the function'root_mean_squared_error'.\n",
      "  warnings.warn(\n",
      "19:32:13 - cmdstanpy - INFO - Chain [1] start processing\n",
      "19:32:13 - cmdstanpy - INFO - Chain [1] done processing\n",
      "c:\\Users\\natra\\AppData\\Local\\Programs\\Python\\Python310\\lib\\site-packages\\sklearn\\metrics\\_regression.py:492: FutureWarning: 'squared' is deprecated in version 1.4 and will be removed in 1.6. To calculate the root mean squared error, use the function'root_mean_squared_error'.\n",
      "  warnings.warn(\n",
      "19:32:14 - cmdstanpy - INFO - Chain [1] start processing\n",
      "19:32:14 - cmdstanpy - INFO - Chain [1] done processing\n",
      "c:\\Users\\natra\\AppData\\Local\\Programs\\Python\\Python310\\lib\\site-packages\\sklearn\\metrics\\_regression.py:492: FutureWarning: 'squared' is deprecated in version 1.4 and will be removed in 1.6. To calculate the root mean squared error, use the function'root_mean_squared_error'.\n",
      "  warnings.warn(\n",
      "19:32:15 - cmdstanpy - INFO - Chain [1] start processing\n",
      "19:32:15 - cmdstanpy - INFO - Chain [1] done processing\n",
      "c:\\Users\\natra\\AppData\\Local\\Programs\\Python\\Python310\\lib\\site-packages\\sklearn\\metrics\\_regression.py:492: FutureWarning: 'squared' is deprecated in version 1.4 and will be removed in 1.6. To calculate the root mean squared error, use the function'root_mean_squared_error'.\n",
      "  warnings.warn(\n"
     ]
    },
    {
     "name": "stdout",
     "output_type": "stream",
     "text": [
      "R² Score: 0.768, RMSE: 3.758, MAE: 3.061\n",
      "\n",
      "Evaluating: changepoint_prior_scale=0.01, seasonality_prior_scale=7.1, seasonality_mode=multiplicative\n"
     ]
    },
    {
     "name": "stderr",
     "output_type": "stream",
     "text": [
      "19:32:16 - cmdstanpy - INFO - Chain [1] start processing\n",
      "19:32:16 - cmdstanpy - INFO - Chain [1] done processing\n",
      "c:\\Users\\natra\\AppData\\Local\\Programs\\Python\\Python310\\lib\\site-packages\\sklearn\\metrics\\_regression.py:492: FutureWarning: 'squared' is deprecated in version 1.4 and will be removed in 1.6. To calculate the root mean squared error, use the function'root_mean_squared_error'.\n",
      "  warnings.warn(\n",
      "19:32:16 - cmdstanpy - INFO - Chain [1] start processing\n",
      "19:32:17 - cmdstanpy - INFO - Chain [1] done processing\n",
      "c:\\Users\\natra\\AppData\\Local\\Programs\\Python\\Python310\\lib\\site-packages\\sklearn\\metrics\\_regression.py:492: FutureWarning: 'squared' is deprecated in version 1.4 and will be removed in 1.6. To calculate the root mean squared error, use the function'root_mean_squared_error'.\n",
      "  warnings.warn(\n",
      "19:32:17 - cmdstanpy - INFO - Chain [1] start processing\n",
      "19:32:17 - cmdstanpy - INFO - Chain [1] done processing\n",
      "c:\\Users\\natra\\AppData\\Local\\Programs\\Python\\Python310\\lib\\site-packages\\sklearn\\metrics\\_regression.py:492: FutureWarning: 'squared' is deprecated in version 1.4 and will be removed in 1.6. To calculate the root mean squared error, use the function'root_mean_squared_error'.\n",
      "  warnings.warn(\n",
      "19:32:18 - cmdstanpy - INFO - Chain [1] start processing\n",
      "19:32:18 - cmdstanpy - INFO - Chain [1] done processing\n",
      "c:\\Users\\natra\\AppData\\Local\\Programs\\Python\\Python310\\lib\\site-packages\\sklearn\\metrics\\_regression.py:492: FutureWarning: 'squared' is deprecated in version 1.4 and will be removed in 1.6. To calculate the root mean squared error, use the function'root_mean_squared_error'.\n",
      "  warnings.warn(\n",
      "19:32:19 - cmdstanpy - INFO - Chain [1] start processing\n",
      "19:32:19 - cmdstanpy - INFO - Chain [1] done processing\n",
      "c:\\Users\\natra\\AppData\\Local\\Programs\\Python\\Python310\\lib\\site-packages\\sklearn\\metrics\\_regression.py:492: FutureWarning: 'squared' is deprecated in version 1.4 and will be removed in 1.6. To calculate the root mean squared error, use the function'root_mean_squared_error'.\n",
      "  warnings.warn(\n"
     ]
    },
    {
     "name": "stdout",
     "output_type": "stream",
     "text": [
      "R² Score: 0.767, RMSE: 3.771, MAE: 3.068\n",
      "\n",
      "Evaluating: changepoint_prior_scale=0.01, seasonality_prior_scale=8.1, seasonality_mode=additive\n"
     ]
    },
    {
     "name": "stderr",
     "output_type": "stream",
     "text": [
      "19:32:20 - cmdstanpy - INFO - Chain [1] start processing\n",
      "19:32:20 - cmdstanpy - INFO - Chain [1] done processing\n",
      "c:\\Users\\natra\\AppData\\Local\\Programs\\Python\\Python310\\lib\\site-packages\\sklearn\\metrics\\_regression.py:492: FutureWarning: 'squared' is deprecated in version 1.4 and will be removed in 1.6. To calculate the root mean squared error, use the function'root_mean_squared_error'.\n",
      "  warnings.warn(\n",
      "19:32:20 - cmdstanpy - INFO - Chain [1] start processing\n",
      "19:32:20 - cmdstanpy - INFO - Chain [1] done processing\n",
      "c:\\Users\\natra\\AppData\\Local\\Programs\\Python\\Python310\\lib\\site-packages\\sklearn\\metrics\\_regression.py:492: FutureWarning: 'squared' is deprecated in version 1.4 and will be removed in 1.6. To calculate the root mean squared error, use the function'root_mean_squared_error'.\n",
      "  warnings.warn(\n",
      "19:32:21 - cmdstanpy - INFO - Chain [1] start processing\n",
      "19:32:21 - cmdstanpy - INFO - Chain [1] done processing\n",
      "c:\\Users\\natra\\AppData\\Local\\Programs\\Python\\Python310\\lib\\site-packages\\sklearn\\metrics\\_regression.py:492: FutureWarning: 'squared' is deprecated in version 1.4 and will be removed in 1.6. To calculate the root mean squared error, use the function'root_mean_squared_error'.\n",
      "  warnings.warn(\n",
      "19:32:22 - cmdstanpy - INFO - Chain [1] start processing\n",
      "19:32:22 - cmdstanpy - INFO - Chain [1] done processing\n",
      "c:\\Users\\natra\\AppData\\Local\\Programs\\Python\\Python310\\lib\\site-packages\\sklearn\\metrics\\_regression.py:492: FutureWarning: 'squared' is deprecated in version 1.4 and will be removed in 1.6. To calculate the root mean squared error, use the function'root_mean_squared_error'.\n",
      "  warnings.warn(\n",
      "19:32:23 - cmdstanpy - INFO - Chain [1] start processing\n",
      "19:32:23 - cmdstanpy - INFO - Chain [1] done processing\n",
      "c:\\Users\\natra\\AppData\\Local\\Programs\\Python\\Python310\\lib\\site-packages\\sklearn\\metrics\\_regression.py:492: FutureWarning: 'squared' is deprecated in version 1.4 and will be removed in 1.6. To calculate the root mean squared error, use the function'root_mean_squared_error'.\n",
      "  warnings.warn(\n"
     ]
    },
    {
     "name": "stdout",
     "output_type": "stream",
     "text": [
      "R² Score: 0.768, RMSE: 3.761, MAE: 3.063\n",
      "\n",
      "Evaluating: changepoint_prior_scale=0.01, seasonality_prior_scale=8.1, seasonality_mode=multiplicative\n"
     ]
    },
    {
     "name": "stderr",
     "output_type": "stream",
     "text": [
      "19:32:23 - cmdstanpy - INFO - Chain [1] start processing\n",
      "19:32:24 - cmdstanpy - INFO - Chain [1] done processing\n",
      "c:\\Users\\natra\\AppData\\Local\\Programs\\Python\\Python310\\lib\\site-packages\\sklearn\\metrics\\_regression.py:492: FutureWarning: 'squared' is deprecated in version 1.4 and will be removed in 1.6. To calculate the root mean squared error, use the function'root_mean_squared_error'.\n",
      "  warnings.warn(\n",
      "19:32:24 - cmdstanpy - INFO - Chain [1] start processing\n",
      "19:32:24 - cmdstanpy - INFO - Chain [1] done processing\n",
      "c:\\Users\\natra\\AppData\\Local\\Programs\\Python\\Python310\\lib\\site-packages\\sklearn\\metrics\\_regression.py:492: FutureWarning: 'squared' is deprecated in version 1.4 and will be removed in 1.6. To calculate the root mean squared error, use the function'root_mean_squared_error'.\n",
      "  warnings.warn(\n",
      "19:32:25 - cmdstanpy - INFO - Chain [1] start processing\n",
      "19:32:25 - cmdstanpy - INFO - Chain [1] done processing\n",
      "c:\\Users\\natra\\AppData\\Local\\Programs\\Python\\Python310\\lib\\site-packages\\sklearn\\metrics\\_regression.py:492: FutureWarning: 'squared' is deprecated in version 1.4 and will be removed in 1.6. To calculate the root mean squared error, use the function'root_mean_squared_error'.\n",
      "  warnings.warn(\n",
      "19:32:26 - cmdstanpy - INFO - Chain [1] start processing\n",
      "19:32:26 - cmdstanpy - INFO - Chain [1] done processing\n",
      "c:\\Users\\natra\\AppData\\Local\\Programs\\Python\\Python310\\lib\\site-packages\\sklearn\\metrics\\_regression.py:492: FutureWarning: 'squared' is deprecated in version 1.4 and will be removed in 1.6. To calculate the root mean squared error, use the function'root_mean_squared_error'.\n",
      "  warnings.warn(\n",
      "19:32:26 - cmdstanpy - INFO - Chain [1] start processing\n",
      "19:32:27 - cmdstanpy - INFO - Chain [1] done processing\n",
      "c:\\Users\\natra\\AppData\\Local\\Programs\\Python\\Python310\\lib\\site-packages\\sklearn\\metrics\\_regression.py:492: FutureWarning: 'squared' is deprecated in version 1.4 and will be removed in 1.6. To calculate the root mean squared error, use the function'root_mean_squared_error'.\n",
      "  warnings.warn(\n"
     ]
    },
    {
     "name": "stdout",
     "output_type": "stream",
     "text": [
      "R² Score: 0.768, RMSE: 3.763, MAE: 3.063\n",
      "\n",
      "Evaluating: changepoint_prior_scale=0.01, seasonality_prior_scale=9.1, seasonality_mode=additive\n"
     ]
    },
    {
     "name": "stderr",
     "output_type": "stream",
     "text": [
      "19:32:27 - cmdstanpy - INFO - Chain [1] start processing\n",
      "19:32:27 - cmdstanpy - INFO - Chain [1] done processing\n",
      "c:\\Users\\natra\\AppData\\Local\\Programs\\Python\\Python310\\lib\\site-packages\\sklearn\\metrics\\_regression.py:492: FutureWarning: 'squared' is deprecated in version 1.4 and will be removed in 1.6. To calculate the root mean squared error, use the function'root_mean_squared_error'.\n",
      "  warnings.warn(\n",
      "19:32:28 - cmdstanpy - INFO - Chain [1] start processing\n",
      "19:32:28 - cmdstanpy - INFO - Chain [1] done processing\n",
      "c:\\Users\\natra\\AppData\\Local\\Programs\\Python\\Python310\\lib\\site-packages\\sklearn\\metrics\\_regression.py:492: FutureWarning: 'squared' is deprecated in version 1.4 and will be removed in 1.6. To calculate the root mean squared error, use the function'root_mean_squared_error'.\n",
      "  warnings.warn(\n",
      "19:32:29 - cmdstanpy - INFO - Chain [1] start processing\n",
      "19:32:29 - cmdstanpy - INFO - Chain [1] done processing\n",
      "c:\\Users\\natra\\AppData\\Local\\Programs\\Python\\Python310\\lib\\site-packages\\sklearn\\metrics\\_regression.py:492: FutureWarning: 'squared' is deprecated in version 1.4 and will be removed in 1.6. To calculate the root mean squared error, use the function'root_mean_squared_error'.\n",
      "  warnings.warn(\n",
      "19:32:29 - cmdstanpy - INFO - Chain [1] start processing\n",
      "19:32:30 - cmdstanpy - INFO - Chain [1] done processing\n",
      "c:\\Users\\natra\\AppData\\Local\\Programs\\Python\\Python310\\lib\\site-packages\\sklearn\\metrics\\_regression.py:492: FutureWarning: 'squared' is deprecated in version 1.4 and will be removed in 1.6. To calculate the root mean squared error, use the function'root_mean_squared_error'.\n",
      "  warnings.warn(\n",
      "19:32:30 - cmdstanpy - INFO - Chain [1] start processing\n",
      "19:32:30 - cmdstanpy - INFO - Chain [1] done processing\n",
      "c:\\Users\\natra\\AppData\\Local\\Programs\\Python\\Python310\\lib\\site-packages\\sklearn\\metrics\\_regression.py:492: FutureWarning: 'squared' is deprecated in version 1.4 and will be removed in 1.6. To calculate the root mean squared error, use the function'root_mean_squared_error'.\n",
      "  warnings.warn(\n"
     ]
    },
    {
     "name": "stdout",
     "output_type": "stream",
     "text": [
      "R² Score: 0.768, RMSE: 3.761, MAE: 3.061\n",
      "\n",
      "Evaluating: changepoint_prior_scale=0.01, seasonality_prior_scale=9.1, seasonality_mode=multiplicative\n"
     ]
    },
    {
     "name": "stderr",
     "output_type": "stream",
     "text": [
      "19:32:31 - cmdstanpy - INFO - Chain [1] start processing\n",
      "19:32:31 - cmdstanpy - INFO - Chain [1] done processing\n",
      "c:\\Users\\natra\\AppData\\Local\\Programs\\Python\\Python310\\lib\\site-packages\\sklearn\\metrics\\_regression.py:492: FutureWarning: 'squared' is deprecated in version 1.4 and will be removed in 1.6. To calculate the root mean squared error, use the function'root_mean_squared_error'.\n",
      "  warnings.warn(\n",
      "19:32:32 - cmdstanpy - INFO - Chain [1] start processing\n",
      "19:32:32 - cmdstanpy - INFO - Chain [1] done processing\n",
      "c:\\Users\\natra\\AppData\\Local\\Programs\\Python\\Python310\\lib\\site-packages\\sklearn\\metrics\\_regression.py:492: FutureWarning: 'squared' is deprecated in version 1.4 and will be removed in 1.6. To calculate the root mean squared error, use the function'root_mean_squared_error'.\n",
      "  warnings.warn(\n",
      "19:32:32 - cmdstanpy - INFO - Chain [1] start processing\n",
      "19:32:33 - cmdstanpy - INFO - Chain [1] done processing\n",
      "c:\\Users\\natra\\AppData\\Local\\Programs\\Python\\Python310\\lib\\site-packages\\sklearn\\metrics\\_regression.py:492: FutureWarning: 'squared' is deprecated in version 1.4 and will be removed in 1.6. To calculate the root mean squared error, use the function'root_mean_squared_error'.\n",
      "  warnings.warn(\n",
      "19:32:33 - cmdstanpy - INFO - Chain [1] start processing\n",
      "19:32:33 - cmdstanpy - INFO - Chain [1] done processing\n",
      "c:\\Users\\natra\\AppData\\Local\\Programs\\Python\\Python310\\lib\\site-packages\\sklearn\\metrics\\_regression.py:492: FutureWarning: 'squared' is deprecated in version 1.4 and will be removed in 1.6. To calculate the root mean squared error, use the function'root_mean_squared_error'.\n",
      "  warnings.warn(\n",
      "19:32:34 - cmdstanpy - INFO - Chain [1] start processing\n",
      "19:32:34 - cmdstanpy - INFO - Chain [1] done processing\n",
      "c:\\Users\\natra\\AppData\\Local\\Programs\\Python\\Python310\\lib\\site-packages\\sklearn\\metrics\\_regression.py:492: FutureWarning: 'squared' is deprecated in version 1.4 and will be removed in 1.6. To calculate the root mean squared error, use the function'root_mean_squared_error'.\n",
      "  warnings.warn(\n"
     ]
    },
    {
     "name": "stdout",
     "output_type": "stream",
     "text": [
      "R² Score: 0.767, RMSE: 3.767, MAE: 3.063\n",
      "\n",
      "Evaluating: changepoint_prior_scale=0.01, seasonality_prior_scale=10.1, seasonality_mode=additive\n"
     ]
    },
    {
     "name": "stderr",
     "output_type": "stream",
     "text": [
      "19:32:35 - cmdstanpy - INFO - Chain [1] start processing\n",
      "19:32:35 - cmdstanpy - INFO - Chain [1] done processing\n",
      "c:\\Users\\natra\\AppData\\Local\\Programs\\Python\\Python310\\lib\\site-packages\\sklearn\\metrics\\_regression.py:492: FutureWarning: 'squared' is deprecated in version 1.4 and will be removed in 1.6. To calculate the root mean squared error, use the function'root_mean_squared_error'.\n",
      "  warnings.warn(\n",
      "19:32:35 - cmdstanpy - INFO - Chain [1] start processing\n",
      "19:32:36 - cmdstanpy - INFO - Chain [1] done processing\n",
      "c:\\Users\\natra\\AppData\\Local\\Programs\\Python\\Python310\\lib\\site-packages\\sklearn\\metrics\\_regression.py:492: FutureWarning: 'squared' is deprecated in version 1.4 and will be removed in 1.6. To calculate the root mean squared error, use the function'root_mean_squared_error'.\n",
      "  warnings.warn(\n",
      "19:32:36 - cmdstanpy - INFO - Chain [1] start processing\n",
      "19:32:36 - cmdstanpy - INFO - Chain [1] done processing\n",
      "c:\\Users\\natra\\AppData\\Local\\Programs\\Python\\Python310\\lib\\site-packages\\sklearn\\metrics\\_regression.py:492: FutureWarning: 'squared' is deprecated in version 1.4 and will be removed in 1.6. To calculate the root mean squared error, use the function'root_mean_squared_error'.\n",
      "  warnings.warn(\n",
      "19:32:37 - cmdstanpy - INFO - Chain [1] start processing\n",
      "19:32:37 - cmdstanpy - INFO - Chain [1] done processing\n",
      "c:\\Users\\natra\\AppData\\Local\\Programs\\Python\\Python310\\lib\\site-packages\\sklearn\\metrics\\_regression.py:492: FutureWarning: 'squared' is deprecated in version 1.4 and will be removed in 1.6. To calculate the root mean squared error, use the function'root_mean_squared_error'.\n",
      "  warnings.warn(\n",
      "19:32:38 - cmdstanpy - INFO - Chain [1] start processing\n",
      "19:32:38 - cmdstanpy - INFO - Chain [1] done processing\n",
      "c:\\Users\\natra\\AppData\\Local\\Programs\\Python\\Python310\\lib\\site-packages\\sklearn\\metrics\\_regression.py:492: FutureWarning: 'squared' is deprecated in version 1.4 and will be removed in 1.6. To calculate the root mean squared error, use the function'root_mean_squared_error'.\n",
      "  warnings.warn(\n"
     ]
    },
    {
     "name": "stdout",
     "output_type": "stream",
     "text": [
      "R² Score: 0.768, RMSE: 3.762, MAE: 3.062\n",
      "\n",
      "Evaluating: changepoint_prior_scale=0.01, seasonality_prior_scale=10.1, seasonality_mode=multiplicative\n"
     ]
    },
    {
     "name": "stderr",
     "output_type": "stream",
     "text": [
      "19:32:38 - cmdstanpy - INFO - Chain [1] start processing\n",
      "19:32:39 - cmdstanpy - INFO - Chain [1] done processing\n",
      "c:\\Users\\natra\\AppData\\Local\\Programs\\Python\\Python310\\lib\\site-packages\\sklearn\\metrics\\_regression.py:492: FutureWarning: 'squared' is deprecated in version 1.4 and will be removed in 1.6. To calculate the root mean squared error, use the function'root_mean_squared_error'.\n",
      "  warnings.warn(\n",
      "19:32:39 - cmdstanpy - INFO - Chain [1] start processing\n",
      "19:32:39 - cmdstanpy - INFO - Chain [1] done processing\n",
      "c:\\Users\\natra\\AppData\\Local\\Programs\\Python\\Python310\\lib\\site-packages\\sklearn\\metrics\\_regression.py:492: FutureWarning: 'squared' is deprecated in version 1.4 and will be removed in 1.6. To calculate the root mean squared error, use the function'root_mean_squared_error'.\n",
      "  warnings.warn(\n",
      "19:32:40 - cmdstanpy - INFO - Chain [1] start processing\n",
      "19:32:40 - cmdstanpy - INFO - Chain [1] done processing\n",
      "c:\\Users\\natra\\AppData\\Local\\Programs\\Python\\Python310\\lib\\site-packages\\sklearn\\metrics\\_regression.py:492: FutureWarning: 'squared' is deprecated in version 1.4 and will be removed in 1.6. To calculate the root mean squared error, use the function'root_mean_squared_error'.\n",
      "  warnings.warn(\n",
      "19:32:41 - cmdstanpy - INFO - Chain [1] start processing\n",
      "19:32:41 - cmdstanpy - INFO - Chain [1] done processing\n",
      "c:\\Users\\natra\\AppData\\Local\\Programs\\Python\\Python310\\lib\\site-packages\\sklearn\\metrics\\_regression.py:492: FutureWarning: 'squared' is deprecated in version 1.4 and will be removed in 1.6. To calculate the root mean squared error, use the function'root_mean_squared_error'.\n",
      "  warnings.warn(\n",
      "19:32:42 - cmdstanpy - INFO - Chain [1] start processing\n",
      "19:32:42 - cmdstanpy - INFO - Chain [1] done processing\n",
      "c:\\Users\\natra\\AppData\\Local\\Programs\\Python\\Python310\\lib\\site-packages\\sklearn\\metrics\\_regression.py:492: FutureWarning: 'squared' is deprecated in version 1.4 and will be removed in 1.6. To calculate the root mean squared error, use the function'root_mean_squared_error'.\n",
      "  warnings.warn(\n"
     ]
    },
    {
     "name": "stdout",
     "output_type": "stream",
     "text": [
      "R² Score: 0.768, RMSE: 3.766, MAE: 3.062\n",
      "\n",
      "Evaluating: changepoint_prior_scale=0.02, seasonality_prior_scale=0.1, seasonality_mode=additive\n"
     ]
    },
    {
     "name": "stderr",
     "output_type": "stream",
     "text": [
      "19:32:42 - cmdstanpy - INFO - Chain [1] start processing\n",
      "19:32:43 - cmdstanpy - INFO - Chain [1] done processing\n",
      "c:\\Users\\natra\\AppData\\Local\\Programs\\Python\\Python310\\lib\\site-packages\\sklearn\\metrics\\_regression.py:492: FutureWarning: 'squared' is deprecated in version 1.4 and will be removed in 1.6. To calculate the root mean squared error, use the function'root_mean_squared_error'.\n",
      "  warnings.warn(\n",
      "19:32:43 - cmdstanpy - INFO - Chain [1] start processing\n",
      "19:32:43 - cmdstanpy - INFO - Chain [1] done processing\n",
      "c:\\Users\\natra\\AppData\\Local\\Programs\\Python\\Python310\\lib\\site-packages\\sklearn\\metrics\\_regression.py:492: FutureWarning: 'squared' is deprecated in version 1.4 and will be removed in 1.6. To calculate the root mean squared error, use the function'root_mean_squared_error'.\n",
      "  warnings.warn(\n",
      "19:32:44 - cmdstanpy - INFO - Chain [1] start processing\n",
      "19:32:44 - cmdstanpy - INFO - Chain [1] done processing\n",
      "c:\\Users\\natra\\AppData\\Local\\Programs\\Python\\Python310\\lib\\site-packages\\sklearn\\metrics\\_regression.py:492: FutureWarning: 'squared' is deprecated in version 1.4 and will be removed in 1.6. To calculate the root mean squared error, use the function'root_mean_squared_error'.\n",
      "  warnings.warn(\n",
      "19:32:45 - cmdstanpy - INFO - Chain [1] start processing\n",
      "19:32:45 - cmdstanpy - INFO - Chain [1] done processing\n",
      "c:\\Users\\natra\\AppData\\Local\\Programs\\Python\\Python310\\lib\\site-packages\\sklearn\\metrics\\_regression.py:492: FutureWarning: 'squared' is deprecated in version 1.4 and will be removed in 1.6. To calculate the root mean squared error, use the function'root_mean_squared_error'.\n",
      "  warnings.warn(\n",
      "19:32:46 - cmdstanpy - INFO - Chain [1] start processing\n",
      "19:32:46 - cmdstanpy - INFO - Chain [1] done processing\n",
      "c:\\Users\\natra\\AppData\\Local\\Programs\\Python\\Python310\\lib\\site-packages\\sklearn\\metrics\\_regression.py:492: FutureWarning: 'squared' is deprecated in version 1.4 and will be removed in 1.6. To calculate the root mean squared error, use the function'root_mean_squared_error'.\n",
      "  warnings.warn(\n"
     ]
    },
    {
     "name": "stdout",
     "output_type": "stream",
     "text": [
      "R² Score: 0.768, RMSE: 3.762, MAE: 3.059\n",
      "\n",
      "Evaluating: changepoint_prior_scale=0.02, seasonality_prior_scale=0.1, seasonality_mode=multiplicative\n"
     ]
    },
    {
     "name": "stderr",
     "output_type": "stream",
     "text": [
      "19:32:47 - cmdstanpy - INFO - Chain [1] start processing\n",
      "19:32:47 - cmdstanpy - INFO - Chain [1] done processing\n",
      "c:\\Users\\natra\\AppData\\Local\\Programs\\Python\\Python310\\lib\\site-packages\\sklearn\\metrics\\_regression.py:492: FutureWarning: 'squared' is deprecated in version 1.4 and will be removed in 1.6. To calculate the root mean squared error, use the function'root_mean_squared_error'.\n",
      "  warnings.warn(\n",
      "19:32:48 - cmdstanpy - INFO - Chain [1] start processing\n",
      "19:32:49 - cmdstanpy - INFO - Chain [1] done processing\n",
      "c:\\Users\\natra\\AppData\\Local\\Programs\\Python\\Python310\\lib\\site-packages\\sklearn\\metrics\\_regression.py:492: FutureWarning: 'squared' is deprecated in version 1.4 and will be removed in 1.6. To calculate the root mean squared error, use the function'root_mean_squared_error'.\n",
      "  warnings.warn(\n",
      "19:32:49 - cmdstanpy - INFO - Chain [1] start processing\n",
      "19:32:50 - cmdstanpy - INFO - Chain [1] done processing\n",
      "c:\\Users\\natra\\AppData\\Local\\Programs\\Python\\Python310\\lib\\site-packages\\sklearn\\metrics\\_regression.py:492: FutureWarning: 'squared' is deprecated in version 1.4 and will be removed in 1.6. To calculate the root mean squared error, use the function'root_mean_squared_error'.\n",
      "  warnings.warn(\n",
      "19:32:50 - cmdstanpy - INFO - Chain [1] start processing\n",
      "19:32:51 - cmdstanpy - INFO - Chain [1] done processing\n",
      "c:\\Users\\natra\\AppData\\Local\\Programs\\Python\\Python310\\lib\\site-packages\\sklearn\\metrics\\_regression.py:492: FutureWarning: 'squared' is deprecated in version 1.4 and will be removed in 1.6. To calculate the root mean squared error, use the function'root_mean_squared_error'.\n",
      "  warnings.warn(\n",
      "19:32:52 - cmdstanpy - INFO - Chain [1] start processing\n",
      "19:32:52 - cmdstanpy - INFO - Chain [1] done processing\n",
      "c:\\Users\\natra\\AppData\\Local\\Programs\\Python\\Python310\\lib\\site-packages\\sklearn\\metrics\\_regression.py:492: FutureWarning: 'squared' is deprecated in version 1.4 and will be removed in 1.6. To calculate the root mean squared error, use the function'root_mean_squared_error'.\n",
      "  warnings.warn(\n"
     ]
    },
    {
     "name": "stdout",
     "output_type": "stream",
     "text": [
      "R² Score: 0.765, RMSE: 3.786, MAE: 3.071\n",
      "\n",
      "Evaluating: changepoint_prior_scale=0.02, seasonality_prior_scale=1.1, seasonality_mode=additive\n"
     ]
    },
    {
     "name": "stderr",
     "output_type": "stream",
     "text": [
      "19:32:53 - cmdstanpy - INFO - Chain [1] start processing\n",
      "19:32:54 - cmdstanpy - INFO - Chain [1] done processing\n",
      "c:\\Users\\natra\\AppData\\Local\\Programs\\Python\\Python310\\lib\\site-packages\\sklearn\\metrics\\_regression.py:492: FutureWarning: 'squared' is deprecated in version 1.4 and will be removed in 1.6. To calculate the root mean squared error, use the function'root_mean_squared_error'.\n",
      "  warnings.warn(\n",
      "19:32:55 - cmdstanpy - INFO - Chain [1] start processing\n",
      "19:32:55 - cmdstanpy - INFO - Chain [1] done processing\n",
      "c:\\Users\\natra\\AppData\\Local\\Programs\\Python\\Python310\\lib\\site-packages\\sklearn\\metrics\\_regression.py:492: FutureWarning: 'squared' is deprecated in version 1.4 and will be removed in 1.6. To calculate the root mean squared error, use the function'root_mean_squared_error'.\n",
      "  warnings.warn(\n",
      "19:32:56 - cmdstanpy - INFO - Chain [1] start processing\n",
      "19:32:56 - cmdstanpy - INFO - Chain [1] done processing\n",
      "c:\\Users\\natra\\AppData\\Local\\Programs\\Python\\Python310\\lib\\site-packages\\sklearn\\metrics\\_regression.py:492: FutureWarning: 'squared' is deprecated in version 1.4 and will be removed in 1.6. To calculate the root mean squared error, use the function'root_mean_squared_error'.\n",
      "  warnings.warn(\n",
      "19:32:56 - cmdstanpy - INFO - Chain [1] start processing\n",
      "19:32:57 - cmdstanpy - INFO - Chain [1] done processing\n",
      "c:\\Users\\natra\\AppData\\Local\\Programs\\Python\\Python310\\lib\\site-packages\\sklearn\\metrics\\_regression.py:492: FutureWarning: 'squared' is deprecated in version 1.4 and will be removed in 1.6. To calculate the root mean squared error, use the function'root_mean_squared_error'.\n",
      "  warnings.warn(\n",
      "19:32:57 - cmdstanpy - INFO - Chain [1] start processing\n",
      "19:32:58 - cmdstanpy - INFO - Chain [1] done processing\n",
      "c:\\Users\\natra\\AppData\\Local\\Programs\\Python\\Python310\\lib\\site-packages\\sklearn\\metrics\\_regression.py:492: FutureWarning: 'squared' is deprecated in version 1.4 and will be removed in 1.6. To calculate the root mean squared error, use the function'root_mean_squared_error'.\n",
      "  warnings.warn(\n"
     ]
    },
    {
     "name": "stdout",
     "output_type": "stream",
     "text": [
      "R² Score: 0.768, RMSE: 3.760, MAE: 3.058\n",
      "\n",
      "Evaluating: changepoint_prior_scale=0.02, seasonality_prior_scale=1.1, seasonality_mode=multiplicative\n"
     ]
    },
    {
     "name": "stderr",
     "output_type": "stream",
     "text": [
      "19:32:58 - cmdstanpy - INFO - Chain [1] start processing\n",
      "19:32:59 - cmdstanpy - INFO - Chain [1] done processing\n",
      "c:\\Users\\natra\\AppData\\Local\\Programs\\Python\\Python310\\lib\\site-packages\\sklearn\\metrics\\_regression.py:492: FutureWarning: 'squared' is deprecated in version 1.4 and will be removed in 1.6. To calculate the root mean squared error, use the function'root_mean_squared_error'.\n",
      "  warnings.warn(\n",
      "19:33:00 - cmdstanpy - INFO - Chain [1] start processing\n",
      "19:33:00 - cmdstanpy - INFO - Chain [1] done processing\n",
      "c:\\Users\\natra\\AppData\\Local\\Programs\\Python\\Python310\\lib\\site-packages\\sklearn\\metrics\\_regression.py:492: FutureWarning: 'squared' is deprecated in version 1.4 and will be removed in 1.6. To calculate the root mean squared error, use the function'root_mean_squared_error'.\n",
      "  warnings.warn(\n",
      "19:33:01 - cmdstanpy - INFO - Chain [1] start processing\n",
      "19:33:01 - cmdstanpy - INFO - Chain [1] done processing\n",
      "c:\\Users\\natra\\AppData\\Local\\Programs\\Python\\Python310\\lib\\site-packages\\sklearn\\metrics\\_regression.py:492: FutureWarning: 'squared' is deprecated in version 1.4 and will be removed in 1.6. To calculate the root mean squared error, use the function'root_mean_squared_error'.\n",
      "  warnings.warn(\n",
      "19:33:02 - cmdstanpy - INFO - Chain [1] start processing\n",
      "19:33:02 - cmdstanpy - INFO - Chain [1] done processing\n",
      "c:\\Users\\natra\\AppData\\Local\\Programs\\Python\\Python310\\lib\\site-packages\\sklearn\\metrics\\_regression.py:492: FutureWarning: 'squared' is deprecated in version 1.4 and will be removed in 1.6. To calculate the root mean squared error, use the function'root_mean_squared_error'.\n",
      "  warnings.warn(\n",
      "19:33:03 - cmdstanpy - INFO - Chain [1] start processing\n",
      "19:33:04 - cmdstanpy - INFO - Chain [1] done processing\n",
      "c:\\Users\\natra\\AppData\\Local\\Programs\\Python\\Python310\\lib\\site-packages\\sklearn\\metrics\\_regression.py:492: FutureWarning: 'squared' is deprecated in version 1.4 and will be removed in 1.6. To calculate the root mean squared error, use the function'root_mean_squared_error'.\n",
      "  warnings.warn(\n"
     ]
    },
    {
     "name": "stdout",
     "output_type": "stream",
     "text": [
      "R² Score: 0.765, RMSE: 3.783, MAE: 3.070\n",
      "\n",
      "Evaluating: changepoint_prior_scale=0.02, seasonality_prior_scale=2.1, seasonality_mode=additive\n"
     ]
    },
    {
     "name": "stderr",
     "output_type": "stream",
     "text": [
      "19:33:05 - cmdstanpy - INFO - Chain [1] start processing\n",
      "19:33:05 - cmdstanpy - INFO - Chain [1] done processing\n",
      "c:\\Users\\natra\\AppData\\Local\\Programs\\Python\\Python310\\lib\\site-packages\\sklearn\\metrics\\_regression.py:492: FutureWarning: 'squared' is deprecated in version 1.4 and will be removed in 1.6. To calculate the root mean squared error, use the function'root_mean_squared_error'.\n",
      "  warnings.warn(\n",
      "19:33:07 - cmdstanpy - INFO - Chain [1] start processing\n",
      "19:33:07 - cmdstanpy - INFO - Chain [1] done processing\n",
      "c:\\Users\\natra\\AppData\\Local\\Programs\\Python\\Python310\\lib\\site-packages\\sklearn\\metrics\\_regression.py:492: FutureWarning: 'squared' is deprecated in version 1.4 and will be removed in 1.6. To calculate the root mean squared error, use the function'root_mean_squared_error'.\n",
      "  warnings.warn(\n",
      "19:33:08 - cmdstanpy - INFO - Chain [1] start processing\n",
      "19:33:09 - cmdstanpy - INFO - Chain [1] done processing\n",
      "c:\\Users\\natra\\AppData\\Local\\Programs\\Python\\Python310\\lib\\site-packages\\sklearn\\metrics\\_regression.py:492: FutureWarning: 'squared' is deprecated in version 1.4 and will be removed in 1.6. To calculate the root mean squared error, use the function'root_mean_squared_error'.\n",
      "  warnings.warn(\n",
      "19:33:10 - cmdstanpy - INFO - Chain [1] start processing\n",
      "19:33:11 - cmdstanpy - INFO - Chain [1] done processing\n",
      "c:\\Users\\natra\\AppData\\Local\\Programs\\Python\\Python310\\lib\\site-packages\\sklearn\\metrics\\_regression.py:492: FutureWarning: 'squared' is deprecated in version 1.4 and will be removed in 1.6. To calculate the root mean squared error, use the function'root_mean_squared_error'.\n",
      "  warnings.warn(\n",
      "19:33:13 - cmdstanpy - INFO - Chain [1] start processing\n",
      "19:33:14 - cmdstanpy - INFO - Chain [1] done processing\n",
      "c:\\Users\\natra\\AppData\\Local\\Programs\\Python\\Python310\\lib\\site-packages\\sklearn\\metrics\\_regression.py:492: FutureWarning: 'squared' is deprecated in version 1.4 and will be removed in 1.6. To calculate the root mean squared error, use the function'root_mean_squared_error'.\n",
      "  warnings.warn(\n"
     ]
    },
    {
     "name": "stdout",
     "output_type": "stream",
     "text": [
      "R² Score: 0.768, RMSE: 3.766, MAE: 3.063\n",
      "\n",
      "Evaluating: changepoint_prior_scale=0.02, seasonality_prior_scale=2.1, seasonality_mode=multiplicative\n"
     ]
    },
    {
     "name": "stderr",
     "output_type": "stream",
     "text": [
      "19:33:17 - cmdstanpy - INFO - Chain [1] start processing\n",
      "19:33:18 - cmdstanpy - INFO - Chain [1] done processing\n",
      "c:\\Users\\natra\\AppData\\Local\\Programs\\Python\\Python310\\lib\\site-packages\\sklearn\\metrics\\_regression.py:492: FutureWarning: 'squared' is deprecated in version 1.4 and will be removed in 1.6. To calculate the root mean squared error, use the function'root_mean_squared_error'.\n",
      "  warnings.warn(\n",
      "19:33:21 - cmdstanpy - INFO - Chain [1] start processing\n",
      "19:33:22 - cmdstanpy - INFO - Chain [1] done processing\n",
      "c:\\Users\\natra\\AppData\\Local\\Programs\\Python\\Python310\\lib\\site-packages\\sklearn\\metrics\\_regression.py:492: FutureWarning: 'squared' is deprecated in version 1.4 and will be removed in 1.6. To calculate the root mean squared error, use the function'root_mean_squared_error'.\n",
      "  warnings.warn(\n",
      "19:33:23 - cmdstanpy - INFO - Chain [1] start processing\n",
      "19:33:23 - cmdstanpy - INFO - Chain [1] done processing\n",
      "c:\\Users\\natra\\AppData\\Local\\Programs\\Python\\Python310\\lib\\site-packages\\sklearn\\metrics\\_regression.py:492: FutureWarning: 'squared' is deprecated in version 1.4 and will be removed in 1.6. To calculate the root mean squared error, use the function'root_mean_squared_error'.\n",
      "  warnings.warn(\n",
      "19:33:23 - cmdstanpy - INFO - Chain [1] start processing\n",
      "19:33:24 - cmdstanpy - INFO - Chain [1] done processing\n",
      "c:\\Users\\natra\\AppData\\Local\\Programs\\Python\\Python310\\lib\\site-packages\\sklearn\\metrics\\_regression.py:492: FutureWarning: 'squared' is deprecated in version 1.4 and will be removed in 1.6. To calculate the root mean squared error, use the function'root_mean_squared_error'.\n",
      "  warnings.warn(\n",
      "19:33:24 - cmdstanpy - INFO - Chain [1] start processing\n",
      "19:33:24 - cmdstanpy - INFO - Chain [1] done processing\n",
      "c:\\Users\\natra\\AppData\\Local\\Programs\\Python\\Python310\\lib\\site-packages\\sklearn\\metrics\\_regression.py:492: FutureWarning: 'squared' is deprecated in version 1.4 and will be removed in 1.6. To calculate the root mean squared error, use the function'root_mean_squared_error'.\n",
      "  warnings.warn(\n"
     ]
    },
    {
     "name": "stdout",
     "output_type": "stream",
     "text": [
      "R² Score: 0.765, RMSE: 3.783, MAE: 3.070\n",
      "\n",
      "Evaluating: changepoint_prior_scale=0.02, seasonality_prior_scale=3.1, seasonality_mode=additive\n"
     ]
    },
    {
     "name": "stderr",
     "output_type": "stream",
     "text": [
      "19:33:25 - cmdstanpy - INFO - Chain [1] start processing\n",
      "19:33:25 - cmdstanpy - INFO - Chain [1] done processing\n",
      "c:\\Users\\natra\\AppData\\Local\\Programs\\Python\\Python310\\lib\\site-packages\\sklearn\\metrics\\_regression.py:492: FutureWarning: 'squared' is deprecated in version 1.4 and will be removed in 1.6. To calculate the root mean squared error, use the function'root_mean_squared_error'.\n",
      "  warnings.warn(\n",
      "19:33:26 - cmdstanpy - INFO - Chain [1] start processing\n",
      "19:33:26 - cmdstanpy - INFO - Chain [1] done processing\n",
      "c:\\Users\\natra\\AppData\\Local\\Programs\\Python\\Python310\\lib\\site-packages\\sklearn\\metrics\\_regression.py:492: FutureWarning: 'squared' is deprecated in version 1.4 and will be removed in 1.6. To calculate the root mean squared error, use the function'root_mean_squared_error'.\n",
      "  warnings.warn(\n",
      "19:33:27 - cmdstanpy - INFO - Chain [1] start processing\n",
      "19:33:27 - cmdstanpy - INFO - Chain [1] done processing\n",
      "c:\\Users\\natra\\AppData\\Local\\Programs\\Python\\Python310\\lib\\site-packages\\sklearn\\metrics\\_regression.py:492: FutureWarning: 'squared' is deprecated in version 1.4 and will be removed in 1.6. To calculate the root mean squared error, use the function'root_mean_squared_error'.\n",
      "  warnings.warn(\n",
      "19:33:28 - cmdstanpy - INFO - Chain [1] start processing\n",
      "19:33:28 - cmdstanpy - INFO - Chain [1] done processing\n",
      "c:\\Users\\natra\\AppData\\Local\\Programs\\Python\\Python310\\lib\\site-packages\\sklearn\\metrics\\_regression.py:492: FutureWarning: 'squared' is deprecated in version 1.4 and will be removed in 1.6. To calculate the root mean squared error, use the function'root_mean_squared_error'.\n",
      "  warnings.warn(\n",
      "19:33:28 - cmdstanpy - INFO - Chain [1] start processing\n",
      "19:33:29 - cmdstanpy - INFO - Chain [1] done processing\n",
      "c:\\Users\\natra\\AppData\\Local\\Programs\\Python\\Python310\\lib\\site-packages\\sklearn\\metrics\\_regression.py:492: FutureWarning: 'squared' is deprecated in version 1.4 and will be removed in 1.6. To calculate the root mean squared error, use the function'root_mean_squared_error'.\n",
      "  warnings.warn(\n"
     ]
    },
    {
     "name": "stdout",
     "output_type": "stream",
     "text": [
      "R² Score: 0.768, RMSE: 3.766, MAE: 3.063\n",
      "\n",
      "Evaluating: changepoint_prior_scale=0.02, seasonality_prior_scale=3.1, seasonality_mode=multiplicative\n"
     ]
    },
    {
     "name": "stderr",
     "output_type": "stream",
     "text": [
      "19:33:29 - cmdstanpy - INFO - Chain [1] start processing\n",
      "19:33:29 - cmdstanpy - INFO - Chain [1] done processing\n",
      "c:\\Users\\natra\\AppData\\Local\\Programs\\Python\\Python310\\lib\\site-packages\\sklearn\\metrics\\_regression.py:492: FutureWarning: 'squared' is deprecated in version 1.4 and will be removed in 1.6. To calculate the root mean squared error, use the function'root_mean_squared_error'.\n",
      "  warnings.warn(\n",
      "19:33:30 - cmdstanpy - INFO - Chain [1] start processing\n",
      "19:33:30 - cmdstanpy - INFO - Chain [1] done processing\n",
      "c:\\Users\\natra\\AppData\\Local\\Programs\\Python\\Python310\\lib\\site-packages\\sklearn\\metrics\\_regression.py:492: FutureWarning: 'squared' is deprecated in version 1.4 and will be removed in 1.6. To calculate the root mean squared error, use the function'root_mean_squared_error'.\n",
      "  warnings.warn(\n",
      "19:33:31 - cmdstanpy - INFO - Chain [1] start processing\n",
      "19:33:31 - cmdstanpy - INFO - Chain [1] done processing\n",
      "c:\\Users\\natra\\AppData\\Local\\Programs\\Python\\Python310\\lib\\site-packages\\sklearn\\metrics\\_regression.py:492: FutureWarning: 'squared' is deprecated in version 1.4 and will be removed in 1.6. To calculate the root mean squared error, use the function'root_mean_squared_error'.\n",
      "  warnings.warn(\n",
      "19:33:32 - cmdstanpy - INFO - Chain [1] start processing\n",
      "19:33:32 - cmdstanpy - INFO - Chain [1] done processing\n",
      "c:\\Users\\natra\\AppData\\Local\\Programs\\Python\\Python310\\lib\\site-packages\\sklearn\\metrics\\_regression.py:492: FutureWarning: 'squared' is deprecated in version 1.4 and will be removed in 1.6. To calculate the root mean squared error, use the function'root_mean_squared_error'.\n",
      "  warnings.warn(\n",
      "19:33:33 - cmdstanpy - INFO - Chain [1] start processing\n",
      "19:33:33 - cmdstanpy - INFO - Chain [1] done processing\n",
      "c:\\Users\\natra\\AppData\\Local\\Programs\\Python\\Python310\\lib\\site-packages\\sklearn\\metrics\\_regression.py:492: FutureWarning: 'squared' is deprecated in version 1.4 and will be removed in 1.6. To calculate the root mean squared error, use the function'root_mean_squared_error'.\n",
      "  warnings.warn(\n"
     ]
    },
    {
     "name": "stdout",
     "output_type": "stream",
     "text": [
      "R² Score: 0.766, RMSE: 3.778, MAE: 3.068\n",
      "\n",
      "Evaluating: changepoint_prior_scale=0.02, seasonality_prior_scale=4.1, seasonality_mode=additive\n"
     ]
    },
    {
     "name": "stderr",
     "output_type": "stream",
     "text": [
      "19:33:34 - cmdstanpy - INFO - Chain [1] start processing\n",
      "19:33:34 - cmdstanpy - INFO - Chain [1] done processing\n",
      "c:\\Users\\natra\\AppData\\Local\\Programs\\Python\\Python310\\lib\\site-packages\\sklearn\\metrics\\_regression.py:492: FutureWarning: 'squared' is deprecated in version 1.4 and will be removed in 1.6. To calculate the root mean squared error, use the function'root_mean_squared_error'.\n",
      "  warnings.warn(\n",
      "19:33:34 - cmdstanpy - INFO - Chain [1] start processing\n",
      "19:33:34 - cmdstanpy - INFO - Chain [1] done processing\n",
      "c:\\Users\\natra\\AppData\\Local\\Programs\\Python\\Python310\\lib\\site-packages\\sklearn\\metrics\\_regression.py:492: FutureWarning: 'squared' is deprecated in version 1.4 and will be removed in 1.6. To calculate the root mean squared error, use the function'root_mean_squared_error'.\n",
      "  warnings.warn(\n",
      "19:33:35 - cmdstanpy - INFO - Chain [1] start processing\n",
      "19:33:35 - cmdstanpy - INFO - Chain [1] done processing\n",
      "c:\\Users\\natra\\AppData\\Local\\Programs\\Python\\Python310\\lib\\site-packages\\sklearn\\metrics\\_regression.py:492: FutureWarning: 'squared' is deprecated in version 1.4 and will be removed in 1.6. To calculate the root mean squared error, use the function'root_mean_squared_error'.\n",
      "  warnings.warn(\n",
      "19:33:36 - cmdstanpy - INFO - Chain [1] start processing\n",
      "19:33:36 - cmdstanpy - INFO - Chain [1] done processing\n",
      "c:\\Users\\natra\\AppData\\Local\\Programs\\Python\\Python310\\lib\\site-packages\\sklearn\\metrics\\_regression.py:492: FutureWarning: 'squared' is deprecated in version 1.4 and will be removed in 1.6. To calculate the root mean squared error, use the function'root_mean_squared_error'.\n",
      "  warnings.warn(\n",
      "19:33:37 - cmdstanpy - INFO - Chain [1] start processing\n",
      "19:33:37 - cmdstanpy - INFO - Chain [1] done processing\n",
      "c:\\Users\\natra\\AppData\\Local\\Programs\\Python\\Python310\\lib\\site-packages\\sklearn\\metrics\\_regression.py:492: FutureWarning: 'squared' is deprecated in version 1.4 and will be removed in 1.6. To calculate the root mean squared error, use the function'root_mean_squared_error'.\n",
      "  warnings.warn(\n"
     ]
    },
    {
     "name": "stdout",
     "output_type": "stream",
     "text": [
      "R² Score: 0.766, RMSE: 3.775, MAE: 3.069\n",
      "\n",
      "Evaluating: changepoint_prior_scale=0.02, seasonality_prior_scale=4.1, seasonality_mode=multiplicative\n"
     ]
    },
    {
     "name": "stderr",
     "output_type": "stream",
     "text": [
      "19:33:38 - cmdstanpy - INFO - Chain [1] start processing\n",
      "19:33:38 - cmdstanpy - INFO - Chain [1] done processing\n",
      "c:\\Users\\natra\\AppData\\Local\\Programs\\Python\\Python310\\lib\\site-packages\\sklearn\\metrics\\_regression.py:492: FutureWarning: 'squared' is deprecated in version 1.4 and will be removed in 1.6. To calculate the root mean squared error, use the function'root_mean_squared_error'.\n",
      "  warnings.warn(\n",
      "19:33:39 - cmdstanpy - INFO - Chain [1] start processing\n",
      "19:33:39 - cmdstanpy - INFO - Chain [1] done processing\n",
      "c:\\Users\\natra\\AppData\\Local\\Programs\\Python\\Python310\\lib\\site-packages\\sklearn\\metrics\\_regression.py:492: FutureWarning: 'squared' is deprecated in version 1.4 and will be removed in 1.6. To calculate the root mean squared error, use the function'root_mean_squared_error'.\n",
      "  warnings.warn(\n",
      "19:33:39 - cmdstanpy - INFO - Chain [1] start processing\n",
      "19:33:39 - cmdstanpy - INFO - Chain [1] done processing\n",
      "c:\\Users\\natra\\AppData\\Local\\Programs\\Python\\Python310\\lib\\site-packages\\sklearn\\metrics\\_regression.py:492: FutureWarning: 'squared' is deprecated in version 1.4 and will be removed in 1.6. To calculate the root mean squared error, use the function'root_mean_squared_error'.\n",
      "  warnings.warn(\n",
      "19:33:40 - cmdstanpy - INFO - Chain [1] start processing\n",
      "19:33:40 - cmdstanpy - INFO - Chain [1] done processing\n",
      "c:\\Users\\natra\\AppData\\Local\\Programs\\Python\\Python310\\lib\\site-packages\\sklearn\\metrics\\_regression.py:492: FutureWarning: 'squared' is deprecated in version 1.4 and will be removed in 1.6. To calculate the root mean squared error, use the function'root_mean_squared_error'.\n",
      "  warnings.warn(\n",
      "19:33:41 - cmdstanpy - INFO - Chain [1] start processing\n",
      "19:33:41 - cmdstanpy - INFO - Chain [1] done processing\n",
      "c:\\Users\\natra\\AppData\\Local\\Programs\\Python\\Python310\\lib\\site-packages\\sklearn\\metrics\\_regression.py:492: FutureWarning: 'squared' is deprecated in version 1.4 and will be removed in 1.6. To calculate the root mean squared error, use the function'root_mean_squared_error'.\n",
      "  warnings.warn(\n"
     ]
    },
    {
     "name": "stdout",
     "output_type": "stream",
     "text": [
      "R² Score: 0.762, RMSE: 3.808, MAE: 3.085\n",
      "\n",
      "Evaluating: changepoint_prior_scale=0.02, seasonality_prior_scale=5.1, seasonality_mode=additive\n"
     ]
    },
    {
     "name": "stderr",
     "output_type": "stream",
     "text": [
      "19:33:42 - cmdstanpy - INFO - Chain [1] start processing\n",
      "19:33:42 - cmdstanpy - INFO - Chain [1] done processing\n",
      "c:\\Users\\natra\\AppData\\Local\\Programs\\Python\\Python310\\lib\\site-packages\\sklearn\\metrics\\_regression.py:492: FutureWarning: 'squared' is deprecated in version 1.4 and will be removed in 1.6. To calculate the root mean squared error, use the function'root_mean_squared_error'.\n",
      "  warnings.warn(\n",
      "19:33:43 - cmdstanpy - INFO - Chain [1] start processing\n",
      "19:33:43 - cmdstanpy - INFO - Chain [1] done processing\n",
      "c:\\Users\\natra\\AppData\\Local\\Programs\\Python\\Python310\\lib\\site-packages\\sklearn\\metrics\\_regression.py:492: FutureWarning: 'squared' is deprecated in version 1.4 and will be removed in 1.6. To calculate the root mean squared error, use the function'root_mean_squared_error'.\n",
      "  warnings.warn(\n",
      "19:33:44 - cmdstanpy - INFO - Chain [1] start processing\n",
      "19:33:44 - cmdstanpy - INFO - Chain [1] done processing\n",
      "c:\\Users\\natra\\AppData\\Local\\Programs\\Python\\Python310\\lib\\site-packages\\sklearn\\metrics\\_regression.py:492: FutureWarning: 'squared' is deprecated in version 1.4 and will be removed in 1.6. To calculate the root mean squared error, use the function'root_mean_squared_error'.\n",
      "  warnings.warn(\n",
      "19:33:45 - cmdstanpy - INFO - Chain [1] start processing\n",
      "19:33:45 - cmdstanpy - INFO - Chain [1] done processing\n",
      "c:\\Users\\natra\\AppData\\Local\\Programs\\Python\\Python310\\lib\\site-packages\\sklearn\\metrics\\_regression.py:492: FutureWarning: 'squared' is deprecated in version 1.4 and will be removed in 1.6. To calculate the root mean squared error, use the function'root_mean_squared_error'.\n",
      "  warnings.warn(\n",
      "19:33:46 - cmdstanpy - INFO - Chain [1] start processing\n",
      "19:33:46 - cmdstanpy - INFO - Chain [1] done processing\n",
      "c:\\Users\\natra\\AppData\\Local\\Programs\\Python\\Python310\\lib\\site-packages\\sklearn\\metrics\\_regression.py:492: FutureWarning: 'squared' is deprecated in version 1.4 and will be removed in 1.6. To calculate the root mean squared error, use the function'root_mean_squared_error'.\n",
      "  warnings.warn(\n"
     ]
    },
    {
     "name": "stdout",
     "output_type": "stream",
     "text": [
      "R² Score: 0.768, RMSE: 3.765, MAE: 3.062\n",
      "\n",
      "Evaluating: changepoint_prior_scale=0.02, seasonality_prior_scale=5.1, seasonality_mode=multiplicative\n"
     ]
    },
    {
     "name": "stderr",
     "output_type": "stream",
     "text": [
      "19:33:47 - cmdstanpy - INFO - Chain [1] start processing\n",
      "19:33:47 - cmdstanpy - INFO - Chain [1] done processing\n",
      "c:\\Users\\natra\\AppData\\Local\\Programs\\Python\\Python310\\lib\\site-packages\\sklearn\\metrics\\_regression.py:492: FutureWarning: 'squared' is deprecated in version 1.4 and will be removed in 1.6. To calculate the root mean squared error, use the function'root_mean_squared_error'.\n",
      "  warnings.warn(\n",
      "19:33:48 - cmdstanpy - INFO - Chain [1] start processing\n",
      "19:33:48 - cmdstanpy - INFO - Chain [1] done processing\n",
      "c:\\Users\\natra\\AppData\\Local\\Programs\\Python\\Python310\\lib\\site-packages\\sklearn\\metrics\\_regression.py:492: FutureWarning: 'squared' is deprecated in version 1.4 and will be removed in 1.6. To calculate the root mean squared error, use the function'root_mean_squared_error'.\n",
      "  warnings.warn(\n",
      "19:33:48 - cmdstanpy - INFO - Chain [1] start processing\n",
      "19:33:49 - cmdstanpy - INFO - Chain [1] done processing\n",
      "c:\\Users\\natra\\AppData\\Local\\Programs\\Python\\Python310\\lib\\site-packages\\sklearn\\metrics\\_regression.py:492: FutureWarning: 'squared' is deprecated in version 1.4 and will be removed in 1.6. To calculate the root mean squared error, use the function'root_mean_squared_error'.\n",
      "  warnings.warn(\n",
      "19:33:49 - cmdstanpy - INFO - Chain [1] start processing\n",
      "19:33:49 - cmdstanpy - INFO - Chain [1] done processing\n",
      "c:\\Users\\natra\\AppData\\Local\\Programs\\Python\\Python310\\lib\\site-packages\\sklearn\\metrics\\_regression.py:492: FutureWarning: 'squared' is deprecated in version 1.4 and will be removed in 1.6. To calculate the root mean squared error, use the function'root_mean_squared_error'.\n",
      "  warnings.warn(\n",
      "19:33:50 - cmdstanpy - INFO - Chain [1] start processing\n",
      "19:33:50 - cmdstanpy - INFO - Chain [1] done processing\n",
      "c:\\Users\\natra\\AppData\\Local\\Programs\\Python\\Python310\\lib\\site-packages\\sklearn\\metrics\\_regression.py:492: FutureWarning: 'squared' is deprecated in version 1.4 and will be removed in 1.6. To calculate the root mean squared error, use the function'root_mean_squared_error'.\n",
      "  warnings.warn(\n"
     ]
    },
    {
     "name": "stdout",
     "output_type": "stream",
     "text": [
      "R² Score: 0.764, RMSE: 3.792, MAE: 3.074\n",
      "\n",
      "Evaluating: changepoint_prior_scale=0.02, seasonality_prior_scale=6.1, seasonality_mode=additive\n"
     ]
    },
    {
     "name": "stderr",
     "output_type": "stream",
     "text": [
      "19:33:51 - cmdstanpy - INFO - Chain [1] start processing\n",
      "19:33:51 - cmdstanpy - INFO - Chain [1] done processing\n",
      "c:\\Users\\natra\\AppData\\Local\\Programs\\Python\\Python310\\lib\\site-packages\\sklearn\\metrics\\_regression.py:492: FutureWarning: 'squared' is deprecated in version 1.4 and will be removed in 1.6. To calculate the root mean squared error, use the function'root_mean_squared_error'.\n",
      "  warnings.warn(\n",
      "19:33:52 - cmdstanpy - INFO - Chain [1] start processing\n",
      "19:33:52 - cmdstanpy - INFO - Chain [1] done processing\n",
      "c:\\Users\\natra\\AppData\\Local\\Programs\\Python\\Python310\\lib\\site-packages\\sklearn\\metrics\\_regression.py:492: FutureWarning: 'squared' is deprecated in version 1.4 and will be removed in 1.6. To calculate the root mean squared error, use the function'root_mean_squared_error'.\n",
      "  warnings.warn(\n",
      "19:33:53 - cmdstanpy - INFO - Chain [1] start processing\n",
      "19:33:53 - cmdstanpy - INFO - Chain [1] done processing\n",
      "c:\\Users\\natra\\AppData\\Local\\Programs\\Python\\Python310\\lib\\site-packages\\sklearn\\metrics\\_regression.py:492: FutureWarning: 'squared' is deprecated in version 1.4 and will be removed in 1.6. To calculate the root mean squared error, use the function'root_mean_squared_error'.\n",
      "  warnings.warn(\n",
      "19:33:53 - cmdstanpy - INFO - Chain [1] start processing\n",
      "19:33:54 - cmdstanpy - INFO - Chain [1] done processing\n",
      "c:\\Users\\natra\\AppData\\Local\\Programs\\Python\\Python310\\lib\\site-packages\\sklearn\\metrics\\_regression.py:492: FutureWarning: 'squared' is deprecated in version 1.4 and will be removed in 1.6. To calculate the root mean squared error, use the function'root_mean_squared_error'.\n",
      "  warnings.warn(\n",
      "19:33:54 - cmdstanpy - INFO - Chain [1] start processing\n",
      "19:33:54 - cmdstanpy - INFO - Chain [1] done processing\n",
      "c:\\Users\\natra\\AppData\\Local\\Programs\\Python\\Python310\\lib\\site-packages\\sklearn\\metrics\\_regression.py:492: FutureWarning: 'squared' is deprecated in version 1.4 and will be removed in 1.6. To calculate the root mean squared error, use the function'root_mean_squared_error'.\n",
      "  warnings.warn(\n"
     ]
    },
    {
     "name": "stdout",
     "output_type": "stream",
     "text": [
      "R² Score: 0.768, RMSE: 3.762, MAE: 3.060\n",
      "\n",
      "Evaluating: changepoint_prior_scale=0.02, seasonality_prior_scale=6.1, seasonality_mode=multiplicative\n"
     ]
    },
    {
     "name": "stderr",
     "output_type": "stream",
     "text": [
      "19:33:55 - cmdstanpy - INFO - Chain [1] start processing\n",
      "19:33:55 - cmdstanpy - INFO - Chain [1] done processing\n",
      "c:\\Users\\natra\\AppData\\Local\\Programs\\Python\\Python310\\lib\\site-packages\\sklearn\\metrics\\_regression.py:492: FutureWarning: 'squared' is deprecated in version 1.4 and will be removed in 1.6. To calculate the root mean squared error, use the function'root_mean_squared_error'.\n",
      "  warnings.warn(\n",
      "19:33:56 - cmdstanpy - INFO - Chain [1] start processing\n",
      "19:33:56 - cmdstanpy - INFO - Chain [1] done processing\n",
      "c:\\Users\\natra\\AppData\\Local\\Programs\\Python\\Python310\\lib\\site-packages\\sklearn\\metrics\\_regression.py:492: FutureWarning: 'squared' is deprecated in version 1.4 and will be removed in 1.6. To calculate the root mean squared error, use the function'root_mean_squared_error'.\n",
      "  warnings.warn(\n",
      "19:33:57 - cmdstanpy - INFO - Chain [1] start processing\n",
      "19:33:57 - cmdstanpy - INFO - Chain [1] done processing\n",
      "c:\\Users\\natra\\AppData\\Local\\Programs\\Python\\Python310\\lib\\site-packages\\sklearn\\metrics\\_regression.py:492: FutureWarning: 'squared' is deprecated in version 1.4 and will be removed in 1.6. To calculate the root mean squared error, use the function'root_mean_squared_error'.\n",
      "  warnings.warn(\n",
      "19:33:58 - cmdstanpy - INFO - Chain [1] start processing\n",
      "19:33:58 - cmdstanpy - INFO - Chain [1] done processing\n",
      "c:\\Users\\natra\\AppData\\Local\\Programs\\Python\\Python310\\lib\\site-packages\\sklearn\\metrics\\_regression.py:492: FutureWarning: 'squared' is deprecated in version 1.4 and will be removed in 1.6. To calculate the root mean squared error, use the function'root_mean_squared_error'.\n",
      "  warnings.warn(\n",
      "19:33:58 - cmdstanpy - INFO - Chain [1] start processing\n",
      "19:33:59 - cmdstanpy - INFO - Chain [1] done processing\n",
      "c:\\Users\\natra\\AppData\\Local\\Programs\\Python\\Python310\\lib\\site-packages\\sklearn\\metrics\\_regression.py:492: FutureWarning: 'squared' is deprecated in version 1.4 and will be removed in 1.6. To calculate the root mean squared error, use the function'root_mean_squared_error'.\n",
      "  warnings.warn(\n"
     ]
    },
    {
     "name": "stdout",
     "output_type": "stream",
     "text": [
      "R² Score: 0.764, RMSE: 3.792, MAE: 3.075\n",
      "\n",
      "Evaluating: changepoint_prior_scale=0.02, seasonality_prior_scale=7.1, seasonality_mode=additive\n"
     ]
    },
    {
     "name": "stderr",
     "output_type": "stream",
     "text": [
      "19:33:59 - cmdstanpy - INFO - Chain [1] start processing\n",
      "19:33:59 - cmdstanpy - INFO - Chain [1] done processing\n",
      "c:\\Users\\natra\\AppData\\Local\\Programs\\Python\\Python310\\lib\\site-packages\\sklearn\\metrics\\_regression.py:492: FutureWarning: 'squared' is deprecated in version 1.4 and will be removed in 1.6. To calculate the root mean squared error, use the function'root_mean_squared_error'.\n",
      "  warnings.warn(\n",
      "19:34:00 - cmdstanpy - INFO - Chain [1] start processing\n",
      "19:34:00 - cmdstanpy - INFO - Chain [1] done processing\n",
      "c:\\Users\\natra\\AppData\\Local\\Programs\\Python\\Python310\\lib\\site-packages\\sklearn\\metrics\\_regression.py:492: FutureWarning: 'squared' is deprecated in version 1.4 and will be removed in 1.6. To calculate the root mean squared error, use the function'root_mean_squared_error'.\n",
      "  warnings.warn(\n",
      "19:34:01 - cmdstanpy - INFO - Chain [1] start processing\n",
      "19:34:01 - cmdstanpy - INFO - Chain [1] done processing\n",
      "c:\\Users\\natra\\AppData\\Local\\Programs\\Python\\Python310\\lib\\site-packages\\sklearn\\metrics\\_regression.py:492: FutureWarning: 'squared' is deprecated in version 1.4 and will be removed in 1.6. To calculate the root mean squared error, use the function'root_mean_squared_error'.\n",
      "  warnings.warn(\n",
      "19:34:02 - cmdstanpy - INFO - Chain [1] start processing\n",
      "19:34:02 - cmdstanpy - INFO - Chain [1] done processing\n",
      "c:\\Users\\natra\\AppData\\Local\\Programs\\Python\\Python310\\lib\\site-packages\\sklearn\\metrics\\_regression.py:492: FutureWarning: 'squared' is deprecated in version 1.4 and will be removed in 1.6. To calculate the root mean squared error, use the function'root_mean_squared_error'.\n",
      "  warnings.warn(\n",
      "19:34:03 - cmdstanpy - INFO - Chain [1] start processing\n",
      "19:34:03 - cmdstanpy - INFO - Chain [1] done processing\n",
      "c:\\Users\\natra\\AppData\\Local\\Programs\\Python\\Python310\\lib\\site-packages\\sklearn\\metrics\\_regression.py:492: FutureWarning: 'squared' is deprecated in version 1.4 and will be removed in 1.6. To calculate the root mean squared error, use the function'root_mean_squared_error'.\n",
      "  warnings.warn(\n"
     ]
    },
    {
     "name": "stdout",
     "output_type": "stream",
     "text": [
      "R² Score: 0.768, RMSE: 3.760, MAE: 3.058\n",
      "\n",
      "Evaluating: changepoint_prior_scale=0.02, seasonality_prior_scale=7.1, seasonality_mode=multiplicative\n"
     ]
    },
    {
     "name": "stderr",
     "output_type": "stream",
     "text": [
      "19:34:03 - cmdstanpy - INFO - Chain [1] start processing\n",
      "19:34:03 - cmdstanpy - INFO - Chain [1] done processing\n",
      "c:\\Users\\natra\\AppData\\Local\\Programs\\Python\\Python310\\lib\\site-packages\\sklearn\\metrics\\_regression.py:492: FutureWarning: 'squared' is deprecated in version 1.4 and will be removed in 1.6. To calculate the root mean squared error, use the function'root_mean_squared_error'.\n",
      "  warnings.warn(\n",
      "19:34:04 - cmdstanpy - INFO - Chain [1] start processing\n",
      "19:34:04 - cmdstanpy - INFO - Chain [1] done processing\n",
      "c:\\Users\\natra\\AppData\\Local\\Programs\\Python\\Python310\\lib\\site-packages\\sklearn\\metrics\\_regression.py:492: FutureWarning: 'squared' is deprecated in version 1.4 and will be removed in 1.6. To calculate the root mean squared error, use the function'root_mean_squared_error'.\n",
      "  warnings.warn(\n",
      "19:34:05 - cmdstanpy - INFO - Chain [1] start processing\n",
      "19:34:05 - cmdstanpy - INFO - Chain [1] done processing\n",
      "c:\\Users\\natra\\AppData\\Local\\Programs\\Python\\Python310\\lib\\site-packages\\sklearn\\metrics\\_regression.py:492: FutureWarning: 'squared' is deprecated in version 1.4 and will be removed in 1.6. To calculate the root mean squared error, use the function'root_mean_squared_error'.\n",
      "  warnings.warn(\n",
      "19:34:06 - cmdstanpy - INFO - Chain [1] start processing\n",
      "19:34:06 - cmdstanpy - INFO - Chain [1] done processing\n",
      "c:\\Users\\natra\\AppData\\Local\\Programs\\Python\\Python310\\lib\\site-packages\\sklearn\\metrics\\_regression.py:492: FutureWarning: 'squared' is deprecated in version 1.4 and will be removed in 1.6. To calculate the root mean squared error, use the function'root_mean_squared_error'.\n",
      "  warnings.warn(\n",
      "19:34:07 - cmdstanpy - INFO - Chain [1] start processing\n",
      "19:34:07 - cmdstanpy - INFO - Chain [1] done processing\n",
      "c:\\Users\\natra\\AppData\\Local\\Programs\\Python\\Python310\\lib\\site-packages\\sklearn\\metrics\\_regression.py:492: FutureWarning: 'squared' is deprecated in version 1.4 and will be removed in 1.6. To calculate the root mean squared error, use the function'root_mean_squared_error'.\n",
      "  warnings.warn(\n"
     ]
    },
    {
     "name": "stdout",
     "output_type": "stream",
     "text": [
      "R² Score: 0.762, RMSE: 3.807, MAE: 3.084\n",
      "\n",
      "Evaluating: changepoint_prior_scale=0.02, seasonality_prior_scale=8.1, seasonality_mode=additive\n"
     ]
    },
    {
     "name": "stderr",
     "output_type": "stream",
     "text": [
      "19:34:08 - cmdstanpy - INFO - Chain [1] start processing\n",
      "19:34:08 - cmdstanpy - INFO - Chain [1] done processing\n",
      "c:\\Users\\natra\\AppData\\Local\\Programs\\Python\\Python310\\lib\\site-packages\\sklearn\\metrics\\_regression.py:492: FutureWarning: 'squared' is deprecated in version 1.4 and will be removed in 1.6. To calculate the root mean squared error, use the function'root_mean_squared_error'.\n",
      "  warnings.warn(\n",
      "19:34:09 - cmdstanpy - INFO - Chain [1] start processing\n",
      "19:34:09 - cmdstanpy - INFO - Chain [1] done processing\n",
      "c:\\Users\\natra\\AppData\\Local\\Programs\\Python\\Python310\\lib\\site-packages\\sklearn\\metrics\\_regression.py:492: FutureWarning: 'squared' is deprecated in version 1.4 and will be removed in 1.6. To calculate the root mean squared error, use the function'root_mean_squared_error'.\n",
      "  warnings.warn(\n",
      "19:34:09 - cmdstanpy - INFO - Chain [1] start processing\n",
      "19:34:10 - cmdstanpy - INFO - Chain [1] done processing\n",
      "c:\\Users\\natra\\AppData\\Local\\Programs\\Python\\Python310\\lib\\site-packages\\sklearn\\metrics\\_regression.py:492: FutureWarning: 'squared' is deprecated in version 1.4 and will be removed in 1.6. To calculate the root mean squared error, use the function'root_mean_squared_error'.\n",
      "  warnings.warn(\n",
      "19:34:10 - cmdstanpy - INFO - Chain [1] start processing\n",
      "19:34:10 - cmdstanpy - INFO - Chain [1] done processing\n",
      "c:\\Users\\natra\\AppData\\Local\\Programs\\Python\\Python310\\lib\\site-packages\\sklearn\\metrics\\_regression.py:492: FutureWarning: 'squared' is deprecated in version 1.4 and will be removed in 1.6. To calculate the root mean squared error, use the function'root_mean_squared_error'.\n",
      "  warnings.warn(\n",
      "19:34:11 - cmdstanpy - INFO - Chain [1] start processing\n",
      "19:34:11 - cmdstanpy - INFO - Chain [1] done processing\n",
      "c:\\Users\\natra\\AppData\\Local\\Programs\\Python\\Python310\\lib\\site-packages\\sklearn\\metrics\\_regression.py:492: FutureWarning: 'squared' is deprecated in version 1.4 and will be removed in 1.6. To calculate the root mean squared error, use the function'root_mean_squared_error'.\n",
      "  warnings.warn(\n"
     ]
    },
    {
     "name": "stdout",
     "output_type": "stream",
     "text": [
      "R² Score: 0.768, RMSE: 3.767, MAE: 3.063\n",
      "\n",
      "Evaluating: changepoint_prior_scale=0.02, seasonality_prior_scale=8.1, seasonality_mode=multiplicative\n"
     ]
    },
    {
     "name": "stderr",
     "output_type": "stream",
     "text": [
      "19:34:12 - cmdstanpy - INFO - Chain [1] start processing\n",
      "19:34:12 - cmdstanpy - INFO - Chain [1] done processing\n",
      "c:\\Users\\natra\\AppData\\Local\\Programs\\Python\\Python310\\lib\\site-packages\\sklearn\\metrics\\_regression.py:492: FutureWarning: 'squared' is deprecated in version 1.4 and will be removed in 1.6. To calculate the root mean squared error, use the function'root_mean_squared_error'.\n",
      "  warnings.warn(\n",
      "19:34:13 - cmdstanpy - INFO - Chain [1] start processing\n",
      "19:34:13 - cmdstanpy - INFO - Chain [1] done processing\n",
      "c:\\Users\\natra\\AppData\\Local\\Programs\\Python\\Python310\\lib\\site-packages\\sklearn\\metrics\\_regression.py:492: FutureWarning: 'squared' is deprecated in version 1.4 and will be removed in 1.6. To calculate the root mean squared error, use the function'root_mean_squared_error'.\n",
      "  warnings.warn(\n",
      "19:34:13 - cmdstanpy - INFO - Chain [1] start processing\n",
      "19:34:14 - cmdstanpy - INFO - Chain [1] done processing\n",
      "c:\\Users\\natra\\AppData\\Local\\Programs\\Python\\Python310\\lib\\site-packages\\sklearn\\metrics\\_regression.py:492: FutureWarning: 'squared' is deprecated in version 1.4 and will be removed in 1.6. To calculate the root mean squared error, use the function'root_mean_squared_error'.\n",
      "  warnings.warn(\n",
      "19:34:14 - cmdstanpy - INFO - Chain [1] start processing\n",
      "19:34:14 - cmdstanpy - INFO - Chain [1] done processing\n",
      "c:\\Users\\natra\\AppData\\Local\\Programs\\Python\\Python310\\lib\\site-packages\\sklearn\\metrics\\_regression.py:492: FutureWarning: 'squared' is deprecated in version 1.4 and will be removed in 1.6. To calculate the root mean squared error, use the function'root_mean_squared_error'.\n",
      "  warnings.warn(\n",
      "19:34:15 - cmdstanpy - INFO - Chain [1] start processing\n",
      "19:34:15 - cmdstanpy - INFO - Chain [1] done processing\n",
      "c:\\Users\\natra\\AppData\\Local\\Programs\\Python\\Python310\\lib\\site-packages\\sklearn\\metrics\\_regression.py:492: FutureWarning: 'squared' is deprecated in version 1.4 and will be removed in 1.6. To calculate the root mean squared error, use the function'root_mean_squared_error'.\n",
      "  warnings.warn(\n"
     ]
    },
    {
     "name": "stdout",
     "output_type": "stream",
     "text": [
      "R² Score: 0.763, RMSE: 3.797, MAE: 3.078\n",
      "\n",
      "Evaluating: changepoint_prior_scale=0.02, seasonality_prior_scale=9.1, seasonality_mode=additive\n"
     ]
    },
    {
     "name": "stderr",
     "output_type": "stream",
     "text": [
      "19:34:16 - cmdstanpy - INFO - Chain [1] start processing\n",
      "19:34:16 - cmdstanpy - INFO - Chain [1] done processing\n",
      "c:\\Users\\natra\\AppData\\Local\\Programs\\Python\\Python310\\lib\\site-packages\\sklearn\\metrics\\_regression.py:492: FutureWarning: 'squared' is deprecated in version 1.4 and will be removed in 1.6. To calculate the root mean squared error, use the function'root_mean_squared_error'.\n",
      "  warnings.warn(\n",
      "19:34:17 - cmdstanpy - INFO - Chain [1] start processing\n",
      "19:34:17 - cmdstanpy - INFO - Chain [1] done processing\n",
      "c:\\Users\\natra\\AppData\\Local\\Programs\\Python\\Python310\\lib\\site-packages\\sklearn\\metrics\\_regression.py:492: FutureWarning: 'squared' is deprecated in version 1.4 and will be removed in 1.6. To calculate the root mean squared error, use the function'root_mean_squared_error'.\n",
      "  warnings.warn(\n",
      "19:34:17 - cmdstanpy - INFO - Chain [1] start processing\n",
      "19:34:18 - cmdstanpy - INFO - Chain [1] done processing\n",
      "c:\\Users\\natra\\AppData\\Local\\Programs\\Python\\Python310\\lib\\site-packages\\sklearn\\metrics\\_regression.py:492: FutureWarning: 'squared' is deprecated in version 1.4 and will be removed in 1.6. To calculate the root mean squared error, use the function'root_mean_squared_error'.\n",
      "  warnings.warn(\n",
      "19:34:18 - cmdstanpy - INFO - Chain [1] start processing\n",
      "19:34:18 - cmdstanpy - INFO - Chain [1] done processing\n",
      "c:\\Users\\natra\\AppData\\Local\\Programs\\Python\\Python310\\lib\\site-packages\\sklearn\\metrics\\_regression.py:492: FutureWarning: 'squared' is deprecated in version 1.4 and will be removed in 1.6. To calculate the root mean squared error, use the function'root_mean_squared_error'.\n",
      "  warnings.warn(\n",
      "19:34:19 - cmdstanpy - INFO - Chain [1] start processing\n",
      "19:34:19 - cmdstanpy - INFO - Chain [1] done processing\n",
      "c:\\Users\\natra\\AppData\\Local\\Programs\\Python\\Python310\\lib\\site-packages\\sklearn\\metrics\\_regression.py:492: FutureWarning: 'squared' is deprecated in version 1.4 and will be removed in 1.6. To calculate the root mean squared error, use the function'root_mean_squared_error'.\n",
      "  warnings.warn(\n"
     ]
    },
    {
     "name": "stdout",
     "output_type": "stream",
     "text": [
      "R² Score: 0.768, RMSE: 3.765, MAE: 3.062\n",
      "\n",
      "Evaluating: changepoint_prior_scale=0.02, seasonality_prior_scale=9.1, seasonality_mode=multiplicative\n"
     ]
    },
    {
     "name": "stderr",
     "output_type": "stream",
     "text": [
      "19:34:20 - cmdstanpy - INFO - Chain [1] start processing\n",
      "19:34:20 - cmdstanpy - INFO - Chain [1] done processing\n",
      "c:\\Users\\natra\\AppData\\Local\\Programs\\Python\\Python310\\lib\\site-packages\\sklearn\\metrics\\_regression.py:492: FutureWarning: 'squared' is deprecated in version 1.4 and will be removed in 1.6. To calculate the root mean squared error, use the function'root_mean_squared_error'.\n",
      "  warnings.warn(\n",
      "19:34:21 - cmdstanpy - INFO - Chain [1] start processing\n",
      "19:34:21 - cmdstanpy - INFO - Chain [1] done processing\n",
      "c:\\Users\\natra\\AppData\\Local\\Programs\\Python\\Python310\\lib\\site-packages\\sklearn\\metrics\\_regression.py:492: FutureWarning: 'squared' is deprecated in version 1.4 and will be removed in 1.6. To calculate the root mean squared error, use the function'root_mean_squared_error'.\n",
      "  warnings.warn(\n",
      "19:34:21 - cmdstanpy - INFO - Chain [1] start processing\n",
      "19:34:22 - cmdstanpy - INFO - Chain [1] done processing\n",
      "c:\\Users\\natra\\AppData\\Local\\Programs\\Python\\Python310\\lib\\site-packages\\sklearn\\metrics\\_regression.py:492: FutureWarning: 'squared' is deprecated in version 1.4 and will be removed in 1.6. To calculate the root mean squared error, use the function'root_mean_squared_error'.\n",
      "  warnings.warn(\n",
      "19:34:22 - cmdstanpy - INFO - Chain [1] start processing\n",
      "19:34:23 - cmdstanpy - INFO - Chain [1] done processing\n",
      "c:\\Users\\natra\\AppData\\Local\\Programs\\Python\\Python310\\lib\\site-packages\\sklearn\\metrics\\_regression.py:492: FutureWarning: 'squared' is deprecated in version 1.4 and will be removed in 1.6. To calculate the root mean squared error, use the function'root_mean_squared_error'.\n",
      "  warnings.warn(\n",
      "19:34:23 - cmdstanpy - INFO - Chain [1] start processing\n",
      "19:34:23 - cmdstanpy - INFO - Chain [1] done processing\n",
      "c:\\Users\\natra\\AppData\\Local\\Programs\\Python\\Python310\\lib\\site-packages\\sklearn\\metrics\\_regression.py:492: FutureWarning: 'squared' is deprecated in version 1.4 and will be removed in 1.6. To calculate the root mean squared error, use the function'root_mean_squared_error'.\n",
      "  warnings.warn(\n"
     ]
    },
    {
     "name": "stdout",
     "output_type": "stream",
     "text": [
      "R² Score: 0.764, RMSE: 3.797, MAE: 3.077\n",
      "\n",
      "Evaluating: changepoint_prior_scale=0.02, seasonality_prior_scale=10.1, seasonality_mode=additive\n"
     ]
    },
    {
     "name": "stderr",
     "output_type": "stream",
     "text": [
      "19:34:24 - cmdstanpy - INFO - Chain [1] start processing\n",
      "19:34:24 - cmdstanpy - INFO - Chain [1] done processing\n",
      "c:\\Users\\natra\\AppData\\Local\\Programs\\Python\\Python310\\lib\\site-packages\\sklearn\\metrics\\_regression.py:492: FutureWarning: 'squared' is deprecated in version 1.4 and will be removed in 1.6. To calculate the root mean squared error, use the function'root_mean_squared_error'.\n",
      "  warnings.warn(\n",
      "19:34:25 - cmdstanpy - INFO - Chain [1] start processing\n",
      "19:34:25 - cmdstanpy - INFO - Chain [1] done processing\n",
      "c:\\Users\\natra\\AppData\\Local\\Programs\\Python\\Python310\\lib\\site-packages\\sklearn\\metrics\\_regression.py:492: FutureWarning: 'squared' is deprecated in version 1.4 and will be removed in 1.6. To calculate the root mean squared error, use the function'root_mean_squared_error'.\n",
      "  warnings.warn(\n",
      "19:34:26 - cmdstanpy - INFO - Chain [1] start processing\n",
      "19:34:26 - cmdstanpy - INFO - Chain [1] done processing\n",
      "c:\\Users\\natra\\AppData\\Local\\Programs\\Python\\Python310\\lib\\site-packages\\sklearn\\metrics\\_regression.py:492: FutureWarning: 'squared' is deprecated in version 1.4 and will be removed in 1.6. To calculate the root mean squared error, use the function'root_mean_squared_error'.\n",
      "  warnings.warn(\n",
      "19:34:27 - cmdstanpy - INFO - Chain [1] start processing\n",
      "19:34:27 - cmdstanpy - INFO - Chain [1] done processing\n",
      "c:\\Users\\natra\\AppData\\Local\\Programs\\Python\\Python310\\lib\\site-packages\\sklearn\\metrics\\_regression.py:492: FutureWarning: 'squared' is deprecated in version 1.4 and will be removed in 1.6. To calculate the root mean squared error, use the function'root_mean_squared_error'.\n",
      "  warnings.warn(\n",
      "19:34:28 - cmdstanpy - INFO - Chain [1] start processing\n",
      "19:34:28 - cmdstanpy - INFO - Chain [1] done processing\n",
      "c:\\Users\\natra\\AppData\\Local\\Programs\\Python\\Python310\\lib\\site-packages\\sklearn\\metrics\\_regression.py:492: FutureWarning: 'squared' is deprecated in version 1.4 and will be removed in 1.6. To calculate the root mean squared error, use the function'root_mean_squared_error'.\n",
      "  warnings.warn(\n"
     ]
    },
    {
     "name": "stdout",
     "output_type": "stream",
     "text": [
      "R² Score: 0.768, RMSE: 3.760, MAE: 3.058\n",
      "\n",
      "Evaluating: changepoint_prior_scale=0.02, seasonality_prior_scale=10.1, seasonality_mode=multiplicative\n"
     ]
    },
    {
     "name": "stderr",
     "output_type": "stream",
     "text": [
      "19:34:29 - cmdstanpy - INFO - Chain [1] start processing\n",
      "19:34:29 - cmdstanpy - INFO - Chain [1] done processing\n",
      "c:\\Users\\natra\\AppData\\Local\\Programs\\Python\\Python310\\lib\\site-packages\\sklearn\\metrics\\_regression.py:492: FutureWarning: 'squared' is deprecated in version 1.4 and will be removed in 1.6. To calculate the root mean squared error, use the function'root_mean_squared_error'.\n",
      "  warnings.warn(\n",
      "19:34:29 - cmdstanpy - INFO - Chain [1] start processing\n",
      "19:34:30 - cmdstanpy - INFO - Chain [1] done processing\n",
      "c:\\Users\\natra\\AppData\\Local\\Programs\\Python\\Python310\\lib\\site-packages\\sklearn\\metrics\\_regression.py:492: FutureWarning: 'squared' is deprecated in version 1.4 and will be removed in 1.6. To calculate the root mean squared error, use the function'root_mean_squared_error'.\n",
      "  warnings.warn(\n",
      "19:34:30 - cmdstanpy - INFO - Chain [1] start processing\n",
      "19:34:30 - cmdstanpy - INFO - Chain [1] done processing\n",
      "c:\\Users\\natra\\AppData\\Local\\Programs\\Python\\Python310\\lib\\site-packages\\sklearn\\metrics\\_regression.py:492: FutureWarning: 'squared' is deprecated in version 1.4 and will be removed in 1.6. To calculate the root mean squared error, use the function'root_mean_squared_error'.\n",
      "  warnings.warn(\n",
      "19:34:31 - cmdstanpy - INFO - Chain [1] start processing\n",
      "19:34:31 - cmdstanpy - INFO - Chain [1] done processing\n",
      "c:\\Users\\natra\\AppData\\Local\\Programs\\Python\\Python310\\lib\\site-packages\\sklearn\\metrics\\_regression.py:492: FutureWarning: 'squared' is deprecated in version 1.4 and will be removed in 1.6. To calculate the root mean squared error, use the function'root_mean_squared_error'.\n",
      "  warnings.warn(\n",
      "19:34:32 - cmdstanpy - INFO - Chain [1] start processing\n",
      "19:34:32 - cmdstanpy - INFO - Chain [1] done processing\n",
      "c:\\Users\\natra\\AppData\\Local\\Programs\\Python\\Python310\\lib\\site-packages\\sklearn\\metrics\\_regression.py:492: FutureWarning: 'squared' is deprecated in version 1.4 and will be removed in 1.6. To calculate the root mean squared error, use the function'root_mean_squared_error'.\n",
      "  warnings.warn(\n"
     ]
    },
    {
     "name": "stdout",
     "output_type": "stream",
     "text": [
      "R² Score: 0.765, RMSE: 3.786, MAE: 3.072\n",
      "\n",
      "Evaluating: changepoint_prior_scale=0.03, seasonality_prior_scale=0.1, seasonality_mode=additive\n"
     ]
    },
    {
     "name": "stderr",
     "output_type": "stream",
     "text": [
      "19:34:33 - cmdstanpy - INFO - Chain [1] start processing\n",
      "19:34:33 - cmdstanpy - INFO - Chain [1] done processing\n",
      "c:\\Users\\natra\\AppData\\Local\\Programs\\Python\\Python310\\lib\\site-packages\\sklearn\\metrics\\_regression.py:492: FutureWarning: 'squared' is deprecated in version 1.4 and will be removed in 1.6. To calculate the root mean squared error, use the function'root_mean_squared_error'.\n",
      "  warnings.warn(\n",
      "19:34:34 - cmdstanpy - INFO - Chain [1] start processing\n",
      "19:34:34 - cmdstanpy - INFO - Chain [1] done processing\n",
      "c:\\Users\\natra\\AppData\\Local\\Programs\\Python\\Python310\\lib\\site-packages\\sklearn\\metrics\\_regression.py:492: FutureWarning: 'squared' is deprecated in version 1.4 and will be removed in 1.6. To calculate the root mean squared error, use the function'root_mean_squared_error'.\n",
      "  warnings.warn(\n",
      "19:34:35 - cmdstanpy - INFO - Chain [1] start processing\n",
      "19:34:35 - cmdstanpy - INFO - Chain [1] done processing\n",
      "c:\\Users\\natra\\AppData\\Local\\Programs\\Python\\Python310\\lib\\site-packages\\sklearn\\metrics\\_regression.py:492: FutureWarning: 'squared' is deprecated in version 1.4 and will be removed in 1.6. To calculate the root mean squared error, use the function'root_mean_squared_error'.\n",
      "  warnings.warn(\n",
      "19:34:35 - cmdstanpy - INFO - Chain [1] start processing\n",
      "19:34:36 - cmdstanpy - INFO - Chain [1] done processing\n",
      "c:\\Users\\natra\\AppData\\Local\\Programs\\Python\\Python310\\lib\\site-packages\\sklearn\\metrics\\_regression.py:492: FutureWarning: 'squared' is deprecated in version 1.4 and will be removed in 1.6. To calculate the root mean squared error, use the function'root_mean_squared_error'.\n",
      "  warnings.warn(\n",
      "19:34:36 - cmdstanpy - INFO - Chain [1] start processing\n",
      "19:34:37 - cmdstanpy - INFO - Chain [1] done processing\n",
      "c:\\Users\\natra\\AppData\\Local\\Programs\\Python\\Python310\\lib\\site-packages\\sklearn\\metrics\\_regression.py:492: FutureWarning: 'squared' is deprecated in version 1.4 and will be removed in 1.6. To calculate the root mean squared error, use the function'root_mean_squared_error'.\n",
      "  warnings.warn(\n"
     ]
    },
    {
     "name": "stdout",
     "output_type": "stream",
     "text": [
      "R² Score: 0.768, RMSE: 3.766, MAE: 3.061\n",
      "\n",
      "Evaluating: changepoint_prior_scale=0.03, seasonality_prior_scale=0.1, seasonality_mode=multiplicative\n"
     ]
    },
    {
     "name": "stderr",
     "output_type": "stream",
     "text": [
      "19:34:37 - cmdstanpy - INFO - Chain [1] start processing\n",
      "19:34:37 - cmdstanpy - INFO - Chain [1] done processing\n",
      "c:\\Users\\natra\\AppData\\Local\\Programs\\Python\\Python310\\lib\\site-packages\\sklearn\\metrics\\_regression.py:492: FutureWarning: 'squared' is deprecated in version 1.4 and will be removed in 1.6. To calculate the root mean squared error, use the function'root_mean_squared_error'.\n",
      "  warnings.warn(\n",
      "19:34:38 - cmdstanpy - INFO - Chain [1] start processing\n",
      "19:34:38 - cmdstanpy - INFO - Chain [1] done processing\n",
      "c:\\Users\\natra\\AppData\\Local\\Programs\\Python\\Python310\\lib\\site-packages\\sklearn\\metrics\\_regression.py:492: FutureWarning: 'squared' is deprecated in version 1.4 and will be removed in 1.6. To calculate the root mean squared error, use the function'root_mean_squared_error'.\n",
      "  warnings.warn(\n",
      "19:34:39 - cmdstanpy - INFO - Chain [1] start processing\n",
      "19:34:39 - cmdstanpy - INFO - Chain [1] done processing\n",
      "c:\\Users\\natra\\AppData\\Local\\Programs\\Python\\Python310\\lib\\site-packages\\sklearn\\metrics\\_regression.py:492: FutureWarning: 'squared' is deprecated in version 1.4 and will be removed in 1.6. To calculate the root mean squared error, use the function'root_mean_squared_error'.\n",
      "  warnings.warn(\n",
      "19:34:40 - cmdstanpy - INFO - Chain [1] start processing\n",
      "19:34:40 - cmdstanpy - INFO - Chain [1] done processing\n",
      "c:\\Users\\natra\\AppData\\Local\\Programs\\Python\\Python310\\lib\\site-packages\\sklearn\\metrics\\_regression.py:492: FutureWarning: 'squared' is deprecated in version 1.4 and will be removed in 1.6. To calculate the root mean squared error, use the function'root_mean_squared_error'.\n",
      "  warnings.warn(\n",
      "19:34:40 - cmdstanpy - INFO - Chain [1] start processing\n",
      "19:34:40 - cmdstanpy - INFO - Chain [1] done processing\n",
      "c:\\Users\\natra\\AppData\\Local\\Programs\\Python\\Python310\\lib\\site-packages\\sklearn\\metrics\\_regression.py:492: FutureWarning: 'squared' is deprecated in version 1.4 and will be removed in 1.6. To calculate the root mean squared error, use the function'root_mean_squared_error'.\n",
      "  warnings.warn(\n"
     ]
    },
    {
     "name": "stdout",
     "output_type": "stream",
     "text": [
      "R² Score: 0.760, RMSE: 3.823, MAE: 3.095\n",
      "\n",
      "Evaluating: changepoint_prior_scale=0.03, seasonality_prior_scale=1.1, seasonality_mode=additive\n"
     ]
    },
    {
     "name": "stderr",
     "output_type": "stream",
     "text": [
      "19:34:41 - cmdstanpy - INFO - Chain [1] start processing\n",
      "19:34:41 - cmdstanpy - INFO - Chain [1] done processing\n",
      "c:\\Users\\natra\\AppData\\Local\\Programs\\Python\\Python310\\lib\\site-packages\\sklearn\\metrics\\_regression.py:492: FutureWarning: 'squared' is deprecated in version 1.4 and will be removed in 1.6. To calculate the root mean squared error, use the function'root_mean_squared_error'.\n",
      "  warnings.warn(\n",
      "19:34:42 - cmdstanpy - INFO - Chain [1] start processing\n",
      "19:34:42 - cmdstanpy - INFO - Chain [1] done processing\n",
      "c:\\Users\\natra\\AppData\\Local\\Programs\\Python\\Python310\\lib\\site-packages\\sklearn\\metrics\\_regression.py:492: FutureWarning: 'squared' is deprecated in version 1.4 and will be removed in 1.6. To calculate the root mean squared error, use the function'root_mean_squared_error'.\n",
      "  warnings.warn(\n",
      "19:34:43 - cmdstanpy - INFO - Chain [1] start processing\n",
      "19:34:43 - cmdstanpy - INFO - Chain [1] done processing\n",
      "c:\\Users\\natra\\AppData\\Local\\Programs\\Python\\Python310\\lib\\site-packages\\sklearn\\metrics\\_regression.py:492: FutureWarning: 'squared' is deprecated in version 1.4 and will be removed in 1.6. To calculate the root mean squared error, use the function'root_mean_squared_error'.\n",
      "  warnings.warn(\n",
      "19:34:44 - cmdstanpy - INFO - Chain [1] start processing\n",
      "19:34:44 - cmdstanpy - INFO - Chain [1] done processing\n",
      "c:\\Users\\natra\\AppData\\Local\\Programs\\Python\\Python310\\lib\\site-packages\\sklearn\\metrics\\_regression.py:492: FutureWarning: 'squared' is deprecated in version 1.4 and will be removed in 1.6. To calculate the root mean squared error, use the function'root_mean_squared_error'.\n",
      "  warnings.warn(\n",
      "19:34:44 - cmdstanpy - INFO - Chain [1] start processing\n",
      "19:34:44 - cmdstanpy - INFO - Chain [1] done processing\n",
      "c:\\Users\\natra\\AppData\\Local\\Programs\\Python\\Python310\\lib\\site-packages\\sklearn\\metrics\\_regression.py:492: FutureWarning: 'squared' is deprecated in version 1.4 and will be removed in 1.6. To calculate the root mean squared error, use the function'root_mean_squared_error'.\n",
      "  warnings.warn(\n"
     ]
    },
    {
     "name": "stdout",
     "output_type": "stream",
     "text": [
      "R² Score: 0.767, RMSE: 3.769, MAE: 3.062\n",
      "\n",
      "Evaluating: changepoint_prior_scale=0.03, seasonality_prior_scale=1.1, seasonality_mode=multiplicative\n"
     ]
    },
    {
     "name": "stderr",
     "output_type": "stream",
     "text": [
      "19:34:45 - cmdstanpy - INFO - Chain [1] start processing\n",
      "19:34:45 - cmdstanpy - INFO - Chain [1] done processing\n",
      "c:\\Users\\natra\\AppData\\Local\\Programs\\Python\\Python310\\lib\\site-packages\\sklearn\\metrics\\_regression.py:492: FutureWarning: 'squared' is deprecated in version 1.4 and will be removed in 1.6. To calculate the root mean squared error, use the function'root_mean_squared_error'.\n",
      "  warnings.warn(\n",
      "19:34:46 - cmdstanpy - INFO - Chain [1] start processing\n",
      "19:34:46 - cmdstanpy - INFO - Chain [1] done processing\n",
      "c:\\Users\\natra\\AppData\\Local\\Programs\\Python\\Python310\\lib\\site-packages\\sklearn\\metrics\\_regression.py:492: FutureWarning: 'squared' is deprecated in version 1.4 and will be removed in 1.6. To calculate the root mean squared error, use the function'root_mean_squared_error'.\n",
      "  warnings.warn(\n",
      "19:34:47 - cmdstanpy - INFO - Chain [1] start processing\n",
      "19:34:47 - cmdstanpy - INFO - Chain [1] done processing\n",
      "c:\\Users\\natra\\AppData\\Local\\Programs\\Python\\Python310\\lib\\site-packages\\sklearn\\metrics\\_regression.py:492: FutureWarning: 'squared' is deprecated in version 1.4 and will be removed in 1.6. To calculate the root mean squared error, use the function'root_mean_squared_error'.\n",
      "  warnings.warn(\n",
      "19:34:48 - cmdstanpy - INFO - Chain [1] start processing\n",
      "19:34:48 - cmdstanpy - INFO - Chain [1] done processing\n",
      "c:\\Users\\natra\\AppData\\Local\\Programs\\Python\\Python310\\lib\\site-packages\\sklearn\\metrics\\_regression.py:492: FutureWarning: 'squared' is deprecated in version 1.4 and will be removed in 1.6. To calculate the root mean squared error, use the function'root_mean_squared_error'.\n",
      "  warnings.warn(\n",
      "19:34:49 - cmdstanpy - INFO - Chain [1] start processing\n",
      "19:34:49 - cmdstanpy - INFO - Chain [1] done processing\n",
      "c:\\Users\\natra\\AppData\\Local\\Programs\\Python\\Python310\\lib\\site-packages\\sklearn\\metrics\\_regression.py:492: FutureWarning: 'squared' is deprecated in version 1.4 and will be removed in 1.6. To calculate the root mean squared error, use the function'root_mean_squared_error'.\n",
      "  warnings.warn(\n"
     ]
    },
    {
     "name": "stdout",
     "output_type": "stream",
     "text": [
      "R² Score: 0.762, RMSE: 3.810, MAE: 3.085\n",
      "\n",
      "Evaluating: changepoint_prior_scale=0.03, seasonality_prior_scale=2.1, seasonality_mode=additive\n"
     ]
    },
    {
     "name": "stderr",
     "output_type": "stream",
     "text": [
      "19:34:49 - cmdstanpy - INFO - Chain [1] start processing\n",
      "19:34:50 - cmdstanpy - INFO - Chain [1] done processing\n",
      "c:\\Users\\natra\\AppData\\Local\\Programs\\Python\\Python310\\lib\\site-packages\\sklearn\\metrics\\_regression.py:492: FutureWarning: 'squared' is deprecated in version 1.4 and will be removed in 1.6. To calculate the root mean squared error, use the function'root_mean_squared_error'.\n",
      "  warnings.warn(\n",
      "19:34:50 - cmdstanpy - INFO - Chain [1] start processing\n",
      "19:34:51 - cmdstanpy - INFO - Chain [1] done processing\n",
      "c:\\Users\\natra\\AppData\\Local\\Programs\\Python\\Python310\\lib\\site-packages\\sklearn\\metrics\\_regression.py:492: FutureWarning: 'squared' is deprecated in version 1.4 and will be removed in 1.6. To calculate the root mean squared error, use the function'root_mean_squared_error'.\n",
      "  warnings.warn(\n",
      "19:34:51 - cmdstanpy - INFO - Chain [1] start processing\n",
      "19:34:52 - cmdstanpy - INFO - Chain [1] done processing\n",
      "c:\\Users\\natra\\AppData\\Local\\Programs\\Python\\Python310\\lib\\site-packages\\sklearn\\metrics\\_regression.py:492: FutureWarning: 'squared' is deprecated in version 1.4 and will be removed in 1.6. To calculate the root mean squared error, use the function'root_mean_squared_error'.\n",
      "  warnings.warn(\n",
      "19:34:52 - cmdstanpy - INFO - Chain [1] start processing\n",
      "19:34:52 - cmdstanpy - INFO - Chain [1] done processing\n",
      "c:\\Users\\natra\\AppData\\Local\\Programs\\Python\\Python310\\lib\\site-packages\\sklearn\\metrics\\_regression.py:492: FutureWarning: 'squared' is deprecated in version 1.4 and will be removed in 1.6. To calculate the root mean squared error, use the function'root_mean_squared_error'.\n",
      "  warnings.warn(\n",
      "19:34:53 - cmdstanpy - INFO - Chain [1] start processing\n",
      "19:34:53 - cmdstanpy - INFO - Chain [1] done processing\n",
      "c:\\Users\\natra\\AppData\\Local\\Programs\\Python\\Python310\\lib\\site-packages\\sklearn\\metrics\\_regression.py:492: FutureWarning: 'squared' is deprecated in version 1.4 and will be removed in 1.6. To calculate the root mean squared error, use the function'root_mean_squared_error'.\n",
      "  warnings.warn(\n"
     ]
    },
    {
     "name": "stdout",
     "output_type": "stream",
     "text": [
      "R² Score: 0.766, RMSE: 3.779, MAE: 3.069\n",
      "\n",
      "Evaluating: changepoint_prior_scale=0.03, seasonality_prior_scale=2.1, seasonality_mode=multiplicative\n"
     ]
    },
    {
     "name": "stderr",
     "output_type": "stream",
     "text": [
      "19:34:54 - cmdstanpy - INFO - Chain [1] start processing\n",
      "19:34:54 - cmdstanpy - INFO - Chain [1] done processing\n",
      "c:\\Users\\natra\\AppData\\Local\\Programs\\Python\\Python310\\lib\\site-packages\\sklearn\\metrics\\_regression.py:492: FutureWarning: 'squared' is deprecated in version 1.4 and will be removed in 1.6. To calculate the root mean squared error, use the function'root_mean_squared_error'.\n",
      "  warnings.warn(\n",
      "19:34:55 - cmdstanpy - INFO - Chain [1] start processing\n",
      "19:34:55 - cmdstanpy - INFO - Chain [1] done processing\n",
      "c:\\Users\\natra\\AppData\\Local\\Programs\\Python\\Python310\\lib\\site-packages\\sklearn\\metrics\\_regression.py:492: FutureWarning: 'squared' is deprecated in version 1.4 and will be removed in 1.6. To calculate the root mean squared error, use the function'root_mean_squared_error'.\n",
      "  warnings.warn(\n",
      "19:34:56 - cmdstanpy - INFO - Chain [1] start processing\n",
      "19:34:56 - cmdstanpy - INFO - Chain [1] done processing\n",
      "c:\\Users\\natra\\AppData\\Local\\Programs\\Python\\Python310\\lib\\site-packages\\sklearn\\metrics\\_regression.py:492: FutureWarning: 'squared' is deprecated in version 1.4 and will be removed in 1.6. To calculate the root mean squared error, use the function'root_mean_squared_error'.\n",
      "  warnings.warn(\n",
      "19:34:56 - cmdstanpy - INFO - Chain [1] start processing\n",
      "19:34:57 - cmdstanpy - INFO - Chain [1] done processing\n",
      "c:\\Users\\natra\\AppData\\Local\\Programs\\Python\\Python310\\lib\\site-packages\\sklearn\\metrics\\_regression.py:492: FutureWarning: 'squared' is deprecated in version 1.4 and will be removed in 1.6. To calculate the root mean squared error, use the function'root_mean_squared_error'.\n",
      "  warnings.warn(\n",
      "19:34:57 - cmdstanpy - INFO - Chain [1] start processing\n",
      "19:34:57 - cmdstanpy - INFO - Chain [1] done processing\n",
      "c:\\Users\\natra\\AppData\\Local\\Programs\\Python\\Python310\\lib\\site-packages\\sklearn\\metrics\\_regression.py:492: FutureWarning: 'squared' is deprecated in version 1.4 and will be removed in 1.6. To calculate the root mean squared error, use the function'root_mean_squared_error'.\n",
      "  warnings.warn(\n"
     ]
    },
    {
     "name": "stdout",
     "output_type": "stream",
     "text": [
      "R² Score: 0.760, RMSE: 3.822, MAE: 3.093\n",
      "\n",
      "Evaluating: changepoint_prior_scale=0.03, seasonality_prior_scale=3.1, seasonality_mode=additive\n"
     ]
    },
    {
     "name": "stderr",
     "output_type": "stream",
     "text": [
      "19:34:58 - cmdstanpy - INFO - Chain [1] start processing\n",
      "19:34:58 - cmdstanpy - INFO - Chain [1] done processing\n",
      "c:\\Users\\natra\\AppData\\Local\\Programs\\Python\\Python310\\lib\\site-packages\\sklearn\\metrics\\_regression.py:492: FutureWarning: 'squared' is deprecated in version 1.4 and will be removed in 1.6. To calculate the root mean squared error, use the function'root_mean_squared_error'.\n",
      "  warnings.warn(\n",
      "19:34:59 - cmdstanpy - INFO - Chain [1] start processing\n",
      "19:34:59 - cmdstanpy - INFO - Chain [1] done processing\n",
      "c:\\Users\\natra\\AppData\\Local\\Programs\\Python\\Python310\\lib\\site-packages\\sklearn\\metrics\\_regression.py:492: FutureWarning: 'squared' is deprecated in version 1.4 and will be removed in 1.6. To calculate the root mean squared error, use the function'root_mean_squared_error'.\n",
      "  warnings.warn(\n",
      "19:35:00 - cmdstanpy - INFO - Chain [1] start processing\n",
      "19:35:00 - cmdstanpy - INFO - Chain [1] done processing\n",
      "c:\\Users\\natra\\AppData\\Local\\Programs\\Python\\Python310\\lib\\site-packages\\sklearn\\metrics\\_regression.py:492: FutureWarning: 'squared' is deprecated in version 1.4 and will be removed in 1.6. To calculate the root mean squared error, use the function'root_mean_squared_error'.\n",
      "  warnings.warn(\n",
      "19:35:01 - cmdstanpy - INFO - Chain [1] start processing\n",
      "19:35:01 - cmdstanpy - INFO - Chain [1] done processing\n",
      "c:\\Users\\natra\\AppData\\Local\\Programs\\Python\\Python310\\lib\\site-packages\\sklearn\\metrics\\_regression.py:492: FutureWarning: 'squared' is deprecated in version 1.4 and will be removed in 1.6. To calculate the root mean squared error, use the function'root_mean_squared_error'.\n",
      "  warnings.warn(\n",
      "19:35:02 - cmdstanpy - INFO - Chain [1] start processing\n",
      "19:35:02 - cmdstanpy - INFO - Chain [1] done processing\n",
      "c:\\Users\\natra\\AppData\\Local\\Programs\\Python\\Python310\\lib\\site-packages\\sklearn\\metrics\\_regression.py:492: FutureWarning: 'squared' is deprecated in version 1.4 and will be removed in 1.6. To calculate the root mean squared error, use the function'root_mean_squared_error'.\n",
      "  warnings.warn(\n"
     ]
    },
    {
     "name": "stdout",
     "output_type": "stream",
     "text": [
      "R² Score: 0.768, RMSE: 3.767, MAE: 3.061\n",
      "\n",
      "Evaluating: changepoint_prior_scale=0.03, seasonality_prior_scale=3.1, seasonality_mode=multiplicative\n"
     ]
    },
    {
     "name": "stderr",
     "output_type": "stream",
     "text": [
      "19:35:03 - cmdstanpy - INFO - Chain [1] start processing\n",
      "19:35:03 - cmdstanpy - INFO - Chain [1] done processing\n",
      "c:\\Users\\natra\\AppData\\Local\\Programs\\Python\\Python310\\lib\\site-packages\\sklearn\\metrics\\_regression.py:492: FutureWarning: 'squared' is deprecated in version 1.4 and will be removed in 1.6. To calculate the root mean squared error, use the function'root_mean_squared_error'.\n",
      "  warnings.warn(\n",
      "19:35:04 - cmdstanpy - INFO - Chain [1] start processing\n",
      "19:35:04 - cmdstanpy - INFO - Chain [1] done processing\n",
      "c:\\Users\\natra\\AppData\\Local\\Programs\\Python\\Python310\\lib\\site-packages\\sklearn\\metrics\\_regression.py:492: FutureWarning: 'squared' is deprecated in version 1.4 and will be removed in 1.6. To calculate the root mean squared error, use the function'root_mean_squared_error'.\n",
      "  warnings.warn(\n",
      "19:35:04 - cmdstanpy - INFO - Chain [1] start processing\n",
      "19:35:05 - cmdstanpy - INFO - Chain [1] done processing\n",
      "c:\\Users\\natra\\AppData\\Local\\Programs\\Python\\Python310\\lib\\site-packages\\sklearn\\metrics\\_regression.py:492: FutureWarning: 'squared' is deprecated in version 1.4 and will be removed in 1.6. To calculate the root mean squared error, use the function'root_mean_squared_error'.\n",
      "  warnings.warn(\n",
      "19:35:05 - cmdstanpy - INFO - Chain [1] start processing\n",
      "19:35:06 - cmdstanpy - INFO - Chain [1] done processing\n",
      "c:\\Users\\natra\\AppData\\Local\\Programs\\Python\\Python310\\lib\\site-packages\\sklearn\\metrics\\_regression.py:492: FutureWarning: 'squared' is deprecated in version 1.4 and will be removed in 1.6. To calculate the root mean squared error, use the function'root_mean_squared_error'.\n",
      "  warnings.warn(\n",
      "19:35:07 - cmdstanpy - INFO - Chain [1] start processing\n",
      "19:35:07 - cmdstanpy - INFO - Chain [1] done processing\n",
      "c:\\Users\\natra\\AppData\\Local\\Programs\\Python\\Python310\\lib\\site-packages\\sklearn\\metrics\\_regression.py:492: FutureWarning: 'squared' is deprecated in version 1.4 and will be removed in 1.6. To calculate the root mean squared error, use the function'root_mean_squared_error'.\n",
      "  warnings.warn(\n"
     ]
    },
    {
     "name": "stdout",
     "output_type": "stream",
     "text": [
      "R² Score: 0.761, RMSE: 3.814, MAE: 3.088\n",
      "\n",
      "Evaluating: changepoint_prior_scale=0.03, seasonality_prior_scale=4.1, seasonality_mode=additive\n"
     ]
    },
    {
     "name": "stderr",
     "output_type": "stream",
     "text": [
      "19:35:08 - cmdstanpy - INFO - Chain [1] start processing\n",
      "19:35:08 - cmdstanpy - INFO - Chain [1] done processing\n",
      "c:\\Users\\natra\\AppData\\Local\\Programs\\Python\\Python310\\lib\\site-packages\\sklearn\\metrics\\_regression.py:492: FutureWarning: 'squared' is deprecated in version 1.4 and will be removed in 1.6. To calculate the root mean squared error, use the function'root_mean_squared_error'.\n",
      "  warnings.warn(\n",
      "19:35:09 - cmdstanpy - INFO - Chain [1] start processing\n",
      "19:35:09 - cmdstanpy - INFO - Chain [1] done processing\n",
      "c:\\Users\\natra\\AppData\\Local\\Programs\\Python\\Python310\\lib\\site-packages\\sklearn\\metrics\\_regression.py:492: FutureWarning: 'squared' is deprecated in version 1.4 and will be removed in 1.6. To calculate the root mean squared error, use the function'root_mean_squared_error'.\n",
      "  warnings.warn(\n",
      "19:35:09 - cmdstanpy - INFO - Chain [1] start processing\n",
      "19:35:10 - cmdstanpy - INFO - Chain [1] done processing\n",
      "c:\\Users\\natra\\AppData\\Local\\Programs\\Python\\Python310\\lib\\site-packages\\sklearn\\metrics\\_regression.py:492: FutureWarning: 'squared' is deprecated in version 1.4 and will be removed in 1.6. To calculate the root mean squared error, use the function'root_mean_squared_error'.\n",
      "  warnings.warn(\n",
      "19:35:10 - cmdstanpy - INFO - Chain [1] start processing\n",
      "19:35:11 - cmdstanpy - INFO - Chain [1] done processing\n",
      "c:\\Users\\natra\\AppData\\Local\\Programs\\Python\\Python310\\lib\\site-packages\\sklearn\\metrics\\_regression.py:492: FutureWarning: 'squared' is deprecated in version 1.4 and will be removed in 1.6. To calculate the root mean squared error, use the function'root_mean_squared_error'.\n",
      "  warnings.warn(\n",
      "19:35:11 - cmdstanpy - INFO - Chain [1] start processing\n",
      "19:35:12 - cmdstanpy - INFO - Chain [1] done processing\n",
      "c:\\Users\\natra\\AppData\\Local\\Programs\\Python\\Python310\\lib\\site-packages\\sklearn\\metrics\\_regression.py:492: FutureWarning: 'squared' is deprecated in version 1.4 and will be removed in 1.6. To calculate the root mean squared error, use the function'root_mean_squared_error'.\n",
      "  warnings.warn(\n"
     ]
    },
    {
     "name": "stdout",
     "output_type": "stream",
     "text": [
      "R² Score: 0.767, RMSE: 3.768, MAE: 3.061\n",
      "\n",
      "Evaluating: changepoint_prior_scale=0.03, seasonality_prior_scale=4.1, seasonality_mode=multiplicative\n"
     ]
    },
    {
     "name": "stderr",
     "output_type": "stream",
     "text": [
      "19:35:13 - cmdstanpy - INFO - Chain [1] start processing\n",
      "19:35:13 - cmdstanpy - INFO - Chain [1] done processing\n",
      "c:\\Users\\natra\\AppData\\Local\\Programs\\Python\\Python310\\lib\\site-packages\\sklearn\\metrics\\_regression.py:492: FutureWarning: 'squared' is deprecated in version 1.4 and will be removed in 1.6. To calculate the root mean squared error, use the function'root_mean_squared_error'.\n",
      "  warnings.warn(\n",
      "19:35:14 - cmdstanpy - INFO - Chain [1] start processing\n",
      "19:35:14 - cmdstanpy - INFO - Chain [1] done processing\n",
      "c:\\Users\\natra\\AppData\\Local\\Programs\\Python\\Python310\\lib\\site-packages\\sklearn\\metrics\\_regression.py:492: FutureWarning: 'squared' is deprecated in version 1.4 and will be removed in 1.6. To calculate the root mean squared error, use the function'root_mean_squared_error'.\n",
      "  warnings.warn(\n",
      "19:35:14 - cmdstanpy - INFO - Chain [1] start processing\n",
      "19:35:15 - cmdstanpy - INFO - Chain [1] done processing\n",
      "c:\\Users\\natra\\AppData\\Local\\Programs\\Python\\Python310\\lib\\site-packages\\sklearn\\metrics\\_regression.py:492: FutureWarning: 'squared' is deprecated in version 1.4 and will be removed in 1.6. To calculate the root mean squared error, use the function'root_mean_squared_error'.\n",
      "  warnings.warn(\n",
      "19:35:15 - cmdstanpy - INFO - Chain [1] start processing\n",
      "19:35:16 - cmdstanpy - INFO - Chain [1] done processing\n",
      "c:\\Users\\natra\\AppData\\Local\\Programs\\Python\\Python310\\lib\\site-packages\\sklearn\\metrics\\_regression.py:492: FutureWarning: 'squared' is deprecated in version 1.4 and will be removed in 1.6. To calculate the root mean squared error, use the function'root_mean_squared_error'.\n",
      "  warnings.warn(\n",
      "19:35:16 - cmdstanpy - INFO - Chain [1] start processing\n",
      "19:35:16 - cmdstanpy - INFO - Chain [1] done processing\n",
      "c:\\Users\\natra\\AppData\\Local\\Programs\\Python\\Python310\\lib\\site-packages\\sklearn\\metrics\\_regression.py:492: FutureWarning: 'squared' is deprecated in version 1.4 and will be removed in 1.6. To calculate the root mean squared error, use the function'root_mean_squared_error'.\n",
      "  warnings.warn(\n"
     ]
    },
    {
     "name": "stdout",
     "output_type": "stream",
     "text": [
      "R² Score: 0.761, RMSE: 3.813, MAE: 3.087\n",
      "\n",
      "Evaluating: changepoint_prior_scale=0.03, seasonality_prior_scale=5.1, seasonality_mode=additive\n"
     ]
    },
    {
     "name": "stderr",
     "output_type": "stream",
     "text": [
      "19:35:17 - cmdstanpy - INFO - Chain [1] start processing\n",
      "19:35:18 - cmdstanpy - INFO - Chain [1] done processing\n",
      "c:\\Users\\natra\\AppData\\Local\\Programs\\Python\\Python310\\lib\\site-packages\\sklearn\\metrics\\_regression.py:492: FutureWarning: 'squared' is deprecated in version 1.4 and will be removed in 1.6. To calculate the root mean squared error, use the function'root_mean_squared_error'.\n",
      "  warnings.warn(\n",
      "19:35:18 - cmdstanpy - INFO - Chain [1] start processing\n",
      "19:35:19 - cmdstanpy - INFO - Chain [1] done processing\n",
      "c:\\Users\\natra\\AppData\\Local\\Programs\\Python\\Python310\\lib\\site-packages\\sklearn\\metrics\\_regression.py:492: FutureWarning: 'squared' is deprecated in version 1.4 and will be removed in 1.6. To calculate the root mean squared error, use the function'root_mean_squared_error'.\n",
      "  warnings.warn(\n",
      "19:35:20 - cmdstanpy - INFO - Chain [1] start processing\n",
      "19:35:20 - cmdstanpy - INFO - Chain [1] done processing\n",
      "c:\\Users\\natra\\AppData\\Local\\Programs\\Python\\Python310\\lib\\site-packages\\sklearn\\metrics\\_regression.py:492: FutureWarning: 'squared' is deprecated in version 1.4 and will be removed in 1.6. To calculate the root mean squared error, use the function'root_mean_squared_error'.\n",
      "  warnings.warn(\n",
      "19:35:21 - cmdstanpy - INFO - Chain [1] start processing\n",
      "19:35:21 - cmdstanpy - INFO - Chain [1] done processing\n",
      "c:\\Users\\natra\\AppData\\Local\\Programs\\Python\\Python310\\lib\\site-packages\\sklearn\\metrics\\_regression.py:492: FutureWarning: 'squared' is deprecated in version 1.4 and will be removed in 1.6. To calculate the root mean squared error, use the function'root_mean_squared_error'.\n",
      "  warnings.warn(\n",
      "19:35:21 - cmdstanpy - INFO - Chain [1] start processing\n",
      "19:35:22 - cmdstanpy - INFO - Chain [1] done processing\n",
      "c:\\Users\\natra\\AppData\\Local\\Programs\\Python\\Python310\\lib\\site-packages\\sklearn\\metrics\\_regression.py:492: FutureWarning: 'squared' is deprecated in version 1.4 and will be removed in 1.6. To calculate the root mean squared error, use the function'root_mean_squared_error'.\n",
      "  warnings.warn(\n"
     ]
    },
    {
     "name": "stdout",
     "output_type": "stream",
     "text": [
      "R² Score: 0.767, RMSE: 3.772, MAE: 3.064\n",
      "\n",
      "Evaluating: changepoint_prior_scale=0.03, seasonality_prior_scale=5.1, seasonality_mode=multiplicative\n"
     ]
    },
    {
     "name": "stderr",
     "output_type": "stream",
     "text": [
      "19:35:22 - cmdstanpy - INFO - Chain [1] start processing\n",
      "19:35:23 - cmdstanpy - INFO - Chain [1] done processing\n",
      "c:\\Users\\natra\\AppData\\Local\\Programs\\Python\\Python310\\lib\\site-packages\\sklearn\\metrics\\_regression.py:492: FutureWarning: 'squared' is deprecated in version 1.4 and will be removed in 1.6. To calculate the root mean squared error, use the function'root_mean_squared_error'.\n",
      "  warnings.warn(\n",
      "19:35:23 - cmdstanpy - INFO - Chain [1] start processing\n",
      "19:35:24 - cmdstanpy - INFO - Chain [1] done processing\n",
      "c:\\Users\\natra\\AppData\\Local\\Programs\\Python\\Python310\\lib\\site-packages\\sklearn\\metrics\\_regression.py:492: FutureWarning: 'squared' is deprecated in version 1.4 and will be removed in 1.6. To calculate the root mean squared error, use the function'root_mean_squared_error'.\n",
      "  warnings.warn(\n",
      "19:35:24 - cmdstanpy - INFO - Chain [1] start processing\n",
      "19:35:25 - cmdstanpy - INFO - Chain [1] done processing\n",
      "c:\\Users\\natra\\AppData\\Local\\Programs\\Python\\Python310\\lib\\site-packages\\sklearn\\metrics\\_regression.py:492: FutureWarning: 'squared' is deprecated in version 1.4 and will be removed in 1.6. To calculate the root mean squared error, use the function'root_mean_squared_error'.\n",
      "  warnings.warn(\n",
      "19:35:25 - cmdstanpy - INFO - Chain [1] start processing\n",
      "19:35:25 - cmdstanpy - INFO - Chain [1] done processing\n",
      "c:\\Users\\natra\\AppData\\Local\\Programs\\Python\\Python310\\lib\\site-packages\\sklearn\\metrics\\_regression.py:492: FutureWarning: 'squared' is deprecated in version 1.4 and will be removed in 1.6. To calculate the root mean squared error, use the function'root_mean_squared_error'.\n",
      "  warnings.warn(\n",
      "19:35:26 - cmdstanpy - INFO - Chain [1] start processing\n",
      "19:35:26 - cmdstanpy - INFO - Chain [1] done processing\n",
      "c:\\Users\\natra\\AppData\\Local\\Programs\\Python\\Python310\\lib\\site-packages\\sklearn\\metrics\\_regression.py:492: FutureWarning: 'squared' is deprecated in version 1.4 and will be removed in 1.6. To calculate the root mean squared error, use the function'root_mean_squared_error'.\n",
      "  warnings.warn(\n"
     ]
    },
    {
     "name": "stdout",
     "output_type": "stream",
     "text": [
      "R² Score: 0.760, RMSE: 3.824, MAE: 3.095\n",
      "\n",
      "Evaluating: changepoint_prior_scale=0.03, seasonality_prior_scale=6.1, seasonality_mode=additive\n"
     ]
    },
    {
     "name": "stderr",
     "output_type": "stream",
     "text": [
      "19:35:27 - cmdstanpy - INFO - Chain [1] start processing\n",
      "19:35:27 - cmdstanpy - INFO - Chain [1] done processing\n",
      "c:\\Users\\natra\\AppData\\Local\\Programs\\Python\\Python310\\lib\\site-packages\\sklearn\\metrics\\_regression.py:492: FutureWarning: 'squared' is deprecated in version 1.4 and will be removed in 1.6. To calculate the root mean squared error, use the function'root_mean_squared_error'.\n",
      "  warnings.warn(\n",
      "19:35:28 - cmdstanpy - INFO - Chain [1] start processing\n",
      "19:35:28 - cmdstanpy - INFO - Chain [1] done processing\n",
      "c:\\Users\\natra\\AppData\\Local\\Programs\\Python\\Python310\\lib\\site-packages\\sklearn\\metrics\\_regression.py:492: FutureWarning: 'squared' is deprecated in version 1.4 and will be removed in 1.6. To calculate the root mean squared error, use the function'root_mean_squared_error'.\n",
      "  warnings.warn(\n",
      "19:35:29 - cmdstanpy - INFO - Chain [1] start processing\n",
      "19:35:29 - cmdstanpy - INFO - Chain [1] done processing\n",
      "c:\\Users\\natra\\AppData\\Local\\Programs\\Python\\Python310\\lib\\site-packages\\sklearn\\metrics\\_regression.py:492: FutureWarning: 'squared' is deprecated in version 1.4 and will be removed in 1.6. To calculate the root mean squared error, use the function'root_mean_squared_error'.\n",
      "  warnings.warn(\n",
      "19:35:30 - cmdstanpy - INFO - Chain [1] start processing\n",
      "19:35:30 - cmdstanpy - INFO - Chain [1] done processing\n",
      "c:\\Users\\natra\\AppData\\Local\\Programs\\Python\\Python310\\lib\\site-packages\\sklearn\\metrics\\_regression.py:492: FutureWarning: 'squared' is deprecated in version 1.4 and will be removed in 1.6. To calculate the root mean squared error, use the function'root_mean_squared_error'.\n",
      "  warnings.warn(\n",
      "19:35:31 - cmdstanpy - INFO - Chain [1] start processing\n",
      "19:35:31 - cmdstanpy - INFO - Chain [1] done processing\n",
      "c:\\Users\\natra\\AppData\\Local\\Programs\\Python\\Python310\\lib\\site-packages\\sklearn\\metrics\\_regression.py:492: FutureWarning: 'squared' is deprecated in version 1.4 and will be removed in 1.6. To calculate the root mean squared error, use the function'root_mean_squared_error'.\n",
      "  warnings.warn(\n"
     ]
    },
    {
     "name": "stdout",
     "output_type": "stream",
     "text": [
      "R² Score: 0.767, RMSE: 3.771, MAE: 3.063\n",
      "\n",
      "Evaluating: changepoint_prior_scale=0.03, seasonality_prior_scale=6.1, seasonality_mode=multiplicative\n"
     ]
    },
    {
     "name": "stderr",
     "output_type": "stream",
     "text": [
      "19:35:32 - cmdstanpy - INFO - Chain [1] start processing\n",
      "19:35:32 - cmdstanpy - INFO - Chain [1] done processing\n",
      "c:\\Users\\natra\\AppData\\Local\\Programs\\Python\\Python310\\lib\\site-packages\\sklearn\\metrics\\_regression.py:492: FutureWarning: 'squared' is deprecated in version 1.4 and will be removed in 1.6. To calculate the root mean squared error, use the function'root_mean_squared_error'.\n",
      "  warnings.warn(\n",
      "19:35:33 - cmdstanpy - INFO - Chain [1] start processing\n",
      "19:35:33 - cmdstanpy - INFO - Chain [1] done processing\n",
      "c:\\Users\\natra\\AppData\\Local\\Programs\\Python\\Python310\\lib\\site-packages\\sklearn\\metrics\\_regression.py:492: FutureWarning: 'squared' is deprecated in version 1.4 and will be removed in 1.6. To calculate the root mean squared error, use the function'root_mean_squared_error'.\n",
      "  warnings.warn(\n",
      "19:35:34 - cmdstanpy - INFO - Chain [1] start processing\n",
      "19:35:34 - cmdstanpy - INFO - Chain [1] done processing\n",
      "c:\\Users\\natra\\AppData\\Local\\Programs\\Python\\Python310\\lib\\site-packages\\sklearn\\metrics\\_regression.py:492: FutureWarning: 'squared' is deprecated in version 1.4 and will be removed in 1.6. To calculate the root mean squared error, use the function'root_mean_squared_error'.\n",
      "  warnings.warn(\n",
      "19:35:35 - cmdstanpy - INFO - Chain [1] start processing\n",
      "19:35:35 - cmdstanpy - INFO - Chain [1] done processing\n",
      "c:\\Users\\natra\\AppData\\Local\\Programs\\Python\\Python310\\lib\\site-packages\\sklearn\\metrics\\_regression.py:492: FutureWarning: 'squared' is deprecated in version 1.4 and will be removed in 1.6. To calculate the root mean squared error, use the function'root_mean_squared_error'.\n",
      "  warnings.warn(\n",
      "19:35:36 - cmdstanpy - INFO - Chain [1] start processing\n",
      "19:35:36 - cmdstanpy - INFO - Chain [1] done processing\n",
      "c:\\Users\\natra\\AppData\\Local\\Programs\\Python\\Python310\\lib\\site-packages\\sklearn\\metrics\\_regression.py:492: FutureWarning: 'squared' is deprecated in version 1.4 and will be removed in 1.6. To calculate the root mean squared error, use the function'root_mean_squared_error'.\n",
      "  warnings.warn(\n"
     ]
    },
    {
     "name": "stdout",
     "output_type": "stream",
     "text": [
      "R² Score: 0.761, RMSE: 3.813, MAE: 3.087\n",
      "\n",
      "Evaluating: changepoint_prior_scale=0.03, seasonality_prior_scale=7.1, seasonality_mode=additive\n"
     ]
    },
    {
     "name": "stderr",
     "output_type": "stream",
     "text": [
      "19:35:36 - cmdstanpy - INFO - Chain [1] start processing\n",
      "19:35:37 - cmdstanpy - INFO - Chain [1] done processing\n",
      "c:\\Users\\natra\\AppData\\Local\\Programs\\Python\\Python310\\lib\\site-packages\\sklearn\\metrics\\_regression.py:492: FutureWarning: 'squared' is deprecated in version 1.4 and will be removed in 1.6. To calculate the root mean squared error, use the function'root_mean_squared_error'.\n",
      "  warnings.warn(\n",
      "19:35:37 - cmdstanpy - INFO - Chain [1] start processing\n",
      "19:35:37 - cmdstanpy - INFO - Chain [1] done processing\n",
      "c:\\Users\\natra\\AppData\\Local\\Programs\\Python\\Python310\\lib\\site-packages\\sklearn\\metrics\\_regression.py:492: FutureWarning: 'squared' is deprecated in version 1.4 and will be removed in 1.6. To calculate the root mean squared error, use the function'root_mean_squared_error'.\n",
      "  warnings.warn(\n",
      "19:35:38 - cmdstanpy - INFO - Chain [1] start processing\n",
      "19:35:38 - cmdstanpy - INFO - Chain [1] done processing\n",
      "c:\\Users\\natra\\AppData\\Local\\Programs\\Python\\Python310\\lib\\site-packages\\sklearn\\metrics\\_regression.py:492: FutureWarning: 'squared' is deprecated in version 1.4 and will be removed in 1.6. To calculate the root mean squared error, use the function'root_mean_squared_error'.\n",
      "  warnings.warn(\n",
      "19:35:39 - cmdstanpy - INFO - Chain [1] start processing\n",
      "19:35:39 - cmdstanpy - INFO - Chain [1] done processing\n",
      "c:\\Users\\natra\\AppData\\Local\\Programs\\Python\\Python310\\lib\\site-packages\\sklearn\\metrics\\_regression.py:492: FutureWarning: 'squared' is deprecated in version 1.4 and will be removed in 1.6. To calculate the root mean squared error, use the function'root_mean_squared_error'.\n",
      "  warnings.warn(\n",
      "19:35:40 - cmdstanpy - INFO - Chain [1] start processing\n",
      "19:35:40 - cmdstanpy - INFO - Chain [1] done processing\n",
      "c:\\Users\\natra\\AppData\\Local\\Programs\\Python\\Python310\\lib\\site-packages\\sklearn\\metrics\\_regression.py:492: FutureWarning: 'squared' is deprecated in version 1.4 and will be removed in 1.6. To calculate the root mean squared error, use the function'root_mean_squared_error'.\n",
      "  warnings.warn(\n"
     ]
    },
    {
     "name": "stdout",
     "output_type": "stream",
     "text": [
      "R² Score: 0.767, RMSE: 3.773, MAE: 3.064\n",
      "\n",
      "Evaluating: changepoint_prior_scale=0.03, seasonality_prior_scale=7.1, seasonality_mode=multiplicative\n"
     ]
    },
    {
     "name": "stderr",
     "output_type": "stream",
     "text": [
      "19:35:41 - cmdstanpy - INFO - Chain [1] start processing\n",
      "19:35:41 - cmdstanpy - INFO - Chain [1] done processing\n",
      "c:\\Users\\natra\\AppData\\Local\\Programs\\Python\\Python310\\lib\\site-packages\\sklearn\\metrics\\_regression.py:492: FutureWarning: 'squared' is deprecated in version 1.4 and will be removed in 1.6. To calculate the root mean squared error, use the function'root_mean_squared_error'.\n",
      "  warnings.warn(\n",
      "19:35:41 - cmdstanpy - INFO - Chain [1] start processing\n",
      "19:35:42 - cmdstanpy - INFO - Chain [1] done processing\n",
      "c:\\Users\\natra\\AppData\\Local\\Programs\\Python\\Python310\\lib\\site-packages\\sklearn\\metrics\\_regression.py:492: FutureWarning: 'squared' is deprecated in version 1.4 and will be removed in 1.6. To calculate the root mean squared error, use the function'root_mean_squared_error'.\n",
      "  warnings.warn(\n",
      "19:35:42 - cmdstanpy - INFO - Chain [1] start processing\n",
      "19:35:42 - cmdstanpy - INFO - Chain [1] done processing\n",
      "c:\\Users\\natra\\AppData\\Local\\Programs\\Python\\Python310\\lib\\site-packages\\sklearn\\metrics\\_regression.py:492: FutureWarning: 'squared' is deprecated in version 1.4 and will be removed in 1.6. To calculate the root mean squared error, use the function'root_mean_squared_error'.\n",
      "  warnings.warn(\n",
      "19:35:43 - cmdstanpy - INFO - Chain [1] start processing\n",
      "19:35:43 - cmdstanpy - INFO - Chain [1] done processing\n",
      "c:\\Users\\natra\\AppData\\Local\\Programs\\Python\\Python310\\lib\\site-packages\\sklearn\\metrics\\_regression.py:492: FutureWarning: 'squared' is deprecated in version 1.4 and will be removed in 1.6. To calculate the root mean squared error, use the function'root_mean_squared_error'.\n",
      "  warnings.warn(\n",
      "19:35:44 - cmdstanpy - INFO - Chain [1] start processing\n",
      "19:35:44 - cmdstanpy - INFO - Chain [1] done processing\n",
      "c:\\Users\\natra\\AppData\\Local\\Programs\\Python\\Python310\\lib\\site-packages\\sklearn\\metrics\\_regression.py:492: FutureWarning: 'squared' is deprecated in version 1.4 and will be removed in 1.6. To calculate the root mean squared error, use the function'root_mean_squared_error'.\n",
      "  warnings.warn(\n"
     ]
    },
    {
     "name": "stdout",
     "output_type": "stream",
     "text": [
      "R² Score: 0.760, RMSE: 3.824, MAE: 3.095\n",
      "\n",
      "Evaluating: changepoint_prior_scale=0.03, seasonality_prior_scale=8.1, seasonality_mode=additive\n"
     ]
    },
    {
     "name": "stderr",
     "output_type": "stream",
     "text": [
      "19:35:44 - cmdstanpy - INFO - Chain [1] start processing\n",
      "19:35:45 - cmdstanpy - INFO - Chain [1] done processing\n",
      "c:\\Users\\natra\\AppData\\Local\\Programs\\Python\\Python310\\lib\\site-packages\\sklearn\\metrics\\_regression.py:492: FutureWarning: 'squared' is deprecated in version 1.4 and will be removed in 1.6. To calculate the root mean squared error, use the function'root_mean_squared_error'.\n",
      "  warnings.warn(\n",
      "19:35:45 - cmdstanpy - INFO - Chain [1] start processing\n",
      "19:35:45 - cmdstanpy - INFO - Chain [1] done processing\n",
      "c:\\Users\\natra\\AppData\\Local\\Programs\\Python\\Python310\\lib\\site-packages\\sklearn\\metrics\\_regression.py:492: FutureWarning: 'squared' is deprecated in version 1.4 and will be removed in 1.6. To calculate the root mean squared error, use the function'root_mean_squared_error'.\n",
      "  warnings.warn(\n",
      "19:35:46 - cmdstanpy - INFO - Chain [1] start processing\n",
      "19:35:46 - cmdstanpy - INFO - Chain [1] done processing\n",
      "c:\\Users\\natra\\AppData\\Local\\Programs\\Python\\Python310\\lib\\site-packages\\sklearn\\metrics\\_regression.py:492: FutureWarning: 'squared' is deprecated in version 1.4 and will be removed in 1.6. To calculate the root mean squared error, use the function'root_mean_squared_error'.\n",
      "  warnings.warn(\n",
      "19:35:47 - cmdstanpy - INFO - Chain [1] start processing\n",
      "19:35:47 - cmdstanpy - INFO - Chain [1] done processing\n",
      "c:\\Users\\natra\\AppData\\Local\\Programs\\Python\\Python310\\lib\\site-packages\\sklearn\\metrics\\_regression.py:492: FutureWarning: 'squared' is deprecated in version 1.4 and will be removed in 1.6. To calculate the root mean squared error, use the function'root_mean_squared_error'.\n",
      "  warnings.warn(\n",
      "19:35:48 - cmdstanpy - INFO - Chain [1] start processing\n",
      "19:35:48 - cmdstanpy - INFO - Chain [1] done processing\n",
      "c:\\Users\\natra\\AppData\\Local\\Programs\\Python\\Python310\\lib\\site-packages\\sklearn\\metrics\\_regression.py:492: FutureWarning: 'squared' is deprecated in version 1.4 and will be removed in 1.6. To calculate the root mean squared error, use the function'root_mean_squared_error'.\n",
      "  warnings.warn(\n"
     ]
    },
    {
     "name": "stdout",
     "output_type": "stream",
     "text": [
      "R² Score: 0.767, RMSE: 3.772, MAE: 3.063\n",
      "\n",
      "Evaluating: changepoint_prior_scale=0.03, seasonality_prior_scale=8.1, seasonality_mode=multiplicative\n"
     ]
    },
    {
     "name": "stderr",
     "output_type": "stream",
     "text": [
      "19:35:49 - cmdstanpy - INFO - Chain [1] start processing\n",
      "19:35:49 - cmdstanpy - INFO - Chain [1] done processing\n",
      "c:\\Users\\natra\\AppData\\Local\\Programs\\Python\\Python310\\lib\\site-packages\\sklearn\\metrics\\_regression.py:492: FutureWarning: 'squared' is deprecated in version 1.4 and will be removed in 1.6. To calculate the root mean squared error, use the function'root_mean_squared_error'.\n",
      "  warnings.warn(\n",
      "19:35:50 - cmdstanpy - INFO - Chain [1] start processing\n",
      "19:35:50 - cmdstanpy - INFO - Chain [1] done processing\n",
      "c:\\Users\\natra\\AppData\\Local\\Programs\\Python\\Python310\\lib\\site-packages\\sklearn\\metrics\\_regression.py:492: FutureWarning: 'squared' is deprecated in version 1.4 and will be removed in 1.6. To calculate the root mean squared error, use the function'root_mean_squared_error'.\n",
      "  warnings.warn(\n",
      "19:35:50 - cmdstanpy - INFO - Chain [1] start processing\n",
      "19:35:51 - cmdstanpy - INFO - Chain [1] done processing\n",
      "c:\\Users\\natra\\AppData\\Local\\Programs\\Python\\Python310\\lib\\site-packages\\sklearn\\metrics\\_regression.py:492: FutureWarning: 'squared' is deprecated in version 1.4 and will be removed in 1.6. To calculate the root mean squared error, use the function'root_mean_squared_error'.\n",
      "  warnings.warn(\n",
      "19:35:51 - cmdstanpy - INFO - Chain [1] start processing\n",
      "19:35:51 - cmdstanpy - INFO - Chain [1] done processing\n",
      "c:\\Users\\natra\\AppData\\Local\\Programs\\Python\\Python310\\lib\\site-packages\\sklearn\\metrics\\_regression.py:492: FutureWarning: 'squared' is deprecated in version 1.4 and will be removed in 1.6. To calculate the root mean squared error, use the function'root_mean_squared_error'.\n",
      "  warnings.warn(\n",
      "19:35:52 - cmdstanpy - INFO - Chain [1] start processing\n",
      "19:35:52 - cmdstanpy - INFO - Chain [1] done processing\n",
      "c:\\Users\\natra\\AppData\\Local\\Programs\\Python\\Python310\\lib\\site-packages\\sklearn\\metrics\\_regression.py:492: FutureWarning: 'squared' is deprecated in version 1.4 and will be removed in 1.6. To calculate the root mean squared error, use the function'root_mean_squared_error'.\n",
      "  warnings.warn(\n"
     ]
    },
    {
     "name": "stdout",
     "output_type": "stream",
     "text": [
      "R² Score: 0.761, RMSE: 3.815, MAE: 3.089\n",
      "\n",
      "Evaluating: changepoint_prior_scale=0.03, seasonality_prior_scale=9.1, seasonality_mode=additive\n"
     ]
    },
    {
     "name": "stderr",
     "output_type": "stream",
     "text": [
      "19:35:53 - cmdstanpy - INFO - Chain [1] start processing\n",
      "19:35:54 - cmdstanpy - INFO - Chain [1] done processing\n",
      "c:\\Users\\natra\\AppData\\Local\\Programs\\Python\\Python310\\lib\\site-packages\\sklearn\\metrics\\_regression.py:492: FutureWarning: 'squared' is deprecated in version 1.4 and will be removed in 1.6. To calculate the root mean squared error, use the function'root_mean_squared_error'.\n",
      "  warnings.warn(\n",
      "19:35:54 - cmdstanpy - INFO - Chain [1] start processing\n",
      "19:35:55 - cmdstanpy - INFO - Chain [1] done processing\n",
      "c:\\Users\\natra\\AppData\\Local\\Programs\\Python\\Python310\\lib\\site-packages\\sklearn\\metrics\\_regression.py:492: FutureWarning: 'squared' is deprecated in version 1.4 and will be removed in 1.6. To calculate the root mean squared error, use the function'root_mean_squared_error'.\n",
      "  warnings.warn(\n",
      "19:35:56 - cmdstanpy - INFO - Chain [1] start processing\n",
      "19:35:56 - cmdstanpy - INFO - Chain [1] done processing\n",
      "c:\\Users\\natra\\AppData\\Local\\Programs\\Python\\Python310\\lib\\site-packages\\sklearn\\metrics\\_regression.py:492: FutureWarning: 'squared' is deprecated in version 1.4 and will be removed in 1.6. To calculate the root mean squared error, use the function'root_mean_squared_error'.\n",
      "  warnings.warn(\n",
      "19:35:57 - cmdstanpy - INFO - Chain [1] start processing\n",
      "19:35:57 - cmdstanpy - INFO - Chain [1] done processing\n",
      "c:\\Users\\natra\\AppData\\Local\\Programs\\Python\\Python310\\lib\\site-packages\\sklearn\\metrics\\_regression.py:492: FutureWarning: 'squared' is deprecated in version 1.4 and will be removed in 1.6. To calculate the root mean squared error, use the function'root_mean_squared_error'.\n",
      "  warnings.warn(\n",
      "19:35:58 - cmdstanpy - INFO - Chain [1] start processing\n",
      "19:35:58 - cmdstanpy - INFO - Chain [1] done processing\n",
      "c:\\Users\\natra\\AppData\\Local\\Programs\\Python\\Python310\\lib\\site-packages\\sklearn\\metrics\\_regression.py:492: FutureWarning: 'squared' is deprecated in version 1.4 and will be removed in 1.6. To calculate the root mean squared error, use the function'root_mean_squared_error'.\n",
      "  warnings.warn(\n"
     ]
    },
    {
     "name": "stdout",
     "output_type": "stream",
     "text": [
      "R² Score: 0.768, RMSE: 3.766, MAE: 3.061\n",
      "\n",
      "Evaluating: changepoint_prior_scale=0.03, seasonality_prior_scale=9.1, seasonality_mode=multiplicative\n"
     ]
    },
    {
     "name": "stderr",
     "output_type": "stream",
     "text": [
      "19:35:59 - cmdstanpy - INFO - Chain [1] start processing\n",
      "19:35:59 - cmdstanpy - INFO - Chain [1] done processing\n",
      "c:\\Users\\natra\\AppData\\Local\\Programs\\Python\\Python310\\lib\\site-packages\\sklearn\\metrics\\_regression.py:492: FutureWarning: 'squared' is deprecated in version 1.4 and will be removed in 1.6. To calculate the root mean squared error, use the function'root_mean_squared_error'.\n",
      "  warnings.warn(\n",
      "19:36:00 - cmdstanpy - INFO - Chain [1] start processing\n",
      "19:36:00 - cmdstanpy - INFO - Chain [1] done processing\n",
      "c:\\Users\\natra\\AppData\\Local\\Programs\\Python\\Python310\\lib\\site-packages\\sklearn\\metrics\\_regression.py:492: FutureWarning: 'squared' is deprecated in version 1.4 and will be removed in 1.6. To calculate the root mean squared error, use the function'root_mean_squared_error'.\n",
      "  warnings.warn(\n",
      "19:36:01 - cmdstanpy - INFO - Chain [1] start processing\n",
      "19:36:01 - cmdstanpy - INFO - Chain [1] done processing\n",
      "c:\\Users\\natra\\AppData\\Local\\Programs\\Python\\Python310\\lib\\site-packages\\sklearn\\metrics\\_regression.py:492: FutureWarning: 'squared' is deprecated in version 1.4 and will be removed in 1.6. To calculate the root mean squared error, use the function'root_mean_squared_error'.\n",
      "  warnings.warn(\n",
      "19:36:02 - cmdstanpy - INFO - Chain [1] start processing\n",
      "19:36:02 - cmdstanpy - INFO - Chain [1] done processing\n",
      "c:\\Users\\natra\\AppData\\Local\\Programs\\Python\\Python310\\lib\\site-packages\\sklearn\\metrics\\_regression.py:492: FutureWarning: 'squared' is deprecated in version 1.4 and will be removed in 1.6. To calculate the root mean squared error, use the function'root_mean_squared_error'.\n",
      "  warnings.warn(\n",
      "19:36:02 - cmdstanpy - INFO - Chain [1] start processing\n",
      "19:36:03 - cmdstanpy - INFO - Chain [1] done processing\n",
      "c:\\Users\\natra\\AppData\\Local\\Programs\\Python\\Python310\\lib\\site-packages\\sklearn\\metrics\\_regression.py:492: FutureWarning: 'squared' is deprecated in version 1.4 and will be removed in 1.6. To calculate the root mean squared error, use the function'root_mean_squared_error'.\n",
      "  warnings.warn(\n"
     ]
    },
    {
     "name": "stdout",
     "output_type": "stream",
     "text": [
      "R² Score: 0.761, RMSE: 3.816, MAE: 3.089\n",
      "\n",
      "Evaluating: changepoint_prior_scale=0.03, seasonality_prior_scale=10.1, seasonality_mode=additive\n"
     ]
    },
    {
     "name": "stderr",
     "output_type": "stream",
     "text": [
      "19:36:03 - cmdstanpy - INFO - Chain [1] start processing\n",
      "19:36:04 - cmdstanpy - INFO - Chain [1] done processing\n",
      "c:\\Users\\natra\\AppData\\Local\\Programs\\Python\\Python310\\lib\\site-packages\\sklearn\\metrics\\_regression.py:492: FutureWarning: 'squared' is deprecated in version 1.4 and will be removed in 1.6. To calculate the root mean squared error, use the function'root_mean_squared_error'.\n",
      "  warnings.warn(\n",
      "19:36:04 - cmdstanpy - INFO - Chain [1] start processing\n",
      "19:36:04 - cmdstanpy - INFO - Chain [1] done processing\n",
      "c:\\Users\\natra\\AppData\\Local\\Programs\\Python\\Python310\\lib\\site-packages\\sklearn\\metrics\\_regression.py:492: FutureWarning: 'squared' is deprecated in version 1.4 and will be removed in 1.6. To calculate the root mean squared error, use the function'root_mean_squared_error'.\n",
      "  warnings.warn(\n",
      "19:36:05 - cmdstanpy - INFO - Chain [1] start processing\n",
      "19:36:05 - cmdstanpy - INFO - Chain [1] done processing\n",
      "c:\\Users\\natra\\AppData\\Local\\Programs\\Python\\Python310\\lib\\site-packages\\sklearn\\metrics\\_regression.py:492: FutureWarning: 'squared' is deprecated in version 1.4 and will be removed in 1.6. To calculate the root mean squared error, use the function'root_mean_squared_error'.\n",
      "  warnings.warn(\n",
      "19:36:06 - cmdstanpy - INFO - Chain [1] start processing\n",
      "19:36:06 - cmdstanpy - INFO - Chain [1] done processing\n",
      "c:\\Users\\natra\\AppData\\Local\\Programs\\Python\\Python310\\lib\\site-packages\\sklearn\\metrics\\_regression.py:492: FutureWarning: 'squared' is deprecated in version 1.4 and will be removed in 1.6. To calculate the root mean squared error, use the function'root_mean_squared_error'.\n",
      "  warnings.warn(\n",
      "19:36:07 - cmdstanpy - INFO - Chain [1] start processing\n",
      "19:36:07 - cmdstanpy - INFO - Chain [1] done processing\n",
      "c:\\Users\\natra\\AppData\\Local\\Programs\\Python\\Python310\\lib\\site-packages\\sklearn\\metrics\\_regression.py:492: FutureWarning: 'squared' is deprecated in version 1.4 and will be removed in 1.6. To calculate the root mean squared error, use the function'root_mean_squared_error'.\n",
      "  warnings.warn(\n"
     ]
    },
    {
     "name": "stdout",
     "output_type": "stream",
     "text": [
      "R² Score: 0.767, RMSE: 3.775, MAE: 3.066\n",
      "\n",
      "Evaluating: changepoint_prior_scale=0.03, seasonality_prior_scale=10.1, seasonality_mode=multiplicative\n"
     ]
    },
    {
     "name": "stderr",
     "output_type": "stream",
     "text": [
      "19:36:08 - cmdstanpy - INFO - Chain [1] start processing\n",
      "19:36:08 - cmdstanpy - INFO - Chain [1] done processing\n",
      "c:\\Users\\natra\\AppData\\Local\\Programs\\Python\\Python310\\lib\\site-packages\\sklearn\\metrics\\_regression.py:492: FutureWarning: 'squared' is deprecated in version 1.4 and will be removed in 1.6. To calculate the root mean squared error, use the function'root_mean_squared_error'.\n",
      "  warnings.warn(\n",
      "19:36:09 - cmdstanpy - INFO - Chain [1] start processing\n",
      "19:36:09 - cmdstanpy - INFO - Chain [1] done processing\n",
      "c:\\Users\\natra\\AppData\\Local\\Programs\\Python\\Python310\\lib\\site-packages\\sklearn\\metrics\\_regression.py:492: FutureWarning: 'squared' is deprecated in version 1.4 and will be removed in 1.6. To calculate the root mean squared error, use the function'root_mean_squared_error'.\n",
      "  warnings.warn(\n",
      "19:36:09 - cmdstanpy - INFO - Chain [1] start processing\n",
      "19:36:10 - cmdstanpy - INFO - Chain [1] done processing\n",
      "c:\\Users\\natra\\AppData\\Local\\Programs\\Python\\Python310\\lib\\site-packages\\sklearn\\metrics\\_regression.py:492: FutureWarning: 'squared' is deprecated in version 1.4 and will be removed in 1.6. To calculate the root mean squared error, use the function'root_mean_squared_error'.\n",
      "  warnings.warn(\n",
      "19:36:10 - cmdstanpy - INFO - Chain [1] start processing\n",
      "19:36:10 - cmdstanpy - INFO - Chain [1] done processing\n",
      "c:\\Users\\natra\\AppData\\Local\\Programs\\Python\\Python310\\lib\\site-packages\\sklearn\\metrics\\_regression.py:492: FutureWarning: 'squared' is deprecated in version 1.4 and will be removed in 1.6. To calculate the root mean squared error, use the function'root_mean_squared_error'.\n",
      "  warnings.warn(\n",
      "19:36:11 - cmdstanpy - INFO - Chain [1] start processing\n",
      "19:36:11 - cmdstanpy - INFO - Chain [1] done processing\n",
      "c:\\Users\\natra\\AppData\\Local\\Programs\\Python\\Python310\\lib\\site-packages\\sklearn\\metrics\\_regression.py:492: FutureWarning: 'squared' is deprecated in version 1.4 and will be removed in 1.6. To calculate the root mean squared error, use the function'root_mean_squared_error'.\n",
      "  warnings.warn(\n"
     ]
    },
    {
     "name": "stdout",
     "output_type": "stream",
     "text": [
      "R² Score: 0.762, RMSE: 3.807, MAE: 3.083\n",
      "\n",
      "Evaluating: changepoint_prior_scale=0.04, seasonality_prior_scale=0.1, seasonality_mode=additive\n"
     ]
    },
    {
     "name": "stderr",
     "output_type": "stream",
     "text": [
      "19:36:12 - cmdstanpy - INFO - Chain [1] start processing\n",
      "19:36:12 - cmdstanpy - INFO - Chain [1] done processing\n",
      "c:\\Users\\natra\\AppData\\Local\\Programs\\Python\\Python310\\lib\\site-packages\\sklearn\\metrics\\_regression.py:492: FutureWarning: 'squared' is deprecated in version 1.4 and will be removed in 1.6. To calculate the root mean squared error, use the function'root_mean_squared_error'.\n",
      "  warnings.warn(\n",
      "19:36:13 - cmdstanpy - INFO - Chain [1] start processing\n",
      "19:36:13 - cmdstanpy - INFO - Chain [1] done processing\n",
      "c:\\Users\\natra\\AppData\\Local\\Programs\\Python\\Python310\\lib\\site-packages\\sklearn\\metrics\\_regression.py:492: FutureWarning: 'squared' is deprecated in version 1.4 and will be removed in 1.6. To calculate the root mean squared error, use the function'root_mean_squared_error'.\n",
      "  warnings.warn(\n",
      "19:36:13 - cmdstanpy - INFO - Chain [1] start processing\n",
      "19:36:14 - cmdstanpy - INFO - Chain [1] done processing\n",
      "c:\\Users\\natra\\AppData\\Local\\Programs\\Python\\Python310\\lib\\site-packages\\sklearn\\metrics\\_regression.py:492: FutureWarning: 'squared' is deprecated in version 1.4 and will be removed in 1.6. To calculate the root mean squared error, use the function'root_mean_squared_error'.\n",
      "  warnings.warn(\n",
      "19:36:14 - cmdstanpy - INFO - Chain [1] start processing\n",
      "19:36:14 - cmdstanpy - INFO - Chain [1] done processing\n",
      "c:\\Users\\natra\\AppData\\Local\\Programs\\Python\\Python310\\lib\\site-packages\\sklearn\\metrics\\_regression.py:492: FutureWarning: 'squared' is deprecated in version 1.4 and will be removed in 1.6. To calculate the root mean squared error, use the function'root_mean_squared_error'.\n",
      "  warnings.warn(\n",
      "19:36:15 - cmdstanpy - INFO - Chain [1] start processing\n",
      "19:36:15 - cmdstanpy - INFO - Chain [1] done processing\n",
      "c:\\Users\\natra\\AppData\\Local\\Programs\\Python\\Python310\\lib\\site-packages\\sklearn\\metrics\\_regression.py:492: FutureWarning: 'squared' is deprecated in version 1.4 and will be removed in 1.6. To calculate the root mean squared error, use the function'root_mean_squared_error'.\n",
      "  warnings.warn(\n"
     ]
    },
    {
     "name": "stdout",
     "output_type": "stream",
     "text": [
      "R² Score: 0.765, RMSE: 3.789, MAE: 3.073\n",
      "\n",
      "Evaluating: changepoint_prior_scale=0.04, seasonality_prior_scale=0.1, seasonality_mode=multiplicative\n"
     ]
    },
    {
     "name": "stderr",
     "output_type": "stream",
     "text": [
      "19:36:16 - cmdstanpy - INFO - Chain [1] start processing\n",
      "19:36:16 - cmdstanpy - INFO - Chain [1] done processing\n",
      "c:\\Users\\natra\\AppData\\Local\\Programs\\Python\\Python310\\lib\\site-packages\\sklearn\\metrics\\_regression.py:492: FutureWarning: 'squared' is deprecated in version 1.4 and will be removed in 1.6. To calculate the root mean squared error, use the function'root_mean_squared_error'.\n",
      "  warnings.warn(\n",
      "19:36:17 - cmdstanpy - INFO - Chain [1] start processing\n",
      "19:36:17 - cmdstanpy - INFO - Chain [1] done processing\n",
      "c:\\Users\\natra\\AppData\\Local\\Programs\\Python\\Python310\\lib\\site-packages\\sklearn\\metrics\\_regression.py:492: FutureWarning: 'squared' is deprecated in version 1.4 and will be removed in 1.6. To calculate the root mean squared error, use the function'root_mean_squared_error'.\n",
      "  warnings.warn(\n",
      "19:36:17 - cmdstanpy - INFO - Chain [1] start processing\n",
      "19:36:18 - cmdstanpy - INFO - Chain [1] done processing\n",
      "c:\\Users\\natra\\AppData\\Local\\Programs\\Python\\Python310\\lib\\site-packages\\sklearn\\metrics\\_regression.py:492: FutureWarning: 'squared' is deprecated in version 1.4 and will be removed in 1.6. To calculate the root mean squared error, use the function'root_mean_squared_error'.\n",
      "  warnings.warn(\n",
      "19:36:18 - cmdstanpy - INFO - Chain [1] start processing\n",
      "19:36:18 - cmdstanpy - INFO - Chain [1] done processing\n",
      "c:\\Users\\natra\\AppData\\Local\\Programs\\Python\\Python310\\lib\\site-packages\\sklearn\\metrics\\_regression.py:492: FutureWarning: 'squared' is deprecated in version 1.4 and will be removed in 1.6. To calculate the root mean squared error, use the function'root_mean_squared_error'.\n",
      "  warnings.warn(\n",
      "19:36:19 - cmdstanpy - INFO - Chain [1] start processing\n",
      "19:36:19 - cmdstanpy - INFO - Chain [1] done processing\n",
      "c:\\Users\\natra\\AppData\\Local\\Programs\\Python\\Python310\\lib\\site-packages\\sklearn\\metrics\\_regression.py:492: FutureWarning: 'squared' is deprecated in version 1.4 and will be removed in 1.6. To calculate the root mean squared error, use the function'root_mean_squared_error'.\n",
      "  warnings.warn(\n"
     ]
    },
    {
     "name": "stdout",
     "output_type": "stream",
     "text": [
      "R² Score: 0.756, RMSE: 3.856, MAE: 3.118\n",
      "\n",
      "Evaluating: changepoint_prior_scale=0.04, seasonality_prior_scale=1.1, seasonality_mode=additive\n"
     ]
    },
    {
     "name": "stderr",
     "output_type": "stream",
     "text": [
      "19:36:20 - cmdstanpy - INFO - Chain [1] start processing\n",
      "19:36:20 - cmdstanpy - INFO - Chain [1] done processing\n",
      "c:\\Users\\natra\\AppData\\Local\\Programs\\Python\\Python310\\lib\\site-packages\\sklearn\\metrics\\_regression.py:492: FutureWarning: 'squared' is deprecated in version 1.4 and will be removed in 1.6. To calculate the root mean squared error, use the function'root_mean_squared_error'.\n",
      "  warnings.warn(\n",
      "19:36:21 - cmdstanpy - INFO - Chain [1] start processing\n",
      "19:36:21 - cmdstanpy - INFO - Chain [1] done processing\n",
      "c:\\Users\\natra\\AppData\\Local\\Programs\\Python\\Python310\\lib\\site-packages\\sklearn\\metrics\\_regression.py:492: FutureWarning: 'squared' is deprecated in version 1.4 and will be removed in 1.6. To calculate the root mean squared error, use the function'root_mean_squared_error'.\n",
      "  warnings.warn(\n",
      "19:36:21 - cmdstanpy - INFO - Chain [1] start processing\n",
      "19:36:22 - cmdstanpy - INFO - Chain [1] done processing\n",
      "c:\\Users\\natra\\AppData\\Local\\Programs\\Python\\Python310\\lib\\site-packages\\sklearn\\metrics\\_regression.py:492: FutureWarning: 'squared' is deprecated in version 1.4 and will be removed in 1.6. To calculate the root mean squared error, use the function'root_mean_squared_error'.\n",
      "  warnings.warn(\n",
      "19:36:22 - cmdstanpy - INFO - Chain [1] start processing\n",
      "19:36:22 - cmdstanpy - INFO - Chain [1] done processing\n",
      "c:\\Users\\natra\\AppData\\Local\\Programs\\Python\\Python310\\lib\\site-packages\\sklearn\\metrics\\_regression.py:492: FutureWarning: 'squared' is deprecated in version 1.4 and will be removed in 1.6. To calculate the root mean squared error, use the function'root_mean_squared_error'.\n",
      "  warnings.warn(\n",
      "19:36:23 - cmdstanpy - INFO - Chain [1] start processing\n",
      "19:36:23 - cmdstanpy - INFO - Chain [1] done processing\n",
      "c:\\Users\\natra\\AppData\\Local\\Programs\\Python\\Python310\\lib\\site-packages\\sklearn\\metrics\\_regression.py:492: FutureWarning: 'squared' is deprecated in version 1.4 and will be removed in 1.6. To calculate the root mean squared error, use the function'root_mean_squared_error'.\n",
      "  warnings.warn(\n"
     ]
    },
    {
     "name": "stdout",
     "output_type": "stream",
     "text": [
      "R² Score: 0.765, RMSE: 3.786, MAE: 3.072\n",
      "\n",
      "Evaluating: changepoint_prior_scale=0.04, seasonality_prior_scale=1.1, seasonality_mode=multiplicative\n"
     ]
    },
    {
     "name": "stderr",
     "output_type": "stream",
     "text": [
      "19:36:24 - cmdstanpy - INFO - Chain [1] start processing\n",
      "19:36:24 - cmdstanpy - INFO - Chain [1] done processing\n",
      "c:\\Users\\natra\\AppData\\Local\\Programs\\Python\\Python310\\lib\\site-packages\\sklearn\\metrics\\_regression.py:492: FutureWarning: 'squared' is deprecated in version 1.4 and will be removed in 1.6. To calculate the root mean squared error, use the function'root_mean_squared_error'.\n",
      "  warnings.warn(\n",
      "19:36:25 - cmdstanpy - INFO - Chain [1] start processing\n",
      "19:36:25 - cmdstanpy - INFO - Chain [1] done processing\n",
      "c:\\Users\\natra\\AppData\\Local\\Programs\\Python\\Python310\\lib\\site-packages\\sklearn\\metrics\\_regression.py:492: FutureWarning: 'squared' is deprecated in version 1.4 and will be removed in 1.6. To calculate the root mean squared error, use the function'root_mean_squared_error'.\n",
      "  warnings.warn(\n",
      "19:36:25 - cmdstanpy - INFO - Chain [1] start processing\n",
      "19:36:25 - cmdstanpy - INFO - Chain [1] done processing\n",
      "c:\\Users\\natra\\AppData\\Local\\Programs\\Python\\Python310\\lib\\site-packages\\sklearn\\metrics\\_regression.py:492: FutureWarning: 'squared' is deprecated in version 1.4 and will be removed in 1.6. To calculate the root mean squared error, use the function'root_mean_squared_error'.\n",
      "  warnings.warn(\n",
      "19:36:26 - cmdstanpy - INFO - Chain [1] start processing\n",
      "19:36:26 - cmdstanpy - INFO - Chain [1] done processing\n",
      "c:\\Users\\natra\\AppData\\Local\\Programs\\Python\\Python310\\lib\\site-packages\\sklearn\\metrics\\_regression.py:492: FutureWarning: 'squared' is deprecated in version 1.4 and will be removed in 1.6. To calculate the root mean squared error, use the function'root_mean_squared_error'.\n",
      "  warnings.warn(\n",
      "19:36:27 - cmdstanpy - INFO - Chain [1] start processing\n",
      "19:36:27 - cmdstanpy - INFO - Chain [1] done processing\n",
      "c:\\Users\\natra\\AppData\\Local\\Programs\\Python\\Python310\\lib\\site-packages\\sklearn\\metrics\\_regression.py:492: FutureWarning: 'squared' is deprecated in version 1.4 and will be removed in 1.6. To calculate the root mean squared error, use the function'root_mean_squared_error'.\n",
      "  warnings.warn(\n"
     ]
    },
    {
     "name": "stdout",
     "output_type": "stream",
     "text": [
      "R² Score: 0.758, RMSE: 3.839, MAE: 3.106\n",
      "\n",
      "Evaluating: changepoint_prior_scale=0.04, seasonality_prior_scale=2.1, seasonality_mode=additive\n"
     ]
    },
    {
     "name": "stderr",
     "output_type": "stream",
     "text": [
      "19:36:28 - cmdstanpy - INFO - Chain [1] start processing\n",
      "19:36:28 - cmdstanpy - INFO - Chain [1] done processing\n",
      "c:\\Users\\natra\\AppData\\Local\\Programs\\Python\\Python310\\lib\\site-packages\\sklearn\\metrics\\_regression.py:492: FutureWarning: 'squared' is deprecated in version 1.4 and will be removed in 1.6. To calculate the root mean squared error, use the function'root_mean_squared_error'.\n",
      "  warnings.warn(\n",
      "19:36:29 - cmdstanpy - INFO - Chain [1] start processing\n",
      "19:36:29 - cmdstanpy - INFO - Chain [1] done processing\n",
      "c:\\Users\\natra\\AppData\\Local\\Programs\\Python\\Python310\\lib\\site-packages\\sklearn\\metrics\\_regression.py:492: FutureWarning: 'squared' is deprecated in version 1.4 and will be removed in 1.6. To calculate the root mean squared error, use the function'root_mean_squared_error'.\n",
      "  warnings.warn(\n",
      "19:36:29 - cmdstanpy - INFO - Chain [1] start processing\n",
      "19:36:30 - cmdstanpy - INFO - Chain [1] done processing\n",
      "c:\\Users\\natra\\AppData\\Local\\Programs\\Python\\Python310\\lib\\site-packages\\sklearn\\metrics\\_regression.py:492: FutureWarning: 'squared' is deprecated in version 1.4 and will be removed in 1.6. To calculate the root mean squared error, use the function'root_mean_squared_error'.\n",
      "  warnings.warn(\n",
      "19:36:30 - cmdstanpy - INFO - Chain [1] start processing\n",
      "19:36:30 - cmdstanpy - INFO - Chain [1] done processing\n",
      "c:\\Users\\natra\\AppData\\Local\\Programs\\Python\\Python310\\lib\\site-packages\\sklearn\\metrics\\_regression.py:492: FutureWarning: 'squared' is deprecated in version 1.4 and will be removed in 1.6. To calculate the root mean squared error, use the function'root_mean_squared_error'.\n",
      "  warnings.warn(\n",
      "19:36:31 - cmdstanpy - INFO - Chain [1] start processing\n",
      "19:36:31 - cmdstanpy - INFO - Chain [1] done processing\n",
      "c:\\Users\\natra\\AppData\\Local\\Programs\\Python\\Python310\\lib\\site-packages\\sklearn\\metrics\\_regression.py:492: FutureWarning: 'squared' is deprecated in version 1.4 and will be removed in 1.6. To calculate the root mean squared error, use the function'root_mean_squared_error'.\n",
      "  warnings.warn(\n"
     ]
    },
    {
     "name": "stdout",
     "output_type": "stream",
     "text": [
      "R² Score: 0.764, RMSE: 3.792, MAE: 3.076\n",
      "\n",
      "Evaluating: changepoint_prior_scale=0.04, seasonality_prior_scale=2.1, seasonality_mode=multiplicative\n"
     ]
    },
    {
     "name": "stderr",
     "output_type": "stream",
     "text": [
      "19:36:32 - cmdstanpy - INFO - Chain [1] start processing\n",
      "19:36:32 - cmdstanpy - INFO - Chain [1] done processing\n",
      "c:\\Users\\natra\\AppData\\Local\\Programs\\Python\\Python310\\lib\\site-packages\\sklearn\\metrics\\_regression.py:492: FutureWarning: 'squared' is deprecated in version 1.4 and will be removed in 1.6. To calculate the root mean squared error, use the function'root_mean_squared_error'.\n",
      "  warnings.warn(\n",
      "19:36:32 - cmdstanpy - INFO - Chain [1] start processing\n",
      "19:36:33 - cmdstanpy - INFO - Chain [1] done processing\n",
      "c:\\Users\\natra\\AppData\\Local\\Programs\\Python\\Python310\\lib\\site-packages\\sklearn\\metrics\\_regression.py:492: FutureWarning: 'squared' is deprecated in version 1.4 and will be removed in 1.6. To calculate the root mean squared error, use the function'root_mean_squared_error'.\n",
      "  warnings.warn(\n",
      "19:36:33 - cmdstanpy - INFO - Chain [1] start processing\n",
      "19:36:33 - cmdstanpy - INFO - Chain [1] done processing\n",
      "c:\\Users\\natra\\AppData\\Local\\Programs\\Python\\Python310\\lib\\site-packages\\sklearn\\metrics\\_regression.py:492: FutureWarning: 'squared' is deprecated in version 1.4 and will be removed in 1.6. To calculate the root mean squared error, use the function'root_mean_squared_error'.\n",
      "  warnings.warn(\n",
      "19:36:34 - cmdstanpy - INFO - Chain [1] start processing\n",
      "19:36:34 - cmdstanpy - INFO - Chain [1] done processing\n",
      "c:\\Users\\natra\\AppData\\Local\\Programs\\Python\\Python310\\lib\\site-packages\\sklearn\\metrics\\_regression.py:492: FutureWarning: 'squared' is deprecated in version 1.4 and will be removed in 1.6. To calculate the root mean squared error, use the function'root_mean_squared_error'.\n",
      "  warnings.warn(\n",
      "19:36:35 - cmdstanpy - INFO - Chain [1] start processing\n",
      "19:36:35 - cmdstanpy - INFO - Chain [1] done processing\n",
      "c:\\Users\\natra\\AppData\\Local\\Programs\\Python\\Python310\\lib\\site-packages\\sklearn\\metrics\\_regression.py:492: FutureWarning: 'squared' is deprecated in version 1.4 and will be removed in 1.6. To calculate the root mean squared error, use the function'root_mean_squared_error'.\n",
      "  warnings.warn(\n"
     ]
    },
    {
     "name": "stdout",
     "output_type": "stream",
     "text": [
      "R² Score: 0.758, RMSE: 3.842, MAE: 3.107\n",
      "\n",
      "Evaluating: changepoint_prior_scale=0.04, seasonality_prior_scale=3.1, seasonality_mode=additive\n"
     ]
    },
    {
     "name": "stderr",
     "output_type": "stream",
     "text": [
      "19:36:36 - cmdstanpy - INFO - Chain [1] start processing\n",
      "19:36:36 - cmdstanpy - INFO - Chain [1] done processing\n",
      "c:\\Users\\natra\\AppData\\Local\\Programs\\Python\\Python310\\lib\\site-packages\\sklearn\\metrics\\_regression.py:492: FutureWarning: 'squared' is deprecated in version 1.4 and will be removed in 1.6. To calculate the root mean squared error, use the function'root_mean_squared_error'.\n",
      "  warnings.warn(\n",
      "19:36:37 - cmdstanpy - INFO - Chain [1] start processing\n",
      "19:36:37 - cmdstanpy - INFO - Chain [1] done processing\n",
      "c:\\Users\\natra\\AppData\\Local\\Programs\\Python\\Python310\\lib\\site-packages\\sklearn\\metrics\\_regression.py:492: FutureWarning: 'squared' is deprecated in version 1.4 and will be removed in 1.6. To calculate the root mean squared error, use the function'root_mean_squared_error'.\n",
      "  warnings.warn(\n",
      "19:36:37 - cmdstanpy - INFO - Chain [1] start processing\n",
      "19:36:38 - cmdstanpy - INFO - Chain [1] done processing\n",
      "c:\\Users\\natra\\AppData\\Local\\Programs\\Python\\Python310\\lib\\site-packages\\sklearn\\metrics\\_regression.py:492: FutureWarning: 'squared' is deprecated in version 1.4 and will be removed in 1.6. To calculate the root mean squared error, use the function'root_mean_squared_error'.\n",
      "  warnings.warn(\n",
      "19:36:38 - cmdstanpy - INFO - Chain [1] start processing\n",
      "19:36:39 - cmdstanpy - INFO - Chain [1] done processing\n",
      "c:\\Users\\natra\\AppData\\Local\\Programs\\Python\\Python310\\lib\\site-packages\\sklearn\\metrics\\_regression.py:492: FutureWarning: 'squared' is deprecated in version 1.4 and will be removed in 1.6. To calculate the root mean squared error, use the function'root_mean_squared_error'.\n",
      "  warnings.warn(\n",
      "19:36:39 - cmdstanpy - INFO - Chain [1] start processing\n",
      "19:36:39 - cmdstanpy - INFO - Chain [1] done processing\n",
      "c:\\Users\\natra\\AppData\\Local\\Programs\\Python\\Python310\\lib\\site-packages\\sklearn\\metrics\\_regression.py:492: FutureWarning: 'squared' is deprecated in version 1.4 and will be removed in 1.6. To calculate the root mean squared error, use the function'root_mean_squared_error'.\n",
      "  warnings.warn(\n"
     ]
    },
    {
     "name": "stdout",
     "output_type": "stream",
     "text": [
      "R² Score: 0.766, RMSE: 3.781, MAE: 3.069\n",
      "\n",
      "Evaluating: changepoint_prior_scale=0.04, seasonality_prior_scale=3.1, seasonality_mode=multiplicative\n"
     ]
    },
    {
     "name": "stderr",
     "output_type": "stream",
     "text": [
      "19:36:40 - cmdstanpy - INFO - Chain [1] start processing\n",
      "19:36:40 - cmdstanpy - INFO - Chain [1] done processing\n",
      "c:\\Users\\natra\\AppData\\Local\\Programs\\Python\\Python310\\lib\\site-packages\\sklearn\\metrics\\_regression.py:492: FutureWarning: 'squared' is deprecated in version 1.4 and will be removed in 1.6. To calculate the root mean squared error, use the function'root_mean_squared_error'.\n",
      "  warnings.warn(\n",
      "19:36:41 - cmdstanpy - INFO - Chain [1] start processing\n",
      "19:36:41 - cmdstanpy - INFO - Chain [1] done processing\n",
      "c:\\Users\\natra\\AppData\\Local\\Programs\\Python\\Python310\\lib\\site-packages\\sklearn\\metrics\\_regression.py:492: FutureWarning: 'squared' is deprecated in version 1.4 and will be removed in 1.6. To calculate the root mean squared error, use the function'root_mean_squared_error'.\n",
      "  warnings.warn(\n",
      "19:36:42 - cmdstanpy - INFO - Chain [1] start processing\n",
      "19:36:42 - cmdstanpy - INFO - Chain [1] done processing\n",
      "c:\\Users\\natra\\AppData\\Local\\Programs\\Python\\Python310\\lib\\site-packages\\sklearn\\metrics\\_regression.py:492: FutureWarning: 'squared' is deprecated in version 1.4 and will be removed in 1.6. To calculate the root mean squared error, use the function'root_mean_squared_error'.\n",
      "  warnings.warn(\n",
      "19:36:43 - cmdstanpy - INFO - Chain [1] start processing\n",
      "19:36:43 - cmdstanpy - INFO - Chain [1] done processing\n",
      "c:\\Users\\natra\\AppData\\Local\\Programs\\Python\\Python310\\lib\\site-packages\\sklearn\\metrics\\_regression.py:492: FutureWarning: 'squared' is deprecated in version 1.4 and will be removed in 1.6. To calculate the root mean squared error, use the function'root_mean_squared_error'.\n",
      "  warnings.warn(\n",
      "19:36:44 - cmdstanpy - INFO - Chain [1] start processing\n",
      "19:36:44 - cmdstanpy - INFO - Chain [1] done processing\n",
      "c:\\Users\\natra\\AppData\\Local\\Programs\\Python\\Python310\\lib\\site-packages\\sklearn\\metrics\\_regression.py:492: FutureWarning: 'squared' is deprecated in version 1.4 and will be removed in 1.6. To calculate the root mean squared error, use the function'root_mean_squared_error'.\n",
      "  warnings.warn(\n"
     ]
    },
    {
     "name": "stdout",
     "output_type": "stream",
     "text": [
      "R² Score: 0.758, RMSE: 3.842, MAE: 3.107\n",
      "\n",
      "Evaluating: changepoint_prior_scale=0.04, seasonality_prior_scale=4.1, seasonality_mode=additive\n"
     ]
    },
    {
     "name": "stderr",
     "output_type": "stream",
     "text": [
      "19:36:45 - cmdstanpy - INFO - Chain [1] start processing\n",
      "19:36:45 - cmdstanpy - INFO - Chain [1] done processing\n",
      "c:\\Users\\natra\\AppData\\Local\\Programs\\Python\\Python310\\lib\\site-packages\\sklearn\\metrics\\_regression.py:492: FutureWarning: 'squared' is deprecated in version 1.4 and will be removed in 1.6. To calculate the root mean squared error, use the function'root_mean_squared_error'.\n",
      "  warnings.warn(\n",
      "19:36:46 - cmdstanpy - INFO - Chain [1] start processing\n",
      "19:36:46 - cmdstanpy - INFO - Chain [1] done processing\n",
      "c:\\Users\\natra\\AppData\\Local\\Programs\\Python\\Python310\\lib\\site-packages\\sklearn\\metrics\\_regression.py:492: FutureWarning: 'squared' is deprecated in version 1.4 and will be removed in 1.6. To calculate the root mean squared error, use the function'root_mean_squared_error'.\n",
      "  warnings.warn(\n",
      "19:36:47 - cmdstanpy - INFO - Chain [1] start processing\n",
      "19:36:47 - cmdstanpy - INFO - Chain [1] done processing\n",
      "c:\\Users\\natra\\AppData\\Local\\Programs\\Python\\Python310\\lib\\site-packages\\sklearn\\metrics\\_regression.py:492: FutureWarning: 'squared' is deprecated in version 1.4 and will be removed in 1.6. To calculate the root mean squared error, use the function'root_mean_squared_error'.\n",
      "  warnings.warn(\n",
      "19:36:48 - cmdstanpy - INFO - Chain [1] start processing\n",
      "19:36:48 - cmdstanpy - INFO - Chain [1] done processing\n",
      "c:\\Users\\natra\\AppData\\Local\\Programs\\Python\\Python310\\lib\\site-packages\\sklearn\\metrics\\_regression.py:492: FutureWarning: 'squared' is deprecated in version 1.4 and will be removed in 1.6. To calculate the root mean squared error, use the function'root_mean_squared_error'.\n",
      "  warnings.warn(\n",
      "19:36:48 - cmdstanpy - INFO - Chain [1] start processing\n",
      "19:36:49 - cmdstanpy - INFO - Chain [1] done processing\n",
      "c:\\Users\\natra\\AppData\\Local\\Programs\\Python\\Python310\\lib\\site-packages\\sklearn\\metrics\\_regression.py:492: FutureWarning: 'squared' is deprecated in version 1.4 and will be removed in 1.6. To calculate the root mean squared error, use the function'root_mean_squared_error'.\n",
      "  warnings.warn(\n"
     ]
    },
    {
     "name": "stdout",
     "output_type": "stream",
     "text": [
      "R² Score: 0.764, RMSE: 3.791, MAE: 3.075\n",
      "\n",
      "Evaluating: changepoint_prior_scale=0.04, seasonality_prior_scale=4.1, seasonality_mode=multiplicative\n"
     ]
    },
    {
     "name": "stderr",
     "output_type": "stream",
     "text": [
      "19:36:49 - cmdstanpy - INFO - Chain [1] start processing\n",
      "19:36:50 - cmdstanpy - INFO - Chain [1] done processing\n",
      "c:\\Users\\natra\\AppData\\Local\\Programs\\Python\\Python310\\lib\\site-packages\\sklearn\\metrics\\_regression.py:492: FutureWarning: 'squared' is deprecated in version 1.4 and will be removed in 1.6. To calculate the root mean squared error, use the function'root_mean_squared_error'.\n",
      "  warnings.warn(\n",
      "19:36:50 - cmdstanpy - INFO - Chain [1] start processing\n",
      "19:36:50 - cmdstanpy - INFO - Chain [1] done processing\n",
      "c:\\Users\\natra\\AppData\\Local\\Programs\\Python\\Python310\\lib\\site-packages\\sklearn\\metrics\\_regression.py:492: FutureWarning: 'squared' is deprecated in version 1.4 and will be removed in 1.6. To calculate the root mean squared error, use the function'root_mean_squared_error'.\n",
      "  warnings.warn(\n",
      "19:36:51 - cmdstanpy - INFO - Chain [1] start processing\n",
      "19:36:51 - cmdstanpy - INFO - Chain [1] done processing\n",
      "c:\\Users\\natra\\AppData\\Local\\Programs\\Python\\Python310\\lib\\site-packages\\sklearn\\metrics\\_regression.py:492: FutureWarning: 'squared' is deprecated in version 1.4 and will be removed in 1.6. To calculate the root mean squared error, use the function'root_mean_squared_error'.\n",
      "  warnings.warn(\n",
      "19:36:52 - cmdstanpy - INFO - Chain [1] start processing\n",
      "19:36:52 - cmdstanpy - INFO - Chain [1] done processing\n",
      "c:\\Users\\natra\\AppData\\Local\\Programs\\Python\\Python310\\lib\\site-packages\\sklearn\\metrics\\_regression.py:492: FutureWarning: 'squared' is deprecated in version 1.4 and will be removed in 1.6. To calculate the root mean squared error, use the function'root_mean_squared_error'.\n",
      "  warnings.warn(\n",
      "19:36:53 - cmdstanpy - INFO - Chain [1] start processing\n",
      "19:36:53 - cmdstanpy - INFO - Chain [1] done processing\n",
      "c:\\Users\\natra\\AppData\\Local\\Programs\\Python\\Python310\\lib\\site-packages\\sklearn\\metrics\\_regression.py:492: FutureWarning: 'squared' is deprecated in version 1.4 and will be removed in 1.6. To calculate the root mean squared error, use the function'root_mean_squared_error'.\n",
      "  warnings.warn(\n"
     ]
    },
    {
     "name": "stdout",
     "output_type": "stream",
     "text": [
      "R² Score: 0.756, RMSE: 3.855, MAE: 3.117\n",
      "\n",
      "Evaluating: changepoint_prior_scale=0.04, seasonality_prior_scale=5.1, seasonality_mode=additive\n"
     ]
    },
    {
     "name": "stderr",
     "output_type": "stream",
     "text": [
      "19:36:54 - cmdstanpy - INFO - Chain [1] start processing\n",
      "19:36:54 - cmdstanpy - INFO - Chain [1] done processing\n",
      "c:\\Users\\natra\\AppData\\Local\\Programs\\Python\\Python310\\lib\\site-packages\\sklearn\\metrics\\_regression.py:492: FutureWarning: 'squared' is deprecated in version 1.4 and will be removed in 1.6. To calculate the root mean squared error, use the function'root_mean_squared_error'.\n",
      "  warnings.warn(\n",
      "19:36:54 - cmdstanpy - INFO - Chain [1] start processing\n",
      "19:36:55 - cmdstanpy - INFO - Chain [1] done processing\n",
      "c:\\Users\\natra\\AppData\\Local\\Programs\\Python\\Python310\\lib\\site-packages\\sklearn\\metrics\\_regression.py:492: FutureWarning: 'squared' is deprecated in version 1.4 and will be removed in 1.6. To calculate the root mean squared error, use the function'root_mean_squared_error'.\n",
      "  warnings.warn(\n",
      "19:36:55 - cmdstanpy - INFO - Chain [1] start processing\n",
      "19:36:55 - cmdstanpy - INFO - Chain [1] done processing\n",
      "c:\\Users\\natra\\AppData\\Local\\Programs\\Python\\Python310\\lib\\site-packages\\sklearn\\metrics\\_regression.py:492: FutureWarning: 'squared' is deprecated in version 1.4 and will be removed in 1.6. To calculate the root mean squared error, use the function'root_mean_squared_error'.\n",
      "  warnings.warn(\n",
      "19:36:56 - cmdstanpy - INFO - Chain [1] start processing\n",
      "19:36:56 - cmdstanpy - INFO - Chain [1] done processing\n",
      "c:\\Users\\natra\\AppData\\Local\\Programs\\Python\\Python310\\lib\\site-packages\\sklearn\\metrics\\_regression.py:492: FutureWarning: 'squared' is deprecated in version 1.4 and will be removed in 1.6. To calculate the root mean squared error, use the function'root_mean_squared_error'.\n",
      "  warnings.warn(\n",
      "19:36:57 - cmdstanpy - INFO - Chain [1] start processing\n",
      "19:36:57 - cmdstanpy - INFO - Chain [1] done processing\n",
      "c:\\Users\\natra\\AppData\\Local\\Programs\\Python\\Python310\\lib\\site-packages\\sklearn\\metrics\\_regression.py:492: FutureWarning: 'squared' is deprecated in version 1.4 and will be removed in 1.6. To calculate the root mean squared error, use the function'root_mean_squared_error'.\n",
      "  warnings.warn(\n"
     ]
    },
    {
     "name": "stdout",
     "output_type": "stream",
     "text": [
      "R² Score: 0.765, RMSE: 3.786, MAE: 3.073\n",
      "\n",
      "Evaluating: changepoint_prior_scale=0.04, seasonality_prior_scale=5.1, seasonality_mode=multiplicative\n"
     ]
    },
    {
     "name": "stderr",
     "output_type": "stream",
     "text": [
      "19:36:58 - cmdstanpy - INFO - Chain [1] start processing\n",
      "19:36:58 - cmdstanpy - INFO - Chain [1] done processing\n",
      "c:\\Users\\natra\\AppData\\Local\\Programs\\Python\\Python310\\lib\\site-packages\\sklearn\\metrics\\_regression.py:492: FutureWarning: 'squared' is deprecated in version 1.4 and will be removed in 1.6. To calculate the root mean squared error, use the function'root_mean_squared_error'.\n",
      "  warnings.warn(\n",
      "19:36:58 - cmdstanpy - INFO - Chain [1] start processing\n",
      "19:36:59 - cmdstanpy - INFO - Chain [1] done processing\n",
      "c:\\Users\\natra\\AppData\\Local\\Programs\\Python\\Python310\\lib\\site-packages\\sklearn\\metrics\\_regression.py:492: FutureWarning: 'squared' is deprecated in version 1.4 and will be removed in 1.6. To calculate the root mean squared error, use the function'root_mean_squared_error'.\n",
      "  warnings.warn(\n",
      "19:36:59 - cmdstanpy - INFO - Chain [1] start processing\n",
      "19:36:59 - cmdstanpy - INFO - Chain [1] done processing\n",
      "c:\\Users\\natra\\AppData\\Local\\Programs\\Python\\Python310\\lib\\site-packages\\sklearn\\metrics\\_regression.py:492: FutureWarning: 'squared' is deprecated in version 1.4 and will be removed in 1.6. To calculate the root mean squared error, use the function'root_mean_squared_error'.\n",
      "  warnings.warn(\n",
      "19:37:00 - cmdstanpy - INFO - Chain [1] start processing\n",
      "19:37:00 - cmdstanpy - INFO - Chain [1] done processing\n",
      "c:\\Users\\natra\\AppData\\Local\\Programs\\Python\\Python310\\lib\\site-packages\\sklearn\\metrics\\_regression.py:492: FutureWarning: 'squared' is deprecated in version 1.4 and will be removed in 1.6. To calculate the root mean squared error, use the function'root_mean_squared_error'.\n",
      "  warnings.warn(\n",
      "19:37:01 - cmdstanpy - INFO - Chain [1] start processing\n",
      "19:37:01 - cmdstanpy - INFO - Chain [1] done processing\n",
      "c:\\Users\\natra\\AppData\\Local\\Programs\\Python\\Python310\\lib\\site-packages\\sklearn\\metrics\\_regression.py:492: FutureWarning: 'squared' is deprecated in version 1.4 and will be removed in 1.6. To calculate the root mean squared error, use the function'root_mean_squared_error'.\n",
      "  warnings.warn(\n"
     ]
    },
    {
     "name": "stdout",
     "output_type": "stream",
     "text": [
      "R² Score: 0.758, RMSE: 3.840, MAE: 3.107\n",
      "\n",
      "Evaluating: changepoint_prior_scale=0.04, seasonality_prior_scale=6.1, seasonality_mode=additive\n"
     ]
    },
    {
     "name": "stderr",
     "output_type": "stream",
     "text": [
      "19:37:02 - cmdstanpy - INFO - Chain [1] start processing\n",
      "19:37:02 - cmdstanpy - INFO - Chain [1] done processing\n",
      "c:\\Users\\natra\\AppData\\Local\\Programs\\Python\\Python310\\lib\\site-packages\\sklearn\\metrics\\_regression.py:492: FutureWarning: 'squared' is deprecated in version 1.4 and will be removed in 1.6. To calculate the root mean squared error, use the function'root_mean_squared_error'.\n",
      "  warnings.warn(\n",
      "19:37:03 - cmdstanpy - INFO - Chain [1] start processing\n",
      "19:37:03 - cmdstanpy - INFO - Chain [1] done processing\n",
      "c:\\Users\\natra\\AppData\\Local\\Programs\\Python\\Python310\\lib\\site-packages\\sklearn\\metrics\\_regression.py:492: FutureWarning: 'squared' is deprecated in version 1.4 and will be removed in 1.6. To calculate the root mean squared error, use the function'root_mean_squared_error'.\n",
      "  warnings.warn(\n",
      "19:37:04 - cmdstanpy - INFO - Chain [1] start processing\n",
      "19:37:04 - cmdstanpy - INFO - Chain [1] done processing\n",
      "c:\\Users\\natra\\AppData\\Local\\Programs\\Python\\Python310\\lib\\site-packages\\sklearn\\metrics\\_regression.py:492: FutureWarning: 'squared' is deprecated in version 1.4 and will be removed in 1.6. To calculate the root mean squared error, use the function'root_mean_squared_error'.\n",
      "  warnings.warn(\n",
      "19:37:04 - cmdstanpy - INFO - Chain [1] start processing\n",
      "19:37:04 - cmdstanpy - INFO - Chain [1] done processing\n",
      "c:\\Users\\natra\\AppData\\Local\\Programs\\Python\\Python310\\lib\\site-packages\\sklearn\\metrics\\_regression.py:492: FutureWarning: 'squared' is deprecated in version 1.4 and will be removed in 1.6. To calculate the root mean squared error, use the function'root_mean_squared_error'.\n",
      "  warnings.warn(\n",
      "19:37:05 - cmdstanpy - INFO - Chain [1] start processing\n",
      "19:37:05 - cmdstanpy - INFO - Chain [1] done processing\n",
      "c:\\Users\\natra\\AppData\\Local\\Programs\\Python\\Python310\\lib\\site-packages\\sklearn\\metrics\\_regression.py:492: FutureWarning: 'squared' is deprecated in version 1.4 and will be removed in 1.6. To calculate the root mean squared error, use the function'root_mean_squared_error'.\n",
      "  warnings.warn(\n"
     ]
    },
    {
     "name": "stdout",
     "output_type": "stream",
     "text": [
      "R² Score: 0.765, RMSE: 3.787, MAE: 3.072\n",
      "\n",
      "Evaluating: changepoint_prior_scale=0.04, seasonality_prior_scale=6.1, seasonality_mode=multiplicative\n"
     ]
    },
    {
     "name": "stderr",
     "output_type": "stream",
     "text": [
      "19:37:06 - cmdstanpy - INFO - Chain [1] start processing\n",
      "19:37:06 - cmdstanpy - INFO - Chain [1] done processing\n",
      "c:\\Users\\natra\\AppData\\Local\\Programs\\Python\\Python310\\lib\\site-packages\\sklearn\\metrics\\_regression.py:492: FutureWarning: 'squared' is deprecated in version 1.4 and will be removed in 1.6. To calculate the root mean squared error, use the function'root_mean_squared_error'.\n",
      "  warnings.warn(\n",
      "19:37:07 - cmdstanpy - INFO - Chain [1] start processing\n",
      "19:37:07 - cmdstanpy - INFO - Chain [1] done processing\n",
      "c:\\Users\\natra\\AppData\\Local\\Programs\\Python\\Python310\\lib\\site-packages\\sklearn\\metrics\\_regression.py:492: FutureWarning: 'squared' is deprecated in version 1.4 and will be removed in 1.6. To calculate the root mean squared error, use the function'root_mean_squared_error'.\n",
      "  warnings.warn(\n",
      "19:37:08 - cmdstanpy - INFO - Chain [1] start processing\n",
      "19:37:08 - cmdstanpy - INFO - Chain [1] done processing\n",
      "c:\\Users\\natra\\AppData\\Local\\Programs\\Python\\Python310\\lib\\site-packages\\sklearn\\metrics\\_regression.py:492: FutureWarning: 'squared' is deprecated in version 1.4 and will be removed in 1.6. To calculate the root mean squared error, use the function'root_mean_squared_error'.\n",
      "  warnings.warn(\n",
      "19:37:08 - cmdstanpy - INFO - Chain [1] start processing\n",
      "19:37:08 - cmdstanpy - INFO - Chain [1] done processing\n",
      "c:\\Users\\natra\\AppData\\Local\\Programs\\Python\\Python310\\lib\\site-packages\\sklearn\\metrics\\_regression.py:492: FutureWarning: 'squared' is deprecated in version 1.4 and will be removed in 1.6. To calculate the root mean squared error, use the function'root_mean_squared_error'.\n",
      "  warnings.warn(\n",
      "19:37:09 - cmdstanpy - INFO - Chain [1] start processing\n",
      "19:37:09 - cmdstanpy - INFO - Chain [1] done processing\n",
      "c:\\Users\\natra\\AppData\\Local\\Programs\\Python\\Python310\\lib\\site-packages\\sklearn\\metrics\\_regression.py:492: FutureWarning: 'squared' is deprecated in version 1.4 and will be removed in 1.6. To calculate the root mean squared error, use the function'root_mean_squared_error'.\n",
      "  warnings.warn(\n"
     ]
    },
    {
     "name": "stdout",
     "output_type": "stream",
     "text": [
      "R² Score: 0.757, RMSE: 3.842, MAE: 3.108\n",
      "\n",
      "Evaluating: changepoint_prior_scale=0.04, seasonality_prior_scale=7.1, seasonality_mode=additive\n"
     ]
    },
    {
     "name": "stderr",
     "output_type": "stream",
     "text": [
      "19:37:10 - cmdstanpy - INFO - Chain [1] start processing\n",
      "19:37:10 - cmdstanpy - INFO - Chain [1] done processing\n",
      "c:\\Users\\natra\\AppData\\Local\\Programs\\Python\\Python310\\lib\\site-packages\\sklearn\\metrics\\_regression.py:492: FutureWarning: 'squared' is deprecated in version 1.4 and will be removed in 1.6. To calculate the root mean squared error, use the function'root_mean_squared_error'.\n",
      "  warnings.warn(\n",
      "19:37:11 - cmdstanpy - INFO - Chain [1] start processing\n",
      "19:37:11 - cmdstanpy - INFO - Chain [1] done processing\n",
      "c:\\Users\\natra\\AppData\\Local\\Programs\\Python\\Python310\\lib\\site-packages\\sklearn\\metrics\\_regression.py:492: FutureWarning: 'squared' is deprecated in version 1.4 and will be removed in 1.6. To calculate the root mean squared error, use the function'root_mean_squared_error'.\n",
      "  warnings.warn(\n",
      "19:37:12 - cmdstanpy - INFO - Chain [1] start processing\n",
      "19:37:12 - cmdstanpy - INFO - Chain [1] done processing\n",
      "c:\\Users\\natra\\AppData\\Local\\Programs\\Python\\Python310\\lib\\site-packages\\sklearn\\metrics\\_regression.py:492: FutureWarning: 'squared' is deprecated in version 1.4 and will be removed in 1.6. To calculate the root mean squared error, use the function'root_mean_squared_error'.\n",
      "  warnings.warn(\n",
      "19:37:12 - cmdstanpy - INFO - Chain [1] start processing\n",
      "19:37:12 - cmdstanpy - INFO - Chain [1] done processing\n",
      "c:\\Users\\natra\\AppData\\Local\\Programs\\Python\\Python310\\lib\\site-packages\\sklearn\\metrics\\_regression.py:492: FutureWarning: 'squared' is deprecated in version 1.4 and will be removed in 1.6. To calculate the root mean squared error, use the function'root_mean_squared_error'.\n",
      "  warnings.warn(\n",
      "19:37:13 - cmdstanpy - INFO - Chain [1] start processing\n",
      "19:37:13 - cmdstanpy - INFO - Chain [1] done processing\n",
      "c:\\Users\\natra\\AppData\\Local\\Programs\\Python\\Python310\\lib\\site-packages\\sklearn\\metrics\\_regression.py:492: FutureWarning: 'squared' is deprecated in version 1.4 and will be removed in 1.6. To calculate the root mean squared error, use the function'root_mean_squared_error'.\n",
      "  warnings.warn(\n"
     ]
    },
    {
     "name": "stdout",
     "output_type": "stream",
     "text": [
      "R² Score: 0.764, RMSE: 3.791, MAE: 3.075\n",
      "\n",
      "Evaluating: changepoint_prior_scale=0.04, seasonality_prior_scale=7.1, seasonality_mode=multiplicative\n"
     ]
    },
    {
     "name": "stderr",
     "output_type": "stream",
     "text": [
      "19:37:14 - cmdstanpy - INFO - Chain [1] start processing\n",
      "19:37:14 - cmdstanpy - INFO - Chain [1] done processing\n",
      "c:\\Users\\natra\\AppData\\Local\\Programs\\Python\\Python310\\lib\\site-packages\\sklearn\\metrics\\_regression.py:492: FutureWarning: 'squared' is deprecated in version 1.4 and will be removed in 1.6. To calculate the root mean squared error, use the function'root_mean_squared_error'.\n",
      "  warnings.warn(\n",
      "19:37:15 - cmdstanpy - INFO - Chain [1] start processing\n",
      "19:37:15 - cmdstanpy - INFO - Chain [1] done processing\n",
      "c:\\Users\\natra\\AppData\\Local\\Programs\\Python\\Python310\\lib\\site-packages\\sklearn\\metrics\\_regression.py:492: FutureWarning: 'squared' is deprecated in version 1.4 and will be removed in 1.6. To calculate the root mean squared error, use the function'root_mean_squared_error'.\n",
      "  warnings.warn(\n",
      "19:37:15 - cmdstanpy - INFO - Chain [1] start processing\n",
      "19:37:16 - cmdstanpy - INFO - Chain [1] done processing\n",
      "c:\\Users\\natra\\AppData\\Local\\Programs\\Python\\Python310\\lib\\site-packages\\sklearn\\metrics\\_regression.py:492: FutureWarning: 'squared' is deprecated in version 1.4 and will be removed in 1.6. To calculate the root mean squared error, use the function'root_mean_squared_error'.\n",
      "  warnings.warn(\n",
      "19:37:16 - cmdstanpy - INFO - Chain [1] start processing\n",
      "19:37:16 - cmdstanpy - INFO - Chain [1] done processing\n",
      "c:\\Users\\natra\\AppData\\Local\\Programs\\Python\\Python310\\lib\\site-packages\\sklearn\\metrics\\_regression.py:492: FutureWarning: 'squared' is deprecated in version 1.4 and will be removed in 1.6. To calculate the root mean squared error, use the function'root_mean_squared_error'.\n",
      "  warnings.warn(\n",
      "19:37:17 - cmdstanpy - INFO - Chain [1] start processing\n",
      "19:37:17 - cmdstanpy - INFO - Chain [1] done processing\n",
      "c:\\Users\\natra\\AppData\\Local\\Programs\\Python\\Python310\\lib\\site-packages\\sklearn\\metrics\\_regression.py:492: FutureWarning: 'squared' is deprecated in version 1.4 and will be removed in 1.6. To calculate the root mean squared error, use the function'root_mean_squared_error'.\n",
      "  warnings.warn(\n"
     ]
    },
    {
     "name": "stdout",
     "output_type": "stream",
     "text": [
      "R² Score: 0.756, RMSE: 3.856, MAE: 3.118\n",
      "\n",
      "Evaluating: changepoint_prior_scale=0.04, seasonality_prior_scale=8.1, seasonality_mode=additive\n"
     ]
    },
    {
     "name": "stderr",
     "output_type": "stream",
     "text": [
      "19:37:18 - cmdstanpy - INFO - Chain [1] start processing\n",
      "19:37:18 - cmdstanpy - INFO - Chain [1] done processing\n",
      "c:\\Users\\natra\\AppData\\Local\\Programs\\Python\\Python310\\lib\\site-packages\\sklearn\\metrics\\_regression.py:492: FutureWarning: 'squared' is deprecated in version 1.4 and will be removed in 1.6. To calculate the root mean squared error, use the function'root_mean_squared_error'.\n",
      "  warnings.warn(\n",
      "19:37:19 - cmdstanpy - INFO - Chain [1] start processing\n",
      "19:37:19 - cmdstanpy - INFO - Chain [1] done processing\n",
      "c:\\Users\\natra\\AppData\\Local\\Programs\\Python\\Python310\\lib\\site-packages\\sklearn\\metrics\\_regression.py:492: FutureWarning: 'squared' is deprecated in version 1.4 and will be removed in 1.6. To calculate the root mean squared error, use the function'root_mean_squared_error'.\n",
      "  warnings.warn(\n",
      "19:37:19 - cmdstanpy - INFO - Chain [1] start processing\n",
      "19:37:20 - cmdstanpy - INFO - Chain [1] done processing\n",
      "c:\\Users\\natra\\AppData\\Local\\Programs\\Python\\Python310\\lib\\site-packages\\sklearn\\metrics\\_regression.py:492: FutureWarning: 'squared' is deprecated in version 1.4 and will be removed in 1.6. To calculate the root mean squared error, use the function'root_mean_squared_error'.\n",
      "  warnings.warn(\n",
      "19:37:20 - cmdstanpy - INFO - Chain [1] start processing\n",
      "19:37:20 - cmdstanpy - INFO - Chain [1] done processing\n",
      "c:\\Users\\natra\\AppData\\Local\\Programs\\Python\\Python310\\lib\\site-packages\\sklearn\\metrics\\_regression.py:492: FutureWarning: 'squared' is deprecated in version 1.4 and will be removed in 1.6. To calculate the root mean squared error, use the function'root_mean_squared_error'.\n",
      "  warnings.warn(\n",
      "19:37:21 - cmdstanpy - INFO - Chain [1] start processing\n",
      "19:37:21 - cmdstanpy - INFO - Chain [1] done processing\n",
      "c:\\Users\\natra\\AppData\\Local\\Programs\\Python\\Python310\\lib\\site-packages\\sklearn\\metrics\\_regression.py:492: FutureWarning: 'squared' is deprecated in version 1.4 and will be removed in 1.6. To calculate the root mean squared error, use the function'root_mean_squared_error'.\n",
      "  warnings.warn(\n"
     ]
    },
    {
     "name": "stdout",
     "output_type": "stream",
     "text": [
      "R² Score: 0.764, RMSE: 3.790, MAE: 3.075\n",
      "\n",
      "Evaluating: changepoint_prior_scale=0.04, seasonality_prior_scale=8.1, seasonality_mode=multiplicative\n"
     ]
    },
    {
     "name": "stderr",
     "output_type": "stream",
     "text": [
      "19:37:22 - cmdstanpy - INFO - Chain [1] start processing\n",
      "19:37:22 - cmdstanpy - INFO - Chain [1] done processing\n",
      "c:\\Users\\natra\\AppData\\Local\\Programs\\Python\\Python310\\lib\\site-packages\\sklearn\\metrics\\_regression.py:492: FutureWarning: 'squared' is deprecated in version 1.4 and will be removed in 1.6. To calculate the root mean squared error, use the function'root_mean_squared_error'.\n",
      "  warnings.warn(\n",
      "19:37:23 - cmdstanpy - INFO - Chain [1] start processing\n",
      "19:37:23 - cmdstanpy - INFO - Chain [1] done processing\n",
      "c:\\Users\\natra\\AppData\\Local\\Programs\\Python\\Python310\\lib\\site-packages\\sklearn\\metrics\\_regression.py:492: FutureWarning: 'squared' is deprecated in version 1.4 and will be removed in 1.6. To calculate the root mean squared error, use the function'root_mean_squared_error'.\n",
      "  warnings.warn(\n",
      "19:37:24 - cmdstanpy - INFO - Chain [1] start processing\n",
      "19:37:24 - cmdstanpy - INFO - Chain [1] done processing\n",
      "c:\\Users\\natra\\AppData\\Local\\Programs\\Python\\Python310\\lib\\site-packages\\sklearn\\metrics\\_regression.py:492: FutureWarning: 'squared' is deprecated in version 1.4 and will be removed in 1.6. To calculate the root mean squared error, use the function'root_mean_squared_error'.\n",
      "  warnings.warn(\n",
      "19:37:25 - cmdstanpy - INFO - Chain [1] start processing\n",
      "19:37:25 - cmdstanpy - INFO - Chain [1] done processing\n",
      "c:\\Users\\natra\\AppData\\Local\\Programs\\Python\\Python310\\lib\\site-packages\\sklearn\\metrics\\_regression.py:492: FutureWarning: 'squared' is deprecated in version 1.4 and will be removed in 1.6. To calculate the root mean squared error, use the function'root_mean_squared_error'.\n",
      "  warnings.warn(\n",
      "19:37:26 - cmdstanpy - INFO - Chain [1] start processing\n",
      "19:37:26 - cmdstanpy - INFO - Chain [1] done processing\n",
      "c:\\Users\\natra\\AppData\\Local\\Programs\\Python\\Python310\\lib\\site-packages\\sklearn\\metrics\\_regression.py:492: FutureWarning: 'squared' is deprecated in version 1.4 and will be removed in 1.6. To calculate the root mean squared error, use the function'root_mean_squared_error'.\n",
      "  warnings.warn(\n"
     ]
    },
    {
     "name": "stdout",
     "output_type": "stream",
     "text": [
      "R² Score: 0.757, RMSE: 3.843, MAE: 3.108\n",
      "\n",
      "Evaluating: changepoint_prior_scale=0.04, seasonality_prior_scale=9.1, seasonality_mode=additive\n"
     ]
    },
    {
     "name": "stderr",
     "output_type": "stream",
     "text": [
      "19:37:27 - cmdstanpy - INFO - Chain [1] start processing\n",
      "19:37:27 - cmdstanpy - INFO - Chain [1] done processing\n",
      "c:\\Users\\natra\\AppData\\Local\\Programs\\Python\\Python310\\lib\\site-packages\\sklearn\\metrics\\_regression.py:492: FutureWarning: 'squared' is deprecated in version 1.4 and will be removed in 1.6. To calculate the root mean squared error, use the function'root_mean_squared_error'.\n",
      "  warnings.warn(\n",
      "19:37:28 - cmdstanpy - INFO - Chain [1] start processing\n",
      "19:37:28 - cmdstanpy - INFO - Chain [1] done processing\n",
      "c:\\Users\\natra\\AppData\\Local\\Programs\\Python\\Python310\\lib\\site-packages\\sklearn\\metrics\\_regression.py:492: FutureWarning: 'squared' is deprecated in version 1.4 and will be removed in 1.6. To calculate the root mean squared error, use the function'root_mean_squared_error'.\n",
      "  warnings.warn(\n",
      "19:37:28 - cmdstanpy - INFO - Chain [1] start processing\n",
      "19:37:29 - cmdstanpy - INFO - Chain [1] done processing\n",
      "c:\\Users\\natra\\AppData\\Local\\Programs\\Python\\Python310\\lib\\site-packages\\sklearn\\metrics\\_regression.py:492: FutureWarning: 'squared' is deprecated in version 1.4 and will be removed in 1.6. To calculate the root mean squared error, use the function'root_mean_squared_error'.\n",
      "  warnings.warn(\n",
      "19:37:29 - cmdstanpy - INFO - Chain [1] start processing\n",
      "19:37:30 - cmdstanpy - INFO - Chain [1] done processing\n",
      "c:\\Users\\natra\\AppData\\Local\\Programs\\Python\\Python310\\lib\\site-packages\\sklearn\\metrics\\_regression.py:492: FutureWarning: 'squared' is deprecated in version 1.4 and will be removed in 1.6. To calculate the root mean squared error, use the function'root_mean_squared_error'.\n",
      "  warnings.warn(\n",
      "19:37:30 - cmdstanpy - INFO - Chain [1] start processing\n",
      "19:37:30 - cmdstanpy - INFO - Chain [1] done processing\n",
      "c:\\Users\\natra\\AppData\\Local\\Programs\\Python\\Python310\\lib\\site-packages\\sklearn\\metrics\\_regression.py:492: FutureWarning: 'squared' is deprecated in version 1.4 and will be removed in 1.6. To calculate the root mean squared error, use the function'root_mean_squared_error'.\n",
      "  warnings.warn(\n"
     ]
    },
    {
     "name": "stdout",
     "output_type": "stream",
     "text": [
      "R² Score: 0.765, RMSE: 3.787, MAE: 3.073\n",
      "\n",
      "Evaluating: changepoint_prior_scale=0.04, seasonality_prior_scale=9.1, seasonality_mode=multiplicative\n"
     ]
    },
    {
     "name": "stderr",
     "output_type": "stream",
     "text": [
      "19:37:31 - cmdstanpy - INFO - Chain [1] start processing\n",
      "19:37:31 - cmdstanpy - INFO - Chain [1] done processing\n",
      "c:\\Users\\natra\\AppData\\Local\\Programs\\Python\\Python310\\lib\\site-packages\\sklearn\\metrics\\_regression.py:492: FutureWarning: 'squared' is deprecated in version 1.4 and will be removed in 1.6. To calculate the root mean squared error, use the function'root_mean_squared_error'.\n",
      "  warnings.warn(\n",
      "19:37:32 - cmdstanpy - INFO - Chain [1] start processing\n",
      "19:37:32 - cmdstanpy - INFO - Chain [1] done processing\n",
      "c:\\Users\\natra\\AppData\\Local\\Programs\\Python\\Python310\\lib\\site-packages\\sklearn\\metrics\\_regression.py:492: FutureWarning: 'squared' is deprecated in version 1.4 and will be removed in 1.6. To calculate the root mean squared error, use the function'root_mean_squared_error'.\n",
      "  warnings.warn(\n",
      "19:37:33 - cmdstanpy - INFO - Chain [1] start processing\n",
      "19:37:33 - cmdstanpy - INFO - Chain [1] done processing\n",
      "c:\\Users\\natra\\AppData\\Local\\Programs\\Python\\Python310\\lib\\site-packages\\sklearn\\metrics\\_regression.py:492: FutureWarning: 'squared' is deprecated in version 1.4 and will be removed in 1.6. To calculate the root mean squared error, use the function'root_mean_squared_error'.\n",
      "  warnings.warn(\n",
      "19:37:34 - cmdstanpy - INFO - Chain [1] start processing\n",
      "19:37:34 - cmdstanpy - INFO - Chain [1] done processing\n",
      "c:\\Users\\natra\\AppData\\Local\\Programs\\Python\\Python310\\lib\\site-packages\\sklearn\\metrics\\_regression.py:492: FutureWarning: 'squared' is deprecated in version 1.4 and will be removed in 1.6. To calculate the root mean squared error, use the function'root_mean_squared_error'.\n",
      "  warnings.warn(\n",
      "19:37:35 - cmdstanpy - INFO - Chain [1] start processing\n",
      "19:37:35 - cmdstanpy - INFO - Chain [1] done processing\n",
      "c:\\Users\\natra\\AppData\\Local\\Programs\\Python\\Python310\\lib\\site-packages\\sklearn\\metrics\\_regression.py:492: FutureWarning: 'squared' is deprecated in version 1.4 and will be removed in 1.6. To calculate the root mean squared error, use the function'root_mean_squared_error'.\n",
      "  warnings.warn(\n"
     ]
    },
    {
     "name": "stdout",
     "output_type": "stream",
     "text": [
      "R² Score: 0.757, RMSE: 3.843, MAE: 3.108\n",
      "\n",
      "Evaluating: changepoint_prior_scale=0.04, seasonality_prior_scale=10.1, seasonality_mode=additive\n"
     ]
    },
    {
     "name": "stderr",
     "output_type": "stream",
     "text": [
      "19:37:36 - cmdstanpy - INFO - Chain [1] start processing\n",
      "19:37:36 - cmdstanpy - INFO - Chain [1] done processing\n",
      "c:\\Users\\natra\\AppData\\Local\\Programs\\Python\\Python310\\lib\\site-packages\\sklearn\\metrics\\_regression.py:492: FutureWarning: 'squared' is deprecated in version 1.4 and will be removed in 1.6. To calculate the root mean squared error, use the function'root_mean_squared_error'.\n",
      "  warnings.warn(\n",
      "19:37:37 - cmdstanpy - INFO - Chain [1] start processing\n",
      "19:37:37 - cmdstanpy - INFO - Chain [1] done processing\n",
      "c:\\Users\\natra\\AppData\\Local\\Programs\\Python\\Python310\\lib\\site-packages\\sklearn\\metrics\\_regression.py:492: FutureWarning: 'squared' is deprecated in version 1.4 and will be removed in 1.6. To calculate the root mean squared error, use the function'root_mean_squared_error'.\n",
      "  warnings.warn(\n",
      "19:37:37 - cmdstanpy - INFO - Chain [1] start processing\n",
      "19:37:38 - cmdstanpy - INFO - Chain [1] done processing\n",
      "c:\\Users\\natra\\AppData\\Local\\Programs\\Python\\Python310\\lib\\site-packages\\sklearn\\metrics\\_regression.py:492: FutureWarning: 'squared' is deprecated in version 1.4 and will be removed in 1.6. To calculate the root mean squared error, use the function'root_mean_squared_error'.\n",
      "  warnings.warn(\n",
      "19:37:38 - cmdstanpy - INFO - Chain [1] start processing\n",
      "19:37:38 - cmdstanpy - INFO - Chain [1] done processing\n",
      "c:\\Users\\natra\\AppData\\Local\\Programs\\Python\\Python310\\lib\\site-packages\\sklearn\\metrics\\_regression.py:492: FutureWarning: 'squared' is deprecated in version 1.4 and will be removed in 1.6. To calculate the root mean squared error, use the function'root_mean_squared_error'.\n",
      "  warnings.warn(\n",
      "19:37:39 - cmdstanpy - INFO - Chain [1] start processing\n",
      "19:37:39 - cmdstanpy - INFO - Chain [1] done processing\n",
      "c:\\Users\\natra\\AppData\\Local\\Programs\\Python\\Python310\\lib\\site-packages\\sklearn\\metrics\\_regression.py:492: FutureWarning: 'squared' is deprecated in version 1.4 and will be removed in 1.6. To calculate the root mean squared error, use the function'root_mean_squared_error'.\n",
      "  warnings.warn(\n"
     ]
    },
    {
     "name": "stdout",
     "output_type": "stream",
     "text": [
      "R² Score: 0.764, RMSE: 3.792, MAE: 3.076\n",
      "\n",
      "Evaluating: changepoint_prior_scale=0.04, seasonality_prior_scale=10.1, seasonality_mode=multiplicative\n"
     ]
    },
    {
     "name": "stderr",
     "output_type": "stream",
     "text": [
      "19:37:40 - cmdstanpy - INFO - Chain [1] start processing\n",
      "19:37:40 - cmdstanpy - INFO - Chain [1] done processing\n",
      "c:\\Users\\natra\\AppData\\Local\\Programs\\Python\\Python310\\lib\\site-packages\\sklearn\\metrics\\_regression.py:492: FutureWarning: 'squared' is deprecated in version 1.4 and will be removed in 1.6. To calculate the root mean squared error, use the function'root_mean_squared_error'.\n",
      "  warnings.warn(\n",
      "19:37:41 - cmdstanpy - INFO - Chain [1] start processing\n",
      "19:37:41 - cmdstanpy - INFO - Chain [1] done processing\n",
      "c:\\Users\\natra\\AppData\\Local\\Programs\\Python\\Python310\\lib\\site-packages\\sklearn\\metrics\\_regression.py:492: FutureWarning: 'squared' is deprecated in version 1.4 and will be removed in 1.6. To calculate the root mean squared error, use the function'root_mean_squared_error'.\n",
      "  warnings.warn(\n",
      "19:37:41 - cmdstanpy - INFO - Chain [1] start processing\n",
      "19:37:42 - cmdstanpy - INFO - Chain [1] done processing\n",
      "c:\\Users\\natra\\AppData\\Local\\Programs\\Python\\Python310\\lib\\site-packages\\sklearn\\metrics\\_regression.py:492: FutureWarning: 'squared' is deprecated in version 1.4 and will be removed in 1.6. To calculate the root mean squared error, use the function'root_mean_squared_error'.\n",
      "  warnings.warn(\n",
      "19:37:42 - cmdstanpy - INFO - Chain [1] start processing\n",
      "19:37:42 - cmdstanpy - INFO - Chain [1] done processing\n",
      "c:\\Users\\natra\\AppData\\Local\\Programs\\Python\\Python310\\lib\\site-packages\\sklearn\\metrics\\_regression.py:492: FutureWarning: 'squared' is deprecated in version 1.4 and will be removed in 1.6. To calculate the root mean squared error, use the function'root_mean_squared_error'.\n",
      "  warnings.warn(\n",
      "19:37:43 - cmdstanpy - INFO - Chain [1] start processing\n",
      "19:37:43 - cmdstanpy - INFO - Chain [1] done processing\n",
      "c:\\Users\\natra\\AppData\\Local\\Programs\\Python\\Python310\\lib\\site-packages\\sklearn\\metrics\\_regression.py:492: FutureWarning: 'squared' is deprecated in version 1.4 and will be removed in 1.6. To calculate the root mean squared error, use the function'root_mean_squared_error'.\n",
      "  warnings.warn(\n"
     ]
    },
    {
     "name": "stdout",
     "output_type": "stream",
     "text": [
      "R² Score: 0.756, RMSE: 3.852, MAE: 3.115\n",
      "\n",
      "Evaluating: changepoint_prior_scale=0.05, seasonality_prior_scale=0.1, seasonality_mode=additive\n"
     ]
    },
    {
     "name": "stderr",
     "output_type": "stream",
     "text": [
      "19:37:44 - cmdstanpy - INFO - Chain [1] start processing\n",
      "19:37:44 - cmdstanpy - INFO - Chain [1] done processing\n",
      "c:\\Users\\natra\\AppData\\Local\\Programs\\Python\\Python310\\lib\\site-packages\\sklearn\\metrics\\_regression.py:492: FutureWarning: 'squared' is deprecated in version 1.4 and will be removed in 1.6. To calculate the root mean squared error, use the function'root_mean_squared_error'.\n",
      "  warnings.warn(\n",
      "19:37:45 - cmdstanpy - INFO - Chain [1] start processing\n",
      "19:37:45 - cmdstanpy - INFO - Chain [1] done processing\n",
      "c:\\Users\\natra\\AppData\\Local\\Programs\\Python\\Python310\\lib\\site-packages\\sklearn\\metrics\\_regression.py:492: FutureWarning: 'squared' is deprecated in version 1.4 and will be removed in 1.6. To calculate the root mean squared error, use the function'root_mean_squared_error'.\n",
      "  warnings.warn(\n",
      "19:37:45 - cmdstanpy - INFO - Chain [1] start processing\n",
      "19:37:46 - cmdstanpy - INFO - Chain [1] done processing\n",
      "c:\\Users\\natra\\AppData\\Local\\Programs\\Python\\Python310\\lib\\site-packages\\sklearn\\metrics\\_regression.py:492: FutureWarning: 'squared' is deprecated in version 1.4 and will be removed in 1.6. To calculate the root mean squared error, use the function'root_mean_squared_error'.\n",
      "  warnings.warn(\n",
      "19:37:46 - cmdstanpy - INFO - Chain [1] start processing\n",
      "19:37:46 - cmdstanpy - INFO - Chain [1] done processing\n",
      "c:\\Users\\natra\\AppData\\Local\\Programs\\Python\\Python310\\lib\\site-packages\\sklearn\\metrics\\_regression.py:492: FutureWarning: 'squared' is deprecated in version 1.4 and will be removed in 1.6. To calculate the root mean squared error, use the function'root_mean_squared_error'.\n",
      "  warnings.warn(\n",
      "19:37:47 - cmdstanpy - INFO - Chain [1] start processing\n",
      "19:37:47 - cmdstanpy - INFO - Chain [1] done processing\n",
      "c:\\Users\\natra\\AppData\\Local\\Programs\\Python\\Python310\\lib\\site-packages\\sklearn\\metrics\\_regression.py:492: FutureWarning: 'squared' is deprecated in version 1.4 and will be removed in 1.6. To calculate the root mean squared error, use the function'root_mean_squared_error'.\n",
      "  warnings.warn(\n"
     ]
    },
    {
     "name": "stdout",
     "output_type": "stream",
     "text": [
      "R² Score: 0.765, RMSE: 3.790, MAE: 3.075\n",
      "\n",
      "Evaluating: changepoint_prior_scale=0.05, seasonality_prior_scale=0.1, seasonality_mode=multiplicative\n"
     ]
    },
    {
     "name": "stderr",
     "output_type": "stream",
     "text": [
      "19:37:48 - cmdstanpy - INFO - Chain [1] start processing\n",
      "19:37:48 - cmdstanpy - INFO - Chain [1] done processing\n",
      "c:\\Users\\natra\\AppData\\Local\\Programs\\Python\\Python310\\lib\\site-packages\\sklearn\\metrics\\_regression.py:492: FutureWarning: 'squared' is deprecated in version 1.4 and will be removed in 1.6. To calculate the root mean squared error, use the function'root_mean_squared_error'.\n",
      "  warnings.warn(\n",
      "19:37:49 - cmdstanpy - INFO - Chain [1] start processing\n",
      "19:37:49 - cmdstanpy - INFO - Chain [1] done processing\n",
      "c:\\Users\\natra\\AppData\\Local\\Programs\\Python\\Python310\\lib\\site-packages\\sklearn\\metrics\\_regression.py:492: FutureWarning: 'squared' is deprecated in version 1.4 and will be removed in 1.6. To calculate the root mean squared error, use the function'root_mean_squared_error'.\n",
      "  warnings.warn(\n",
      "19:37:50 - cmdstanpy - INFO - Chain [1] start processing\n",
      "19:37:50 - cmdstanpy - INFO - Chain [1] done processing\n",
      "c:\\Users\\natra\\AppData\\Local\\Programs\\Python\\Python310\\lib\\site-packages\\sklearn\\metrics\\_regression.py:492: FutureWarning: 'squared' is deprecated in version 1.4 and will be removed in 1.6. To calculate the root mean squared error, use the function'root_mean_squared_error'.\n",
      "  warnings.warn(\n",
      "19:37:51 - cmdstanpy - INFO - Chain [1] start processing\n",
      "19:37:51 - cmdstanpy - INFO - Chain [1] done processing\n",
      "c:\\Users\\natra\\AppData\\Local\\Programs\\Python\\Python310\\lib\\site-packages\\sklearn\\metrics\\_regression.py:492: FutureWarning: 'squared' is deprecated in version 1.4 and will be removed in 1.6. To calculate the root mean squared error, use the function'root_mean_squared_error'.\n",
      "  warnings.warn(\n",
      "19:37:51 - cmdstanpy - INFO - Chain [1] start processing\n",
      "19:37:52 - cmdstanpy - INFO - Chain [1] done processing\n",
      "c:\\Users\\natra\\AppData\\Local\\Programs\\Python\\Python310\\lib\\site-packages\\sklearn\\metrics\\_regression.py:492: FutureWarning: 'squared' is deprecated in version 1.4 and will be removed in 1.6. To calculate the root mean squared error, use the function'root_mean_squared_error'.\n",
      "  warnings.warn(\n"
     ]
    },
    {
     "name": "stdout",
     "output_type": "stream",
     "text": [
      "R² Score: 0.757, RMSE: 3.850, MAE: 3.112\n",
      "\n",
      "Evaluating: changepoint_prior_scale=0.05, seasonality_prior_scale=1.1, seasonality_mode=additive\n"
     ]
    },
    {
     "name": "stderr",
     "output_type": "stream",
     "text": [
      "19:37:52 - cmdstanpy - INFO - Chain [1] start processing\n",
      "19:37:52 - cmdstanpy - INFO - Chain [1] done processing\n",
      "c:\\Users\\natra\\AppData\\Local\\Programs\\Python\\Python310\\lib\\site-packages\\sklearn\\metrics\\_regression.py:492: FutureWarning: 'squared' is deprecated in version 1.4 and will be removed in 1.6. To calculate the root mean squared error, use the function'root_mean_squared_error'.\n",
      "  warnings.warn(\n",
      "19:37:53 - cmdstanpy - INFO - Chain [1] start processing\n",
      "19:37:53 - cmdstanpy - INFO - Chain [1] done processing\n",
      "c:\\Users\\natra\\AppData\\Local\\Programs\\Python\\Python310\\lib\\site-packages\\sklearn\\metrics\\_regression.py:492: FutureWarning: 'squared' is deprecated in version 1.4 and will be removed in 1.6. To calculate the root mean squared error, use the function'root_mean_squared_error'.\n",
      "  warnings.warn(\n",
      "19:37:54 - cmdstanpy - INFO - Chain [1] start processing\n",
      "19:37:54 - cmdstanpy - INFO - Chain [1] done processing\n",
      "c:\\Users\\natra\\AppData\\Local\\Programs\\Python\\Python310\\lib\\site-packages\\sklearn\\metrics\\_regression.py:492: FutureWarning: 'squared' is deprecated in version 1.4 and will be removed in 1.6. To calculate the root mean squared error, use the function'root_mean_squared_error'.\n",
      "  warnings.warn(\n",
      "19:37:55 - cmdstanpy - INFO - Chain [1] start processing\n",
      "19:37:55 - cmdstanpy - INFO - Chain [1] done processing\n",
      "c:\\Users\\natra\\AppData\\Local\\Programs\\Python\\Python310\\lib\\site-packages\\sklearn\\metrics\\_regression.py:492: FutureWarning: 'squared' is deprecated in version 1.4 and will be removed in 1.6. To calculate the root mean squared error, use the function'root_mean_squared_error'.\n",
      "  warnings.warn(\n",
      "19:37:55 - cmdstanpy - INFO - Chain [1] start processing\n",
      "19:37:56 - cmdstanpy - INFO - Chain [1] done processing\n",
      "c:\\Users\\natra\\AppData\\Local\\Programs\\Python\\Python310\\lib\\site-packages\\sklearn\\metrics\\_regression.py:492: FutureWarning: 'squared' is deprecated in version 1.4 and will be removed in 1.6. To calculate the root mean squared error, use the function'root_mean_squared_error'.\n",
      "  warnings.warn(\n"
     ]
    },
    {
     "name": "stdout",
     "output_type": "stream",
     "text": [
      "R² Score: 0.766, RMSE: 3.781, MAE: 3.070\n",
      "\n",
      "Evaluating: changepoint_prior_scale=0.05, seasonality_prior_scale=1.1, seasonality_mode=multiplicative\n"
     ]
    },
    {
     "name": "stderr",
     "output_type": "stream",
     "text": [
      "19:37:56 - cmdstanpy - INFO - Chain [1] start processing\n",
      "19:37:57 - cmdstanpy - INFO - Chain [1] done processing\n",
      "c:\\Users\\natra\\AppData\\Local\\Programs\\Python\\Python310\\lib\\site-packages\\sklearn\\metrics\\_regression.py:492: FutureWarning: 'squared' is deprecated in version 1.4 and will be removed in 1.6. To calculate the root mean squared error, use the function'root_mean_squared_error'.\n",
      "  warnings.warn(\n",
      "19:37:57 - cmdstanpy - INFO - Chain [1] start processing\n",
      "19:37:57 - cmdstanpy - INFO - Chain [1] done processing\n",
      "c:\\Users\\natra\\AppData\\Local\\Programs\\Python\\Python310\\lib\\site-packages\\sklearn\\metrics\\_regression.py:492: FutureWarning: 'squared' is deprecated in version 1.4 and will be removed in 1.6. To calculate the root mean squared error, use the function'root_mean_squared_error'.\n",
      "  warnings.warn(\n",
      "19:37:58 - cmdstanpy - INFO - Chain [1] start processing\n",
      "19:37:58 - cmdstanpy - INFO - Chain [1] done processing\n",
      "c:\\Users\\natra\\AppData\\Local\\Programs\\Python\\Python310\\lib\\site-packages\\sklearn\\metrics\\_regression.py:492: FutureWarning: 'squared' is deprecated in version 1.4 and will be removed in 1.6. To calculate the root mean squared error, use the function'root_mean_squared_error'.\n",
      "  warnings.warn(\n",
      "19:37:59 - cmdstanpy - INFO - Chain [1] start processing\n",
      "19:37:59 - cmdstanpy - INFO - Chain [1] done processing\n",
      "c:\\Users\\natra\\AppData\\Local\\Programs\\Python\\Python310\\lib\\site-packages\\sklearn\\metrics\\_regression.py:492: FutureWarning: 'squared' is deprecated in version 1.4 and will be removed in 1.6. To calculate the root mean squared error, use the function'root_mean_squared_error'.\n",
      "  warnings.warn(\n",
      "19:37:59 - cmdstanpy - INFO - Chain [1] start processing\n",
      "19:38:00 - cmdstanpy - INFO - Chain [1] done processing\n",
      "c:\\Users\\natra\\AppData\\Local\\Programs\\Python\\Python310\\lib\\site-packages\\sklearn\\metrics\\_regression.py:492: FutureWarning: 'squared' is deprecated in version 1.4 and will be removed in 1.6. To calculate the root mean squared error, use the function'root_mean_squared_error'.\n",
      "  warnings.warn(\n"
     ]
    },
    {
     "name": "stdout",
     "output_type": "stream",
     "text": [
      "R² Score: 0.755, RMSE: 3.860, MAE: 3.120\n",
      "\n",
      "Evaluating: changepoint_prior_scale=0.05, seasonality_prior_scale=2.1, seasonality_mode=additive\n"
     ]
    },
    {
     "name": "stderr",
     "output_type": "stream",
     "text": [
      "19:38:00 - cmdstanpy - INFO - Chain [1] start processing\n",
      "19:38:01 - cmdstanpy - INFO - Chain [1] done processing\n",
      "c:\\Users\\natra\\AppData\\Local\\Programs\\Python\\Python310\\lib\\site-packages\\sklearn\\metrics\\_regression.py:492: FutureWarning: 'squared' is deprecated in version 1.4 and will be removed in 1.6. To calculate the root mean squared error, use the function'root_mean_squared_error'.\n",
      "  warnings.warn(\n",
      "19:38:01 - cmdstanpy - INFO - Chain [1] start processing\n",
      "19:38:01 - cmdstanpy - INFO - Chain [1] done processing\n",
      "c:\\Users\\natra\\AppData\\Local\\Programs\\Python\\Python310\\lib\\site-packages\\sklearn\\metrics\\_regression.py:492: FutureWarning: 'squared' is deprecated in version 1.4 and will be removed in 1.6. To calculate the root mean squared error, use the function'root_mean_squared_error'.\n",
      "  warnings.warn(\n",
      "19:38:02 - cmdstanpy - INFO - Chain [1] start processing\n",
      "19:38:02 - cmdstanpy - INFO - Chain [1] done processing\n",
      "c:\\Users\\natra\\AppData\\Local\\Programs\\Python\\Python310\\lib\\site-packages\\sklearn\\metrics\\_regression.py:492: FutureWarning: 'squared' is deprecated in version 1.4 and will be removed in 1.6. To calculate the root mean squared error, use the function'root_mean_squared_error'.\n",
      "  warnings.warn(\n",
      "19:38:03 - cmdstanpy - INFO - Chain [1] start processing\n",
      "19:38:03 - cmdstanpy - INFO - Chain [1] done processing\n",
      "c:\\Users\\natra\\AppData\\Local\\Programs\\Python\\Python310\\lib\\site-packages\\sklearn\\metrics\\_regression.py:492: FutureWarning: 'squared' is deprecated in version 1.4 and will be removed in 1.6. To calculate the root mean squared error, use the function'root_mean_squared_error'.\n",
      "  warnings.warn(\n",
      "19:38:04 - cmdstanpy - INFO - Chain [1] start processing\n",
      "19:38:04 - cmdstanpy - INFO - Chain [1] done processing\n",
      "c:\\Users\\natra\\AppData\\Local\\Programs\\Python\\Python310\\lib\\site-packages\\sklearn\\metrics\\_regression.py:492: FutureWarning: 'squared' is deprecated in version 1.4 and will be removed in 1.6. To calculate the root mean squared error, use the function'root_mean_squared_error'.\n",
      "  warnings.warn(\n"
     ]
    },
    {
     "name": "stdout",
     "output_type": "stream",
     "text": [
      "R² Score: 0.765, RMSE: 3.788, MAE: 3.075\n",
      "\n",
      "Evaluating: changepoint_prior_scale=0.05, seasonality_prior_scale=2.1, seasonality_mode=multiplicative\n"
     ]
    },
    {
     "name": "stderr",
     "output_type": "stream",
     "text": [
      "19:38:04 - cmdstanpy - INFO - Chain [1] start processing\n",
      "19:38:05 - cmdstanpy - INFO - Chain [1] done processing\n",
      "c:\\Users\\natra\\AppData\\Local\\Programs\\Python\\Python310\\lib\\site-packages\\sklearn\\metrics\\_regression.py:492: FutureWarning: 'squared' is deprecated in version 1.4 and will be removed in 1.6. To calculate the root mean squared error, use the function'root_mean_squared_error'.\n",
      "  warnings.warn(\n",
      "19:38:05 - cmdstanpy - INFO - Chain [1] start processing\n",
      "19:38:05 - cmdstanpy - INFO - Chain [1] done processing\n",
      "c:\\Users\\natra\\AppData\\Local\\Programs\\Python\\Python310\\lib\\site-packages\\sklearn\\metrics\\_regression.py:492: FutureWarning: 'squared' is deprecated in version 1.4 and will be removed in 1.6. To calculate the root mean squared error, use the function'root_mean_squared_error'.\n",
      "  warnings.warn(\n",
      "19:38:06 - cmdstanpy - INFO - Chain [1] start processing\n",
      "19:38:06 - cmdstanpy - INFO - Chain [1] done processing\n",
      "c:\\Users\\natra\\AppData\\Local\\Programs\\Python\\Python310\\lib\\site-packages\\sklearn\\metrics\\_regression.py:492: FutureWarning: 'squared' is deprecated in version 1.4 and will be removed in 1.6. To calculate the root mean squared error, use the function'root_mean_squared_error'.\n",
      "  warnings.warn(\n",
      "19:38:07 - cmdstanpy - INFO - Chain [1] start processing\n",
      "19:38:07 - cmdstanpy - INFO - Chain [1] done processing\n",
      "c:\\Users\\natra\\AppData\\Local\\Programs\\Python\\Python310\\lib\\site-packages\\sklearn\\metrics\\_regression.py:492: FutureWarning: 'squared' is deprecated in version 1.4 and will be removed in 1.6. To calculate the root mean squared error, use the function'root_mean_squared_error'.\n",
      "  warnings.warn(\n",
      "19:38:08 - cmdstanpy - INFO - Chain [1] start processing\n",
      "19:38:08 - cmdstanpy - INFO - Chain [1] done processing\n",
      "c:\\Users\\natra\\AppData\\Local\\Programs\\Python\\Python310\\lib\\site-packages\\sklearn\\metrics\\_regression.py:492: FutureWarning: 'squared' is deprecated in version 1.4 and will be removed in 1.6. To calculate the root mean squared error, use the function'root_mean_squared_error'.\n",
      "  warnings.warn(\n"
     ]
    },
    {
     "name": "stdout",
     "output_type": "stream",
     "text": [
      "R² Score: 0.754, RMSE: 3.868, MAE: 3.126\n",
      "\n",
      "Evaluating: changepoint_prior_scale=0.05, seasonality_prior_scale=3.1, seasonality_mode=additive\n"
     ]
    },
    {
     "name": "stderr",
     "output_type": "stream",
     "text": [
      "19:38:09 - cmdstanpy - INFO - Chain [1] start processing\n",
      "19:38:09 - cmdstanpy - INFO - Chain [1] done processing\n",
      "c:\\Users\\natra\\AppData\\Local\\Programs\\Python\\Python310\\lib\\site-packages\\sklearn\\metrics\\_regression.py:492: FutureWarning: 'squared' is deprecated in version 1.4 and will be removed in 1.6. To calculate the root mean squared error, use the function'root_mean_squared_error'.\n",
      "  warnings.warn(\n",
      "19:38:10 - cmdstanpy - INFO - Chain [1] start processing\n",
      "19:38:10 - cmdstanpy - INFO - Chain [1] done processing\n",
      "c:\\Users\\natra\\AppData\\Local\\Programs\\Python\\Python310\\lib\\site-packages\\sklearn\\metrics\\_regression.py:492: FutureWarning: 'squared' is deprecated in version 1.4 and will be removed in 1.6. To calculate the root mean squared error, use the function'root_mean_squared_error'.\n",
      "  warnings.warn(\n",
      "19:38:11 - cmdstanpy - INFO - Chain [1] start processing\n",
      "19:38:11 - cmdstanpy - INFO - Chain [1] done processing\n",
      "c:\\Users\\natra\\AppData\\Local\\Programs\\Python\\Python310\\lib\\site-packages\\sklearn\\metrics\\_regression.py:492: FutureWarning: 'squared' is deprecated in version 1.4 and will be removed in 1.6. To calculate the root mean squared error, use the function'root_mean_squared_error'.\n",
      "  warnings.warn(\n",
      "19:38:12 - cmdstanpy - INFO - Chain [1] start processing\n",
      "19:38:12 - cmdstanpy - INFO - Chain [1] done processing\n",
      "c:\\Users\\natra\\AppData\\Local\\Programs\\Python\\Python310\\lib\\site-packages\\sklearn\\metrics\\_regression.py:492: FutureWarning: 'squared' is deprecated in version 1.4 and will be removed in 1.6. To calculate the root mean squared error, use the function'root_mean_squared_error'.\n",
      "  warnings.warn(\n",
      "19:38:12 - cmdstanpy - INFO - Chain [1] start processing\n",
      "19:38:13 - cmdstanpy - INFO - Chain [1] done processing\n",
      "c:\\Users\\natra\\AppData\\Local\\Programs\\Python\\Python310\\lib\\site-packages\\sklearn\\metrics\\_regression.py:492: FutureWarning: 'squared' is deprecated in version 1.4 and will be removed in 1.6. To calculate the root mean squared error, use the function'root_mean_squared_error'.\n",
      "  warnings.warn(\n"
     ]
    },
    {
     "name": "stdout",
     "output_type": "stream",
     "text": [
      "R² Score: 0.766, RMSE: 3.782, MAE: 3.071\n",
      "\n",
      "Evaluating: changepoint_prior_scale=0.05, seasonality_prior_scale=3.1, seasonality_mode=multiplicative\n"
     ]
    },
    {
     "name": "stderr",
     "output_type": "stream",
     "text": [
      "19:38:14 - cmdstanpy - INFO - Chain [1] start processing\n",
      "19:38:14 - cmdstanpy - INFO - Chain [1] done processing\n",
      "c:\\Users\\natra\\AppData\\Local\\Programs\\Python\\Python310\\lib\\site-packages\\sklearn\\metrics\\_regression.py:492: FutureWarning: 'squared' is deprecated in version 1.4 and will be removed in 1.6. To calculate the root mean squared error, use the function'root_mean_squared_error'.\n",
      "  warnings.warn(\n",
      "19:38:14 - cmdstanpy - INFO - Chain [1] start processing\n",
      "19:38:15 - cmdstanpy - INFO - Chain [1] done processing\n",
      "c:\\Users\\natra\\AppData\\Local\\Programs\\Python\\Python310\\lib\\site-packages\\sklearn\\metrics\\_regression.py:492: FutureWarning: 'squared' is deprecated in version 1.4 and will be removed in 1.6. To calculate the root mean squared error, use the function'root_mean_squared_error'.\n",
      "  warnings.warn(\n",
      "19:38:15 - cmdstanpy - INFO - Chain [1] start processing\n",
      "19:38:15 - cmdstanpy - INFO - Chain [1] done processing\n",
      "c:\\Users\\natra\\AppData\\Local\\Programs\\Python\\Python310\\lib\\site-packages\\sklearn\\metrics\\_regression.py:492: FutureWarning: 'squared' is deprecated in version 1.4 and will be removed in 1.6. To calculate the root mean squared error, use the function'root_mean_squared_error'.\n",
      "  warnings.warn(\n",
      "19:38:16 - cmdstanpy - INFO - Chain [1] start processing\n",
      "19:38:16 - cmdstanpy - INFO - Chain [1] done processing\n",
      "c:\\Users\\natra\\AppData\\Local\\Programs\\Python\\Python310\\lib\\site-packages\\sklearn\\metrics\\_regression.py:492: FutureWarning: 'squared' is deprecated in version 1.4 and will be removed in 1.6. To calculate the root mean squared error, use the function'root_mean_squared_error'.\n",
      "  warnings.warn(\n",
      "19:38:17 - cmdstanpy - INFO - Chain [1] start processing\n",
      "19:38:17 - cmdstanpy - INFO - Chain [1] done processing\n",
      "c:\\Users\\natra\\AppData\\Local\\Programs\\Python\\Python310\\lib\\site-packages\\sklearn\\metrics\\_regression.py:492: FutureWarning: 'squared' is deprecated in version 1.4 and will be removed in 1.6. To calculate the root mean squared error, use the function'root_mean_squared_error'.\n",
      "  warnings.warn(\n"
     ]
    },
    {
     "name": "stdout",
     "output_type": "stream",
     "text": [
      "R² Score: 0.754, RMSE: 3.869, MAE: 3.127\n",
      "\n",
      "Evaluating: changepoint_prior_scale=0.05, seasonality_prior_scale=4.1, seasonality_mode=additive\n"
     ]
    },
    {
     "name": "stderr",
     "output_type": "stream",
     "text": [
      "19:38:18 - cmdstanpy - INFO - Chain [1] start processing\n",
      "19:38:18 - cmdstanpy - INFO - Chain [1] done processing\n",
      "c:\\Users\\natra\\AppData\\Local\\Programs\\Python\\Python310\\lib\\site-packages\\sklearn\\metrics\\_regression.py:492: FutureWarning: 'squared' is deprecated in version 1.4 and will be removed in 1.6. To calculate the root mean squared error, use the function'root_mean_squared_error'.\n",
      "  warnings.warn(\n",
      "19:38:19 - cmdstanpy - INFO - Chain [1] start processing\n",
      "19:38:19 - cmdstanpy - INFO - Chain [1] done processing\n",
      "c:\\Users\\natra\\AppData\\Local\\Programs\\Python\\Python310\\lib\\site-packages\\sklearn\\metrics\\_regression.py:492: FutureWarning: 'squared' is deprecated in version 1.4 and will be removed in 1.6. To calculate the root mean squared error, use the function'root_mean_squared_error'.\n",
      "  warnings.warn(\n",
      "19:38:20 - cmdstanpy - INFO - Chain [1] start processing\n",
      "19:38:20 - cmdstanpy - INFO - Chain [1] done processing\n",
      "c:\\Users\\natra\\AppData\\Local\\Programs\\Python\\Python310\\lib\\site-packages\\sklearn\\metrics\\_regression.py:492: FutureWarning: 'squared' is deprecated in version 1.4 and will be removed in 1.6. To calculate the root mean squared error, use the function'root_mean_squared_error'.\n",
      "  warnings.warn(\n",
      "19:38:21 - cmdstanpy - INFO - Chain [1] start processing\n",
      "19:38:21 - cmdstanpy - INFO - Chain [1] done processing\n",
      "c:\\Users\\natra\\AppData\\Local\\Programs\\Python\\Python310\\lib\\site-packages\\sklearn\\metrics\\_regression.py:492: FutureWarning: 'squared' is deprecated in version 1.4 and will be removed in 1.6. To calculate the root mean squared error, use the function'root_mean_squared_error'.\n",
      "  warnings.warn(\n",
      "19:38:21 - cmdstanpy - INFO - Chain [1] start processing\n",
      "19:38:21 - cmdstanpy - INFO - Chain [1] done processing\n",
      "c:\\Users\\natra\\AppData\\Local\\Programs\\Python\\Python310\\lib\\site-packages\\sklearn\\metrics\\_regression.py:492: FutureWarning: 'squared' is deprecated in version 1.4 and will be removed in 1.6. To calculate the root mean squared error, use the function'root_mean_squared_error'.\n",
      "  warnings.warn(\n"
     ]
    },
    {
     "name": "stdout",
     "output_type": "stream",
     "text": [
      "R² Score: 0.768, RMSE: 3.766, MAE: 3.067\n",
      "\n",
      "Evaluating: changepoint_prior_scale=0.05, seasonality_prior_scale=4.1, seasonality_mode=multiplicative\n"
     ]
    },
    {
     "name": "stderr",
     "output_type": "stream",
     "text": [
      "19:38:22 - cmdstanpy - INFO - Chain [1] start processing\n",
      "19:38:22 - cmdstanpy - INFO - Chain [1] done processing\n",
      "c:\\Users\\natra\\AppData\\Local\\Programs\\Python\\Python310\\lib\\site-packages\\sklearn\\metrics\\_regression.py:492: FutureWarning: 'squared' is deprecated in version 1.4 and will be removed in 1.6. To calculate the root mean squared error, use the function'root_mean_squared_error'.\n",
      "  warnings.warn(\n",
      "19:38:23 - cmdstanpy - INFO - Chain [1] start processing\n",
      "19:38:23 - cmdstanpy - INFO - Chain [1] done processing\n",
      "c:\\Users\\natra\\AppData\\Local\\Programs\\Python\\Python310\\lib\\site-packages\\sklearn\\metrics\\_regression.py:492: FutureWarning: 'squared' is deprecated in version 1.4 and will be removed in 1.6. To calculate the root mean squared error, use the function'root_mean_squared_error'.\n",
      "  warnings.warn(\n",
      "19:38:24 - cmdstanpy - INFO - Chain [1] start processing\n",
      "19:38:24 - cmdstanpy - INFO - Chain [1] done processing\n",
      "c:\\Users\\natra\\AppData\\Local\\Programs\\Python\\Python310\\lib\\site-packages\\sklearn\\metrics\\_regression.py:492: FutureWarning: 'squared' is deprecated in version 1.4 and will be removed in 1.6. To calculate the root mean squared error, use the function'root_mean_squared_error'.\n",
      "  warnings.warn(\n",
      "19:38:24 - cmdstanpy - INFO - Chain [1] start processing\n",
      "19:38:25 - cmdstanpy - INFO - Chain [1] done processing\n",
      "c:\\Users\\natra\\AppData\\Local\\Programs\\Python\\Python310\\lib\\site-packages\\sklearn\\metrics\\_regression.py:492: FutureWarning: 'squared' is deprecated in version 1.4 and will be removed in 1.6. To calculate the root mean squared error, use the function'root_mean_squared_error'.\n",
      "  warnings.warn(\n",
      "19:38:25 - cmdstanpy - INFO - Chain [1] start processing\n",
      "19:38:25 - cmdstanpy - INFO - Chain [1] done processing\n",
      "c:\\Users\\natra\\AppData\\Local\\Programs\\Python\\Python310\\lib\\site-packages\\sklearn\\metrics\\_regression.py:492: FutureWarning: 'squared' is deprecated in version 1.4 and will be removed in 1.6. To calculate the root mean squared error, use the function'root_mean_squared_error'.\n",
      "  warnings.warn(\n"
     ]
    },
    {
     "name": "stdout",
     "output_type": "stream",
     "text": [
      "R² Score: 0.757, RMSE: 3.851, MAE: 3.114\n",
      "\n",
      "Evaluating: changepoint_prior_scale=0.05, seasonality_prior_scale=5.1, seasonality_mode=additive\n"
     ]
    },
    {
     "name": "stderr",
     "output_type": "stream",
     "text": [
      "19:38:26 - cmdstanpy - INFO - Chain [1] start processing\n",
      "19:38:26 - cmdstanpy - INFO - Chain [1] done processing\n",
      "c:\\Users\\natra\\AppData\\Local\\Programs\\Python\\Python310\\lib\\site-packages\\sklearn\\metrics\\_regression.py:492: FutureWarning: 'squared' is deprecated in version 1.4 and will be removed in 1.6. To calculate the root mean squared error, use the function'root_mean_squared_error'.\n",
      "  warnings.warn(\n",
      "19:38:27 - cmdstanpy - INFO - Chain [1] start processing\n",
      "19:38:27 - cmdstanpy - INFO - Chain [1] done processing\n",
      "c:\\Users\\natra\\AppData\\Local\\Programs\\Python\\Python310\\lib\\site-packages\\sklearn\\metrics\\_regression.py:492: FutureWarning: 'squared' is deprecated in version 1.4 and will be removed in 1.6. To calculate the root mean squared error, use the function'root_mean_squared_error'.\n",
      "  warnings.warn(\n",
      "19:38:28 - cmdstanpy - INFO - Chain [1] start processing\n",
      "19:38:28 - cmdstanpy - INFO - Chain [1] done processing\n",
      "c:\\Users\\natra\\AppData\\Local\\Programs\\Python\\Python310\\lib\\site-packages\\sklearn\\metrics\\_regression.py:492: FutureWarning: 'squared' is deprecated in version 1.4 and will be removed in 1.6. To calculate the root mean squared error, use the function'root_mean_squared_error'.\n",
      "  warnings.warn(\n",
      "19:38:29 - cmdstanpy - INFO - Chain [1] start processing\n",
      "19:38:29 - cmdstanpy - INFO - Chain [1] done processing\n",
      "c:\\Users\\natra\\AppData\\Local\\Programs\\Python\\Python310\\lib\\site-packages\\sklearn\\metrics\\_regression.py:492: FutureWarning: 'squared' is deprecated in version 1.4 and will be removed in 1.6. To calculate the root mean squared error, use the function'root_mean_squared_error'.\n",
      "  warnings.warn(\n",
      "19:38:29 - cmdstanpy - INFO - Chain [1] start processing\n",
      "19:38:29 - cmdstanpy - INFO - Chain [1] done processing\n",
      "c:\\Users\\natra\\AppData\\Local\\Programs\\Python\\Python310\\lib\\site-packages\\sklearn\\metrics\\_regression.py:492: FutureWarning: 'squared' is deprecated in version 1.4 and will be removed in 1.6. To calculate the root mean squared error, use the function'root_mean_squared_error'.\n",
      "  warnings.warn(\n"
     ]
    },
    {
     "name": "stdout",
     "output_type": "stream",
     "text": [
      "R² Score: 0.768, RMSE: 3.765, MAE: 3.065\n",
      "\n",
      "Evaluating: changepoint_prior_scale=0.05, seasonality_prior_scale=5.1, seasonality_mode=multiplicative\n"
     ]
    },
    {
     "name": "stderr",
     "output_type": "stream",
     "text": [
      "19:38:30 - cmdstanpy - INFO - Chain [1] start processing\n",
      "19:38:30 - cmdstanpy - INFO - Chain [1] done processing\n",
      "c:\\Users\\natra\\AppData\\Local\\Programs\\Python\\Python310\\lib\\site-packages\\sklearn\\metrics\\_regression.py:492: FutureWarning: 'squared' is deprecated in version 1.4 and will be removed in 1.6. To calculate the root mean squared error, use the function'root_mean_squared_error'.\n",
      "  warnings.warn(\n",
      "19:38:31 - cmdstanpy - INFO - Chain [1] start processing\n",
      "19:38:31 - cmdstanpy - INFO - Chain [1] done processing\n",
      "c:\\Users\\natra\\AppData\\Local\\Programs\\Python\\Python310\\lib\\site-packages\\sklearn\\metrics\\_regression.py:492: FutureWarning: 'squared' is deprecated in version 1.4 and will be removed in 1.6. To calculate the root mean squared error, use the function'root_mean_squared_error'.\n",
      "  warnings.warn(\n",
      "19:38:32 - cmdstanpy - INFO - Chain [1] start processing\n",
      "19:38:32 - cmdstanpy - INFO - Chain [1] done processing\n",
      "c:\\Users\\natra\\AppData\\Local\\Programs\\Python\\Python310\\lib\\site-packages\\sklearn\\metrics\\_regression.py:492: FutureWarning: 'squared' is deprecated in version 1.4 and will be removed in 1.6. To calculate the root mean squared error, use the function'root_mean_squared_error'.\n",
      "  warnings.warn(\n",
      "19:38:33 - cmdstanpy - INFO - Chain [1] start processing\n",
      "19:38:33 - cmdstanpy - INFO - Chain [1] done processing\n",
      "c:\\Users\\natra\\AppData\\Local\\Programs\\Python\\Python310\\lib\\site-packages\\sklearn\\metrics\\_regression.py:492: FutureWarning: 'squared' is deprecated in version 1.4 and will be removed in 1.6. To calculate the root mean squared error, use the function'root_mean_squared_error'.\n",
      "  warnings.warn(\n",
      "19:38:34 - cmdstanpy - INFO - Chain [1] start processing\n",
      "19:38:34 - cmdstanpy - INFO - Chain [1] done processing\n",
      "c:\\Users\\natra\\AppData\\Local\\Programs\\Python\\Python310\\lib\\site-packages\\sklearn\\metrics\\_regression.py:492: FutureWarning: 'squared' is deprecated in version 1.4 and will be removed in 1.6. To calculate the root mean squared error, use the function'root_mean_squared_error'.\n",
      "  warnings.warn(\n"
     ]
    },
    {
     "name": "stdout",
     "output_type": "stream",
     "text": [
      "R² Score: 0.753, RMSE: 3.874, MAE: 3.131\n",
      "\n",
      "Evaluating: changepoint_prior_scale=0.05, seasonality_prior_scale=6.1, seasonality_mode=additive\n"
     ]
    },
    {
     "name": "stderr",
     "output_type": "stream",
     "text": [
      "19:38:34 - cmdstanpy - INFO - Chain [1] start processing\n",
      "19:38:35 - cmdstanpy - INFO - Chain [1] done processing\n",
      "c:\\Users\\natra\\AppData\\Local\\Programs\\Python\\Python310\\lib\\site-packages\\sklearn\\metrics\\_regression.py:492: FutureWarning: 'squared' is deprecated in version 1.4 and will be removed in 1.6. To calculate the root mean squared error, use the function'root_mean_squared_error'.\n",
      "  warnings.warn(\n",
      "19:38:35 - cmdstanpy - INFO - Chain [1] start processing\n",
      "19:38:36 - cmdstanpy - INFO - Chain [1] done processing\n",
      "c:\\Users\\natra\\AppData\\Local\\Programs\\Python\\Python310\\lib\\site-packages\\sklearn\\metrics\\_regression.py:492: FutureWarning: 'squared' is deprecated in version 1.4 and will be removed in 1.6. To calculate the root mean squared error, use the function'root_mean_squared_error'.\n",
      "  warnings.warn(\n",
      "19:38:37 - cmdstanpy - INFO - Chain [1] start processing\n",
      "19:38:37 - cmdstanpy - INFO - Chain [1] done processing\n",
      "c:\\Users\\natra\\AppData\\Local\\Programs\\Python\\Python310\\lib\\site-packages\\sklearn\\metrics\\_regression.py:492: FutureWarning: 'squared' is deprecated in version 1.4 and will be removed in 1.6. To calculate the root mean squared error, use the function'root_mean_squared_error'.\n",
      "  warnings.warn(\n",
      "19:38:38 - cmdstanpy - INFO - Chain [1] start processing\n",
      "19:38:38 - cmdstanpy - INFO - Chain [1] done processing\n",
      "c:\\Users\\natra\\AppData\\Local\\Programs\\Python\\Python310\\lib\\site-packages\\sklearn\\metrics\\_regression.py:492: FutureWarning: 'squared' is deprecated in version 1.4 and will be removed in 1.6. To calculate the root mean squared error, use the function'root_mean_squared_error'.\n",
      "  warnings.warn(\n",
      "19:38:39 - cmdstanpy - INFO - Chain [1] start processing\n",
      "19:38:39 - cmdstanpy - INFO - Chain [1] done processing\n",
      "c:\\Users\\natra\\AppData\\Local\\Programs\\Python\\Python310\\lib\\site-packages\\sklearn\\metrics\\_regression.py:492: FutureWarning: 'squared' is deprecated in version 1.4 and will be removed in 1.6. To calculate the root mean squared error, use the function'root_mean_squared_error'.\n",
      "  warnings.warn(\n"
     ]
    },
    {
     "name": "stdout",
     "output_type": "stream",
     "text": [
      "R² Score: 0.765, RMSE: 3.787, MAE: 3.074\n",
      "\n",
      "Evaluating: changepoint_prior_scale=0.05, seasonality_prior_scale=6.1, seasonality_mode=multiplicative\n"
     ]
    },
    {
     "name": "stderr",
     "output_type": "stream",
     "text": [
      "19:38:40 - cmdstanpy - INFO - Chain [1] start processing\n",
      "19:38:40 - cmdstanpy - INFO - Chain [1] done processing\n",
      "c:\\Users\\natra\\AppData\\Local\\Programs\\Python\\Python310\\lib\\site-packages\\sklearn\\metrics\\_regression.py:492: FutureWarning: 'squared' is deprecated in version 1.4 and will be removed in 1.6. To calculate the root mean squared error, use the function'root_mean_squared_error'.\n",
      "  warnings.warn(\n",
      "19:38:41 - cmdstanpy - INFO - Chain [1] start processing\n",
      "19:38:41 - cmdstanpy - INFO - Chain [1] done processing\n",
      "c:\\Users\\natra\\AppData\\Local\\Programs\\Python\\Python310\\lib\\site-packages\\sklearn\\metrics\\_regression.py:492: FutureWarning: 'squared' is deprecated in version 1.4 and will be removed in 1.6. To calculate the root mean squared error, use the function'root_mean_squared_error'.\n",
      "  warnings.warn(\n",
      "19:38:42 - cmdstanpy - INFO - Chain [1] start processing\n",
      "19:38:42 - cmdstanpy - INFO - Chain [1] done processing\n",
      "c:\\Users\\natra\\AppData\\Local\\Programs\\Python\\Python310\\lib\\site-packages\\sklearn\\metrics\\_regression.py:492: FutureWarning: 'squared' is deprecated in version 1.4 and will be removed in 1.6. To calculate the root mean squared error, use the function'root_mean_squared_error'.\n",
      "  warnings.warn(\n",
      "19:38:42 - cmdstanpy - INFO - Chain [1] start processing\n",
      "19:38:42 - cmdstanpy - INFO - Chain [1] done processing\n",
      "c:\\Users\\natra\\AppData\\Local\\Programs\\Python\\Python310\\lib\\site-packages\\sklearn\\metrics\\_regression.py:492: FutureWarning: 'squared' is deprecated in version 1.4 and will be removed in 1.6. To calculate the root mean squared error, use the function'root_mean_squared_error'.\n",
      "  warnings.warn(\n",
      "19:38:43 - cmdstanpy - INFO - Chain [1] start processing\n",
      "19:38:43 - cmdstanpy - INFO - Chain [1] done processing\n",
      "c:\\Users\\natra\\AppData\\Local\\Programs\\Python\\Python310\\lib\\site-packages\\sklearn\\metrics\\_regression.py:492: FutureWarning: 'squared' is deprecated in version 1.4 and will be removed in 1.6. To calculate the root mean squared error, use the function'root_mean_squared_error'.\n",
      "  warnings.warn(\n"
     ]
    },
    {
     "name": "stdout",
     "output_type": "stream",
     "text": [
      "R² Score: 0.755, RMSE: 3.863, MAE: 3.122\n",
      "\n",
      "Evaluating: changepoint_prior_scale=0.05, seasonality_prior_scale=7.1, seasonality_mode=additive\n"
     ]
    },
    {
     "name": "stderr",
     "output_type": "stream",
     "text": [
      "19:38:44 - cmdstanpy - INFO - Chain [1] start processing\n",
      "19:38:44 - cmdstanpy - INFO - Chain [1] done processing\n",
      "c:\\Users\\natra\\AppData\\Local\\Programs\\Python\\Python310\\lib\\site-packages\\sklearn\\metrics\\_regression.py:492: FutureWarning: 'squared' is deprecated in version 1.4 and will be removed in 1.6. To calculate the root mean squared error, use the function'root_mean_squared_error'.\n",
      "  warnings.warn(\n",
      "19:38:45 - cmdstanpy - INFO - Chain [1] start processing\n",
      "19:38:45 - cmdstanpy - INFO - Chain [1] done processing\n",
      "c:\\Users\\natra\\AppData\\Local\\Programs\\Python\\Python310\\lib\\site-packages\\sklearn\\metrics\\_regression.py:492: FutureWarning: 'squared' is deprecated in version 1.4 and will be removed in 1.6. To calculate the root mean squared error, use the function'root_mean_squared_error'.\n",
      "  warnings.warn(\n",
      "19:38:46 - cmdstanpy - INFO - Chain [1] start processing\n",
      "19:38:46 - cmdstanpy - INFO - Chain [1] done processing\n",
      "c:\\Users\\natra\\AppData\\Local\\Programs\\Python\\Python310\\lib\\site-packages\\sklearn\\metrics\\_regression.py:492: FutureWarning: 'squared' is deprecated in version 1.4 and will be removed in 1.6. To calculate the root mean squared error, use the function'root_mean_squared_error'.\n",
      "  warnings.warn(\n",
      "19:38:47 - cmdstanpy - INFO - Chain [1] start processing\n",
      "19:38:47 - cmdstanpy - INFO - Chain [1] done processing\n",
      "c:\\Users\\natra\\AppData\\Local\\Programs\\Python\\Python310\\lib\\site-packages\\sklearn\\metrics\\_regression.py:492: FutureWarning: 'squared' is deprecated in version 1.4 and will be removed in 1.6. To calculate the root mean squared error, use the function'root_mean_squared_error'.\n",
      "  warnings.warn(\n",
      "19:38:48 - cmdstanpy - INFO - Chain [1] start processing\n",
      "19:38:48 - cmdstanpy - INFO - Chain [1] done processing\n",
      "c:\\Users\\natra\\AppData\\Local\\Programs\\Python\\Python310\\lib\\site-packages\\sklearn\\metrics\\_regression.py:492: FutureWarning: 'squared' is deprecated in version 1.4 and will be removed in 1.6. To calculate the root mean squared error, use the function'root_mean_squared_error'.\n",
      "  warnings.warn(\n"
     ]
    },
    {
     "name": "stdout",
     "output_type": "stream",
     "text": [
      "R² Score: 0.765, RMSE: 3.786, MAE: 3.074\n",
      "\n",
      "Evaluating: changepoint_prior_scale=0.05, seasonality_prior_scale=7.1, seasonality_mode=multiplicative\n"
     ]
    },
    {
     "name": "stderr",
     "output_type": "stream",
     "text": [
      "19:38:49 - cmdstanpy - INFO - Chain [1] start processing\n",
      "19:38:49 - cmdstanpy - INFO - Chain [1] done processing\n",
      "c:\\Users\\natra\\AppData\\Local\\Programs\\Python\\Python310\\lib\\site-packages\\sklearn\\metrics\\_regression.py:492: FutureWarning: 'squared' is deprecated in version 1.4 and will be removed in 1.6. To calculate the root mean squared error, use the function'root_mean_squared_error'.\n",
      "  warnings.warn(\n",
      "19:38:50 - cmdstanpy - INFO - Chain [1] start processing\n",
      "19:38:50 - cmdstanpy - INFO - Chain [1] done processing\n",
      "c:\\Users\\natra\\AppData\\Local\\Programs\\Python\\Python310\\lib\\site-packages\\sklearn\\metrics\\_regression.py:492: FutureWarning: 'squared' is deprecated in version 1.4 and will be removed in 1.6. To calculate the root mean squared error, use the function'root_mean_squared_error'.\n",
      "  warnings.warn(\n",
      "19:38:50 - cmdstanpy - INFO - Chain [1] start processing\n",
      "19:38:51 - cmdstanpy - INFO - Chain [1] done processing\n",
      "c:\\Users\\natra\\AppData\\Local\\Programs\\Python\\Python310\\lib\\site-packages\\sklearn\\metrics\\_regression.py:492: FutureWarning: 'squared' is deprecated in version 1.4 and will be removed in 1.6. To calculate the root mean squared error, use the function'root_mean_squared_error'.\n",
      "  warnings.warn(\n",
      "19:38:51 - cmdstanpy - INFO - Chain [1] start processing\n",
      "19:38:51 - cmdstanpy - INFO - Chain [1] done processing\n",
      "c:\\Users\\natra\\AppData\\Local\\Programs\\Python\\Python310\\lib\\site-packages\\sklearn\\metrics\\_regression.py:492: FutureWarning: 'squared' is deprecated in version 1.4 and will be removed in 1.6. To calculate the root mean squared error, use the function'root_mean_squared_error'.\n",
      "  warnings.warn(\n",
      "19:38:52 - cmdstanpy - INFO - Chain [1] start processing\n",
      "19:38:52 - cmdstanpy - INFO - Chain [1] done processing\n",
      "c:\\Users\\natra\\AppData\\Local\\Programs\\Python\\Python310\\lib\\site-packages\\sklearn\\metrics\\_regression.py:492: FutureWarning: 'squared' is deprecated in version 1.4 and will be removed in 1.6. To calculate the root mean squared error, use the function'root_mean_squared_error'.\n",
      "  warnings.warn(\n"
     ]
    },
    {
     "name": "stdout",
     "output_type": "stream",
     "text": [
      "R² Score: 0.756, RMSE: 3.855, MAE: 3.116\n",
      "\n",
      "Evaluating: changepoint_prior_scale=0.05, seasonality_prior_scale=8.1, seasonality_mode=additive\n"
     ]
    },
    {
     "name": "stderr",
     "output_type": "stream",
     "text": [
      "19:38:53 - cmdstanpy - INFO - Chain [1] start processing\n",
      "19:38:54 - cmdstanpy - INFO - Chain [1] done processing\n",
      "c:\\Users\\natra\\AppData\\Local\\Programs\\Python\\Python310\\lib\\site-packages\\sklearn\\metrics\\_regression.py:492: FutureWarning: 'squared' is deprecated in version 1.4 and will be removed in 1.6. To calculate the root mean squared error, use the function'root_mean_squared_error'.\n",
      "  warnings.warn(\n",
      "19:38:54 - cmdstanpy - INFO - Chain [1] start processing\n",
      "19:38:55 - cmdstanpy - INFO - Chain [1] done processing\n",
      "c:\\Users\\natra\\AppData\\Local\\Programs\\Python\\Python310\\lib\\site-packages\\sklearn\\metrics\\_regression.py:492: FutureWarning: 'squared' is deprecated in version 1.4 and will be removed in 1.6. To calculate the root mean squared error, use the function'root_mean_squared_error'.\n",
      "  warnings.warn(\n",
      "19:38:55 - cmdstanpy - INFO - Chain [1] start processing\n",
      "19:38:56 - cmdstanpy - INFO - Chain [1] done processing\n",
      "c:\\Users\\natra\\AppData\\Local\\Programs\\Python\\Python310\\lib\\site-packages\\sklearn\\metrics\\_regression.py:492: FutureWarning: 'squared' is deprecated in version 1.4 and will be removed in 1.6. To calculate the root mean squared error, use the function'root_mean_squared_error'.\n",
      "  warnings.warn(\n",
      "19:38:56 - cmdstanpy - INFO - Chain [1] start processing\n",
      "19:38:56 - cmdstanpy - INFO - Chain [1] done processing\n",
      "c:\\Users\\natra\\AppData\\Local\\Programs\\Python\\Python310\\lib\\site-packages\\sklearn\\metrics\\_regression.py:492: FutureWarning: 'squared' is deprecated in version 1.4 and will be removed in 1.6. To calculate the root mean squared error, use the function'root_mean_squared_error'.\n",
      "  warnings.warn(\n",
      "19:38:57 - cmdstanpy - INFO - Chain [1] start processing\n",
      "19:38:57 - cmdstanpy - INFO - Chain [1] done processing\n",
      "c:\\Users\\natra\\AppData\\Local\\Programs\\Python\\Python310\\lib\\site-packages\\sklearn\\metrics\\_regression.py:492: FutureWarning: 'squared' is deprecated in version 1.4 and will be removed in 1.6. To calculate the root mean squared error, use the function'root_mean_squared_error'.\n",
      "  warnings.warn(\n"
     ]
    },
    {
     "name": "stdout",
     "output_type": "stream",
     "text": [
      "R² Score: 0.764, RMSE: 3.793, MAE: 3.077\n",
      "\n",
      "Evaluating: changepoint_prior_scale=0.05, seasonality_prior_scale=8.1, seasonality_mode=multiplicative\n"
     ]
    },
    {
     "name": "stderr",
     "output_type": "stream",
     "text": [
      "19:38:58 - cmdstanpy - INFO - Chain [1] start processing\n",
      "19:38:58 - cmdstanpy - INFO - Chain [1] done processing\n",
      "c:\\Users\\natra\\AppData\\Local\\Programs\\Python\\Python310\\lib\\site-packages\\sklearn\\metrics\\_regression.py:492: FutureWarning: 'squared' is deprecated in version 1.4 and will be removed in 1.6. To calculate the root mean squared error, use the function'root_mean_squared_error'.\n",
      "  warnings.warn(\n",
      "19:38:59 - cmdstanpy - INFO - Chain [1] start processing\n",
      "19:38:59 - cmdstanpy - INFO - Chain [1] done processing\n",
      "c:\\Users\\natra\\AppData\\Local\\Programs\\Python\\Python310\\lib\\site-packages\\sklearn\\metrics\\_regression.py:492: FutureWarning: 'squared' is deprecated in version 1.4 and will be removed in 1.6. To calculate the root mean squared error, use the function'root_mean_squared_error'.\n",
      "  warnings.warn(\n",
      "19:39:00 - cmdstanpy - INFO - Chain [1] start processing\n",
      "19:39:00 - cmdstanpy - INFO - Chain [1] done processing\n",
      "c:\\Users\\natra\\AppData\\Local\\Programs\\Python\\Python310\\lib\\site-packages\\sklearn\\metrics\\_regression.py:492: FutureWarning: 'squared' is deprecated in version 1.4 and will be removed in 1.6. To calculate the root mean squared error, use the function'root_mean_squared_error'.\n",
      "  warnings.warn(\n",
      "19:39:01 - cmdstanpy - INFO - Chain [1] start processing\n",
      "19:39:01 - cmdstanpy - INFO - Chain [1] done processing\n",
      "c:\\Users\\natra\\AppData\\Local\\Programs\\Python\\Python310\\lib\\site-packages\\sklearn\\metrics\\_regression.py:492: FutureWarning: 'squared' is deprecated in version 1.4 and will be removed in 1.6. To calculate the root mean squared error, use the function'root_mean_squared_error'.\n",
      "  warnings.warn(\n",
      "19:39:02 - cmdstanpy - INFO - Chain [1] start processing\n",
      "19:39:02 - cmdstanpy - INFO - Chain [1] done processing\n",
      "c:\\Users\\natra\\AppData\\Local\\Programs\\Python\\Python310\\lib\\site-packages\\sklearn\\metrics\\_regression.py:492: FutureWarning: 'squared' is deprecated in version 1.4 and will be removed in 1.6. To calculate the root mean squared error, use the function'root_mean_squared_error'.\n",
      "  warnings.warn(\n"
     ]
    },
    {
     "name": "stdout",
     "output_type": "stream",
     "text": [
      "R² Score: 0.756, RMSE: 3.856, MAE: 3.117\n",
      "\n",
      "Evaluating: changepoint_prior_scale=0.05, seasonality_prior_scale=9.1, seasonality_mode=additive\n"
     ]
    },
    {
     "name": "stderr",
     "output_type": "stream",
     "text": [
      "19:39:03 - cmdstanpy - INFO - Chain [1] start processing\n",
      "19:39:03 - cmdstanpy - INFO - Chain [1] done processing\n",
      "c:\\Users\\natra\\AppData\\Local\\Programs\\Python\\Python310\\lib\\site-packages\\sklearn\\metrics\\_regression.py:492: FutureWarning: 'squared' is deprecated in version 1.4 and will be removed in 1.6. To calculate the root mean squared error, use the function'root_mean_squared_error'.\n",
      "  warnings.warn(\n",
      "19:39:04 - cmdstanpy - INFO - Chain [1] start processing\n",
      "19:39:05 - cmdstanpy - INFO - Chain [1] done processing\n",
      "c:\\Users\\natra\\AppData\\Local\\Programs\\Python\\Python310\\lib\\site-packages\\sklearn\\metrics\\_regression.py:492: FutureWarning: 'squared' is deprecated in version 1.4 and will be removed in 1.6. To calculate the root mean squared error, use the function'root_mean_squared_error'.\n",
      "  warnings.warn(\n",
      "19:39:05 - cmdstanpy - INFO - Chain [1] start processing\n",
      "19:39:06 - cmdstanpy - INFO - Chain [1] done processing\n",
      "c:\\Users\\natra\\AppData\\Local\\Programs\\Python\\Python310\\lib\\site-packages\\sklearn\\metrics\\_regression.py:492: FutureWarning: 'squared' is deprecated in version 1.4 and will be removed in 1.6. To calculate the root mean squared error, use the function'root_mean_squared_error'.\n",
      "  warnings.warn(\n",
      "19:39:07 - cmdstanpy - INFO - Chain [1] start processing\n",
      "19:39:07 - cmdstanpy - INFO - Chain [1] done processing\n",
      "c:\\Users\\natra\\AppData\\Local\\Programs\\Python\\Python310\\lib\\site-packages\\sklearn\\metrics\\_regression.py:492: FutureWarning: 'squared' is deprecated in version 1.4 and will be removed in 1.6. To calculate the root mean squared error, use the function'root_mean_squared_error'.\n",
      "  warnings.warn(\n",
      "19:39:08 - cmdstanpy - INFO - Chain [1] start processing\n",
      "19:39:08 - cmdstanpy - INFO - Chain [1] done processing\n",
      "c:\\Users\\natra\\AppData\\Local\\Programs\\Python\\Python310\\lib\\site-packages\\sklearn\\metrics\\_regression.py:492: FutureWarning: 'squared' is deprecated in version 1.4 and will be removed in 1.6. To calculate the root mean squared error, use the function'root_mean_squared_error'.\n",
      "  warnings.warn(\n"
     ]
    },
    {
     "name": "stdout",
     "output_type": "stream",
     "text": [
      "R² Score: 0.763, RMSE: 3.801, MAE: 3.083\n",
      "\n",
      "Evaluating: changepoint_prior_scale=0.05, seasonality_prior_scale=9.1, seasonality_mode=multiplicative\n"
     ]
    },
    {
     "name": "stderr",
     "output_type": "stream",
     "text": [
      "19:39:09 - cmdstanpy - INFO - Chain [1] start processing\n",
      "19:39:09 - cmdstanpy - INFO - Chain [1] done processing\n",
      "c:\\Users\\natra\\AppData\\Local\\Programs\\Python\\Python310\\lib\\site-packages\\sklearn\\metrics\\_regression.py:492: FutureWarning: 'squared' is deprecated in version 1.4 and will be removed in 1.6. To calculate the root mean squared error, use the function'root_mean_squared_error'.\n",
      "  warnings.warn(\n",
      "19:39:10 - cmdstanpy - INFO - Chain [1] start processing\n",
      "19:39:10 - cmdstanpy - INFO - Chain [1] done processing\n",
      "c:\\Users\\natra\\AppData\\Local\\Programs\\Python\\Python310\\lib\\site-packages\\sklearn\\metrics\\_regression.py:492: FutureWarning: 'squared' is deprecated in version 1.4 and will be removed in 1.6. To calculate the root mean squared error, use the function'root_mean_squared_error'.\n",
      "  warnings.warn(\n",
      "19:39:11 - cmdstanpy - INFO - Chain [1] start processing\n",
      "19:39:11 - cmdstanpy - INFO - Chain [1] done processing\n",
      "c:\\Users\\natra\\AppData\\Local\\Programs\\Python\\Python310\\lib\\site-packages\\sklearn\\metrics\\_regression.py:492: FutureWarning: 'squared' is deprecated in version 1.4 and will be removed in 1.6. To calculate the root mean squared error, use the function'root_mean_squared_error'.\n",
      "  warnings.warn(\n",
      "19:39:12 - cmdstanpy - INFO - Chain [1] start processing\n",
      "19:39:12 - cmdstanpy - INFO - Chain [1] done processing\n",
      "c:\\Users\\natra\\AppData\\Local\\Programs\\Python\\Python310\\lib\\site-packages\\sklearn\\metrics\\_regression.py:492: FutureWarning: 'squared' is deprecated in version 1.4 and will be removed in 1.6. To calculate the root mean squared error, use the function'root_mean_squared_error'.\n",
      "  warnings.warn(\n",
      "19:39:13 - cmdstanpy - INFO - Chain [1] start processing\n",
      "19:39:13 - cmdstanpy - INFO - Chain [1] done processing\n",
      "c:\\Users\\natra\\AppData\\Local\\Programs\\Python\\Python310\\lib\\site-packages\\sklearn\\metrics\\_regression.py:492: FutureWarning: 'squared' is deprecated in version 1.4 and will be removed in 1.6. To calculate the root mean squared error, use the function'root_mean_squared_error'.\n",
      "  warnings.warn(\n"
     ]
    },
    {
     "name": "stdout",
     "output_type": "stream",
     "text": [
      "R² Score: 0.755, RMSE: 3.859, MAE: 3.119\n",
      "\n",
      "Evaluating: changepoint_prior_scale=0.05, seasonality_prior_scale=10.1, seasonality_mode=additive\n"
     ]
    },
    {
     "name": "stderr",
     "output_type": "stream",
     "text": [
      "19:39:14 - cmdstanpy - INFO - Chain [1] start processing\n",
      "19:39:14 - cmdstanpy - INFO - Chain [1] done processing\n",
      "c:\\Users\\natra\\AppData\\Local\\Programs\\Python\\Python310\\lib\\site-packages\\sklearn\\metrics\\_regression.py:492: FutureWarning: 'squared' is deprecated in version 1.4 and will be removed in 1.6. To calculate the root mean squared error, use the function'root_mean_squared_error'.\n",
      "  warnings.warn(\n",
      "19:39:14 - cmdstanpy - INFO - Chain [1] start processing\n",
      "19:39:15 - cmdstanpy - INFO - Chain [1] done processing\n",
      "c:\\Users\\natra\\AppData\\Local\\Programs\\Python\\Python310\\lib\\site-packages\\sklearn\\metrics\\_regression.py:492: FutureWarning: 'squared' is deprecated in version 1.4 and will be removed in 1.6. To calculate the root mean squared error, use the function'root_mean_squared_error'.\n",
      "  warnings.warn(\n",
      "19:39:15 - cmdstanpy - INFO - Chain [1] start processing\n",
      "19:39:15 - cmdstanpy - INFO - Chain [1] done processing\n",
      "c:\\Users\\natra\\AppData\\Local\\Programs\\Python\\Python310\\lib\\site-packages\\sklearn\\metrics\\_regression.py:492: FutureWarning: 'squared' is deprecated in version 1.4 and will be removed in 1.6. To calculate the root mean squared error, use the function'root_mean_squared_error'.\n",
      "  warnings.warn(\n",
      "19:39:16 - cmdstanpy - INFO - Chain [1] start processing\n",
      "19:39:16 - cmdstanpy - INFO - Chain [1] done processing\n",
      "c:\\Users\\natra\\AppData\\Local\\Programs\\Python\\Python310\\lib\\site-packages\\sklearn\\metrics\\_regression.py:492: FutureWarning: 'squared' is deprecated in version 1.4 and will be removed in 1.6. To calculate the root mean squared error, use the function'root_mean_squared_error'.\n",
      "  warnings.warn(\n",
      "19:39:17 - cmdstanpy - INFO - Chain [1] start processing\n",
      "19:39:17 - cmdstanpy - INFO - Chain [1] done processing\n",
      "c:\\Users\\natra\\AppData\\Local\\Programs\\Python\\Python310\\lib\\site-packages\\sklearn\\metrics\\_regression.py:492: FutureWarning: 'squared' is deprecated in version 1.4 and will be removed in 1.6. To calculate the root mean squared error, use the function'root_mean_squared_error'.\n",
      "  warnings.warn(\n"
     ]
    },
    {
     "name": "stdout",
     "output_type": "stream",
     "text": [
      "R² Score: 0.766, RMSE: 3.783, MAE: 3.072\n",
      "\n",
      "Evaluating: changepoint_prior_scale=0.05, seasonality_prior_scale=10.1, seasonality_mode=multiplicative\n"
     ]
    },
    {
     "name": "stderr",
     "output_type": "stream",
     "text": [
      "19:39:18 - cmdstanpy - INFO - Chain [1] start processing\n",
      "19:39:18 - cmdstanpy - INFO - Chain [1] done processing\n",
      "c:\\Users\\natra\\AppData\\Local\\Programs\\Python\\Python310\\lib\\site-packages\\sklearn\\metrics\\_regression.py:492: FutureWarning: 'squared' is deprecated in version 1.4 and will be removed in 1.6. To calculate the root mean squared error, use the function'root_mean_squared_error'.\n",
      "  warnings.warn(\n",
      "19:39:19 - cmdstanpy - INFO - Chain [1] start processing\n",
      "19:39:19 - cmdstanpy - INFO - Chain [1] done processing\n",
      "c:\\Users\\natra\\AppData\\Local\\Programs\\Python\\Python310\\lib\\site-packages\\sklearn\\metrics\\_regression.py:492: FutureWarning: 'squared' is deprecated in version 1.4 and will be removed in 1.6. To calculate the root mean squared error, use the function'root_mean_squared_error'.\n",
      "  warnings.warn(\n",
      "19:39:20 - cmdstanpy - INFO - Chain [1] start processing\n",
      "19:39:20 - cmdstanpy - INFO - Chain [1] done processing\n",
      "c:\\Users\\natra\\AppData\\Local\\Programs\\Python\\Python310\\lib\\site-packages\\sklearn\\metrics\\_regression.py:492: FutureWarning: 'squared' is deprecated in version 1.4 and will be removed in 1.6. To calculate the root mean squared error, use the function'root_mean_squared_error'.\n",
      "  warnings.warn(\n",
      "19:39:21 - cmdstanpy - INFO - Chain [1] start processing\n",
      "19:39:21 - cmdstanpy - INFO - Chain [1] done processing\n",
      "c:\\Users\\natra\\AppData\\Local\\Programs\\Python\\Python310\\lib\\site-packages\\sklearn\\metrics\\_regression.py:492: FutureWarning: 'squared' is deprecated in version 1.4 and will be removed in 1.6. To calculate the root mean squared error, use the function'root_mean_squared_error'.\n",
      "  warnings.warn(\n",
      "19:39:22 - cmdstanpy - INFO - Chain [1] start processing\n",
      "19:39:22 - cmdstanpy - INFO - Chain [1] done processing\n",
      "c:\\Users\\natra\\AppData\\Local\\Programs\\Python\\Python310\\lib\\site-packages\\sklearn\\metrics\\_regression.py:492: FutureWarning: 'squared' is deprecated in version 1.4 and will be removed in 1.6. To calculate the root mean squared error, use the function'root_mean_squared_error'.\n",
      "  warnings.warn(\n"
     ]
    },
    {
     "name": "stdout",
     "output_type": "stream",
     "text": [
      "R² Score: 0.756, RMSE: 3.856, MAE: 3.117\n",
      "\n",
      "Evaluating: changepoint_prior_scale=0.060000000000000005, seasonality_prior_scale=0.1, seasonality_mode=additive\n"
     ]
    },
    {
     "name": "stderr",
     "output_type": "stream",
     "text": [
      "19:39:23 - cmdstanpy - INFO - Chain [1] start processing\n",
      "19:39:23 - cmdstanpy - INFO - Chain [1] done processing\n",
      "c:\\Users\\natra\\AppData\\Local\\Programs\\Python\\Python310\\lib\\site-packages\\sklearn\\metrics\\_regression.py:492: FutureWarning: 'squared' is deprecated in version 1.4 and will be removed in 1.6. To calculate the root mean squared error, use the function'root_mean_squared_error'.\n",
      "  warnings.warn(\n",
      "19:39:24 - cmdstanpy - INFO - Chain [1] start processing\n",
      "19:39:24 - cmdstanpy - INFO - Chain [1] done processing\n",
      "c:\\Users\\natra\\AppData\\Local\\Programs\\Python\\Python310\\lib\\site-packages\\sklearn\\metrics\\_regression.py:492: FutureWarning: 'squared' is deprecated in version 1.4 and will be removed in 1.6. To calculate the root mean squared error, use the function'root_mean_squared_error'.\n",
      "  warnings.warn(\n",
      "19:39:24 - cmdstanpy - INFO - Chain [1] start processing\n",
      "19:39:25 - cmdstanpy - INFO - Chain [1] done processing\n",
      "c:\\Users\\natra\\AppData\\Local\\Programs\\Python\\Python310\\lib\\site-packages\\sklearn\\metrics\\_regression.py:492: FutureWarning: 'squared' is deprecated in version 1.4 and will be removed in 1.6. To calculate the root mean squared error, use the function'root_mean_squared_error'.\n",
      "  warnings.warn(\n",
      "19:39:25 - cmdstanpy - INFO - Chain [1] start processing\n",
      "19:39:25 - cmdstanpy - INFO - Chain [1] done processing\n",
      "c:\\Users\\natra\\AppData\\Local\\Programs\\Python\\Python310\\lib\\site-packages\\sklearn\\metrics\\_regression.py:492: FutureWarning: 'squared' is deprecated in version 1.4 and will be removed in 1.6. To calculate the root mean squared error, use the function'root_mean_squared_error'.\n",
      "  warnings.warn(\n",
      "19:39:26 - cmdstanpy - INFO - Chain [1] start processing\n",
      "19:39:26 - cmdstanpy - INFO - Chain [1] done processing\n",
      "c:\\Users\\natra\\AppData\\Local\\Programs\\Python\\Python310\\lib\\site-packages\\sklearn\\metrics\\_regression.py:492: FutureWarning: 'squared' is deprecated in version 1.4 and will be removed in 1.6. To calculate the root mean squared error, use the function'root_mean_squared_error'.\n",
      "  warnings.warn(\n"
     ]
    },
    {
     "name": "stdout",
     "output_type": "stream",
     "text": [
      "R² Score: 0.766, RMSE: 3.782, MAE: 3.074\n",
      "\n",
      "Evaluating: changepoint_prior_scale=0.060000000000000005, seasonality_prior_scale=0.1, seasonality_mode=multiplicative\n"
     ]
    },
    {
     "name": "stderr",
     "output_type": "stream",
     "text": [
      "19:39:27 - cmdstanpy - INFO - Chain [1] start processing\n",
      "19:39:27 - cmdstanpy - INFO - Chain [1] done processing\n",
      "c:\\Users\\natra\\AppData\\Local\\Programs\\Python\\Python310\\lib\\site-packages\\sklearn\\metrics\\_regression.py:492: FutureWarning: 'squared' is deprecated in version 1.4 and will be removed in 1.6. To calculate the root mean squared error, use the function'root_mean_squared_error'.\n",
      "  warnings.warn(\n",
      "19:39:28 - cmdstanpy - INFO - Chain [1] start processing\n",
      "19:39:28 - cmdstanpy - INFO - Chain [1] done processing\n",
      "c:\\Users\\natra\\AppData\\Local\\Programs\\Python\\Python310\\lib\\site-packages\\sklearn\\metrics\\_regression.py:492: FutureWarning: 'squared' is deprecated in version 1.4 and will be removed in 1.6. To calculate the root mean squared error, use the function'root_mean_squared_error'.\n",
      "  warnings.warn(\n",
      "19:39:28 - cmdstanpy - INFO - Chain [1] start processing\n",
      "19:39:29 - cmdstanpy - INFO - Chain [1] done processing\n",
      "c:\\Users\\natra\\AppData\\Local\\Programs\\Python\\Python310\\lib\\site-packages\\sklearn\\metrics\\_regression.py:492: FutureWarning: 'squared' is deprecated in version 1.4 and will be removed in 1.6. To calculate the root mean squared error, use the function'root_mean_squared_error'.\n",
      "  warnings.warn(\n",
      "19:39:29 - cmdstanpy - INFO - Chain [1] start processing\n",
      "19:39:29 - cmdstanpy - INFO - Chain [1] done processing\n",
      "c:\\Users\\natra\\AppData\\Local\\Programs\\Python\\Python310\\lib\\site-packages\\sklearn\\metrics\\_regression.py:492: FutureWarning: 'squared' is deprecated in version 1.4 and will be removed in 1.6. To calculate the root mean squared error, use the function'root_mean_squared_error'.\n",
      "  warnings.warn(\n",
      "19:39:30 - cmdstanpy - INFO - Chain [1] start processing\n",
      "19:39:30 - cmdstanpy - INFO - Chain [1] done processing\n",
      "c:\\Users\\natra\\AppData\\Local\\Programs\\Python\\Python310\\lib\\site-packages\\sklearn\\metrics\\_regression.py:492: FutureWarning: 'squared' is deprecated in version 1.4 and will be removed in 1.6. To calculate the root mean squared error, use the function'root_mean_squared_error'.\n",
      "  warnings.warn(\n"
     ]
    },
    {
     "name": "stdout",
     "output_type": "stream",
     "text": [
      "R² Score: 0.759, RMSE: 3.834, MAE: 3.104\n",
      "\n",
      "Evaluating: changepoint_prior_scale=0.060000000000000005, seasonality_prior_scale=1.1, seasonality_mode=additive\n"
     ]
    },
    {
     "name": "stderr",
     "output_type": "stream",
     "text": [
      "19:39:31 - cmdstanpy - INFO - Chain [1] start processing\n",
      "19:39:31 - cmdstanpy - INFO - Chain [1] done processing\n",
      "c:\\Users\\natra\\AppData\\Local\\Programs\\Python\\Python310\\lib\\site-packages\\sklearn\\metrics\\_regression.py:492: FutureWarning: 'squared' is deprecated in version 1.4 and will be removed in 1.6. To calculate the root mean squared error, use the function'root_mean_squared_error'.\n",
      "  warnings.warn(\n",
      "19:39:32 - cmdstanpy - INFO - Chain [1] start processing\n",
      "19:39:32 - cmdstanpy - INFO - Chain [1] done processing\n",
      "c:\\Users\\natra\\AppData\\Local\\Programs\\Python\\Python310\\lib\\site-packages\\sklearn\\metrics\\_regression.py:492: FutureWarning: 'squared' is deprecated in version 1.4 and will be removed in 1.6. To calculate the root mean squared error, use the function'root_mean_squared_error'.\n",
      "  warnings.warn(\n",
      "19:39:33 - cmdstanpy - INFO - Chain [1] start processing\n",
      "19:39:33 - cmdstanpy - INFO - Chain [1] done processing\n",
      "c:\\Users\\natra\\AppData\\Local\\Programs\\Python\\Python310\\lib\\site-packages\\sklearn\\metrics\\_regression.py:492: FutureWarning: 'squared' is deprecated in version 1.4 and will be removed in 1.6. To calculate the root mean squared error, use the function'root_mean_squared_error'.\n",
      "  warnings.warn(\n",
      "19:39:34 - cmdstanpy - INFO - Chain [1] start processing\n",
      "19:39:34 - cmdstanpy - INFO - Chain [1] done processing\n",
      "c:\\Users\\natra\\AppData\\Local\\Programs\\Python\\Python310\\lib\\site-packages\\sklearn\\metrics\\_regression.py:492: FutureWarning: 'squared' is deprecated in version 1.4 and will be removed in 1.6. To calculate the root mean squared error, use the function'root_mean_squared_error'.\n",
      "  warnings.warn(\n",
      "19:39:34 - cmdstanpy - INFO - Chain [1] start processing\n",
      "19:39:34 - cmdstanpy - INFO - Chain [1] done processing\n",
      "c:\\Users\\natra\\AppData\\Local\\Programs\\Python\\Python310\\lib\\site-packages\\sklearn\\metrics\\_regression.py:492: FutureWarning: 'squared' is deprecated in version 1.4 and will be removed in 1.6. To calculate the root mean squared error, use the function'root_mean_squared_error'.\n",
      "  warnings.warn(\n"
     ]
    },
    {
     "name": "stdout",
     "output_type": "stream",
     "text": [
      "R² Score: 0.766, RMSE: 3.783, MAE: 3.081\n",
      "\n",
      "Evaluating: changepoint_prior_scale=0.060000000000000005, seasonality_prior_scale=1.1, seasonality_mode=multiplicative\n"
     ]
    },
    {
     "name": "stderr",
     "output_type": "stream",
     "text": [
      "19:39:35 - cmdstanpy - INFO - Chain [1] start processing\n",
      "19:39:36 - cmdstanpy - INFO - Chain [1] done processing\n",
      "c:\\Users\\natra\\AppData\\Local\\Programs\\Python\\Python310\\lib\\site-packages\\sklearn\\metrics\\_regression.py:492: FutureWarning: 'squared' is deprecated in version 1.4 and will be removed in 1.6. To calculate the root mean squared error, use the function'root_mean_squared_error'.\n",
      "  warnings.warn(\n",
      "19:39:36 - cmdstanpy - INFO - Chain [1] start processing\n",
      "19:39:37 - cmdstanpy - INFO - Chain [1] done processing\n",
      "c:\\Users\\natra\\AppData\\Local\\Programs\\Python\\Python310\\lib\\site-packages\\sklearn\\metrics\\_regression.py:492: FutureWarning: 'squared' is deprecated in version 1.4 and will be removed in 1.6. To calculate the root mean squared error, use the function'root_mean_squared_error'.\n",
      "  warnings.warn(\n",
      "19:39:37 - cmdstanpy - INFO - Chain [1] start processing\n",
      "19:39:38 - cmdstanpy - INFO - Chain [1] done processing\n",
      "c:\\Users\\natra\\AppData\\Local\\Programs\\Python\\Python310\\lib\\site-packages\\sklearn\\metrics\\_regression.py:492: FutureWarning: 'squared' is deprecated in version 1.4 and will be removed in 1.6. To calculate the root mean squared error, use the function'root_mean_squared_error'.\n",
      "  warnings.warn(\n",
      "19:39:38 - cmdstanpy - INFO - Chain [1] start processing\n",
      "19:39:38 - cmdstanpy - INFO - Chain [1] done processing\n",
      "c:\\Users\\natra\\AppData\\Local\\Programs\\Python\\Python310\\lib\\site-packages\\sklearn\\metrics\\_regression.py:492: FutureWarning: 'squared' is deprecated in version 1.4 and will be removed in 1.6. To calculate the root mean squared error, use the function'root_mean_squared_error'.\n",
      "  warnings.warn(\n",
      "19:39:39 - cmdstanpy - INFO - Chain [1] start processing\n",
      "19:39:40 - cmdstanpy - INFO - Chain [1] done processing\n",
      "c:\\Users\\natra\\AppData\\Local\\Programs\\Python\\Python310\\lib\\site-packages\\sklearn\\metrics\\_regression.py:492: FutureWarning: 'squared' is deprecated in version 1.4 and will be removed in 1.6. To calculate the root mean squared error, use the function'root_mean_squared_error'.\n",
      "  warnings.warn(\n"
     ]
    },
    {
     "name": "stdout",
     "output_type": "stream",
     "text": [
      "R² Score: 0.754, RMSE: 3.869, MAE: 3.127\n",
      "\n",
      "Evaluating: changepoint_prior_scale=0.060000000000000005, seasonality_prior_scale=2.1, seasonality_mode=additive\n"
     ]
    },
    {
     "name": "stderr",
     "output_type": "stream",
     "text": [
      "19:39:40 - cmdstanpy - INFO - Chain [1] start processing\n",
      "19:39:41 - cmdstanpy - INFO - Chain [1] done processing\n",
      "c:\\Users\\natra\\AppData\\Local\\Programs\\Python\\Python310\\lib\\site-packages\\sklearn\\metrics\\_regression.py:492: FutureWarning: 'squared' is deprecated in version 1.4 and will be removed in 1.6. To calculate the root mean squared error, use the function'root_mean_squared_error'.\n",
      "  warnings.warn(\n",
      "19:39:41 - cmdstanpy - INFO - Chain [1] start processing\n",
      "19:39:42 - cmdstanpy - INFO - Chain [1] done processing\n",
      "c:\\Users\\natra\\AppData\\Local\\Programs\\Python\\Python310\\lib\\site-packages\\sklearn\\metrics\\_regression.py:492: FutureWarning: 'squared' is deprecated in version 1.4 and will be removed in 1.6. To calculate the root mean squared error, use the function'root_mean_squared_error'.\n",
      "  warnings.warn(\n",
      "19:39:42 - cmdstanpy - INFO - Chain [1] start processing\n",
      "19:39:43 - cmdstanpy - INFO - Chain [1] done processing\n",
      "c:\\Users\\natra\\AppData\\Local\\Programs\\Python\\Python310\\lib\\site-packages\\sklearn\\metrics\\_regression.py:492: FutureWarning: 'squared' is deprecated in version 1.4 and will be removed in 1.6. To calculate the root mean squared error, use the function'root_mean_squared_error'.\n",
      "  warnings.warn(\n",
      "19:39:43 - cmdstanpy - INFO - Chain [1] start processing\n",
      "19:39:43 - cmdstanpy - INFO - Chain [1] done processing\n",
      "c:\\Users\\natra\\AppData\\Local\\Programs\\Python\\Python310\\lib\\site-packages\\sklearn\\metrics\\_regression.py:492: FutureWarning: 'squared' is deprecated in version 1.4 and will be removed in 1.6. To calculate the root mean squared error, use the function'root_mean_squared_error'.\n",
      "  warnings.warn(\n",
      "19:39:44 - cmdstanpy - INFO - Chain [1] start processing\n",
      "19:39:44 - cmdstanpy - INFO - Chain [1] done processing\n",
      "c:\\Users\\natra\\AppData\\Local\\Programs\\Python\\Python310\\lib\\site-packages\\sklearn\\metrics\\_regression.py:492: FutureWarning: 'squared' is deprecated in version 1.4 and will be removed in 1.6. To calculate the root mean squared error, use the function'root_mean_squared_error'.\n",
      "  warnings.warn(\n"
     ]
    },
    {
     "name": "stdout",
     "output_type": "stream",
     "text": [
      "R² Score: 0.765, RMSE: 3.787, MAE: 3.086\n",
      "\n",
      "Evaluating: changepoint_prior_scale=0.060000000000000005, seasonality_prior_scale=2.1, seasonality_mode=multiplicative\n"
     ]
    },
    {
     "name": "stderr",
     "output_type": "stream",
     "text": [
      "19:39:45 - cmdstanpy - INFO - Chain [1] start processing\n",
      "19:39:45 - cmdstanpy - INFO - Chain [1] done processing\n",
      "c:\\Users\\natra\\AppData\\Local\\Programs\\Python\\Python310\\lib\\site-packages\\sklearn\\metrics\\_regression.py:492: FutureWarning: 'squared' is deprecated in version 1.4 and will be removed in 1.6. To calculate the root mean squared error, use the function'root_mean_squared_error'.\n",
      "  warnings.warn(\n",
      "19:39:46 - cmdstanpy - INFO - Chain [1] start processing\n",
      "19:39:46 - cmdstanpy - INFO - Chain [1] done processing\n",
      "c:\\Users\\natra\\AppData\\Local\\Programs\\Python\\Python310\\lib\\site-packages\\sklearn\\metrics\\_regression.py:492: FutureWarning: 'squared' is deprecated in version 1.4 and will be removed in 1.6. To calculate the root mean squared error, use the function'root_mean_squared_error'.\n",
      "  warnings.warn(\n",
      "19:39:47 - cmdstanpy - INFO - Chain [1] start processing\n",
      "19:39:47 - cmdstanpy - INFO - Chain [1] done processing\n",
      "c:\\Users\\natra\\AppData\\Local\\Programs\\Python\\Python310\\lib\\site-packages\\sklearn\\metrics\\_regression.py:492: FutureWarning: 'squared' is deprecated in version 1.4 and will be removed in 1.6. To calculate the root mean squared error, use the function'root_mean_squared_error'.\n",
      "  warnings.warn(\n",
      "19:39:48 - cmdstanpy - INFO - Chain [1] start processing\n",
      "19:39:48 - cmdstanpy - INFO - Chain [1] done processing\n",
      "c:\\Users\\natra\\AppData\\Local\\Programs\\Python\\Python310\\lib\\site-packages\\sklearn\\metrics\\_regression.py:492: FutureWarning: 'squared' is deprecated in version 1.4 and will be removed in 1.6. To calculate the root mean squared error, use the function'root_mean_squared_error'.\n",
      "  warnings.warn(\n",
      "19:39:49 - cmdstanpy - INFO - Chain [1] start processing\n",
      "19:39:49 - cmdstanpy - INFO - Chain [1] done processing\n",
      "c:\\Users\\natra\\AppData\\Local\\Programs\\Python\\Python310\\lib\\site-packages\\sklearn\\metrics\\_regression.py:492: FutureWarning: 'squared' is deprecated in version 1.4 and will be removed in 1.6. To calculate the root mean squared error, use the function'root_mean_squared_error'.\n",
      "  warnings.warn(\n"
     ]
    },
    {
     "name": "stdout",
     "output_type": "stream",
     "text": [
      "R² Score: 0.755, RMSE: 3.863, MAE: 3.122\n",
      "\n",
      "Evaluating: changepoint_prior_scale=0.060000000000000005, seasonality_prior_scale=3.1, seasonality_mode=additive\n"
     ]
    },
    {
     "name": "stderr",
     "output_type": "stream",
     "text": [
      "19:39:50 - cmdstanpy - INFO - Chain [1] start processing\n",
      "19:39:50 - cmdstanpy - INFO - Chain [1] done processing\n",
      "c:\\Users\\natra\\AppData\\Local\\Programs\\Python\\Python310\\lib\\site-packages\\sklearn\\metrics\\_regression.py:492: FutureWarning: 'squared' is deprecated in version 1.4 and will be removed in 1.6. To calculate the root mean squared error, use the function'root_mean_squared_error'.\n",
      "  warnings.warn(\n",
      "19:39:51 - cmdstanpy - INFO - Chain [1] start processing\n",
      "19:39:51 - cmdstanpy - INFO - Chain [1] done processing\n",
      "c:\\Users\\natra\\AppData\\Local\\Programs\\Python\\Python310\\lib\\site-packages\\sklearn\\metrics\\_regression.py:492: FutureWarning: 'squared' is deprecated in version 1.4 and will be removed in 1.6. To calculate the root mean squared error, use the function'root_mean_squared_error'.\n",
      "  warnings.warn(\n",
      "19:39:52 - cmdstanpy - INFO - Chain [1] start processing\n",
      "19:39:52 - cmdstanpy - INFO - Chain [1] done processing\n",
      "c:\\Users\\natra\\AppData\\Local\\Programs\\Python\\Python310\\lib\\site-packages\\sklearn\\metrics\\_regression.py:492: FutureWarning: 'squared' is deprecated in version 1.4 and will be removed in 1.6. To calculate the root mean squared error, use the function'root_mean_squared_error'.\n",
      "  warnings.warn(\n",
      "19:39:52 - cmdstanpy - INFO - Chain [1] start processing\n",
      "19:39:53 - cmdstanpy - INFO - Chain [1] done processing\n",
      "c:\\Users\\natra\\AppData\\Local\\Programs\\Python\\Python310\\lib\\site-packages\\sklearn\\metrics\\_regression.py:492: FutureWarning: 'squared' is deprecated in version 1.4 and will be removed in 1.6. To calculate the root mean squared error, use the function'root_mean_squared_error'.\n",
      "  warnings.warn(\n",
      "19:39:53 - cmdstanpy - INFO - Chain [1] start processing\n",
      "19:39:53 - cmdstanpy - INFO - Chain [1] done processing\n",
      "c:\\Users\\natra\\AppData\\Local\\Programs\\Python\\Python310\\lib\\site-packages\\sklearn\\metrics\\_regression.py:492: FutureWarning: 'squared' is deprecated in version 1.4 and will be removed in 1.6. To calculate the root mean squared error, use the function'root_mean_squared_error'.\n",
      "  warnings.warn(\n"
     ]
    },
    {
     "name": "stdout",
     "output_type": "stream",
     "text": [
      "R² Score: 0.766, RMSE: 3.784, MAE: 3.082\n",
      "\n",
      "Evaluating: changepoint_prior_scale=0.060000000000000005, seasonality_prior_scale=3.1, seasonality_mode=multiplicative\n"
     ]
    },
    {
     "name": "stderr",
     "output_type": "stream",
     "text": [
      "19:39:54 - cmdstanpy - INFO - Chain [1] start processing\n",
      "19:39:54 - cmdstanpy - INFO - Chain [1] done processing\n",
      "c:\\Users\\natra\\AppData\\Local\\Programs\\Python\\Python310\\lib\\site-packages\\sklearn\\metrics\\_regression.py:492: FutureWarning: 'squared' is deprecated in version 1.4 and will be removed in 1.6. To calculate the root mean squared error, use the function'root_mean_squared_error'.\n",
      "  warnings.warn(\n",
      "19:39:55 - cmdstanpy - INFO - Chain [1] start processing\n",
      "19:39:55 - cmdstanpy - INFO - Chain [1] done processing\n",
      "c:\\Users\\natra\\AppData\\Local\\Programs\\Python\\Python310\\lib\\site-packages\\sklearn\\metrics\\_regression.py:492: FutureWarning: 'squared' is deprecated in version 1.4 and will be removed in 1.6. To calculate the root mean squared error, use the function'root_mean_squared_error'.\n",
      "  warnings.warn(\n",
      "19:39:56 - cmdstanpy - INFO - Chain [1] start processing\n",
      "19:39:56 - cmdstanpy - INFO - Chain [1] done processing\n",
      "c:\\Users\\natra\\AppData\\Local\\Programs\\Python\\Python310\\lib\\site-packages\\sklearn\\metrics\\_regression.py:492: FutureWarning: 'squared' is deprecated in version 1.4 and will be removed in 1.6. To calculate the root mean squared error, use the function'root_mean_squared_error'.\n",
      "  warnings.warn(\n",
      "19:39:57 - cmdstanpy - INFO - Chain [1] start processing\n",
      "19:39:57 - cmdstanpy - INFO - Chain [1] done processing\n",
      "c:\\Users\\natra\\AppData\\Local\\Programs\\Python\\Python310\\lib\\site-packages\\sklearn\\metrics\\_regression.py:492: FutureWarning: 'squared' is deprecated in version 1.4 and will be removed in 1.6. To calculate the root mean squared error, use the function'root_mean_squared_error'.\n",
      "  warnings.warn(\n",
      "19:39:57 - cmdstanpy - INFO - Chain [1] start processing\n",
      "19:39:58 - cmdstanpy - INFO - Chain [1] done processing\n",
      "c:\\Users\\natra\\AppData\\Local\\Programs\\Python\\Python310\\lib\\site-packages\\sklearn\\metrics\\_regression.py:492: FutureWarning: 'squared' is deprecated in version 1.4 and will be removed in 1.6. To calculate the root mean squared error, use the function'root_mean_squared_error'.\n",
      "  warnings.warn(\n"
     ]
    },
    {
     "name": "stdout",
     "output_type": "stream",
     "text": [
      "R² Score: 0.758, RMSE: 3.847, MAE: 3.111\n",
      "\n",
      "Evaluating: changepoint_prior_scale=0.060000000000000005, seasonality_prior_scale=4.1, seasonality_mode=additive\n"
     ]
    },
    {
     "name": "stderr",
     "output_type": "stream",
     "text": [
      "19:39:58 - cmdstanpy - INFO - Chain [1] start processing\n",
      "19:39:59 - cmdstanpy - INFO - Chain [1] done processing\n",
      "c:\\Users\\natra\\AppData\\Local\\Programs\\Python\\Python310\\lib\\site-packages\\sklearn\\metrics\\_regression.py:492: FutureWarning: 'squared' is deprecated in version 1.4 and will be removed in 1.6. To calculate the root mean squared error, use the function'root_mean_squared_error'.\n",
      "  warnings.warn(\n",
      "19:39:59 - cmdstanpy - INFO - Chain [1] start processing\n",
      "19:39:59 - cmdstanpy - INFO - Chain [1] done processing\n",
      "c:\\Users\\natra\\AppData\\Local\\Programs\\Python\\Python310\\lib\\site-packages\\sklearn\\metrics\\_regression.py:492: FutureWarning: 'squared' is deprecated in version 1.4 and will be removed in 1.6. To calculate the root mean squared error, use the function'root_mean_squared_error'.\n",
      "  warnings.warn(\n",
      "19:40:00 - cmdstanpy - INFO - Chain [1] start processing\n",
      "19:40:00 - cmdstanpy - INFO - Chain [1] done processing\n",
      "c:\\Users\\natra\\AppData\\Local\\Programs\\Python\\Python310\\lib\\site-packages\\sklearn\\metrics\\_regression.py:492: FutureWarning: 'squared' is deprecated in version 1.4 and will be removed in 1.6. To calculate the root mean squared error, use the function'root_mean_squared_error'.\n",
      "  warnings.warn(\n",
      "19:40:01 - cmdstanpy - INFO - Chain [1] start processing\n",
      "19:40:01 - cmdstanpy - INFO - Chain [1] done processing\n",
      "c:\\Users\\natra\\AppData\\Local\\Programs\\Python\\Python310\\lib\\site-packages\\sklearn\\metrics\\_regression.py:492: FutureWarning: 'squared' is deprecated in version 1.4 and will be removed in 1.6. To calculate the root mean squared error, use the function'root_mean_squared_error'.\n",
      "  warnings.warn(\n",
      "19:40:02 - cmdstanpy - INFO - Chain [1] start processing\n",
      "19:40:02 - cmdstanpy - INFO - Chain [1] done processing\n",
      "c:\\Users\\natra\\AppData\\Local\\Programs\\Python\\Python310\\lib\\site-packages\\sklearn\\metrics\\_regression.py:492: FutureWarning: 'squared' is deprecated in version 1.4 and will be removed in 1.6. To calculate the root mean squared error, use the function'root_mean_squared_error'.\n",
      "  warnings.warn(\n"
     ]
    },
    {
     "name": "stdout",
     "output_type": "stream",
     "text": [
      "R² Score: 0.765, RMSE: 3.787, MAE: 3.085\n",
      "\n",
      "Evaluating: changepoint_prior_scale=0.060000000000000005, seasonality_prior_scale=4.1, seasonality_mode=multiplicative\n"
     ]
    },
    {
     "name": "stderr",
     "output_type": "stream",
     "text": [
      "19:40:03 - cmdstanpy - INFO - Chain [1] start processing\n",
      "19:40:03 - cmdstanpy - INFO - Chain [1] done processing\n",
      "c:\\Users\\natra\\AppData\\Local\\Programs\\Python\\Python310\\lib\\site-packages\\sklearn\\metrics\\_regression.py:492: FutureWarning: 'squared' is deprecated in version 1.4 and will be removed in 1.6. To calculate the root mean squared error, use the function'root_mean_squared_error'.\n",
      "  warnings.warn(\n",
      "19:40:03 - cmdstanpy - INFO - Chain [1] start processing\n",
      "19:40:04 - cmdstanpy - INFO - Chain [1] done processing\n",
      "c:\\Users\\natra\\AppData\\Local\\Programs\\Python\\Python310\\lib\\site-packages\\sklearn\\metrics\\_regression.py:492: FutureWarning: 'squared' is deprecated in version 1.4 and will be removed in 1.6. To calculate the root mean squared error, use the function'root_mean_squared_error'.\n",
      "  warnings.warn(\n",
      "19:40:04 - cmdstanpy - INFO - Chain [1] start processing\n",
      "19:40:04 - cmdstanpy - INFO - Chain [1] done processing\n",
      "c:\\Users\\natra\\AppData\\Local\\Programs\\Python\\Python310\\lib\\site-packages\\sklearn\\metrics\\_regression.py:492: FutureWarning: 'squared' is deprecated in version 1.4 and will be removed in 1.6. To calculate the root mean squared error, use the function'root_mean_squared_error'.\n",
      "  warnings.warn(\n",
      "19:40:05 - cmdstanpy - INFO - Chain [1] start processing\n",
      "19:40:05 - cmdstanpy - INFO - Chain [1] done processing\n",
      "c:\\Users\\natra\\AppData\\Local\\Programs\\Python\\Python310\\lib\\site-packages\\sklearn\\metrics\\_regression.py:492: FutureWarning: 'squared' is deprecated in version 1.4 and will be removed in 1.6. To calculate the root mean squared error, use the function'root_mean_squared_error'.\n",
      "  warnings.warn(\n",
      "19:40:06 - cmdstanpy - INFO - Chain [1] start processing\n",
      "19:40:06 - cmdstanpy - INFO - Chain [1] done processing\n",
      "c:\\Users\\natra\\AppData\\Local\\Programs\\Python\\Python310\\lib\\site-packages\\sklearn\\metrics\\_regression.py:492: FutureWarning: 'squared' is deprecated in version 1.4 and will be removed in 1.6. To calculate the root mean squared error, use the function'root_mean_squared_error'.\n",
      "  warnings.warn(\n"
     ]
    },
    {
     "name": "stdout",
     "output_type": "stream",
     "text": [
      "R² Score: 0.758, RMSE: 3.843, MAE: 3.109\n",
      "\n",
      "Evaluating: changepoint_prior_scale=0.060000000000000005, seasonality_prior_scale=5.1, seasonality_mode=additive\n"
     ]
    },
    {
     "name": "stderr",
     "output_type": "stream",
     "text": [
      "19:40:07 - cmdstanpy - INFO - Chain [1] start processing\n",
      "19:40:07 - cmdstanpy - INFO - Chain [1] done processing\n",
      "c:\\Users\\natra\\AppData\\Local\\Programs\\Python\\Python310\\lib\\site-packages\\sklearn\\metrics\\_regression.py:492: FutureWarning: 'squared' is deprecated in version 1.4 and will be removed in 1.6. To calculate the root mean squared error, use the function'root_mean_squared_error'.\n",
      "  warnings.warn(\n",
      "19:40:08 - cmdstanpy - INFO - Chain [1] start processing\n",
      "19:40:08 - cmdstanpy - INFO - Chain [1] done processing\n",
      "c:\\Users\\natra\\AppData\\Local\\Programs\\Python\\Python310\\lib\\site-packages\\sklearn\\metrics\\_regression.py:492: FutureWarning: 'squared' is deprecated in version 1.4 and will be removed in 1.6. To calculate the root mean squared error, use the function'root_mean_squared_error'.\n",
      "  warnings.warn(\n",
      "19:40:09 - cmdstanpy - INFO - Chain [1] start processing\n",
      "19:40:09 - cmdstanpy - INFO - Chain [1] done processing\n",
      "c:\\Users\\natra\\AppData\\Local\\Programs\\Python\\Python310\\lib\\site-packages\\sklearn\\metrics\\_regression.py:492: FutureWarning: 'squared' is deprecated in version 1.4 and will be removed in 1.6. To calculate the root mean squared error, use the function'root_mean_squared_error'.\n",
      "  warnings.warn(\n",
      "19:40:10 - cmdstanpy - INFO - Chain [1] start processing\n",
      "19:40:10 - cmdstanpy - INFO - Chain [1] done processing\n",
      "c:\\Users\\natra\\AppData\\Local\\Programs\\Python\\Python310\\lib\\site-packages\\sklearn\\metrics\\_regression.py:492: FutureWarning: 'squared' is deprecated in version 1.4 and will be removed in 1.6. To calculate the root mean squared error, use the function'root_mean_squared_error'.\n",
      "  warnings.warn(\n",
      "19:40:11 - cmdstanpy - INFO - Chain [1] start processing\n",
      "19:40:11 - cmdstanpy - INFO - Chain [1] done processing\n",
      "c:\\Users\\natra\\AppData\\Local\\Programs\\Python\\Python310\\lib\\site-packages\\sklearn\\metrics\\_regression.py:492: FutureWarning: 'squared' is deprecated in version 1.4 and will be removed in 1.6. To calculate the root mean squared error, use the function'root_mean_squared_error'.\n",
      "  warnings.warn(\n"
     ]
    },
    {
     "name": "stdout",
     "output_type": "stream",
     "text": [
      "R² Score: 0.766, RMSE: 3.784, MAE: 3.074\n",
      "\n",
      "Evaluating: changepoint_prior_scale=0.060000000000000005, seasonality_prior_scale=5.1, seasonality_mode=multiplicative\n"
     ]
    },
    {
     "name": "stderr",
     "output_type": "stream",
     "text": [
      "19:40:11 - cmdstanpy - INFO - Chain [1] start processing\n",
      "19:40:12 - cmdstanpy - INFO - Chain [1] done processing\n",
      "c:\\Users\\natra\\AppData\\Local\\Programs\\Python\\Python310\\lib\\site-packages\\sklearn\\metrics\\_regression.py:492: FutureWarning: 'squared' is deprecated in version 1.4 and will be removed in 1.6. To calculate the root mean squared error, use the function'root_mean_squared_error'.\n",
      "  warnings.warn(\n",
      "19:40:12 - cmdstanpy - INFO - Chain [1] start processing\n",
      "19:40:12 - cmdstanpy - INFO - Chain [1] done processing\n",
      "c:\\Users\\natra\\AppData\\Local\\Programs\\Python\\Python310\\lib\\site-packages\\sklearn\\metrics\\_regression.py:492: FutureWarning: 'squared' is deprecated in version 1.4 and will be removed in 1.6. To calculate the root mean squared error, use the function'root_mean_squared_error'.\n",
      "  warnings.warn(\n",
      "19:40:13 - cmdstanpy - INFO - Chain [1] start processing\n",
      "19:40:13 - cmdstanpy - INFO - Chain [1] done processing\n",
      "c:\\Users\\natra\\AppData\\Local\\Programs\\Python\\Python310\\lib\\site-packages\\sklearn\\metrics\\_regression.py:492: FutureWarning: 'squared' is deprecated in version 1.4 and will be removed in 1.6. To calculate the root mean squared error, use the function'root_mean_squared_error'.\n",
      "  warnings.warn(\n",
      "19:40:14 - cmdstanpy - INFO - Chain [1] start processing\n",
      "19:40:14 - cmdstanpy - INFO - Chain [1] done processing\n",
      "c:\\Users\\natra\\AppData\\Local\\Programs\\Python\\Python310\\lib\\site-packages\\sklearn\\metrics\\_regression.py:492: FutureWarning: 'squared' is deprecated in version 1.4 and will be removed in 1.6. To calculate the root mean squared error, use the function'root_mean_squared_error'.\n",
      "  warnings.warn(\n",
      "19:40:15 - cmdstanpy - INFO - Chain [1] start processing\n",
      "19:40:15 - cmdstanpy - INFO - Chain [1] done processing\n",
      "c:\\Users\\natra\\AppData\\Local\\Programs\\Python\\Python310\\lib\\site-packages\\sklearn\\metrics\\_regression.py:492: FutureWarning: 'squared' is deprecated in version 1.4 and will be removed in 1.6. To calculate the root mean squared error, use the function'root_mean_squared_error'.\n",
      "  warnings.warn(\n"
     ]
    },
    {
     "name": "stdout",
     "output_type": "stream",
     "text": [
      "R² Score: 0.755, RMSE: 3.863, MAE: 3.122\n",
      "\n",
      "Evaluating: changepoint_prior_scale=0.060000000000000005, seasonality_prior_scale=6.1, seasonality_mode=additive\n"
     ]
    },
    {
     "name": "stderr",
     "output_type": "stream",
     "text": [
      "19:40:16 - cmdstanpy - INFO - Chain [1] start processing\n",
      "19:40:16 - cmdstanpy - INFO - Chain [1] done processing\n",
      "c:\\Users\\natra\\AppData\\Local\\Programs\\Python\\Python310\\lib\\site-packages\\sklearn\\metrics\\_regression.py:492: FutureWarning: 'squared' is deprecated in version 1.4 and will be removed in 1.6. To calculate the root mean squared error, use the function'root_mean_squared_error'.\n",
      "  warnings.warn(\n",
      "19:40:16 - cmdstanpy - INFO - Chain [1] start processing\n",
      "19:40:17 - cmdstanpy - INFO - Chain [1] done processing\n",
      "c:\\Users\\natra\\AppData\\Local\\Programs\\Python\\Python310\\lib\\site-packages\\sklearn\\metrics\\_regression.py:492: FutureWarning: 'squared' is deprecated in version 1.4 and will be removed in 1.6. To calculate the root mean squared error, use the function'root_mean_squared_error'.\n",
      "  warnings.warn(\n",
      "19:40:17 - cmdstanpy - INFO - Chain [1] start processing\n",
      "19:40:17 - cmdstanpy - INFO - Chain [1] done processing\n",
      "c:\\Users\\natra\\AppData\\Local\\Programs\\Python\\Python310\\lib\\site-packages\\sklearn\\metrics\\_regression.py:492: FutureWarning: 'squared' is deprecated in version 1.4 and will be removed in 1.6. To calculate the root mean squared error, use the function'root_mean_squared_error'.\n",
      "  warnings.warn(\n",
      "19:40:18 - cmdstanpy - INFO - Chain [1] start processing\n",
      "19:40:18 - cmdstanpy - INFO - Chain [1] done processing\n",
      "c:\\Users\\natra\\AppData\\Local\\Programs\\Python\\Python310\\lib\\site-packages\\sklearn\\metrics\\_regression.py:492: FutureWarning: 'squared' is deprecated in version 1.4 and will be removed in 1.6. To calculate the root mean squared error, use the function'root_mean_squared_error'.\n",
      "  warnings.warn(\n",
      "19:40:19 - cmdstanpy - INFO - Chain [1] start processing\n",
      "19:40:19 - cmdstanpy - INFO - Chain [1] done processing\n",
      "c:\\Users\\natra\\AppData\\Local\\Programs\\Python\\Python310\\lib\\site-packages\\sklearn\\metrics\\_regression.py:492: FutureWarning: 'squared' is deprecated in version 1.4 and will be removed in 1.6. To calculate the root mean squared error, use the function'root_mean_squared_error'.\n",
      "  warnings.warn(\n"
     ]
    },
    {
     "name": "stdout",
     "output_type": "stream",
     "text": [
      "R² Score: 0.766, RMSE: 3.784, MAE: 3.082\n",
      "\n",
      "Evaluating: changepoint_prior_scale=0.060000000000000005, seasonality_prior_scale=6.1, seasonality_mode=multiplicative\n"
     ]
    },
    {
     "name": "stderr",
     "output_type": "stream",
     "text": [
      "19:40:20 - cmdstanpy - INFO - Chain [1] start processing\n",
      "19:40:20 - cmdstanpy - INFO - Chain [1] done processing\n",
      "c:\\Users\\natra\\AppData\\Local\\Programs\\Python\\Python310\\lib\\site-packages\\sklearn\\metrics\\_regression.py:492: FutureWarning: 'squared' is deprecated in version 1.4 and will be removed in 1.6. To calculate the root mean squared error, use the function'root_mean_squared_error'.\n",
      "  warnings.warn(\n",
      "19:40:21 - cmdstanpy - INFO - Chain [1] start processing\n",
      "19:40:21 - cmdstanpy - INFO - Chain [1] done processing\n",
      "c:\\Users\\natra\\AppData\\Local\\Programs\\Python\\Python310\\lib\\site-packages\\sklearn\\metrics\\_regression.py:492: FutureWarning: 'squared' is deprecated in version 1.4 and will be removed in 1.6. To calculate the root mean squared error, use the function'root_mean_squared_error'.\n",
      "  warnings.warn(\n",
      "19:40:21 - cmdstanpy - INFO - Chain [1] start processing\n",
      "19:40:22 - cmdstanpy - INFO - Chain [1] done processing\n",
      "c:\\Users\\natra\\AppData\\Local\\Programs\\Python\\Python310\\lib\\site-packages\\sklearn\\metrics\\_regression.py:492: FutureWarning: 'squared' is deprecated in version 1.4 and will be removed in 1.6. To calculate the root mean squared error, use the function'root_mean_squared_error'.\n",
      "  warnings.warn(\n",
      "19:40:23 - cmdstanpy - INFO - Chain [1] start processing\n",
      "19:40:23 - cmdstanpy - INFO - Chain [1] done processing\n",
      "c:\\Users\\natra\\AppData\\Local\\Programs\\Python\\Python310\\lib\\site-packages\\sklearn\\metrics\\_regression.py:492: FutureWarning: 'squared' is deprecated in version 1.4 and will be removed in 1.6. To calculate the root mean squared error, use the function'root_mean_squared_error'.\n",
      "  warnings.warn(\n",
      "19:40:24 - cmdstanpy - INFO - Chain [1] start processing\n",
      "19:40:24 - cmdstanpy - INFO - Chain [1] done processing\n",
      "c:\\Users\\natra\\AppData\\Local\\Programs\\Python\\Python310\\lib\\site-packages\\sklearn\\metrics\\_regression.py:492: FutureWarning: 'squared' is deprecated in version 1.4 and will be removed in 1.6. To calculate the root mean squared error, use the function'root_mean_squared_error'.\n",
      "  warnings.warn(\n"
     ]
    },
    {
     "name": "stdout",
     "output_type": "stream",
     "text": [
      "R² Score: 0.756, RMSE: 3.855, MAE: 3.117\n",
      "\n",
      "Evaluating: changepoint_prior_scale=0.060000000000000005, seasonality_prior_scale=7.1, seasonality_mode=additive\n"
     ]
    },
    {
     "name": "stderr",
     "output_type": "stream",
     "text": [
      "19:40:25 - cmdstanpy - INFO - Chain [1] start processing\n",
      "19:40:25 - cmdstanpy - INFO - Chain [1] done processing\n",
      "c:\\Users\\natra\\AppData\\Local\\Programs\\Python\\Python310\\lib\\site-packages\\sklearn\\metrics\\_regression.py:492: FutureWarning: 'squared' is deprecated in version 1.4 and will be removed in 1.6. To calculate the root mean squared error, use the function'root_mean_squared_error'.\n",
      "  warnings.warn(\n",
      "19:40:26 - cmdstanpy - INFO - Chain [1] start processing\n",
      "19:40:26 - cmdstanpy - INFO - Chain [1] done processing\n",
      "c:\\Users\\natra\\AppData\\Local\\Programs\\Python\\Python310\\lib\\site-packages\\sklearn\\metrics\\_regression.py:492: FutureWarning: 'squared' is deprecated in version 1.4 and will be removed in 1.6. To calculate the root mean squared error, use the function'root_mean_squared_error'.\n",
      "  warnings.warn(\n",
      "19:40:27 - cmdstanpy - INFO - Chain [1] start processing\n",
      "19:40:27 - cmdstanpy - INFO - Chain [1] done processing\n",
      "c:\\Users\\natra\\AppData\\Local\\Programs\\Python\\Python310\\lib\\site-packages\\sklearn\\metrics\\_regression.py:492: FutureWarning: 'squared' is deprecated in version 1.4 and will be removed in 1.6. To calculate the root mean squared error, use the function'root_mean_squared_error'.\n",
      "  warnings.warn(\n",
      "19:40:28 - cmdstanpy - INFO - Chain [1] start processing\n",
      "19:40:28 - cmdstanpy - INFO - Chain [1] done processing\n",
      "c:\\Users\\natra\\AppData\\Local\\Programs\\Python\\Python310\\lib\\site-packages\\sklearn\\metrics\\_regression.py:492: FutureWarning: 'squared' is deprecated in version 1.4 and will be removed in 1.6. To calculate the root mean squared error, use the function'root_mean_squared_error'.\n",
      "  warnings.warn(\n",
      "19:40:29 - cmdstanpy - INFO - Chain [1] start processing\n",
      "19:40:29 - cmdstanpy - INFO - Chain [1] done processing\n",
      "c:\\Users\\natra\\AppData\\Local\\Programs\\Python\\Python310\\lib\\site-packages\\sklearn\\metrics\\_regression.py:492: FutureWarning: 'squared' is deprecated in version 1.4 and will be removed in 1.6. To calculate the root mean squared error, use the function'root_mean_squared_error'.\n",
      "  warnings.warn(\n"
     ]
    },
    {
     "name": "stdout",
     "output_type": "stream",
     "text": [
      "R² Score: 0.765, RMSE: 3.787, MAE: 3.086\n",
      "\n",
      "Evaluating: changepoint_prior_scale=0.060000000000000005, seasonality_prior_scale=7.1, seasonality_mode=multiplicative\n"
     ]
    },
    {
     "name": "stderr",
     "output_type": "stream",
     "text": [
      "19:40:30 - cmdstanpy - INFO - Chain [1] start processing\n",
      "19:40:30 - cmdstanpy - INFO - Chain [1] done processing\n",
      "c:\\Users\\natra\\AppData\\Local\\Programs\\Python\\Python310\\lib\\site-packages\\sklearn\\metrics\\_regression.py:492: FutureWarning: 'squared' is deprecated in version 1.4 and will be removed in 1.6. To calculate the root mean squared error, use the function'root_mean_squared_error'.\n",
      "  warnings.warn(\n",
      "19:40:31 - cmdstanpy - INFO - Chain [1] start processing\n",
      "19:40:31 - cmdstanpy - INFO - Chain [1] done processing\n",
      "c:\\Users\\natra\\AppData\\Local\\Programs\\Python\\Python310\\lib\\site-packages\\sklearn\\metrics\\_regression.py:492: FutureWarning: 'squared' is deprecated in version 1.4 and will be removed in 1.6. To calculate the root mean squared error, use the function'root_mean_squared_error'.\n",
      "  warnings.warn(\n",
      "19:40:32 - cmdstanpy - INFO - Chain [1] start processing\n",
      "19:40:32 - cmdstanpy - INFO - Chain [1] done processing\n",
      "c:\\Users\\natra\\AppData\\Local\\Programs\\Python\\Python310\\lib\\site-packages\\sklearn\\metrics\\_regression.py:492: FutureWarning: 'squared' is deprecated in version 1.4 and will be removed in 1.6. To calculate the root mean squared error, use the function'root_mean_squared_error'.\n",
      "  warnings.warn(\n",
      "19:40:33 - cmdstanpy - INFO - Chain [1] start processing\n",
      "19:40:33 - cmdstanpy - INFO - Chain [1] done processing\n",
      "c:\\Users\\natra\\AppData\\Local\\Programs\\Python\\Python310\\lib\\site-packages\\sklearn\\metrics\\_regression.py:492: FutureWarning: 'squared' is deprecated in version 1.4 and will be removed in 1.6. To calculate the root mean squared error, use the function'root_mean_squared_error'.\n",
      "  warnings.warn(\n",
      "19:40:34 - cmdstanpy - INFO - Chain [1] start processing\n",
      "19:40:34 - cmdstanpy - INFO - Chain [1] done processing\n",
      "c:\\Users\\natra\\AppData\\Local\\Programs\\Python\\Python310\\lib\\site-packages\\sklearn\\metrics\\_regression.py:492: FutureWarning: 'squared' is deprecated in version 1.4 and will be removed in 1.6. To calculate the root mean squared error, use the function'root_mean_squared_error'.\n",
      "  warnings.warn(\n"
     ]
    },
    {
     "name": "stdout",
     "output_type": "stream",
     "text": [
      "R² Score: 0.756, RMSE: 3.860, MAE: 3.120\n",
      "\n",
      "Evaluating: changepoint_prior_scale=0.060000000000000005, seasonality_prior_scale=8.1, seasonality_mode=additive\n"
     ]
    },
    {
     "name": "stderr",
     "output_type": "stream",
     "text": [
      "19:40:35 - cmdstanpy - INFO - Chain [1] start processing\n",
      "19:40:35 - cmdstanpy - INFO - Chain [1] done processing\n",
      "c:\\Users\\natra\\AppData\\Local\\Programs\\Python\\Python310\\lib\\site-packages\\sklearn\\metrics\\_regression.py:492: FutureWarning: 'squared' is deprecated in version 1.4 and will be removed in 1.6. To calculate the root mean squared error, use the function'root_mean_squared_error'.\n",
      "  warnings.warn(\n",
      "19:40:36 - cmdstanpy - INFO - Chain [1] start processing\n",
      "19:40:36 - cmdstanpy - INFO - Chain [1] done processing\n",
      "c:\\Users\\natra\\AppData\\Local\\Programs\\Python\\Python310\\lib\\site-packages\\sklearn\\metrics\\_regression.py:492: FutureWarning: 'squared' is deprecated in version 1.4 and will be removed in 1.6. To calculate the root mean squared error, use the function'root_mean_squared_error'.\n",
      "  warnings.warn(\n",
      "19:40:37 - cmdstanpy - INFO - Chain [1] start processing\n",
      "19:40:37 - cmdstanpy - INFO - Chain [1] done processing\n",
      "c:\\Users\\natra\\AppData\\Local\\Programs\\Python\\Python310\\lib\\site-packages\\sklearn\\metrics\\_regression.py:492: FutureWarning: 'squared' is deprecated in version 1.4 and will be removed in 1.6. To calculate the root mean squared error, use the function'root_mean_squared_error'.\n",
      "  warnings.warn(\n",
      "19:40:37 - cmdstanpy - INFO - Chain [1] start processing\n",
      "19:40:38 - cmdstanpy - INFO - Chain [1] done processing\n",
      "c:\\Users\\natra\\AppData\\Local\\Programs\\Python\\Python310\\lib\\site-packages\\sklearn\\metrics\\_regression.py:492: FutureWarning: 'squared' is deprecated in version 1.4 and will be removed in 1.6. To calculate the root mean squared error, use the function'root_mean_squared_error'.\n",
      "  warnings.warn(\n",
      "19:40:38 - cmdstanpy - INFO - Chain [1] start processing\n",
      "19:40:38 - cmdstanpy - INFO - Chain [1] done processing\n",
      "c:\\Users\\natra\\AppData\\Local\\Programs\\Python\\Python310\\lib\\site-packages\\sklearn\\metrics\\_regression.py:492: FutureWarning: 'squared' is deprecated in version 1.4 and will be removed in 1.6. To calculate the root mean squared error, use the function'root_mean_squared_error'.\n",
      "  warnings.warn(\n"
     ]
    },
    {
     "name": "stdout",
     "output_type": "stream",
     "text": [
      "R² Score: 0.765, RMSE: 3.786, MAE: 3.084\n",
      "\n",
      "Evaluating: changepoint_prior_scale=0.060000000000000005, seasonality_prior_scale=8.1, seasonality_mode=multiplicative\n"
     ]
    },
    {
     "name": "stderr",
     "output_type": "stream",
     "text": [
      "19:40:39 - cmdstanpy - INFO - Chain [1] start processing\n",
      "19:40:39 - cmdstanpy - INFO - Chain [1] done processing\n",
      "c:\\Users\\natra\\AppData\\Local\\Programs\\Python\\Python310\\lib\\site-packages\\sklearn\\metrics\\_regression.py:492: FutureWarning: 'squared' is deprecated in version 1.4 and will be removed in 1.6. To calculate the root mean squared error, use the function'root_mean_squared_error'.\n",
      "  warnings.warn(\n",
      "19:40:40 - cmdstanpy - INFO - Chain [1] start processing\n",
      "19:40:40 - cmdstanpy - INFO - Chain [1] done processing\n",
      "c:\\Users\\natra\\AppData\\Local\\Programs\\Python\\Python310\\lib\\site-packages\\sklearn\\metrics\\_regression.py:492: FutureWarning: 'squared' is deprecated in version 1.4 and will be removed in 1.6. To calculate the root mean squared error, use the function'root_mean_squared_error'.\n",
      "  warnings.warn(\n",
      "19:40:41 - cmdstanpy - INFO - Chain [1] start processing\n",
      "19:40:41 - cmdstanpy - INFO - Chain [1] done processing\n",
      "c:\\Users\\natra\\AppData\\Local\\Programs\\Python\\Python310\\lib\\site-packages\\sklearn\\metrics\\_regression.py:492: FutureWarning: 'squared' is deprecated in version 1.4 and will be removed in 1.6. To calculate the root mean squared error, use the function'root_mean_squared_error'.\n",
      "  warnings.warn(\n",
      "19:40:41 - cmdstanpy - INFO - Chain [1] start processing\n",
      "19:40:42 - cmdstanpy - INFO - Chain [1] done processing\n",
      "c:\\Users\\natra\\AppData\\Local\\Programs\\Python\\Python310\\lib\\site-packages\\sklearn\\metrics\\_regression.py:492: FutureWarning: 'squared' is deprecated in version 1.4 and will be removed in 1.6. To calculate the root mean squared error, use the function'root_mean_squared_error'.\n",
      "  warnings.warn(\n",
      "19:40:42 - cmdstanpy - INFO - Chain [1] start processing\n",
      "19:40:43 - cmdstanpy - INFO - Chain [1] done processing\n",
      "c:\\Users\\natra\\AppData\\Local\\Programs\\Python\\Python310\\lib\\site-packages\\sklearn\\metrics\\_regression.py:492: FutureWarning: 'squared' is deprecated in version 1.4 and will be removed in 1.6. To calculate the root mean squared error, use the function'root_mean_squared_error'.\n",
      "  warnings.warn(\n"
     ]
    },
    {
     "name": "stdout",
     "output_type": "stream",
     "text": [
      "R² Score: 0.758, RMSE: 3.842, MAE: 3.108\n",
      "\n",
      "Evaluating: changepoint_prior_scale=0.060000000000000005, seasonality_prior_scale=9.1, seasonality_mode=additive\n"
     ]
    },
    {
     "name": "stderr",
     "output_type": "stream",
     "text": [
      "19:40:43 - cmdstanpy - INFO - Chain [1] start processing\n",
      "19:40:43 - cmdstanpy - INFO - Chain [1] done processing\n",
      "c:\\Users\\natra\\AppData\\Local\\Programs\\Python\\Python310\\lib\\site-packages\\sklearn\\metrics\\_regression.py:492: FutureWarning: 'squared' is deprecated in version 1.4 and will be removed in 1.6. To calculate the root mean squared error, use the function'root_mean_squared_error'.\n",
      "  warnings.warn(\n",
      "19:40:44 - cmdstanpy - INFO - Chain [1] start processing\n",
      "19:40:44 - cmdstanpy - INFO - Chain [1] done processing\n",
      "c:\\Users\\natra\\AppData\\Local\\Programs\\Python\\Python310\\lib\\site-packages\\sklearn\\metrics\\_regression.py:492: FutureWarning: 'squared' is deprecated in version 1.4 and will be removed in 1.6. To calculate the root mean squared error, use the function'root_mean_squared_error'.\n",
      "  warnings.warn(\n",
      "19:40:45 - cmdstanpy - INFO - Chain [1] start processing\n",
      "19:40:45 - cmdstanpy - INFO - Chain [1] done processing\n",
      "c:\\Users\\natra\\AppData\\Local\\Programs\\Python\\Python310\\lib\\site-packages\\sklearn\\metrics\\_regression.py:492: FutureWarning: 'squared' is deprecated in version 1.4 and will be removed in 1.6. To calculate the root mean squared error, use the function'root_mean_squared_error'.\n",
      "  warnings.warn(\n",
      "19:40:46 - cmdstanpy - INFO - Chain [1] start processing\n",
      "19:40:46 - cmdstanpy - INFO - Chain [1] done processing\n",
      "c:\\Users\\natra\\AppData\\Local\\Programs\\Python\\Python310\\lib\\site-packages\\sklearn\\metrics\\_regression.py:492: FutureWarning: 'squared' is deprecated in version 1.4 and will be removed in 1.6. To calculate the root mean squared error, use the function'root_mean_squared_error'.\n",
      "  warnings.warn(\n",
      "19:40:47 - cmdstanpy - INFO - Chain [1] start processing\n",
      "19:40:47 - cmdstanpy - INFO - Chain [1] done processing\n",
      "c:\\Users\\natra\\AppData\\Local\\Programs\\Python\\Python310\\lib\\site-packages\\sklearn\\metrics\\_regression.py:492: FutureWarning: 'squared' is deprecated in version 1.4 and will be removed in 1.6. To calculate the root mean squared error, use the function'root_mean_squared_error'.\n",
      "  warnings.warn(\n"
     ]
    },
    {
     "name": "stdout",
     "output_type": "stream",
     "text": [
      "R² Score: 0.766, RMSE: 3.781, MAE: 3.080\n",
      "\n",
      "Evaluating: changepoint_prior_scale=0.060000000000000005, seasonality_prior_scale=9.1, seasonality_mode=multiplicative\n"
     ]
    },
    {
     "name": "stderr",
     "output_type": "stream",
     "text": [
      "19:40:47 - cmdstanpy - INFO - Chain [1] start processing\n",
      "19:40:48 - cmdstanpy - INFO - Chain [1] done processing\n",
      "c:\\Users\\natra\\AppData\\Local\\Programs\\Python\\Python310\\lib\\site-packages\\sklearn\\metrics\\_regression.py:492: FutureWarning: 'squared' is deprecated in version 1.4 and will be removed in 1.6. To calculate the root mean squared error, use the function'root_mean_squared_error'.\n",
      "  warnings.warn(\n",
      "19:40:48 - cmdstanpy - INFO - Chain [1] start processing\n",
      "19:40:48 - cmdstanpy - INFO - Chain [1] done processing\n",
      "c:\\Users\\natra\\AppData\\Local\\Programs\\Python\\Python310\\lib\\site-packages\\sklearn\\metrics\\_regression.py:492: FutureWarning: 'squared' is deprecated in version 1.4 and will be removed in 1.6. To calculate the root mean squared error, use the function'root_mean_squared_error'.\n",
      "  warnings.warn(\n",
      "19:40:49 - cmdstanpy - INFO - Chain [1] start processing\n",
      "19:40:49 - cmdstanpy - INFO - Chain [1] done processing\n",
      "c:\\Users\\natra\\AppData\\Local\\Programs\\Python\\Python310\\lib\\site-packages\\sklearn\\metrics\\_regression.py:492: FutureWarning: 'squared' is deprecated in version 1.4 and will be removed in 1.6. To calculate the root mean squared error, use the function'root_mean_squared_error'.\n",
      "  warnings.warn(\n",
      "19:40:50 - cmdstanpy - INFO - Chain [1] start processing\n",
      "19:40:50 - cmdstanpy - INFO - Chain [1] done processing\n",
      "c:\\Users\\natra\\AppData\\Local\\Programs\\Python\\Python310\\lib\\site-packages\\sklearn\\metrics\\_regression.py:492: FutureWarning: 'squared' is deprecated in version 1.4 and will be removed in 1.6. To calculate the root mean squared error, use the function'root_mean_squared_error'.\n",
      "  warnings.warn(\n",
      "19:40:51 - cmdstanpy - INFO - Chain [1] start processing\n",
      "19:40:51 - cmdstanpy - INFO - Chain [1] done processing\n",
      "c:\\Users\\natra\\AppData\\Local\\Programs\\Python\\Python310\\lib\\site-packages\\sklearn\\metrics\\_regression.py:492: FutureWarning: 'squared' is deprecated in version 1.4 and will be removed in 1.6. To calculate the root mean squared error, use the function'root_mean_squared_error'.\n",
      "  warnings.warn(\n"
     ]
    },
    {
     "name": "stdout",
     "output_type": "stream",
     "text": [
      "R² Score: 0.757, RMSE: 3.848, MAE: 3.112\n",
      "\n",
      "Evaluating: changepoint_prior_scale=0.060000000000000005, seasonality_prior_scale=10.1, seasonality_mode=additive\n"
     ]
    },
    {
     "name": "stderr",
     "output_type": "stream",
     "text": [
      "19:40:52 - cmdstanpy - INFO - Chain [1] start processing\n",
      "19:40:52 - cmdstanpy - INFO - Chain [1] done processing\n",
      "c:\\Users\\natra\\AppData\\Local\\Programs\\Python\\Python310\\lib\\site-packages\\sklearn\\metrics\\_regression.py:492: FutureWarning: 'squared' is deprecated in version 1.4 and will be removed in 1.6. To calculate the root mean squared error, use the function'root_mean_squared_error'.\n",
      "  warnings.warn(\n",
      "19:40:53 - cmdstanpy - INFO - Chain [1] start processing\n",
      "19:40:53 - cmdstanpy - INFO - Chain [1] done processing\n",
      "c:\\Users\\natra\\AppData\\Local\\Programs\\Python\\Python310\\lib\\site-packages\\sklearn\\metrics\\_regression.py:492: FutureWarning: 'squared' is deprecated in version 1.4 and will be removed in 1.6. To calculate the root mean squared error, use the function'root_mean_squared_error'.\n",
      "  warnings.warn(\n",
      "19:40:54 - cmdstanpy - INFO - Chain [1] start processing\n",
      "19:40:54 - cmdstanpy - INFO - Chain [1] done processing\n",
      "c:\\Users\\natra\\AppData\\Local\\Programs\\Python\\Python310\\lib\\site-packages\\sklearn\\metrics\\_regression.py:492: FutureWarning: 'squared' is deprecated in version 1.4 and will be removed in 1.6. To calculate the root mean squared error, use the function'root_mean_squared_error'.\n",
      "  warnings.warn(\n",
      "19:40:54 - cmdstanpy - INFO - Chain [1] start processing\n",
      "19:40:55 - cmdstanpy - INFO - Chain [1] done processing\n",
      "c:\\Users\\natra\\AppData\\Local\\Programs\\Python\\Python310\\lib\\site-packages\\sklearn\\metrics\\_regression.py:492: FutureWarning: 'squared' is deprecated in version 1.4 and will be removed in 1.6. To calculate the root mean squared error, use the function'root_mean_squared_error'.\n",
      "  warnings.warn(\n",
      "19:40:55 - cmdstanpy - INFO - Chain [1] start processing\n",
      "19:40:55 - cmdstanpy - INFO - Chain [1] done processing\n",
      "c:\\Users\\natra\\AppData\\Local\\Programs\\Python\\Python310\\lib\\site-packages\\sklearn\\metrics\\_regression.py:492: FutureWarning: 'squared' is deprecated in version 1.4 and will be removed in 1.6. To calculate the root mean squared error, use the function'root_mean_squared_error'.\n",
      "  warnings.warn(\n"
     ]
    },
    {
     "name": "stdout",
     "output_type": "stream",
     "text": [
      "R² Score: 0.766, RMSE: 3.784, MAE: 3.075\n",
      "\n",
      "Evaluating: changepoint_prior_scale=0.060000000000000005, seasonality_prior_scale=10.1, seasonality_mode=multiplicative\n"
     ]
    },
    {
     "name": "stderr",
     "output_type": "stream",
     "text": [
      "19:40:56 - cmdstanpy - INFO - Chain [1] start processing\n",
      "19:40:56 - cmdstanpy - INFO - Chain [1] done processing\n",
      "c:\\Users\\natra\\AppData\\Local\\Programs\\Python\\Python310\\lib\\site-packages\\sklearn\\metrics\\_regression.py:492: FutureWarning: 'squared' is deprecated in version 1.4 and will be removed in 1.6. To calculate the root mean squared error, use the function'root_mean_squared_error'.\n",
      "  warnings.warn(\n",
      "19:40:57 - cmdstanpy - INFO - Chain [1] start processing\n",
      "19:40:57 - cmdstanpy - INFO - Chain [1] done processing\n",
      "c:\\Users\\natra\\AppData\\Local\\Programs\\Python\\Python310\\lib\\site-packages\\sklearn\\metrics\\_regression.py:492: FutureWarning: 'squared' is deprecated in version 1.4 and will be removed in 1.6. To calculate the root mean squared error, use the function'root_mean_squared_error'.\n",
      "  warnings.warn(\n",
      "19:40:58 - cmdstanpy - INFO - Chain [1] start processing\n",
      "19:40:58 - cmdstanpy - INFO - Chain [1] done processing\n",
      "c:\\Users\\natra\\AppData\\Local\\Programs\\Python\\Python310\\lib\\site-packages\\sklearn\\metrics\\_regression.py:492: FutureWarning: 'squared' is deprecated in version 1.4 and will be removed in 1.6. To calculate the root mean squared error, use the function'root_mean_squared_error'.\n",
      "  warnings.warn(\n",
      "19:40:59 - cmdstanpy - INFO - Chain [1] start processing\n",
      "19:40:59 - cmdstanpy - INFO - Chain [1] done processing\n",
      "c:\\Users\\natra\\AppData\\Local\\Programs\\Python\\Python310\\lib\\site-packages\\sklearn\\metrics\\_regression.py:492: FutureWarning: 'squared' is deprecated in version 1.4 and will be removed in 1.6. To calculate the root mean squared error, use the function'root_mean_squared_error'.\n",
      "  warnings.warn(\n",
      "19:41:00 - cmdstanpy - INFO - Chain [1] start processing\n",
      "19:41:00 - cmdstanpy - INFO - Chain [1] done processing\n",
      "c:\\Users\\natra\\AppData\\Local\\Programs\\Python\\Python310\\lib\\site-packages\\sklearn\\metrics\\_regression.py:492: FutureWarning: 'squared' is deprecated in version 1.4 and will be removed in 1.6. To calculate the root mean squared error, use the function'root_mean_squared_error'.\n",
      "  warnings.warn(\n"
     ]
    },
    {
     "name": "stdout",
     "output_type": "stream",
     "text": [
      "R² Score: 0.756, RMSE: 3.856, MAE: 3.118\n",
      "\n",
      "Evaluating: changepoint_prior_scale=0.06999999999999999, seasonality_prior_scale=0.1, seasonality_mode=additive\n"
     ]
    },
    {
     "name": "stderr",
     "output_type": "stream",
     "text": [
      "19:41:00 - cmdstanpy - INFO - Chain [1] start processing\n",
      "19:41:01 - cmdstanpy - INFO - Chain [1] done processing\n",
      "c:\\Users\\natra\\AppData\\Local\\Programs\\Python\\Python310\\lib\\site-packages\\sklearn\\metrics\\_regression.py:492: FutureWarning: 'squared' is deprecated in version 1.4 and will be removed in 1.6. To calculate the root mean squared error, use the function'root_mean_squared_error'.\n",
      "  warnings.warn(\n",
      "19:41:01 - cmdstanpy - INFO - Chain [1] start processing\n",
      "19:41:01 - cmdstanpy - INFO - Chain [1] done processing\n",
      "c:\\Users\\natra\\AppData\\Local\\Programs\\Python\\Python310\\lib\\site-packages\\sklearn\\metrics\\_regression.py:492: FutureWarning: 'squared' is deprecated in version 1.4 and will be removed in 1.6. To calculate the root mean squared error, use the function'root_mean_squared_error'.\n",
      "  warnings.warn(\n",
      "19:41:02 - cmdstanpy - INFO - Chain [1] start processing\n",
      "19:41:02 - cmdstanpy - INFO - Chain [1] done processing\n",
      "c:\\Users\\natra\\AppData\\Local\\Programs\\Python\\Python310\\lib\\site-packages\\sklearn\\metrics\\_regression.py:492: FutureWarning: 'squared' is deprecated in version 1.4 and will be removed in 1.6. To calculate the root mean squared error, use the function'root_mean_squared_error'.\n",
      "  warnings.warn(\n",
      "19:41:03 - cmdstanpy - INFO - Chain [1] start processing\n",
      "19:41:03 - cmdstanpy - INFO - Chain [1] done processing\n",
      "c:\\Users\\natra\\AppData\\Local\\Programs\\Python\\Python310\\lib\\site-packages\\sklearn\\metrics\\_regression.py:492: FutureWarning: 'squared' is deprecated in version 1.4 and will be removed in 1.6. To calculate the root mean squared error, use the function'root_mean_squared_error'.\n",
      "  warnings.warn(\n",
      "19:41:04 - cmdstanpy - INFO - Chain [1] start processing\n",
      "19:41:04 - cmdstanpy - INFO - Chain [1] done processing\n",
      "c:\\Users\\natra\\AppData\\Local\\Programs\\Python\\Python310\\lib\\site-packages\\sklearn\\metrics\\_regression.py:492: FutureWarning: 'squared' is deprecated in version 1.4 and will be removed in 1.6. To calculate the root mean squared error, use the function'root_mean_squared_error'.\n",
      "  warnings.warn(\n"
     ]
    },
    {
     "name": "stdout",
     "output_type": "stream",
     "text": [
      "R² Score: 0.762, RMSE: 3.809, MAE: 3.106\n",
      "\n",
      "Evaluating: changepoint_prior_scale=0.06999999999999999, seasonality_prior_scale=0.1, seasonality_mode=multiplicative\n"
     ]
    },
    {
     "name": "stderr",
     "output_type": "stream",
     "text": [
      "19:41:05 - cmdstanpy - INFO - Chain [1] start processing\n",
      "19:41:05 - cmdstanpy - INFO - Chain [1] done processing\n",
      "c:\\Users\\natra\\AppData\\Local\\Programs\\Python\\Python310\\lib\\site-packages\\sklearn\\metrics\\_regression.py:492: FutureWarning: 'squared' is deprecated in version 1.4 and will be removed in 1.6. To calculate the root mean squared error, use the function'root_mean_squared_error'.\n",
      "  warnings.warn(\n",
      "19:41:06 - cmdstanpy - INFO - Chain [1] start processing\n",
      "19:41:06 - cmdstanpy - INFO - Chain [1] done processing\n",
      "c:\\Users\\natra\\AppData\\Local\\Programs\\Python\\Python310\\lib\\site-packages\\sklearn\\metrics\\_regression.py:492: FutureWarning: 'squared' is deprecated in version 1.4 and will be removed in 1.6. To calculate the root mean squared error, use the function'root_mean_squared_error'.\n",
      "  warnings.warn(\n",
      "19:41:07 - cmdstanpy - INFO - Chain [1] start processing\n",
      "19:41:07 - cmdstanpy - INFO - Chain [1] done processing\n",
      "c:\\Users\\natra\\AppData\\Local\\Programs\\Python\\Python310\\lib\\site-packages\\sklearn\\metrics\\_regression.py:492: FutureWarning: 'squared' is deprecated in version 1.4 and will be removed in 1.6. To calculate the root mean squared error, use the function'root_mean_squared_error'.\n",
      "  warnings.warn(\n",
      "19:41:08 - cmdstanpy - INFO - Chain [1] start processing\n",
      "19:41:08 - cmdstanpy - INFO - Chain [1] done processing\n",
      "c:\\Users\\natra\\AppData\\Local\\Programs\\Python\\Python310\\lib\\site-packages\\sklearn\\metrics\\_regression.py:492: FutureWarning: 'squared' is deprecated in version 1.4 and will be removed in 1.6. To calculate the root mean squared error, use the function'root_mean_squared_error'.\n",
      "  warnings.warn(\n",
      "19:41:09 - cmdstanpy - INFO - Chain [1] start processing\n",
      "19:41:09 - cmdstanpy - INFO - Chain [1] done processing\n",
      "c:\\Users\\natra\\AppData\\Local\\Programs\\Python\\Python310\\lib\\site-packages\\sklearn\\metrics\\_regression.py:492: FutureWarning: 'squared' is deprecated in version 1.4 and will be removed in 1.6. To calculate the root mean squared error, use the function'root_mean_squared_error'.\n",
      "  warnings.warn(\n"
     ]
    },
    {
     "name": "stdout",
     "output_type": "stream",
     "text": [
      "R² Score: 0.760, RMSE: 3.833, MAE: 3.106\n",
      "\n",
      "Evaluating: changepoint_prior_scale=0.06999999999999999, seasonality_prior_scale=1.1, seasonality_mode=additive\n"
     ]
    },
    {
     "name": "stderr",
     "output_type": "stream",
     "text": [
      "19:41:10 - cmdstanpy - INFO - Chain [1] start processing\n",
      "19:41:11 - cmdstanpy - INFO - Chain [1] done processing\n",
      "c:\\Users\\natra\\AppData\\Local\\Programs\\Python\\Python310\\lib\\site-packages\\sklearn\\metrics\\_regression.py:492: FutureWarning: 'squared' is deprecated in version 1.4 and will be removed in 1.6. To calculate the root mean squared error, use the function'root_mean_squared_error'.\n",
      "  warnings.warn(\n",
      "19:41:11 - cmdstanpy - INFO - Chain [1] start processing\n",
      "19:41:12 - cmdstanpy - INFO - Chain [1] done processing\n",
      "c:\\Users\\natra\\AppData\\Local\\Programs\\Python\\Python310\\lib\\site-packages\\sklearn\\metrics\\_regression.py:492: FutureWarning: 'squared' is deprecated in version 1.4 and will be removed in 1.6. To calculate the root mean squared error, use the function'root_mean_squared_error'.\n",
      "  warnings.warn(\n",
      "19:41:12 - cmdstanpy - INFO - Chain [1] start processing\n",
      "19:41:13 - cmdstanpy - INFO - Chain [1] done processing\n",
      "c:\\Users\\natra\\AppData\\Local\\Programs\\Python\\Python310\\lib\\site-packages\\sklearn\\metrics\\_regression.py:492: FutureWarning: 'squared' is deprecated in version 1.4 and will be removed in 1.6. To calculate the root mean squared error, use the function'root_mean_squared_error'.\n",
      "  warnings.warn(\n",
      "19:41:13 - cmdstanpy - INFO - Chain [1] start processing\n",
      "19:41:14 - cmdstanpy - INFO - Chain [1] done processing\n",
      "c:\\Users\\natra\\AppData\\Local\\Programs\\Python\\Python310\\lib\\site-packages\\sklearn\\metrics\\_regression.py:492: FutureWarning: 'squared' is deprecated in version 1.4 and will be removed in 1.6. To calculate the root mean squared error, use the function'root_mean_squared_error'.\n",
      "  warnings.warn(\n",
      "19:41:14 - cmdstanpy - INFO - Chain [1] start processing\n",
      "19:41:14 - cmdstanpy - INFO - Chain [1] done processing\n",
      "c:\\Users\\natra\\AppData\\Local\\Programs\\Python\\Python310\\lib\\site-packages\\sklearn\\metrics\\_regression.py:492: FutureWarning: 'squared' is deprecated in version 1.4 and will be removed in 1.6. To calculate the root mean squared error, use the function'root_mean_squared_error'.\n",
      "  warnings.warn(\n"
     ]
    },
    {
     "name": "stdout",
     "output_type": "stream",
     "text": [
      "R² Score: 0.762, RMSE: 3.812, MAE: 3.109\n",
      "\n",
      "Evaluating: changepoint_prior_scale=0.06999999999999999, seasonality_prior_scale=1.1, seasonality_mode=multiplicative\n"
     ]
    },
    {
     "name": "stderr",
     "output_type": "stream",
     "text": [
      "19:41:15 - cmdstanpy - INFO - Chain [1] start processing\n",
      "19:41:15 - cmdstanpy - INFO - Chain [1] done processing\n",
      "c:\\Users\\natra\\AppData\\Local\\Programs\\Python\\Python310\\lib\\site-packages\\sklearn\\metrics\\_regression.py:492: FutureWarning: 'squared' is deprecated in version 1.4 and will be removed in 1.6. To calculate the root mean squared error, use the function'root_mean_squared_error'.\n",
      "  warnings.warn(\n",
      "19:41:16 - cmdstanpy - INFO - Chain [1] start processing\n",
      "19:41:16 - cmdstanpy - INFO - Chain [1] done processing\n",
      "c:\\Users\\natra\\AppData\\Local\\Programs\\Python\\Python310\\lib\\site-packages\\sklearn\\metrics\\_regression.py:492: FutureWarning: 'squared' is deprecated in version 1.4 and will be removed in 1.6. To calculate the root mean squared error, use the function'root_mean_squared_error'.\n",
      "  warnings.warn(\n",
      "19:41:17 - cmdstanpy - INFO - Chain [1] start processing\n",
      "19:41:17 - cmdstanpy - INFO - Chain [1] done processing\n",
      "c:\\Users\\natra\\AppData\\Local\\Programs\\Python\\Python310\\lib\\site-packages\\sklearn\\metrics\\_regression.py:492: FutureWarning: 'squared' is deprecated in version 1.4 and will be removed in 1.6. To calculate the root mean squared error, use the function'root_mean_squared_error'.\n",
      "  warnings.warn(\n",
      "19:41:18 - cmdstanpy - INFO - Chain [1] start processing\n",
      "19:41:18 - cmdstanpy - INFO - Chain [1] done processing\n",
      "c:\\Users\\natra\\AppData\\Local\\Programs\\Python\\Python310\\lib\\site-packages\\sklearn\\metrics\\_regression.py:492: FutureWarning: 'squared' is deprecated in version 1.4 and will be removed in 1.6. To calculate the root mean squared error, use the function'root_mean_squared_error'.\n",
      "  warnings.warn(\n",
      "19:41:19 - cmdstanpy - INFO - Chain [1] start processing\n",
      "19:41:19 - cmdstanpy - INFO - Chain [1] done processing\n",
      "c:\\Users\\natra\\AppData\\Local\\Programs\\Python\\Python310\\lib\\site-packages\\sklearn\\metrics\\_regression.py:492: FutureWarning: 'squared' is deprecated in version 1.4 and will be removed in 1.6. To calculate the root mean squared error, use the function'root_mean_squared_error'.\n",
      "  warnings.warn(\n"
     ]
    },
    {
     "name": "stdout",
     "output_type": "stream",
     "text": [
      "R² Score: 0.760, RMSE: 3.828, MAE: 3.114\n",
      "\n",
      "Evaluating: changepoint_prior_scale=0.06999999999999999, seasonality_prior_scale=2.1, seasonality_mode=additive\n"
     ]
    },
    {
     "name": "stderr",
     "output_type": "stream",
     "text": [
      "19:41:20 - cmdstanpy - INFO - Chain [1] start processing\n",
      "19:41:20 - cmdstanpy - INFO - Chain [1] done processing\n",
      "c:\\Users\\natra\\AppData\\Local\\Programs\\Python\\Python310\\lib\\site-packages\\sklearn\\metrics\\_regression.py:492: FutureWarning: 'squared' is deprecated in version 1.4 and will be removed in 1.6. To calculate the root mean squared error, use the function'root_mean_squared_error'.\n",
      "  warnings.warn(\n",
      "19:41:21 - cmdstanpy - INFO - Chain [1] start processing\n",
      "19:41:21 - cmdstanpy - INFO - Chain [1] done processing\n",
      "c:\\Users\\natra\\AppData\\Local\\Programs\\Python\\Python310\\lib\\site-packages\\sklearn\\metrics\\_regression.py:492: FutureWarning: 'squared' is deprecated in version 1.4 and will be removed in 1.6. To calculate the root mean squared error, use the function'root_mean_squared_error'.\n",
      "  warnings.warn(\n",
      "19:41:22 - cmdstanpy - INFO - Chain [1] start processing\n",
      "19:41:22 - cmdstanpy - INFO - Chain [1] done processing\n",
      "c:\\Users\\natra\\AppData\\Local\\Programs\\Python\\Python310\\lib\\site-packages\\sklearn\\metrics\\_regression.py:492: FutureWarning: 'squared' is deprecated in version 1.4 and will be removed in 1.6. To calculate the root mean squared error, use the function'root_mean_squared_error'.\n",
      "  warnings.warn(\n",
      "19:41:23 - cmdstanpy - INFO - Chain [1] start processing\n",
      "19:41:23 - cmdstanpy - INFO - Chain [1] done processing\n",
      "c:\\Users\\natra\\AppData\\Local\\Programs\\Python\\Python310\\lib\\site-packages\\sklearn\\metrics\\_regression.py:492: FutureWarning: 'squared' is deprecated in version 1.4 and will be removed in 1.6. To calculate the root mean squared error, use the function'root_mean_squared_error'.\n",
      "  warnings.warn(\n",
      "19:41:24 - cmdstanpy - INFO - Chain [1] start processing\n",
      "19:41:24 - cmdstanpy - INFO - Chain [1] done processing\n",
      "c:\\Users\\natra\\AppData\\Local\\Programs\\Python\\Python310\\lib\\site-packages\\sklearn\\metrics\\_regression.py:492: FutureWarning: 'squared' is deprecated in version 1.4 and will be removed in 1.6. To calculate the root mean squared error, use the function'root_mean_squared_error'.\n",
      "  warnings.warn(\n"
     ]
    },
    {
     "name": "stdout",
     "output_type": "stream",
     "text": [
      "R² Score: 0.761, RMSE: 3.815, MAE: 3.112\n",
      "\n",
      "Evaluating: changepoint_prior_scale=0.06999999999999999, seasonality_prior_scale=2.1, seasonality_mode=multiplicative\n"
     ]
    },
    {
     "name": "stderr",
     "output_type": "stream",
     "text": [
      "19:41:25 - cmdstanpy - INFO - Chain [1] start processing\n",
      "19:41:25 - cmdstanpy - INFO - Chain [1] done processing\n",
      "c:\\Users\\natra\\AppData\\Local\\Programs\\Python\\Python310\\lib\\site-packages\\sklearn\\metrics\\_regression.py:492: FutureWarning: 'squared' is deprecated in version 1.4 and will be removed in 1.6. To calculate the root mean squared error, use the function'root_mean_squared_error'.\n",
      "  warnings.warn(\n",
      "19:41:26 - cmdstanpy - INFO - Chain [1] start processing\n",
      "19:41:26 - cmdstanpy - INFO - Chain [1] done processing\n",
      "c:\\Users\\natra\\AppData\\Local\\Programs\\Python\\Python310\\lib\\site-packages\\sklearn\\metrics\\_regression.py:492: FutureWarning: 'squared' is deprecated in version 1.4 and will be removed in 1.6. To calculate the root mean squared error, use the function'root_mean_squared_error'.\n",
      "  warnings.warn(\n",
      "19:41:26 - cmdstanpy - INFO - Chain [1] start processing\n",
      "19:41:27 - cmdstanpy - INFO - Chain [1] done processing\n",
      "c:\\Users\\natra\\AppData\\Local\\Programs\\Python\\Python310\\lib\\site-packages\\sklearn\\metrics\\_regression.py:492: FutureWarning: 'squared' is deprecated in version 1.4 and will be removed in 1.6. To calculate the root mean squared error, use the function'root_mean_squared_error'.\n",
      "  warnings.warn(\n",
      "19:41:27 - cmdstanpy - INFO - Chain [1] start processing\n",
      "19:41:27 - cmdstanpy - INFO - Chain [1] done processing\n",
      "c:\\Users\\natra\\AppData\\Local\\Programs\\Python\\Python310\\lib\\site-packages\\sklearn\\metrics\\_regression.py:492: FutureWarning: 'squared' is deprecated in version 1.4 and will be removed in 1.6. To calculate the root mean squared error, use the function'root_mean_squared_error'.\n",
      "  warnings.warn(\n",
      "19:41:28 - cmdstanpy - INFO - Chain [1] start processing\n",
      "19:41:28 - cmdstanpy - INFO - Chain [1] done processing\n",
      "c:\\Users\\natra\\AppData\\Local\\Programs\\Python\\Python310\\lib\\site-packages\\sklearn\\metrics\\_regression.py:492: FutureWarning: 'squared' is deprecated in version 1.4 and will be removed in 1.6. To calculate the root mean squared error, use the function'root_mean_squared_error'.\n",
      "  warnings.warn(\n"
     ]
    },
    {
     "name": "stdout",
     "output_type": "stream",
     "text": [
      "R² Score: 0.757, RMSE: 3.856, MAE: 3.120\n",
      "\n",
      "Evaluating: changepoint_prior_scale=0.06999999999999999, seasonality_prior_scale=3.1, seasonality_mode=additive\n"
     ]
    },
    {
     "name": "stderr",
     "output_type": "stream",
     "text": [
      "19:41:29 - cmdstanpy - INFO - Chain [1] start processing\n",
      "19:41:29 - cmdstanpy - INFO - Chain [1] done processing\n",
      "c:\\Users\\natra\\AppData\\Local\\Programs\\Python\\Python310\\lib\\site-packages\\sklearn\\metrics\\_regression.py:492: FutureWarning: 'squared' is deprecated in version 1.4 and will be removed in 1.6. To calculate the root mean squared error, use the function'root_mean_squared_error'.\n",
      "  warnings.warn(\n",
      "19:41:30 - cmdstanpy - INFO - Chain [1] start processing\n",
      "19:41:30 - cmdstanpy - INFO - Chain [1] done processing\n",
      "c:\\Users\\natra\\AppData\\Local\\Programs\\Python\\Python310\\lib\\site-packages\\sklearn\\metrics\\_regression.py:492: FutureWarning: 'squared' is deprecated in version 1.4 and will be removed in 1.6. To calculate the root mean squared error, use the function'root_mean_squared_error'.\n",
      "  warnings.warn(\n",
      "19:41:30 - cmdstanpy - INFO - Chain [1] start processing\n",
      "19:41:30 - cmdstanpy - INFO - Chain [1] done processing\n",
      "c:\\Users\\natra\\AppData\\Local\\Programs\\Python\\Python310\\lib\\site-packages\\sklearn\\metrics\\_regression.py:492: FutureWarning: 'squared' is deprecated in version 1.4 and will be removed in 1.6. To calculate the root mean squared error, use the function'root_mean_squared_error'.\n",
      "  warnings.warn(\n",
      "19:41:31 - cmdstanpy - INFO - Chain [1] start processing\n",
      "19:41:31 - cmdstanpy - INFO - Chain [1] done processing\n",
      "c:\\Users\\natra\\AppData\\Local\\Programs\\Python\\Python310\\lib\\site-packages\\sklearn\\metrics\\_regression.py:492: FutureWarning: 'squared' is deprecated in version 1.4 and will be removed in 1.6. To calculate the root mean squared error, use the function'root_mean_squared_error'.\n",
      "  warnings.warn(\n",
      "19:41:32 - cmdstanpy - INFO - Chain [1] start processing\n",
      "19:41:32 - cmdstanpy - INFO - Chain [1] done processing\n",
      "c:\\Users\\natra\\AppData\\Local\\Programs\\Python\\Python310\\lib\\site-packages\\sklearn\\metrics\\_regression.py:492: FutureWarning: 'squared' is deprecated in version 1.4 and will be removed in 1.6. To calculate the root mean squared error, use the function'root_mean_squared_error'.\n",
      "  warnings.warn(\n"
     ]
    },
    {
     "name": "stdout",
     "output_type": "stream",
     "text": [
      "R² Score: 0.766, RMSE: 3.782, MAE: 3.077\n",
      "\n",
      "Evaluating: changepoint_prior_scale=0.06999999999999999, seasonality_prior_scale=3.1, seasonality_mode=multiplicative\n"
     ]
    },
    {
     "name": "stderr",
     "output_type": "stream",
     "text": [
      "19:41:33 - cmdstanpy - INFO - Chain [1] start processing\n",
      "19:41:33 - cmdstanpy - INFO - Chain [1] done processing\n",
      "c:\\Users\\natra\\AppData\\Local\\Programs\\Python\\Python310\\lib\\site-packages\\sklearn\\metrics\\_regression.py:492: FutureWarning: 'squared' is deprecated in version 1.4 and will be removed in 1.6. To calculate the root mean squared error, use the function'root_mean_squared_error'.\n",
      "  warnings.warn(\n",
      "19:41:34 - cmdstanpy - INFO - Chain [1] start processing\n",
      "19:41:34 - cmdstanpy - INFO - Chain [1] done processing\n",
      "c:\\Users\\natra\\AppData\\Local\\Programs\\Python\\Python310\\lib\\site-packages\\sklearn\\metrics\\_regression.py:492: FutureWarning: 'squared' is deprecated in version 1.4 and will be removed in 1.6. To calculate the root mean squared error, use the function'root_mean_squared_error'.\n",
      "  warnings.warn(\n",
      "19:41:35 - cmdstanpy - INFO - Chain [1] start processing\n",
      "19:41:35 - cmdstanpy - INFO - Chain [1] done processing\n",
      "c:\\Users\\natra\\AppData\\Local\\Programs\\Python\\Python310\\lib\\site-packages\\sklearn\\metrics\\_regression.py:492: FutureWarning: 'squared' is deprecated in version 1.4 and will be removed in 1.6. To calculate the root mean squared error, use the function'root_mean_squared_error'.\n",
      "  warnings.warn(\n",
      "19:41:36 - cmdstanpy - INFO - Chain [1] start processing\n",
      "19:41:36 - cmdstanpy - INFO - Chain [1] done processing\n",
      "c:\\Users\\natra\\AppData\\Local\\Programs\\Python\\Python310\\lib\\site-packages\\sklearn\\metrics\\_regression.py:492: FutureWarning: 'squared' is deprecated in version 1.4 and will be removed in 1.6. To calculate the root mean squared error, use the function'root_mean_squared_error'.\n",
      "  warnings.warn(\n",
      "19:41:37 - cmdstanpy - INFO - Chain [1] start processing\n",
      "19:41:37 - cmdstanpy - INFO - Chain [1] done processing\n",
      "c:\\Users\\natra\\AppData\\Local\\Programs\\Python\\Python310\\lib\\site-packages\\sklearn\\metrics\\_regression.py:492: FutureWarning: 'squared' is deprecated in version 1.4 and will be removed in 1.6. To calculate the root mean squared error, use the function'root_mean_squared_error'.\n",
      "  warnings.warn(\n"
     ]
    },
    {
     "name": "stdout",
     "output_type": "stream",
     "text": [
      "R² Score: 0.758, RMSE: 3.848, MAE: 3.115\n",
      "\n",
      "Evaluating: changepoint_prior_scale=0.06999999999999999, seasonality_prior_scale=4.1, seasonality_mode=additive\n"
     ]
    },
    {
     "name": "stderr",
     "output_type": "stream",
     "text": [
      "19:41:37 - cmdstanpy - INFO - Chain [1] start processing\n",
      "19:41:38 - cmdstanpy - INFO - Chain [1] done processing\n",
      "c:\\Users\\natra\\AppData\\Local\\Programs\\Python\\Python310\\lib\\site-packages\\sklearn\\metrics\\_regression.py:492: FutureWarning: 'squared' is deprecated in version 1.4 and will be removed in 1.6. To calculate the root mean squared error, use the function'root_mean_squared_error'.\n",
      "  warnings.warn(\n",
      "19:41:39 - cmdstanpy - INFO - Chain [1] start processing\n",
      "19:41:39 - cmdstanpy - INFO - Chain [1] done processing\n",
      "c:\\Users\\natra\\AppData\\Local\\Programs\\Python\\Python310\\lib\\site-packages\\sklearn\\metrics\\_regression.py:492: FutureWarning: 'squared' is deprecated in version 1.4 and will be removed in 1.6. To calculate the root mean squared error, use the function'root_mean_squared_error'.\n",
      "  warnings.warn(\n",
      "19:41:39 - cmdstanpy - INFO - Chain [1] start processing\n",
      "19:41:40 - cmdstanpy - INFO - Chain [1] done processing\n",
      "c:\\Users\\natra\\AppData\\Local\\Programs\\Python\\Python310\\lib\\site-packages\\sklearn\\metrics\\_regression.py:492: FutureWarning: 'squared' is deprecated in version 1.4 and will be removed in 1.6. To calculate the root mean squared error, use the function'root_mean_squared_error'.\n",
      "  warnings.warn(\n",
      "19:41:40 - cmdstanpy - INFO - Chain [1] start processing\n",
      "19:41:40 - cmdstanpy - INFO - Chain [1] done processing\n",
      "c:\\Users\\natra\\AppData\\Local\\Programs\\Python\\Python310\\lib\\site-packages\\sklearn\\metrics\\_regression.py:492: FutureWarning: 'squared' is deprecated in version 1.4 and will be removed in 1.6. To calculate the root mean squared error, use the function'root_mean_squared_error'.\n",
      "  warnings.warn(\n",
      "19:41:41 - cmdstanpy - INFO - Chain [1] start processing\n",
      "19:41:41 - cmdstanpy - INFO - Chain [1] done processing\n",
      "c:\\Users\\natra\\AppData\\Local\\Programs\\Python\\Python310\\lib\\site-packages\\sklearn\\metrics\\_regression.py:492: FutureWarning: 'squared' is deprecated in version 1.4 and will be removed in 1.6. To calculate the root mean squared error, use the function'root_mean_squared_error'.\n",
      "  warnings.warn(\n"
     ]
    },
    {
     "name": "stdout",
     "output_type": "stream",
     "text": [
      "R² Score: 0.766, RMSE: 3.779, MAE: 3.076\n",
      "\n",
      "Evaluating: changepoint_prior_scale=0.06999999999999999, seasonality_prior_scale=4.1, seasonality_mode=multiplicative\n"
     ]
    },
    {
     "name": "stderr",
     "output_type": "stream",
     "text": [
      "19:41:42 - cmdstanpy - INFO - Chain [1] start processing\n",
      "19:41:42 - cmdstanpy - INFO - Chain [1] done processing\n",
      "c:\\Users\\natra\\AppData\\Local\\Programs\\Python\\Python310\\lib\\site-packages\\sklearn\\metrics\\_regression.py:492: FutureWarning: 'squared' is deprecated in version 1.4 and will be removed in 1.6. To calculate the root mean squared error, use the function'root_mean_squared_error'.\n",
      "  warnings.warn(\n",
      "19:41:43 - cmdstanpy - INFO - Chain [1] start processing\n",
      "19:41:43 - cmdstanpy - INFO - Chain [1] done processing\n",
      "c:\\Users\\natra\\AppData\\Local\\Programs\\Python\\Python310\\lib\\site-packages\\sklearn\\metrics\\_regression.py:492: FutureWarning: 'squared' is deprecated in version 1.4 and will be removed in 1.6. To calculate the root mean squared error, use the function'root_mean_squared_error'.\n",
      "  warnings.warn(\n",
      "19:41:44 - cmdstanpy - INFO - Chain [1] start processing\n",
      "19:41:44 - cmdstanpy - INFO - Chain [1] done processing\n",
      "c:\\Users\\natra\\AppData\\Local\\Programs\\Python\\Python310\\lib\\site-packages\\sklearn\\metrics\\_regression.py:492: FutureWarning: 'squared' is deprecated in version 1.4 and will be removed in 1.6. To calculate the root mean squared error, use the function'root_mean_squared_error'.\n",
      "  warnings.warn(\n",
      "19:41:44 - cmdstanpy - INFO - Chain [1] start processing\n",
      "19:41:45 - cmdstanpy - INFO - Chain [1] done processing\n",
      "c:\\Users\\natra\\AppData\\Local\\Programs\\Python\\Python310\\lib\\site-packages\\sklearn\\metrics\\_regression.py:492: FutureWarning: 'squared' is deprecated in version 1.4 and will be removed in 1.6. To calculate the root mean squared error, use the function'root_mean_squared_error'.\n",
      "  warnings.warn(\n",
      "19:41:45 - cmdstanpy - INFO - Chain [1] start processing\n",
      "19:41:45 - cmdstanpy - INFO - Chain [1] done processing\n",
      "c:\\Users\\natra\\AppData\\Local\\Programs\\Python\\Python310\\lib\\site-packages\\sklearn\\metrics\\_regression.py:492: FutureWarning: 'squared' is deprecated in version 1.4 and will be removed in 1.6. To calculate the root mean squared error, use the function'root_mean_squared_error'.\n",
      "  warnings.warn(\n"
     ]
    },
    {
     "name": "stdout",
     "output_type": "stream",
     "text": [
      "R² Score: 0.757, RMSE: 3.849, MAE: 3.115\n",
      "\n",
      "Evaluating: changepoint_prior_scale=0.06999999999999999, seasonality_prior_scale=5.1, seasonality_mode=additive\n"
     ]
    },
    {
     "name": "stderr",
     "output_type": "stream",
     "text": [
      "19:41:46 - cmdstanpy - INFO - Chain [1] start processing\n",
      "19:41:46 - cmdstanpy - INFO - Chain [1] done processing\n",
      "c:\\Users\\natra\\AppData\\Local\\Programs\\Python\\Python310\\lib\\site-packages\\sklearn\\metrics\\_regression.py:492: FutureWarning: 'squared' is deprecated in version 1.4 and will be removed in 1.6. To calculate the root mean squared error, use the function'root_mean_squared_error'.\n",
      "  warnings.warn(\n",
      "19:41:47 - cmdstanpy - INFO - Chain [1] start processing\n",
      "19:41:47 - cmdstanpy - INFO - Chain [1] done processing\n",
      "c:\\Users\\natra\\AppData\\Local\\Programs\\Python\\Python310\\lib\\site-packages\\sklearn\\metrics\\_regression.py:492: FutureWarning: 'squared' is deprecated in version 1.4 and will be removed in 1.6. To calculate the root mean squared error, use the function'root_mean_squared_error'.\n",
      "  warnings.warn(\n",
      "19:41:48 - cmdstanpy - INFO - Chain [1] start processing\n",
      "19:41:48 - cmdstanpy - INFO - Chain [1] done processing\n",
      "c:\\Users\\natra\\AppData\\Local\\Programs\\Python\\Python310\\lib\\site-packages\\sklearn\\metrics\\_regression.py:492: FutureWarning: 'squared' is deprecated in version 1.4 and will be removed in 1.6. To calculate the root mean squared error, use the function'root_mean_squared_error'.\n",
      "  warnings.warn(\n",
      "19:41:49 - cmdstanpy - INFO - Chain [1] start processing\n",
      "19:41:49 - cmdstanpy - INFO - Chain [1] done processing\n",
      "c:\\Users\\natra\\AppData\\Local\\Programs\\Python\\Python310\\lib\\site-packages\\sklearn\\metrics\\_regression.py:492: FutureWarning: 'squared' is deprecated in version 1.4 and will be removed in 1.6. To calculate the root mean squared error, use the function'root_mean_squared_error'.\n",
      "  warnings.warn(\n",
      "19:41:49 - cmdstanpy - INFO - Chain [1] start processing\n",
      "19:41:50 - cmdstanpy - INFO - Chain [1] done processing\n",
      "c:\\Users\\natra\\AppData\\Local\\Programs\\Python\\Python310\\lib\\site-packages\\sklearn\\metrics\\_regression.py:492: FutureWarning: 'squared' is deprecated in version 1.4 and will be removed in 1.6. To calculate the root mean squared error, use the function'root_mean_squared_error'.\n",
      "  warnings.warn(\n"
     ]
    },
    {
     "name": "stdout",
     "output_type": "stream",
     "text": [
      "R² Score: 0.763, RMSE: 3.807, MAE: 3.104\n",
      "\n",
      "Evaluating: changepoint_prior_scale=0.06999999999999999, seasonality_prior_scale=5.1, seasonality_mode=multiplicative\n"
     ]
    },
    {
     "name": "stderr",
     "output_type": "stream",
     "text": [
      "19:41:50 - cmdstanpy - INFO - Chain [1] start processing\n",
      "19:41:50 - cmdstanpy - INFO - Chain [1] done processing\n",
      "c:\\Users\\natra\\AppData\\Local\\Programs\\Python\\Python310\\lib\\site-packages\\sklearn\\metrics\\_regression.py:492: FutureWarning: 'squared' is deprecated in version 1.4 and will be removed in 1.6. To calculate the root mean squared error, use the function'root_mean_squared_error'.\n",
      "  warnings.warn(\n",
      "19:41:51 - cmdstanpy - INFO - Chain [1] start processing\n",
      "19:41:51 - cmdstanpy - INFO - Chain [1] done processing\n",
      "c:\\Users\\natra\\AppData\\Local\\Programs\\Python\\Python310\\lib\\site-packages\\sklearn\\metrics\\_regression.py:492: FutureWarning: 'squared' is deprecated in version 1.4 and will be removed in 1.6. To calculate the root mean squared error, use the function'root_mean_squared_error'.\n",
      "  warnings.warn(\n",
      "19:41:52 - cmdstanpy - INFO - Chain [1] start processing\n",
      "19:41:52 - cmdstanpy - INFO - Chain [1] done processing\n",
      "c:\\Users\\natra\\AppData\\Local\\Programs\\Python\\Python310\\lib\\site-packages\\sklearn\\metrics\\_regression.py:492: FutureWarning: 'squared' is deprecated in version 1.4 and will be removed in 1.6. To calculate the root mean squared error, use the function'root_mean_squared_error'.\n",
      "  warnings.warn(\n",
      "19:41:53 - cmdstanpy - INFO - Chain [1] start processing\n",
      "19:41:53 - cmdstanpy - INFO - Chain [1] done processing\n",
      "c:\\Users\\natra\\AppData\\Local\\Programs\\Python\\Python310\\lib\\site-packages\\sklearn\\metrics\\_regression.py:492: FutureWarning: 'squared' is deprecated in version 1.4 and will be removed in 1.6. To calculate the root mean squared error, use the function'root_mean_squared_error'.\n",
      "  warnings.warn(\n",
      "19:41:53 - cmdstanpy - INFO - Chain [1] start processing\n",
      "19:41:54 - cmdstanpy - INFO - Chain [1] done processing\n",
      "c:\\Users\\natra\\AppData\\Local\\Programs\\Python\\Python310\\lib\\site-packages\\sklearn\\metrics\\_regression.py:492: FutureWarning: 'squared' is deprecated in version 1.4 and will be removed in 1.6. To calculate the root mean squared error, use the function'root_mean_squared_error'.\n",
      "  warnings.warn(\n"
     ]
    },
    {
     "name": "stdout",
     "output_type": "stream",
     "text": [
      "R² Score: 0.758, RMSE: 3.848, MAE: 3.115\n",
      "\n",
      "Evaluating: changepoint_prior_scale=0.06999999999999999, seasonality_prior_scale=6.1, seasonality_mode=additive\n"
     ]
    },
    {
     "name": "stderr",
     "output_type": "stream",
     "text": [
      "19:41:55 - cmdstanpy - INFO - Chain [1] start processing\n",
      "19:41:55 - cmdstanpy - INFO - Chain [1] done processing\n",
      "c:\\Users\\natra\\AppData\\Local\\Programs\\Python\\Python310\\lib\\site-packages\\sklearn\\metrics\\_regression.py:492: FutureWarning: 'squared' is deprecated in version 1.4 and will be removed in 1.6. To calculate the root mean squared error, use the function'root_mean_squared_error'.\n",
      "  warnings.warn(\n",
      "19:41:56 - cmdstanpy - INFO - Chain [1] start processing\n",
      "19:41:56 - cmdstanpy - INFO - Chain [1] done processing\n",
      "c:\\Users\\natra\\AppData\\Local\\Programs\\Python\\Python310\\lib\\site-packages\\sklearn\\metrics\\_regression.py:492: FutureWarning: 'squared' is deprecated in version 1.4 and will be removed in 1.6. To calculate the root mean squared error, use the function'root_mean_squared_error'.\n",
      "  warnings.warn(\n",
      "19:41:56 - cmdstanpy - INFO - Chain [1] start processing\n",
      "19:41:57 - cmdstanpy - INFO - Chain [1] done processing\n",
      "c:\\Users\\natra\\AppData\\Local\\Programs\\Python\\Python310\\lib\\site-packages\\sklearn\\metrics\\_regression.py:492: FutureWarning: 'squared' is deprecated in version 1.4 and will be removed in 1.6. To calculate the root mean squared error, use the function'root_mean_squared_error'.\n",
      "  warnings.warn(\n",
      "19:41:57 - cmdstanpy - INFO - Chain [1] start processing\n",
      "19:41:58 - cmdstanpy - INFO - Chain [1] done processing\n",
      "c:\\Users\\natra\\AppData\\Local\\Programs\\Python\\Python310\\lib\\site-packages\\sklearn\\metrics\\_regression.py:492: FutureWarning: 'squared' is deprecated in version 1.4 and will be removed in 1.6. To calculate the root mean squared error, use the function'root_mean_squared_error'.\n",
      "  warnings.warn(\n",
      "19:41:58 - cmdstanpy - INFO - Chain [1] start processing\n",
      "19:41:58 - cmdstanpy - INFO - Chain [1] done processing\n",
      "c:\\Users\\natra\\AppData\\Local\\Programs\\Python\\Python310\\lib\\site-packages\\sklearn\\metrics\\_regression.py:492: FutureWarning: 'squared' is deprecated in version 1.4 and will be removed in 1.6. To calculate the root mean squared error, use the function'root_mean_squared_error'.\n",
      "  warnings.warn(\n"
     ]
    },
    {
     "name": "stdout",
     "output_type": "stream",
     "text": [
      "R² Score: 0.762, RMSE: 3.808, MAE: 3.106\n",
      "\n",
      "Evaluating: changepoint_prior_scale=0.06999999999999999, seasonality_prior_scale=6.1, seasonality_mode=multiplicative\n"
     ]
    },
    {
     "name": "stderr",
     "output_type": "stream",
     "text": [
      "19:41:59 - cmdstanpy - INFO - Chain [1] start processing\n",
      "19:41:59 - cmdstanpy - INFO - Chain [1] done processing\n",
      "c:\\Users\\natra\\AppData\\Local\\Programs\\Python\\Python310\\lib\\site-packages\\sklearn\\metrics\\_regression.py:492: FutureWarning: 'squared' is deprecated in version 1.4 and will be removed in 1.6. To calculate the root mean squared error, use the function'root_mean_squared_error'.\n",
      "  warnings.warn(\n",
      "19:42:00 - cmdstanpy - INFO - Chain [1] start processing\n",
      "19:42:00 - cmdstanpy - INFO - Chain [1] done processing\n",
      "c:\\Users\\natra\\AppData\\Local\\Programs\\Python\\Python310\\lib\\site-packages\\sklearn\\metrics\\_regression.py:492: FutureWarning: 'squared' is deprecated in version 1.4 and will be removed in 1.6. To calculate the root mean squared error, use the function'root_mean_squared_error'.\n",
      "  warnings.warn(\n",
      "19:42:01 - cmdstanpy - INFO - Chain [1] start processing\n",
      "19:42:01 - cmdstanpy - INFO - Chain [1] done processing\n",
      "c:\\Users\\natra\\AppData\\Local\\Programs\\Python\\Python310\\lib\\site-packages\\sklearn\\metrics\\_regression.py:492: FutureWarning: 'squared' is deprecated in version 1.4 and will be removed in 1.6. To calculate the root mean squared error, use the function'root_mean_squared_error'.\n",
      "  warnings.warn(\n",
      "19:42:02 - cmdstanpy - INFO - Chain [1] start processing\n",
      "19:42:02 - cmdstanpy - INFO - Chain [1] done processing\n",
      "c:\\Users\\natra\\AppData\\Local\\Programs\\Python\\Python310\\lib\\site-packages\\sklearn\\metrics\\_regression.py:492: FutureWarning: 'squared' is deprecated in version 1.4 and will be removed in 1.6. To calculate the root mean squared error, use the function'root_mean_squared_error'.\n",
      "  warnings.warn(\n",
      "19:42:03 - cmdstanpy - INFO - Chain [1] start processing\n",
      "19:42:03 - cmdstanpy - INFO - Chain [1] done processing\n",
      "c:\\Users\\natra\\AppData\\Local\\Programs\\Python\\Python310\\lib\\site-packages\\sklearn\\metrics\\_regression.py:492: FutureWarning: 'squared' is deprecated in version 1.4 and will be removed in 1.6. To calculate the root mean squared error, use the function'root_mean_squared_error'.\n",
      "  warnings.warn(\n"
     ]
    },
    {
     "name": "stdout",
     "output_type": "stream",
     "text": [
      "R² Score: 0.760, RMSE: 3.831, MAE: 3.117\n",
      "\n",
      "Evaluating: changepoint_prior_scale=0.06999999999999999, seasonality_prior_scale=7.1, seasonality_mode=additive\n"
     ]
    },
    {
     "name": "stderr",
     "output_type": "stream",
     "text": [
      "19:42:04 - cmdstanpy - INFO - Chain [1] start processing\n",
      "19:42:04 - cmdstanpy - INFO - Chain [1] done processing\n",
      "c:\\Users\\natra\\AppData\\Local\\Programs\\Python\\Python310\\lib\\site-packages\\sklearn\\metrics\\_regression.py:492: FutureWarning: 'squared' is deprecated in version 1.4 and will be removed in 1.6. To calculate the root mean squared error, use the function'root_mean_squared_error'.\n",
      "  warnings.warn(\n",
      "19:42:05 - cmdstanpy - INFO - Chain [1] start processing\n",
      "19:42:05 - cmdstanpy - INFO - Chain [1] done processing\n",
      "c:\\Users\\natra\\AppData\\Local\\Programs\\Python\\Python310\\lib\\site-packages\\sklearn\\metrics\\_regression.py:492: FutureWarning: 'squared' is deprecated in version 1.4 and will be removed in 1.6. To calculate the root mean squared error, use the function'root_mean_squared_error'.\n",
      "  warnings.warn(\n",
      "19:42:06 - cmdstanpy - INFO - Chain [1] start processing\n",
      "19:42:06 - cmdstanpy - INFO - Chain [1] done processing\n",
      "c:\\Users\\natra\\AppData\\Local\\Programs\\Python\\Python310\\lib\\site-packages\\sklearn\\metrics\\_regression.py:492: FutureWarning: 'squared' is deprecated in version 1.4 and will be removed in 1.6. To calculate the root mean squared error, use the function'root_mean_squared_error'.\n",
      "  warnings.warn(\n",
      "19:42:07 - cmdstanpy - INFO - Chain [1] start processing\n",
      "19:42:07 - cmdstanpy - INFO - Chain [1] done processing\n",
      "c:\\Users\\natra\\AppData\\Local\\Programs\\Python\\Python310\\lib\\site-packages\\sklearn\\metrics\\_regression.py:492: FutureWarning: 'squared' is deprecated in version 1.4 and will be removed in 1.6. To calculate the root mean squared error, use the function'root_mean_squared_error'.\n",
      "  warnings.warn(\n",
      "19:42:08 - cmdstanpy - INFO - Chain [1] start processing\n",
      "19:42:08 - cmdstanpy - INFO - Chain [1] done processing\n",
      "c:\\Users\\natra\\AppData\\Local\\Programs\\Python\\Python310\\lib\\site-packages\\sklearn\\metrics\\_regression.py:492: FutureWarning: 'squared' is deprecated in version 1.4 and will be removed in 1.6. To calculate the root mean squared error, use the function'root_mean_squared_error'.\n",
      "  warnings.warn(\n"
     ]
    },
    {
     "name": "stdout",
     "output_type": "stream",
     "text": [
      "R² Score: 0.763, RMSE: 3.800, MAE: 3.098\n",
      "\n",
      "Evaluating: changepoint_prior_scale=0.06999999999999999, seasonality_prior_scale=7.1, seasonality_mode=multiplicative\n"
     ]
    },
    {
     "name": "stderr",
     "output_type": "stream",
     "text": [
      "19:42:08 - cmdstanpy - INFO - Chain [1] start processing\n",
      "19:42:09 - cmdstanpy - INFO - Chain [1] done processing\n",
      "c:\\Users\\natra\\AppData\\Local\\Programs\\Python\\Python310\\lib\\site-packages\\sklearn\\metrics\\_regression.py:492: FutureWarning: 'squared' is deprecated in version 1.4 and will be removed in 1.6. To calculate the root mean squared error, use the function'root_mean_squared_error'.\n",
      "  warnings.warn(\n",
      "19:42:09 - cmdstanpy - INFO - Chain [1] start processing\n",
      "19:42:09 - cmdstanpy - INFO - Chain [1] done processing\n",
      "c:\\Users\\natra\\AppData\\Local\\Programs\\Python\\Python310\\lib\\site-packages\\sklearn\\metrics\\_regression.py:492: FutureWarning: 'squared' is deprecated in version 1.4 and will be removed in 1.6. To calculate the root mean squared error, use the function'root_mean_squared_error'.\n",
      "  warnings.warn(\n",
      "19:42:10 - cmdstanpy - INFO - Chain [1] start processing\n",
      "19:42:10 - cmdstanpy - INFO - Chain [1] done processing\n",
      "c:\\Users\\natra\\AppData\\Local\\Programs\\Python\\Python310\\lib\\site-packages\\sklearn\\metrics\\_regression.py:492: FutureWarning: 'squared' is deprecated in version 1.4 and will be removed in 1.6. To calculate the root mean squared error, use the function'root_mean_squared_error'.\n",
      "  warnings.warn(\n",
      "19:42:11 - cmdstanpy - INFO - Chain [1] start processing\n",
      "19:42:11 - cmdstanpy - INFO - Chain [1] done processing\n",
      "c:\\Users\\natra\\AppData\\Local\\Programs\\Python\\Python310\\lib\\site-packages\\sklearn\\metrics\\_regression.py:492: FutureWarning: 'squared' is deprecated in version 1.4 and will be removed in 1.6. To calculate the root mean squared error, use the function'root_mean_squared_error'.\n",
      "  warnings.warn(\n",
      "19:42:12 - cmdstanpy - INFO - Chain [1] start processing\n",
      "19:42:12 - cmdstanpy - INFO - Chain [1] done processing\n",
      "c:\\Users\\natra\\AppData\\Local\\Programs\\Python\\Python310\\lib\\site-packages\\sklearn\\metrics\\_regression.py:492: FutureWarning: 'squared' is deprecated in version 1.4 and will be removed in 1.6. To calculate the root mean squared error, use the function'root_mean_squared_error'.\n",
      "  warnings.warn(\n"
     ]
    },
    {
     "name": "stdout",
     "output_type": "stream",
     "text": [
      "R² Score: 0.758, RMSE: 3.845, MAE: 3.113\n",
      "\n",
      "Evaluating: changepoint_prior_scale=0.06999999999999999, seasonality_prior_scale=8.1, seasonality_mode=additive\n"
     ]
    },
    {
     "name": "stderr",
     "output_type": "stream",
     "text": [
      "19:42:13 - cmdstanpy - INFO - Chain [1] start processing\n",
      "19:42:13 - cmdstanpy - INFO - Chain [1] done processing\n",
      "c:\\Users\\natra\\AppData\\Local\\Programs\\Python\\Python310\\lib\\site-packages\\sklearn\\metrics\\_regression.py:492: FutureWarning: 'squared' is deprecated in version 1.4 and will be removed in 1.6. To calculate the root mean squared error, use the function'root_mean_squared_error'.\n",
      "  warnings.warn(\n",
      "19:42:13 - cmdstanpy - INFO - Chain [1] start processing\n",
      "19:42:14 - cmdstanpy - INFO - Chain [1] done processing\n",
      "c:\\Users\\natra\\AppData\\Local\\Programs\\Python\\Python310\\lib\\site-packages\\sklearn\\metrics\\_regression.py:492: FutureWarning: 'squared' is deprecated in version 1.4 and will be removed in 1.6. To calculate the root mean squared error, use the function'root_mean_squared_error'.\n",
      "  warnings.warn(\n",
      "19:42:14 - cmdstanpy - INFO - Chain [1] start processing\n",
      "19:42:14 - cmdstanpy - INFO - Chain [1] done processing\n",
      "c:\\Users\\natra\\AppData\\Local\\Programs\\Python\\Python310\\lib\\site-packages\\sklearn\\metrics\\_regression.py:492: FutureWarning: 'squared' is deprecated in version 1.4 and will be removed in 1.6. To calculate the root mean squared error, use the function'root_mean_squared_error'.\n",
      "  warnings.warn(\n",
      "19:42:15 - cmdstanpy - INFO - Chain [1] start processing\n",
      "19:42:15 - cmdstanpy - INFO - Chain [1] done processing\n",
      "c:\\Users\\natra\\AppData\\Local\\Programs\\Python\\Python310\\lib\\site-packages\\sklearn\\metrics\\_regression.py:492: FutureWarning: 'squared' is deprecated in version 1.4 and will be removed in 1.6. To calculate the root mean squared error, use the function'root_mean_squared_error'.\n",
      "  warnings.warn(\n",
      "19:42:16 - cmdstanpy - INFO - Chain [1] start processing\n",
      "19:42:16 - cmdstanpy - INFO - Chain [1] done processing\n",
      "c:\\Users\\natra\\AppData\\Local\\Programs\\Python\\Python310\\lib\\site-packages\\sklearn\\metrics\\_regression.py:492: FutureWarning: 'squared' is deprecated in version 1.4 and will be removed in 1.6. To calculate the root mean squared error, use the function'root_mean_squared_error'.\n",
      "  warnings.warn(\n"
     ]
    },
    {
     "name": "stdout",
     "output_type": "stream",
     "text": [
      "R² Score: 0.762, RMSE: 3.808, MAE: 3.106\n",
      "\n",
      "Evaluating: changepoint_prior_scale=0.06999999999999999, seasonality_prior_scale=8.1, seasonality_mode=multiplicative\n"
     ]
    },
    {
     "name": "stderr",
     "output_type": "stream",
     "text": [
      "19:42:17 - cmdstanpy - INFO - Chain [1] start processing\n",
      "19:42:17 - cmdstanpy - INFO - Chain [1] done processing\n",
      "c:\\Users\\natra\\AppData\\Local\\Programs\\Python\\Python310\\lib\\site-packages\\sklearn\\metrics\\_regression.py:492: FutureWarning: 'squared' is deprecated in version 1.4 and will be removed in 1.6. To calculate the root mean squared error, use the function'root_mean_squared_error'.\n",
      "  warnings.warn(\n",
      "19:42:17 - cmdstanpy - INFO - Chain [1] start processing\n",
      "19:42:18 - cmdstanpy - INFO - Chain [1] done processing\n",
      "c:\\Users\\natra\\AppData\\Local\\Programs\\Python\\Python310\\lib\\site-packages\\sklearn\\metrics\\_regression.py:492: FutureWarning: 'squared' is deprecated in version 1.4 and will be removed in 1.6. To calculate the root mean squared error, use the function'root_mean_squared_error'.\n",
      "  warnings.warn(\n",
      "19:42:18 - cmdstanpy - INFO - Chain [1] start processing\n",
      "19:42:18 - cmdstanpy - INFO - Chain [1] done processing\n",
      "c:\\Users\\natra\\AppData\\Local\\Programs\\Python\\Python310\\lib\\site-packages\\sklearn\\metrics\\_regression.py:492: FutureWarning: 'squared' is deprecated in version 1.4 and will be removed in 1.6. To calculate the root mean squared error, use the function'root_mean_squared_error'.\n",
      "  warnings.warn(\n",
      "19:42:19 - cmdstanpy - INFO - Chain [1] start processing\n",
      "19:42:19 - cmdstanpy - INFO - Chain [1] done processing\n",
      "c:\\Users\\natra\\AppData\\Local\\Programs\\Python\\Python310\\lib\\site-packages\\sklearn\\metrics\\_regression.py:492: FutureWarning: 'squared' is deprecated in version 1.4 and will be removed in 1.6. To calculate the root mean squared error, use the function'root_mean_squared_error'.\n",
      "  warnings.warn(\n",
      "19:42:20 - cmdstanpy - INFO - Chain [1] start processing\n",
      "19:42:20 - cmdstanpy - INFO - Chain [1] done processing\n",
      "c:\\Users\\natra\\AppData\\Local\\Programs\\Python\\Python310\\lib\\site-packages\\sklearn\\metrics\\_regression.py:492: FutureWarning: 'squared' is deprecated in version 1.4 and will be removed in 1.6. To calculate the root mean squared error, use the function'root_mean_squared_error'.\n",
      "  warnings.warn(\n"
     ]
    },
    {
     "name": "stdout",
     "output_type": "stream",
     "text": [
      "R² Score: 0.759, RMSE: 3.838, MAE: 3.109\n",
      "\n",
      "Evaluating: changepoint_prior_scale=0.06999999999999999, seasonality_prior_scale=9.1, seasonality_mode=additive\n"
     ]
    },
    {
     "name": "stderr",
     "output_type": "stream",
     "text": [
      "19:42:21 - cmdstanpy - INFO - Chain [1] start processing\n",
      "19:42:21 - cmdstanpy - INFO - Chain [1] done processing\n",
      "c:\\Users\\natra\\AppData\\Local\\Programs\\Python\\Python310\\lib\\site-packages\\sklearn\\metrics\\_regression.py:492: FutureWarning: 'squared' is deprecated in version 1.4 and will be removed in 1.6. To calculate the root mean squared error, use the function'root_mean_squared_error'.\n",
      "  warnings.warn(\n",
      "19:42:22 - cmdstanpy - INFO - Chain [1] start processing\n",
      "19:42:22 - cmdstanpy - INFO - Chain [1] done processing\n",
      "c:\\Users\\natra\\AppData\\Local\\Programs\\Python\\Python310\\lib\\site-packages\\sklearn\\metrics\\_regression.py:492: FutureWarning: 'squared' is deprecated in version 1.4 and will be removed in 1.6. To calculate the root mean squared error, use the function'root_mean_squared_error'.\n",
      "  warnings.warn(\n",
      "19:42:22 - cmdstanpy - INFO - Chain [1] start processing\n",
      "19:42:22 - cmdstanpy - INFO - Chain [1] done processing\n",
      "c:\\Users\\natra\\AppData\\Local\\Programs\\Python\\Python310\\lib\\site-packages\\sklearn\\metrics\\_regression.py:492: FutureWarning: 'squared' is deprecated in version 1.4 and will be removed in 1.6. To calculate the root mean squared error, use the function'root_mean_squared_error'.\n",
      "  warnings.warn(\n",
      "19:42:23 - cmdstanpy - INFO - Chain [1] start processing\n",
      "19:42:23 - cmdstanpy - INFO - Chain [1] done processing\n",
      "c:\\Users\\natra\\AppData\\Local\\Programs\\Python\\Python310\\lib\\site-packages\\sklearn\\metrics\\_regression.py:492: FutureWarning: 'squared' is deprecated in version 1.4 and will be removed in 1.6. To calculate the root mean squared error, use the function'root_mean_squared_error'.\n",
      "  warnings.warn(\n",
      "19:42:24 - cmdstanpy - INFO - Chain [1] start processing\n",
      "19:42:24 - cmdstanpy - INFO - Chain [1] done processing\n",
      "c:\\Users\\natra\\AppData\\Local\\Programs\\Python\\Python310\\lib\\site-packages\\sklearn\\metrics\\_regression.py:492: FutureWarning: 'squared' is deprecated in version 1.4 and will be removed in 1.6. To calculate the root mean squared error, use the function'root_mean_squared_error'.\n",
      "  warnings.warn(\n"
     ]
    },
    {
     "name": "stdout",
     "output_type": "stream",
     "text": [
      "R² Score: 0.762, RMSE: 3.811, MAE: 3.107\n",
      "\n",
      "Evaluating: changepoint_prior_scale=0.06999999999999999, seasonality_prior_scale=9.1, seasonality_mode=multiplicative\n"
     ]
    },
    {
     "name": "stderr",
     "output_type": "stream",
     "text": [
      "19:42:25 - cmdstanpy - INFO - Chain [1] start processing\n",
      "19:42:25 - cmdstanpy - INFO - Chain [1] done processing\n",
      "c:\\Users\\natra\\AppData\\Local\\Programs\\Python\\Python310\\lib\\site-packages\\sklearn\\metrics\\_regression.py:492: FutureWarning: 'squared' is deprecated in version 1.4 and will be removed in 1.6. To calculate the root mean squared error, use the function'root_mean_squared_error'.\n",
      "  warnings.warn(\n",
      "19:42:26 - cmdstanpy - INFO - Chain [1] start processing\n",
      "19:42:26 - cmdstanpy - INFO - Chain [1] done processing\n",
      "c:\\Users\\natra\\AppData\\Local\\Programs\\Python\\Python310\\lib\\site-packages\\sklearn\\metrics\\_regression.py:492: FutureWarning: 'squared' is deprecated in version 1.4 and will be removed in 1.6. To calculate the root mean squared error, use the function'root_mean_squared_error'.\n",
      "  warnings.warn(\n",
      "19:42:26 - cmdstanpy - INFO - Chain [1] start processing\n",
      "19:42:27 - cmdstanpy - INFO - Chain [1] done processing\n",
      "c:\\Users\\natra\\AppData\\Local\\Programs\\Python\\Python310\\lib\\site-packages\\sklearn\\metrics\\_regression.py:492: FutureWarning: 'squared' is deprecated in version 1.4 and will be removed in 1.6. To calculate the root mean squared error, use the function'root_mean_squared_error'.\n",
      "  warnings.warn(\n",
      "19:42:27 - cmdstanpy - INFO - Chain [1] start processing\n",
      "19:42:27 - cmdstanpy - INFO - Chain [1] done processing\n",
      "c:\\Users\\natra\\AppData\\Local\\Programs\\Python\\Python310\\lib\\site-packages\\sklearn\\metrics\\_regression.py:492: FutureWarning: 'squared' is deprecated in version 1.4 and will be removed in 1.6. To calculate the root mean squared error, use the function'root_mean_squared_error'.\n",
      "  warnings.warn(\n",
      "19:42:28 - cmdstanpy - INFO - Chain [1] start processing\n",
      "19:42:28 - cmdstanpy - INFO - Chain [1] done processing\n",
      "c:\\Users\\natra\\AppData\\Local\\Programs\\Python\\Python310\\lib\\site-packages\\sklearn\\metrics\\_regression.py:492: FutureWarning: 'squared' is deprecated in version 1.4 and will be removed in 1.6. To calculate the root mean squared error, use the function'root_mean_squared_error'.\n",
      "  warnings.warn(\n"
     ]
    },
    {
     "name": "stdout",
     "output_type": "stream",
     "text": [
      "R² Score: 0.758, RMSE: 3.844, MAE: 3.113\n",
      "\n",
      "Evaluating: changepoint_prior_scale=0.06999999999999999, seasonality_prior_scale=10.1, seasonality_mode=additive\n"
     ]
    },
    {
     "name": "stderr",
     "output_type": "stream",
     "text": [
      "19:42:29 - cmdstanpy - INFO - Chain [1] start processing\n",
      "19:42:29 - cmdstanpy - INFO - Chain [1] done processing\n",
      "c:\\Users\\natra\\AppData\\Local\\Programs\\Python\\Python310\\lib\\site-packages\\sklearn\\metrics\\_regression.py:492: FutureWarning: 'squared' is deprecated in version 1.4 and will be removed in 1.6. To calculate the root mean squared error, use the function'root_mean_squared_error'.\n",
      "  warnings.warn(\n",
      "19:42:30 - cmdstanpy - INFO - Chain [1] start processing\n",
      "19:42:30 - cmdstanpy - INFO - Chain [1] done processing\n",
      "c:\\Users\\natra\\AppData\\Local\\Programs\\Python\\Python310\\lib\\site-packages\\sklearn\\metrics\\_regression.py:492: FutureWarning: 'squared' is deprecated in version 1.4 and will be removed in 1.6. To calculate the root mean squared error, use the function'root_mean_squared_error'.\n",
      "  warnings.warn(\n",
      "19:42:30 - cmdstanpy - INFO - Chain [1] start processing\n",
      "19:42:31 - cmdstanpy - INFO - Chain [1] done processing\n",
      "c:\\Users\\natra\\AppData\\Local\\Programs\\Python\\Python310\\lib\\site-packages\\sklearn\\metrics\\_regression.py:492: FutureWarning: 'squared' is deprecated in version 1.4 and will be removed in 1.6. To calculate the root mean squared error, use the function'root_mean_squared_error'.\n",
      "  warnings.warn(\n",
      "19:42:31 - cmdstanpy - INFO - Chain [1] start processing\n",
      "19:42:31 - cmdstanpy - INFO - Chain [1] done processing\n",
      "c:\\Users\\natra\\AppData\\Local\\Programs\\Python\\Python310\\lib\\site-packages\\sklearn\\metrics\\_regression.py:492: FutureWarning: 'squared' is deprecated in version 1.4 and will be removed in 1.6. To calculate the root mean squared error, use the function'root_mean_squared_error'.\n",
      "  warnings.warn(\n",
      "19:42:32 - cmdstanpy - INFO - Chain [1] start processing\n",
      "19:42:32 - cmdstanpy - INFO - Chain [1] done processing\n",
      "c:\\Users\\natra\\AppData\\Local\\Programs\\Python\\Python310\\lib\\site-packages\\sklearn\\metrics\\_regression.py:492: FutureWarning: 'squared' is deprecated in version 1.4 and will be removed in 1.6. To calculate the root mean squared error, use the function'root_mean_squared_error'.\n",
      "  warnings.warn(\n"
     ]
    },
    {
     "name": "stdout",
     "output_type": "stream",
     "text": [
      "R² Score: 0.762, RMSE: 3.809, MAE: 3.106\n",
      "\n",
      "Evaluating: changepoint_prior_scale=0.06999999999999999, seasonality_prior_scale=10.1, seasonality_mode=multiplicative\n"
     ]
    },
    {
     "name": "stderr",
     "output_type": "stream",
     "text": [
      "19:42:33 - cmdstanpy - INFO - Chain [1] start processing\n",
      "19:42:33 - cmdstanpy - INFO - Chain [1] done processing\n",
      "c:\\Users\\natra\\AppData\\Local\\Programs\\Python\\Python310\\lib\\site-packages\\sklearn\\metrics\\_regression.py:492: FutureWarning: 'squared' is deprecated in version 1.4 and will be removed in 1.6. To calculate the root mean squared error, use the function'root_mean_squared_error'.\n",
      "  warnings.warn(\n",
      "19:42:34 - cmdstanpy - INFO - Chain [1] start processing\n",
      "19:42:34 - cmdstanpy - INFO - Chain [1] done processing\n",
      "c:\\Users\\natra\\AppData\\Local\\Programs\\Python\\Python310\\lib\\site-packages\\sklearn\\metrics\\_regression.py:492: FutureWarning: 'squared' is deprecated in version 1.4 and will be removed in 1.6. To calculate the root mean squared error, use the function'root_mean_squared_error'.\n",
      "  warnings.warn(\n",
      "19:42:35 - cmdstanpy - INFO - Chain [1] start processing\n",
      "19:42:35 - cmdstanpy - INFO - Chain [1] done processing\n",
      "c:\\Users\\natra\\AppData\\Local\\Programs\\Python\\Python310\\lib\\site-packages\\sklearn\\metrics\\_regression.py:492: FutureWarning: 'squared' is deprecated in version 1.4 and will be removed in 1.6. To calculate the root mean squared error, use the function'root_mean_squared_error'.\n",
      "  warnings.warn(\n",
      "19:42:35 - cmdstanpy - INFO - Chain [1] start processing\n",
      "19:42:35 - cmdstanpy - INFO - Chain [1] done processing\n",
      "c:\\Users\\natra\\AppData\\Local\\Programs\\Python\\Python310\\lib\\site-packages\\sklearn\\metrics\\_regression.py:492: FutureWarning: 'squared' is deprecated in version 1.4 and will be removed in 1.6. To calculate the root mean squared error, use the function'root_mean_squared_error'.\n",
      "  warnings.warn(\n",
      "19:42:36 - cmdstanpy - INFO - Chain [1] start processing\n",
      "19:42:36 - cmdstanpy - INFO - Chain [1] done processing\n",
      "c:\\Users\\natra\\AppData\\Local\\Programs\\Python\\Python310\\lib\\site-packages\\sklearn\\metrics\\_regression.py:492: FutureWarning: 'squared' is deprecated in version 1.4 and will be removed in 1.6. To calculate the root mean squared error, use the function'root_mean_squared_error'.\n",
      "  warnings.warn(\n"
     ]
    },
    {
     "name": "stdout",
     "output_type": "stream",
     "text": [
      "R² Score: 0.757, RMSE: 3.854, MAE: 3.117\n",
      "\n",
      "Evaluating: changepoint_prior_scale=0.08, seasonality_prior_scale=0.1, seasonality_mode=additive\n"
     ]
    },
    {
     "name": "stderr",
     "output_type": "stream",
     "text": [
      "19:42:37 - cmdstanpy - INFO - Chain [1] start processing\n",
      "19:42:37 - cmdstanpy - INFO - Chain [1] done processing\n",
      "c:\\Users\\natra\\AppData\\Local\\Programs\\Python\\Python310\\lib\\site-packages\\sklearn\\metrics\\_regression.py:492: FutureWarning: 'squared' is deprecated in version 1.4 and will be removed in 1.6. To calculate the root mean squared error, use the function'root_mean_squared_error'.\n",
      "  warnings.warn(\n",
      "19:42:38 - cmdstanpy - INFO - Chain [1] start processing\n",
      "19:42:38 - cmdstanpy - INFO - Chain [1] done processing\n",
      "c:\\Users\\natra\\AppData\\Local\\Programs\\Python\\Python310\\lib\\site-packages\\sklearn\\metrics\\_regression.py:492: FutureWarning: 'squared' is deprecated in version 1.4 and will be removed in 1.6. To calculate the root mean squared error, use the function'root_mean_squared_error'.\n",
      "  warnings.warn(\n",
      "19:42:39 - cmdstanpy - INFO - Chain [1] start processing\n",
      "19:42:39 - cmdstanpy - INFO - Chain [1] done processing\n",
      "c:\\Users\\natra\\AppData\\Local\\Programs\\Python\\Python310\\lib\\site-packages\\sklearn\\metrics\\_regression.py:492: FutureWarning: 'squared' is deprecated in version 1.4 and will be removed in 1.6. To calculate the root mean squared error, use the function'root_mean_squared_error'.\n",
      "  warnings.warn(\n",
      "19:42:40 - cmdstanpy - INFO - Chain [1] start processing\n",
      "19:42:40 - cmdstanpy - INFO - Chain [1] done processing\n",
      "c:\\Users\\natra\\AppData\\Local\\Programs\\Python\\Python310\\lib\\site-packages\\sklearn\\metrics\\_regression.py:492: FutureWarning: 'squared' is deprecated in version 1.4 and will be removed in 1.6. To calculate the root mean squared error, use the function'root_mean_squared_error'.\n",
      "  warnings.warn(\n",
      "19:42:41 - cmdstanpy - INFO - Chain [1] start processing\n",
      "19:42:41 - cmdstanpy - INFO - Chain [1] done processing\n",
      "c:\\Users\\natra\\AppData\\Local\\Programs\\Python\\Python310\\lib\\site-packages\\sklearn\\metrics\\_regression.py:492: FutureWarning: 'squared' is deprecated in version 1.4 and will be removed in 1.6. To calculate the root mean squared error, use the function'root_mean_squared_error'.\n",
      "  warnings.warn(\n"
     ]
    },
    {
     "name": "stdout",
     "output_type": "stream",
     "text": [
      "R² Score: 0.759, RMSE: 3.832, MAE: 3.125\n",
      "\n",
      "Evaluating: changepoint_prior_scale=0.08, seasonality_prior_scale=0.1, seasonality_mode=multiplicative\n"
     ]
    },
    {
     "name": "stderr",
     "output_type": "stream",
     "text": [
      "19:42:42 - cmdstanpy - INFO - Chain [1] start processing\n",
      "19:42:42 - cmdstanpy - INFO - Chain [1] done processing\n",
      "c:\\Users\\natra\\AppData\\Local\\Programs\\Python\\Python310\\lib\\site-packages\\sklearn\\metrics\\_regression.py:492: FutureWarning: 'squared' is deprecated in version 1.4 and will be removed in 1.6. To calculate the root mean squared error, use the function'root_mean_squared_error'.\n",
      "  warnings.warn(\n",
      "19:42:43 - cmdstanpy - INFO - Chain [1] start processing\n",
      "19:42:43 - cmdstanpy - INFO - Chain [1] done processing\n",
      "c:\\Users\\natra\\AppData\\Local\\Programs\\Python\\Python310\\lib\\site-packages\\sklearn\\metrics\\_regression.py:492: FutureWarning: 'squared' is deprecated in version 1.4 and will be removed in 1.6. To calculate the root mean squared error, use the function'root_mean_squared_error'.\n",
      "  warnings.warn(\n",
      "19:42:43 - cmdstanpy - INFO - Chain [1] start processing\n",
      "19:42:44 - cmdstanpy - INFO - Chain [1] done processing\n",
      "c:\\Users\\natra\\AppData\\Local\\Programs\\Python\\Python310\\lib\\site-packages\\sklearn\\metrics\\_regression.py:492: FutureWarning: 'squared' is deprecated in version 1.4 and will be removed in 1.6. To calculate the root mean squared error, use the function'root_mean_squared_error'.\n",
      "  warnings.warn(\n",
      "19:42:44 - cmdstanpy - INFO - Chain [1] start processing\n",
      "19:42:45 - cmdstanpy - INFO - Chain [1] done processing\n",
      "c:\\Users\\natra\\AppData\\Local\\Programs\\Python\\Python310\\lib\\site-packages\\sklearn\\metrics\\_regression.py:492: FutureWarning: 'squared' is deprecated in version 1.4 and will be removed in 1.6. To calculate the root mean squared error, use the function'root_mean_squared_error'.\n",
      "  warnings.warn(\n",
      "19:42:45 - cmdstanpy - INFO - Chain [1] start processing\n",
      "19:42:46 - cmdstanpy - INFO - Chain [1] done processing\n",
      "c:\\Users\\natra\\AppData\\Local\\Programs\\Python\\Python310\\lib\\site-packages\\sklearn\\metrics\\_regression.py:492: FutureWarning: 'squared' is deprecated in version 1.4 and will be removed in 1.6. To calculate the root mean squared error, use the function'root_mean_squared_error'.\n",
      "  warnings.warn(\n"
     ]
    },
    {
     "name": "stdout",
     "output_type": "stream",
     "text": [
      "R² Score: 0.759, RMSE: 3.841, MAE: 3.114\n",
      "\n",
      "Evaluating: changepoint_prior_scale=0.08, seasonality_prior_scale=1.1, seasonality_mode=additive\n"
     ]
    },
    {
     "name": "stderr",
     "output_type": "stream",
     "text": [
      "19:42:46 - cmdstanpy - INFO - Chain [1] start processing\n",
      "19:42:46 - cmdstanpy - INFO - Chain [1] done processing\n",
      "c:\\Users\\natra\\AppData\\Local\\Programs\\Python\\Python310\\lib\\site-packages\\sklearn\\metrics\\_regression.py:492: FutureWarning: 'squared' is deprecated in version 1.4 and will be removed in 1.6. To calculate the root mean squared error, use the function'root_mean_squared_error'.\n",
      "  warnings.warn(\n",
      "19:42:47 - cmdstanpy - INFO - Chain [1] start processing\n",
      "19:42:47 - cmdstanpy - INFO - Chain [1] done processing\n",
      "c:\\Users\\natra\\AppData\\Local\\Programs\\Python\\Python310\\lib\\site-packages\\sklearn\\metrics\\_regression.py:492: FutureWarning: 'squared' is deprecated in version 1.4 and will be removed in 1.6. To calculate the root mean squared error, use the function'root_mean_squared_error'.\n",
      "  warnings.warn(\n",
      "19:42:48 - cmdstanpy - INFO - Chain [1] start processing\n",
      "19:42:48 - cmdstanpy - INFO - Chain [1] done processing\n",
      "c:\\Users\\natra\\AppData\\Local\\Programs\\Python\\Python310\\lib\\site-packages\\sklearn\\metrics\\_regression.py:492: FutureWarning: 'squared' is deprecated in version 1.4 and will be removed in 1.6. To calculate the root mean squared error, use the function'root_mean_squared_error'.\n",
      "  warnings.warn(\n",
      "19:42:49 - cmdstanpy - INFO - Chain [1] start processing\n",
      "19:42:49 - cmdstanpy - INFO - Chain [1] done processing\n",
      "c:\\Users\\natra\\AppData\\Local\\Programs\\Python\\Python310\\lib\\site-packages\\sklearn\\metrics\\_regression.py:492: FutureWarning: 'squared' is deprecated in version 1.4 and will be removed in 1.6. To calculate the root mean squared error, use the function'root_mean_squared_error'.\n",
      "  warnings.warn(\n",
      "19:42:50 - cmdstanpy - INFO - Chain [1] start processing\n",
      "19:42:50 - cmdstanpy - INFO - Chain [1] done processing\n",
      "c:\\Users\\natra\\AppData\\Local\\Programs\\Python\\Python310\\lib\\site-packages\\sklearn\\metrics\\_regression.py:492: FutureWarning: 'squared' is deprecated in version 1.4 and will be removed in 1.6. To calculate the root mean squared error, use the function'root_mean_squared_error'.\n",
      "  warnings.warn(\n"
     ]
    },
    {
     "name": "stdout",
     "output_type": "stream",
     "text": [
      "R² Score: 0.759, RMSE: 3.833, MAE: 3.125\n",
      "\n",
      "Evaluating: changepoint_prior_scale=0.08, seasonality_prior_scale=1.1, seasonality_mode=multiplicative\n"
     ]
    },
    {
     "name": "stderr",
     "output_type": "stream",
     "text": [
      "19:42:51 - cmdstanpy - INFO - Chain [1] start processing\n",
      "19:42:51 - cmdstanpy - INFO - Chain [1] done processing\n",
      "c:\\Users\\natra\\AppData\\Local\\Programs\\Python\\Python310\\lib\\site-packages\\sklearn\\metrics\\_regression.py:492: FutureWarning: 'squared' is deprecated in version 1.4 and will be removed in 1.6. To calculate the root mean squared error, use the function'root_mean_squared_error'.\n",
      "  warnings.warn(\n",
      "19:42:52 - cmdstanpy - INFO - Chain [1] start processing\n",
      "19:42:52 - cmdstanpy - INFO - Chain [1] done processing\n",
      "c:\\Users\\natra\\AppData\\Local\\Programs\\Python\\Python310\\lib\\site-packages\\sklearn\\metrics\\_regression.py:492: FutureWarning: 'squared' is deprecated in version 1.4 and will be removed in 1.6. To calculate the root mean squared error, use the function'root_mean_squared_error'.\n",
      "  warnings.warn(\n",
      "19:42:52 - cmdstanpy - INFO - Chain [1] start processing\n",
      "19:42:53 - cmdstanpy - INFO - Chain [1] done processing\n",
      "c:\\Users\\natra\\AppData\\Local\\Programs\\Python\\Python310\\lib\\site-packages\\sklearn\\metrics\\_regression.py:492: FutureWarning: 'squared' is deprecated in version 1.4 and will be removed in 1.6. To calculate the root mean squared error, use the function'root_mean_squared_error'.\n",
      "  warnings.warn(\n",
      "19:42:53 - cmdstanpy - INFO - Chain [1] start processing\n",
      "19:42:53 - cmdstanpy - INFO - Chain [1] done processing\n",
      "c:\\Users\\natra\\AppData\\Local\\Programs\\Python\\Python310\\lib\\site-packages\\sklearn\\metrics\\_regression.py:492: FutureWarning: 'squared' is deprecated in version 1.4 and will be removed in 1.6. To calculate the root mean squared error, use the function'root_mean_squared_error'.\n",
      "  warnings.warn(\n",
      "19:42:54 - cmdstanpy - INFO - Chain [1] start processing\n",
      "19:42:54 - cmdstanpy - INFO - Chain [1] done processing\n",
      "c:\\Users\\natra\\AppData\\Local\\Programs\\Python\\Python310\\lib\\site-packages\\sklearn\\metrics\\_regression.py:492: FutureWarning: 'squared' is deprecated in version 1.4 and will be removed in 1.6. To calculate the root mean squared error, use the function'root_mean_squared_error'.\n",
      "  warnings.warn(\n"
     ]
    },
    {
     "name": "stdout",
     "output_type": "stream",
     "text": [
      "R² Score: 0.757, RMSE: 3.854, MAE: 3.136\n",
      "\n",
      "Evaluating: changepoint_prior_scale=0.08, seasonality_prior_scale=2.1, seasonality_mode=additive\n"
     ]
    },
    {
     "name": "stderr",
     "output_type": "stream",
     "text": [
      "19:42:55 - cmdstanpy - INFO - Chain [1] start processing\n",
      "19:42:55 - cmdstanpy - INFO - Chain [1] done processing\n",
      "c:\\Users\\natra\\AppData\\Local\\Programs\\Python\\Python310\\lib\\site-packages\\sklearn\\metrics\\_regression.py:492: FutureWarning: 'squared' is deprecated in version 1.4 and will be removed in 1.6. To calculate the root mean squared error, use the function'root_mean_squared_error'.\n",
      "  warnings.warn(\n",
      "19:42:56 - cmdstanpy - INFO - Chain [1] start processing\n",
      "19:42:56 - cmdstanpy - INFO - Chain [1] done processing\n",
      "c:\\Users\\natra\\AppData\\Local\\Programs\\Python\\Python310\\lib\\site-packages\\sklearn\\metrics\\_regression.py:492: FutureWarning: 'squared' is deprecated in version 1.4 and will be removed in 1.6. To calculate the root mean squared error, use the function'root_mean_squared_error'.\n",
      "  warnings.warn(\n",
      "19:42:56 - cmdstanpy - INFO - Chain [1] start processing\n",
      "19:42:57 - cmdstanpy - INFO - Chain [1] done processing\n",
      "c:\\Users\\natra\\AppData\\Local\\Programs\\Python\\Python310\\lib\\site-packages\\sklearn\\metrics\\_regression.py:492: FutureWarning: 'squared' is deprecated in version 1.4 and will be removed in 1.6. To calculate the root mean squared error, use the function'root_mean_squared_error'.\n",
      "  warnings.warn(\n",
      "19:42:57 - cmdstanpy - INFO - Chain [1] start processing\n",
      "19:42:57 - cmdstanpy - INFO - Chain [1] done processing\n",
      "c:\\Users\\natra\\AppData\\Local\\Programs\\Python\\Python310\\lib\\site-packages\\sklearn\\metrics\\_regression.py:492: FutureWarning: 'squared' is deprecated in version 1.4 and will be removed in 1.6. To calculate the root mean squared error, use the function'root_mean_squared_error'.\n",
      "  warnings.warn(\n",
      "19:42:58 - cmdstanpy - INFO - Chain [1] start processing\n",
      "19:42:58 - cmdstanpy - INFO - Chain [1] done processing\n",
      "c:\\Users\\natra\\AppData\\Local\\Programs\\Python\\Python310\\lib\\site-packages\\sklearn\\metrics\\_regression.py:492: FutureWarning: 'squared' is deprecated in version 1.4 and will be removed in 1.6. To calculate the root mean squared error, use the function'root_mean_squared_error'.\n",
      "  warnings.warn(\n"
     ]
    },
    {
     "name": "stdout",
     "output_type": "stream",
     "text": [
      "R² Score: 0.759, RMSE: 3.835, MAE: 3.128\n",
      "\n",
      "Evaluating: changepoint_prior_scale=0.08, seasonality_prior_scale=2.1, seasonality_mode=multiplicative\n"
     ]
    },
    {
     "name": "stderr",
     "output_type": "stream",
     "text": [
      "19:42:59 - cmdstanpy - INFO - Chain [1] start processing\n",
      "19:42:59 - cmdstanpy - INFO - Chain [1] done processing\n",
      "c:\\Users\\natra\\AppData\\Local\\Programs\\Python\\Python310\\lib\\site-packages\\sklearn\\metrics\\_regression.py:492: FutureWarning: 'squared' is deprecated in version 1.4 and will be removed in 1.6. To calculate the root mean squared error, use the function'root_mean_squared_error'.\n",
      "  warnings.warn(\n",
      "19:43:00 - cmdstanpy - INFO - Chain [1] start processing\n",
      "19:43:00 - cmdstanpy - INFO - Chain [1] done processing\n",
      "c:\\Users\\natra\\AppData\\Local\\Programs\\Python\\Python310\\lib\\site-packages\\sklearn\\metrics\\_regression.py:492: FutureWarning: 'squared' is deprecated in version 1.4 and will be removed in 1.6. To calculate the root mean squared error, use the function'root_mean_squared_error'.\n",
      "  warnings.warn(\n",
      "19:43:00 - cmdstanpy - INFO - Chain [1] start processing\n",
      "19:43:01 - cmdstanpy - INFO - Chain [1] done processing\n",
      "c:\\Users\\natra\\AppData\\Local\\Programs\\Python\\Python310\\lib\\site-packages\\sklearn\\metrics\\_regression.py:492: FutureWarning: 'squared' is deprecated in version 1.4 and will be removed in 1.6. To calculate the root mean squared error, use the function'root_mean_squared_error'.\n",
      "  warnings.warn(\n",
      "19:43:01 - cmdstanpy - INFO - Chain [1] start processing\n",
      "19:43:01 - cmdstanpy - INFO - Chain [1] done processing\n",
      "c:\\Users\\natra\\AppData\\Local\\Programs\\Python\\Python310\\lib\\site-packages\\sklearn\\metrics\\_regression.py:492: FutureWarning: 'squared' is deprecated in version 1.4 and will be removed in 1.6. To calculate the root mean squared error, use the function'root_mean_squared_error'.\n",
      "  warnings.warn(\n",
      "19:43:02 - cmdstanpy - INFO - Chain [1] start processing\n",
      "19:43:02 - cmdstanpy - INFO - Chain [1] done processing\n",
      "c:\\Users\\natra\\AppData\\Local\\Programs\\Python\\Python310\\lib\\site-packages\\sklearn\\metrics\\_regression.py:492: FutureWarning: 'squared' is deprecated in version 1.4 and will be removed in 1.6. To calculate the root mean squared error, use the function'root_mean_squared_error'.\n",
      "  warnings.warn(\n"
     ]
    },
    {
     "name": "stdout",
     "output_type": "stream",
     "text": [
      "R² Score: 0.756, RMSE: 3.857, MAE: 3.123\n",
      "\n",
      "Evaluating: changepoint_prior_scale=0.08, seasonality_prior_scale=3.1, seasonality_mode=additive\n"
     ]
    },
    {
     "name": "stderr",
     "output_type": "stream",
     "text": [
      "19:43:03 - cmdstanpy - INFO - Chain [1] start processing\n",
      "19:43:03 - cmdstanpy - INFO - Chain [1] done processing\n",
      "c:\\Users\\natra\\AppData\\Local\\Programs\\Python\\Python310\\lib\\site-packages\\sklearn\\metrics\\_regression.py:492: FutureWarning: 'squared' is deprecated in version 1.4 and will be removed in 1.6. To calculate the root mean squared error, use the function'root_mean_squared_error'.\n",
      "  warnings.warn(\n",
      "19:43:04 - cmdstanpy - INFO - Chain [1] start processing\n",
      "19:43:04 - cmdstanpy - INFO - Chain [1] done processing\n",
      "c:\\Users\\natra\\AppData\\Local\\Programs\\Python\\Python310\\lib\\site-packages\\sklearn\\metrics\\_regression.py:492: FutureWarning: 'squared' is deprecated in version 1.4 and will be removed in 1.6. To calculate the root mean squared error, use the function'root_mean_squared_error'.\n",
      "  warnings.warn(\n",
      "19:43:04 - cmdstanpy - INFO - Chain [1] start processing\n",
      "19:43:05 - cmdstanpy - INFO - Chain [1] done processing\n",
      "c:\\Users\\natra\\AppData\\Local\\Programs\\Python\\Python310\\lib\\site-packages\\sklearn\\metrics\\_regression.py:492: FutureWarning: 'squared' is deprecated in version 1.4 and will be removed in 1.6. To calculate the root mean squared error, use the function'root_mean_squared_error'.\n",
      "  warnings.warn(\n",
      "19:43:05 - cmdstanpy - INFO - Chain [1] start processing\n",
      "19:43:05 - cmdstanpy - INFO - Chain [1] done processing\n",
      "c:\\Users\\natra\\AppData\\Local\\Programs\\Python\\Python310\\lib\\site-packages\\sklearn\\metrics\\_regression.py:492: FutureWarning: 'squared' is deprecated in version 1.4 and will be removed in 1.6. To calculate the root mean squared error, use the function'root_mean_squared_error'.\n",
      "  warnings.warn(\n",
      "19:43:06 - cmdstanpy - INFO - Chain [1] start processing\n",
      "19:43:06 - cmdstanpy - INFO - Chain [1] done processing\n",
      "c:\\Users\\natra\\AppData\\Local\\Programs\\Python\\Python310\\lib\\site-packages\\sklearn\\metrics\\_regression.py:492: FutureWarning: 'squared' is deprecated in version 1.4 and will be removed in 1.6. To calculate the root mean squared error, use the function'root_mean_squared_error'.\n",
      "  warnings.warn(\n"
     ]
    },
    {
     "name": "stdout",
     "output_type": "stream",
     "text": [
      "R² Score: 0.759, RMSE: 3.833, MAE: 3.126\n",
      "\n",
      "Evaluating: changepoint_prior_scale=0.08, seasonality_prior_scale=3.1, seasonality_mode=multiplicative\n"
     ]
    },
    {
     "name": "stderr",
     "output_type": "stream",
     "text": [
      "19:43:07 - cmdstanpy - INFO - Chain [1] start processing\n",
      "19:43:07 - cmdstanpy - INFO - Chain [1] done processing\n",
      "c:\\Users\\natra\\AppData\\Local\\Programs\\Python\\Python310\\lib\\site-packages\\sklearn\\metrics\\_regression.py:492: FutureWarning: 'squared' is deprecated in version 1.4 and will be removed in 1.6. To calculate the root mean squared error, use the function'root_mean_squared_error'.\n",
      "  warnings.warn(\n",
      "19:43:08 - cmdstanpy - INFO - Chain [1] start processing\n",
      "19:43:08 - cmdstanpy - INFO - Chain [1] done processing\n",
      "c:\\Users\\natra\\AppData\\Local\\Programs\\Python\\Python310\\lib\\site-packages\\sklearn\\metrics\\_regression.py:492: FutureWarning: 'squared' is deprecated in version 1.4 and will be removed in 1.6. To calculate the root mean squared error, use the function'root_mean_squared_error'.\n",
      "  warnings.warn(\n",
      "19:43:08 - cmdstanpy - INFO - Chain [1] start processing\n",
      "19:43:09 - cmdstanpy - INFO - Chain [1] done processing\n",
      "c:\\Users\\natra\\AppData\\Local\\Programs\\Python\\Python310\\lib\\site-packages\\sklearn\\metrics\\_regression.py:492: FutureWarning: 'squared' is deprecated in version 1.4 and will be removed in 1.6. To calculate the root mean squared error, use the function'root_mean_squared_error'.\n",
      "  warnings.warn(\n",
      "19:43:09 - cmdstanpy - INFO - Chain [1] start processing\n",
      "19:43:09 - cmdstanpy - INFO - Chain [1] done processing\n",
      "c:\\Users\\natra\\AppData\\Local\\Programs\\Python\\Python310\\lib\\site-packages\\sklearn\\metrics\\_regression.py:492: FutureWarning: 'squared' is deprecated in version 1.4 and will be removed in 1.6. To calculate the root mean squared error, use the function'root_mean_squared_error'.\n",
      "  warnings.warn(\n",
      "19:43:10 - cmdstanpy - INFO - Chain [1] start processing\n",
      "19:43:10 - cmdstanpy - INFO - Chain [1] done processing\n",
      "c:\\Users\\natra\\AppData\\Local\\Programs\\Python\\Python310\\lib\\site-packages\\sklearn\\metrics\\_regression.py:492: FutureWarning: 'squared' is deprecated in version 1.4 and will be removed in 1.6. To calculate the root mean squared error, use the function'root_mean_squared_error'.\n",
      "  warnings.warn(\n"
     ]
    },
    {
     "name": "stdout",
     "output_type": "stream",
     "text": [
      "R² Score: 0.757, RMSE: 3.854, MAE: 3.135\n",
      "\n",
      "Evaluating: changepoint_prior_scale=0.08, seasonality_prior_scale=4.1, seasonality_mode=additive\n"
     ]
    },
    {
     "name": "stderr",
     "output_type": "stream",
     "text": [
      "19:43:11 - cmdstanpy - INFO - Chain [1] start processing\n",
      "19:43:11 - cmdstanpy - INFO - Chain [1] done processing\n",
      "c:\\Users\\natra\\AppData\\Local\\Programs\\Python\\Python310\\lib\\site-packages\\sklearn\\metrics\\_regression.py:492: FutureWarning: 'squared' is deprecated in version 1.4 and will be removed in 1.6. To calculate the root mean squared error, use the function'root_mean_squared_error'.\n",
      "  warnings.warn(\n",
      "19:43:12 - cmdstanpy - INFO - Chain [1] start processing\n",
      "19:43:12 - cmdstanpy - INFO - Chain [1] done processing\n",
      "c:\\Users\\natra\\AppData\\Local\\Programs\\Python\\Python310\\lib\\site-packages\\sklearn\\metrics\\_regression.py:492: FutureWarning: 'squared' is deprecated in version 1.4 and will be removed in 1.6. To calculate the root mean squared error, use the function'root_mean_squared_error'.\n",
      "  warnings.warn(\n",
      "19:43:13 - cmdstanpy - INFO - Chain [1] start processing\n",
      "19:43:13 - cmdstanpy - INFO - Chain [1] done processing\n",
      "c:\\Users\\natra\\AppData\\Local\\Programs\\Python\\Python310\\lib\\site-packages\\sklearn\\metrics\\_regression.py:492: FutureWarning: 'squared' is deprecated in version 1.4 and will be removed in 1.6. To calculate the root mean squared error, use the function'root_mean_squared_error'.\n",
      "  warnings.warn(\n",
      "19:43:13 - cmdstanpy - INFO - Chain [1] start processing\n",
      "19:43:14 - cmdstanpy - INFO - Chain [1] done processing\n",
      "c:\\Users\\natra\\AppData\\Local\\Programs\\Python\\Python310\\lib\\site-packages\\sklearn\\metrics\\_regression.py:492: FutureWarning: 'squared' is deprecated in version 1.4 and will be removed in 1.6. To calculate the root mean squared error, use the function'root_mean_squared_error'.\n",
      "  warnings.warn(\n",
      "19:43:14 - cmdstanpy - INFO - Chain [1] start processing\n",
      "19:43:14 - cmdstanpy - INFO - Chain [1] done processing\n",
      "c:\\Users\\natra\\AppData\\Local\\Programs\\Python\\Python310\\lib\\site-packages\\sklearn\\metrics\\_regression.py:492: FutureWarning: 'squared' is deprecated in version 1.4 and will be removed in 1.6. To calculate the root mean squared error, use the function'root_mean_squared_error'.\n",
      "  warnings.warn(\n"
     ]
    },
    {
     "name": "stdout",
     "output_type": "stream",
     "text": [
      "R² Score: 0.763, RMSE: 3.804, MAE: 3.099\n",
      "\n",
      "Evaluating: changepoint_prior_scale=0.08, seasonality_prior_scale=4.1, seasonality_mode=multiplicative\n"
     ]
    },
    {
     "name": "stderr",
     "output_type": "stream",
     "text": [
      "19:43:15 - cmdstanpy - INFO - Chain [1] start processing\n",
      "19:43:15 - cmdstanpy - INFO - Chain [1] done processing\n",
      "c:\\Users\\natra\\AppData\\Local\\Programs\\Python\\Python310\\lib\\site-packages\\sklearn\\metrics\\_regression.py:492: FutureWarning: 'squared' is deprecated in version 1.4 and will be removed in 1.6. To calculate the root mean squared error, use the function'root_mean_squared_error'.\n",
      "  warnings.warn(\n",
      "19:43:16 - cmdstanpy - INFO - Chain [1] start processing\n",
      "19:43:16 - cmdstanpy - INFO - Chain [1] done processing\n",
      "c:\\Users\\natra\\AppData\\Local\\Programs\\Python\\Python310\\lib\\site-packages\\sklearn\\metrics\\_regression.py:492: FutureWarning: 'squared' is deprecated in version 1.4 and will be removed in 1.6. To calculate the root mean squared error, use the function'root_mean_squared_error'.\n",
      "  warnings.warn(\n",
      "19:43:17 - cmdstanpy - INFO - Chain [1] start processing\n",
      "19:43:17 - cmdstanpy - INFO - Chain [1] done processing\n",
      "c:\\Users\\natra\\AppData\\Local\\Programs\\Python\\Python310\\lib\\site-packages\\sklearn\\metrics\\_regression.py:492: FutureWarning: 'squared' is deprecated in version 1.4 and will be removed in 1.6. To calculate the root mean squared error, use the function'root_mean_squared_error'.\n",
      "  warnings.warn(\n",
      "19:43:17 - cmdstanpy - INFO - Chain [1] start processing\n",
      "19:43:18 - cmdstanpy - INFO - Chain [1] done processing\n",
      "c:\\Users\\natra\\AppData\\Local\\Programs\\Python\\Python310\\lib\\site-packages\\sklearn\\metrics\\_regression.py:492: FutureWarning: 'squared' is deprecated in version 1.4 and will be removed in 1.6. To calculate the root mean squared error, use the function'root_mean_squared_error'.\n",
      "  warnings.warn(\n",
      "19:43:18 - cmdstanpy - INFO - Chain [1] start processing\n",
      "19:43:18 - cmdstanpy - INFO - Chain [1] done processing\n",
      "c:\\Users\\natra\\AppData\\Local\\Programs\\Python\\Python310\\lib\\site-packages\\sklearn\\metrics\\_regression.py:492: FutureWarning: 'squared' is deprecated in version 1.4 and will be removed in 1.6. To calculate the root mean squared error, use the function'root_mean_squared_error'.\n",
      "  warnings.warn(\n"
     ]
    },
    {
     "name": "stdout",
     "output_type": "stream",
     "text": [
      "R² Score: 0.757, RMSE: 3.852, MAE: 3.122\n",
      "\n",
      "Evaluating: changepoint_prior_scale=0.08, seasonality_prior_scale=5.1, seasonality_mode=additive\n"
     ]
    },
    {
     "name": "stderr",
     "output_type": "stream",
     "text": [
      "19:43:19 - cmdstanpy - INFO - Chain [1] start processing\n",
      "19:43:19 - cmdstanpy - INFO - Chain [1] done processing\n",
      "c:\\Users\\natra\\AppData\\Local\\Programs\\Python\\Python310\\lib\\site-packages\\sklearn\\metrics\\_regression.py:492: FutureWarning: 'squared' is deprecated in version 1.4 and will be removed in 1.6. To calculate the root mean squared error, use the function'root_mean_squared_error'.\n",
      "  warnings.warn(\n",
      "19:43:20 - cmdstanpy - INFO - Chain [1] start processing\n",
      "19:43:20 - cmdstanpy - INFO - Chain [1] done processing\n",
      "c:\\Users\\natra\\AppData\\Local\\Programs\\Python\\Python310\\lib\\site-packages\\sklearn\\metrics\\_regression.py:492: FutureWarning: 'squared' is deprecated in version 1.4 and will be removed in 1.6. To calculate the root mean squared error, use the function'root_mean_squared_error'.\n",
      "  warnings.warn(\n",
      "19:43:21 - cmdstanpy - INFO - Chain [1] start processing\n",
      "19:43:21 - cmdstanpy - INFO - Chain [1] done processing\n",
      "c:\\Users\\natra\\AppData\\Local\\Programs\\Python\\Python310\\lib\\site-packages\\sklearn\\metrics\\_regression.py:492: FutureWarning: 'squared' is deprecated in version 1.4 and will be removed in 1.6. To calculate the root mean squared error, use the function'root_mean_squared_error'.\n",
      "  warnings.warn(\n",
      "19:43:21 - cmdstanpy - INFO - Chain [1] start processing\n",
      "19:43:22 - cmdstanpy - INFO - Chain [1] done processing\n",
      "c:\\Users\\natra\\AppData\\Local\\Programs\\Python\\Python310\\lib\\site-packages\\sklearn\\metrics\\_regression.py:492: FutureWarning: 'squared' is deprecated in version 1.4 and will be removed in 1.6. To calculate the root mean squared error, use the function'root_mean_squared_error'.\n",
      "  warnings.warn(\n",
      "19:43:22 - cmdstanpy - INFO - Chain [1] start processing\n",
      "19:43:22 - cmdstanpy - INFO - Chain [1] done processing\n",
      "c:\\Users\\natra\\AppData\\Local\\Programs\\Python\\Python310\\lib\\site-packages\\sklearn\\metrics\\_regression.py:492: FutureWarning: 'squared' is deprecated in version 1.4 and will be removed in 1.6. To calculate the root mean squared error, use the function'root_mean_squared_error'.\n",
      "  warnings.warn(\n"
     ]
    },
    {
     "name": "stdout",
     "output_type": "stream",
     "text": [
      "R² Score: 0.759, RMSE: 3.832, MAE: 3.125\n",
      "\n",
      "Evaluating: changepoint_prior_scale=0.08, seasonality_prior_scale=5.1, seasonality_mode=multiplicative\n"
     ]
    },
    {
     "name": "stderr",
     "output_type": "stream",
     "text": [
      "19:43:23 - cmdstanpy - INFO - Chain [1] start processing\n",
      "19:43:24 - cmdstanpy - INFO - Chain [1] done processing\n",
      "c:\\Users\\natra\\AppData\\Local\\Programs\\Python\\Python310\\lib\\site-packages\\sklearn\\metrics\\_regression.py:492: FutureWarning: 'squared' is deprecated in version 1.4 and will be removed in 1.6. To calculate the root mean squared error, use the function'root_mean_squared_error'.\n",
      "  warnings.warn(\n",
      "19:43:24 - cmdstanpy - INFO - Chain [1] start processing\n",
      "19:43:25 - cmdstanpy - INFO - Chain [1] done processing\n",
      "c:\\Users\\natra\\AppData\\Local\\Programs\\Python\\Python310\\lib\\site-packages\\sklearn\\metrics\\_regression.py:492: FutureWarning: 'squared' is deprecated in version 1.4 and will be removed in 1.6. To calculate the root mean squared error, use the function'root_mean_squared_error'.\n",
      "  warnings.warn(\n",
      "19:43:25 - cmdstanpy - INFO - Chain [1] start processing\n",
      "19:43:26 - cmdstanpy - INFO - Chain [1] done processing\n",
      "c:\\Users\\natra\\AppData\\Local\\Programs\\Python\\Python310\\lib\\site-packages\\sklearn\\metrics\\_regression.py:492: FutureWarning: 'squared' is deprecated in version 1.4 and will be removed in 1.6. To calculate the root mean squared error, use the function'root_mean_squared_error'.\n",
      "  warnings.warn(\n",
      "19:43:26 - cmdstanpy - INFO - Chain [1] start processing\n",
      "19:43:26 - cmdstanpy - INFO - Chain [1] done processing\n",
      "c:\\Users\\natra\\AppData\\Local\\Programs\\Python\\Python310\\lib\\site-packages\\sklearn\\metrics\\_regression.py:492: FutureWarning: 'squared' is deprecated in version 1.4 and will be removed in 1.6. To calculate the root mean squared error, use the function'root_mean_squared_error'.\n",
      "  warnings.warn(\n",
      "19:43:27 - cmdstanpy - INFO - Chain [1] start processing\n",
      "19:43:27 - cmdstanpy - INFO - Chain [1] done processing\n",
      "c:\\Users\\natra\\AppData\\Local\\Programs\\Python\\Python310\\lib\\site-packages\\sklearn\\metrics\\_regression.py:492: FutureWarning: 'squared' is deprecated in version 1.4 and will be removed in 1.6. To calculate the root mean squared error, use the function'root_mean_squared_error'.\n",
      "  warnings.warn(\n"
     ]
    },
    {
     "name": "stdout",
     "output_type": "stream",
     "text": [
      "R² Score: 0.756, RMSE: 3.861, MAE: 3.125\n",
      "\n",
      "Evaluating: changepoint_prior_scale=0.08, seasonality_prior_scale=6.1, seasonality_mode=additive\n"
     ]
    },
    {
     "name": "stderr",
     "output_type": "stream",
     "text": [
      "19:43:28 - cmdstanpy - INFO - Chain [1] start processing\n",
      "19:43:28 - cmdstanpy - INFO - Chain [1] done processing\n",
      "c:\\Users\\natra\\AppData\\Local\\Programs\\Python\\Python310\\lib\\site-packages\\sklearn\\metrics\\_regression.py:492: FutureWarning: 'squared' is deprecated in version 1.4 and will be removed in 1.6. To calculate the root mean squared error, use the function'root_mean_squared_error'.\n",
      "  warnings.warn(\n",
      "19:43:29 - cmdstanpy - INFO - Chain [1] start processing\n",
      "19:43:29 - cmdstanpy - INFO - Chain [1] done processing\n",
      "c:\\Users\\natra\\AppData\\Local\\Programs\\Python\\Python310\\lib\\site-packages\\sklearn\\metrics\\_regression.py:492: FutureWarning: 'squared' is deprecated in version 1.4 and will be removed in 1.6. To calculate the root mean squared error, use the function'root_mean_squared_error'.\n",
      "  warnings.warn(\n",
      "19:43:30 - cmdstanpy - INFO - Chain [1] start processing\n",
      "19:43:30 - cmdstanpy - INFO - Chain [1] done processing\n",
      "c:\\Users\\natra\\AppData\\Local\\Programs\\Python\\Python310\\lib\\site-packages\\sklearn\\metrics\\_regression.py:492: FutureWarning: 'squared' is deprecated in version 1.4 and will be removed in 1.6. To calculate the root mean squared error, use the function'root_mean_squared_error'.\n",
      "  warnings.warn(\n",
      "19:43:31 - cmdstanpy - INFO - Chain [1] start processing\n",
      "19:43:31 - cmdstanpy - INFO - Chain [1] done processing\n",
      "c:\\Users\\natra\\AppData\\Local\\Programs\\Python\\Python310\\lib\\site-packages\\sklearn\\metrics\\_regression.py:492: FutureWarning: 'squared' is deprecated in version 1.4 and will be removed in 1.6. To calculate the root mean squared error, use the function'root_mean_squared_error'.\n",
      "  warnings.warn(\n",
      "19:43:32 - cmdstanpy - INFO - Chain [1] start processing\n",
      "19:43:32 - cmdstanpy - INFO - Chain [1] done processing\n",
      "c:\\Users\\natra\\AppData\\Local\\Programs\\Python\\Python310\\lib\\site-packages\\sklearn\\metrics\\_regression.py:492: FutureWarning: 'squared' is deprecated in version 1.4 and will be removed in 1.6. To calculate the root mean squared error, use the function'root_mean_squared_error'.\n",
      "  warnings.warn(\n"
     ]
    },
    {
     "name": "stdout",
     "output_type": "stream",
     "text": [
      "R² Score: 0.759, RMSE: 3.830, MAE: 3.124\n",
      "\n",
      "Evaluating: changepoint_prior_scale=0.08, seasonality_prior_scale=6.1, seasonality_mode=multiplicative\n"
     ]
    },
    {
     "name": "stderr",
     "output_type": "stream",
     "text": [
      "19:43:33 - cmdstanpy - INFO - Chain [1] start processing\n",
      "19:43:33 - cmdstanpy - INFO - Chain [1] done processing\n",
      "c:\\Users\\natra\\AppData\\Local\\Programs\\Python\\Python310\\lib\\site-packages\\sklearn\\metrics\\_regression.py:492: FutureWarning: 'squared' is deprecated in version 1.4 and will be removed in 1.6. To calculate the root mean squared error, use the function'root_mean_squared_error'.\n",
      "  warnings.warn(\n",
      "19:43:34 - cmdstanpy - INFO - Chain [1] start processing\n",
      "19:43:34 - cmdstanpy - INFO - Chain [1] done processing\n",
      "c:\\Users\\natra\\AppData\\Local\\Programs\\Python\\Python310\\lib\\site-packages\\sklearn\\metrics\\_regression.py:492: FutureWarning: 'squared' is deprecated in version 1.4 and will be removed in 1.6. To calculate the root mean squared error, use the function'root_mean_squared_error'.\n",
      "  warnings.warn(\n",
      "19:43:35 - cmdstanpy - INFO - Chain [1] start processing\n",
      "19:43:35 - cmdstanpy - INFO - Chain [1] done processing\n",
      "c:\\Users\\natra\\AppData\\Local\\Programs\\Python\\Python310\\lib\\site-packages\\sklearn\\metrics\\_regression.py:492: FutureWarning: 'squared' is deprecated in version 1.4 and will be removed in 1.6. To calculate the root mean squared error, use the function'root_mean_squared_error'.\n",
      "  warnings.warn(\n",
      "19:43:36 - cmdstanpy - INFO - Chain [1] start processing\n",
      "19:43:36 - cmdstanpy - INFO - Chain [1] done processing\n",
      "c:\\Users\\natra\\AppData\\Local\\Programs\\Python\\Python310\\lib\\site-packages\\sklearn\\metrics\\_regression.py:492: FutureWarning: 'squared' is deprecated in version 1.4 and will be removed in 1.6. To calculate the root mean squared error, use the function'root_mean_squared_error'.\n",
      "  warnings.warn(\n",
      "19:43:37 - cmdstanpy - INFO - Chain [1] start processing\n",
      "19:43:37 - cmdstanpy - INFO - Chain [1] done processing\n",
      "c:\\Users\\natra\\AppData\\Local\\Programs\\Python\\Python310\\lib\\site-packages\\sklearn\\metrics\\_regression.py:492: FutureWarning: 'squared' is deprecated in version 1.4 and will be removed in 1.6. To calculate the root mean squared error, use the function'root_mean_squared_error'.\n",
      "  warnings.warn(\n"
     ]
    },
    {
     "name": "stdout",
     "output_type": "stream",
     "text": [
      "R² Score: 0.757, RMSE: 3.856, MAE: 3.137\n",
      "\n",
      "Evaluating: changepoint_prior_scale=0.08, seasonality_prior_scale=7.1, seasonality_mode=additive\n"
     ]
    },
    {
     "name": "stderr",
     "output_type": "stream",
     "text": [
      "19:43:38 - cmdstanpy - INFO - Chain [1] start processing\n",
      "19:43:38 - cmdstanpy - INFO - Chain [1] done processing\n",
      "c:\\Users\\natra\\AppData\\Local\\Programs\\Python\\Python310\\lib\\site-packages\\sklearn\\metrics\\_regression.py:492: FutureWarning: 'squared' is deprecated in version 1.4 and will be removed in 1.6. To calculate the root mean squared error, use the function'root_mean_squared_error'.\n",
      "  warnings.warn(\n",
      "19:43:38 - cmdstanpy - INFO - Chain [1] start processing\n",
      "19:43:39 - cmdstanpy - INFO - Chain [1] done processing\n",
      "c:\\Users\\natra\\AppData\\Local\\Programs\\Python\\Python310\\lib\\site-packages\\sklearn\\metrics\\_regression.py:492: FutureWarning: 'squared' is deprecated in version 1.4 and will be removed in 1.6. To calculate the root mean squared error, use the function'root_mean_squared_error'.\n",
      "  warnings.warn(\n",
      "19:43:39 - cmdstanpy - INFO - Chain [1] start processing\n",
      "19:43:39 - cmdstanpy - INFO - Chain [1] done processing\n",
      "c:\\Users\\natra\\AppData\\Local\\Programs\\Python\\Python310\\lib\\site-packages\\sklearn\\metrics\\_regression.py:492: FutureWarning: 'squared' is deprecated in version 1.4 and will be removed in 1.6. To calculate the root mean squared error, use the function'root_mean_squared_error'.\n",
      "  warnings.warn(\n",
      "19:43:40 - cmdstanpy - INFO - Chain [1] start processing\n",
      "19:43:40 - cmdstanpy - INFO - Chain [1] done processing\n",
      "c:\\Users\\natra\\AppData\\Local\\Programs\\Python\\Python310\\lib\\site-packages\\sklearn\\metrics\\_regression.py:492: FutureWarning: 'squared' is deprecated in version 1.4 and will be removed in 1.6. To calculate the root mean squared error, use the function'root_mean_squared_error'.\n",
      "  warnings.warn(\n",
      "19:43:41 - cmdstanpy - INFO - Chain [1] start processing\n",
      "19:43:41 - cmdstanpy - INFO - Chain [1] done processing\n",
      "c:\\Users\\natra\\AppData\\Local\\Programs\\Python\\Python310\\lib\\site-packages\\sklearn\\metrics\\_regression.py:492: FutureWarning: 'squared' is deprecated in version 1.4 and will be removed in 1.6. To calculate the root mean squared error, use the function'root_mean_squared_error'.\n",
      "  warnings.warn(\n"
     ]
    },
    {
     "name": "stdout",
     "output_type": "stream",
     "text": [
      "R² Score: 0.759, RMSE: 3.833, MAE: 3.126\n",
      "\n",
      "Evaluating: changepoint_prior_scale=0.08, seasonality_prior_scale=7.1, seasonality_mode=multiplicative\n"
     ]
    },
    {
     "name": "stderr",
     "output_type": "stream",
     "text": [
      "19:43:42 - cmdstanpy - INFO - Chain [1] start processing\n",
      "19:43:42 - cmdstanpy - INFO - Chain [1] done processing\n",
      "c:\\Users\\natra\\AppData\\Local\\Programs\\Python\\Python310\\lib\\site-packages\\sklearn\\metrics\\_regression.py:492: FutureWarning: 'squared' is deprecated in version 1.4 and will be removed in 1.6. To calculate the root mean squared error, use the function'root_mean_squared_error'.\n",
      "  warnings.warn(\n",
      "19:43:43 - cmdstanpy - INFO - Chain [1] start processing\n",
      "19:43:43 - cmdstanpy - INFO - Chain [1] done processing\n",
      "c:\\Users\\natra\\AppData\\Local\\Programs\\Python\\Python310\\lib\\site-packages\\sklearn\\metrics\\_regression.py:492: FutureWarning: 'squared' is deprecated in version 1.4 and will be removed in 1.6. To calculate the root mean squared error, use the function'root_mean_squared_error'.\n",
      "  warnings.warn(\n",
      "19:43:43 - cmdstanpy - INFO - Chain [1] start processing\n",
      "19:43:43 - cmdstanpy - INFO - Chain [1] done processing\n",
      "c:\\Users\\natra\\AppData\\Local\\Programs\\Python\\Python310\\lib\\site-packages\\sklearn\\metrics\\_regression.py:492: FutureWarning: 'squared' is deprecated in version 1.4 and will be removed in 1.6. To calculate the root mean squared error, use the function'root_mean_squared_error'.\n",
      "  warnings.warn(\n",
      "19:43:44 - cmdstanpy - INFO - Chain [1] start processing\n",
      "19:43:44 - cmdstanpy - INFO - Chain [1] done processing\n",
      "c:\\Users\\natra\\AppData\\Local\\Programs\\Python\\Python310\\lib\\site-packages\\sklearn\\metrics\\_regression.py:492: FutureWarning: 'squared' is deprecated in version 1.4 and will be removed in 1.6. To calculate the root mean squared error, use the function'root_mean_squared_error'.\n",
      "  warnings.warn(\n",
      "19:43:45 - cmdstanpy - INFO - Chain [1] start processing\n",
      "19:43:45 - cmdstanpy - INFO - Chain [1] done processing\n",
      "c:\\Users\\natra\\AppData\\Local\\Programs\\Python\\Python310\\lib\\site-packages\\sklearn\\metrics\\_regression.py:492: FutureWarning: 'squared' is deprecated in version 1.4 and will be removed in 1.6. To calculate the root mean squared error, use the function'root_mean_squared_error'.\n",
      "  warnings.warn(\n"
     ]
    },
    {
     "name": "stdout",
     "output_type": "stream",
     "text": [
      "R² Score: 0.755, RMSE: 3.871, MAE: 3.135\n",
      "\n",
      "Evaluating: changepoint_prior_scale=0.08, seasonality_prior_scale=8.1, seasonality_mode=additive\n"
     ]
    },
    {
     "name": "stderr",
     "output_type": "stream",
     "text": [
      "19:43:46 - cmdstanpy - INFO - Chain [1] start processing\n",
      "19:43:46 - cmdstanpy - INFO - Chain [1] done processing\n",
      "c:\\Users\\natra\\AppData\\Local\\Programs\\Python\\Python310\\lib\\site-packages\\sklearn\\metrics\\_regression.py:492: FutureWarning: 'squared' is deprecated in version 1.4 and will be removed in 1.6. To calculate the root mean squared error, use the function'root_mean_squared_error'.\n",
      "  warnings.warn(\n",
      "19:43:47 - cmdstanpy - INFO - Chain [1] start processing\n",
      "19:43:47 - cmdstanpy - INFO - Chain [1] done processing\n",
      "c:\\Users\\natra\\AppData\\Local\\Programs\\Python\\Python310\\lib\\site-packages\\sklearn\\metrics\\_regression.py:492: FutureWarning: 'squared' is deprecated in version 1.4 and will be removed in 1.6. To calculate the root mean squared error, use the function'root_mean_squared_error'.\n",
      "  warnings.warn(\n",
      "19:43:47 - cmdstanpy - INFO - Chain [1] start processing\n",
      "19:43:48 - cmdstanpy - INFO - Chain [1] done processing\n",
      "c:\\Users\\natra\\AppData\\Local\\Programs\\Python\\Python310\\lib\\site-packages\\sklearn\\metrics\\_regression.py:492: FutureWarning: 'squared' is deprecated in version 1.4 and will be removed in 1.6. To calculate the root mean squared error, use the function'root_mean_squared_error'.\n",
      "  warnings.warn(\n",
      "19:43:48 - cmdstanpy - INFO - Chain [1] start processing\n",
      "19:43:48 - cmdstanpy - INFO - Chain [1] done processing\n",
      "c:\\Users\\natra\\AppData\\Local\\Programs\\Python\\Python310\\lib\\site-packages\\sklearn\\metrics\\_regression.py:492: FutureWarning: 'squared' is deprecated in version 1.4 and will be removed in 1.6. To calculate the root mean squared error, use the function'root_mean_squared_error'.\n",
      "  warnings.warn(\n",
      "19:43:49 - cmdstanpy - INFO - Chain [1] start processing\n",
      "19:43:49 - cmdstanpy - INFO - Chain [1] done processing\n",
      "c:\\Users\\natra\\AppData\\Local\\Programs\\Python\\Python310\\lib\\site-packages\\sklearn\\metrics\\_regression.py:492: FutureWarning: 'squared' is deprecated in version 1.4 and will be removed in 1.6. To calculate the root mean squared error, use the function'root_mean_squared_error'.\n",
      "  warnings.warn(\n"
     ]
    },
    {
     "name": "stdout",
     "output_type": "stream",
     "text": [
      "R² Score: 0.761, RMSE: 3.822, MAE: 3.117\n",
      "\n",
      "Evaluating: changepoint_prior_scale=0.08, seasonality_prior_scale=8.1, seasonality_mode=multiplicative\n"
     ]
    },
    {
     "name": "stderr",
     "output_type": "stream",
     "text": [
      "19:43:50 - cmdstanpy - INFO - Chain [1] start processing\n",
      "19:43:50 - cmdstanpy - INFO - Chain [1] done processing\n",
      "c:\\Users\\natra\\AppData\\Local\\Programs\\Python\\Python310\\lib\\site-packages\\sklearn\\metrics\\_regression.py:492: FutureWarning: 'squared' is deprecated in version 1.4 and will be removed in 1.6. To calculate the root mean squared error, use the function'root_mean_squared_error'.\n",
      "  warnings.warn(\n",
      "19:43:51 - cmdstanpy - INFO - Chain [1] start processing\n",
      "19:43:51 - cmdstanpy - INFO - Chain [1] done processing\n",
      "c:\\Users\\natra\\AppData\\Local\\Programs\\Python\\Python310\\lib\\site-packages\\sklearn\\metrics\\_regression.py:492: FutureWarning: 'squared' is deprecated in version 1.4 and will be removed in 1.6. To calculate the root mean squared error, use the function'root_mean_squared_error'.\n",
      "  warnings.warn(\n",
      "19:43:51 - cmdstanpy - INFO - Chain [1] start processing\n",
      "19:43:52 - cmdstanpy - INFO - Chain [1] done processing\n",
      "c:\\Users\\natra\\AppData\\Local\\Programs\\Python\\Python310\\lib\\site-packages\\sklearn\\metrics\\_regression.py:492: FutureWarning: 'squared' is deprecated in version 1.4 and will be removed in 1.6. To calculate the root mean squared error, use the function'root_mean_squared_error'.\n",
      "  warnings.warn(\n",
      "19:43:52 - cmdstanpy - INFO - Chain [1] start processing\n",
      "19:43:53 - cmdstanpy - INFO - Chain [1] done processing\n",
      "c:\\Users\\natra\\AppData\\Local\\Programs\\Python\\Python310\\lib\\site-packages\\sklearn\\metrics\\_regression.py:492: FutureWarning: 'squared' is deprecated in version 1.4 and will be removed in 1.6. To calculate the root mean squared error, use the function'root_mean_squared_error'.\n",
      "  warnings.warn(\n",
      "19:43:53 - cmdstanpy - INFO - Chain [1] start processing\n",
      "19:43:53 - cmdstanpy - INFO - Chain [1] done processing\n",
      "c:\\Users\\natra\\AppData\\Local\\Programs\\Python\\Python310\\lib\\site-packages\\sklearn\\metrics\\_regression.py:492: FutureWarning: 'squared' is deprecated in version 1.4 and will be removed in 1.6. To calculate the root mean squared error, use the function'root_mean_squared_error'.\n",
      "  warnings.warn(\n"
     ]
    },
    {
     "name": "stdout",
     "output_type": "stream",
     "text": [
      "R² Score: 0.756, RMSE: 3.858, MAE: 3.124\n",
      "\n",
      "Evaluating: changepoint_prior_scale=0.08, seasonality_prior_scale=9.1, seasonality_mode=additive\n"
     ]
    },
    {
     "name": "stderr",
     "output_type": "stream",
     "text": [
      "19:43:54 - cmdstanpy - INFO - Chain [1] start processing\n",
      "19:43:54 - cmdstanpy - INFO - Chain [1] done processing\n",
      "c:\\Users\\natra\\AppData\\Local\\Programs\\Python\\Python310\\lib\\site-packages\\sklearn\\metrics\\_regression.py:492: FutureWarning: 'squared' is deprecated in version 1.4 and will be removed in 1.6. To calculate the root mean squared error, use the function'root_mean_squared_error'.\n",
      "  warnings.warn(\n",
      "19:43:55 - cmdstanpy - INFO - Chain [1] start processing\n",
      "19:43:55 - cmdstanpy - INFO - Chain [1] done processing\n",
      "c:\\Users\\natra\\AppData\\Local\\Programs\\Python\\Python310\\lib\\site-packages\\sklearn\\metrics\\_regression.py:492: FutureWarning: 'squared' is deprecated in version 1.4 and will be removed in 1.6. To calculate the root mean squared error, use the function'root_mean_squared_error'.\n",
      "  warnings.warn(\n",
      "19:43:56 - cmdstanpy - INFO - Chain [1] start processing\n",
      "19:43:56 - cmdstanpy - INFO - Chain [1] done processing\n",
      "c:\\Users\\natra\\AppData\\Local\\Programs\\Python\\Python310\\lib\\site-packages\\sklearn\\metrics\\_regression.py:492: FutureWarning: 'squared' is deprecated in version 1.4 and will be removed in 1.6. To calculate the root mean squared error, use the function'root_mean_squared_error'.\n",
      "  warnings.warn(\n",
      "19:43:56 - cmdstanpy - INFO - Chain [1] start processing\n",
      "19:43:57 - cmdstanpy - INFO - Chain [1] done processing\n",
      "c:\\Users\\natra\\AppData\\Local\\Programs\\Python\\Python310\\lib\\site-packages\\sklearn\\metrics\\_regression.py:492: FutureWarning: 'squared' is deprecated in version 1.4 and will be removed in 1.6. To calculate the root mean squared error, use the function'root_mean_squared_error'.\n",
      "  warnings.warn(\n",
      "19:43:57 - cmdstanpy - INFO - Chain [1] start processing\n",
      "19:43:57 - cmdstanpy - INFO - Chain [1] done processing\n",
      "c:\\Users\\natra\\AppData\\Local\\Programs\\Python\\Python310\\lib\\site-packages\\sklearn\\metrics\\_regression.py:492: FutureWarning: 'squared' is deprecated in version 1.4 and will be removed in 1.6. To calculate the root mean squared error, use the function'root_mean_squared_error'.\n",
      "  warnings.warn(\n"
     ]
    },
    {
     "name": "stdout",
     "output_type": "stream",
     "text": [
      "R² Score: 0.759, RMSE: 3.837, MAE: 3.129\n",
      "\n",
      "Evaluating: changepoint_prior_scale=0.08, seasonality_prior_scale=9.1, seasonality_mode=multiplicative\n"
     ]
    },
    {
     "name": "stderr",
     "output_type": "stream",
     "text": [
      "19:43:58 - cmdstanpy - INFO - Chain [1] start processing\n",
      "19:43:58 - cmdstanpy - INFO - Chain [1] done processing\n",
      "c:\\Users\\natra\\AppData\\Local\\Programs\\Python\\Python310\\lib\\site-packages\\sklearn\\metrics\\_regression.py:492: FutureWarning: 'squared' is deprecated in version 1.4 and will be removed in 1.6. To calculate the root mean squared error, use the function'root_mean_squared_error'.\n",
      "  warnings.warn(\n",
      "19:43:59 - cmdstanpy - INFO - Chain [1] start processing\n",
      "19:43:59 - cmdstanpy - INFO - Chain [1] done processing\n",
      "c:\\Users\\natra\\AppData\\Local\\Programs\\Python\\Python310\\lib\\site-packages\\sklearn\\metrics\\_regression.py:492: FutureWarning: 'squared' is deprecated in version 1.4 and will be removed in 1.6. To calculate the root mean squared error, use the function'root_mean_squared_error'.\n",
      "  warnings.warn(\n",
      "19:44:00 - cmdstanpy - INFO - Chain [1] start processing\n",
      "19:44:00 - cmdstanpy - INFO - Chain [1] done processing\n",
      "c:\\Users\\natra\\AppData\\Local\\Programs\\Python\\Python310\\lib\\site-packages\\sklearn\\metrics\\_regression.py:492: FutureWarning: 'squared' is deprecated in version 1.4 and will be removed in 1.6. To calculate the root mean squared error, use the function'root_mean_squared_error'.\n",
      "  warnings.warn(\n",
      "19:44:00 - cmdstanpy - INFO - Chain [1] start processing\n",
      "19:44:01 - cmdstanpy - INFO - Chain [1] done processing\n",
      "c:\\Users\\natra\\AppData\\Local\\Programs\\Python\\Python310\\lib\\site-packages\\sklearn\\metrics\\_regression.py:492: FutureWarning: 'squared' is deprecated in version 1.4 and will be removed in 1.6. To calculate the root mean squared error, use the function'root_mean_squared_error'.\n",
      "  warnings.warn(\n",
      "19:44:01 - cmdstanpy - INFO - Chain [1] start processing\n",
      "19:44:02 - cmdstanpy - INFO - Chain [1] done processing\n",
      "c:\\Users\\natra\\AppData\\Local\\Programs\\Python\\Python310\\lib\\site-packages\\sklearn\\metrics\\_regression.py:492: FutureWarning: 'squared' is deprecated in version 1.4 and will be removed in 1.6. To calculate the root mean squared error, use the function'root_mean_squared_error'.\n",
      "  warnings.warn(\n"
     ]
    },
    {
     "name": "stdout",
     "output_type": "stream",
     "text": [
      "R² Score: 0.756, RMSE: 3.859, MAE: 3.140\n",
      "\n",
      "Evaluating: changepoint_prior_scale=0.08, seasonality_prior_scale=10.1, seasonality_mode=additive\n"
     ]
    },
    {
     "name": "stderr",
     "output_type": "stream",
     "text": [
      "19:44:02 - cmdstanpy - INFO - Chain [1] start processing\n",
      "19:44:02 - cmdstanpy - INFO - Chain [1] done processing\n",
      "c:\\Users\\natra\\AppData\\Local\\Programs\\Python\\Python310\\lib\\site-packages\\sklearn\\metrics\\_regression.py:492: FutureWarning: 'squared' is deprecated in version 1.4 and will be removed in 1.6. To calculate the root mean squared error, use the function'root_mean_squared_error'.\n",
      "  warnings.warn(\n",
      "19:44:03 - cmdstanpy - INFO - Chain [1] start processing\n",
      "19:44:03 - cmdstanpy - INFO - Chain [1] done processing\n",
      "c:\\Users\\natra\\AppData\\Local\\Programs\\Python\\Python310\\lib\\site-packages\\sklearn\\metrics\\_regression.py:492: FutureWarning: 'squared' is deprecated in version 1.4 and will be removed in 1.6. To calculate the root mean squared error, use the function'root_mean_squared_error'.\n",
      "  warnings.warn(\n",
      "19:44:04 - cmdstanpy - INFO - Chain [1] start processing\n",
      "19:44:04 - cmdstanpy - INFO - Chain [1] done processing\n",
      "c:\\Users\\natra\\AppData\\Local\\Programs\\Python\\Python310\\lib\\site-packages\\sklearn\\metrics\\_regression.py:492: FutureWarning: 'squared' is deprecated in version 1.4 and will be removed in 1.6. To calculate the root mean squared error, use the function'root_mean_squared_error'.\n",
      "  warnings.warn(\n",
      "19:44:05 - cmdstanpy - INFO - Chain [1] start processing\n",
      "19:44:05 - cmdstanpy - INFO - Chain [1] done processing\n",
      "c:\\Users\\natra\\AppData\\Local\\Programs\\Python\\Python310\\lib\\site-packages\\sklearn\\metrics\\_regression.py:492: FutureWarning: 'squared' is deprecated in version 1.4 and will be removed in 1.6. To calculate the root mean squared error, use the function'root_mean_squared_error'.\n",
      "  warnings.warn(\n",
      "19:44:05 - cmdstanpy - INFO - Chain [1] start processing\n",
      "19:44:06 - cmdstanpy - INFO - Chain [1] done processing\n",
      "c:\\Users\\natra\\AppData\\Local\\Programs\\Python\\Python310\\lib\\site-packages\\sklearn\\metrics\\_regression.py:492: FutureWarning: 'squared' is deprecated in version 1.4 and will be removed in 1.6. To calculate the root mean squared error, use the function'root_mean_squared_error'.\n",
      "  warnings.warn(\n"
     ]
    },
    {
     "name": "stdout",
     "output_type": "stream",
     "text": [
      "R² Score: 0.762, RMSE: 3.809, MAE: 3.105\n",
      "\n",
      "Evaluating: changepoint_prior_scale=0.08, seasonality_prior_scale=10.1, seasonality_mode=multiplicative\n"
     ]
    },
    {
     "name": "stderr",
     "output_type": "stream",
     "text": [
      "19:44:07 - cmdstanpy - INFO - Chain [1] start processing\n",
      "19:44:07 - cmdstanpy - INFO - Chain [1] done processing\n",
      "c:\\Users\\natra\\AppData\\Local\\Programs\\Python\\Python310\\lib\\site-packages\\sklearn\\metrics\\_regression.py:492: FutureWarning: 'squared' is deprecated in version 1.4 and will be removed in 1.6. To calculate the root mean squared error, use the function'root_mean_squared_error'.\n",
      "  warnings.warn(\n",
      "19:44:08 - cmdstanpy - INFO - Chain [1] start processing\n",
      "19:44:08 - cmdstanpy - INFO - Chain [1] done processing\n",
      "c:\\Users\\natra\\AppData\\Local\\Programs\\Python\\Python310\\lib\\site-packages\\sklearn\\metrics\\_regression.py:492: FutureWarning: 'squared' is deprecated in version 1.4 and will be removed in 1.6. To calculate the root mean squared error, use the function'root_mean_squared_error'.\n",
      "  warnings.warn(\n",
      "19:44:08 - cmdstanpy - INFO - Chain [1] start processing\n",
      "19:44:09 - cmdstanpy - INFO - Chain [1] done processing\n",
      "c:\\Users\\natra\\AppData\\Local\\Programs\\Python\\Python310\\lib\\site-packages\\sklearn\\metrics\\_regression.py:492: FutureWarning: 'squared' is deprecated in version 1.4 and will be removed in 1.6. To calculate the root mean squared error, use the function'root_mean_squared_error'.\n",
      "  warnings.warn(\n",
      "19:44:09 - cmdstanpy - INFO - Chain [1] start processing\n",
      "19:44:10 - cmdstanpy - INFO - Chain [1] done processing\n",
      "c:\\Users\\natra\\AppData\\Local\\Programs\\Python\\Python310\\lib\\site-packages\\sklearn\\metrics\\_regression.py:492: FutureWarning: 'squared' is deprecated in version 1.4 and will be removed in 1.6. To calculate the root mean squared error, use the function'root_mean_squared_error'.\n",
      "  warnings.warn(\n",
      "19:44:10 - cmdstanpy - INFO - Chain [1] start processing\n",
      "19:44:10 - cmdstanpy - INFO - Chain [1] done processing\n",
      "c:\\Users\\natra\\AppData\\Local\\Programs\\Python\\Python310\\lib\\site-packages\\sklearn\\metrics\\_regression.py:492: FutureWarning: 'squared' is deprecated in version 1.4 and will be removed in 1.6. To calculate the root mean squared error, use the function'root_mean_squared_error'.\n",
      "  warnings.warn(\n"
     ]
    },
    {
     "name": "stdout",
     "output_type": "stream",
     "text": [
      "R² Score: 0.756, RMSE: 3.859, MAE: 3.125\n",
      "\n",
      "Evaluating: changepoint_prior_scale=0.09, seasonality_prior_scale=0.1, seasonality_mode=additive\n"
     ]
    },
    {
     "name": "stderr",
     "output_type": "stream",
     "text": [
      "19:44:11 - cmdstanpy - INFO - Chain [1] start processing\n",
      "19:44:11 - cmdstanpy - INFO - Chain [1] done processing\n",
      "c:\\Users\\natra\\AppData\\Local\\Programs\\Python\\Python310\\lib\\site-packages\\sklearn\\metrics\\_regression.py:492: FutureWarning: 'squared' is deprecated in version 1.4 and will be removed in 1.6. To calculate the root mean squared error, use the function'root_mean_squared_error'.\n",
      "  warnings.warn(\n",
      "19:44:12 - cmdstanpy - INFO - Chain [1] start processing\n",
      "19:44:12 - cmdstanpy - INFO - Chain [1] done processing\n",
      "c:\\Users\\natra\\AppData\\Local\\Programs\\Python\\Python310\\lib\\site-packages\\sklearn\\metrics\\_regression.py:492: FutureWarning: 'squared' is deprecated in version 1.4 and will be removed in 1.6. To calculate the root mean squared error, use the function'root_mean_squared_error'.\n",
      "  warnings.warn(\n",
      "19:44:13 - cmdstanpy - INFO - Chain [1] start processing\n",
      "19:44:13 - cmdstanpy - INFO - Chain [1] done processing\n",
      "c:\\Users\\natra\\AppData\\Local\\Programs\\Python\\Python310\\lib\\site-packages\\sklearn\\metrics\\_regression.py:492: FutureWarning: 'squared' is deprecated in version 1.4 and will be removed in 1.6. To calculate the root mean squared error, use the function'root_mean_squared_error'.\n",
      "  warnings.warn(\n",
      "19:44:14 - cmdstanpy - INFO - Chain [1] start processing\n",
      "19:44:14 - cmdstanpy - INFO - Chain [1] done processing\n",
      "c:\\Users\\natra\\AppData\\Local\\Programs\\Python\\Python310\\lib\\site-packages\\sklearn\\metrics\\_regression.py:492: FutureWarning: 'squared' is deprecated in version 1.4 and will be removed in 1.6. To calculate the root mean squared error, use the function'root_mean_squared_error'.\n",
      "  warnings.warn(\n",
      "19:44:15 - cmdstanpy - INFO - Chain [1] start processing\n",
      "19:44:15 - cmdstanpy - INFO - Chain [1] done processing\n",
      "c:\\Users\\natra\\AppData\\Local\\Programs\\Python\\Python310\\lib\\site-packages\\sklearn\\metrics\\_regression.py:492: FutureWarning: 'squared' is deprecated in version 1.4 and will be removed in 1.6. To calculate the root mean squared error, use the function'root_mean_squared_error'.\n",
      "  warnings.warn(\n"
     ]
    },
    {
     "name": "stdout",
     "output_type": "stream",
     "text": [
      "R² Score: 0.755, RMSE: 3.863, MAE: 3.151\n",
      "\n",
      "Evaluating: changepoint_prior_scale=0.09, seasonality_prior_scale=0.1, seasonality_mode=multiplicative\n"
     ]
    },
    {
     "name": "stderr",
     "output_type": "stream",
     "text": [
      "19:44:16 - cmdstanpy - INFO - Chain [1] start processing\n",
      "19:44:16 - cmdstanpy - INFO - Chain [1] done processing\n",
      "c:\\Users\\natra\\AppData\\Local\\Programs\\Python\\Python310\\lib\\site-packages\\sklearn\\metrics\\_regression.py:492: FutureWarning: 'squared' is deprecated in version 1.4 and will be removed in 1.6. To calculate the root mean squared error, use the function'root_mean_squared_error'.\n",
      "  warnings.warn(\n",
      "19:44:17 - cmdstanpy - INFO - Chain [1] start processing\n",
      "19:44:17 - cmdstanpy - INFO - Chain [1] done processing\n",
      "c:\\Users\\natra\\AppData\\Local\\Programs\\Python\\Python310\\lib\\site-packages\\sklearn\\metrics\\_regression.py:492: FutureWarning: 'squared' is deprecated in version 1.4 and will be removed in 1.6. To calculate the root mean squared error, use the function'root_mean_squared_error'.\n",
      "  warnings.warn(\n",
      "19:44:18 - cmdstanpy - INFO - Chain [1] start processing\n",
      "19:44:18 - cmdstanpy - INFO - Chain [1] done processing\n",
      "c:\\Users\\natra\\AppData\\Local\\Programs\\Python\\Python310\\lib\\site-packages\\sklearn\\metrics\\_regression.py:492: FutureWarning: 'squared' is deprecated in version 1.4 and will be removed in 1.6. To calculate the root mean squared error, use the function'root_mean_squared_error'.\n",
      "  warnings.warn(\n",
      "19:44:19 - cmdstanpy - INFO - Chain [1] start processing\n",
      "19:44:19 - cmdstanpy - INFO - Chain [1] done processing\n",
      "c:\\Users\\natra\\AppData\\Local\\Programs\\Python\\Python310\\lib\\site-packages\\sklearn\\metrics\\_regression.py:492: FutureWarning: 'squared' is deprecated in version 1.4 and will be removed in 1.6. To calculate the root mean squared error, use the function'root_mean_squared_error'.\n",
      "  warnings.warn(\n",
      "19:44:19 - cmdstanpy - INFO - Chain [1] start processing\n",
      "19:44:20 - cmdstanpy - INFO - Chain [1] done processing\n",
      "c:\\Users\\natra\\AppData\\Local\\Programs\\Python\\Python310\\lib\\site-packages\\sklearn\\metrics\\_regression.py:492: FutureWarning: 'squared' is deprecated in version 1.4 and will be removed in 1.6. To calculate the root mean squared error, use the function'root_mean_squared_error'.\n",
      "  warnings.warn(\n"
     ]
    },
    {
     "name": "stdout",
     "output_type": "stream",
     "text": [
      "R² Score: 0.753, RMSE: 3.887, MAE: 3.164\n",
      "\n",
      "Evaluating: changepoint_prior_scale=0.09, seasonality_prior_scale=1.1, seasonality_mode=additive\n"
     ]
    },
    {
     "name": "stderr",
     "output_type": "stream",
     "text": [
      "19:44:20 - cmdstanpy - INFO - Chain [1] start processing\n",
      "19:44:21 - cmdstanpy - INFO - Chain [1] done processing\n",
      "c:\\Users\\natra\\AppData\\Local\\Programs\\Python\\Python310\\lib\\site-packages\\sklearn\\metrics\\_regression.py:492: FutureWarning: 'squared' is deprecated in version 1.4 and will be removed in 1.6. To calculate the root mean squared error, use the function'root_mean_squared_error'.\n",
      "  warnings.warn(\n",
      "19:44:21 - cmdstanpy - INFO - Chain [1] start processing\n",
      "19:44:21 - cmdstanpy - INFO - Chain [1] done processing\n",
      "c:\\Users\\natra\\AppData\\Local\\Programs\\Python\\Python310\\lib\\site-packages\\sklearn\\metrics\\_regression.py:492: FutureWarning: 'squared' is deprecated in version 1.4 and will be removed in 1.6. To calculate the root mean squared error, use the function'root_mean_squared_error'.\n",
      "  warnings.warn(\n",
      "19:44:22 - cmdstanpy - INFO - Chain [1] start processing\n",
      "19:44:22 - cmdstanpy - INFO - Chain [1] done processing\n",
      "c:\\Users\\natra\\AppData\\Local\\Programs\\Python\\Python310\\lib\\site-packages\\sklearn\\metrics\\_regression.py:492: FutureWarning: 'squared' is deprecated in version 1.4 and will be removed in 1.6. To calculate the root mean squared error, use the function'root_mean_squared_error'.\n",
      "  warnings.warn(\n",
      "19:44:23 - cmdstanpy - INFO - Chain [1] start processing\n",
      "19:44:23 - cmdstanpy - INFO - Chain [1] done processing\n",
      "c:\\Users\\natra\\AppData\\Local\\Programs\\Python\\Python310\\lib\\site-packages\\sklearn\\metrics\\_regression.py:492: FutureWarning: 'squared' is deprecated in version 1.4 and will be removed in 1.6. To calculate the root mean squared error, use the function'root_mean_squared_error'.\n",
      "  warnings.warn(\n",
      "19:44:24 - cmdstanpy - INFO - Chain [1] start processing\n",
      "19:44:24 - cmdstanpy - INFO - Chain [1] done processing\n",
      "c:\\Users\\natra\\AppData\\Local\\Programs\\Python\\Python310\\lib\\site-packages\\sklearn\\metrics\\_regression.py:492: FutureWarning: 'squared' is deprecated in version 1.4 and will be removed in 1.6. To calculate the root mean squared error, use the function'root_mean_squared_error'.\n",
      "  warnings.warn(\n"
     ]
    },
    {
     "name": "stdout",
     "output_type": "stream",
     "text": [
      "R² Score: 0.757, RMSE: 3.851, MAE: 3.140\n",
      "\n",
      "Evaluating: changepoint_prior_scale=0.09, seasonality_prior_scale=1.1, seasonality_mode=multiplicative\n"
     ]
    },
    {
     "name": "stderr",
     "output_type": "stream",
     "text": [
      "19:44:24 - cmdstanpy - INFO - Chain [1] start processing\n",
      "19:44:25 - cmdstanpy - INFO - Chain [1] done processing\n",
      "c:\\Users\\natra\\AppData\\Local\\Programs\\Python\\Python310\\lib\\site-packages\\sklearn\\metrics\\_regression.py:492: FutureWarning: 'squared' is deprecated in version 1.4 and will be removed in 1.6. To calculate the root mean squared error, use the function'root_mean_squared_error'.\n",
      "  warnings.warn(\n",
      "19:44:25 - cmdstanpy - INFO - Chain [1] start processing\n",
      "19:44:25 - cmdstanpy - INFO - Chain [1] done processing\n",
      "c:\\Users\\natra\\AppData\\Local\\Programs\\Python\\Python310\\lib\\site-packages\\sklearn\\metrics\\_regression.py:492: FutureWarning: 'squared' is deprecated in version 1.4 and will be removed in 1.6. To calculate the root mean squared error, use the function'root_mean_squared_error'.\n",
      "  warnings.warn(\n",
      "19:44:26 - cmdstanpy - INFO - Chain [1] start processing\n",
      "19:44:26 - cmdstanpy - INFO - Chain [1] done processing\n",
      "c:\\Users\\natra\\AppData\\Local\\Programs\\Python\\Python310\\lib\\site-packages\\sklearn\\metrics\\_regression.py:492: FutureWarning: 'squared' is deprecated in version 1.4 and will be removed in 1.6. To calculate the root mean squared error, use the function'root_mean_squared_error'.\n",
      "  warnings.warn(\n",
      "19:44:27 - cmdstanpy - INFO - Chain [1] start processing\n",
      "19:44:27 - cmdstanpy - INFO - Chain [1] done processing\n",
      "c:\\Users\\natra\\AppData\\Local\\Programs\\Python\\Python310\\lib\\site-packages\\sklearn\\metrics\\_regression.py:492: FutureWarning: 'squared' is deprecated in version 1.4 and will be removed in 1.6. To calculate the root mean squared error, use the function'root_mean_squared_error'.\n",
      "  warnings.warn(\n",
      "19:44:28 - cmdstanpy - INFO - Chain [1] start processing\n",
      "19:44:28 - cmdstanpy - INFO - Chain [1] done processing\n",
      "c:\\Users\\natra\\AppData\\Local\\Programs\\Python\\Python310\\lib\\site-packages\\sklearn\\metrics\\_regression.py:492: FutureWarning: 'squared' is deprecated in version 1.4 and will be removed in 1.6. To calculate the root mean squared error, use the function'root_mean_squared_error'.\n",
      "  warnings.warn(\n"
     ]
    },
    {
     "name": "stdout",
     "output_type": "stream",
     "text": [
      "R² Score: 0.753, RMSE: 3.884, MAE: 3.161\n",
      "\n",
      "Evaluating: changepoint_prior_scale=0.09, seasonality_prior_scale=2.1, seasonality_mode=additive\n"
     ]
    },
    {
     "name": "stderr",
     "output_type": "stream",
     "text": [
      "19:44:28 - cmdstanpy - INFO - Chain [1] start processing\n",
      "19:44:29 - cmdstanpy - INFO - Chain [1] done processing\n",
      "c:\\Users\\natra\\AppData\\Local\\Programs\\Python\\Python310\\lib\\site-packages\\sklearn\\metrics\\_regression.py:492: FutureWarning: 'squared' is deprecated in version 1.4 and will be removed in 1.6. To calculate the root mean squared error, use the function'root_mean_squared_error'.\n",
      "  warnings.warn(\n",
      "19:44:29 - cmdstanpy - INFO - Chain [1] start processing\n",
      "19:44:29 - cmdstanpy - INFO - Chain [1] done processing\n",
      "c:\\Users\\natra\\AppData\\Local\\Programs\\Python\\Python310\\lib\\site-packages\\sklearn\\metrics\\_regression.py:492: FutureWarning: 'squared' is deprecated in version 1.4 and will be removed in 1.6. To calculate the root mean squared error, use the function'root_mean_squared_error'.\n",
      "  warnings.warn(\n",
      "19:44:30 - cmdstanpy - INFO - Chain [1] start processing\n",
      "19:44:30 - cmdstanpy - INFO - Chain [1] done processing\n",
      "c:\\Users\\natra\\AppData\\Local\\Programs\\Python\\Python310\\lib\\site-packages\\sklearn\\metrics\\_regression.py:492: FutureWarning: 'squared' is deprecated in version 1.4 and will be removed in 1.6. To calculate the root mean squared error, use the function'root_mean_squared_error'.\n",
      "  warnings.warn(\n",
      "19:44:31 - cmdstanpy - INFO - Chain [1] start processing\n",
      "19:44:31 - cmdstanpy - INFO - Chain [1] done processing\n",
      "c:\\Users\\natra\\AppData\\Local\\Programs\\Python\\Python310\\lib\\site-packages\\sklearn\\metrics\\_regression.py:492: FutureWarning: 'squared' is deprecated in version 1.4 and will be removed in 1.6. To calculate the root mean squared error, use the function'root_mean_squared_error'.\n",
      "  warnings.warn(\n",
      "19:44:32 - cmdstanpy - INFO - Chain [1] start processing\n",
      "19:44:32 - cmdstanpy - INFO - Chain [1] done processing\n",
      "c:\\Users\\natra\\AppData\\Local\\Programs\\Python\\Python310\\lib\\site-packages\\sklearn\\metrics\\_regression.py:492: FutureWarning: 'squared' is deprecated in version 1.4 and will be removed in 1.6. To calculate the root mean squared error, use the function'root_mean_squared_error'.\n",
      "  warnings.warn(\n"
     ]
    },
    {
     "name": "stdout",
     "output_type": "stream",
     "text": [
      "R² Score: 0.756, RMSE: 3.857, MAE: 3.146\n",
      "\n",
      "Evaluating: changepoint_prior_scale=0.09, seasonality_prior_scale=2.1, seasonality_mode=multiplicative\n"
     ]
    },
    {
     "name": "stderr",
     "output_type": "stream",
     "text": [
      "19:44:33 - cmdstanpy - INFO - Chain [1] start processing\n",
      "19:44:33 - cmdstanpy - INFO - Chain [1] done processing\n",
      "c:\\Users\\natra\\AppData\\Local\\Programs\\Python\\Python310\\lib\\site-packages\\sklearn\\metrics\\_regression.py:492: FutureWarning: 'squared' is deprecated in version 1.4 and will be removed in 1.6. To calculate the root mean squared error, use the function'root_mean_squared_error'.\n",
      "  warnings.warn(\n",
      "19:44:33 - cmdstanpy - INFO - Chain [1] start processing\n",
      "19:44:34 - cmdstanpy - INFO - Chain [1] done processing\n",
      "c:\\Users\\natra\\AppData\\Local\\Programs\\Python\\Python310\\lib\\site-packages\\sklearn\\metrics\\_regression.py:492: FutureWarning: 'squared' is deprecated in version 1.4 and will be removed in 1.6. To calculate the root mean squared error, use the function'root_mean_squared_error'.\n",
      "  warnings.warn(\n",
      "19:44:34 - cmdstanpy - INFO - Chain [1] start processing\n",
      "19:44:34 - cmdstanpy - INFO - Chain [1] done processing\n",
      "c:\\Users\\natra\\AppData\\Local\\Programs\\Python\\Python310\\lib\\site-packages\\sklearn\\metrics\\_regression.py:492: FutureWarning: 'squared' is deprecated in version 1.4 and will be removed in 1.6. To calculate the root mean squared error, use the function'root_mean_squared_error'.\n",
      "  warnings.warn(\n",
      "19:44:35 - cmdstanpy - INFO - Chain [1] start processing\n",
      "19:44:35 - cmdstanpy - INFO - Chain [1] done processing\n",
      "c:\\Users\\natra\\AppData\\Local\\Programs\\Python\\Python310\\lib\\site-packages\\sklearn\\metrics\\_regression.py:492: FutureWarning: 'squared' is deprecated in version 1.4 and will be removed in 1.6. To calculate the root mean squared error, use the function'root_mean_squared_error'.\n",
      "  warnings.warn(\n",
      "19:44:36 - cmdstanpy - INFO - Chain [1] start processing\n",
      "19:44:36 - cmdstanpy - INFO - Chain [1] done processing\n",
      "c:\\Users\\natra\\AppData\\Local\\Programs\\Python\\Python310\\lib\\site-packages\\sklearn\\metrics\\_regression.py:492: FutureWarning: 'squared' is deprecated in version 1.4 and will be removed in 1.6. To calculate the root mean squared error, use the function'root_mean_squared_error'.\n",
      "  warnings.warn(\n"
     ]
    },
    {
     "name": "stdout",
     "output_type": "stream",
     "text": [
      "R² Score: 0.753, RMSE: 3.884, MAE: 3.150\n",
      "\n",
      "Evaluating: changepoint_prior_scale=0.09, seasonality_prior_scale=3.1, seasonality_mode=additive\n"
     ]
    },
    {
     "name": "stderr",
     "output_type": "stream",
     "text": [
      "19:44:37 - cmdstanpy - INFO - Chain [1] start processing\n",
      "19:44:37 - cmdstanpy - INFO - Chain [1] done processing\n",
      "c:\\Users\\natra\\AppData\\Local\\Programs\\Python\\Python310\\lib\\site-packages\\sklearn\\metrics\\_regression.py:492: FutureWarning: 'squared' is deprecated in version 1.4 and will be removed in 1.6. To calculate the root mean squared error, use the function'root_mean_squared_error'.\n",
      "  warnings.warn(\n",
      "19:44:38 - cmdstanpy - INFO - Chain [1] start processing\n",
      "19:44:38 - cmdstanpy - INFO - Chain [1] done processing\n",
      "c:\\Users\\natra\\AppData\\Local\\Programs\\Python\\Python310\\lib\\site-packages\\sklearn\\metrics\\_regression.py:492: FutureWarning: 'squared' is deprecated in version 1.4 and will be removed in 1.6. To calculate the root mean squared error, use the function'root_mean_squared_error'.\n",
      "  warnings.warn(\n",
      "19:44:39 - cmdstanpy - INFO - Chain [1] start processing\n",
      "19:44:39 - cmdstanpy - INFO - Chain [1] done processing\n",
      "c:\\Users\\natra\\AppData\\Local\\Programs\\Python\\Python310\\lib\\site-packages\\sklearn\\metrics\\_regression.py:492: FutureWarning: 'squared' is deprecated in version 1.4 and will be removed in 1.6. To calculate the root mean squared error, use the function'root_mean_squared_error'.\n",
      "  warnings.warn(\n",
      "19:44:39 - cmdstanpy - INFO - Chain [1] start processing\n",
      "19:44:40 - cmdstanpy - INFO - Chain [1] done processing\n",
      "c:\\Users\\natra\\AppData\\Local\\Programs\\Python\\Python310\\lib\\site-packages\\sklearn\\metrics\\_regression.py:492: FutureWarning: 'squared' is deprecated in version 1.4 and will be removed in 1.6. To calculate the root mean squared error, use the function'root_mean_squared_error'.\n",
      "  warnings.warn(\n",
      "19:44:40 - cmdstanpy - INFO - Chain [1] start processing\n",
      "19:44:40 - cmdstanpy - INFO - Chain [1] done processing\n",
      "c:\\Users\\natra\\AppData\\Local\\Programs\\Python\\Python310\\lib\\site-packages\\sklearn\\metrics\\_regression.py:492: FutureWarning: 'squared' is deprecated in version 1.4 and will be removed in 1.6. To calculate the root mean squared error, use the function'root_mean_squared_error'.\n",
      "  warnings.warn(\n"
     ]
    },
    {
     "name": "stdout",
     "output_type": "stream",
     "text": [
      "R² Score: 0.755, RMSE: 3.862, MAE: 3.150\n",
      "\n",
      "Evaluating: changepoint_prior_scale=0.09, seasonality_prior_scale=3.1, seasonality_mode=multiplicative\n"
     ]
    },
    {
     "name": "stderr",
     "output_type": "stream",
     "text": [
      "19:44:41 - cmdstanpy - INFO - Chain [1] start processing\n",
      "19:44:41 - cmdstanpy - INFO - Chain [1] done processing\n",
      "c:\\Users\\natra\\AppData\\Local\\Programs\\Python\\Python310\\lib\\site-packages\\sklearn\\metrics\\_regression.py:492: FutureWarning: 'squared' is deprecated in version 1.4 and will be removed in 1.6. To calculate the root mean squared error, use the function'root_mean_squared_error'.\n",
      "  warnings.warn(\n",
      "19:44:42 - cmdstanpy - INFO - Chain [1] start processing\n",
      "19:44:42 - cmdstanpy - INFO - Chain [1] done processing\n",
      "c:\\Users\\natra\\AppData\\Local\\Programs\\Python\\Python310\\lib\\site-packages\\sklearn\\metrics\\_regression.py:492: FutureWarning: 'squared' is deprecated in version 1.4 and will be removed in 1.6. To calculate the root mean squared error, use the function'root_mean_squared_error'.\n",
      "  warnings.warn(\n",
      "19:44:43 - cmdstanpy - INFO - Chain [1] start processing\n",
      "19:44:43 - cmdstanpy - INFO - Chain [1] done processing\n",
      "c:\\Users\\natra\\AppData\\Local\\Programs\\Python\\Python310\\lib\\site-packages\\sklearn\\metrics\\_regression.py:492: FutureWarning: 'squared' is deprecated in version 1.4 and will be removed in 1.6. To calculate the root mean squared error, use the function'root_mean_squared_error'.\n",
      "  warnings.warn(\n",
      "19:44:44 - cmdstanpy - INFO - Chain [1] start processing\n",
      "19:44:44 - cmdstanpy - INFO - Chain [1] done processing\n",
      "c:\\Users\\natra\\AppData\\Local\\Programs\\Python\\Python310\\lib\\site-packages\\sklearn\\metrics\\_regression.py:492: FutureWarning: 'squared' is deprecated in version 1.4 and will be removed in 1.6. To calculate the root mean squared error, use the function'root_mean_squared_error'.\n",
      "  warnings.warn(\n",
      "19:44:44 - cmdstanpy - INFO - Chain [1] start processing\n",
      "19:44:45 - cmdstanpy - INFO - Chain [1] done processing\n",
      "c:\\Users\\natra\\AppData\\Local\\Programs\\Python\\Python310\\lib\\site-packages\\sklearn\\metrics\\_regression.py:492: FutureWarning: 'squared' is deprecated in version 1.4 and will be removed in 1.6. To calculate the root mean squared error, use the function'root_mean_squared_error'.\n",
      "  warnings.warn(\n"
     ]
    },
    {
     "name": "stdout",
     "output_type": "stream",
     "text": [
      "R² Score: 0.754, RMSE: 3.879, MAE: 3.152\n",
      "\n",
      "Evaluating: changepoint_prior_scale=0.09, seasonality_prior_scale=4.1, seasonality_mode=additive\n"
     ]
    },
    {
     "name": "stderr",
     "output_type": "stream",
     "text": [
      "19:44:45 - cmdstanpy - INFO - Chain [1] start processing\n",
      "19:44:45 - cmdstanpy - INFO - Chain [1] done processing\n",
      "c:\\Users\\natra\\AppData\\Local\\Programs\\Python\\Python310\\lib\\site-packages\\sklearn\\metrics\\_regression.py:492: FutureWarning: 'squared' is deprecated in version 1.4 and will be removed in 1.6. To calculate the root mean squared error, use the function'root_mean_squared_error'.\n",
      "  warnings.warn(\n",
      "19:44:46 - cmdstanpy - INFO - Chain [1] start processing\n",
      "19:44:46 - cmdstanpy - INFO - Chain [1] done processing\n",
      "c:\\Users\\natra\\AppData\\Local\\Programs\\Python\\Python310\\lib\\site-packages\\sklearn\\metrics\\_regression.py:492: FutureWarning: 'squared' is deprecated in version 1.4 and will be removed in 1.6. To calculate the root mean squared error, use the function'root_mean_squared_error'.\n",
      "  warnings.warn(\n",
      "19:44:47 - cmdstanpy - INFO - Chain [1] start processing\n",
      "19:44:47 - cmdstanpy - INFO - Chain [1] done processing\n",
      "c:\\Users\\natra\\AppData\\Local\\Programs\\Python\\Python310\\lib\\site-packages\\sklearn\\metrics\\_regression.py:492: FutureWarning: 'squared' is deprecated in version 1.4 and will be removed in 1.6. To calculate the root mean squared error, use the function'root_mean_squared_error'.\n",
      "  warnings.warn(\n",
      "19:44:48 - cmdstanpy - INFO - Chain [1] start processing\n",
      "19:44:48 - cmdstanpy - INFO - Chain [1] done processing\n",
      "c:\\Users\\natra\\AppData\\Local\\Programs\\Python\\Python310\\lib\\site-packages\\sklearn\\metrics\\_regression.py:492: FutureWarning: 'squared' is deprecated in version 1.4 and will be removed in 1.6. To calculate the root mean squared error, use the function'root_mean_squared_error'.\n",
      "  warnings.warn(\n",
      "19:44:48 - cmdstanpy - INFO - Chain [1] start processing\n",
      "19:44:49 - cmdstanpy - INFO - Chain [1] done processing\n",
      "c:\\Users\\natra\\AppData\\Local\\Programs\\Python\\Python310\\lib\\site-packages\\sklearn\\metrics\\_regression.py:492: FutureWarning: 'squared' is deprecated in version 1.4 and will be removed in 1.6. To calculate the root mean squared error, use the function'root_mean_squared_error'.\n",
      "  warnings.warn(\n"
     ]
    },
    {
     "name": "stdout",
     "output_type": "stream",
     "text": [
      "R² Score: 0.756, RMSE: 3.853, MAE: 3.142\n",
      "\n",
      "Evaluating: changepoint_prior_scale=0.09, seasonality_prior_scale=4.1, seasonality_mode=multiplicative\n"
     ]
    },
    {
     "name": "stderr",
     "output_type": "stream",
     "text": [
      "19:44:49 - cmdstanpy - INFO - Chain [1] start processing\n",
      "19:44:50 - cmdstanpy - INFO - Chain [1] done processing\n",
      "c:\\Users\\natra\\AppData\\Local\\Programs\\Python\\Python310\\lib\\site-packages\\sklearn\\metrics\\_regression.py:492: FutureWarning: 'squared' is deprecated in version 1.4 and will be removed in 1.6. To calculate the root mean squared error, use the function'root_mean_squared_error'.\n",
      "  warnings.warn(\n",
      "19:44:50 - cmdstanpy - INFO - Chain [1] start processing\n",
      "19:44:51 - cmdstanpy - INFO - Chain [1] done processing\n",
      "c:\\Users\\natra\\AppData\\Local\\Programs\\Python\\Python310\\lib\\site-packages\\sklearn\\metrics\\_regression.py:492: FutureWarning: 'squared' is deprecated in version 1.4 and will be removed in 1.6. To calculate the root mean squared error, use the function'root_mean_squared_error'.\n",
      "  warnings.warn(\n",
      "19:44:51 - cmdstanpy - INFO - Chain [1] start processing\n",
      "19:44:51 - cmdstanpy - INFO - Chain [1] done processing\n",
      "c:\\Users\\natra\\AppData\\Local\\Programs\\Python\\Python310\\lib\\site-packages\\sklearn\\metrics\\_regression.py:492: FutureWarning: 'squared' is deprecated in version 1.4 and will be removed in 1.6. To calculate the root mean squared error, use the function'root_mean_squared_error'.\n",
      "  warnings.warn(\n",
      "19:44:52 - cmdstanpy - INFO - Chain [1] start processing\n",
      "19:44:52 - cmdstanpy - INFO - Chain [1] done processing\n",
      "c:\\Users\\natra\\AppData\\Local\\Programs\\Python\\Python310\\lib\\site-packages\\sklearn\\metrics\\_regression.py:492: FutureWarning: 'squared' is deprecated in version 1.4 and will be removed in 1.6. To calculate the root mean squared error, use the function'root_mean_squared_error'.\n",
      "  warnings.warn(\n",
      "19:44:53 - cmdstanpy - INFO - Chain [1] start processing\n",
      "19:44:53 - cmdstanpy - INFO - Chain [1] done processing\n",
      "c:\\Users\\natra\\AppData\\Local\\Programs\\Python\\Python310\\lib\\site-packages\\sklearn\\metrics\\_regression.py:492: FutureWarning: 'squared' is deprecated in version 1.4 and will be removed in 1.6. To calculate the root mean squared error, use the function'root_mean_squared_error'.\n",
      "  warnings.warn(\n"
     ]
    },
    {
     "name": "stdout",
     "output_type": "stream",
     "text": [
      "R² Score: 0.753, RMSE: 3.884, MAE: 3.157\n",
      "\n",
      "Evaluating: changepoint_prior_scale=0.09, seasonality_prior_scale=5.1, seasonality_mode=additive\n"
     ]
    },
    {
     "name": "stderr",
     "output_type": "stream",
     "text": [
      "19:44:54 - cmdstanpy - INFO - Chain [1] start processing\n",
      "19:44:54 - cmdstanpy - INFO - Chain [1] done processing\n",
      "c:\\Users\\natra\\AppData\\Local\\Programs\\Python\\Python310\\lib\\site-packages\\sklearn\\metrics\\_regression.py:492: FutureWarning: 'squared' is deprecated in version 1.4 and will be removed in 1.6. To calculate the root mean squared error, use the function'root_mean_squared_error'.\n",
      "  warnings.warn(\n",
      "19:44:55 - cmdstanpy - INFO - Chain [1] start processing\n",
      "19:44:55 - cmdstanpy - INFO - Chain [1] done processing\n",
      "c:\\Users\\natra\\AppData\\Local\\Programs\\Python\\Python310\\lib\\site-packages\\sklearn\\metrics\\_regression.py:492: FutureWarning: 'squared' is deprecated in version 1.4 and will be removed in 1.6. To calculate the root mean squared error, use the function'root_mean_squared_error'.\n",
      "  warnings.warn(\n",
      "19:44:56 - cmdstanpy - INFO - Chain [1] start processing\n",
      "19:44:56 - cmdstanpy - INFO - Chain [1] done processing\n",
      "c:\\Users\\natra\\AppData\\Local\\Programs\\Python\\Python310\\lib\\site-packages\\sklearn\\metrics\\_regression.py:492: FutureWarning: 'squared' is deprecated in version 1.4 and will be removed in 1.6. To calculate the root mean squared error, use the function'root_mean_squared_error'.\n",
      "  warnings.warn(\n",
      "19:44:57 - cmdstanpy - INFO - Chain [1] start processing\n",
      "19:44:57 - cmdstanpy - INFO - Chain [1] done processing\n",
      "c:\\Users\\natra\\AppData\\Local\\Programs\\Python\\Python310\\lib\\site-packages\\sklearn\\metrics\\_regression.py:492: FutureWarning: 'squared' is deprecated in version 1.4 and will be removed in 1.6. To calculate the root mean squared error, use the function'root_mean_squared_error'.\n",
      "  warnings.warn(\n",
      "19:44:58 - cmdstanpy - INFO - Chain [1] start processing\n",
      "19:44:58 - cmdstanpy - INFO - Chain [1] done processing\n",
      "c:\\Users\\natra\\AppData\\Local\\Programs\\Python\\Python310\\lib\\site-packages\\sklearn\\metrics\\_regression.py:492: FutureWarning: 'squared' is deprecated in version 1.4 and will be removed in 1.6. To calculate the root mean squared error, use the function'root_mean_squared_error'.\n",
      "  warnings.warn(\n"
     ]
    },
    {
     "name": "stdout",
     "output_type": "stream",
     "text": [
      "R² Score: 0.758, RMSE: 3.844, MAE: 3.135\n",
      "\n",
      "Evaluating: changepoint_prior_scale=0.09, seasonality_prior_scale=5.1, seasonality_mode=multiplicative\n"
     ]
    },
    {
     "name": "stderr",
     "output_type": "stream",
     "text": [
      "19:44:59 - cmdstanpy - INFO - Chain [1] start processing\n",
      "19:44:59 - cmdstanpy - INFO - Chain [1] done processing\n",
      "c:\\Users\\natra\\AppData\\Local\\Programs\\Python\\Python310\\lib\\site-packages\\sklearn\\metrics\\_regression.py:492: FutureWarning: 'squared' is deprecated in version 1.4 and will be removed in 1.6. To calculate the root mean squared error, use the function'root_mean_squared_error'.\n",
      "  warnings.warn(\n",
      "19:44:59 - cmdstanpy - INFO - Chain [1] start processing\n",
      "19:45:00 - cmdstanpy - INFO - Chain [1] done processing\n",
      "c:\\Users\\natra\\AppData\\Local\\Programs\\Python\\Python310\\lib\\site-packages\\sklearn\\metrics\\_regression.py:492: FutureWarning: 'squared' is deprecated in version 1.4 and will be removed in 1.6. To calculate the root mean squared error, use the function'root_mean_squared_error'.\n",
      "  warnings.warn(\n",
      "19:45:00 - cmdstanpy - INFO - Chain [1] start processing\n",
      "19:45:01 - cmdstanpy - INFO - Chain [1] done processing\n",
      "c:\\Users\\natra\\AppData\\Local\\Programs\\Python\\Python310\\lib\\site-packages\\sklearn\\metrics\\_regression.py:492: FutureWarning: 'squared' is deprecated in version 1.4 and will be removed in 1.6. To calculate the root mean squared error, use the function'root_mean_squared_error'.\n",
      "  warnings.warn(\n",
      "19:45:01 - cmdstanpy - INFO - Chain [1] start processing\n",
      "19:45:01 - cmdstanpy - INFO - Chain [1] done processing\n",
      "c:\\Users\\natra\\AppData\\Local\\Programs\\Python\\Python310\\lib\\site-packages\\sklearn\\metrics\\_regression.py:492: FutureWarning: 'squared' is deprecated in version 1.4 and will be removed in 1.6. To calculate the root mean squared error, use the function'root_mean_squared_error'.\n",
      "  warnings.warn(\n",
      "19:45:02 - cmdstanpy - INFO - Chain [1] start processing\n",
      "19:45:02 - cmdstanpy - INFO - Chain [1] done processing\n",
      "c:\\Users\\natra\\AppData\\Local\\Programs\\Python\\Python310\\lib\\site-packages\\sklearn\\metrics\\_regression.py:492: FutureWarning: 'squared' is deprecated in version 1.4 and will be removed in 1.6. To calculate the root mean squared error, use the function'root_mean_squared_error'.\n",
      "  warnings.warn(\n"
     ]
    },
    {
     "name": "stdout",
     "output_type": "stream",
     "text": [
      "R² Score: 0.754, RMSE: 3.876, MAE: 3.155\n",
      "\n",
      "Evaluating: changepoint_prior_scale=0.09, seasonality_prior_scale=6.1, seasonality_mode=additive\n"
     ]
    },
    {
     "name": "stderr",
     "output_type": "stream",
     "text": [
      "19:45:03 - cmdstanpy - INFO - Chain [1] start processing\n",
      "19:45:03 - cmdstanpy - INFO - Chain [1] done processing\n",
      "c:\\Users\\natra\\AppData\\Local\\Programs\\Python\\Python310\\lib\\site-packages\\sklearn\\metrics\\_regression.py:492: FutureWarning: 'squared' is deprecated in version 1.4 and will be removed in 1.6. To calculate the root mean squared error, use the function'root_mean_squared_error'.\n",
      "  warnings.warn(\n",
      "19:45:04 - cmdstanpy - INFO - Chain [1] start processing\n",
      "19:45:04 - cmdstanpy - INFO - Chain [1] done processing\n",
      "c:\\Users\\natra\\AppData\\Local\\Programs\\Python\\Python310\\lib\\site-packages\\sklearn\\metrics\\_regression.py:492: FutureWarning: 'squared' is deprecated in version 1.4 and will be removed in 1.6. To calculate the root mean squared error, use the function'root_mean_squared_error'.\n",
      "  warnings.warn(\n",
      "19:45:05 - cmdstanpy - INFO - Chain [1] start processing\n",
      "19:45:05 - cmdstanpy - INFO - Chain [1] done processing\n",
      "c:\\Users\\natra\\AppData\\Local\\Programs\\Python\\Python310\\lib\\site-packages\\sklearn\\metrics\\_regression.py:492: FutureWarning: 'squared' is deprecated in version 1.4 and will be removed in 1.6. To calculate the root mean squared error, use the function'root_mean_squared_error'.\n",
      "  warnings.warn(\n",
      "19:45:05 - cmdstanpy - INFO - Chain [1] start processing\n",
      "19:45:06 - cmdstanpy - INFO - Chain [1] done processing\n",
      "c:\\Users\\natra\\AppData\\Local\\Programs\\Python\\Python310\\lib\\site-packages\\sklearn\\metrics\\_regression.py:492: FutureWarning: 'squared' is deprecated in version 1.4 and will be removed in 1.6. To calculate the root mean squared error, use the function'root_mean_squared_error'.\n",
      "  warnings.warn(\n",
      "19:45:06 - cmdstanpy - INFO - Chain [1] start processing\n",
      "19:45:06 - cmdstanpy - INFO - Chain [1] done processing\n",
      "c:\\Users\\natra\\AppData\\Local\\Programs\\Python\\Python310\\lib\\site-packages\\sklearn\\metrics\\_regression.py:492: FutureWarning: 'squared' is deprecated in version 1.4 and will be removed in 1.6. To calculate the root mean squared error, use the function'root_mean_squared_error'.\n",
      "  warnings.warn(\n"
     ]
    },
    {
     "name": "stdout",
     "output_type": "stream",
     "text": [
      "R² Score: 0.755, RMSE: 3.860, MAE: 3.147\n",
      "\n",
      "Evaluating: changepoint_prior_scale=0.09, seasonality_prior_scale=6.1, seasonality_mode=multiplicative\n"
     ]
    },
    {
     "name": "stderr",
     "output_type": "stream",
     "text": [
      "19:45:07 - cmdstanpy - INFO - Chain [1] start processing\n",
      "19:45:07 - cmdstanpy - INFO - Chain [1] done processing\n",
      "c:\\Users\\natra\\AppData\\Local\\Programs\\Python\\Python310\\lib\\site-packages\\sklearn\\metrics\\_regression.py:492: FutureWarning: 'squared' is deprecated in version 1.4 and will be removed in 1.6. To calculate the root mean squared error, use the function'root_mean_squared_error'.\n",
      "  warnings.warn(\n",
      "19:45:08 - cmdstanpy - INFO - Chain [1] start processing\n",
      "19:45:08 - cmdstanpy - INFO - Chain [1] done processing\n",
      "c:\\Users\\natra\\AppData\\Local\\Programs\\Python\\Python310\\lib\\site-packages\\sklearn\\metrics\\_regression.py:492: FutureWarning: 'squared' is deprecated in version 1.4 and will be removed in 1.6. To calculate the root mean squared error, use the function'root_mean_squared_error'.\n",
      "  warnings.warn(\n",
      "19:45:09 - cmdstanpy - INFO - Chain [1] start processing\n",
      "19:45:09 - cmdstanpy - INFO - Chain [1] done processing\n",
      "c:\\Users\\natra\\AppData\\Local\\Programs\\Python\\Python310\\lib\\site-packages\\sklearn\\metrics\\_regression.py:492: FutureWarning: 'squared' is deprecated in version 1.4 and will be removed in 1.6. To calculate the root mean squared error, use the function'root_mean_squared_error'.\n",
      "  warnings.warn(\n",
      "19:45:10 - cmdstanpy - INFO - Chain [1] start processing\n",
      "19:45:10 - cmdstanpy - INFO - Chain [1] done processing\n",
      "c:\\Users\\natra\\AppData\\Local\\Programs\\Python\\Python310\\lib\\site-packages\\sklearn\\metrics\\_regression.py:492: FutureWarning: 'squared' is deprecated in version 1.4 and will be removed in 1.6. To calculate the root mean squared error, use the function'root_mean_squared_error'.\n",
      "  warnings.warn(\n",
      "19:45:11 - cmdstanpy - INFO - Chain [1] start processing\n",
      "19:45:11 - cmdstanpy - INFO - Chain [1] done processing\n",
      "c:\\Users\\natra\\AppData\\Local\\Programs\\Python\\Python310\\lib\\site-packages\\sklearn\\metrics\\_regression.py:492: FutureWarning: 'squared' is deprecated in version 1.4 and will be removed in 1.6. To calculate the root mean squared error, use the function'root_mean_squared_error'.\n",
      "  warnings.warn(\n"
     ]
    },
    {
     "name": "stdout",
     "output_type": "stream",
     "text": [
      "R² Score: 0.754, RMSE: 3.873, MAE: 3.149\n",
      "\n",
      "Evaluating: changepoint_prior_scale=0.09, seasonality_prior_scale=7.1, seasonality_mode=additive\n"
     ]
    },
    {
     "name": "stderr",
     "output_type": "stream",
     "text": [
      "19:45:12 - cmdstanpy - INFO - Chain [1] start processing\n",
      "19:45:12 - cmdstanpy - INFO - Chain [1] done processing\n",
      "c:\\Users\\natra\\AppData\\Local\\Programs\\Python\\Python310\\lib\\site-packages\\sklearn\\metrics\\_regression.py:492: FutureWarning: 'squared' is deprecated in version 1.4 and will be removed in 1.6. To calculate the root mean squared error, use the function'root_mean_squared_error'.\n",
      "  warnings.warn(\n",
      "19:45:13 - cmdstanpy - INFO - Chain [1] start processing\n",
      "19:45:13 - cmdstanpy - INFO - Chain [1] done processing\n",
      "c:\\Users\\natra\\AppData\\Local\\Programs\\Python\\Python310\\lib\\site-packages\\sklearn\\metrics\\_regression.py:492: FutureWarning: 'squared' is deprecated in version 1.4 and will be removed in 1.6. To calculate the root mean squared error, use the function'root_mean_squared_error'.\n",
      "  warnings.warn(\n",
      "19:45:14 - cmdstanpy - INFO - Chain [1] start processing\n",
      "19:45:14 - cmdstanpy - INFO - Chain [1] done processing\n",
      "c:\\Users\\natra\\AppData\\Local\\Programs\\Python\\Python310\\lib\\site-packages\\sklearn\\metrics\\_regression.py:492: FutureWarning: 'squared' is deprecated in version 1.4 and will be removed in 1.6. To calculate the root mean squared error, use the function'root_mean_squared_error'.\n",
      "  warnings.warn(\n",
      "19:45:15 - cmdstanpy - INFO - Chain [1] start processing\n",
      "19:45:15 - cmdstanpy - INFO - Chain [1] done processing\n",
      "c:\\Users\\natra\\AppData\\Local\\Programs\\Python\\Python310\\lib\\site-packages\\sklearn\\metrics\\_regression.py:492: FutureWarning: 'squared' is deprecated in version 1.4 and will be removed in 1.6. To calculate the root mean squared error, use the function'root_mean_squared_error'.\n",
      "  warnings.warn(\n",
      "19:45:16 - cmdstanpy - INFO - Chain [1] start processing\n",
      "19:45:16 - cmdstanpy - INFO - Chain [1] done processing\n",
      "c:\\Users\\natra\\AppData\\Local\\Programs\\Python\\Python310\\lib\\site-packages\\sklearn\\metrics\\_regression.py:492: FutureWarning: 'squared' is deprecated in version 1.4 and will be removed in 1.6. To calculate the root mean squared error, use the function'root_mean_squared_error'.\n",
      "  warnings.warn(\n"
     ]
    },
    {
     "name": "stdout",
     "output_type": "stream",
     "text": [
      "R² Score: 0.756, RMSE: 3.858, MAE: 3.147\n",
      "\n",
      "Evaluating: changepoint_prior_scale=0.09, seasonality_prior_scale=7.1, seasonality_mode=multiplicative\n"
     ]
    },
    {
     "name": "stderr",
     "output_type": "stream",
     "text": [
      "19:45:17 - cmdstanpy - INFO - Chain [1] start processing\n",
      "19:45:17 - cmdstanpy - INFO - Chain [1] done processing\n",
      "c:\\Users\\natra\\AppData\\Local\\Programs\\Python\\Python310\\lib\\site-packages\\sklearn\\metrics\\_regression.py:492: FutureWarning: 'squared' is deprecated in version 1.4 and will be removed in 1.6. To calculate the root mean squared error, use the function'root_mean_squared_error'.\n",
      "  warnings.warn(\n",
      "19:45:18 - cmdstanpy - INFO - Chain [1] start processing\n",
      "19:45:18 - cmdstanpy - INFO - Chain [1] done processing\n",
      "c:\\Users\\natra\\AppData\\Local\\Programs\\Python\\Python310\\lib\\site-packages\\sklearn\\metrics\\_regression.py:492: FutureWarning: 'squared' is deprecated in version 1.4 and will be removed in 1.6. To calculate the root mean squared error, use the function'root_mean_squared_error'.\n",
      "  warnings.warn(\n",
      "19:45:19 - cmdstanpy - INFO - Chain [1] start processing\n",
      "19:45:19 - cmdstanpy - INFO - Chain [1] done processing\n",
      "c:\\Users\\natra\\AppData\\Local\\Programs\\Python\\Python310\\lib\\site-packages\\sklearn\\metrics\\_regression.py:492: FutureWarning: 'squared' is deprecated in version 1.4 and will be removed in 1.6. To calculate the root mean squared error, use the function'root_mean_squared_error'.\n",
      "  warnings.warn(\n",
      "19:45:19 - cmdstanpy - INFO - Chain [1] start processing\n",
      "19:45:20 - cmdstanpy - INFO - Chain [1] done processing\n",
      "c:\\Users\\natra\\AppData\\Local\\Programs\\Python\\Python310\\lib\\site-packages\\sklearn\\metrics\\_regression.py:492: FutureWarning: 'squared' is deprecated in version 1.4 and will be removed in 1.6. To calculate the root mean squared error, use the function'root_mean_squared_error'.\n",
      "  warnings.warn(\n",
      "19:45:20 - cmdstanpy - INFO - Chain [1] start processing\n",
      "19:45:21 - cmdstanpy - INFO - Chain [1] done processing\n",
      "c:\\Users\\natra\\AppData\\Local\\Programs\\Python\\Python310\\lib\\site-packages\\sklearn\\metrics\\_regression.py:492: FutureWarning: 'squared' is deprecated in version 1.4 and will be removed in 1.6. To calculate the root mean squared error, use the function'root_mean_squared_error'.\n",
      "  warnings.warn(\n"
     ]
    },
    {
     "name": "stdout",
     "output_type": "stream",
     "text": [
      "R² Score: 0.754, RMSE: 3.873, MAE: 3.140\n",
      "\n",
      "Evaluating: changepoint_prior_scale=0.09, seasonality_prior_scale=8.1, seasonality_mode=additive\n"
     ]
    },
    {
     "name": "stderr",
     "output_type": "stream",
     "text": [
      "19:45:21 - cmdstanpy - INFO - Chain [1] start processing\n",
      "19:45:21 - cmdstanpy - INFO - Chain [1] done processing\n",
      "c:\\Users\\natra\\AppData\\Local\\Programs\\Python\\Python310\\lib\\site-packages\\sklearn\\metrics\\_regression.py:492: FutureWarning: 'squared' is deprecated in version 1.4 and will be removed in 1.6. To calculate the root mean squared error, use the function'root_mean_squared_error'.\n",
      "  warnings.warn(\n",
      "19:45:22 - cmdstanpy - INFO - Chain [1] start processing\n",
      "19:45:22 - cmdstanpy - INFO - Chain [1] done processing\n",
      "c:\\Users\\natra\\AppData\\Local\\Programs\\Python\\Python310\\lib\\site-packages\\sklearn\\metrics\\_regression.py:492: FutureWarning: 'squared' is deprecated in version 1.4 and will be removed in 1.6. To calculate the root mean squared error, use the function'root_mean_squared_error'.\n",
      "  warnings.warn(\n",
      "19:45:23 - cmdstanpy - INFO - Chain [1] start processing\n",
      "19:45:23 - cmdstanpy - INFO - Chain [1] done processing\n",
      "c:\\Users\\natra\\AppData\\Local\\Programs\\Python\\Python310\\lib\\site-packages\\sklearn\\metrics\\_regression.py:492: FutureWarning: 'squared' is deprecated in version 1.4 and will be removed in 1.6. To calculate the root mean squared error, use the function'root_mean_squared_error'.\n",
      "  warnings.warn(\n",
      "19:45:24 - cmdstanpy - INFO - Chain [1] start processing\n",
      "19:45:24 - cmdstanpy - INFO - Chain [1] done processing\n",
      "c:\\Users\\natra\\AppData\\Local\\Programs\\Python\\Python310\\lib\\site-packages\\sklearn\\metrics\\_regression.py:492: FutureWarning: 'squared' is deprecated in version 1.4 and will be removed in 1.6. To calculate the root mean squared error, use the function'root_mean_squared_error'.\n",
      "  warnings.warn(\n",
      "19:45:25 - cmdstanpy - INFO - Chain [1] start processing\n",
      "19:45:25 - cmdstanpy - INFO - Chain [1] done processing\n",
      "c:\\Users\\natra\\AppData\\Local\\Programs\\Python\\Python310\\lib\\site-packages\\sklearn\\metrics\\_regression.py:492: FutureWarning: 'squared' is deprecated in version 1.4 and will be removed in 1.6. To calculate the root mean squared error, use the function'root_mean_squared_error'.\n",
      "  warnings.warn(\n"
     ]
    },
    {
     "name": "stdout",
     "output_type": "stream",
     "text": [
      "R² Score: 0.756, RMSE: 3.858, MAE: 3.147\n",
      "\n",
      "Evaluating: changepoint_prior_scale=0.09, seasonality_prior_scale=8.1, seasonality_mode=multiplicative\n"
     ]
    },
    {
     "name": "stderr",
     "output_type": "stream",
     "text": [
      "19:45:26 - cmdstanpy - INFO - Chain [1] start processing\n",
      "19:45:26 - cmdstanpy - INFO - Chain [1] done processing\n",
      "c:\\Users\\natra\\AppData\\Local\\Programs\\Python\\Python310\\lib\\site-packages\\sklearn\\metrics\\_regression.py:492: FutureWarning: 'squared' is deprecated in version 1.4 and will be removed in 1.6. To calculate the root mean squared error, use the function'root_mean_squared_error'.\n",
      "  warnings.warn(\n",
      "19:45:27 - cmdstanpy - INFO - Chain [1] start processing\n",
      "19:45:27 - cmdstanpy - INFO - Chain [1] done processing\n",
      "c:\\Users\\natra\\AppData\\Local\\Programs\\Python\\Python310\\lib\\site-packages\\sklearn\\metrics\\_regression.py:492: FutureWarning: 'squared' is deprecated in version 1.4 and will be removed in 1.6. To calculate the root mean squared error, use the function'root_mean_squared_error'.\n",
      "  warnings.warn(\n",
      "19:45:28 - cmdstanpy - INFO - Chain [1] start processing\n",
      "19:45:28 - cmdstanpy - INFO - Chain [1] done processing\n",
      "c:\\Users\\natra\\AppData\\Local\\Programs\\Python\\Python310\\lib\\site-packages\\sklearn\\metrics\\_regression.py:492: FutureWarning: 'squared' is deprecated in version 1.4 and will be removed in 1.6. To calculate the root mean squared error, use the function'root_mean_squared_error'.\n",
      "  warnings.warn(\n",
      "19:45:29 - cmdstanpy - INFO - Chain [1] start processing\n",
      "19:45:29 - cmdstanpy - INFO - Chain [1] done processing\n",
      "c:\\Users\\natra\\AppData\\Local\\Programs\\Python\\Python310\\lib\\site-packages\\sklearn\\metrics\\_regression.py:492: FutureWarning: 'squared' is deprecated in version 1.4 and will be removed in 1.6. To calculate the root mean squared error, use the function'root_mean_squared_error'.\n",
      "  warnings.warn(\n",
      "19:45:30 - cmdstanpy - INFO - Chain [1] start processing\n",
      "19:45:30 - cmdstanpy - INFO - Chain [1] done processing\n",
      "c:\\Users\\natra\\AppData\\Local\\Programs\\Python\\Python310\\lib\\site-packages\\sklearn\\metrics\\_regression.py:492: FutureWarning: 'squared' is deprecated in version 1.4 and will be removed in 1.6. To calculate the root mean squared error, use the function'root_mean_squared_error'.\n",
      "  warnings.warn(\n"
     ]
    },
    {
     "name": "stdout",
     "output_type": "stream",
     "text": [
      "R² Score: 0.753, RMSE: 3.880, MAE: 3.158\n",
      "\n",
      "Evaluating: changepoint_prior_scale=0.09, seasonality_prior_scale=9.1, seasonality_mode=additive\n"
     ]
    },
    {
     "name": "stderr",
     "output_type": "stream",
     "text": [
      "19:45:31 - cmdstanpy - INFO - Chain [1] start processing\n",
      "19:45:31 - cmdstanpy - INFO - Chain [1] done processing\n",
      "c:\\Users\\natra\\AppData\\Local\\Programs\\Python\\Python310\\lib\\site-packages\\sklearn\\metrics\\_regression.py:492: FutureWarning: 'squared' is deprecated in version 1.4 and will be removed in 1.6. To calculate the root mean squared error, use the function'root_mean_squared_error'.\n",
      "  warnings.warn(\n",
      "19:45:32 - cmdstanpy - INFO - Chain [1] start processing\n",
      "19:45:32 - cmdstanpy - INFO - Chain [1] done processing\n",
      "c:\\Users\\natra\\AppData\\Local\\Programs\\Python\\Python310\\lib\\site-packages\\sklearn\\metrics\\_regression.py:492: FutureWarning: 'squared' is deprecated in version 1.4 and will be removed in 1.6. To calculate the root mean squared error, use the function'root_mean_squared_error'.\n",
      "  warnings.warn(\n",
      "19:45:32 - cmdstanpy - INFO - Chain [1] start processing\n",
      "19:45:32 - cmdstanpy - INFO - Chain [1] done processing\n",
      "c:\\Users\\natra\\AppData\\Local\\Programs\\Python\\Python310\\lib\\site-packages\\sklearn\\metrics\\_regression.py:492: FutureWarning: 'squared' is deprecated in version 1.4 and will be removed in 1.6. To calculate the root mean squared error, use the function'root_mean_squared_error'.\n",
      "  warnings.warn(\n",
      "19:45:33 - cmdstanpy - INFO - Chain [1] start processing\n",
      "19:45:33 - cmdstanpy - INFO - Chain [1] done processing\n",
      "c:\\Users\\natra\\AppData\\Local\\Programs\\Python\\Python310\\lib\\site-packages\\sklearn\\metrics\\_regression.py:492: FutureWarning: 'squared' is deprecated in version 1.4 and will be removed in 1.6. To calculate the root mean squared error, use the function'root_mean_squared_error'.\n",
      "  warnings.warn(\n",
      "19:45:34 - cmdstanpy - INFO - Chain [1] start processing\n",
      "19:45:34 - cmdstanpy - INFO - Chain [1] done processing\n",
      "c:\\Users\\natra\\AppData\\Local\\Programs\\Python\\Python310\\lib\\site-packages\\sklearn\\metrics\\_regression.py:492: FutureWarning: 'squared' is deprecated in version 1.4 and will be removed in 1.6. To calculate the root mean squared error, use the function'root_mean_squared_error'.\n",
      "  warnings.warn(\n"
     ]
    },
    {
     "name": "stdout",
     "output_type": "stream",
     "text": [
      "R² Score: 0.755, RMSE: 3.862, MAE: 3.149\n",
      "\n",
      "Evaluating: changepoint_prior_scale=0.09, seasonality_prior_scale=9.1, seasonality_mode=multiplicative\n"
     ]
    },
    {
     "name": "stderr",
     "output_type": "stream",
     "text": [
      "19:45:35 - cmdstanpy - INFO - Chain [1] start processing\n",
      "19:45:35 - cmdstanpy - INFO - Chain [1] done processing\n",
      "c:\\Users\\natra\\AppData\\Local\\Programs\\Python\\Python310\\lib\\site-packages\\sklearn\\metrics\\_regression.py:492: FutureWarning: 'squared' is deprecated in version 1.4 and will be removed in 1.6. To calculate the root mean squared error, use the function'root_mean_squared_error'.\n",
      "  warnings.warn(\n",
      "19:45:36 - cmdstanpy - INFO - Chain [1] start processing\n",
      "19:45:36 - cmdstanpy - INFO - Chain [1] done processing\n",
      "c:\\Users\\natra\\AppData\\Local\\Programs\\Python\\Python310\\lib\\site-packages\\sklearn\\metrics\\_regression.py:492: FutureWarning: 'squared' is deprecated in version 1.4 and will be removed in 1.6. To calculate the root mean squared error, use the function'root_mean_squared_error'.\n",
      "  warnings.warn(\n",
      "19:45:37 - cmdstanpy - INFO - Chain [1] start processing\n",
      "19:45:37 - cmdstanpy - INFO - Chain [1] done processing\n",
      "c:\\Users\\natra\\AppData\\Local\\Programs\\Python\\Python310\\lib\\site-packages\\sklearn\\metrics\\_regression.py:492: FutureWarning: 'squared' is deprecated in version 1.4 and will be removed in 1.6. To calculate the root mean squared error, use the function'root_mean_squared_error'.\n",
      "  warnings.warn(\n",
      "19:45:38 - cmdstanpy - INFO - Chain [1] start processing\n",
      "19:45:38 - cmdstanpy - INFO - Chain [1] done processing\n",
      "c:\\Users\\natra\\AppData\\Local\\Programs\\Python\\Python310\\lib\\site-packages\\sklearn\\metrics\\_regression.py:492: FutureWarning: 'squared' is deprecated in version 1.4 and will be removed in 1.6. To calculate the root mean squared error, use the function'root_mean_squared_error'.\n",
      "  warnings.warn(\n",
      "19:45:39 - cmdstanpy - INFO - Chain [1] start processing\n",
      "19:45:39 - cmdstanpy - INFO - Chain [1] done processing\n",
      "c:\\Users\\natra\\AppData\\Local\\Programs\\Python\\Python310\\lib\\site-packages\\sklearn\\metrics\\_regression.py:492: FutureWarning: 'squared' is deprecated in version 1.4 and will be removed in 1.6. To calculate the root mean squared error, use the function'root_mean_squared_error'.\n",
      "  warnings.warn(\n"
     ]
    },
    {
     "name": "stdout",
     "output_type": "stream",
     "text": [
      "R² Score: 0.753, RMSE: 3.884, MAE: 3.162\n",
      "\n",
      "Evaluating: changepoint_prior_scale=0.09, seasonality_prior_scale=10.1, seasonality_mode=additive\n"
     ]
    },
    {
     "name": "stderr",
     "output_type": "stream",
     "text": [
      "19:45:40 - cmdstanpy - INFO - Chain [1] start processing\n",
      "19:45:40 - cmdstanpy - INFO - Chain [1] done processing\n",
      "c:\\Users\\natra\\AppData\\Local\\Programs\\Python\\Python310\\lib\\site-packages\\sklearn\\metrics\\_regression.py:492: FutureWarning: 'squared' is deprecated in version 1.4 and will be removed in 1.6. To calculate the root mean squared error, use the function'root_mean_squared_error'.\n",
      "  warnings.warn(\n",
      "19:45:40 - cmdstanpy - INFO - Chain [1] start processing\n",
      "19:45:41 - cmdstanpy - INFO - Chain [1] done processing\n",
      "c:\\Users\\natra\\AppData\\Local\\Programs\\Python\\Python310\\lib\\site-packages\\sklearn\\metrics\\_regression.py:492: FutureWarning: 'squared' is deprecated in version 1.4 and will be removed in 1.6. To calculate the root mean squared error, use the function'root_mean_squared_error'.\n",
      "  warnings.warn(\n",
      "19:45:41 - cmdstanpy - INFO - Chain [1] start processing\n",
      "19:45:42 - cmdstanpy - INFO - Chain [1] done processing\n",
      "c:\\Users\\natra\\AppData\\Local\\Programs\\Python\\Python310\\lib\\site-packages\\sklearn\\metrics\\_regression.py:492: FutureWarning: 'squared' is deprecated in version 1.4 and will be removed in 1.6. To calculate the root mean squared error, use the function'root_mean_squared_error'.\n",
      "  warnings.warn(\n",
      "19:45:42 - cmdstanpy - INFO - Chain [1] start processing\n",
      "19:45:42 - cmdstanpy - INFO - Chain [1] done processing\n",
      "c:\\Users\\natra\\AppData\\Local\\Programs\\Python\\Python310\\lib\\site-packages\\sklearn\\metrics\\_regression.py:492: FutureWarning: 'squared' is deprecated in version 1.4 and will be removed in 1.6. To calculate the root mean squared error, use the function'root_mean_squared_error'.\n",
      "  warnings.warn(\n",
      "19:45:43 - cmdstanpy - INFO - Chain [1] start processing\n",
      "19:45:43 - cmdstanpy - INFO - Chain [1] done processing\n",
      "c:\\Users\\natra\\AppData\\Local\\Programs\\Python\\Python310\\lib\\site-packages\\sklearn\\metrics\\_regression.py:492: FutureWarning: 'squared' is deprecated in version 1.4 and will be removed in 1.6. To calculate the root mean squared error, use the function'root_mean_squared_error'.\n",
      "  warnings.warn(\n"
     ]
    },
    {
     "name": "stdout",
     "output_type": "stream",
     "text": [
      "R² Score: 0.755, RMSE: 3.861, MAE: 3.149\n",
      "\n",
      "Evaluating: changepoint_prior_scale=0.09, seasonality_prior_scale=10.1, seasonality_mode=multiplicative\n"
     ]
    },
    {
     "name": "stderr",
     "output_type": "stream",
     "text": [
      "19:45:44 - cmdstanpy - INFO - Chain [1] start processing\n",
      "19:45:44 - cmdstanpy - INFO - Chain [1] done processing\n",
      "c:\\Users\\natra\\AppData\\Local\\Programs\\Python\\Python310\\lib\\site-packages\\sklearn\\metrics\\_regression.py:492: FutureWarning: 'squared' is deprecated in version 1.4 and will be removed in 1.6. To calculate the root mean squared error, use the function'root_mean_squared_error'.\n",
      "  warnings.warn(\n",
      "19:45:45 - cmdstanpy - INFO - Chain [1] start processing\n",
      "19:45:45 - cmdstanpy - INFO - Chain [1] done processing\n",
      "c:\\Users\\natra\\AppData\\Local\\Programs\\Python\\Python310\\lib\\site-packages\\sklearn\\metrics\\_regression.py:492: FutureWarning: 'squared' is deprecated in version 1.4 and will be removed in 1.6. To calculate the root mean squared error, use the function'root_mean_squared_error'.\n",
      "  warnings.warn(\n",
      "19:45:46 - cmdstanpy - INFO - Chain [1] start processing\n",
      "19:45:46 - cmdstanpy - INFO - Chain [1] done processing\n",
      "c:\\Users\\natra\\AppData\\Local\\Programs\\Python\\Python310\\lib\\site-packages\\sklearn\\metrics\\_regression.py:492: FutureWarning: 'squared' is deprecated in version 1.4 and will be removed in 1.6. To calculate the root mean squared error, use the function'root_mean_squared_error'.\n",
      "  warnings.warn(\n",
      "19:45:47 - cmdstanpy - INFO - Chain [1] start processing\n",
      "19:45:47 - cmdstanpy - INFO - Chain [1] done processing\n",
      "c:\\Users\\natra\\AppData\\Local\\Programs\\Python\\Python310\\lib\\site-packages\\sklearn\\metrics\\_regression.py:492: FutureWarning: 'squared' is deprecated in version 1.4 and will be removed in 1.6. To calculate the root mean squared error, use the function'root_mean_squared_error'.\n",
      "  warnings.warn(\n",
      "19:45:48 - cmdstanpy - INFO - Chain [1] start processing\n",
      "19:45:48 - cmdstanpy - INFO - Chain [1] done processing\n",
      "c:\\Users\\natra\\AppData\\Local\\Programs\\Python\\Python310\\lib\\site-packages\\sklearn\\metrics\\_regression.py:492: FutureWarning: 'squared' is deprecated in version 1.4 and will be removed in 1.6. To calculate the root mean squared error, use the function'root_mean_squared_error'.\n",
      "  warnings.warn(\n"
     ]
    },
    {
     "name": "stdout",
     "output_type": "stream",
     "text": [
      "R² Score: 0.754, RMSE: 3.875, MAE: 3.140\n",
      "\n",
      "Evaluating: changepoint_prior_scale=0.09999999999999999, seasonality_prior_scale=0.1, seasonality_mode=additive\n"
     ]
    },
    {
     "name": "stderr",
     "output_type": "stream",
     "text": [
      "19:45:48 - cmdstanpy - INFO - Chain [1] start processing\n",
      "19:45:49 - cmdstanpy - INFO - Chain [1] done processing\n",
      "c:\\Users\\natra\\AppData\\Local\\Programs\\Python\\Python310\\lib\\site-packages\\sklearn\\metrics\\_regression.py:492: FutureWarning: 'squared' is deprecated in version 1.4 and will be removed in 1.6. To calculate the root mean squared error, use the function'root_mean_squared_error'.\n",
      "  warnings.warn(\n",
      "19:45:49 - cmdstanpy - INFO - Chain [1] start processing\n",
      "19:45:49 - cmdstanpy - INFO - Chain [1] done processing\n",
      "c:\\Users\\natra\\AppData\\Local\\Programs\\Python\\Python310\\lib\\site-packages\\sklearn\\metrics\\_regression.py:492: FutureWarning: 'squared' is deprecated in version 1.4 and will be removed in 1.6. To calculate the root mean squared error, use the function'root_mean_squared_error'.\n",
      "  warnings.warn(\n",
      "19:45:50 - cmdstanpy - INFO - Chain [1] start processing\n",
      "19:45:50 - cmdstanpy - INFO - Chain [1] done processing\n",
      "c:\\Users\\natra\\AppData\\Local\\Programs\\Python\\Python310\\lib\\site-packages\\sklearn\\metrics\\_regression.py:492: FutureWarning: 'squared' is deprecated in version 1.4 and will be removed in 1.6. To calculate the root mean squared error, use the function'root_mean_squared_error'.\n",
      "  warnings.warn(\n",
      "19:45:51 - cmdstanpy - INFO - Chain [1] start processing\n",
      "19:45:51 - cmdstanpy - INFO - Chain [1] done processing\n",
      "c:\\Users\\natra\\AppData\\Local\\Programs\\Python\\Python310\\lib\\site-packages\\sklearn\\metrics\\_regression.py:492: FutureWarning: 'squared' is deprecated in version 1.4 and will be removed in 1.6. To calculate the root mean squared error, use the function'root_mean_squared_error'.\n",
      "  warnings.warn(\n",
      "19:45:52 - cmdstanpy - INFO - Chain [1] start processing\n",
      "19:45:52 - cmdstanpy - INFO - Chain [1] done processing\n",
      "c:\\Users\\natra\\AppData\\Local\\Programs\\Python\\Python310\\lib\\site-packages\\sklearn\\metrics\\_regression.py:492: FutureWarning: 'squared' is deprecated in version 1.4 and will be removed in 1.6. To calculate the root mean squared error, use the function'root_mean_squared_error'.\n",
      "  warnings.warn(\n"
     ]
    },
    {
     "name": "stdout",
     "output_type": "stream",
     "text": [
      "R² Score: 0.752, RMSE: 3.883, MAE: 3.167\n",
      "\n",
      "Evaluating: changepoint_prior_scale=0.09999999999999999, seasonality_prior_scale=0.1, seasonality_mode=multiplicative\n"
     ]
    },
    {
     "name": "stderr",
     "output_type": "stream",
     "text": [
      "19:45:52 - cmdstanpy - INFO - Chain [1] start processing\n",
      "19:45:53 - cmdstanpy - INFO - Chain [1] done processing\n",
      "c:\\Users\\natra\\AppData\\Local\\Programs\\Python\\Python310\\lib\\site-packages\\sklearn\\metrics\\_regression.py:492: FutureWarning: 'squared' is deprecated in version 1.4 and will be removed in 1.6. To calculate the root mean squared error, use the function'root_mean_squared_error'.\n",
      "  warnings.warn(\n",
      "19:45:53 - cmdstanpy - INFO - Chain [1] start processing\n",
      "19:45:53 - cmdstanpy - INFO - Chain [1] done processing\n",
      "c:\\Users\\natra\\AppData\\Local\\Programs\\Python\\Python310\\lib\\site-packages\\sklearn\\metrics\\_regression.py:492: FutureWarning: 'squared' is deprecated in version 1.4 and will be removed in 1.6. To calculate the root mean squared error, use the function'root_mean_squared_error'.\n",
      "  warnings.warn(\n",
      "19:45:54 - cmdstanpy - INFO - Chain [1] start processing\n",
      "19:45:54 - cmdstanpy - INFO - Chain [1] done processing\n",
      "c:\\Users\\natra\\AppData\\Local\\Programs\\Python\\Python310\\lib\\site-packages\\sklearn\\metrics\\_regression.py:492: FutureWarning: 'squared' is deprecated in version 1.4 and will be removed in 1.6. To calculate the root mean squared error, use the function'root_mean_squared_error'.\n",
      "  warnings.warn(\n",
      "19:45:55 - cmdstanpy - INFO - Chain [1] start processing\n",
      "19:45:55 - cmdstanpy - INFO - Chain [1] done processing\n",
      "c:\\Users\\natra\\AppData\\Local\\Programs\\Python\\Python310\\lib\\site-packages\\sklearn\\metrics\\_regression.py:492: FutureWarning: 'squared' is deprecated in version 1.4 and will be removed in 1.6. To calculate the root mean squared error, use the function'root_mean_squared_error'.\n",
      "  warnings.warn(\n",
      "19:45:56 - cmdstanpy - INFO - Chain [1] start processing\n",
      "19:45:56 - cmdstanpy - INFO - Chain [1] done processing\n",
      "c:\\Users\\natra\\AppData\\Local\\Programs\\Python\\Python310\\lib\\site-packages\\sklearn\\metrics\\_regression.py:492: FutureWarning: 'squared' is deprecated in version 1.4 and will be removed in 1.6. To calculate the root mean squared error, use the function'root_mean_squared_error'.\n",
      "  warnings.warn(\n"
     ]
    },
    {
     "name": "stdout",
     "output_type": "stream",
     "text": [
      "R² Score: 0.752, RMSE: 3.891, MAE: 3.160\n",
      "\n",
      "Evaluating: changepoint_prior_scale=0.09999999999999999, seasonality_prior_scale=1.1, seasonality_mode=additive\n"
     ]
    },
    {
     "name": "stderr",
     "output_type": "stream",
     "text": [
      "19:45:57 - cmdstanpy - INFO - Chain [1] start processing\n",
      "19:45:57 - cmdstanpy - INFO - Chain [1] done processing\n",
      "c:\\Users\\natra\\AppData\\Local\\Programs\\Python\\Python310\\lib\\site-packages\\sklearn\\metrics\\_regression.py:492: FutureWarning: 'squared' is deprecated in version 1.4 and will be removed in 1.6. To calculate the root mean squared error, use the function'root_mean_squared_error'.\n",
      "  warnings.warn(\n",
      "19:45:57 - cmdstanpy - INFO - Chain [1] start processing\n",
      "19:45:58 - cmdstanpy - INFO - Chain [1] done processing\n",
      "c:\\Users\\natra\\AppData\\Local\\Programs\\Python\\Python310\\lib\\site-packages\\sklearn\\metrics\\_regression.py:492: FutureWarning: 'squared' is deprecated in version 1.4 and will be removed in 1.6. To calculate the root mean squared error, use the function'root_mean_squared_error'.\n",
      "  warnings.warn(\n",
      "19:45:58 - cmdstanpy - INFO - Chain [1] start processing\n",
      "19:45:58 - cmdstanpy - INFO - Chain [1] done processing\n",
      "c:\\Users\\natra\\AppData\\Local\\Programs\\Python\\Python310\\lib\\site-packages\\sklearn\\metrics\\_regression.py:492: FutureWarning: 'squared' is deprecated in version 1.4 and will be removed in 1.6. To calculate the root mean squared error, use the function'root_mean_squared_error'.\n",
      "  warnings.warn(\n",
      "19:45:59 - cmdstanpy - INFO - Chain [1] start processing\n",
      "19:45:59 - cmdstanpy - INFO - Chain [1] done processing\n",
      "c:\\Users\\natra\\AppData\\Local\\Programs\\Python\\Python310\\lib\\site-packages\\sklearn\\metrics\\_regression.py:492: FutureWarning: 'squared' is deprecated in version 1.4 and will be removed in 1.6. To calculate the root mean squared error, use the function'root_mean_squared_error'.\n",
      "  warnings.warn(\n",
      "19:46:00 - cmdstanpy - INFO - Chain [1] start processing\n",
      "19:46:00 - cmdstanpy - INFO - Chain [1] done processing\n",
      "c:\\Users\\natra\\AppData\\Local\\Programs\\Python\\Python310\\lib\\site-packages\\sklearn\\metrics\\_regression.py:492: FutureWarning: 'squared' is deprecated in version 1.4 and will be removed in 1.6. To calculate the root mean squared error, use the function'root_mean_squared_error'.\n",
      "  warnings.warn(\n"
     ]
    },
    {
     "name": "stdout",
     "output_type": "stream",
     "text": [
      "R² Score: 0.752, RMSE: 3.886, MAE: 3.169\n",
      "\n",
      "Evaluating: changepoint_prior_scale=0.09999999999999999, seasonality_prior_scale=1.1, seasonality_mode=multiplicative\n"
     ]
    },
    {
     "name": "stderr",
     "output_type": "stream",
     "text": [
      "19:46:00 - cmdstanpy - INFO - Chain [1] start processing\n",
      "19:46:01 - cmdstanpy - INFO - Chain [1] done processing\n",
      "c:\\Users\\natra\\AppData\\Local\\Programs\\Python\\Python310\\lib\\site-packages\\sklearn\\metrics\\_regression.py:492: FutureWarning: 'squared' is deprecated in version 1.4 and will be removed in 1.6. To calculate the root mean squared error, use the function'root_mean_squared_error'.\n",
      "  warnings.warn(\n",
      "19:46:01 - cmdstanpy - INFO - Chain [1] start processing\n",
      "19:46:01 - cmdstanpy - INFO - Chain [1] done processing\n",
      "c:\\Users\\natra\\AppData\\Local\\Programs\\Python\\Python310\\lib\\site-packages\\sklearn\\metrics\\_regression.py:492: FutureWarning: 'squared' is deprecated in version 1.4 and will be removed in 1.6. To calculate the root mean squared error, use the function'root_mean_squared_error'.\n",
      "  warnings.warn(\n",
      "19:46:02 - cmdstanpy - INFO - Chain [1] start processing\n",
      "19:46:02 - cmdstanpy - INFO - Chain [1] done processing\n",
      "c:\\Users\\natra\\AppData\\Local\\Programs\\Python\\Python310\\lib\\site-packages\\sklearn\\metrics\\_regression.py:492: FutureWarning: 'squared' is deprecated in version 1.4 and will be removed in 1.6. To calculate the root mean squared error, use the function'root_mean_squared_error'.\n",
      "  warnings.warn(\n",
      "19:46:03 - cmdstanpy - INFO - Chain [1] start processing\n",
      "19:46:03 - cmdstanpy - INFO - Chain [1] done processing\n",
      "c:\\Users\\natra\\AppData\\Local\\Programs\\Python\\Python310\\lib\\site-packages\\sklearn\\metrics\\_regression.py:492: FutureWarning: 'squared' is deprecated in version 1.4 and will be removed in 1.6. To calculate the root mean squared error, use the function'root_mean_squared_error'.\n",
      "  warnings.warn(\n",
      "19:46:04 - cmdstanpy - INFO - Chain [1] start processing\n",
      "19:46:04 - cmdstanpy - INFO - Chain [1] done processing\n",
      "c:\\Users\\natra\\AppData\\Local\\Programs\\Python\\Python310\\lib\\site-packages\\sklearn\\metrics\\_regression.py:492: FutureWarning: 'squared' is deprecated in version 1.4 and will be removed in 1.6. To calculate the root mean squared error, use the function'root_mean_squared_error'.\n",
      "  warnings.warn(\n"
     ]
    },
    {
     "name": "stdout",
     "output_type": "stream",
     "text": [
      "R² Score: 0.749, RMSE: 3.915, MAE: 3.185\n",
      "\n",
      "Evaluating: changepoint_prior_scale=0.09999999999999999, seasonality_prior_scale=2.1, seasonality_mode=additive\n"
     ]
    },
    {
     "name": "stderr",
     "output_type": "stream",
     "text": [
      "19:46:05 - cmdstanpy - INFO - Chain [1] start processing\n",
      "19:46:05 - cmdstanpy - INFO - Chain [1] done processing\n",
      "c:\\Users\\natra\\AppData\\Local\\Programs\\Python\\Python310\\lib\\site-packages\\sklearn\\metrics\\_regression.py:492: FutureWarning: 'squared' is deprecated in version 1.4 and will be removed in 1.6. To calculate the root mean squared error, use the function'root_mean_squared_error'.\n",
      "  warnings.warn(\n",
      "19:46:05 - cmdstanpy - INFO - Chain [1] start processing\n",
      "19:46:05 - cmdstanpy - INFO - Chain [1] done processing\n",
      "c:\\Users\\natra\\AppData\\Local\\Programs\\Python\\Python310\\lib\\site-packages\\sklearn\\metrics\\_regression.py:492: FutureWarning: 'squared' is deprecated in version 1.4 and will be removed in 1.6. To calculate the root mean squared error, use the function'root_mean_squared_error'.\n",
      "  warnings.warn(\n",
      "19:46:06 - cmdstanpy - INFO - Chain [1] start processing\n",
      "19:46:06 - cmdstanpy - INFO - Chain [1] done processing\n",
      "c:\\Users\\natra\\AppData\\Local\\Programs\\Python\\Python310\\lib\\site-packages\\sklearn\\metrics\\_regression.py:492: FutureWarning: 'squared' is deprecated in version 1.4 and will be removed in 1.6. To calculate the root mean squared error, use the function'root_mean_squared_error'.\n",
      "  warnings.warn(\n",
      "19:46:07 - cmdstanpy - INFO - Chain [1] start processing\n",
      "19:46:07 - cmdstanpy - INFO - Chain [1] done processing\n",
      "c:\\Users\\natra\\AppData\\Local\\Programs\\Python\\Python310\\lib\\site-packages\\sklearn\\metrics\\_regression.py:492: FutureWarning: 'squared' is deprecated in version 1.4 and will be removed in 1.6. To calculate the root mean squared error, use the function'root_mean_squared_error'.\n",
      "  warnings.warn(\n",
      "19:46:08 - cmdstanpy - INFO - Chain [1] start processing\n",
      "19:46:08 - cmdstanpy - INFO - Chain [1] done processing\n",
      "c:\\Users\\natra\\AppData\\Local\\Programs\\Python\\Python310\\lib\\site-packages\\sklearn\\metrics\\_regression.py:492: FutureWarning: 'squared' is deprecated in version 1.4 and will be removed in 1.6. To calculate the root mean squared error, use the function'root_mean_squared_error'.\n",
      "  warnings.warn(\n"
     ]
    },
    {
     "name": "stdout",
     "output_type": "stream",
     "text": [
      "R² Score: 0.752, RMSE: 3.882, MAE: 3.166\n",
      "\n",
      "Evaluating: changepoint_prior_scale=0.09999999999999999, seasonality_prior_scale=2.1, seasonality_mode=multiplicative\n"
     ]
    },
    {
     "name": "stderr",
     "output_type": "stream",
     "text": [
      "19:46:09 - cmdstanpy - INFO - Chain [1] start processing\n",
      "19:46:09 - cmdstanpy - INFO - Chain [1] done processing\n",
      "c:\\Users\\natra\\AppData\\Local\\Programs\\Python\\Python310\\lib\\site-packages\\sklearn\\metrics\\_regression.py:492: FutureWarning: 'squared' is deprecated in version 1.4 and will be removed in 1.6. To calculate the root mean squared error, use the function'root_mean_squared_error'.\n",
      "  warnings.warn(\n",
      "19:46:09 - cmdstanpy - INFO - Chain [1] start processing\n",
      "19:46:10 - cmdstanpy - INFO - Chain [1] done processing\n",
      "c:\\Users\\natra\\AppData\\Local\\Programs\\Python\\Python310\\lib\\site-packages\\sklearn\\metrics\\_regression.py:492: FutureWarning: 'squared' is deprecated in version 1.4 and will be removed in 1.6. To calculate the root mean squared error, use the function'root_mean_squared_error'.\n",
      "  warnings.warn(\n",
      "19:46:10 - cmdstanpy - INFO - Chain [1] start processing\n",
      "19:46:10 - cmdstanpy - INFO - Chain [1] done processing\n",
      "c:\\Users\\natra\\AppData\\Local\\Programs\\Python\\Python310\\lib\\site-packages\\sklearn\\metrics\\_regression.py:492: FutureWarning: 'squared' is deprecated in version 1.4 and will be removed in 1.6. To calculate the root mean squared error, use the function'root_mean_squared_error'.\n",
      "  warnings.warn(\n",
      "19:46:11 - cmdstanpy - INFO - Chain [1] start processing\n",
      "19:46:11 - cmdstanpy - INFO - Chain [1] done processing\n",
      "c:\\Users\\natra\\AppData\\Local\\Programs\\Python\\Python310\\lib\\site-packages\\sklearn\\metrics\\_regression.py:492: FutureWarning: 'squared' is deprecated in version 1.4 and will be removed in 1.6. To calculate the root mean squared error, use the function'root_mean_squared_error'.\n",
      "  warnings.warn(\n",
      "19:46:12 - cmdstanpy - INFO - Chain [1] start processing\n",
      "19:46:12 - cmdstanpy - INFO - Chain [1] done processing\n",
      "c:\\Users\\natra\\AppData\\Local\\Programs\\Python\\Python310\\lib\\site-packages\\sklearn\\metrics\\_regression.py:492: FutureWarning: 'squared' is deprecated in version 1.4 and will be removed in 1.6. To calculate the root mean squared error, use the function'root_mean_squared_error'.\n",
      "  warnings.warn(\n"
     ]
    },
    {
     "name": "stdout",
     "output_type": "stream",
     "text": [
      "R² Score: 0.749, RMSE: 3.917, MAE: 3.187\n",
      "\n",
      "Evaluating: changepoint_prior_scale=0.09999999999999999, seasonality_prior_scale=3.1, seasonality_mode=additive\n"
     ]
    },
    {
     "name": "stderr",
     "output_type": "stream",
     "text": [
      "19:46:13 - cmdstanpy - INFO - Chain [1] start processing\n",
      "19:46:13 - cmdstanpy - INFO - Chain [1] done processing\n",
      "c:\\Users\\natra\\AppData\\Local\\Programs\\Python\\Python310\\lib\\site-packages\\sklearn\\metrics\\_regression.py:492: FutureWarning: 'squared' is deprecated in version 1.4 and will be removed in 1.6. To calculate the root mean squared error, use the function'root_mean_squared_error'.\n",
      "  warnings.warn(\n",
      "19:46:13 - cmdstanpy - INFO - Chain [1] start processing\n",
      "19:46:14 - cmdstanpy - INFO - Chain [1] done processing\n",
      "c:\\Users\\natra\\AppData\\Local\\Programs\\Python\\Python310\\lib\\site-packages\\sklearn\\metrics\\_regression.py:492: FutureWarning: 'squared' is deprecated in version 1.4 and will be removed in 1.6. To calculate the root mean squared error, use the function'root_mean_squared_error'.\n",
      "  warnings.warn(\n",
      "19:46:14 - cmdstanpy - INFO - Chain [1] start processing\n",
      "19:46:14 - cmdstanpy - INFO - Chain [1] done processing\n",
      "c:\\Users\\natra\\AppData\\Local\\Programs\\Python\\Python310\\lib\\site-packages\\sklearn\\metrics\\_regression.py:492: FutureWarning: 'squared' is deprecated in version 1.4 and will be removed in 1.6. To calculate the root mean squared error, use the function'root_mean_squared_error'.\n",
      "  warnings.warn(\n",
      "19:46:15 - cmdstanpy - INFO - Chain [1] start processing\n",
      "19:46:15 - cmdstanpy - INFO - Chain [1] done processing\n",
      "c:\\Users\\natra\\AppData\\Local\\Programs\\Python\\Python310\\lib\\site-packages\\sklearn\\metrics\\_regression.py:492: FutureWarning: 'squared' is deprecated in version 1.4 and will be removed in 1.6. To calculate the root mean squared error, use the function'root_mean_squared_error'.\n",
      "  warnings.warn(\n",
      "19:46:16 - cmdstanpy - INFO - Chain [1] start processing\n",
      "19:46:16 - cmdstanpy - INFO - Chain [1] done processing\n",
      "c:\\Users\\natra\\AppData\\Local\\Programs\\Python\\Python310\\lib\\site-packages\\sklearn\\metrics\\_regression.py:492: FutureWarning: 'squared' is deprecated in version 1.4 and will be removed in 1.6. To calculate the root mean squared error, use the function'root_mean_squared_error'.\n",
      "  warnings.warn(\n"
     ]
    },
    {
     "name": "stdout",
     "output_type": "stream",
     "text": [
      "R² Score: 0.751, RMSE: 3.894, MAE: 3.176\n",
      "\n",
      "Evaluating: changepoint_prior_scale=0.09999999999999999, seasonality_prior_scale=3.1, seasonality_mode=multiplicative\n"
     ]
    },
    {
     "name": "stderr",
     "output_type": "stream",
     "text": [
      "19:46:16 - cmdstanpy - INFO - Chain [1] start processing\n",
      "19:46:17 - cmdstanpy - INFO - Chain [1] done processing\n",
      "c:\\Users\\natra\\AppData\\Local\\Programs\\Python\\Python310\\lib\\site-packages\\sklearn\\metrics\\_regression.py:492: FutureWarning: 'squared' is deprecated in version 1.4 and will be removed in 1.6. To calculate the root mean squared error, use the function'root_mean_squared_error'.\n",
      "  warnings.warn(\n",
      "19:46:17 - cmdstanpy - INFO - Chain [1] start processing\n",
      "19:46:18 - cmdstanpy - INFO - Chain [1] done processing\n",
      "c:\\Users\\natra\\AppData\\Local\\Programs\\Python\\Python310\\lib\\site-packages\\sklearn\\metrics\\_regression.py:492: FutureWarning: 'squared' is deprecated in version 1.4 and will be removed in 1.6. To calculate the root mean squared error, use the function'root_mean_squared_error'.\n",
      "  warnings.warn(\n",
      "19:46:18 - cmdstanpy - INFO - Chain [1] start processing\n",
      "19:46:18 - cmdstanpy - INFO - Chain [1] done processing\n",
      "c:\\Users\\natra\\AppData\\Local\\Programs\\Python\\Python310\\lib\\site-packages\\sklearn\\metrics\\_regression.py:492: FutureWarning: 'squared' is deprecated in version 1.4 and will be removed in 1.6. To calculate the root mean squared error, use the function'root_mean_squared_error'.\n",
      "  warnings.warn(\n",
      "19:46:19 - cmdstanpy - INFO - Chain [1] start processing\n",
      "19:46:19 - cmdstanpy - INFO - Chain [1] done processing\n",
      "c:\\Users\\natra\\AppData\\Local\\Programs\\Python\\Python310\\lib\\site-packages\\sklearn\\metrics\\_regression.py:492: FutureWarning: 'squared' is deprecated in version 1.4 and will be removed in 1.6. To calculate the root mean squared error, use the function'root_mean_squared_error'.\n",
      "  warnings.warn(\n",
      "19:46:20 - cmdstanpy - INFO - Chain [1] start processing\n",
      "19:46:20 - cmdstanpy - INFO - Chain [1] done processing\n",
      "c:\\Users\\natra\\AppData\\Local\\Programs\\Python\\Python310\\lib\\site-packages\\sklearn\\metrics\\_regression.py:492: FutureWarning: 'squared' is deprecated in version 1.4 and will be removed in 1.6. To calculate the root mean squared error, use the function'root_mean_squared_error'.\n",
      "  warnings.warn(\n"
     ]
    },
    {
     "name": "stdout",
     "output_type": "stream",
     "text": [
      "R² Score: 0.753, RMSE: 3.886, MAE: 3.157\n",
      "\n",
      "Evaluating: changepoint_prior_scale=0.09999999999999999, seasonality_prior_scale=4.1, seasonality_mode=additive\n"
     ]
    },
    {
     "name": "stderr",
     "output_type": "stream",
     "text": [
      "19:46:21 - cmdstanpy - INFO - Chain [1] start processing\n",
      "19:46:21 - cmdstanpy - INFO - Chain [1] done processing\n",
      "c:\\Users\\natra\\AppData\\Local\\Programs\\Python\\Python310\\lib\\site-packages\\sklearn\\metrics\\_regression.py:492: FutureWarning: 'squared' is deprecated in version 1.4 and will be removed in 1.6. To calculate the root mean squared error, use the function'root_mean_squared_error'.\n",
      "  warnings.warn(\n",
      "19:46:22 - cmdstanpy - INFO - Chain [1] start processing\n",
      "19:46:22 - cmdstanpy - INFO - Chain [1] done processing\n",
      "c:\\Users\\natra\\AppData\\Local\\Programs\\Python\\Python310\\lib\\site-packages\\sklearn\\metrics\\_regression.py:492: FutureWarning: 'squared' is deprecated in version 1.4 and will be removed in 1.6. To calculate the root mean squared error, use the function'root_mean_squared_error'.\n",
      "  warnings.warn(\n",
      "19:46:23 - cmdstanpy - INFO - Chain [1] start processing\n",
      "19:46:23 - cmdstanpy - INFO - Chain [1] done processing\n",
      "c:\\Users\\natra\\AppData\\Local\\Programs\\Python\\Python310\\lib\\site-packages\\sklearn\\metrics\\_regression.py:492: FutureWarning: 'squared' is deprecated in version 1.4 and will be removed in 1.6. To calculate the root mean squared error, use the function'root_mean_squared_error'.\n",
      "  warnings.warn(\n",
      "19:46:24 - cmdstanpy - INFO - Chain [1] start processing\n",
      "19:46:24 - cmdstanpy - INFO - Chain [1] done processing\n",
      "c:\\Users\\natra\\AppData\\Local\\Programs\\Python\\Python310\\lib\\site-packages\\sklearn\\metrics\\_regression.py:492: FutureWarning: 'squared' is deprecated in version 1.4 and will be removed in 1.6. To calculate the root mean squared error, use the function'root_mean_squared_error'.\n",
      "  warnings.warn(\n",
      "19:46:25 - cmdstanpy - INFO - Chain [1] start processing\n",
      "19:46:25 - cmdstanpy - INFO - Chain [1] done processing\n",
      "c:\\Users\\natra\\AppData\\Local\\Programs\\Python\\Python310\\lib\\site-packages\\sklearn\\metrics\\_regression.py:492: FutureWarning: 'squared' is deprecated in version 1.4 and will be removed in 1.6. To calculate the root mean squared error, use the function'root_mean_squared_error'.\n",
      "  warnings.warn(\n"
     ]
    },
    {
     "name": "stdout",
     "output_type": "stream",
     "text": [
      "R² Score: 0.752, RMSE: 3.887, MAE: 3.170\n",
      "\n",
      "Evaluating: changepoint_prior_scale=0.09999999999999999, seasonality_prior_scale=4.1, seasonality_mode=multiplicative\n"
     ]
    },
    {
     "name": "stderr",
     "output_type": "stream",
     "text": [
      "19:46:25 - cmdstanpy - INFO - Chain [1] start processing\n",
      "19:46:26 - cmdstanpy - INFO - Chain [1] done processing\n",
      "c:\\Users\\natra\\AppData\\Local\\Programs\\Python\\Python310\\lib\\site-packages\\sklearn\\metrics\\_regression.py:492: FutureWarning: 'squared' is deprecated in version 1.4 and will be removed in 1.6. To calculate the root mean squared error, use the function'root_mean_squared_error'.\n",
      "  warnings.warn(\n",
      "19:46:26 - cmdstanpy - INFO - Chain [1] start processing\n",
      "19:46:27 - cmdstanpy - INFO - Chain [1] done processing\n",
      "c:\\Users\\natra\\AppData\\Local\\Programs\\Python\\Python310\\lib\\site-packages\\sklearn\\metrics\\_regression.py:492: FutureWarning: 'squared' is deprecated in version 1.4 and will be removed in 1.6. To calculate the root mean squared error, use the function'root_mean_squared_error'.\n",
      "  warnings.warn(\n",
      "19:46:27 - cmdstanpy - INFO - Chain [1] start processing\n",
      "19:46:27 - cmdstanpy - INFO - Chain [1] done processing\n",
      "c:\\Users\\natra\\AppData\\Local\\Programs\\Python\\Python310\\lib\\site-packages\\sklearn\\metrics\\_regression.py:492: FutureWarning: 'squared' is deprecated in version 1.4 and will be removed in 1.6. To calculate the root mean squared error, use the function'root_mean_squared_error'.\n",
      "  warnings.warn(\n",
      "19:46:28 - cmdstanpy - INFO - Chain [1] start processing\n",
      "19:46:28 - cmdstanpy - INFO - Chain [1] done processing\n",
      "c:\\Users\\natra\\AppData\\Local\\Programs\\Python\\Python310\\lib\\site-packages\\sklearn\\metrics\\_regression.py:492: FutureWarning: 'squared' is deprecated in version 1.4 and will be removed in 1.6. To calculate the root mean squared error, use the function'root_mean_squared_error'.\n",
      "  warnings.warn(\n",
      "19:46:29 - cmdstanpy - INFO - Chain [1] start processing\n",
      "19:46:29 - cmdstanpy - INFO - Chain [1] done processing\n",
      "c:\\Users\\natra\\AppData\\Local\\Programs\\Python\\Python310\\lib\\site-packages\\sklearn\\metrics\\_regression.py:492: FutureWarning: 'squared' is deprecated in version 1.4 and will be removed in 1.6. To calculate the root mean squared error, use the function'root_mean_squared_error'.\n",
      "  warnings.warn(\n"
     ]
    },
    {
     "name": "stdout",
     "output_type": "stream",
     "text": [
      "R² Score: 0.752, RMSE: 3.891, MAE: 3.161\n",
      "\n",
      "Evaluating: changepoint_prior_scale=0.09999999999999999, seasonality_prior_scale=5.1, seasonality_mode=additive\n"
     ]
    },
    {
     "name": "stderr",
     "output_type": "stream",
     "text": [
      "19:46:30 - cmdstanpy - INFO - Chain [1] start processing\n",
      "19:46:30 - cmdstanpy - INFO - Chain [1] done processing\n",
      "c:\\Users\\natra\\AppData\\Local\\Programs\\Python\\Python310\\lib\\site-packages\\sklearn\\metrics\\_regression.py:492: FutureWarning: 'squared' is deprecated in version 1.4 and will be removed in 1.6. To calculate the root mean squared error, use the function'root_mean_squared_error'.\n",
      "  warnings.warn(\n",
      "19:46:31 - cmdstanpy - INFO - Chain [1] start processing\n",
      "19:46:31 - cmdstanpy - INFO - Chain [1] done processing\n",
      "c:\\Users\\natra\\AppData\\Local\\Programs\\Python\\Python310\\lib\\site-packages\\sklearn\\metrics\\_regression.py:492: FutureWarning: 'squared' is deprecated in version 1.4 and will be removed in 1.6. To calculate the root mean squared error, use the function'root_mean_squared_error'.\n",
      "  warnings.warn(\n",
      "19:46:32 - cmdstanpy - INFO - Chain [1] start processing\n",
      "19:46:32 - cmdstanpy - INFO - Chain [1] done processing\n",
      "c:\\Users\\natra\\AppData\\Local\\Programs\\Python\\Python310\\lib\\site-packages\\sklearn\\metrics\\_regression.py:492: FutureWarning: 'squared' is deprecated in version 1.4 and will be removed in 1.6. To calculate the root mean squared error, use the function'root_mean_squared_error'.\n",
      "  warnings.warn(\n",
      "19:46:32 - cmdstanpy - INFO - Chain [1] start processing\n",
      "19:46:33 - cmdstanpy - INFO - Chain [1] done processing\n",
      "c:\\Users\\natra\\AppData\\Local\\Programs\\Python\\Python310\\lib\\site-packages\\sklearn\\metrics\\_regression.py:492: FutureWarning: 'squared' is deprecated in version 1.4 and will be removed in 1.6. To calculate the root mean squared error, use the function'root_mean_squared_error'.\n",
      "  warnings.warn(\n",
      "19:46:33 - cmdstanpy - INFO - Chain [1] start processing\n",
      "19:46:33 - cmdstanpy - INFO - Chain [1] done processing\n",
      "c:\\Users\\natra\\AppData\\Local\\Programs\\Python\\Python310\\lib\\site-packages\\sklearn\\metrics\\_regression.py:492: FutureWarning: 'squared' is deprecated in version 1.4 and will be removed in 1.6. To calculate the root mean squared error, use the function'root_mean_squared_error'.\n",
      "  warnings.warn(\n"
     ]
    },
    {
     "name": "stdout",
     "output_type": "stream",
     "text": [
      "R² Score: 0.752, RMSE: 3.885, MAE: 3.169\n",
      "\n",
      "Evaluating: changepoint_prior_scale=0.09999999999999999, seasonality_prior_scale=5.1, seasonality_mode=multiplicative\n"
     ]
    },
    {
     "name": "stderr",
     "output_type": "stream",
     "text": [
      "19:46:34 - cmdstanpy - INFO - Chain [1] start processing\n",
      "19:46:34 - cmdstanpy - INFO - Chain [1] done processing\n",
      "c:\\Users\\natra\\AppData\\Local\\Programs\\Python\\Python310\\lib\\site-packages\\sklearn\\metrics\\_regression.py:492: FutureWarning: 'squared' is deprecated in version 1.4 and will be removed in 1.6. To calculate the root mean squared error, use the function'root_mean_squared_error'.\n",
      "  warnings.warn(\n",
      "19:46:35 - cmdstanpy - INFO - Chain [1] start processing\n",
      "19:46:35 - cmdstanpy - INFO - Chain [1] done processing\n",
      "c:\\Users\\natra\\AppData\\Local\\Programs\\Python\\Python310\\lib\\site-packages\\sklearn\\metrics\\_regression.py:492: FutureWarning: 'squared' is deprecated in version 1.4 and will be removed in 1.6. To calculate the root mean squared error, use the function'root_mean_squared_error'.\n",
      "  warnings.warn(\n",
      "19:46:36 - cmdstanpy - INFO - Chain [1] start processing\n",
      "19:46:36 - cmdstanpy - INFO - Chain [1] done processing\n",
      "c:\\Users\\natra\\AppData\\Local\\Programs\\Python\\Python310\\lib\\site-packages\\sklearn\\metrics\\_regression.py:492: FutureWarning: 'squared' is deprecated in version 1.4 and will be removed in 1.6. To calculate the root mean squared error, use the function'root_mean_squared_error'.\n",
      "  warnings.warn(\n",
      "19:46:37 - cmdstanpy - INFO - Chain [1] start processing\n",
      "19:46:37 - cmdstanpy - INFO - Chain [1] done processing\n",
      "c:\\Users\\natra\\AppData\\Local\\Programs\\Python\\Python310\\lib\\site-packages\\sklearn\\metrics\\_regression.py:492: FutureWarning: 'squared' is deprecated in version 1.4 and will be removed in 1.6. To calculate the root mean squared error, use the function'root_mean_squared_error'.\n",
      "  warnings.warn(\n",
      "19:46:37 - cmdstanpy - INFO - Chain [1] start processing\n",
      "19:46:38 - cmdstanpy - INFO - Chain [1] done processing\n",
      "c:\\Users\\natra\\AppData\\Local\\Programs\\Python\\Python310\\lib\\site-packages\\sklearn\\metrics\\_regression.py:492: FutureWarning: 'squared' is deprecated in version 1.4 and will be removed in 1.6. To calculate the root mean squared error, use the function'root_mean_squared_error'.\n",
      "  warnings.warn(\n"
     ]
    },
    {
     "name": "stdout",
     "output_type": "stream",
     "text": [
      "R² Score: 0.752, RMSE: 3.890, MAE: 3.161\n",
      "\n",
      "Evaluating: changepoint_prior_scale=0.09999999999999999, seasonality_prior_scale=6.1, seasonality_mode=additive\n"
     ]
    },
    {
     "name": "stderr",
     "output_type": "stream",
     "text": [
      "19:46:38 - cmdstanpy - INFO - Chain [1] start processing\n",
      "19:46:38 - cmdstanpy - INFO - Chain [1] done processing\n",
      "c:\\Users\\natra\\AppData\\Local\\Programs\\Python\\Python310\\lib\\site-packages\\sklearn\\metrics\\_regression.py:492: FutureWarning: 'squared' is deprecated in version 1.4 and will be removed in 1.6. To calculate the root mean squared error, use the function'root_mean_squared_error'.\n",
      "  warnings.warn(\n",
      "19:46:39 - cmdstanpy - INFO - Chain [1] start processing\n",
      "19:46:39 - cmdstanpy - INFO - Chain [1] done processing\n",
      "c:\\Users\\natra\\AppData\\Local\\Programs\\Python\\Python310\\lib\\site-packages\\sklearn\\metrics\\_regression.py:492: FutureWarning: 'squared' is deprecated in version 1.4 and will be removed in 1.6. To calculate the root mean squared error, use the function'root_mean_squared_error'.\n",
      "  warnings.warn(\n",
      "19:46:40 - cmdstanpy - INFO - Chain [1] start processing\n",
      "19:46:40 - cmdstanpy - INFO - Chain [1] done processing\n",
      "c:\\Users\\natra\\AppData\\Local\\Programs\\Python\\Python310\\lib\\site-packages\\sklearn\\metrics\\_regression.py:492: FutureWarning: 'squared' is deprecated in version 1.4 and will be removed in 1.6. To calculate the root mean squared error, use the function'root_mean_squared_error'.\n",
      "  warnings.warn(\n",
      "19:46:41 - cmdstanpy - INFO - Chain [1] start processing\n",
      "19:46:41 - cmdstanpy - INFO - Chain [1] done processing\n",
      "c:\\Users\\natra\\AppData\\Local\\Programs\\Python\\Python310\\lib\\site-packages\\sklearn\\metrics\\_regression.py:492: FutureWarning: 'squared' is deprecated in version 1.4 and will be removed in 1.6. To calculate the root mean squared error, use the function'root_mean_squared_error'.\n",
      "  warnings.warn(\n",
      "19:46:41 - cmdstanpy - INFO - Chain [1] start processing\n",
      "19:46:42 - cmdstanpy - INFO - Chain [1] done processing\n",
      "c:\\Users\\natra\\AppData\\Local\\Programs\\Python\\Python310\\lib\\site-packages\\sklearn\\metrics\\_regression.py:492: FutureWarning: 'squared' is deprecated in version 1.4 and will be removed in 1.6. To calculate the root mean squared error, use the function'root_mean_squared_error'.\n",
      "  warnings.warn(\n"
     ]
    },
    {
     "name": "stdout",
     "output_type": "stream",
     "text": [
      "R² Score: 0.752, RMSE: 3.883, MAE: 3.167\n",
      "\n",
      "Evaluating: changepoint_prior_scale=0.09999999999999999, seasonality_prior_scale=6.1, seasonality_mode=multiplicative\n"
     ]
    },
    {
     "name": "stderr",
     "output_type": "stream",
     "text": [
      "19:46:42 - cmdstanpy - INFO - Chain [1] start processing\n",
      "19:46:43 - cmdstanpy - INFO - Chain [1] done processing\n",
      "c:\\Users\\natra\\AppData\\Local\\Programs\\Python\\Python310\\lib\\site-packages\\sklearn\\metrics\\_regression.py:492: FutureWarning: 'squared' is deprecated in version 1.4 and will be removed in 1.6. To calculate the root mean squared error, use the function'root_mean_squared_error'.\n",
      "  warnings.warn(\n",
      "19:46:44 - cmdstanpy - INFO - Chain [1] start processing\n",
      "19:46:44 - cmdstanpy - INFO - Chain [1] done processing\n",
      "c:\\Users\\natra\\AppData\\Local\\Programs\\Python\\Python310\\lib\\site-packages\\sklearn\\metrics\\_regression.py:492: FutureWarning: 'squared' is deprecated in version 1.4 and will be removed in 1.6. To calculate the root mean squared error, use the function'root_mean_squared_error'.\n",
      "  warnings.warn(\n",
      "19:46:45 - cmdstanpy - INFO - Chain [1] start processing\n",
      "19:46:45 - cmdstanpy - INFO - Chain [1] done processing\n",
      "c:\\Users\\natra\\AppData\\Local\\Programs\\Python\\Python310\\lib\\site-packages\\sklearn\\metrics\\_regression.py:492: FutureWarning: 'squared' is deprecated in version 1.4 and will be removed in 1.6. To calculate the root mean squared error, use the function'root_mean_squared_error'.\n",
      "  warnings.warn(\n",
      "19:46:46 - cmdstanpy - INFO - Chain [1] start processing\n",
      "19:46:46 - cmdstanpy - INFO - Chain [1] done processing\n",
      "c:\\Users\\natra\\AppData\\Local\\Programs\\Python\\Python310\\lib\\site-packages\\sklearn\\metrics\\_regression.py:492: FutureWarning: 'squared' is deprecated in version 1.4 and will be removed in 1.6. To calculate the root mean squared error, use the function'root_mean_squared_error'.\n",
      "  warnings.warn(\n",
      "19:46:46 - cmdstanpy - INFO - Chain [1] start processing\n",
      "19:46:47 - cmdstanpy - INFO - Chain [1] done processing\n",
      "c:\\Users\\natra\\AppData\\Local\\Programs\\Python\\Python310\\lib\\site-packages\\sklearn\\metrics\\_regression.py:492: FutureWarning: 'squared' is deprecated in version 1.4 and will be removed in 1.6. To calculate the root mean squared error, use the function'root_mean_squared_error'.\n",
      "  warnings.warn(\n"
     ]
    },
    {
     "name": "stdout",
     "output_type": "stream",
     "text": [
      "R² Score: 0.752, RMSE: 3.894, MAE: 3.162\n",
      "\n",
      "Evaluating: changepoint_prior_scale=0.09999999999999999, seasonality_prior_scale=7.1, seasonality_mode=additive\n"
     ]
    },
    {
     "name": "stderr",
     "output_type": "stream",
     "text": [
      "19:46:47 - cmdstanpy - INFO - Chain [1] start processing\n",
      "19:46:48 - cmdstanpy - INFO - Chain [1] done processing\n",
      "c:\\Users\\natra\\AppData\\Local\\Programs\\Python\\Python310\\lib\\site-packages\\sklearn\\metrics\\_regression.py:492: FutureWarning: 'squared' is deprecated in version 1.4 and will be removed in 1.6. To calculate the root mean squared error, use the function'root_mean_squared_error'.\n",
      "  warnings.warn(\n",
      "19:46:48 - cmdstanpy - INFO - Chain [1] start processing\n",
      "19:46:49 - cmdstanpy - INFO - Chain [1] done processing\n",
      "c:\\Users\\natra\\AppData\\Local\\Programs\\Python\\Python310\\lib\\site-packages\\sklearn\\metrics\\_regression.py:492: FutureWarning: 'squared' is deprecated in version 1.4 and will be removed in 1.6. To calculate the root mean squared error, use the function'root_mean_squared_error'.\n",
      "  warnings.warn(\n",
      "19:46:49 - cmdstanpy - INFO - Chain [1] start processing\n",
      "19:46:49 - cmdstanpy - INFO - Chain [1] done processing\n",
      "c:\\Users\\natra\\AppData\\Local\\Programs\\Python\\Python310\\lib\\site-packages\\sklearn\\metrics\\_regression.py:492: FutureWarning: 'squared' is deprecated in version 1.4 and will be removed in 1.6. To calculate the root mean squared error, use the function'root_mean_squared_error'.\n",
      "  warnings.warn(\n",
      "19:46:50 - cmdstanpy - INFO - Chain [1] start processing\n",
      "19:46:50 - cmdstanpy - INFO - Chain [1] done processing\n",
      "c:\\Users\\natra\\AppData\\Local\\Programs\\Python\\Python310\\lib\\site-packages\\sklearn\\metrics\\_regression.py:492: FutureWarning: 'squared' is deprecated in version 1.4 and will be removed in 1.6. To calculate the root mean squared error, use the function'root_mean_squared_error'.\n",
      "  warnings.warn(\n",
      "19:46:51 - cmdstanpy - INFO - Chain [1] start processing\n",
      "19:46:51 - cmdstanpy - INFO - Chain [1] done processing\n",
      "c:\\Users\\natra\\AppData\\Local\\Programs\\Python\\Python310\\lib\\site-packages\\sklearn\\metrics\\_regression.py:492: FutureWarning: 'squared' is deprecated in version 1.4 and will be removed in 1.6. To calculate the root mean squared error, use the function'root_mean_squared_error'.\n",
      "  warnings.warn(\n"
     ]
    },
    {
     "name": "stdout",
     "output_type": "stream",
     "text": [
      "R² Score: 0.753, RMSE: 3.879, MAE: 3.164\n",
      "\n",
      "Evaluating: changepoint_prior_scale=0.09999999999999999, seasonality_prior_scale=7.1, seasonality_mode=multiplicative\n"
     ]
    },
    {
     "name": "stderr",
     "output_type": "stream",
     "text": [
      "19:46:52 - cmdstanpy - INFO - Chain [1] start processing\n",
      "19:46:52 - cmdstanpy - INFO - Chain [1] done processing\n",
      "c:\\Users\\natra\\AppData\\Local\\Programs\\Python\\Python310\\lib\\site-packages\\sklearn\\metrics\\_regression.py:492: FutureWarning: 'squared' is deprecated in version 1.4 and will be removed in 1.6. To calculate the root mean squared error, use the function'root_mean_squared_error'.\n",
      "  warnings.warn(\n",
      "19:46:53 - cmdstanpy - INFO - Chain [1] start processing\n",
      "19:46:53 - cmdstanpy - INFO - Chain [1] done processing\n",
      "c:\\Users\\natra\\AppData\\Local\\Programs\\Python\\Python310\\lib\\site-packages\\sklearn\\metrics\\_regression.py:492: FutureWarning: 'squared' is deprecated in version 1.4 and will be removed in 1.6. To calculate the root mean squared error, use the function'root_mean_squared_error'.\n",
      "  warnings.warn(\n",
      "19:46:53 - cmdstanpy - INFO - Chain [1] start processing\n",
      "19:46:54 - cmdstanpy - INFO - Chain [1] done processing\n",
      "c:\\Users\\natra\\AppData\\Local\\Programs\\Python\\Python310\\lib\\site-packages\\sklearn\\metrics\\_regression.py:492: FutureWarning: 'squared' is deprecated in version 1.4 and will be removed in 1.6. To calculate the root mean squared error, use the function'root_mean_squared_error'.\n",
      "  warnings.warn(\n",
      "19:46:54 - cmdstanpy - INFO - Chain [1] start processing\n",
      "19:46:54 - cmdstanpy - INFO - Chain [1] done processing\n",
      "c:\\Users\\natra\\AppData\\Local\\Programs\\Python\\Python310\\lib\\site-packages\\sklearn\\metrics\\_regression.py:492: FutureWarning: 'squared' is deprecated in version 1.4 and will be removed in 1.6. To calculate the root mean squared error, use the function'root_mean_squared_error'.\n",
      "  warnings.warn(\n",
      "19:46:55 - cmdstanpy - INFO - Chain [1] start processing\n",
      "19:46:55 - cmdstanpy - INFO - Chain [1] done processing\n",
      "c:\\Users\\natra\\AppData\\Local\\Programs\\Python\\Python310\\lib\\site-packages\\sklearn\\metrics\\_regression.py:492: FutureWarning: 'squared' is deprecated in version 1.4 and will be removed in 1.6. To calculate the root mean squared error, use the function'root_mean_squared_error'.\n",
      "  warnings.warn(\n"
     ]
    },
    {
     "name": "stdout",
     "output_type": "stream",
     "text": [
      "R² Score: 0.752, RMSE: 3.892, MAE: 3.162\n",
      "\n",
      "Evaluating: changepoint_prior_scale=0.09999999999999999, seasonality_prior_scale=8.1, seasonality_mode=additive\n"
     ]
    },
    {
     "name": "stderr",
     "output_type": "stream",
     "text": [
      "19:46:56 - cmdstanpy - INFO - Chain [1] start processing\n",
      "19:46:56 - cmdstanpy - INFO - Chain [1] done processing\n",
      "c:\\Users\\natra\\AppData\\Local\\Programs\\Python\\Python310\\lib\\site-packages\\sklearn\\metrics\\_regression.py:492: FutureWarning: 'squared' is deprecated in version 1.4 and will be removed in 1.6. To calculate the root mean squared error, use the function'root_mean_squared_error'.\n",
      "  warnings.warn(\n",
      "19:46:57 - cmdstanpy - INFO - Chain [1] start processing\n",
      "19:46:57 - cmdstanpy - INFO - Chain [1] done processing\n",
      "c:\\Users\\natra\\AppData\\Local\\Programs\\Python\\Python310\\lib\\site-packages\\sklearn\\metrics\\_regression.py:492: FutureWarning: 'squared' is deprecated in version 1.4 and will be removed in 1.6. To calculate the root mean squared error, use the function'root_mean_squared_error'.\n",
      "  warnings.warn(\n",
      "19:46:58 - cmdstanpy - INFO - Chain [1] start processing\n",
      "19:46:58 - cmdstanpy - INFO - Chain [1] done processing\n",
      "c:\\Users\\natra\\AppData\\Local\\Programs\\Python\\Python310\\lib\\site-packages\\sklearn\\metrics\\_regression.py:492: FutureWarning: 'squared' is deprecated in version 1.4 and will be removed in 1.6. To calculate the root mean squared error, use the function'root_mean_squared_error'.\n",
      "  warnings.warn(\n",
      "19:46:59 - cmdstanpy - INFO - Chain [1] start processing\n",
      "19:46:59 - cmdstanpy - INFO - Chain [1] done processing\n",
      "c:\\Users\\natra\\AppData\\Local\\Programs\\Python\\Python310\\lib\\site-packages\\sklearn\\metrics\\_regression.py:492: FutureWarning: 'squared' is deprecated in version 1.4 and will be removed in 1.6. To calculate the root mean squared error, use the function'root_mean_squared_error'.\n",
      "  warnings.warn(\n",
      "19:46:59 - cmdstanpy - INFO - Chain [1] start processing\n",
      "19:47:00 - cmdstanpy - INFO - Chain [1] done processing\n",
      "c:\\Users\\natra\\AppData\\Local\\Programs\\Python\\Python310\\lib\\site-packages\\sklearn\\metrics\\_regression.py:492: FutureWarning: 'squared' is deprecated in version 1.4 and will be removed in 1.6. To calculate the root mean squared error, use the function'root_mean_squared_error'.\n",
      "  warnings.warn(\n"
     ]
    },
    {
     "name": "stdout",
     "output_type": "stream",
     "text": [
      "R² Score: 0.752, RMSE: 3.884, MAE: 3.168\n",
      "\n",
      "Evaluating: changepoint_prior_scale=0.09999999999999999, seasonality_prior_scale=8.1, seasonality_mode=multiplicative\n"
     ]
    },
    {
     "name": "stderr",
     "output_type": "stream",
     "text": [
      "19:47:00 - cmdstanpy - INFO - Chain [1] start processing\n",
      "19:47:01 - cmdstanpy - INFO - Chain [1] done processing\n",
      "c:\\Users\\natra\\AppData\\Local\\Programs\\Python\\Python310\\lib\\site-packages\\sklearn\\metrics\\_regression.py:492: FutureWarning: 'squared' is deprecated in version 1.4 and will be removed in 1.6. To calculate the root mean squared error, use the function'root_mean_squared_error'.\n",
      "  warnings.warn(\n",
      "19:47:02 - cmdstanpy - INFO - Chain [1] start processing\n",
      "19:47:02 - cmdstanpy - INFO - Chain [1] done processing\n",
      "c:\\Users\\natra\\AppData\\Local\\Programs\\Python\\Python310\\lib\\site-packages\\sklearn\\metrics\\_regression.py:492: FutureWarning: 'squared' is deprecated in version 1.4 and will be removed in 1.6. To calculate the root mean squared error, use the function'root_mean_squared_error'.\n",
      "  warnings.warn(\n",
      "19:47:03 - cmdstanpy - INFO - Chain [1] start processing\n",
      "19:47:03 - cmdstanpy - INFO - Chain [1] done processing\n",
      "c:\\Users\\natra\\AppData\\Local\\Programs\\Python\\Python310\\lib\\site-packages\\sklearn\\metrics\\_regression.py:492: FutureWarning: 'squared' is deprecated in version 1.4 and will be removed in 1.6. To calculate the root mean squared error, use the function'root_mean_squared_error'.\n",
      "  warnings.warn(\n",
      "19:47:04 - cmdstanpy - INFO - Chain [1] start processing\n",
      "19:47:04 - cmdstanpy - INFO - Chain [1] done processing\n",
      "c:\\Users\\natra\\AppData\\Local\\Programs\\Python\\Python310\\lib\\site-packages\\sklearn\\metrics\\_regression.py:492: FutureWarning: 'squared' is deprecated in version 1.4 and will be removed in 1.6. To calculate the root mean squared error, use the function'root_mean_squared_error'.\n",
      "  warnings.warn(\n",
      "19:47:05 - cmdstanpy - INFO - Chain [1] start processing\n",
      "19:47:05 - cmdstanpy - INFO - Chain [1] done processing\n",
      "c:\\Users\\natra\\AppData\\Local\\Programs\\Python\\Python310\\lib\\site-packages\\sklearn\\metrics\\_regression.py:492: FutureWarning: 'squared' is deprecated in version 1.4 and will be removed in 1.6. To calculate the root mean squared error, use the function'root_mean_squared_error'.\n",
      "  warnings.warn(\n"
     ]
    },
    {
     "name": "stdout",
     "output_type": "stream",
     "text": [
      "R² Score: 0.752, RMSE: 3.895, MAE: 3.164\n",
      "\n",
      "Evaluating: changepoint_prior_scale=0.09999999999999999, seasonality_prior_scale=9.1, seasonality_mode=additive\n"
     ]
    },
    {
     "name": "stderr",
     "output_type": "stream",
     "text": [
      "19:47:06 - cmdstanpy - INFO - Chain [1] start processing\n",
      "19:47:06 - cmdstanpy - INFO - Chain [1] done processing\n",
      "c:\\Users\\natra\\AppData\\Local\\Programs\\Python\\Python310\\lib\\site-packages\\sklearn\\metrics\\_regression.py:492: FutureWarning: 'squared' is deprecated in version 1.4 and will be removed in 1.6. To calculate the root mean squared error, use the function'root_mean_squared_error'.\n",
      "  warnings.warn(\n",
      "19:47:07 - cmdstanpy - INFO - Chain [1] start processing\n",
      "19:47:07 - cmdstanpy - INFO - Chain [1] done processing\n",
      "c:\\Users\\natra\\AppData\\Local\\Programs\\Python\\Python310\\lib\\site-packages\\sklearn\\metrics\\_regression.py:492: FutureWarning: 'squared' is deprecated in version 1.4 and will be removed in 1.6. To calculate the root mean squared error, use the function'root_mean_squared_error'.\n",
      "  warnings.warn(\n",
      "19:47:08 - cmdstanpy - INFO - Chain [1] start processing\n",
      "19:47:08 - cmdstanpy - INFO - Chain [1] done processing\n",
      "c:\\Users\\natra\\AppData\\Local\\Programs\\Python\\Python310\\lib\\site-packages\\sklearn\\metrics\\_regression.py:492: FutureWarning: 'squared' is deprecated in version 1.4 and will be removed in 1.6. To calculate the root mean squared error, use the function'root_mean_squared_error'.\n",
      "  warnings.warn(\n",
      "19:47:09 - cmdstanpy - INFO - Chain [1] start processing\n",
      "19:47:09 - cmdstanpy - INFO - Chain [1] done processing\n",
      "c:\\Users\\natra\\AppData\\Local\\Programs\\Python\\Python310\\lib\\site-packages\\sklearn\\metrics\\_regression.py:492: FutureWarning: 'squared' is deprecated in version 1.4 and will be removed in 1.6. To calculate the root mean squared error, use the function'root_mean_squared_error'.\n",
      "  warnings.warn(\n",
      "19:47:10 - cmdstanpy - INFO - Chain [1] start processing\n",
      "19:47:10 - cmdstanpy - INFO - Chain [1] done processing\n",
      "c:\\Users\\natra\\AppData\\Local\\Programs\\Python\\Python310\\lib\\site-packages\\sklearn\\metrics\\_regression.py:492: FutureWarning: 'squared' is deprecated in version 1.4 and will be removed in 1.6. To calculate the root mean squared error, use the function'root_mean_squared_error'.\n",
      "  warnings.warn(\n"
     ]
    },
    {
     "name": "stdout",
     "output_type": "stream",
     "text": [
      "R² Score: 0.752, RMSE: 3.883, MAE: 3.168\n",
      "\n",
      "Evaluating: changepoint_prior_scale=0.09999999999999999, seasonality_prior_scale=9.1, seasonality_mode=multiplicative\n"
     ]
    },
    {
     "name": "stderr",
     "output_type": "stream",
     "text": [
      "19:47:11 - cmdstanpy - INFO - Chain [1] start processing\n",
      "19:47:11 - cmdstanpy - INFO - Chain [1] done processing\n",
      "c:\\Users\\natra\\AppData\\Local\\Programs\\Python\\Python310\\lib\\site-packages\\sklearn\\metrics\\_regression.py:492: FutureWarning: 'squared' is deprecated in version 1.4 and will be removed in 1.6. To calculate the root mean squared error, use the function'root_mean_squared_error'.\n",
      "  warnings.warn(\n",
      "19:47:12 - cmdstanpy - INFO - Chain [1] start processing\n",
      "19:47:12 - cmdstanpy - INFO - Chain [1] done processing\n",
      "c:\\Users\\natra\\AppData\\Local\\Programs\\Python\\Python310\\lib\\site-packages\\sklearn\\metrics\\_regression.py:492: FutureWarning: 'squared' is deprecated in version 1.4 and will be removed in 1.6. To calculate the root mean squared error, use the function'root_mean_squared_error'.\n",
      "  warnings.warn(\n",
      "19:47:13 - cmdstanpy - INFO - Chain [1] start processing\n",
      "19:47:13 - cmdstanpy - INFO - Chain [1] done processing\n",
      "c:\\Users\\natra\\AppData\\Local\\Programs\\Python\\Python310\\lib\\site-packages\\sklearn\\metrics\\_regression.py:492: FutureWarning: 'squared' is deprecated in version 1.4 and will be removed in 1.6. To calculate the root mean squared error, use the function'root_mean_squared_error'.\n",
      "  warnings.warn(\n",
      "19:47:14 - cmdstanpy - INFO - Chain [1] start processing\n",
      "19:47:14 - cmdstanpy - INFO - Chain [1] done processing\n",
      "c:\\Users\\natra\\AppData\\Local\\Programs\\Python\\Python310\\lib\\site-packages\\sklearn\\metrics\\_regression.py:492: FutureWarning: 'squared' is deprecated in version 1.4 and will be removed in 1.6. To calculate the root mean squared error, use the function'root_mean_squared_error'.\n",
      "  warnings.warn(\n",
      "19:47:15 - cmdstanpy - INFO - Chain [1] start processing\n",
      "19:47:15 - cmdstanpy - INFO - Chain [1] done processing\n",
      "c:\\Users\\natra\\AppData\\Local\\Programs\\Python\\Python310\\lib\\site-packages\\sklearn\\metrics\\_regression.py:492: FutureWarning: 'squared' is deprecated in version 1.4 and will be removed in 1.6. To calculate the root mean squared error, use the function'root_mean_squared_error'.\n",
      "  warnings.warn(\n"
     ]
    },
    {
     "name": "stdout",
     "output_type": "stream",
     "text": [
      "R² Score: 0.751, RMSE: 3.898, MAE: 3.165\n",
      "\n",
      "Evaluating: changepoint_prior_scale=0.09999999999999999, seasonality_prior_scale=10.1, seasonality_mode=additive\n"
     ]
    },
    {
     "name": "stderr",
     "output_type": "stream",
     "text": [
      "19:47:16 - cmdstanpy - INFO - Chain [1] start processing\n",
      "19:47:16 - cmdstanpy - INFO - Chain [1] done processing\n",
      "c:\\Users\\natra\\AppData\\Local\\Programs\\Python\\Python310\\lib\\site-packages\\sklearn\\metrics\\_regression.py:492: FutureWarning: 'squared' is deprecated in version 1.4 and will be removed in 1.6. To calculate the root mean squared error, use the function'root_mean_squared_error'.\n",
      "  warnings.warn(\n",
      "19:47:17 - cmdstanpy - INFO - Chain [1] start processing\n",
      "19:47:17 - cmdstanpy - INFO - Chain [1] done processing\n",
      "c:\\Users\\natra\\AppData\\Local\\Programs\\Python\\Python310\\lib\\site-packages\\sklearn\\metrics\\_regression.py:492: FutureWarning: 'squared' is deprecated in version 1.4 and will be removed in 1.6. To calculate the root mean squared error, use the function'root_mean_squared_error'.\n",
      "  warnings.warn(\n",
      "19:47:18 - cmdstanpy - INFO - Chain [1] start processing\n",
      "19:47:18 - cmdstanpy - INFO - Chain [1] done processing\n",
      "c:\\Users\\natra\\AppData\\Local\\Programs\\Python\\Python310\\lib\\site-packages\\sklearn\\metrics\\_regression.py:492: FutureWarning: 'squared' is deprecated in version 1.4 and will be removed in 1.6. To calculate the root mean squared error, use the function'root_mean_squared_error'.\n",
      "  warnings.warn(\n",
      "19:47:19 - cmdstanpy - INFO - Chain [1] start processing\n",
      "19:47:19 - cmdstanpy - INFO - Chain [1] done processing\n",
      "c:\\Users\\natra\\AppData\\Local\\Programs\\Python\\Python310\\lib\\site-packages\\sklearn\\metrics\\_regression.py:492: FutureWarning: 'squared' is deprecated in version 1.4 and will be removed in 1.6. To calculate the root mean squared error, use the function'root_mean_squared_error'.\n",
      "  warnings.warn(\n",
      "19:47:19 - cmdstanpy - INFO - Chain [1] start processing\n",
      "19:47:20 - cmdstanpy - INFO - Chain [1] done processing\n",
      "c:\\Users\\natra\\AppData\\Local\\Programs\\Python\\Python310\\lib\\site-packages\\sklearn\\metrics\\_regression.py:492: FutureWarning: 'squared' is deprecated in version 1.4 and will be removed in 1.6. To calculate the root mean squared error, use the function'root_mean_squared_error'.\n",
      "  warnings.warn(\n"
     ]
    },
    {
     "name": "stdout",
     "output_type": "stream",
     "text": [
      "R² Score: 0.752, RMSE: 3.883, MAE: 3.167\n",
      "\n",
      "Evaluating: changepoint_prior_scale=0.09999999999999999, seasonality_prior_scale=10.1, seasonality_mode=multiplicative\n"
     ]
    },
    {
     "name": "stderr",
     "output_type": "stream",
     "text": [
      "19:47:20 - cmdstanpy - INFO - Chain [1] start processing\n",
      "19:47:21 - cmdstanpy - INFO - Chain [1] done processing\n",
      "c:\\Users\\natra\\AppData\\Local\\Programs\\Python\\Python310\\lib\\site-packages\\sklearn\\metrics\\_regression.py:492: FutureWarning: 'squared' is deprecated in version 1.4 and will be removed in 1.6. To calculate the root mean squared error, use the function'root_mean_squared_error'.\n",
      "  warnings.warn(\n",
      "19:47:21 - cmdstanpy - INFO - Chain [1] start processing\n",
      "19:47:21 - cmdstanpy - INFO - Chain [1] done processing\n",
      "c:\\Users\\natra\\AppData\\Local\\Programs\\Python\\Python310\\lib\\site-packages\\sklearn\\metrics\\_regression.py:492: FutureWarning: 'squared' is deprecated in version 1.4 and will be removed in 1.6. To calculate the root mean squared error, use the function'root_mean_squared_error'.\n",
      "  warnings.warn(\n",
      "19:47:22 - cmdstanpy - INFO - Chain [1] start processing\n",
      "19:47:22 - cmdstanpy - INFO - Chain [1] done processing\n",
      "c:\\Users\\natra\\AppData\\Local\\Programs\\Python\\Python310\\lib\\site-packages\\sklearn\\metrics\\_regression.py:492: FutureWarning: 'squared' is deprecated in version 1.4 and will be removed in 1.6. To calculate the root mean squared error, use the function'root_mean_squared_error'.\n",
      "  warnings.warn(\n",
      "19:47:23 - cmdstanpy - INFO - Chain [1] start processing\n",
      "19:47:23 - cmdstanpy - INFO - Chain [1] done processing\n",
      "c:\\Users\\natra\\AppData\\Local\\Programs\\Python\\Python310\\lib\\site-packages\\sklearn\\metrics\\_regression.py:492: FutureWarning: 'squared' is deprecated in version 1.4 and will be removed in 1.6. To calculate the root mean squared error, use the function'root_mean_squared_error'.\n",
      "  warnings.warn(\n",
      "19:47:24 - cmdstanpy - INFO - Chain [1] start processing\n",
      "19:47:24 - cmdstanpy - INFO - Chain [1] done processing\n",
      "c:\\Users\\natra\\AppData\\Local\\Programs\\Python\\Python310\\lib\\site-packages\\sklearn\\metrics\\_regression.py:492: FutureWarning: 'squared' is deprecated in version 1.4 and will be removed in 1.6. To calculate the root mean squared error, use the function'root_mean_squared_error'.\n",
      "  warnings.warn(\n"
     ]
    },
    {
     "name": "stdout",
     "output_type": "stream",
     "text": [
      "R² Score: 0.749, RMSE: 3.910, MAE: 3.183\n",
      "\n",
      "Best R² Score: 0.769\n",
      "Best RMSE: 3.757\n",
      "Best MAE: 3.059\n",
      "Best Hyperparameters: changepoint_prior_scale=0.01, seasonality_prior_scale=1.1, seasonality_mode=additive\n"
     ]
    },
    {
     "name": "stderr",
     "output_type": "stream",
     "text": [
      "19:47:25 - cmdstanpy - INFO - Chain [1] start processing\n",
      "19:47:25 - cmdstanpy - INFO - Chain [1] done processing\n",
      "c:\\Users\\natra\\AppData\\Local\\Programs\\Python\\Python310\\lib\\site-packages\\prophet\\plot.py:72: FutureWarning: The behavior of DatetimeProperties.to_pydatetime is deprecated, in a future version this will return a Series containing python datetime objects instead of an ndarray. To retain the old behavior, call `np.array` on the result\n",
      "  fcst_t = fcst['ds'].dt.to_pydatetime()\n",
      "c:\\Users\\natra\\AppData\\Local\\Programs\\Python\\Python310\\lib\\site-packages\\prophet\\plot.py:73: FutureWarning: The behavior of DatetimeProperties.to_pydatetime is deprecated, in a future version this will return a Series containing python datetime objects instead of an ndarray. To retain the old behavior, call `np.array` on the result\n",
      "  ax.plot(m.history['ds'].dt.to_pydatetime(), m.history['y'], 'k.',\n"
     ]
    },
    {
     "data": {
      "image/png": "[encoded data removed]",
      "text/plain": [
       "<Figure size 1000x600 with 1 Axes>"
      ]
     },
     "metadata": {},
     "output_type": "display_data"
    },
    {
     "name": "stderr",
     "output_type": "stream",
     "text": [
      "c:\\Users\\natra\\AppData\\Local\\Programs\\Python\\Python310\\lib\\site-packages\\prophet\\plot.py:228: FutureWarning: The behavior of DatetimeProperties.to_pydatetime is deprecated, in a future version this will return a Series containing python datetime objects instead of an ndarray. To retain the old behavior, call `np.array` on the result\n",
      "  fcst_t = fcst['ds'].dt.to_pydatetime()\n",
      "c:\\Users\\natra\\AppData\\Local\\Programs\\Python\\Python310\\lib\\site-packages\\prophet\\plot.py:351: FutureWarning: The behavior of DatetimeProperties.to_pydatetime is deprecated, in a future version this will return a Series containing python datetime objects instead of an ndarray. To retain the old behavior, call `np.array` on the result\n",
      "  df_y['ds'].dt.to_pydatetime(), seas[name], ls='-', c='#0072B2')\n",
      "c:\\Users\\natra\\AppData\\Local\\Programs\\Python\\Python310\\lib\\site-packages\\prophet\\plot.py:354: FutureWarning: The behavior of DatetimeProperties.to_pydatetime is deprecated, in a future version this will return a Series containing python datetime objects instead of an ndarray. To retain the old behavior, call `np.array` on the result\n",
      "  df_y['ds'].dt.to_pydatetime(), seas[name + '_lower'],\n"
     ]
    },
    {
     "data": {
      "image/png": "[encoded data removed]",
      "text/plain": [
       "<Figure size 900x900 with 3 Axes>"
      ]
     },
     "metadata": {},
     "output_type": "display_data"
    }
   ],
   "source": [
    "import pandas as pd\n",
    "from sklearn.metrics import r2_score, mean_squared_error, mean_absolute_error\n",
    "from sklearn.model_selection import KFold\n",
    "from prophet import Prophet\n",
    "import numpy as np\n",
    "import matplotlib.pyplot as plt\n",
    "\n",
    "# Load the dataset\n",
    "file_path = '../../dataset/data.csv'\n",
    "data = pd.read_csv(file_path)\n",
    "\n",
    "# Prepare the data for Prophet (for feels like temperature)\n",
    "data['ds'] = pd.to_datetime(data['datetime'], format='%m/%d/%Y')\n",
    "feels_like_data = data[['ds', 'feelslike']]  # Rename feels like temperature for Prophet\n",
    "feels_like_data.rename(columns={'feelslike': 'y'}, inplace=True)\n",
    "\n",
    "# Updated parameter grid\n",
    "param_grid = {\n",
    "    'changepoint_prior_scale': np.arange(0.01, 0.11, 0.01).tolist(),  # Trend flexibility from 0.01 to 0.1 with step 0.01\n",
    "    'seasonality_prior_scale': np.arange(0.1, 11, 1.0).tolist(),  # Seasonality flexibility from 0.1 to 10 with step 1.0\n",
    "    'seasonality_mode': ['additive', 'multiplicative']  # Additive vs multiplicative seasonality\n",
    "}\n",
    "\n",
    "# Define number of folds for cross-validation\n",
    "kf = KFold(n_splits=5)\n",
    "\n",
    "# Function to evaluate model with given parameters and cross-validation\n",
    "def evaluate_model_cv(changepoint_prior_scale, seasonality_prior_scale, seasonality_mode, data):\n",
    "    r2_scores = []\n",
    "    rmse_scores = []\n",
    "    mae_scores = []\n",
    "    \n",
    "    for train_index, test_index in kf.split(data):\n",
    "        # Split the data into train and test sets for each fold\n",
    "        train_data = data.iloc[train_index]\n",
    "        test_data = data.iloc[test_index]\n",
    "        \n",
    "        # Initialize the Prophet model with specified hyperparameters\n",
    "        model = Prophet(\n",
    "            yearly_seasonality=True,\n",
    "            changepoint_prior_scale=changepoint_prior_scale,\n",
    "            seasonality_prior_scale=seasonality_prior_scale,\n",
    "            seasonality_mode=seasonality_mode\n",
    "        )\n",
    "        \n",
    "        # Fit the model\n",
    "        model.fit(train_data)\n",
    "        \n",
    "        # Predict on the test set (validation set)\n",
    "        test_forecast = model.predict(test_data[['ds']])\n",
    "        \n",
    "        # Calculate R², RMSE, and MAE\n",
    "        y_true = test_data['y'].values  # Actual feels like temperatures\n",
    "        y_pred = test_forecast['yhat'].values  # Predicted feels like temperatures\n",
    "        \n",
    "        r2_scores.append(r2_score(y_true, y_pred))\n",
    "        rmse_scores.append(mean_squared_error(y_true, y_pred, squared=False))\n",
    "        mae_scores.append(mean_absolute_error(y_true, y_pred))\n",
    "    \n",
    "    # Calculate average scores across the folds\n",
    "    avg_r2 = np.mean(r2_scores)\n",
    "    avg_rmse = np.mean(rmse_scores)\n",
    "    avg_mae = np.mean(mae_scores)\n",
    "    \n",
    "    return avg_r2, avg_rmse, avg_mae\n",
    "\n",
    "# Iterate through the parameter grid and evaluate each combination using K-Fold CV\n",
    "best_score = -float('inf')\n",
    "best_params = None\n",
    "best_rmse = float('inf')\n",
    "best_mae = float('inf')\n",
    "\n",
    "for changepoint in param_grid['changepoint_prior_scale']:\n",
    "    for seasonality_prior in param_grid['seasonality_prior_scale']:\n",
    "        for seasonality_mode in param_grid['seasonality_mode']:\n",
    "            print(f\"Evaluating: changepoint_prior_scale={changepoint}, seasonality_prior_scale={seasonality_prior}, seasonality_mode={seasonality_mode}\")\n",
    "            r2, rmse, mae = evaluate_model_cv(changepoint, seasonality_prior, seasonality_mode, feels_like_data)\n",
    "            print(f\"R² Score: {r2:.3f}, RMSE: {rmse:.3f}, MAE: {mae:.3f}\\n\")\n",
    "            \n",
    "            # Keep track of the best model: prioritize highest R², then lowest RMSE and MAE\n",
    "            if r2 > best_score or (r2 == best_score and rmse < best_rmse and mae < best_mae):\n",
    "                best_score = r2\n",
    "                best_rmse = rmse\n",
    "                best_mae = mae\n",
    "                best_params = (changepoint, seasonality_prior, seasonality_mode)\n",
    "\n",
    "# Output the best hyperparameters\n",
    "print(f\"Best R² Score: {best_score:.3f}\")\n",
    "print(f\"Best RMSE: {best_rmse:.3f}\")\n",
    "print(f\"Best MAE: {best_mae:.3f}\")\n",
    "print(f\"Best Hyperparameters: changepoint_prior_scale={best_params[0]}, seasonality_prior_scale={best_params[1]}, seasonality_mode={best_params[2]}\")\n",
    "\n",
    "# Re-train the best model using the entire dataset and best hyperparameters\n",
    "best_model = Prophet(\n",
    "    yearly_seasonality=True,\n",
    "    changepoint_prior_scale=best_params[0],\n",
    "    seasonality_prior_scale=best_params[1],\n",
    "    seasonality_mode=best_params[2]\n",
    ")\n",
    "\n",
    "best_model.fit(feels_like_data)\n",
    "\n",
    "# Generate future dates (from 21/08/2024 to 31/12/2024)\n",
    "future_dates = best_model.make_future_dataframe(periods=len(pd.date_range('2024-08-21', '2024-12-31')), freq='D')\n",
    "\n",
    "# Predict future feels like temperatures\n",
    "feels_like_forecast = best_model.predict(future_dates)\n",
    "\n",
    "# Display and save the predicted feels like temperatures\n",
    "feels_like_forecast[['ds', 'yhat']].tail()\n",
    "feels_like_forecast[['ds', 'yhat']].to_csv('feelslike_forecast_2024.csv', index=False)\n",
    "\n",
    "# Plot the forecasted feels like temperatures with a title\n",
    "forecast_plot = best_model.plot(feels_like_forecast)\n",
    "plt.title(\"Feels Like Temperature Forecast (2024)\")\n",
    "plt.xlabel(\"Date\")\n",
    "plt.ylabel(\"Feels Like Temperature (°C)\")\n",
    "plt.show()\n",
    "\n",
    "# Plot seasonal components (trend, yearly, etc.) with titles\n",
    "components_plot = best_model.plot_components(feels_like_forecast)\n",
    "\n",
    "# Adding titles to individual component plots\n",
    "ax = components_plot.get_axes()\n",
    "\n",
    "# Titles for each component\n",
    "ax[0].set_title('Trend Component: Feels Like Temperature')\n",
    "ax[1].set_title('Yearly Seasonality: Feels Like Temperature')\n",
    "ax[2].set_title('Weekly Seasonality: Feels Like Temperature')  # If applicable\n",
    "plt.show()\n"
   ]
  }
 ],
 "metadata": {
  "kernelspec": {
   "display_name": "Python 3",
   "language": "python",
   "name": "python3"
  },
  "language_info": {
   "codemirror_mode": {
    "name": "ipython",
    "version": 3
   },
   "file_extension": ".py",
   "mimetype": "text/x-python",
   "name": "python",
   "nbconvert_exporter": "python",
   "pygments_lexer": "ipython3",
   "version": "3.10.7"
  }
 },
 "nbformat": 4,
 "nbformat_minor": 2
}
