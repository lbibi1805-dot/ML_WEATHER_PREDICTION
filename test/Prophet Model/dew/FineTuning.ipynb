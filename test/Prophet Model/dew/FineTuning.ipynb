{
 "cells": [
  {
   "cell_type": "code",
   "execution_count": 2,
   "metadata": {},
   "outputs": [
    {
     "name": "stderr",
     "output_type": "stream",
     "text": [
      "c:\\Users\\natra\\AppData\\Local\\Programs\\Python\\Python310\\lib\\site-packages\\tqdm\\auto.py:21: TqdmWarning: IProgress not found. Please update jupyter and ipywidgets. See https://ipywidgets.readthedocs.io/en/stable/user_install.html\n",
      "  from .autonotebook import tqdm as notebook_tqdm\n",
      "C:\\Users\\natra\\AppData\\Local\\Temp\\ipykernel_32136\\2051169424.py:15: SettingWithCopyWarning: \n",
      "A value is trying to be set on a copy of a slice from a DataFrame\n",
      "\n",
      "See the caveats in the documentation: https://pandas.pydata.org/pandas-docs/stable/user_guide/indexing.html#returning-a-view-versus-a-copy\n",
      "  dew_data.rename(columns={'dew': 'y'}, inplace=True)\n"
     ]
    },
    {
     "name": "stdout",
     "output_type": "stream",
     "text": [
      "Evaluating: changepoint_prior_scale=0.01, seasonality_prior_scale=0.1, seasonality_mode=additive\n"
     ]
    },
    {
     "name": "stderr",
     "output_type": "stream",
     "text": [
      "11:33:07 - cmdstanpy - INFO - Chain [1] start processing\n",
      "11:33:07 - cmdstanpy - INFO - Chain [1] done processing\n",
      "c:\\Users\\natra\\AppData\\Local\\Programs\\Python\\Python310\\lib\\site-packages\\sklearn\\metrics\\_regression.py:492: FutureWarning: 'squared' is deprecated in version 1.4 and will be removed in 1.6. To calculate the root mean squared error, use the function'root_mean_squared_error'.\n",
      "  warnings.warn(\n",
      "11:33:08 - cmdstanpy - INFO - Chain [1] start processing\n",
      "11:33:08 - cmdstanpy - INFO - Chain [1] done processing\n",
      "c:\\Users\\natra\\AppData\\Local\\Programs\\Python\\Python310\\lib\\site-packages\\sklearn\\metrics\\_regression.py:492: FutureWarning: 'squared' is deprecated in version 1.4 and will be removed in 1.6. To calculate the root mean squared error, use the function'root_mean_squared_error'.\n",
      "  warnings.warn(\n",
      "11:33:08 - cmdstanpy - INFO - Chain [1] start processing\n",
      "11:33:08 - cmdstanpy - INFO - Chain [1] done processing\n",
      "c:\\Users\\natra\\AppData\\Local\\Programs\\Python\\Python310\\lib\\site-packages\\sklearn\\metrics\\_regression.py:492: FutureWarning: 'squared' is deprecated in version 1.4 and will be removed in 1.6. To calculate the root mean squared error, use the function'root_mean_squared_error'.\n",
      "  warnings.warn(\n",
      "11:33:09 - cmdstanpy - INFO - Chain [1] start processing\n",
      "11:33:09 - cmdstanpy - INFO - Chain [1] done processing\n",
      "c:\\Users\\natra\\AppData\\Local\\Programs\\Python\\Python310\\lib\\site-packages\\sklearn\\metrics\\_regression.py:492: FutureWarning: 'squared' is deprecated in version 1.4 and will be removed in 1.6. To calculate the root mean squared error, use the function'root_mean_squared_error'.\n",
      "  warnings.warn(\n",
      "11:33:10 - cmdstanpy - INFO - Chain [1] start processing\n",
      "11:33:10 - cmdstanpy - INFO - Chain [1] done processing\n",
      "c:\\Users\\natra\\AppData\\Local\\Programs\\Python\\Python310\\lib\\site-packages\\sklearn\\metrics\\_regression.py:492: FutureWarning: 'squared' is deprecated in version 1.4 and will be removed in 1.6. To calculate the root mean squared error, use the function'root_mean_squared_error'.\n",
      "  warnings.warn(\n"
     ]
    },
    {
     "name": "stdout",
     "output_type": "stream",
     "text": [
      "R² Score: 0.603, RMSE: 3.659, MAE: 2.633\n",
      "\n",
      "Evaluating: changepoint_prior_scale=0.01, seasonality_prior_scale=0.1, seasonality_mode=multiplicative\n"
     ]
    },
    {
     "name": "stderr",
     "output_type": "stream",
     "text": [
      "11:33:10 - cmdstanpy - INFO - Chain [1] start processing\n",
      "11:33:10 - cmdstanpy - INFO - Chain [1] done processing\n",
      "c:\\Users\\natra\\AppData\\Local\\Programs\\Python\\Python310\\lib\\site-packages\\sklearn\\metrics\\_regression.py:492: FutureWarning: 'squared' is deprecated in version 1.4 and will be removed in 1.6. To calculate the root mean squared error, use the function'root_mean_squared_error'.\n",
      "  warnings.warn(\n",
      "11:33:11 - cmdstanpy - INFO - Chain [1] start processing\n",
      "11:33:11 - cmdstanpy - INFO - Chain [1] done processing\n",
      "c:\\Users\\natra\\AppData\\Local\\Programs\\Python\\Python310\\lib\\site-packages\\sklearn\\metrics\\_regression.py:492: FutureWarning: 'squared' is deprecated in version 1.4 and will be removed in 1.6. To calculate the root mean squared error, use the function'root_mean_squared_error'.\n",
      "  warnings.warn(\n",
      "11:33:11 - cmdstanpy - INFO - Chain [1] start processing\n",
      "11:33:11 - cmdstanpy - INFO - Chain [1] done processing\n",
      "c:\\Users\\natra\\AppData\\Local\\Programs\\Python\\Python310\\lib\\site-packages\\sklearn\\metrics\\_regression.py:492: FutureWarning: 'squared' is deprecated in version 1.4 and will be removed in 1.6. To calculate the root mean squared error, use the function'root_mean_squared_error'.\n",
      "  warnings.warn(\n",
      "11:33:12 - cmdstanpy - INFO - Chain [1] start processing\n",
      "11:33:12 - cmdstanpy - INFO - Chain [1] done processing\n",
      "c:\\Users\\natra\\AppData\\Local\\Programs\\Python\\Python310\\lib\\site-packages\\sklearn\\metrics\\_regression.py:492: FutureWarning: 'squared' is deprecated in version 1.4 and will be removed in 1.6. To calculate the root mean squared error, use the function'root_mean_squared_error'.\n",
      "  warnings.warn(\n",
      "11:33:12 - cmdstanpy - INFO - Chain [1] start processing\n",
      "11:33:12 - cmdstanpy - INFO - Chain [1] done processing\n",
      "c:\\Users\\natra\\AppData\\Local\\Programs\\Python\\Python310\\lib\\site-packages\\sklearn\\metrics\\_regression.py:492: FutureWarning: 'squared' is deprecated in version 1.4 and will be removed in 1.6. To calculate the root mean squared error, use the function'root_mean_squared_error'.\n",
      "  warnings.warn(\n"
     ]
    },
    {
     "name": "stdout",
     "output_type": "stream",
     "text": [
      "R² Score: 0.610, RMSE: 3.635, MAE: 2.608\n",
      "\n",
      "Evaluating: changepoint_prior_scale=0.01, seasonality_prior_scale=1.1, seasonality_mode=additive\n"
     ]
    },
    {
     "name": "stderr",
     "output_type": "stream",
     "text": [
      "11:33:13 - cmdstanpy - INFO - Chain [1] start processing\n",
      "11:33:13 - cmdstanpy - INFO - Chain [1] done processing\n",
      "c:\\Users\\natra\\AppData\\Local\\Programs\\Python\\Python310\\lib\\site-packages\\sklearn\\metrics\\_regression.py:492: FutureWarning: 'squared' is deprecated in version 1.4 and will be removed in 1.6. To calculate the root mean squared error, use the function'root_mean_squared_error'.\n",
      "  warnings.warn(\n",
      "11:33:13 - cmdstanpy - INFO - Chain [1] start processing\n",
      "11:33:14 - cmdstanpy - INFO - Chain [1] done processing\n",
      "c:\\Users\\natra\\AppData\\Local\\Programs\\Python\\Python310\\lib\\site-packages\\sklearn\\metrics\\_regression.py:492: FutureWarning: 'squared' is deprecated in version 1.4 and will be removed in 1.6. To calculate the root mean squared error, use the function'root_mean_squared_error'.\n",
      "  warnings.warn(\n",
      "11:33:14 - cmdstanpy - INFO - Chain [1] start processing\n",
      "11:33:14 - cmdstanpy - INFO - Chain [1] done processing\n",
      "c:\\Users\\natra\\AppData\\Local\\Programs\\Python\\Python310\\lib\\site-packages\\sklearn\\metrics\\_regression.py:492: FutureWarning: 'squared' is deprecated in version 1.4 and will be removed in 1.6. To calculate the root mean squared error, use the function'root_mean_squared_error'.\n",
      "  warnings.warn(\n",
      "11:33:15 - cmdstanpy - INFO - Chain [1] start processing\n",
      "11:33:15 - cmdstanpy - INFO - Chain [1] done processing\n",
      "c:\\Users\\natra\\AppData\\Local\\Programs\\Python\\Python310\\lib\\site-packages\\sklearn\\metrics\\_regression.py:492: FutureWarning: 'squared' is deprecated in version 1.4 and will be removed in 1.6. To calculate the root mean squared error, use the function'root_mean_squared_error'.\n",
      "  warnings.warn(\n",
      "11:33:15 - cmdstanpy - INFO - Chain [1] start processing\n",
      "11:33:15 - cmdstanpy - INFO - Chain [1] done processing\n",
      "c:\\Users\\natra\\AppData\\Local\\Programs\\Python\\Python310\\lib\\site-packages\\sklearn\\metrics\\_regression.py:492: FutureWarning: 'squared' is deprecated in version 1.4 and will be removed in 1.6. To calculate the root mean squared error, use the function'root_mean_squared_error'.\n",
      "  warnings.warn(\n"
     ]
    },
    {
     "name": "stdout",
     "output_type": "stream",
     "text": [
      "R² Score: 0.601, RMSE: 3.666, MAE: 2.642\n",
      "\n",
      "Evaluating: changepoint_prior_scale=0.01, seasonality_prior_scale=1.1, seasonality_mode=multiplicative\n"
     ]
    },
    {
     "name": "stderr",
     "output_type": "stream",
     "text": [
      "11:33:16 - cmdstanpy - INFO - Chain [1] start processing\n",
      "11:33:16 - cmdstanpy - INFO - Chain [1] done processing\n",
      "c:\\Users\\natra\\AppData\\Local\\Programs\\Python\\Python310\\lib\\site-packages\\sklearn\\metrics\\_regression.py:492: FutureWarning: 'squared' is deprecated in version 1.4 and will be removed in 1.6. To calculate the root mean squared error, use the function'root_mean_squared_error'.\n",
      "  warnings.warn(\n",
      "11:33:16 - cmdstanpy - INFO - Chain [1] start processing\n",
      "11:33:16 - cmdstanpy - INFO - Chain [1] done processing\n",
      "c:\\Users\\natra\\AppData\\Local\\Programs\\Python\\Python310\\lib\\site-packages\\sklearn\\metrics\\_regression.py:492: FutureWarning: 'squared' is deprecated in version 1.4 and will be removed in 1.6. To calculate the root mean squared error, use the function'root_mean_squared_error'.\n",
      "  warnings.warn(\n",
      "11:33:17 - cmdstanpy - INFO - Chain [1] start processing\n",
      "11:33:17 - cmdstanpy - INFO - Chain [1] done processing\n",
      "c:\\Users\\natra\\AppData\\Local\\Programs\\Python\\Python310\\lib\\site-packages\\sklearn\\metrics\\_regression.py:492: FutureWarning: 'squared' is deprecated in version 1.4 and will be removed in 1.6. To calculate the root mean squared error, use the function'root_mean_squared_error'.\n",
      "  warnings.warn(\n",
      "11:33:17 - cmdstanpy - INFO - Chain [1] start processing\n",
      "11:33:18 - cmdstanpy - INFO - Chain [1] done processing\n",
      "c:\\Users\\natra\\AppData\\Local\\Programs\\Python\\Python310\\lib\\site-packages\\sklearn\\metrics\\_regression.py:492: FutureWarning: 'squared' is deprecated in version 1.4 and will be removed in 1.6. To calculate the root mean squared error, use the function'root_mean_squared_error'.\n",
      "  warnings.warn(\n",
      "11:33:18 - cmdstanpy - INFO - Chain [1] start processing\n",
      "11:33:18 - cmdstanpy - INFO - Chain [1] done processing\n",
      "c:\\Users\\natra\\AppData\\Local\\Programs\\Python\\Python310\\lib\\site-packages\\sklearn\\metrics\\_regression.py:492: FutureWarning: 'squared' is deprecated in version 1.4 and will be removed in 1.6. To calculate the root mean squared error, use the function'root_mean_squared_error'.\n",
      "  warnings.warn(\n"
     ]
    },
    {
     "name": "stdout",
     "output_type": "stream",
     "text": [
      "R² Score: 0.608, RMSE: 3.640, MAE: 2.615\n",
      "\n",
      "Evaluating: changepoint_prior_scale=0.01, seasonality_prior_scale=2.1, seasonality_mode=additive\n"
     ]
    },
    {
     "name": "stderr",
     "output_type": "stream",
     "text": [
      "11:33:19 - cmdstanpy - INFO - Chain [1] start processing\n",
      "11:33:19 - cmdstanpy - INFO - Chain [1] done processing\n",
      "c:\\Users\\natra\\AppData\\Local\\Programs\\Python\\Python310\\lib\\site-packages\\sklearn\\metrics\\_regression.py:492: FutureWarning: 'squared' is deprecated in version 1.4 and will be removed in 1.6. To calculate the root mean squared error, use the function'root_mean_squared_error'.\n",
      "  warnings.warn(\n",
      "11:33:19 - cmdstanpy - INFO - Chain [1] start processing\n",
      "11:33:19 - cmdstanpy - INFO - Chain [1] done processing\n",
      "c:\\Users\\natra\\AppData\\Local\\Programs\\Python\\Python310\\lib\\site-packages\\sklearn\\metrics\\_regression.py:492: FutureWarning: 'squared' is deprecated in version 1.4 and will be removed in 1.6. To calculate the root mean squared error, use the function'root_mean_squared_error'.\n",
      "  warnings.warn(\n",
      "11:33:20 - cmdstanpy - INFO - Chain [1] start processing\n",
      "11:33:20 - cmdstanpy - INFO - Chain [1] done processing\n",
      "c:\\Users\\natra\\AppData\\Local\\Programs\\Python\\Python310\\lib\\site-packages\\sklearn\\metrics\\_regression.py:492: FutureWarning: 'squared' is deprecated in version 1.4 and will be removed in 1.6. To calculate the root mean squared error, use the function'root_mean_squared_error'.\n",
      "  warnings.warn(\n",
      "11:33:20 - cmdstanpy - INFO - Chain [1] start processing\n",
      "11:33:20 - cmdstanpy - INFO - Chain [1] done processing\n",
      "c:\\Users\\natra\\AppData\\Local\\Programs\\Python\\Python310\\lib\\site-packages\\sklearn\\metrics\\_regression.py:492: FutureWarning: 'squared' is deprecated in version 1.4 and will be removed in 1.6. To calculate the root mean squared error, use the function'root_mean_squared_error'.\n",
      "  warnings.warn(\n",
      "11:33:21 - cmdstanpy - INFO - Chain [1] start processing\n",
      "11:33:21 - cmdstanpy - INFO - Chain [1] done processing\n",
      "c:\\Users\\natra\\AppData\\Local\\Programs\\Python\\Python310\\lib\\site-packages\\sklearn\\metrics\\_regression.py:492: FutureWarning: 'squared' is deprecated in version 1.4 and will be removed in 1.6. To calculate the root mean squared error, use the function'root_mean_squared_error'.\n",
      "  warnings.warn(\n"
     ]
    },
    {
     "name": "stdout",
     "output_type": "stream",
     "text": [
      "R² Score: 0.603, RMSE: 3.661, MAE: 2.637\n",
      "\n",
      "Evaluating: changepoint_prior_scale=0.01, seasonality_prior_scale=2.1, seasonality_mode=multiplicative\n"
     ]
    },
    {
     "name": "stderr",
     "output_type": "stream",
     "text": [
      "11:33:21 - cmdstanpy - INFO - Chain [1] start processing\n",
      "11:33:21 - cmdstanpy - INFO - Chain [1] done processing\n",
      "c:\\Users\\natra\\AppData\\Local\\Programs\\Python\\Python310\\lib\\site-packages\\sklearn\\metrics\\_regression.py:492: FutureWarning: 'squared' is deprecated in version 1.4 and will be removed in 1.6. To calculate the root mean squared error, use the function'root_mean_squared_error'.\n",
      "  warnings.warn(\n",
      "11:33:22 - cmdstanpy - INFO - Chain [1] start processing\n",
      "11:33:22 - cmdstanpy - INFO - Chain [1] done processing\n",
      "c:\\Users\\natra\\AppData\\Local\\Programs\\Python\\Python310\\lib\\site-packages\\sklearn\\metrics\\_regression.py:492: FutureWarning: 'squared' is deprecated in version 1.4 and will be removed in 1.6. To calculate the root mean squared error, use the function'root_mean_squared_error'.\n",
      "  warnings.warn(\n",
      "11:33:22 - cmdstanpy - INFO - Chain [1] start processing\n",
      "11:33:23 - cmdstanpy - INFO - Chain [1] done processing\n",
      "c:\\Users\\natra\\AppData\\Local\\Programs\\Python\\Python310\\lib\\site-packages\\sklearn\\metrics\\_regression.py:492: FutureWarning: 'squared' is deprecated in version 1.4 and will be removed in 1.6. To calculate the root mean squared error, use the function'root_mean_squared_error'.\n",
      "  warnings.warn(\n",
      "11:33:23 - cmdstanpy - INFO - Chain [1] start processing\n",
      "11:33:23 - cmdstanpy - INFO - Chain [1] done processing\n",
      "c:\\Users\\natra\\AppData\\Local\\Programs\\Python\\Python310\\lib\\site-packages\\sklearn\\metrics\\_regression.py:492: FutureWarning: 'squared' is deprecated in version 1.4 and will be removed in 1.6. To calculate the root mean squared error, use the function'root_mean_squared_error'.\n",
      "  warnings.warn(\n",
      "11:33:24 - cmdstanpy - INFO - Chain [1] start processing\n",
      "11:33:24 - cmdstanpy - INFO - Chain [1] done processing\n",
      "c:\\Users\\natra\\AppData\\Local\\Programs\\Python\\Python310\\lib\\site-packages\\sklearn\\metrics\\_regression.py:492: FutureWarning: 'squared' is deprecated in version 1.4 and will be removed in 1.6. To calculate the root mean squared error, use the function'root_mean_squared_error'.\n",
      "  warnings.warn(\n"
     ]
    },
    {
     "name": "stdout",
     "output_type": "stream",
     "text": [
      "R² Score: 0.608, RMSE: 3.643, MAE: 2.622\n",
      "\n",
      "Evaluating: changepoint_prior_scale=0.01, seasonality_prior_scale=3.1, seasonality_mode=additive\n"
     ]
    },
    {
     "name": "stderr",
     "output_type": "stream",
     "text": [
      "11:33:24 - cmdstanpy - INFO - Chain [1] start processing\n",
      "11:33:24 - cmdstanpy - INFO - Chain [1] done processing\n",
      "c:\\Users\\natra\\AppData\\Local\\Programs\\Python\\Python310\\lib\\site-packages\\sklearn\\metrics\\_regression.py:492: FutureWarning: 'squared' is deprecated in version 1.4 and will be removed in 1.6. To calculate the root mean squared error, use the function'root_mean_squared_error'.\n",
      "  warnings.warn(\n",
      "11:33:25 - cmdstanpy - INFO - Chain [1] start processing\n",
      "11:33:25 - cmdstanpy - INFO - Chain [1] done processing\n",
      "c:\\Users\\natra\\AppData\\Local\\Programs\\Python\\Python310\\lib\\site-packages\\sklearn\\metrics\\_regression.py:492: FutureWarning: 'squared' is deprecated in version 1.4 and will be removed in 1.6. To calculate the root mean squared error, use the function'root_mean_squared_error'.\n",
      "  warnings.warn(\n",
      "11:33:25 - cmdstanpy - INFO - Chain [1] start processing\n",
      "11:33:25 - cmdstanpy - INFO - Chain [1] done processing\n",
      "c:\\Users\\natra\\AppData\\Local\\Programs\\Python\\Python310\\lib\\site-packages\\sklearn\\metrics\\_regression.py:492: FutureWarning: 'squared' is deprecated in version 1.4 and will be removed in 1.6. To calculate the root mean squared error, use the function'root_mean_squared_error'.\n",
      "  warnings.warn(\n",
      "11:33:26 - cmdstanpy - INFO - Chain [1] start processing\n",
      "11:33:26 - cmdstanpy - INFO - Chain [1] done processing\n",
      "c:\\Users\\natra\\AppData\\Local\\Programs\\Python\\Python310\\lib\\site-packages\\sklearn\\metrics\\_regression.py:492: FutureWarning: 'squared' is deprecated in version 1.4 and will be removed in 1.6. To calculate the root mean squared error, use the function'root_mean_squared_error'.\n",
      "  warnings.warn(\n",
      "11:33:26 - cmdstanpy - INFO - Chain [1] start processing\n",
      "11:33:26 - cmdstanpy - INFO - Chain [1] done processing\n",
      "c:\\Users\\natra\\AppData\\Local\\Programs\\Python\\Python310\\lib\\site-packages\\sklearn\\metrics\\_regression.py:492: FutureWarning: 'squared' is deprecated in version 1.4 and will be removed in 1.6. To calculate the root mean squared error, use the function'root_mean_squared_error'.\n",
      "  warnings.warn(\n"
     ]
    },
    {
     "name": "stdout",
     "output_type": "stream",
     "text": [
      "R² Score: 0.601, RMSE: 3.666, MAE: 2.645\n",
      "\n",
      "Evaluating: changepoint_prior_scale=0.01, seasonality_prior_scale=3.1, seasonality_mode=multiplicative\n"
     ]
    },
    {
     "name": "stderr",
     "output_type": "stream",
     "text": [
      "11:33:27 - cmdstanpy - INFO - Chain [1] start processing\n",
      "11:33:27 - cmdstanpy - INFO - Chain [1] done processing\n",
      "c:\\Users\\natra\\AppData\\Local\\Programs\\Python\\Python310\\lib\\site-packages\\sklearn\\metrics\\_regression.py:492: FutureWarning: 'squared' is deprecated in version 1.4 and will be removed in 1.6. To calculate the root mean squared error, use the function'root_mean_squared_error'.\n",
      "  warnings.warn(\n",
      "11:33:27 - cmdstanpy - INFO - Chain [1] start processing\n",
      "11:33:28 - cmdstanpy - INFO - Chain [1] done processing\n",
      "c:\\Users\\natra\\AppData\\Local\\Programs\\Python\\Python310\\lib\\site-packages\\sklearn\\metrics\\_regression.py:492: FutureWarning: 'squared' is deprecated in version 1.4 and will be removed in 1.6. To calculate the root mean squared error, use the function'root_mean_squared_error'.\n",
      "  warnings.warn(\n",
      "11:33:28 - cmdstanpy - INFO - Chain [1] start processing\n",
      "11:33:28 - cmdstanpy - INFO - Chain [1] done processing\n",
      "c:\\Users\\natra\\AppData\\Local\\Programs\\Python\\Python310\\lib\\site-packages\\sklearn\\metrics\\_regression.py:492: FutureWarning: 'squared' is deprecated in version 1.4 and will be removed in 1.6. To calculate the root mean squared error, use the function'root_mean_squared_error'.\n",
      "  warnings.warn(\n",
      "11:33:29 - cmdstanpy - INFO - Chain [1] start processing\n",
      "11:33:29 - cmdstanpy - INFO - Chain [1] done processing\n",
      "c:\\Users\\natra\\AppData\\Local\\Programs\\Python\\Python310\\lib\\site-packages\\sklearn\\metrics\\_regression.py:492: FutureWarning: 'squared' is deprecated in version 1.4 and will be removed in 1.6. To calculate the root mean squared error, use the function'root_mean_squared_error'.\n",
      "  warnings.warn(\n",
      "11:33:29 - cmdstanpy - INFO - Chain [1] start processing\n",
      "11:33:29 - cmdstanpy - INFO - Chain [1] done processing\n",
      "c:\\Users\\natra\\AppData\\Local\\Programs\\Python\\Python310\\lib\\site-packages\\sklearn\\metrics\\_regression.py:492: FutureWarning: 'squared' is deprecated in version 1.4 and will be removed in 1.6. To calculate the root mean squared error, use the function'root_mean_squared_error'.\n",
      "  warnings.warn(\n"
     ]
    },
    {
     "name": "stdout",
     "output_type": "stream",
     "text": [
      "R² Score: 0.608, RMSE: 3.641, MAE: 2.620\n",
      "\n",
      "Evaluating: changepoint_prior_scale=0.01, seasonality_prior_scale=4.1, seasonality_mode=additive\n"
     ]
    },
    {
     "name": "stderr",
     "output_type": "stream",
     "text": [
      "11:33:30 - cmdstanpy - INFO - Chain [1] start processing\n",
      "11:33:30 - cmdstanpy - INFO - Chain [1] done processing\n",
      "c:\\Users\\natra\\AppData\\Local\\Programs\\Python\\Python310\\lib\\site-packages\\sklearn\\metrics\\_regression.py:492: FutureWarning: 'squared' is deprecated in version 1.4 and will be removed in 1.6. To calculate the root mean squared error, use the function'root_mean_squared_error'.\n",
      "  warnings.warn(\n",
      "11:33:30 - cmdstanpy - INFO - Chain [1] start processing\n",
      "11:33:30 - cmdstanpy - INFO - Chain [1] done processing\n",
      "c:\\Users\\natra\\AppData\\Local\\Programs\\Python\\Python310\\lib\\site-packages\\sklearn\\metrics\\_regression.py:492: FutureWarning: 'squared' is deprecated in version 1.4 and will be removed in 1.6. To calculate the root mean squared error, use the function'root_mean_squared_error'.\n",
      "  warnings.warn(\n",
      "11:33:31 - cmdstanpy - INFO - Chain [1] start processing\n",
      "11:33:31 - cmdstanpy - INFO - Chain [1] done processing\n",
      "c:\\Users\\natra\\AppData\\Local\\Programs\\Python\\Python310\\lib\\site-packages\\sklearn\\metrics\\_regression.py:492: FutureWarning: 'squared' is deprecated in version 1.4 and will be removed in 1.6. To calculate the root mean squared error, use the function'root_mean_squared_error'.\n",
      "  warnings.warn(\n",
      "11:33:31 - cmdstanpy - INFO - Chain [1] start processing\n",
      "11:33:32 - cmdstanpy - INFO - Chain [1] done processing\n",
      "c:\\Users\\natra\\AppData\\Local\\Programs\\Python\\Python310\\lib\\site-packages\\sklearn\\metrics\\_regression.py:492: FutureWarning: 'squared' is deprecated in version 1.4 and will be removed in 1.6. To calculate the root mean squared error, use the function'root_mean_squared_error'.\n",
      "  warnings.warn(\n",
      "11:33:32 - cmdstanpy - INFO - Chain [1] start processing\n",
      "11:33:32 - cmdstanpy - INFO - Chain [1] done processing\n",
      "c:\\Users\\natra\\AppData\\Local\\Programs\\Python\\Python310\\lib\\site-packages\\sklearn\\metrics\\_regression.py:492: FutureWarning: 'squared' is deprecated in version 1.4 and will be removed in 1.6. To calculate the root mean squared error, use the function'root_mean_squared_error'.\n",
      "  warnings.warn(\n"
     ]
    },
    {
     "name": "stdout",
     "output_type": "stream",
     "text": [
      "R² Score: 0.603, RMSE: 3.661, MAE: 2.635\n",
      "\n",
      "Evaluating: changepoint_prior_scale=0.01, seasonality_prior_scale=4.1, seasonality_mode=multiplicative\n"
     ]
    },
    {
     "name": "stderr",
     "output_type": "stream",
     "text": [
      "11:33:33 - cmdstanpy - INFO - Chain [1] start processing\n",
      "11:33:33 - cmdstanpy - INFO - Chain [1] done processing\n",
      "c:\\Users\\natra\\AppData\\Local\\Programs\\Python\\Python310\\lib\\site-packages\\sklearn\\metrics\\_regression.py:492: FutureWarning: 'squared' is deprecated in version 1.4 and will be removed in 1.6. To calculate the root mean squared error, use the function'root_mean_squared_error'.\n",
      "  warnings.warn(\n",
      "11:33:33 - cmdstanpy - INFO - Chain [1] start processing\n",
      "11:33:33 - cmdstanpy - INFO - Chain [1] done processing\n",
      "c:\\Users\\natra\\AppData\\Local\\Programs\\Python\\Python310\\lib\\site-packages\\sklearn\\metrics\\_regression.py:492: FutureWarning: 'squared' is deprecated in version 1.4 and will be removed in 1.6. To calculate the root mean squared error, use the function'root_mean_squared_error'.\n",
      "  warnings.warn(\n",
      "11:33:34 - cmdstanpy - INFO - Chain [1] start processing\n",
      "11:33:34 - cmdstanpy - INFO - Chain [1] done processing\n",
      "c:\\Users\\natra\\AppData\\Local\\Programs\\Python\\Python310\\lib\\site-packages\\sklearn\\metrics\\_regression.py:492: FutureWarning: 'squared' is deprecated in version 1.4 and will be removed in 1.6. To calculate the root mean squared error, use the function'root_mean_squared_error'.\n",
      "  warnings.warn(\n",
      "11:33:34 - cmdstanpy - INFO - Chain [1] start processing\n",
      "11:33:35 - cmdstanpy - INFO - Chain [1] done processing\n",
      "c:\\Users\\natra\\AppData\\Local\\Programs\\Python\\Python310\\lib\\site-packages\\sklearn\\metrics\\_regression.py:492: FutureWarning: 'squared' is deprecated in version 1.4 and will be removed in 1.6. To calculate the root mean squared error, use the function'root_mean_squared_error'.\n",
      "  warnings.warn(\n",
      "11:33:35 - cmdstanpy - INFO - Chain [1] start processing\n",
      "11:33:35 - cmdstanpy - INFO - Chain [1] done processing\n",
      "c:\\Users\\natra\\AppData\\Local\\Programs\\Python\\Python310\\lib\\site-packages\\sklearn\\metrics\\_regression.py:492: FutureWarning: 'squared' is deprecated in version 1.4 and will be removed in 1.6. To calculate the root mean squared error, use the function'root_mean_squared_error'.\n",
      "  warnings.warn(\n"
     ]
    },
    {
     "name": "stdout",
     "output_type": "stream",
     "text": [
      "R² Score: 0.607, RMSE: 3.645, MAE: 2.627\n",
      "\n",
      "Evaluating: changepoint_prior_scale=0.01, seasonality_prior_scale=5.1, seasonality_mode=additive\n"
     ]
    },
    {
     "name": "stderr",
     "output_type": "stream",
     "text": [
      "11:33:36 - cmdstanpy - INFO - Chain [1] start processing\n",
      "11:33:36 - cmdstanpy - INFO - Chain [1] done processing\n",
      "c:\\Users\\natra\\AppData\\Local\\Programs\\Python\\Python310\\lib\\site-packages\\sklearn\\metrics\\_regression.py:492: FutureWarning: 'squared' is deprecated in version 1.4 and will be removed in 1.6. To calculate the root mean squared error, use the function'root_mean_squared_error'.\n",
      "  warnings.warn(\n",
      "11:33:36 - cmdstanpy - INFO - Chain [1] start processing\n",
      "11:33:36 - cmdstanpy - INFO - Chain [1] done processing\n",
      "c:\\Users\\natra\\AppData\\Local\\Programs\\Python\\Python310\\lib\\site-packages\\sklearn\\metrics\\_regression.py:492: FutureWarning: 'squared' is deprecated in version 1.4 and will be removed in 1.6. To calculate the root mean squared error, use the function'root_mean_squared_error'.\n",
      "  warnings.warn(\n",
      "11:33:37 - cmdstanpy - INFO - Chain [1] start processing\n",
      "11:33:37 - cmdstanpy - INFO - Chain [1] done processing\n",
      "c:\\Users\\natra\\AppData\\Local\\Programs\\Python\\Python310\\lib\\site-packages\\sklearn\\metrics\\_regression.py:492: FutureWarning: 'squared' is deprecated in version 1.4 and will be removed in 1.6. To calculate the root mean squared error, use the function'root_mean_squared_error'.\n",
      "  warnings.warn(\n",
      "11:33:38 - cmdstanpy - INFO - Chain [1] start processing\n",
      "11:33:38 - cmdstanpy - INFO - Chain [1] done processing\n",
      "c:\\Users\\natra\\AppData\\Local\\Programs\\Python\\Python310\\lib\\site-packages\\sklearn\\metrics\\_regression.py:492: FutureWarning: 'squared' is deprecated in version 1.4 and will be removed in 1.6. To calculate the root mean squared error, use the function'root_mean_squared_error'.\n",
      "  warnings.warn(\n",
      "11:33:38 - cmdstanpy - INFO - Chain [1] start processing\n",
      "11:33:38 - cmdstanpy - INFO - Chain [1] done processing\n",
      "c:\\Users\\natra\\AppData\\Local\\Programs\\Python\\Python310\\lib\\site-packages\\sklearn\\metrics\\_regression.py:492: FutureWarning: 'squared' is deprecated in version 1.4 and will be removed in 1.6. To calculate the root mean squared error, use the function'root_mean_squared_error'.\n",
      "  warnings.warn(\n"
     ]
    },
    {
     "name": "stdout",
     "output_type": "stream",
     "text": [
      "R² Score: 0.603, RMSE: 3.659, MAE: 2.633\n",
      "\n",
      "Evaluating: changepoint_prior_scale=0.01, seasonality_prior_scale=5.1, seasonality_mode=multiplicative\n"
     ]
    },
    {
     "name": "stderr",
     "output_type": "stream",
     "text": [
      "11:33:39 - cmdstanpy - INFO - Chain [1] start processing\n",
      "11:33:39 - cmdstanpy - INFO - Chain [1] done processing\n",
      "c:\\Users\\natra\\AppData\\Local\\Programs\\Python\\Python310\\lib\\site-packages\\sklearn\\metrics\\_regression.py:492: FutureWarning: 'squared' is deprecated in version 1.4 and will be removed in 1.6. To calculate the root mean squared error, use the function'root_mean_squared_error'.\n",
      "  warnings.warn(\n",
      "11:33:40 - cmdstanpy - INFO - Chain [1] start processing\n",
      "11:33:40 - cmdstanpy - INFO - Chain [1] done processing\n",
      "c:\\Users\\natra\\AppData\\Local\\Programs\\Python\\Python310\\lib\\site-packages\\sklearn\\metrics\\_regression.py:492: FutureWarning: 'squared' is deprecated in version 1.4 and will be removed in 1.6. To calculate the root mean squared error, use the function'root_mean_squared_error'.\n",
      "  warnings.warn(\n",
      "11:33:40 - cmdstanpy - INFO - Chain [1] start processing\n",
      "11:33:40 - cmdstanpy - INFO - Chain [1] done processing\n",
      "c:\\Users\\natra\\AppData\\Local\\Programs\\Python\\Python310\\lib\\site-packages\\sklearn\\metrics\\_regression.py:492: FutureWarning: 'squared' is deprecated in version 1.4 and will be removed in 1.6. To calculate the root mean squared error, use the function'root_mean_squared_error'.\n",
      "  warnings.warn(\n",
      "11:33:41 - cmdstanpy - INFO - Chain [1] start processing\n",
      "11:33:41 - cmdstanpy - INFO - Chain [1] done processing\n",
      "c:\\Users\\natra\\AppData\\Local\\Programs\\Python\\Python310\\lib\\site-packages\\sklearn\\metrics\\_regression.py:492: FutureWarning: 'squared' is deprecated in version 1.4 and will be removed in 1.6. To calculate the root mean squared error, use the function'root_mean_squared_error'.\n",
      "  warnings.warn(\n",
      "11:33:41 - cmdstanpy - INFO - Chain [1] start processing\n",
      "11:33:41 - cmdstanpy - INFO - Chain [1] done processing\n",
      "c:\\Users\\natra\\AppData\\Local\\Programs\\Python\\Python310\\lib\\site-packages\\sklearn\\metrics\\_regression.py:492: FutureWarning: 'squared' is deprecated in version 1.4 and will be removed in 1.6. To calculate the root mean squared error, use the function'root_mean_squared_error'.\n",
      "  warnings.warn(\n"
     ]
    },
    {
     "name": "stdout",
     "output_type": "stream",
     "text": [
      "R² Score: 0.608, RMSE: 3.640, MAE: 2.616\n",
      "\n",
      "Evaluating: changepoint_prior_scale=0.01, seasonality_prior_scale=6.1, seasonality_mode=additive\n"
     ]
    },
    {
     "name": "stderr",
     "output_type": "stream",
     "text": [
      "11:33:42 - cmdstanpy - INFO - Chain [1] start processing\n",
      "11:33:42 - cmdstanpy - INFO - Chain [1] done processing\n",
      "c:\\Users\\natra\\AppData\\Local\\Programs\\Python\\Python310\\lib\\site-packages\\sklearn\\metrics\\_regression.py:492: FutureWarning: 'squared' is deprecated in version 1.4 and will be removed in 1.6. To calculate the root mean squared error, use the function'root_mean_squared_error'.\n",
      "  warnings.warn(\n",
      "11:33:43 - cmdstanpy - INFO - Chain [1] start processing\n",
      "11:33:43 - cmdstanpy - INFO - Chain [1] done processing\n",
      "c:\\Users\\natra\\AppData\\Local\\Programs\\Python\\Python310\\lib\\site-packages\\sklearn\\metrics\\_regression.py:492: FutureWarning: 'squared' is deprecated in version 1.4 and will be removed in 1.6. To calculate the root mean squared error, use the function'root_mean_squared_error'.\n",
      "  warnings.warn(\n",
      "11:33:43 - cmdstanpy - INFO - Chain [1] start processing\n",
      "11:33:43 - cmdstanpy - INFO - Chain [1] done processing\n",
      "c:\\Users\\natra\\AppData\\Local\\Programs\\Python\\Python310\\lib\\site-packages\\sklearn\\metrics\\_regression.py:492: FutureWarning: 'squared' is deprecated in version 1.4 and will be removed in 1.6. To calculate the root mean squared error, use the function'root_mean_squared_error'.\n",
      "  warnings.warn(\n",
      "11:33:44 - cmdstanpy - INFO - Chain [1] start processing\n",
      "11:33:44 - cmdstanpy - INFO - Chain [1] done processing\n",
      "c:\\Users\\natra\\AppData\\Local\\Programs\\Python\\Python310\\lib\\site-packages\\sklearn\\metrics\\_regression.py:492: FutureWarning: 'squared' is deprecated in version 1.4 and will be removed in 1.6. To calculate the root mean squared error, use the function'root_mean_squared_error'.\n",
      "  warnings.warn(\n",
      "11:33:44 - cmdstanpy - INFO - Chain [1] start processing\n",
      "11:33:44 - cmdstanpy - INFO - Chain [1] done processing\n",
      "c:\\Users\\natra\\AppData\\Local\\Programs\\Python\\Python310\\lib\\site-packages\\sklearn\\metrics\\_regression.py:492: FutureWarning: 'squared' is deprecated in version 1.4 and will be removed in 1.6. To calculate the root mean squared error, use the function'root_mean_squared_error'.\n",
      "  warnings.warn(\n"
     ]
    },
    {
     "name": "stdout",
     "output_type": "stream",
     "text": [
      "R² Score: 0.602, RMSE: 3.664, MAE: 2.642\n",
      "\n",
      "Evaluating: changepoint_prior_scale=0.01, seasonality_prior_scale=6.1, seasonality_mode=multiplicative\n"
     ]
    },
    {
     "name": "stderr",
     "output_type": "stream",
     "text": [
      "11:33:45 - cmdstanpy - INFO - Chain [1] start processing\n",
      "11:33:45 - cmdstanpy - INFO - Chain [1] done processing\n",
      "c:\\Users\\natra\\AppData\\Local\\Programs\\Python\\Python310\\lib\\site-packages\\sklearn\\metrics\\_regression.py:492: FutureWarning: 'squared' is deprecated in version 1.4 and will be removed in 1.6. To calculate the root mean squared error, use the function'root_mean_squared_error'.\n",
      "  warnings.warn(\n",
      "11:33:45 - cmdstanpy - INFO - Chain [1] start processing\n",
      "11:33:46 - cmdstanpy - INFO - Chain [1] done processing\n",
      "c:\\Users\\natra\\AppData\\Local\\Programs\\Python\\Python310\\lib\\site-packages\\sklearn\\metrics\\_regression.py:492: FutureWarning: 'squared' is deprecated in version 1.4 and will be removed in 1.6. To calculate the root mean squared error, use the function'root_mean_squared_error'.\n",
      "  warnings.warn(\n",
      "11:33:46 - cmdstanpy - INFO - Chain [1] start processing\n",
      "11:33:46 - cmdstanpy - INFO - Chain [1] done processing\n",
      "c:\\Users\\natra\\AppData\\Local\\Programs\\Python\\Python310\\lib\\site-packages\\sklearn\\metrics\\_regression.py:492: FutureWarning: 'squared' is deprecated in version 1.4 and will be removed in 1.6. To calculate the root mean squared error, use the function'root_mean_squared_error'.\n",
      "  warnings.warn(\n",
      "11:33:47 - cmdstanpy - INFO - Chain [1] start processing\n",
      "11:33:47 - cmdstanpy - INFO - Chain [1] done processing\n",
      "c:\\Users\\natra\\AppData\\Local\\Programs\\Python\\Python310\\lib\\site-packages\\sklearn\\metrics\\_regression.py:492: FutureWarning: 'squared' is deprecated in version 1.4 and will be removed in 1.6. To calculate the root mean squared error, use the function'root_mean_squared_error'.\n",
      "  warnings.warn(\n",
      "11:33:47 - cmdstanpy - INFO - Chain [1] start processing\n",
      "11:33:47 - cmdstanpy - INFO - Chain [1] done processing\n",
      "c:\\Users\\natra\\AppData\\Local\\Programs\\Python\\Python310\\lib\\site-packages\\sklearn\\metrics\\_regression.py:492: FutureWarning: 'squared' is deprecated in version 1.4 and will be removed in 1.6. To calculate the root mean squared error, use the function'root_mean_squared_error'.\n",
      "  warnings.warn(\n"
     ]
    },
    {
     "name": "stdout",
     "output_type": "stream",
     "text": [
      "R² Score: 0.607, RMSE: 3.647, MAE: 2.625\n",
      "\n",
      "Evaluating: changepoint_prior_scale=0.01, seasonality_prior_scale=7.1, seasonality_mode=additive\n"
     ]
    },
    {
     "name": "stderr",
     "output_type": "stream",
     "text": [
      "11:33:48 - cmdstanpy - INFO - Chain [1] start processing\n",
      "11:33:48 - cmdstanpy - INFO - Chain [1] done processing\n",
      "c:\\Users\\natra\\AppData\\Local\\Programs\\Python\\Python310\\lib\\site-packages\\sklearn\\metrics\\_regression.py:492: FutureWarning: 'squared' is deprecated in version 1.4 and will be removed in 1.6. To calculate the root mean squared error, use the function'root_mean_squared_error'.\n",
      "  warnings.warn(\n",
      "11:33:48 - cmdstanpy - INFO - Chain [1] start processing\n",
      "11:33:48 - cmdstanpy - INFO - Chain [1] done processing\n",
      "c:\\Users\\natra\\AppData\\Local\\Programs\\Python\\Python310\\lib\\site-packages\\sklearn\\metrics\\_regression.py:492: FutureWarning: 'squared' is deprecated in version 1.4 and will be removed in 1.6. To calculate the root mean squared error, use the function'root_mean_squared_error'.\n",
      "  warnings.warn(\n",
      "11:33:49 - cmdstanpy - INFO - Chain [1] start processing\n",
      "11:33:49 - cmdstanpy - INFO - Chain [1] done processing\n",
      "c:\\Users\\natra\\AppData\\Local\\Programs\\Python\\Python310\\lib\\site-packages\\sklearn\\metrics\\_regression.py:492: FutureWarning: 'squared' is deprecated in version 1.4 and will be removed in 1.6. To calculate the root mean squared error, use the function'root_mean_squared_error'.\n",
      "  warnings.warn(\n",
      "11:33:49 - cmdstanpy - INFO - Chain [1] start processing\n",
      "11:33:49 - cmdstanpy - INFO - Chain [1] done processing\n",
      "c:\\Users\\natra\\AppData\\Local\\Programs\\Python\\Python310\\lib\\site-packages\\sklearn\\metrics\\_regression.py:492: FutureWarning: 'squared' is deprecated in version 1.4 and will be removed in 1.6. To calculate the root mean squared error, use the function'root_mean_squared_error'.\n",
      "  warnings.warn(\n",
      "11:33:50 - cmdstanpy - INFO - Chain [1] start processing\n",
      "11:33:50 - cmdstanpy - INFO - Chain [1] done processing\n",
      "c:\\Users\\natra\\AppData\\Local\\Programs\\Python\\Python310\\lib\\site-packages\\sklearn\\metrics\\_regression.py:492: FutureWarning: 'squared' is deprecated in version 1.4 and will be removed in 1.6. To calculate the root mean squared error, use the function'root_mean_squared_error'.\n",
      "  warnings.warn(\n"
     ]
    },
    {
     "name": "stdout",
     "output_type": "stream",
     "text": [
      "R² Score: 0.601, RMSE: 3.666, MAE: 2.642\n",
      "\n",
      "Evaluating: changepoint_prior_scale=0.01, seasonality_prior_scale=7.1, seasonality_mode=multiplicative\n"
     ]
    },
    {
     "name": "stderr",
     "output_type": "stream",
     "text": [
      "11:33:50 - cmdstanpy - INFO - Chain [1] start processing\n",
      "11:33:51 - cmdstanpy - INFO - Chain [1] done processing\n",
      "c:\\Users\\natra\\AppData\\Local\\Programs\\Python\\Python310\\lib\\site-packages\\sklearn\\metrics\\_regression.py:492: FutureWarning: 'squared' is deprecated in version 1.4 and will be removed in 1.6. To calculate the root mean squared error, use the function'root_mean_squared_error'.\n",
      "  warnings.warn(\n",
      "11:33:51 - cmdstanpy - INFO - Chain [1] start processing\n",
      "11:33:51 - cmdstanpy - INFO - Chain [1] done processing\n",
      "c:\\Users\\natra\\AppData\\Local\\Programs\\Python\\Python310\\lib\\site-packages\\sklearn\\metrics\\_regression.py:492: FutureWarning: 'squared' is deprecated in version 1.4 and will be removed in 1.6. To calculate the root mean squared error, use the function'root_mean_squared_error'.\n",
      "  warnings.warn(\n",
      "11:33:52 - cmdstanpy - INFO - Chain [1] start processing\n",
      "11:33:52 - cmdstanpy - INFO - Chain [1] done processing\n",
      "c:\\Users\\natra\\AppData\\Local\\Programs\\Python\\Python310\\lib\\site-packages\\sklearn\\metrics\\_regression.py:492: FutureWarning: 'squared' is deprecated in version 1.4 and will be removed in 1.6. To calculate the root mean squared error, use the function'root_mean_squared_error'.\n",
      "  warnings.warn(\n",
      "11:33:52 - cmdstanpy - INFO - Chain [1] start processing\n",
      "11:33:52 - cmdstanpy - INFO - Chain [1] done processing\n",
      "c:\\Users\\natra\\AppData\\Local\\Programs\\Python\\Python310\\lib\\site-packages\\sklearn\\metrics\\_regression.py:492: FutureWarning: 'squared' is deprecated in version 1.4 and will be removed in 1.6. To calculate the root mean squared error, use the function'root_mean_squared_error'.\n",
      "  warnings.warn(\n",
      "11:33:53 - cmdstanpy - INFO - Chain [1] start processing\n",
      "11:33:53 - cmdstanpy - INFO - Chain [1] done processing\n",
      "c:\\Users\\natra\\AppData\\Local\\Programs\\Python\\Python310\\lib\\site-packages\\sklearn\\metrics\\_regression.py:492: FutureWarning: 'squared' is deprecated in version 1.4 and will be removed in 1.6. To calculate the root mean squared error, use the function'root_mean_squared_error'.\n",
      "  warnings.warn(\n"
     ]
    },
    {
     "name": "stdout",
     "output_type": "stream",
     "text": [
      "R² Score: 0.609, RMSE: 3.639, MAE: 2.615\n",
      "\n",
      "Evaluating: changepoint_prior_scale=0.01, seasonality_prior_scale=8.1, seasonality_mode=additive\n"
     ]
    },
    {
     "name": "stderr",
     "output_type": "stream",
     "text": [
      "11:33:53 - cmdstanpy - INFO - Chain [1] start processing\n",
      "11:33:53 - cmdstanpy - INFO - Chain [1] done processing\n",
      "c:\\Users\\natra\\AppData\\Local\\Programs\\Python\\Python310\\lib\\site-packages\\sklearn\\metrics\\_regression.py:492: FutureWarning: 'squared' is deprecated in version 1.4 and will be removed in 1.6. To calculate the root mean squared error, use the function'root_mean_squared_error'.\n",
      "  warnings.warn(\n",
      "11:33:54 - cmdstanpy - INFO - Chain [1] start processing\n",
      "11:33:54 - cmdstanpy - INFO - Chain [1] done processing\n",
      "c:\\Users\\natra\\AppData\\Local\\Programs\\Python\\Python310\\lib\\site-packages\\sklearn\\metrics\\_regression.py:492: FutureWarning: 'squared' is deprecated in version 1.4 and will be removed in 1.6. To calculate the root mean squared error, use the function'root_mean_squared_error'.\n",
      "  warnings.warn(\n",
      "11:33:54 - cmdstanpy - INFO - Chain [1] start processing\n",
      "11:33:54 - cmdstanpy - INFO - Chain [1] done processing\n",
      "c:\\Users\\natra\\AppData\\Local\\Programs\\Python\\Python310\\lib\\site-packages\\sklearn\\metrics\\_regression.py:492: FutureWarning: 'squared' is deprecated in version 1.4 and will be removed in 1.6. To calculate the root mean squared error, use the function'root_mean_squared_error'.\n",
      "  warnings.warn(\n",
      "11:33:55 - cmdstanpy - INFO - Chain [1] start processing\n",
      "11:33:55 - cmdstanpy - INFO - Chain [1] done processing\n",
      "c:\\Users\\natra\\AppData\\Local\\Programs\\Python\\Python310\\lib\\site-packages\\sklearn\\metrics\\_regression.py:492: FutureWarning: 'squared' is deprecated in version 1.4 and will be removed in 1.6. To calculate the root mean squared error, use the function'root_mean_squared_error'.\n",
      "  warnings.warn(\n",
      "11:33:55 - cmdstanpy - INFO - Chain [1] start processing\n",
      "11:33:55 - cmdstanpy - INFO - Chain [1] done processing\n",
      "c:\\Users\\natra\\AppData\\Local\\Programs\\Python\\Python310\\lib\\site-packages\\sklearn\\metrics\\_regression.py:492: FutureWarning: 'squared' is deprecated in version 1.4 and will be removed in 1.6. To calculate the root mean squared error, use the function'root_mean_squared_error'.\n",
      "  warnings.warn(\n"
     ]
    },
    {
     "name": "stdout",
     "output_type": "stream",
     "text": [
      "R² Score: 0.603, RMSE: 3.660, MAE: 2.635\n",
      "\n",
      "Evaluating: changepoint_prior_scale=0.01, seasonality_prior_scale=8.1, seasonality_mode=multiplicative\n"
     ]
    },
    {
     "name": "stderr",
     "output_type": "stream",
     "text": [
      "11:33:56 - cmdstanpy - INFO - Chain [1] start processing\n",
      "11:33:56 - cmdstanpy - INFO - Chain [1] done processing\n",
      "c:\\Users\\natra\\AppData\\Local\\Programs\\Python\\Python310\\lib\\site-packages\\sklearn\\metrics\\_regression.py:492: FutureWarning: 'squared' is deprecated in version 1.4 and will be removed in 1.6. To calculate the root mean squared error, use the function'root_mean_squared_error'.\n",
      "  warnings.warn(\n",
      "11:33:56 - cmdstanpy - INFO - Chain [1] start processing\n",
      "11:33:57 - cmdstanpy - INFO - Chain [1] done processing\n",
      "c:\\Users\\natra\\AppData\\Local\\Programs\\Python\\Python310\\lib\\site-packages\\sklearn\\metrics\\_regression.py:492: FutureWarning: 'squared' is deprecated in version 1.4 and will be removed in 1.6. To calculate the root mean squared error, use the function'root_mean_squared_error'.\n",
      "  warnings.warn(\n",
      "11:33:57 - cmdstanpy - INFO - Chain [1] start processing\n",
      "11:33:57 - cmdstanpy - INFO - Chain [1] done processing\n",
      "c:\\Users\\natra\\AppData\\Local\\Programs\\Python\\Python310\\lib\\site-packages\\sklearn\\metrics\\_regression.py:492: FutureWarning: 'squared' is deprecated in version 1.4 and will be removed in 1.6. To calculate the root mean squared error, use the function'root_mean_squared_error'.\n",
      "  warnings.warn(\n",
      "11:33:58 - cmdstanpy - INFO - Chain [1] start processing\n",
      "11:33:58 - cmdstanpy - INFO - Chain [1] done processing\n",
      "c:\\Users\\natra\\AppData\\Local\\Programs\\Python\\Python310\\lib\\site-packages\\sklearn\\metrics\\_regression.py:492: FutureWarning: 'squared' is deprecated in version 1.4 and will be removed in 1.6. To calculate the root mean squared error, use the function'root_mean_squared_error'.\n",
      "  warnings.warn(\n",
      "11:33:58 - cmdstanpy - INFO - Chain [1] start processing\n",
      "11:33:58 - cmdstanpy - INFO - Chain [1] done processing\n",
      "c:\\Users\\natra\\AppData\\Local\\Programs\\Python\\Python310\\lib\\site-packages\\sklearn\\metrics\\_regression.py:492: FutureWarning: 'squared' is deprecated in version 1.4 and will be removed in 1.6. To calculate the root mean squared error, use the function'root_mean_squared_error'.\n",
      "  warnings.warn(\n"
     ]
    },
    {
     "name": "stdout",
     "output_type": "stream",
     "text": [
      "R² Score: 0.608, RMSE: 3.642, MAE: 2.619\n",
      "\n",
      "Evaluating: changepoint_prior_scale=0.01, seasonality_prior_scale=9.1, seasonality_mode=additive\n"
     ]
    },
    {
     "name": "stderr",
     "output_type": "stream",
     "text": [
      "11:33:59 - cmdstanpy - INFO - Chain [1] start processing\n",
      "11:33:59 - cmdstanpy - INFO - Chain [1] done processing\n",
      "c:\\Users\\natra\\AppData\\Local\\Programs\\Python\\Python310\\lib\\site-packages\\sklearn\\metrics\\_regression.py:492: FutureWarning: 'squared' is deprecated in version 1.4 and will be removed in 1.6. To calculate the root mean squared error, use the function'root_mean_squared_error'.\n",
      "  warnings.warn(\n",
      "11:33:59 - cmdstanpy - INFO - Chain [1] start processing\n",
      "11:33:59 - cmdstanpy - INFO - Chain [1] done processing\n",
      "c:\\Users\\natra\\AppData\\Local\\Programs\\Python\\Python310\\lib\\site-packages\\sklearn\\metrics\\_regression.py:492: FutureWarning: 'squared' is deprecated in version 1.4 and will be removed in 1.6. To calculate the root mean squared error, use the function'root_mean_squared_error'.\n",
      "  warnings.warn(\n",
      "11:34:00 - cmdstanpy - INFO - Chain [1] start processing\n",
      "11:34:00 - cmdstanpy - INFO - Chain [1] done processing\n",
      "c:\\Users\\natra\\AppData\\Local\\Programs\\Python\\Python310\\lib\\site-packages\\sklearn\\metrics\\_regression.py:492: FutureWarning: 'squared' is deprecated in version 1.4 and will be removed in 1.6. To calculate the root mean squared error, use the function'root_mean_squared_error'.\n",
      "  warnings.warn(\n",
      "11:34:00 - cmdstanpy - INFO - Chain [1] start processing\n",
      "11:34:01 - cmdstanpy - INFO - Chain [1] done processing\n",
      "c:\\Users\\natra\\AppData\\Local\\Programs\\Python\\Python310\\lib\\site-packages\\sklearn\\metrics\\_regression.py:492: FutureWarning: 'squared' is deprecated in version 1.4 and will be removed in 1.6. To calculate the root mean squared error, use the function'root_mean_squared_error'.\n",
      "  warnings.warn(\n",
      "11:34:01 - cmdstanpy - INFO - Chain [1] start processing\n",
      "11:34:01 - cmdstanpy - INFO - Chain [1] done processing\n",
      "c:\\Users\\natra\\AppData\\Local\\Programs\\Python\\Python310\\lib\\site-packages\\sklearn\\metrics\\_regression.py:492: FutureWarning: 'squared' is deprecated in version 1.4 and will be removed in 1.6. To calculate the root mean squared error, use the function'root_mean_squared_error'.\n",
      "  warnings.warn(\n"
     ]
    },
    {
     "name": "stdout",
     "output_type": "stream",
     "text": [
      "R² Score: 0.604, RMSE: 3.658, MAE: 2.632\n",
      "\n",
      "Evaluating: changepoint_prior_scale=0.01, seasonality_prior_scale=9.1, seasonality_mode=multiplicative\n"
     ]
    },
    {
     "name": "stderr",
     "output_type": "stream",
     "text": [
      "11:34:02 - cmdstanpy - INFO - Chain [1] start processing\n",
      "11:34:02 - cmdstanpy - INFO - Chain [1] done processing\n",
      "c:\\Users\\natra\\AppData\\Local\\Programs\\Python\\Python310\\lib\\site-packages\\sklearn\\metrics\\_regression.py:492: FutureWarning: 'squared' is deprecated in version 1.4 and will be removed in 1.6. To calculate the root mean squared error, use the function'root_mean_squared_error'.\n",
      "  warnings.warn(\n",
      "11:34:02 - cmdstanpy - INFO - Chain [1] start processing\n",
      "11:34:02 - cmdstanpy - INFO - Chain [1] done processing\n",
      "c:\\Users\\natra\\AppData\\Local\\Programs\\Python\\Python310\\lib\\site-packages\\sklearn\\metrics\\_regression.py:492: FutureWarning: 'squared' is deprecated in version 1.4 and will be removed in 1.6. To calculate the root mean squared error, use the function'root_mean_squared_error'.\n",
      "  warnings.warn(\n",
      "11:34:03 - cmdstanpy - INFO - Chain [1] start processing\n",
      "11:34:03 - cmdstanpy - INFO - Chain [1] done processing\n",
      "c:\\Users\\natra\\AppData\\Local\\Programs\\Python\\Python310\\lib\\site-packages\\sklearn\\metrics\\_regression.py:492: FutureWarning: 'squared' is deprecated in version 1.4 and will be removed in 1.6. To calculate the root mean squared error, use the function'root_mean_squared_error'.\n",
      "  warnings.warn(\n",
      "11:34:03 - cmdstanpy - INFO - Chain [1] start processing\n",
      "11:34:03 - cmdstanpy - INFO - Chain [1] done processing\n",
      "c:\\Users\\natra\\AppData\\Local\\Programs\\Python\\Python310\\lib\\site-packages\\sklearn\\metrics\\_regression.py:492: FutureWarning: 'squared' is deprecated in version 1.4 and will be removed in 1.6. To calculate the root mean squared error, use the function'root_mean_squared_error'.\n",
      "  warnings.warn(\n",
      "11:34:04 - cmdstanpy - INFO - Chain [1] start processing\n",
      "11:34:04 - cmdstanpy - INFO - Chain [1] done processing\n",
      "c:\\Users\\natra\\AppData\\Local\\Programs\\Python\\Python310\\lib\\site-packages\\sklearn\\metrics\\_regression.py:492: FutureWarning: 'squared' is deprecated in version 1.4 and will be removed in 1.6. To calculate the root mean squared error, use the function'root_mean_squared_error'.\n",
      "  warnings.warn(\n"
     ]
    },
    {
     "name": "stdout",
     "output_type": "stream",
     "text": [
      "R² Score: 0.607, RMSE: 3.644, MAE: 2.621\n",
      "\n",
      "Evaluating: changepoint_prior_scale=0.01, seasonality_prior_scale=10.1, seasonality_mode=additive\n"
     ]
    },
    {
     "name": "stderr",
     "output_type": "stream",
     "text": [
      "11:34:04 - cmdstanpy - INFO - Chain [1] start processing\n",
      "11:34:04 - cmdstanpy - INFO - Chain [1] done processing\n",
      "c:\\Users\\natra\\AppData\\Local\\Programs\\Python\\Python310\\lib\\site-packages\\sklearn\\metrics\\_regression.py:492: FutureWarning: 'squared' is deprecated in version 1.4 and will be removed in 1.6. To calculate the root mean squared error, use the function'root_mean_squared_error'.\n",
      "  warnings.warn(\n",
      "11:34:05 - cmdstanpy - INFO - Chain [1] start processing\n",
      "11:34:05 - cmdstanpy - INFO - Chain [1] done processing\n",
      "c:\\Users\\natra\\AppData\\Local\\Programs\\Python\\Python310\\lib\\site-packages\\sklearn\\metrics\\_regression.py:492: FutureWarning: 'squared' is deprecated in version 1.4 and will be removed in 1.6. To calculate the root mean squared error, use the function'root_mean_squared_error'.\n",
      "  warnings.warn(\n",
      "11:34:05 - cmdstanpy - INFO - Chain [1] start processing\n",
      "11:34:05 - cmdstanpy - INFO - Chain [1] done processing\n",
      "c:\\Users\\natra\\AppData\\Local\\Programs\\Python\\Python310\\lib\\site-packages\\sklearn\\metrics\\_regression.py:492: FutureWarning: 'squared' is deprecated in version 1.4 and will be removed in 1.6. To calculate the root mean squared error, use the function'root_mean_squared_error'.\n",
      "  warnings.warn(\n",
      "11:34:06 - cmdstanpy - INFO - Chain [1] start processing\n",
      "11:34:06 - cmdstanpy - INFO - Chain [1] done processing\n",
      "c:\\Users\\natra\\AppData\\Local\\Programs\\Python\\Python310\\lib\\site-packages\\sklearn\\metrics\\_regression.py:492: FutureWarning: 'squared' is deprecated in version 1.4 and will be removed in 1.6. To calculate the root mean squared error, use the function'root_mean_squared_error'.\n",
      "  warnings.warn(\n",
      "11:34:06 - cmdstanpy - INFO - Chain [1] start processing\n",
      "11:34:07 - cmdstanpy - INFO - Chain [1] done processing\n",
      "c:\\Users\\natra\\AppData\\Local\\Programs\\Python\\Python310\\lib\\site-packages\\sklearn\\metrics\\_regression.py:492: FutureWarning: 'squared' is deprecated in version 1.4 and will be removed in 1.6. To calculate the root mean squared error, use the function'root_mean_squared_error'.\n",
      "  warnings.warn(\n"
     ]
    },
    {
     "name": "stdout",
     "output_type": "stream",
     "text": [
      "R² Score: 0.602, RMSE: 3.662, MAE: 2.638\n",
      "\n",
      "Evaluating: changepoint_prior_scale=0.01, seasonality_prior_scale=10.1, seasonality_mode=multiplicative\n"
     ]
    },
    {
     "name": "stderr",
     "output_type": "stream",
     "text": [
      "11:34:07 - cmdstanpy - INFO - Chain [1] start processing\n",
      "11:34:07 - cmdstanpy - INFO - Chain [1] done processing\n",
      "c:\\Users\\natra\\AppData\\Local\\Programs\\Python\\Python310\\lib\\site-packages\\sklearn\\metrics\\_regression.py:492: FutureWarning: 'squared' is deprecated in version 1.4 and will be removed in 1.6. To calculate the root mean squared error, use the function'root_mean_squared_error'.\n",
      "  warnings.warn(\n",
      "11:34:08 - cmdstanpy - INFO - Chain [1] start processing\n",
      "11:34:08 - cmdstanpy - INFO - Chain [1] done processing\n",
      "c:\\Users\\natra\\AppData\\Local\\Programs\\Python\\Python310\\lib\\site-packages\\sklearn\\metrics\\_regression.py:492: FutureWarning: 'squared' is deprecated in version 1.4 and will be removed in 1.6. To calculate the root mean squared error, use the function'root_mean_squared_error'.\n",
      "  warnings.warn(\n",
      "11:34:08 - cmdstanpy - INFO - Chain [1] start processing\n",
      "11:34:08 - cmdstanpy - INFO - Chain [1] done processing\n",
      "c:\\Users\\natra\\AppData\\Local\\Programs\\Python\\Python310\\lib\\site-packages\\sklearn\\metrics\\_regression.py:492: FutureWarning: 'squared' is deprecated in version 1.4 and will be removed in 1.6. To calculate the root mean squared error, use the function'root_mean_squared_error'.\n",
      "  warnings.warn(\n",
      "11:34:09 - cmdstanpy - INFO - Chain [1] start processing\n",
      "11:34:09 - cmdstanpy - INFO - Chain [1] done processing\n",
      "c:\\Users\\natra\\AppData\\Local\\Programs\\Python\\Python310\\lib\\site-packages\\sklearn\\metrics\\_regression.py:492: FutureWarning: 'squared' is deprecated in version 1.4 and will be removed in 1.6. To calculate the root mean squared error, use the function'root_mean_squared_error'.\n",
      "  warnings.warn(\n",
      "11:34:09 - cmdstanpy - INFO - Chain [1] start processing\n",
      "11:34:09 - cmdstanpy - INFO - Chain [1] done processing\n",
      "c:\\Users\\natra\\AppData\\Local\\Programs\\Python\\Python310\\lib\\site-packages\\sklearn\\metrics\\_regression.py:492: FutureWarning: 'squared' is deprecated in version 1.4 and will be removed in 1.6. To calculate the root mean squared error, use the function'root_mean_squared_error'.\n",
      "  warnings.warn(\n"
     ]
    },
    {
     "name": "stdout",
     "output_type": "stream",
     "text": [
      "R² Score: 0.608, RMSE: 3.639, MAE: 2.616\n",
      "\n",
      "Evaluating: changepoint_prior_scale=0.02, seasonality_prior_scale=0.1, seasonality_mode=additive\n"
     ]
    },
    {
     "name": "stderr",
     "output_type": "stream",
     "text": [
      "11:34:10 - cmdstanpy - INFO - Chain [1] start processing\n",
      "11:34:10 - cmdstanpy - INFO - Chain [1] done processing\n",
      "c:\\Users\\natra\\AppData\\Local\\Programs\\Python\\Python310\\lib\\site-packages\\sklearn\\metrics\\_regression.py:492: FutureWarning: 'squared' is deprecated in version 1.4 and will be removed in 1.6. To calculate the root mean squared error, use the function'root_mean_squared_error'.\n",
      "  warnings.warn(\n",
      "11:34:10 - cmdstanpy - INFO - Chain [1] start processing\n",
      "11:34:11 - cmdstanpy - INFO - Chain [1] done processing\n",
      "c:\\Users\\natra\\AppData\\Local\\Programs\\Python\\Python310\\lib\\site-packages\\sklearn\\metrics\\_regression.py:492: FutureWarning: 'squared' is deprecated in version 1.4 and will be removed in 1.6. To calculate the root mean squared error, use the function'root_mean_squared_error'.\n",
      "  warnings.warn(\n",
      "11:34:11 - cmdstanpy - INFO - Chain [1] start processing\n",
      "11:34:11 - cmdstanpy - INFO - Chain [1] done processing\n",
      "c:\\Users\\natra\\AppData\\Local\\Programs\\Python\\Python310\\lib\\site-packages\\sklearn\\metrics\\_regression.py:492: FutureWarning: 'squared' is deprecated in version 1.4 and will be removed in 1.6. To calculate the root mean squared error, use the function'root_mean_squared_error'.\n",
      "  warnings.warn(\n",
      "11:34:12 - cmdstanpy - INFO - Chain [1] start processing\n",
      "11:34:12 - cmdstanpy - INFO - Chain [1] done processing\n",
      "c:\\Users\\natra\\AppData\\Local\\Programs\\Python\\Python310\\lib\\site-packages\\sklearn\\metrics\\_regression.py:492: FutureWarning: 'squared' is deprecated in version 1.4 and will be removed in 1.6. To calculate the root mean squared error, use the function'root_mean_squared_error'.\n",
      "  warnings.warn(\n",
      "11:34:12 - cmdstanpy - INFO - Chain [1] start processing\n",
      "11:34:12 - cmdstanpy - INFO - Chain [1] done processing\n",
      "c:\\Users\\natra\\AppData\\Local\\Programs\\Python\\Python310\\lib\\site-packages\\sklearn\\metrics\\_regression.py:492: FutureWarning: 'squared' is deprecated in version 1.4 and will be removed in 1.6. To calculate the root mean squared error, use the function'root_mean_squared_error'.\n",
      "  warnings.warn(\n"
     ]
    },
    {
     "name": "stdout",
     "output_type": "stream",
     "text": [
      "R² Score: 0.603, RMSE: 3.663, MAE: 2.646\n",
      "\n",
      "Evaluating: changepoint_prior_scale=0.02, seasonality_prior_scale=0.1, seasonality_mode=multiplicative\n"
     ]
    },
    {
     "name": "stderr",
     "output_type": "stream",
     "text": [
      "11:34:13 - cmdstanpy - INFO - Chain [1] start processing\n",
      "11:34:13 - cmdstanpy - INFO - Chain [1] done processing\n",
      "c:\\Users\\natra\\AppData\\Local\\Programs\\Python\\Python310\\lib\\site-packages\\sklearn\\metrics\\_regression.py:492: FutureWarning: 'squared' is deprecated in version 1.4 and will be removed in 1.6. To calculate the root mean squared error, use the function'root_mean_squared_error'.\n",
      "  warnings.warn(\n",
      "11:34:14 - cmdstanpy - INFO - Chain [1] start processing\n",
      "11:34:14 - cmdstanpy - INFO - Chain [1] done processing\n",
      "c:\\Users\\natra\\AppData\\Local\\Programs\\Python\\Python310\\lib\\site-packages\\sklearn\\metrics\\_regression.py:492: FutureWarning: 'squared' is deprecated in version 1.4 and will be removed in 1.6. To calculate the root mean squared error, use the function'root_mean_squared_error'.\n",
      "  warnings.warn(\n",
      "11:34:14 - cmdstanpy - INFO - Chain [1] start processing\n",
      "11:34:14 - cmdstanpy - INFO - Chain [1] done processing\n",
      "c:\\Users\\natra\\AppData\\Local\\Programs\\Python\\Python310\\lib\\site-packages\\sklearn\\metrics\\_regression.py:492: FutureWarning: 'squared' is deprecated in version 1.4 and will be removed in 1.6. To calculate the root mean squared error, use the function'root_mean_squared_error'.\n",
      "  warnings.warn(\n",
      "11:34:15 - cmdstanpy - INFO - Chain [1] start processing\n",
      "11:34:15 - cmdstanpy - INFO - Chain [1] done processing\n",
      "c:\\Users\\natra\\AppData\\Local\\Programs\\Python\\Python310\\lib\\site-packages\\sklearn\\metrics\\_regression.py:492: FutureWarning: 'squared' is deprecated in version 1.4 and will be removed in 1.6. To calculate the root mean squared error, use the function'root_mean_squared_error'.\n",
      "  warnings.warn(\n",
      "11:34:15 - cmdstanpy - INFO - Chain [1] start processing\n",
      "11:34:16 - cmdstanpy - INFO - Chain [1] done processing\n",
      "c:\\Users\\natra\\AppData\\Local\\Programs\\Python\\Python310\\lib\\site-packages\\sklearn\\metrics\\_regression.py:492: FutureWarning: 'squared' is deprecated in version 1.4 and will be removed in 1.6. To calculate the root mean squared error, use the function'root_mean_squared_error'.\n",
      "  warnings.warn(\n"
     ]
    },
    {
     "name": "stdout",
     "output_type": "stream",
     "text": [
      "R² Score: 0.606, RMSE: 3.650, MAE: 2.635\n",
      "\n",
      "Evaluating: changepoint_prior_scale=0.02, seasonality_prior_scale=1.1, seasonality_mode=additive\n"
     ]
    },
    {
     "name": "stderr",
     "output_type": "stream",
     "text": [
      "11:34:16 - cmdstanpy - INFO - Chain [1] start processing\n",
      "11:34:16 - cmdstanpy - INFO - Chain [1] done processing\n",
      "c:\\Users\\natra\\AppData\\Local\\Programs\\Python\\Python310\\lib\\site-packages\\sklearn\\metrics\\_regression.py:492: FutureWarning: 'squared' is deprecated in version 1.4 and will be removed in 1.6. To calculate the root mean squared error, use the function'root_mean_squared_error'.\n",
      "  warnings.warn(\n",
      "11:34:17 - cmdstanpy - INFO - Chain [1] start processing\n",
      "11:34:17 - cmdstanpy - INFO - Chain [1] done processing\n",
      "c:\\Users\\natra\\AppData\\Local\\Programs\\Python\\Python310\\lib\\site-packages\\sklearn\\metrics\\_regression.py:492: FutureWarning: 'squared' is deprecated in version 1.4 and will be removed in 1.6. To calculate the root mean squared error, use the function'root_mean_squared_error'.\n",
      "  warnings.warn(\n",
      "11:34:18 - cmdstanpy - INFO - Chain [1] start processing\n",
      "11:34:18 - cmdstanpy - INFO - Chain [1] done processing\n",
      "c:\\Users\\natra\\AppData\\Local\\Programs\\Python\\Python310\\lib\\site-packages\\sklearn\\metrics\\_regression.py:492: FutureWarning: 'squared' is deprecated in version 1.4 and will be removed in 1.6. To calculate the root mean squared error, use the function'root_mean_squared_error'.\n",
      "  warnings.warn(\n",
      "11:34:18 - cmdstanpy - INFO - Chain [1] start processing\n",
      "11:34:18 - cmdstanpy - INFO - Chain [1] done processing\n",
      "c:\\Users\\natra\\AppData\\Local\\Programs\\Python\\Python310\\lib\\site-packages\\sklearn\\metrics\\_regression.py:492: FutureWarning: 'squared' is deprecated in version 1.4 and will be removed in 1.6. To calculate the root mean squared error, use the function'root_mean_squared_error'.\n",
      "  warnings.warn(\n",
      "11:34:19 - cmdstanpy - INFO - Chain [1] start processing\n",
      "11:34:19 - cmdstanpy - INFO - Chain [1] done processing\n",
      "c:\\Users\\natra\\AppData\\Local\\Programs\\Python\\Python310\\lib\\site-packages\\sklearn\\metrics\\_regression.py:492: FutureWarning: 'squared' is deprecated in version 1.4 and will be removed in 1.6. To calculate the root mean squared error, use the function'root_mean_squared_error'.\n",
      "  warnings.warn(\n"
     ]
    },
    {
     "name": "stdout",
     "output_type": "stream",
     "text": [
      "R² Score: 0.602, RMSE: 3.665, MAE: 2.647\n",
      "\n",
      "Evaluating: changepoint_prior_scale=0.02, seasonality_prior_scale=1.1, seasonality_mode=multiplicative\n"
     ]
    },
    {
     "name": "stderr",
     "output_type": "stream",
     "text": [
      "11:34:19 - cmdstanpy - INFO - Chain [1] start processing\n",
      "11:34:20 - cmdstanpy - INFO - Chain [1] done processing\n",
      "c:\\Users\\natra\\AppData\\Local\\Programs\\Python\\Python310\\lib\\site-packages\\sklearn\\metrics\\_regression.py:492: FutureWarning: 'squared' is deprecated in version 1.4 and will be removed in 1.6. To calculate the root mean squared error, use the function'root_mean_squared_error'.\n",
      "  warnings.warn(\n",
      "11:34:20 - cmdstanpy - INFO - Chain [1] start processing\n",
      "11:34:20 - cmdstanpy - INFO - Chain [1] done processing\n",
      "c:\\Users\\natra\\AppData\\Local\\Programs\\Python\\Python310\\lib\\site-packages\\sklearn\\metrics\\_regression.py:492: FutureWarning: 'squared' is deprecated in version 1.4 and will be removed in 1.6. To calculate the root mean squared error, use the function'root_mean_squared_error'.\n",
      "  warnings.warn(\n",
      "11:34:21 - cmdstanpy - INFO - Chain [1] start processing\n",
      "11:34:21 - cmdstanpy - INFO - Chain [1] done processing\n",
      "c:\\Users\\natra\\AppData\\Local\\Programs\\Python\\Python310\\lib\\site-packages\\sklearn\\metrics\\_regression.py:492: FutureWarning: 'squared' is deprecated in version 1.4 and will be removed in 1.6. To calculate the root mean squared error, use the function'root_mean_squared_error'.\n",
      "  warnings.warn(\n",
      "11:34:21 - cmdstanpy - INFO - Chain [1] start processing\n",
      "11:34:21 - cmdstanpy - INFO - Chain [1] done processing\n",
      "c:\\Users\\natra\\AppData\\Local\\Programs\\Python\\Python310\\lib\\site-packages\\sklearn\\metrics\\_regression.py:492: FutureWarning: 'squared' is deprecated in version 1.4 and will be removed in 1.6. To calculate the root mean squared error, use the function'root_mean_squared_error'.\n",
      "  warnings.warn(\n",
      "11:34:22 - cmdstanpy - INFO - Chain [1] start processing\n",
      "11:34:22 - cmdstanpy - INFO - Chain [1] done processing\n",
      "c:\\Users\\natra\\AppData\\Local\\Programs\\Python\\Python310\\lib\\site-packages\\sklearn\\metrics\\_regression.py:492: FutureWarning: 'squared' is deprecated in version 1.4 and will be removed in 1.6. To calculate the root mean squared error, use the function'root_mean_squared_error'.\n",
      "  warnings.warn(\n"
     ]
    },
    {
     "name": "stdout",
     "output_type": "stream",
     "text": [
      "R² Score: 0.607, RMSE: 3.649, MAE: 2.632\n",
      "\n",
      "Evaluating: changepoint_prior_scale=0.02, seasonality_prior_scale=2.1, seasonality_mode=additive\n"
     ]
    },
    {
     "name": "stderr",
     "output_type": "stream",
     "text": [
      "11:34:22 - cmdstanpy - INFO - Chain [1] start processing\n",
      "11:34:22 - cmdstanpy - INFO - Chain [1] done processing\n",
      "c:\\Users\\natra\\AppData\\Local\\Programs\\Python\\Python310\\lib\\site-packages\\sklearn\\metrics\\_regression.py:492: FutureWarning: 'squared' is deprecated in version 1.4 and will be removed in 1.6. To calculate the root mean squared error, use the function'root_mean_squared_error'.\n",
      "  warnings.warn(\n",
      "11:34:23 - cmdstanpy - INFO - Chain [1] start processing\n",
      "11:34:23 - cmdstanpy - INFO - Chain [1] done processing\n",
      "c:\\Users\\natra\\AppData\\Local\\Programs\\Python\\Python310\\lib\\site-packages\\sklearn\\metrics\\_regression.py:492: FutureWarning: 'squared' is deprecated in version 1.4 and will be removed in 1.6. To calculate the root mean squared error, use the function'root_mean_squared_error'.\n",
      "  warnings.warn(\n",
      "11:34:23 - cmdstanpy - INFO - Chain [1] start processing\n",
      "11:34:24 - cmdstanpy - INFO - Chain [1] done processing\n",
      "c:\\Users\\natra\\AppData\\Local\\Programs\\Python\\Python310\\lib\\site-packages\\sklearn\\metrics\\_regression.py:492: FutureWarning: 'squared' is deprecated in version 1.4 and will be removed in 1.6. To calculate the root mean squared error, use the function'root_mean_squared_error'.\n",
      "  warnings.warn(\n",
      "11:34:24 - cmdstanpy - INFO - Chain [1] start processing\n",
      "11:34:24 - cmdstanpy - INFO - Chain [1] done processing\n",
      "c:\\Users\\natra\\AppData\\Local\\Programs\\Python\\Python310\\lib\\site-packages\\sklearn\\metrics\\_regression.py:492: FutureWarning: 'squared' is deprecated in version 1.4 and will be removed in 1.6. To calculate the root mean squared error, use the function'root_mean_squared_error'.\n",
      "  warnings.warn(\n",
      "11:34:25 - cmdstanpy - INFO - Chain [1] start processing\n",
      "11:34:25 - cmdstanpy - INFO - Chain [1] done processing\n",
      "c:\\Users\\natra\\AppData\\Local\\Programs\\Python\\Python310\\lib\\site-packages\\sklearn\\metrics\\_regression.py:492: FutureWarning: 'squared' is deprecated in version 1.4 and will be removed in 1.6. To calculate the root mean squared error, use the function'root_mean_squared_error'.\n",
      "  warnings.warn(\n"
     ]
    },
    {
     "name": "stdout",
     "output_type": "stream",
     "text": [
      "R² Score: 0.603, RMSE: 3.664, MAE: 2.644\n",
      "\n",
      "Evaluating: changepoint_prior_scale=0.02, seasonality_prior_scale=2.1, seasonality_mode=multiplicative\n"
     ]
    },
    {
     "name": "stderr",
     "output_type": "stream",
     "text": [
      "11:34:25 - cmdstanpy - INFO - Chain [1] start processing\n",
      "11:34:25 - cmdstanpy - INFO - Chain [1] done processing\n",
      "c:\\Users\\natra\\AppData\\Local\\Programs\\Python\\Python310\\lib\\site-packages\\sklearn\\metrics\\_regression.py:492: FutureWarning: 'squared' is deprecated in version 1.4 and will be removed in 1.6. To calculate the root mean squared error, use the function'root_mean_squared_error'.\n",
      "  warnings.warn(\n",
      "11:34:26 - cmdstanpy - INFO - Chain [1] start processing\n",
      "11:34:26 - cmdstanpy - INFO - Chain [1] done processing\n",
      "c:\\Users\\natra\\AppData\\Local\\Programs\\Python\\Python310\\lib\\site-packages\\sklearn\\metrics\\_regression.py:492: FutureWarning: 'squared' is deprecated in version 1.4 and will be removed in 1.6. To calculate the root mean squared error, use the function'root_mean_squared_error'.\n",
      "  warnings.warn(\n",
      "11:34:26 - cmdstanpy - INFO - Chain [1] start processing\n",
      "11:34:26 - cmdstanpy - INFO - Chain [1] done processing\n",
      "c:\\Users\\natra\\AppData\\Local\\Programs\\Python\\Python310\\lib\\site-packages\\sklearn\\metrics\\_regression.py:492: FutureWarning: 'squared' is deprecated in version 1.4 and will be removed in 1.6. To calculate the root mean squared error, use the function'root_mean_squared_error'.\n",
      "  warnings.warn(\n",
      "11:34:27 - cmdstanpy - INFO - Chain [1] start processing\n",
      "11:34:27 - cmdstanpy - INFO - Chain [1] done processing\n",
      "c:\\Users\\natra\\AppData\\Local\\Programs\\Python\\Python310\\lib\\site-packages\\sklearn\\metrics\\_regression.py:492: FutureWarning: 'squared' is deprecated in version 1.4 and will be removed in 1.6. To calculate the root mean squared error, use the function'root_mean_squared_error'.\n",
      "  warnings.warn(\n",
      "11:34:27 - cmdstanpy - INFO - Chain [1] start processing\n",
      "11:34:28 - cmdstanpy - INFO - Chain [1] done processing\n",
      "c:\\Users\\natra\\AppData\\Local\\Programs\\Python\\Python310\\lib\\site-packages\\sklearn\\metrics\\_regression.py:492: FutureWarning: 'squared' is deprecated in version 1.4 and will be removed in 1.6. To calculate the root mean squared error, use the function'root_mean_squared_error'.\n",
      "  warnings.warn(\n"
     ]
    },
    {
     "name": "stdout",
     "output_type": "stream",
     "text": [
      "R² Score: 0.606, RMSE: 3.651, MAE: 2.635\n",
      "\n",
      "Evaluating: changepoint_prior_scale=0.02, seasonality_prior_scale=3.1, seasonality_mode=additive\n"
     ]
    },
    {
     "name": "stderr",
     "output_type": "stream",
     "text": [
      "11:34:28 - cmdstanpy - INFO - Chain [1] start processing\n",
      "11:34:28 - cmdstanpy - INFO - Chain [1] done processing\n",
      "c:\\Users\\natra\\AppData\\Local\\Programs\\Python\\Python310\\lib\\site-packages\\sklearn\\metrics\\_regression.py:492: FutureWarning: 'squared' is deprecated in version 1.4 and will be removed in 1.6. To calculate the root mean squared error, use the function'root_mean_squared_error'.\n",
      "  warnings.warn(\n",
      "11:34:29 - cmdstanpy - INFO - Chain [1] start processing\n",
      "11:34:29 - cmdstanpy - INFO - Chain [1] done processing\n",
      "c:\\Users\\natra\\AppData\\Local\\Programs\\Python\\Python310\\lib\\site-packages\\sklearn\\metrics\\_regression.py:492: FutureWarning: 'squared' is deprecated in version 1.4 and will be removed in 1.6. To calculate the root mean squared error, use the function'root_mean_squared_error'.\n",
      "  warnings.warn(\n",
      "11:34:29 - cmdstanpy - INFO - Chain [1] start processing\n",
      "11:34:29 - cmdstanpy - INFO - Chain [1] done processing\n",
      "c:\\Users\\natra\\AppData\\Local\\Programs\\Python\\Python310\\lib\\site-packages\\sklearn\\metrics\\_regression.py:492: FutureWarning: 'squared' is deprecated in version 1.4 and will be removed in 1.6. To calculate the root mean squared error, use the function'root_mean_squared_error'.\n",
      "  warnings.warn(\n",
      "11:34:30 - cmdstanpy - INFO - Chain [1] start processing\n",
      "11:34:30 - cmdstanpy - INFO - Chain [1] done processing\n",
      "c:\\Users\\natra\\AppData\\Local\\Programs\\Python\\Python310\\lib\\site-packages\\sklearn\\metrics\\_regression.py:492: FutureWarning: 'squared' is deprecated in version 1.4 and will be removed in 1.6. To calculate the root mean squared error, use the function'root_mean_squared_error'.\n",
      "  warnings.warn(\n",
      "11:34:30 - cmdstanpy - INFO - Chain [1] start processing\n",
      "11:34:30 - cmdstanpy - INFO - Chain [1] done processing\n",
      "c:\\Users\\natra\\AppData\\Local\\Programs\\Python\\Python310\\lib\\site-packages\\sklearn\\metrics\\_regression.py:492: FutureWarning: 'squared' is deprecated in version 1.4 and will be removed in 1.6. To calculate the root mean squared error, use the function'root_mean_squared_error'.\n",
      "  warnings.warn(\n"
     ]
    },
    {
     "name": "stdout",
     "output_type": "stream",
     "text": [
      "R² Score: 0.603, RMSE: 3.663, MAE: 2.644\n",
      "\n",
      "Evaluating: changepoint_prior_scale=0.02, seasonality_prior_scale=3.1, seasonality_mode=multiplicative\n"
     ]
    },
    {
     "name": "stderr",
     "output_type": "stream",
     "text": [
      "11:34:31 - cmdstanpy - INFO - Chain [1] start processing\n",
      "11:34:31 - cmdstanpy - INFO - Chain [1] done processing\n",
      "c:\\Users\\natra\\AppData\\Local\\Programs\\Python\\Python310\\lib\\site-packages\\sklearn\\metrics\\_regression.py:492: FutureWarning: 'squared' is deprecated in version 1.4 and will be removed in 1.6. To calculate the root mean squared error, use the function'root_mean_squared_error'.\n",
      "  warnings.warn(\n",
      "11:34:31 - cmdstanpy - INFO - Chain [1] start processing\n",
      "11:34:31 - cmdstanpy - INFO - Chain [1] done processing\n",
      "c:\\Users\\natra\\AppData\\Local\\Programs\\Python\\Python310\\lib\\site-packages\\sklearn\\metrics\\_regression.py:492: FutureWarning: 'squared' is deprecated in version 1.4 and will be removed in 1.6. To calculate the root mean squared error, use the function'root_mean_squared_error'.\n",
      "  warnings.warn(\n",
      "11:34:32 - cmdstanpy - INFO - Chain [1] start processing\n",
      "11:34:32 - cmdstanpy - INFO - Chain [1] done processing\n",
      "c:\\Users\\natra\\AppData\\Local\\Programs\\Python\\Python310\\lib\\site-packages\\sklearn\\metrics\\_regression.py:492: FutureWarning: 'squared' is deprecated in version 1.4 and will be removed in 1.6. To calculate the root mean squared error, use the function'root_mean_squared_error'.\n",
      "  warnings.warn(\n",
      "11:34:32 - cmdstanpy - INFO - Chain [1] start processing\n",
      "11:34:33 - cmdstanpy - INFO - Chain [1] done processing\n",
      "c:\\Users\\natra\\AppData\\Local\\Programs\\Python\\Python310\\lib\\site-packages\\sklearn\\metrics\\_regression.py:492: FutureWarning: 'squared' is deprecated in version 1.4 and will be removed in 1.6. To calculate the root mean squared error, use the function'root_mean_squared_error'.\n",
      "  warnings.warn(\n",
      "11:34:33 - cmdstanpy - INFO - Chain [1] start processing\n",
      "11:34:33 - cmdstanpy - INFO - Chain [1] done processing\n",
      "c:\\Users\\natra\\AppData\\Local\\Programs\\Python\\Python310\\lib\\site-packages\\sklearn\\metrics\\_regression.py:492: FutureWarning: 'squared' is deprecated in version 1.4 and will be removed in 1.6. To calculate the root mean squared error, use the function'root_mean_squared_error'.\n",
      "  warnings.warn(\n"
     ]
    },
    {
     "name": "stdout",
     "output_type": "stream",
     "text": [
      "R² Score: 0.606, RMSE: 3.654, MAE: 2.637\n",
      "\n",
      "Evaluating: changepoint_prior_scale=0.02, seasonality_prior_scale=4.1, seasonality_mode=additive\n"
     ]
    },
    {
     "name": "stderr",
     "output_type": "stream",
     "text": [
      "11:34:34 - cmdstanpy - INFO - Chain [1] start processing\n",
      "11:34:34 - cmdstanpy - INFO - Chain [1] done processing\n",
      "c:\\Users\\natra\\AppData\\Local\\Programs\\Python\\Python310\\lib\\site-packages\\sklearn\\metrics\\_regression.py:492: FutureWarning: 'squared' is deprecated in version 1.4 and will be removed in 1.6. To calculate the root mean squared error, use the function'root_mean_squared_error'.\n",
      "  warnings.warn(\n",
      "11:34:34 - cmdstanpy - INFO - Chain [1] start processing\n",
      "11:34:34 - cmdstanpy - INFO - Chain [1] done processing\n",
      "c:\\Users\\natra\\AppData\\Local\\Programs\\Python\\Python310\\lib\\site-packages\\sklearn\\metrics\\_regression.py:492: FutureWarning: 'squared' is deprecated in version 1.4 and will be removed in 1.6. To calculate the root mean squared error, use the function'root_mean_squared_error'.\n",
      "  warnings.warn(\n",
      "11:34:35 - cmdstanpy - INFO - Chain [1] start processing\n",
      "11:34:35 - cmdstanpy - INFO - Chain [1] done processing\n",
      "c:\\Users\\natra\\AppData\\Local\\Programs\\Python\\Python310\\lib\\site-packages\\sklearn\\metrics\\_regression.py:492: FutureWarning: 'squared' is deprecated in version 1.4 and will be removed in 1.6. To calculate the root mean squared error, use the function'root_mean_squared_error'.\n",
      "  warnings.warn(\n",
      "11:34:35 - cmdstanpy - INFO - Chain [1] start processing\n",
      "11:34:35 - cmdstanpy - INFO - Chain [1] done processing\n",
      "c:\\Users\\natra\\AppData\\Local\\Programs\\Python\\Python310\\lib\\site-packages\\sklearn\\metrics\\_regression.py:492: FutureWarning: 'squared' is deprecated in version 1.4 and will be removed in 1.6. To calculate the root mean squared error, use the function'root_mean_squared_error'.\n",
      "  warnings.warn(\n",
      "11:34:36 - cmdstanpy - INFO - Chain [1] start processing\n",
      "11:34:36 - cmdstanpy - INFO - Chain [1] done processing\n",
      "c:\\Users\\natra\\AppData\\Local\\Programs\\Python\\Python310\\lib\\site-packages\\sklearn\\metrics\\_regression.py:492: FutureWarning: 'squared' is deprecated in version 1.4 and will be removed in 1.6. To calculate the root mean squared error, use the function'root_mean_squared_error'.\n",
      "  warnings.warn(\n"
     ]
    },
    {
     "name": "stdout",
     "output_type": "stream",
     "text": [
      "R² Score: 0.603, RMSE: 3.661, MAE: 2.642\n",
      "\n",
      "Evaluating: changepoint_prior_scale=0.02, seasonality_prior_scale=4.1, seasonality_mode=multiplicative\n"
     ]
    },
    {
     "name": "stderr",
     "output_type": "stream",
     "text": [
      "11:34:37 - cmdstanpy - INFO - Chain [1] start processing\n",
      "11:34:37 - cmdstanpy - INFO - Chain [1] done processing\n",
      "c:\\Users\\natra\\AppData\\Local\\Programs\\Python\\Python310\\lib\\site-packages\\sklearn\\metrics\\_regression.py:492: FutureWarning: 'squared' is deprecated in version 1.4 and will be removed in 1.6. To calculate the root mean squared error, use the function'root_mean_squared_error'.\n",
      "  warnings.warn(\n",
      "11:34:37 - cmdstanpy - INFO - Chain [1] start processing\n",
      "11:34:37 - cmdstanpy - INFO - Chain [1] done processing\n",
      "c:\\Users\\natra\\AppData\\Local\\Programs\\Python\\Python310\\lib\\site-packages\\sklearn\\metrics\\_regression.py:492: FutureWarning: 'squared' is deprecated in version 1.4 and will be removed in 1.6. To calculate the root mean squared error, use the function'root_mean_squared_error'.\n",
      "  warnings.warn(\n",
      "11:34:38 - cmdstanpy - INFO - Chain [1] start processing\n",
      "11:34:38 - cmdstanpy - INFO - Chain [1] done processing\n",
      "c:\\Users\\natra\\AppData\\Local\\Programs\\Python\\Python310\\lib\\site-packages\\sklearn\\metrics\\_regression.py:492: FutureWarning: 'squared' is deprecated in version 1.4 and will be removed in 1.6. To calculate the root mean squared error, use the function'root_mean_squared_error'.\n",
      "  warnings.warn(\n",
      "11:34:38 - cmdstanpy - INFO - Chain [1] start processing\n",
      "11:34:38 - cmdstanpy - INFO - Chain [1] done processing\n",
      "c:\\Users\\natra\\AppData\\Local\\Programs\\Python\\Python310\\lib\\site-packages\\sklearn\\metrics\\_regression.py:492: FutureWarning: 'squared' is deprecated in version 1.4 and will be removed in 1.6. To calculate the root mean squared error, use the function'root_mean_squared_error'.\n",
      "  warnings.warn(\n",
      "11:34:39 - cmdstanpy - INFO - Chain [1] start processing\n",
      "11:34:39 - cmdstanpy - INFO - Chain [1] done processing\n",
      "c:\\Users\\natra\\AppData\\Local\\Programs\\Python\\Python310\\lib\\site-packages\\sklearn\\metrics\\_regression.py:492: FutureWarning: 'squared' is deprecated in version 1.4 and will be removed in 1.6. To calculate the root mean squared error, use the function'root_mean_squared_error'.\n",
      "  warnings.warn(\n"
     ]
    },
    {
     "name": "stdout",
     "output_type": "stream",
     "text": [
      "R² Score: 0.605, RMSE: 3.655, MAE: 2.642\n",
      "\n",
      "Evaluating: changepoint_prior_scale=0.02, seasonality_prior_scale=5.1, seasonality_mode=additive\n"
     ]
    },
    {
     "name": "stderr",
     "output_type": "stream",
     "text": [
      "11:34:40 - cmdstanpy - INFO - Chain [1] start processing\n",
      "11:34:40 - cmdstanpy - INFO - Chain [1] done processing\n",
      "c:\\Users\\natra\\AppData\\Local\\Programs\\Python\\Python310\\lib\\site-packages\\sklearn\\metrics\\_regression.py:492: FutureWarning: 'squared' is deprecated in version 1.4 and will be removed in 1.6. To calculate the root mean squared error, use the function'root_mean_squared_error'.\n",
      "  warnings.warn(\n",
      "11:34:40 - cmdstanpy - INFO - Chain [1] start processing\n",
      "11:34:40 - cmdstanpy - INFO - Chain [1] done processing\n",
      "c:\\Users\\natra\\AppData\\Local\\Programs\\Python\\Python310\\lib\\site-packages\\sklearn\\metrics\\_regression.py:492: FutureWarning: 'squared' is deprecated in version 1.4 and will be removed in 1.6. To calculate the root mean squared error, use the function'root_mean_squared_error'.\n",
      "  warnings.warn(\n",
      "11:34:41 - cmdstanpy - INFO - Chain [1] start processing\n",
      "11:34:41 - cmdstanpy - INFO - Chain [1] done processing\n",
      "c:\\Users\\natra\\AppData\\Local\\Programs\\Python\\Python310\\lib\\site-packages\\sklearn\\metrics\\_regression.py:492: FutureWarning: 'squared' is deprecated in version 1.4 and will be removed in 1.6. To calculate the root mean squared error, use the function'root_mean_squared_error'.\n",
      "  warnings.warn(\n",
      "11:34:41 - cmdstanpy - INFO - Chain [1] start processing\n",
      "11:34:41 - cmdstanpy - INFO - Chain [1] done processing\n",
      "c:\\Users\\natra\\AppData\\Local\\Programs\\Python\\Python310\\lib\\site-packages\\sklearn\\metrics\\_regression.py:492: FutureWarning: 'squared' is deprecated in version 1.4 and will be removed in 1.6. To calculate the root mean squared error, use the function'root_mean_squared_error'.\n",
      "  warnings.warn(\n",
      "11:34:42 - cmdstanpy - INFO - Chain [1] start processing\n",
      "11:34:42 - cmdstanpy - INFO - Chain [1] done processing\n",
      "c:\\Users\\natra\\AppData\\Local\\Programs\\Python\\Python310\\lib\\site-packages\\sklearn\\metrics\\_regression.py:492: FutureWarning: 'squared' is deprecated in version 1.4 and will be removed in 1.6. To calculate the root mean squared error, use the function'root_mean_squared_error'.\n",
      "  warnings.warn(\n"
     ]
    },
    {
     "name": "stdout",
     "output_type": "stream",
     "text": [
      "R² Score: 0.602, RMSE: 3.668, MAE: 2.650\n",
      "\n",
      "Evaluating: changepoint_prior_scale=0.02, seasonality_prior_scale=5.1, seasonality_mode=multiplicative\n"
     ]
    },
    {
     "name": "stderr",
     "output_type": "stream",
     "text": [
      "11:34:42 - cmdstanpy - INFO - Chain [1] start processing\n",
      "11:34:42 - cmdstanpy - INFO - Chain [1] done processing\n",
      "c:\\Users\\natra\\AppData\\Local\\Programs\\Python\\Python310\\lib\\site-packages\\sklearn\\metrics\\_regression.py:492: FutureWarning: 'squared' is deprecated in version 1.4 and will be removed in 1.6. To calculate the root mean squared error, use the function'root_mean_squared_error'.\n",
      "  warnings.warn(\n",
      "11:34:43 - cmdstanpy - INFO - Chain [1] start processing\n",
      "11:34:43 - cmdstanpy - INFO - Chain [1] done processing\n",
      "c:\\Users\\natra\\AppData\\Local\\Programs\\Python\\Python310\\lib\\site-packages\\sklearn\\metrics\\_regression.py:492: FutureWarning: 'squared' is deprecated in version 1.4 and will be removed in 1.6. To calculate the root mean squared error, use the function'root_mean_squared_error'.\n",
      "  warnings.warn(\n",
      "11:34:43 - cmdstanpy - INFO - Chain [1] start processing\n",
      "11:34:44 - cmdstanpy - INFO - Chain [1] done processing\n",
      "c:\\Users\\natra\\AppData\\Local\\Programs\\Python\\Python310\\lib\\site-packages\\sklearn\\metrics\\_regression.py:492: FutureWarning: 'squared' is deprecated in version 1.4 and will be removed in 1.6. To calculate the root mean squared error, use the function'root_mean_squared_error'.\n",
      "  warnings.warn(\n",
      "11:34:44 - cmdstanpy - INFO - Chain [1] start processing\n",
      "11:34:44 - cmdstanpy - INFO - Chain [1] done processing\n",
      "c:\\Users\\natra\\AppData\\Local\\Programs\\Python\\Python310\\lib\\site-packages\\sklearn\\metrics\\_regression.py:492: FutureWarning: 'squared' is deprecated in version 1.4 and will be removed in 1.6. To calculate the root mean squared error, use the function'root_mean_squared_error'.\n",
      "  warnings.warn(\n",
      "11:34:45 - cmdstanpy - INFO - Chain [1] start processing\n",
      "11:34:45 - cmdstanpy - INFO - Chain [1] done processing\n",
      "c:\\Users\\natra\\AppData\\Local\\Programs\\Python\\Python310\\lib\\site-packages\\sklearn\\metrics\\_regression.py:492: FutureWarning: 'squared' is deprecated in version 1.4 and will be removed in 1.6. To calculate the root mean squared error, use the function'root_mean_squared_error'.\n",
      "  warnings.warn(\n"
     ]
    },
    {
     "name": "stdout",
     "output_type": "stream",
     "text": [
      "R² Score: 0.606, RMSE: 3.651, MAE: 2.635\n",
      "\n",
      "Evaluating: changepoint_prior_scale=0.02, seasonality_prior_scale=6.1, seasonality_mode=additive\n"
     ]
    },
    {
     "name": "stderr",
     "output_type": "stream",
     "text": [
      "11:34:45 - cmdstanpy - INFO - Chain [1] start processing\n",
      "11:34:45 - cmdstanpy - INFO - Chain [1] done processing\n",
      "c:\\Users\\natra\\AppData\\Local\\Programs\\Python\\Python310\\lib\\site-packages\\sklearn\\metrics\\_regression.py:492: FutureWarning: 'squared' is deprecated in version 1.4 and will be removed in 1.6. To calculate the root mean squared error, use the function'root_mean_squared_error'.\n",
      "  warnings.warn(\n",
      "11:34:46 - cmdstanpy - INFO - Chain [1] start processing\n",
      "11:34:46 - cmdstanpy - INFO - Chain [1] done processing\n",
      "c:\\Users\\natra\\AppData\\Local\\Programs\\Python\\Python310\\lib\\site-packages\\sklearn\\metrics\\_regression.py:492: FutureWarning: 'squared' is deprecated in version 1.4 and will be removed in 1.6. To calculate the root mean squared error, use the function'root_mean_squared_error'.\n",
      "  warnings.warn(\n",
      "11:34:46 - cmdstanpy - INFO - Chain [1] start processing\n",
      "11:34:46 - cmdstanpy - INFO - Chain [1] done processing\n",
      "c:\\Users\\natra\\AppData\\Local\\Programs\\Python\\Python310\\lib\\site-packages\\sklearn\\metrics\\_regression.py:492: FutureWarning: 'squared' is deprecated in version 1.4 and will be removed in 1.6. To calculate the root mean squared error, use the function'root_mean_squared_error'.\n",
      "  warnings.warn(\n",
      "11:34:47 - cmdstanpy - INFO - Chain [1] start processing\n",
      "11:34:47 - cmdstanpy - INFO - Chain [1] done processing\n",
      "c:\\Users\\natra\\AppData\\Local\\Programs\\Python\\Python310\\lib\\site-packages\\sklearn\\metrics\\_regression.py:492: FutureWarning: 'squared' is deprecated in version 1.4 and will be removed in 1.6. To calculate the root mean squared error, use the function'root_mean_squared_error'.\n",
      "  warnings.warn(\n",
      "11:34:47 - cmdstanpy - INFO - Chain [1] start processing\n",
      "11:34:48 - cmdstanpy - INFO - Chain [1] done processing\n",
      "c:\\Users\\natra\\AppData\\Local\\Programs\\Python\\Python310\\lib\\site-packages\\sklearn\\metrics\\_regression.py:492: FutureWarning: 'squared' is deprecated in version 1.4 and will be removed in 1.6. To calculate the root mean squared error, use the function'root_mean_squared_error'.\n",
      "  warnings.warn(\n"
     ]
    },
    {
     "name": "stdout",
     "output_type": "stream",
     "text": [
      "R² Score: 0.602, RMSE: 3.667, MAE: 2.651\n",
      "\n",
      "Evaluating: changepoint_prior_scale=0.02, seasonality_prior_scale=6.1, seasonality_mode=multiplicative\n"
     ]
    },
    {
     "name": "stderr",
     "output_type": "stream",
     "text": [
      "11:34:48 - cmdstanpy - INFO - Chain [1] start processing\n",
      "11:34:48 - cmdstanpy - INFO - Chain [1] done processing\n",
      "c:\\Users\\natra\\AppData\\Local\\Programs\\Python\\Python310\\lib\\site-packages\\sklearn\\metrics\\_regression.py:492: FutureWarning: 'squared' is deprecated in version 1.4 and will be removed in 1.6. To calculate the root mean squared error, use the function'root_mean_squared_error'.\n",
      "  warnings.warn(\n",
      "11:34:49 - cmdstanpy - INFO - Chain [1] start processing\n",
      "11:34:49 - cmdstanpy - INFO - Chain [1] done processing\n",
      "c:\\Users\\natra\\AppData\\Local\\Programs\\Python\\Python310\\lib\\site-packages\\sklearn\\metrics\\_regression.py:492: FutureWarning: 'squared' is deprecated in version 1.4 and will be removed in 1.6. To calculate the root mean squared error, use the function'root_mean_squared_error'.\n",
      "  warnings.warn(\n",
      "11:34:49 - cmdstanpy - INFO - Chain [1] start processing\n",
      "11:34:49 - cmdstanpy - INFO - Chain [1] done processing\n",
      "c:\\Users\\natra\\AppData\\Local\\Programs\\Python\\Python310\\lib\\site-packages\\sklearn\\metrics\\_regression.py:492: FutureWarning: 'squared' is deprecated in version 1.4 and will be removed in 1.6. To calculate the root mean squared error, use the function'root_mean_squared_error'.\n",
      "  warnings.warn(\n",
      "11:34:50 - cmdstanpy - INFO - Chain [1] start processing\n",
      "11:34:50 - cmdstanpy - INFO - Chain [1] done processing\n",
      "c:\\Users\\natra\\AppData\\Local\\Programs\\Python\\Python310\\lib\\site-packages\\sklearn\\metrics\\_regression.py:492: FutureWarning: 'squared' is deprecated in version 1.4 and will be removed in 1.6. To calculate the root mean squared error, use the function'root_mean_squared_error'.\n",
      "  warnings.warn(\n",
      "11:34:50 - cmdstanpy - INFO - Chain [1] start processing\n",
      "11:34:50 - cmdstanpy - INFO - Chain [1] done processing\n",
      "c:\\Users\\natra\\AppData\\Local\\Programs\\Python\\Python310\\lib\\site-packages\\sklearn\\metrics\\_regression.py:492: FutureWarning: 'squared' is deprecated in version 1.4 and will be removed in 1.6. To calculate the root mean squared error, use the function'root_mean_squared_error'.\n",
      "  warnings.warn(\n"
     ]
    },
    {
     "name": "stdout",
     "output_type": "stream",
     "text": [
      "R² Score: 0.607, RMSE: 3.648, MAE: 2.630\n",
      "\n",
      "Evaluating: changepoint_prior_scale=0.02, seasonality_prior_scale=7.1, seasonality_mode=additive\n"
     ]
    },
    {
     "name": "stderr",
     "output_type": "stream",
     "text": [
      "11:34:51 - cmdstanpy - INFO - Chain [1] start processing\n",
      "11:34:51 - cmdstanpy - INFO - Chain [1] done processing\n",
      "c:\\Users\\natra\\AppData\\Local\\Programs\\Python\\Python310\\lib\\site-packages\\sklearn\\metrics\\_regression.py:492: FutureWarning: 'squared' is deprecated in version 1.4 and will be removed in 1.6. To calculate the root mean squared error, use the function'root_mean_squared_error'.\n",
      "  warnings.warn(\n",
      "11:34:51 - cmdstanpy - INFO - Chain [1] start processing\n",
      "11:34:52 - cmdstanpy - INFO - Chain [1] done processing\n",
      "c:\\Users\\natra\\AppData\\Local\\Programs\\Python\\Python310\\lib\\site-packages\\sklearn\\metrics\\_regression.py:492: FutureWarning: 'squared' is deprecated in version 1.4 and will be removed in 1.6. To calculate the root mean squared error, use the function'root_mean_squared_error'.\n",
      "  warnings.warn(\n",
      "11:34:52 - cmdstanpy - INFO - Chain [1] start processing\n",
      "11:34:52 - cmdstanpy - INFO - Chain [1] done processing\n",
      "c:\\Users\\natra\\AppData\\Local\\Programs\\Python\\Python310\\lib\\site-packages\\sklearn\\metrics\\_regression.py:492: FutureWarning: 'squared' is deprecated in version 1.4 and will be removed in 1.6. To calculate the root mean squared error, use the function'root_mean_squared_error'.\n",
      "  warnings.warn(\n",
      "11:34:53 - cmdstanpy - INFO - Chain [1] start processing\n",
      "11:34:53 - cmdstanpy - INFO - Chain [1] done processing\n",
      "c:\\Users\\natra\\AppData\\Local\\Programs\\Python\\Python310\\lib\\site-packages\\sklearn\\metrics\\_regression.py:492: FutureWarning: 'squared' is deprecated in version 1.4 and will be removed in 1.6. To calculate the root mean squared error, use the function'root_mean_squared_error'.\n",
      "  warnings.warn(\n",
      "11:34:53 - cmdstanpy - INFO - Chain [1] start processing\n",
      "11:34:53 - cmdstanpy - INFO - Chain [1] done processing\n",
      "c:\\Users\\natra\\AppData\\Local\\Programs\\Python\\Python310\\lib\\site-packages\\sklearn\\metrics\\_regression.py:492: FutureWarning: 'squared' is deprecated in version 1.4 and will be removed in 1.6. To calculate the root mean squared error, use the function'root_mean_squared_error'.\n",
      "  warnings.warn(\n"
     ]
    },
    {
     "name": "stdout",
     "output_type": "stream",
     "text": [
      "R² Score: 0.602, RMSE: 3.664, MAE: 2.645\n",
      "\n",
      "Evaluating: changepoint_prior_scale=0.02, seasonality_prior_scale=7.1, seasonality_mode=multiplicative\n"
     ]
    },
    {
     "name": "stderr",
     "output_type": "stream",
     "text": [
      "11:34:54 - cmdstanpy - INFO - Chain [1] start processing\n",
      "11:34:54 - cmdstanpy - INFO - Chain [1] done processing\n",
      "c:\\Users\\natra\\AppData\\Local\\Programs\\Python\\Python310\\lib\\site-packages\\sklearn\\metrics\\_regression.py:492: FutureWarning: 'squared' is deprecated in version 1.4 and will be removed in 1.6. To calculate the root mean squared error, use the function'root_mean_squared_error'.\n",
      "  warnings.warn(\n",
      "11:34:55 - cmdstanpy - INFO - Chain [1] start processing\n",
      "11:34:55 - cmdstanpy - INFO - Chain [1] done processing\n",
      "c:\\Users\\natra\\AppData\\Local\\Programs\\Python\\Python310\\lib\\site-packages\\sklearn\\metrics\\_regression.py:492: FutureWarning: 'squared' is deprecated in version 1.4 and will be removed in 1.6. To calculate the root mean squared error, use the function'root_mean_squared_error'.\n",
      "  warnings.warn(\n",
      "11:34:55 - cmdstanpy - INFO - Chain [1] start processing\n",
      "11:34:55 - cmdstanpy - INFO - Chain [1] done processing\n",
      "c:\\Users\\natra\\AppData\\Local\\Programs\\Python\\Python310\\lib\\site-packages\\sklearn\\metrics\\_regression.py:492: FutureWarning: 'squared' is deprecated in version 1.4 and will be removed in 1.6. To calculate the root mean squared error, use the function'root_mean_squared_error'.\n",
      "  warnings.warn(\n",
      "11:34:56 - cmdstanpy - INFO - Chain [1] start processing\n",
      "11:34:56 - cmdstanpy - INFO - Chain [1] done processing\n",
      "c:\\Users\\natra\\AppData\\Local\\Programs\\Python\\Python310\\lib\\site-packages\\sklearn\\metrics\\_regression.py:492: FutureWarning: 'squared' is deprecated in version 1.4 and will be removed in 1.6. To calculate the root mean squared error, use the function'root_mean_squared_error'.\n",
      "  warnings.warn(\n",
      "11:34:57 - cmdstanpy - INFO - Chain [1] start processing\n",
      "11:34:57 - cmdstanpy - INFO - Chain [1] done processing\n",
      "c:\\Users\\natra\\AppData\\Local\\Programs\\Python\\Python310\\lib\\site-packages\\sklearn\\metrics\\_regression.py:492: FutureWarning: 'squared' is deprecated in version 1.4 and will be removed in 1.6. To calculate the root mean squared error, use the function'root_mean_squared_error'.\n",
      "  warnings.warn(\n"
     ]
    },
    {
     "name": "stdout",
     "output_type": "stream",
     "text": [
      "R² Score: 0.606, RMSE: 3.650, MAE: 2.635\n",
      "\n",
      "Evaluating: changepoint_prior_scale=0.02, seasonality_prior_scale=8.1, seasonality_mode=additive\n"
     ]
    },
    {
     "name": "stderr",
     "output_type": "stream",
     "text": [
      "11:34:57 - cmdstanpy - INFO - Chain [1] start processing\n",
      "11:34:57 - cmdstanpy - INFO - Chain [1] done processing\n",
      "c:\\Users\\natra\\AppData\\Local\\Programs\\Python\\Python310\\lib\\site-packages\\sklearn\\metrics\\_regression.py:492: FutureWarning: 'squared' is deprecated in version 1.4 and will be removed in 1.6. To calculate the root mean squared error, use the function'root_mean_squared_error'.\n",
      "  warnings.warn(\n",
      "11:34:58 - cmdstanpy - INFO - Chain [1] start processing\n",
      "11:34:58 - cmdstanpy - INFO - Chain [1] done processing\n",
      "c:\\Users\\natra\\AppData\\Local\\Programs\\Python\\Python310\\lib\\site-packages\\sklearn\\metrics\\_regression.py:492: FutureWarning: 'squared' is deprecated in version 1.4 and will be removed in 1.6. To calculate the root mean squared error, use the function'root_mean_squared_error'.\n",
      "  warnings.warn(\n",
      "11:34:58 - cmdstanpy - INFO - Chain [1] start processing\n",
      "11:34:59 - cmdstanpy - INFO - Chain [1] done processing\n",
      "c:\\Users\\natra\\AppData\\Local\\Programs\\Python\\Python310\\lib\\site-packages\\sklearn\\metrics\\_regression.py:492: FutureWarning: 'squared' is deprecated in version 1.4 and will be removed in 1.6. To calculate the root mean squared error, use the function'root_mean_squared_error'.\n",
      "  warnings.warn(\n",
      "11:34:59 - cmdstanpy - INFO - Chain [1] start processing\n",
      "11:34:59 - cmdstanpy - INFO - Chain [1] done processing\n",
      "c:\\Users\\natra\\AppData\\Local\\Programs\\Python\\Python310\\lib\\site-packages\\sklearn\\metrics\\_regression.py:492: FutureWarning: 'squared' is deprecated in version 1.4 and will be removed in 1.6. To calculate the root mean squared error, use the function'root_mean_squared_error'.\n",
      "  warnings.warn(\n",
      "11:35:00 - cmdstanpy - INFO - Chain [1] start processing\n",
      "11:35:00 - cmdstanpy - INFO - Chain [1] done processing\n",
      "c:\\Users\\natra\\AppData\\Local\\Programs\\Python\\Python310\\lib\\site-packages\\sklearn\\metrics\\_regression.py:492: FutureWarning: 'squared' is deprecated in version 1.4 and will be removed in 1.6. To calculate the root mean squared error, use the function'root_mean_squared_error'.\n",
      "  warnings.warn(\n"
     ]
    },
    {
     "name": "stdout",
     "output_type": "stream",
     "text": [
      "R² Score: 0.601, RMSE: 3.668, MAE: 2.651\n",
      "\n",
      "Evaluating: changepoint_prior_scale=0.02, seasonality_prior_scale=8.1, seasonality_mode=multiplicative\n"
     ]
    },
    {
     "name": "stderr",
     "output_type": "stream",
     "text": [
      "11:35:00 - cmdstanpy - INFO - Chain [1] start processing\n",
      "11:35:00 - cmdstanpy - INFO - Chain [1] done processing\n",
      "c:\\Users\\natra\\AppData\\Local\\Programs\\Python\\Python310\\lib\\site-packages\\sklearn\\metrics\\_regression.py:492: FutureWarning: 'squared' is deprecated in version 1.4 and will be removed in 1.6. To calculate the root mean squared error, use the function'root_mean_squared_error'.\n",
      "  warnings.warn(\n",
      "11:35:01 - cmdstanpy - INFO - Chain [1] start processing\n",
      "11:35:01 - cmdstanpy - INFO - Chain [1] done processing\n",
      "c:\\Users\\natra\\AppData\\Local\\Programs\\Python\\Python310\\lib\\site-packages\\sklearn\\metrics\\_regression.py:492: FutureWarning: 'squared' is deprecated in version 1.4 and will be removed in 1.6. To calculate the root mean squared error, use the function'root_mean_squared_error'.\n",
      "  warnings.warn(\n",
      "11:35:02 - cmdstanpy - INFO - Chain [1] start processing\n",
      "11:35:02 - cmdstanpy - INFO - Chain [1] done processing\n",
      "c:\\Users\\natra\\AppData\\Local\\Programs\\Python\\Python310\\lib\\site-packages\\sklearn\\metrics\\_regression.py:492: FutureWarning: 'squared' is deprecated in version 1.4 and will be removed in 1.6. To calculate the root mean squared error, use the function'root_mean_squared_error'.\n",
      "  warnings.warn(\n",
      "11:35:02 - cmdstanpy - INFO - Chain [1] start processing\n",
      "11:35:02 - cmdstanpy - INFO - Chain [1] done processing\n",
      "c:\\Users\\natra\\AppData\\Local\\Programs\\Python\\Python310\\lib\\site-packages\\sklearn\\metrics\\_regression.py:492: FutureWarning: 'squared' is deprecated in version 1.4 and will be removed in 1.6. To calculate the root mean squared error, use the function'root_mean_squared_error'.\n",
      "  warnings.warn(\n",
      "11:35:03 - cmdstanpy - INFO - Chain [1] start processing\n",
      "11:35:03 - cmdstanpy - INFO - Chain [1] done processing\n",
      "c:\\Users\\natra\\AppData\\Local\\Programs\\Python\\Python310\\lib\\site-packages\\sklearn\\metrics\\_regression.py:492: FutureWarning: 'squared' is deprecated in version 1.4 and will be removed in 1.6. To calculate the root mean squared error, use the function'root_mean_squared_error'.\n",
      "  warnings.warn(\n"
     ]
    },
    {
     "name": "stdout",
     "output_type": "stream",
     "text": [
      "R² Score: 0.608, RMSE: 3.645, MAE: 2.626\n",
      "\n",
      "Evaluating: changepoint_prior_scale=0.02, seasonality_prior_scale=9.1, seasonality_mode=additive\n"
     ]
    },
    {
     "name": "stderr",
     "output_type": "stream",
     "text": [
      "11:35:03 - cmdstanpy - INFO - Chain [1] start processing\n",
      "11:35:03 - cmdstanpy - INFO - Chain [1] done processing\n",
      "c:\\Users\\natra\\AppData\\Local\\Programs\\Python\\Python310\\lib\\site-packages\\sklearn\\metrics\\_regression.py:492: FutureWarning: 'squared' is deprecated in version 1.4 and will be removed in 1.6. To calculate the root mean squared error, use the function'root_mean_squared_error'.\n",
      "  warnings.warn(\n",
      "11:35:04 - cmdstanpy - INFO - Chain [1] start processing\n",
      "11:35:04 - cmdstanpy - INFO - Chain [1] done processing\n",
      "c:\\Users\\natra\\AppData\\Local\\Programs\\Python\\Python310\\lib\\site-packages\\sklearn\\metrics\\_regression.py:492: FutureWarning: 'squared' is deprecated in version 1.4 and will be removed in 1.6. To calculate the root mean squared error, use the function'root_mean_squared_error'.\n",
      "  warnings.warn(\n",
      "11:35:05 - cmdstanpy - INFO - Chain [1] start processing\n",
      "11:35:05 - cmdstanpy - INFO - Chain [1] done processing\n",
      "c:\\Users\\natra\\AppData\\Local\\Programs\\Python\\Python310\\lib\\site-packages\\sklearn\\metrics\\_regression.py:492: FutureWarning: 'squared' is deprecated in version 1.4 and will be removed in 1.6. To calculate the root mean squared error, use the function'root_mean_squared_error'.\n",
      "  warnings.warn(\n",
      "11:35:05 - cmdstanpy - INFO - Chain [1] start processing\n",
      "11:35:05 - cmdstanpy - INFO - Chain [1] done processing\n",
      "c:\\Users\\natra\\AppData\\Local\\Programs\\Python\\Python310\\lib\\site-packages\\sklearn\\metrics\\_regression.py:492: FutureWarning: 'squared' is deprecated in version 1.4 and will be removed in 1.6. To calculate the root mean squared error, use the function'root_mean_squared_error'.\n",
      "  warnings.warn(\n",
      "11:35:06 - cmdstanpy - INFO - Chain [1] start processing\n",
      "11:35:06 - cmdstanpy - INFO - Chain [1] done processing\n",
      "c:\\Users\\natra\\AppData\\Local\\Programs\\Python\\Python310\\lib\\site-packages\\sklearn\\metrics\\_regression.py:492: FutureWarning: 'squared' is deprecated in version 1.4 and will be removed in 1.6. To calculate the root mean squared error, use the function'root_mean_squared_error'.\n",
      "  warnings.warn(\n"
     ]
    },
    {
     "name": "stdout",
     "output_type": "stream",
     "text": [
      "R² Score: 0.602, RMSE: 3.665, MAE: 2.645\n",
      "\n",
      "Evaluating: changepoint_prior_scale=0.02, seasonality_prior_scale=9.1, seasonality_mode=multiplicative\n"
     ]
    },
    {
     "name": "stderr",
     "output_type": "stream",
     "text": [
      "11:35:06 - cmdstanpy - INFO - Chain [1] start processing\n",
      "11:35:06 - cmdstanpy - INFO - Chain [1] done processing\n",
      "c:\\Users\\natra\\AppData\\Local\\Programs\\Python\\Python310\\lib\\site-packages\\sklearn\\metrics\\_regression.py:492: FutureWarning: 'squared' is deprecated in version 1.4 and will be removed in 1.6. To calculate the root mean squared error, use the function'root_mean_squared_error'.\n",
      "  warnings.warn(\n",
      "11:35:07 - cmdstanpy - INFO - Chain [1] start processing\n",
      "11:35:07 - cmdstanpy - INFO - Chain [1] done processing\n",
      "c:\\Users\\natra\\AppData\\Local\\Programs\\Python\\Python310\\lib\\site-packages\\sklearn\\metrics\\_regression.py:492: FutureWarning: 'squared' is deprecated in version 1.4 and will be removed in 1.6. To calculate the root mean squared error, use the function'root_mean_squared_error'.\n",
      "  warnings.warn(\n",
      "11:35:07 - cmdstanpy - INFO - Chain [1] start processing\n",
      "11:35:07 - cmdstanpy - INFO - Chain [1] done processing\n",
      "c:\\Users\\natra\\AppData\\Local\\Programs\\Python\\Python310\\lib\\site-packages\\sklearn\\metrics\\_regression.py:492: FutureWarning: 'squared' is deprecated in version 1.4 and will be removed in 1.6. To calculate the root mean squared error, use the function'root_mean_squared_error'.\n",
      "  warnings.warn(\n",
      "11:35:08 - cmdstanpy - INFO - Chain [1] start processing\n",
      "11:35:08 - cmdstanpy - INFO - Chain [1] done processing\n",
      "c:\\Users\\natra\\AppData\\Local\\Programs\\Python\\Python310\\lib\\site-packages\\sklearn\\metrics\\_regression.py:492: FutureWarning: 'squared' is deprecated in version 1.4 and will be removed in 1.6. To calculate the root mean squared error, use the function'root_mean_squared_error'.\n",
      "  warnings.warn(\n",
      "11:35:08 - cmdstanpy - INFO - Chain [1] start processing\n",
      "11:35:09 - cmdstanpy - INFO - Chain [1] done processing\n",
      "c:\\Users\\natra\\AppData\\Local\\Programs\\Python\\Python310\\lib\\site-packages\\sklearn\\metrics\\_regression.py:492: FutureWarning: 'squared' is deprecated in version 1.4 and will be removed in 1.6. To calculate the root mean squared error, use the function'root_mean_squared_error'.\n",
      "  warnings.warn(\n"
     ]
    },
    {
     "name": "stdout",
     "output_type": "stream",
     "text": [
      "R² Score: 0.606, RMSE: 3.650, MAE: 2.634\n",
      "\n",
      "Evaluating: changepoint_prior_scale=0.02, seasonality_prior_scale=10.1, seasonality_mode=additive\n"
     ]
    },
    {
     "name": "stderr",
     "output_type": "stream",
     "text": [
      "11:35:09 - cmdstanpy - INFO - Chain [1] start processing\n",
      "11:35:09 - cmdstanpy - INFO - Chain [1] done processing\n",
      "c:\\Users\\natra\\AppData\\Local\\Programs\\Python\\Python310\\lib\\site-packages\\sklearn\\metrics\\_regression.py:492: FutureWarning: 'squared' is deprecated in version 1.4 and will be removed in 1.6. To calculate the root mean squared error, use the function'root_mean_squared_error'.\n",
      "  warnings.warn(\n",
      "11:35:10 - cmdstanpy - INFO - Chain [1] start processing\n",
      "11:35:10 - cmdstanpy - INFO - Chain [1] done processing\n",
      "c:\\Users\\natra\\AppData\\Local\\Programs\\Python\\Python310\\lib\\site-packages\\sklearn\\metrics\\_regression.py:492: FutureWarning: 'squared' is deprecated in version 1.4 and will be removed in 1.6. To calculate the root mean squared error, use the function'root_mean_squared_error'.\n",
      "  warnings.warn(\n",
      "11:35:10 - cmdstanpy - INFO - Chain [1] start processing\n",
      "11:35:10 - cmdstanpy - INFO - Chain [1] done processing\n",
      "c:\\Users\\natra\\AppData\\Local\\Programs\\Python\\Python310\\lib\\site-packages\\sklearn\\metrics\\_regression.py:492: FutureWarning: 'squared' is deprecated in version 1.4 and will be removed in 1.6. To calculate the root mean squared error, use the function'root_mean_squared_error'.\n",
      "  warnings.warn(\n",
      "11:35:11 - cmdstanpy - INFO - Chain [1] start processing\n",
      "11:35:11 - cmdstanpy - INFO - Chain [1] done processing\n",
      "c:\\Users\\natra\\AppData\\Local\\Programs\\Python\\Python310\\lib\\site-packages\\sklearn\\metrics\\_regression.py:492: FutureWarning: 'squared' is deprecated in version 1.4 and will be removed in 1.6. To calculate the root mean squared error, use the function'root_mean_squared_error'.\n",
      "  warnings.warn(\n",
      "11:35:11 - cmdstanpy - INFO - Chain [1] start processing\n",
      "11:35:11 - cmdstanpy - INFO - Chain [1] done processing\n",
      "c:\\Users\\natra\\AppData\\Local\\Programs\\Python\\Python310\\lib\\site-packages\\sklearn\\metrics\\_regression.py:492: FutureWarning: 'squared' is deprecated in version 1.4 and will be removed in 1.6. To calculate the root mean squared error, use the function'root_mean_squared_error'.\n",
      "  warnings.warn(\n"
     ]
    },
    {
     "name": "stdout",
     "output_type": "stream",
     "text": [
      "R² Score: 0.603, RMSE: 3.665, MAE: 2.647\n",
      "\n",
      "Evaluating: changepoint_prior_scale=0.02, seasonality_prior_scale=10.1, seasonality_mode=multiplicative\n"
     ]
    },
    {
     "name": "stderr",
     "output_type": "stream",
     "text": [
      "11:35:12 - cmdstanpy - INFO - Chain [1] start processing\n",
      "11:35:12 - cmdstanpy - INFO - Chain [1] done processing\n",
      "c:\\Users\\natra\\AppData\\Local\\Programs\\Python\\Python310\\lib\\site-packages\\sklearn\\metrics\\_regression.py:492: FutureWarning: 'squared' is deprecated in version 1.4 and will be removed in 1.6. To calculate the root mean squared error, use the function'root_mean_squared_error'.\n",
      "  warnings.warn(\n",
      "11:35:12 - cmdstanpy - INFO - Chain [1] start processing\n",
      "11:35:12 - cmdstanpy - INFO - Chain [1] done processing\n",
      "c:\\Users\\natra\\AppData\\Local\\Programs\\Python\\Python310\\lib\\site-packages\\sklearn\\metrics\\_regression.py:492: FutureWarning: 'squared' is deprecated in version 1.4 and will be removed in 1.6. To calculate the root mean squared error, use the function'root_mean_squared_error'.\n",
      "  warnings.warn(\n",
      "11:35:13 - cmdstanpy - INFO - Chain [1] start processing\n",
      "11:35:13 - cmdstanpy - INFO - Chain [1] done processing\n",
      "c:\\Users\\natra\\AppData\\Local\\Programs\\Python\\Python310\\lib\\site-packages\\sklearn\\metrics\\_regression.py:492: FutureWarning: 'squared' is deprecated in version 1.4 and will be removed in 1.6. To calculate the root mean squared error, use the function'root_mean_squared_error'.\n",
      "  warnings.warn(\n",
      "11:35:14 - cmdstanpy - INFO - Chain [1] start processing\n",
      "11:35:14 - cmdstanpy - INFO - Chain [1] done processing\n",
      "c:\\Users\\natra\\AppData\\Local\\Programs\\Python\\Python310\\lib\\site-packages\\sklearn\\metrics\\_regression.py:492: FutureWarning: 'squared' is deprecated in version 1.4 and will be removed in 1.6. To calculate the root mean squared error, use the function'root_mean_squared_error'.\n",
      "  warnings.warn(\n",
      "11:35:14 - cmdstanpy - INFO - Chain [1] start processing\n",
      "11:35:14 - cmdstanpy - INFO - Chain [1] done processing\n",
      "c:\\Users\\natra\\AppData\\Local\\Programs\\Python\\Python310\\lib\\site-packages\\sklearn\\metrics\\_regression.py:492: FutureWarning: 'squared' is deprecated in version 1.4 and will be removed in 1.6. To calculate the root mean squared error, use the function'root_mean_squared_error'.\n",
      "  warnings.warn(\n"
     ]
    },
    {
     "name": "stdout",
     "output_type": "stream",
     "text": [
      "R² Score: 0.607, RMSE: 3.650, MAE: 2.633\n",
      "\n",
      "Evaluating: changepoint_prior_scale=0.03, seasonality_prior_scale=0.1, seasonality_mode=additive\n"
     ]
    },
    {
     "name": "stderr",
     "output_type": "stream",
     "text": [
      "11:35:15 - cmdstanpy - INFO - Chain [1] start processing\n",
      "11:35:15 - cmdstanpy - INFO - Chain [1] done processing\n",
      "c:\\Users\\natra\\AppData\\Local\\Programs\\Python\\Python310\\lib\\site-packages\\sklearn\\metrics\\_regression.py:492: FutureWarning: 'squared' is deprecated in version 1.4 and will be removed in 1.6. To calculate the root mean squared error, use the function'root_mean_squared_error'.\n",
      "  warnings.warn(\n",
      "11:35:15 - cmdstanpy - INFO - Chain [1] start processing\n",
      "11:35:15 - cmdstanpy - INFO - Chain [1] done processing\n",
      "c:\\Users\\natra\\AppData\\Local\\Programs\\Python\\Python310\\lib\\site-packages\\sklearn\\metrics\\_regression.py:492: FutureWarning: 'squared' is deprecated in version 1.4 and will be removed in 1.6. To calculate the root mean squared error, use the function'root_mean_squared_error'.\n",
      "  warnings.warn(\n",
      "11:35:16 - cmdstanpy - INFO - Chain [1] start processing\n",
      "11:35:16 - cmdstanpy - INFO - Chain [1] done processing\n",
      "c:\\Users\\natra\\AppData\\Local\\Programs\\Python\\Python310\\lib\\site-packages\\sklearn\\metrics\\_regression.py:492: FutureWarning: 'squared' is deprecated in version 1.4 and will be removed in 1.6. To calculate the root mean squared error, use the function'root_mean_squared_error'.\n",
      "  warnings.warn(\n",
      "11:35:16 - cmdstanpy - INFO - Chain [1] start processing\n",
      "11:35:17 - cmdstanpy - INFO - Chain [1] done processing\n",
      "c:\\Users\\natra\\AppData\\Local\\Programs\\Python\\Python310\\lib\\site-packages\\sklearn\\metrics\\_regression.py:492: FutureWarning: 'squared' is deprecated in version 1.4 and will be removed in 1.6. To calculate the root mean squared error, use the function'root_mean_squared_error'.\n",
      "  warnings.warn(\n",
      "11:35:17 - cmdstanpy - INFO - Chain [1] start processing\n",
      "11:35:17 - cmdstanpy - INFO - Chain [1] done processing\n",
      "c:\\Users\\natra\\AppData\\Local\\Programs\\Python\\Python310\\lib\\site-packages\\sklearn\\metrics\\_regression.py:492: FutureWarning: 'squared' is deprecated in version 1.4 and will be removed in 1.6. To calculate the root mean squared error, use the function'root_mean_squared_error'.\n",
      "  warnings.warn(\n"
     ]
    },
    {
     "name": "stdout",
     "output_type": "stream",
     "text": [
      "R² Score: 0.602, RMSE: 3.667, MAE: 2.655\n",
      "\n",
      "Evaluating: changepoint_prior_scale=0.03, seasonality_prior_scale=0.1, seasonality_mode=multiplicative\n"
     ]
    },
    {
     "name": "stderr",
     "output_type": "stream",
     "text": [
      "11:35:18 - cmdstanpy - INFO - Chain [1] start processing\n",
      "11:35:18 - cmdstanpy - INFO - Chain [1] done processing\n",
      "c:\\Users\\natra\\AppData\\Local\\Programs\\Python\\Python310\\lib\\site-packages\\sklearn\\metrics\\_regression.py:492: FutureWarning: 'squared' is deprecated in version 1.4 and will be removed in 1.6. To calculate the root mean squared error, use the function'root_mean_squared_error'.\n",
      "  warnings.warn(\n",
      "11:35:18 - cmdstanpy - INFO - Chain [1] start processing\n",
      "11:35:18 - cmdstanpy - INFO - Chain [1] done processing\n",
      "c:\\Users\\natra\\AppData\\Local\\Programs\\Python\\Python310\\lib\\site-packages\\sklearn\\metrics\\_regression.py:492: FutureWarning: 'squared' is deprecated in version 1.4 and will be removed in 1.6. To calculate the root mean squared error, use the function'root_mean_squared_error'.\n",
      "  warnings.warn(\n",
      "11:35:19 - cmdstanpy - INFO - Chain [1] start processing\n",
      "11:35:19 - cmdstanpy - INFO - Chain [1] done processing\n",
      "c:\\Users\\natra\\AppData\\Local\\Programs\\Python\\Python310\\lib\\site-packages\\sklearn\\metrics\\_regression.py:492: FutureWarning: 'squared' is deprecated in version 1.4 and will be removed in 1.6. To calculate the root mean squared error, use the function'root_mean_squared_error'.\n",
      "  warnings.warn(\n",
      "11:35:19 - cmdstanpy - INFO - Chain [1] start processing\n",
      "11:35:20 - cmdstanpy - INFO - Chain [1] done processing\n",
      "c:\\Users\\natra\\AppData\\Local\\Programs\\Python\\Python310\\lib\\site-packages\\sklearn\\metrics\\_regression.py:492: FutureWarning: 'squared' is deprecated in version 1.4 and will be removed in 1.6. To calculate the root mean squared error, use the function'root_mean_squared_error'.\n",
      "  warnings.warn(\n",
      "11:35:20 - cmdstanpy - INFO - Chain [1] start processing\n",
      "11:35:20 - cmdstanpy - INFO - Chain [1] done processing\n",
      "c:\\Users\\natra\\AppData\\Local\\Programs\\Python\\Python310\\lib\\site-packages\\sklearn\\metrics\\_regression.py:492: FutureWarning: 'squared' is deprecated in version 1.4 and will be removed in 1.6. To calculate the root mean squared error, use the function'root_mean_squared_error'.\n",
      "  warnings.warn(\n"
     ]
    },
    {
     "name": "stdout",
     "output_type": "stream",
     "text": [
      "R² Score: 0.606, RMSE: 3.655, MAE: 2.640\n",
      "\n",
      "Evaluating: changepoint_prior_scale=0.03, seasonality_prior_scale=1.1, seasonality_mode=additive\n"
     ]
    },
    {
     "name": "stderr",
     "output_type": "stream",
     "text": [
      "11:35:21 - cmdstanpy - INFO - Chain [1] start processing\n",
      "11:35:21 - cmdstanpy - INFO - Chain [1] done processing\n",
      "c:\\Users\\natra\\AppData\\Local\\Programs\\Python\\Python310\\lib\\site-packages\\sklearn\\metrics\\_regression.py:492: FutureWarning: 'squared' is deprecated in version 1.4 and will be removed in 1.6. To calculate the root mean squared error, use the function'root_mean_squared_error'.\n",
      "  warnings.warn(\n",
      "11:35:21 - cmdstanpy - INFO - Chain [1] start processing\n",
      "11:35:21 - cmdstanpy - INFO - Chain [1] done processing\n",
      "c:\\Users\\natra\\AppData\\Local\\Programs\\Python\\Python310\\lib\\site-packages\\sklearn\\metrics\\_regression.py:492: FutureWarning: 'squared' is deprecated in version 1.4 and will be removed in 1.6. To calculate the root mean squared error, use the function'root_mean_squared_error'.\n",
      "  warnings.warn(\n",
      "11:35:22 - cmdstanpy - INFO - Chain [1] start processing\n",
      "11:35:22 - cmdstanpy - INFO - Chain [1] done processing\n",
      "c:\\Users\\natra\\AppData\\Local\\Programs\\Python\\Python310\\lib\\site-packages\\sklearn\\metrics\\_regression.py:492: FutureWarning: 'squared' is deprecated in version 1.4 and will be removed in 1.6. To calculate the root mean squared error, use the function'root_mean_squared_error'.\n",
      "  warnings.warn(\n",
      "11:35:22 - cmdstanpy - INFO - Chain [1] start processing\n",
      "11:35:22 - cmdstanpy - INFO - Chain [1] done processing\n",
      "c:\\Users\\natra\\AppData\\Local\\Programs\\Python\\Python310\\lib\\site-packages\\sklearn\\metrics\\_regression.py:492: FutureWarning: 'squared' is deprecated in version 1.4 and will be removed in 1.6. To calculate the root mean squared error, use the function'root_mean_squared_error'.\n",
      "  warnings.warn(\n",
      "11:35:23 - cmdstanpy - INFO - Chain [1] start processing\n",
      "11:35:23 - cmdstanpy - INFO - Chain [1] done processing\n",
      "c:\\Users\\natra\\AppData\\Local\\Programs\\Python\\Python310\\lib\\site-packages\\sklearn\\metrics\\_regression.py:492: FutureWarning: 'squared' is deprecated in version 1.4 and will be removed in 1.6. To calculate the root mean squared error, use the function'root_mean_squared_error'.\n",
      "  warnings.warn(\n"
     ]
    },
    {
     "name": "stdout",
     "output_type": "stream",
     "text": [
      "R² Score: 0.604, RMSE: 3.660, MAE: 2.645\n",
      "\n",
      "Evaluating: changepoint_prior_scale=0.03, seasonality_prior_scale=1.1, seasonality_mode=multiplicative\n"
     ]
    },
    {
     "name": "stderr",
     "output_type": "stream",
     "text": [
      "11:35:23 - cmdstanpy - INFO - Chain [1] start processing\n",
      "11:35:24 - cmdstanpy - INFO - Chain [1] done processing\n",
      "c:\\Users\\natra\\AppData\\Local\\Programs\\Python\\Python310\\lib\\site-packages\\sklearn\\metrics\\_regression.py:492: FutureWarning: 'squared' is deprecated in version 1.4 and will be removed in 1.6. To calculate the root mean squared error, use the function'root_mean_squared_error'.\n",
      "  warnings.warn(\n",
      "11:35:24 - cmdstanpy - INFO - Chain [1] start processing\n",
      "11:35:24 - cmdstanpy - INFO - Chain [1] done processing\n",
      "c:\\Users\\natra\\AppData\\Local\\Programs\\Python\\Python310\\lib\\site-packages\\sklearn\\metrics\\_regression.py:492: FutureWarning: 'squared' is deprecated in version 1.4 and will be removed in 1.6. To calculate the root mean squared error, use the function'root_mean_squared_error'.\n",
      "  warnings.warn(\n",
      "11:35:25 - cmdstanpy - INFO - Chain [1] start processing\n",
      "11:35:25 - cmdstanpy - INFO - Chain [1] done processing\n",
      "c:\\Users\\natra\\AppData\\Local\\Programs\\Python\\Python310\\lib\\site-packages\\sklearn\\metrics\\_regression.py:492: FutureWarning: 'squared' is deprecated in version 1.4 and will be removed in 1.6. To calculate the root mean squared error, use the function'root_mean_squared_error'.\n",
      "  warnings.warn(\n",
      "11:35:25 - cmdstanpy - INFO - Chain [1] start processing\n",
      "11:35:25 - cmdstanpy - INFO - Chain [1] done processing\n",
      "c:\\Users\\natra\\AppData\\Local\\Programs\\Python\\Python310\\lib\\site-packages\\sklearn\\metrics\\_regression.py:492: FutureWarning: 'squared' is deprecated in version 1.4 and will be removed in 1.6. To calculate the root mean squared error, use the function'root_mean_squared_error'.\n",
      "  warnings.warn(\n",
      "11:35:26 - cmdstanpy - INFO - Chain [1] start processing\n",
      "11:35:26 - cmdstanpy - INFO - Chain [1] done processing\n",
      "c:\\Users\\natra\\AppData\\Local\\Programs\\Python\\Python310\\lib\\site-packages\\sklearn\\metrics\\_regression.py:492: FutureWarning: 'squared' is deprecated in version 1.4 and will be removed in 1.6. To calculate the root mean squared error, use the function'root_mean_squared_error'.\n",
      "  warnings.warn(\n"
     ]
    },
    {
     "name": "stdout",
     "output_type": "stream",
     "text": [
      "R² Score: 0.605, RMSE: 3.655, MAE: 2.638\n",
      "\n",
      "Evaluating: changepoint_prior_scale=0.03, seasonality_prior_scale=2.1, seasonality_mode=additive\n"
     ]
    },
    {
     "name": "stderr",
     "output_type": "stream",
     "text": [
      "11:35:26 - cmdstanpy - INFO - Chain [1] start processing\n",
      "11:35:26 - cmdstanpy - INFO - Chain [1] done processing\n",
      "c:\\Users\\natra\\AppData\\Local\\Programs\\Python\\Python310\\lib\\site-packages\\sklearn\\metrics\\_regression.py:492: FutureWarning: 'squared' is deprecated in version 1.4 and will be removed in 1.6. To calculate the root mean squared error, use the function'root_mean_squared_error'.\n",
      "  warnings.warn(\n",
      "11:35:27 - cmdstanpy - INFO - Chain [1] start processing\n",
      "11:35:27 - cmdstanpy - INFO - Chain [1] done processing\n",
      "c:\\Users\\natra\\AppData\\Local\\Programs\\Python\\Python310\\lib\\site-packages\\sklearn\\metrics\\_regression.py:492: FutureWarning: 'squared' is deprecated in version 1.4 and will be removed in 1.6. To calculate the root mean squared error, use the function'root_mean_squared_error'.\n",
      "  warnings.warn(\n",
      "11:35:27 - cmdstanpy - INFO - Chain [1] start processing\n",
      "11:35:27 - cmdstanpy - INFO - Chain [1] done processing\n",
      "c:\\Users\\natra\\AppData\\Local\\Programs\\Python\\Python310\\lib\\site-packages\\sklearn\\metrics\\_regression.py:492: FutureWarning: 'squared' is deprecated in version 1.4 and will be removed in 1.6. To calculate the root mean squared error, use the function'root_mean_squared_error'.\n",
      "  warnings.warn(\n",
      "11:35:28 - cmdstanpy - INFO - Chain [1] start processing\n",
      "11:35:28 - cmdstanpy - INFO - Chain [1] done processing\n",
      "c:\\Users\\natra\\AppData\\Local\\Programs\\Python\\Python310\\lib\\site-packages\\sklearn\\metrics\\_regression.py:492: FutureWarning: 'squared' is deprecated in version 1.4 and will be removed in 1.6. To calculate the root mean squared error, use the function'root_mean_squared_error'.\n",
      "  warnings.warn(\n",
      "11:35:28 - cmdstanpy - INFO - Chain [1] start processing\n",
      "11:35:29 - cmdstanpy - INFO - Chain [1] done processing\n",
      "c:\\Users\\natra\\AppData\\Local\\Programs\\Python\\Python310\\lib\\site-packages\\sklearn\\metrics\\_regression.py:492: FutureWarning: 'squared' is deprecated in version 1.4 and will be removed in 1.6. To calculate the root mean squared error, use the function'root_mean_squared_error'.\n",
      "  warnings.warn(\n"
     ]
    },
    {
     "name": "stdout",
     "output_type": "stream",
     "text": [
      "R² Score: 0.603, RMSE: 3.662, MAE: 2.649\n",
      "\n",
      "Evaluating: changepoint_prior_scale=0.03, seasonality_prior_scale=2.1, seasonality_mode=multiplicative\n"
     ]
    },
    {
     "name": "stderr",
     "output_type": "stream",
     "text": [
      "11:35:29 - cmdstanpy - INFO - Chain [1] start processing\n",
      "11:35:29 - cmdstanpy - INFO - Chain [1] done processing\n",
      "c:\\Users\\natra\\AppData\\Local\\Programs\\Python\\Python310\\lib\\site-packages\\sklearn\\metrics\\_regression.py:492: FutureWarning: 'squared' is deprecated in version 1.4 and will be removed in 1.6. To calculate the root mean squared error, use the function'root_mean_squared_error'.\n",
      "  warnings.warn(\n",
      "11:35:30 - cmdstanpy - INFO - Chain [1] start processing\n",
      "11:35:30 - cmdstanpy - INFO - Chain [1] done processing\n",
      "c:\\Users\\natra\\AppData\\Local\\Programs\\Python\\Python310\\lib\\site-packages\\sklearn\\metrics\\_regression.py:492: FutureWarning: 'squared' is deprecated in version 1.4 and will be removed in 1.6. To calculate the root mean squared error, use the function'root_mean_squared_error'.\n",
      "  warnings.warn(\n",
      "11:35:30 - cmdstanpy - INFO - Chain [1] start processing\n",
      "11:35:30 - cmdstanpy - INFO - Chain [1] done processing\n",
      "c:\\Users\\natra\\AppData\\Local\\Programs\\Python\\Python310\\lib\\site-packages\\sklearn\\metrics\\_regression.py:492: FutureWarning: 'squared' is deprecated in version 1.4 and will be removed in 1.6. To calculate the root mean squared error, use the function'root_mean_squared_error'.\n",
      "  warnings.warn(\n",
      "11:35:31 - cmdstanpy - INFO - Chain [1] start processing\n",
      "11:35:31 - cmdstanpy - INFO - Chain [1] done processing\n",
      "c:\\Users\\natra\\AppData\\Local\\Programs\\Python\\Python310\\lib\\site-packages\\sklearn\\metrics\\_regression.py:492: FutureWarning: 'squared' is deprecated in version 1.4 and will be removed in 1.6. To calculate the root mean squared error, use the function'root_mean_squared_error'.\n",
      "  warnings.warn(\n",
      "11:35:31 - cmdstanpy - INFO - Chain [1] start processing\n",
      "11:35:31 - cmdstanpy - INFO - Chain [1] done processing\n",
      "c:\\Users\\natra\\AppData\\Local\\Programs\\Python\\Python310\\lib\\site-packages\\sklearn\\metrics\\_regression.py:492: FutureWarning: 'squared' is deprecated in version 1.4 and will be removed in 1.6. To calculate the root mean squared error, use the function'root_mean_squared_error'.\n",
      "  warnings.warn(\n"
     ]
    },
    {
     "name": "stdout",
     "output_type": "stream",
     "text": [
      "R² Score: 0.604, RMSE: 3.659, MAE: 2.645\n",
      "\n",
      "Evaluating: changepoint_prior_scale=0.03, seasonality_prior_scale=3.1, seasonality_mode=additive\n"
     ]
    },
    {
     "name": "stderr",
     "output_type": "stream",
     "text": [
      "11:35:32 - cmdstanpy - INFO - Chain [1] start processing\n",
      "11:35:32 - cmdstanpy - INFO - Chain [1] done processing\n",
      "c:\\Users\\natra\\AppData\\Local\\Programs\\Python\\Python310\\lib\\site-packages\\sklearn\\metrics\\_regression.py:492: FutureWarning: 'squared' is deprecated in version 1.4 and will be removed in 1.6. To calculate the root mean squared error, use the function'root_mean_squared_error'.\n",
      "  warnings.warn(\n",
      "11:35:33 - cmdstanpy - INFO - Chain [1] start processing\n",
      "11:35:33 - cmdstanpy - INFO - Chain [1] done processing\n",
      "c:\\Users\\natra\\AppData\\Local\\Programs\\Python\\Python310\\lib\\site-packages\\sklearn\\metrics\\_regression.py:492: FutureWarning: 'squared' is deprecated in version 1.4 and will be removed in 1.6. To calculate the root mean squared error, use the function'root_mean_squared_error'.\n",
      "  warnings.warn(\n",
      "11:35:33 - cmdstanpy - INFO - Chain [1] start processing\n",
      "11:35:33 - cmdstanpy - INFO - Chain [1] done processing\n",
      "c:\\Users\\natra\\AppData\\Local\\Programs\\Python\\Python310\\lib\\site-packages\\sklearn\\metrics\\_regression.py:492: FutureWarning: 'squared' is deprecated in version 1.4 and will be removed in 1.6. To calculate the root mean squared error, use the function'root_mean_squared_error'.\n",
      "  warnings.warn(\n",
      "11:35:34 - cmdstanpy - INFO - Chain [1] start processing\n",
      "11:35:34 - cmdstanpy - INFO - Chain [1] done processing\n",
      "c:\\Users\\natra\\AppData\\Local\\Programs\\Python\\Python310\\lib\\site-packages\\sklearn\\metrics\\_regression.py:492: FutureWarning: 'squared' is deprecated in version 1.4 and will be removed in 1.6. To calculate the root mean squared error, use the function'root_mean_squared_error'.\n",
      "  warnings.warn(\n",
      "11:35:35 - cmdstanpy - INFO - Chain [1] start processing\n",
      "11:35:35 - cmdstanpy - INFO - Chain [1] done processing\n",
      "c:\\Users\\natra\\AppData\\Local\\Programs\\Python\\Python310\\lib\\site-packages\\sklearn\\metrics\\_regression.py:492: FutureWarning: 'squared' is deprecated in version 1.4 and will be removed in 1.6. To calculate the root mean squared error, use the function'root_mean_squared_error'.\n",
      "  warnings.warn(\n"
     ]
    },
    {
     "name": "stdout",
     "output_type": "stream",
     "text": [
      "R² Score: 0.604, RMSE: 3.661, MAE: 2.647\n",
      "\n",
      "Evaluating: changepoint_prior_scale=0.03, seasonality_prior_scale=3.1, seasonality_mode=multiplicative\n"
     ]
    },
    {
     "name": "stderr",
     "output_type": "stream",
     "text": [
      "11:35:35 - cmdstanpy - INFO - Chain [1] start processing\n",
      "11:35:35 - cmdstanpy - INFO - Chain [1] done processing\n",
      "c:\\Users\\natra\\AppData\\Local\\Programs\\Python\\Python310\\lib\\site-packages\\sklearn\\metrics\\_regression.py:492: FutureWarning: 'squared' is deprecated in version 1.4 and will be removed in 1.6. To calculate the root mean squared error, use the function'root_mean_squared_error'.\n",
      "  warnings.warn(\n",
      "11:35:36 - cmdstanpy - INFO - Chain [1] start processing\n",
      "11:35:36 - cmdstanpy - INFO - Chain [1] done processing\n",
      "c:\\Users\\natra\\AppData\\Local\\Programs\\Python\\Python310\\lib\\site-packages\\sklearn\\metrics\\_regression.py:492: FutureWarning: 'squared' is deprecated in version 1.4 and will be removed in 1.6. To calculate the root mean squared error, use the function'root_mean_squared_error'.\n",
      "  warnings.warn(\n",
      "11:35:37 - cmdstanpy - INFO - Chain [1] start processing\n",
      "11:35:37 - cmdstanpy - INFO - Chain [1] done processing\n",
      "c:\\Users\\natra\\AppData\\Local\\Programs\\Python\\Python310\\lib\\site-packages\\sklearn\\metrics\\_regression.py:492: FutureWarning: 'squared' is deprecated in version 1.4 and will be removed in 1.6. To calculate the root mean squared error, use the function'root_mean_squared_error'.\n",
      "  warnings.warn(\n",
      "11:35:37 - cmdstanpy - INFO - Chain [1] start processing\n",
      "11:35:37 - cmdstanpy - INFO - Chain [1] done processing\n",
      "c:\\Users\\natra\\AppData\\Local\\Programs\\Python\\Python310\\lib\\site-packages\\sklearn\\metrics\\_regression.py:492: FutureWarning: 'squared' is deprecated in version 1.4 and will be removed in 1.6. To calculate the root mean squared error, use the function'root_mean_squared_error'.\n",
      "  warnings.warn(\n",
      "11:35:38 - cmdstanpy - INFO - Chain [1] start processing\n",
      "11:35:38 - cmdstanpy - INFO - Chain [1] done processing\n",
      "c:\\Users\\natra\\AppData\\Local\\Programs\\Python\\Python310\\lib\\site-packages\\sklearn\\metrics\\_regression.py:492: FutureWarning: 'squared' is deprecated in version 1.4 and will be removed in 1.6. To calculate the root mean squared error, use the function'root_mean_squared_error'.\n",
      "  warnings.warn(\n"
     ]
    },
    {
     "name": "stdout",
     "output_type": "stream",
     "text": [
      "R² Score: 0.605, RMSE: 3.656, MAE: 2.641\n",
      "\n",
      "Evaluating: changepoint_prior_scale=0.03, seasonality_prior_scale=4.1, seasonality_mode=additive\n"
     ]
    },
    {
     "name": "stderr",
     "output_type": "stream",
     "text": [
      "11:35:39 - cmdstanpy - INFO - Chain [1] start processing\n",
      "11:35:39 - cmdstanpy - INFO - Chain [1] done processing\n",
      "c:\\Users\\natra\\AppData\\Local\\Programs\\Python\\Python310\\lib\\site-packages\\sklearn\\metrics\\_regression.py:492: FutureWarning: 'squared' is deprecated in version 1.4 and will be removed in 1.6. To calculate the root mean squared error, use the function'root_mean_squared_error'.\n",
      "  warnings.warn(\n",
      "11:35:39 - cmdstanpy - INFO - Chain [1] start processing\n",
      "11:35:39 - cmdstanpy - INFO - Chain [1] done processing\n",
      "c:\\Users\\natra\\AppData\\Local\\Programs\\Python\\Python310\\lib\\site-packages\\sklearn\\metrics\\_regression.py:492: FutureWarning: 'squared' is deprecated in version 1.4 and will be removed in 1.6. To calculate the root mean squared error, use the function'root_mean_squared_error'.\n",
      "  warnings.warn(\n",
      "11:35:40 - cmdstanpy - INFO - Chain [1] start processing\n",
      "11:35:40 - cmdstanpy - INFO - Chain [1] done processing\n",
      "c:\\Users\\natra\\AppData\\Local\\Programs\\Python\\Python310\\lib\\site-packages\\sklearn\\metrics\\_regression.py:492: FutureWarning: 'squared' is deprecated in version 1.4 and will be removed in 1.6. To calculate the root mean squared error, use the function'root_mean_squared_error'.\n",
      "  warnings.warn(\n",
      "11:35:40 - cmdstanpy - INFO - Chain [1] start processing\n",
      "11:35:41 - cmdstanpy - INFO - Chain [1] done processing\n",
      "c:\\Users\\natra\\AppData\\Local\\Programs\\Python\\Python310\\lib\\site-packages\\sklearn\\metrics\\_regression.py:492: FutureWarning: 'squared' is deprecated in version 1.4 and will be removed in 1.6. To calculate the root mean squared error, use the function'root_mean_squared_error'.\n",
      "  warnings.warn(\n",
      "11:35:41 - cmdstanpy - INFO - Chain [1] start processing\n",
      "11:35:41 - cmdstanpy - INFO - Chain [1] done processing\n",
      "c:\\Users\\natra\\AppData\\Local\\Programs\\Python\\Python310\\lib\\site-packages\\sklearn\\metrics\\_regression.py:492: FutureWarning: 'squared' is deprecated in version 1.4 and will be removed in 1.6. To calculate the root mean squared error, use the function'root_mean_squared_error'.\n",
      "  warnings.warn(\n"
     ]
    },
    {
     "name": "stdout",
     "output_type": "stream",
     "text": [
      "R² Score: 0.603, RMSE: 3.664, MAE: 2.648\n",
      "\n",
      "Evaluating: changepoint_prior_scale=0.03, seasonality_prior_scale=4.1, seasonality_mode=multiplicative\n"
     ]
    },
    {
     "name": "stderr",
     "output_type": "stream",
     "text": [
      "11:35:42 - cmdstanpy - INFO - Chain [1] start processing\n",
      "11:35:42 - cmdstanpy - INFO - Chain [1] done processing\n",
      "c:\\Users\\natra\\AppData\\Local\\Programs\\Python\\Python310\\lib\\site-packages\\sklearn\\metrics\\_regression.py:492: FutureWarning: 'squared' is deprecated in version 1.4 and will be removed in 1.6. To calculate the root mean squared error, use the function'root_mean_squared_error'.\n",
      "  warnings.warn(\n",
      "11:35:42 - cmdstanpy - INFO - Chain [1] start processing\n",
      "11:35:42 - cmdstanpy - INFO - Chain [1] done processing\n",
      "c:\\Users\\natra\\AppData\\Local\\Programs\\Python\\Python310\\lib\\site-packages\\sklearn\\metrics\\_regression.py:492: FutureWarning: 'squared' is deprecated in version 1.4 and will be removed in 1.6. To calculate the root mean squared error, use the function'root_mean_squared_error'.\n",
      "  warnings.warn(\n",
      "11:35:43 - cmdstanpy - INFO - Chain [1] start processing\n",
      "11:35:43 - cmdstanpy - INFO - Chain [1] done processing\n",
      "c:\\Users\\natra\\AppData\\Local\\Programs\\Python\\Python310\\lib\\site-packages\\sklearn\\metrics\\_regression.py:492: FutureWarning: 'squared' is deprecated in version 1.4 and will be removed in 1.6. To calculate the root mean squared error, use the function'root_mean_squared_error'.\n",
      "  warnings.warn(\n",
      "11:35:43 - cmdstanpy - INFO - Chain [1] start processing\n",
      "11:35:43 - cmdstanpy - INFO - Chain [1] done processing\n",
      "c:\\Users\\natra\\AppData\\Local\\Programs\\Python\\Python310\\lib\\site-packages\\sklearn\\metrics\\_regression.py:492: FutureWarning: 'squared' is deprecated in version 1.4 and will be removed in 1.6. To calculate the root mean squared error, use the function'root_mean_squared_error'.\n",
      "  warnings.warn(\n",
      "11:35:44 - cmdstanpy - INFO - Chain [1] start processing\n",
      "11:35:44 - cmdstanpy - INFO - Chain [1] done processing\n",
      "c:\\Users\\natra\\AppData\\Local\\Programs\\Python\\Python310\\lib\\site-packages\\sklearn\\metrics\\_regression.py:492: FutureWarning: 'squared' is deprecated in version 1.4 and will be removed in 1.6. To calculate the root mean squared error, use the function'root_mean_squared_error'.\n",
      "  warnings.warn(\n"
     ]
    },
    {
     "name": "stdout",
     "output_type": "stream",
     "text": [
      "R² Score: 0.605, RMSE: 3.656, MAE: 2.641\n",
      "\n",
      "Evaluating: changepoint_prior_scale=0.03, seasonality_prior_scale=5.1, seasonality_mode=additive\n"
     ]
    },
    {
     "name": "stderr",
     "output_type": "stream",
     "text": [
      "11:35:44 - cmdstanpy - INFO - Chain [1] start processing\n",
      "11:35:45 - cmdstanpy - INFO - Chain [1] done processing\n",
      "c:\\Users\\natra\\AppData\\Local\\Programs\\Python\\Python310\\lib\\site-packages\\sklearn\\metrics\\_regression.py:492: FutureWarning: 'squared' is deprecated in version 1.4 and will be removed in 1.6. To calculate the root mean squared error, use the function'root_mean_squared_error'.\n",
      "  warnings.warn(\n",
      "11:35:45 - cmdstanpy - INFO - Chain [1] start processing\n",
      "11:35:45 - cmdstanpy - INFO - Chain [1] done processing\n",
      "c:\\Users\\natra\\AppData\\Local\\Programs\\Python\\Python310\\lib\\site-packages\\sklearn\\metrics\\_regression.py:492: FutureWarning: 'squared' is deprecated in version 1.4 and will be removed in 1.6. To calculate the root mean squared error, use the function'root_mean_squared_error'.\n",
      "  warnings.warn(\n",
      "11:35:46 - cmdstanpy - INFO - Chain [1] start processing\n",
      "11:35:46 - cmdstanpy - INFO - Chain [1] done processing\n",
      "c:\\Users\\natra\\AppData\\Local\\Programs\\Python\\Python310\\lib\\site-packages\\sklearn\\metrics\\_regression.py:492: FutureWarning: 'squared' is deprecated in version 1.4 and will be removed in 1.6. To calculate the root mean squared error, use the function'root_mean_squared_error'.\n",
      "  warnings.warn(\n",
      "11:35:46 - cmdstanpy - INFO - Chain [1] start processing\n",
      "11:35:46 - cmdstanpy - INFO - Chain [1] done processing\n",
      "c:\\Users\\natra\\AppData\\Local\\Programs\\Python\\Python310\\lib\\site-packages\\sklearn\\metrics\\_regression.py:492: FutureWarning: 'squared' is deprecated in version 1.4 and will be removed in 1.6. To calculate the root mean squared error, use the function'root_mean_squared_error'.\n",
      "  warnings.warn(\n",
      "11:35:47 - cmdstanpy - INFO - Chain [1] start processing\n",
      "11:35:47 - cmdstanpy - INFO - Chain [1] done processing\n",
      "c:\\Users\\natra\\AppData\\Local\\Programs\\Python\\Python310\\lib\\site-packages\\sklearn\\metrics\\_regression.py:492: FutureWarning: 'squared' is deprecated in version 1.4 and will be removed in 1.6. To calculate the root mean squared error, use the function'root_mean_squared_error'.\n",
      "  warnings.warn(\n"
     ]
    },
    {
     "name": "stdout",
     "output_type": "stream",
     "text": [
      "R² Score: 0.603, RMSE: 3.665, MAE: 2.650\n",
      "\n",
      "Evaluating: changepoint_prior_scale=0.03, seasonality_prior_scale=5.1, seasonality_mode=multiplicative\n"
     ]
    },
    {
     "name": "stderr",
     "output_type": "stream",
     "text": [
      "11:35:47 - cmdstanpy - INFO - Chain [1] start processing\n",
      "11:35:48 - cmdstanpy - INFO - Chain [1] done processing\n",
      "c:\\Users\\natra\\AppData\\Local\\Programs\\Python\\Python310\\lib\\site-packages\\sklearn\\metrics\\_regression.py:492: FutureWarning: 'squared' is deprecated in version 1.4 and will be removed in 1.6. To calculate the root mean squared error, use the function'root_mean_squared_error'.\n",
      "  warnings.warn(\n",
      "11:35:48 - cmdstanpy - INFO - Chain [1] start processing\n",
      "11:35:48 - cmdstanpy - INFO - Chain [1] done processing\n",
      "c:\\Users\\natra\\AppData\\Local\\Programs\\Python\\Python310\\lib\\site-packages\\sklearn\\metrics\\_regression.py:492: FutureWarning: 'squared' is deprecated in version 1.4 and will be removed in 1.6. To calculate the root mean squared error, use the function'root_mean_squared_error'.\n",
      "  warnings.warn(\n",
      "11:35:49 - cmdstanpy - INFO - Chain [1] start processing\n",
      "11:35:49 - cmdstanpy - INFO - Chain [1] done processing\n",
      "c:\\Users\\natra\\AppData\\Local\\Programs\\Python\\Python310\\lib\\site-packages\\sklearn\\metrics\\_regression.py:492: FutureWarning: 'squared' is deprecated in version 1.4 and will be removed in 1.6. To calculate the root mean squared error, use the function'root_mean_squared_error'.\n",
      "  warnings.warn(\n",
      "11:35:49 - cmdstanpy - INFO - Chain [1] start processing\n",
      "11:35:49 - cmdstanpy - INFO - Chain [1] done processing\n",
      "c:\\Users\\natra\\AppData\\Local\\Programs\\Python\\Python310\\lib\\site-packages\\sklearn\\metrics\\_regression.py:492: FutureWarning: 'squared' is deprecated in version 1.4 and will be removed in 1.6. To calculate the root mean squared error, use the function'root_mean_squared_error'.\n",
      "  warnings.warn(\n",
      "11:35:50 - cmdstanpy - INFO - Chain [1] start processing\n",
      "11:35:50 - cmdstanpy - INFO - Chain [1] done processing\n",
      "c:\\Users\\natra\\AppData\\Local\\Programs\\Python\\Python310\\lib\\site-packages\\sklearn\\metrics\\_regression.py:492: FutureWarning: 'squared' is deprecated in version 1.4 and will be removed in 1.6. To calculate the root mean squared error, use the function'root_mean_squared_error'.\n",
      "  warnings.warn(\n"
     ]
    },
    {
     "name": "stdout",
     "output_type": "stream",
     "text": [
      "R² Score: 0.606, RMSE: 3.654, MAE: 2.637\n",
      "\n",
      "Evaluating: changepoint_prior_scale=0.03, seasonality_prior_scale=6.1, seasonality_mode=additive\n"
     ]
    },
    {
     "name": "stderr",
     "output_type": "stream",
     "text": [
      "11:35:50 - cmdstanpy - INFO - Chain [1] start processing\n",
      "11:35:50 - cmdstanpy - INFO - Chain [1] done processing\n",
      "c:\\Users\\natra\\AppData\\Local\\Programs\\Python\\Python310\\lib\\site-packages\\sklearn\\metrics\\_regression.py:492: FutureWarning: 'squared' is deprecated in version 1.4 and will be removed in 1.6. To calculate the root mean squared error, use the function'root_mean_squared_error'.\n",
      "  warnings.warn(\n",
      "11:35:51 - cmdstanpy - INFO - Chain [1] start processing\n",
      "11:35:51 - cmdstanpy - INFO - Chain [1] done processing\n",
      "c:\\Users\\natra\\AppData\\Local\\Programs\\Python\\Python310\\lib\\site-packages\\sklearn\\metrics\\_regression.py:492: FutureWarning: 'squared' is deprecated in version 1.4 and will be removed in 1.6. To calculate the root mean squared error, use the function'root_mean_squared_error'.\n",
      "  warnings.warn(\n",
      "11:35:51 - cmdstanpy - INFO - Chain [1] start processing\n",
      "11:35:52 - cmdstanpy - INFO - Chain [1] done processing\n",
      "c:\\Users\\natra\\AppData\\Local\\Programs\\Python\\Python310\\lib\\site-packages\\sklearn\\metrics\\_regression.py:492: FutureWarning: 'squared' is deprecated in version 1.4 and will be removed in 1.6. To calculate the root mean squared error, use the function'root_mean_squared_error'.\n",
      "  warnings.warn(\n",
      "11:35:52 - cmdstanpy - INFO - Chain [1] start processing\n",
      "11:35:52 - cmdstanpy - INFO - Chain [1] done processing\n",
      "c:\\Users\\natra\\AppData\\Local\\Programs\\Python\\Python310\\lib\\site-packages\\sklearn\\metrics\\_regression.py:492: FutureWarning: 'squared' is deprecated in version 1.4 and will be removed in 1.6. To calculate the root mean squared error, use the function'root_mean_squared_error'.\n",
      "  warnings.warn(\n",
      "11:35:53 - cmdstanpy - INFO - Chain [1] start processing\n",
      "11:35:53 - cmdstanpy - INFO - Chain [1] done processing\n",
      "c:\\Users\\natra\\AppData\\Local\\Programs\\Python\\Python310\\lib\\site-packages\\sklearn\\metrics\\_regression.py:492: FutureWarning: 'squared' is deprecated in version 1.4 and will be removed in 1.6. To calculate the root mean squared error, use the function'root_mean_squared_error'.\n",
      "  warnings.warn(\n"
     ]
    },
    {
     "name": "stdout",
     "output_type": "stream",
     "text": [
      "R² Score: 0.604, RMSE: 3.661, MAE: 2.645\n",
      "\n",
      "Evaluating: changepoint_prior_scale=0.03, seasonality_prior_scale=6.1, seasonality_mode=multiplicative\n"
     ]
    },
    {
     "name": "stderr",
     "output_type": "stream",
     "text": [
      "11:35:53 - cmdstanpy - INFO - Chain [1] start processing\n",
      "11:35:53 - cmdstanpy - INFO - Chain [1] done processing\n",
      "c:\\Users\\natra\\AppData\\Local\\Programs\\Python\\Python310\\lib\\site-packages\\sklearn\\metrics\\_regression.py:492: FutureWarning: 'squared' is deprecated in version 1.4 and will be removed in 1.6. To calculate the root mean squared error, use the function'root_mean_squared_error'.\n",
      "  warnings.warn(\n",
      "11:35:54 - cmdstanpy - INFO - Chain [1] start processing\n",
      "11:35:54 - cmdstanpy - INFO - Chain [1] done processing\n",
      "c:\\Users\\natra\\AppData\\Local\\Programs\\Python\\Python310\\lib\\site-packages\\sklearn\\metrics\\_regression.py:492: FutureWarning: 'squared' is deprecated in version 1.4 and will be removed in 1.6. To calculate the root mean squared error, use the function'root_mean_squared_error'.\n",
      "  warnings.warn(\n",
      "11:35:54 - cmdstanpy - INFO - Chain [1] start processing\n",
      "11:35:54 - cmdstanpy - INFO - Chain [1] done processing\n",
      "c:\\Users\\natra\\AppData\\Local\\Programs\\Python\\Python310\\lib\\site-packages\\sklearn\\metrics\\_regression.py:492: FutureWarning: 'squared' is deprecated in version 1.4 and will be removed in 1.6. To calculate the root mean squared error, use the function'root_mean_squared_error'.\n",
      "  warnings.warn(\n",
      "11:35:55 - cmdstanpy - INFO - Chain [1] start processing\n",
      "11:35:55 - cmdstanpy - INFO - Chain [1] done processing\n",
      "c:\\Users\\natra\\AppData\\Local\\Programs\\Python\\Python310\\lib\\site-packages\\sklearn\\metrics\\_regression.py:492: FutureWarning: 'squared' is deprecated in version 1.4 and will be removed in 1.6. To calculate the root mean squared error, use the function'root_mean_squared_error'.\n",
      "  warnings.warn(\n",
      "11:35:55 - cmdstanpy - INFO - Chain [1] start processing\n",
      "11:35:56 - cmdstanpy - INFO - Chain [1] done processing\n",
      "c:\\Users\\natra\\AppData\\Local\\Programs\\Python\\Python310\\lib\\site-packages\\sklearn\\metrics\\_regression.py:492: FutureWarning: 'squared' is deprecated in version 1.4 and will be removed in 1.6. To calculate the root mean squared error, use the function'root_mean_squared_error'.\n",
      "  warnings.warn(\n"
     ]
    },
    {
     "name": "stdout",
     "output_type": "stream",
     "text": [
      "R² Score: 0.604, RMSE: 3.660, MAE: 2.645\n",
      "\n",
      "Evaluating: changepoint_prior_scale=0.03, seasonality_prior_scale=7.1, seasonality_mode=additive\n"
     ]
    },
    {
     "name": "stderr",
     "output_type": "stream",
     "text": [
      "11:35:56 - cmdstanpy - INFO - Chain [1] start processing\n",
      "11:35:56 - cmdstanpy - INFO - Chain [1] done processing\n",
      "c:\\Users\\natra\\AppData\\Local\\Programs\\Python\\Python310\\lib\\site-packages\\sklearn\\metrics\\_regression.py:492: FutureWarning: 'squared' is deprecated in version 1.4 and will be removed in 1.6. To calculate the root mean squared error, use the function'root_mean_squared_error'.\n",
      "  warnings.warn(\n",
      "11:35:57 - cmdstanpy - INFO - Chain [1] start processing\n",
      "11:35:57 - cmdstanpy - INFO - Chain [1] done processing\n",
      "c:\\Users\\natra\\AppData\\Local\\Programs\\Python\\Python310\\lib\\site-packages\\sklearn\\metrics\\_regression.py:492: FutureWarning: 'squared' is deprecated in version 1.4 and will be removed in 1.6. To calculate the root mean squared error, use the function'root_mean_squared_error'.\n",
      "  warnings.warn(\n",
      "11:35:57 - cmdstanpy - INFO - Chain [1] start processing\n",
      "11:35:57 - cmdstanpy - INFO - Chain [1] done processing\n",
      "c:\\Users\\natra\\AppData\\Local\\Programs\\Python\\Python310\\lib\\site-packages\\sklearn\\metrics\\_regression.py:492: FutureWarning: 'squared' is deprecated in version 1.4 and will be removed in 1.6. To calculate the root mean squared error, use the function'root_mean_squared_error'.\n",
      "  warnings.warn(\n",
      "11:35:58 - cmdstanpy - INFO - Chain [1] start processing\n",
      "11:35:58 - cmdstanpy - INFO - Chain [1] done processing\n",
      "c:\\Users\\natra\\AppData\\Local\\Programs\\Python\\Python310\\lib\\site-packages\\sklearn\\metrics\\_regression.py:492: FutureWarning: 'squared' is deprecated in version 1.4 and will be removed in 1.6. To calculate the root mean squared error, use the function'root_mean_squared_error'.\n",
      "  warnings.warn(\n",
      "11:35:58 - cmdstanpy - INFO - Chain [1] start processing\n",
      "11:35:58 - cmdstanpy - INFO - Chain [1] done processing\n",
      "c:\\Users\\natra\\AppData\\Local\\Programs\\Python\\Python310\\lib\\site-packages\\sklearn\\metrics\\_regression.py:492: FutureWarning: 'squared' is deprecated in version 1.4 and will be removed in 1.6. To calculate the root mean squared error, use the function'root_mean_squared_error'.\n",
      "  warnings.warn(\n"
     ]
    },
    {
     "name": "stdout",
     "output_type": "stream",
     "text": [
      "R² Score: 0.603, RMSE: 3.662, MAE: 2.648\n",
      "\n",
      "Evaluating: changepoint_prior_scale=0.03, seasonality_prior_scale=7.1, seasonality_mode=multiplicative\n"
     ]
    },
    {
     "name": "stderr",
     "output_type": "stream",
     "text": [
      "11:35:59 - cmdstanpy - INFO - Chain [1] start processing\n",
      "11:35:59 - cmdstanpy - INFO - Chain [1] done processing\n",
      "c:\\Users\\natra\\AppData\\Local\\Programs\\Python\\Python310\\lib\\site-packages\\sklearn\\metrics\\_regression.py:492: FutureWarning: 'squared' is deprecated in version 1.4 and will be removed in 1.6. To calculate the root mean squared error, use the function'root_mean_squared_error'.\n",
      "  warnings.warn(\n",
      "11:35:59 - cmdstanpy - INFO - Chain [1] start processing\n",
      "11:36:00 - cmdstanpy - INFO - Chain [1] done processing\n",
      "c:\\Users\\natra\\AppData\\Local\\Programs\\Python\\Python310\\lib\\site-packages\\sklearn\\metrics\\_regression.py:492: FutureWarning: 'squared' is deprecated in version 1.4 and will be removed in 1.6. To calculate the root mean squared error, use the function'root_mean_squared_error'.\n",
      "  warnings.warn(\n",
      "11:36:00 - cmdstanpy - INFO - Chain [1] start processing\n",
      "11:36:00 - cmdstanpy - INFO - Chain [1] done processing\n",
      "c:\\Users\\natra\\AppData\\Local\\Programs\\Python\\Python310\\lib\\site-packages\\sklearn\\metrics\\_regression.py:492: FutureWarning: 'squared' is deprecated in version 1.4 and will be removed in 1.6. To calculate the root mean squared error, use the function'root_mean_squared_error'.\n",
      "  warnings.warn(\n",
      "11:36:01 - cmdstanpy - INFO - Chain [1] start processing\n",
      "11:36:01 - cmdstanpy - INFO - Chain [1] done processing\n",
      "c:\\Users\\natra\\AppData\\Local\\Programs\\Python\\Python310\\lib\\site-packages\\sklearn\\metrics\\_regression.py:492: FutureWarning: 'squared' is deprecated in version 1.4 and will be removed in 1.6. To calculate the root mean squared error, use the function'root_mean_squared_error'.\n",
      "  warnings.warn(\n",
      "11:36:01 - cmdstanpy - INFO - Chain [1] start processing\n",
      "11:36:01 - cmdstanpy - INFO - Chain [1] done processing\n",
      "c:\\Users\\natra\\AppData\\Local\\Programs\\Python\\Python310\\lib\\site-packages\\sklearn\\metrics\\_regression.py:492: FutureWarning: 'squared' is deprecated in version 1.4 and will be removed in 1.6. To calculate the root mean squared error, use the function'root_mean_squared_error'.\n",
      "  warnings.warn(\n"
     ]
    },
    {
     "name": "stdout",
     "output_type": "stream",
     "text": [
      "R² Score: 0.606, RMSE: 3.652, MAE: 2.634\n",
      "\n",
      "Evaluating: changepoint_prior_scale=0.03, seasonality_prior_scale=8.1, seasonality_mode=additive\n"
     ]
    },
    {
     "name": "stderr",
     "output_type": "stream",
     "text": [
      "11:36:02 - cmdstanpy - INFO - Chain [1] start processing\n",
      "11:36:02 - cmdstanpy - INFO - Chain [1] done processing\n",
      "c:\\Users\\natra\\AppData\\Local\\Programs\\Python\\Python310\\lib\\site-packages\\sklearn\\metrics\\_regression.py:492: FutureWarning: 'squared' is deprecated in version 1.4 and will be removed in 1.6. To calculate the root mean squared error, use the function'root_mean_squared_error'.\n",
      "  warnings.warn(\n",
      "11:36:02 - cmdstanpy - INFO - Chain [1] start processing\n",
      "11:36:03 - cmdstanpy - INFO - Chain [1] done processing\n",
      "c:\\Users\\natra\\AppData\\Local\\Programs\\Python\\Python310\\lib\\site-packages\\sklearn\\metrics\\_regression.py:492: FutureWarning: 'squared' is deprecated in version 1.4 and will be removed in 1.6. To calculate the root mean squared error, use the function'root_mean_squared_error'.\n",
      "  warnings.warn(\n",
      "11:36:03 - cmdstanpy - INFO - Chain [1] start processing\n",
      "11:36:03 - cmdstanpy - INFO - Chain [1] done processing\n",
      "c:\\Users\\natra\\AppData\\Local\\Programs\\Python\\Python310\\lib\\site-packages\\sklearn\\metrics\\_regression.py:492: FutureWarning: 'squared' is deprecated in version 1.4 and will be removed in 1.6. To calculate the root mean squared error, use the function'root_mean_squared_error'.\n",
      "  warnings.warn(\n",
      "11:36:04 - cmdstanpy - INFO - Chain [1] start processing\n",
      "11:36:04 - cmdstanpy - INFO - Chain [1] done processing\n",
      "c:\\Users\\natra\\AppData\\Local\\Programs\\Python\\Python310\\lib\\site-packages\\sklearn\\metrics\\_regression.py:492: FutureWarning: 'squared' is deprecated in version 1.4 and will be removed in 1.6. To calculate the root mean squared error, use the function'root_mean_squared_error'.\n",
      "  warnings.warn(\n",
      "11:36:04 - cmdstanpy - INFO - Chain [1] start processing\n",
      "11:36:04 - cmdstanpy - INFO - Chain [1] done processing\n",
      "c:\\Users\\natra\\AppData\\Local\\Programs\\Python\\Python310\\lib\\site-packages\\sklearn\\metrics\\_regression.py:492: FutureWarning: 'squared' is deprecated in version 1.4 and will be removed in 1.6. To calculate the root mean squared error, use the function'root_mean_squared_error'.\n",
      "  warnings.warn(\n"
     ]
    },
    {
     "name": "stdout",
     "output_type": "stream",
     "text": [
      "R² Score: 0.604, RMSE: 3.660, MAE: 2.647\n",
      "\n",
      "Evaluating: changepoint_prior_scale=0.03, seasonality_prior_scale=8.1, seasonality_mode=multiplicative\n"
     ]
    },
    {
     "name": "stderr",
     "output_type": "stream",
     "text": [
      "11:36:05 - cmdstanpy - INFO - Chain [1] start processing\n",
      "11:36:05 - cmdstanpy - INFO - Chain [1] done processing\n",
      "c:\\Users\\natra\\AppData\\Local\\Programs\\Python\\Python310\\lib\\site-packages\\sklearn\\metrics\\_regression.py:492: FutureWarning: 'squared' is deprecated in version 1.4 and will be removed in 1.6. To calculate the root mean squared error, use the function'root_mean_squared_error'.\n",
      "  warnings.warn(\n",
      "11:36:05 - cmdstanpy - INFO - Chain [1] start processing\n",
      "11:36:05 - cmdstanpy - INFO - Chain [1] done processing\n",
      "c:\\Users\\natra\\AppData\\Local\\Programs\\Python\\Python310\\lib\\site-packages\\sklearn\\metrics\\_regression.py:492: FutureWarning: 'squared' is deprecated in version 1.4 and will be removed in 1.6. To calculate the root mean squared error, use the function'root_mean_squared_error'.\n",
      "  warnings.warn(\n",
      "11:36:06 - cmdstanpy - INFO - Chain [1] start processing\n",
      "11:36:06 - cmdstanpy - INFO - Chain [1] done processing\n",
      "c:\\Users\\natra\\AppData\\Local\\Programs\\Python\\Python310\\lib\\site-packages\\sklearn\\metrics\\_regression.py:492: FutureWarning: 'squared' is deprecated in version 1.4 and will be removed in 1.6. To calculate the root mean squared error, use the function'root_mean_squared_error'.\n",
      "  warnings.warn(\n",
      "11:36:07 - cmdstanpy - INFO - Chain [1] start processing\n",
      "11:36:07 - cmdstanpy - INFO - Chain [1] done processing\n",
      "c:\\Users\\natra\\AppData\\Local\\Programs\\Python\\Python310\\lib\\site-packages\\sklearn\\metrics\\_regression.py:492: FutureWarning: 'squared' is deprecated in version 1.4 and will be removed in 1.6. To calculate the root mean squared error, use the function'root_mean_squared_error'.\n",
      "  warnings.warn(\n",
      "11:36:07 - cmdstanpy - INFO - Chain [1] start processing\n",
      "11:36:07 - cmdstanpy - INFO - Chain [1] done processing\n",
      "c:\\Users\\natra\\AppData\\Local\\Programs\\Python\\Python310\\lib\\site-packages\\sklearn\\metrics\\_regression.py:492: FutureWarning: 'squared' is deprecated in version 1.4 and will be removed in 1.6. To calculate the root mean squared error, use the function'root_mean_squared_error'.\n",
      "  warnings.warn(\n"
     ]
    },
    {
     "name": "stdout",
     "output_type": "stream",
     "text": [
      "R² Score: 0.605, RMSE: 3.657, MAE: 2.642\n",
      "\n",
      "Evaluating: changepoint_prior_scale=0.03, seasonality_prior_scale=9.1, seasonality_mode=additive\n"
     ]
    },
    {
     "name": "stderr",
     "output_type": "stream",
     "text": [
      "11:36:08 - cmdstanpy - INFO - Chain [1] start processing\n",
      "11:36:08 - cmdstanpy - INFO - Chain [1] done processing\n",
      "c:\\Users\\natra\\AppData\\Local\\Programs\\Python\\Python310\\lib\\site-packages\\sklearn\\metrics\\_regression.py:492: FutureWarning: 'squared' is deprecated in version 1.4 and will be removed in 1.6. To calculate the root mean squared error, use the function'root_mean_squared_error'.\n",
      "  warnings.warn(\n",
      "11:36:08 - cmdstanpy - INFO - Chain [1] start processing\n",
      "11:36:08 - cmdstanpy - INFO - Chain [1] done processing\n",
      "c:\\Users\\natra\\AppData\\Local\\Programs\\Python\\Python310\\lib\\site-packages\\sklearn\\metrics\\_regression.py:492: FutureWarning: 'squared' is deprecated in version 1.4 and will be removed in 1.6. To calculate the root mean squared error, use the function'root_mean_squared_error'.\n",
      "  warnings.warn(\n",
      "11:36:09 - cmdstanpy - INFO - Chain [1] start processing\n",
      "11:36:09 - cmdstanpy - INFO - Chain [1] done processing\n",
      "c:\\Users\\natra\\AppData\\Local\\Programs\\Python\\Python310\\lib\\site-packages\\sklearn\\metrics\\_regression.py:492: FutureWarning: 'squared' is deprecated in version 1.4 and will be removed in 1.6. To calculate the root mean squared error, use the function'root_mean_squared_error'.\n",
      "  warnings.warn(\n",
      "11:36:09 - cmdstanpy - INFO - Chain [1] start processing\n",
      "11:36:10 - cmdstanpy - INFO - Chain [1] done processing\n",
      "c:\\Users\\natra\\AppData\\Local\\Programs\\Python\\Python310\\lib\\site-packages\\sklearn\\metrics\\_regression.py:492: FutureWarning: 'squared' is deprecated in version 1.4 and will be removed in 1.6. To calculate the root mean squared error, use the function'root_mean_squared_error'.\n",
      "  warnings.warn(\n",
      "11:36:10 - cmdstanpy - INFO - Chain [1] start processing\n",
      "11:36:10 - cmdstanpy - INFO - Chain [1] done processing\n",
      "c:\\Users\\natra\\AppData\\Local\\Programs\\Python\\Python310\\lib\\site-packages\\sklearn\\metrics\\_regression.py:492: FutureWarning: 'squared' is deprecated in version 1.4 and will be removed in 1.6. To calculate the root mean squared error, use the function'root_mean_squared_error'.\n",
      "  warnings.warn(\n"
     ]
    },
    {
     "name": "stdout",
     "output_type": "stream",
     "text": [
      "R² Score: 0.603, RMSE: 3.663, MAE: 2.650\n",
      "\n",
      "Evaluating: changepoint_prior_scale=0.03, seasonality_prior_scale=9.1, seasonality_mode=multiplicative\n"
     ]
    },
    {
     "name": "stderr",
     "output_type": "stream",
     "text": [
      "11:36:11 - cmdstanpy - INFO - Chain [1] start processing\n",
      "11:36:11 - cmdstanpy - INFO - Chain [1] done processing\n",
      "c:\\Users\\natra\\AppData\\Local\\Programs\\Python\\Python310\\lib\\site-packages\\sklearn\\metrics\\_regression.py:492: FutureWarning: 'squared' is deprecated in version 1.4 and will be removed in 1.6. To calculate the root mean squared error, use the function'root_mean_squared_error'.\n",
      "  warnings.warn(\n",
      "11:36:11 - cmdstanpy - INFO - Chain [1] start processing\n",
      "11:36:11 - cmdstanpy - INFO - Chain [1] done processing\n",
      "c:\\Users\\natra\\AppData\\Local\\Programs\\Python\\Python310\\lib\\site-packages\\sklearn\\metrics\\_regression.py:492: FutureWarning: 'squared' is deprecated in version 1.4 and will be removed in 1.6. To calculate the root mean squared error, use the function'root_mean_squared_error'.\n",
      "  warnings.warn(\n",
      "11:36:12 - cmdstanpy - INFO - Chain [1] start processing\n",
      "11:36:12 - cmdstanpy - INFO - Chain [1] done processing\n",
      "c:\\Users\\natra\\AppData\\Local\\Programs\\Python\\Python310\\lib\\site-packages\\sklearn\\metrics\\_regression.py:492: FutureWarning: 'squared' is deprecated in version 1.4 and will be removed in 1.6. To calculate the root mean squared error, use the function'root_mean_squared_error'.\n",
      "  warnings.warn(\n",
      "11:36:12 - cmdstanpy - INFO - Chain [1] start processing\n",
      "11:36:13 - cmdstanpy - INFO - Chain [1] done processing\n",
      "c:\\Users\\natra\\AppData\\Local\\Programs\\Python\\Python310\\lib\\site-packages\\sklearn\\metrics\\_regression.py:492: FutureWarning: 'squared' is deprecated in version 1.4 and will be removed in 1.6. To calculate the root mean squared error, use the function'root_mean_squared_error'.\n",
      "  warnings.warn(\n",
      "11:36:13 - cmdstanpy - INFO - Chain [1] start processing\n",
      "11:36:13 - cmdstanpy - INFO - Chain [1] done processing\n",
      "c:\\Users\\natra\\AppData\\Local\\Programs\\Python\\Python310\\lib\\site-packages\\sklearn\\metrics\\_regression.py:492: FutureWarning: 'squared' is deprecated in version 1.4 and will be removed in 1.6. To calculate the root mean squared error, use the function'root_mean_squared_error'.\n",
      "  warnings.warn(\n"
     ]
    },
    {
     "name": "stdout",
     "output_type": "stream",
     "text": [
      "R² Score: 0.606, RMSE: 3.654, MAE: 2.637\n",
      "\n",
      "Evaluating: changepoint_prior_scale=0.03, seasonality_prior_scale=10.1, seasonality_mode=additive\n"
     ]
    },
    {
     "name": "stderr",
     "output_type": "stream",
     "text": [
      "11:36:14 - cmdstanpy - INFO - Chain [1] start processing\n",
      "11:36:14 - cmdstanpy - INFO - Chain [1] done processing\n",
      "c:\\Users\\natra\\AppData\\Local\\Programs\\Python\\Python310\\lib\\site-packages\\sklearn\\metrics\\_regression.py:492: FutureWarning: 'squared' is deprecated in version 1.4 and will be removed in 1.6. To calculate the root mean squared error, use the function'root_mean_squared_error'.\n",
      "  warnings.warn(\n",
      "11:36:14 - cmdstanpy - INFO - Chain [1] start processing\n",
      "11:36:15 - cmdstanpy - INFO - Chain [1] done processing\n",
      "c:\\Users\\natra\\AppData\\Local\\Programs\\Python\\Python310\\lib\\site-packages\\sklearn\\metrics\\_regression.py:492: FutureWarning: 'squared' is deprecated in version 1.4 and will be removed in 1.6. To calculate the root mean squared error, use the function'root_mean_squared_error'.\n",
      "  warnings.warn(\n",
      "11:36:15 - cmdstanpy - INFO - Chain [1] start processing\n",
      "11:36:15 - cmdstanpy - INFO - Chain [1] done processing\n",
      "c:\\Users\\natra\\AppData\\Local\\Programs\\Python\\Python310\\lib\\site-packages\\sklearn\\metrics\\_regression.py:492: FutureWarning: 'squared' is deprecated in version 1.4 and will be removed in 1.6. To calculate the root mean squared error, use the function'root_mean_squared_error'.\n",
      "  warnings.warn(\n",
      "11:36:16 - cmdstanpy - INFO - Chain [1] start processing\n",
      "11:36:16 - cmdstanpy - INFO - Chain [1] done processing\n",
      "c:\\Users\\natra\\AppData\\Local\\Programs\\Python\\Python310\\lib\\site-packages\\sklearn\\metrics\\_regression.py:492: FutureWarning: 'squared' is deprecated in version 1.4 and will be removed in 1.6. To calculate the root mean squared error, use the function'root_mean_squared_error'.\n",
      "  warnings.warn(\n",
      "11:36:16 - cmdstanpy - INFO - Chain [1] start processing\n",
      "11:36:16 - cmdstanpy - INFO - Chain [1] done processing\n",
      "c:\\Users\\natra\\AppData\\Local\\Programs\\Python\\Python310\\lib\\site-packages\\sklearn\\metrics\\_regression.py:492: FutureWarning: 'squared' is deprecated in version 1.4 and will be removed in 1.6. To calculate the root mean squared error, use the function'root_mean_squared_error'.\n",
      "  warnings.warn(\n"
     ]
    },
    {
     "name": "stdout",
     "output_type": "stream",
     "text": [
      "R² Score: 0.603, RMSE: 3.664, MAE: 2.649\n",
      "\n",
      "Evaluating: changepoint_prior_scale=0.03, seasonality_prior_scale=10.1, seasonality_mode=multiplicative\n"
     ]
    },
    {
     "name": "stderr",
     "output_type": "stream",
     "text": [
      "11:36:17 - cmdstanpy - INFO - Chain [1] start processing\n",
      "11:36:17 - cmdstanpy - INFO - Chain [1] done processing\n",
      "c:\\Users\\natra\\AppData\\Local\\Programs\\Python\\Python310\\lib\\site-packages\\sklearn\\metrics\\_regression.py:492: FutureWarning: 'squared' is deprecated in version 1.4 and will be removed in 1.6. To calculate the root mean squared error, use the function'root_mean_squared_error'.\n",
      "  warnings.warn(\n",
      "11:36:18 - cmdstanpy - INFO - Chain [1] start processing\n",
      "11:36:18 - cmdstanpy - INFO - Chain [1] done processing\n",
      "c:\\Users\\natra\\AppData\\Local\\Programs\\Python\\Python310\\lib\\site-packages\\sklearn\\metrics\\_regression.py:492: FutureWarning: 'squared' is deprecated in version 1.4 and will be removed in 1.6. To calculate the root mean squared error, use the function'root_mean_squared_error'.\n",
      "  warnings.warn(\n",
      "11:36:18 - cmdstanpy - INFO - Chain [1] start processing\n",
      "11:36:19 - cmdstanpy - INFO - Chain [1] done processing\n",
      "c:\\Users\\natra\\AppData\\Local\\Programs\\Python\\Python310\\lib\\site-packages\\sklearn\\metrics\\_regression.py:492: FutureWarning: 'squared' is deprecated in version 1.4 and will be removed in 1.6. To calculate the root mean squared error, use the function'root_mean_squared_error'.\n",
      "  warnings.warn(\n",
      "11:36:19 - cmdstanpy - INFO - Chain [1] start processing\n",
      "11:36:19 - cmdstanpy - INFO - Chain [1] done processing\n",
      "c:\\Users\\natra\\AppData\\Local\\Programs\\Python\\Python310\\lib\\site-packages\\sklearn\\metrics\\_regression.py:492: FutureWarning: 'squared' is deprecated in version 1.4 and will be removed in 1.6. To calculate the root mean squared error, use the function'root_mean_squared_error'.\n",
      "  warnings.warn(\n",
      "11:36:20 - cmdstanpy - INFO - Chain [1] start processing\n",
      "11:36:20 - cmdstanpy - INFO - Chain [1] done processing\n",
      "c:\\Users\\natra\\AppData\\Local\\Programs\\Python\\Python310\\lib\\site-packages\\sklearn\\metrics\\_regression.py:492: FutureWarning: 'squared' is deprecated in version 1.4 and will be removed in 1.6. To calculate the root mean squared error, use the function'root_mean_squared_error'.\n",
      "  warnings.warn(\n"
     ]
    },
    {
     "name": "stdout",
     "output_type": "stream",
     "text": [
      "R² Score: 0.605, RMSE: 3.658, MAE: 2.642\n",
      "\n",
      "Evaluating: changepoint_prior_scale=0.04, seasonality_prior_scale=0.1, seasonality_mode=additive\n"
     ]
    },
    {
     "name": "stderr",
     "output_type": "stream",
     "text": [
      "11:36:20 - cmdstanpy - INFO - Chain [1] start processing\n",
      "11:36:21 - cmdstanpy - INFO - Chain [1] done processing\n",
      "c:\\Users\\natra\\AppData\\Local\\Programs\\Python\\Python310\\lib\\site-packages\\sklearn\\metrics\\_regression.py:492: FutureWarning: 'squared' is deprecated in version 1.4 and will be removed in 1.6. To calculate the root mean squared error, use the function'root_mean_squared_error'.\n",
      "  warnings.warn(\n",
      "11:36:21 - cmdstanpy - INFO - Chain [1] start processing\n",
      "11:36:21 - cmdstanpy - INFO - Chain [1] done processing\n",
      "c:\\Users\\natra\\AppData\\Local\\Programs\\Python\\Python310\\lib\\site-packages\\sklearn\\metrics\\_regression.py:492: FutureWarning: 'squared' is deprecated in version 1.4 and will be removed in 1.6. To calculate the root mean squared error, use the function'root_mean_squared_error'.\n",
      "  warnings.warn(\n",
      "11:36:22 - cmdstanpy - INFO - Chain [1] start processing\n",
      "11:36:22 - cmdstanpy - INFO - Chain [1] done processing\n",
      "c:\\Users\\natra\\AppData\\Local\\Programs\\Python\\Python310\\lib\\site-packages\\sklearn\\metrics\\_regression.py:492: FutureWarning: 'squared' is deprecated in version 1.4 and will be removed in 1.6. To calculate the root mean squared error, use the function'root_mean_squared_error'.\n",
      "  warnings.warn(\n",
      "11:36:22 - cmdstanpy - INFO - Chain [1] start processing\n",
      "11:36:23 - cmdstanpy - INFO - Chain [1] done processing\n",
      "c:\\Users\\natra\\AppData\\Local\\Programs\\Python\\Python310\\lib\\site-packages\\sklearn\\metrics\\_regression.py:492: FutureWarning: 'squared' is deprecated in version 1.4 and will be removed in 1.6. To calculate the root mean squared error, use the function'root_mean_squared_error'.\n",
      "  warnings.warn(\n",
      "11:36:23 - cmdstanpy - INFO - Chain [1] start processing\n",
      "11:36:23 - cmdstanpy - INFO - Chain [1] done processing\n",
      "c:\\Users\\natra\\AppData\\Local\\Programs\\Python\\Python310\\lib\\site-packages\\sklearn\\metrics\\_regression.py:492: FutureWarning: 'squared' is deprecated in version 1.4 and will be removed in 1.6. To calculate the root mean squared error, use the function'root_mean_squared_error'.\n",
      "  warnings.warn(\n"
     ]
    },
    {
     "name": "stdout",
     "output_type": "stream",
     "text": [
      "R² Score: 0.601, RMSE: 3.668, MAE: 2.655\n",
      "\n",
      "Evaluating: changepoint_prior_scale=0.04, seasonality_prior_scale=0.1, seasonality_mode=multiplicative\n"
     ]
    },
    {
     "name": "stderr",
     "output_type": "stream",
     "text": [
      "11:36:24 - cmdstanpy - INFO - Chain [1] start processing\n",
      "11:36:24 - cmdstanpy - INFO - Chain [1] done processing\n",
      "c:\\Users\\natra\\AppData\\Local\\Programs\\Python\\Python310\\lib\\site-packages\\sklearn\\metrics\\_regression.py:492: FutureWarning: 'squared' is deprecated in version 1.4 and will be removed in 1.6. To calculate the root mean squared error, use the function'root_mean_squared_error'.\n",
      "  warnings.warn(\n",
      "11:36:25 - cmdstanpy - INFO - Chain [1] start processing\n",
      "11:36:25 - cmdstanpy - INFO - Chain [1] done processing\n",
      "c:\\Users\\natra\\AppData\\Local\\Programs\\Python\\Python310\\lib\\site-packages\\sklearn\\metrics\\_regression.py:492: FutureWarning: 'squared' is deprecated in version 1.4 and will be removed in 1.6. To calculate the root mean squared error, use the function'root_mean_squared_error'.\n",
      "  warnings.warn(\n",
      "11:36:25 - cmdstanpy - INFO - Chain [1] start processing\n",
      "11:36:25 - cmdstanpy - INFO - Chain [1] done processing\n",
      "c:\\Users\\natra\\AppData\\Local\\Programs\\Python\\Python310\\lib\\site-packages\\sklearn\\metrics\\_regression.py:492: FutureWarning: 'squared' is deprecated in version 1.4 and will be removed in 1.6. To calculate the root mean squared error, use the function'root_mean_squared_error'.\n",
      "  warnings.warn(\n",
      "11:36:26 - cmdstanpy - INFO - Chain [1] start processing\n",
      "11:36:26 - cmdstanpy - INFO - Chain [1] done processing\n",
      "c:\\Users\\natra\\AppData\\Local\\Programs\\Python\\Python310\\lib\\site-packages\\sklearn\\metrics\\_regression.py:492: FutureWarning: 'squared' is deprecated in version 1.4 and will be removed in 1.6. To calculate the root mean squared error, use the function'root_mean_squared_error'.\n",
      "  warnings.warn(\n",
      "11:36:26 - cmdstanpy - INFO - Chain [1] start processing\n",
      "11:36:27 - cmdstanpy - INFO - Chain [1] done processing\n",
      "c:\\Users\\natra\\AppData\\Local\\Programs\\Python\\Python310\\lib\\site-packages\\sklearn\\metrics\\_regression.py:492: FutureWarning: 'squared' is deprecated in version 1.4 and will be removed in 1.6. To calculate the root mean squared error, use the function'root_mean_squared_error'.\n",
      "  warnings.warn(\n"
     ]
    },
    {
     "name": "stdout",
     "output_type": "stream",
     "text": [
      "R² Score: 0.604, RMSE: 3.662, MAE: 2.651\n",
      "\n",
      "Evaluating: changepoint_prior_scale=0.04, seasonality_prior_scale=1.1, seasonality_mode=additive\n"
     ]
    },
    {
     "name": "stderr",
     "output_type": "stream",
     "text": [
      "11:36:27 - cmdstanpy - INFO - Chain [1] start processing\n",
      "11:36:28 - cmdstanpy - INFO - Chain [1] done processing\n",
      "c:\\Users\\natra\\AppData\\Local\\Programs\\Python\\Python310\\lib\\site-packages\\sklearn\\metrics\\_regression.py:492: FutureWarning: 'squared' is deprecated in version 1.4 and will be removed in 1.6. To calculate the root mean squared error, use the function'root_mean_squared_error'.\n",
      "  warnings.warn(\n",
      "11:36:28 - cmdstanpy - INFO - Chain [1] start processing\n",
      "11:36:28 - cmdstanpy - INFO - Chain [1] done processing\n",
      "c:\\Users\\natra\\AppData\\Local\\Programs\\Python\\Python310\\lib\\site-packages\\sklearn\\metrics\\_regression.py:492: FutureWarning: 'squared' is deprecated in version 1.4 and will be removed in 1.6. To calculate the root mean squared error, use the function'root_mean_squared_error'.\n",
      "  warnings.warn(\n",
      "11:36:29 - cmdstanpy - INFO - Chain [1] start processing\n",
      "11:36:29 - cmdstanpy - INFO - Chain [1] done processing\n",
      "c:\\Users\\natra\\AppData\\Local\\Programs\\Python\\Python310\\lib\\site-packages\\sklearn\\metrics\\_regression.py:492: FutureWarning: 'squared' is deprecated in version 1.4 and will be removed in 1.6. To calculate the root mean squared error, use the function'root_mean_squared_error'.\n",
      "  warnings.warn(\n",
      "11:36:29 - cmdstanpy - INFO - Chain [1] start processing\n",
      "11:36:30 - cmdstanpy - INFO - Chain [1] done processing\n",
      "c:\\Users\\natra\\AppData\\Local\\Programs\\Python\\Python310\\lib\\site-packages\\sklearn\\metrics\\_regression.py:492: FutureWarning: 'squared' is deprecated in version 1.4 and will be removed in 1.6. To calculate the root mean squared error, use the function'root_mean_squared_error'.\n",
      "  warnings.warn(\n",
      "11:36:30 - cmdstanpy - INFO - Chain [1] start processing\n",
      "11:36:30 - cmdstanpy - INFO - Chain [1] done processing\n",
      "c:\\Users\\natra\\AppData\\Local\\Programs\\Python\\Python310\\lib\\site-packages\\sklearn\\metrics\\_regression.py:492: FutureWarning: 'squared' is deprecated in version 1.4 and will be removed in 1.6. To calculate the root mean squared error, use the function'root_mean_squared_error'.\n",
      "  warnings.warn(\n"
     ]
    },
    {
     "name": "stdout",
     "output_type": "stream",
     "text": [
      "R² Score: 0.598, RMSE: 3.682, MAE: 2.671\n",
      "\n",
      "Evaluating: changepoint_prior_scale=0.04, seasonality_prior_scale=1.1, seasonality_mode=multiplicative\n"
     ]
    },
    {
     "name": "stderr",
     "output_type": "stream",
     "text": [
      "11:36:31 - cmdstanpy - INFO - Chain [1] start processing\n",
      "11:36:31 - cmdstanpy - INFO - Chain [1] done processing\n",
      "c:\\Users\\natra\\AppData\\Local\\Programs\\Python\\Python310\\lib\\site-packages\\sklearn\\metrics\\_regression.py:492: FutureWarning: 'squared' is deprecated in version 1.4 and will be removed in 1.6. To calculate the root mean squared error, use the function'root_mean_squared_error'.\n",
      "  warnings.warn(\n",
      "11:36:32 - cmdstanpy - INFO - Chain [1] start processing\n",
      "11:36:32 - cmdstanpy - INFO - Chain [1] done processing\n",
      "c:\\Users\\natra\\AppData\\Local\\Programs\\Python\\Python310\\lib\\site-packages\\sklearn\\metrics\\_regression.py:492: FutureWarning: 'squared' is deprecated in version 1.4 and will be removed in 1.6. To calculate the root mean squared error, use the function'root_mean_squared_error'.\n",
      "  warnings.warn(\n",
      "11:36:32 - cmdstanpy - INFO - Chain [1] start processing\n",
      "11:36:33 - cmdstanpy - INFO - Chain [1] done processing\n",
      "c:\\Users\\natra\\AppData\\Local\\Programs\\Python\\Python310\\lib\\site-packages\\sklearn\\metrics\\_regression.py:492: FutureWarning: 'squared' is deprecated in version 1.4 and will be removed in 1.6. To calculate the root mean squared error, use the function'root_mean_squared_error'.\n",
      "  warnings.warn(\n",
      "11:36:33 - cmdstanpy - INFO - Chain [1] start processing\n",
      "11:36:33 - cmdstanpy - INFO - Chain [1] done processing\n",
      "c:\\Users\\natra\\AppData\\Local\\Programs\\Python\\Python310\\lib\\site-packages\\sklearn\\metrics\\_regression.py:492: FutureWarning: 'squared' is deprecated in version 1.4 and will be removed in 1.6. To calculate the root mean squared error, use the function'root_mean_squared_error'.\n",
      "  warnings.warn(\n",
      "11:36:34 - cmdstanpy - INFO - Chain [1] start processing\n",
      "11:36:34 - cmdstanpy - INFO - Chain [1] done processing\n",
      "c:\\Users\\natra\\AppData\\Local\\Programs\\Python\\Python310\\lib\\site-packages\\sklearn\\metrics\\_regression.py:492: FutureWarning: 'squared' is deprecated in version 1.4 and will be removed in 1.6. To calculate the root mean squared error, use the function'root_mean_squared_error'.\n",
      "  warnings.warn(\n"
     ]
    },
    {
     "name": "stdout",
     "output_type": "stream",
     "text": [
      "R² Score: 0.604, RMSE: 3.662, MAE: 2.650\n",
      "\n",
      "Evaluating: changepoint_prior_scale=0.04, seasonality_prior_scale=2.1, seasonality_mode=additive\n"
     ]
    },
    {
     "name": "stderr",
     "output_type": "stream",
     "text": [
      "11:36:35 - cmdstanpy - INFO - Chain [1] start processing\n",
      "11:36:35 - cmdstanpy - INFO - Chain [1] done processing\n",
      "c:\\Users\\natra\\AppData\\Local\\Programs\\Python\\Python310\\lib\\site-packages\\sklearn\\metrics\\_regression.py:492: FutureWarning: 'squared' is deprecated in version 1.4 and will be removed in 1.6. To calculate the root mean squared error, use the function'root_mean_squared_error'.\n",
      "  warnings.warn(\n",
      "11:36:35 - cmdstanpy - INFO - Chain [1] start processing\n",
      "11:36:35 - cmdstanpy - INFO - Chain [1] done processing\n",
      "c:\\Users\\natra\\AppData\\Local\\Programs\\Python\\Python310\\lib\\site-packages\\sklearn\\metrics\\_regression.py:492: FutureWarning: 'squared' is deprecated in version 1.4 and will be removed in 1.6. To calculate the root mean squared error, use the function'root_mean_squared_error'.\n",
      "  warnings.warn(\n",
      "11:36:36 - cmdstanpy - INFO - Chain [1] start processing\n",
      "11:36:36 - cmdstanpy - INFO - Chain [1] done processing\n",
      "c:\\Users\\natra\\AppData\\Local\\Programs\\Python\\Python310\\lib\\site-packages\\sklearn\\metrics\\_regression.py:492: FutureWarning: 'squared' is deprecated in version 1.4 and will be removed in 1.6. To calculate the root mean squared error, use the function'root_mean_squared_error'.\n",
      "  warnings.warn(\n",
      "11:36:36 - cmdstanpy - INFO - Chain [1] start processing\n",
      "11:36:36 - cmdstanpy - INFO - Chain [1] done processing\n",
      "c:\\Users\\natra\\AppData\\Local\\Programs\\Python\\Python310\\lib\\site-packages\\sklearn\\metrics\\_regression.py:492: FutureWarning: 'squared' is deprecated in version 1.4 and will be removed in 1.6. To calculate the root mean squared error, use the function'root_mean_squared_error'.\n",
      "  warnings.warn(\n",
      "11:36:37 - cmdstanpy - INFO - Chain [1] start processing\n",
      "11:36:37 - cmdstanpy - INFO - Chain [1] done processing\n",
      "c:\\Users\\natra\\AppData\\Local\\Programs\\Python\\Python310\\lib\\site-packages\\sklearn\\metrics\\_regression.py:492: FutureWarning: 'squared' is deprecated in version 1.4 and will be removed in 1.6. To calculate the root mean squared error, use the function'root_mean_squared_error'.\n",
      "  warnings.warn(\n"
     ]
    },
    {
     "name": "stdout",
     "output_type": "stream",
     "text": [
      "R² Score: 0.601, RMSE: 3.669, MAE: 2.656\n",
      "\n",
      "Evaluating: changepoint_prior_scale=0.04, seasonality_prior_scale=2.1, seasonality_mode=multiplicative\n"
     ]
    },
    {
     "name": "stderr",
     "output_type": "stream",
     "text": [
      "11:36:37 - cmdstanpy - INFO - Chain [1] start processing\n",
      "11:36:37 - cmdstanpy - INFO - Chain [1] done processing\n",
      "c:\\Users\\natra\\AppData\\Local\\Programs\\Python\\Python310\\lib\\site-packages\\sklearn\\metrics\\_regression.py:492: FutureWarning: 'squared' is deprecated in version 1.4 and will be removed in 1.6. To calculate the root mean squared error, use the function'root_mean_squared_error'.\n",
      "  warnings.warn(\n",
      "11:36:38 - cmdstanpy - INFO - Chain [1] start processing\n",
      "11:36:38 - cmdstanpy - INFO - Chain [1] done processing\n",
      "c:\\Users\\natra\\AppData\\Local\\Programs\\Python\\Python310\\lib\\site-packages\\sklearn\\metrics\\_regression.py:492: FutureWarning: 'squared' is deprecated in version 1.4 and will be removed in 1.6. To calculate the root mean squared error, use the function'root_mean_squared_error'.\n",
      "  warnings.warn(\n",
      "11:36:38 - cmdstanpy - INFO - Chain [1] start processing\n",
      "11:36:38 - cmdstanpy - INFO - Chain [1] done processing\n",
      "c:\\Users\\natra\\AppData\\Local\\Programs\\Python\\Python310\\lib\\site-packages\\sklearn\\metrics\\_regression.py:492: FutureWarning: 'squared' is deprecated in version 1.4 and will be removed in 1.6. To calculate the root mean squared error, use the function'root_mean_squared_error'.\n",
      "  warnings.warn(\n",
      "11:36:39 - cmdstanpy - INFO - Chain [1] start processing\n",
      "11:36:39 - cmdstanpy - INFO - Chain [1] done processing\n",
      "c:\\Users\\natra\\AppData\\Local\\Programs\\Python\\Python310\\lib\\site-packages\\sklearn\\metrics\\_regression.py:492: FutureWarning: 'squared' is deprecated in version 1.4 and will be removed in 1.6. To calculate the root mean squared error, use the function'root_mean_squared_error'.\n",
      "  warnings.warn(\n",
      "11:36:39 - cmdstanpy - INFO - Chain [1] start processing\n",
      "11:36:40 - cmdstanpy - INFO - Chain [1] done processing\n",
      "c:\\Users\\natra\\AppData\\Local\\Programs\\Python\\Python310\\lib\\site-packages\\sklearn\\metrics\\_regression.py:492: FutureWarning: 'squared' is deprecated in version 1.4 and will be removed in 1.6. To calculate the root mean squared error, use the function'root_mean_squared_error'.\n",
      "  warnings.warn(\n"
     ]
    },
    {
     "name": "stdout",
     "output_type": "stream",
     "text": [
      "R² Score: 0.604, RMSE: 3.661, MAE: 2.647\n",
      "\n",
      "Evaluating: changepoint_prior_scale=0.04, seasonality_prior_scale=3.1, seasonality_mode=additive\n"
     ]
    },
    {
     "name": "stderr",
     "output_type": "stream",
     "text": [
      "11:36:40 - cmdstanpy - INFO - Chain [1] start processing\n",
      "11:36:40 - cmdstanpy - INFO - Chain [1] done processing\n",
      "c:\\Users\\natra\\AppData\\Local\\Programs\\Python\\Python310\\lib\\site-packages\\sklearn\\metrics\\_regression.py:492: FutureWarning: 'squared' is deprecated in version 1.4 and will be removed in 1.6. To calculate the root mean squared error, use the function'root_mean_squared_error'.\n",
      "  warnings.warn(\n",
      "11:36:40 - cmdstanpy - INFO - Chain [1] start processing\n",
      "11:36:41 - cmdstanpy - INFO - Chain [1] done processing\n",
      "c:\\Users\\natra\\AppData\\Local\\Programs\\Python\\Python310\\lib\\site-packages\\sklearn\\metrics\\_regression.py:492: FutureWarning: 'squared' is deprecated in version 1.4 and will be removed in 1.6. To calculate the root mean squared error, use the function'root_mean_squared_error'.\n",
      "  warnings.warn(\n",
      "11:36:41 - cmdstanpy - INFO - Chain [1] start processing\n",
      "11:36:41 - cmdstanpy - INFO - Chain [1] done processing\n",
      "c:\\Users\\natra\\AppData\\Local\\Programs\\Python\\Python310\\lib\\site-packages\\sklearn\\metrics\\_regression.py:492: FutureWarning: 'squared' is deprecated in version 1.4 and will be removed in 1.6. To calculate the root mean squared error, use the function'root_mean_squared_error'.\n",
      "  warnings.warn(\n",
      "11:36:42 - cmdstanpy - INFO - Chain [1] start processing\n",
      "11:36:42 - cmdstanpy - INFO - Chain [1] done processing\n",
      "c:\\Users\\natra\\AppData\\Local\\Programs\\Python\\Python310\\lib\\site-packages\\sklearn\\metrics\\_regression.py:492: FutureWarning: 'squared' is deprecated in version 1.4 and will be removed in 1.6. To calculate the root mean squared error, use the function'root_mean_squared_error'.\n",
      "  warnings.warn(\n",
      "11:36:42 - cmdstanpy - INFO - Chain [1] start processing\n",
      "11:36:42 - cmdstanpy - INFO - Chain [1] done processing\n",
      "c:\\Users\\natra\\AppData\\Local\\Programs\\Python\\Python310\\lib\\site-packages\\sklearn\\metrics\\_regression.py:492: FutureWarning: 'squared' is deprecated in version 1.4 and will be removed in 1.6. To calculate the root mean squared error, use the function'root_mean_squared_error'.\n",
      "  warnings.warn(\n"
     ]
    },
    {
     "name": "stdout",
     "output_type": "stream",
     "text": [
      "R² Score: 0.598, RMSE: 3.680, MAE: 2.668\n",
      "\n",
      "Evaluating: changepoint_prior_scale=0.04, seasonality_prior_scale=3.1, seasonality_mode=multiplicative\n"
     ]
    },
    {
     "name": "stderr",
     "output_type": "stream",
     "text": [
      "11:36:43 - cmdstanpy - INFO - Chain [1] start processing\n",
      "11:36:43 - cmdstanpy - INFO - Chain [1] done processing\n",
      "c:\\Users\\natra\\AppData\\Local\\Programs\\Python\\Python310\\lib\\site-packages\\sklearn\\metrics\\_regression.py:492: FutureWarning: 'squared' is deprecated in version 1.4 and will be removed in 1.6. To calculate the root mean squared error, use the function'root_mean_squared_error'.\n",
      "  warnings.warn(\n",
      "11:36:43 - cmdstanpy - INFO - Chain [1] start processing\n",
      "11:36:43 - cmdstanpy - INFO - Chain [1] done processing\n",
      "c:\\Users\\natra\\AppData\\Local\\Programs\\Python\\Python310\\lib\\site-packages\\sklearn\\metrics\\_regression.py:492: FutureWarning: 'squared' is deprecated in version 1.4 and will be removed in 1.6. To calculate the root mean squared error, use the function'root_mean_squared_error'.\n",
      "  warnings.warn(\n",
      "11:36:44 - cmdstanpy - INFO - Chain [1] start processing\n",
      "11:36:44 - cmdstanpy - INFO - Chain [1] done processing\n",
      "c:\\Users\\natra\\AppData\\Local\\Programs\\Python\\Python310\\lib\\site-packages\\sklearn\\metrics\\_regression.py:492: FutureWarning: 'squared' is deprecated in version 1.4 and will be removed in 1.6. To calculate the root mean squared error, use the function'root_mean_squared_error'.\n",
      "  warnings.warn(\n",
      "11:36:44 - cmdstanpy - INFO - Chain [1] start processing\n",
      "11:36:44 - cmdstanpy - INFO - Chain [1] done processing\n",
      "c:\\Users\\natra\\AppData\\Local\\Programs\\Python\\Python310\\lib\\site-packages\\sklearn\\metrics\\_regression.py:492: FutureWarning: 'squared' is deprecated in version 1.4 and will be removed in 1.6. To calculate the root mean squared error, use the function'root_mean_squared_error'.\n",
      "  warnings.warn(\n",
      "11:36:45 - cmdstanpy - INFO - Chain [1] start processing\n",
      "11:36:45 - cmdstanpy - INFO - Chain [1] done processing\n",
      "c:\\Users\\natra\\AppData\\Local\\Programs\\Python\\Python310\\lib\\site-packages\\sklearn\\metrics\\_regression.py:492: FutureWarning: 'squared' is deprecated in version 1.4 and will be removed in 1.6. To calculate the root mean squared error, use the function'root_mean_squared_error'.\n",
      "  warnings.warn(\n"
     ]
    },
    {
     "name": "stdout",
     "output_type": "stream",
     "text": [
      "R² Score: 0.602, RMSE: 3.668, MAE: 2.659\n",
      "\n",
      "Evaluating: changepoint_prior_scale=0.04, seasonality_prior_scale=4.1, seasonality_mode=additive\n"
     ]
    },
    {
     "name": "stderr",
     "output_type": "stream",
     "text": [
      "11:36:45 - cmdstanpy - INFO - Chain [1] start processing\n",
      "11:36:46 - cmdstanpy - INFO - Chain [1] done processing\n",
      "c:\\Users\\natra\\AppData\\Local\\Programs\\Python\\Python310\\lib\\site-packages\\sklearn\\metrics\\_regression.py:492: FutureWarning: 'squared' is deprecated in version 1.4 and will be removed in 1.6. To calculate the root mean squared error, use the function'root_mean_squared_error'.\n",
      "  warnings.warn(\n",
      "11:36:46 - cmdstanpy - INFO - Chain [1] start processing\n",
      "11:36:46 - cmdstanpy - INFO - Chain [1] done processing\n",
      "c:\\Users\\natra\\AppData\\Local\\Programs\\Python\\Python310\\lib\\site-packages\\sklearn\\metrics\\_regression.py:492: FutureWarning: 'squared' is deprecated in version 1.4 and will be removed in 1.6. To calculate the root mean squared error, use the function'root_mean_squared_error'.\n",
      "  warnings.warn(\n",
      "11:36:47 - cmdstanpy - INFO - Chain [1] start processing\n",
      "11:36:47 - cmdstanpy - INFO - Chain [1] done processing\n",
      "c:\\Users\\natra\\AppData\\Local\\Programs\\Python\\Python310\\lib\\site-packages\\sklearn\\metrics\\_regression.py:492: FutureWarning: 'squared' is deprecated in version 1.4 and will be removed in 1.6. To calculate the root mean squared error, use the function'root_mean_squared_error'.\n",
      "  warnings.warn(\n",
      "11:36:48 - cmdstanpy - INFO - Chain [1] start processing\n",
      "11:36:48 - cmdstanpy - INFO - Chain [1] done processing\n",
      "c:\\Users\\natra\\AppData\\Local\\Programs\\Python\\Python310\\lib\\site-packages\\sklearn\\metrics\\_regression.py:492: FutureWarning: 'squared' is deprecated in version 1.4 and will be removed in 1.6. To calculate the root mean squared error, use the function'root_mean_squared_error'.\n",
      "  warnings.warn(\n",
      "11:36:48 - cmdstanpy - INFO - Chain [1] start processing\n",
      "11:36:48 - cmdstanpy - INFO - Chain [1] done processing\n",
      "c:\\Users\\natra\\AppData\\Local\\Programs\\Python\\Python310\\lib\\site-packages\\sklearn\\metrics\\_regression.py:492: FutureWarning: 'squared' is deprecated in version 1.4 and will be removed in 1.6. To calculate the root mean squared error, use the function'root_mean_squared_error'.\n",
      "  warnings.warn(\n"
     ]
    },
    {
     "name": "stdout",
     "output_type": "stream",
     "text": [
      "R² Score: 0.601, RMSE: 3.670, MAE: 2.658\n",
      "\n",
      "Evaluating: changepoint_prior_scale=0.04, seasonality_prior_scale=4.1, seasonality_mode=multiplicative\n"
     ]
    },
    {
     "name": "stderr",
     "output_type": "stream",
     "text": [
      "11:36:49 - cmdstanpy - INFO - Chain [1] start processing\n",
      "11:36:49 - cmdstanpy - INFO - Chain [1] done processing\n",
      "c:\\Users\\natra\\AppData\\Local\\Programs\\Python\\Python310\\lib\\site-packages\\sklearn\\metrics\\_regression.py:492: FutureWarning: 'squared' is deprecated in version 1.4 and will be removed in 1.6. To calculate the root mean squared error, use the function'root_mean_squared_error'.\n",
      "  warnings.warn(\n",
      "11:36:49 - cmdstanpy - INFO - Chain [1] start processing\n",
      "11:36:50 - cmdstanpy - INFO - Chain [1] done processing\n",
      "c:\\Users\\natra\\AppData\\Local\\Programs\\Python\\Python310\\lib\\site-packages\\sklearn\\metrics\\_regression.py:492: FutureWarning: 'squared' is deprecated in version 1.4 and will be removed in 1.6. To calculate the root mean squared error, use the function'root_mean_squared_error'.\n",
      "  warnings.warn(\n",
      "11:36:50 - cmdstanpy - INFO - Chain [1] start processing\n",
      "11:36:50 - cmdstanpy - INFO - Chain [1] done processing\n",
      "c:\\Users\\natra\\AppData\\Local\\Programs\\Python\\Python310\\lib\\site-packages\\sklearn\\metrics\\_regression.py:492: FutureWarning: 'squared' is deprecated in version 1.4 and will be removed in 1.6. To calculate the root mean squared error, use the function'root_mean_squared_error'.\n",
      "  warnings.warn(\n",
      "11:36:51 - cmdstanpy - INFO - Chain [1] start processing\n",
      "11:36:51 - cmdstanpy - INFO - Chain [1] done processing\n",
      "c:\\Users\\natra\\AppData\\Local\\Programs\\Python\\Python310\\lib\\site-packages\\sklearn\\metrics\\_regression.py:492: FutureWarning: 'squared' is deprecated in version 1.4 and will be removed in 1.6. To calculate the root mean squared error, use the function'root_mean_squared_error'.\n",
      "  warnings.warn(\n",
      "11:36:51 - cmdstanpy - INFO - Chain [1] start processing\n",
      "11:36:51 - cmdstanpy - INFO - Chain [1] done processing\n",
      "c:\\Users\\natra\\AppData\\Local\\Programs\\Python\\Python310\\lib\\site-packages\\sklearn\\metrics\\_regression.py:492: FutureWarning: 'squared' is deprecated in version 1.4 and will be removed in 1.6. To calculate the root mean squared error, use the function'root_mean_squared_error'.\n",
      "  warnings.warn(\n"
     ]
    },
    {
     "name": "stdout",
     "output_type": "stream",
     "text": [
      "R² Score: 0.603, RMSE: 3.668, MAE: 2.657\n",
      "\n",
      "Evaluating: changepoint_prior_scale=0.04, seasonality_prior_scale=5.1, seasonality_mode=additive\n"
     ]
    },
    {
     "name": "stderr",
     "output_type": "stream",
     "text": [
      "11:36:52 - cmdstanpy - INFO - Chain [1] start processing\n",
      "11:36:52 - cmdstanpy - INFO - Chain [1] done processing\n",
      "c:\\Users\\natra\\AppData\\Local\\Programs\\Python\\Python310\\lib\\site-packages\\sklearn\\metrics\\_regression.py:492: FutureWarning: 'squared' is deprecated in version 1.4 and will be removed in 1.6. To calculate the root mean squared error, use the function'root_mean_squared_error'.\n",
      "  warnings.warn(\n",
      "11:36:53 - cmdstanpy - INFO - Chain [1] start processing\n",
      "11:36:53 - cmdstanpy - INFO - Chain [1] done processing\n",
      "c:\\Users\\natra\\AppData\\Local\\Programs\\Python\\Python310\\lib\\site-packages\\sklearn\\metrics\\_regression.py:492: FutureWarning: 'squared' is deprecated in version 1.4 and will be removed in 1.6. To calculate the root mean squared error, use the function'root_mean_squared_error'.\n",
      "  warnings.warn(\n",
      "11:36:53 - cmdstanpy - INFO - Chain [1] start processing\n",
      "11:36:53 - cmdstanpy - INFO - Chain [1] done processing\n",
      "c:\\Users\\natra\\AppData\\Local\\Programs\\Python\\Python310\\lib\\site-packages\\sklearn\\metrics\\_regression.py:492: FutureWarning: 'squared' is deprecated in version 1.4 and will be removed in 1.6. To calculate the root mean squared error, use the function'root_mean_squared_error'.\n",
      "  warnings.warn(\n",
      "11:36:54 - cmdstanpy - INFO - Chain [1] start processing\n",
      "11:36:54 - cmdstanpy - INFO - Chain [1] done processing\n",
      "c:\\Users\\natra\\AppData\\Local\\Programs\\Python\\Python310\\lib\\site-packages\\sklearn\\metrics\\_regression.py:492: FutureWarning: 'squared' is deprecated in version 1.4 and will be removed in 1.6. To calculate the root mean squared error, use the function'root_mean_squared_error'.\n",
      "  warnings.warn(\n",
      "11:36:54 - cmdstanpy - INFO - Chain [1] start processing\n",
      "11:36:55 - cmdstanpy - INFO - Chain [1] done processing\n",
      "c:\\Users\\natra\\AppData\\Local\\Programs\\Python\\Python310\\lib\\site-packages\\sklearn\\metrics\\_regression.py:492: FutureWarning: 'squared' is deprecated in version 1.4 and will be removed in 1.6. To calculate the root mean squared error, use the function'root_mean_squared_error'.\n",
      "  warnings.warn(\n"
     ]
    },
    {
     "name": "stdout",
     "output_type": "stream",
     "text": [
      "R² Score: 0.601, RMSE: 3.670, MAE: 2.657\n",
      "\n",
      "Evaluating: changepoint_prior_scale=0.04, seasonality_prior_scale=5.1, seasonality_mode=multiplicative\n"
     ]
    },
    {
     "name": "stderr",
     "output_type": "stream",
     "text": [
      "11:36:55 - cmdstanpy - INFO - Chain [1] start processing\n",
      "11:36:56 - cmdstanpy - INFO - Chain [1] done processing\n",
      "c:\\Users\\natra\\AppData\\Local\\Programs\\Python\\Python310\\lib\\site-packages\\sklearn\\metrics\\_regression.py:492: FutureWarning: 'squared' is deprecated in version 1.4 and will be removed in 1.6. To calculate the root mean squared error, use the function'root_mean_squared_error'.\n",
      "  warnings.warn(\n",
      "11:36:56 - cmdstanpy - INFO - Chain [1] start processing\n",
      "11:36:56 - cmdstanpy - INFO - Chain [1] done processing\n",
      "c:\\Users\\natra\\AppData\\Local\\Programs\\Python\\Python310\\lib\\site-packages\\sklearn\\metrics\\_regression.py:492: FutureWarning: 'squared' is deprecated in version 1.4 and will be removed in 1.6. To calculate the root mean squared error, use the function'root_mean_squared_error'.\n",
      "  warnings.warn(\n",
      "11:36:57 - cmdstanpy - INFO - Chain [1] start processing\n",
      "11:36:57 - cmdstanpy - INFO - Chain [1] done processing\n",
      "c:\\Users\\natra\\AppData\\Local\\Programs\\Python\\Python310\\lib\\site-packages\\sklearn\\metrics\\_regression.py:492: FutureWarning: 'squared' is deprecated in version 1.4 and will be removed in 1.6. To calculate the root mean squared error, use the function'root_mean_squared_error'.\n",
      "  warnings.warn(\n",
      "11:36:58 - cmdstanpy - INFO - Chain [1] start processing\n",
      "11:36:58 - cmdstanpy - INFO - Chain [1] done processing\n",
      "c:\\Users\\natra\\AppData\\Local\\Programs\\Python\\Python310\\lib\\site-packages\\sklearn\\metrics\\_regression.py:492: FutureWarning: 'squared' is deprecated in version 1.4 and will be removed in 1.6. To calculate the root mean squared error, use the function'root_mean_squared_error'.\n",
      "  warnings.warn(\n",
      "11:36:58 - cmdstanpy - INFO - Chain [1] start processing\n",
      "11:36:58 - cmdstanpy - INFO - Chain [1] done processing\n",
      "c:\\Users\\natra\\AppData\\Local\\Programs\\Python\\Python310\\lib\\site-packages\\sklearn\\metrics\\_regression.py:492: FutureWarning: 'squared' is deprecated in version 1.4 and will be removed in 1.6. To calculate the root mean squared error, use the function'root_mean_squared_error'.\n",
      "  warnings.warn(\n"
     ]
    },
    {
     "name": "stdout",
     "output_type": "stream",
     "text": [
      "R² Score: 0.602, RMSE: 3.670, MAE: 2.661\n",
      "\n",
      "Evaluating: changepoint_prior_scale=0.04, seasonality_prior_scale=6.1, seasonality_mode=additive\n"
     ]
    },
    {
     "name": "stderr",
     "output_type": "stream",
     "text": [
      "11:36:59 - cmdstanpy - INFO - Chain [1] start processing\n",
      "11:36:59 - cmdstanpy - INFO - Chain [1] done processing\n",
      "c:\\Users\\natra\\AppData\\Local\\Programs\\Python\\Python310\\lib\\site-packages\\sklearn\\metrics\\_regression.py:492: FutureWarning: 'squared' is deprecated in version 1.4 and will be removed in 1.6. To calculate the root mean squared error, use the function'root_mean_squared_error'.\n",
      "  warnings.warn(\n",
      "11:37:00 - cmdstanpy - INFO - Chain [1] start processing\n",
      "11:37:00 - cmdstanpy - INFO - Chain [1] done processing\n",
      "c:\\Users\\natra\\AppData\\Local\\Programs\\Python\\Python310\\lib\\site-packages\\sklearn\\metrics\\_regression.py:492: FutureWarning: 'squared' is deprecated in version 1.4 and will be removed in 1.6. To calculate the root mean squared error, use the function'root_mean_squared_error'.\n",
      "  warnings.warn(\n",
      "11:37:00 - cmdstanpy - INFO - Chain [1] start processing\n",
      "11:37:00 - cmdstanpy - INFO - Chain [1] done processing\n",
      "c:\\Users\\natra\\AppData\\Local\\Programs\\Python\\Python310\\lib\\site-packages\\sklearn\\metrics\\_regression.py:492: FutureWarning: 'squared' is deprecated in version 1.4 and will be removed in 1.6. To calculate the root mean squared error, use the function'root_mean_squared_error'.\n",
      "  warnings.warn(\n",
      "11:37:01 - cmdstanpy - INFO - Chain [1] start processing\n",
      "11:37:01 - cmdstanpy - INFO - Chain [1] done processing\n",
      "c:\\Users\\natra\\AppData\\Local\\Programs\\Python\\Python310\\lib\\site-packages\\sklearn\\metrics\\_regression.py:492: FutureWarning: 'squared' is deprecated in version 1.4 and will be removed in 1.6. To calculate the root mean squared error, use the function'root_mean_squared_error'.\n",
      "  warnings.warn(\n",
      "11:37:02 - cmdstanpy - INFO - Chain [1] start processing\n",
      "11:37:02 - cmdstanpy - INFO - Chain [1] done processing\n",
      "c:\\Users\\natra\\AppData\\Local\\Programs\\Python\\Python310\\lib\\site-packages\\sklearn\\metrics\\_regression.py:492: FutureWarning: 'squared' is deprecated in version 1.4 and will be removed in 1.6. To calculate the root mean squared error, use the function'root_mean_squared_error'.\n",
      "  warnings.warn(\n"
     ]
    },
    {
     "name": "stdout",
     "output_type": "stream",
     "text": [
      "R² Score: 0.601, RMSE: 3.671, MAE: 2.661\n",
      "\n",
      "Evaluating: changepoint_prior_scale=0.04, seasonality_prior_scale=6.1, seasonality_mode=multiplicative\n"
     ]
    },
    {
     "name": "stderr",
     "output_type": "stream",
     "text": [
      "11:37:02 - cmdstanpy - INFO - Chain [1] start processing\n",
      "11:37:02 - cmdstanpy - INFO - Chain [1] done processing\n",
      "c:\\Users\\natra\\AppData\\Local\\Programs\\Python\\Python310\\lib\\site-packages\\sklearn\\metrics\\_regression.py:492: FutureWarning: 'squared' is deprecated in version 1.4 and will be removed in 1.6. To calculate the root mean squared error, use the function'root_mean_squared_error'.\n",
      "  warnings.warn(\n",
      "11:37:03 - cmdstanpy - INFO - Chain [1] start processing\n",
      "11:37:03 - cmdstanpy - INFO - Chain [1] done processing\n",
      "c:\\Users\\natra\\AppData\\Local\\Programs\\Python\\Python310\\lib\\site-packages\\sklearn\\metrics\\_regression.py:492: FutureWarning: 'squared' is deprecated in version 1.4 and will be removed in 1.6. To calculate the root mean squared error, use the function'root_mean_squared_error'.\n",
      "  warnings.warn(\n",
      "11:37:04 - cmdstanpy - INFO - Chain [1] start processing\n",
      "11:37:04 - cmdstanpy - INFO - Chain [1] done processing\n",
      "c:\\Users\\natra\\AppData\\Local\\Programs\\Python\\Python310\\lib\\site-packages\\sklearn\\metrics\\_regression.py:492: FutureWarning: 'squared' is deprecated in version 1.4 and will be removed in 1.6. To calculate the root mean squared error, use the function'root_mean_squared_error'.\n",
      "  warnings.warn(\n",
      "11:37:04 - cmdstanpy - INFO - Chain [1] start processing\n",
      "11:37:05 - cmdstanpy - INFO - Chain [1] done processing\n",
      "c:\\Users\\natra\\AppData\\Local\\Programs\\Python\\Python310\\lib\\site-packages\\sklearn\\metrics\\_regression.py:492: FutureWarning: 'squared' is deprecated in version 1.4 and will be removed in 1.6. To calculate the root mean squared error, use the function'root_mean_squared_error'.\n",
      "  warnings.warn(\n",
      "11:37:05 - cmdstanpy - INFO - Chain [1] start processing\n",
      "11:37:05 - cmdstanpy - INFO - Chain [1] done processing\n",
      "c:\\Users\\natra\\AppData\\Local\\Programs\\Python\\Python310\\lib\\site-packages\\sklearn\\metrics\\_regression.py:492: FutureWarning: 'squared' is deprecated in version 1.4 and will be removed in 1.6. To calculate the root mean squared error, use the function'root_mean_squared_error'.\n",
      "  warnings.warn(\n"
     ]
    },
    {
     "name": "stdout",
     "output_type": "stream",
     "text": [
      "R² Score: 0.604, RMSE: 3.663, MAE: 2.651\n",
      "\n",
      "Evaluating: changepoint_prior_scale=0.04, seasonality_prior_scale=7.1, seasonality_mode=additive\n"
     ]
    },
    {
     "name": "stderr",
     "output_type": "stream",
     "text": [
      "11:37:06 - cmdstanpy - INFO - Chain [1] start processing\n",
      "11:37:06 - cmdstanpy - INFO - Chain [1] done processing\n",
      "c:\\Users\\natra\\AppData\\Local\\Programs\\Python\\Python310\\lib\\site-packages\\sklearn\\metrics\\_regression.py:492: FutureWarning: 'squared' is deprecated in version 1.4 and will be removed in 1.6. To calculate the root mean squared error, use the function'root_mean_squared_error'.\n",
      "  warnings.warn(\n",
      "11:37:07 - cmdstanpy - INFO - Chain [1] start processing\n",
      "11:37:07 - cmdstanpy - INFO - Chain [1] done processing\n",
      "c:\\Users\\natra\\AppData\\Local\\Programs\\Python\\Python310\\lib\\site-packages\\sklearn\\metrics\\_regression.py:492: FutureWarning: 'squared' is deprecated in version 1.4 and will be removed in 1.6. To calculate the root mean squared error, use the function'root_mean_squared_error'.\n",
      "  warnings.warn(\n",
      "11:37:07 - cmdstanpy - INFO - Chain [1] start processing\n",
      "11:37:07 - cmdstanpy - INFO - Chain [1] done processing\n",
      "c:\\Users\\natra\\AppData\\Local\\Programs\\Python\\Python310\\lib\\site-packages\\sklearn\\metrics\\_regression.py:492: FutureWarning: 'squared' is deprecated in version 1.4 and will be removed in 1.6. To calculate the root mean squared error, use the function'root_mean_squared_error'.\n",
      "  warnings.warn(\n",
      "11:37:08 - cmdstanpy - INFO - Chain [1] start processing\n",
      "11:37:08 - cmdstanpy - INFO - Chain [1] done processing\n",
      "c:\\Users\\natra\\AppData\\Local\\Programs\\Python\\Python310\\lib\\site-packages\\sklearn\\metrics\\_regression.py:492: FutureWarning: 'squared' is deprecated in version 1.4 and will be removed in 1.6. To calculate the root mean squared error, use the function'root_mean_squared_error'.\n",
      "  warnings.warn(\n",
      "11:37:09 - cmdstanpy - INFO - Chain [1] start processing\n",
      "11:37:09 - cmdstanpy - INFO - Chain [1] done processing\n",
      "c:\\Users\\natra\\AppData\\Local\\Programs\\Python\\Python310\\lib\\site-packages\\sklearn\\metrics\\_regression.py:492: FutureWarning: 'squared' is deprecated in version 1.4 and will be removed in 1.6. To calculate the root mean squared error, use the function'root_mean_squared_error'.\n",
      "  warnings.warn(\n"
     ]
    },
    {
     "name": "stdout",
     "output_type": "stream",
     "text": [
      "R² Score: 0.601, RMSE: 3.671, MAE: 2.659\n",
      "\n",
      "Evaluating: changepoint_prior_scale=0.04, seasonality_prior_scale=7.1, seasonality_mode=multiplicative\n"
     ]
    },
    {
     "name": "stderr",
     "output_type": "stream",
     "text": [
      "11:37:09 - cmdstanpy - INFO - Chain [1] start processing\n",
      "11:37:09 - cmdstanpy - INFO - Chain [1] done processing\n",
      "c:\\Users\\natra\\AppData\\Local\\Programs\\Python\\Python310\\lib\\site-packages\\sklearn\\metrics\\_regression.py:492: FutureWarning: 'squared' is deprecated in version 1.4 and will be removed in 1.6. To calculate the root mean squared error, use the function'root_mean_squared_error'.\n",
      "  warnings.warn(\n",
      "11:37:10 - cmdstanpy - INFO - Chain [1] start processing\n",
      "11:37:10 - cmdstanpy - INFO - Chain [1] done processing\n",
      "c:\\Users\\natra\\AppData\\Local\\Programs\\Python\\Python310\\lib\\site-packages\\sklearn\\metrics\\_regression.py:492: FutureWarning: 'squared' is deprecated in version 1.4 and will be removed in 1.6. To calculate the root mean squared error, use the function'root_mean_squared_error'.\n",
      "  warnings.warn(\n",
      "11:37:10 - cmdstanpy - INFO - Chain [1] start processing\n",
      "11:37:11 - cmdstanpy - INFO - Chain [1] done processing\n",
      "c:\\Users\\natra\\AppData\\Local\\Programs\\Python\\Python310\\lib\\site-packages\\sklearn\\metrics\\_regression.py:492: FutureWarning: 'squared' is deprecated in version 1.4 and will be removed in 1.6. To calculate the root mean squared error, use the function'root_mean_squared_error'.\n",
      "  warnings.warn(\n",
      "11:37:11 - cmdstanpy - INFO - Chain [1] start processing\n",
      "11:37:11 - cmdstanpy - INFO - Chain [1] done processing\n",
      "c:\\Users\\natra\\AppData\\Local\\Programs\\Python\\Python310\\lib\\site-packages\\sklearn\\metrics\\_regression.py:492: FutureWarning: 'squared' is deprecated in version 1.4 and will be removed in 1.6. To calculate the root mean squared error, use the function'root_mean_squared_error'.\n",
      "  warnings.warn(\n",
      "11:37:11 - cmdstanpy - INFO - Chain [1] start processing\n",
      "11:37:12 - cmdstanpy - INFO - Chain [1] done processing\n",
      "c:\\Users\\natra\\AppData\\Local\\Programs\\Python\\Python310\\lib\\site-packages\\sklearn\\metrics\\_regression.py:492: FutureWarning: 'squared' is deprecated in version 1.4 and will be removed in 1.6. To calculate the root mean squared error, use the function'root_mean_squared_error'.\n",
      "  warnings.warn(\n"
     ]
    },
    {
     "name": "stdout",
     "output_type": "stream",
     "text": [
      "R² Score: 0.603, RMSE: 3.665, MAE: 2.654\n",
      "\n",
      "Evaluating: changepoint_prior_scale=0.04, seasonality_prior_scale=8.1, seasonality_mode=additive\n"
     ]
    },
    {
     "name": "stderr",
     "output_type": "stream",
     "text": [
      "11:37:12 - cmdstanpy - INFO - Chain [1] start processing\n",
      "11:37:12 - cmdstanpy - INFO - Chain [1] done processing\n",
      "c:\\Users\\natra\\AppData\\Local\\Programs\\Python\\Python310\\lib\\site-packages\\sklearn\\metrics\\_regression.py:492: FutureWarning: 'squared' is deprecated in version 1.4 and will be removed in 1.6. To calculate the root mean squared error, use the function'root_mean_squared_error'.\n",
      "  warnings.warn(\n",
      "11:37:13 - cmdstanpy - INFO - Chain [1] start processing\n",
      "11:37:13 - cmdstanpy - INFO - Chain [1] done processing\n",
      "c:\\Users\\natra\\AppData\\Local\\Programs\\Python\\Python310\\lib\\site-packages\\sklearn\\metrics\\_regression.py:492: FutureWarning: 'squared' is deprecated in version 1.4 and will be removed in 1.6. To calculate the root mean squared error, use the function'root_mean_squared_error'.\n",
      "  warnings.warn(\n",
      "11:37:13 - cmdstanpy - INFO - Chain [1] start processing\n",
      "11:37:13 - cmdstanpy - INFO - Chain [1] done processing\n",
      "c:\\Users\\natra\\AppData\\Local\\Programs\\Python\\Python310\\lib\\site-packages\\sklearn\\metrics\\_regression.py:492: FutureWarning: 'squared' is deprecated in version 1.4 and will be removed in 1.6. To calculate the root mean squared error, use the function'root_mean_squared_error'.\n",
      "  warnings.warn(\n",
      "11:37:14 - cmdstanpy - INFO - Chain [1] start processing\n",
      "11:37:14 - cmdstanpy - INFO - Chain [1] done processing\n",
      "c:\\Users\\natra\\AppData\\Local\\Programs\\Python\\Python310\\lib\\site-packages\\sklearn\\metrics\\_regression.py:492: FutureWarning: 'squared' is deprecated in version 1.4 and will be removed in 1.6. To calculate the root mean squared error, use the function'root_mean_squared_error'.\n",
      "  warnings.warn(\n",
      "11:37:14 - cmdstanpy - INFO - Chain [1] start processing\n",
      "11:37:14 - cmdstanpy - INFO - Chain [1] done processing\n",
      "c:\\Users\\natra\\AppData\\Local\\Programs\\Python\\Python310\\lib\\site-packages\\sklearn\\metrics\\_regression.py:492: FutureWarning: 'squared' is deprecated in version 1.4 and will be removed in 1.6. To calculate the root mean squared error, use the function'root_mean_squared_error'.\n",
      "  warnings.warn(\n"
     ]
    },
    {
     "name": "stdout",
     "output_type": "stream",
     "text": [
      "R² Score: 0.599, RMSE: 3.676, MAE: 2.663\n",
      "\n",
      "Evaluating: changepoint_prior_scale=0.04, seasonality_prior_scale=8.1, seasonality_mode=multiplicative\n"
     ]
    },
    {
     "name": "stderr",
     "output_type": "stream",
     "text": [
      "11:37:15 - cmdstanpy - INFO - Chain [1] start processing\n",
      "11:37:15 - cmdstanpy - INFO - Chain [1] done processing\n",
      "c:\\Users\\natra\\AppData\\Local\\Programs\\Python\\Python310\\lib\\site-packages\\sklearn\\metrics\\_regression.py:492: FutureWarning: 'squared' is deprecated in version 1.4 and will be removed in 1.6. To calculate the root mean squared error, use the function'root_mean_squared_error'.\n",
      "  warnings.warn(\n",
      "11:37:15 - cmdstanpy - INFO - Chain [1] start processing\n",
      "11:37:15 - cmdstanpy - INFO - Chain [1] done processing\n",
      "c:\\Users\\natra\\AppData\\Local\\Programs\\Python\\Python310\\lib\\site-packages\\sklearn\\metrics\\_regression.py:492: FutureWarning: 'squared' is deprecated in version 1.4 and will be removed in 1.6. To calculate the root mean squared error, use the function'root_mean_squared_error'.\n",
      "  warnings.warn(\n",
      "11:37:16 - cmdstanpy - INFO - Chain [1] start processing\n",
      "11:37:16 - cmdstanpy - INFO - Chain [1] done processing\n",
      "c:\\Users\\natra\\AppData\\Local\\Programs\\Python\\Python310\\lib\\site-packages\\sklearn\\metrics\\_regression.py:492: FutureWarning: 'squared' is deprecated in version 1.4 and will be removed in 1.6. To calculate the root mean squared error, use the function'root_mean_squared_error'.\n",
      "  warnings.warn(\n",
      "11:37:16 - cmdstanpy - INFO - Chain [1] start processing\n",
      "11:37:17 - cmdstanpy - INFO - Chain [1] done processing\n",
      "c:\\Users\\natra\\AppData\\Local\\Programs\\Python\\Python310\\lib\\site-packages\\sklearn\\metrics\\_regression.py:492: FutureWarning: 'squared' is deprecated in version 1.4 and will be removed in 1.6. To calculate the root mean squared error, use the function'root_mean_squared_error'.\n",
      "  warnings.warn(\n",
      "11:37:17 - cmdstanpy - INFO - Chain [1] start processing\n",
      "11:37:17 - cmdstanpy - INFO - Chain [1] done processing\n",
      "c:\\Users\\natra\\AppData\\Local\\Programs\\Python\\Python310\\lib\\site-packages\\sklearn\\metrics\\_regression.py:492: FutureWarning: 'squared' is deprecated in version 1.4 and will be removed in 1.6. To calculate the root mean squared error, use the function'root_mean_squared_error'.\n",
      "  warnings.warn(\n"
     ]
    },
    {
     "name": "stdout",
     "output_type": "stream",
     "text": [
      "R² Score: 0.603, RMSE: 3.664, MAE: 2.652\n",
      "\n",
      "Evaluating: changepoint_prior_scale=0.04, seasonality_prior_scale=9.1, seasonality_mode=additive\n"
     ]
    },
    {
     "name": "stderr",
     "output_type": "stream",
     "text": [
      "11:37:18 - cmdstanpy - INFO - Chain [1] start processing\n",
      "11:37:18 - cmdstanpy - INFO - Chain [1] done processing\n",
      "c:\\Users\\natra\\AppData\\Local\\Programs\\Python\\Python310\\lib\\site-packages\\sklearn\\metrics\\_regression.py:492: FutureWarning: 'squared' is deprecated in version 1.4 and will be removed in 1.6. To calculate the root mean squared error, use the function'root_mean_squared_error'.\n",
      "  warnings.warn(\n",
      "11:37:18 - cmdstanpy - INFO - Chain [1] start processing\n",
      "11:37:18 - cmdstanpy - INFO - Chain [1] done processing\n",
      "c:\\Users\\natra\\AppData\\Local\\Programs\\Python\\Python310\\lib\\site-packages\\sklearn\\metrics\\_regression.py:492: FutureWarning: 'squared' is deprecated in version 1.4 and will be removed in 1.6. To calculate the root mean squared error, use the function'root_mean_squared_error'.\n",
      "  warnings.warn(\n",
      "11:37:19 - cmdstanpy - INFO - Chain [1] start processing\n",
      "11:37:19 - cmdstanpy - INFO - Chain [1] done processing\n",
      "c:\\Users\\natra\\AppData\\Local\\Programs\\Python\\Python310\\lib\\site-packages\\sklearn\\metrics\\_regression.py:492: FutureWarning: 'squared' is deprecated in version 1.4 and will be removed in 1.6. To calculate the root mean squared error, use the function'root_mean_squared_error'.\n",
      "  warnings.warn(\n",
      "11:37:20 - cmdstanpy - INFO - Chain [1] start processing\n",
      "11:37:20 - cmdstanpy - INFO - Chain [1] done processing\n",
      "c:\\Users\\natra\\AppData\\Local\\Programs\\Python\\Python310\\lib\\site-packages\\sklearn\\metrics\\_regression.py:492: FutureWarning: 'squared' is deprecated in version 1.4 and will be removed in 1.6. To calculate the root mean squared error, use the function'root_mean_squared_error'.\n",
      "  warnings.warn(\n",
      "11:37:21 - cmdstanpy - INFO - Chain [1] start processing\n",
      "11:37:21 - cmdstanpy - INFO - Chain [1] done processing\n",
      "c:\\Users\\natra\\AppData\\Local\\Programs\\Python\\Python310\\lib\\site-packages\\sklearn\\metrics\\_regression.py:492: FutureWarning: 'squared' is deprecated in version 1.4 and will be removed in 1.6. To calculate the root mean squared error, use the function'root_mean_squared_error'.\n",
      "  warnings.warn(\n"
     ]
    },
    {
     "name": "stdout",
     "output_type": "stream",
     "text": [
      "R² Score: 0.601, RMSE: 3.669, MAE: 2.657\n",
      "\n",
      "Evaluating: changepoint_prior_scale=0.04, seasonality_prior_scale=9.1, seasonality_mode=multiplicative\n"
     ]
    },
    {
     "name": "stderr",
     "output_type": "stream",
     "text": [
      "11:37:21 - cmdstanpy - INFO - Chain [1] start processing\n",
      "11:37:22 - cmdstanpy - INFO - Chain [1] done processing\n",
      "c:\\Users\\natra\\AppData\\Local\\Programs\\Python\\Python310\\lib\\site-packages\\sklearn\\metrics\\_regression.py:492: FutureWarning: 'squared' is deprecated in version 1.4 and will be removed in 1.6. To calculate the root mean squared error, use the function'root_mean_squared_error'.\n",
      "  warnings.warn(\n",
      "11:37:22 - cmdstanpy - INFO - Chain [1] start processing\n",
      "11:37:22 - cmdstanpy - INFO - Chain [1] done processing\n",
      "c:\\Users\\natra\\AppData\\Local\\Programs\\Python\\Python310\\lib\\site-packages\\sklearn\\metrics\\_regression.py:492: FutureWarning: 'squared' is deprecated in version 1.4 and will be removed in 1.6. To calculate the root mean squared error, use the function'root_mean_squared_error'.\n",
      "  warnings.warn(\n",
      "11:37:23 - cmdstanpy - INFO - Chain [1] start processing\n",
      "11:37:23 - cmdstanpy - INFO - Chain [1] done processing\n",
      "c:\\Users\\natra\\AppData\\Local\\Programs\\Python\\Python310\\lib\\site-packages\\sklearn\\metrics\\_regression.py:492: FutureWarning: 'squared' is deprecated in version 1.4 and will be removed in 1.6. To calculate the root mean squared error, use the function'root_mean_squared_error'.\n",
      "  warnings.warn(\n",
      "11:37:23 - cmdstanpy - INFO - Chain [1] start processing\n",
      "11:37:24 - cmdstanpy - INFO - Chain [1] done processing\n",
      "c:\\Users\\natra\\AppData\\Local\\Programs\\Python\\Python310\\lib\\site-packages\\sklearn\\metrics\\_regression.py:492: FutureWarning: 'squared' is deprecated in version 1.4 and will be removed in 1.6. To calculate the root mean squared error, use the function'root_mean_squared_error'.\n",
      "  warnings.warn(\n",
      "11:37:25 - cmdstanpy - INFO - Chain [1] start processing\n",
      "11:37:25 - cmdstanpy - INFO - Chain [1] done processing\n",
      "c:\\Users\\natra\\AppData\\Local\\Programs\\Python\\Python310\\lib\\site-packages\\sklearn\\metrics\\_regression.py:492: FutureWarning: 'squared' is deprecated in version 1.4 and will be removed in 1.6. To calculate the root mean squared error, use the function'root_mean_squared_error'.\n",
      "  warnings.warn(\n"
     ]
    },
    {
     "name": "stdout",
     "output_type": "stream",
     "text": [
      "R² Score: 0.601, RMSE: 3.673, MAE: 2.663\n",
      "\n",
      "Evaluating: changepoint_prior_scale=0.04, seasonality_prior_scale=10.1, seasonality_mode=additive\n"
     ]
    },
    {
     "name": "stderr",
     "output_type": "stream",
     "text": [
      "11:37:26 - cmdstanpy - INFO - Chain [1] start processing\n",
      "11:37:26 - cmdstanpy - INFO - Chain [1] done processing\n",
      "c:\\Users\\natra\\AppData\\Local\\Programs\\Python\\Python310\\lib\\site-packages\\sklearn\\metrics\\_regression.py:492: FutureWarning: 'squared' is deprecated in version 1.4 and will be removed in 1.6. To calculate the root mean squared error, use the function'root_mean_squared_error'.\n",
      "  warnings.warn(\n",
      "11:37:26 - cmdstanpy - INFO - Chain [1] start processing\n",
      "11:37:27 - cmdstanpy - INFO - Chain [1] done processing\n",
      "c:\\Users\\natra\\AppData\\Local\\Programs\\Python\\Python310\\lib\\site-packages\\sklearn\\metrics\\_regression.py:492: FutureWarning: 'squared' is deprecated in version 1.4 and will be removed in 1.6. To calculate the root mean squared error, use the function'root_mean_squared_error'.\n",
      "  warnings.warn(\n",
      "11:37:27 - cmdstanpy - INFO - Chain [1] start processing\n",
      "11:37:27 - cmdstanpy - INFO - Chain [1] done processing\n",
      "c:\\Users\\natra\\AppData\\Local\\Programs\\Python\\Python310\\lib\\site-packages\\sklearn\\metrics\\_regression.py:492: FutureWarning: 'squared' is deprecated in version 1.4 and will be removed in 1.6. To calculate the root mean squared error, use the function'root_mean_squared_error'.\n",
      "  warnings.warn(\n",
      "11:37:28 - cmdstanpy - INFO - Chain [1] start processing\n",
      "11:37:28 - cmdstanpy - INFO - Chain [1] done processing\n",
      "c:\\Users\\natra\\AppData\\Local\\Programs\\Python\\Python310\\lib\\site-packages\\sklearn\\metrics\\_regression.py:492: FutureWarning: 'squared' is deprecated in version 1.4 and will be removed in 1.6. To calculate the root mean squared error, use the function'root_mean_squared_error'.\n",
      "  warnings.warn(\n",
      "11:37:28 - cmdstanpy - INFO - Chain [1] start processing\n",
      "11:37:28 - cmdstanpy - INFO - Chain [1] done processing\n",
      "c:\\Users\\natra\\AppData\\Local\\Programs\\Python\\Python310\\lib\\site-packages\\sklearn\\metrics\\_regression.py:492: FutureWarning: 'squared' is deprecated in version 1.4 and will be removed in 1.6. To calculate the root mean squared error, use the function'root_mean_squared_error'.\n",
      "  warnings.warn(\n"
     ]
    },
    {
     "name": "stdout",
     "output_type": "stream",
     "text": [
      "R² Score: 0.600, RMSE: 3.673, MAE: 2.662\n",
      "\n",
      "Evaluating: changepoint_prior_scale=0.04, seasonality_prior_scale=10.1, seasonality_mode=multiplicative\n"
     ]
    },
    {
     "name": "stderr",
     "output_type": "stream",
     "text": [
      "11:37:29 - cmdstanpy - INFO - Chain [1] start processing\n",
      "11:37:29 - cmdstanpy - INFO - Chain [1] done processing\n",
      "c:\\Users\\natra\\AppData\\Local\\Programs\\Python\\Python310\\lib\\site-packages\\sklearn\\metrics\\_regression.py:492: FutureWarning: 'squared' is deprecated in version 1.4 and will be removed in 1.6. To calculate the root mean squared error, use the function'root_mean_squared_error'.\n",
      "  warnings.warn(\n",
      "11:37:29 - cmdstanpy - INFO - Chain [1] start processing\n",
      "11:37:29 - cmdstanpy - INFO - Chain [1] done processing\n",
      "c:\\Users\\natra\\AppData\\Local\\Programs\\Python\\Python310\\lib\\site-packages\\sklearn\\metrics\\_regression.py:492: FutureWarning: 'squared' is deprecated in version 1.4 and will be removed in 1.6. To calculate the root mean squared error, use the function'root_mean_squared_error'.\n",
      "  warnings.warn(\n",
      "11:37:30 - cmdstanpy - INFO - Chain [1] start processing\n",
      "11:37:30 - cmdstanpy - INFO - Chain [1] done processing\n",
      "c:\\Users\\natra\\AppData\\Local\\Programs\\Python\\Python310\\lib\\site-packages\\sklearn\\metrics\\_regression.py:492: FutureWarning: 'squared' is deprecated in version 1.4 and will be removed in 1.6. To calculate the root mean squared error, use the function'root_mean_squared_error'.\n",
      "  warnings.warn(\n",
      "11:37:30 - cmdstanpy - INFO - Chain [1] start processing\n",
      "11:37:31 - cmdstanpy - INFO - Chain [1] done processing\n",
      "c:\\Users\\natra\\AppData\\Local\\Programs\\Python\\Python310\\lib\\site-packages\\sklearn\\metrics\\_regression.py:492: FutureWarning: 'squared' is deprecated in version 1.4 and will be removed in 1.6. To calculate the root mean squared error, use the function'root_mean_squared_error'.\n",
      "  warnings.warn(\n",
      "11:37:31 - cmdstanpy - INFO - Chain [1] start processing\n",
      "11:37:31 - cmdstanpy - INFO - Chain [1] done processing\n",
      "c:\\Users\\natra\\AppData\\Local\\Programs\\Python\\Python310\\lib\\site-packages\\sklearn\\metrics\\_regression.py:492: FutureWarning: 'squared' is deprecated in version 1.4 and will be removed in 1.6. To calculate the root mean squared error, use the function'root_mean_squared_error'.\n",
      "  warnings.warn(\n"
     ]
    },
    {
     "name": "stdout",
     "output_type": "stream",
     "text": [
      "R² Score: 0.604, RMSE: 3.662, MAE: 2.650\n",
      "\n",
      "Evaluating: changepoint_prior_scale=0.05, seasonality_prior_scale=0.1, seasonality_mode=additive\n"
     ]
    },
    {
     "name": "stderr",
     "output_type": "stream",
     "text": [
      "11:37:32 - cmdstanpy - INFO - Chain [1] start processing\n",
      "11:37:32 - cmdstanpy - INFO - Chain [1] done processing\n",
      "c:\\Users\\natra\\AppData\\Local\\Programs\\Python\\Python310\\lib\\site-packages\\sklearn\\metrics\\_regression.py:492: FutureWarning: 'squared' is deprecated in version 1.4 and will be removed in 1.6. To calculate the root mean squared error, use the function'root_mean_squared_error'.\n",
      "  warnings.warn(\n",
      "11:37:32 - cmdstanpy - INFO - Chain [1] start processing\n",
      "11:37:33 - cmdstanpy - INFO - Chain [1] done processing\n",
      "c:\\Users\\natra\\AppData\\Local\\Programs\\Python\\Python310\\lib\\site-packages\\sklearn\\metrics\\_regression.py:492: FutureWarning: 'squared' is deprecated in version 1.4 and will be removed in 1.6. To calculate the root mean squared error, use the function'root_mean_squared_error'.\n",
      "  warnings.warn(\n",
      "11:37:33 - cmdstanpy - INFO - Chain [1] start processing\n",
      "11:37:33 - cmdstanpy - INFO - Chain [1] done processing\n",
      "c:\\Users\\natra\\AppData\\Local\\Programs\\Python\\Python310\\lib\\site-packages\\sklearn\\metrics\\_regression.py:492: FutureWarning: 'squared' is deprecated in version 1.4 and will be removed in 1.6. To calculate the root mean squared error, use the function'root_mean_squared_error'.\n",
      "  warnings.warn(\n",
      "11:37:34 - cmdstanpy - INFO - Chain [1] start processing\n",
      "11:37:34 - cmdstanpy - INFO - Chain [1] done processing\n",
      "c:\\Users\\natra\\AppData\\Local\\Programs\\Python\\Python310\\lib\\site-packages\\sklearn\\metrics\\_regression.py:492: FutureWarning: 'squared' is deprecated in version 1.4 and will be removed in 1.6. To calculate the root mean squared error, use the function'root_mean_squared_error'.\n",
      "  warnings.warn(\n",
      "11:37:35 - cmdstanpy - INFO - Chain [1] start processing\n",
      "11:37:35 - cmdstanpy - INFO - Chain [1] done processing\n",
      "c:\\Users\\natra\\AppData\\Local\\Programs\\Python\\Python310\\lib\\site-packages\\sklearn\\metrics\\_regression.py:492: FutureWarning: 'squared' is deprecated in version 1.4 and will be removed in 1.6. To calculate the root mean squared error, use the function'root_mean_squared_error'.\n",
      "  warnings.warn(\n"
     ]
    },
    {
     "name": "stdout",
     "output_type": "stream",
     "text": [
      "R² Score: 0.596, RMSE: 3.686, MAE: 2.676\n",
      "\n",
      "Evaluating: changepoint_prior_scale=0.05, seasonality_prior_scale=0.1, seasonality_mode=multiplicative\n"
     ]
    },
    {
     "name": "stderr",
     "output_type": "stream",
     "text": [
      "11:37:35 - cmdstanpy - INFO - Chain [1] start processing\n",
      "11:37:35 - cmdstanpy - INFO - Chain [1] done processing\n",
      "c:\\Users\\natra\\AppData\\Local\\Programs\\Python\\Python310\\lib\\site-packages\\sklearn\\metrics\\_regression.py:492: FutureWarning: 'squared' is deprecated in version 1.4 and will be removed in 1.6. To calculate the root mean squared error, use the function'root_mean_squared_error'.\n",
      "  warnings.warn(\n",
      "11:37:36 - cmdstanpy - INFO - Chain [1] start processing\n",
      "11:37:36 - cmdstanpy - INFO - Chain [1] done processing\n",
      "c:\\Users\\natra\\AppData\\Local\\Programs\\Python\\Python310\\lib\\site-packages\\sklearn\\metrics\\_regression.py:492: FutureWarning: 'squared' is deprecated in version 1.4 and will be removed in 1.6. To calculate the root mean squared error, use the function'root_mean_squared_error'.\n",
      "  warnings.warn(\n",
      "11:37:37 - cmdstanpy - INFO - Chain [1] start processing\n",
      "11:37:37 - cmdstanpy - INFO - Chain [1] done processing\n",
      "c:\\Users\\natra\\AppData\\Local\\Programs\\Python\\Python310\\lib\\site-packages\\sklearn\\metrics\\_regression.py:492: FutureWarning: 'squared' is deprecated in version 1.4 and will be removed in 1.6. To calculate the root mean squared error, use the function'root_mean_squared_error'.\n",
      "  warnings.warn(\n",
      "11:37:37 - cmdstanpy - INFO - Chain [1] start processing\n",
      "11:37:37 - cmdstanpy - INFO - Chain [1] done processing\n",
      "c:\\Users\\natra\\AppData\\Local\\Programs\\Python\\Python310\\lib\\site-packages\\sklearn\\metrics\\_regression.py:492: FutureWarning: 'squared' is deprecated in version 1.4 and will be removed in 1.6. To calculate the root mean squared error, use the function'root_mean_squared_error'.\n",
      "  warnings.warn(\n",
      "11:37:38 - cmdstanpy - INFO - Chain [1] start processing\n",
      "11:37:38 - cmdstanpy - INFO - Chain [1] done processing\n",
      "c:\\Users\\natra\\AppData\\Local\\Programs\\Python\\Python310\\lib\\site-packages\\sklearn\\metrics\\_regression.py:492: FutureWarning: 'squared' is deprecated in version 1.4 and will be removed in 1.6. To calculate the root mean squared error, use the function'root_mean_squared_error'.\n",
      "  warnings.warn(\n"
     ]
    },
    {
     "name": "stdout",
     "output_type": "stream",
     "text": [
      "R² Score: 0.603, RMSE: 3.666, MAE: 2.658\n",
      "\n",
      "Evaluating: changepoint_prior_scale=0.05, seasonality_prior_scale=1.1, seasonality_mode=additive\n"
     ]
    },
    {
     "name": "stderr",
     "output_type": "stream",
     "text": [
      "11:37:38 - cmdstanpy - INFO - Chain [1] start processing\n",
      "11:37:39 - cmdstanpy - INFO - Chain [1] done processing\n",
      "c:\\Users\\natra\\AppData\\Local\\Programs\\Python\\Python310\\lib\\site-packages\\sklearn\\metrics\\_regression.py:492: FutureWarning: 'squared' is deprecated in version 1.4 and will be removed in 1.6. To calculate the root mean squared error, use the function'root_mean_squared_error'.\n",
      "  warnings.warn(\n",
      "11:37:39 - cmdstanpy - INFO - Chain [1] start processing\n",
      "11:37:39 - cmdstanpy - INFO - Chain [1] done processing\n",
      "c:\\Users\\natra\\AppData\\Local\\Programs\\Python\\Python310\\lib\\site-packages\\sklearn\\metrics\\_regression.py:492: FutureWarning: 'squared' is deprecated in version 1.4 and will be removed in 1.6. To calculate the root mean squared error, use the function'root_mean_squared_error'.\n",
      "  warnings.warn(\n",
      "11:37:40 - cmdstanpy - INFO - Chain [1] start processing\n",
      "11:37:40 - cmdstanpy - INFO - Chain [1] done processing\n",
      "c:\\Users\\natra\\AppData\\Local\\Programs\\Python\\Python310\\lib\\site-packages\\sklearn\\metrics\\_regression.py:492: FutureWarning: 'squared' is deprecated in version 1.4 and will be removed in 1.6. To calculate the root mean squared error, use the function'root_mean_squared_error'.\n",
      "  warnings.warn(\n",
      "11:37:40 - cmdstanpy - INFO - Chain [1] start processing\n",
      "11:37:40 - cmdstanpy - INFO - Chain [1] done processing\n",
      "c:\\Users\\natra\\AppData\\Local\\Programs\\Python\\Python310\\lib\\site-packages\\sklearn\\metrics\\_regression.py:492: FutureWarning: 'squared' is deprecated in version 1.4 and will be removed in 1.6. To calculate the root mean squared error, use the function'root_mean_squared_error'.\n",
      "  warnings.warn(\n",
      "11:37:41 - cmdstanpy - INFO - Chain [1] start processing\n",
      "11:37:41 - cmdstanpy - INFO - Chain [1] done processing\n",
      "c:\\Users\\natra\\AppData\\Local\\Programs\\Python\\Python310\\lib\\site-packages\\sklearn\\metrics\\_regression.py:492: FutureWarning: 'squared' is deprecated in version 1.4 and will be removed in 1.6. To calculate the root mean squared error, use the function'root_mean_squared_error'.\n",
      "  warnings.warn(\n"
     ]
    },
    {
     "name": "stdout",
     "output_type": "stream",
     "text": [
      "R² Score: 0.570, RMSE: 3.771, MAE: 2.765\n",
      "\n",
      "Evaluating: changepoint_prior_scale=0.05, seasonality_prior_scale=1.1, seasonality_mode=multiplicative\n"
     ]
    },
    {
     "name": "stderr",
     "output_type": "stream",
     "text": [
      "11:37:41 - cmdstanpy - INFO - Chain [1] start processing\n",
      "11:37:41 - cmdstanpy - INFO - Chain [1] done processing\n",
      "c:\\Users\\natra\\AppData\\Local\\Programs\\Python\\Python310\\lib\\site-packages\\sklearn\\metrics\\_regression.py:492: FutureWarning: 'squared' is deprecated in version 1.4 and will be removed in 1.6. To calculate the root mean squared error, use the function'root_mean_squared_error'.\n",
      "  warnings.warn(\n",
      "11:37:42 - cmdstanpy - INFO - Chain [1] start processing\n",
      "11:37:42 - cmdstanpy - INFO - Chain [1] done processing\n",
      "c:\\Users\\natra\\AppData\\Local\\Programs\\Python\\Python310\\lib\\site-packages\\sklearn\\metrics\\_regression.py:492: FutureWarning: 'squared' is deprecated in version 1.4 and will be removed in 1.6. To calculate the root mean squared error, use the function'root_mean_squared_error'.\n",
      "  warnings.warn(\n",
      "11:37:43 - cmdstanpy - INFO - Chain [1] start processing\n",
      "11:37:43 - cmdstanpy - INFO - Chain [1] done processing\n",
      "c:\\Users\\natra\\AppData\\Local\\Programs\\Python\\Python310\\lib\\site-packages\\sklearn\\metrics\\_regression.py:492: FutureWarning: 'squared' is deprecated in version 1.4 and will be removed in 1.6. To calculate the root mean squared error, use the function'root_mean_squared_error'.\n",
      "  warnings.warn(\n",
      "11:37:43 - cmdstanpy - INFO - Chain [1] start processing\n",
      "11:37:43 - cmdstanpy - INFO - Chain [1] done processing\n",
      "c:\\Users\\natra\\AppData\\Local\\Programs\\Python\\Python310\\lib\\site-packages\\sklearn\\metrics\\_regression.py:492: FutureWarning: 'squared' is deprecated in version 1.4 and will be removed in 1.6. To calculate the root mean squared error, use the function'root_mean_squared_error'.\n",
      "  warnings.warn(\n",
      "11:37:44 - cmdstanpy - INFO - Chain [1] start processing\n",
      "11:37:44 - cmdstanpy - INFO - Chain [1] done processing\n",
      "c:\\Users\\natra\\AppData\\Local\\Programs\\Python\\Python310\\lib\\site-packages\\sklearn\\metrics\\_regression.py:492: FutureWarning: 'squared' is deprecated in version 1.4 and will be removed in 1.6. To calculate the root mean squared error, use the function'root_mean_squared_error'.\n",
      "  warnings.warn(\n"
     ]
    },
    {
     "name": "stdout",
     "output_type": "stream",
     "text": [
      "R² Score: 0.603, RMSE: 3.666, MAE: 2.659\n",
      "\n",
      "Evaluating: changepoint_prior_scale=0.05, seasonality_prior_scale=2.1, seasonality_mode=additive\n"
     ]
    },
    {
     "name": "stderr",
     "output_type": "stream",
     "text": [
      "11:37:44 - cmdstanpy - INFO - Chain [1] start processing\n",
      "11:37:45 - cmdstanpy - INFO - Chain [1] done processing\n",
      "c:\\Users\\natra\\AppData\\Local\\Programs\\Python\\Python310\\lib\\site-packages\\sklearn\\metrics\\_regression.py:492: FutureWarning: 'squared' is deprecated in version 1.4 and will be removed in 1.6. To calculate the root mean squared error, use the function'root_mean_squared_error'.\n",
      "  warnings.warn(\n",
      "11:37:45 - cmdstanpy - INFO - Chain [1] start processing\n",
      "11:37:45 - cmdstanpy - INFO - Chain [1] done processing\n",
      "c:\\Users\\natra\\AppData\\Local\\Programs\\Python\\Python310\\lib\\site-packages\\sklearn\\metrics\\_regression.py:492: FutureWarning: 'squared' is deprecated in version 1.4 and will be removed in 1.6. To calculate the root mean squared error, use the function'root_mean_squared_error'.\n",
      "  warnings.warn(\n",
      "11:37:46 - cmdstanpy - INFO - Chain [1] start processing\n",
      "11:37:46 - cmdstanpy - INFO - Chain [1] done processing\n",
      "c:\\Users\\natra\\AppData\\Local\\Programs\\Python\\Python310\\lib\\site-packages\\sklearn\\metrics\\_regression.py:492: FutureWarning: 'squared' is deprecated in version 1.4 and will be removed in 1.6. To calculate the root mean squared error, use the function'root_mean_squared_error'.\n",
      "  warnings.warn(\n",
      "11:37:46 - cmdstanpy - INFO - Chain [1] start processing\n",
      "11:37:46 - cmdstanpy - INFO - Chain [1] done processing\n",
      "c:\\Users\\natra\\AppData\\Local\\Programs\\Python\\Python310\\lib\\site-packages\\sklearn\\metrics\\_regression.py:492: FutureWarning: 'squared' is deprecated in version 1.4 and will be removed in 1.6. To calculate the root mean squared error, use the function'root_mean_squared_error'.\n",
      "  warnings.warn(\n",
      "11:37:47 - cmdstanpy - INFO - Chain [1] start processing\n",
      "11:37:47 - cmdstanpy - INFO - Chain [1] done processing\n",
      "c:\\Users\\natra\\AppData\\Local\\Programs\\Python\\Python310\\lib\\site-packages\\sklearn\\metrics\\_regression.py:492: FutureWarning: 'squared' is deprecated in version 1.4 and will be removed in 1.6. To calculate the root mean squared error, use the function'root_mean_squared_error'.\n",
      "  warnings.warn(\n"
     ]
    },
    {
     "name": "stdout",
     "output_type": "stream",
     "text": [
      "R² Score: 0.598, RMSE: 3.679, MAE: 2.667\n",
      "\n",
      "Evaluating: changepoint_prior_scale=0.05, seasonality_prior_scale=2.1, seasonality_mode=multiplicative\n"
     ]
    },
    {
     "name": "stderr",
     "output_type": "stream",
     "text": [
      "11:37:47 - cmdstanpy - INFO - Chain [1] start processing\n",
      "11:37:47 - cmdstanpy - INFO - Chain [1] done processing\n",
      "c:\\Users\\natra\\AppData\\Local\\Programs\\Python\\Python310\\lib\\site-packages\\sklearn\\metrics\\_regression.py:492: FutureWarning: 'squared' is deprecated in version 1.4 and will be removed in 1.6. To calculate the root mean squared error, use the function'root_mean_squared_error'.\n",
      "  warnings.warn(\n",
      "11:37:48 - cmdstanpy - INFO - Chain [1] start processing\n",
      "11:37:48 - cmdstanpy - INFO - Chain [1] done processing\n",
      "c:\\Users\\natra\\AppData\\Local\\Programs\\Python\\Python310\\lib\\site-packages\\sklearn\\metrics\\_regression.py:492: FutureWarning: 'squared' is deprecated in version 1.4 and will be removed in 1.6. To calculate the root mean squared error, use the function'root_mean_squared_error'.\n",
      "  warnings.warn(\n",
      "11:37:49 - cmdstanpy - INFO - Chain [1] start processing\n",
      "11:37:49 - cmdstanpy - INFO - Chain [1] done processing\n",
      "c:\\Users\\natra\\AppData\\Local\\Programs\\Python\\Python310\\lib\\site-packages\\sklearn\\metrics\\_regression.py:492: FutureWarning: 'squared' is deprecated in version 1.4 and will be removed in 1.6. To calculate the root mean squared error, use the function'root_mean_squared_error'.\n",
      "  warnings.warn(\n",
      "11:37:49 - cmdstanpy - INFO - Chain [1] start processing\n",
      "11:37:50 - cmdstanpy - INFO - Chain [1] done processing\n",
      "c:\\Users\\natra\\AppData\\Local\\Programs\\Python\\Python310\\lib\\site-packages\\sklearn\\metrics\\_regression.py:492: FutureWarning: 'squared' is deprecated in version 1.4 and will be removed in 1.6. To calculate the root mean squared error, use the function'root_mean_squared_error'.\n",
      "  warnings.warn(\n",
      "11:37:50 - cmdstanpy - INFO - Chain [1] start processing\n",
      "11:37:50 - cmdstanpy - INFO - Chain [1] done processing\n",
      "c:\\Users\\natra\\AppData\\Local\\Programs\\Python\\Python310\\lib\\site-packages\\sklearn\\metrics\\_regression.py:492: FutureWarning: 'squared' is deprecated in version 1.4 and will be removed in 1.6. To calculate the root mean squared error, use the function'root_mean_squared_error'.\n",
      "  warnings.warn(\n"
     ]
    },
    {
     "name": "stdout",
     "output_type": "stream",
     "text": [
      "R² Score: 0.582, RMSE: 3.737, MAE: 2.761\n",
      "\n",
      "Evaluating: changepoint_prior_scale=0.05, seasonality_prior_scale=3.1, seasonality_mode=additive\n"
     ]
    },
    {
     "name": "stderr",
     "output_type": "stream",
     "text": [
      "11:37:51 - cmdstanpy - INFO - Chain [1] start processing\n",
      "11:37:51 - cmdstanpy - INFO - Chain [1] done processing\n",
      "c:\\Users\\natra\\AppData\\Local\\Programs\\Python\\Python310\\lib\\site-packages\\sklearn\\metrics\\_regression.py:492: FutureWarning: 'squared' is deprecated in version 1.4 and will be removed in 1.6. To calculate the root mean squared error, use the function'root_mean_squared_error'.\n",
      "  warnings.warn(\n",
      "11:37:52 - cmdstanpy - INFO - Chain [1] start processing\n",
      "11:37:52 - cmdstanpy - INFO - Chain [1] done processing\n",
      "c:\\Users\\natra\\AppData\\Local\\Programs\\Python\\Python310\\lib\\site-packages\\sklearn\\metrics\\_regression.py:492: FutureWarning: 'squared' is deprecated in version 1.4 and will be removed in 1.6. To calculate the root mean squared error, use the function'root_mean_squared_error'.\n",
      "  warnings.warn(\n",
      "11:37:52 - cmdstanpy - INFO - Chain [1] start processing\n",
      "11:37:52 - cmdstanpy - INFO - Chain [1] done processing\n",
      "c:\\Users\\natra\\AppData\\Local\\Programs\\Python\\Python310\\lib\\site-packages\\sklearn\\metrics\\_regression.py:492: FutureWarning: 'squared' is deprecated in version 1.4 and will be removed in 1.6. To calculate the root mean squared error, use the function'root_mean_squared_error'.\n",
      "  warnings.warn(\n",
      "11:37:53 - cmdstanpy - INFO - Chain [1] start processing\n",
      "11:37:53 - cmdstanpy - INFO - Chain [1] done processing\n",
      "c:\\Users\\natra\\AppData\\Local\\Programs\\Python\\Python310\\lib\\site-packages\\sklearn\\metrics\\_regression.py:492: FutureWarning: 'squared' is deprecated in version 1.4 and will be removed in 1.6. To calculate the root mean squared error, use the function'root_mean_squared_error'.\n",
      "  warnings.warn(\n",
      "11:37:53 - cmdstanpy - INFO - Chain [1] start processing\n",
      "11:37:54 - cmdstanpy - INFO - Chain [1] done processing\n",
      "c:\\Users\\natra\\AppData\\Local\\Programs\\Python\\Python310\\lib\\site-packages\\sklearn\\metrics\\_regression.py:492: FutureWarning: 'squared' is deprecated in version 1.4 and will be removed in 1.6. To calculate the root mean squared error, use the function'root_mean_squared_error'.\n",
      "  warnings.warn(\n"
     ]
    },
    {
     "name": "stdout",
     "output_type": "stream",
     "text": [
      "R² Score: 0.597, RMSE: 3.682, MAE: 2.673\n",
      "\n",
      "Evaluating: changepoint_prior_scale=0.05, seasonality_prior_scale=3.1, seasonality_mode=multiplicative\n"
     ]
    },
    {
     "name": "stderr",
     "output_type": "stream",
     "text": [
      "11:37:54 - cmdstanpy - INFO - Chain [1] start processing\n",
      "11:37:54 - cmdstanpy - INFO - Chain [1] done processing\n",
      "c:\\Users\\natra\\AppData\\Local\\Programs\\Python\\Python310\\lib\\site-packages\\sklearn\\metrics\\_regression.py:492: FutureWarning: 'squared' is deprecated in version 1.4 and will be removed in 1.6. To calculate the root mean squared error, use the function'root_mean_squared_error'.\n",
      "  warnings.warn(\n",
      "11:37:55 - cmdstanpy - INFO - Chain [1] start processing\n",
      "11:37:55 - cmdstanpy - INFO - Chain [1] done processing\n",
      "c:\\Users\\natra\\AppData\\Local\\Programs\\Python\\Python310\\lib\\site-packages\\sklearn\\metrics\\_regression.py:492: FutureWarning: 'squared' is deprecated in version 1.4 and will be removed in 1.6. To calculate the root mean squared error, use the function'root_mean_squared_error'.\n",
      "  warnings.warn(\n",
      "11:37:55 - cmdstanpy - INFO - Chain [1] start processing\n",
      "11:37:55 - cmdstanpy - INFO - Chain [1] done processing\n",
      "c:\\Users\\natra\\AppData\\Local\\Programs\\Python\\Python310\\lib\\site-packages\\sklearn\\metrics\\_regression.py:492: FutureWarning: 'squared' is deprecated in version 1.4 and will be removed in 1.6. To calculate the root mean squared error, use the function'root_mean_squared_error'.\n",
      "  warnings.warn(\n",
      "11:37:56 - cmdstanpy - INFO - Chain [1] start processing\n",
      "11:37:56 - cmdstanpy - INFO - Chain [1] done processing\n",
      "c:\\Users\\natra\\AppData\\Local\\Programs\\Python\\Python310\\lib\\site-packages\\sklearn\\metrics\\_regression.py:492: FutureWarning: 'squared' is deprecated in version 1.4 and will be removed in 1.6. To calculate the root mean squared error, use the function'root_mean_squared_error'.\n",
      "  warnings.warn(\n",
      "11:37:56 - cmdstanpy - INFO - Chain [1] start processing\n",
      "11:37:56 - cmdstanpy - INFO - Chain [1] done processing\n",
      "c:\\Users\\natra\\AppData\\Local\\Programs\\Python\\Python310\\lib\\site-packages\\sklearn\\metrics\\_regression.py:492: FutureWarning: 'squared' is deprecated in version 1.4 and will be removed in 1.6. To calculate the root mean squared error, use the function'root_mean_squared_error'.\n",
      "  warnings.warn(\n"
     ]
    },
    {
     "name": "stdout",
     "output_type": "stream",
     "text": [
      "R² Score: 0.604, RMSE: 3.664, MAE: 2.654\n",
      "\n",
      "Evaluating: changepoint_prior_scale=0.05, seasonality_prior_scale=4.1, seasonality_mode=additive\n"
     ]
    },
    {
     "name": "stderr",
     "output_type": "stream",
     "text": [
      "11:37:57 - cmdstanpy - INFO - Chain [1] start processing\n",
      "11:37:57 - cmdstanpy - INFO - Chain [1] done processing\n",
      "c:\\Users\\natra\\AppData\\Local\\Programs\\Python\\Python310\\lib\\site-packages\\sklearn\\metrics\\_regression.py:492: FutureWarning: 'squared' is deprecated in version 1.4 and will be removed in 1.6. To calculate the root mean squared error, use the function'root_mean_squared_error'.\n",
      "  warnings.warn(\n",
      "11:37:58 - cmdstanpy - INFO - Chain [1] start processing\n",
      "11:37:58 - cmdstanpy - INFO - Chain [1] done processing\n",
      "c:\\Users\\natra\\AppData\\Local\\Programs\\Python\\Python310\\lib\\site-packages\\sklearn\\metrics\\_regression.py:492: FutureWarning: 'squared' is deprecated in version 1.4 and will be removed in 1.6. To calculate the root mean squared error, use the function'root_mean_squared_error'.\n",
      "  warnings.warn(\n",
      "11:37:58 - cmdstanpy - INFO - Chain [1] start processing\n",
      "11:37:58 - cmdstanpy - INFO - Chain [1] done processing\n",
      "c:\\Users\\natra\\AppData\\Local\\Programs\\Python\\Python310\\lib\\site-packages\\sklearn\\metrics\\_regression.py:492: FutureWarning: 'squared' is deprecated in version 1.4 and will be removed in 1.6. To calculate the root mean squared error, use the function'root_mean_squared_error'.\n",
      "  warnings.warn(\n",
      "11:37:59 - cmdstanpy - INFO - Chain [1] start processing\n",
      "11:37:59 - cmdstanpy - INFO - Chain [1] done processing\n",
      "c:\\Users\\natra\\AppData\\Local\\Programs\\Python\\Python310\\lib\\site-packages\\sklearn\\metrics\\_regression.py:492: FutureWarning: 'squared' is deprecated in version 1.4 and will be removed in 1.6. To calculate the root mean squared error, use the function'root_mean_squared_error'.\n",
      "  warnings.warn(\n",
      "11:37:59 - cmdstanpy - INFO - Chain [1] start processing\n",
      "11:37:59 - cmdstanpy - INFO - Chain [1] done processing\n",
      "c:\\Users\\natra\\AppData\\Local\\Programs\\Python\\Python310\\lib\\site-packages\\sklearn\\metrics\\_regression.py:492: FutureWarning: 'squared' is deprecated in version 1.4 and will be removed in 1.6. To calculate the root mean squared error, use the function'root_mean_squared_error'.\n",
      "  warnings.warn(\n"
     ]
    },
    {
     "name": "stdout",
     "output_type": "stream",
     "text": [
      "R² Score: 0.568, RMSE: 3.775, MAE: 2.767\n",
      "\n",
      "Evaluating: changepoint_prior_scale=0.05, seasonality_prior_scale=4.1, seasonality_mode=multiplicative\n"
     ]
    },
    {
     "name": "stderr",
     "output_type": "stream",
     "text": [
      "11:38:00 - cmdstanpy - INFO - Chain [1] start processing\n",
      "11:38:00 - cmdstanpy - INFO - Chain [1] done processing\n",
      "c:\\Users\\natra\\AppData\\Local\\Programs\\Python\\Python310\\lib\\site-packages\\sklearn\\metrics\\_regression.py:492: FutureWarning: 'squared' is deprecated in version 1.4 and will be removed in 1.6. To calculate the root mean squared error, use the function'root_mean_squared_error'.\n",
      "  warnings.warn(\n",
      "11:38:00 - cmdstanpy - INFO - Chain [1] start processing\n",
      "11:38:01 - cmdstanpy - INFO - Chain [1] done processing\n",
      "c:\\Users\\natra\\AppData\\Local\\Programs\\Python\\Python310\\lib\\site-packages\\sklearn\\metrics\\_regression.py:492: FutureWarning: 'squared' is deprecated in version 1.4 and will be removed in 1.6. To calculate the root mean squared error, use the function'root_mean_squared_error'.\n",
      "  warnings.warn(\n",
      "11:38:01 - cmdstanpy - INFO - Chain [1] start processing\n",
      "11:38:01 - cmdstanpy - INFO - Chain [1] done processing\n",
      "c:\\Users\\natra\\AppData\\Local\\Programs\\Python\\Python310\\lib\\site-packages\\sklearn\\metrics\\_regression.py:492: FutureWarning: 'squared' is deprecated in version 1.4 and will be removed in 1.6. To calculate the root mean squared error, use the function'root_mean_squared_error'.\n",
      "  warnings.warn(\n",
      "11:38:02 - cmdstanpy - INFO - Chain [1] start processing\n",
      "11:38:02 - cmdstanpy - INFO - Chain [1] done processing\n",
      "c:\\Users\\natra\\AppData\\Local\\Programs\\Python\\Python310\\lib\\site-packages\\sklearn\\metrics\\_regression.py:492: FutureWarning: 'squared' is deprecated in version 1.4 and will be removed in 1.6. To calculate the root mean squared error, use the function'root_mean_squared_error'.\n",
      "  warnings.warn(\n",
      "11:38:02 - cmdstanpy - INFO - Chain [1] start processing\n",
      "11:38:02 - cmdstanpy - INFO - Chain [1] done processing\n",
      "c:\\Users\\natra\\AppData\\Local\\Programs\\Python\\Python310\\lib\\site-packages\\sklearn\\metrics\\_regression.py:492: FutureWarning: 'squared' is deprecated in version 1.4 and will be removed in 1.6. To calculate the root mean squared error, use the function'root_mean_squared_error'.\n",
      "  warnings.warn(\n"
     ]
    },
    {
     "name": "stdout",
     "output_type": "stream",
     "text": [
      "R² Score: 0.603, RMSE: 3.668, MAE: 2.658\n",
      "\n",
      "Evaluating: changepoint_prior_scale=0.05, seasonality_prior_scale=5.1, seasonality_mode=additive\n"
     ]
    },
    {
     "name": "stderr",
     "output_type": "stream",
     "text": [
      "11:38:03 - cmdstanpy - INFO - Chain [1] start processing\n",
      "11:38:03 - cmdstanpy - INFO - Chain [1] done processing\n",
      "c:\\Users\\natra\\AppData\\Local\\Programs\\Python\\Python310\\lib\\site-packages\\sklearn\\metrics\\_regression.py:492: FutureWarning: 'squared' is deprecated in version 1.4 and will be removed in 1.6. To calculate the root mean squared error, use the function'root_mean_squared_error'.\n",
      "  warnings.warn(\n",
      "11:38:03 - cmdstanpy - INFO - Chain [1] start processing\n",
      "11:38:04 - cmdstanpy - INFO - Chain [1] done processing\n",
      "c:\\Users\\natra\\AppData\\Local\\Programs\\Python\\Python310\\lib\\site-packages\\sklearn\\metrics\\_regression.py:492: FutureWarning: 'squared' is deprecated in version 1.4 and will be removed in 1.6. To calculate the root mean squared error, use the function'root_mean_squared_error'.\n",
      "  warnings.warn(\n",
      "11:38:04 - cmdstanpy - INFO - Chain [1] start processing\n",
      "11:38:04 - cmdstanpy - INFO - Chain [1] done processing\n",
      "c:\\Users\\natra\\AppData\\Local\\Programs\\Python\\Python310\\lib\\site-packages\\sklearn\\metrics\\_regression.py:492: FutureWarning: 'squared' is deprecated in version 1.4 and will be removed in 1.6. To calculate the root mean squared error, use the function'root_mean_squared_error'.\n",
      "  warnings.warn(\n",
      "11:38:05 - cmdstanpy - INFO - Chain [1] start processing\n",
      "11:38:05 - cmdstanpy - INFO - Chain [1] done processing\n",
      "c:\\Users\\natra\\AppData\\Local\\Programs\\Python\\Python310\\lib\\site-packages\\sklearn\\metrics\\_regression.py:492: FutureWarning: 'squared' is deprecated in version 1.4 and will be removed in 1.6. To calculate the root mean squared error, use the function'root_mean_squared_error'.\n",
      "  warnings.warn(\n",
      "11:38:05 - cmdstanpy - INFO - Chain [1] start processing\n",
      "11:38:05 - cmdstanpy - INFO - Chain [1] done processing\n",
      "c:\\Users\\natra\\AppData\\Local\\Programs\\Python\\Python310\\lib\\site-packages\\sklearn\\metrics\\_regression.py:492: FutureWarning: 'squared' is deprecated in version 1.4 and will be removed in 1.6. To calculate the root mean squared error, use the function'root_mean_squared_error'.\n",
      "  warnings.warn(\n"
     ]
    },
    {
     "name": "stdout",
     "output_type": "stream",
     "text": [
      "R² Score: 0.567, RMSE: 3.777, MAE: 2.769\n",
      "\n",
      "Evaluating: changepoint_prior_scale=0.05, seasonality_prior_scale=5.1, seasonality_mode=multiplicative\n"
     ]
    },
    {
     "name": "stderr",
     "output_type": "stream",
     "text": [
      "11:38:06 - cmdstanpy - INFO - Chain [1] start processing\n",
      "11:38:06 - cmdstanpy - INFO - Chain [1] done processing\n",
      "c:\\Users\\natra\\AppData\\Local\\Programs\\Python\\Python310\\lib\\site-packages\\sklearn\\metrics\\_regression.py:492: FutureWarning: 'squared' is deprecated in version 1.4 and will be removed in 1.6. To calculate the root mean squared error, use the function'root_mean_squared_error'.\n",
      "  warnings.warn(\n",
      "11:38:06 - cmdstanpy - INFO - Chain [1] start processing\n",
      "11:38:06 - cmdstanpy - INFO - Chain [1] done processing\n",
      "c:\\Users\\natra\\AppData\\Local\\Programs\\Python\\Python310\\lib\\site-packages\\sklearn\\metrics\\_regression.py:492: FutureWarning: 'squared' is deprecated in version 1.4 and will be removed in 1.6. To calculate the root mean squared error, use the function'root_mean_squared_error'.\n",
      "  warnings.warn(\n",
      "11:38:07 - cmdstanpy - INFO - Chain [1] start processing\n",
      "11:38:07 - cmdstanpy - INFO - Chain [1] done processing\n",
      "c:\\Users\\natra\\AppData\\Local\\Programs\\Python\\Python310\\lib\\site-packages\\sklearn\\metrics\\_regression.py:492: FutureWarning: 'squared' is deprecated in version 1.4 and will be removed in 1.6. To calculate the root mean squared error, use the function'root_mean_squared_error'.\n",
      "  warnings.warn(\n",
      "11:38:07 - cmdstanpy - INFO - Chain [1] start processing\n",
      "11:38:08 - cmdstanpy - INFO - Chain [1] done processing\n",
      "c:\\Users\\natra\\AppData\\Local\\Programs\\Python\\Python310\\lib\\site-packages\\sklearn\\metrics\\_regression.py:492: FutureWarning: 'squared' is deprecated in version 1.4 and will be removed in 1.6. To calculate the root mean squared error, use the function'root_mean_squared_error'.\n",
      "  warnings.warn(\n",
      "11:38:08 - cmdstanpy - INFO - Chain [1] start processing\n",
      "11:38:08 - cmdstanpy - INFO - Chain [1] done processing\n",
      "c:\\Users\\natra\\AppData\\Local\\Programs\\Python\\Python310\\lib\\site-packages\\sklearn\\metrics\\_regression.py:492: FutureWarning: 'squared' is deprecated in version 1.4 and will be removed in 1.6. To calculate the root mean squared error, use the function'root_mean_squared_error'.\n",
      "  warnings.warn(\n"
     ]
    },
    {
     "name": "stdout",
     "output_type": "stream",
     "text": [
      "R² Score: 0.603, RMSE: 3.666, MAE: 2.655\n",
      "\n",
      "Evaluating: changepoint_prior_scale=0.05, seasonality_prior_scale=6.1, seasonality_mode=additive\n"
     ]
    },
    {
     "name": "stderr",
     "output_type": "stream",
     "text": [
      "11:38:09 - cmdstanpy - INFO - Chain [1] start processing\n",
      "11:38:09 - cmdstanpy - INFO - Chain [1] done processing\n",
      "c:\\Users\\natra\\AppData\\Local\\Programs\\Python\\Python310\\lib\\site-packages\\sklearn\\metrics\\_regression.py:492: FutureWarning: 'squared' is deprecated in version 1.4 and will be removed in 1.6. To calculate the root mean squared error, use the function'root_mean_squared_error'.\n",
      "  warnings.warn(\n",
      "11:38:09 - cmdstanpy - INFO - Chain [1] start processing\n",
      "11:38:09 - cmdstanpy - INFO - Chain [1] done processing\n",
      "c:\\Users\\natra\\AppData\\Local\\Programs\\Python\\Python310\\lib\\site-packages\\sklearn\\metrics\\_regression.py:492: FutureWarning: 'squared' is deprecated in version 1.4 and will be removed in 1.6. To calculate the root mean squared error, use the function'root_mean_squared_error'.\n",
      "  warnings.warn(\n",
      "11:38:10 - cmdstanpy - INFO - Chain [1] start processing\n",
      "11:38:10 - cmdstanpy - INFO - Chain [1] done processing\n",
      "c:\\Users\\natra\\AppData\\Local\\Programs\\Python\\Python310\\lib\\site-packages\\sklearn\\metrics\\_regression.py:492: FutureWarning: 'squared' is deprecated in version 1.4 and will be removed in 1.6. To calculate the root mean squared error, use the function'root_mean_squared_error'.\n",
      "  warnings.warn(\n",
      "11:38:10 - cmdstanpy - INFO - Chain [1] start processing\n",
      "11:38:11 - cmdstanpy - INFO - Chain [1] done processing\n",
      "c:\\Users\\natra\\AppData\\Local\\Programs\\Python\\Python310\\lib\\site-packages\\sklearn\\metrics\\_regression.py:492: FutureWarning: 'squared' is deprecated in version 1.4 and will be removed in 1.6. To calculate the root mean squared error, use the function'root_mean_squared_error'.\n",
      "  warnings.warn(\n",
      "11:38:11 - cmdstanpy - INFO - Chain [1] start processing\n",
      "11:38:11 - cmdstanpy - INFO - Chain [1] done processing\n",
      "c:\\Users\\natra\\AppData\\Local\\Programs\\Python\\Python310\\lib\\site-packages\\sklearn\\metrics\\_regression.py:492: FutureWarning: 'squared' is deprecated in version 1.4 and will be removed in 1.6. To calculate the root mean squared error, use the function'root_mean_squared_error'.\n",
      "  warnings.warn(\n"
     ]
    },
    {
     "name": "stdout",
     "output_type": "stream",
     "text": [
      "R² Score: 0.598, RMSE: 3.680, MAE: 2.670\n",
      "\n",
      "Evaluating: changepoint_prior_scale=0.05, seasonality_prior_scale=6.1, seasonality_mode=multiplicative\n"
     ]
    },
    {
     "name": "stderr",
     "output_type": "stream",
     "text": [
      "11:38:12 - cmdstanpy - INFO - Chain [1] start processing\n",
      "11:38:12 - cmdstanpy - INFO - Chain [1] done processing\n",
      "c:\\Users\\natra\\AppData\\Local\\Programs\\Python\\Python310\\lib\\site-packages\\sklearn\\metrics\\_regression.py:492: FutureWarning: 'squared' is deprecated in version 1.4 and will be removed in 1.6. To calculate the root mean squared error, use the function'root_mean_squared_error'.\n",
      "  warnings.warn(\n",
      "11:38:12 - cmdstanpy - INFO - Chain [1] start processing\n",
      "11:38:12 - cmdstanpy - INFO - Chain [1] done processing\n",
      "c:\\Users\\natra\\AppData\\Local\\Programs\\Python\\Python310\\lib\\site-packages\\sklearn\\metrics\\_regression.py:492: FutureWarning: 'squared' is deprecated in version 1.4 and will be removed in 1.6. To calculate the root mean squared error, use the function'root_mean_squared_error'.\n",
      "  warnings.warn(\n",
      "11:38:13 - cmdstanpy - INFO - Chain [1] start processing\n",
      "11:38:13 - cmdstanpy - INFO - Chain [1] done processing\n",
      "c:\\Users\\natra\\AppData\\Local\\Programs\\Python\\Python310\\lib\\site-packages\\sklearn\\metrics\\_regression.py:492: FutureWarning: 'squared' is deprecated in version 1.4 and will be removed in 1.6. To calculate the root mean squared error, use the function'root_mean_squared_error'.\n",
      "  warnings.warn(\n",
      "11:38:14 - cmdstanpy - INFO - Chain [1] start processing\n",
      "11:38:14 - cmdstanpy - INFO - Chain [1] done processing\n",
      "c:\\Users\\natra\\AppData\\Local\\Programs\\Python\\Python310\\lib\\site-packages\\sklearn\\metrics\\_regression.py:492: FutureWarning: 'squared' is deprecated in version 1.4 and will be removed in 1.6. To calculate the root mean squared error, use the function'root_mean_squared_error'.\n",
      "  warnings.warn(\n",
      "11:38:14 - cmdstanpy - INFO - Chain [1] start processing\n",
      "11:38:14 - cmdstanpy - INFO - Chain [1] done processing\n",
      "c:\\Users\\natra\\AppData\\Local\\Programs\\Python\\Python310\\lib\\site-packages\\sklearn\\metrics\\_regression.py:492: FutureWarning: 'squared' is deprecated in version 1.4 and will be removed in 1.6. To calculate the root mean squared error, use the function'root_mean_squared_error'.\n",
      "  warnings.warn(\n"
     ]
    },
    {
     "name": "stdout",
     "output_type": "stream",
     "text": [
      "R² Score: 0.603, RMSE: 3.666, MAE: 2.656\n",
      "\n",
      "Evaluating: changepoint_prior_scale=0.05, seasonality_prior_scale=7.1, seasonality_mode=additive\n"
     ]
    },
    {
     "name": "stderr",
     "output_type": "stream",
     "text": [
      "11:38:15 - cmdstanpy - INFO - Chain [1] start processing\n",
      "11:38:15 - cmdstanpy - INFO - Chain [1] done processing\n",
      "c:\\Users\\natra\\AppData\\Local\\Programs\\Python\\Python310\\lib\\site-packages\\sklearn\\metrics\\_regression.py:492: FutureWarning: 'squared' is deprecated in version 1.4 and will be removed in 1.6. To calculate the root mean squared error, use the function'root_mean_squared_error'.\n",
      "  warnings.warn(\n",
      "11:38:16 - cmdstanpy - INFO - Chain [1] start processing\n",
      "11:38:16 - cmdstanpy - INFO - Chain [1] done processing\n",
      "c:\\Users\\natra\\AppData\\Local\\Programs\\Python\\Python310\\lib\\site-packages\\sklearn\\metrics\\_regression.py:492: FutureWarning: 'squared' is deprecated in version 1.4 and will be removed in 1.6. To calculate the root mean squared error, use the function'root_mean_squared_error'.\n",
      "  warnings.warn(\n",
      "11:38:16 - cmdstanpy - INFO - Chain [1] start processing\n",
      "11:38:16 - cmdstanpy - INFO - Chain [1] done processing\n",
      "c:\\Users\\natra\\AppData\\Local\\Programs\\Python\\Python310\\lib\\site-packages\\sklearn\\metrics\\_regression.py:492: FutureWarning: 'squared' is deprecated in version 1.4 and will be removed in 1.6. To calculate the root mean squared error, use the function'root_mean_squared_error'.\n",
      "  warnings.warn(\n",
      "11:38:17 - cmdstanpy - INFO - Chain [1] start processing\n",
      "11:38:17 - cmdstanpy - INFO - Chain [1] done processing\n",
      "c:\\Users\\natra\\AppData\\Local\\Programs\\Python\\Python310\\lib\\site-packages\\sklearn\\metrics\\_regression.py:492: FutureWarning: 'squared' is deprecated in version 1.4 and will be removed in 1.6. To calculate the root mean squared error, use the function'root_mean_squared_error'.\n",
      "  warnings.warn(\n",
      "11:38:17 - cmdstanpy - INFO - Chain [1] start processing\n",
      "11:38:18 - cmdstanpy - INFO - Chain [1] done processing\n",
      "c:\\Users\\natra\\AppData\\Local\\Programs\\Python\\Python310\\lib\\site-packages\\sklearn\\metrics\\_regression.py:492: FutureWarning: 'squared' is deprecated in version 1.4 and will be removed in 1.6. To calculate the root mean squared error, use the function'root_mean_squared_error'.\n",
      "  warnings.warn(\n"
     ]
    },
    {
     "name": "stdout",
     "output_type": "stream",
     "text": [
      "R² Score: 0.599, RMSE: 3.677, MAE: 2.667\n",
      "\n",
      "Evaluating: changepoint_prior_scale=0.05, seasonality_prior_scale=7.1, seasonality_mode=multiplicative\n"
     ]
    },
    {
     "name": "stderr",
     "output_type": "stream",
     "text": [
      "11:38:18 - cmdstanpy - INFO - Chain [1] start processing\n",
      "11:38:18 - cmdstanpy - INFO - Chain [1] done processing\n",
      "c:\\Users\\natra\\AppData\\Local\\Programs\\Python\\Python310\\lib\\site-packages\\sklearn\\metrics\\_regression.py:492: FutureWarning: 'squared' is deprecated in version 1.4 and will be removed in 1.6. To calculate the root mean squared error, use the function'root_mean_squared_error'.\n",
      "  warnings.warn(\n",
      "11:38:19 - cmdstanpy - INFO - Chain [1] start processing\n",
      "11:38:19 - cmdstanpy - INFO - Chain [1] done processing\n",
      "c:\\Users\\natra\\AppData\\Local\\Programs\\Python\\Python310\\lib\\site-packages\\sklearn\\metrics\\_regression.py:492: FutureWarning: 'squared' is deprecated in version 1.4 and will be removed in 1.6. To calculate the root mean squared error, use the function'root_mean_squared_error'.\n",
      "  warnings.warn(\n",
      "11:38:20 - cmdstanpy - INFO - Chain [1] start processing\n",
      "11:38:20 - cmdstanpy - INFO - Chain [1] done processing\n",
      "c:\\Users\\natra\\AppData\\Local\\Programs\\Python\\Python310\\lib\\site-packages\\sklearn\\metrics\\_regression.py:492: FutureWarning: 'squared' is deprecated in version 1.4 and will be removed in 1.6. To calculate the root mean squared error, use the function'root_mean_squared_error'.\n",
      "  warnings.warn(\n",
      "11:38:20 - cmdstanpy - INFO - Chain [1] start processing\n",
      "11:38:20 - cmdstanpy - INFO - Chain [1] done processing\n",
      "c:\\Users\\natra\\AppData\\Local\\Programs\\Python\\Python310\\lib\\site-packages\\sklearn\\metrics\\_regression.py:492: FutureWarning: 'squared' is deprecated in version 1.4 and will be removed in 1.6. To calculate the root mean squared error, use the function'root_mean_squared_error'.\n",
      "  warnings.warn(\n",
      "11:38:21 - cmdstanpy - INFO - Chain [1] start processing\n",
      "11:38:21 - cmdstanpy - INFO - Chain [1] done processing\n",
      "c:\\Users\\natra\\AppData\\Local\\Programs\\Python\\Python310\\lib\\site-packages\\sklearn\\metrics\\_regression.py:492: FutureWarning: 'squared' is deprecated in version 1.4 and will be removed in 1.6. To calculate the root mean squared error, use the function'root_mean_squared_error'.\n",
      "  warnings.warn(\n"
     ]
    },
    {
     "name": "stdout",
     "output_type": "stream",
     "text": [
      "R² Score: 0.604, RMSE: 3.664, MAE: 2.654\n",
      "\n",
      "Evaluating: changepoint_prior_scale=0.05, seasonality_prior_scale=8.1, seasonality_mode=additive\n"
     ]
    },
    {
     "name": "stderr",
     "output_type": "stream",
     "text": [
      "11:38:22 - cmdstanpy - INFO - Chain [1] start processing\n",
      "11:38:22 - cmdstanpy - INFO - Chain [1] done processing\n",
      "c:\\Users\\natra\\AppData\\Local\\Programs\\Python\\Python310\\lib\\site-packages\\sklearn\\metrics\\_regression.py:492: FutureWarning: 'squared' is deprecated in version 1.4 and will be removed in 1.6. To calculate the root mean squared error, use the function'root_mean_squared_error'.\n",
      "  warnings.warn(\n",
      "11:38:22 - cmdstanpy - INFO - Chain [1] start processing\n",
      "11:38:23 - cmdstanpy - INFO - Chain [1] done processing\n",
      "c:\\Users\\natra\\AppData\\Local\\Programs\\Python\\Python310\\lib\\site-packages\\sklearn\\metrics\\_regression.py:492: FutureWarning: 'squared' is deprecated in version 1.4 and will be removed in 1.6. To calculate the root mean squared error, use the function'root_mean_squared_error'.\n",
      "  warnings.warn(\n",
      "11:38:23 - cmdstanpy - INFO - Chain [1] start processing\n",
      "11:38:23 - cmdstanpy - INFO - Chain [1] done processing\n",
      "c:\\Users\\natra\\AppData\\Local\\Programs\\Python\\Python310\\lib\\site-packages\\sklearn\\metrics\\_regression.py:492: FutureWarning: 'squared' is deprecated in version 1.4 and will be removed in 1.6. To calculate the root mean squared error, use the function'root_mean_squared_error'.\n",
      "  warnings.warn(\n",
      "11:38:24 - cmdstanpy - INFO - Chain [1] start processing\n",
      "11:38:24 - cmdstanpy - INFO - Chain [1] done processing\n",
      "c:\\Users\\natra\\AppData\\Local\\Programs\\Python\\Python310\\lib\\site-packages\\sklearn\\metrics\\_regression.py:492: FutureWarning: 'squared' is deprecated in version 1.4 and will be removed in 1.6. To calculate the root mean squared error, use the function'root_mean_squared_error'.\n",
      "  warnings.warn(\n",
      "11:38:24 - cmdstanpy - INFO - Chain [1] start processing\n",
      "11:38:24 - cmdstanpy - INFO - Chain [1] done processing\n",
      "c:\\Users\\natra\\AppData\\Local\\Programs\\Python\\Python310\\lib\\site-packages\\sklearn\\metrics\\_regression.py:492: FutureWarning: 'squared' is deprecated in version 1.4 and will be removed in 1.6. To calculate the root mean squared error, use the function'root_mean_squared_error'.\n",
      "  warnings.warn(\n"
     ]
    },
    {
     "name": "stdout",
     "output_type": "stream",
     "text": [
      "R² Score: 0.598, RMSE: 3.678, MAE: 2.665\n",
      "\n",
      "Evaluating: changepoint_prior_scale=0.05, seasonality_prior_scale=8.1, seasonality_mode=multiplicative\n"
     ]
    },
    {
     "name": "stderr",
     "output_type": "stream",
     "text": [
      "11:38:25 - cmdstanpy - INFO - Chain [1] start processing\n",
      "11:38:25 - cmdstanpy - INFO - Chain [1] done processing\n",
      "c:\\Users\\natra\\AppData\\Local\\Programs\\Python\\Python310\\lib\\site-packages\\sklearn\\metrics\\_regression.py:492: FutureWarning: 'squared' is deprecated in version 1.4 and will be removed in 1.6. To calculate the root mean squared error, use the function'root_mean_squared_error'.\n",
      "  warnings.warn(\n",
      "11:38:25 - cmdstanpy - INFO - Chain [1] start processing\n",
      "11:38:25 - cmdstanpy - INFO - Chain [1] done processing\n",
      "c:\\Users\\natra\\AppData\\Local\\Programs\\Python\\Python310\\lib\\site-packages\\sklearn\\metrics\\_regression.py:492: FutureWarning: 'squared' is deprecated in version 1.4 and will be removed in 1.6. To calculate the root mean squared error, use the function'root_mean_squared_error'.\n",
      "  warnings.warn(\n",
      "11:38:26 - cmdstanpy - INFO - Chain [1] start processing\n",
      "11:38:26 - cmdstanpy - INFO - Chain [1] done processing\n",
      "c:\\Users\\natra\\AppData\\Local\\Programs\\Python\\Python310\\lib\\site-packages\\sklearn\\metrics\\_regression.py:492: FutureWarning: 'squared' is deprecated in version 1.4 and will be removed in 1.6. To calculate the root mean squared error, use the function'root_mean_squared_error'.\n",
      "  warnings.warn(\n",
      "11:38:26 - cmdstanpy - INFO - Chain [1] start processing\n",
      "11:38:27 - cmdstanpy - INFO - Chain [1] done processing\n",
      "c:\\Users\\natra\\AppData\\Local\\Programs\\Python\\Python310\\lib\\site-packages\\sklearn\\metrics\\_regression.py:492: FutureWarning: 'squared' is deprecated in version 1.4 and will be removed in 1.6. To calculate the root mean squared error, use the function'root_mean_squared_error'.\n",
      "  warnings.warn(\n",
      "11:38:27 - cmdstanpy - INFO - Chain [1] start processing\n",
      "11:38:27 - cmdstanpy - INFO - Chain [1] done processing\n",
      "c:\\Users\\natra\\AppData\\Local\\Programs\\Python\\Python310\\lib\\site-packages\\sklearn\\metrics\\_regression.py:492: FutureWarning: 'squared' is deprecated in version 1.4 and will be removed in 1.6. To calculate the root mean squared error, use the function'root_mean_squared_error'.\n",
      "  warnings.warn(\n"
     ]
    },
    {
     "name": "stdout",
     "output_type": "stream",
     "text": [
      "R² Score: 0.603, RMSE: 3.665, MAE: 2.654\n",
      "\n",
      "Evaluating: changepoint_prior_scale=0.05, seasonality_prior_scale=9.1, seasonality_mode=additive\n"
     ]
    },
    {
     "name": "stderr",
     "output_type": "stream",
     "text": [
      "11:38:28 - cmdstanpy - INFO - Chain [1] start processing\n",
      "11:38:28 - cmdstanpy - INFO - Chain [1] done processing\n",
      "c:\\Users\\natra\\AppData\\Local\\Programs\\Python\\Python310\\lib\\site-packages\\sklearn\\metrics\\_regression.py:492: FutureWarning: 'squared' is deprecated in version 1.4 and will be removed in 1.6. To calculate the root mean squared error, use the function'root_mean_squared_error'.\n",
      "  warnings.warn(\n",
      "11:38:28 - cmdstanpy - INFO - Chain [1] start processing\n",
      "11:38:28 - cmdstanpy - INFO - Chain [1] done processing\n",
      "c:\\Users\\natra\\AppData\\Local\\Programs\\Python\\Python310\\lib\\site-packages\\sklearn\\metrics\\_regression.py:492: FutureWarning: 'squared' is deprecated in version 1.4 and will be removed in 1.6. To calculate the root mean squared error, use the function'root_mean_squared_error'.\n",
      "  warnings.warn(\n",
      "11:38:29 - cmdstanpy - INFO - Chain [1] start processing\n",
      "11:38:29 - cmdstanpy - INFO - Chain [1] done processing\n",
      "c:\\Users\\natra\\AppData\\Local\\Programs\\Python\\Python310\\lib\\site-packages\\sklearn\\metrics\\_regression.py:492: FutureWarning: 'squared' is deprecated in version 1.4 and will be removed in 1.6. To calculate the root mean squared error, use the function'root_mean_squared_error'.\n",
      "  warnings.warn(\n",
      "11:38:29 - cmdstanpy - INFO - Chain [1] start processing\n",
      "11:38:29 - cmdstanpy - INFO - Chain [1] done processing\n",
      "c:\\Users\\natra\\AppData\\Local\\Programs\\Python\\Python310\\lib\\site-packages\\sklearn\\metrics\\_regression.py:492: FutureWarning: 'squared' is deprecated in version 1.4 and will be removed in 1.6. To calculate the root mean squared error, use the function'root_mean_squared_error'.\n",
      "  warnings.warn(\n",
      "11:38:30 - cmdstanpy - INFO - Chain [1] start processing\n",
      "11:38:30 - cmdstanpy - INFO - Chain [1] done processing\n",
      "c:\\Users\\natra\\AppData\\Local\\Programs\\Python\\Python310\\lib\\site-packages\\sklearn\\metrics\\_regression.py:492: FutureWarning: 'squared' is deprecated in version 1.4 and will be removed in 1.6. To calculate the root mean squared error, use the function'root_mean_squared_error'.\n",
      "  warnings.warn(\n"
     ]
    },
    {
     "name": "stdout",
     "output_type": "stream",
     "text": [
      "R² Score: 0.560, RMSE: 3.799, MAE: 2.793\n",
      "\n",
      "Evaluating: changepoint_prior_scale=0.05, seasonality_prior_scale=9.1, seasonality_mode=multiplicative\n"
     ]
    },
    {
     "name": "stderr",
     "output_type": "stream",
     "text": [
      "11:38:30 - cmdstanpy - INFO - Chain [1] start processing\n",
      "11:38:31 - cmdstanpy - INFO - Chain [1] done processing\n",
      "c:\\Users\\natra\\AppData\\Local\\Programs\\Python\\Python310\\lib\\site-packages\\sklearn\\metrics\\_regression.py:492: FutureWarning: 'squared' is deprecated in version 1.4 and will be removed in 1.6. To calculate the root mean squared error, use the function'root_mean_squared_error'.\n",
      "  warnings.warn(\n",
      "11:38:31 - cmdstanpy - INFO - Chain [1] start processing\n",
      "11:38:31 - cmdstanpy - INFO - Chain [1] done processing\n",
      "c:\\Users\\natra\\AppData\\Local\\Programs\\Python\\Python310\\lib\\site-packages\\sklearn\\metrics\\_regression.py:492: FutureWarning: 'squared' is deprecated in version 1.4 and will be removed in 1.6. To calculate the root mean squared error, use the function'root_mean_squared_error'.\n",
      "  warnings.warn(\n",
      "11:38:32 - cmdstanpy - INFO - Chain [1] start processing\n",
      "11:38:32 - cmdstanpy - INFO - Chain [1] done processing\n",
      "c:\\Users\\natra\\AppData\\Local\\Programs\\Python\\Python310\\lib\\site-packages\\sklearn\\metrics\\_regression.py:492: FutureWarning: 'squared' is deprecated in version 1.4 and will be removed in 1.6. To calculate the root mean squared error, use the function'root_mean_squared_error'.\n",
      "  warnings.warn(\n",
      "11:38:32 - cmdstanpy - INFO - Chain [1] start processing\n",
      "11:38:32 - cmdstanpy - INFO - Chain [1] done processing\n",
      "c:\\Users\\natra\\AppData\\Local\\Programs\\Python\\Python310\\lib\\site-packages\\sklearn\\metrics\\_regression.py:492: FutureWarning: 'squared' is deprecated in version 1.4 and will be removed in 1.6. To calculate the root mean squared error, use the function'root_mean_squared_error'.\n",
      "  warnings.warn(\n",
      "11:38:33 - cmdstanpy - INFO - Chain [1] start processing\n",
      "11:38:33 - cmdstanpy - INFO - Chain [1] done processing\n",
      "c:\\Users\\natra\\AppData\\Local\\Programs\\Python\\Python310\\lib\\site-packages\\sklearn\\metrics\\_regression.py:492: FutureWarning: 'squared' is deprecated in version 1.4 and will be removed in 1.6. To calculate the root mean squared error, use the function'root_mean_squared_error'.\n",
      "  warnings.warn(\n"
     ]
    },
    {
     "name": "stdout",
     "output_type": "stream",
     "text": [
      "R² Score: 0.603, RMSE: 3.667, MAE: 2.658\n",
      "\n",
      "Evaluating: changepoint_prior_scale=0.05, seasonality_prior_scale=10.1, seasonality_mode=additive\n"
     ]
    },
    {
     "name": "stderr",
     "output_type": "stream",
     "text": [
      "11:38:33 - cmdstanpy - INFO - Chain [1] start processing\n",
      "11:38:33 - cmdstanpy - INFO - Chain [1] done processing\n",
      "c:\\Users\\natra\\AppData\\Local\\Programs\\Python\\Python310\\lib\\site-packages\\sklearn\\metrics\\_regression.py:492: FutureWarning: 'squared' is deprecated in version 1.4 and will be removed in 1.6. To calculate the root mean squared error, use the function'root_mean_squared_error'.\n",
      "  warnings.warn(\n",
      "11:38:34 - cmdstanpy - INFO - Chain [1] start processing\n",
      "11:38:34 - cmdstanpy - INFO - Chain [1] done processing\n",
      "c:\\Users\\natra\\AppData\\Local\\Programs\\Python\\Python310\\lib\\site-packages\\sklearn\\metrics\\_regression.py:492: FutureWarning: 'squared' is deprecated in version 1.4 and will be removed in 1.6. To calculate the root mean squared error, use the function'root_mean_squared_error'.\n",
      "  warnings.warn(\n",
      "11:38:35 - cmdstanpy - INFO - Chain [1] start processing\n",
      "11:38:35 - cmdstanpy - INFO - Chain [1] done processing\n",
      "c:\\Users\\natra\\AppData\\Local\\Programs\\Python\\Python310\\lib\\site-packages\\sklearn\\metrics\\_regression.py:492: FutureWarning: 'squared' is deprecated in version 1.4 and will be removed in 1.6. To calculate the root mean squared error, use the function'root_mean_squared_error'.\n",
      "  warnings.warn(\n",
      "11:38:35 - cmdstanpy - INFO - Chain [1] start processing\n",
      "11:38:35 - cmdstanpy - INFO - Chain [1] done processing\n",
      "c:\\Users\\natra\\AppData\\Local\\Programs\\Python\\Python310\\lib\\site-packages\\sklearn\\metrics\\_regression.py:492: FutureWarning: 'squared' is deprecated in version 1.4 and will be removed in 1.6. To calculate the root mean squared error, use the function'root_mean_squared_error'.\n",
      "  warnings.warn(\n",
      "11:38:36 - cmdstanpy - INFO - Chain [1] start processing\n",
      "11:38:36 - cmdstanpy - INFO - Chain [1] done processing\n",
      "c:\\Users\\natra\\AppData\\Local\\Programs\\Python\\Python310\\lib\\site-packages\\sklearn\\metrics\\_regression.py:492: FutureWarning: 'squared' is deprecated in version 1.4 and will be removed in 1.6. To calculate the root mean squared error, use the function'root_mean_squared_error'.\n",
      "  warnings.warn(\n"
     ]
    },
    {
     "name": "stdout",
     "output_type": "stream",
     "text": [
      "R² Score: 0.569, RMSE: 3.771, MAE: 2.761\n",
      "\n",
      "Evaluating: changepoint_prior_scale=0.05, seasonality_prior_scale=10.1, seasonality_mode=multiplicative\n"
     ]
    },
    {
     "name": "stderr",
     "output_type": "stream",
     "text": [
      "11:38:36 - cmdstanpy - INFO - Chain [1] start processing\n",
      "11:38:37 - cmdstanpy - INFO - Chain [1] done processing\n",
      "c:\\Users\\natra\\AppData\\Local\\Programs\\Python\\Python310\\lib\\site-packages\\sklearn\\metrics\\_regression.py:492: FutureWarning: 'squared' is deprecated in version 1.4 and will be removed in 1.6. To calculate the root mean squared error, use the function'root_mean_squared_error'.\n",
      "  warnings.warn(\n",
      "11:38:37 - cmdstanpy - INFO - Chain [1] start processing\n",
      "11:38:37 - cmdstanpy - INFO - Chain [1] done processing\n",
      "c:\\Users\\natra\\AppData\\Local\\Programs\\Python\\Python310\\lib\\site-packages\\sklearn\\metrics\\_regression.py:492: FutureWarning: 'squared' is deprecated in version 1.4 and will be removed in 1.6. To calculate the root mean squared error, use the function'root_mean_squared_error'.\n",
      "  warnings.warn(\n",
      "11:38:38 - cmdstanpy - INFO - Chain [1] start processing\n",
      "11:38:38 - cmdstanpy - INFO - Chain [1] done processing\n",
      "c:\\Users\\natra\\AppData\\Local\\Programs\\Python\\Python310\\lib\\site-packages\\sklearn\\metrics\\_regression.py:492: FutureWarning: 'squared' is deprecated in version 1.4 and will be removed in 1.6. To calculate the root mean squared error, use the function'root_mean_squared_error'.\n",
      "  warnings.warn(\n",
      "11:38:38 - cmdstanpy - INFO - Chain [1] start processing\n",
      "11:38:38 - cmdstanpy - INFO - Chain [1] done processing\n",
      "c:\\Users\\natra\\AppData\\Local\\Programs\\Python\\Python310\\lib\\site-packages\\sklearn\\metrics\\_regression.py:492: FutureWarning: 'squared' is deprecated in version 1.4 and will be removed in 1.6. To calculate the root mean squared error, use the function'root_mean_squared_error'.\n",
      "  warnings.warn(\n",
      "11:38:39 - cmdstanpy - INFO - Chain [1] start processing\n",
      "11:38:39 - cmdstanpy - INFO - Chain [1] done processing\n",
      "c:\\Users\\natra\\AppData\\Local\\Programs\\Python\\Python310\\lib\\site-packages\\sklearn\\metrics\\_regression.py:492: FutureWarning: 'squared' is deprecated in version 1.4 and will be removed in 1.6. To calculate the root mean squared error, use the function'root_mean_squared_error'.\n",
      "  warnings.warn(\n"
     ]
    },
    {
     "name": "stdout",
     "output_type": "stream",
     "text": [
      "R² Score: 0.603, RMSE: 3.668, MAE: 2.658\n",
      "\n",
      "Evaluating: changepoint_prior_scale=0.060000000000000005, seasonality_prior_scale=0.1, seasonality_mode=additive\n"
     ]
    },
    {
     "name": "stderr",
     "output_type": "stream",
     "text": [
      "11:38:39 - cmdstanpy - INFO - Chain [1] start processing\n",
      "11:38:39 - cmdstanpy - INFO - Chain [1] done processing\n",
      "c:\\Users\\natra\\AppData\\Local\\Programs\\Python\\Python310\\lib\\site-packages\\sklearn\\metrics\\_regression.py:492: FutureWarning: 'squared' is deprecated in version 1.4 and will be removed in 1.6. To calculate the root mean squared error, use the function'root_mean_squared_error'.\n",
      "  warnings.warn(\n",
      "11:38:40 - cmdstanpy - INFO - Chain [1] start processing\n",
      "11:38:40 - cmdstanpy - INFO - Chain [1] done processing\n",
      "c:\\Users\\natra\\AppData\\Local\\Programs\\Python\\Python310\\lib\\site-packages\\sklearn\\metrics\\_regression.py:492: FutureWarning: 'squared' is deprecated in version 1.4 and will be removed in 1.6. To calculate the root mean squared error, use the function'root_mean_squared_error'.\n",
      "  warnings.warn(\n",
      "11:38:40 - cmdstanpy - INFO - Chain [1] start processing\n",
      "11:38:41 - cmdstanpy - INFO - Chain [1] done processing\n",
      "c:\\Users\\natra\\AppData\\Local\\Programs\\Python\\Python310\\lib\\site-packages\\sklearn\\metrics\\_regression.py:492: FutureWarning: 'squared' is deprecated in version 1.4 and will be removed in 1.6. To calculate the root mean squared error, use the function'root_mean_squared_error'.\n",
      "  warnings.warn(\n",
      "11:38:41 - cmdstanpy - INFO - Chain [1] start processing\n",
      "11:38:41 - cmdstanpy - INFO - Chain [1] done processing\n",
      "c:\\Users\\natra\\AppData\\Local\\Programs\\Python\\Python310\\lib\\site-packages\\sklearn\\metrics\\_regression.py:492: FutureWarning: 'squared' is deprecated in version 1.4 and will be removed in 1.6. To calculate the root mean squared error, use the function'root_mean_squared_error'.\n",
      "  warnings.warn(\n",
      "11:38:42 - cmdstanpy - INFO - Chain [1] start processing\n",
      "11:38:42 - cmdstanpy - INFO - Chain [1] done processing\n",
      "c:\\Users\\natra\\AppData\\Local\\Programs\\Python\\Python310\\lib\\site-packages\\sklearn\\metrics\\_regression.py:492: FutureWarning: 'squared' is deprecated in version 1.4 and will be removed in 1.6. To calculate the root mean squared error, use the function'root_mean_squared_error'.\n",
      "  warnings.warn(\n"
     ]
    },
    {
     "name": "stdout",
     "output_type": "stream",
     "text": [
      "R² Score: 0.548, RMSE: 3.835, MAE: 2.835\n",
      "\n",
      "Evaluating: changepoint_prior_scale=0.060000000000000005, seasonality_prior_scale=0.1, seasonality_mode=multiplicative\n"
     ]
    },
    {
     "name": "stderr",
     "output_type": "stream",
     "text": [
      "11:38:42 - cmdstanpy - INFO - Chain [1] start processing\n",
      "11:38:43 - cmdstanpy - INFO - Chain [1] done processing\n",
      "c:\\Users\\natra\\AppData\\Local\\Programs\\Python\\Python310\\lib\\site-packages\\sklearn\\metrics\\_regression.py:492: FutureWarning: 'squared' is deprecated in version 1.4 and will be removed in 1.6. To calculate the root mean squared error, use the function'root_mean_squared_error'.\n",
      "  warnings.warn(\n",
      "11:38:43 - cmdstanpy - INFO - Chain [1] start processing\n",
      "11:38:44 - cmdstanpy - INFO - Chain [1] done processing\n",
      "c:\\Users\\natra\\AppData\\Local\\Programs\\Python\\Python310\\lib\\site-packages\\sklearn\\metrics\\_regression.py:492: FutureWarning: 'squared' is deprecated in version 1.4 and will be removed in 1.6. To calculate the root mean squared error, use the function'root_mean_squared_error'.\n",
      "  warnings.warn(\n",
      "11:38:44 - cmdstanpy - INFO - Chain [1] start processing\n",
      "11:38:44 - cmdstanpy - INFO - Chain [1] done processing\n",
      "c:\\Users\\natra\\AppData\\Local\\Programs\\Python\\Python310\\lib\\site-packages\\sklearn\\metrics\\_regression.py:492: FutureWarning: 'squared' is deprecated in version 1.4 and will be removed in 1.6. To calculate the root mean squared error, use the function'root_mean_squared_error'.\n",
      "  warnings.warn(\n",
      "11:38:45 - cmdstanpy - INFO - Chain [1] start processing\n",
      "11:38:45 - cmdstanpy - INFO - Chain [1] done processing\n",
      "c:\\Users\\natra\\AppData\\Local\\Programs\\Python\\Python310\\lib\\site-packages\\sklearn\\metrics\\_regression.py:492: FutureWarning: 'squared' is deprecated in version 1.4 and will be removed in 1.6. To calculate the root mean squared error, use the function'root_mean_squared_error'.\n",
      "  warnings.warn(\n",
      "11:38:46 - cmdstanpy - INFO - Chain [1] start processing\n",
      "11:38:46 - cmdstanpy - INFO - Chain [1] done processing\n",
      "c:\\Users\\natra\\AppData\\Local\\Programs\\Python\\Python310\\lib\\site-packages\\sklearn\\metrics\\_regression.py:492: FutureWarning: 'squared' is deprecated in version 1.4 and will be removed in 1.6. To calculate the root mean squared error, use the function'root_mean_squared_error'.\n",
      "  warnings.warn(\n"
     ]
    },
    {
     "name": "stdout",
     "output_type": "stream",
     "text": [
      "R² Score: 0.601, RMSE: 3.675, MAE: 2.673\n",
      "\n",
      "Evaluating: changepoint_prior_scale=0.060000000000000005, seasonality_prior_scale=1.1, seasonality_mode=additive\n"
     ]
    },
    {
     "name": "stderr",
     "output_type": "stream",
     "text": [
      "11:38:47 - cmdstanpy - INFO - Chain [1] start processing\n",
      "11:38:47 - cmdstanpy - INFO - Chain [1] done processing\n",
      "c:\\Users\\natra\\AppData\\Local\\Programs\\Python\\Python310\\lib\\site-packages\\sklearn\\metrics\\_regression.py:492: FutureWarning: 'squared' is deprecated in version 1.4 and will be removed in 1.6. To calculate the root mean squared error, use the function'root_mean_squared_error'.\n",
      "  warnings.warn(\n",
      "11:38:47 - cmdstanpy - INFO - Chain [1] start processing\n",
      "11:38:47 - cmdstanpy - INFO - Chain [1] done processing\n",
      "c:\\Users\\natra\\AppData\\Local\\Programs\\Python\\Python310\\lib\\site-packages\\sklearn\\metrics\\_regression.py:492: FutureWarning: 'squared' is deprecated in version 1.4 and will be removed in 1.6. To calculate the root mean squared error, use the function'root_mean_squared_error'.\n",
      "  warnings.warn(\n",
      "11:38:48 - cmdstanpy - INFO - Chain [1] start processing\n",
      "11:38:48 - cmdstanpy - INFO - Chain [1] done processing\n",
      "c:\\Users\\natra\\AppData\\Local\\Programs\\Python\\Python310\\lib\\site-packages\\sklearn\\metrics\\_regression.py:492: FutureWarning: 'squared' is deprecated in version 1.4 and will be removed in 1.6. To calculate the root mean squared error, use the function'root_mean_squared_error'.\n",
      "  warnings.warn(\n",
      "11:38:49 - cmdstanpy - INFO - Chain [1] start processing\n",
      "11:38:49 - cmdstanpy - INFO - Chain [1] done processing\n",
      "c:\\Users\\natra\\AppData\\Local\\Programs\\Python\\Python310\\lib\\site-packages\\sklearn\\metrics\\_regression.py:492: FutureWarning: 'squared' is deprecated in version 1.4 and will be removed in 1.6. To calculate the root mean squared error, use the function'root_mean_squared_error'.\n",
      "  warnings.warn(\n",
      "11:38:49 - cmdstanpy - INFO - Chain [1] start processing\n",
      "11:38:50 - cmdstanpy - INFO - Chain [1] done processing\n",
      "c:\\Users\\natra\\AppData\\Local\\Programs\\Python\\Python310\\lib\\site-packages\\sklearn\\metrics\\_regression.py:492: FutureWarning: 'squared' is deprecated in version 1.4 and will be removed in 1.6. To calculate the root mean squared error, use the function'root_mean_squared_error'.\n",
      "  warnings.warn(\n"
     ]
    },
    {
     "name": "stdout",
     "output_type": "stream",
     "text": [
      "R² Score: 0.550, RMSE: 3.830, MAE: 2.825\n",
      "\n",
      "Evaluating: changepoint_prior_scale=0.060000000000000005, seasonality_prior_scale=1.1, seasonality_mode=multiplicative\n"
     ]
    },
    {
     "name": "stderr",
     "output_type": "stream",
     "text": [
      "11:38:50 - cmdstanpy - INFO - Chain [1] start processing\n",
      "11:38:50 - cmdstanpy - INFO - Chain [1] done processing\n",
      "c:\\Users\\natra\\AppData\\Local\\Programs\\Python\\Python310\\lib\\site-packages\\sklearn\\metrics\\_regression.py:492: FutureWarning: 'squared' is deprecated in version 1.4 and will be removed in 1.6. To calculate the root mean squared error, use the function'root_mean_squared_error'.\n",
      "  warnings.warn(\n",
      "11:38:51 - cmdstanpy - INFO - Chain [1] start processing\n",
      "11:38:51 - cmdstanpy - INFO - Chain [1] done processing\n",
      "c:\\Users\\natra\\AppData\\Local\\Programs\\Python\\Python310\\lib\\site-packages\\sklearn\\metrics\\_regression.py:492: FutureWarning: 'squared' is deprecated in version 1.4 and will be removed in 1.6. To calculate the root mean squared error, use the function'root_mean_squared_error'.\n",
      "  warnings.warn(\n",
      "11:38:52 - cmdstanpy - INFO - Chain [1] start processing\n",
      "11:38:52 - cmdstanpy - INFO - Chain [1] done processing\n",
      "c:\\Users\\natra\\AppData\\Local\\Programs\\Python\\Python310\\lib\\site-packages\\sklearn\\metrics\\_regression.py:492: FutureWarning: 'squared' is deprecated in version 1.4 and will be removed in 1.6. To calculate the root mean squared error, use the function'root_mean_squared_error'.\n",
      "  warnings.warn(\n",
      "11:38:52 - cmdstanpy - INFO - Chain [1] start processing\n",
      "11:38:52 - cmdstanpy - INFO - Chain [1] done processing\n",
      "c:\\Users\\natra\\AppData\\Local\\Programs\\Python\\Python310\\lib\\site-packages\\sklearn\\metrics\\_regression.py:492: FutureWarning: 'squared' is deprecated in version 1.4 and will be removed in 1.6. To calculate the root mean squared error, use the function'root_mean_squared_error'.\n",
      "  warnings.warn(\n",
      "11:38:53 - cmdstanpy - INFO - Chain [1] start processing\n",
      "11:38:53 - cmdstanpy - INFO - Chain [1] done processing\n",
      "c:\\Users\\natra\\AppData\\Local\\Programs\\Python\\Python310\\lib\\site-packages\\sklearn\\metrics\\_regression.py:492: FutureWarning: 'squared' is deprecated in version 1.4 and will be removed in 1.6. To calculate the root mean squared error, use the function'root_mean_squared_error'.\n",
      "  warnings.warn(\n"
     ]
    },
    {
     "name": "stdout",
     "output_type": "stream",
     "text": [
      "R² Score: 0.602, RMSE: 3.672, MAE: 2.666\n",
      "\n",
      "Evaluating: changepoint_prior_scale=0.060000000000000005, seasonality_prior_scale=2.1, seasonality_mode=additive\n"
     ]
    },
    {
     "name": "stderr",
     "output_type": "stream",
     "text": [
      "11:38:54 - cmdstanpy - INFO - Chain [1] start processing\n",
      "11:38:54 - cmdstanpy - INFO - Chain [1] done processing\n",
      "c:\\Users\\natra\\AppData\\Local\\Programs\\Python\\Python310\\lib\\site-packages\\sklearn\\metrics\\_regression.py:492: FutureWarning: 'squared' is deprecated in version 1.4 and will be removed in 1.6. To calculate the root mean squared error, use the function'root_mean_squared_error'.\n",
      "  warnings.warn(\n",
      "11:38:54 - cmdstanpy - INFO - Chain [1] start processing\n",
      "11:38:54 - cmdstanpy - INFO - Chain [1] done processing\n",
      "c:\\Users\\natra\\AppData\\Local\\Programs\\Python\\Python310\\lib\\site-packages\\sklearn\\metrics\\_regression.py:492: FutureWarning: 'squared' is deprecated in version 1.4 and will be removed in 1.6. To calculate the root mean squared error, use the function'root_mean_squared_error'.\n",
      "  warnings.warn(\n",
      "11:38:55 - cmdstanpy - INFO - Chain [1] start processing\n",
      "11:38:55 - cmdstanpy - INFO - Chain [1] done processing\n",
      "c:\\Users\\natra\\AppData\\Local\\Programs\\Python\\Python310\\lib\\site-packages\\sklearn\\metrics\\_regression.py:492: FutureWarning: 'squared' is deprecated in version 1.4 and will be removed in 1.6. To calculate the root mean squared error, use the function'root_mean_squared_error'.\n",
      "  warnings.warn(\n",
      "11:38:56 - cmdstanpy - INFO - Chain [1] start processing\n",
      "11:38:56 - cmdstanpy - INFO - Chain [1] done processing\n",
      "c:\\Users\\natra\\AppData\\Local\\Programs\\Python\\Python310\\lib\\site-packages\\sklearn\\metrics\\_regression.py:492: FutureWarning: 'squared' is deprecated in version 1.4 and will be removed in 1.6. To calculate the root mean squared error, use the function'root_mean_squared_error'.\n",
      "  warnings.warn(\n",
      "11:38:56 - cmdstanpy - INFO - Chain [1] start processing\n",
      "11:38:56 - cmdstanpy - INFO - Chain [1] done processing\n",
      "c:\\Users\\natra\\AppData\\Local\\Programs\\Python\\Python310\\lib\\site-packages\\sklearn\\metrics\\_regression.py:492: FutureWarning: 'squared' is deprecated in version 1.4 and will be removed in 1.6. To calculate the root mean squared error, use the function'root_mean_squared_error'.\n",
      "  warnings.warn(\n"
     ]
    },
    {
     "name": "stdout",
     "output_type": "stream",
     "text": [
      "R² Score: 0.550, RMSE: 3.831, MAE: 2.828\n",
      "\n",
      "Evaluating: changepoint_prior_scale=0.060000000000000005, seasonality_prior_scale=2.1, seasonality_mode=multiplicative\n"
     ]
    },
    {
     "name": "stderr",
     "output_type": "stream",
     "text": [
      "11:38:57 - cmdstanpy - INFO - Chain [1] start processing\n",
      "11:38:57 - cmdstanpy - INFO - Chain [1] done processing\n",
      "c:\\Users\\natra\\AppData\\Local\\Programs\\Python\\Python310\\lib\\site-packages\\sklearn\\metrics\\_regression.py:492: FutureWarning: 'squared' is deprecated in version 1.4 and will be removed in 1.6. To calculate the root mean squared error, use the function'root_mean_squared_error'.\n",
      "  warnings.warn(\n",
      "11:38:58 - cmdstanpy - INFO - Chain [1] start processing\n",
      "11:38:58 - cmdstanpy - INFO - Chain [1] done processing\n",
      "c:\\Users\\natra\\AppData\\Local\\Programs\\Python\\Python310\\lib\\site-packages\\sklearn\\metrics\\_regression.py:492: FutureWarning: 'squared' is deprecated in version 1.4 and will be removed in 1.6. To calculate the root mean squared error, use the function'root_mean_squared_error'.\n",
      "  warnings.warn(\n",
      "11:38:59 - cmdstanpy - INFO - Chain [1] start processing\n",
      "11:38:59 - cmdstanpy - INFO - Chain [1] done processing\n",
      "c:\\Users\\natra\\AppData\\Local\\Programs\\Python\\Python310\\lib\\site-packages\\sklearn\\metrics\\_regression.py:492: FutureWarning: 'squared' is deprecated in version 1.4 and will be removed in 1.6. To calculate the root mean squared error, use the function'root_mean_squared_error'.\n",
      "  warnings.warn(\n",
      "11:38:59 - cmdstanpy - INFO - Chain [1] start processing\n",
      "11:38:59 - cmdstanpy - INFO - Chain [1] done processing\n",
      "c:\\Users\\natra\\AppData\\Local\\Programs\\Python\\Python310\\lib\\site-packages\\sklearn\\metrics\\_regression.py:492: FutureWarning: 'squared' is deprecated in version 1.4 and will be removed in 1.6. To calculate the root mean squared error, use the function'root_mean_squared_error'.\n",
      "  warnings.warn(\n",
      "11:39:00 - cmdstanpy - INFO - Chain [1] start processing\n",
      "11:39:00 - cmdstanpy - INFO - Chain [1] done processing\n",
      "c:\\Users\\natra\\AppData\\Local\\Programs\\Python\\Python310\\lib\\site-packages\\sklearn\\metrics\\_regression.py:492: FutureWarning: 'squared' is deprecated in version 1.4 and will be removed in 1.6. To calculate the root mean squared error, use the function'root_mean_squared_error'.\n",
      "  warnings.warn(\n"
     ]
    },
    {
     "name": "stdout",
     "output_type": "stream",
     "text": [
      "R² Score: 0.573, RMSE: 3.765, MAE: 2.795\n",
      "\n",
      "Evaluating: changepoint_prior_scale=0.060000000000000005, seasonality_prior_scale=3.1, seasonality_mode=additive\n"
     ]
    },
    {
     "name": "stderr",
     "output_type": "stream",
     "text": [
      "11:39:01 - cmdstanpy - INFO - Chain [1] start processing\n",
      "11:39:01 - cmdstanpy - INFO - Chain [1] done processing\n",
      "c:\\Users\\natra\\AppData\\Local\\Programs\\Python\\Python310\\lib\\site-packages\\sklearn\\metrics\\_regression.py:492: FutureWarning: 'squared' is deprecated in version 1.4 and will be removed in 1.6. To calculate the root mean squared error, use the function'root_mean_squared_error'.\n",
      "  warnings.warn(\n",
      "11:39:01 - cmdstanpy - INFO - Chain [1] start processing\n",
      "11:39:02 - cmdstanpy - INFO - Chain [1] done processing\n",
      "c:\\Users\\natra\\AppData\\Local\\Programs\\Python\\Python310\\lib\\site-packages\\sklearn\\metrics\\_regression.py:492: FutureWarning: 'squared' is deprecated in version 1.4 and will be removed in 1.6. To calculate the root mean squared error, use the function'root_mean_squared_error'.\n",
      "  warnings.warn(\n",
      "11:39:02 - cmdstanpy - INFO - Chain [1] start processing\n",
      "11:39:02 - cmdstanpy - INFO - Chain [1] done processing\n",
      "c:\\Users\\natra\\AppData\\Local\\Programs\\Python\\Python310\\lib\\site-packages\\sklearn\\metrics\\_regression.py:492: FutureWarning: 'squared' is deprecated in version 1.4 and will be removed in 1.6. To calculate the root mean squared error, use the function'root_mean_squared_error'.\n",
      "  warnings.warn(\n",
      "11:39:03 - cmdstanpy - INFO - Chain [1] start processing\n",
      "11:39:03 - cmdstanpy - INFO - Chain [1] done processing\n",
      "c:\\Users\\natra\\AppData\\Local\\Programs\\Python\\Python310\\lib\\site-packages\\sklearn\\metrics\\_regression.py:492: FutureWarning: 'squared' is deprecated in version 1.4 and will be removed in 1.6. To calculate the root mean squared error, use the function'root_mean_squared_error'.\n",
      "  warnings.warn(\n",
      "11:39:03 - cmdstanpy - INFO - Chain [1] start processing\n",
      "11:39:04 - cmdstanpy - INFO - Chain [1] done processing\n",
      "c:\\Users\\natra\\AppData\\Local\\Programs\\Python\\Python310\\lib\\site-packages\\sklearn\\metrics\\_regression.py:492: FutureWarning: 'squared' is deprecated in version 1.4 and will be removed in 1.6. To calculate the root mean squared error, use the function'root_mean_squared_error'.\n",
      "  warnings.warn(\n"
     ]
    },
    {
     "name": "stdout",
     "output_type": "stream",
     "text": [
      "R² Score: 0.564, RMSE: 3.791, MAE: 2.787\n",
      "\n",
      "Evaluating: changepoint_prior_scale=0.060000000000000005, seasonality_prior_scale=3.1, seasonality_mode=multiplicative\n"
     ]
    },
    {
     "name": "stderr",
     "output_type": "stream",
     "text": [
      "11:39:04 - cmdstanpy - INFO - Chain [1] start processing\n",
      "11:39:04 - cmdstanpy - INFO - Chain [1] done processing\n",
      "c:\\Users\\natra\\AppData\\Local\\Programs\\Python\\Python310\\lib\\site-packages\\sklearn\\metrics\\_regression.py:492: FutureWarning: 'squared' is deprecated in version 1.4 and will be removed in 1.6. To calculate the root mean squared error, use the function'root_mean_squared_error'.\n",
      "  warnings.warn(\n",
      "11:39:05 - cmdstanpy - INFO - Chain [1] start processing\n",
      "11:39:05 - cmdstanpy - INFO - Chain [1] done processing\n",
      "c:\\Users\\natra\\AppData\\Local\\Programs\\Python\\Python310\\lib\\site-packages\\sklearn\\metrics\\_regression.py:492: FutureWarning: 'squared' is deprecated in version 1.4 and will be removed in 1.6. To calculate the root mean squared error, use the function'root_mean_squared_error'.\n",
      "  warnings.warn(\n",
      "11:39:05 - cmdstanpy - INFO - Chain [1] start processing\n",
      "11:39:06 - cmdstanpy - INFO - Chain [1] done processing\n",
      "c:\\Users\\natra\\AppData\\Local\\Programs\\Python\\Python310\\lib\\site-packages\\sklearn\\metrics\\_regression.py:492: FutureWarning: 'squared' is deprecated in version 1.4 and will be removed in 1.6. To calculate the root mean squared error, use the function'root_mean_squared_error'.\n",
      "  warnings.warn(\n",
      "11:39:06 - cmdstanpy - INFO - Chain [1] start processing\n",
      "11:39:06 - cmdstanpy - INFO - Chain [1] done processing\n",
      "c:\\Users\\natra\\AppData\\Local\\Programs\\Python\\Python310\\lib\\site-packages\\sklearn\\metrics\\_regression.py:492: FutureWarning: 'squared' is deprecated in version 1.4 and will be removed in 1.6. To calculate the root mean squared error, use the function'root_mean_squared_error'.\n",
      "  warnings.warn(\n",
      "11:39:07 - cmdstanpy - INFO - Chain [1] start processing\n",
      "11:39:07 - cmdstanpy - INFO - Chain [1] done processing\n",
      "c:\\Users\\natra\\AppData\\Local\\Programs\\Python\\Python310\\lib\\site-packages\\sklearn\\metrics\\_regression.py:492: FutureWarning: 'squared' is deprecated in version 1.4 and will be removed in 1.6. To calculate the root mean squared error, use the function'root_mean_squared_error'.\n",
      "  warnings.warn(\n"
     ]
    },
    {
     "name": "stdout",
     "output_type": "stream",
     "text": [
      "R² Score: 0.602, RMSE: 3.671, MAE: 2.663\n",
      "\n",
      "Evaluating: changepoint_prior_scale=0.060000000000000005, seasonality_prior_scale=4.1, seasonality_mode=additive\n"
     ]
    },
    {
     "name": "stderr",
     "output_type": "stream",
     "text": [
      "11:39:08 - cmdstanpy - INFO - Chain [1] start processing\n",
      "11:39:08 - cmdstanpy - INFO - Chain [1] done processing\n",
      "c:\\Users\\natra\\AppData\\Local\\Programs\\Python\\Python310\\lib\\site-packages\\sklearn\\metrics\\_regression.py:492: FutureWarning: 'squared' is deprecated in version 1.4 and will be removed in 1.6. To calculate the root mean squared error, use the function'root_mean_squared_error'.\n",
      "  warnings.warn(\n",
      "11:39:08 - cmdstanpy - INFO - Chain [1] start processing\n",
      "11:39:09 - cmdstanpy - INFO - Chain [1] done processing\n",
      "c:\\Users\\natra\\AppData\\Local\\Programs\\Python\\Python310\\lib\\site-packages\\sklearn\\metrics\\_regression.py:492: FutureWarning: 'squared' is deprecated in version 1.4 and will be removed in 1.6. To calculate the root mean squared error, use the function'root_mean_squared_error'.\n",
      "  warnings.warn(\n",
      "11:39:10 - cmdstanpy - INFO - Chain [1] start processing\n",
      "11:39:10 - cmdstanpy - INFO - Chain [1] done processing\n",
      "c:\\Users\\natra\\AppData\\Local\\Programs\\Python\\Python310\\lib\\site-packages\\sklearn\\metrics\\_regression.py:492: FutureWarning: 'squared' is deprecated in version 1.4 and will be removed in 1.6. To calculate the root mean squared error, use the function'root_mean_squared_error'.\n",
      "  warnings.warn(\n",
      "11:39:12 - cmdstanpy - INFO - Chain [1] start processing\n",
      "11:39:12 - cmdstanpy - INFO - Chain [1] done processing\n",
      "c:\\Users\\natra\\AppData\\Local\\Programs\\Python\\Python310\\lib\\site-packages\\sklearn\\metrics\\_regression.py:492: FutureWarning: 'squared' is deprecated in version 1.4 and will be removed in 1.6. To calculate the root mean squared error, use the function'root_mean_squared_error'.\n",
      "  warnings.warn(\n",
      "11:39:13 - cmdstanpy - INFO - Chain [1] start processing\n",
      "11:39:13 - cmdstanpy - INFO - Chain [1] done processing\n",
      "c:\\Users\\natra\\AppData\\Local\\Programs\\Python\\Python310\\lib\\site-packages\\sklearn\\metrics\\_regression.py:492: FutureWarning: 'squared' is deprecated in version 1.4 and will be removed in 1.6. To calculate the root mean squared error, use the function'root_mean_squared_error'.\n",
      "  warnings.warn(\n"
     ]
    },
    {
     "name": "stdout",
     "output_type": "stream",
     "text": [
      "R² Score: 0.552, RMSE: 3.826, MAE: 2.824\n",
      "\n",
      "Evaluating: changepoint_prior_scale=0.060000000000000005, seasonality_prior_scale=4.1, seasonality_mode=multiplicative\n"
     ]
    },
    {
     "name": "stderr",
     "output_type": "stream",
     "text": [
      "11:39:14 - cmdstanpy - INFO - Chain [1] start processing\n",
      "11:39:14 - cmdstanpy - INFO - Chain [1] done processing\n",
      "c:\\Users\\natra\\AppData\\Local\\Programs\\Python\\Python310\\lib\\site-packages\\sklearn\\metrics\\_regression.py:492: FutureWarning: 'squared' is deprecated in version 1.4 and will be removed in 1.6. To calculate the root mean squared error, use the function'root_mean_squared_error'.\n",
      "  warnings.warn(\n",
      "11:39:14 - cmdstanpy - INFO - Chain [1] start processing\n",
      "11:39:15 - cmdstanpy - INFO - Chain [1] done processing\n",
      "c:\\Users\\natra\\AppData\\Local\\Programs\\Python\\Python310\\lib\\site-packages\\sklearn\\metrics\\_regression.py:492: FutureWarning: 'squared' is deprecated in version 1.4 and will be removed in 1.6. To calculate the root mean squared error, use the function'root_mean_squared_error'.\n",
      "  warnings.warn(\n",
      "11:39:15 - cmdstanpy - INFO - Chain [1] start processing\n",
      "11:39:15 - cmdstanpy - INFO - Chain [1] done processing\n",
      "c:\\Users\\natra\\AppData\\Local\\Programs\\Python\\Python310\\lib\\site-packages\\sklearn\\metrics\\_regression.py:492: FutureWarning: 'squared' is deprecated in version 1.4 and will be removed in 1.6. To calculate the root mean squared error, use the function'root_mean_squared_error'.\n",
      "  warnings.warn(\n",
      "11:39:16 - cmdstanpy - INFO - Chain [1] start processing\n",
      "11:39:16 - cmdstanpy - INFO - Chain [1] done processing\n",
      "c:\\Users\\natra\\AppData\\Local\\Programs\\Python\\Python310\\lib\\site-packages\\sklearn\\metrics\\_regression.py:492: FutureWarning: 'squared' is deprecated in version 1.4 and will be removed in 1.6. To calculate the root mean squared error, use the function'root_mean_squared_error'.\n",
      "  warnings.warn(\n",
      "11:39:17 - cmdstanpy - INFO - Chain [1] start processing\n",
      "11:39:17 - cmdstanpy - INFO - Chain [1] done processing\n",
      "c:\\Users\\natra\\AppData\\Local\\Programs\\Python\\Python310\\lib\\site-packages\\sklearn\\metrics\\_regression.py:492: FutureWarning: 'squared' is deprecated in version 1.4 and will be removed in 1.6. To calculate the root mean squared error, use the function'root_mean_squared_error'.\n",
      "  warnings.warn(\n"
     ]
    },
    {
     "name": "stdout",
     "output_type": "stream",
     "text": [
      "R² Score: 0.581, RMSE: 3.740, MAE: 2.764\n",
      "\n",
      "Evaluating: changepoint_prior_scale=0.060000000000000005, seasonality_prior_scale=5.1, seasonality_mode=additive\n"
     ]
    },
    {
     "name": "stderr",
     "output_type": "stream",
     "text": [
      "11:39:17 - cmdstanpy - INFO - Chain [1] start processing\n",
      "11:39:18 - cmdstanpy - INFO - Chain [1] done processing\n",
      "c:\\Users\\natra\\AppData\\Local\\Programs\\Python\\Python310\\lib\\site-packages\\sklearn\\metrics\\_regression.py:492: FutureWarning: 'squared' is deprecated in version 1.4 and will be removed in 1.6. To calculate the root mean squared error, use the function'root_mean_squared_error'.\n",
      "  warnings.warn(\n",
      "11:39:18 - cmdstanpy - INFO - Chain [1] start processing\n",
      "11:39:18 - cmdstanpy - INFO - Chain [1] done processing\n",
      "c:\\Users\\natra\\AppData\\Local\\Programs\\Python\\Python310\\lib\\site-packages\\sklearn\\metrics\\_regression.py:492: FutureWarning: 'squared' is deprecated in version 1.4 and will be removed in 1.6. To calculate the root mean squared error, use the function'root_mean_squared_error'.\n",
      "  warnings.warn(\n",
      "11:39:19 - cmdstanpy - INFO - Chain [1] start processing\n",
      "11:39:19 - cmdstanpy - INFO - Chain [1] done processing\n",
      "c:\\Users\\natra\\AppData\\Local\\Programs\\Python\\Python310\\lib\\site-packages\\sklearn\\metrics\\_regression.py:492: FutureWarning: 'squared' is deprecated in version 1.4 and will be removed in 1.6. To calculate the root mean squared error, use the function'root_mean_squared_error'.\n",
      "  warnings.warn(\n",
      "11:39:20 - cmdstanpy - INFO - Chain [1] start processing\n",
      "11:39:20 - cmdstanpy - INFO - Chain [1] done processing\n",
      "c:\\Users\\natra\\AppData\\Local\\Programs\\Python\\Python310\\lib\\site-packages\\sklearn\\metrics\\_regression.py:492: FutureWarning: 'squared' is deprecated in version 1.4 and will be removed in 1.6. To calculate the root mean squared error, use the function'root_mean_squared_error'.\n",
      "  warnings.warn(\n",
      "11:39:20 - cmdstanpy - INFO - Chain [1] start processing\n",
      "11:39:21 - cmdstanpy - INFO - Chain [1] done processing\n",
      "c:\\Users\\natra\\AppData\\Local\\Programs\\Python\\Python310\\lib\\site-packages\\sklearn\\metrics\\_regression.py:492: FutureWarning: 'squared' is deprecated in version 1.4 and will be removed in 1.6. To calculate the root mean squared error, use the function'root_mean_squared_error'.\n",
      "  warnings.warn(\n"
     ]
    },
    {
     "name": "stdout",
     "output_type": "stream",
     "text": [
      "R² Score: 0.550, RMSE: 3.831, MAE: 2.829\n",
      "\n",
      "Evaluating: changepoint_prior_scale=0.060000000000000005, seasonality_prior_scale=5.1, seasonality_mode=multiplicative\n"
     ]
    },
    {
     "name": "stderr",
     "output_type": "stream",
     "text": [
      "11:39:21 - cmdstanpy - INFO - Chain [1] start processing\n",
      "11:39:21 - cmdstanpy - INFO - Chain [1] done processing\n",
      "c:\\Users\\natra\\AppData\\Local\\Programs\\Python\\Python310\\lib\\site-packages\\sklearn\\metrics\\_regression.py:492: FutureWarning: 'squared' is deprecated in version 1.4 and will be removed in 1.6. To calculate the root mean squared error, use the function'root_mean_squared_error'.\n",
      "  warnings.warn(\n",
      "11:39:22 - cmdstanpy - INFO - Chain [1] start processing\n",
      "11:39:22 - cmdstanpy - INFO - Chain [1] done processing\n",
      "c:\\Users\\natra\\AppData\\Local\\Programs\\Python\\Python310\\lib\\site-packages\\sklearn\\metrics\\_regression.py:492: FutureWarning: 'squared' is deprecated in version 1.4 and will be removed in 1.6. To calculate the root mean squared error, use the function'root_mean_squared_error'.\n",
      "  warnings.warn(\n",
      "11:39:23 - cmdstanpy - INFO - Chain [1] start processing\n",
      "11:39:23 - cmdstanpy - INFO - Chain [1] done processing\n",
      "c:\\Users\\natra\\AppData\\Local\\Programs\\Python\\Python310\\lib\\site-packages\\sklearn\\metrics\\_regression.py:492: FutureWarning: 'squared' is deprecated in version 1.4 and will be removed in 1.6. To calculate the root mean squared error, use the function'root_mean_squared_error'.\n",
      "  warnings.warn(\n",
      "11:39:24 - cmdstanpy - INFO - Chain [1] start processing\n",
      "11:39:24 - cmdstanpy - INFO - Chain [1] done processing\n",
      "c:\\Users\\natra\\AppData\\Local\\Programs\\Python\\Python310\\lib\\site-packages\\sklearn\\metrics\\_regression.py:492: FutureWarning: 'squared' is deprecated in version 1.4 and will be removed in 1.6. To calculate the root mean squared error, use the function'root_mean_squared_error'.\n",
      "  warnings.warn(\n",
      "11:39:24 - cmdstanpy - INFO - Chain [1] start processing\n",
      "11:39:25 - cmdstanpy - INFO - Chain [1] done processing\n",
      "c:\\Users\\natra\\AppData\\Local\\Programs\\Python\\Python310\\lib\\site-packages\\sklearn\\metrics\\_regression.py:492: FutureWarning: 'squared' is deprecated in version 1.4 and will be removed in 1.6. To calculate the root mean squared error, use the function'root_mean_squared_error'.\n",
      "  warnings.warn(\n"
     ]
    },
    {
     "name": "stdout",
     "output_type": "stream",
     "text": [
      "R² Score: 0.582, RMSE: 3.737, MAE: 2.759\n",
      "\n",
      "Evaluating: changepoint_prior_scale=0.060000000000000005, seasonality_prior_scale=6.1, seasonality_mode=additive\n"
     ]
    },
    {
     "name": "stderr",
     "output_type": "stream",
     "text": [
      "11:39:25 - cmdstanpy - INFO - Chain [1] start processing\n",
      "11:39:26 - cmdstanpy - INFO - Chain [1] done processing\n",
      "c:\\Users\\natra\\AppData\\Local\\Programs\\Python\\Python310\\lib\\site-packages\\sklearn\\metrics\\_regression.py:492: FutureWarning: 'squared' is deprecated in version 1.4 and will be removed in 1.6. To calculate the root mean squared error, use the function'root_mean_squared_error'.\n",
      "  warnings.warn(\n",
      "11:39:26 - cmdstanpy - INFO - Chain [1] start processing\n",
      "11:39:27 - cmdstanpy - INFO - Chain [1] done processing\n",
      "c:\\Users\\natra\\AppData\\Local\\Programs\\Python\\Python310\\lib\\site-packages\\sklearn\\metrics\\_regression.py:492: FutureWarning: 'squared' is deprecated in version 1.4 and will be removed in 1.6. To calculate the root mean squared error, use the function'root_mean_squared_error'.\n",
      "  warnings.warn(\n",
      "11:39:27 - cmdstanpy - INFO - Chain [1] start processing\n",
      "11:39:28 - cmdstanpy - INFO - Chain [1] done processing\n",
      "c:\\Users\\natra\\AppData\\Local\\Programs\\Python\\Python310\\lib\\site-packages\\sklearn\\metrics\\_regression.py:492: FutureWarning: 'squared' is deprecated in version 1.4 and will be removed in 1.6. To calculate the root mean squared error, use the function'root_mean_squared_error'.\n",
      "  warnings.warn(\n",
      "11:39:29 - cmdstanpy - INFO - Chain [1] start processing\n",
      "11:39:29 - cmdstanpy - INFO - Chain [1] done processing\n",
      "c:\\Users\\natra\\AppData\\Local\\Programs\\Python\\Python310\\lib\\site-packages\\sklearn\\metrics\\_regression.py:492: FutureWarning: 'squared' is deprecated in version 1.4 and will be removed in 1.6. To calculate the root mean squared error, use the function'root_mean_squared_error'.\n",
      "  warnings.warn(\n",
      "11:39:30 - cmdstanpy - INFO - Chain [1] start processing\n",
      "11:39:30 - cmdstanpy - INFO - Chain [1] done processing\n",
      "c:\\Users\\natra\\AppData\\Local\\Programs\\Python\\Python310\\lib\\site-packages\\sklearn\\metrics\\_regression.py:492: FutureWarning: 'squared' is deprecated in version 1.4 and will be removed in 1.6. To calculate the root mean squared error, use the function'root_mean_squared_error'.\n",
      "  warnings.warn(\n"
     ]
    },
    {
     "name": "stdout",
     "output_type": "stream",
     "text": [
      "R² Score: 0.550, RMSE: 3.831, MAE: 2.831\n",
      "\n",
      "Evaluating: changepoint_prior_scale=0.060000000000000005, seasonality_prior_scale=6.1, seasonality_mode=multiplicative\n"
     ]
    },
    {
     "name": "stderr",
     "output_type": "stream",
     "text": [
      "11:39:31 - cmdstanpy - INFO - Chain [1] start processing\n",
      "11:39:31 - cmdstanpy - INFO - Chain [1] done processing\n",
      "c:\\Users\\natra\\AppData\\Local\\Programs\\Python\\Python310\\lib\\site-packages\\sklearn\\metrics\\_regression.py:492: FutureWarning: 'squared' is deprecated in version 1.4 and will be removed in 1.6. To calculate the root mean squared error, use the function'root_mean_squared_error'.\n",
      "  warnings.warn(\n",
      "11:39:32 - cmdstanpy - INFO - Chain [1] start processing\n",
      "11:39:32 - cmdstanpy - INFO - Chain [1] done processing\n",
      "c:\\Users\\natra\\AppData\\Local\\Programs\\Python\\Python310\\lib\\site-packages\\sklearn\\metrics\\_regression.py:492: FutureWarning: 'squared' is deprecated in version 1.4 and will be removed in 1.6. To calculate the root mean squared error, use the function'root_mean_squared_error'.\n",
      "  warnings.warn(\n",
      "11:39:33 - cmdstanpy - INFO - Chain [1] start processing\n",
      "11:39:33 - cmdstanpy - INFO - Chain [1] done processing\n",
      "c:\\Users\\natra\\AppData\\Local\\Programs\\Python\\Python310\\lib\\site-packages\\sklearn\\metrics\\_regression.py:492: FutureWarning: 'squared' is deprecated in version 1.4 and will be removed in 1.6. To calculate the root mean squared error, use the function'root_mean_squared_error'.\n",
      "  warnings.warn(\n",
      "11:39:33 - cmdstanpy - INFO - Chain [1] start processing\n",
      "11:39:34 - cmdstanpy - INFO - Chain [1] done processing\n",
      "c:\\Users\\natra\\AppData\\Local\\Programs\\Python\\Python310\\lib\\site-packages\\sklearn\\metrics\\_regression.py:492: FutureWarning: 'squared' is deprecated in version 1.4 and will be removed in 1.6. To calculate the root mean squared error, use the function'root_mean_squared_error'.\n",
      "  warnings.warn(\n",
      "11:39:35 - cmdstanpy - INFO - Chain [1] start processing\n",
      "11:39:35 - cmdstanpy - INFO - Chain [1] done processing\n",
      "c:\\Users\\natra\\AppData\\Local\\Programs\\Python\\Python310\\lib\\site-packages\\sklearn\\metrics\\_regression.py:492: FutureWarning: 'squared' is deprecated in version 1.4 and will be removed in 1.6. To calculate the root mean squared error, use the function'root_mean_squared_error'.\n",
      "  warnings.warn(\n"
     ]
    },
    {
     "name": "stdout",
     "output_type": "stream",
     "text": [
      "R² Score: 0.581, RMSE: 3.740, MAE: 2.764\n",
      "\n",
      "Evaluating: changepoint_prior_scale=0.060000000000000005, seasonality_prior_scale=7.1, seasonality_mode=additive\n"
     ]
    },
    {
     "name": "stderr",
     "output_type": "stream",
     "text": [
      "11:39:36 - cmdstanpy - INFO - Chain [1] start processing\n",
      "11:39:36 - cmdstanpy - INFO - Chain [1] done processing\n",
      "c:\\Users\\natra\\AppData\\Local\\Programs\\Python\\Python310\\lib\\site-packages\\sklearn\\metrics\\_regression.py:492: FutureWarning: 'squared' is deprecated in version 1.4 and will be removed in 1.6. To calculate the root mean squared error, use the function'root_mean_squared_error'.\n",
      "  warnings.warn(\n",
      "11:39:37 - cmdstanpy - INFO - Chain [1] start processing\n",
      "11:39:37 - cmdstanpy - INFO - Chain [1] done processing\n",
      "c:\\Users\\natra\\AppData\\Local\\Programs\\Python\\Python310\\lib\\site-packages\\sklearn\\metrics\\_regression.py:492: FutureWarning: 'squared' is deprecated in version 1.4 and will be removed in 1.6. To calculate the root mean squared error, use the function'root_mean_squared_error'.\n",
      "  warnings.warn(\n",
      "11:39:38 - cmdstanpy - INFO - Chain [1] start processing\n",
      "11:39:38 - cmdstanpy - INFO - Chain [1] done processing\n",
      "c:\\Users\\natra\\AppData\\Local\\Programs\\Python\\Python310\\lib\\site-packages\\sklearn\\metrics\\_regression.py:492: FutureWarning: 'squared' is deprecated in version 1.4 and will be removed in 1.6. To calculate the root mean squared error, use the function'root_mean_squared_error'.\n",
      "  warnings.warn(\n",
      "11:39:39 - cmdstanpy - INFO - Chain [1] start processing\n",
      "11:39:39 - cmdstanpy - INFO - Chain [1] done processing\n",
      "c:\\Users\\natra\\AppData\\Local\\Programs\\Python\\Python310\\lib\\site-packages\\sklearn\\metrics\\_regression.py:492: FutureWarning: 'squared' is deprecated in version 1.4 and will be removed in 1.6. To calculate the root mean squared error, use the function'root_mean_squared_error'.\n",
      "  warnings.warn(\n",
      "11:39:40 - cmdstanpy - INFO - Chain [1] start processing\n",
      "11:39:40 - cmdstanpy - INFO - Chain [1] done processing\n",
      "c:\\Users\\natra\\AppData\\Local\\Programs\\Python\\Python310\\lib\\site-packages\\sklearn\\metrics\\_regression.py:492: FutureWarning: 'squared' is deprecated in version 1.4 and will be removed in 1.6. To calculate the root mean squared error, use the function'root_mean_squared_error'.\n",
      "  warnings.warn(\n"
     ]
    },
    {
     "name": "stdout",
     "output_type": "stream",
     "text": [
      "R² Score: 0.549, RMSE: 3.833, MAE: 2.836\n",
      "\n",
      "Evaluating: changepoint_prior_scale=0.060000000000000005, seasonality_prior_scale=7.1, seasonality_mode=multiplicative\n"
     ]
    },
    {
     "name": "stderr",
     "output_type": "stream",
     "text": [
      "11:39:41 - cmdstanpy - INFO - Chain [1] start processing\n",
      "11:39:42 - cmdstanpy - INFO - Chain [1] done processing\n",
      "c:\\Users\\natra\\AppData\\Local\\Programs\\Python\\Python310\\lib\\site-packages\\sklearn\\metrics\\_regression.py:492: FutureWarning: 'squared' is deprecated in version 1.4 and will be removed in 1.6. To calculate the root mean squared error, use the function'root_mean_squared_error'.\n",
      "  warnings.warn(\n",
      "11:39:42 - cmdstanpy - INFO - Chain [1] start processing\n",
      "11:39:43 - cmdstanpy - INFO - Chain [1] done processing\n",
      "c:\\Users\\natra\\AppData\\Local\\Programs\\Python\\Python310\\lib\\site-packages\\sklearn\\metrics\\_regression.py:492: FutureWarning: 'squared' is deprecated in version 1.4 and will be removed in 1.6. To calculate the root mean squared error, use the function'root_mean_squared_error'.\n",
      "  warnings.warn(\n",
      "11:39:43 - cmdstanpy - INFO - Chain [1] start processing\n",
      "11:39:44 - cmdstanpy - INFO - Chain [1] done processing\n",
      "c:\\Users\\natra\\AppData\\Local\\Programs\\Python\\Python310\\lib\\site-packages\\sklearn\\metrics\\_regression.py:492: FutureWarning: 'squared' is deprecated in version 1.4 and will be removed in 1.6. To calculate the root mean squared error, use the function'root_mean_squared_error'.\n",
      "  warnings.warn(\n",
      "11:39:44 - cmdstanpy - INFO - Chain [1] start processing\n",
      "11:39:45 - cmdstanpy - INFO - Chain [1] done processing\n",
      "c:\\Users\\natra\\AppData\\Local\\Programs\\Python\\Python310\\lib\\site-packages\\sklearn\\metrics\\_regression.py:492: FutureWarning: 'squared' is deprecated in version 1.4 and will be removed in 1.6. To calculate the root mean squared error, use the function'root_mean_squared_error'.\n",
      "  warnings.warn(\n",
      "11:39:46 - cmdstanpy - INFO - Chain [1] start processing\n",
      "11:39:46 - cmdstanpy - INFO - Chain [1] done processing\n",
      "c:\\Users\\natra\\AppData\\Local\\Programs\\Python\\Python310\\lib\\site-packages\\sklearn\\metrics\\_regression.py:492: FutureWarning: 'squared' is deprecated in version 1.4 and will be removed in 1.6. To calculate the root mean squared error, use the function'root_mean_squared_error'.\n",
      "  warnings.warn(\n"
     ]
    },
    {
     "name": "stdout",
     "output_type": "stream",
     "text": [
      "R² Score: 0.582, RMSE: 3.739, MAE: 2.761\n",
      "\n",
      "Evaluating: changepoint_prior_scale=0.060000000000000005, seasonality_prior_scale=8.1, seasonality_mode=additive\n"
     ]
    },
    {
     "name": "stderr",
     "output_type": "stream",
     "text": [
      "11:39:47 - cmdstanpy - INFO - Chain [1] start processing\n",
      "11:39:47 - cmdstanpy - INFO - Chain [1] done processing\n",
      "c:\\Users\\natra\\AppData\\Local\\Programs\\Python\\Python310\\lib\\site-packages\\sklearn\\metrics\\_regression.py:492: FutureWarning: 'squared' is deprecated in version 1.4 and will be removed in 1.6. To calculate the root mean squared error, use the function'root_mean_squared_error'.\n",
      "  warnings.warn(\n",
      "11:39:48 - cmdstanpy - INFO - Chain [1] start processing\n",
      "11:39:48 - cmdstanpy - INFO - Chain [1] done processing\n",
      "c:\\Users\\natra\\AppData\\Local\\Programs\\Python\\Python310\\lib\\site-packages\\sklearn\\metrics\\_regression.py:492: FutureWarning: 'squared' is deprecated in version 1.4 and will be removed in 1.6. To calculate the root mean squared error, use the function'root_mean_squared_error'.\n",
      "  warnings.warn(\n",
      "11:39:49 - cmdstanpy - INFO - Chain [1] start processing\n",
      "11:39:50 - cmdstanpy - INFO - Chain [1] done processing\n",
      "c:\\Users\\natra\\AppData\\Local\\Programs\\Python\\Python310\\lib\\site-packages\\sklearn\\metrics\\_regression.py:492: FutureWarning: 'squared' is deprecated in version 1.4 and will be removed in 1.6. To calculate the root mean squared error, use the function'root_mean_squared_error'.\n",
      "  warnings.warn(\n",
      "11:39:51 - cmdstanpy - INFO - Chain [1] start processing\n",
      "11:39:51 - cmdstanpy - INFO - Chain [1] done processing\n",
      "c:\\Users\\natra\\AppData\\Local\\Programs\\Python\\Python310\\lib\\site-packages\\sklearn\\metrics\\_regression.py:492: FutureWarning: 'squared' is deprecated in version 1.4 and will be removed in 1.6. To calculate the root mean squared error, use the function'root_mean_squared_error'.\n",
      "  warnings.warn(\n",
      "11:39:52 - cmdstanpy - INFO - Chain [1] start processing\n",
      "11:39:52 - cmdstanpy - INFO - Chain [1] done processing\n",
      "c:\\Users\\natra\\AppData\\Local\\Programs\\Python\\Python310\\lib\\site-packages\\sklearn\\metrics\\_regression.py:492: FutureWarning: 'squared' is deprecated in version 1.4 and will be removed in 1.6. To calculate the root mean squared error, use the function'root_mean_squared_error'.\n",
      "  warnings.warn(\n"
     ]
    },
    {
     "name": "stdout",
     "output_type": "stream",
     "text": [
      "R² Score: 0.564, RMSE: 3.790, MAE: 2.785\n",
      "\n",
      "Evaluating: changepoint_prior_scale=0.060000000000000005, seasonality_prior_scale=8.1, seasonality_mode=multiplicative\n"
     ]
    },
    {
     "name": "stderr",
     "output_type": "stream",
     "text": [
      "11:39:53 - cmdstanpy - INFO - Chain [1] start processing\n",
      "11:39:53 - cmdstanpy - INFO - Chain [1] done processing\n",
      "c:\\Users\\natra\\AppData\\Local\\Programs\\Python\\Python310\\lib\\site-packages\\sklearn\\metrics\\_regression.py:492: FutureWarning: 'squared' is deprecated in version 1.4 and will be removed in 1.6. To calculate the root mean squared error, use the function'root_mean_squared_error'.\n",
      "  warnings.warn(\n",
      "11:39:54 - cmdstanpy - INFO - Chain [1] start processing\n",
      "11:39:54 - cmdstanpy - INFO - Chain [1] done processing\n",
      "c:\\Users\\natra\\AppData\\Local\\Programs\\Python\\Python310\\lib\\site-packages\\sklearn\\metrics\\_regression.py:492: FutureWarning: 'squared' is deprecated in version 1.4 and will be removed in 1.6. To calculate the root mean squared error, use the function'root_mean_squared_error'.\n",
      "  warnings.warn(\n",
      "11:39:55 - cmdstanpy - INFO - Chain [1] start processing\n",
      "11:39:55 - cmdstanpy - INFO - Chain [1] done processing\n",
      "c:\\Users\\natra\\AppData\\Local\\Programs\\Python\\Python310\\lib\\site-packages\\sklearn\\metrics\\_regression.py:492: FutureWarning: 'squared' is deprecated in version 1.4 and will be removed in 1.6. To calculate the root mean squared error, use the function'root_mean_squared_error'.\n",
      "  warnings.warn(\n",
      "11:39:56 - cmdstanpy - INFO - Chain [1] start processing\n",
      "11:39:56 - cmdstanpy - INFO - Chain [1] done processing\n",
      "c:\\Users\\natra\\AppData\\Local\\Programs\\Python\\Python310\\lib\\site-packages\\sklearn\\metrics\\_regression.py:492: FutureWarning: 'squared' is deprecated in version 1.4 and will be removed in 1.6. To calculate the root mean squared error, use the function'root_mean_squared_error'.\n",
      "  warnings.warn(\n",
      "11:39:57 - cmdstanpy - INFO - Chain [1] start processing\n",
      "11:39:57 - cmdstanpy - INFO - Chain [1] done processing\n",
      "c:\\Users\\natra\\AppData\\Local\\Programs\\Python\\Python310\\lib\\site-packages\\sklearn\\metrics\\_regression.py:492: FutureWarning: 'squared' is deprecated in version 1.4 and will be removed in 1.6. To calculate the root mean squared error, use the function'root_mean_squared_error'.\n",
      "  warnings.warn(\n"
     ]
    },
    {
     "name": "stdout",
     "output_type": "stream",
     "text": [
      "R² Score: 0.574, RMSE: 3.764, MAE: 2.794\n",
      "\n",
      "Evaluating: changepoint_prior_scale=0.060000000000000005, seasonality_prior_scale=9.1, seasonality_mode=additive\n"
     ]
    },
    {
     "name": "stderr",
     "output_type": "stream",
     "text": [
      "11:39:58 - cmdstanpy - INFO - Chain [1] start processing\n",
      "11:39:58 - cmdstanpy - INFO - Chain [1] done processing\n",
      "c:\\Users\\natra\\AppData\\Local\\Programs\\Python\\Python310\\lib\\site-packages\\sklearn\\metrics\\_regression.py:492: FutureWarning: 'squared' is deprecated in version 1.4 and will be removed in 1.6. To calculate the root mean squared error, use the function'root_mean_squared_error'.\n",
      "  warnings.warn(\n",
      "11:39:59 - cmdstanpy - INFO - Chain [1] start processing\n",
      "11:39:59 - cmdstanpy - INFO - Chain [1] done processing\n",
      "c:\\Users\\natra\\AppData\\Local\\Programs\\Python\\Python310\\lib\\site-packages\\sklearn\\metrics\\_regression.py:492: FutureWarning: 'squared' is deprecated in version 1.4 and will be removed in 1.6. To calculate the root mean squared error, use the function'root_mean_squared_error'.\n",
      "  warnings.warn(\n",
      "11:39:59 - cmdstanpy - INFO - Chain [1] start processing\n",
      "11:40:00 - cmdstanpy - INFO - Chain [1] done processing\n",
      "c:\\Users\\natra\\AppData\\Local\\Programs\\Python\\Python310\\lib\\site-packages\\sklearn\\metrics\\_regression.py:492: FutureWarning: 'squared' is deprecated in version 1.4 and will be removed in 1.6. To calculate the root mean squared error, use the function'root_mean_squared_error'.\n",
      "  warnings.warn(\n",
      "11:40:00 - cmdstanpy - INFO - Chain [1] start processing\n",
      "11:40:00 - cmdstanpy - INFO - Chain [1] done processing\n",
      "c:\\Users\\natra\\AppData\\Local\\Programs\\Python\\Python310\\lib\\site-packages\\sklearn\\metrics\\_regression.py:492: FutureWarning: 'squared' is deprecated in version 1.4 and will be removed in 1.6. To calculate the root mean squared error, use the function'root_mean_squared_error'.\n",
      "  warnings.warn(\n",
      "11:40:01 - cmdstanpy - INFO - Chain [1] start processing\n",
      "11:40:01 - cmdstanpy - INFO - Chain [1] done processing\n",
      "c:\\Users\\natra\\AppData\\Local\\Programs\\Python\\Python310\\lib\\site-packages\\sklearn\\metrics\\_regression.py:492: FutureWarning: 'squared' is deprecated in version 1.4 and will be removed in 1.6. To calculate the root mean squared error, use the function'root_mean_squared_error'.\n",
      "  warnings.warn(\n"
     ]
    },
    {
     "name": "stdout",
     "output_type": "stream",
     "text": [
      "R² Score: 0.553, RMSE: 3.824, MAE: 2.825\n",
      "\n",
      "Evaluating: changepoint_prior_scale=0.060000000000000005, seasonality_prior_scale=9.1, seasonality_mode=multiplicative\n"
     ]
    },
    {
     "name": "stderr",
     "output_type": "stream",
     "text": [
      "11:40:02 - cmdstanpy - INFO - Chain [1] start processing\n",
      "11:40:02 - cmdstanpy - INFO - Chain [1] done processing\n",
      "c:\\Users\\natra\\AppData\\Local\\Programs\\Python\\Python310\\lib\\site-packages\\sklearn\\metrics\\_regression.py:492: FutureWarning: 'squared' is deprecated in version 1.4 and will be removed in 1.6. To calculate the root mean squared error, use the function'root_mean_squared_error'.\n",
      "  warnings.warn(\n",
      "11:40:03 - cmdstanpy - INFO - Chain [1] start processing\n",
      "11:40:03 - cmdstanpy - INFO - Chain [1] done processing\n",
      "c:\\Users\\natra\\AppData\\Local\\Programs\\Python\\Python310\\lib\\site-packages\\sklearn\\metrics\\_regression.py:492: FutureWarning: 'squared' is deprecated in version 1.4 and will be removed in 1.6. To calculate the root mean squared error, use the function'root_mean_squared_error'.\n",
      "  warnings.warn(\n",
      "11:40:04 - cmdstanpy - INFO - Chain [1] start processing\n",
      "11:40:04 - cmdstanpy - INFO - Chain [1] done processing\n",
      "c:\\Users\\natra\\AppData\\Local\\Programs\\Python\\Python310\\lib\\site-packages\\sklearn\\metrics\\_regression.py:492: FutureWarning: 'squared' is deprecated in version 1.4 and will be removed in 1.6. To calculate the root mean squared error, use the function'root_mean_squared_error'.\n",
      "  warnings.warn(\n",
      "11:40:05 - cmdstanpy - INFO - Chain [1] start processing\n",
      "11:40:05 - cmdstanpy - INFO - Chain [1] done processing\n",
      "c:\\Users\\natra\\AppData\\Local\\Programs\\Python\\Python310\\lib\\site-packages\\sklearn\\metrics\\_regression.py:492: FutureWarning: 'squared' is deprecated in version 1.4 and will be removed in 1.6. To calculate the root mean squared error, use the function'root_mean_squared_error'.\n",
      "  warnings.warn(\n",
      "11:40:06 - cmdstanpy - INFO - Chain [1] start processing\n",
      "11:40:06 - cmdstanpy - INFO - Chain [1] done processing\n",
      "c:\\Users\\natra\\AppData\\Local\\Programs\\Python\\Python310\\lib\\site-packages\\sklearn\\metrics\\_regression.py:492: FutureWarning: 'squared' is deprecated in version 1.4 and will be removed in 1.6. To calculate the root mean squared error, use the function'root_mean_squared_error'.\n",
      "  warnings.warn(\n"
     ]
    },
    {
     "name": "stdout",
     "output_type": "stream",
     "text": [
      "R² Score: 0.602, RMSE: 3.670, MAE: 2.660\n",
      "\n",
      "Evaluating: changepoint_prior_scale=0.060000000000000005, seasonality_prior_scale=10.1, seasonality_mode=additive\n"
     ]
    },
    {
     "name": "stderr",
     "output_type": "stream",
     "text": [
      "11:40:06 - cmdstanpy - INFO - Chain [1] start processing\n",
      "11:40:07 - cmdstanpy - INFO - Chain [1] done processing\n",
      "c:\\Users\\natra\\AppData\\Local\\Programs\\Python\\Python310\\lib\\site-packages\\sklearn\\metrics\\_regression.py:492: FutureWarning: 'squared' is deprecated in version 1.4 and will be removed in 1.6. To calculate the root mean squared error, use the function'root_mean_squared_error'.\n",
      "  warnings.warn(\n",
      "11:40:07 - cmdstanpy - INFO - Chain [1] start processing\n",
      "11:40:07 - cmdstanpy - INFO - Chain [1] done processing\n",
      "c:\\Users\\natra\\AppData\\Local\\Programs\\Python\\Python310\\lib\\site-packages\\sklearn\\metrics\\_regression.py:492: FutureWarning: 'squared' is deprecated in version 1.4 and will be removed in 1.6. To calculate the root mean squared error, use the function'root_mean_squared_error'.\n",
      "  warnings.warn(\n",
      "11:40:08 - cmdstanpy - INFO - Chain [1] start processing\n",
      "11:40:08 - cmdstanpy - INFO - Chain [1] done processing\n",
      "c:\\Users\\natra\\AppData\\Local\\Programs\\Python\\Python310\\lib\\site-packages\\sklearn\\metrics\\_regression.py:492: FutureWarning: 'squared' is deprecated in version 1.4 and will be removed in 1.6. To calculate the root mean squared error, use the function'root_mean_squared_error'.\n",
      "  warnings.warn(\n",
      "11:40:09 - cmdstanpy - INFO - Chain [1] start processing\n",
      "11:40:09 - cmdstanpy - INFO - Chain [1] done processing\n",
      "c:\\Users\\natra\\AppData\\Local\\Programs\\Python\\Python310\\lib\\site-packages\\sklearn\\metrics\\_regression.py:492: FutureWarning: 'squared' is deprecated in version 1.4 and will be removed in 1.6. To calculate the root mean squared error, use the function'root_mean_squared_error'.\n",
      "  warnings.warn(\n",
      "11:40:10 - cmdstanpy - INFO - Chain [1] start processing\n",
      "11:40:10 - cmdstanpy - INFO - Chain [1] done processing\n",
      "c:\\Users\\natra\\AppData\\Local\\Programs\\Python\\Python310\\lib\\site-packages\\sklearn\\metrics\\_regression.py:492: FutureWarning: 'squared' is deprecated in version 1.4 and will be removed in 1.6. To calculate the root mean squared error, use the function'root_mean_squared_error'.\n",
      "  warnings.warn(\n"
     ]
    },
    {
     "name": "stdout",
     "output_type": "stream",
     "text": [
      "R² Score: 0.549, RMSE: 3.835, MAE: 2.840\n",
      "\n",
      "Evaluating: changepoint_prior_scale=0.060000000000000005, seasonality_prior_scale=10.1, seasonality_mode=multiplicative\n"
     ]
    },
    {
     "name": "stderr",
     "output_type": "stream",
     "text": [
      "11:40:11 - cmdstanpy - INFO - Chain [1] start processing\n",
      "11:40:12 - cmdstanpy - INFO - Chain [1] done processing\n",
      "c:\\Users\\natra\\AppData\\Local\\Programs\\Python\\Python310\\lib\\site-packages\\sklearn\\metrics\\_regression.py:492: FutureWarning: 'squared' is deprecated in version 1.4 and will be removed in 1.6. To calculate the root mean squared error, use the function'root_mean_squared_error'.\n",
      "  warnings.warn(\n",
      "11:40:12 - cmdstanpy - INFO - Chain [1] start processing\n",
      "11:40:13 - cmdstanpy - INFO - Chain [1] done processing\n",
      "c:\\Users\\natra\\AppData\\Local\\Programs\\Python\\Python310\\lib\\site-packages\\sklearn\\metrics\\_regression.py:492: FutureWarning: 'squared' is deprecated in version 1.4 and will be removed in 1.6. To calculate the root mean squared error, use the function'root_mean_squared_error'.\n",
      "  warnings.warn(\n",
      "11:40:13 - cmdstanpy - INFO - Chain [1] start processing\n",
      "11:40:13 - cmdstanpy - INFO - Chain [1] done processing\n",
      "c:\\Users\\natra\\AppData\\Local\\Programs\\Python\\Python310\\lib\\site-packages\\sklearn\\metrics\\_regression.py:492: FutureWarning: 'squared' is deprecated in version 1.4 and will be removed in 1.6. To calculate the root mean squared error, use the function'root_mean_squared_error'.\n",
      "  warnings.warn(\n",
      "11:40:14 - cmdstanpy - INFO - Chain [1] start processing\n",
      "11:40:14 - cmdstanpy - INFO - Chain [1] done processing\n",
      "c:\\Users\\natra\\AppData\\Local\\Programs\\Python\\Python310\\lib\\site-packages\\sklearn\\metrics\\_regression.py:492: FutureWarning: 'squared' is deprecated in version 1.4 and will be removed in 1.6. To calculate the root mean squared error, use the function'root_mean_squared_error'.\n",
      "  warnings.warn(\n",
      "11:40:15 - cmdstanpy - INFO - Chain [1] start processing\n",
      "11:40:15 - cmdstanpy - INFO - Chain [1] done processing\n",
      "c:\\Users\\natra\\AppData\\Local\\Programs\\Python\\Python310\\lib\\site-packages\\sklearn\\metrics\\_regression.py:492: FutureWarning: 'squared' is deprecated in version 1.4 and will be removed in 1.6. To calculate the root mean squared error, use the function'root_mean_squared_error'.\n",
      "  warnings.warn(\n"
     ]
    },
    {
     "name": "stdout",
     "output_type": "stream",
     "text": [
      "R² Score: 0.581, RMSE: 3.741, MAE: 2.766\n",
      "\n",
      "Evaluating: changepoint_prior_scale=0.06999999999999999, seasonality_prior_scale=0.1, seasonality_mode=additive\n"
     ]
    },
    {
     "name": "stderr",
     "output_type": "stream",
     "text": [
      "11:40:17 - cmdstanpy - INFO - Chain [1] start processing\n",
      "11:40:17 - cmdstanpy - INFO - Chain [1] done processing\n",
      "c:\\Users\\natra\\AppData\\Local\\Programs\\Python\\Python310\\lib\\site-packages\\sklearn\\metrics\\_regression.py:492: FutureWarning: 'squared' is deprecated in version 1.4 and will be removed in 1.6. To calculate the root mean squared error, use the function'root_mean_squared_error'.\n",
      "  warnings.warn(\n",
      "11:40:18 - cmdstanpy - INFO - Chain [1] start processing\n",
      "11:40:18 - cmdstanpy - INFO - Chain [1] done processing\n",
      "c:\\Users\\natra\\AppData\\Local\\Programs\\Python\\Python310\\lib\\site-packages\\sklearn\\metrics\\_regression.py:492: FutureWarning: 'squared' is deprecated in version 1.4 and will be removed in 1.6. To calculate the root mean squared error, use the function'root_mean_squared_error'.\n",
      "  warnings.warn(\n",
      "11:40:19 - cmdstanpy - INFO - Chain [1] start processing\n",
      "11:40:19 - cmdstanpy - INFO - Chain [1] done processing\n",
      "c:\\Users\\natra\\AppData\\Local\\Programs\\Python\\Python310\\lib\\site-packages\\sklearn\\metrics\\_regression.py:492: FutureWarning: 'squared' is deprecated in version 1.4 and will be removed in 1.6. To calculate the root mean squared error, use the function'root_mean_squared_error'.\n",
      "  warnings.warn(\n",
      "11:40:20 - cmdstanpy - INFO - Chain [1] start processing\n",
      "11:40:20 - cmdstanpy - INFO - Chain [1] done processing\n",
      "c:\\Users\\natra\\AppData\\Local\\Programs\\Python\\Python310\\lib\\site-packages\\sklearn\\metrics\\_regression.py:492: FutureWarning: 'squared' is deprecated in version 1.4 and will be removed in 1.6. To calculate the root mean squared error, use the function'root_mean_squared_error'.\n",
      "  warnings.warn(\n",
      "11:40:21 - cmdstanpy - INFO - Chain [1] start processing\n",
      "11:40:21 - cmdstanpy - INFO - Chain [1] done processing\n",
      "c:\\Users\\natra\\AppData\\Local\\Programs\\Python\\Python310\\lib\\site-packages\\sklearn\\metrics\\_regression.py:492: FutureWarning: 'squared' is deprecated in version 1.4 and will be removed in 1.6. To calculate the root mean squared error, use the function'root_mean_squared_error'.\n",
      "  warnings.warn(\n"
     ]
    },
    {
     "name": "stdout",
     "output_type": "stream",
     "text": [
      "R² Score: 0.541, RMSE: 3.859, MAE: 2.862\n",
      "\n",
      "Evaluating: changepoint_prior_scale=0.06999999999999999, seasonality_prior_scale=0.1, seasonality_mode=multiplicative\n"
     ]
    },
    {
     "name": "stderr",
     "output_type": "stream",
     "text": [
      "11:40:22 - cmdstanpy - INFO - Chain [1] start processing\n",
      "11:40:22 - cmdstanpy - INFO - Chain [1] done processing\n",
      "c:\\Users\\natra\\AppData\\Local\\Programs\\Python\\Python310\\lib\\site-packages\\sklearn\\metrics\\_regression.py:492: FutureWarning: 'squared' is deprecated in version 1.4 and will be removed in 1.6. To calculate the root mean squared error, use the function'root_mean_squared_error'.\n",
      "  warnings.warn(\n",
      "11:40:23 - cmdstanpy - INFO - Chain [1] start processing\n",
      "11:40:23 - cmdstanpy - INFO - Chain [1] done processing\n",
      "c:\\Users\\natra\\AppData\\Local\\Programs\\Python\\Python310\\lib\\site-packages\\sklearn\\metrics\\_regression.py:492: FutureWarning: 'squared' is deprecated in version 1.4 and will be removed in 1.6. To calculate the root mean squared error, use the function'root_mean_squared_error'.\n",
      "  warnings.warn(\n",
      "11:40:24 - cmdstanpy - INFO - Chain [1] start processing\n",
      "11:40:24 - cmdstanpy - INFO - Chain [1] done processing\n",
      "c:\\Users\\natra\\AppData\\Local\\Programs\\Python\\Python310\\lib\\site-packages\\sklearn\\metrics\\_regression.py:492: FutureWarning: 'squared' is deprecated in version 1.4 and will be removed in 1.6. To calculate the root mean squared error, use the function'root_mean_squared_error'.\n",
      "  warnings.warn(\n",
      "11:40:25 - cmdstanpy - INFO - Chain [1] start processing\n",
      "11:40:25 - cmdstanpy - INFO - Chain [1] done processing\n",
      "c:\\Users\\natra\\AppData\\Local\\Programs\\Python\\Python310\\lib\\site-packages\\sklearn\\metrics\\_regression.py:492: FutureWarning: 'squared' is deprecated in version 1.4 and will be removed in 1.6. To calculate the root mean squared error, use the function'root_mean_squared_error'.\n",
      "  warnings.warn(\n",
      "11:40:25 - cmdstanpy - INFO - Chain [1] start processing\n",
      "11:40:26 - cmdstanpy - INFO - Chain [1] done processing\n",
      "c:\\Users\\natra\\AppData\\Local\\Programs\\Python\\Python310\\lib\\site-packages\\sklearn\\metrics\\_regression.py:492: FutureWarning: 'squared' is deprecated in version 1.4 and will be removed in 1.6. To calculate the root mean squared error, use the function'root_mean_squared_error'.\n",
      "  warnings.warn(\n"
     ]
    },
    {
     "name": "stdout",
     "output_type": "stream",
     "text": [
      "R² Score: 0.565, RMSE: 3.791, MAE: 2.831\n",
      "\n",
      "Evaluating: changepoint_prior_scale=0.06999999999999999, seasonality_prior_scale=1.1, seasonality_mode=additive\n"
     ]
    },
    {
     "name": "stderr",
     "output_type": "stream",
     "text": [
      "11:40:26 - cmdstanpy - INFO - Chain [1] start processing\n",
      "11:40:26 - cmdstanpy - INFO - Chain [1] done processing\n",
      "c:\\Users\\natra\\AppData\\Local\\Programs\\Python\\Python310\\lib\\site-packages\\sklearn\\metrics\\_regression.py:492: FutureWarning: 'squared' is deprecated in version 1.4 and will be removed in 1.6. To calculate the root mean squared error, use the function'root_mean_squared_error'.\n",
      "  warnings.warn(\n",
      "11:40:27 - cmdstanpy - INFO - Chain [1] start processing\n",
      "11:40:27 - cmdstanpy - INFO - Chain [1] done processing\n",
      "c:\\Users\\natra\\AppData\\Local\\Programs\\Python\\Python310\\lib\\site-packages\\sklearn\\metrics\\_regression.py:492: FutureWarning: 'squared' is deprecated in version 1.4 and will be removed in 1.6. To calculate the root mean squared error, use the function'root_mean_squared_error'.\n",
      "  warnings.warn(\n",
      "11:40:28 - cmdstanpy - INFO - Chain [1] start processing\n",
      "11:40:28 - cmdstanpy - INFO - Chain [1] done processing\n",
      "c:\\Users\\natra\\AppData\\Local\\Programs\\Python\\Python310\\lib\\site-packages\\sklearn\\metrics\\_regression.py:492: FutureWarning: 'squared' is deprecated in version 1.4 and will be removed in 1.6. To calculate the root mean squared error, use the function'root_mean_squared_error'.\n",
      "  warnings.warn(\n",
      "11:40:29 - cmdstanpy - INFO - Chain [1] start processing\n",
      "11:40:29 - cmdstanpy - INFO - Chain [1] done processing\n",
      "c:\\Users\\natra\\AppData\\Local\\Programs\\Python\\Python310\\lib\\site-packages\\sklearn\\metrics\\_regression.py:492: FutureWarning: 'squared' is deprecated in version 1.4 and will be removed in 1.6. To calculate the root mean squared error, use the function'root_mean_squared_error'.\n",
      "  warnings.warn(\n",
      "11:40:30 - cmdstanpy - INFO - Chain [1] start processing\n",
      "11:40:30 - cmdstanpy - INFO - Chain [1] done processing\n",
      "c:\\Users\\natra\\AppData\\Local\\Programs\\Python\\Python310\\lib\\site-packages\\sklearn\\metrics\\_regression.py:492: FutureWarning: 'squared' is deprecated in version 1.4 and will be removed in 1.6. To calculate the root mean squared error, use the function'root_mean_squared_error'.\n",
      "  warnings.warn(\n"
     ]
    },
    {
     "name": "stdout",
     "output_type": "stream",
     "text": [
      "R² Score: 0.540, RMSE: 3.860, MAE: 2.867\n",
      "\n",
      "Evaluating: changepoint_prior_scale=0.06999999999999999, seasonality_prior_scale=1.1, seasonality_mode=multiplicative\n"
     ]
    },
    {
     "name": "stderr",
     "output_type": "stream",
     "text": [
      "11:40:31 - cmdstanpy - INFO - Chain [1] start processing\n",
      "11:40:31 - cmdstanpy - INFO - Chain [1] done processing\n",
      "c:\\Users\\natra\\AppData\\Local\\Programs\\Python\\Python310\\lib\\site-packages\\sklearn\\metrics\\_regression.py:492: FutureWarning: 'squared' is deprecated in version 1.4 and will be removed in 1.6. To calculate the root mean squared error, use the function'root_mean_squared_error'.\n",
      "  warnings.warn(\n",
      "11:40:32 - cmdstanpy - INFO - Chain [1] start processing\n",
      "11:40:33 - cmdstanpy - INFO - Chain [1] done processing\n",
      "c:\\Users\\natra\\AppData\\Local\\Programs\\Python\\Python310\\lib\\site-packages\\sklearn\\metrics\\_regression.py:492: FutureWarning: 'squared' is deprecated in version 1.4 and will be removed in 1.6. To calculate the root mean squared error, use the function'root_mean_squared_error'.\n",
      "  warnings.warn(\n",
      "11:40:34 - cmdstanpy - INFO - Chain [1] start processing\n",
      "11:40:34 - cmdstanpy - INFO - Chain [1] done processing\n",
      "c:\\Users\\natra\\AppData\\Local\\Programs\\Python\\Python310\\lib\\site-packages\\sklearn\\metrics\\_regression.py:492: FutureWarning: 'squared' is deprecated in version 1.4 and will be removed in 1.6. To calculate the root mean squared error, use the function'root_mean_squared_error'.\n",
      "  warnings.warn(\n",
      "11:40:35 - cmdstanpy - INFO - Chain [1] start processing\n",
      "11:40:35 - cmdstanpy - INFO - Chain [1] done processing\n",
      "c:\\Users\\natra\\AppData\\Local\\Programs\\Python\\Python310\\lib\\site-packages\\sklearn\\metrics\\_regression.py:492: FutureWarning: 'squared' is deprecated in version 1.4 and will be removed in 1.6. To calculate the root mean squared error, use the function'root_mean_squared_error'.\n",
      "  warnings.warn(\n",
      "11:40:36 - cmdstanpy - INFO - Chain [1] start processing\n",
      "11:40:36 - cmdstanpy - INFO - Chain [1] done processing\n",
      "c:\\Users\\natra\\AppData\\Local\\Programs\\Python\\Python310\\lib\\site-packages\\sklearn\\metrics\\_regression.py:492: FutureWarning: 'squared' is deprecated in version 1.4 and will be removed in 1.6. To calculate the root mean squared error, use the function'root_mean_squared_error'.\n",
      "  warnings.warn(\n"
     ]
    },
    {
     "name": "stdout",
     "output_type": "stream",
     "text": [
      "R² Score: 0.581, RMSE: 3.742, MAE: 2.766\n",
      "\n",
      "Evaluating: changepoint_prior_scale=0.06999999999999999, seasonality_prior_scale=2.1, seasonality_mode=additive\n"
     ]
    },
    {
     "name": "stderr",
     "output_type": "stream",
     "text": [
      "11:40:37 - cmdstanpy - INFO - Chain [1] start processing\n",
      "11:40:37 - cmdstanpy - INFO - Chain [1] done processing\n",
      "c:\\Users\\natra\\AppData\\Local\\Programs\\Python\\Python310\\lib\\site-packages\\sklearn\\metrics\\_regression.py:492: FutureWarning: 'squared' is deprecated in version 1.4 and will be removed in 1.6. To calculate the root mean squared error, use the function'root_mean_squared_error'.\n",
      "  warnings.warn(\n",
      "11:40:38 - cmdstanpy - INFO - Chain [1] start processing\n",
      "11:40:38 - cmdstanpy - INFO - Chain [1] done processing\n",
      "c:\\Users\\natra\\AppData\\Local\\Programs\\Python\\Python310\\lib\\site-packages\\sklearn\\metrics\\_regression.py:492: FutureWarning: 'squared' is deprecated in version 1.4 and will be removed in 1.6. To calculate the root mean squared error, use the function'root_mean_squared_error'.\n",
      "  warnings.warn(\n",
      "11:40:39 - cmdstanpy - INFO - Chain [1] start processing\n",
      "11:40:39 - cmdstanpy - INFO - Chain [1] done processing\n",
      "c:\\Users\\natra\\AppData\\Local\\Programs\\Python\\Python310\\lib\\site-packages\\sklearn\\metrics\\_regression.py:492: FutureWarning: 'squared' is deprecated in version 1.4 and will be removed in 1.6. To calculate the root mean squared error, use the function'root_mean_squared_error'.\n",
      "  warnings.warn(\n",
      "11:40:39 - cmdstanpy - INFO - Chain [1] start processing\n",
      "11:40:39 - cmdstanpy - INFO - Chain [1] done processing\n",
      "c:\\Users\\natra\\AppData\\Local\\Programs\\Python\\Python310\\lib\\site-packages\\sklearn\\metrics\\_regression.py:492: FutureWarning: 'squared' is deprecated in version 1.4 and will be removed in 1.6. To calculate the root mean squared error, use the function'root_mean_squared_error'.\n",
      "  warnings.warn(\n",
      "11:40:40 - cmdstanpy - INFO - Chain [1] start processing\n",
      "11:40:40 - cmdstanpy - INFO - Chain [1] done processing\n",
      "c:\\Users\\natra\\AppData\\Local\\Programs\\Python\\Python310\\lib\\site-packages\\sklearn\\metrics\\_regression.py:492: FutureWarning: 'squared' is deprecated in version 1.4 and will be removed in 1.6. To calculate the root mean squared error, use the function'root_mean_squared_error'.\n",
      "  warnings.warn(\n"
     ]
    },
    {
     "name": "stdout",
     "output_type": "stream",
     "text": [
      "R² Score: 0.545, RMSE: 3.847, MAE: 2.844\n",
      "\n",
      "Evaluating: changepoint_prior_scale=0.06999999999999999, seasonality_prior_scale=2.1, seasonality_mode=multiplicative\n"
     ]
    },
    {
     "name": "stderr",
     "output_type": "stream",
     "text": [
      "11:40:41 - cmdstanpy - INFO - Chain [1] start processing\n",
      "11:40:41 - cmdstanpy - INFO - Chain [1] done processing\n",
      "c:\\Users\\natra\\AppData\\Local\\Programs\\Python\\Python310\\lib\\site-packages\\sklearn\\metrics\\_regression.py:492: FutureWarning: 'squared' is deprecated in version 1.4 and will be removed in 1.6. To calculate the root mean squared error, use the function'root_mean_squared_error'.\n",
      "  warnings.warn(\n",
      "11:40:42 - cmdstanpy - INFO - Chain [1] start processing\n",
      "11:40:42 - cmdstanpy - INFO - Chain [1] done processing\n",
      "c:\\Users\\natra\\AppData\\Local\\Programs\\Python\\Python310\\lib\\site-packages\\sklearn\\metrics\\_regression.py:492: FutureWarning: 'squared' is deprecated in version 1.4 and will be removed in 1.6. To calculate the root mean squared error, use the function'root_mean_squared_error'.\n",
      "  warnings.warn(\n",
      "11:40:43 - cmdstanpy - INFO - Chain [1] start processing\n",
      "11:40:43 - cmdstanpy - INFO - Chain [1] done processing\n",
      "c:\\Users\\natra\\AppData\\Local\\Programs\\Python\\Python310\\lib\\site-packages\\sklearn\\metrics\\_regression.py:492: FutureWarning: 'squared' is deprecated in version 1.4 and will be removed in 1.6. To calculate the root mean squared error, use the function'root_mean_squared_error'.\n",
      "  warnings.warn(\n",
      "11:40:44 - cmdstanpy - INFO - Chain [1] start processing\n",
      "11:40:44 - cmdstanpy - INFO - Chain [1] done processing\n",
      "c:\\Users\\natra\\AppData\\Local\\Programs\\Python\\Python310\\lib\\site-packages\\sklearn\\metrics\\_regression.py:492: FutureWarning: 'squared' is deprecated in version 1.4 and will be removed in 1.6. To calculate the root mean squared error, use the function'root_mean_squared_error'.\n",
      "  warnings.warn(\n",
      "11:40:44 - cmdstanpy - INFO - Chain [1] start processing\n",
      "11:40:45 - cmdstanpy - INFO - Chain [1] done processing\n",
      "c:\\Users\\natra\\AppData\\Local\\Programs\\Python\\Python310\\lib\\site-packages\\sklearn\\metrics\\_regression.py:492: FutureWarning: 'squared' is deprecated in version 1.4 and will be removed in 1.6. To calculate the root mean squared error, use the function'root_mean_squared_error'.\n",
      "  warnings.warn(\n"
     ]
    },
    {
     "name": "stdout",
     "output_type": "stream",
     "text": [
      "R² Score: 0.581, RMSE: 3.743, MAE: 2.768\n",
      "\n",
      "Evaluating: changepoint_prior_scale=0.06999999999999999, seasonality_prior_scale=3.1, seasonality_mode=additive\n"
     ]
    },
    {
     "name": "stderr",
     "output_type": "stream",
     "text": [
      "11:40:45 - cmdstanpy - INFO - Chain [1] start processing\n",
      "11:40:46 - cmdstanpy - INFO - Chain [1] done processing\n",
      "c:\\Users\\natra\\AppData\\Local\\Programs\\Python\\Python310\\lib\\site-packages\\sklearn\\metrics\\_regression.py:492: FutureWarning: 'squared' is deprecated in version 1.4 and will be removed in 1.6. To calculate the root mean squared error, use the function'root_mean_squared_error'.\n",
      "  warnings.warn(\n",
      "11:40:46 - cmdstanpy - INFO - Chain [1] start processing\n",
      "11:40:47 - cmdstanpy - INFO - Chain [1] done processing\n",
      "c:\\Users\\natra\\AppData\\Local\\Programs\\Python\\Python310\\lib\\site-packages\\sklearn\\metrics\\_regression.py:492: FutureWarning: 'squared' is deprecated in version 1.4 and will be removed in 1.6. To calculate the root mean squared error, use the function'root_mean_squared_error'.\n",
      "  warnings.warn(\n",
      "11:40:47 - cmdstanpy - INFO - Chain [1] start processing\n",
      "11:40:47 - cmdstanpy - INFO - Chain [1] done processing\n",
      "c:\\Users\\natra\\AppData\\Local\\Programs\\Python\\Python310\\lib\\site-packages\\sklearn\\metrics\\_regression.py:492: FutureWarning: 'squared' is deprecated in version 1.4 and will be removed in 1.6. To calculate the root mean squared error, use the function'root_mean_squared_error'.\n",
      "  warnings.warn(\n",
      "11:40:48 - cmdstanpy - INFO - Chain [1] start processing\n",
      "11:40:48 - cmdstanpy - INFO - Chain [1] done processing\n",
      "c:\\Users\\natra\\AppData\\Local\\Programs\\Python\\Python310\\lib\\site-packages\\sklearn\\metrics\\_regression.py:492: FutureWarning: 'squared' is deprecated in version 1.4 and will be removed in 1.6. To calculate the root mean squared error, use the function'root_mean_squared_error'.\n",
      "  warnings.warn(\n",
      "11:40:49 - cmdstanpy - INFO - Chain [1] start processing\n",
      "11:40:49 - cmdstanpy - INFO - Chain [1] done processing\n",
      "c:\\Users\\natra\\AppData\\Local\\Programs\\Python\\Python310\\lib\\site-packages\\sklearn\\metrics\\_regression.py:492: FutureWarning: 'squared' is deprecated in version 1.4 and will be removed in 1.6. To calculate the root mean squared error, use the function'root_mean_squared_error'.\n",
      "  warnings.warn(\n"
     ]
    },
    {
     "name": "stdout",
     "output_type": "stream",
     "text": [
      "R² Score: 0.544, RMSE: 3.849, MAE: 2.849\n",
      "\n",
      "Evaluating: changepoint_prior_scale=0.06999999999999999, seasonality_prior_scale=3.1, seasonality_mode=multiplicative\n"
     ]
    },
    {
     "name": "stderr",
     "output_type": "stream",
     "text": [
      "11:40:50 - cmdstanpy - INFO - Chain [1] start processing\n",
      "11:40:50 - cmdstanpy - INFO - Chain [1] done processing\n",
      "c:\\Users\\natra\\AppData\\Local\\Programs\\Python\\Python310\\lib\\site-packages\\sklearn\\metrics\\_regression.py:492: FutureWarning: 'squared' is deprecated in version 1.4 and will be removed in 1.6. To calculate the root mean squared error, use the function'root_mean_squared_error'.\n",
      "  warnings.warn(\n",
      "11:40:50 - cmdstanpy - INFO - Chain [1] start processing\n",
      "11:40:51 - cmdstanpy - INFO - Chain [1] done processing\n",
      "c:\\Users\\natra\\AppData\\Local\\Programs\\Python\\Python310\\lib\\site-packages\\sklearn\\metrics\\_regression.py:492: FutureWarning: 'squared' is deprecated in version 1.4 and will be removed in 1.6. To calculate the root mean squared error, use the function'root_mean_squared_error'.\n",
      "  warnings.warn(\n",
      "11:40:51 - cmdstanpy - INFO - Chain [1] start processing\n",
      "11:40:51 - cmdstanpy - INFO - Chain [1] done processing\n",
      "c:\\Users\\natra\\AppData\\Local\\Programs\\Python\\Python310\\lib\\site-packages\\sklearn\\metrics\\_regression.py:492: FutureWarning: 'squared' is deprecated in version 1.4 and will be removed in 1.6. To calculate the root mean squared error, use the function'root_mean_squared_error'.\n",
      "  warnings.warn(\n",
      "11:40:52 - cmdstanpy - INFO - Chain [1] start processing\n",
      "11:40:52 - cmdstanpy - INFO - Chain [1] done processing\n",
      "c:\\Users\\natra\\AppData\\Local\\Programs\\Python\\Python310\\lib\\site-packages\\sklearn\\metrics\\_regression.py:492: FutureWarning: 'squared' is deprecated in version 1.4 and will be removed in 1.6. To calculate the root mean squared error, use the function'root_mean_squared_error'.\n",
      "  warnings.warn(\n",
      "11:40:53 - cmdstanpy - INFO - Chain [1] start processing\n",
      "11:40:53 - cmdstanpy - INFO - Chain [1] done processing\n",
      "c:\\Users\\natra\\AppData\\Local\\Programs\\Python\\Python310\\lib\\site-packages\\sklearn\\metrics\\_regression.py:492: FutureWarning: 'squared' is deprecated in version 1.4 and will be removed in 1.6. To calculate the root mean squared error, use the function'root_mean_squared_error'.\n",
      "  warnings.warn(\n"
     ]
    },
    {
     "name": "stdout",
     "output_type": "stream",
     "text": [
      "R² Score: 0.581, RMSE: 3.742, MAE: 2.766\n",
      "\n",
      "Evaluating: changepoint_prior_scale=0.06999999999999999, seasonality_prior_scale=4.1, seasonality_mode=additive\n"
     ]
    },
    {
     "name": "stderr",
     "output_type": "stream",
     "text": [
      "11:40:53 - cmdstanpy - INFO - Chain [1] start processing\n",
      "11:40:54 - cmdstanpy - INFO - Chain [1] done processing\n",
      "c:\\Users\\natra\\AppData\\Local\\Programs\\Python\\Python310\\lib\\site-packages\\sklearn\\metrics\\_regression.py:492: FutureWarning: 'squared' is deprecated in version 1.4 and will be removed in 1.6. To calculate the root mean squared error, use the function'root_mean_squared_error'.\n",
      "  warnings.warn(\n",
      "11:40:54 - cmdstanpy - INFO - Chain [1] start processing\n",
      "11:40:55 - cmdstanpy - INFO - Chain [1] done processing\n",
      "c:\\Users\\natra\\AppData\\Local\\Programs\\Python\\Python310\\lib\\site-packages\\sklearn\\metrics\\_regression.py:492: FutureWarning: 'squared' is deprecated in version 1.4 and will be removed in 1.6. To calculate the root mean squared error, use the function'root_mean_squared_error'.\n",
      "  warnings.warn(\n",
      "11:40:55 - cmdstanpy - INFO - Chain [1] start processing\n",
      "11:40:55 - cmdstanpy - INFO - Chain [1] done processing\n",
      "c:\\Users\\natra\\AppData\\Local\\Programs\\Python\\Python310\\lib\\site-packages\\sklearn\\metrics\\_regression.py:492: FutureWarning: 'squared' is deprecated in version 1.4 and will be removed in 1.6. To calculate the root mean squared error, use the function'root_mean_squared_error'.\n",
      "  warnings.warn(\n",
      "11:40:56 - cmdstanpy - INFO - Chain [1] start processing\n",
      "11:40:56 - cmdstanpy - INFO - Chain [1] done processing\n",
      "c:\\Users\\natra\\AppData\\Local\\Programs\\Python\\Python310\\lib\\site-packages\\sklearn\\metrics\\_regression.py:492: FutureWarning: 'squared' is deprecated in version 1.4 and will be removed in 1.6. To calculate the root mean squared error, use the function'root_mean_squared_error'.\n",
      "  warnings.warn(\n",
      "11:40:57 - cmdstanpy - INFO - Chain [1] start processing\n",
      "11:40:57 - cmdstanpy - INFO - Chain [1] done processing\n",
      "c:\\Users\\natra\\AppData\\Local\\Programs\\Python\\Python310\\lib\\site-packages\\sklearn\\metrics\\_regression.py:492: FutureWarning: 'squared' is deprecated in version 1.4 and will be removed in 1.6. To calculate the root mean squared error, use the function'root_mean_squared_error'.\n",
      "  warnings.warn(\n"
     ]
    },
    {
     "name": "stdout",
     "output_type": "stream",
     "text": [
      "R² Score: 0.543, RMSE: 3.850, MAE: 2.852\n",
      "\n",
      "Evaluating: changepoint_prior_scale=0.06999999999999999, seasonality_prior_scale=4.1, seasonality_mode=multiplicative\n"
     ]
    },
    {
     "name": "stderr",
     "output_type": "stream",
     "text": [
      "11:40:57 - cmdstanpy - INFO - Chain [1] start processing\n",
      "11:40:58 - cmdstanpy - INFO - Chain [1] done processing\n",
      "c:\\Users\\natra\\AppData\\Local\\Programs\\Python\\Python310\\lib\\site-packages\\sklearn\\metrics\\_regression.py:492: FutureWarning: 'squared' is deprecated in version 1.4 and will be removed in 1.6. To calculate the root mean squared error, use the function'root_mean_squared_error'.\n",
      "  warnings.warn(\n",
      "11:40:58 - cmdstanpy - INFO - Chain [1] start processing\n",
      "11:40:58 - cmdstanpy - INFO - Chain [1] done processing\n",
      "c:\\Users\\natra\\AppData\\Local\\Programs\\Python\\Python310\\lib\\site-packages\\sklearn\\metrics\\_regression.py:492: FutureWarning: 'squared' is deprecated in version 1.4 and will be removed in 1.6. To calculate the root mean squared error, use the function'root_mean_squared_error'.\n",
      "  warnings.warn(\n",
      "11:40:59 - cmdstanpy - INFO - Chain [1] start processing\n",
      "11:40:59 - cmdstanpy - INFO - Chain [1] done processing\n",
      "c:\\Users\\natra\\AppData\\Local\\Programs\\Python\\Python310\\lib\\site-packages\\sklearn\\metrics\\_regression.py:492: FutureWarning: 'squared' is deprecated in version 1.4 and will be removed in 1.6. To calculate the root mean squared error, use the function'root_mean_squared_error'.\n",
      "  warnings.warn(\n",
      "11:41:00 - cmdstanpy - INFO - Chain [1] start processing\n",
      "11:41:00 - cmdstanpy - INFO - Chain [1] done processing\n",
      "c:\\Users\\natra\\AppData\\Local\\Programs\\Python\\Python310\\lib\\site-packages\\sklearn\\metrics\\_regression.py:492: FutureWarning: 'squared' is deprecated in version 1.4 and will be removed in 1.6. To calculate the root mean squared error, use the function'root_mean_squared_error'.\n",
      "  warnings.warn(\n",
      "11:41:00 - cmdstanpy - INFO - Chain [1] start processing\n",
      "11:41:01 - cmdstanpy - INFO - Chain [1] done processing\n",
      "c:\\Users\\natra\\AppData\\Local\\Programs\\Python\\Python310\\lib\\site-packages\\sklearn\\metrics\\_regression.py:492: FutureWarning: 'squared' is deprecated in version 1.4 and will be removed in 1.6. To calculate the root mean squared error, use the function'root_mean_squared_error'.\n",
      "  warnings.warn(\n"
     ]
    },
    {
     "name": "stdout",
     "output_type": "stream",
     "text": [
      "R² Score: 0.579, RMSE: 3.748, MAE: 2.777\n",
      "\n",
      "Evaluating: changepoint_prior_scale=0.06999999999999999, seasonality_prior_scale=5.1, seasonality_mode=additive\n"
     ]
    },
    {
     "name": "stderr",
     "output_type": "stream",
     "text": [
      "11:41:01 - cmdstanpy - INFO - Chain [1] start processing\n",
      "11:41:01 - cmdstanpy - INFO - Chain [1] done processing\n",
      "c:\\Users\\natra\\AppData\\Local\\Programs\\Python\\Python310\\lib\\site-packages\\sklearn\\metrics\\_regression.py:492: FutureWarning: 'squared' is deprecated in version 1.4 and will be removed in 1.6. To calculate the root mean squared error, use the function'root_mean_squared_error'.\n",
      "  warnings.warn(\n",
      "11:41:02 - cmdstanpy - INFO - Chain [1] start processing\n",
      "11:41:02 - cmdstanpy - INFO - Chain [1] done processing\n",
      "c:\\Users\\natra\\AppData\\Local\\Programs\\Python\\Python310\\lib\\site-packages\\sklearn\\metrics\\_regression.py:492: FutureWarning: 'squared' is deprecated in version 1.4 and will be removed in 1.6. To calculate the root mean squared error, use the function'root_mean_squared_error'.\n",
      "  warnings.warn(\n",
      "11:41:03 - cmdstanpy - INFO - Chain [1] start processing\n",
      "11:41:03 - cmdstanpy - INFO - Chain [1] done processing\n",
      "c:\\Users\\natra\\AppData\\Local\\Programs\\Python\\Python310\\lib\\site-packages\\sklearn\\metrics\\_regression.py:492: FutureWarning: 'squared' is deprecated in version 1.4 and will be removed in 1.6. To calculate the root mean squared error, use the function'root_mean_squared_error'.\n",
      "  warnings.warn(\n",
      "11:41:04 - cmdstanpy - INFO - Chain [1] start processing\n",
      "11:41:04 - cmdstanpy - INFO - Chain [1] done processing\n",
      "c:\\Users\\natra\\AppData\\Local\\Programs\\Python\\Python310\\lib\\site-packages\\sklearn\\metrics\\_regression.py:492: FutureWarning: 'squared' is deprecated in version 1.4 and will be removed in 1.6. To calculate the root mean squared error, use the function'root_mean_squared_error'.\n",
      "  warnings.warn(\n",
      "11:41:05 - cmdstanpy - INFO - Chain [1] start processing\n",
      "11:41:05 - cmdstanpy - INFO - Chain [1] done processing\n",
      "c:\\Users\\natra\\AppData\\Local\\Programs\\Python\\Python310\\lib\\site-packages\\sklearn\\metrics\\_regression.py:492: FutureWarning: 'squared' is deprecated in version 1.4 and will be removed in 1.6. To calculate the root mean squared error, use the function'root_mean_squared_error'.\n",
      "  warnings.warn(\n"
     ]
    },
    {
     "name": "stdout",
     "output_type": "stream",
     "text": [
      "R² Score: 0.543, RMSE: 3.852, MAE: 2.857\n",
      "\n",
      "Evaluating: changepoint_prior_scale=0.06999999999999999, seasonality_prior_scale=5.1, seasonality_mode=multiplicative\n"
     ]
    },
    {
     "name": "stderr",
     "output_type": "stream",
     "text": [
      "11:41:05 - cmdstanpy - INFO - Chain [1] start processing\n",
      "11:41:05 - cmdstanpy - INFO - Chain [1] done processing\n",
      "c:\\Users\\natra\\AppData\\Local\\Programs\\Python\\Python310\\lib\\site-packages\\sklearn\\metrics\\_regression.py:492: FutureWarning: 'squared' is deprecated in version 1.4 and will be removed in 1.6. To calculate the root mean squared error, use the function'root_mean_squared_error'.\n",
      "  warnings.warn(\n",
      "11:41:06 - cmdstanpy - INFO - Chain [1] start processing\n",
      "11:41:06 - cmdstanpy - INFO - Chain [1] done processing\n",
      "c:\\Users\\natra\\AppData\\Local\\Programs\\Python\\Python310\\lib\\site-packages\\sklearn\\metrics\\_regression.py:492: FutureWarning: 'squared' is deprecated in version 1.4 and will be removed in 1.6. To calculate the root mean squared error, use the function'root_mean_squared_error'.\n",
      "  warnings.warn(\n",
      "11:41:07 - cmdstanpy - INFO - Chain [1] start processing\n",
      "11:41:07 - cmdstanpy - INFO - Chain [1] done processing\n",
      "c:\\Users\\natra\\AppData\\Local\\Programs\\Python\\Python310\\lib\\site-packages\\sklearn\\metrics\\_regression.py:492: FutureWarning: 'squared' is deprecated in version 1.4 and will be removed in 1.6. To calculate the root mean squared error, use the function'root_mean_squared_error'.\n",
      "  warnings.warn(\n",
      "11:41:07 - cmdstanpy - INFO - Chain [1] start processing\n",
      "11:41:08 - cmdstanpy - INFO - Chain [1] done processing\n",
      "c:\\Users\\natra\\AppData\\Local\\Programs\\Python\\Python310\\lib\\site-packages\\sklearn\\metrics\\_regression.py:492: FutureWarning: 'squared' is deprecated in version 1.4 and will be removed in 1.6. To calculate the root mean squared error, use the function'root_mean_squared_error'.\n",
      "  warnings.warn(\n",
      "11:41:08 - cmdstanpy - INFO - Chain [1] start processing\n",
      "11:41:08 - cmdstanpy - INFO - Chain [1] done processing\n",
      "c:\\Users\\natra\\AppData\\Local\\Programs\\Python\\Python310\\lib\\site-packages\\sklearn\\metrics\\_regression.py:492: FutureWarning: 'squared' is deprecated in version 1.4 and will be removed in 1.6. To calculate the root mean squared error, use the function'root_mean_squared_error'.\n",
      "  warnings.warn(\n"
     ]
    },
    {
     "name": "stdout",
     "output_type": "stream",
     "text": [
      "R² Score: 0.581, RMSE: 3.742, MAE: 2.766\n",
      "\n",
      "Evaluating: changepoint_prior_scale=0.06999999999999999, seasonality_prior_scale=6.1, seasonality_mode=additive\n"
     ]
    },
    {
     "name": "stderr",
     "output_type": "stream",
     "text": [
      "11:41:09 - cmdstanpy - INFO - Chain [1] start processing\n",
      "11:41:09 - cmdstanpy - INFO - Chain [1] done processing\n",
      "c:\\Users\\natra\\AppData\\Local\\Programs\\Python\\Python310\\lib\\site-packages\\sklearn\\metrics\\_regression.py:492: FutureWarning: 'squared' is deprecated in version 1.4 and will be removed in 1.6. To calculate the root mean squared error, use the function'root_mean_squared_error'.\n",
      "  warnings.warn(\n",
      "11:41:10 - cmdstanpy - INFO - Chain [1] start processing\n",
      "11:41:10 - cmdstanpy - INFO - Chain [1] done processing\n",
      "c:\\Users\\natra\\AppData\\Local\\Programs\\Python\\Python310\\lib\\site-packages\\sklearn\\metrics\\_regression.py:492: FutureWarning: 'squared' is deprecated in version 1.4 and will be removed in 1.6. To calculate the root mean squared error, use the function'root_mean_squared_error'.\n",
      "  warnings.warn(\n",
      "11:41:11 - cmdstanpy - INFO - Chain [1] start processing\n",
      "11:41:11 - cmdstanpy - INFO - Chain [1] done processing\n",
      "c:\\Users\\natra\\AppData\\Local\\Programs\\Python\\Python310\\lib\\site-packages\\sklearn\\metrics\\_regression.py:492: FutureWarning: 'squared' is deprecated in version 1.4 and will be removed in 1.6. To calculate the root mean squared error, use the function'root_mean_squared_error'.\n",
      "  warnings.warn(\n",
      "11:41:12 - cmdstanpy - INFO - Chain [1] start processing\n",
      "11:41:12 - cmdstanpy - INFO - Chain [1] done processing\n",
      "c:\\Users\\natra\\AppData\\Local\\Programs\\Python\\Python310\\lib\\site-packages\\sklearn\\metrics\\_regression.py:492: FutureWarning: 'squared' is deprecated in version 1.4 and will be removed in 1.6. To calculate the root mean squared error, use the function'root_mean_squared_error'.\n",
      "  warnings.warn(\n",
      "11:41:12 - cmdstanpy - INFO - Chain [1] start processing\n",
      "11:41:13 - cmdstanpy - INFO - Chain [1] done processing\n",
      "c:\\Users\\natra\\AppData\\Local\\Programs\\Python\\Python310\\lib\\site-packages\\sklearn\\metrics\\_regression.py:492: FutureWarning: 'squared' is deprecated in version 1.4 and will be removed in 1.6. To calculate the root mean squared error, use the function'root_mean_squared_error'.\n",
      "  warnings.warn(\n"
     ]
    },
    {
     "name": "stdout",
     "output_type": "stream",
     "text": [
      "R² Score: 0.542, RMSE: 3.856, MAE: 2.859\n",
      "\n",
      "Evaluating: changepoint_prior_scale=0.06999999999999999, seasonality_prior_scale=6.1, seasonality_mode=multiplicative\n"
     ]
    },
    {
     "name": "stderr",
     "output_type": "stream",
     "text": [
      "11:41:14 - cmdstanpy - INFO - Chain [1] start processing\n",
      "11:41:14 - cmdstanpy - INFO - Chain [1] done processing\n",
      "c:\\Users\\natra\\AppData\\Local\\Programs\\Python\\Python310\\lib\\site-packages\\sklearn\\metrics\\_regression.py:492: FutureWarning: 'squared' is deprecated in version 1.4 and will be removed in 1.6. To calculate the root mean squared error, use the function'root_mean_squared_error'.\n",
      "  warnings.warn(\n",
      "11:41:15 - cmdstanpy - INFO - Chain [1] start processing\n",
      "11:41:15 - cmdstanpy - INFO - Chain [1] done processing\n",
      "c:\\Users\\natra\\AppData\\Local\\Programs\\Python\\Python310\\lib\\site-packages\\sklearn\\metrics\\_regression.py:492: FutureWarning: 'squared' is deprecated in version 1.4 and will be removed in 1.6. To calculate the root mean squared error, use the function'root_mean_squared_error'.\n",
      "  warnings.warn(\n",
      "11:41:15 - cmdstanpy - INFO - Chain [1] start processing\n",
      "11:41:16 - cmdstanpy - INFO - Chain [1] done processing\n",
      "c:\\Users\\natra\\AppData\\Local\\Programs\\Python\\Python310\\lib\\site-packages\\sklearn\\metrics\\_regression.py:492: FutureWarning: 'squared' is deprecated in version 1.4 and will be removed in 1.6. To calculate the root mean squared error, use the function'root_mean_squared_error'.\n",
      "  warnings.warn(\n",
      "11:41:16 - cmdstanpy - INFO - Chain [1] start processing\n",
      "11:41:16 - cmdstanpy - INFO - Chain [1] done processing\n",
      "c:\\Users\\natra\\AppData\\Local\\Programs\\Python\\Python310\\lib\\site-packages\\sklearn\\metrics\\_regression.py:492: FutureWarning: 'squared' is deprecated in version 1.4 and will be removed in 1.6. To calculate the root mean squared error, use the function'root_mean_squared_error'.\n",
      "  warnings.warn(\n",
      "11:41:17 - cmdstanpy - INFO - Chain [1] start processing\n",
      "11:41:17 - cmdstanpy - INFO - Chain [1] done processing\n",
      "c:\\Users\\natra\\AppData\\Local\\Programs\\Python\\Python310\\lib\\site-packages\\sklearn\\metrics\\_regression.py:492: FutureWarning: 'squared' is deprecated in version 1.4 and will be removed in 1.6. To calculate the root mean squared error, use the function'root_mean_squared_error'.\n",
      "  warnings.warn(\n"
     ]
    },
    {
     "name": "stdout",
     "output_type": "stream",
     "text": [
      "R² Score: 0.566, RMSE: 3.789, MAE: 2.826\n",
      "\n",
      "Evaluating: changepoint_prior_scale=0.06999999999999999, seasonality_prior_scale=7.1, seasonality_mode=additive\n"
     ]
    },
    {
     "name": "stderr",
     "output_type": "stream",
     "text": [
      "11:41:18 - cmdstanpy - INFO - Chain [1] start processing\n",
      "11:41:18 - cmdstanpy - INFO - Chain [1] done processing\n",
      "c:\\Users\\natra\\AppData\\Local\\Programs\\Python\\Python310\\lib\\site-packages\\sklearn\\metrics\\_regression.py:492: FutureWarning: 'squared' is deprecated in version 1.4 and will be removed in 1.6. To calculate the root mean squared error, use the function'root_mean_squared_error'.\n",
      "  warnings.warn(\n",
      "11:41:19 - cmdstanpy - INFO - Chain [1] start processing\n",
      "11:41:20 - cmdstanpy - INFO - Chain [1] done processing\n",
      "c:\\Users\\natra\\AppData\\Local\\Programs\\Python\\Python310\\lib\\site-packages\\sklearn\\metrics\\_regression.py:492: FutureWarning: 'squared' is deprecated in version 1.4 and will be removed in 1.6. To calculate the root mean squared error, use the function'root_mean_squared_error'.\n",
      "  warnings.warn(\n",
      "11:41:22 - cmdstanpy - INFO - Chain [1] start processing\n",
      "11:41:23 - cmdstanpy - INFO - Chain [1] done processing\n",
      "c:\\Users\\natra\\AppData\\Local\\Programs\\Python\\Python310\\lib\\site-packages\\sklearn\\metrics\\_regression.py:492: FutureWarning: 'squared' is deprecated in version 1.4 and will be removed in 1.6. To calculate the root mean squared error, use the function'root_mean_squared_error'.\n",
      "  warnings.warn(\n",
      "11:41:24 - cmdstanpy - INFO - Chain [1] start processing\n",
      "11:41:25 - cmdstanpy - INFO - Chain [1] done processing\n",
      "c:\\Users\\natra\\AppData\\Local\\Programs\\Python\\Python310\\lib\\site-packages\\sklearn\\metrics\\_regression.py:492: FutureWarning: 'squared' is deprecated in version 1.4 and will be removed in 1.6. To calculate the root mean squared error, use the function'root_mean_squared_error'.\n",
      "  warnings.warn(\n",
      "11:41:26 - cmdstanpy - INFO - Chain [1] start processing\n",
      "11:41:27 - cmdstanpy - INFO - Chain [1] done processing\n",
      "c:\\Users\\natra\\AppData\\Local\\Programs\\Python\\Python310\\lib\\site-packages\\sklearn\\metrics\\_regression.py:492: FutureWarning: 'squared' is deprecated in version 1.4 and will be removed in 1.6. To calculate the root mean squared error, use the function'root_mean_squared_error'.\n",
      "  warnings.warn(\n"
     ]
    },
    {
     "name": "stdout",
     "output_type": "stream",
     "text": [
      "R² Score: 0.541, RMSE: 3.859, MAE: 2.863\n",
      "\n",
      "Evaluating: changepoint_prior_scale=0.06999999999999999, seasonality_prior_scale=7.1, seasonality_mode=multiplicative\n"
     ]
    },
    {
     "name": "stderr",
     "output_type": "stream",
     "text": [
      "11:41:29 - cmdstanpy - INFO - Chain [1] start processing\n",
      "11:41:29 - cmdstanpy - INFO - Chain [1] done processing\n",
      "c:\\Users\\natra\\AppData\\Local\\Programs\\Python\\Python310\\lib\\site-packages\\sklearn\\metrics\\_regression.py:492: FutureWarning: 'squared' is deprecated in version 1.4 and will be removed in 1.6. To calculate the root mean squared error, use the function'root_mean_squared_error'.\n",
      "  warnings.warn(\n",
      "11:41:30 - cmdstanpy - INFO - Chain [1] start processing\n",
      "11:41:30 - cmdstanpy - INFO - Chain [1] done processing\n",
      "c:\\Users\\natra\\AppData\\Local\\Programs\\Python\\Python310\\lib\\site-packages\\sklearn\\metrics\\_regression.py:492: FutureWarning: 'squared' is deprecated in version 1.4 and will be removed in 1.6. To calculate the root mean squared error, use the function'root_mean_squared_error'.\n",
      "  warnings.warn(\n",
      "11:41:31 - cmdstanpy - INFO - Chain [1] start processing\n",
      "11:41:31 - cmdstanpy - INFO - Chain [1] done processing\n",
      "c:\\Users\\natra\\AppData\\Local\\Programs\\Python\\Python310\\lib\\site-packages\\sklearn\\metrics\\_regression.py:492: FutureWarning: 'squared' is deprecated in version 1.4 and will be removed in 1.6. To calculate the root mean squared error, use the function'root_mean_squared_error'.\n",
      "  warnings.warn(\n",
      "11:41:31 - cmdstanpy - INFO - Chain [1] start processing\n",
      "11:41:32 - cmdstanpy - INFO - Chain [1] done processing\n",
      "c:\\Users\\natra\\AppData\\Local\\Programs\\Python\\Python310\\lib\\site-packages\\sklearn\\metrics\\_regression.py:492: FutureWarning: 'squared' is deprecated in version 1.4 and will be removed in 1.6. To calculate the root mean squared error, use the function'root_mean_squared_error'.\n",
      "  warnings.warn(\n",
      "11:41:32 - cmdstanpy - INFO - Chain [1] start processing\n",
      "11:41:32 - cmdstanpy - INFO - Chain [1] done processing\n",
      "c:\\Users\\natra\\AppData\\Local\\Programs\\Python\\Python310\\lib\\site-packages\\sklearn\\metrics\\_regression.py:492: FutureWarning: 'squared' is deprecated in version 1.4 and will be removed in 1.6. To calculate the root mean squared error, use the function'root_mean_squared_error'.\n",
      "  warnings.warn(\n"
     ]
    },
    {
     "name": "stdout",
     "output_type": "stream",
     "text": [
      "R² Score: 0.580, RMSE: 3.745, MAE: 2.768\n",
      "\n",
      "Evaluating: changepoint_prior_scale=0.06999999999999999, seasonality_prior_scale=8.1, seasonality_mode=additive\n"
     ]
    },
    {
     "name": "stderr",
     "output_type": "stream",
     "text": [
      "11:41:33 - cmdstanpy - INFO - Chain [1] start processing\n",
      "11:41:33 - cmdstanpy - INFO - Chain [1] done processing\n",
      "c:\\Users\\natra\\AppData\\Local\\Programs\\Python\\Python310\\lib\\site-packages\\sklearn\\metrics\\_regression.py:492: FutureWarning: 'squared' is deprecated in version 1.4 and will be removed in 1.6. To calculate the root mean squared error, use the function'root_mean_squared_error'.\n",
      "  warnings.warn(\n",
      "11:41:34 - cmdstanpy - INFO - Chain [1] start processing\n",
      "11:41:34 - cmdstanpy - INFO - Chain [1] done processing\n",
      "c:\\Users\\natra\\AppData\\Local\\Programs\\Python\\Python310\\lib\\site-packages\\sklearn\\metrics\\_regression.py:492: FutureWarning: 'squared' is deprecated in version 1.4 and will be removed in 1.6. To calculate the root mean squared error, use the function'root_mean_squared_error'.\n",
      "  warnings.warn(\n",
      "11:41:35 - cmdstanpy - INFO - Chain [1] start processing\n",
      "11:41:35 - cmdstanpy - INFO - Chain [1] done processing\n",
      "c:\\Users\\natra\\AppData\\Local\\Programs\\Python\\Python310\\lib\\site-packages\\sklearn\\metrics\\_regression.py:492: FutureWarning: 'squared' is deprecated in version 1.4 and will be removed in 1.6. To calculate the root mean squared error, use the function'root_mean_squared_error'.\n",
      "  warnings.warn(\n",
      "11:41:36 - cmdstanpy - INFO - Chain [1] start processing\n",
      "11:41:36 - cmdstanpy - INFO - Chain [1] done processing\n",
      "c:\\Users\\natra\\AppData\\Local\\Programs\\Python\\Python310\\lib\\site-packages\\sklearn\\metrics\\_regression.py:492: FutureWarning: 'squared' is deprecated in version 1.4 and will be removed in 1.6. To calculate the root mean squared error, use the function'root_mean_squared_error'.\n",
      "  warnings.warn(\n",
      "11:41:36 - cmdstanpy - INFO - Chain [1] start processing\n",
      "11:41:37 - cmdstanpy - INFO - Chain [1] done processing\n",
      "c:\\Users\\natra\\AppData\\Local\\Programs\\Python\\Python310\\lib\\site-packages\\sklearn\\metrics\\_regression.py:492: FutureWarning: 'squared' is deprecated in version 1.4 and will be removed in 1.6. To calculate the root mean squared error, use the function'root_mean_squared_error'.\n",
      "  warnings.warn(\n"
     ]
    },
    {
     "name": "stdout",
     "output_type": "stream",
     "text": [
      "R² Score: 0.541, RMSE: 3.857, MAE: 2.862\n",
      "\n",
      "Evaluating: changepoint_prior_scale=0.06999999999999999, seasonality_prior_scale=8.1, seasonality_mode=multiplicative\n"
     ]
    },
    {
     "name": "stderr",
     "output_type": "stream",
     "text": [
      "11:41:37 - cmdstanpy - INFO - Chain [1] start processing\n",
      "11:41:37 - cmdstanpy - INFO - Chain [1] done processing\n",
      "c:\\Users\\natra\\AppData\\Local\\Programs\\Python\\Python310\\lib\\site-packages\\sklearn\\metrics\\_regression.py:492: FutureWarning: 'squared' is deprecated in version 1.4 and will be removed in 1.6. To calculate the root mean squared error, use the function'root_mean_squared_error'.\n",
      "  warnings.warn(\n",
      "11:41:38 - cmdstanpy - INFO - Chain [1] start processing\n",
      "11:41:38 - cmdstanpy - INFO - Chain [1] done processing\n",
      "c:\\Users\\natra\\AppData\\Local\\Programs\\Python\\Python310\\lib\\site-packages\\sklearn\\metrics\\_regression.py:492: FutureWarning: 'squared' is deprecated in version 1.4 and will be removed in 1.6. To calculate the root mean squared error, use the function'root_mean_squared_error'.\n",
      "  warnings.warn(\n",
      "11:41:39 - cmdstanpy - INFO - Chain [1] start processing\n",
      "11:41:39 - cmdstanpy - INFO - Chain [1] done processing\n",
      "c:\\Users\\natra\\AppData\\Local\\Programs\\Python\\Python310\\lib\\site-packages\\sklearn\\metrics\\_regression.py:492: FutureWarning: 'squared' is deprecated in version 1.4 and will be removed in 1.6. To calculate the root mean squared error, use the function'root_mean_squared_error'.\n",
      "  warnings.warn(\n",
      "11:41:40 - cmdstanpy - INFO - Chain [1] start processing\n",
      "11:41:40 - cmdstanpy - INFO - Chain [1] done processing\n",
      "c:\\Users\\natra\\AppData\\Local\\Programs\\Python\\Python310\\lib\\site-packages\\sklearn\\metrics\\_regression.py:492: FutureWarning: 'squared' is deprecated in version 1.4 and will be removed in 1.6. To calculate the root mean squared error, use the function'root_mean_squared_error'.\n",
      "  warnings.warn(\n",
      "11:41:41 - cmdstanpy - INFO - Chain [1] start processing\n",
      "11:41:41 - cmdstanpy - INFO - Chain [1] done processing\n",
      "c:\\Users\\natra\\AppData\\Local\\Programs\\Python\\Python310\\lib\\site-packages\\sklearn\\metrics\\_regression.py:492: FutureWarning: 'squared' is deprecated in version 1.4 and will be removed in 1.6. To calculate the root mean squared error, use the function'root_mean_squared_error'.\n",
      "  warnings.warn(\n"
     ]
    },
    {
     "name": "stdout",
     "output_type": "stream",
     "text": [
      "R² Score: 0.567, RMSE: 3.785, MAE: 2.820\n",
      "\n",
      "Evaluating: changepoint_prior_scale=0.06999999999999999, seasonality_prior_scale=9.1, seasonality_mode=additive\n"
     ]
    },
    {
     "name": "stderr",
     "output_type": "stream",
     "text": [
      "11:41:41 - cmdstanpy - INFO - Chain [1] start processing\n",
      "11:41:42 - cmdstanpy - INFO - Chain [1] done processing\n",
      "c:\\Users\\natra\\AppData\\Local\\Programs\\Python\\Python310\\lib\\site-packages\\sklearn\\metrics\\_regression.py:492: FutureWarning: 'squared' is deprecated in version 1.4 and will be removed in 1.6. To calculate the root mean squared error, use the function'root_mean_squared_error'.\n",
      "  warnings.warn(\n",
      "11:41:42 - cmdstanpy - INFO - Chain [1] start processing\n",
      "11:41:43 - cmdstanpy - INFO - Chain [1] done processing\n",
      "c:\\Users\\natra\\AppData\\Local\\Programs\\Python\\Python310\\lib\\site-packages\\sklearn\\metrics\\_regression.py:492: FutureWarning: 'squared' is deprecated in version 1.4 and will be removed in 1.6. To calculate the root mean squared error, use the function'root_mean_squared_error'.\n",
      "  warnings.warn(\n",
      "11:41:44 - cmdstanpy - INFO - Chain [1] start processing\n",
      "11:41:44 - cmdstanpy - INFO - Chain [1] done processing\n",
      "c:\\Users\\natra\\AppData\\Local\\Programs\\Python\\Python310\\lib\\site-packages\\sklearn\\metrics\\_regression.py:492: FutureWarning: 'squared' is deprecated in version 1.4 and will be removed in 1.6. To calculate the root mean squared error, use the function'root_mean_squared_error'.\n",
      "  warnings.warn(\n",
      "11:41:45 - cmdstanpy - INFO - Chain [1] start processing\n",
      "11:41:45 - cmdstanpy - INFO - Chain [1] done processing\n",
      "c:\\Users\\natra\\AppData\\Local\\Programs\\Python\\Python310\\lib\\site-packages\\sklearn\\metrics\\_regression.py:492: FutureWarning: 'squared' is deprecated in version 1.4 and will be removed in 1.6. To calculate the root mean squared error, use the function'root_mean_squared_error'.\n",
      "  warnings.warn(\n",
      "11:41:46 - cmdstanpy - INFO - Chain [1] start processing\n",
      "11:41:46 - cmdstanpy - INFO - Chain [1] done processing\n",
      "c:\\Users\\natra\\AppData\\Local\\Programs\\Python\\Python310\\lib\\site-packages\\sklearn\\metrics\\_regression.py:492: FutureWarning: 'squared' is deprecated in version 1.4 and will be removed in 1.6. To calculate the root mean squared error, use the function'root_mean_squared_error'.\n",
      "  warnings.warn(\n"
     ]
    },
    {
     "name": "stdout",
     "output_type": "stream",
     "text": [
      "R² Score: 0.541, RMSE: 3.858, MAE: 2.864\n",
      "\n",
      "Evaluating: changepoint_prior_scale=0.06999999999999999, seasonality_prior_scale=9.1, seasonality_mode=multiplicative\n"
     ]
    },
    {
     "name": "stderr",
     "output_type": "stream",
     "text": [
      "11:41:47 - cmdstanpy - INFO - Chain [1] start processing\n",
      "11:41:47 - cmdstanpy - INFO - Chain [1] done processing\n",
      "c:\\Users\\natra\\AppData\\Local\\Programs\\Python\\Python310\\lib\\site-packages\\sklearn\\metrics\\_regression.py:492: FutureWarning: 'squared' is deprecated in version 1.4 and will be removed in 1.6. To calculate the root mean squared error, use the function'root_mean_squared_error'.\n",
      "  warnings.warn(\n",
      "11:41:48 - cmdstanpy - INFO - Chain [1] start processing\n",
      "11:41:48 - cmdstanpy - INFO - Chain [1] done processing\n",
      "c:\\Users\\natra\\AppData\\Local\\Programs\\Python\\Python310\\lib\\site-packages\\sklearn\\metrics\\_regression.py:492: FutureWarning: 'squared' is deprecated in version 1.4 and will be removed in 1.6. To calculate the root mean squared error, use the function'root_mean_squared_error'.\n",
      "  warnings.warn(\n",
      "11:41:49 - cmdstanpy - INFO - Chain [1] start processing\n",
      "11:41:49 - cmdstanpy - INFO - Chain [1] done processing\n",
      "c:\\Users\\natra\\AppData\\Local\\Programs\\Python\\Python310\\lib\\site-packages\\sklearn\\metrics\\_regression.py:492: FutureWarning: 'squared' is deprecated in version 1.4 and will be removed in 1.6. To calculate the root mean squared error, use the function'root_mean_squared_error'.\n",
      "  warnings.warn(\n",
      "11:41:49 - cmdstanpy - INFO - Chain [1] start processing\n",
      "11:41:50 - cmdstanpy - INFO - Chain [1] done processing\n",
      "c:\\Users\\natra\\AppData\\Local\\Programs\\Python\\Python310\\lib\\site-packages\\sklearn\\metrics\\_regression.py:492: FutureWarning: 'squared' is deprecated in version 1.4 and will be removed in 1.6. To calculate the root mean squared error, use the function'root_mean_squared_error'.\n",
      "  warnings.warn(\n",
      "11:41:50 - cmdstanpy - INFO - Chain [1] start processing\n",
      "11:41:50 - cmdstanpy - INFO - Chain [1] done processing\n",
      "c:\\Users\\natra\\AppData\\Local\\Programs\\Python\\Python310\\lib\\site-packages\\sklearn\\metrics\\_regression.py:492: FutureWarning: 'squared' is deprecated in version 1.4 and will be removed in 1.6. To calculate the root mean squared error, use the function'root_mean_squared_error'.\n",
      "  warnings.warn(\n"
     ]
    },
    {
     "name": "stdout",
     "output_type": "stream",
     "text": [
      "R² Score: 0.567, RMSE: 3.784, MAE: 2.820\n",
      "\n",
      "Evaluating: changepoint_prior_scale=0.06999999999999999, seasonality_prior_scale=10.1, seasonality_mode=additive\n"
     ]
    },
    {
     "name": "stderr",
     "output_type": "stream",
     "text": [
      "11:41:51 - cmdstanpy - INFO - Chain [1] start processing\n",
      "11:41:51 - cmdstanpy - INFO - Chain [1] done processing\n",
      "c:\\Users\\natra\\AppData\\Local\\Programs\\Python\\Python310\\lib\\site-packages\\sklearn\\metrics\\_regression.py:492: FutureWarning: 'squared' is deprecated in version 1.4 and will be removed in 1.6. To calculate the root mean squared error, use the function'root_mean_squared_error'.\n",
      "  warnings.warn(\n",
      "11:41:52 - cmdstanpy - INFO - Chain [1] start processing\n",
      "11:41:52 - cmdstanpy - INFO - Chain [1] done processing\n",
      "c:\\Users\\natra\\AppData\\Local\\Programs\\Python\\Python310\\lib\\site-packages\\sklearn\\metrics\\_regression.py:492: FutureWarning: 'squared' is deprecated in version 1.4 and will be removed in 1.6. To calculate the root mean squared error, use the function'root_mean_squared_error'.\n",
      "  warnings.warn(\n",
      "11:41:53 - cmdstanpy - INFO - Chain [1] start processing\n",
      "11:41:53 - cmdstanpy - INFO - Chain [1] done processing\n",
      "c:\\Users\\natra\\AppData\\Local\\Programs\\Python\\Python310\\lib\\site-packages\\sklearn\\metrics\\_regression.py:492: FutureWarning: 'squared' is deprecated in version 1.4 and will be removed in 1.6. To calculate the root mean squared error, use the function'root_mean_squared_error'.\n",
      "  warnings.warn(\n",
      "11:41:53 - cmdstanpy - INFO - Chain [1] start processing\n",
      "11:41:54 - cmdstanpy - INFO - Chain [1] done processing\n",
      "c:\\Users\\natra\\AppData\\Local\\Programs\\Python\\Python310\\lib\\site-packages\\sklearn\\metrics\\_regression.py:492: FutureWarning: 'squared' is deprecated in version 1.4 and will be removed in 1.6. To calculate the root mean squared error, use the function'root_mean_squared_error'.\n",
      "  warnings.warn(\n",
      "11:41:54 - cmdstanpy - INFO - Chain [1] start processing\n",
      "11:41:54 - cmdstanpy - INFO - Chain [1] done processing\n",
      "c:\\Users\\natra\\AppData\\Local\\Programs\\Python\\Python310\\lib\\site-packages\\sklearn\\metrics\\_regression.py:492: FutureWarning: 'squared' is deprecated in version 1.4 and will be removed in 1.6. To calculate the root mean squared error, use the function'root_mean_squared_error'.\n",
      "  warnings.warn(\n"
     ]
    },
    {
     "name": "stdout",
     "output_type": "stream",
     "text": [
      "R² Score: 0.541, RMSE: 3.859, MAE: 2.867\n",
      "\n",
      "Evaluating: changepoint_prior_scale=0.06999999999999999, seasonality_prior_scale=10.1, seasonality_mode=multiplicative\n"
     ]
    },
    {
     "name": "stderr",
     "output_type": "stream",
     "text": [
      "11:41:55 - cmdstanpy - INFO - Chain [1] start processing\n",
      "11:41:55 - cmdstanpy - INFO - Chain [1] done processing\n",
      "c:\\Users\\natra\\AppData\\Local\\Programs\\Python\\Python310\\lib\\site-packages\\sklearn\\metrics\\_regression.py:492: FutureWarning: 'squared' is deprecated in version 1.4 and will be removed in 1.6. To calculate the root mean squared error, use the function'root_mean_squared_error'.\n",
      "  warnings.warn(\n",
      "11:41:56 - cmdstanpy - INFO - Chain [1] start processing\n",
      "11:41:56 - cmdstanpy - INFO - Chain [1] done processing\n",
      "c:\\Users\\natra\\AppData\\Local\\Programs\\Python\\Python310\\lib\\site-packages\\sklearn\\metrics\\_regression.py:492: FutureWarning: 'squared' is deprecated in version 1.4 and will be removed in 1.6. To calculate the root mean squared error, use the function'root_mean_squared_error'.\n",
      "  warnings.warn(\n",
      "11:41:57 - cmdstanpy - INFO - Chain [1] start processing\n",
      "11:41:57 - cmdstanpy - INFO - Chain [1] done processing\n",
      "c:\\Users\\natra\\AppData\\Local\\Programs\\Python\\Python310\\lib\\site-packages\\sklearn\\metrics\\_regression.py:492: FutureWarning: 'squared' is deprecated in version 1.4 and will be removed in 1.6. To calculate the root mean squared error, use the function'root_mean_squared_error'.\n",
      "  warnings.warn(\n",
      "11:41:58 - cmdstanpy - INFO - Chain [1] start processing\n",
      "11:41:58 - cmdstanpy - INFO - Chain [1] done processing\n",
      "c:\\Users\\natra\\AppData\\Local\\Programs\\Python\\Python310\\lib\\site-packages\\sklearn\\metrics\\_regression.py:492: FutureWarning: 'squared' is deprecated in version 1.4 and will be removed in 1.6. To calculate the root mean squared error, use the function'root_mean_squared_error'.\n",
      "  warnings.warn(\n",
      "11:41:59 - cmdstanpy - INFO - Chain [1] start processing\n",
      "11:41:59 - cmdstanpy - INFO - Chain [1] done processing\n",
      "c:\\Users\\natra\\AppData\\Local\\Programs\\Python\\Python310\\lib\\site-packages\\sklearn\\metrics\\_regression.py:492: FutureWarning: 'squared' is deprecated in version 1.4 and will be removed in 1.6. To calculate the root mean squared error, use the function'root_mean_squared_error'.\n",
      "  warnings.warn(\n"
     ]
    },
    {
     "name": "stdout",
     "output_type": "stream",
     "text": [
      "R² Score: 0.595, RMSE: 3.694, MAE: 2.701\n",
      "\n",
      "Evaluating: changepoint_prior_scale=0.08, seasonality_prior_scale=0.1, seasonality_mode=additive\n"
     ]
    },
    {
     "name": "stderr",
     "output_type": "stream",
     "text": [
      "11:41:59 - cmdstanpy - INFO - Chain [1] start processing\n",
      "11:42:00 - cmdstanpy - INFO - Chain [1] done processing\n",
      "c:\\Users\\natra\\AppData\\Local\\Programs\\Python\\Python310\\lib\\site-packages\\sklearn\\metrics\\_regression.py:492: FutureWarning: 'squared' is deprecated in version 1.4 and will be removed in 1.6. To calculate the root mean squared error, use the function'root_mean_squared_error'.\n",
      "  warnings.warn(\n",
      "11:42:01 - cmdstanpy - INFO - Chain [1] start processing\n",
      "11:42:01 - cmdstanpy - INFO - Chain [1] done processing\n",
      "c:\\Users\\natra\\AppData\\Local\\Programs\\Python\\Python310\\lib\\site-packages\\sklearn\\metrics\\_regression.py:492: FutureWarning: 'squared' is deprecated in version 1.4 and will be removed in 1.6. To calculate the root mean squared error, use the function'root_mean_squared_error'.\n",
      "  warnings.warn(\n",
      "11:42:02 - cmdstanpy - INFO - Chain [1] start processing\n",
      "11:42:02 - cmdstanpy - INFO - Chain [1] done processing\n",
      "c:\\Users\\natra\\AppData\\Local\\Programs\\Python\\Python310\\lib\\site-packages\\sklearn\\metrics\\_regression.py:492: FutureWarning: 'squared' is deprecated in version 1.4 and will be removed in 1.6. To calculate the root mean squared error, use the function'root_mean_squared_error'.\n",
      "  warnings.warn(\n",
      "11:42:02 - cmdstanpy - INFO - Chain [1] start processing\n",
      "11:42:03 - cmdstanpy - INFO - Chain [1] done processing\n",
      "c:\\Users\\natra\\AppData\\Local\\Programs\\Python\\Python310\\lib\\site-packages\\sklearn\\metrics\\_regression.py:492: FutureWarning: 'squared' is deprecated in version 1.4 and will be removed in 1.6. To calculate the root mean squared error, use the function'root_mean_squared_error'.\n",
      "  warnings.warn(\n",
      "11:42:03 - cmdstanpy - INFO - Chain [1] start processing\n",
      "11:42:04 - cmdstanpy - INFO - Chain [1] done processing\n",
      "c:\\Users\\natra\\AppData\\Local\\Programs\\Python\\Python310\\lib\\site-packages\\sklearn\\metrics\\_regression.py:492: FutureWarning: 'squared' is deprecated in version 1.4 and will be removed in 1.6. To calculate the root mean squared error, use the function'root_mean_squared_error'.\n",
      "  warnings.warn(\n"
     ]
    },
    {
     "name": "stdout",
     "output_type": "stream",
     "text": [
      "R² Score: 0.534, RMSE: 3.877, MAE: 2.883\n",
      "\n",
      "Evaluating: changepoint_prior_scale=0.08, seasonality_prior_scale=0.1, seasonality_mode=multiplicative\n"
     ]
    },
    {
     "name": "stderr",
     "output_type": "stream",
     "text": [
      "11:42:05 - cmdstanpy - INFO - Chain [1] start processing\n",
      "11:42:05 - cmdstanpy - INFO - Chain [1] done processing\n",
      "c:\\Users\\natra\\AppData\\Local\\Programs\\Python\\Python310\\lib\\site-packages\\sklearn\\metrics\\_regression.py:492: FutureWarning: 'squared' is deprecated in version 1.4 and will be removed in 1.6. To calculate the root mean squared error, use the function'root_mean_squared_error'.\n",
      "  warnings.warn(\n",
      "11:42:05 - cmdstanpy - INFO - Chain [1] start processing\n",
      "11:42:06 - cmdstanpy - INFO - Chain [1] done processing\n",
      "c:\\Users\\natra\\AppData\\Local\\Programs\\Python\\Python310\\lib\\site-packages\\sklearn\\metrics\\_regression.py:492: FutureWarning: 'squared' is deprecated in version 1.4 and will be removed in 1.6. To calculate the root mean squared error, use the function'root_mean_squared_error'.\n",
      "  warnings.warn(\n",
      "11:42:06 - cmdstanpy - INFO - Chain [1] start processing\n",
      "11:42:06 - cmdstanpy - INFO - Chain [1] done processing\n",
      "c:\\Users\\natra\\AppData\\Local\\Programs\\Python\\Python310\\lib\\site-packages\\sklearn\\metrics\\_regression.py:492: FutureWarning: 'squared' is deprecated in version 1.4 and will be removed in 1.6. To calculate the root mean squared error, use the function'root_mean_squared_error'.\n",
      "  warnings.warn(\n",
      "11:42:07 - cmdstanpy - INFO - Chain [1] start processing\n",
      "11:42:07 - cmdstanpy - INFO - Chain [1] done processing\n",
      "c:\\Users\\natra\\AppData\\Local\\Programs\\Python\\Python310\\lib\\site-packages\\sklearn\\metrics\\_regression.py:492: FutureWarning: 'squared' is deprecated in version 1.4 and will be removed in 1.6. To calculate the root mean squared error, use the function'root_mean_squared_error'.\n",
      "  warnings.warn(\n",
      "11:42:08 - cmdstanpy - INFO - Chain [1] start processing\n",
      "11:42:08 - cmdstanpy - INFO - Chain [1] done processing\n",
      "c:\\Users\\natra\\AppData\\Local\\Programs\\Python\\Python310\\lib\\site-packages\\sklearn\\metrics\\_regression.py:492: FutureWarning: 'squared' is deprecated in version 1.4 and will be removed in 1.6. To calculate the root mean squared error, use the function'root_mean_squared_error'.\n",
      "  warnings.warn(\n"
     ]
    },
    {
     "name": "stdout",
     "output_type": "stream",
     "text": [
      "R² Score: 0.559, RMSE: 3.812, MAE: 2.854\n",
      "\n",
      "Evaluating: changepoint_prior_scale=0.08, seasonality_prior_scale=1.1, seasonality_mode=additive\n"
     ]
    },
    {
     "name": "stderr",
     "output_type": "stream",
     "text": [
      "11:42:09 - cmdstanpy - INFO - Chain [1] start processing\n",
      "11:42:09 - cmdstanpy - INFO - Chain [1] done processing\n",
      "c:\\Users\\natra\\AppData\\Local\\Programs\\Python\\Python310\\lib\\site-packages\\sklearn\\metrics\\_regression.py:492: FutureWarning: 'squared' is deprecated in version 1.4 and will be removed in 1.6. To calculate the root mean squared error, use the function'root_mean_squared_error'.\n",
      "  warnings.warn(\n",
      "11:42:10 - cmdstanpy - INFO - Chain [1] start processing\n",
      "11:42:10 - cmdstanpy - INFO - Chain [1] done processing\n",
      "c:\\Users\\natra\\AppData\\Local\\Programs\\Python\\Python310\\lib\\site-packages\\sklearn\\metrics\\_regression.py:492: FutureWarning: 'squared' is deprecated in version 1.4 and will be removed in 1.6. To calculate the root mean squared error, use the function'root_mean_squared_error'.\n",
      "  warnings.warn(\n",
      "11:42:11 - cmdstanpy - INFO - Chain [1] start processing\n",
      "11:42:11 - cmdstanpy - INFO - Chain [1] done processing\n",
      "c:\\Users\\natra\\AppData\\Local\\Programs\\Python\\Python310\\lib\\site-packages\\sklearn\\metrics\\_regression.py:492: FutureWarning: 'squared' is deprecated in version 1.4 and will be removed in 1.6. To calculate the root mean squared error, use the function'root_mean_squared_error'.\n",
      "  warnings.warn(\n",
      "11:42:12 - cmdstanpy - INFO - Chain [1] start processing\n",
      "11:42:12 - cmdstanpy - INFO - Chain [1] done processing\n",
      "c:\\Users\\natra\\AppData\\Local\\Programs\\Python\\Python310\\lib\\site-packages\\sklearn\\metrics\\_regression.py:492: FutureWarning: 'squared' is deprecated in version 1.4 and will be removed in 1.6. To calculate the root mean squared error, use the function'root_mean_squared_error'.\n",
      "  warnings.warn(\n",
      "11:42:12 - cmdstanpy - INFO - Chain [1] start processing\n",
      "11:42:13 - cmdstanpy - INFO - Chain [1] done processing\n",
      "c:\\Users\\natra\\AppData\\Local\\Programs\\Python\\Python310\\lib\\site-packages\\sklearn\\metrics\\_regression.py:492: FutureWarning: 'squared' is deprecated in version 1.4 and will be removed in 1.6. To calculate the root mean squared error, use the function'root_mean_squared_error'.\n",
      "  warnings.warn(\n"
     ]
    },
    {
     "name": "stdout",
     "output_type": "stream",
     "text": [
      "R² Score: 0.534, RMSE: 3.877, MAE: 2.877\n",
      "\n",
      "Evaluating: changepoint_prior_scale=0.08, seasonality_prior_scale=1.1, seasonality_mode=multiplicative\n"
     ]
    },
    {
     "name": "stderr",
     "output_type": "stream",
     "text": [
      "11:42:13 - cmdstanpy - INFO - Chain [1] start processing\n",
      "11:42:14 - cmdstanpy - INFO - Chain [1] done processing\n",
      "c:\\Users\\natra\\AppData\\Local\\Programs\\Python\\Python310\\lib\\site-packages\\sklearn\\metrics\\_regression.py:492: FutureWarning: 'squared' is deprecated in version 1.4 and will be removed in 1.6. To calculate the root mean squared error, use the function'root_mean_squared_error'.\n",
      "  warnings.warn(\n",
      "11:42:14 - cmdstanpy - INFO - Chain [1] start processing\n",
      "11:42:14 - cmdstanpy - INFO - Chain [1] done processing\n",
      "c:\\Users\\natra\\AppData\\Local\\Programs\\Python\\Python310\\lib\\site-packages\\sklearn\\metrics\\_regression.py:492: FutureWarning: 'squared' is deprecated in version 1.4 and will be removed in 1.6. To calculate the root mean squared error, use the function'root_mean_squared_error'.\n",
      "  warnings.warn(\n",
      "11:42:15 - cmdstanpy - INFO - Chain [1] start processing\n",
      "11:42:15 - cmdstanpy - INFO - Chain [1] done processing\n",
      "c:\\Users\\natra\\AppData\\Local\\Programs\\Python\\Python310\\lib\\site-packages\\sklearn\\metrics\\_regression.py:492: FutureWarning: 'squared' is deprecated in version 1.4 and will be removed in 1.6. To calculate the root mean squared error, use the function'root_mean_squared_error'.\n",
      "  warnings.warn(\n",
      "11:42:16 - cmdstanpy - INFO - Chain [1] start processing\n",
      "11:42:16 - cmdstanpy - INFO - Chain [1] done processing\n",
      "c:\\Users\\natra\\AppData\\Local\\Programs\\Python\\Python310\\lib\\site-packages\\sklearn\\metrics\\_regression.py:492: FutureWarning: 'squared' is deprecated in version 1.4 and will be removed in 1.6. To calculate the root mean squared error, use the function'root_mean_squared_error'.\n",
      "  warnings.warn(\n",
      "11:42:17 - cmdstanpy - INFO - Chain [1] start processing\n",
      "11:42:17 - cmdstanpy - INFO - Chain [1] done processing\n",
      "c:\\Users\\natra\\AppData\\Local\\Programs\\Python\\Python310\\lib\\site-packages\\sklearn\\metrics\\_regression.py:492: FutureWarning: 'squared' is deprecated in version 1.4 and will be removed in 1.6. To calculate the root mean squared error, use the function'root_mean_squared_error'.\n",
      "  warnings.warn(\n"
     ]
    },
    {
     "name": "stdout",
     "output_type": "stream",
     "text": [
      "R² Score: 0.560, RMSE: 3.807, MAE: 2.848\n",
      "\n",
      "Evaluating: changepoint_prior_scale=0.08, seasonality_prior_scale=2.1, seasonality_mode=additive\n"
     ]
    },
    {
     "name": "stderr",
     "output_type": "stream",
     "text": [
      "11:42:18 - cmdstanpy - INFO - Chain [1] start processing\n",
      "11:42:18 - cmdstanpy - INFO - Chain [1] done processing\n",
      "c:\\Users\\natra\\AppData\\Local\\Programs\\Python\\Python310\\lib\\site-packages\\sklearn\\metrics\\_regression.py:492: FutureWarning: 'squared' is deprecated in version 1.4 and will be removed in 1.6. To calculate the root mean squared error, use the function'root_mean_squared_error'.\n",
      "  warnings.warn(\n",
      "11:42:19 - cmdstanpy - INFO - Chain [1] start processing\n",
      "11:42:19 - cmdstanpy - INFO - Chain [1] done processing\n",
      "c:\\Users\\natra\\AppData\\Local\\Programs\\Python\\Python310\\lib\\site-packages\\sklearn\\metrics\\_regression.py:492: FutureWarning: 'squared' is deprecated in version 1.4 and will be removed in 1.6. To calculate the root mean squared error, use the function'root_mean_squared_error'.\n",
      "  warnings.warn(\n",
      "11:42:19 - cmdstanpy - INFO - Chain [1] start processing\n",
      "11:42:20 - cmdstanpy - INFO - Chain [1] done processing\n",
      "c:\\Users\\natra\\AppData\\Local\\Programs\\Python\\Python310\\lib\\site-packages\\sklearn\\metrics\\_regression.py:492: FutureWarning: 'squared' is deprecated in version 1.4 and will be removed in 1.6. To calculate the root mean squared error, use the function'root_mean_squared_error'.\n",
      "  warnings.warn(\n",
      "11:42:20 - cmdstanpy - INFO - Chain [1] start processing\n",
      "11:42:21 - cmdstanpy - INFO - Chain [1] done processing\n",
      "c:\\Users\\natra\\AppData\\Local\\Programs\\Python\\Python310\\lib\\site-packages\\sklearn\\metrics\\_regression.py:492: FutureWarning: 'squared' is deprecated in version 1.4 and will be removed in 1.6. To calculate the root mean squared error, use the function'root_mean_squared_error'.\n",
      "  warnings.warn(\n",
      "11:42:21 - cmdstanpy - INFO - Chain [1] start processing\n",
      "11:42:21 - cmdstanpy - INFO - Chain [1] done processing\n",
      "c:\\Users\\natra\\AppData\\Local\\Programs\\Python\\Python310\\lib\\site-packages\\sklearn\\metrics\\_regression.py:492: FutureWarning: 'squared' is deprecated in version 1.4 and will be removed in 1.6. To calculate the root mean squared error, use the function'root_mean_squared_error'.\n",
      "  warnings.warn(\n"
     ]
    },
    {
     "name": "stdout",
     "output_type": "stream",
     "text": [
      "R² Score: 0.533, RMSE: 3.880, MAE: 2.882\n",
      "\n",
      "Evaluating: changepoint_prior_scale=0.08, seasonality_prior_scale=2.1, seasonality_mode=multiplicative\n"
     ]
    },
    {
     "name": "stderr",
     "output_type": "stream",
     "text": [
      "11:42:22 - cmdstanpy - INFO - Chain [1] start processing\n",
      "11:42:22 - cmdstanpy - INFO - Chain [1] done processing\n",
      "c:\\Users\\natra\\AppData\\Local\\Programs\\Python\\Python310\\lib\\site-packages\\sklearn\\metrics\\_regression.py:492: FutureWarning: 'squared' is deprecated in version 1.4 and will be removed in 1.6. To calculate the root mean squared error, use the function'root_mean_squared_error'.\n",
      "  warnings.warn(\n",
      "11:42:23 - cmdstanpy - INFO - Chain [1] start processing\n",
      "11:42:23 - cmdstanpy - INFO - Chain [1] done processing\n",
      "c:\\Users\\natra\\AppData\\Local\\Programs\\Python\\Python310\\lib\\site-packages\\sklearn\\metrics\\_regression.py:492: FutureWarning: 'squared' is deprecated in version 1.4 and will be removed in 1.6. To calculate the root mean squared error, use the function'root_mean_squared_error'.\n",
      "  warnings.warn(\n",
      "11:42:24 - cmdstanpy - INFO - Chain [1] start processing\n",
      "11:42:24 - cmdstanpy - INFO - Chain [1] done processing\n",
      "c:\\Users\\natra\\AppData\\Local\\Programs\\Python\\Python310\\lib\\site-packages\\sklearn\\metrics\\_regression.py:492: FutureWarning: 'squared' is deprecated in version 1.4 and will be removed in 1.6. To calculate the root mean squared error, use the function'root_mean_squared_error'.\n",
      "  warnings.warn(\n",
      "11:42:24 - cmdstanpy - INFO - Chain [1] start processing\n",
      "11:42:25 - cmdstanpy - INFO - Chain [1] done processing\n",
      "c:\\Users\\natra\\AppData\\Local\\Programs\\Python\\Python310\\lib\\site-packages\\sklearn\\metrics\\_regression.py:492: FutureWarning: 'squared' is deprecated in version 1.4 and will be removed in 1.6. To calculate the root mean squared error, use the function'root_mean_squared_error'.\n",
      "  warnings.warn(\n",
      "11:42:25 - cmdstanpy - INFO - Chain [1] start processing\n",
      "11:42:25 - cmdstanpy - INFO - Chain [1] done processing\n",
      "c:\\Users\\natra\\AppData\\Local\\Programs\\Python\\Python310\\lib\\site-packages\\sklearn\\metrics\\_regression.py:492: FutureWarning: 'squared' is deprecated in version 1.4 and will be removed in 1.6. To calculate the root mean squared error, use the function'root_mean_squared_error'.\n",
      "  warnings.warn(\n"
     ]
    },
    {
     "name": "stdout",
     "output_type": "stream",
     "text": [
      "R² Score: 0.560, RMSE: 3.807, MAE: 2.843\n",
      "\n",
      "Evaluating: changepoint_prior_scale=0.08, seasonality_prior_scale=3.1, seasonality_mode=additive\n"
     ]
    },
    {
     "name": "stderr",
     "output_type": "stream",
     "text": [
      "11:42:26 - cmdstanpy - INFO - Chain [1] start processing\n",
      "11:42:26 - cmdstanpy - INFO - Chain [1] done processing\n",
      "c:\\Users\\natra\\AppData\\Local\\Programs\\Python\\Python310\\lib\\site-packages\\sklearn\\metrics\\_regression.py:492: FutureWarning: 'squared' is deprecated in version 1.4 and will be removed in 1.6. To calculate the root mean squared error, use the function'root_mean_squared_error'.\n",
      "  warnings.warn(\n",
      "11:42:27 - cmdstanpy - INFO - Chain [1] start processing\n",
      "11:42:27 - cmdstanpy - INFO - Chain [1] done processing\n",
      "c:\\Users\\natra\\AppData\\Local\\Programs\\Python\\Python310\\lib\\site-packages\\sklearn\\metrics\\_regression.py:492: FutureWarning: 'squared' is deprecated in version 1.4 and will be removed in 1.6. To calculate the root mean squared error, use the function'root_mean_squared_error'.\n",
      "  warnings.warn(\n",
      "11:42:27 - cmdstanpy - INFO - Chain [1] start processing\n",
      "11:42:28 - cmdstanpy - INFO - Chain [1] done processing\n",
      "c:\\Users\\natra\\AppData\\Local\\Programs\\Python\\Python310\\lib\\site-packages\\sklearn\\metrics\\_regression.py:492: FutureWarning: 'squared' is deprecated in version 1.4 and will be removed in 1.6. To calculate the root mean squared error, use the function'root_mean_squared_error'.\n",
      "  warnings.warn(\n",
      "11:42:28 - cmdstanpy - INFO - Chain [1] start processing\n",
      "11:42:28 - cmdstanpy - INFO - Chain [1] done processing\n",
      "c:\\Users\\natra\\AppData\\Local\\Programs\\Python\\Python310\\lib\\site-packages\\sklearn\\metrics\\_regression.py:492: FutureWarning: 'squared' is deprecated in version 1.4 and will be removed in 1.6. To calculate the root mean squared error, use the function'root_mean_squared_error'.\n",
      "  warnings.warn(\n",
      "11:42:29 - cmdstanpy - INFO - Chain [1] start processing\n",
      "11:42:29 - cmdstanpy - INFO - Chain [1] done processing\n",
      "c:\\Users\\natra\\AppData\\Local\\Programs\\Python\\Python310\\lib\\site-packages\\sklearn\\metrics\\_regression.py:492: FutureWarning: 'squared' is deprecated in version 1.4 and will be removed in 1.6. To calculate the root mean squared error, use the function'root_mean_squared_error'.\n",
      "  warnings.warn(\n"
     ]
    },
    {
     "name": "stdout",
     "output_type": "stream",
     "text": [
      "R² Score: 0.536, RMSE: 3.873, MAE: 2.871\n",
      "\n",
      "Evaluating: changepoint_prior_scale=0.08, seasonality_prior_scale=3.1, seasonality_mode=multiplicative\n"
     ]
    },
    {
     "name": "stderr",
     "output_type": "stream",
     "text": [
      "11:42:30 - cmdstanpy - INFO - Chain [1] start processing\n",
      "11:42:30 - cmdstanpy - INFO - Chain [1] done processing\n",
      "c:\\Users\\natra\\AppData\\Local\\Programs\\Python\\Python310\\lib\\site-packages\\sklearn\\metrics\\_regression.py:492: FutureWarning: 'squared' is deprecated in version 1.4 and will be removed in 1.6. To calculate the root mean squared error, use the function'root_mean_squared_error'.\n",
      "  warnings.warn(\n",
      "11:42:31 - cmdstanpy - INFO - Chain [1] start processing\n",
      "11:42:31 - cmdstanpy - INFO - Chain [1] done processing\n",
      "c:\\Users\\natra\\AppData\\Local\\Programs\\Python\\Python310\\lib\\site-packages\\sklearn\\metrics\\_regression.py:492: FutureWarning: 'squared' is deprecated in version 1.4 and will be removed in 1.6. To calculate the root mean squared error, use the function'root_mean_squared_error'.\n",
      "  warnings.warn(\n",
      "11:42:32 - cmdstanpy - INFO - Chain [1] start processing\n",
      "11:42:32 - cmdstanpy - INFO - Chain [1] done processing\n",
      "c:\\Users\\natra\\AppData\\Local\\Programs\\Python\\Python310\\lib\\site-packages\\sklearn\\metrics\\_regression.py:492: FutureWarning: 'squared' is deprecated in version 1.4 and will be removed in 1.6. To calculate the root mean squared error, use the function'root_mean_squared_error'.\n",
      "  warnings.warn(\n",
      "11:42:33 - cmdstanpy - INFO - Chain [1] start processing\n",
      "11:42:33 - cmdstanpy - INFO - Chain [1] done processing\n",
      "c:\\Users\\natra\\AppData\\Local\\Programs\\Python\\Python310\\lib\\site-packages\\sklearn\\metrics\\_regression.py:492: FutureWarning: 'squared' is deprecated in version 1.4 and will be removed in 1.6. To calculate the root mean squared error, use the function'root_mean_squared_error'.\n",
      "  warnings.warn(\n",
      "11:42:34 - cmdstanpy - INFO - Chain [1] start processing\n",
      "11:42:34 - cmdstanpy - INFO - Chain [1] done processing\n",
      "c:\\Users\\natra\\AppData\\Local\\Programs\\Python\\Python310\\lib\\site-packages\\sklearn\\metrics\\_regression.py:492: FutureWarning: 'squared' is deprecated in version 1.4 and will be removed in 1.6. To calculate the root mean squared error, use the function'root_mean_squared_error'.\n",
      "  warnings.warn(\n"
     ]
    },
    {
     "name": "stdout",
     "output_type": "stream",
     "text": [
      "R² Score: 0.560, RMSE: 3.807, MAE: 2.847\n",
      "\n",
      "Evaluating: changepoint_prior_scale=0.08, seasonality_prior_scale=4.1, seasonality_mode=additive\n"
     ]
    },
    {
     "name": "stderr",
     "output_type": "stream",
     "text": [
      "11:42:35 - cmdstanpy - INFO - Chain [1] start processing\n",
      "11:42:35 - cmdstanpy - INFO - Chain [1] done processing\n",
      "c:\\Users\\natra\\AppData\\Local\\Programs\\Python\\Python310\\lib\\site-packages\\sklearn\\metrics\\_regression.py:492: FutureWarning: 'squared' is deprecated in version 1.4 and will be removed in 1.6. To calculate the root mean squared error, use the function'root_mean_squared_error'.\n",
      "  warnings.warn(\n",
      "11:42:35 - cmdstanpy - INFO - Chain [1] start processing\n",
      "11:42:36 - cmdstanpy - INFO - Chain [1] done processing\n",
      "c:\\Users\\natra\\AppData\\Local\\Programs\\Python\\Python310\\lib\\site-packages\\sklearn\\metrics\\_regression.py:492: FutureWarning: 'squared' is deprecated in version 1.4 and will be removed in 1.6. To calculate the root mean squared error, use the function'root_mean_squared_error'.\n",
      "  warnings.warn(\n",
      "11:42:36 - cmdstanpy - INFO - Chain [1] start processing\n",
      "11:42:36 - cmdstanpy - INFO - Chain [1] done processing\n",
      "c:\\Users\\natra\\AppData\\Local\\Programs\\Python\\Python310\\lib\\site-packages\\sklearn\\metrics\\_regression.py:492: FutureWarning: 'squared' is deprecated in version 1.4 and will be removed in 1.6. To calculate the root mean squared error, use the function'root_mean_squared_error'.\n",
      "  warnings.warn(\n",
      "11:42:37 - cmdstanpy - INFO - Chain [1] start processing\n",
      "11:42:37 - cmdstanpy - INFO - Chain [1] done processing\n",
      "c:\\Users\\natra\\AppData\\Local\\Programs\\Python\\Python310\\lib\\site-packages\\sklearn\\metrics\\_regression.py:492: FutureWarning: 'squared' is deprecated in version 1.4 and will be removed in 1.6. To calculate the root mean squared error, use the function'root_mean_squared_error'.\n",
      "  warnings.warn(\n",
      "11:42:38 - cmdstanpy - INFO - Chain [1] start processing\n",
      "11:42:38 - cmdstanpy - INFO - Chain [1] done processing\n",
      "c:\\Users\\natra\\AppData\\Local\\Programs\\Python\\Python310\\lib\\site-packages\\sklearn\\metrics\\_regression.py:492: FutureWarning: 'squared' is deprecated in version 1.4 and will be removed in 1.6. To calculate the root mean squared error, use the function'root_mean_squared_error'.\n",
      "  warnings.warn(\n"
     ]
    },
    {
     "name": "stdout",
     "output_type": "stream",
     "text": [
      "R² Score: 0.537, RMSE: 3.868, MAE: 2.866\n",
      "\n",
      "Evaluating: changepoint_prior_scale=0.08, seasonality_prior_scale=4.1, seasonality_mode=multiplicative\n"
     ]
    },
    {
     "name": "stderr",
     "output_type": "stream",
     "text": [
      "11:42:38 - cmdstanpy - INFO - Chain [1] start processing\n",
      "11:42:39 - cmdstanpy - INFO - Chain [1] done processing\n",
      "c:\\Users\\natra\\AppData\\Local\\Programs\\Python\\Python310\\lib\\site-packages\\sklearn\\metrics\\_regression.py:492: FutureWarning: 'squared' is deprecated in version 1.4 and will be removed in 1.6. To calculate the root mean squared error, use the function'root_mean_squared_error'.\n",
      "  warnings.warn(\n",
      "11:42:39 - cmdstanpy - INFO - Chain [1] start processing\n",
      "11:42:39 - cmdstanpy - INFO - Chain [1] done processing\n",
      "c:\\Users\\natra\\AppData\\Local\\Programs\\Python\\Python310\\lib\\site-packages\\sklearn\\metrics\\_regression.py:492: FutureWarning: 'squared' is deprecated in version 1.4 and will be removed in 1.6. To calculate the root mean squared error, use the function'root_mean_squared_error'.\n",
      "  warnings.warn(\n",
      "11:42:40 - cmdstanpy - INFO - Chain [1] start processing\n",
      "11:42:40 - cmdstanpy - INFO - Chain [1] done processing\n",
      "c:\\Users\\natra\\AppData\\Local\\Programs\\Python\\Python310\\lib\\site-packages\\sklearn\\metrics\\_regression.py:492: FutureWarning: 'squared' is deprecated in version 1.4 and will be removed in 1.6. To calculate the root mean squared error, use the function'root_mean_squared_error'.\n",
      "  warnings.warn(\n",
      "11:42:41 - cmdstanpy - INFO - Chain [1] start processing\n",
      "11:42:41 - cmdstanpy - INFO - Chain [1] done processing\n",
      "c:\\Users\\natra\\AppData\\Local\\Programs\\Python\\Python310\\lib\\site-packages\\sklearn\\metrics\\_regression.py:492: FutureWarning: 'squared' is deprecated in version 1.4 and will be removed in 1.6. To calculate the root mean squared error, use the function'root_mean_squared_error'.\n",
      "  warnings.warn(\n",
      "11:42:42 - cmdstanpy - INFO - Chain [1] start processing\n",
      "11:42:42 - cmdstanpy - INFO - Chain [1] done processing\n",
      "c:\\Users\\natra\\AppData\\Local\\Programs\\Python\\Python310\\lib\\site-packages\\sklearn\\metrics\\_regression.py:492: FutureWarning: 'squared' is deprecated in version 1.4 and will be removed in 1.6. To calculate the root mean squared error, use the function'root_mean_squared_error'.\n",
      "  warnings.warn(\n"
     ]
    },
    {
     "name": "stdout",
     "output_type": "stream",
     "text": [
      "R² Score: 0.561, RMSE: 3.803, MAE: 2.844\n",
      "\n",
      "Evaluating: changepoint_prior_scale=0.08, seasonality_prior_scale=5.1, seasonality_mode=additive\n"
     ]
    },
    {
     "name": "stderr",
     "output_type": "stream",
     "text": [
      "11:42:42 - cmdstanpy - INFO - Chain [1] start processing\n",
      "11:42:42 - cmdstanpy - INFO - Chain [1] done processing\n",
      "c:\\Users\\natra\\AppData\\Local\\Programs\\Python\\Python310\\lib\\site-packages\\sklearn\\metrics\\_regression.py:492: FutureWarning: 'squared' is deprecated in version 1.4 and will be removed in 1.6. To calculate the root mean squared error, use the function'root_mean_squared_error'.\n",
      "  warnings.warn(\n",
      "11:42:43 - cmdstanpy - INFO - Chain [1] start processing\n",
      "11:42:43 - cmdstanpy - INFO - Chain [1] done processing\n",
      "c:\\Users\\natra\\AppData\\Local\\Programs\\Python\\Python310\\lib\\site-packages\\sklearn\\metrics\\_regression.py:492: FutureWarning: 'squared' is deprecated in version 1.4 and will be removed in 1.6. To calculate the root mean squared error, use the function'root_mean_squared_error'.\n",
      "  warnings.warn(\n",
      "11:42:44 - cmdstanpy - INFO - Chain [1] start processing\n",
      "11:42:44 - cmdstanpy - INFO - Chain [1] done processing\n",
      "c:\\Users\\natra\\AppData\\Local\\Programs\\Python\\Python310\\lib\\site-packages\\sklearn\\metrics\\_regression.py:492: FutureWarning: 'squared' is deprecated in version 1.4 and will be removed in 1.6. To calculate the root mean squared error, use the function'root_mean_squared_error'.\n",
      "  warnings.warn(\n",
      "11:42:45 - cmdstanpy - INFO - Chain [1] start processing\n",
      "11:42:45 - cmdstanpy - INFO - Chain [1] done processing\n",
      "c:\\Users\\natra\\AppData\\Local\\Programs\\Python\\Python310\\lib\\site-packages\\sklearn\\metrics\\_regression.py:492: FutureWarning: 'squared' is deprecated in version 1.4 and will be removed in 1.6. To calculate the root mean squared error, use the function'root_mean_squared_error'.\n",
      "  warnings.warn(\n",
      "11:42:46 - cmdstanpy - INFO - Chain [1] start processing\n",
      "11:42:46 - cmdstanpy - INFO - Chain [1] done processing\n",
      "c:\\Users\\natra\\AppData\\Local\\Programs\\Python\\Python310\\lib\\site-packages\\sklearn\\metrics\\_regression.py:492: FutureWarning: 'squared' is deprecated in version 1.4 and will be removed in 1.6. To calculate the root mean squared error, use the function'root_mean_squared_error'.\n",
      "  warnings.warn(\n"
     ]
    },
    {
     "name": "stdout",
     "output_type": "stream",
     "text": [
      "R² Score: 0.534, RMSE: 3.879, MAE: 2.878\n",
      "\n",
      "Evaluating: changepoint_prior_scale=0.08, seasonality_prior_scale=5.1, seasonality_mode=multiplicative\n"
     ]
    },
    {
     "name": "stderr",
     "output_type": "stream",
     "text": [
      "11:42:46 - cmdstanpy - INFO - Chain [1] start processing\n",
      "11:42:47 - cmdstanpy - INFO - Chain [1] done processing\n",
      "c:\\Users\\natra\\AppData\\Local\\Programs\\Python\\Python310\\lib\\site-packages\\sklearn\\metrics\\_regression.py:492: FutureWarning: 'squared' is deprecated in version 1.4 and will be removed in 1.6. To calculate the root mean squared error, use the function'root_mean_squared_error'.\n",
      "  warnings.warn(\n",
      "11:42:47 - cmdstanpy - INFO - Chain [1] start processing\n",
      "11:42:48 - cmdstanpy - INFO - Chain [1] done processing\n",
      "c:\\Users\\natra\\AppData\\Local\\Programs\\Python\\Python310\\lib\\site-packages\\sklearn\\metrics\\_regression.py:492: FutureWarning: 'squared' is deprecated in version 1.4 and will be removed in 1.6. To calculate the root mean squared error, use the function'root_mean_squared_error'.\n",
      "  warnings.warn(\n",
      "11:42:48 - cmdstanpy - INFO - Chain [1] start processing\n",
      "11:42:48 - cmdstanpy - INFO - Chain [1] done processing\n",
      "c:\\Users\\natra\\AppData\\Local\\Programs\\Python\\Python310\\lib\\site-packages\\sklearn\\metrics\\_regression.py:492: FutureWarning: 'squared' is deprecated in version 1.4 and will be removed in 1.6. To calculate the root mean squared error, use the function'root_mean_squared_error'.\n",
      "  warnings.warn(\n",
      "11:42:49 - cmdstanpy - INFO - Chain [1] start processing\n",
      "11:42:49 - cmdstanpy - INFO - Chain [1] done processing\n",
      "c:\\Users\\natra\\AppData\\Local\\Programs\\Python\\Python310\\lib\\site-packages\\sklearn\\metrics\\_regression.py:492: FutureWarning: 'squared' is deprecated in version 1.4 and will be removed in 1.6. To calculate the root mean squared error, use the function'root_mean_squared_error'.\n",
      "  warnings.warn(\n",
      "11:42:50 - cmdstanpy - INFO - Chain [1] start processing\n",
      "11:42:50 - cmdstanpy - INFO - Chain [1] done processing\n",
      "c:\\Users\\natra\\AppData\\Local\\Programs\\Python\\Python310\\lib\\site-packages\\sklearn\\metrics\\_regression.py:492: FutureWarning: 'squared' is deprecated in version 1.4 and will be removed in 1.6. To calculate the root mean squared error, use the function'root_mean_squared_error'.\n",
      "  warnings.warn(\n"
     ]
    },
    {
     "name": "stdout",
     "output_type": "stream",
     "text": [
      "R² Score: 0.563, RMSE: 3.798, MAE: 2.835\n",
      "\n",
      "Evaluating: changepoint_prior_scale=0.08, seasonality_prior_scale=6.1, seasonality_mode=additive\n"
     ]
    },
    {
     "name": "stderr",
     "output_type": "stream",
     "text": [
      "11:42:51 - cmdstanpy - INFO - Chain [1] start processing\n",
      "11:42:51 - cmdstanpy - INFO - Chain [1] done processing\n",
      "c:\\Users\\natra\\AppData\\Local\\Programs\\Python\\Python310\\lib\\site-packages\\sklearn\\metrics\\_regression.py:492: FutureWarning: 'squared' is deprecated in version 1.4 and will be removed in 1.6. To calculate the root mean squared error, use the function'root_mean_squared_error'.\n",
      "  warnings.warn(\n",
      "11:42:52 - cmdstanpy - INFO - Chain [1] start processing\n",
      "11:42:52 - cmdstanpy - INFO - Chain [1] done processing\n",
      "c:\\Users\\natra\\AppData\\Local\\Programs\\Python\\Python310\\lib\\site-packages\\sklearn\\metrics\\_regression.py:492: FutureWarning: 'squared' is deprecated in version 1.4 and will be removed in 1.6. To calculate the root mean squared error, use the function'root_mean_squared_error'.\n",
      "  warnings.warn(\n",
      "11:42:53 - cmdstanpy - INFO - Chain [1] start processing\n",
      "11:42:53 - cmdstanpy - INFO - Chain [1] done processing\n",
      "c:\\Users\\natra\\AppData\\Local\\Programs\\Python\\Python310\\lib\\site-packages\\sklearn\\metrics\\_regression.py:492: FutureWarning: 'squared' is deprecated in version 1.4 and will be removed in 1.6. To calculate the root mean squared error, use the function'root_mean_squared_error'.\n",
      "  warnings.warn(\n",
      "11:42:54 - cmdstanpy - INFO - Chain [1] start processing\n",
      "11:42:54 - cmdstanpy - INFO - Chain [1] done processing\n",
      "c:\\Users\\natra\\AppData\\Local\\Programs\\Python\\Python310\\lib\\site-packages\\sklearn\\metrics\\_regression.py:492: FutureWarning: 'squared' is deprecated in version 1.4 and will be removed in 1.6. To calculate the root mean squared error, use the function'root_mean_squared_error'.\n",
      "  warnings.warn(\n",
      "11:42:55 - cmdstanpy - INFO - Chain [1] start processing\n",
      "11:42:55 - cmdstanpy - INFO - Chain [1] done processing\n",
      "c:\\Users\\natra\\AppData\\Local\\Programs\\Python\\Python310\\lib\\site-packages\\sklearn\\metrics\\_regression.py:492: FutureWarning: 'squared' is deprecated in version 1.4 and will be removed in 1.6. To calculate the root mean squared error, use the function'root_mean_squared_error'.\n",
      "  warnings.warn(\n"
     ]
    },
    {
     "name": "stdout",
     "output_type": "stream",
     "text": [
      "R² Score: 0.534, RMSE: 3.878, MAE: 2.874\n",
      "\n",
      "Evaluating: changepoint_prior_scale=0.08, seasonality_prior_scale=6.1, seasonality_mode=multiplicative\n"
     ]
    },
    {
     "name": "stderr",
     "output_type": "stream",
     "text": [
      "11:42:56 - cmdstanpy - INFO - Chain [1] start processing\n",
      "11:42:57 - cmdstanpy - INFO - Chain [1] done processing\n",
      "c:\\Users\\natra\\AppData\\Local\\Programs\\Python\\Python310\\lib\\site-packages\\sklearn\\metrics\\_regression.py:492: FutureWarning: 'squared' is deprecated in version 1.4 and will be removed in 1.6. To calculate the root mean squared error, use the function'root_mean_squared_error'.\n",
      "  warnings.warn(\n",
      "11:42:59 - cmdstanpy - INFO - Chain [1] start processing\n",
      "11:42:59 - cmdstanpy - INFO - Chain [1] done processing\n",
      "c:\\Users\\natra\\AppData\\Local\\Programs\\Python\\Python310\\lib\\site-packages\\sklearn\\metrics\\_regression.py:492: FutureWarning: 'squared' is deprecated in version 1.4 and will be removed in 1.6. To calculate the root mean squared error, use the function'root_mean_squared_error'.\n",
      "  warnings.warn(\n",
      "11:42:59 - cmdstanpy - INFO - Chain [1] start processing\n",
      "11:42:59 - cmdstanpy - INFO - Chain [1] done processing\n",
      "c:\\Users\\natra\\AppData\\Local\\Programs\\Python\\Python310\\lib\\site-packages\\sklearn\\metrics\\_regression.py:492: FutureWarning: 'squared' is deprecated in version 1.4 and will be removed in 1.6. To calculate the root mean squared error, use the function'root_mean_squared_error'.\n",
      "  warnings.warn(\n",
      "11:43:00 - cmdstanpy - INFO - Chain [1] start processing\n",
      "11:43:00 - cmdstanpy - INFO - Chain [1] done processing\n",
      "c:\\Users\\natra\\AppData\\Local\\Programs\\Python\\Python310\\lib\\site-packages\\sklearn\\metrics\\_regression.py:492: FutureWarning: 'squared' is deprecated in version 1.4 and will be removed in 1.6. To calculate the root mean squared error, use the function'root_mean_squared_error'.\n",
      "  warnings.warn(\n",
      "11:43:01 - cmdstanpy - INFO - Chain [1] start processing\n",
      "11:43:01 - cmdstanpy - INFO - Chain [1] done processing\n",
      "c:\\Users\\natra\\AppData\\Local\\Programs\\Python\\Python310\\lib\\site-packages\\sklearn\\metrics\\_regression.py:492: FutureWarning: 'squared' is deprecated in version 1.4 and will be removed in 1.6. To calculate the root mean squared error, use the function'root_mean_squared_error'.\n",
      "  warnings.warn(\n"
     ]
    },
    {
     "name": "stdout",
     "output_type": "stream",
     "text": [
      "R² Score: 0.563, RMSE: 3.798, MAE: 2.834\n",
      "\n",
      "Evaluating: changepoint_prior_scale=0.08, seasonality_prior_scale=7.1, seasonality_mode=additive\n"
     ]
    },
    {
     "name": "stderr",
     "output_type": "stream",
     "text": [
      "11:43:02 - cmdstanpy - INFO - Chain [1] start processing\n",
      "11:43:02 - cmdstanpy - INFO - Chain [1] done processing\n",
      "c:\\Users\\natra\\AppData\\Local\\Programs\\Python\\Python310\\lib\\site-packages\\sklearn\\metrics\\_regression.py:492: FutureWarning: 'squared' is deprecated in version 1.4 and will be removed in 1.6. To calculate the root mean squared error, use the function'root_mean_squared_error'.\n",
      "  warnings.warn(\n",
      "11:43:03 - cmdstanpy - INFO - Chain [1] start processing\n",
      "11:43:03 - cmdstanpy - INFO - Chain [1] done processing\n",
      "c:\\Users\\natra\\AppData\\Local\\Programs\\Python\\Python310\\lib\\site-packages\\sklearn\\metrics\\_regression.py:492: FutureWarning: 'squared' is deprecated in version 1.4 and will be removed in 1.6. To calculate the root mean squared error, use the function'root_mean_squared_error'.\n",
      "  warnings.warn(\n",
      "11:43:03 - cmdstanpy - INFO - Chain [1] start processing\n",
      "11:43:03 - cmdstanpy - INFO - Chain [1] done processing\n",
      "c:\\Users\\natra\\AppData\\Local\\Programs\\Python\\Python310\\lib\\site-packages\\sklearn\\metrics\\_regression.py:492: FutureWarning: 'squared' is deprecated in version 1.4 and will be removed in 1.6. To calculate the root mean squared error, use the function'root_mean_squared_error'.\n",
      "  warnings.warn(\n",
      "11:43:04 - cmdstanpy - INFO - Chain [1] start processing\n",
      "11:43:04 - cmdstanpy - INFO - Chain [1] done processing\n",
      "c:\\Users\\natra\\AppData\\Local\\Programs\\Python\\Python310\\lib\\site-packages\\sklearn\\metrics\\_regression.py:492: FutureWarning: 'squared' is deprecated in version 1.4 and will be removed in 1.6. To calculate the root mean squared error, use the function'root_mean_squared_error'.\n",
      "  warnings.warn(\n",
      "11:43:05 - cmdstanpy - INFO - Chain [1] start processing\n",
      "11:43:05 - cmdstanpy - INFO - Chain [1] done processing\n",
      "c:\\Users\\natra\\AppData\\Local\\Programs\\Python\\Python310\\lib\\site-packages\\sklearn\\metrics\\_regression.py:492: FutureWarning: 'squared' is deprecated in version 1.4 and will be removed in 1.6. To calculate the root mean squared error, use the function'root_mean_squared_error'.\n",
      "  warnings.warn(\n"
     ]
    },
    {
     "name": "stdout",
     "output_type": "stream",
     "text": [
      "R² Score: 0.534, RMSE: 3.877, MAE: 2.877\n",
      "\n",
      "Evaluating: changepoint_prior_scale=0.08, seasonality_prior_scale=7.1, seasonality_mode=multiplicative\n"
     ]
    },
    {
     "name": "stderr",
     "output_type": "stream",
     "text": [
      "11:43:06 - cmdstanpy - INFO - Chain [1] start processing\n",
      "11:43:06 - cmdstanpy - INFO - Chain [1] done processing\n",
      "c:\\Users\\natra\\AppData\\Local\\Programs\\Python\\Python310\\lib\\site-packages\\sklearn\\metrics\\_regression.py:492: FutureWarning: 'squared' is deprecated in version 1.4 and will be removed in 1.6. To calculate the root mean squared error, use the function'root_mean_squared_error'.\n",
      "  warnings.warn(\n",
      "11:43:06 - cmdstanpy - INFO - Chain [1] start processing\n",
      "11:43:06 - cmdstanpy - INFO - Chain [1] done processing\n",
      "c:\\Users\\natra\\AppData\\Local\\Programs\\Python\\Python310\\lib\\site-packages\\sklearn\\metrics\\_regression.py:492: FutureWarning: 'squared' is deprecated in version 1.4 and will be removed in 1.6. To calculate the root mean squared error, use the function'root_mean_squared_error'.\n",
      "  warnings.warn(\n",
      "11:43:07 - cmdstanpy - INFO - Chain [1] start processing\n",
      "11:43:07 - cmdstanpy - INFO - Chain [1] done processing\n",
      "c:\\Users\\natra\\AppData\\Local\\Programs\\Python\\Python310\\lib\\site-packages\\sklearn\\metrics\\_regression.py:492: FutureWarning: 'squared' is deprecated in version 1.4 and will be removed in 1.6. To calculate the root mean squared error, use the function'root_mean_squared_error'.\n",
      "  warnings.warn(\n",
      "11:43:08 - cmdstanpy - INFO - Chain [1] start processing\n",
      "11:43:08 - cmdstanpy - INFO - Chain [1] done processing\n",
      "c:\\Users\\natra\\AppData\\Local\\Programs\\Python\\Python310\\lib\\site-packages\\sklearn\\metrics\\_regression.py:492: FutureWarning: 'squared' is deprecated in version 1.4 and will be removed in 1.6. To calculate the root mean squared error, use the function'root_mean_squared_error'.\n",
      "  warnings.warn(\n",
      "11:43:08 - cmdstanpy - INFO - Chain [1] start processing\n",
      "11:43:08 - cmdstanpy - INFO - Chain [1] done processing\n",
      "c:\\Users\\natra\\AppData\\Local\\Programs\\Python\\Python310\\lib\\site-packages\\sklearn\\metrics\\_regression.py:492: FutureWarning: 'squared' is deprecated in version 1.4 and will be removed in 1.6. To calculate the root mean squared error, use the function'root_mean_squared_error'.\n",
      "  warnings.warn(\n"
     ]
    },
    {
     "name": "stdout",
     "output_type": "stream",
     "text": [
      "R² Score: 0.562, RMSE: 3.803, MAE: 2.842\n",
      "\n",
      "Evaluating: changepoint_prior_scale=0.08, seasonality_prior_scale=8.1, seasonality_mode=additive\n"
     ]
    },
    {
     "name": "stderr",
     "output_type": "stream",
     "text": [
      "11:43:09 - cmdstanpy - INFO - Chain [1] start processing\n",
      "11:43:09 - cmdstanpy - INFO - Chain [1] done processing\n",
      "c:\\Users\\natra\\AppData\\Local\\Programs\\Python\\Python310\\lib\\site-packages\\sklearn\\metrics\\_regression.py:492: FutureWarning: 'squared' is deprecated in version 1.4 and will be removed in 1.6. To calculate the root mean squared error, use the function'root_mean_squared_error'.\n",
      "  warnings.warn(\n",
      "11:43:10 - cmdstanpy - INFO - Chain [1] start processing\n",
      "11:43:10 - cmdstanpy - INFO - Chain [1] done processing\n",
      "c:\\Users\\natra\\AppData\\Local\\Programs\\Python\\Python310\\lib\\site-packages\\sklearn\\metrics\\_regression.py:492: FutureWarning: 'squared' is deprecated in version 1.4 and will be removed in 1.6. To calculate the root mean squared error, use the function'root_mean_squared_error'.\n",
      "  warnings.warn(\n",
      "11:43:10 - cmdstanpy - INFO - Chain [1] start processing\n",
      "11:43:11 - cmdstanpy - INFO - Chain [1] done processing\n",
      "c:\\Users\\natra\\AppData\\Local\\Programs\\Python\\Python310\\lib\\site-packages\\sklearn\\metrics\\_regression.py:492: FutureWarning: 'squared' is deprecated in version 1.4 and will be removed in 1.6. To calculate the root mean squared error, use the function'root_mean_squared_error'.\n",
      "  warnings.warn(\n",
      "11:43:11 - cmdstanpy - INFO - Chain [1] start processing\n",
      "11:43:11 - cmdstanpy - INFO - Chain [1] done processing\n",
      "c:\\Users\\natra\\AppData\\Local\\Programs\\Python\\Python310\\lib\\site-packages\\sklearn\\metrics\\_regression.py:492: FutureWarning: 'squared' is deprecated in version 1.4 and will be removed in 1.6. To calculate the root mean squared error, use the function'root_mean_squared_error'.\n",
      "  warnings.warn(\n",
      "11:43:12 - cmdstanpy - INFO - Chain [1] start processing\n",
      "11:43:12 - cmdstanpy - INFO - Chain [1] done processing\n",
      "c:\\Users\\natra\\AppData\\Local\\Programs\\Python\\Python310\\lib\\site-packages\\sklearn\\metrics\\_regression.py:492: FutureWarning: 'squared' is deprecated in version 1.4 and will be removed in 1.6. To calculate the root mean squared error, use the function'root_mean_squared_error'.\n",
      "  warnings.warn(\n"
     ]
    },
    {
     "name": "stdout",
     "output_type": "stream",
     "text": [
      "R² Score: 0.535, RMSE: 3.876, MAE: 2.871\n",
      "\n",
      "Evaluating: changepoint_prior_scale=0.08, seasonality_prior_scale=8.1, seasonality_mode=multiplicative\n"
     ]
    },
    {
     "name": "stderr",
     "output_type": "stream",
     "text": [
      "11:43:13 - cmdstanpy - INFO - Chain [1] start processing\n",
      "11:43:13 - cmdstanpy - INFO - Chain [1] done processing\n",
      "c:\\Users\\natra\\AppData\\Local\\Programs\\Python\\Python310\\lib\\site-packages\\sklearn\\metrics\\_regression.py:492: FutureWarning: 'squared' is deprecated in version 1.4 and will be removed in 1.6. To calculate the root mean squared error, use the function'root_mean_squared_error'.\n",
      "  warnings.warn(\n",
      "11:43:13 - cmdstanpy - INFO - Chain [1] start processing\n",
      "11:43:13 - cmdstanpy - INFO - Chain [1] done processing\n",
      "c:\\Users\\natra\\AppData\\Local\\Programs\\Python\\Python310\\lib\\site-packages\\sklearn\\metrics\\_regression.py:492: FutureWarning: 'squared' is deprecated in version 1.4 and will be removed in 1.6. To calculate the root mean squared error, use the function'root_mean_squared_error'.\n",
      "  warnings.warn(\n",
      "11:43:14 - cmdstanpy - INFO - Chain [1] start processing\n",
      "11:43:14 - cmdstanpy - INFO - Chain [1] done processing\n",
      "c:\\Users\\natra\\AppData\\Local\\Programs\\Python\\Python310\\lib\\site-packages\\sklearn\\metrics\\_regression.py:492: FutureWarning: 'squared' is deprecated in version 1.4 and will be removed in 1.6. To calculate the root mean squared error, use the function'root_mean_squared_error'.\n",
      "  warnings.warn(\n",
      "11:43:14 - cmdstanpy - INFO - Chain [1] start processing\n",
      "11:43:15 - cmdstanpy - INFO - Chain [1] done processing\n",
      "c:\\Users\\natra\\AppData\\Local\\Programs\\Python\\Python310\\lib\\site-packages\\sklearn\\metrics\\_regression.py:492: FutureWarning: 'squared' is deprecated in version 1.4 and will be removed in 1.6. To calculate the root mean squared error, use the function'root_mean_squared_error'.\n",
      "  warnings.warn(\n",
      "11:43:15 - cmdstanpy - INFO - Chain [1] start processing\n",
      "11:43:15 - cmdstanpy - INFO - Chain [1] done processing\n",
      "c:\\Users\\natra\\AppData\\Local\\Programs\\Python\\Python310\\lib\\site-packages\\sklearn\\metrics\\_regression.py:492: FutureWarning: 'squared' is deprecated in version 1.4 and will be removed in 1.6. To calculate the root mean squared error, use the function'root_mean_squared_error'.\n",
      "  warnings.warn(\n"
     ]
    },
    {
     "name": "stdout",
     "output_type": "stream",
     "text": [
      "R² Score: 0.563, RMSE: 3.796, MAE: 2.832\n",
      "\n",
      "Evaluating: changepoint_prior_scale=0.08, seasonality_prior_scale=9.1, seasonality_mode=additive\n"
     ]
    },
    {
     "name": "stderr",
     "output_type": "stream",
     "text": [
      "11:43:16 - cmdstanpy - INFO - Chain [1] start processing\n",
      "11:43:16 - cmdstanpy - INFO - Chain [1] done processing\n",
      "c:\\Users\\natra\\AppData\\Local\\Programs\\Python\\Python310\\lib\\site-packages\\sklearn\\metrics\\_regression.py:492: FutureWarning: 'squared' is deprecated in version 1.4 and will be removed in 1.6. To calculate the root mean squared error, use the function'root_mean_squared_error'.\n",
      "  warnings.warn(\n",
      "11:43:17 - cmdstanpy - INFO - Chain [1] start processing\n",
      "11:43:17 - cmdstanpy - INFO - Chain [1] done processing\n",
      "c:\\Users\\natra\\AppData\\Local\\Programs\\Python\\Python310\\lib\\site-packages\\sklearn\\metrics\\_regression.py:492: FutureWarning: 'squared' is deprecated in version 1.4 and will be removed in 1.6. To calculate the root mean squared error, use the function'root_mean_squared_error'.\n",
      "  warnings.warn(\n",
      "11:43:17 - cmdstanpy - INFO - Chain [1] start processing\n",
      "11:43:17 - cmdstanpy - INFO - Chain [1] done processing\n",
      "c:\\Users\\natra\\AppData\\Local\\Programs\\Python\\Python310\\lib\\site-packages\\sklearn\\metrics\\_regression.py:492: FutureWarning: 'squared' is deprecated in version 1.4 and will be removed in 1.6. To calculate the root mean squared error, use the function'root_mean_squared_error'.\n",
      "  warnings.warn(\n",
      "11:43:18 - cmdstanpy - INFO - Chain [1] start processing\n",
      "11:43:18 - cmdstanpy - INFO - Chain [1] done processing\n",
      "c:\\Users\\natra\\AppData\\Local\\Programs\\Python\\Python310\\lib\\site-packages\\sklearn\\metrics\\_regression.py:492: FutureWarning: 'squared' is deprecated in version 1.4 and will be removed in 1.6. To calculate the root mean squared error, use the function'root_mean_squared_error'.\n",
      "  warnings.warn(\n",
      "11:43:18 - cmdstanpy - INFO - Chain [1] start processing\n",
      "11:43:18 - cmdstanpy - INFO - Chain [1] done processing\n",
      "c:\\Users\\natra\\AppData\\Local\\Programs\\Python\\Python310\\lib\\site-packages\\sklearn\\metrics\\_regression.py:492: FutureWarning: 'squared' is deprecated in version 1.4 and will be removed in 1.6. To calculate the root mean squared error, use the function'root_mean_squared_error'.\n",
      "  warnings.warn(\n"
     ]
    },
    {
     "name": "stdout",
     "output_type": "stream",
     "text": [
      "R² Score: 0.534, RMSE: 3.879, MAE: 2.879\n",
      "\n",
      "Evaluating: changepoint_prior_scale=0.08, seasonality_prior_scale=9.1, seasonality_mode=multiplicative\n"
     ]
    },
    {
     "name": "stderr",
     "output_type": "stream",
     "text": [
      "11:43:19 - cmdstanpy - INFO - Chain [1] start processing\n",
      "11:43:19 - cmdstanpy - INFO - Chain [1] done processing\n",
      "c:\\Users\\natra\\AppData\\Local\\Programs\\Python\\Python310\\lib\\site-packages\\sklearn\\metrics\\_regression.py:492: FutureWarning: 'squared' is deprecated in version 1.4 and will be removed in 1.6. To calculate the root mean squared error, use the function'root_mean_squared_error'.\n",
      "  warnings.warn(\n",
      "11:43:19 - cmdstanpy - INFO - Chain [1] start processing\n",
      "11:43:19 - cmdstanpy - INFO - Chain [1] done processing\n",
      "c:\\Users\\natra\\AppData\\Local\\Programs\\Python\\Python310\\lib\\site-packages\\sklearn\\metrics\\_regression.py:492: FutureWarning: 'squared' is deprecated in version 1.4 and will be removed in 1.6. To calculate the root mean squared error, use the function'root_mean_squared_error'.\n",
      "  warnings.warn(\n",
      "11:43:20 - cmdstanpy - INFO - Chain [1] start processing\n",
      "11:43:20 - cmdstanpy - INFO - Chain [1] done processing\n",
      "c:\\Users\\natra\\AppData\\Local\\Programs\\Python\\Python310\\lib\\site-packages\\sklearn\\metrics\\_regression.py:492: FutureWarning: 'squared' is deprecated in version 1.4 and will be removed in 1.6. To calculate the root mean squared error, use the function'root_mean_squared_error'.\n",
      "  warnings.warn(\n",
      "11:43:20 - cmdstanpy - INFO - Chain [1] start processing\n",
      "11:43:21 - cmdstanpy - INFO - Chain [1] done processing\n",
      "c:\\Users\\natra\\AppData\\Local\\Programs\\Python\\Python310\\lib\\site-packages\\sklearn\\metrics\\_regression.py:492: FutureWarning: 'squared' is deprecated in version 1.4 and will be removed in 1.6. To calculate the root mean squared error, use the function'root_mean_squared_error'.\n",
      "  warnings.warn(\n",
      "11:43:21 - cmdstanpy - INFO - Chain [1] start processing\n",
      "11:43:21 - cmdstanpy - INFO - Chain [1] done processing\n",
      "c:\\Users\\natra\\AppData\\Local\\Programs\\Python\\Python310\\lib\\site-packages\\sklearn\\metrics\\_regression.py:492: FutureWarning: 'squared' is deprecated in version 1.4 and will be removed in 1.6. To calculate the root mean squared error, use the function'root_mean_squared_error'.\n",
      "  warnings.warn(\n"
     ]
    },
    {
     "name": "stdout",
     "output_type": "stream",
     "text": [
      "R² Score: 0.561, RMSE: 3.805, MAE: 2.841\n",
      "\n",
      "Evaluating: changepoint_prior_scale=0.08, seasonality_prior_scale=10.1, seasonality_mode=additive\n"
     ]
    },
    {
     "name": "stderr",
     "output_type": "stream",
     "text": [
      "11:43:22 - cmdstanpy - INFO - Chain [1] start processing\n",
      "11:43:22 - cmdstanpy - INFO - Chain [1] done processing\n",
      "c:\\Users\\natra\\AppData\\Local\\Programs\\Python\\Python310\\lib\\site-packages\\sklearn\\metrics\\_regression.py:492: FutureWarning: 'squared' is deprecated in version 1.4 and will be removed in 1.6. To calculate the root mean squared error, use the function'root_mean_squared_error'.\n",
      "  warnings.warn(\n",
      "11:43:22 - cmdstanpy - INFO - Chain [1] start processing\n",
      "11:43:23 - cmdstanpy - INFO - Chain [1] done processing\n",
      "c:\\Users\\natra\\AppData\\Local\\Programs\\Python\\Python310\\lib\\site-packages\\sklearn\\metrics\\_regression.py:492: FutureWarning: 'squared' is deprecated in version 1.4 and will be removed in 1.6. To calculate the root mean squared error, use the function'root_mean_squared_error'.\n",
      "  warnings.warn(\n",
      "11:43:24 - cmdstanpy - INFO - Chain [1] start processing\n",
      "11:43:24 - cmdstanpy - INFO - Chain [1] done processing\n",
      "c:\\Users\\natra\\AppData\\Local\\Programs\\Python\\Python310\\lib\\site-packages\\sklearn\\metrics\\_regression.py:492: FutureWarning: 'squared' is deprecated in version 1.4 and will be removed in 1.6. To calculate the root mean squared error, use the function'root_mean_squared_error'.\n",
      "  warnings.warn(\n",
      "11:43:24 - cmdstanpy - INFO - Chain [1] start processing\n",
      "11:43:24 - cmdstanpy - INFO - Chain [1] done processing\n",
      "c:\\Users\\natra\\AppData\\Local\\Programs\\Python\\Python310\\lib\\site-packages\\sklearn\\metrics\\_regression.py:492: FutureWarning: 'squared' is deprecated in version 1.4 and will be removed in 1.6. To calculate the root mean squared error, use the function'root_mean_squared_error'.\n",
      "  warnings.warn(\n",
      "11:43:25 - cmdstanpy - INFO - Chain [1] start processing\n",
      "11:43:25 - cmdstanpy - INFO - Chain [1] done processing\n",
      "c:\\Users\\natra\\AppData\\Local\\Programs\\Python\\Python310\\lib\\site-packages\\sklearn\\metrics\\_regression.py:492: FutureWarning: 'squared' is deprecated in version 1.4 and will be removed in 1.6. To calculate the root mean squared error, use the function'root_mean_squared_error'.\n",
      "  warnings.warn(\n"
     ]
    },
    {
     "name": "stdout",
     "output_type": "stream",
     "text": [
      "R² Score: 0.535, RMSE: 3.875, MAE: 2.874\n",
      "\n",
      "Evaluating: changepoint_prior_scale=0.08, seasonality_prior_scale=10.1, seasonality_mode=multiplicative\n"
     ]
    },
    {
     "name": "stderr",
     "output_type": "stream",
     "text": [
      "11:43:26 - cmdstanpy - INFO - Chain [1] start processing\n",
      "11:43:26 - cmdstanpy - INFO - Chain [1] done processing\n",
      "c:\\Users\\natra\\AppData\\Local\\Programs\\Python\\Python310\\lib\\site-packages\\sklearn\\metrics\\_regression.py:492: FutureWarning: 'squared' is deprecated in version 1.4 and will be removed in 1.6. To calculate the root mean squared error, use the function'root_mean_squared_error'.\n",
      "  warnings.warn(\n",
      "11:43:26 - cmdstanpy - INFO - Chain [1] start processing\n",
      "11:43:27 - cmdstanpy - INFO - Chain [1] done processing\n",
      "c:\\Users\\natra\\AppData\\Local\\Programs\\Python\\Python310\\lib\\site-packages\\sklearn\\metrics\\_regression.py:492: FutureWarning: 'squared' is deprecated in version 1.4 and will be removed in 1.6. To calculate the root mean squared error, use the function'root_mean_squared_error'.\n",
      "  warnings.warn(\n",
      "11:43:27 - cmdstanpy - INFO - Chain [1] start processing\n",
      "11:43:27 - cmdstanpy - INFO - Chain [1] done processing\n",
      "c:\\Users\\natra\\AppData\\Local\\Programs\\Python\\Python310\\lib\\site-packages\\sklearn\\metrics\\_regression.py:492: FutureWarning: 'squared' is deprecated in version 1.4 and will be removed in 1.6. To calculate the root mean squared error, use the function'root_mean_squared_error'.\n",
      "  warnings.warn(\n",
      "11:43:28 - cmdstanpy - INFO - Chain [1] start processing\n",
      "11:43:28 - cmdstanpy - INFO - Chain [1] done processing\n",
      "c:\\Users\\natra\\AppData\\Local\\Programs\\Python\\Python310\\lib\\site-packages\\sklearn\\metrics\\_regression.py:492: FutureWarning: 'squared' is deprecated in version 1.4 and will be removed in 1.6. To calculate the root mean squared error, use the function'root_mean_squared_error'.\n",
      "  warnings.warn(\n",
      "11:43:28 - cmdstanpy - INFO - Chain [1] start processing\n",
      "11:43:29 - cmdstanpy - INFO - Chain [1] done processing\n",
      "c:\\Users\\natra\\AppData\\Local\\Programs\\Python\\Python310\\lib\\site-packages\\sklearn\\metrics\\_regression.py:492: FutureWarning: 'squared' is deprecated in version 1.4 and will be removed in 1.6. To calculate the root mean squared error, use the function'root_mean_squared_error'.\n",
      "  warnings.warn(\n"
     ]
    },
    {
     "name": "stdout",
     "output_type": "stream",
     "text": [
      "R² Score: 0.578, RMSE: 3.753, MAE: 2.782\n",
      "\n",
      "Evaluating: changepoint_prior_scale=0.09, seasonality_prior_scale=0.1, seasonality_mode=additive\n"
     ]
    },
    {
     "name": "stderr",
     "output_type": "stream",
     "text": [
      "11:43:29 - cmdstanpy - INFO - Chain [1] start processing\n",
      "11:43:29 - cmdstanpy - INFO - Chain [1] done processing\n",
      "c:\\Users\\natra\\AppData\\Local\\Programs\\Python\\Python310\\lib\\site-packages\\sklearn\\metrics\\_regression.py:492: FutureWarning: 'squared' is deprecated in version 1.4 and will be removed in 1.6. To calculate the root mean squared error, use the function'root_mean_squared_error'.\n",
      "  warnings.warn(\n",
      "11:43:30 - cmdstanpy - INFO - Chain [1] start processing\n",
      "11:43:30 - cmdstanpy - INFO - Chain [1] done processing\n",
      "c:\\Users\\natra\\AppData\\Local\\Programs\\Python\\Python310\\lib\\site-packages\\sklearn\\metrics\\_regression.py:492: FutureWarning: 'squared' is deprecated in version 1.4 and will be removed in 1.6. To calculate the root mean squared error, use the function'root_mean_squared_error'.\n",
      "  warnings.warn(\n",
      "11:43:30 - cmdstanpy - INFO - Chain [1] start processing\n",
      "11:43:31 - cmdstanpy - INFO - Chain [1] done processing\n",
      "c:\\Users\\natra\\AppData\\Local\\Programs\\Python\\Python310\\lib\\site-packages\\sklearn\\metrics\\_regression.py:492: FutureWarning: 'squared' is deprecated in version 1.4 and will be removed in 1.6. To calculate the root mean squared error, use the function'root_mean_squared_error'.\n",
      "  warnings.warn(\n",
      "11:43:32 - cmdstanpy - INFO - Chain [1] start processing\n",
      "11:43:32 - cmdstanpy - INFO - Chain [1] done processing\n",
      "c:\\Users\\natra\\AppData\\Local\\Programs\\Python\\Python310\\lib\\site-packages\\sklearn\\metrics\\_regression.py:492: FutureWarning: 'squared' is deprecated in version 1.4 and will be removed in 1.6. To calculate the root mean squared error, use the function'root_mean_squared_error'.\n",
      "  warnings.warn(\n",
      "11:43:32 - cmdstanpy - INFO - Chain [1] start processing\n",
      "11:43:32 - cmdstanpy - INFO - Chain [1] done processing\n",
      "c:\\Users\\natra\\AppData\\Local\\Programs\\Python\\Python310\\lib\\site-packages\\sklearn\\metrics\\_regression.py:492: FutureWarning: 'squared' is deprecated in version 1.4 and will be removed in 1.6. To calculate the root mean squared error, use the function'root_mean_squared_error'.\n",
      "  warnings.warn(\n"
     ]
    },
    {
     "name": "stdout",
     "output_type": "stream",
     "text": [
      "R² Score: 0.526, RMSE: 3.899, MAE: 2.900\n",
      "\n",
      "Evaluating: changepoint_prior_scale=0.09, seasonality_prior_scale=0.1, seasonality_mode=multiplicative\n"
     ]
    },
    {
     "name": "stderr",
     "output_type": "stream",
     "text": [
      "11:43:33 - cmdstanpy - INFO - Chain [1] start processing\n",
      "11:43:33 - cmdstanpy - INFO - Chain [1] done processing\n",
      "c:\\Users\\natra\\AppData\\Local\\Programs\\Python\\Python310\\lib\\site-packages\\sklearn\\metrics\\_regression.py:492: FutureWarning: 'squared' is deprecated in version 1.4 and will be removed in 1.6. To calculate the root mean squared error, use the function'root_mean_squared_error'.\n",
      "  warnings.warn(\n",
      "11:43:34 - cmdstanpy - INFO - Chain [1] start processing\n",
      "11:43:34 - cmdstanpy - INFO - Chain [1] done processing\n",
      "c:\\Users\\natra\\AppData\\Local\\Programs\\Python\\Python310\\lib\\site-packages\\sklearn\\metrics\\_regression.py:492: FutureWarning: 'squared' is deprecated in version 1.4 and will be removed in 1.6. To calculate the root mean squared error, use the function'root_mean_squared_error'.\n",
      "  warnings.warn(\n",
      "11:43:35 - cmdstanpy - INFO - Chain [1] start processing\n",
      "11:43:35 - cmdstanpy - INFO - Chain [1] done processing\n",
      "c:\\Users\\natra\\AppData\\Local\\Programs\\Python\\Python310\\lib\\site-packages\\sklearn\\metrics\\_regression.py:492: FutureWarning: 'squared' is deprecated in version 1.4 and will be removed in 1.6. To calculate the root mean squared error, use the function'root_mean_squared_error'.\n",
      "  warnings.warn(\n",
      "11:43:35 - cmdstanpy - INFO - Chain [1] start processing\n",
      "11:43:36 - cmdstanpy - INFO - Chain [1] done processing\n",
      "c:\\Users\\natra\\AppData\\Local\\Programs\\Python\\Python310\\lib\\site-packages\\sklearn\\metrics\\_regression.py:492: FutureWarning: 'squared' is deprecated in version 1.4 and will be removed in 1.6. To calculate the root mean squared error, use the function'root_mean_squared_error'.\n",
      "  warnings.warn(\n",
      "11:43:36 - cmdstanpy - INFO - Chain [1] start processing\n",
      "11:43:36 - cmdstanpy - INFO - Chain [1] done processing\n",
      "c:\\Users\\natra\\AppData\\Local\\Programs\\Python\\Python310\\lib\\site-packages\\sklearn\\metrics\\_regression.py:492: FutureWarning: 'squared' is deprecated in version 1.4 and will be removed in 1.6. To calculate the root mean squared error, use the function'root_mean_squared_error'.\n",
      "  warnings.warn(\n"
     ]
    },
    {
     "name": "stdout",
     "output_type": "stream",
     "text": [
      "R² Score: 0.554, RMSE: 3.827, MAE: 2.874\n",
      "\n",
      "Evaluating: changepoint_prior_scale=0.09, seasonality_prior_scale=1.1, seasonality_mode=additive\n"
     ]
    },
    {
     "name": "stderr",
     "output_type": "stream",
     "text": [
      "11:43:37 - cmdstanpy - INFO - Chain [1] start processing\n",
      "11:43:37 - cmdstanpy - INFO - Chain [1] done processing\n",
      "c:\\Users\\natra\\AppData\\Local\\Programs\\Python\\Python310\\lib\\site-packages\\sklearn\\metrics\\_regression.py:492: FutureWarning: 'squared' is deprecated in version 1.4 and will be removed in 1.6. To calculate the root mean squared error, use the function'root_mean_squared_error'.\n",
      "  warnings.warn(\n",
      "11:43:37 - cmdstanpy - INFO - Chain [1] start processing\n",
      "11:43:38 - cmdstanpy - INFO - Chain [1] done processing\n",
      "c:\\Users\\natra\\AppData\\Local\\Programs\\Python\\Python310\\lib\\site-packages\\sklearn\\metrics\\_regression.py:492: FutureWarning: 'squared' is deprecated in version 1.4 and will be removed in 1.6. To calculate the root mean squared error, use the function'root_mean_squared_error'.\n",
      "  warnings.warn(\n",
      "11:43:38 - cmdstanpy - INFO - Chain [1] start processing\n",
      "11:43:38 - cmdstanpy - INFO - Chain [1] done processing\n",
      "c:\\Users\\natra\\AppData\\Local\\Programs\\Python\\Python310\\lib\\site-packages\\sklearn\\metrics\\_regression.py:492: FutureWarning: 'squared' is deprecated in version 1.4 and will be removed in 1.6. To calculate the root mean squared error, use the function'root_mean_squared_error'.\n",
      "  warnings.warn(\n",
      "11:43:39 - cmdstanpy - INFO - Chain [1] start processing\n",
      "11:43:39 - cmdstanpy - INFO - Chain [1] done processing\n",
      "c:\\Users\\natra\\AppData\\Local\\Programs\\Python\\Python310\\lib\\site-packages\\sklearn\\metrics\\_regression.py:492: FutureWarning: 'squared' is deprecated in version 1.4 and will be removed in 1.6. To calculate the root mean squared error, use the function'root_mean_squared_error'.\n",
      "  warnings.warn(\n",
      "11:43:40 - cmdstanpy - INFO - Chain [1] start processing\n",
      "11:43:40 - cmdstanpy - INFO - Chain [1] done processing\n",
      "c:\\Users\\natra\\AppData\\Local\\Programs\\Python\\Python310\\lib\\site-packages\\sklearn\\metrics\\_regression.py:492: FutureWarning: 'squared' is deprecated in version 1.4 and will be removed in 1.6. To calculate the root mean squared error, use the function'root_mean_squared_error'.\n",
      "  warnings.warn(\n"
     ]
    },
    {
     "name": "stdout",
     "output_type": "stream",
     "text": [
      "R² Score: 0.526, RMSE: 3.901, MAE: 2.905\n",
      "\n",
      "Evaluating: changepoint_prior_scale=0.09, seasonality_prior_scale=1.1, seasonality_mode=multiplicative\n"
     ]
    },
    {
     "name": "stderr",
     "output_type": "stream",
     "text": [
      "11:43:41 - cmdstanpy - INFO - Chain [1] start processing\n",
      "11:43:41 - cmdstanpy - INFO - Chain [1] done processing\n",
      "c:\\Users\\natra\\AppData\\Local\\Programs\\Python\\Python310\\lib\\site-packages\\sklearn\\metrics\\_regression.py:492: FutureWarning: 'squared' is deprecated in version 1.4 and will be removed in 1.6. To calculate the root mean squared error, use the function'root_mean_squared_error'.\n",
      "  warnings.warn(\n",
      "11:43:41 - cmdstanpy - INFO - Chain [1] start processing\n",
      "11:43:41 - cmdstanpy - INFO - Chain [1] done processing\n",
      "c:\\Users\\natra\\AppData\\Local\\Programs\\Python\\Python310\\lib\\site-packages\\sklearn\\metrics\\_regression.py:492: FutureWarning: 'squared' is deprecated in version 1.4 and will be removed in 1.6. To calculate the root mean squared error, use the function'root_mean_squared_error'.\n",
      "  warnings.warn(\n",
      "11:43:42 - cmdstanpy - INFO - Chain [1] start processing\n",
      "11:43:42 - cmdstanpy - INFO - Chain [1] done processing\n",
      "c:\\Users\\natra\\AppData\\Local\\Programs\\Python\\Python310\\lib\\site-packages\\sklearn\\metrics\\_regression.py:492: FutureWarning: 'squared' is deprecated in version 1.4 and will be removed in 1.6. To calculate the root mean squared error, use the function'root_mean_squared_error'.\n",
      "  warnings.warn(\n",
      "11:43:43 - cmdstanpy - INFO - Chain [1] start processing\n",
      "11:43:43 - cmdstanpy - INFO - Chain [1] done processing\n",
      "c:\\Users\\natra\\AppData\\Local\\Programs\\Python\\Python310\\lib\\site-packages\\sklearn\\metrics\\_regression.py:492: FutureWarning: 'squared' is deprecated in version 1.4 and will be removed in 1.6. To calculate the root mean squared error, use the function'root_mean_squared_error'.\n",
      "  warnings.warn(\n",
      "11:43:43 - cmdstanpy - INFO - Chain [1] start processing\n",
      "11:43:43 - cmdstanpy - INFO - Chain [1] done processing\n",
      "c:\\Users\\natra\\AppData\\Local\\Programs\\Python\\Python310\\lib\\site-packages\\sklearn\\metrics\\_regression.py:492: FutureWarning: 'squared' is deprecated in version 1.4 and will be removed in 1.6. To calculate the root mean squared error, use the function'root_mean_squared_error'.\n",
      "  warnings.warn(\n"
     ]
    },
    {
     "name": "stdout",
     "output_type": "stream",
     "text": [
      "R² Score: 0.556, RMSE: 3.821, MAE: 2.863\n",
      "\n",
      "Evaluating: changepoint_prior_scale=0.09, seasonality_prior_scale=2.1, seasonality_mode=additive\n"
     ]
    },
    {
     "name": "stderr",
     "output_type": "stream",
     "text": [
      "11:43:44 - cmdstanpy - INFO - Chain [1] start processing\n",
      "11:43:44 - cmdstanpy - INFO - Chain [1] done processing\n",
      "c:\\Users\\natra\\AppData\\Local\\Programs\\Python\\Python310\\lib\\site-packages\\sklearn\\metrics\\_regression.py:492: FutureWarning: 'squared' is deprecated in version 1.4 and will be removed in 1.6. To calculate the root mean squared error, use the function'root_mean_squared_error'.\n",
      "  warnings.warn(\n",
      "11:43:44 - cmdstanpy - INFO - Chain [1] start processing\n",
      "11:43:44 - cmdstanpy - INFO - Chain [1] done processing\n",
      "c:\\Users\\natra\\AppData\\Local\\Programs\\Python\\Python310\\lib\\site-packages\\sklearn\\metrics\\_regression.py:492: FutureWarning: 'squared' is deprecated in version 1.4 and will be removed in 1.6. To calculate the root mean squared error, use the function'root_mean_squared_error'.\n",
      "  warnings.warn(\n",
      "11:43:45 - cmdstanpy - INFO - Chain [1] start processing\n",
      "11:43:45 - cmdstanpy - INFO - Chain [1] done processing\n",
      "c:\\Users\\natra\\AppData\\Local\\Programs\\Python\\Python310\\lib\\site-packages\\sklearn\\metrics\\_regression.py:492: FutureWarning: 'squared' is deprecated in version 1.4 and will be removed in 1.6. To calculate the root mean squared error, use the function'root_mean_squared_error'.\n",
      "  warnings.warn(\n",
      "11:43:45 - cmdstanpy - INFO - Chain [1] start processing\n",
      "11:43:46 - cmdstanpy - INFO - Chain [1] done processing\n",
      "c:\\Users\\natra\\AppData\\Local\\Programs\\Python\\Python310\\lib\\site-packages\\sklearn\\metrics\\_regression.py:492: FutureWarning: 'squared' is deprecated in version 1.4 and will be removed in 1.6. To calculate the root mean squared error, use the function'root_mean_squared_error'.\n",
      "  warnings.warn(\n",
      "11:43:46 - cmdstanpy - INFO - Chain [1] start processing\n",
      "11:43:46 - cmdstanpy - INFO - Chain [1] done processing\n",
      "c:\\Users\\natra\\AppData\\Local\\Programs\\Python\\Python310\\lib\\site-packages\\sklearn\\metrics\\_regression.py:492: FutureWarning: 'squared' is deprecated in version 1.4 and will be removed in 1.6. To calculate the root mean squared error, use the function'root_mean_squared_error'.\n",
      "  warnings.warn(\n"
     ]
    },
    {
     "name": "stdout",
     "output_type": "stream",
     "text": [
      "R² Score: 0.529, RMSE: 3.891, MAE: 2.889\n",
      "\n",
      "Evaluating: changepoint_prior_scale=0.09, seasonality_prior_scale=2.1, seasonality_mode=multiplicative\n"
     ]
    },
    {
     "name": "stderr",
     "output_type": "stream",
     "text": [
      "11:43:47 - cmdstanpy - INFO - Chain [1] start processing\n",
      "11:43:47 - cmdstanpy - INFO - Chain [1] done processing\n",
      "c:\\Users\\natra\\AppData\\Local\\Programs\\Python\\Python310\\lib\\site-packages\\sklearn\\metrics\\_regression.py:492: FutureWarning: 'squared' is deprecated in version 1.4 and will be removed in 1.6. To calculate the root mean squared error, use the function'root_mean_squared_error'.\n",
      "  warnings.warn(\n",
      "11:43:47 - cmdstanpy - INFO - Chain [1] start processing\n",
      "11:43:47 - cmdstanpy - INFO - Chain [1] done processing\n",
      "c:\\Users\\natra\\AppData\\Local\\Programs\\Python\\Python310\\lib\\site-packages\\sklearn\\metrics\\_regression.py:492: FutureWarning: 'squared' is deprecated in version 1.4 and will be removed in 1.6. To calculate the root mean squared error, use the function'root_mean_squared_error'.\n",
      "  warnings.warn(\n",
      "11:43:48 - cmdstanpy - INFO - Chain [1] start processing\n",
      "11:43:48 - cmdstanpy - INFO - Chain [1] done processing\n",
      "c:\\Users\\natra\\AppData\\Local\\Programs\\Python\\Python310\\lib\\site-packages\\sklearn\\metrics\\_regression.py:492: FutureWarning: 'squared' is deprecated in version 1.4 and will be removed in 1.6. To calculate the root mean squared error, use the function'root_mean_squared_error'.\n",
      "  warnings.warn(\n",
      "11:43:48 - cmdstanpy - INFO - Chain [1] start processing\n",
      "11:43:48 - cmdstanpy - INFO - Chain [1] done processing\n",
      "c:\\Users\\natra\\AppData\\Local\\Programs\\Python\\Python310\\lib\\site-packages\\sklearn\\metrics\\_regression.py:492: FutureWarning: 'squared' is deprecated in version 1.4 and will be removed in 1.6. To calculate the root mean squared error, use the function'root_mean_squared_error'.\n",
      "  warnings.warn(\n",
      "11:43:49 - cmdstanpy - INFO - Chain [1] start processing\n",
      "11:43:49 - cmdstanpy - INFO - Chain [1] done processing\n",
      "c:\\Users\\natra\\AppData\\Local\\Programs\\Python\\Python310\\lib\\site-packages\\sklearn\\metrics\\_regression.py:492: FutureWarning: 'squared' is deprecated in version 1.4 and will be removed in 1.6. To calculate the root mean squared error, use the function'root_mean_squared_error'.\n",
      "  warnings.warn(\n"
     ]
    },
    {
     "name": "stdout",
     "output_type": "stream",
     "text": [
      "R² Score: 0.555, RMSE: 3.826, MAE: 2.878\n",
      "\n",
      "Evaluating: changepoint_prior_scale=0.09, seasonality_prior_scale=3.1, seasonality_mode=additive\n"
     ]
    },
    {
     "name": "stderr",
     "output_type": "stream",
     "text": [
      "11:43:49 - cmdstanpy - INFO - Chain [1] start processing\n",
      "11:43:49 - cmdstanpy - INFO - Chain [1] done processing\n",
      "c:\\Users\\natra\\AppData\\Local\\Programs\\Python\\Python310\\lib\\site-packages\\sklearn\\metrics\\_regression.py:492: FutureWarning: 'squared' is deprecated in version 1.4 and will be removed in 1.6. To calculate the root mean squared error, use the function'root_mean_squared_error'.\n",
      "  warnings.warn(\n",
      "11:43:50 - cmdstanpy - INFO - Chain [1] start processing\n",
      "11:43:50 - cmdstanpy - INFO - Chain [1] done processing\n",
      "c:\\Users\\natra\\AppData\\Local\\Programs\\Python\\Python310\\lib\\site-packages\\sklearn\\metrics\\_regression.py:492: FutureWarning: 'squared' is deprecated in version 1.4 and will be removed in 1.6. To calculate the root mean squared error, use the function'root_mean_squared_error'.\n",
      "  warnings.warn(\n",
      "11:43:50 - cmdstanpy - INFO - Chain [1] start processing\n",
      "11:43:51 - cmdstanpy - INFO - Chain [1] done processing\n",
      "c:\\Users\\natra\\AppData\\Local\\Programs\\Python\\Python310\\lib\\site-packages\\sklearn\\metrics\\_regression.py:492: FutureWarning: 'squared' is deprecated in version 1.4 and will be removed in 1.6. To calculate the root mean squared error, use the function'root_mean_squared_error'.\n",
      "  warnings.warn(\n",
      "11:43:51 - cmdstanpy - INFO - Chain [1] start processing\n",
      "11:43:51 - cmdstanpy - INFO - Chain [1] done processing\n",
      "c:\\Users\\natra\\AppData\\Local\\Programs\\Python\\Python310\\lib\\site-packages\\sklearn\\metrics\\_regression.py:492: FutureWarning: 'squared' is deprecated in version 1.4 and will be removed in 1.6. To calculate the root mean squared error, use the function'root_mean_squared_error'.\n",
      "  warnings.warn(\n",
      "11:43:51 - cmdstanpy - INFO - Chain [1] start processing\n",
      "11:43:52 - cmdstanpy - INFO - Chain [1] done processing\n",
      "c:\\Users\\natra\\AppData\\Local\\Programs\\Python\\Python310\\lib\\site-packages\\sklearn\\metrics\\_regression.py:492: FutureWarning: 'squared' is deprecated in version 1.4 and will be removed in 1.6. To calculate the root mean squared error, use the function'root_mean_squared_error'.\n",
      "  warnings.warn(\n"
     ]
    },
    {
     "name": "stdout",
     "output_type": "stream",
     "text": [
      "R² Score: 0.529, RMSE: 3.891, MAE: 2.889\n",
      "\n",
      "Evaluating: changepoint_prior_scale=0.09, seasonality_prior_scale=3.1, seasonality_mode=multiplicative\n"
     ]
    },
    {
     "name": "stderr",
     "output_type": "stream",
     "text": [
      "11:43:52 - cmdstanpy - INFO - Chain [1] start processing\n",
      "11:43:52 - cmdstanpy - INFO - Chain [1] done processing\n",
      "c:\\Users\\natra\\AppData\\Local\\Programs\\Python\\Python310\\lib\\site-packages\\sklearn\\metrics\\_regression.py:492: FutureWarning: 'squared' is deprecated in version 1.4 and will be removed in 1.6. To calculate the root mean squared error, use the function'root_mean_squared_error'.\n",
      "  warnings.warn(\n",
      "11:43:53 - cmdstanpy - INFO - Chain [1] start processing\n",
      "11:43:53 - cmdstanpy - INFO - Chain [1] done processing\n",
      "c:\\Users\\natra\\AppData\\Local\\Programs\\Python\\Python310\\lib\\site-packages\\sklearn\\metrics\\_regression.py:492: FutureWarning: 'squared' is deprecated in version 1.4 and will be removed in 1.6. To calculate the root mean squared error, use the function'root_mean_squared_error'.\n",
      "  warnings.warn(\n",
      "11:43:53 - cmdstanpy - INFO - Chain [1] start processing\n",
      "11:43:53 - cmdstanpy - INFO - Chain [1] done processing\n",
      "c:\\Users\\natra\\AppData\\Local\\Programs\\Python\\Python310\\lib\\site-packages\\sklearn\\metrics\\_regression.py:492: FutureWarning: 'squared' is deprecated in version 1.4 and will be removed in 1.6. To calculate the root mean squared error, use the function'root_mean_squared_error'.\n",
      "  warnings.warn(\n",
      "11:43:54 - cmdstanpy - INFO - Chain [1] start processing\n",
      "11:43:54 - cmdstanpy - INFO - Chain [1] done processing\n",
      "c:\\Users\\natra\\AppData\\Local\\Programs\\Python\\Python310\\lib\\site-packages\\sklearn\\metrics\\_regression.py:492: FutureWarning: 'squared' is deprecated in version 1.4 and will be removed in 1.6. To calculate the root mean squared error, use the function'root_mean_squared_error'.\n",
      "  warnings.warn(\n",
      "11:43:54 - cmdstanpy - INFO - Chain [1] start processing\n",
      "11:43:54 - cmdstanpy - INFO - Chain [1] done processing\n",
      "c:\\Users\\natra\\AppData\\Local\\Programs\\Python\\Python310\\lib\\site-packages\\sklearn\\metrics\\_regression.py:492: FutureWarning: 'squared' is deprecated in version 1.4 and will be removed in 1.6. To calculate the root mean squared error, use the function'root_mean_squared_error'.\n",
      "  warnings.warn(\n"
     ]
    },
    {
     "name": "stdout",
     "output_type": "stream",
     "text": [
      "R² Score: 0.554, RMSE: 3.828, MAE: 2.873\n",
      "\n",
      "Evaluating: changepoint_prior_scale=0.09, seasonality_prior_scale=4.1, seasonality_mode=additive\n"
     ]
    },
    {
     "name": "stderr",
     "output_type": "stream",
     "text": [
      "11:43:55 - cmdstanpy - INFO - Chain [1] start processing\n",
      "11:43:55 - cmdstanpy - INFO - Chain [1] done processing\n",
      "c:\\Users\\natra\\AppData\\Local\\Programs\\Python\\Python310\\lib\\site-packages\\sklearn\\metrics\\_regression.py:492: FutureWarning: 'squared' is deprecated in version 1.4 and will be removed in 1.6. To calculate the root mean squared error, use the function'root_mean_squared_error'.\n",
      "  warnings.warn(\n",
      "11:43:55 - cmdstanpy - INFO - Chain [1] start processing\n",
      "11:43:55 - cmdstanpy - INFO - Chain [1] done processing\n",
      "c:\\Users\\natra\\AppData\\Local\\Programs\\Python\\Python310\\lib\\site-packages\\sklearn\\metrics\\_regression.py:492: FutureWarning: 'squared' is deprecated in version 1.4 and will be removed in 1.6. To calculate the root mean squared error, use the function'root_mean_squared_error'.\n",
      "  warnings.warn(\n",
      "11:43:56 - cmdstanpy - INFO - Chain [1] start processing\n",
      "11:43:56 - cmdstanpy - INFO - Chain [1] done processing\n",
      "c:\\Users\\natra\\AppData\\Local\\Programs\\Python\\Python310\\lib\\site-packages\\sklearn\\metrics\\_regression.py:492: FutureWarning: 'squared' is deprecated in version 1.4 and will be removed in 1.6. To calculate the root mean squared error, use the function'root_mean_squared_error'.\n",
      "  warnings.warn(\n",
      "11:43:56 - cmdstanpy - INFO - Chain [1] start processing\n",
      "11:43:57 - cmdstanpy - INFO - Chain [1] done processing\n",
      "c:\\Users\\natra\\AppData\\Local\\Programs\\Python\\Python310\\lib\\site-packages\\sklearn\\metrics\\_regression.py:492: FutureWarning: 'squared' is deprecated in version 1.4 and will be removed in 1.6. To calculate the root mean squared error, use the function'root_mean_squared_error'.\n",
      "  warnings.warn(\n",
      "11:43:57 - cmdstanpy - INFO - Chain [1] start processing\n",
      "11:43:57 - cmdstanpy - INFO - Chain [1] done processing\n",
      "c:\\Users\\natra\\AppData\\Local\\Programs\\Python\\Python310\\lib\\site-packages\\sklearn\\metrics\\_regression.py:492: FutureWarning: 'squared' is deprecated in version 1.4 and will be removed in 1.6. To calculate the root mean squared error, use the function'root_mean_squared_error'.\n",
      "  warnings.warn(\n"
     ]
    },
    {
     "name": "stdout",
     "output_type": "stream",
     "text": [
      "R² Score: 0.529, RMSE: 3.890, MAE: 2.885\n",
      "\n",
      "Evaluating: changepoint_prior_scale=0.09, seasonality_prior_scale=4.1, seasonality_mode=multiplicative\n"
     ]
    },
    {
     "name": "stderr",
     "output_type": "stream",
     "text": [
      "11:43:58 - cmdstanpy - INFO - Chain [1] start processing\n",
      "11:43:58 - cmdstanpy - INFO - Chain [1] done processing\n",
      "c:\\Users\\natra\\AppData\\Local\\Programs\\Python\\Python310\\lib\\site-packages\\sklearn\\metrics\\_regression.py:492: FutureWarning: 'squared' is deprecated in version 1.4 and will be removed in 1.6. To calculate the root mean squared error, use the function'root_mean_squared_error'.\n",
      "  warnings.warn(\n",
      "11:43:58 - cmdstanpy - INFO - Chain [1] start processing\n",
      "11:43:58 - cmdstanpy - INFO - Chain [1] done processing\n",
      "c:\\Users\\natra\\AppData\\Local\\Programs\\Python\\Python310\\lib\\site-packages\\sklearn\\metrics\\_regression.py:492: FutureWarning: 'squared' is deprecated in version 1.4 and will be removed in 1.6. To calculate the root mean squared error, use the function'root_mean_squared_error'.\n",
      "  warnings.warn(\n",
      "11:43:59 - cmdstanpy - INFO - Chain [1] start processing\n",
      "11:43:59 - cmdstanpy - INFO - Chain [1] done processing\n",
      "c:\\Users\\natra\\AppData\\Local\\Programs\\Python\\Python310\\lib\\site-packages\\sklearn\\metrics\\_regression.py:492: FutureWarning: 'squared' is deprecated in version 1.4 and will be removed in 1.6. To calculate the root mean squared error, use the function'root_mean_squared_error'.\n",
      "  warnings.warn(\n",
      "11:43:59 - cmdstanpy - INFO - Chain [1] start processing\n",
      "11:43:59 - cmdstanpy - INFO - Chain [1] done processing\n",
      "c:\\Users\\natra\\AppData\\Local\\Programs\\Python\\Python310\\lib\\site-packages\\sklearn\\metrics\\_regression.py:492: FutureWarning: 'squared' is deprecated in version 1.4 and will be removed in 1.6. To calculate the root mean squared error, use the function'root_mean_squared_error'.\n",
      "  warnings.warn(\n",
      "11:44:00 - cmdstanpy - INFO - Chain [1] start processing\n",
      "11:44:00 - cmdstanpy - INFO - Chain [1] done processing\n",
      "c:\\Users\\natra\\AppData\\Local\\Programs\\Python\\Python310\\lib\\site-packages\\sklearn\\metrics\\_regression.py:492: FutureWarning: 'squared' is deprecated in version 1.4 and will be removed in 1.6. To calculate the root mean squared error, use the function'root_mean_squared_error'.\n",
      "  warnings.warn(\n"
     ]
    },
    {
     "name": "stdout",
     "output_type": "stream",
     "text": [
      "R² Score: 0.557, RMSE: 3.818, MAE: 2.862\n",
      "\n",
      "Evaluating: changepoint_prior_scale=0.09, seasonality_prior_scale=5.1, seasonality_mode=additive\n"
     ]
    },
    {
     "name": "stderr",
     "output_type": "stream",
     "text": [
      "11:44:00 - cmdstanpy - INFO - Chain [1] start processing\n",
      "11:44:00 - cmdstanpy - INFO - Chain [1] done processing\n",
      "c:\\Users\\natra\\AppData\\Local\\Programs\\Python\\Python310\\lib\\site-packages\\sklearn\\metrics\\_regression.py:492: FutureWarning: 'squared' is deprecated in version 1.4 and will be removed in 1.6. To calculate the root mean squared error, use the function'root_mean_squared_error'.\n",
      "  warnings.warn(\n",
      "11:44:01 - cmdstanpy - INFO - Chain [1] start processing\n",
      "11:44:01 - cmdstanpy - INFO - Chain [1] done processing\n",
      "c:\\Users\\natra\\AppData\\Local\\Programs\\Python\\Python310\\lib\\site-packages\\sklearn\\metrics\\_regression.py:492: FutureWarning: 'squared' is deprecated in version 1.4 and will be removed in 1.6. To calculate the root mean squared error, use the function'root_mean_squared_error'.\n",
      "  warnings.warn(\n",
      "11:44:01 - cmdstanpy - INFO - Chain [1] start processing\n",
      "11:44:02 - cmdstanpy - INFO - Chain [1] done processing\n",
      "c:\\Users\\natra\\AppData\\Local\\Programs\\Python\\Python310\\lib\\site-packages\\sklearn\\metrics\\_regression.py:492: FutureWarning: 'squared' is deprecated in version 1.4 and will be removed in 1.6. To calculate the root mean squared error, use the function'root_mean_squared_error'.\n",
      "  warnings.warn(\n",
      "11:44:02 - cmdstanpy - INFO - Chain [1] start processing\n",
      "11:44:02 - cmdstanpy - INFO - Chain [1] done processing\n",
      "c:\\Users\\natra\\AppData\\Local\\Programs\\Python\\Python310\\lib\\site-packages\\sklearn\\metrics\\_regression.py:492: FutureWarning: 'squared' is deprecated in version 1.4 and will be removed in 1.6. To calculate the root mean squared error, use the function'root_mean_squared_error'.\n",
      "  warnings.warn(\n",
      "11:44:02 - cmdstanpy - INFO - Chain [1] start processing\n",
      "11:44:03 - cmdstanpy - INFO - Chain [1] done processing\n",
      "c:\\Users\\natra\\AppData\\Local\\Programs\\Python\\Python310\\lib\\site-packages\\sklearn\\metrics\\_regression.py:492: FutureWarning: 'squared' is deprecated in version 1.4 and will be removed in 1.6. To calculate the root mean squared error, use the function'root_mean_squared_error'.\n",
      "  warnings.warn(\n"
     ]
    },
    {
     "name": "stdout",
     "output_type": "stream",
     "text": [
      "R² Score: 0.529, RMSE: 3.887, MAE: 2.886\n",
      "\n",
      "Evaluating: changepoint_prior_scale=0.09, seasonality_prior_scale=5.1, seasonality_mode=multiplicative\n"
     ]
    },
    {
     "name": "stderr",
     "output_type": "stream",
     "text": [
      "11:44:03 - cmdstanpy - INFO - Chain [1] start processing\n",
      "11:44:03 - cmdstanpy - INFO - Chain [1] done processing\n",
      "c:\\Users\\natra\\AppData\\Local\\Programs\\Python\\Python310\\lib\\site-packages\\sklearn\\metrics\\_regression.py:492: FutureWarning: 'squared' is deprecated in version 1.4 and will be removed in 1.6. To calculate the root mean squared error, use the function'root_mean_squared_error'.\n",
      "  warnings.warn(\n",
      "11:44:04 - cmdstanpy - INFO - Chain [1] start processing\n",
      "11:44:04 - cmdstanpy - INFO - Chain [1] done processing\n",
      "c:\\Users\\natra\\AppData\\Local\\Programs\\Python\\Python310\\lib\\site-packages\\sklearn\\metrics\\_regression.py:492: FutureWarning: 'squared' is deprecated in version 1.4 and will be removed in 1.6. To calculate the root mean squared error, use the function'root_mean_squared_error'.\n",
      "  warnings.warn(\n",
      "11:44:04 - cmdstanpy - INFO - Chain [1] start processing\n",
      "11:44:04 - cmdstanpy - INFO - Chain [1] done processing\n",
      "c:\\Users\\natra\\AppData\\Local\\Programs\\Python\\Python310\\lib\\site-packages\\sklearn\\metrics\\_regression.py:492: FutureWarning: 'squared' is deprecated in version 1.4 and will be removed in 1.6. To calculate the root mean squared error, use the function'root_mean_squared_error'.\n",
      "  warnings.warn(\n",
      "11:44:05 - cmdstanpy - INFO - Chain [1] start processing\n",
      "11:44:05 - cmdstanpy - INFO - Chain [1] done processing\n",
      "c:\\Users\\natra\\AppData\\Local\\Programs\\Python\\Python310\\lib\\site-packages\\sklearn\\metrics\\_regression.py:492: FutureWarning: 'squared' is deprecated in version 1.4 and will be removed in 1.6. To calculate the root mean squared error, use the function'root_mean_squared_error'.\n",
      "  warnings.warn(\n",
      "11:44:05 - cmdstanpy - INFO - Chain [1] start processing\n",
      "11:44:05 - cmdstanpy - INFO - Chain [1] done processing\n",
      "c:\\Users\\natra\\AppData\\Local\\Programs\\Python\\Python310\\lib\\site-packages\\sklearn\\metrics\\_regression.py:492: FutureWarning: 'squared' is deprecated in version 1.4 and will be removed in 1.6. To calculate the root mean squared error, use the function'root_mean_squared_error'.\n",
      "  warnings.warn(\n"
     ]
    },
    {
     "name": "stdout",
     "output_type": "stream",
     "text": [
      "R² Score: 0.557, RMSE: 3.819, MAE: 2.864\n",
      "\n",
      "Evaluating: changepoint_prior_scale=0.09, seasonality_prior_scale=6.1, seasonality_mode=additive\n"
     ]
    },
    {
     "name": "stderr",
     "output_type": "stream",
     "text": [
      "11:44:06 - cmdstanpy - INFO - Chain [1] start processing\n",
      "11:44:06 - cmdstanpy - INFO - Chain [1] done processing\n",
      "c:\\Users\\natra\\AppData\\Local\\Programs\\Python\\Python310\\lib\\site-packages\\sklearn\\metrics\\_regression.py:492: FutureWarning: 'squared' is deprecated in version 1.4 and will be removed in 1.6. To calculate the root mean squared error, use the function'root_mean_squared_error'.\n",
      "  warnings.warn(\n",
      "11:44:06 - cmdstanpy - INFO - Chain [1] start processing\n",
      "11:44:07 - cmdstanpy - INFO - Chain [1] done processing\n",
      "c:\\Users\\natra\\AppData\\Local\\Programs\\Python\\Python310\\lib\\site-packages\\sklearn\\metrics\\_regression.py:492: FutureWarning: 'squared' is deprecated in version 1.4 and will be removed in 1.6. To calculate the root mean squared error, use the function'root_mean_squared_error'.\n",
      "  warnings.warn(\n",
      "11:44:07 - cmdstanpy - INFO - Chain [1] start processing\n",
      "11:44:07 - cmdstanpy - INFO - Chain [1] done processing\n",
      "c:\\Users\\natra\\AppData\\Local\\Programs\\Python\\Python310\\lib\\site-packages\\sklearn\\metrics\\_regression.py:492: FutureWarning: 'squared' is deprecated in version 1.4 and will be removed in 1.6. To calculate the root mean squared error, use the function'root_mean_squared_error'.\n",
      "  warnings.warn(\n",
      "11:44:08 - cmdstanpy - INFO - Chain [1] start processing\n",
      "11:44:08 - cmdstanpy - INFO - Chain [1] done processing\n",
      "c:\\Users\\natra\\AppData\\Local\\Programs\\Python\\Python310\\lib\\site-packages\\sklearn\\metrics\\_regression.py:492: FutureWarning: 'squared' is deprecated in version 1.4 and will be removed in 1.6. To calculate the root mean squared error, use the function'root_mean_squared_error'.\n",
      "  warnings.warn(\n",
      "11:44:08 - cmdstanpy - INFO - Chain [1] start processing\n",
      "11:44:08 - cmdstanpy - INFO - Chain [1] done processing\n",
      "c:\\Users\\natra\\AppData\\Local\\Programs\\Python\\Python310\\lib\\site-packages\\sklearn\\metrics\\_regression.py:492: FutureWarning: 'squared' is deprecated in version 1.4 and will be removed in 1.6. To calculate the root mean squared error, use the function'root_mean_squared_error'.\n",
      "  warnings.warn(\n"
     ]
    },
    {
     "name": "stdout",
     "output_type": "stream",
     "text": [
      "R² Score: 0.527, RMSE: 3.895, MAE: 2.891\n",
      "\n",
      "Evaluating: changepoint_prior_scale=0.09, seasonality_prior_scale=6.1, seasonality_mode=multiplicative\n"
     ]
    },
    {
     "name": "stderr",
     "output_type": "stream",
     "text": [
      "11:44:09 - cmdstanpy - INFO - Chain [1] start processing\n",
      "11:44:09 - cmdstanpy - INFO - Chain [1] done processing\n",
      "c:\\Users\\natra\\AppData\\Local\\Programs\\Python\\Python310\\lib\\site-packages\\sklearn\\metrics\\_regression.py:492: FutureWarning: 'squared' is deprecated in version 1.4 and will be removed in 1.6. To calculate the root mean squared error, use the function'root_mean_squared_error'.\n",
      "  warnings.warn(\n",
      "11:44:10 - cmdstanpy - INFO - Chain [1] start processing\n",
      "11:44:10 - cmdstanpy - INFO - Chain [1] done processing\n",
      "c:\\Users\\natra\\AppData\\Local\\Programs\\Python\\Python310\\lib\\site-packages\\sklearn\\metrics\\_regression.py:492: FutureWarning: 'squared' is deprecated in version 1.4 and will be removed in 1.6. To calculate the root mean squared error, use the function'root_mean_squared_error'.\n",
      "  warnings.warn(\n",
      "11:44:10 - cmdstanpy - INFO - Chain [1] start processing\n",
      "11:44:10 - cmdstanpy - INFO - Chain [1] done processing\n",
      "c:\\Users\\natra\\AppData\\Local\\Programs\\Python\\Python310\\lib\\site-packages\\sklearn\\metrics\\_regression.py:492: FutureWarning: 'squared' is deprecated in version 1.4 and will be removed in 1.6. To calculate the root mean squared error, use the function'root_mean_squared_error'.\n",
      "  warnings.warn(\n",
      "11:44:11 - cmdstanpy - INFO - Chain [1] start processing\n",
      "11:44:11 - cmdstanpy - INFO - Chain [1] done processing\n",
      "c:\\Users\\natra\\AppData\\Local\\Programs\\Python\\Python310\\lib\\site-packages\\sklearn\\metrics\\_regression.py:492: FutureWarning: 'squared' is deprecated in version 1.4 and will be removed in 1.6. To calculate the root mean squared error, use the function'root_mean_squared_error'.\n",
      "  warnings.warn(\n",
      "11:44:11 - cmdstanpy - INFO - Chain [1] start processing\n",
      "11:44:12 - cmdstanpy - INFO - Chain [1] done processing\n",
      "c:\\Users\\natra\\AppData\\Local\\Programs\\Python\\Python310\\lib\\site-packages\\sklearn\\metrics\\_regression.py:492: FutureWarning: 'squared' is deprecated in version 1.4 and will be removed in 1.6. To calculate the root mean squared error, use the function'root_mean_squared_error'.\n",
      "  warnings.warn(\n"
     ]
    },
    {
     "name": "stdout",
     "output_type": "stream",
     "text": [
      "R² Score: 0.557, RMSE: 3.817, MAE: 2.856\n",
      "\n",
      "Evaluating: changepoint_prior_scale=0.09, seasonality_prior_scale=7.1, seasonality_mode=additive\n"
     ]
    },
    {
     "name": "stderr",
     "output_type": "stream",
     "text": [
      "11:44:12 - cmdstanpy - INFO - Chain [1] start processing\n",
      "11:44:12 - cmdstanpy - INFO - Chain [1] done processing\n",
      "c:\\Users\\natra\\AppData\\Local\\Programs\\Python\\Python310\\lib\\site-packages\\sklearn\\metrics\\_regression.py:492: FutureWarning: 'squared' is deprecated in version 1.4 and will be removed in 1.6. To calculate the root mean squared error, use the function'root_mean_squared_error'.\n",
      "  warnings.warn(\n",
      "11:44:13 - cmdstanpy - INFO - Chain [1] start processing\n",
      "11:44:13 - cmdstanpy - INFO - Chain [1] done processing\n",
      "c:\\Users\\natra\\AppData\\Local\\Programs\\Python\\Python310\\lib\\site-packages\\sklearn\\metrics\\_regression.py:492: FutureWarning: 'squared' is deprecated in version 1.4 and will be removed in 1.6. To calculate the root mean squared error, use the function'root_mean_squared_error'.\n",
      "  warnings.warn(\n",
      "11:44:13 - cmdstanpy - INFO - Chain [1] start processing\n",
      "11:44:13 - cmdstanpy - INFO - Chain [1] done processing\n",
      "c:\\Users\\natra\\AppData\\Local\\Programs\\Python\\Python310\\lib\\site-packages\\sklearn\\metrics\\_regression.py:492: FutureWarning: 'squared' is deprecated in version 1.4 and will be removed in 1.6. To calculate the root mean squared error, use the function'root_mean_squared_error'.\n",
      "  warnings.warn(\n",
      "11:44:14 - cmdstanpy - INFO - Chain [1] start processing\n",
      "11:44:14 - cmdstanpy - INFO - Chain [1] done processing\n",
      "c:\\Users\\natra\\AppData\\Local\\Programs\\Python\\Python310\\lib\\site-packages\\sklearn\\metrics\\_regression.py:492: FutureWarning: 'squared' is deprecated in version 1.4 and will be removed in 1.6. To calculate the root mean squared error, use the function'root_mean_squared_error'.\n",
      "  warnings.warn(\n",
      "11:44:15 - cmdstanpy - INFO - Chain [1] start processing\n",
      "11:44:15 - cmdstanpy - INFO - Chain [1] done processing\n",
      "c:\\Users\\natra\\AppData\\Local\\Programs\\Python\\Python310\\lib\\site-packages\\sklearn\\metrics\\_regression.py:492: FutureWarning: 'squared' is deprecated in version 1.4 and will be removed in 1.6. To calculate the root mean squared error, use the function'root_mean_squared_error'.\n",
      "  warnings.warn(\n"
     ]
    },
    {
     "name": "stdout",
     "output_type": "stream",
     "text": [
      "R² Score: 0.526, RMSE: 3.898, MAE: 2.893\n",
      "\n",
      "Evaluating: changepoint_prior_scale=0.09, seasonality_prior_scale=7.1, seasonality_mode=multiplicative\n"
     ]
    },
    {
     "name": "stderr",
     "output_type": "stream",
     "text": [
      "11:44:15 - cmdstanpy - INFO - Chain [1] start processing\n",
      "11:44:15 - cmdstanpy - INFO - Chain [1] done processing\n",
      "c:\\Users\\natra\\AppData\\Local\\Programs\\Python\\Python310\\lib\\site-packages\\sklearn\\metrics\\_regression.py:492: FutureWarning: 'squared' is deprecated in version 1.4 and will be removed in 1.6. To calculate the root mean squared error, use the function'root_mean_squared_error'.\n",
      "  warnings.warn(\n",
      "11:44:16 - cmdstanpy - INFO - Chain [1] start processing\n",
      "11:44:16 - cmdstanpy - INFO - Chain [1] done processing\n",
      "c:\\Users\\natra\\AppData\\Local\\Programs\\Python\\Python310\\lib\\site-packages\\sklearn\\metrics\\_regression.py:492: FutureWarning: 'squared' is deprecated in version 1.4 and will be removed in 1.6. To calculate the root mean squared error, use the function'root_mean_squared_error'.\n",
      "  warnings.warn(\n",
      "11:44:16 - cmdstanpy - INFO - Chain [1] start processing\n",
      "11:44:17 - cmdstanpy - INFO - Chain [1] done processing\n",
      "c:\\Users\\natra\\AppData\\Local\\Programs\\Python\\Python310\\lib\\site-packages\\sklearn\\metrics\\_regression.py:492: FutureWarning: 'squared' is deprecated in version 1.4 and will be removed in 1.6. To calculate the root mean squared error, use the function'root_mean_squared_error'.\n",
      "  warnings.warn(\n",
      "11:44:17 - cmdstanpy - INFO - Chain [1] start processing\n",
      "11:44:17 - cmdstanpy - INFO - Chain [1] done processing\n",
      "c:\\Users\\natra\\AppData\\Local\\Programs\\Python\\Python310\\lib\\site-packages\\sklearn\\metrics\\_regression.py:492: FutureWarning: 'squared' is deprecated in version 1.4 and will be removed in 1.6. To calculate the root mean squared error, use the function'root_mean_squared_error'.\n",
      "  warnings.warn(\n",
      "11:44:18 - cmdstanpy - INFO - Chain [1] start processing\n",
      "11:44:18 - cmdstanpy - INFO - Chain [1] done processing\n",
      "c:\\Users\\natra\\AppData\\Local\\Programs\\Python\\Python310\\lib\\site-packages\\sklearn\\metrics\\_regression.py:492: FutureWarning: 'squared' is deprecated in version 1.4 and will be removed in 1.6. To calculate the root mean squared error, use the function'root_mean_squared_error'.\n",
      "  warnings.warn(\n"
     ]
    },
    {
     "name": "stdout",
     "output_type": "stream",
     "text": [
      "R² Score: 0.557, RMSE: 3.818, MAE: 2.858\n",
      "\n",
      "Evaluating: changepoint_prior_scale=0.09, seasonality_prior_scale=8.1, seasonality_mode=additive\n"
     ]
    },
    {
     "name": "stderr",
     "output_type": "stream",
     "text": [
      "11:44:18 - cmdstanpy - INFO - Chain [1] start processing\n",
      "11:44:18 - cmdstanpy - INFO - Chain [1] done processing\n",
      "c:\\Users\\natra\\AppData\\Local\\Programs\\Python\\Python310\\lib\\site-packages\\sklearn\\metrics\\_regression.py:492: FutureWarning: 'squared' is deprecated in version 1.4 and will be removed in 1.6. To calculate the root mean squared error, use the function'root_mean_squared_error'.\n",
      "  warnings.warn(\n",
      "11:44:19 - cmdstanpy - INFO - Chain [1] start processing\n",
      "11:44:19 - cmdstanpy - INFO - Chain [1] done processing\n",
      "c:\\Users\\natra\\AppData\\Local\\Programs\\Python\\Python310\\lib\\site-packages\\sklearn\\metrics\\_regression.py:492: FutureWarning: 'squared' is deprecated in version 1.4 and will be removed in 1.6. To calculate the root mean squared error, use the function'root_mean_squared_error'.\n",
      "  warnings.warn(\n",
      "11:44:19 - cmdstanpy - INFO - Chain [1] start processing\n",
      "11:44:20 - cmdstanpy - INFO - Chain [1] done processing\n",
      "c:\\Users\\natra\\AppData\\Local\\Programs\\Python\\Python310\\lib\\site-packages\\sklearn\\metrics\\_regression.py:492: FutureWarning: 'squared' is deprecated in version 1.4 and will be removed in 1.6. To calculate the root mean squared error, use the function'root_mean_squared_error'.\n",
      "  warnings.warn(\n",
      "11:44:20 - cmdstanpy - INFO - Chain [1] start processing\n",
      "11:44:20 - cmdstanpy - INFO - Chain [1] done processing\n",
      "c:\\Users\\natra\\AppData\\Local\\Programs\\Python\\Python310\\lib\\site-packages\\sklearn\\metrics\\_regression.py:492: FutureWarning: 'squared' is deprecated in version 1.4 and will be removed in 1.6. To calculate the root mean squared error, use the function'root_mean_squared_error'.\n",
      "  warnings.warn(\n",
      "11:44:21 - cmdstanpy - INFO - Chain [1] start processing\n",
      "11:44:21 - cmdstanpy - INFO - Chain [1] done processing\n",
      "c:\\Users\\natra\\AppData\\Local\\Programs\\Python\\Python310\\lib\\site-packages\\sklearn\\metrics\\_regression.py:492: FutureWarning: 'squared' is deprecated in version 1.4 and will be removed in 1.6. To calculate the root mean squared error, use the function'root_mean_squared_error'.\n",
      "  warnings.warn(\n"
     ]
    },
    {
     "name": "stdout",
     "output_type": "stream",
     "text": [
      "R² Score: 0.525, RMSE: 3.900, MAE: 2.899\n",
      "\n",
      "Evaluating: changepoint_prior_scale=0.09, seasonality_prior_scale=8.1, seasonality_mode=multiplicative\n"
     ]
    },
    {
     "name": "stderr",
     "output_type": "stream",
     "text": [
      "11:44:21 - cmdstanpy - INFO - Chain [1] start processing\n",
      "11:44:21 - cmdstanpy - INFO - Chain [1] done processing\n",
      "c:\\Users\\natra\\AppData\\Local\\Programs\\Python\\Python310\\lib\\site-packages\\sklearn\\metrics\\_regression.py:492: FutureWarning: 'squared' is deprecated in version 1.4 and will be removed in 1.6. To calculate the root mean squared error, use the function'root_mean_squared_error'.\n",
      "  warnings.warn(\n",
      "11:44:22 - cmdstanpy - INFO - Chain [1] start processing\n",
      "11:44:22 - cmdstanpy - INFO - Chain [1] done processing\n",
      "c:\\Users\\natra\\AppData\\Local\\Programs\\Python\\Python310\\lib\\site-packages\\sklearn\\metrics\\_regression.py:492: FutureWarning: 'squared' is deprecated in version 1.4 and will be removed in 1.6. To calculate the root mean squared error, use the function'root_mean_squared_error'.\n",
      "  warnings.warn(\n",
      "11:44:22 - cmdstanpy - INFO - Chain [1] start processing\n",
      "11:44:22 - cmdstanpy - INFO - Chain [1] done processing\n",
      "c:\\Users\\natra\\AppData\\Local\\Programs\\Python\\Python310\\lib\\site-packages\\sklearn\\metrics\\_regression.py:492: FutureWarning: 'squared' is deprecated in version 1.4 and will be removed in 1.6. To calculate the root mean squared error, use the function'root_mean_squared_error'.\n",
      "  warnings.warn(\n",
      "11:44:23 - cmdstanpy - INFO - Chain [1] start processing\n",
      "11:44:23 - cmdstanpy - INFO - Chain [1] done processing\n",
      "c:\\Users\\natra\\AppData\\Local\\Programs\\Python\\Python310\\lib\\site-packages\\sklearn\\metrics\\_regression.py:492: FutureWarning: 'squared' is deprecated in version 1.4 and will be removed in 1.6. To calculate the root mean squared error, use the function'root_mean_squared_error'.\n",
      "  warnings.warn(\n",
      "11:44:23 - cmdstanpy - INFO - Chain [1] start processing\n",
      "11:44:23 - cmdstanpy - INFO - Chain [1] done processing\n",
      "c:\\Users\\natra\\AppData\\Local\\Programs\\Python\\Python310\\lib\\site-packages\\sklearn\\metrics\\_regression.py:492: FutureWarning: 'squared' is deprecated in version 1.4 and will be removed in 1.6. To calculate the root mean squared error, use the function'root_mean_squared_error'.\n",
      "  warnings.warn(\n"
     ]
    },
    {
     "name": "stdout",
     "output_type": "stream",
     "text": [
      "R² Score: 0.557, RMSE: 3.820, MAE: 2.862\n",
      "\n",
      "Evaluating: changepoint_prior_scale=0.09, seasonality_prior_scale=9.1, seasonality_mode=additive\n"
     ]
    },
    {
     "name": "stderr",
     "output_type": "stream",
     "text": [
      "11:44:24 - cmdstanpy - INFO - Chain [1] start processing\n",
      "11:44:24 - cmdstanpy - INFO - Chain [1] done processing\n",
      "c:\\Users\\natra\\AppData\\Local\\Programs\\Python\\Python310\\lib\\site-packages\\sklearn\\metrics\\_regression.py:492: FutureWarning: 'squared' is deprecated in version 1.4 and will be removed in 1.6. To calculate the root mean squared error, use the function'root_mean_squared_error'.\n",
      "  warnings.warn(\n",
      "11:44:24 - cmdstanpy - INFO - Chain [1] start processing\n",
      "11:44:24 - cmdstanpy - INFO - Chain [1] done processing\n",
      "c:\\Users\\natra\\AppData\\Local\\Programs\\Python\\Python310\\lib\\site-packages\\sklearn\\metrics\\_regression.py:492: FutureWarning: 'squared' is deprecated in version 1.4 and will be removed in 1.6. To calculate the root mean squared error, use the function'root_mean_squared_error'.\n",
      "  warnings.warn(\n",
      "11:44:25 - cmdstanpy - INFO - Chain [1] start processing\n",
      "11:44:25 - cmdstanpy - INFO - Chain [1] done processing\n",
      "c:\\Users\\natra\\AppData\\Local\\Programs\\Python\\Python310\\lib\\site-packages\\sklearn\\metrics\\_regression.py:492: FutureWarning: 'squared' is deprecated in version 1.4 and will be removed in 1.6. To calculate the root mean squared error, use the function'root_mean_squared_error'.\n",
      "  warnings.warn(\n",
      "11:44:25 - cmdstanpy - INFO - Chain [1] start processing\n",
      "11:44:25 - cmdstanpy - INFO - Chain [1] done processing\n",
      "c:\\Users\\natra\\AppData\\Local\\Programs\\Python\\Python310\\lib\\site-packages\\sklearn\\metrics\\_regression.py:492: FutureWarning: 'squared' is deprecated in version 1.4 and will be removed in 1.6. To calculate the root mean squared error, use the function'root_mean_squared_error'.\n",
      "  warnings.warn(\n",
      "11:44:26 - cmdstanpy - INFO - Chain [1] start processing\n",
      "11:44:26 - cmdstanpy - INFO - Chain [1] done processing\n",
      "c:\\Users\\natra\\AppData\\Local\\Programs\\Python\\Python310\\lib\\site-packages\\sklearn\\metrics\\_regression.py:492: FutureWarning: 'squared' is deprecated in version 1.4 and will be removed in 1.6. To calculate the root mean squared error, use the function'root_mean_squared_error'.\n",
      "  warnings.warn(\n"
     ]
    },
    {
     "name": "stdout",
     "output_type": "stream",
     "text": [
      "R² Score: 0.528, RMSE: 3.890, MAE: 2.884\n",
      "\n",
      "Evaluating: changepoint_prior_scale=0.09, seasonality_prior_scale=9.1, seasonality_mode=multiplicative\n"
     ]
    },
    {
     "name": "stderr",
     "output_type": "stream",
     "text": [
      "11:44:26 - cmdstanpy - INFO - Chain [1] start processing\n",
      "11:44:27 - cmdstanpy - INFO - Chain [1] done processing\n",
      "c:\\Users\\natra\\AppData\\Local\\Programs\\Python\\Python310\\lib\\site-packages\\sklearn\\metrics\\_regression.py:492: FutureWarning: 'squared' is deprecated in version 1.4 and will be removed in 1.6. To calculate the root mean squared error, use the function'root_mean_squared_error'.\n",
      "  warnings.warn(\n",
      "11:44:27 - cmdstanpy - INFO - Chain [1] start processing\n",
      "11:44:27 - cmdstanpy - INFO - Chain [1] done processing\n",
      "c:\\Users\\natra\\AppData\\Local\\Programs\\Python\\Python310\\lib\\site-packages\\sklearn\\metrics\\_regression.py:492: FutureWarning: 'squared' is deprecated in version 1.4 and will be removed in 1.6. To calculate the root mean squared error, use the function'root_mean_squared_error'.\n",
      "  warnings.warn(\n",
      "11:44:28 - cmdstanpy - INFO - Chain [1] start processing\n",
      "11:44:28 - cmdstanpy - INFO - Chain [1] done processing\n",
      "c:\\Users\\natra\\AppData\\Local\\Programs\\Python\\Python310\\lib\\site-packages\\sklearn\\metrics\\_regression.py:492: FutureWarning: 'squared' is deprecated in version 1.4 and will be removed in 1.6. To calculate the root mean squared error, use the function'root_mean_squared_error'.\n",
      "  warnings.warn(\n",
      "11:44:28 - cmdstanpy - INFO - Chain [1] start processing\n",
      "11:44:28 - cmdstanpy - INFO - Chain [1] done processing\n",
      "c:\\Users\\natra\\AppData\\Local\\Programs\\Python\\Python310\\lib\\site-packages\\sklearn\\metrics\\_regression.py:492: FutureWarning: 'squared' is deprecated in version 1.4 and will be removed in 1.6. To calculate the root mean squared error, use the function'root_mean_squared_error'.\n",
      "  warnings.warn(\n",
      "11:44:29 - cmdstanpy - INFO - Chain [1] start processing\n",
      "11:44:29 - cmdstanpy - INFO - Chain [1] done processing\n",
      "c:\\Users\\natra\\AppData\\Local\\Programs\\Python\\Python310\\lib\\site-packages\\sklearn\\metrics\\_regression.py:492: FutureWarning: 'squared' is deprecated in version 1.4 and will be removed in 1.6. To calculate the root mean squared error, use the function'root_mean_squared_error'.\n",
      "  warnings.warn(\n"
     ]
    },
    {
     "name": "stdout",
     "output_type": "stream",
     "text": [
      "R² Score: 0.554, RMSE: 3.832, MAE: 2.886\n",
      "\n",
      "Evaluating: changepoint_prior_scale=0.09, seasonality_prior_scale=10.1, seasonality_mode=additive\n"
     ]
    },
    {
     "name": "stderr",
     "output_type": "stream",
     "text": [
      "11:44:29 - cmdstanpy - INFO - Chain [1] start processing\n",
      "11:44:29 - cmdstanpy - INFO - Chain [1] done processing\n",
      "c:\\Users\\natra\\AppData\\Local\\Programs\\Python\\Python310\\lib\\site-packages\\sklearn\\metrics\\_regression.py:492: FutureWarning: 'squared' is deprecated in version 1.4 and will be removed in 1.6. To calculate the root mean squared error, use the function'root_mean_squared_error'.\n",
      "  warnings.warn(\n",
      "11:44:30 - cmdstanpy - INFO - Chain [1] start processing\n",
      "11:44:30 - cmdstanpy - INFO - Chain [1] done processing\n",
      "c:\\Users\\natra\\AppData\\Local\\Programs\\Python\\Python310\\lib\\site-packages\\sklearn\\metrics\\_regression.py:492: FutureWarning: 'squared' is deprecated in version 1.4 and will be removed in 1.6. To calculate the root mean squared error, use the function'root_mean_squared_error'.\n",
      "  warnings.warn(\n",
      "11:44:30 - cmdstanpy - INFO - Chain [1] start processing\n",
      "11:44:30 - cmdstanpy - INFO - Chain [1] done processing\n",
      "c:\\Users\\natra\\AppData\\Local\\Programs\\Python\\Python310\\lib\\site-packages\\sklearn\\metrics\\_regression.py:492: FutureWarning: 'squared' is deprecated in version 1.4 and will be removed in 1.6. To calculate the root mean squared error, use the function'root_mean_squared_error'.\n",
      "  warnings.warn(\n",
      "11:44:31 - cmdstanpy - INFO - Chain [1] start processing\n",
      "11:44:31 - cmdstanpy - INFO - Chain [1] done processing\n",
      "c:\\Users\\natra\\AppData\\Local\\Programs\\Python\\Python310\\lib\\site-packages\\sklearn\\metrics\\_regression.py:492: FutureWarning: 'squared' is deprecated in version 1.4 and will be removed in 1.6. To calculate the root mean squared error, use the function'root_mean_squared_error'.\n",
      "  warnings.warn(\n",
      "11:44:31 - cmdstanpy - INFO - Chain [1] start processing\n",
      "11:44:31 - cmdstanpy - INFO - Chain [1] done processing\n",
      "c:\\Users\\natra\\AppData\\Local\\Programs\\Python\\Python310\\lib\\site-packages\\sklearn\\metrics\\_regression.py:492: FutureWarning: 'squared' is deprecated in version 1.4 and will be removed in 1.6. To calculate the root mean squared error, use the function'root_mean_squared_error'.\n",
      "  warnings.warn(\n"
     ]
    },
    {
     "name": "stdout",
     "output_type": "stream",
     "text": [
      "R² Score: 0.526, RMSE: 3.896, MAE: 2.895\n",
      "\n",
      "Evaluating: changepoint_prior_scale=0.09, seasonality_prior_scale=10.1, seasonality_mode=multiplicative\n"
     ]
    },
    {
     "name": "stderr",
     "output_type": "stream",
     "text": [
      "11:44:32 - cmdstanpy - INFO - Chain [1] start processing\n",
      "11:44:32 - cmdstanpy - INFO - Chain [1] done processing\n",
      "c:\\Users\\natra\\AppData\\Local\\Programs\\Python\\Python310\\lib\\site-packages\\sklearn\\metrics\\_regression.py:492: FutureWarning: 'squared' is deprecated in version 1.4 and will be removed in 1.6. To calculate the root mean squared error, use the function'root_mean_squared_error'.\n",
      "  warnings.warn(\n",
      "11:44:32 - cmdstanpy - INFO - Chain [1] start processing\n",
      "11:44:33 - cmdstanpy - INFO - Chain [1] done processing\n",
      "c:\\Users\\natra\\AppData\\Local\\Programs\\Python\\Python310\\lib\\site-packages\\sklearn\\metrics\\_regression.py:492: FutureWarning: 'squared' is deprecated in version 1.4 and will be removed in 1.6. To calculate the root mean squared error, use the function'root_mean_squared_error'.\n",
      "  warnings.warn(\n",
      "11:44:33 - cmdstanpy - INFO - Chain [1] start processing\n",
      "11:44:33 - cmdstanpy - INFO - Chain [1] done processing\n",
      "c:\\Users\\natra\\AppData\\Local\\Programs\\Python\\Python310\\lib\\site-packages\\sklearn\\metrics\\_regression.py:492: FutureWarning: 'squared' is deprecated in version 1.4 and will be removed in 1.6. To calculate the root mean squared error, use the function'root_mean_squared_error'.\n",
      "  warnings.warn(\n",
      "11:44:34 - cmdstanpy - INFO - Chain [1] start processing\n",
      "11:44:34 - cmdstanpy - INFO - Chain [1] done processing\n",
      "c:\\Users\\natra\\AppData\\Local\\Programs\\Python\\Python310\\lib\\site-packages\\sklearn\\metrics\\_regression.py:492: FutureWarning: 'squared' is deprecated in version 1.4 and will be removed in 1.6. To calculate the root mean squared error, use the function'root_mean_squared_error'.\n",
      "  warnings.warn(\n",
      "11:44:34 - cmdstanpy - INFO - Chain [1] start processing\n",
      "11:44:34 - cmdstanpy - INFO - Chain [1] done processing\n",
      "c:\\Users\\natra\\AppData\\Local\\Programs\\Python\\Python310\\lib\\site-packages\\sklearn\\metrics\\_regression.py:492: FutureWarning: 'squared' is deprecated in version 1.4 and will be removed in 1.6. To calculate the root mean squared error, use the function'root_mean_squared_error'.\n",
      "  warnings.warn(\n"
     ]
    },
    {
     "name": "stdout",
     "output_type": "stream",
     "text": [
      "R² Score: 0.559, RMSE: 3.810, MAE: 2.848\n",
      "\n",
      "Evaluating: changepoint_prior_scale=0.09999999999999999, seasonality_prior_scale=0.1, seasonality_mode=additive\n"
     ]
    },
    {
     "name": "stderr",
     "output_type": "stream",
     "text": [
      "11:44:35 - cmdstanpy - INFO - Chain [1] start processing\n",
      "11:44:35 - cmdstanpy - INFO - Chain [1] done processing\n",
      "c:\\Users\\natra\\AppData\\Local\\Programs\\Python\\Python310\\lib\\site-packages\\sklearn\\metrics\\_regression.py:492: FutureWarning: 'squared' is deprecated in version 1.4 and will be removed in 1.6. To calculate the root mean squared error, use the function'root_mean_squared_error'.\n",
      "  warnings.warn(\n",
      "11:44:35 - cmdstanpy - INFO - Chain [1] start processing\n",
      "11:44:35 - cmdstanpy - INFO - Chain [1] done processing\n",
      "c:\\Users\\natra\\AppData\\Local\\Programs\\Python\\Python310\\lib\\site-packages\\sklearn\\metrics\\_regression.py:492: FutureWarning: 'squared' is deprecated in version 1.4 and will be removed in 1.6. To calculate the root mean squared error, use the function'root_mean_squared_error'.\n",
      "  warnings.warn(\n",
      "11:44:36 - cmdstanpy - INFO - Chain [1] start processing\n",
      "11:44:36 - cmdstanpy - INFO - Chain [1] done processing\n",
      "c:\\Users\\natra\\AppData\\Local\\Programs\\Python\\Python310\\lib\\site-packages\\sklearn\\metrics\\_regression.py:492: FutureWarning: 'squared' is deprecated in version 1.4 and will be removed in 1.6. To calculate the root mean squared error, use the function'root_mean_squared_error'.\n",
      "  warnings.warn(\n",
      "11:44:36 - cmdstanpy - INFO - Chain [1] start processing\n",
      "11:44:36 - cmdstanpy - INFO - Chain [1] done processing\n",
      "c:\\Users\\natra\\AppData\\Local\\Programs\\Python\\Python310\\lib\\site-packages\\sklearn\\metrics\\_regression.py:492: FutureWarning: 'squared' is deprecated in version 1.4 and will be removed in 1.6. To calculate the root mean squared error, use the function'root_mean_squared_error'.\n",
      "  warnings.warn(\n",
      "11:44:37 - cmdstanpy - INFO - Chain [1] start processing\n",
      "11:44:37 - cmdstanpy - INFO - Chain [1] done processing\n",
      "c:\\Users\\natra\\AppData\\Local\\Programs\\Python\\Python310\\lib\\site-packages\\sklearn\\metrics\\_regression.py:492: FutureWarning: 'squared' is deprecated in version 1.4 and will be removed in 1.6. To calculate the root mean squared error, use the function'root_mean_squared_error'.\n",
      "  warnings.warn(\n"
     ]
    },
    {
     "name": "stdout",
     "output_type": "stream",
     "text": [
      "R² Score: 0.521, RMSE: 3.909, MAE: 2.907\n",
      "\n",
      "Evaluating: changepoint_prior_scale=0.09999999999999999, seasonality_prior_scale=0.1, seasonality_mode=multiplicative\n"
     ]
    },
    {
     "name": "stderr",
     "output_type": "stream",
     "text": [
      "11:44:37 - cmdstanpy - INFO - Chain [1] start processing\n",
      "11:44:37 - cmdstanpy - INFO - Chain [1] done processing\n",
      "c:\\Users\\natra\\AppData\\Local\\Programs\\Python\\Python310\\lib\\site-packages\\sklearn\\metrics\\_regression.py:492: FutureWarning: 'squared' is deprecated in version 1.4 and will be removed in 1.6. To calculate the root mean squared error, use the function'root_mean_squared_error'.\n",
      "  warnings.warn(\n",
      "11:44:38 - cmdstanpy - INFO - Chain [1] start processing\n",
      "11:44:38 - cmdstanpy - INFO - Chain [1] done processing\n",
      "c:\\Users\\natra\\AppData\\Local\\Programs\\Python\\Python310\\lib\\site-packages\\sklearn\\metrics\\_regression.py:492: FutureWarning: 'squared' is deprecated in version 1.4 and will be removed in 1.6. To calculate the root mean squared error, use the function'root_mean_squared_error'.\n",
      "  warnings.warn(\n",
      "11:44:39 - cmdstanpy - INFO - Chain [1] start processing\n",
      "11:44:39 - cmdstanpy - INFO - Chain [1] done processing\n",
      "c:\\Users\\natra\\AppData\\Local\\Programs\\Python\\Python310\\lib\\site-packages\\sklearn\\metrics\\_regression.py:492: FutureWarning: 'squared' is deprecated in version 1.4 and will be removed in 1.6. To calculate the root mean squared error, use the function'root_mean_squared_error'.\n",
      "  warnings.warn(\n",
      "11:44:39 - cmdstanpy - INFO - Chain [1] start processing\n",
      "11:44:39 - cmdstanpy - INFO - Chain [1] done processing\n",
      "c:\\Users\\natra\\AppData\\Local\\Programs\\Python\\Python310\\lib\\site-packages\\sklearn\\metrics\\_regression.py:492: FutureWarning: 'squared' is deprecated in version 1.4 and will be removed in 1.6. To calculate the root mean squared error, use the function'root_mean_squared_error'.\n",
      "  warnings.warn(\n",
      "11:44:40 - cmdstanpy - INFO - Chain [1] start processing\n",
      "11:44:40 - cmdstanpy - INFO - Chain [1] done processing\n",
      "c:\\Users\\natra\\AppData\\Local\\Programs\\Python\\Python310\\lib\\site-packages\\sklearn\\metrics\\_regression.py:492: FutureWarning: 'squared' is deprecated in version 1.4 and will be removed in 1.6. To calculate the root mean squared error, use the function'root_mean_squared_error'.\n",
      "  warnings.warn(\n"
     ]
    },
    {
     "name": "stdout",
     "output_type": "stream",
     "text": [
      "R² Score: 0.544, RMSE: 3.860, MAE: 2.915\n",
      "\n",
      "Evaluating: changepoint_prior_scale=0.09999999999999999, seasonality_prior_scale=1.1, seasonality_mode=additive\n"
     ]
    },
    {
     "name": "stderr",
     "output_type": "stream",
     "text": [
      "11:44:40 - cmdstanpy - INFO - Chain [1] start processing\n",
      "11:44:40 - cmdstanpy - INFO - Chain [1] done processing\n",
      "c:\\Users\\natra\\AppData\\Local\\Programs\\Python\\Python310\\lib\\site-packages\\sklearn\\metrics\\_regression.py:492: FutureWarning: 'squared' is deprecated in version 1.4 and will be removed in 1.6. To calculate the root mean squared error, use the function'root_mean_squared_error'.\n",
      "  warnings.warn(\n",
      "11:44:41 - cmdstanpy - INFO - Chain [1] start processing\n",
      "11:44:41 - cmdstanpy - INFO - Chain [1] done processing\n",
      "c:\\Users\\natra\\AppData\\Local\\Programs\\Python\\Python310\\lib\\site-packages\\sklearn\\metrics\\_regression.py:492: FutureWarning: 'squared' is deprecated in version 1.4 and will be removed in 1.6. To calculate the root mean squared error, use the function'root_mean_squared_error'.\n",
      "  warnings.warn(\n",
      "11:44:41 - cmdstanpy - INFO - Chain [1] start processing\n",
      "11:44:41 - cmdstanpy - INFO - Chain [1] done processing\n",
      "c:\\Users\\natra\\AppData\\Local\\Programs\\Python\\Python310\\lib\\site-packages\\sklearn\\metrics\\_regression.py:492: FutureWarning: 'squared' is deprecated in version 1.4 and will be removed in 1.6. To calculate the root mean squared error, use the function'root_mean_squared_error'.\n",
      "  warnings.warn(\n",
      "11:44:42 - cmdstanpy - INFO - Chain [1] start processing\n",
      "11:44:42 - cmdstanpy - INFO - Chain [1] done processing\n",
      "c:\\Users\\natra\\AppData\\Local\\Programs\\Python\\Python310\\lib\\site-packages\\sklearn\\metrics\\_regression.py:492: FutureWarning: 'squared' is deprecated in version 1.4 and will be removed in 1.6. To calculate the root mean squared error, use the function'root_mean_squared_error'.\n",
      "  warnings.warn(\n",
      "11:44:42 - cmdstanpy - INFO - Chain [1] start processing\n",
      "11:44:42 - cmdstanpy - INFO - Chain [1] done processing\n",
      "c:\\Users\\natra\\AppData\\Local\\Programs\\Python\\Python310\\lib\\site-packages\\sklearn\\metrics\\_regression.py:492: FutureWarning: 'squared' is deprecated in version 1.4 and will be removed in 1.6. To calculate the root mean squared error, use the function'root_mean_squared_error'.\n",
      "  warnings.warn(\n"
     ]
    },
    {
     "name": "stdout",
     "output_type": "stream",
     "text": [
      "R² Score: 0.520, RMSE: 3.913, MAE: 2.909\n",
      "\n",
      "Evaluating: changepoint_prior_scale=0.09999999999999999, seasonality_prior_scale=1.1, seasonality_mode=multiplicative\n"
     ]
    },
    {
     "name": "stderr",
     "output_type": "stream",
     "text": [
      "11:44:43 - cmdstanpy - INFO - Chain [1] start processing\n",
      "11:44:43 - cmdstanpy - INFO - Chain [1] done processing\n",
      "c:\\Users\\natra\\AppData\\Local\\Programs\\Python\\Python310\\lib\\site-packages\\sklearn\\metrics\\_regression.py:492: FutureWarning: 'squared' is deprecated in version 1.4 and will be removed in 1.6. To calculate the root mean squared error, use the function'root_mean_squared_error'.\n",
      "  warnings.warn(\n",
      "11:44:43 - cmdstanpy - INFO - Chain [1] start processing\n",
      "11:44:44 - cmdstanpy - INFO - Chain [1] done processing\n",
      "c:\\Users\\natra\\AppData\\Local\\Programs\\Python\\Python310\\lib\\site-packages\\sklearn\\metrics\\_regression.py:492: FutureWarning: 'squared' is deprecated in version 1.4 and will be removed in 1.6. To calculate the root mean squared error, use the function'root_mean_squared_error'.\n",
      "  warnings.warn(\n",
      "11:44:44 - cmdstanpy - INFO - Chain [1] start processing\n",
      "11:44:44 - cmdstanpy - INFO - Chain [1] done processing\n",
      "c:\\Users\\natra\\AppData\\Local\\Programs\\Python\\Python310\\lib\\site-packages\\sklearn\\metrics\\_regression.py:492: FutureWarning: 'squared' is deprecated in version 1.4 and will be removed in 1.6. To calculate the root mean squared error, use the function'root_mean_squared_error'.\n",
      "  warnings.warn(\n",
      "11:44:45 - cmdstanpy - INFO - Chain [1] start processing\n",
      "11:44:45 - cmdstanpy - INFO - Chain [1] done processing\n",
      "c:\\Users\\natra\\AppData\\Local\\Programs\\Python\\Python310\\lib\\site-packages\\sklearn\\metrics\\_regression.py:492: FutureWarning: 'squared' is deprecated in version 1.4 and will be removed in 1.6. To calculate the root mean squared error, use the function'root_mean_squared_error'.\n",
      "  warnings.warn(\n",
      "11:44:45 - cmdstanpy - INFO - Chain [1] start processing\n",
      "11:44:45 - cmdstanpy - INFO - Chain [1] done processing\n",
      "c:\\Users\\natra\\AppData\\Local\\Programs\\Python\\Python310\\lib\\site-packages\\sklearn\\metrics\\_regression.py:492: FutureWarning: 'squared' is deprecated in version 1.4 and will be removed in 1.6. To calculate the root mean squared error, use the function'root_mean_squared_error'.\n",
      "  warnings.warn(\n"
     ]
    },
    {
     "name": "stdout",
     "output_type": "stream",
     "text": [
      "R² Score: 0.547, RMSE: 3.856, MAE: 2.912\n",
      "\n",
      "Evaluating: changepoint_prior_scale=0.09999999999999999, seasonality_prior_scale=2.1, seasonality_mode=additive\n"
     ]
    },
    {
     "name": "stderr",
     "output_type": "stream",
     "text": [
      "11:44:46 - cmdstanpy - INFO - Chain [1] start processing\n",
      "11:44:46 - cmdstanpy - INFO - Chain [1] done processing\n",
      "c:\\Users\\natra\\AppData\\Local\\Programs\\Python\\Python310\\lib\\site-packages\\sklearn\\metrics\\_regression.py:492: FutureWarning: 'squared' is deprecated in version 1.4 and will be removed in 1.6. To calculate the root mean squared error, use the function'root_mean_squared_error'.\n",
      "  warnings.warn(\n",
      "11:44:46 - cmdstanpy - INFO - Chain [1] start processing\n",
      "11:44:46 - cmdstanpy - INFO - Chain [1] done processing\n",
      "c:\\Users\\natra\\AppData\\Local\\Programs\\Python\\Python310\\lib\\site-packages\\sklearn\\metrics\\_regression.py:492: FutureWarning: 'squared' is deprecated in version 1.4 and will be removed in 1.6. To calculate the root mean squared error, use the function'root_mean_squared_error'.\n",
      "  warnings.warn(\n",
      "11:44:47 - cmdstanpy - INFO - Chain [1] start processing\n",
      "11:44:47 - cmdstanpy - INFO - Chain [1] done processing\n",
      "c:\\Users\\natra\\AppData\\Local\\Programs\\Python\\Python310\\lib\\site-packages\\sklearn\\metrics\\_regression.py:492: FutureWarning: 'squared' is deprecated in version 1.4 and will be removed in 1.6. To calculate the root mean squared error, use the function'root_mean_squared_error'.\n",
      "  warnings.warn(\n",
      "11:44:47 - cmdstanpy - INFO - Chain [1] start processing\n",
      "11:44:48 - cmdstanpy - INFO - Chain [1] done processing\n",
      "c:\\Users\\natra\\AppData\\Local\\Programs\\Python\\Python310\\lib\\site-packages\\sklearn\\metrics\\_regression.py:492: FutureWarning: 'squared' is deprecated in version 1.4 and will be removed in 1.6. To calculate the root mean squared error, use the function'root_mean_squared_error'.\n",
      "  warnings.warn(\n",
      "11:44:48 - cmdstanpy - INFO - Chain [1] start processing\n",
      "11:44:48 - cmdstanpy - INFO - Chain [1] done processing\n",
      "c:\\Users\\natra\\AppData\\Local\\Programs\\Python\\Python310\\lib\\site-packages\\sklearn\\metrics\\_regression.py:492: FutureWarning: 'squared' is deprecated in version 1.4 and will be removed in 1.6. To calculate the root mean squared error, use the function'root_mean_squared_error'.\n",
      "  warnings.warn(\n"
     ]
    },
    {
     "name": "stdout",
     "output_type": "stream",
     "text": [
      "R² Score: 0.527, RMSE: 3.896, MAE: 2.892\n",
      "\n",
      "Evaluating: changepoint_prior_scale=0.09999999999999999, seasonality_prior_scale=2.1, seasonality_mode=multiplicative\n"
     ]
    },
    {
     "name": "stderr",
     "output_type": "stream",
     "text": [
      "11:44:49 - cmdstanpy - INFO - Chain [1] start processing\n",
      "11:44:49 - cmdstanpy - INFO - Chain [1] done processing\n",
      "c:\\Users\\natra\\AppData\\Local\\Programs\\Python\\Python310\\lib\\site-packages\\sklearn\\metrics\\_regression.py:492: FutureWarning: 'squared' is deprecated in version 1.4 and will be removed in 1.6. To calculate the root mean squared error, use the function'root_mean_squared_error'.\n",
      "  warnings.warn(\n",
      "11:44:50 - cmdstanpy - INFO - Chain [1] start processing\n",
      "11:44:50 - cmdstanpy - INFO - Chain [1] done processing\n",
      "c:\\Users\\natra\\AppData\\Local\\Programs\\Python\\Python310\\lib\\site-packages\\sklearn\\metrics\\_regression.py:492: FutureWarning: 'squared' is deprecated in version 1.4 and will be removed in 1.6. To calculate the root mean squared error, use the function'root_mean_squared_error'.\n",
      "  warnings.warn(\n",
      "11:44:51 - cmdstanpy - INFO - Chain [1] start processing\n",
      "11:44:51 - cmdstanpy - INFO - Chain [1] done processing\n",
      "c:\\Users\\natra\\AppData\\Local\\Programs\\Python\\Python310\\lib\\site-packages\\sklearn\\metrics\\_regression.py:492: FutureWarning: 'squared' is deprecated in version 1.4 and will be removed in 1.6. To calculate the root mean squared error, use the function'root_mean_squared_error'.\n",
      "  warnings.warn(\n",
      "11:44:52 - cmdstanpy - INFO - Chain [1] start processing\n",
      "11:44:52 - cmdstanpy - INFO - Chain [1] done processing\n",
      "c:\\Users\\natra\\AppData\\Local\\Programs\\Python\\Python310\\lib\\site-packages\\sklearn\\metrics\\_regression.py:492: FutureWarning: 'squared' is deprecated in version 1.4 and will be removed in 1.6. To calculate the root mean squared error, use the function'root_mean_squared_error'.\n",
      "  warnings.warn(\n",
      "11:44:52 - cmdstanpy - INFO - Chain [1] start processing\n",
      "11:44:53 - cmdstanpy - INFO - Chain [1] done processing\n",
      "c:\\Users\\natra\\AppData\\Local\\Programs\\Python\\Python310\\lib\\site-packages\\sklearn\\metrics\\_regression.py:492: FutureWarning: 'squared' is deprecated in version 1.4 and will be removed in 1.6. To calculate the root mean squared error, use the function'root_mean_squared_error'.\n",
      "  warnings.warn(\n"
     ]
    },
    {
     "name": "stdout",
     "output_type": "stream",
     "text": [
      "R² Score: 0.547, RMSE: 3.848, MAE: 2.899\n",
      "\n",
      "Evaluating: changepoint_prior_scale=0.09999999999999999, seasonality_prior_scale=3.1, seasonality_mode=additive\n"
     ]
    },
    {
     "name": "stderr",
     "output_type": "stream",
     "text": [
      "11:44:53 - cmdstanpy - INFO - Chain [1] start processing\n",
      "11:44:54 - cmdstanpy - INFO - Chain [1] done processing\n",
      "c:\\Users\\natra\\AppData\\Local\\Programs\\Python\\Python310\\lib\\site-packages\\sklearn\\metrics\\_regression.py:492: FutureWarning: 'squared' is deprecated in version 1.4 and will be removed in 1.6. To calculate the root mean squared error, use the function'root_mean_squared_error'.\n",
      "  warnings.warn(\n",
      "11:44:54 - cmdstanpy - INFO - Chain [1] start processing\n",
      "11:44:54 - cmdstanpy - INFO - Chain [1] done processing\n",
      "c:\\Users\\natra\\AppData\\Local\\Programs\\Python\\Python310\\lib\\site-packages\\sklearn\\metrics\\_regression.py:492: FutureWarning: 'squared' is deprecated in version 1.4 and will be removed in 1.6. To calculate the root mean squared error, use the function'root_mean_squared_error'.\n",
      "  warnings.warn(\n",
      "11:44:55 - cmdstanpy - INFO - Chain [1] start processing\n",
      "11:44:55 - cmdstanpy - INFO - Chain [1] done processing\n",
      "c:\\Users\\natra\\AppData\\Local\\Programs\\Python\\Python310\\lib\\site-packages\\sklearn\\metrics\\_regression.py:492: FutureWarning: 'squared' is deprecated in version 1.4 and will be removed in 1.6. To calculate the root mean squared error, use the function'root_mean_squared_error'.\n",
      "  warnings.warn(\n",
      "11:44:56 - cmdstanpy - INFO - Chain [1] start processing\n",
      "11:44:56 - cmdstanpy - INFO - Chain [1] done processing\n",
      "c:\\Users\\natra\\AppData\\Local\\Programs\\Python\\Python310\\lib\\site-packages\\sklearn\\metrics\\_regression.py:492: FutureWarning: 'squared' is deprecated in version 1.4 and will be removed in 1.6. To calculate the root mean squared error, use the function'root_mean_squared_error'.\n",
      "  warnings.warn(\n",
      "11:44:56 - cmdstanpy - INFO - Chain [1] start processing\n",
      "11:44:56 - cmdstanpy - INFO - Chain [1] done processing\n",
      "c:\\Users\\natra\\AppData\\Local\\Programs\\Python\\Python310\\lib\\site-packages\\sklearn\\metrics\\_regression.py:492: FutureWarning: 'squared' is deprecated in version 1.4 and will be removed in 1.6. To calculate the root mean squared error, use the function'root_mean_squared_error'.\n",
      "  warnings.warn(\n"
     ]
    },
    {
     "name": "stdout",
     "output_type": "stream",
     "text": [
      "R² Score: 0.522, RMSE: 3.909, MAE: 2.905\n",
      "\n",
      "Evaluating: changepoint_prior_scale=0.09999999999999999, seasonality_prior_scale=3.1, seasonality_mode=multiplicative\n"
     ]
    },
    {
     "name": "stderr",
     "output_type": "stream",
     "text": [
      "11:44:57 - cmdstanpy - INFO - Chain [1] start processing\n",
      "11:44:57 - cmdstanpy - INFO - Chain [1] done processing\n",
      "c:\\Users\\natra\\AppData\\Local\\Programs\\Python\\Python310\\lib\\site-packages\\sklearn\\metrics\\_regression.py:492: FutureWarning: 'squared' is deprecated in version 1.4 and will be removed in 1.6. To calculate the root mean squared error, use the function'root_mean_squared_error'.\n",
      "  warnings.warn(\n",
      "11:44:58 - cmdstanpy - INFO - Chain [1] start processing\n",
      "11:44:58 - cmdstanpy - INFO - Chain [1] done processing\n",
      "c:\\Users\\natra\\AppData\\Local\\Programs\\Python\\Python310\\lib\\site-packages\\sklearn\\metrics\\_regression.py:492: FutureWarning: 'squared' is deprecated in version 1.4 and will be removed in 1.6. To calculate the root mean squared error, use the function'root_mean_squared_error'.\n",
      "  warnings.warn(\n",
      "11:44:59 - cmdstanpy - INFO - Chain [1] start processing\n",
      "11:44:59 - cmdstanpy - INFO - Chain [1] done processing\n",
      "c:\\Users\\natra\\AppData\\Local\\Programs\\Python\\Python310\\lib\\site-packages\\sklearn\\metrics\\_regression.py:492: FutureWarning: 'squared' is deprecated in version 1.4 and will be removed in 1.6. To calculate the root mean squared error, use the function'root_mean_squared_error'.\n",
      "  warnings.warn(\n",
      "11:44:59 - cmdstanpy - INFO - Chain [1] start processing\n",
      "11:44:59 - cmdstanpy - INFO - Chain [1] done processing\n",
      "c:\\Users\\natra\\AppData\\Local\\Programs\\Python\\Python310\\lib\\site-packages\\sklearn\\metrics\\_regression.py:492: FutureWarning: 'squared' is deprecated in version 1.4 and will be removed in 1.6. To calculate the root mean squared error, use the function'root_mean_squared_error'.\n",
      "  warnings.warn(\n",
      "11:45:00 - cmdstanpy - INFO - Chain [1] start processing\n",
      "11:45:00 - cmdstanpy - INFO - Chain [1] done processing\n",
      "c:\\Users\\natra\\AppData\\Local\\Programs\\Python\\Python310\\lib\\site-packages\\sklearn\\metrics\\_regression.py:492: FutureWarning: 'squared' is deprecated in version 1.4 and will be removed in 1.6. To calculate the root mean squared error, use the function'root_mean_squared_error'.\n",
      "  warnings.warn(\n"
     ]
    },
    {
     "name": "stdout",
     "output_type": "stream",
     "text": [
      "R² Score: 0.547, RMSE: 3.850, MAE: 2.900\n",
      "\n",
      "Evaluating: changepoint_prior_scale=0.09999999999999999, seasonality_prior_scale=4.1, seasonality_mode=additive\n"
     ]
    },
    {
     "name": "stderr",
     "output_type": "stream",
     "text": [
      "11:45:00 - cmdstanpy - INFO - Chain [1] start processing\n",
      "11:45:00 - cmdstanpy - INFO - Chain [1] done processing\n",
      "c:\\Users\\natra\\AppData\\Local\\Programs\\Python\\Python310\\lib\\site-packages\\sklearn\\metrics\\_regression.py:492: FutureWarning: 'squared' is deprecated in version 1.4 and will be removed in 1.6. To calculate the root mean squared error, use the function'root_mean_squared_error'.\n",
      "  warnings.warn(\n",
      "11:45:01 - cmdstanpy - INFO - Chain [1] start processing\n",
      "11:45:01 - cmdstanpy - INFO - Chain [1] done processing\n",
      "c:\\Users\\natra\\AppData\\Local\\Programs\\Python\\Python310\\lib\\site-packages\\sklearn\\metrics\\_regression.py:492: FutureWarning: 'squared' is deprecated in version 1.4 and will be removed in 1.6. To calculate the root mean squared error, use the function'root_mean_squared_error'.\n",
      "  warnings.warn(\n",
      "11:45:01 - cmdstanpy - INFO - Chain [1] start processing\n",
      "11:45:01 - cmdstanpy - INFO - Chain [1] done processing\n",
      "c:\\Users\\natra\\AppData\\Local\\Programs\\Python\\Python310\\lib\\site-packages\\sklearn\\metrics\\_regression.py:492: FutureWarning: 'squared' is deprecated in version 1.4 and will be removed in 1.6. To calculate the root mean squared error, use the function'root_mean_squared_error'.\n",
      "  warnings.warn(\n",
      "11:45:02 - cmdstanpy - INFO - Chain [1] start processing\n",
      "11:45:02 - cmdstanpy - INFO - Chain [1] done processing\n",
      "c:\\Users\\natra\\AppData\\Local\\Programs\\Python\\Python310\\lib\\site-packages\\sklearn\\metrics\\_regression.py:492: FutureWarning: 'squared' is deprecated in version 1.4 and will be removed in 1.6. To calculate the root mean squared error, use the function'root_mean_squared_error'.\n",
      "  warnings.warn(\n",
      "11:45:02 - cmdstanpy - INFO - Chain [1] start processing\n",
      "11:45:03 - cmdstanpy - INFO - Chain [1] done processing\n",
      "c:\\Users\\natra\\AppData\\Local\\Programs\\Python\\Python310\\lib\\site-packages\\sklearn\\metrics\\_regression.py:492: FutureWarning: 'squared' is deprecated in version 1.4 and will be removed in 1.6. To calculate the root mean squared error, use the function'root_mean_squared_error'.\n",
      "  warnings.warn(\n"
     ]
    },
    {
     "name": "stdout",
     "output_type": "stream",
     "text": [
      "R² Score: 0.522, RMSE: 3.907, MAE: 2.898\n",
      "\n",
      "Evaluating: changepoint_prior_scale=0.09999999999999999, seasonality_prior_scale=4.1, seasonality_mode=multiplicative\n"
     ]
    },
    {
     "name": "stderr",
     "output_type": "stream",
     "text": [
      "11:45:03 - cmdstanpy - INFO - Chain [1] start processing\n",
      "11:45:03 - cmdstanpy - INFO - Chain [1] done processing\n",
      "c:\\Users\\natra\\AppData\\Local\\Programs\\Python\\Python310\\lib\\site-packages\\sklearn\\metrics\\_regression.py:492: FutureWarning: 'squared' is deprecated in version 1.4 and will be removed in 1.6. To calculate the root mean squared error, use the function'root_mean_squared_error'.\n",
      "  warnings.warn(\n",
      "11:45:04 - cmdstanpy - INFO - Chain [1] start processing\n",
      "11:45:04 - cmdstanpy - INFO - Chain [1] done processing\n",
      "c:\\Users\\natra\\AppData\\Local\\Programs\\Python\\Python310\\lib\\site-packages\\sklearn\\metrics\\_regression.py:492: FutureWarning: 'squared' is deprecated in version 1.4 and will be removed in 1.6. To calculate the root mean squared error, use the function'root_mean_squared_error'.\n",
      "  warnings.warn(\n",
      "11:45:04 - cmdstanpy - INFO - Chain [1] start processing\n",
      "11:45:04 - cmdstanpy - INFO - Chain [1] done processing\n",
      "c:\\Users\\natra\\AppData\\Local\\Programs\\Python\\Python310\\lib\\site-packages\\sklearn\\metrics\\_regression.py:492: FutureWarning: 'squared' is deprecated in version 1.4 and will be removed in 1.6. To calculate the root mean squared error, use the function'root_mean_squared_error'.\n",
      "  warnings.warn(\n",
      "11:45:05 - cmdstanpy - INFO - Chain [1] start processing\n",
      "11:45:05 - cmdstanpy - INFO - Chain [1] done processing\n",
      "c:\\Users\\natra\\AppData\\Local\\Programs\\Python\\Python310\\lib\\site-packages\\sklearn\\metrics\\_regression.py:492: FutureWarning: 'squared' is deprecated in version 1.4 and will be removed in 1.6. To calculate the root mean squared error, use the function'root_mean_squared_error'.\n",
      "  warnings.warn(\n",
      "11:45:06 - cmdstanpy - INFO - Chain [1] start processing\n",
      "11:45:06 - cmdstanpy - INFO - Chain [1] done processing\n",
      "c:\\Users\\natra\\AppData\\Local\\Programs\\Python\\Python310\\lib\\site-packages\\sklearn\\metrics\\_regression.py:492: FutureWarning: 'squared' is deprecated in version 1.4 and will be removed in 1.6. To calculate the root mean squared error, use the function'root_mean_squared_error'.\n",
      "  warnings.warn(\n"
     ]
    },
    {
     "name": "stdout",
     "output_type": "stream",
     "text": [
      "R² Score: 0.549, RMSE: 3.844, MAE: 2.894\n",
      "\n",
      "Evaluating: changepoint_prior_scale=0.09999999999999999, seasonality_prior_scale=5.1, seasonality_mode=additive\n"
     ]
    },
    {
     "name": "stderr",
     "output_type": "stream",
     "text": [
      "11:45:06 - cmdstanpy - INFO - Chain [1] start processing\n",
      "11:45:06 - cmdstanpy - INFO - Chain [1] done processing\n",
      "c:\\Users\\natra\\AppData\\Local\\Programs\\Python\\Python310\\lib\\site-packages\\sklearn\\metrics\\_regression.py:492: FutureWarning: 'squared' is deprecated in version 1.4 and will be removed in 1.6. To calculate the root mean squared error, use the function'root_mean_squared_error'.\n",
      "  warnings.warn(\n",
      "11:45:07 - cmdstanpy - INFO - Chain [1] start processing\n",
      "11:45:07 - cmdstanpy - INFO - Chain [1] done processing\n",
      "c:\\Users\\natra\\AppData\\Local\\Programs\\Python\\Python310\\lib\\site-packages\\sklearn\\metrics\\_regression.py:492: FutureWarning: 'squared' is deprecated in version 1.4 and will be removed in 1.6. To calculate the root mean squared error, use the function'root_mean_squared_error'.\n",
      "  warnings.warn(\n",
      "11:45:07 - cmdstanpy - INFO - Chain [1] start processing\n",
      "11:45:08 - cmdstanpy - INFO - Chain [1] done processing\n",
      "c:\\Users\\natra\\AppData\\Local\\Programs\\Python\\Python310\\lib\\site-packages\\sklearn\\metrics\\_regression.py:492: FutureWarning: 'squared' is deprecated in version 1.4 and will be removed in 1.6. To calculate the root mean squared error, use the function'root_mean_squared_error'.\n",
      "  warnings.warn(\n",
      "11:45:08 - cmdstanpy - INFO - Chain [1] start processing\n",
      "11:45:08 - cmdstanpy - INFO - Chain [1] done processing\n",
      "c:\\Users\\natra\\AppData\\Local\\Programs\\Python\\Python310\\lib\\site-packages\\sklearn\\metrics\\_regression.py:492: FutureWarning: 'squared' is deprecated in version 1.4 and will be removed in 1.6. To calculate the root mean squared error, use the function'root_mean_squared_error'.\n",
      "  warnings.warn(\n",
      "11:45:09 - cmdstanpy - INFO - Chain [1] start processing\n",
      "11:45:09 - cmdstanpy - INFO - Chain [1] done processing\n",
      "c:\\Users\\natra\\AppData\\Local\\Programs\\Python\\Python310\\lib\\site-packages\\sklearn\\metrics\\_regression.py:492: FutureWarning: 'squared' is deprecated in version 1.4 and will be removed in 1.6. To calculate the root mean squared error, use the function'root_mean_squared_error'.\n",
      "  warnings.warn(\n"
     ]
    },
    {
     "name": "stdout",
     "output_type": "stream",
     "text": [
      "R² Score: 0.520, RMSE: 3.910, MAE: 2.907\n",
      "\n",
      "Evaluating: changepoint_prior_scale=0.09999999999999999, seasonality_prior_scale=5.1, seasonality_mode=multiplicative\n"
     ]
    },
    {
     "name": "stderr",
     "output_type": "stream",
     "text": [
      "11:45:09 - cmdstanpy - INFO - Chain [1] start processing\n",
      "11:45:10 - cmdstanpy - INFO - Chain [1] done processing\n",
      "c:\\Users\\natra\\AppData\\Local\\Programs\\Python\\Python310\\lib\\site-packages\\sklearn\\metrics\\_regression.py:492: FutureWarning: 'squared' is deprecated in version 1.4 and will be removed in 1.6. To calculate the root mean squared error, use the function'root_mean_squared_error'.\n",
      "  warnings.warn(\n",
      "11:45:10 - cmdstanpy - INFO - Chain [1] start processing\n",
      "11:45:10 - cmdstanpy - INFO - Chain [1] done processing\n",
      "c:\\Users\\natra\\AppData\\Local\\Programs\\Python\\Python310\\lib\\site-packages\\sklearn\\metrics\\_regression.py:492: FutureWarning: 'squared' is deprecated in version 1.4 and will be removed in 1.6. To calculate the root mean squared error, use the function'root_mean_squared_error'.\n",
      "  warnings.warn(\n",
      "11:45:11 - cmdstanpy - INFO - Chain [1] start processing\n",
      "11:45:11 - cmdstanpy - INFO - Chain [1] done processing\n",
      "c:\\Users\\natra\\AppData\\Local\\Programs\\Python\\Python310\\lib\\site-packages\\sklearn\\metrics\\_regression.py:492: FutureWarning: 'squared' is deprecated in version 1.4 and will be removed in 1.6. To calculate the root mean squared error, use the function'root_mean_squared_error'.\n",
      "  warnings.warn(\n",
      "11:45:12 - cmdstanpy - INFO - Chain [1] start processing\n",
      "11:45:12 - cmdstanpy - INFO - Chain [1] done processing\n",
      "c:\\Users\\natra\\AppData\\Local\\Programs\\Python\\Python310\\lib\\site-packages\\sklearn\\metrics\\_regression.py:492: FutureWarning: 'squared' is deprecated in version 1.4 and will be removed in 1.6. To calculate the root mean squared error, use the function'root_mean_squared_error'.\n",
      "  warnings.warn(\n",
      "11:45:12 - cmdstanpy - INFO - Chain [1] start processing\n",
      "11:45:13 - cmdstanpy - INFO - Chain [1] done processing\n",
      "c:\\Users\\natra\\AppData\\Local\\Programs\\Python\\Python310\\lib\\site-packages\\sklearn\\metrics\\_regression.py:492: FutureWarning: 'squared' is deprecated in version 1.4 and will be removed in 1.6. To calculate the root mean squared error, use the function'root_mean_squared_error'.\n",
      "  warnings.warn(\n"
     ]
    },
    {
     "name": "stdout",
     "output_type": "stream",
     "text": [
      "R² Score: 0.548, RMSE: 3.847, MAE: 2.898\n",
      "\n",
      "Evaluating: changepoint_prior_scale=0.09999999999999999, seasonality_prior_scale=6.1, seasonality_mode=additive\n"
     ]
    },
    {
     "name": "stderr",
     "output_type": "stream",
     "text": [
      "11:45:13 - cmdstanpy - INFO - Chain [1] start processing\n",
      "11:45:14 - cmdstanpy - INFO - Chain [1] done processing\n",
      "c:\\Users\\natra\\AppData\\Local\\Programs\\Python\\Python310\\lib\\site-packages\\sklearn\\metrics\\_regression.py:492: FutureWarning: 'squared' is deprecated in version 1.4 and will be removed in 1.6. To calculate the root mean squared error, use the function'root_mean_squared_error'.\n",
      "  warnings.warn(\n",
      "11:45:14 - cmdstanpy - INFO - Chain [1] start processing\n",
      "11:45:14 - cmdstanpy - INFO - Chain [1] done processing\n",
      "c:\\Users\\natra\\AppData\\Local\\Programs\\Python\\Python310\\lib\\site-packages\\sklearn\\metrics\\_regression.py:492: FutureWarning: 'squared' is deprecated in version 1.4 and will be removed in 1.6. To calculate the root mean squared error, use the function'root_mean_squared_error'.\n",
      "  warnings.warn(\n",
      "11:45:15 - cmdstanpy - INFO - Chain [1] start processing\n",
      "11:45:15 - cmdstanpy - INFO - Chain [1] done processing\n",
      "c:\\Users\\natra\\AppData\\Local\\Programs\\Python\\Python310\\lib\\site-packages\\sklearn\\metrics\\_regression.py:492: FutureWarning: 'squared' is deprecated in version 1.4 and will be removed in 1.6. To calculate the root mean squared error, use the function'root_mean_squared_error'.\n",
      "  warnings.warn(\n",
      "11:45:15 - cmdstanpy - INFO - Chain [1] start processing\n",
      "11:45:15 - cmdstanpy - INFO - Chain [1] done processing\n",
      "c:\\Users\\natra\\AppData\\Local\\Programs\\Python\\Python310\\lib\\site-packages\\sklearn\\metrics\\_regression.py:492: FutureWarning: 'squared' is deprecated in version 1.4 and will be removed in 1.6. To calculate the root mean squared error, use the function'root_mean_squared_error'.\n",
      "  warnings.warn(\n",
      "11:45:16 - cmdstanpy - INFO - Chain [1] start processing\n",
      "11:45:16 - cmdstanpy - INFO - Chain [1] done processing\n",
      "c:\\Users\\natra\\AppData\\Local\\Programs\\Python\\Python310\\lib\\site-packages\\sklearn\\metrics\\_regression.py:492: FutureWarning: 'squared' is deprecated in version 1.4 and will be removed in 1.6. To calculate the root mean squared error, use the function'root_mean_squared_error'.\n",
      "  warnings.warn(\n"
     ]
    },
    {
     "name": "stdout",
     "output_type": "stream",
     "text": [
      "R² Score: 0.522, RMSE: 3.909, MAE: 2.906\n",
      "\n",
      "Evaluating: changepoint_prior_scale=0.09999999999999999, seasonality_prior_scale=6.1, seasonality_mode=multiplicative\n"
     ]
    },
    {
     "name": "stderr",
     "output_type": "stream",
     "text": [
      "11:45:16 - cmdstanpy - INFO - Chain [1] start processing\n",
      "11:45:16 - cmdstanpy - INFO - Chain [1] done processing\n",
      "c:\\Users\\natra\\AppData\\Local\\Programs\\Python\\Python310\\lib\\site-packages\\sklearn\\metrics\\_regression.py:492: FutureWarning: 'squared' is deprecated in version 1.4 and will be removed in 1.6. To calculate the root mean squared error, use the function'root_mean_squared_error'.\n",
      "  warnings.warn(\n",
      "11:45:17 - cmdstanpy - INFO - Chain [1] start processing\n",
      "11:45:17 - cmdstanpy - INFO - Chain [1] done processing\n",
      "c:\\Users\\natra\\AppData\\Local\\Programs\\Python\\Python310\\lib\\site-packages\\sklearn\\metrics\\_regression.py:492: FutureWarning: 'squared' is deprecated in version 1.4 and will be removed in 1.6. To calculate the root mean squared error, use the function'root_mean_squared_error'.\n",
      "  warnings.warn(\n",
      "11:45:17 - cmdstanpy - INFO - Chain [1] start processing\n",
      "11:45:17 - cmdstanpy - INFO - Chain [1] done processing\n",
      "c:\\Users\\natra\\AppData\\Local\\Programs\\Python\\Python310\\lib\\site-packages\\sklearn\\metrics\\_regression.py:492: FutureWarning: 'squared' is deprecated in version 1.4 and will be removed in 1.6. To calculate the root mean squared error, use the function'root_mean_squared_error'.\n",
      "  warnings.warn(\n",
      "11:45:18 - cmdstanpy - INFO - Chain [1] start processing\n",
      "11:45:18 - cmdstanpy - INFO - Chain [1] done processing\n",
      "c:\\Users\\natra\\AppData\\Local\\Programs\\Python\\Python310\\lib\\site-packages\\sklearn\\metrics\\_regression.py:492: FutureWarning: 'squared' is deprecated in version 1.4 and will be removed in 1.6. To calculate the root mean squared error, use the function'root_mean_squared_error'.\n",
      "  warnings.warn(\n",
      "11:45:18 - cmdstanpy - INFO - Chain [1] start processing\n",
      "11:45:19 - cmdstanpy - INFO - Chain [1] done processing\n",
      "c:\\Users\\natra\\AppData\\Local\\Programs\\Python\\Python310\\lib\\site-packages\\sklearn\\metrics\\_regression.py:492: FutureWarning: 'squared' is deprecated in version 1.4 and will be removed in 1.6. To calculate the root mean squared error, use the function'root_mean_squared_error'.\n",
      "  warnings.warn(\n"
     ]
    },
    {
     "name": "stdout",
     "output_type": "stream",
     "text": [
      "R² Score: 0.547, RMSE: 3.852, MAE: 2.903\n",
      "\n",
      "Evaluating: changepoint_prior_scale=0.09999999999999999, seasonality_prior_scale=7.1, seasonality_mode=additive\n"
     ]
    },
    {
     "name": "stderr",
     "output_type": "stream",
     "text": [
      "11:45:19 - cmdstanpy - INFO - Chain [1] start processing\n",
      "11:45:19 - cmdstanpy - INFO - Chain [1] done processing\n",
      "c:\\Users\\natra\\AppData\\Local\\Programs\\Python\\Python310\\lib\\site-packages\\sklearn\\metrics\\_regression.py:492: FutureWarning: 'squared' is deprecated in version 1.4 and will be removed in 1.6. To calculate the root mean squared error, use the function'root_mean_squared_error'.\n",
      "  warnings.warn(\n",
      "11:45:19 - cmdstanpy - INFO - Chain [1] start processing\n",
      "11:45:20 - cmdstanpy - INFO - Chain [1] done processing\n",
      "c:\\Users\\natra\\AppData\\Local\\Programs\\Python\\Python310\\lib\\site-packages\\sklearn\\metrics\\_regression.py:492: FutureWarning: 'squared' is deprecated in version 1.4 and will be removed in 1.6. To calculate the root mean squared error, use the function'root_mean_squared_error'.\n",
      "  warnings.warn(\n",
      "11:45:20 - cmdstanpy - INFO - Chain [1] start processing\n",
      "11:45:20 - cmdstanpy - INFO - Chain [1] done processing\n",
      "c:\\Users\\natra\\AppData\\Local\\Programs\\Python\\Python310\\lib\\site-packages\\sklearn\\metrics\\_regression.py:492: FutureWarning: 'squared' is deprecated in version 1.4 and will be removed in 1.6. To calculate the root mean squared error, use the function'root_mean_squared_error'.\n",
      "  warnings.warn(\n",
      "11:45:21 - cmdstanpy - INFO - Chain [1] start processing\n",
      "11:45:21 - cmdstanpy - INFO - Chain [1] done processing\n",
      "c:\\Users\\natra\\AppData\\Local\\Programs\\Python\\Python310\\lib\\site-packages\\sklearn\\metrics\\_regression.py:492: FutureWarning: 'squared' is deprecated in version 1.4 and will be removed in 1.6. To calculate the root mean squared error, use the function'root_mean_squared_error'.\n",
      "  warnings.warn(\n",
      "11:45:21 - cmdstanpy - INFO - Chain [1] start processing\n",
      "11:45:21 - cmdstanpy - INFO - Chain [1] done processing\n",
      "c:\\Users\\natra\\AppData\\Local\\Programs\\Python\\Python310\\lib\\site-packages\\sklearn\\metrics\\_regression.py:492: FutureWarning: 'squared' is deprecated in version 1.4 and will be removed in 1.6. To calculate the root mean squared error, use the function'root_mean_squared_error'.\n",
      "  warnings.warn(\n"
     ]
    },
    {
     "name": "stdout",
     "output_type": "stream",
     "text": [
      "R² Score: 0.521, RMSE: 3.912, MAE: 2.910\n",
      "\n",
      "Evaluating: changepoint_prior_scale=0.09999999999999999, seasonality_prior_scale=7.1, seasonality_mode=multiplicative\n"
     ]
    },
    {
     "name": "stderr",
     "output_type": "stream",
     "text": [
      "11:45:22 - cmdstanpy - INFO - Chain [1] start processing\n",
      "11:45:22 - cmdstanpy - INFO - Chain [1] done processing\n",
      "c:\\Users\\natra\\AppData\\Local\\Programs\\Python\\Python310\\lib\\site-packages\\sklearn\\metrics\\_regression.py:492: FutureWarning: 'squared' is deprecated in version 1.4 and will be removed in 1.6. To calculate the root mean squared error, use the function'root_mean_squared_error'.\n",
      "  warnings.warn(\n",
      "11:45:22 - cmdstanpy - INFO - Chain [1] start processing\n",
      "11:45:22 - cmdstanpy - INFO - Chain [1] done processing\n",
      "c:\\Users\\natra\\AppData\\Local\\Programs\\Python\\Python310\\lib\\site-packages\\sklearn\\metrics\\_regression.py:492: FutureWarning: 'squared' is deprecated in version 1.4 and will be removed in 1.6. To calculate the root mean squared error, use the function'root_mean_squared_error'.\n",
      "  warnings.warn(\n",
      "11:45:23 - cmdstanpy - INFO - Chain [1] start processing\n",
      "11:45:23 - cmdstanpy - INFO - Chain [1] done processing\n",
      "c:\\Users\\natra\\AppData\\Local\\Programs\\Python\\Python310\\lib\\site-packages\\sklearn\\metrics\\_regression.py:492: FutureWarning: 'squared' is deprecated in version 1.4 and will be removed in 1.6. To calculate the root mean squared error, use the function'root_mean_squared_error'.\n",
      "  warnings.warn(\n",
      "11:45:23 - cmdstanpy - INFO - Chain [1] start processing\n",
      "11:45:23 - cmdstanpy - INFO - Chain [1] done processing\n",
      "c:\\Users\\natra\\AppData\\Local\\Programs\\Python\\Python310\\lib\\site-packages\\sklearn\\metrics\\_regression.py:492: FutureWarning: 'squared' is deprecated in version 1.4 and will be removed in 1.6. To calculate the root mean squared error, use the function'root_mean_squared_error'.\n",
      "  warnings.warn(\n",
      "11:45:24 - cmdstanpy - INFO - Chain [1] start processing\n",
      "11:45:24 - cmdstanpy - INFO - Chain [1] done processing\n",
      "c:\\Users\\natra\\AppData\\Local\\Programs\\Python\\Python310\\lib\\site-packages\\sklearn\\metrics\\_regression.py:492: FutureWarning: 'squared' is deprecated in version 1.4 and will be removed in 1.6. To calculate the root mean squared error, use the function'root_mean_squared_error'.\n",
      "  warnings.warn(\n"
     ]
    },
    {
     "name": "stdout",
     "output_type": "stream",
     "text": [
      "R² Score: 0.545, RMSE: 3.853, MAE: 2.904\n",
      "\n",
      "Evaluating: changepoint_prior_scale=0.09999999999999999, seasonality_prior_scale=8.1, seasonality_mode=additive\n"
     ]
    },
    {
     "name": "stderr",
     "output_type": "stream",
     "text": [
      "11:45:24 - cmdstanpy - INFO - Chain [1] start processing\n",
      "11:45:25 - cmdstanpy - INFO - Chain [1] done processing\n",
      "c:\\Users\\natra\\AppData\\Local\\Programs\\Python\\Python310\\lib\\site-packages\\sklearn\\metrics\\_regression.py:492: FutureWarning: 'squared' is deprecated in version 1.4 and will be removed in 1.6. To calculate the root mean squared error, use the function'root_mean_squared_error'.\n",
      "  warnings.warn(\n",
      "11:45:25 - cmdstanpy - INFO - Chain [1] start processing\n",
      "11:45:25 - cmdstanpy - INFO - Chain [1] done processing\n",
      "c:\\Users\\natra\\AppData\\Local\\Programs\\Python\\Python310\\lib\\site-packages\\sklearn\\metrics\\_regression.py:492: FutureWarning: 'squared' is deprecated in version 1.4 and will be removed in 1.6. To calculate the root mean squared error, use the function'root_mean_squared_error'.\n",
      "  warnings.warn(\n",
      "11:45:26 - cmdstanpy - INFO - Chain [1] start processing\n",
      "11:45:26 - cmdstanpy - INFO - Chain [1] done processing\n",
      "c:\\Users\\natra\\AppData\\Local\\Programs\\Python\\Python310\\lib\\site-packages\\sklearn\\metrics\\_regression.py:492: FutureWarning: 'squared' is deprecated in version 1.4 and will be removed in 1.6. To calculate the root mean squared error, use the function'root_mean_squared_error'.\n",
      "  warnings.warn(\n",
      "11:45:26 - cmdstanpy - INFO - Chain [1] start processing\n",
      "11:45:26 - cmdstanpy - INFO - Chain [1] done processing\n",
      "c:\\Users\\natra\\AppData\\Local\\Programs\\Python\\Python310\\lib\\site-packages\\sklearn\\metrics\\_regression.py:492: FutureWarning: 'squared' is deprecated in version 1.4 and will be removed in 1.6. To calculate the root mean squared error, use the function'root_mean_squared_error'.\n",
      "  warnings.warn(\n",
      "11:45:27 - cmdstanpy - INFO - Chain [1] start processing\n",
      "11:45:27 - cmdstanpy - INFO - Chain [1] done processing\n",
      "c:\\Users\\natra\\AppData\\Local\\Programs\\Python\\Python310\\lib\\site-packages\\sklearn\\metrics\\_regression.py:492: FutureWarning: 'squared' is deprecated in version 1.4 and will be removed in 1.6. To calculate the root mean squared error, use the function'root_mean_squared_error'.\n",
      "  warnings.warn(\n"
     ]
    },
    {
     "name": "stdout",
     "output_type": "stream",
     "text": [
      "R² Score: 0.522, RMSE: 3.911, MAE: 2.912\n",
      "\n",
      "Evaluating: changepoint_prior_scale=0.09999999999999999, seasonality_prior_scale=8.1, seasonality_mode=multiplicative\n"
     ]
    },
    {
     "name": "stderr",
     "output_type": "stream",
     "text": [
      "11:45:27 - cmdstanpy - INFO - Chain [1] start processing\n",
      "11:45:27 - cmdstanpy - INFO - Chain [1] done processing\n",
      "c:\\Users\\natra\\AppData\\Local\\Programs\\Python\\Python310\\lib\\site-packages\\sklearn\\metrics\\_regression.py:492: FutureWarning: 'squared' is deprecated in version 1.4 and will be removed in 1.6. To calculate the root mean squared error, use the function'root_mean_squared_error'.\n",
      "  warnings.warn(\n",
      "11:45:28 - cmdstanpy - INFO - Chain [1] start processing\n",
      "11:45:28 - cmdstanpy - INFO - Chain [1] done processing\n",
      "c:\\Users\\natra\\AppData\\Local\\Programs\\Python\\Python310\\lib\\site-packages\\sklearn\\metrics\\_regression.py:492: FutureWarning: 'squared' is deprecated in version 1.4 and will be removed in 1.6. To calculate the root mean squared error, use the function'root_mean_squared_error'.\n",
      "  warnings.warn(\n",
      "11:45:28 - cmdstanpy - INFO - Chain [1] start processing\n",
      "11:45:29 - cmdstanpy - INFO - Chain [1] done processing\n",
      "c:\\Users\\natra\\AppData\\Local\\Programs\\Python\\Python310\\lib\\site-packages\\sklearn\\metrics\\_regression.py:492: FutureWarning: 'squared' is deprecated in version 1.4 and will be removed in 1.6. To calculate the root mean squared error, use the function'root_mean_squared_error'.\n",
      "  warnings.warn(\n",
      "11:45:29 - cmdstanpy - INFO - Chain [1] start processing\n",
      "11:45:29 - cmdstanpy - INFO - Chain [1] done processing\n",
      "c:\\Users\\natra\\AppData\\Local\\Programs\\Python\\Python310\\lib\\site-packages\\sklearn\\metrics\\_regression.py:492: FutureWarning: 'squared' is deprecated in version 1.4 and will be removed in 1.6. To calculate the root mean squared error, use the function'root_mean_squared_error'.\n",
      "  warnings.warn(\n",
      "11:45:30 - cmdstanpy - INFO - Chain [1] start processing\n",
      "11:45:30 - cmdstanpy - INFO - Chain [1] done processing\n",
      "c:\\Users\\natra\\AppData\\Local\\Programs\\Python\\Python310\\lib\\site-packages\\sklearn\\metrics\\_regression.py:492: FutureWarning: 'squared' is deprecated in version 1.4 and will be removed in 1.6. To calculate the root mean squared error, use the function'root_mean_squared_error'.\n",
      "  warnings.warn(\n"
     ]
    },
    {
     "name": "stdout",
     "output_type": "stream",
     "text": [
      "R² Score: 0.547, RMSE: 3.848, MAE: 2.899\n",
      "\n",
      "Evaluating: changepoint_prior_scale=0.09999999999999999, seasonality_prior_scale=9.1, seasonality_mode=additive\n"
     ]
    },
    {
     "name": "stderr",
     "output_type": "stream",
     "text": [
      "11:45:30 - cmdstanpy - INFO - Chain [1] start processing\n",
      "11:45:30 - cmdstanpy - INFO - Chain [1] done processing\n",
      "c:\\Users\\natra\\AppData\\Local\\Programs\\Python\\Python310\\lib\\site-packages\\sklearn\\metrics\\_regression.py:492: FutureWarning: 'squared' is deprecated in version 1.4 and will be removed in 1.6. To calculate the root mean squared error, use the function'root_mean_squared_error'.\n",
      "  warnings.warn(\n",
      "11:45:31 - cmdstanpy - INFO - Chain [1] start processing\n",
      "11:45:31 - cmdstanpy - INFO - Chain [1] done processing\n",
      "c:\\Users\\natra\\AppData\\Local\\Programs\\Python\\Python310\\lib\\site-packages\\sklearn\\metrics\\_regression.py:492: FutureWarning: 'squared' is deprecated in version 1.4 and will be removed in 1.6. To calculate the root mean squared error, use the function'root_mean_squared_error'.\n",
      "  warnings.warn(\n",
      "11:45:32 - cmdstanpy - INFO - Chain [1] start processing\n",
      "11:45:32 - cmdstanpy - INFO - Chain [1] done processing\n",
      "c:\\Users\\natra\\AppData\\Local\\Programs\\Python\\Python310\\lib\\site-packages\\sklearn\\metrics\\_regression.py:492: FutureWarning: 'squared' is deprecated in version 1.4 and will be removed in 1.6. To calculate the root mean squared error, use the function'root_mean_squared_error'.\n",
      "  warnings.warn(\n",
      "11:45:32 - cmdstanpy - INFO - Chain [1] start processing\n",
      "11:45:32 - cmdstanpy - INFO - Chain [1] done processing\n",
      "c:\\Users\\natra\\AppData\\Local\\Programs\\Python\\Python310\\lib\\site-packages\\sklearn\\metrics\\_regression.py:492: FutureWarning: 'squared' is deprecated in version 1.4 and will be removed in 1.6. To calculate the root mean squared error, use the function'root_mean_squared_error'.\n",
      "  warnings.warn(\n",
      "11:45:33 - cmdstanpy - INFO - Chain [1] start processing\n",
      "11:45:33 - cmdstanpy - INFO - Chain [1] done processing\n",
      "c:\\Users\\natra\\AppData\\Local\\Programs\\Python\\Python310\\lib\\site-packages\\sklearn\\metrics\\_regression.py:492: FutureWarning: 'squared' is deprecated in version 1.4 and will be removed in 1.6. To calculate the root mean squared error, use the function'root_mean_squared_error'.\n",
      "  warnings.warn(\n"
     ]
    },
    {
     "name": "stdout",
     "output_type": "stream",
     "text": [
      "R² Score: 0.521, RMSE: 3.909, MAE: 2.905\n",
      "\n",
      "Evaluating: changepoint_prior_scale=0.09999999999999999, seasonality_prior_scale=9.1, seasonality_mode=multiplicative\n"
     ]
    },
    {
     "name": "stderr",
     "output_type": "stream",
     "text": [
      "11:45:33 - cmdstanpy - INFO - Chain [1] start processing\n",
      "11:45:34 - cmdstanpy - INFO - Chain [1] done processing\n",
      "c:\\Users\\natra\\AppData\\Local\\Programs\\Python\\Python310\\lib\\site-packages\\sklearn\\metrics\\_regression.py:492: FutureWarning: 'squared' is deprecated in version 1.4 and will be removed in 1.6. To calculate the root mean squared error, use the function'root_mean_squared_error'.\n",
      "  warnings.warn(\n",
      "11:45:34 - cmdstanpy - INFO - Chain [1] start processing\n",
      "11:45:34 - cmdstanpy - INFO - Chain [1] done processing\n",
      "c:\\Users\\natra\\AppData\\Local\\Programs\\Python\\Python310\\lib\\site-packages\\sklearn\\metrics\\_regression.py:492: FutureWarning: 'squared' is deprecated in version 1.4 and will be removed in 1.6. To calculate the root mean squared error, use the function'root_mean_squared_error'.\n",
      "  warnings.warn(\n",
      "11:45:35 - cmdstanpy - INFO - Chain [1] start processing\n",
      "11:45:35 - cmdstanpy - INFO - Chain [1] done processing\n",
      "c:\\Users\\natra\\AppData\\Local\\Programs\\Python\\Python310\\lib\\site-packages\\sklearn\\metrics\\_regression.py:492: FutureWarning: 'squared' is deprecated in version 1.4 and will be removed in 1.6. To calculate the root mean squared error, use the function'root_mean_squared_error'.\n",
      "  warnings.warn(\n",
      "11:45:35 - cmdstanpy - INFO - Chain [1] start processing\n",
      "11:45:35 - cmdstanpy - INFO - Chain [1] done processing\n",
      "c:\\Users\\natra\\AppData\\Local\\Programs\\Python\\Python310\\lib\\site-packages\\sklearn\\metrics\\_regression.py:492: FutureWarning: 'squared' is deprecated in version 1.4 and will be removed in 1.6. To calculate the root mean squared error, use the function'root_mean_squared_error'.\n",
      "  warnings.warn(\n",
      "11:45:36 - cmdstanpy - INFO - Chain [1] start processing\n",
      "11:45:36 - cmdstanpy - INFO - Chain [1] done processing\n",
      "c:\\Users\\natra\\AppData\\Local\\Programs\\Python\\Python310\\lib\\site-packages\\sklearn\\metrics\\_regression.py:492: FutureWarning: 'squared' is deprecated in version 1.4 and will be removed in 1.6. To calculate the root mean squared error, use the function'root_mean_squared_error'.\n",
      "  warnings.warn(\n"
     ]
    },
    {
     "name": "stdout",
     "output_type": "stream",
     "text": [
      "R² Score: 0.548, RMSE: 3.844, MAE: 2.888\n",
      "\n",
      "Evaluating: changepoint_prior_scale=0.09999999999999999, seasonality_prior_scale=10.1, seasonality_mode=additive\n"
     ]
    },
    {
     "name": "stderr",
     "output_type": "stream",
     "text": [
      "11:45:36 - cmdstanpy - INFO - Chain [1] start processing\n",
      "11:45:37 - cmdstanpy - INFO - Chain [1] done processing\n",
      "c:\\Users\\natra\\AppData\\Local\\Programs\\Python\\Python310\\lib\\site-packages\\sklearn\\metrics\\_regression.py:492: FutureWarning: 'squared' is deprecated in version 1.4 and will be removed in 1.6. To calculate the root mean squared error, use the function'root_mean_squared_error'.\n",
      "  warnings.warn(\n",
      "11:45:37 - cmdstanpy - INFO - Chain [1] start processing\n",
      "11:45:37 - cmdstanpy - INFO - Chain [1] done processing\n",
      "c:\\Users\\natra\\AppData\\Local\\Programs\\Python\\Python310\\lib\\site-packages\\sklearn\\metrics\\_regression.py:492: FutureWarning: 'squared' is deprecated in version 1.4 and will be removed in 1.6. To calculate the root mean squared error, use the function'root_mean_squared_error'.\n",
      "  warnings.warn(\n",
      "11:45:38 - cmdstanpy - INFO - Chain [1] start processing\n",
      "11:45:38 - cmdstanpy - INFO - Chain [1] done processing\n",
      "c:\\Users\\natra\\AppData\\Local\\Programs\\Python\\Python310\\lib\\site-packages\\sklearn\\metrics\\_regression.py:492: FutureWarning: 'squared' is deprecated in version 1.4 and will be removed in 1.6. To calculate the root mean squared error, use the function'root_mean_squared_error'.\n",
      "  warnings.warn(\n",
      "11:45:38 - cmdstanpy - INFO - Chain [1] start processing\n",
      "11:45:38 - cmdstanpy - INFO - Chain [1] done processing\n",
      "c:\\Users\\natra\\AppData\\Local\\Programs\\Python\\Python310\\lib\\site-packages\\sklearn\\metrics\\_regression.py:492: FutureWarning: 'squared' is deprecated in version 1.4 and will be removed in 1.6. To calculate the root mean squared error, use the function'root_mean_squared_error'.\n",
      "  warnings.warn(\n",
      "11:45:39 - cmdstanpy - INFO - Chain [1] start processing\n",
      "11:45:39 - cmdstanpy - INFO - Chain [1] done processing\n",
      "c:\\Users\\natra\\AppData\\Local\\Programs\\Python\\Python310\\lib\\site-packages\\sklearn\\metrics\\_regression.py:492: FutureWarning: 'squared' is deprecated in version 1.4 and will be removed in 1.6. To calculate the root mean squared error, use the function'root_mean_squared_error'.\n",
      "  warnings.warn(\n"
     ]
    },
    {
     "name": "stdout",
     "output_type": "stream",
     "text": [
      "R² Score: 0.519, RMSE: 3.918, MAE: 2.916\n",
      "\n",
      "Evaluating: changepoint_prior_scale=0.09999999999999999, seasonality_prior_scale=10.1, seasonality_mode=multiplicative\n"
     ]
    },
    {
     "name": "stderr",
     "output_type": "stream",
     "text": [
      "11:45:39 - cmdstanpy - INFO - Chain [1] start processing\n",
      "11:45:40 - cmdstanpy - INFO - Chain [1] done processing\n",
      "c:\\Users\\natra\\AppData\\Local\\Programs\\Python\\Python310\\lib\\site-packages\\sklearn\\metrics\\_regression.py:492: FutureWarning: 'squared' is deprecated in version 1.4 and will be removed in 1.6. To calculate the root mean squared error, use the function'root_mean_squared_error'.\n",
      "  warnings.warn(\n",
      "11:45:40 - cmdstanpy - INFO - Chain [1] start processing\n",
      "11:45:40 - cmdstanpy - INFO - Chain [1] done processing\n",
      "c:\\Users\\natra\\AppData\\Local\\Programs\\Python\\Python310\\lib\\site-packages\\sklearn\\metrics\\_regression.py:492: FutureWarning: 'squared' is deprecated in version 1.4 and will be removed in 1.6. To calculate the root mean squared error, use the function'root_mean_squared_error'.\n",
      "  warnings.warn(\n",
      "11:45:41 - cmdstanpy - INFO - Chain [1] start processing\n",
      "11:45:41 - cmdstanpy - INFO - Chain [1] done processing\n",
      "c:\\Users\\natra\\AppData\\Local\\Programs\\Python\\Python310\\lib\\site-packages\\sklearn\\metrics\\_regression.py:492: FutureWarning: 'squared' is deprecated in version 1.4 and will be removed in 1.6. To calculate the root mean squared error, use the function'root_mean_squared_error'.\n",
      "  warnings.warn(\n",
      "11:45:41 - cmdstanpy - INFO - Chain [1] start processing\n",
      "11:45:41 - cmdstanpy - INFO - Chain [1] done processing\n",
      "c:\\Users\\natra\\AppData\\Local\\Programs\\Python\\Python310\\lib\\site-packages\\sklearn\\metrics\\_regression.py:492: FutureWarning: 'squared' is deprecated in version 1.4 and will be removed in 1.6. To calculate the root mean squared error, use the function'root_mean_squared_error'.\n",
      "  warnings.warn(\n",
      "11:45:42 - cmdstanpy - INFO - Chain [1] start processing\n",
      "11:45:42 - cmdstanpy - INFO - Chain [1] done processing\n",
      "c:\\Users\\natra\\AppData\\Local\\Programs\\Python\\Python310\\lib\\site-packages\\sklearn\\metrics\\_regression.py:492: FutureWarning: 'squared' is deprecated in version 1.4 and will be removed in 1.6. To calculate the root mean squared error, use the function'root_mean_squared_error'.\n",
      "  warnings.warn(\n"
     ]
    },
    {
     "name": "stdout",
     "output_type": "stream",
     "text": [
      "R² Score: 0.549, RMSE: 3.843, MAE: 2.893\n",
      "\n",
      "Best R² Score: 0.610\n",
      "Best RMSE: 3.635\n",
      "Best MAE: 2.608\n",
      "Best Hyperparameters: changepoint_prior_scale=0.01, seasonality_prior_scale=0.1, seasonality_mode=multiplicative\n"
     ]
    },
    {
     "name": "stderr",
     "output_type": "stream",
     "text": [
      "11:45:42 - cmdstanpy - INFO - Chain [1] start processing\n",
      "11:45:43 - cmdstanpy - INFO - Chain [1] done processing\n",
      "c:\\Users\\natra\\AppData\\Local\\Programs\\Python\\Python310\\lib\\site-packages\\prophet\\plot.py:72: FutureWarning: The behavior of DatetimeProperties.to_pydatetime is deprecated, in a future version this will return a Series containing python datetime objects instead of an ndarray. To retain the old behavior, call `np.array` on the result\n",
      "  fcst_t = fcst['ds'].dt.to_pydatetime()\n",
      "c:\\Users\\natra\\AppData\\Local\\Programs\\Python\\Python310\\lib\\site-packages\\prophet\\plot.py:73: FutureWarning: The behavior of DatetimeProperties.to_pydatetime is deprecated, in a future version this will return a Series containing python datetime objects instead of an ndarray. To retain the old behavior, call `np.array` on the result\n",
      "  ax.plot(m.history['ds'].dt.to_pydatetime(), m.history['y'], 'k.',\n"
     ]
    },
    {
     "data": {
      "image/png": "[encoded data removed]",
      "text/plain": [
       "<Figure size 1000x600 with 1 Axes>"
      ]
     },
     "metadata": {},
     "output_type": "display_data"
    },
    {
     "name": "stderr",
     "output_type": "stream",
     "text": [
      "c:\\Users\\natra\\AppData\\Local\\Programs\\Python\\Python310\\lib\\site-packages\\prophet\\plot.py:228: FutureWarning: The behavior of DatetimeProperties.to_pydatetime is deprecated, in a future version this will return a Series containing python datetime objects instead of an ndarray. To retain the old behavior, call `np.array` on the result\n",
      "  fcst_t = fcst['ds'].dt.to_pydatetime()\n",
      "c:\\Users\\natra\\AppData\\Local\\Programs\\Python\\Python310\\lib\\site-packages\\prophet\\plot.py:351: FutureWarning: The behavior of DatetimeProperties.to_pydatetime is deprecated, in a future version this will return a Series containing python datetime objects instead of an ndarray. To retain the old behavior, call `np.array` on the result\n",
      "  df_y['ds'].dt.to_pydatetime(), seas[name], ls='-', c='#0072B2')\n",
      "c:\\Users\\natra\\AppData\\Local\\Programs\\Python\\Python310\\lib\\site-packages\\prophet\\plot.py:354: FutureWarning: The behavior of DatetimeProperties.to_pydatetime is deprecated, in a future version this will return a Series containing python datetime objects instead of an ndarray. To retain the old behavior, call `np.array` on the result\n",
      "  df_y['ds'].dt.to_pydatetime(), seas[name + '_lower'],\n"
     ]
    },
    {
     "data": {
      "image/png": "[encoded data removed]",
      "text/plain": [
       "<Figure size 900x900 with 3 Axes>"
      ]
     },
     "metadata": {},
     "output_type": "display_data"
    }
   ],
   "source": [
    "import pandas as pd\n",
    "from sklearn.metrics import r2_score, mean_squared_error, mean_absolute_error\n",
    "from sklearn.model_selection import KFold\n",
    "from prophet import Prophet\n",
    "import numpy as np\n",
    "import matplotlib.pyplot as plt\n",
    "\n",
    "# Load the dataset\n",
    "file_path = '../../../dataset/data.csv'\n",
    "data = pd.read_csv(file_path)\n",
    "\n",
    "# Prepare the data for Prophet (for Average Dew)\n",
    "data['ds'] = pd.to_datetime(data['datetime'], format='%m/%d/%Y')\n",
    "dew_data = data[['ds', 'dew']]  # Rename Average Dew for Prophet\n",
    "dew_data.rename(columns={'dew': 'y'}, inplace=True)\n",
    "\n",
    "# Updated parameter grid\n",
    "param_grid = {\n",
    "    'changepoint_prior_scale': np.arange(0.01, 0.11, 0.01).tolist(),  # Trend flexibility from 0.01 to 0.1 with step 0.01\n",
    "    'seasonality_prior_scale': np.arange(0.1, 11, 1.0).tolist(),  # Seasonality flexibility from 0.1 to 10 with step 1.0\n",
    "    'seasonality_mode': ['additive', 'multiplicative']  # Additive vs multiplicative seasonality\n",
    "}\n",
    "\n",
    "# Define number of folds for cross-validation\n",
    "kf = KFold(n_splits=5)\n",
    "\n",
    "# Function to evaluate model with given parameters and cross-validation\n",
    "def evaluate_model_cv(changepoint_prior_scale, seasonality_prior_scale, seasonality_mode, data):\n",
    "    r2_scores = []\n",
    "    rmse_scores = []\n",
    "    mae_scores = []\n",
    "    \n",
    "    for train_index, test_index in kf.split(data):\n",
    "        # Split the data into train and test sets for each fold\n",
    "        train_data = data.iloc[train_index]\n",
    "        test_data = data.iloc[test_index]\n",
    "        \n",
    "        # Initialize the Prophet model with specified hyperparameters\n",
    "        model = Prophet(\n",
    "            yearly_seasonality=True,\n",
    "            changepoint_prior_scale=changepoint_prior_scale,\n",
    "            seasonality_prior_scale=seasonality_prior_scale,\n",
    "            seasonality_mode=seasonality_mode\n",
    "        )\n",
    "        \n",
    "        # Fit the model\n",
    "        model.fit(train_data)\n",
    "        \n",
    "        # Predict on the test set (validation set)\n",
    "        test_forecast = model.predict(test_data[['ds']])\n",
    "        \n",
    "        # Calculate R², RMSE, and MAE\n",
    "        y_true = test_data['y'].values  # Actual Average Dews\n",
    "        y_pred = test_forecast['yhat'].values  # Predicted Average Dews\n",
    "        \n",
    "        r2_scores.append(r2_score(y_true, y_pred))\n",
    "        rmse_scores.append(mean_squared_error(y_true, y_pred, squared=False))\n",
    "        mae_scores.append(mean_absolute_error(y_true, y_pred))\n",
    "    \n",
    "    # Calculate average scores across the folds\n",
    "    avg_r2 = np.mean(r2_scores)\n",
    "    avg_rmse = np.mean(rmse_scores)\n",
    "    avg_mae = np.mean(mae_scores)\n",
    "    \n",
    "    return avg_r2, avg_rmse, avg_mae\n",
    "\n",
    "# Iterate through the parameter grid and evaluate each combination using K-Fold CV\n",
    "best_score = -float('inf')\n",
    "best_params = None\n",
    "best_rmse = float('inf')\n",
    "best_mae = float('inf')\n",
    "\n",
    "for changepoint in param_grid['changepoint_prior_scale']:\n",
    "    for seasonality_prior in param_grid['seasonality_prior_scale']:\n",
    "        for seasonality_mode in param_grid['seasonality_mode']:\n",
    "            print(f\"Evaluating: changepoint_prior_scale={changepoint}, seasonality_prior_scale={seasonality_prior}, seasonality_mode={seasonality_mode}\")\n",
    "            r2, rmse, mae = evaluate_model_cv(changepoint, seasonality_prior, seasonality_mode, dew_data)\n",
    "            print(f\"R² Score: {r2:.3f}, RMSE: {rmse:.3f}, MAE: {mae:.3f}\\n\")\n",
    "            \n",
    "            # Keep track of the best model: prioritize highest R², then lowest RMSE and MAE\n",
    "            if r2 > best_score or (r2 == best_score and rmse < best_rmse and mae < best_mae):\n",
    "                best_score = r2\n",
    "                best_rmse = rmse\n",
    "                best_mae = mae\n",
    "                best_params = (changepoint, seasonality_prior, seasonality_mode)\n",
    "\n",
    "# Output the best hyperparameters\n",
    "print(f\"Best R² Score: {best_score:.3f}\")\n",
    "print(f\"Best RMSE: {best_rmse:.3f}\")\n",
    "print(f\"Best MAE: {best_mae:.3f}\")\n",
    "print(f\"Best Hyperparameters: changepoint_prior_scale={best_params[0]}, seasonality_prior_scale={best_params[1]}, seasonality_mode={best_params[2]}\")\n",
    "\n",
    "# Re-train the best model using the entire dataset and best hyperparameters\n",
    "best_model = Prophet(\n",
    "    yearly_seasonality=True,\n",
    "    changepoint_prior_scale=best_params[0],\n",
    "    seasonality_prior_scale=best_params[1],\n",
    "    seasonality_mode=best_params[2]\n",
    ")\n",
    "\n",
    "best_model.fit(dew_data)\n",
    "\n",
    "# Generate future dates (from 21/08/2024 to 31/12/2024)\n",
    "future_dates = best_model.make_future_dataframe(periods=len(pd.date_range('2024-08-21', '2024-12-31')), freq='D')\n",
    "\n",
    "# Predict future Average Dews\n",
    "dew_forecast = best_model.predict(future_dates)\n",
    "\n",
    "# Display and save the predicted Average Dews\n",
    "dew_forecast[['ds', 'yhat']].tail()\n",
    "dew_forecast[['ds', 'yhat']].to_csv('dew_forecast_finetuning_2024.csv', index=False)\n",
    "\n",
    "# Plot the forecasted Average Dews with a title\n",
    "forecast_plot = best_model.plot(dew_forecast)\n",
    "plt.title(\"Average Dew Forecast (2024)\")\n",
    "plt.xlabel(\"Date\")\n",
    "plt.ylabel(\"Average Dew (°C)\")\n",
    "plt.show()\n",
    "\n",
    "# Plot seasonal components (trend, yearly, etc.) with titles\n",
    "components_plot = best_model.plot_components(dew_forecast)\n",
    "\n",
    "# Adding titles to individual component plots\n",
    "ax = components_plot.get_axes()\n",
    "\n",
    "# Titles for each component\n",
    "ax[0].set_title('Trend Component: Average Dew')\n",
    "ax[1].set_title('Yearly Seasonality: Average Dew')\n",
    "ax[2].set_title('Weekly Seasonality: Average Dew')  # If applicable\n",
    "plt.show()\n"
   ]
  }
 ],
 "metadata": {
  "kernelspec": {
   "display_name": "Python 3",
   "language": "python",
   "name": "python3"
  },
  "language_info": {
   "codemirror_mode": {
    "name": "ipython",
    "version": 3
   },
   "file_extension": ".py",
   "mimetype": "text/x-python",
   "name": "python",
   "nbconvert_exporter": "python",
   "pygments_lexer": "ipython3",
   "version": "3.10.7"
  }
 },
 "nbformat": 4,
 "nbformat_minor": 2
}
