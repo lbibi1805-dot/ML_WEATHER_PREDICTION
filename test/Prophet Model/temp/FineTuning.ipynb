{
 "cells": [
  {
   "cell_type": "code",
   "execution_count": 1,
   "metadata": {},
   "outputs": [
    {
     "name": "stderr",
     "output_type": "stream",
     "text": [
      "c:\\Users\\natra\\AppData\\Local\\Programs\\Python\\Python310\\lib\\site-packages\\tqdm\\auto.py:21: TqdmWarning: IProgress not found. Please update jupyter and ipywidgets. See https://ipywidgets.readthedocs.io/en/stable/user_install.html\n",
      "  from .autonotebook import tqdm as notebook_tqdm\n",
      "C:\\Users\\natra\\AppData\\Local\\Temp\\ipykernel_33456\\2708534836.py:15: SettingWithCopyWarning: \n",
      "A value is trying to be set on a copy of a slice from a DataFrame\n",
      "\n",
      "See the caveats in the documentation: https://pandas.pydata.org/pandas-docs/stable/user_guide/indexing.html#returning-a-view-versus-a-copy\n",
      "  temp_data.rename(columns={'temp': 'y'}, inplace=True)\n"
     ]
    },
    {
     "name": "stdout",
     "output_type": "stream",
     "text": [
      "Evaluating: changepoint_prior_scale=0.01, seasonality_prior_scale=0.1, seasonality_mode=additive\n"
     ]
    },
    {
     "name": "stderr",
     "output_type": "stream",
     "text": [
      "10:41:02 - cmdstanpy - INFO - Chain [1] start processing\n",
      "10:41:02 - cmdstanpy - INFO - Chain [1] done processing\n",
      "c:\\Users\\natra\\AppData\\Local\\Programs\\Python\\Python310\\lib\\site-packages\\sklearn\\metrics\\_regression.py:492: FutureWarning: 'squared' is deprecated in version 1.4 and will be removed in 1.6. To calculate the root mean squared error, use the function'root_mean_squared_error'.\n",
      "  warnings.warn(\n",
      "10:41:02 - cmdstanpy - INFO - Chain [1] start processing\n",
      "10:41:02 - cmdstanpy - INFO - Chain [1] done processing\n",
      "c:\\Users\\natra\\AppData\\Local\\Programs\\Python\\Python310\\lib\\site-packages\\sklearn\\metrics\\_regression.py:492: FutureWarning: 'squared' is deprecated in version 1.4 and will be removed in 1.6. To calculate the root mean squared error, use the function'root_mean_squared_error'.\n",
      "  warnings.warn(\n",
      "10:41:03 - cmdstanpy - INFO - Chain [1] start processing\n",
      "10:41:03 - cmdstanpy - INFO - Chain [1] done processing\n",
      "c:\\Users\\natra\\AppData\\Local\\Programs\\Python\\Python310\\lib\\site-packages\\sklearn\\metrics\\_regression.py:492: FutureWarning: 'squared' is deprecated in version 1.4 and will be removed in 1.6. To calculate the root mean squared error, use the function'root_mean_squared_error'.\n",
      "  warnings.warn(\n",
      "10:41:03 - cmdstanpy - INFO - Chain [1] start processing\n",
      "10:41:03 - cmdstanpy - INFO - Chain [1] done processing\n",
      "c:\\Users\\natra\\AppData\\Local\\Programs\\Python\\Python310\\lib\\site-packages\\sklearn\\metrics\\_regression.py:492: FutureWarning: 'squared' is deprecated in version 1.4 and will be removed in 1.6. To calculate the root mean squared error, use the function'root_mean_squared_error'.\n",
      "  warnings.warn(\n",
      "10:41:04 - cmdstanpy - INFO - Chain [1] start processing\n",
      "10:41:04 - cmdstanpy - INFO - Chain [1] done processing\n",
      "c:\\Users\\natra\\AppData\\Local\\Programs\\Python\\Python310\\lib\\site-packages\\sklearn\\metrics\\_regression.py:492: FutureWarning: 'squared' is deprecated in version 1.4 and will be removed in 1.6. To calculate the root mean squared error, use the function'root_mean_squared_error'.\n",
      "  warnings.warn(\n"
     ]
    },
    {
     "name": "stdout",
     "output_type": "stream",
     "text": [
      "R² Score: 0.733, RMSE: 2.678, MAE: 2.149\n",
      "\n",
      "Evaluating: changepoint_prior_scale=0.01, seasonality_prior_scale=0.1, seasonality_mode=multiplicative\n"
     ]
    },
    {
     "name": "stderr",
     "output_type": "stream",
     "text": [
      "10:41:04 - cmdstanpy - INFO - Chain [1] start processing\n",
      "10:41:05 - cmdstanpy - INFO - Chain [1] done processing\n",
      "c:\\Users\\natra\\AppData\\Local\\Programs\\Python\\Python310\\lib\\site-packages\\sklearn\\metrics\\_regression.py:492: FutureWarning: 'squared' is deprecated in version 1.4 and will be removed in 1.6. To calculate the root mean squared error, use the function'root_mean_squared_error'.\n",
      "  warnings.warn(\n",
      "10:41:05 - cmdstanpy - INFO - Chain [1] start processing\n",
      "10:41:05 - cmdstanpy - INFO - Chain [1] done processing\n",
      "c:\\Users\\natra\\AppData\\Local\\Programs\\Python\\Python310\\lib\\site-packages\\sklearn\\metrics\\_regression.py:492: FutureWarning: 'squared' is deprecated in version 1.4 and will be removed in 1.6. To calculate the root mean squared error, use the function'root_mean_squared_error'.\n",
      "  warnings.warn(\n",
      "10:41:06 - cmdstanpy - INFO - Chain [1] start processing\n",
      "10:41:06 - cmdstanpy - INFO - Chain [1] done processing\n",
      "c:\\Users\\natra\\AppData\\Local\\Programs\\Python\\Python310\\lib\\site-packages\\sklearn\\metrics\\_regression.py:492: FutureWarning: 'squared' is deprecated in version 1.4 and will be removed in 1.6. To calculate the root mean squared error, use the function'root_mean_squared_error'.\n",
      "  warnings.warn(\n",
      "10:41:06 - cmdstanpy - INFO - Chain [1] start processing\n",
      "10:41:06 - cmdstanpy - INFO - Chain [1] done processing\n",
      "c:\\Users\\natra\\AppData\\Local\\Programs\\Python\\Python310\\lib\\site-packages\\sklearn\\metrics\\_regression.py:492: FutureWarning: 'squared' is deprecated in version 1.4 and will be removed in 1.6. To calculate the root mean squared error, use the function'root_mean_squared_error'.\n",
      "  warnings.warn(\n",
      "10:41:07 - cmdstanpy - INFO - Chain [1] start processing\n",
      "10:41:07 - cmdstanpy - INFO - Chain [1] done processing\n",
      "c:\\Users\\natra\\AppData\\Local\\Programs\\Python\\Python310\\lib\\site-packages\\sklearn\\metrics\\_regression.py:492: FutureWarning: 'squared' is deprecated in version 1.4 and will be removed in 1.6. To calculate the root mean squared error, use the function'root_mean_squared_error'.\n",
      "  warnings.warn(\n"
     ]
    },
    {
     "name": "stdout",
     "output_type": "stream",
     "text": [
      "R² Score: 0.732, RMSE: 2.682, MAE: 2.154\n",
      "\n",
      "Evaluating: changepoint_prior_scale=0.01, seasonality_prior_scale=1.1, seasonality_mode=additive\n"
     ]
    },
    {
     "name": "stderr",
     "output_type": "stream",
     "text": [
      "10:41:08 - cmdstanpy - INFO - Chain [1] start processing\n",
      "10:41:08 - cmdstanpy - INFO - Chain [1] done processing\n",
      "c:\\Users\\natra\\AppData\\Local\\Programs\\Python\\Python310\\lib\\site-packages\\sklearn\\metrics\\_regression.py:492: FutureWarning: 'squared' is deprecated in version 1.4 and will be removed in 1.6. To calculate the root mean squared error, use the function'root_mean_squared_error'.\n",
      "  warnings.warn(\n",
      "10:41:09 - cmdstanpy - INFO - Chain [1] start processing\n",
      "10:41:09 - cmdstanpy - INFO - Chain [1] done processing\n",
      "c:\\Users\\natra\\AppData\\Local\\Programs\\Python\\Python310\\lib\\site-packages\\sklearn\\metrics\\_regression.py:492: FutureWarning: 'squared' is deprecated in version 1.4 and will be removed in 1.6. To calculate the root mean squared error, use the function'root_mean_squared_error'.\n",
      "  warnings.warn(\n",
      "10:41:09 - cmdstanpy - INFO - Chain [1] start processing\n",
      "10:41:09 - cmdstanpy - INFO - Chain [1] done processing\n",
      "c:\\Users\\natra\\AppData\\Local\\Programs\\Python\\Python310\\lib\\site-packages\\sklearn\\metrics\\_regression.py:492: FutureWarning: 'squared' is deprecated in version 1.4 and will be removed in 1.6. To calculate the root mean squared error, use the function'root_mean_squared_error'.\n",
      "  warnings.warn(\n",
      "10:41:10 - cmdstanpy - INFO - Chain [1] start processing\n",
      "10:41:10 - cmdstanpy - INFO - Chain [1] done processing\n",
      "c:\\Users\\natra\\AppData\\Local\\Programs\\Python\\Python310\\lib\\site-packages\\sklearn\\metrics\\_regression.py:492: FutureWarning: 'squared' is deprecated in version 1.4 and will be removed in 1.6. To calculate the root mean squared error, use the function'root_mean_squared_error'.\n",
      "  warnings.warn(\n",
      "10:41:11 - cmdstanpy - INFO - Chain [1] start processing\n",
      "10:41:11 - cmdstanpy - INFO - Chain [1] done processing\n",
      "c:\\Users\\natra\\AppData\\Local\\Programs\\Python\\Python310\\lib\\site-packages\\sklearn\\metrics\\_regression.py:492: FutureWarning: 'squared' is deprecated in version 1.4 and will be removed in 1.6. To calculate the root mean squared error, use the function'root_mean_squared_error'.\n",
      "  warnings.warn(\n"
     ]
    },
    {
     "name": "stdout",
     "output_type": "stream",
     "text": [
      "R² Score: 0.733, RMSE: 2.680, MAE: 2.151\n",
      "\n",
      "Evaluating: changepoint_prior_scale=0.01, seasonality_prior_scale=1.1, seasonality_mode=multiplicative\n"
     ]
    },
    {
     "name": "stderr",
     "output_type": "stream",
     "text": [
      "10:41:11 - cmdstanpy - INFO - Chain [1] start processing\n",
      "10:41:11 - cmdstanpy - INFO - Chain [1] done processing\n",
      "c:\\Users\\natra\\AppData\\Local\\Programs\\Python\\Python310\\lib\\site-packages\\sklearn\\metrics\\_regression.py:492: FutureWarning: 'squared' is deprecated in version 1.4 and will be removed in 1.6. To calculate the root mean squared error, use the function'root_mean_squared_error'.\n",
      "  warnings.warn(\n",
      "10:41:12 - cmdstanpy - INFO - Chain [1] start processing\n",
      "10:41:12 - cmdstanpy - INFO - Chain [1] done processing\n",
      "c:\\Users\\natra\\AppData\\Local\\Programs\\Python\\Python310\\lib\\site-packages\\sklearn\\metrics\\_regression.py:492: FutureWarning: 'squared' is deprecated in version 1.4 and will be removed in 1.6. To calculate the root mean squared error, use the function'root_mean_squared_error'.\n",
      "  warnings.warn(\n",
      "10:41:12 - cmdstanpy - INFO - Chain [1] start processing\n",
      "10:41:13 - cmdstanpy - INFO - Chain [1] done processing\n",
      "c:\\Users\\natra\\AppData\\Local\\Programs\\Python\\Python310\\lib\\site-packages\\sklearn\\metrics\\_regression.py:492: FutureWarning: 'squared' is deprecated in version 1.4 and will be removed in 1.6. To calculate the root mean squared error, use the function'root_mean_squared_error'.\n",
      "  warnings.warn(\n",
      "10:41:13 - cmdstanpy - INFO - Chain [1] start processing\n",
      "10:41:13 - cmdstanpy - INFO - Chain [1] done processing\n",
      "c:\\Users\\natra\\AppData\\Local\\Programs\\Python\\Python310\\lib\\site-packages\\sklearn\\metrics\\_regression.py:492: FutureWarning: 'squared' is deprecated in version 1.4 and will be removed in 1.6. To calculate the root mean squared error, use the function'root_mean_squared_error'.\n",
      "  warnings.warn(\n",
      "10:41:14 - cmdstanpy - INFO - Chain [1] start processing\n",
      "10:41:14 - cmdstanpy - INFO - Chain [1] done processing\n",
      "c:\\Users\\natra\\AppData\\Local\\Programs\\Python\\Python310\\lib\\site-packages\\sklearn\\metrics\\_regression.py:492: FutureWarning: 'squared' is deprecated in version 1.4 and will be removed in 1.6. To calculate the root mean squared error, use the function'root_mean_squared_error'.\n",
      "  warnings.warn(\n"
     ]
    },
    {
     "name": "stdout",
     "output_type": "stream",
     "text": [
      "R² Score: 0.732, RMSE: 2.682, MAE: 2.154\n",
      "\n",
      "Evaluating: changepoint_prior_scale=0.01, seasonality_prior_scale=2.1, seasonality_mode=additive\n"
     ]
    },
    {
     "name": "stderr",
     "output_type": "stream",
     "text": [
      "10:41:14 - cmdstanpy - INFO - Chain [1] start processing\n",
      "10:41:15 - cmdstanpy - INFO - Chain [1] done processing\n",
      "c:\\Users\\natra\\AppData\\Local\\Programs\\Python\\Python310\\lib\\site-packages\\sklearn\\metrics\\_regression.py:492: FutureWarning: 'squared' is deprecated in version 1.4 and will be removed in 1.6. To calculate the root mean squared error, use the function'root_mean_squared_error'.\n",
      "  warnings.warn(\n",
      "10:41:15 - cmdstanpy - INFO - Chain [1] start processing\n",
      "10:41:15 - cmdstanpy - INFO - Chain [1] done processing\n",
      "c:\\Users\\natra\\AppData\\Local\\Programs\\Python\\Python310\\lib\\site-packages\\sklearn\\metrics\\_regression.py:492: FutureWarning: 'squared' is deprecated in version 1.4 and will be removed in 1.6. To calculate the root mean squared error, use the function'root_mean_squared_error'.\n",
      "  warnings.warn(\n",
      "10:41:16 - cmdstanpy - INFO - Chain [1] start processing\n",
      "10:41:16 - cmdstanpy - INFO - Chain [1] done processing\n",
      "c:\\Users\\natra\\AppData\\Local\\Programs\\Python\\Python310\\lib\\site-packages\\sklearn\\metrics\\_regression.py:492: FutureWarning: 'squared' is deprecated in version 1.4 and will be removed in 1.6. To calculate the root mean squared error, use the function'root_mean_squared_error'.\n",
      "  warnings.warn(\n",
      "10:41:16 - cmdstanpy - INFO - Chain [1] start processing\n",
      "10:41:16 - cmdstanpy - INFO - Chain [1] done processing\n",
      "c:\\Users\\natra\\AppData\\Local\\Programs\\Python\\Python310\\lib\\site-packages\\sklearn\\metrics\\_regression.py:492: FutureWarning: 'squared' is deprecated in version 1.4 and will be removed in 1.6. To calculate the root mean squared error, use the function'root_mean_squared_error'.\n",
      "  warnings.warn(\n",
      "10:41:17 - cmdstanpy - INFO - Chain [1] start processing\n",
      "10:41:17 - cmdstanpy - INFO - Chain [1] done processing\n",
      "c:\\Users\\natra\\AppData\\Local\\Programs\\Python\\Python310\\lib\\site-packages\\sklearn\\metrics\\_regression.py:492: FutureWarning: 'squared' is deprecated in version 1.4 and will be removed in 1.6. To calculate the root mean squared error, use the function'root_mean_squared_error'.\n",
      "  warnings.warn(\n"
     ]
    },
    {
     "name": "stdout",
     "output_type": "stream",
     "text": [
      "R² Score: 0.733, RMSE: 2.678, MAE: 2.148\n",
      "\n",
      "Evaluating: changepoint_prior_scale=0.01, seasonality_prior_scale=2.1, seasonality_mode=multiplicative\n"
     ]
    },
    {
     "name": "stderr",
     "output_type": "stream",
     "text": [
      "10:41:17 - cmdstanpy - INFO - Chain [1] start processing\n",
      "10:41:18 - cmdstanpy - INFO - Chain [1] done processing\n",
      "c:\\Users\\natra\\AppData\\Local\\Programs\\Python\\Python310\\lib\\site-packages\\sklearn\\metrics\\_regression.py:492: FutureWarning: 'squared' is deprecated in version 1.4 and will be removed in 1.6. To calculate the root mean squared error, use the function'root_mean_squared_error'.\n",
      "  warnings.warn(\n",
      "10:41:18 - cmdstanpy - INFO - Chain [1] start processing\n",
      "10:41:18 - cmdstanpy - INFO - Chain [1] done processing\n",
      "c:\\Users\\natra\\AppData\\Local\\Programs\\Python\\Python310\\lib\\site-packages\\sklearn\\metrics\\_regression.py:492: FutureWarning: 'squared' is deprecated in version 1.4 and will be removed in 1.6. To calculate the root mean squared error, use the function'root_mean_squared_error'.\n",
      "  warnings.warn(\n",
      "10:41:19 - cmdstanpy - INFO - Chain [1] start processing\n",
      "10:41:19 - cmdstanpy - INFO - Chain [1] done processing\n",
      "c:\\Users\\natra\\AppData\\Local\\Programs\\Python\\Python310\\lib\\site-packages\\sklearn\\metrics\\_regression.py:492: FutureWarning: 'squared' is deprecated in version 1.4 and will be removed in 1.6. To calculate the root mean squared error, use the function'root_mean_squared_error'.\n",
      "  warnings.warn(\n",
      "10:41:19 - cmdstanpy - INFO - Chain [1] start processing\n",
      "10:41:19 - cmdstanpy - INFO - Chain [1] done processing\n",
      "c:\\Users\\natra\\AppData\\Local\\Programs\\Python\\Python310\\lib\\site-packages\\sklearn\\metrics\\_regression.py:492: FutureWarning: 'squared' is deprecated in version 1.4 and will be removed in 1.6. To calculate the root mean squared error, use the function'root_mean_squared_error'.\n",
      "  warnings.warn(\n",
      "10:41:20 - cmdstanpy - INFO - Chain [1] start processing\n",
      "10:41:20 - cmdstanpy - INFO - Chain [1] done processing\n",
      "c:\\Users\\natra\\AppData\\Local\\Programs\\Python\\Python310\\lib\\site-packages\\sklearn\\metrics\\_regression.py:492: FutureWarning: 'squared' is deprecated in version 1.4 and will be removed in 1.6. To calculate the root mean squared error, use the function'root_mean_squared_error'.\n",
      "  warnings.warn(\n"
     ]
    },
    {
     "name": "stdout",
     "output_type": "stream",
     "text": [
      "R² Score: 0.733, RMSE: 2.680, MAE: 2.152\n",
      "\n",
      "Evaluating: changepoint_prior_scale=0.01, seasonality_prior_scale=3.1, seasonality_mode=additive\n"
     ]
    },
    {
     "name": "stderr",
     "output_type": "stream",
     "text": [
      "10:41:20 - cmdstanpy - INFO - Chain [1] start processing\n",
      "10:41:20 - cmdstanpy - INFO - Chain [1] done processing\n",
      "c:\\Users\\natra\\AppData\\Local\\Programs\\Python\\Python310\\lib\\site-packages\\sklearn\\metrics\\_regression.py:492: FutureWarning: 'squared' is deprecated in version 1.4 and will be removed in 1.6. To calculate the root mean squared error, use the function'root_mean_squared_error'.\n",
      "  warnings.warn(\n",
      "10:41:21 - cmdstanpy - INFO - Chain [1] start processing\n",
      "10:41:21 - cmdstanpy - INFO - Chain [1] done processing\n",
      "c:\\Users\\natra\\AppData\\Local\\Programs\\Python\\Python310\\lib\\site-packages\\sklearn\\metrics\\_regression.py:492: FutureWarning: 'squared' is deprecated in version 1.4 and will be removed in 1.6. To calculate the root mean squared error, use the function'root_mean_squared_error'.\n",
      "  warnings.warn(\n",
      "10:41:21 - cmdstanpy - INFO - Chain [1] start processing\n",
      "10:41:21 - cmdstanpy - INFO - Chain [1] done processing\n",
      "c:\\Users\\natra\\AppData\\Local\\Programs\\Python\\Python310\\lib\\site-packages\\sklearn\\metrics\\_regression.py:492: FutureWarning: 'squared' is deprecated in version 1.4 and will be removed in 1.6. To calculate the root mean squared error, use the function'root_mean_squared_error'.\n",
      "  warnings.warn(\n",
      "10:41:22 - cmdstanpy - INFO - Chain [1] start processing\n",
      "10:41:22 - cmdstanpy - INFO - Chain [1] done processing\n",
      "c:\\Users\\natra\\AppData\\Local\\Programs\\Python\\Python310\\lib\\site-packages\\sklearn\\metrics\\_regression.py:492: FutureWarning: 'squared' is deprecated in version 1.4 and will be removed in 1.6. To calculate the root mean squared error, use the function'root_mean_squared_error'.\n",
      "  warnings.warn(\n",
      "10:41:22 - cmdstanpy - INFO - Chain [1] start processing\n",
      "10:41:22 - cmdstanpy - INFO - Chain [1] done processing\n",
      "c:\\Users\\natra\\AppData\\Local\\Programs\\Python\\Python310\\lib\\site-packages\\sklearn\\metrics\\_regression.py:492: FutureWarning: 'squared' is deprecated in version 1.4 and will be removed in 1.6. To calculate the root mean squared error, use the function'root_mean_squared_error'.\n",
      "  warnings.warn(\n"
     ]
    },
    {
     "name": "stdout",
     "output_type": "stream",
     "text": [
      "R² Score: 0.734, RMSE: 2.677, MAE: 2.149\n",
      "\n",
      "Evaluating: changepoint_prior_scale=0.01, seasonality_prior_scale=3.1, seasonality_mode=multiplicative\n"
     ]
    },
    {
     "name": "stderr",
     "output_type": "stream",
     "text": [
      "10:41:23 - cmdstanpy - INFO - Chain [1] start processing\n",
      "10:41:23 - cmdstanpy - INFO - Chain [1] done processing\n",
      "c:\\Users\\natra\\AppData\\Local\\Programs\\Python\\Python310\\lib\\site-packages\\sklearn\\metrics\\_regression.py:492: FutureWarning: 'squared' is deprecated in version 1.4 and will be removed in 1.6. To calculate the root mean squared error, use the function'root_mean_squared_error'.\n",
      "  warnings.warn(\n",
      "10:41:24 - cmdstanpy - INFO - Chain [1] start processing\n",
      "10:41:24 - cmdstanpy - INFO - Chain [1] done processing\n",
      "c:\\Users\\natra\\AppData\\Local\\Programs\\Python\\Python310\\lib\\site-packages\\sklearn\\metrics\\_regression.py:492: FutureWarning: 'squared' is deprecated in version 1.4 and will be removed in 1.6. To calculate the root mean squared error, use the function'root_mean_squared_error'.\n",
      "  warnings.warn(\n",
      "10:41:24 - cmdstanpy - INFO - Chain [1] start processing\n",
      "10:41:24 - cmdstanpy - INFO - Chain [1] done processing\n",
      "c:\\Users\\natra\\AppData\\Local\\Programs\\Python\\Python310\\lib\\site-packages\\sklearn\\metrics\\_regression.py:492: FutureWarning: 'squared' is deprecated in version 1.4 and will be removed in 1.6. To calculate the root mean squared error, use the function'root_mean_squared_error'.\n",
      "  warnings.warn(\n",
      "10:41:25 - cmdstanpy - INFO - Chain [1] start processing\n",
      "10:41:25 - cmdstanpy - INFO - Chain [1] done processing\n",
      "c:\\Users\\natra\\AppData\\Local\\Programs\\Python\\Python310\\lib\\site-packages\\sklearn\\metrics\\_regression.py:492: FutureWarning: 'squared' is deprecated in version 1.4 and will be removed in 1.6. To calculate the root mean squared error, use the function'root_mean_squared_error'.\n",
      "  warnings.warn(\n",
      "10:41:25 - cmdstanpy - INFO - Chain [1] start processing\n",
      "10:41:25 - cmdstanpy - INFO - Chain [1] done processing\n",
      "c:\\Users\\natra\\AppData\\Local\\Programs\\Python\\Python310\\lib\\site-packages\\sklearn\\metrics\\_regression.py:492: FutureWarning: 'squared' is deprecated in version 1.4 and will be removed in 1.6. To calculate the root mean squared error, use the function'root_mean_squared_error'.\n",
      "  warnings.warn(\n"
     ]
    },
    {
     "name": "stdout",
     "output_type": "stream",
     "text": [
      "R² Score: 0.732, RMSE: 2.683, MAE: 2.154\n",
      "\n",
      "Evaluating: changepoint_prior_scale=0.01, seasonality_prior_scale=4.1, seasonality_mode=additive\n"
     ]
    },
    {
     "name": "stderr",
     "output_type": "stream",
     "text": [
      "10:41:26 - cmdstanpy - INFO - Chain [1] start processing\n",
      "10:41:26 - cmdstanpy - INFO - Chain [1] done processing\n",
      "c:\\Users\\natra\\AppData\\Local\\Programs\\Python\\Python310\\lib\\site-packages\\sklearn\\metrics\\_regression.py:492: FutureWarning: 'squared' is deprecated in version 1.4 and will be removed in 1.6. To calculate the root mean squared error, use the function'root_mean_squared_error'.\n",
      "  warnings.warn(\n",
      "10:41:26 - cmdstanpy - INFO - Chain [1] start processing\n",
      "10:41:26 - cmdstanpy - INFO - Chain [1] done processing\n",
      "c:\\Users\\natra\\AppData\\Local\\Programs\\Python\\Python310\\lib\\site-packages\\sklearn\\metrics\\_regression.py:492: FutureWarning: 'squared' is deprecated in version 1.4 and will be removed in 1.6. To calculate the root mean squared error, use the function'root_mean_squared_error'.\n",
      "  warnings.warn(\n",
      "10:41:27 - cmdstanpy - INFO - Chain [1] start processing\n",
      "10:41:27 - cmdstanpy - INFO - Chain [1] done processing\n",
      "c:\\Users\\natra\\AppData\\Local\\Programs\\Python\\Python310\\lib\\site-packages\\sklearn\\metrics\\_regression.py:492: FutureWarning: 'squared' is deprecated in version 1.4 and will be removed in 1.6. To calculate the root mean squared error, use the function'root_mean_squared_error'.\n",
      "  warnings.warn(\n",
      "10:41:27 - cmdstanpy - INFO - Chain [1] start processing\n",
      "10:41:28 - cmdstanpy - INFO - Chain [1] done processing\n",
      "c:\\Users\\natra\\AppData\\Local\\Programs\\Python\\Python310\\lib\\site-packages\\sklearn\\metrics\\_regression.py:492: FutureWarning: 'squared' is deprecated in version 1.4 and will be removed in 1.6. To calculate the root mean squared error, use the function'root_mean_squared_error'.\n",
      "  warnings.warn(\n",
      "10:41:28 - cmdstanpy - INFO - Chain [1] start processing\n",
      "10:41:28 - cmdstanpy - INFO - Chain [1] done processing\n",
      "c:\\Users\\natra\\AppData\\Local\\Programs\\Python\\Python310\\lib\\site-packages\\sklearn\\metrics\\_regression.py:492: FutureWarning: 'squared' is deprecated in version 1.4 and will be removed in 1.6. To calculate the root mean squared error, use the function'root_mean_squared_error'.\n",
      "  warnings.warn(\n"
     ]
    },
    {
     "name": "stdout",
     "output_type": "stream",
     "text": [
      "R² Score: 0.732, RMSE: 2.686, MAE: 2.157\n",
      "\n",
      "Evaluating: changepoint_prior_scale=0.01, seasonality_prior_scale=4.1, seasonality_mode=multiplicative\n"
     ]
    },
    {
     "name": "stderr",
     "output_type": "stream",
     "text": [
      "10:41:29 - cmdstanpy - INFO - Chain [1] start processing\n",
      "10:41:29 - cmdstanpy - INFO - Chain [1] done processing\n",
      "c:\\Users\\natra\\AppData\\Local\\Programs\\Python\\Python310\\lib\\site-packages\\sklearn\\metrics\\_regression.py:492: FutureWarning: 'squared' is deprecated in version 1.4 and will be removed in 1.6. To calculate the root mean squared error, use the function'root_mean_squared_error'.\n",
      "  warnings.warn(\n",
      "10:41:29 - cmdstanpy - INFO - Chain [1] start processing\n",
      "10:41:29 - cmdstanpy - INFO - Chain [1] done processing\n",
      "c:\\Users\\natra\\AppData\\Local\\Programs\\Python\\Python310\\lib\\site-packages\\sklearn\\metrics\\_regression.py:492: FutureWarning: 'squared' is deprecated in version 1.4 and will be removed in 1.6. To calculate the root mean squared error, use the function'root_mean_squared_error'.\n",
      "  warnings.warn(\n",
      "10:41:30 - cmdstanpy - INFO - Chain [1] start processing\n",
      "10:41:30 - cmdstanpy - INFO - Chain [1] done processing\n",
      "c:\\Users\\natra\\AppData\\Local\\Programs\\Python\\Python310\\lib\\site-packages\\sklearn\\metrics\\_regression.py:492: FutureWarning: 'squared' is deprecated in version 1.4 and will be removed in 1.6. To calculate the root mean squared error, use the function'root_mean_squared_error'.\n",
      "  warnings.warn(\n",
      "10:41:30 - cmdstanpy - INFO - Chain [1] start processing\n",
      "10:41:30 - cmdstanpy - INFO - Chain [1] done processing\n",
      "c:\\Users\\natra\\AppData\\Local\\Programs\\Python\\Python310\\lib\\site-packages\\sklearn\\metrics\\_regression.py:492: FutureWarning: 'squared' is deprecated in version 1.4 and will be removed in 1.6. To calculate the root mean squared error, use the function'root_mean_squared_error'.\n",
      "  warnings.warn(\n",
      "10:41:31 - cmdstanpy - INFO - Chain [1] start processing\n",
      "10:41:31 - cmdstanpy - INFO - Chain [1] done processing\n",
      "c:\\Users\\natra\\AppData\\Local\\Programs\\Python\\Python310\\lib\\site-packages\\sklearn\\metrics\\_regression.py:492: FutureWarning: 'squared' is deprecated in version 1.4 and will be removed in 1.6. To calculate the root mean squared error, use the function'root_mean_squared_error'.\n",
      "  warnings.warn(\n"
     ]
    },
    {
     "name": "stdout",
     "output_type": "stream",
     "text": [
      "R² Score: 0.733, RMSE: 2.681, MAE: 2.151\n",
      "\n",
      "Evaluating: changepoint_prior_scale=0.01, seasonality_prior_scale=5.1, seasonality_mode=additive\n"
     ]
    },
    {
     "name": "stderr",
     "output_type": "stream",
     "text": [
      "10:41:31 - cmdstanpy - INFO - Chain [1] start processing\n",
      "10:41:32 - cmdstanpy - INFO - Chain [1] done processing\n",
      "c:\\Users\\natra\\AppData\\Local\\Programs\\Python\\Python310\\lib\\site-packages\\sklearn\\metrics\\_regression.py:492: FutureWarning: 'squared' is deprecated in version 1.4 and will be removed in 1.6. To calculate the root mean squared error, use the function'root_mean_squared_error'.\n",
      "  warnings.warn(\n",
      "10:41:32 - cmdstanpy - INFO - Chain [1] start processing\n",
      "10:41:32 - cmdstanpy - INFO - Chain [1] done processing\n",
      "c:\\Users\\natra\\AppData\\Local\\Programs\\Python\\Python310\\lib\\site-packages\\sklearn\\metrics\\_regression.py:492: FutureWarning: 'squared' is deprecated in version 1.4 and will be removed in 1.6. To calculate the root mean squared error, use the function'root_mean_squared_error'.\n",
      "  warnings.warn(\n",
      "10:41:33 - cmdstanpy - INFO - Chain [1] start processing\n",
      "10:41:33 - cmdstanpy - INFO - Chain [1] done processing\n",
      "c:\\Users\\natra\\AppData\\Local\\Programs\\Python\\Python310\\lib\\site-packages\\sklearn\\metrics\\_regression.py:492: FutureWarning: 'squared' is deprecated in version 1.4 and will be removed in 1.6. To calculate the root mean squared error, use the function'root_mean_squared_error'.\n",
      "  warnings.warn(\n",
      "10:41:33 - cmdstanpy - INFO - Chain [1] start processing\n",
      "10:41:33 - cmdstanpy - INFO - Chain [1] done processing\n",
      "c:\\Users\\natra\\AppData\\Local\\Programs\\Python\\Python310\\lib\\site-packages\\sklearn\\metrics\\_regression.py:492: FutureWarning: 'squared' is deprecated in version 1.4 and will be removed in 1.6. To calculate the root mean squared error, use the function'root_mean_squared_error'.\n",
      "  warnings.warn(\n",
      "10:41:34 - cmdstanpy - INFO - Chain [1] start processing\n",
      "10:41:34 - cmdstanpy - INFO - Chain [1] done processing\n",
      "c:\\Users\\natra\\AppData\\Local\\Programs\\Python\\Python310\\lib\\site-packages\\sklearn\\metrics\\_regression.py:492: FutureWarning: 'squared' is deprecated in version 1.4 and will be removed in 1.6. To calculate the root mean squared error, use the function'root_mean_squared_error'.\n",
      "  warnings.warn(\n"
     ]
    },
    {
     "name": "stdout",
     "output_type": "stream",
     "text": [
      "R² Score: 0.733, RMSE: 2.681, MAE: 2.152\n",
      "\n",
      "Evaluating: changepoint_prior_scale=0.01, seasonality_prior_scale=5.1, seasonality_mode=multiplicative\n"
     ]
    },
    {
     "name": "stderr",
     "output_type": "stream",
     "text": [
      "10:41:34 - cmdstanpy - INFO - Chain [1] start processing\n",
      "10:41:34 - cmdstanpy - INFO - Chain [1] done processing\n",
      "c:\\Users\\natra\\AppData\\Local\\Programs\\Python\\Python310\\lib\\site-packages\\sklearn\\metrics\\_regression.py:492: FutureWarning: 'squared' is deprecated in version 1.4 and will be removed in 1.6. To calculate the root mean squared error, use the function'root_mean_squared_error'.\n",
      "  warnings.warn(\n",
      "10:41:35 - cmdstanpy - INFO - Chain [1] start processing\n",
      "10:41:35 - cmdstanpy - INFO - Chain [1] done processing\n",
      "c:\\Users\\natra\\AppData\\Local\\Programs\\Python\\Python310\\lib\\site-packages\\sklearn\\metrics\\_regression.py:492: FutureWarning: 'squared' is deprecated in version 1.4 and will be removed in 1.6. To calculate the root mean squared error, use the function'root_mean_squared_error'.\n",
      "  warnings.warn(\n",
      "10:41:35 - cmdstanpy - INFO - Chain [1] start processing\n",
      "10:41:35 - cmdstanpy - INFO - Chain [1] done processing\n",
      "c:\\Users\\natra\\AppData\\Local\\Programs\\Python\\Python310\\lib\\site-packages\\sklearn\\metrics\\_regression.py:492: FutureWarning: 'squared' is deprecated in version 1.4 and will be removed in 1.6. To calculate the root mean squared error, use the function'root_mean_squared_error'.\n",
      "  warnings.warn(\n",
      "10:41:36 - cmdstanpy - INFO - Chain [1] start processing\n",
      "10:41:36 - cmdstanpy - INFO - Chain [1] done processing\n",
      "c:\\Users\\natra\\AppData\\Local\\Programs\\Python\\Python310\\lib\\site-packages\\sklearn\\metrics\\_regression.py:492: FutureWarning: 'squared' is deprecated in version 1.4 and will be removed in 1.6. To calculate the root mean squared error, use the function'root_mean_squared_error'.\n",
      "  warnings.warn(\n",
      "10:41:36 - cmdstanpy - INFO - Chain [1] start processing\n",
      "10:41:36 - cmdstanpy - INFO - Chain [1] done processing\n",
      "c:\\Users\\natra\\AppData\\Local\\Programs\\Python\\Python310\\lib\\site-packages\\sklearn\\metrics\\_regression.py:492: FutureWarning: 'squared' is deprecated in version 1.4 and will be removed in 1.6. To calculate the root mean squared error, use the function'root_mean_squared_error'.\n",
      "  warnings.warn(\n"
     ]
    },
    {
     "name": "stdout",
     "output_type": "stream",
     "text": [
      "R² Score: 0.733, RMSE: 2.680, MAE: 2.150\n",
      "\n",
      "Evaluating: changepoint_prior_scale=0.01, seasonality_prior_scale=6.1, seasonality_mode=additive\n"
     ]
    },
    {
     "name": "stderr",
     "output_type": "stream",
     "text": [
      "10:41:37 - cmdstanpy - INFO - Chain [1] start processing\n",
      "10:41:37 - cmdstanpy - INFO - Chain [1] done processing\n",
      "c:\\Users\\natra\\AppData\\Local\\Programs\\Python\\Python310\\lib\\site-packages\\sklearn\\metrics\\_regression.py:492: FutureWarning: 'squared' is deprecated in version 1.4 and will be removed in 1.6. To calculate the root mean squared error, use the function'root_mean_squared_error'.\n",
      "  warnings.warn(\n",
      "10:41:38 - cmdstanpy - INFO - Chain [1] start processing\n",
      "10:41:38 - cmdstanpy - INFO - Chain [1] done processing\n",
      "c:\\Users\\natra\\AppData\\Local\\Programs\\Python\\Python310\\lib\\site-packages\\sklearn\\metrics\\_regression.py:492: FutureWarning: 'squared' is deprecated in version 1.4 and will be removed in 1.6. To calculate the root mean squared error, use the function'root_mean_squared_error'.\n",
      "  warnings.warn(\n",
      "10:41:38 - cmdstanpy - INFO - Chain [1] start processing\n",
      "10:41:38 - cmdstanpy - INFO - Chain [1] done processing\n",
      "c:\\Users\\natra\\AppData\\Local\\Programs\\Python\\Python310\\lib\\site-packages\\sklearn\\metrics\\_regression.py:492: FutureWarning: 'squared' is deprecated in version 1.4 and will be removed in 1.6. To calculate the root mean squared error, use the function'root_mean_squared_error'.\n",
      "  warnings.warn(\n",
      "10:41:39 - cmdstanpy - INFO - Chain [1] start processing\n",
      "10:41:39 - cmdstanpy - INFO - Chain [1] done processing\n",
      "c:\\Users\\natra\\AppData\\Local\\Programs\\Python\\Python310\\lib\\site-packages\\sklearn\\metrics\\_regression.py:492: FutureWarning: 'squared' is deprecated in version 1.4 and will be removed in 1.6. To calculate the root mean squared error, use the function'root_mean_squared_error'.\n",
      "  warnings.warn(\n",
      "10:41:39 - cmdstanpy - INFO - Chain [1] start processing\n",
      "10:41:39 - cmdstanpy - INFO - Chain [1] done processing\n",
      "c:\\Users\\natra\\AppData\\Local\\Programs\\Python\\Python310\\lib\\site-packages\\sklearn\\metrics\\_regression.py:492: FutureWarning: 'squared' is deprecated in version 1.4 and will be removed in 1.6. To calculate the root mean squared error, use the function'root_mean_squared_error'.\n",
      "  warnings.warn(\n"
     ]
    },
    {
     "name": "stdout",
     "output_type": "stream",
     "text": [
      "R² Score: 0.732, RMSE: 2.685, MAE: 2.156\n",
      "\n",
      "Evaluating: changepoint_prior_scale=0.01, seasonality_prior_scale=6.1, seasonality_mode=multiplicative\n"
     ]
    },
    {
     "name": "stderr",
     "output_type": "stream",
     "text": [
      "10:41:40 - cmdstanpy - INFO - Chain [1] start processing\n",
      "10:41:40 - cmdstanpy - INFO - Chain [1] done processing\n",
      "c:\\Users\\natra\\AppData\\Local\\Programs\\Python\\Python310\\lib\\site-packages\\sklearn\\metrics\\_regression.py:492: FutureWarning: 'squared' is deprecated in version 1.4 and will be removed in 1.6. To calculate the root mean squared error, use the function'root_mean_squared_error'.\n",
      "  warnings.warn(\n",
      "10:41:40 - cmdstanpy - INFO - Chain [1] start processing\n",
      "10:41:40 - cmdstanpy - INFO - Chain [1] done processing\n",
      "c:\\Users\\natra\\AppData\\Local\\Programs\\Python\\Python310\\lib\\site-packages\\sklearn\\metrics\\_regression.py:492: FutureWarning: 'squared' is deprecated in version 1.4 and will be removed in 1.6. To calculate the root mean squared error, use the function'root_mean_squared_error'.\n",
      "  warnings.warn(\n",
      "10:41:41 - cmdstanpy - INFO - Chain [1] start processing\n",
      "10:41:41 - cmdstanpy - INFO - Chain [1] done processing\n",
      "c:\\Users\\natra\\AppData\\Local\\Programs\\Python\\Python310\\lib\\site-packages\\sklearn\\metrics\\_regression.py:492: FutureWarning: 'squared' is deprecated in version 1.4 and will be removed in 1.6. To calculate the root mean squared error, use the function'root_mean_squared_error'.\n",
      "  warnings.warn(\n",
      "10:41:41 - cmdstanpy - INFO - Chain [1] start processing\n",
      "10:41:41 - cmdstanpy - INFO - Chain [1] done processing\n",
      "c:\\Users\\natra\\AppData\\Local\\Programs\\Python\\Python310\\lib\\site-packages\\sklearn\\metrics\\_regression.py:492: FutureWarning: 'squared' is deprecated in version 1.4 and will be removed in 1.6. To calculate the root mean squared error, use the function'root_mean_squared_error'.\n",
      "  warnings.warn(\n",
      "10:41:42 - cmdstanpy - INFO - Chain [1] start processing\n",
      "10:41:42 - cmdstanpy - INFO - Chain [1] done processing\n",
      "c:\\Users\\natra\\AppData\\Local\\Programs\\Python\\Python310\\lib\\site-packages\\sklearn\\metrics\\_regression.py:492: FutureWarning: 'squared' is deprecated in version 1.4 and will be removed in 1.6. To calculate the root mean squared error, use the function'root_mean_squared_error'.\n",
      "  warnings.warn(\n"
     ]
    },
    {
     "name": "stdout",
     "output_type": "stream",
     "text": [
      "R² Score: 0.733, RMSE: 2.680, MAE: 2.150\n",
      "\n",
      "Evaluating: changepoint_prior_scale=0.01, seasonality_prior_scale=7.1, seasonality_mode=additive\n"
     ]
    },
    {
     "name": "stderr",
     "output_type": "stream",
     "text": [
      "10:41:42 - cmdstanpy - INFO - Chain [1] start processing\n",
      "10:41:43 - cmdstanpy - INFO - Chain [1] done processing\n",
      "c:\\Users\\natra\\AppData\\Local\\Programs\\Python\\Python310\\lib\\site-packages\\sklearn\\metrics\\_regression.py:492: FutureWarning: 'squared' is deprecated in version 1.4 and will be removed in 1.6. To calculate the root mean squared error, use the function'root_mean_squared_error'.\n",
      "  warnings.warn(\n",
      "10:41:43 - cmdstanpy - INFO - Chain [1] start processing\n",
      "10:41:43 - cmdstanpy - INFO - Chain [1] done processing\n",
      "c:\\Users\\natra\\AppData\\Local\\Programs\\Python\\Python310\\lib\\site-packages\\sklearn\\metrics\\_regression.py:492: FutureWarning: 'squared' is deprecated in version 1.4 and will be removed in 1.6. To calculate the root mean squared error, use the function'root_mean_squared_error'.\n",
      "  warnings.warn(\n",
      "10:41:44 - cmdstanpy - INFO - Chain [1] start processing\n",
      "10:41:44 - cmdstanpy - INFO - Chain [1] done processing\n",
      "c:\\Users\\natra\\AppData\\Local\\Programs\\Python\\Python310\\lib\\site-packages\\sklearn\\metrics\\_regression.py:492: FutureWarning: 'squared' is deprecated in version 1.4 and will be removed in 1.6. To calculate the root mean squared error, use the function'root_mean_squared_error'.\n",
      "  warnings.warn(\n",
      "10:41:44 - cmdstanpy - INFO - Chain [1] start processing\n",
      "10:41:44 - cmdstanpy - INFO - Chain [1] done processing\n",
      "c:\\Users\\natra\\AppData\\Local\\Programs\\Python\\Python310\\lib\\site-packages\\sklearn\\metrics\\_regression.py:492: FutureWarning: 'squared' is deprecated in version 1.4 and will be removed in 1.6. To calculate the root mean squared error, use the function'root_mean_squared_error'.\n",
      "  warnings.warn(\n",
      "10:41:45 - cmdstanpy - INFO - Chain [1] start processing\n",
      "10:41:45 - cmdstanpy - INFO - Chain [1] done processing\n",
      "c:\\Users\\natra\\AppData\\Local\\Programs\\Python\\Python310\\lib\\site-packages\\sklearn\\metrics\\_regression.py:492: FutureWarning: 'squared' is deprecated in version 1.4 and will be removed in 1.6. To calculate the root mean squared error, use the function'root_mean_squared_error'.\n",
      "  warnings.warn(\n"
     ]
    },
    {
     "name": "stdout",
     "output_type": "stream",
     "text": [
      "R² Score: 0.733, RMSE: 2.679, MAE: 2.150\n",
      "\n",
      "Evaluating: changepoint_prior_scale=0.01, seasonality_prior_scale=7.1, seasonality_mode=multiplicative\n"
     ]
    },
    {
     "name": "stderr",
     "output_type": "stream",
     "text": [
      "10:41:45 - cmdstanpy - INFO - Chain [1] start processing\n",
      "10:41:45 - cmdstanpy - INFO - Chain [1] done processing\n",
      "c:\\Users\\natra\\AppData\\Local\\Programs\\Python\\Python310\\lib\\site-packages\\sklearn\\metrics\\_regression.py:492: FutureWarning: 'squared' is deprecated in version 1.4 and will be removed in 1.6. To calculate the root mean squared error, use the function'root_mean_squared_error'.\n",
      "  warnings.warn(\n",
      "10:41:46 - cmdstanpy - INFO - Chain [1] start processing\n",
      "10:41:46 - cmdstanpy - INFO - Chain [1] done processing\n",
      "c:\\Users\\natra\\AppData\\Local\\Programs\\Python\\Python310\\lib\\site-packages\\sklearn\\metrics\\_regression.py:492: FutureWarning: 'squared' is deprecated in version 1.4 and will be removed in 1.6. To calculate the root mean squared error, use the function'root_mean_squared_error'.\n",
      "  warnings.warn(\n",
      "10:41:46 - cmdstanpy - INFO - Chain [1] start processing\n",
      "10:41:47 - cmdstanpy - INFO - Chain [1] done processing\n",
      "c:\\Users\\natra\\AppData\\Local\\Programs\\Python\\Python310\\lib\\site-packages\\sklearn\\metrics\\_regression.py:492: FutureWarning: 'squared' is deprecated in version 1.4 and will be removed in 1.6. To calculate the root mean squared error, use the function'root_mean_squared_error'.\n",
      "  warnings.warn(\n",
      "10:41:47 - cmdstanpy - INFO - Chain [1] start processing\n",
      "10:41:47 - cmdstanpy - INFO - Chain [1] done processing\n",
      "c:\\Users\\natra\\AppData\\Local\\Programs\\Python\\Python310\\lib\\site-packages\\sklearn\\metrics\\_regression.py:492: FutureWarning: 'squared' is deprecated in version 1.4 and will be removed in 1.6. To calculate the root mean squared error, use the function'root_mean_squared_error'.\n",
      "  warnings.warn(\n",
      "10:41:48 - cmdstanpy - INFO - Chain [1] start processing\n",
      "10:41:48 - cmdstanpy - INFO - Chain [1] done processing\n",
      "c:\\Users\\natra\\AppData\\Local\\Programs\\Python\\Python310\\lib\\site-packages\\sklearn\\metrics\\_regression.py:492: FutureWarning: 'squared' is deprecated in version 1.4 and will be removed in 1.6. To calculate the root mean squared error, use the function'root_mean_squared_error'.\n",
      "  warnings.warn(\n"
     ]
    },
    {
     "name": "stdout",
     "output_type": "stream",
     "text": [
      "R² Score: 0.733, RMSE: 2.680, MAE: 2.151\n",
      "\n",
      "Evaluating: changepoint_prior_scale=0.01, seasonality_prior_scale=8.1, seasonality_mode=additive\n"
     ]
    },
    {
     "name": "stderr",
     "output_type": "stream",
     "text": [
      "10:41:48 - cmdstanpy - INFO - Chain [1] start processing\n",
      "10:41:49 - cmdstanpy - INFO - Chain [1] done processing\n",
      "c:\\Users\\natra\\AppData\\Local\\Programs\\Python\\Python310\\lib\\site-packages\\sklearn\\metrics\\_regression.py:492: FutureWarning: 'squared' is deprecated in version 1.4 and will be removed in 1.6. To calculate the root mean squared error, use the function'root_mean_squared_error'.\n",
      "  warnings.warn(\n",
      "10:41:49 - cmdstanpy - INFO - Chain [1] start processing\n",
      "10:41:49 - cmdstanpy - INFO - Chain [1] done processing\n",
      "c:\\Users\\natra\\AppData\\Local\\Programs\\Python\\Python310\\lib\\site-packages\\sklearn\\metrics\\_regression.py:492: FutureWarning: 'squared' is deprecated in version 1.4 and will be removed in 1.6. To calculate the root mean squared error, use the function'root_mean_squared_error'.\n",
      "  warnings.warn(\n",
      "10:41:50 - cmdstanpy - INFO - Chain [1] start processing\n",
      "10:41:50 - cmdstanpy - INFO - Chain [1] done processing\n",
      "c:\\Users\\natra\\AppData\\Local\\Programs\\Python\\Python310\\lib\\site-packages\\sklearn\\metrics\\_regression.py:492: FutureWarning: 'squared' is deprecated in version 1.4 and will be removed in 1.6. To calculate the root mean squared error, use the function'root_mean_squared_error'.\n",
      "  warnings.warn(\n",
      "10:41:50 - cmdstanpy - INFO - Chain [1] start processing\n",
      "10:41:50 - cmdstanpy - INFO - Chain [1] done processing\n",
      "c:\\Users\\natra\\AppData\\Local\\Programs\\Python\\Python310\\lib\\site-packages\\sklearn\\metrics\\_regression.py:492: FutureWarning: 'squared' is deprecated in version 1.4 and will be removed in 1.6. To calculate the root mean squared error, use the function'root_mean_squared_error'.\n",
      "  warnings.warn(\n",
      "10:41:51 - cmdstanpy - INFO - Chain [1] start processing\n",
      "10:41:51 - cmdstanpy - INFO - Chain [1] done processing\n",
      "c:\\Users\\natra\\AppData\\Local\\Programs\\Python\\Python310\\lib\\site-packages\\sklearn\\metrics\\_regression.py:492: FutureWarning: 'squared' is deprecated in version 1.4 and will be removed in 1.6. To calculate the root mean squared error, use the function'root_mean_squared_error'.\n",
      "  warnings.warn(\n"
     ]
    },
    {
     "name": "stdout",
     "output_type": "stream",
     "text": [
      "R² Score: 0.734, RMSE: 2.676, MAE: 2.147\n",
      "\n",
      "Evaluating: changepoint_prior_scale=0.01, seasonality_prior_scale=8.1, seasonality_mode=multiplicative\n"
     ]
    },
    {
     "name": "stderr",
     "output_type": "stream",
     "text": [
      "10:41:52 - cmdstanpy - INFO - Chain [1] start processing\n",
      "10:41:52 - cmdstanpy - INFO - Chain [1] done processing\n",
      "c:\\Users\\natra\\AppData\\Local\\Programs\\Python\\Python310\\lib\\site-packages\\sklearn\\metrics\\_regression.py:492: FutureWarning: 'squared' is deprecated in version 1.4 and will be removed in 1.6. To calculate the root mean squared error, use the function'root_mean_squared_error'.\n",
      "  warnings.warn(\n",
      "10:41:52 - cmdstanpy - INFO - Chain [1] start processing\n",
      "10:41:52 - cmdstanpy - INFO - Chain [1] done processing\n",
      "c:\\Users\\natra\\AppData\\Local\\Programs\\Python\\Python310\\lib\\site-packages\\sklearn\\metrics\\_regression.py:492: FutureWarning: 'squared' is deprecated in version 1.4 and will be removed in 1.6. To calculate the root mean squared error, use the function'root_mean_squared_error'.\n",
      "  warnings.warn(\n",
      "10:41:53 - cmdstanpy - INFO - Chain [1] start processing\n",
      "10:41:53 - cmdstanpy - INFO - Chain [1] done processing\n",
      "c:\\Users\\natra\\AppData\\Local\\Programs\\Python\\Python310\\lib\\site-packages\\sklearn\\metrics\\_regression.py:492: FutureWarning: 'squared' is deprecated in version 1.4 and will be removed in 1.6. To calculate the root mean squared error, use the function'root_mean_squared_error'.\n",
      "  warnings.warn(\n",
      "10:41:53 - cmdstanpy - INFO - Chain [1] start processing\n",
      "10:41:54 - cmdstanpy - INFO - Chain [1] done processing\n",
      "c:\\Users\\natra\\AppData\\Local\\Programs\\Python\\Python310\\lib\\site-packages\\sklearn\\metrics\\_regression.py:492: FutureWarning: 'squared' is deprecated in version 1.4 and will be removed in 1.6. To calculate the root mean squared error, use the function'root_mean_squared_error'.\n",
      "  warnings.warn(\n",
      "10:41:54 - cmdstanpy - INFO - Chain [1] start processing\n",
      "10:41:54 - cmdstanpy - INFO - Chain [1] done processing\n",
      "c:\\Users\\natra\\AppData\\Local\\Programs\\Python\\Python310\\lib\\site-packages\\sklearn\\metrics\\_regression.py:492: FutureWarning: 'squared' is deprecated in version 1.4 and will be removed in 1.6. To calculate the root mean squared error, use the function'root_mean_squared_error'.\n",
      "  warnings.warn(\n"
     ]
    },
    {
     "name": "stdout",
     "output_type": "stream",
     "text": [
      "R² Score: 0.733, RMSE: 2.681, MAE: 2.151\n",
      "\n",
      "Evaluating: changepoint_prior_scale=0.01, seasonality_prior_scale=9.1, seasonality_mode=additive\n"
     ]
    },
    {
     "name": "stderr",
     "output_type": "stream",
     "text": [
      "10:41:55 - cmdstanpy - INFO - Chain [1] start processing\n",
      "10:41:55 - cmdstanpy - INFO - Chain [1] done processing\n",
      "c:\\Users\\natra\\AppData\\Local\\Programs\\Python\\Python310\\lib\\site-packages\\sklearn\\metrics\\_regression.py:492: FutureWarning: 'squared' is deprecated in version 1.4 and will be removed in 1.6. To calculate the root mean squared error, use the function'root_mean_squared_error'.\n",
      "  warnings.warn(\n",
      "10:41:55 - cmdstanpy - INFO - Chain [1] start processing\n",
      "10:41:56 - cmdstanpy - INFO - Chain [1] done processing\n",
      "c:\\Users\\natra\\AppData\\Local\\Programs\\Python\\Python310\\lib\\site-packages\\sklearn\\metrics\\_regression.py:492: FutureWarning: 'squared' is deprecated in version 1.4 and will be removed in 1.6. To calculate the root mean squared error, use the function'root_mean_squared_error'.\n",
      "  warnings.warn(\n",
      "10:41:56 - cmdstanpy - INFO - Chain [1] start processing\n",
      "10:41:56 - cmdstanpy - INFO - Chain [1] done processing\n",
      "c:\\Users\\natra\\AppData\\Local\\Programs\\Python\\Python310\\lib\\site-packages\\sklearn\\metrics\\_regression.py:492: FutureWarning: 'squared' is deprecated in version 1.4 and will be removed in 1.6. To calculate the root mean squared error, use the function'root_mean_squared_error'.\n",
      "  warnings.warn(\n",
      "10:41:57 - cmdstanpy - INFO - Chain [1] start processing\n",
      "10:41:57 - cmdstanpy - INFO - Chain [1] done processing\n",
      "c:\\Users\\natra\\AppData\\Local\\Programs\\Python\\Python310\\lib\\site-packages\\sklearn\\metrics\\_regression.py:492: FutureWarning: 'squared' is deprecated in version 1.4 and will be removed in 1.6. To calculate the root mean squared error, use the function'root_mean_squared_error'.\n",
      "  warnings.warn(\n",
      "10:41:57 - cmdstanpy - INFO - Chain [1] start processing\n",
      "10:41:57 - cmdstanpy - INFO - Chain [1] done processing\n",
      "c:\\Users\\natra\\AppData\\Local\\Programs\\Python\\Python310\\lib\\site-packages\\sklearn\\metrics\\_regression.py:492: FutureWarning: 'squared' is deprecated in version 1.4 and will be removed in 1.6. To calculate the root mean squared error, use the function'root_mean_squared_error'.\n",
      "  warnings.warn(\n"
     ]
    },
    {
     "name": "stdout",
     "output_type": "stream",
     "text": [
      "R² Score: 0.733, RMSE: 2.679, MAE: 2.150\n",
      "\n",
      "Evaluating: changepoint_prior_scale=0.01, seasonality_prior_scale=9.1, seasonality_mode=multiplicative\n"
     ]
    },
    {
     "name": "stderr",
     "output_type": "stream",
     "text": [
      "10:41:58 - cmdstanpy - INFO - Chain [1] start processing\n",
      "10:41:58 - cmdstanpy - INFO - Chain [1] done processing\n",
      "c:\\Users\\natra\\AppData\\Local\\Programs\\Python\\Python310\\lib\\site-packages\\sklearn\\metrics\\_regression.py:492: FutureWarning: 'squared' is deprecated in version 1.4 and will be removed in 1.6. To calculate the root mean squared error, use the function'root_mean_squared_error'.\n",
      "  warnings.warn(\n",
      "10:41:58 - cmdstanpy - INFO - Chain [1] start processing\n",
      "10:41:58 - cmdstanpy - INFO - Chain [1] done processing\n",
      "c:\\Users\\natra\\AppData\\Local\\Programs\\Python\\Python310\\lib\\site-packages\\sklearn\\metrics\\_regression.py:492: FutureWarning: 'squared' is deprecated in version 1.4 and will be removed in 1.6. To calculate the root mean squared error, use the function'root_mean_squared_error'.\n",
      "  warnings.warn(\n",
      "10:41:59 - cmdstanpy - INFO - Chain [1] start processing\n",
      "10:41:59 - cmdstanpy - INFO - Chain [1] done processing\n",
      "c:\\Users\\natra\\AppData\\Local\\Programs\\Python\\Python310\\lib\\site-packages\\sklearn\\metrics\\_regression.py:492: FutureWarning: 'squared' is deprecated in version 1.4 and will be removed in 1.6. To calculate the root mean squared error, use the function'root_mean_squared_error'.\n",
      "  warnings.warn(\n",
      "10:41:59 - cmdstanpy - INFO - Chain [1] start processing\n",
      "10:42:00 - cmdstanpy - INFO - Chain [1] done processing\n",
      "c:\\Users\\natra\\AppData\\Local\\Programs\\Python\\Python310\\lib\\site-packages\\sklearn\\metrics\\_regression.py:492: FutureWarning: 'squared' is deprecated in version 1.4 and will be removed in 1.6. To calculate the root mean squared error, use the function'root_mean_squared_error'.\n",
      "  warnings.warn(\n",
      "10:42:00 - cmdstanpy - INFO - Chain [1] start processing\n",
      "10:42:00 - cmdstanpy - INFO - Chain [1] done processing\n",
      "c:\\Users\\natra\\AppData\\Local\\Programs\\Python\\Python310\\lib\\site-packages\\sklearn\\metrics\\_regression.py:492: FutureWarning: 'squared' is deprecated in version 1.4 and will be removed in 1.6. To calculate the root mean squared error, use the function'root_mean_squared_error'.\n",
      "  warnings.warn(\n"
     ]
    },
    {
     "name": "stdout",
     "output_type": "stream",
     "text": [
      "R² Score: 0.733, RMSE: 2.678, MAE: 2.148\n",
      "\n",
      "Evaluating: changepoint_prior_scale=0.01, seasonality_prior_scale=10.1, seasonality_mode=additive\n"
     ]
    },
    {
     "name": "stderr",
     "output_type": "stream",
     "text": [
      "10:42:01 - cmdstanpy - INFO - Chain [1] start processing\n",
      "10:42:01 - cmdstanpy - INFO - Chain [1] done processing\n",
      "c:\\Users\\natra\\AppData\\Local\\Programs\\Python\\Python310\\lib\\site-packages\\sklearn\\metrics\\_regression.py:492: FutureWarning: 'squared' is deprecated in version 1.4 and will be removed in 1.6. To calculate the root mean squared error, use the function'root_mean_squared_error'.\n",
      "  warnings.warn(\n",
      "10:42:01 - cmdstanpy - INFO - Chain [1] start processing\n",
      "10:42:01 - cmdstanpy - INFO - Chain [1] done processing\n",
      "c:\\Users\\natra\\AppData\\Local\\Programs\\Python\\Python310\\lib\\site-packages\\sklearn\\metrics\\_regression.py:492: FutureWarning: 'squared' is deprecated in version 1.4 and will be removed in 1.6. To calculate the root mean squared error, use the function'root_mean_squared_error'.\n",
      "  warnings.warn(\n",
      "10:42:02 - cmdstanpy - INFO - Chain [1] start processing\n",
      "10:42:02 - cmdstanpy - INFO - Chain [1] done processing\n",
      "c:\\Users\\natra\\AppData\\Local\\Programs\\Python\\Python310\\lib\\site-packages\\sklearn\\metrics\\_regression.py:492: FutureWarning: 'squared' is deprecated in version 1.4 and will be removed in 1.6. To calculate the root mean squared error, use the function'root_mean_squared_error'.\n",
      "  warnings.warn(\n",
      "10:42:02 - cmdstanpy - INFO - Chain [1] start processing\n",
      "10:42:02 - cmdstanpy - INFO - Chain [1] done processing\n",
      "c:\\Users\\natra\\AppData\\Local\\Programs\\Python\\Python310\\lib\\site-packages\\sklearn\\metrics\\_regression.py:492: FutureWarning: 'squared' is deprecated in version 1.4 and will be removed in 1.6. To calculate the root mean squared error, use the function'root_mean_squared_error'.\n",
      "  warnings.warn(\n",
      "10:42:03 - cmdstanpy - INFO - Chain [1] start processing\n",
      "10:42:03 - cmdstanpy - INFO - Chain [1] done processing\n",
      "c:\\Users\\natra\\AppData\\Local\\Programs\\Python\\Python310\\lib\\site-packages\\sklearn\\metrics\\_regression.py:492: FutureWarning: 'squared' is deprecated in version 1.4 and will be removed in 1.6. To calculate the root mean squared error, use the function'root_mean_squared_error'.\n",
      "  warnings.warn(\n"
     ]
    },
    {
     "name": "stdout",
     "output_type": "stream",
     "text": [
      "R² Score: 0.733, RMSE: 2.679, MAE: 2.150\n",
      "\n",
      "Evaluating: changepoint_prior_scale=0.01, seasonality_prior_scale=10.1, seasonality_mode=multiplicative\n"
     ]
    },
    {
     "name": "stderr",
     "output_type": "stream",
     "text": [
      "10:42:03 - cmdstanpy - INFO - Chain [1] start processing\n",
      "10:42:04 - cmdstanpy - INFO - Chain [1] done processing\n",
      "c:\\Users\\natra\\AppData\\Local\\Programs\\Python\\Python310\\lib\\site-packages\\sklearn\\metrics\\_regression.py:492: FutureWarning: 'squared' is deprecated in version 1.4 and will be removed in 1.6. To calculate the root mean squared error, use the function'root_mean_squared_error'.\n",
      "  warnings.warn(\n",
      "10:42:04 - cmdstanpy - INFO - Chain [1] start processing\n",
      "10:42:04 - cmdstanpy - INFO - Chain [1] done processing\n",
      "c:\\Users\\natra\\AppData\\Local\\Programs\\Python\\Python310\\lib\\site-packages\\sklearn\\metrics\\_regression.py:492: FutureWarning: 'squared' is deprecated in version 1.4 and will be removed in 1.6. To calculate the root mean squared error, use the function'root_mean_squared_error'.\n",
      "  warnings.warn(\n",
      "10:42:05 - cmdstanpy - INFO - Chain [1] start processing\n",
      "10:42:05 - cmdstanpy - INFO - Chain [1] done processing\n",
      "c:\\Users\\natra\\AppData\\Local\\Programs\\Python\\Python310\\lib\\site-packages\\sklearn\\metrics\\_regression.py:492: FutureWarning: 'squared' is deprecated in version 1.4 and will be removed in 1.6. To calculate the root mean squared error, use the function'root_mean_squared_error'.\n",
      "  warnings.warn(\n",
      "10:42:05 - cmdstanpy - INFO - Chain [1] start processing\n",
      "10:42:05 - cmdstanpy - INFO - Chain [1] done processing\n",
      "c:\\Users\\natra\\AppData\\Local\\Programs\\Python\\Python310\\lib\\site-packages\\sklearn\\metrics\\_regression.py:492: FutureWarning: 'squared' is deprecated in version 1.4 and will be removed in 1.6. To calculate the root mean squared error, use the function'root_mean_squared_error'.\n",
      "  warnings.warn(\n",
      "10:42:06 - cmdstanpy - INFO - Chain [1] start processing\n",
      "10:42:06 - cmdstanpy - INFO - Chain [1] done processing\n",
      "c:\\Users\\natra\\AppData\\Local\\Programs\\Python\\Python310\\lib\\site-packages\\sklearn\\metrics\\_regression.py:492: FutureWarning: 'squared' is deprecated in version 1.4 and will be removed in 1.6. To calculate the root mean squared error, use the function'root_mean_squared_error'.\n",
      "  warnings.warn(\n"
     ]
    },
    {
     "name": "stdout",
     "output_type": "stream",
     "text": [
      "R² Score: 0.733, RMSE: 2.681, MAE: 2.152\n",
      "\n",
      "Evaluating: changepoint_prior_scale=0.02, seasonality_prior_scale=0.1, seasonality_mode=additive\n"
     ]
    },
    {
     "name": "stderr",
     "output_type": "stream",
     "text": [
      "10:42:06 - cmdstanpy - INFO - Chain [1] start processing\n",
      "10:42:06 - cmdstanpy - INFO - Chain [1] done processing\n",
      "c:\\Users\\natra\\AppData\\Local\\Programs\\Python\\Python310\\lib\\site-packages\\sklearn\\metrics\\_regression.py:492: FutureWarning: 'squared' is deprecated in version 1.4 and will be removed in 1.6. To calculate the root mean squared error, use the function'root_mean_squared_error'.\n",
      "  warnings.warn(\n",
      "10:42:07 - cmdstanpy - INFO - Chain [1] start processing\n",
      "10:42:07 - cmdstanpy - INFO - Chain [1] done processing\n",
      "c:\\Users\\natra\\AppData\\Local\\Programs\\Python\\Python310\\lib\\site-packages\\sklearn\\metrics\\_regression.py:492: FutureWarning: 'squared' is deprecated in version 1.4 and will be removed in 1.6. To calculate the root mean squared error, use the function'root_mean_squared_error'.\n",
      "  warnings.warn(\n",
      "10:42:08 - cmdstanpy - INFO - Chain [1] start processing\n",
      "10:42:08 - cmdstanpy - INFO - Chain [1] done processing\n",
      "c:\\Users\\natra\\AppData\\Local\\Programs\\Python\\Python310\\lib\\site-packages\\sklearn\\metrics\\_regression.py:492: FutureWarning: 'squared' is deprecated in version 1.4 and will be removed in 1.6. To calculate the root mean squared error, use the function'root_mean_squared_error'.\n",
      "  warnings.warn(\n",
      "10:42:08 - cmdstanpy - INFO - Chain [1] start processing\n",
      "10:42:08 - cmdstanpy - INFO - Chain [1] done processing\n",
      "c:\\Users\\natra\\AppData\\Local\\Programs\\Python\\Python310\\lib\\site-packages\\sklearn\\metrics\\_regression.py:492: FutureWarning: 'squared' is deprecated in version 1.4 and will be removed in 1.6. To calculate the root mean squared error, use the function'root_mean_squared_error'.\n",
      "  warnings.warn(\n",
      "10:42:09 - cmdstanpy - INFO - Chain [1] start processing\n",
      "10:42:09 - cmdstanpy - INFO - Chain [1] done processing\n",
      "c:\\Users\\natra\\AppData\\Local\\Programs\\Python\\Python310\\lib\\site-packages\\sklearn\\metrics\\_regression.py:492: FutureWarning: 'squared' is deprecated in version 1.4 and will be removed in 1.6. To calculate the root mean squared error, use the function'root_mean_squared_error'.\n",
      "  warnings.warn(\n"
     ]
    },
    {
     "name": "stdout",
     "output_type": "stream",
     "text": [
      "R² Score: 0.734, RMSE: 2.675, MAE: 2.143\n",
      "\n",
      "Evaluating: changepoint_prior_scale=0.02, seasonality_prior_scale=0.1, seasonality_mode=multiplicative\n"
     ]
    },
    {
     "name": "stderr",
     "output_type": "stream",
     "text": [
      "10:42:09 - cmdstanpy - INFO - Chain [1] start processing\n",
      "10:42:09 - cmdstanpy - INFO - Chain [1] done processing\n",
      "c:\\Users\\natra\\AppData\\Local\\Programs\\Python\\Python310\\lib\\site-packages\\sklearn\\metrics\\_regression.py:492: FutureWarning: 'squared' is deprecated in version 1.4 and will be removed in 1.6. To calculate the root mean squared error, use the function'root_mean_squared_error'.\n",
      "  warnings.warn(\n",
      "10:42:10 - cmdstanpy - INFO - Chain [1] start processing\n",
      "10:42:10 - cmdstanpy - INFO - Chain [1] done processing\n",
      "c:\\Users\\natra\\AppData\\Local\\Programs\\Python\\Python310\\lib\\site-packages\\sklearn\\metrics\\_regression.py:492: FutureWarning: 'squared' is deprecated in version 1.4 and will be removed in 1.6. To calculate the root mean squared error, use the function'root_mean_squared_error'.\n",
      "  warnings.warn(\n",
      "10:42:10 - cmdstanpy - INFO - Chain [1] start processing\n",
      "10:42:11 - cmdstanpy - INFO - Chain [1] done processing\n",
      "c:\\Users\\natra\\AppData\\Local\\Programs\\Python\\Python310\\lib\\site-packages\\sklearn\\metrics\\_regression.py:492: FutureWarning: 'squared' is deprecated in version 1.4 and will be removed in 1.6. To calculate the root mean squared error, use the function'root_mean_squared_error'.\n",
      "  warnings.warn(\n",
      "10:42:11 - cmdstanpy - INFO - Chain [1] start processing\n",
      "10:42:11 - cmdstanpy - INFO - Chain [1] done processing\n",
      "c:\\Users\\natra\\AppData\\Local\\Programs\\Python\\Python310\\lib\\site-packages\\sklearn\\metrics\\_regression.py:492: FutureWarning: 'squared' is deprecated in version 1.4 and will be removed in 1.6. To calculate the root mean squared error, use the function'root_mean_squared_error'.\n",
      "  warnings.warn(\n",
      "10:42:12 - cmdstanpy - INFO - Chain [1] start processing\n",
      "10:42:12 - cmdstanpy - INFO - Chain [1] done processing\n",
      "c:\\Users\\natra\\AppData\\Local\\Programs\\Python\\Python310\\lib\\site-packages\\sklearn\\metrics\\_regression.py:492: FutureWarning: 'squared' is deprecated in version 1.4 and will be removed in 1.6. To calculate the root mean squared error, use the function'root_mean_squared_error'.\n",
      "  warnings.warn(\n"
     ]
    },
    {
     "name": "stdout",
     "output_type": "stream",
     "text": [
      "R² Score: 0.732, RMSE: 2.684, MAE: 2.146\n",
      "\n",
      "Evaluating: changepoint_prior_scale=0.02, seasonality_prior_scale=1.1, seasonality_mode=additive\n"
     ]
    },
    {
     "name": "stderr",
     "output_type": "stream",
     "text": [
      "10:42:12 - cmdstanpy - INFO - Chain [1] start processing\n",
      "10:42:12 - cmdstanpy - INFO - Chain [1] done processing\n",
      "c:\\Users\\natra\\AppData\\Local\\Programs\\Python\\Python310\\lib\\site-packages\\sklearn\\metrics\\_regression.py:492: FutureWarning: 'squared' is deprecated in version 1.4 and will be removed in 1.6. To calculate the root mean squared error, use the function'root_mean_squared_error'.\n",
      "  warnings.warn(\n",
      "10:42:13 - cmdstanpy - INFO - Chain [1] start processing\n",
      "10:42:13 - cmdstanpy - INFO - Chain [1] done processing\n",
      "c:\\Users\\natra\\AppData\\Local\\Programs\\Python\\Python310\\lib\\site-packages\\sklearn\\metrics\\_regression.py:492: FutureWarning: 'squared' is deprecated in version 1.4 and will be removed in 1.6. To calculate the root mean squared error, use the function'root_mean_squared_error'.\n",
      "  warnings.warn(\n",
      "10:42:13 - cmdstanpy - INFO - Chain [1] start processing\n",
      "10:42:13 - cmdstanpy - INFO - Chain [1] done processing\n",
      "c:\\Users\\natra\\AppData\\Local\\Programs\\Python\\Python310\\lib\\site-packages\\sklearn\\metrics\\_regression.py:492: FutureWarning: 'squared' is deprecated in version 1.4 and will be removed in 1.6. To calculate the root mean squared error, use the function'root_mean_squared_error'.\n",
      "  warnings.warn(\n",
      "10:42:14 - cmdstanpy - INFO - Chain [1] start processing\n",
      "10:42:14 - cmdstanpy - INFO - Chain [1] done processing\n",
      "c:\\Users\\natra\\AppData\\Local\\Programs\\Python\\Python310\\lib\\site-packages\\sklearn\\metrics\\_regression.py:492: FutureWarning: 'squared' is deprecated in version 1.4 and will be removed in 1.6. To calculate the root mean squared error, use the function'root_mean_squared_error'.\n",
      "  warnings.warn(\n",
      "10:42:14 - cmdstanpy - INFO - Chain [1] start processing\n",
      "10:42:15 - cmdstanpy - INFO - Chain [1] done processing\n",
      "c:\\Users\\natra\\AppData\\Local\\Programs\\Python\\Python310\\lib\\site-packages\\sklearn\\metrics\\_regression.py:492: FutureWarning: 'squared' is deprecated in version 1.4 and will be removed in 1.6. To calculate the root mean squared error, use the function'root_mean_squared_error'.\n",
      "  warnings.warn(\n"
     ]
    },
    {
     "name": "stdout",
     "output_type": "stream",
     "text": [
      "R² Score: 0.734, RMSE: 2.677, MAE: 2.144\n",
      "\n",
      "Evaluating: changepoint_prior_scale=0.02, seasonality_prior_scale=1.1, seasonality_mode=multiplicative\n"
     ]
    },
    {
     "name": "stderr",
     "output_type": "stream",
     "text": [
      "10:42:15 - cmdstanpy - INFO - Chain [1] start processing\n",
      "10:42:15 - cmdstanpy - INFO - Chain [1] done processing\n",
      "c:\\Users\\natra\\AppData\\Local\\Programs\\Python\\Python310\\lib\\site-packages\\sklearn\\metrics\\_regression.py:492: FutureWarning: 'squared' is deprecated in version 1.4 and will be removed in 1.6. To calculate the root mean squared error, use the function'root_mean_squared_error'.\n",
      "  warnings.warn(\n",
      "10:42:16 - cmdstanpy - INFO - Chain [1] start processing\n",
      "10:42:16 - cmdstanpy - INFO - Chain [1] done processing\n",
      "c:\\Users\\natra\\AppData\\Local\\Programs\\Python\\Python310\\lib\\site-packages\\sklearn\\metrics\\_regression.py:492: FutureWarning: 'squared' is deprecated in version 1.4 and will be removed in 1.6. To calculate the root mean squared error, use the function'root_mean_squared_error'.\n",
      "  warnings.warn(\n",
      "10:42:16 - cmdstanpy - INFO - Chain [1] start processing\n",
      "10:42:16 - cmdstanpy - INFO - Chain [1] done processing\n",
      "c:\\Users\\natra\\AppData\\Local\\Programs\\Python\\Python310\\lib\\site-packages\\sklearn\\metrics\\_regression.py:492: FutureWarning: 'squared' is deprecated in version 1.4 and will be removed in 1.6. To calculate the root mean squared error, use the function'root_mean_squared_error'.\n",
      "  warnings.warn(\n",
      "10:42:17 - cmdstanpy - INFO - Chain [1] start processing\n",
      "10:42:17 - cmdstanpy - INFO - Chain [1] done processing\n",
      "c:\\Users\\natra\\AppData\\Local\\Programs\\Python\\Python310\\lib\\site-packages\\sklearn\\metrics\\_regression.py:492: FutureWarning: 'squared' is deprecated in version 1.4 and will be removed in 1.6. To calculate the root mean squared error, use the function'root_mean_squared_error'.\n",
      "  warnings.warn(\n",
      "10:42:17 - cmdstanpy - INFO - Chain [1] start processing\n",
      "10:42:18 - cmdstanpy - INFO - Chain [1] done processing\n",
      "c:\\Users\\natra\\AppData\\Local\\Programs\\Python\\Python310\\lib\\site-packages\\sklearn\\metrics\\_regression.py:492: FutureWarning: 'squared' is deprecated in version 1.4 and will be removed in 1.6. To calculate the root mean squared error, use the function'root_mean_squared_error'.\n",
      "  warnings.warn(\n"
     ]
    },
    {
     "name": "stdout",
     "output_type": "stream",
     "text": [
      "R² Score: 0.732, RMSE: 2.686, MAE: 2.148\n",
      "\n",
      "Evaluating: changepoint_prior_scale=0.02, seasonality_prior_scale=2.1, seasonality_mode=additive\n"
     ]
    },
    {
     "name": "stderr",
     "output_type": "stream",
     "text": [
      "10:42:18 - cmdstanpy - INFO - Chain [1] start processing\n",
      "10:42:18 - cmdstanpy - INFO - Chain [1] done processing\n",
      "c:\\Users\\natra\\AppData\\Local\\Programs\\Python\\Python310\\lib\\site-packages\\sklearn\\metrics\\_regression.py:492: FutureWarning: 'squared' is deprecated in version 1.4 and will be removed in 1.6. To calculate the root mean squared error, use the function'root_mean_squared_error'.\n",
      "  warnings.warn(\n",
      "10:42:19 - cmdstanpy - INFO - Chain [1] start processing\n",
      "10:42:19 - cmdstanpy - INFO - Chain [1] done processing\n",
      "c:\\Users\\natra\\AppData\\Local\\Programs\\Python\\Python310\\lib\\site-packages\\sklearn\\metrics\\_regression.py:492: FutureWarning: 'squared' is deprecated in version 1.4 and will be removed in 1.6. To calculate the root mean squared error, use the function'root_mean_squared_error'.\n",
      "  warnings.warn(\n",
      "10:42:19 - cmdstanpy - INFO - Chain [1] start processing\n",
      "10:42:19 - cmdstanpy - INFO - Chain [1] done processing\n",
      "c:\\Users\\natra\\AppData\\Local\\Programs\\Python\\Python310\\lib\\site-packages\\sklearn\\metrics\\_regression.py:492: FutureWarning: 'squared' is deprecated in version 1.4 and will be removed in 1.6. To calculate the root mean squared error, use the function'root_mean_squared_error'.\n",
      "  warnings.warn(\n",
      "10:42:20 - cmdstanpy - INFO - Chain [1] start processing\n",
      "10:42:20 - cmdstanpy - INFO - Chain [1] done processing\n",
      "c:\\Users\\natra\\AppData\\Local\\Programs\\Python\\Python310\\lib\\site-packages\\sklearn\\metrics\\_regression.py:492: FutureWarning: 'squared' is deprecated in version 1.4 and will be removed in 1.6. To calculate the root mean squared error, use the function'root_mean_squared_error'.\n",
      "  warnings.warn(\n",
      "10:42:20 - cmdstanpy - INFO - Chain [1] start processing\n",
      "10:42:20 - cmdstanpy - INFO - Chain [1] done processing\n",
      "c:\\Users\\natra\\AppData\\Local\\Programs\\Python\\Python310\\lib\\site-packages\\sklearn\\metrics\\_regression.py:492: FutureWarning: 'squared' is deprecated in version 1.4 and will be removed in 1.6. To calculate the root mean squared error, use the function'root_mean_squared_error'.\n",
      "  warnings.warn(\n"
     ]
    },
    {
     "name": "stdout",
     "output_type": "stream",
     "text": [
      "R² Score: 0.734, RMSE: 2.678, MAE: 2.144\n",
      "\n",
      "Evaluating: changepoint_prior_scale=0.02, seasonality_prior_scale=2.1, seasonality_mode=multiplicative\n"
     ]
    },
    {
     "name": "stderr",
     "output_type": "stream",
     "text": [
      "10:42:21 - cmdstanpy - INFO - Chain [1] start processing\n",
      "10:42:21 - cmdstanpy - INFO - Chain [1] done processing\n",
      "c:\\Users\\natra\\AppData\\Local\\Programs\\Python\\Python310\\lib\\site-packages\\sklearn\\metrics\\_regression.py:492: FutureWarning: 'squared' is deprecated in version 1.4 and will be removed in 1.6. To calculate the root mean squared error, use the function'root_mean_squared_error'.\n",
      "  warnings.warn(\n",
      "10:42:21 - cmdstanpy - INFO - Chain [1] start processing\n",
      "10:42:22 - cmdstanpy - INFO - Chain [1] done processing\n",
      "c:\\Users\\natra\\AppData\\Local\\Programs\\Python\\Python310\\lib\\site-packages\\sklearn\\metrics\\_regression.py:492: FutureWarning: 'squared' is deprecated in version 1.4 and will be removed in 1.6. To calculate the root mean squared error, use the function'root_mean_squared_error'.\n",
      "  warnings.warn(\n",
      "10:42:22 - cmdstanpy - INFO - Chain [1] start processing\n",
      "10:42:22 - cmdstanpy - INFO - Chain [1] done processing\n",
      "c:\\Users\\natra\\AppData\\Local\\Programs\\Python\\Python310\\lib\\site-packages\\sklearn\\metrics\\_regression.py:492: FutureWarning: 'squared' is deprecated in version 1.4 and will be removed in 1.6. To calculate the root mean squared error, use the function'root_mean_squared_error'.\n",
      "  warnings.warn(\n",
      "10:42:23 - cmdstanpy - INFO - Chain [1] start processing\n",
      "10:42:23 - cmdstanpy - INFO - Chain [1] done processing\n",
      "c:\\Users\\natra\\AppData\\Local\\Programs\\Python\\Python310\\lib\\site-packages\\sklearn\\metrics\\_regression.py:492: FutureWarning: 'squared' is deprecated in version 1.4 and will be removed in 1.6. To calculate the root mean squared error, use the function'root_mean_squared_error'.\n",
      "  warnings.warn(\n",
      "10:42:23 - cmdstanpy - INFO - Chain [1] start processing\n",
      "10:42:23 - cmdstanpy - INFO - Chain [1] done processing\n",
      "c:\\Users\\natra\\AppData\\Local\\Programs\\Python\\Python310\\lib\\site-packages\\sklearn\\metrics\\_regression.py:492: FutureWarning: 'squared' is deprecated in version 1.4 and will be removed in 1.6. To calculate the root mean squared error, use the function'root_mean_squared_error'.\n",
      "  warnings.warn(\n"
     ]
    },
    {
     "name": "stdout",
     "output_type": "stream",
     "text": [
      "R² Score: 0.733, RMSE: 2.683, MAE: 2.146\n",
      "\n",
      "Evaluating: changepoint_prior_scale=0.02, seasonality_prior_scale=3.1, seasonality_mode=additive\n"
     ]
    },
    {
     "name": "stderr",
     "output_type": "stream",
     "text": [
      "10:42:24 - cmdstanpy - INFO - Chain [1] start processing\n",
      "10:42:24 - cmdstanpy - INFO - Chain [1] done processing\n",
      "c:\\Users\\natra\\AppData\\Local\\Programs\\Python\\Python310\\lib\\site-packages\\sklearn\\metrics\\_regression.py:492: FutureWarning: 'squared' is deprecated in version 1.4 and will be removed in 1.6. To calculate the root mean squared error, use the function'root_mean_squared_error'.\n",
      "  warnings.warn(\n",
      "10:42:24 - cmdstanpy - INFO - Chain [1] start processing\n",
      "10:42:24 - cmdstanpy - INFO - Chain [1] done processing\n",
      "c:\\Users\\natra\\AppData\\Local\\Programs\\Python\\Python310\\lib\\site-packages\\sklearn\\metrics\\_regression.py:492: FutureWarning: 'squared' is deprecated in version 1.4 and will be removed in 1.6. To calculate the root mean squared error, use the function'root_mean_squared_error'.\n",
      "  warnings.warn(\n",
      "10:42:25 - cmdstanpy - INFO - Chain [1] start processing\n",
      "10:42:25 - cmdstanpy - INFO - Chain [1] done processing\n",
      "c:\\Users\\natra\\AppData\\Local\\Programs\\Python\\Python310\\lib\\site-packages\\sklearn\\metrics\\_regression.py:492: FutureWarning: 'squared' is deprecated in version 1.4 and will be removed in 1.6. To calculate the root mean squared error, use the function'root_mean_squared_error'.\n",
      "  warnings.warn(\n",
      "10:42:25 - cmdstanpy - INFO - Chain [1] start processing\n",
      "10:42:25 - cmdstanpy - INFO - Chain [1] done processing\n",
      "c:\\Users\\natra\\AppData\\Local\\Programs\\Python\\Python310\\lib\\site-packages\\sklearn\\metrics\\_regression.py:492: FutureWarning: 'squared' is deprecated in version 1.4 and will be removed in 1.6. To calculate the root mean squared error, use the function'root_mean_squared_error'.\n",
      "  warnings.warn(\n",
      "10:42:26 - cmdstanpy - INFO - Chain [1] start processing\n",
      "10:42:26 - cmdstanpy - INFO - Chain [1] done processing\n",
      "c:\\Users\\natra\\AppData\\Local\\Programs\\Python\\Python310\\lib\\site-packages\\sklearn\\metrics\\_regression.py:492: FutureWarning: 'squared' is deprecated in version 1.4 and will be removed in 1.6. To calculate the root mean squared error, use the function'root_mean_squared_error'.\n",
      "  warnings.warn(\n"
     ]
    },
    {
     "name": "stdout",
     "output_type": "stream",
     "text": [
      "R² Score: 0.734, RMSE: 2.678, MAE: 2.144\n",
      "\n",
      "Evaluating: changepoint_prior_scale=0.02, seasonality_prior_scale=3.1, seasonality_mode=multiplicative\n"
     ]
    },
    {
     "name": "stderr",
     "output_type": "stream",
     "text": [
      "10:42:26 - cmdstanpy - INFO - Chain [1] start processing\n",
      "10:42:27 - cmdstanpy - INFO - Chain [1] done processing\n",
      "c:\\Users\\natra\\AppData\\Local\\Programs\\Python\\Python310\\lib\\site-packages\\sklearn\\metrics\\_regression.py:492: FutureWarning: 'squared' is deprecated in version 1.4 and will be removed in 1.6. To calculate the root mean squared error, use the function'root_mean_squared_error'.\n",
      "  warnings.warn(\n",
      "10:42:27 - cmdstanpy - INFO - Chain [1] start processing\n",
      "10:42:27 - cmdstanpy - INFO - Chain [1] done processing\n",
      "c:\\Users\\natra\\AppData\\Local\\Programs\\Python\\Python310\\lib\\site-packages\\sklearn\\metrics\\_regression.py:492: FutureWarning: 'squared' is deprecated in version 1.4 and will be removed in 1.6. To calculate the root mean squared error, use the function'root_mean_squared_error'.\n",
      "  warnings.warn(\n",
      "10:42:28 - cmdstanpy - INFO - Chain [1] start processing\n",
      "10:42:28 - cmdstanpy - INFO - Chain [1] done processing\n",
      "c:\\Users\\natra\\AppData\\Local\\Programs\\Python\\Python310\\lib\\site-packages\\sklearn\\metrics\\_regression.py:492: FutureWarning: 'squared' is deprecated in version 1.4 and will be removed in 1.6. To calculate the root mean squared error, use the function'root_mean_squared_error'.\n",
      "  warnings.warn(\n",
      "10:42:28 - cmdstanpy - INFO - Chain [1] start processing\n",
      "10:42:29 - cmdstanpy - INFO - Chain [1] done processing\n",
      "c:\\Users\\natra\\AppData\\Local\\Programs\\Python\\Python310\\lib\\site-packages\\sklearn\\metrics\\_regression.py:492: FutureWarning: 'squared' is deprecated in version 1.4 and will be removed in 1.6. To calculate the root mean squared error, use the function'root_mean_squared_error'.\n",
      "  warnings.warn(\n",
      "10:42:29 - cmdstanpy - INFO - Chain [1] start processing\n",
      "10:42:29 - cmdstanpy - INFO - Chain [1] done processing\n",
      "c:\\Users\\natra\\AppData\\Local\\Programs\\Python\\Python310\\lib\\site-packages\\sklearn\\metrics\\_regression.py:492: FutureWarning: 'squared' is deprecated in version 1.4 and will be removed in 1.6. To calculate the root mean squared error, use the function'root_mean_squared_error'.\n",
      "  warnings.warn(\n"
     ]
    },
    {
     "name": "stdout",
     "output_type": "stream",
     "text": [
      "R² Score: 0.733, RMSE: 2.682, MAE: 2.146\n",
      "\n",
      "Evaluating: changepoint_prior_scale=0.02, seasonality_prior_scale=4.1, seasonality_mode=additive\n"
     ]
    },
    {
     "name": "stderr",
     "output_type": "stream",
     "text": [
      "10:42:30 - cmdstanpy - INFO - Chain [1] start processing\n",
      "10:42:30 - cmdstanpy - INFO - Chain [1] done processing\n",
      "c:\\Users\\natra\\AppData\\Local\\Programs\\Python\\Python310\\lib\\site-packages\\sklearn\\metrics\\_regression.py:492: FutureWarning: 'squared' is deprecated in version 1.4 and will be removed in 1.6. To calculate the root mean squared error, use the function'root_mean_squared_error'.\n",
      "  warnings.warn(\n",
      "10:42:31 - cmdstanpy - INFO - Chain [1] start processing\n",
      "10:42:31 - cmdstanpy - INFO - Chain [1] done processing\n",
      "c:\\Users\\natra\\AppData\\Local\\Programs\\Python\\Python310\\lib\\site-packages\\sklearn\\metrics\\_regression.py:492: FutureWarning: 'squared' is deprecated in version 1.4 and will be removed in 1.6. To calculate the root mean squared error, use the function'root_mean_squared_error'.\n",
      "  warnings.warn(\n",
      "10:42:31 - cmdstanpy - INFO - Chain [1] start processing\n",
      "10:42:31 - cmdstanpy - INFO - Chain [1] done processing\n",
      "c:\\Users\\natra\\AppData\\Local\\Programs\\Python\\Python310\\lib\\site-packages\\sklearn\\metrics\\_regression.py:492: FutureWarning: 'squared' is deprecated in version 1.4 and will be removed in 1.6. To calculate the root mean squared error, use the function'root_mean_squared_error'.\n",
      "  warnings.warn(\n",
      "10:42:32 - cmdstanpy - INFO - Chain [1] start processing\n",
      "10:42:32 - cmdstanpy - INFO - Chain [1] done processing\n",
      "c:\\Users\\natra\\AppData\\Local\\Programs\\Python\\Python310\\lib\\site-packages\\sklearn\\metrics\\_regression.py:492: FutureWarning: 'squared' is deprecated in version 1.4 and will be removed in 1.6. To calculate the root mean squared error, use the function'root_mean_squared_error'.\n",
      "  warnings.warn(\n",
      "10:42:33 - cmdstanpy - INFO - Chain [1] start processing\n",
      "10:42:33 - cmdstanpy - INFO - Chain [1] done processing\n",
      "c:\\Users\\natra\\AppData\\Local\\Programs\\Python\\Python310\\lib\\site-packages\\sklearn\\metrics\\_regression.py:492: FutureWarning: 'squared' is deprecated in version 1.4 and will be removed in 1.6. To calculate the root mean squared error, use the function'root_mean_squared_error'.\n",
      "  warnings.warn(\n"
     ]
    },
    {
     "name": "stdout",
     "output_type": "stream",
     "text": [
      "R² Score: 0.734, RMSE: 2.678, MAE: 2.145\n",
      "\n",
      "Evaluating: changepoint_prior_scale=0.02, seasonality_prior_scale=4.1, seasonality_mode=multiplicative\n"
     ]
    },
    {
     "name": "stderr",
     "output_type": "stream",
     "text": [
      "10:42:33 - cmdstanpy - INFO - Chain [1] start processing\n",
      "10:42:33 - cmdstanpy - INFO - Chain [1] done processing\n",
      "c:\\Users\\natra\\AppData\\Local\\Programs\\Python\\Python310\\lib\\site-packages\\sklearn\\metrics\\_regression.py:492: FutureWarning: 'squared' is deprecated in version 1.4 and will be removed in 1.6. To calculate the root mean squared error, use the function'root_mean_squared_error'.\n",
      "  warnings.warn(\n",
      "10:42:34 - cmdstanpy - INFO - Chain [1] start processing\n",
      "10:42:34 - cmdstanpy - INFO - Chain [1] done processing\n",
      "c:\\Users\\natra\\AppData\\Local\\Programs\\Python\\Python310\\lib\\site-packages\\sklearn\\metrics\\_regression.py:492: FutureWarning: 'squared' is deprecated in version 1.4 and will be removed in 1.6. To calculate the root mean squared error, use the function'root_mean_squared_error'.\n",
      "  warnings.warn(\n",
      "10:42:35 - cmdstanpy - INFO - Chain [1] start processing\n",
      "10:42:35 - cmdstanpy - INFO - Chain [1] done processing\n",
      "c:\\Users\\natra\\AppData\\Local\\Programs\\Python\\Python310\\lib\\site-packages\\sklearn\\metrics\\_regression.py:492: FutureWarning: 'squared' is deprecated in version 1.4 and will be removed in 1.6. To calculate the root mean squared error, use the function'root_mean_squared_error'.\n",
      "  warnings.warn(\n",
      "10:42:35 - cmdstanpy - INFO - Chain [1] start processing\n",
      "10:42:35 - cmdstanpy - INFO - Chain [1] done processing\n",
      "c:\\Users\\natra\\AppData\\Local\\Programs\\Python\\Python310\\lib\\site-packages\\sklearn\\metrics\\_regression.py:492: FutureWarning: 'squared' is deprecated in version 1.4 and will be removed in 1.6. To calculate the root mean squared error, use the function'root_mean_squared_error'.\n",
      "  warnings.warn(\n",
      "10:42:36 - cmdstanpy - INFO - Chain [1] start processing\n",
      "10:42:36 - cmdstanpy - INFO - Chain [1] done processing\n",
      "c:\\Users\\natra\\AppData\\Local\\Programs\\Python\\Python310\\lib\\site-packages\\sklearn\\metrics\\_regression.py:492: FutureWarning: 'squared' is deprecated in version 1.4 and will be removed in 1.6. To calculate the root mean squared error, use the function'root_mean_squared_error'.\n",
      "  warnings.warn(\n"
     ]
    },
    {
     "name": "stdout",
     "output_type": "stream",
     "text": [
      "R² Score: 0.732, RMSE: 2.684, MAE: 2.147\n",
      "\n",
      "Evaluating: changepoint_prior_scale=0.02, seasonality_prior_scale=5.1, seasonality_mode=additive\n"
     ]
    },
    {
     "name": "stderr",
     "output_type": "stream",
     "text": [
      "10:42:36 - cmdstanpy - INFO - Chain [1] start processing\n",
      "10:42:37 - cmdstanpy - INFO - Chain [1] done processing\n",
      "c:\\Users\\natra\\AppData\\Local\\Programs\\Python\\Python310\\lib\\site-packages\\sklearn\\metrics\\_regression.py:492: FutureWarning: 'squared' is deprecated in version 1.4 and will be removed in 1.6. To calculate the root mean squared error, use the function'root_mean_squared_error'.\n",
      "  warnings.warn(\n",
      "10:42:37 - cmdstanpy - INFO - Chain [1] start processing\n",
      "10:42:37 - cmdstanpy - INFO - Chain [1] done processing\n",
      "c:\\Users\\natra\\AppData\\Local\\Programs\\Python\\Python310\\lib\\site-packages\\sklearn\\metrics\\_regression.py:492: FutureWarning: 'squared' is deprecated in version 1.4 and will be removed in 1.6. To calculate the root mean squared error, use the function'root_mean_squared_error'.\n",
      "  warnings.warn(\n",
      "10:42:38 - cmdstanpy - INFO - Chain [1] start processing\n",
      "10:42:38 - cmdstanpy - INFO - Chain [1] done processing\n",
      "c:\\Users\\natra\\AppData\\Local\\Programs\\Python\\Python310\\lib\\site-packages\\sklearn\\metrics\\_regression.py:492: FutureWarning: 'squared' is deprecated in version 1.4 and will be removed in 1.6. To calculate the root mean squared error, use the function'root_mean_squared_error'.\n",
      "  warnings.warn(\n",
      "10:42:38 - cmdstanpy - INFO - Chain [1] start processing\n",
      "10:42:38 - cmdstanpy - INFO - Chain [1] done processing\n",
      "c:\\Users\\natra\\AppData\\Local\\Programs\\Python\\Python310\\lib\\site-packages\\sklearn\\metrics\\_regression.py:492: FutureWarning: 'squared' is deprecated in version 1.4 and will be removed in 1.6. To calculate the root mean squared error, use the function'root_mean_squared_error'.\n",
      "  warnings.warn(\n",
      "10:42:39 - cmdstanpy - INFO - Chain [1] start processing\n",
      "10:42:39 - cmdstanpy - INFO - Chain [1] done processing\n",
      "c:\\Users\\natra\\AppData\\Local\\Programs\\Python\\Python310\\lib\\site-packages\\sklearn\\metrics\\_regression.py:492: FutureWarning: 'squared' is deprecated in version 1.4 and will be removed in 1.6. To calculate the root mean squared error, use the function'root_mean_squared_error'.\n",
      "  warnings.warn(\n"
     ]
    },
    {
     "name": "stdout",
     "output_type": "stream",
     "text": [
      "R² Score: 0.734, RMSE: 2.676, MAE: 2.144\n",
      "\n",
      "Evaluating: changepoint_prior_scale=0.02, seasonality_prior_scale=5.1, seasonality_mode=multiplicative\n"
     ]
    },
    {
     "name": "stderr",
     "output_type": "stream",
     "text": [
      "10:42:39 - cmdstanpy - INFO - Chain [1] start processing\n",
      "10:42:40 - cmdstanpy - INFO - Chain [1] done processing\n",
      "c:\\Users\\natra\\AppData\\Local\\Programs\\Python\\Python310\\lib\\site-packages\\sklearn\\metrics\\_regression.py:492: FutureWarning: 'squared' is deprecated in version 1.4 and will be removed in 1.6. To calculate the root mean squared error, use the function'root_mean_squared_error'.\n",
      "  warnings.warn(\n",
      "10:42:40 - cmdstanpy - INFO - Chain [1] start processing\n",
      "10:42:40 - cmdstanpy - INFO - Chain [1] done processing\n",
      "c:\\Users\\natra\\AppData\\Local\\Programs\\Python\\Python310\\lib\\site-packages\\sklearn\\metrics\\_regression.py:492: FutureWarning: 'squared' is deprecated in version 1.4 and will be removed in 1.6. To calculate the root mean squared error, use the function'root_mean_squared_error'.\n",
      "  warnings.warn(\n",
      "10:42:41 - cmdstanpy - INFO - Chain [1] start processing\n",
      "10:42:41 - cmdstanpy - INFO - Chain [1] done processing\n",
      "c:\\Users\\natra\\AppData\\Local\\Programs\\Python\\Python310\\lib\\site-packages\\sklearn\\metrics\\_regression.py:492: FutureWarning: 'squared' is deprecated in version 1.4 and will be removed in 1.6. To calculate the root mean squared error, use the function'root_mean_squared_error'.\n",
      "  warnings.warn(\n",
      "10:42:41 - cmdstanpy - INFO - Chain [1] start processing\n",
      "10:42:41 - cmdstanpy - INFO - Chain [1] done processing\n",
      "c:\\Users\\natra\\AppData\\Local\\Programs\\Python\\Python310\\lib\\site-packages\\sklearn\\metrics\\_regression.py:492: FutureWarning: 'squared' is deprecated in version 1.4 and will be removed in 1.6. To calculate the root mean squared error, use the function'root_mean_squared_error'.\n",
      "  warnings.warn(\n",
      "10:42:42 - cmdstanpy - INFO - Chain [1] start processing\n",
      "10:42:42 - cmdstanpy - INFO - Chain [1] done processing\n",
      "c:\\Users\\natra\\AppData\\Local\\Programs\\Python\\Python310\\lib\\site-packages\\sklearn\\metrics\\_regression.py:492: FutureWarning: 'squared' is deprecated in version 1.4 and will be removed in 1.6. To calculate the root mean squared error, use the function'root_mean_squared_error'.\n",
      "  warnings.warn(\n"
     ]
    },
    {
     "name": "stdout",
     "output_type": "stream",
     "text": [
      "R² Score: 0.733, RMSE: 2.683, MAE: 2.147\n",
      "\n",
      "Evaluating: changepoint_prior_scale=0.02, seasonality_prior_scale=6.1, seasonality_mode=additive\n"
     ]
    },
    {
     "name": "stderr",
     "output_type": "stream",
     "text": [
      "10:42:42 - cmdstanpy - INFO - Chain [1] start processing\n",
      "10:42:42 - cmdstanpy - INFO - Chain [1] done processing\n",
      "c:\\Users\\natra\\AppData\\Local\\Programs\\Python\\Python310\\lib\\site-packages\\sklearn\\metrics\\_regression.py:492: FutureWarning: 'squared' is deprecated in version 1.4 and will be removed in 1.6. To calculate the root mean squared error, use the function'root_mean_squared_error'.\n",
      "  warnings.warn(\n",
      "10:42:43 - cmdstanpy - INFO - Chain [1] start processing\n",
      "10:42:43 - cmdstanpy - INFO - Chain [1] done processing\n",
      "c:\\Users\\natra\\AppData\\Local\\Programs\\Python\\Python310\\lib\\site-packages\\sklearn\\metrics\\_regression.py:492: FutureWarning: 'squared' is deprecated in version 1.4 and will be removed in 1.6. To calculate the root mean squared error, use the function'root_mean_squared_error'.\n",
      "  warnings.warn(\n",
      "10:42:43 - cmdstanpy - INFO - Chain [1] start processing\n",
      "10:42:44 - cmdstanpy - INFO - Chain [1] done processing\n",
      "c:\\Users\\natra\\AppData\\Local\\Programs\\Python\\Python310\\lib\\site-packages\\sklearn\\metrics\\_regression.py:492: FutureWarning: 'squared' is deprecated in version 1.4 and will be removed in 1.6. To calculate the root mean squared error, use the function'root_mean_squared_error'.\n",
      "  warnings.warn(\n",
      "10:42:44 - cmdstanpy - INFO - Chain [1] start processing\n",
      "10:42:44 - cmdstanpy - INFO - Chain [1] done processing\n",
      "c:\\Users\\natra\\AppData\\Local\\Programs\\Python\\Python310\\lib\\site-packages\\sklearn\\metrics\\_regression.py:492: FutureWarning: 'squared' is deprecated in version 1.4 and will be removed in 1.6. To calculate the root mean squared error, use the function'root_mean_squared_error'.\n",
      "  warnings.warn(\n",
      "10:42:45 - cmdstanpy - INFO - Chain [1] start processing\n",
      "10:42:45 - cmdstanpy - INFO - Chain [1] done processing\n",
      "c:\\Users\\natra\\AppData\\Local\\Programs\\Python\\Python310\\lib\\site-packages\\sklearn\\metrics\\_regression.py:492: FutureWarning: 'squared' is deprecated in version 1.4 and will be removed in 1.6. To calculate the root mean squared error, use the function'root_mean_squared_error'.\n",
      "  warnings.warn(\n"
     ]
    },
    {
     "name": "stdout",
     "output_type": "stream",
     "text": [
      "R² Score: 0.734, RMSE: 2.676, MAE: 2.144\n",
      "\n",
      "Evaluating: changepoint_prior_scale=0.02, seasonality_prior_scale=6.1, seasonality_mode=multiplicative\n"
     ]
    },
    {
     "name": "stderr",
     "output_type": "stream",
     "text": [
      "10:42:45 - cmdstanpy - INFO - Chain [1] start processing\n",
      "10:42:45 - cmdstanpy - INFO - Chain [1] done processing\n",
      "c:\\Users\\natra\\AppData\\Local\\Programs\\Python\\Python310\\lib\\site-packages\\sklearn\\metrics\\_regression.py:492: FutureWarning: 'squared' is deprecated in version 1.4 and will be removed in 1.6. To calculate the root mean squared error, use the function'root_mean_squared_error'.\n",
      "  warnings.warn(\n",
      "10:42:46 - cmdstanpy - INFO - Chain [1] start processing\n",
      "10:42:46 - cmdstanpy - INFO - Chain [1] done processing\n",
      "c:\\Users\\natra\\AppData\\Local\\Programs\\Python\\Python310\\lib\\site-packages\\sklearn\\metrics\\_regression.py:492: FutureWarning: 'squared' is deprecated in version 1.4 and will be removed in 1.6. To calculate the root mean squared error, use the function'root_mean_squared_error'.\n",
      "  warnings.warn(\n",
      "10:42:46 - cmdstanpy - INFO - Chain [1] start processing\n",
      "10:42:46 - cmdstanpy - INFO - Chain [1] done processing\n",
      "c:\\Users\\natra\\AppData\\Local\\Programs\\Python\\Python310\\lib\\site-packages\\sklearn\\metrics\\_regression.py:492: FutureWarning: 'squared' is deprecated in version 1.4 and will be removed in 1.6. To calculate the root mean squared error, use the function'root_mean_squared_error'.\n",
      "  warnings.warn(\n",
      "10:42:47 - cmdstanpy - INFO - Chain [1] start processing\n",
      "10:42:47 - cmdstanpy - INFO - Chain [1] done processing\n",
      "c:\\Users\\natra\\AppData\\Local\\Programs\\Python\\Python310\\lib\\site-packages\\sklearn\\metrics\\_regression.py:492: FutureWarning: 'squared' is deprecated in version 1.4 and will be removed in 1.6. To calculate the root mean squared error, use the function'root_mean_squared_error'.\n",
      "  warnings.warn(\n",
      "10:42:47 - cmdstanpy - INFO - Chain [1] start processing\n",
      "10:42:47 - cmdstanpy - INFO - Chain [1] done processing\n",
      "c:\\Users\\natra\\AppData\\Local\\Programs\\Python\\Python310\\lib\\site-packages\\sklearn\\metrics\\_regression.py:492: FutureWarning: 'squared' is deprecated in version 1.4 and will be removed in 1.6. To calculate the root mean squared error, use the function'root_mean_squared_error'.\n",
      "  warnings.warn(\n"
     ]
    },
    {
     "name": "stdout",
     "output_type": "stream",
     "text": [
      "R² Score: 0.733, RMSE: 2.682, MAE: 2.146\n",
      "\n",
      "Evaluating: changepoint_prior_scale=0.02, seasonality_prior_scale=7.1, seasonality_mode=additive\n"
     ]
    },
    {
     "name": "stderr",
     "output_type": "stream",
     "text": [
      "10:42:48 - cmdstanpy - INFO - Chain [1] start processing\n",
      "10:42:48 - cmdstanpy - INFO - Chain [1] done processing\n",
      "c:\\Users\\natra\\AppData\\Local\\Programs\\Python\\Python310\\lib\\site-packages\\sklearn\\metrics\\_regression.py:492: FutureWarning: 'squared' is deprecated in version 1.4 and will be removed in 1.6. To calculate the root mean squared error, use the function'root_mean_squared_error'.\n",
      "  warnings.warn(\n",
      "10:42:49 - cmdstanpy - INFO - Chain [1] start processing\n",
      "10:42:49 - cmdstanpy - INFO - Chain [1] done processing\n",
      "c:\\Users\\natra\\AppData\\Local\\Programs\\Python\\Python310\\lib\\site-packages\\sklearn\\metrics\\_regression.py:492: FutureWarning: 'squared' is deprecated in version 1.4 and will be removed in 1.6. To calculate the root mean squared error, use the function'root_mean_squared_error'.\n",
      "  warnings.warn(\n",
      "10:42:49 - cmdstanpy - INFO - Chain [1] start processing\n",
      "10:42:49 - cmdstanpy - INFO - Chain [1] done processing\n",
      "c:\\Users\\natra\\AppData\\Local\\Programs\\Python\\Python310\\lib\\site-packages\\sklearn\\metrics\\_regression.py:492: FutureWarning: 'squared' is deprecated in version 1.4 and will be removed in 1.6. To calculate the root mean squared error, use the function'root_mean_squared_error'.\n",
      "  warnings.warn(\n",
      "10:42:50 - cmdstanpy - INFO - Chain [1] start processing\n",
      "10:42:50 - cmdstanpy - INFO - Chain [1] done processing\n",
      "c:\\Users\\natra\\AppData\\Local\\Programs\\Python\\Python310\\lib\\site-packages\\sklearn\\metrics\\_regression.py:492: FutureWarning: 'squared' is deprecated in version 1.4 and will be removed in 1.6. To calculate the root mean squared error, use the function'root_mean_squared_error'.\n",
      "  warnings.warn(\n",
      "10:42:50 - cmdstanpy - INFO - Chain [1] start processing\n",
      "10:42:50 - cmdstanpy - INFO - Chain [1] done processing\n",
      "c:\\Users\\natra\\AppData\\Local\\Programs\\Python\\Python310\\lib\\site-packages\\sklearn\\metrics\\_regression.py:492: FutureWarning: 'squared' is deprecated in version 1.4 and will be removed in 1.6. To calculate the root mean squared error, use the function'root_mean_squared_error'.\n",
      "  warnings.warn(\n"
     ]
    },
    {
     "name": "stdout",
     "output_type": "stream",
     "text": [
      "R² Score: 0.734, RMSE: 2.677, MAE: 2.145\n",
      "\n",
      "Evaluating: changepoint_prior_scale=0.02, seasonality_prior_scale=7.1, seasonality_mode=multiplicative\n"
     ]
    },
    {
     "name": "stderr",
     "output_type": "stream",
     "text": [
      "10:42:51 - cmdstanpy - INFO - Chain [1] start processing\n",
      "10:42:51 - cmdstanpy - INFO - Chain [1] done processing\n",
      "c:\\Users\\natra\\AppData\\Local\\Programs\\Python\\Python310\\lib\\site-packages\\sklearn\\metrics\\_regression.py:492: FutureWarning: 'squared' is deprecated in version 1.4 and will be removed in 1.6. To calculate the root mean squared error, use the function'root_mean_squared_error'.\n",
      "  warnings.warn(\n",
      "10:42:51 - cmdstanpy - INFO - Chain [1] start processing\n",
      "10:42:52 - cmdstanpy - INFO - Chain [1] done processing\n",
      "c:\\Users\\natra\\AppData\\Local\\Programs\\Python\\Python310\\lib\\site-packages\\sklearn\\metrics\\_regression.py:492: FutureWarning: 'squared' is deprecated in version 1.4 and will be removed in 1.6. To calculate the root mean squared error, use the function'root_mean_squared_error'.\n",
      "  warnings.warn(\n",
      "10:42:52 - cmdstanpy - INFO - Chain [1] start processing\n",
      "10:42:52 - cmdstanpy - INFO - Chain [1] done processing\n",
      "c:\\Users\\natra\\AppData\\Local\\Programs\\Python\\Python310\\lib\\site-packages\\sklearn\\metrics\\_regression.py:492: FutureWarning: 'squared' is deprecated in version 1.4 and will be removed in 1.6. To calculate the root mean squared error, use the function'root_mean_squared_error'.\n",
      "  warnings.warn(\n",
      "10:42:53 - cmdstanpy - INFO - Chain [1] start processing\n",
      "10:42:53 - cmdstanpy - INFO - Chain [1] done processing\n",
      "c:\\Users\\natra\\AppData\\Local\\Programs\\Python\\Python310\\lib\\site-packages\\sklearn\\metrics\\_regression.py:492: FutureWarning: 'squared' is deprecated in version 1.4 and will be removed in 1.6. To calculate the root mean squared error, use the function'root_mean_squared_error'.\n",
      "  warnings.warn(\n",
      "10:42:53 - cmdstanpy - INFO - Chain [1] start processing\n",
      "10:42:53 - cmdstanpy - INFO - Chain [1] done processing\n",
      "c:\\Users\\natra\\AppData\\Local\\Programs\\Python\\Python310\\lib\\site-packages\\sklearn\\metrics\\_regression.py:492: FutureWarning: 'squared' is deprecated in version 1.4 and will be removed in 1.6. To calculate the root mean squared error, use the function'root_mean_squared_error'.\n",
      "  warnings.warn(\n"
     ]
    },
    {
     "name": "stdout",
     "output_type": "stream",
     "text": [
      "R² Score: 0.733, RMSE: 2.681, MAE: 2.146\n",
      "\n",
      "Evaluating: changepoint_prior_scale=0.02, seasonality_prior_scale=8.1, seasonality_mode=additive\n"
     ]
    },
    {
     "name": "stderr",
     "output_type": "stream",
     "text": [
      "10:42:54 - cmdstanpy - INFO - Chain [1] start processing\n",
      "10:42:54 - cmdstanpy - INFO - Chain [1] done processing\n",
      "c:\\Users\\natra\\AppData\\Local\\Programs\\Python\\Python310\\lib\\site-packages\\sklearn\\metrics\\_regression.py:492: FutureWarning: 'squared' is deprecated in version 1.4 and will be removed in 1.6. To calculate the root mean squared error, use the function'root_mean_squared_error'.\n",
      "  warnings.warn(\n",
      "10:42:54 - cmdstanpy - INFO - Chain [1] start processing\n",
      "10:42:55 - cmdstanpy - INFO - Chain [1] done processing\n",
      "c:\\Users\\natra\\AppData\\Local\\Programs\\Python\\Python310\\lib\\site-packages\\sklearn\\metrics\\_regression.py:492: FutureWarning: 'squared' is deprecated in version 1.4 and will be removed in 1.6. To calculate the root mean squared error, use the function'root_mean_squared_error'.\n",
      "  warnings.warn(\n",
      "10:42:55 - cmdstanpy - INFO - Chain [1] start processing\n",
      "10:42:55 - cmdstanpy - INFO - Chain [1] done processing\n",
      "c:\\Users\\natra\\AppData\\Local\\Programs\\Python\\Python310\\lib\\site-packages\\sklearn\\metrics\\_regression.py:492: FutureWarning: 'squared' is deprecated in version 1.4 and will be removed in 1.6. To calculate the root mean squared error, use the function'root_mean_squared_error'.\n",
      "  warnings.warn(\n",
      "10:42:56 - cmdstanpy - INFO - Chain [1] start processing\n",
      "10:42:56 - cmdstanpy - INFO - Chain [1] done processing\n",
      "c:\\Users\\natra\\AppData\\Local\\Programs\\Python\\Python310\\lib\\site-packages\\sklearn\\metrics\\_regression.py:492: FutureWarning: 'squared' is deprecated in version 1.4 and will be removed in 1.6. To calculate the root mean squared error, use the function'root_mean_squared_error'.\n",
      "  warnings.warn(\n",
      "10:42:56 - cmdstanpy - INFO - Chain [1] start processing\n",
      "10:42:56 - cmdstanpy - INFO - Chain [1] done processing\n",
      "c:\\Users\\natra\\AppData\\Local\\Programs\\Python\\Python310\\lib\\site-packages\\sklearn\\metrics\\_regression.py:492: FutureWarning: 'squared' is deprecated in version 1.4 and will be removed in 1.6. To calculate the root mean squared error, use the function'root_mean_squared_error'.\n",
      "  warnings.warn(\n"
     ]
    },
    {
     "name": "stdout",
     "output_type": "stream",
     "text": [
      "R² Score: 0.734, RMSE: 2.677, MAE: 2.145\n",
      "\n",
      "Evaluating: changepoint_prior_scale=0.02, seasonality_prior_scale=8.1, seasonality_mode=multiplicative\n"
     ]
    },
    {
     "name": "stderr",
     "output_type": "stream",
     "text": [
      "10:42:57 - cmdstanpy - INFO - Chain [1] start processing\n",
      "10:42:57 - cmdstanpy - INFO - Chain [1] done processing\n",
      "c:\\Users\\natra\\AppData\\Local\\Programs\\Python\\Python310\\lib\\site-packages\\sklearn\\metrics\\_regression.py:492: FutureWarning: 'squared' is deprecated in version 1.4 and will be removed in 1.6. To calculate the root mean squared error, use the function'root_mean_squared_error'.\n",
      "  warnings.warn(\n",
      "10:42:57 - cmdstanpy - INFO - Chain [1] start processing\n",
      "10:42:57 - cmdstanpy - INFO - Chain [1] done processing\n",
      "c:\\Users\\natra\\AppData\\Local\\Programs\\Python\\Python310\\lib\\site-packages\\sklearn\\metrics\\_regression.py:492: FutureWarning: 'squared' is deprecated in version 1.4 and will be removed in 1.6. To calculate the root mean squared error, use the function'root_mean_squared_error'.\n",
      "  warnings.warn(\n",
      "10:42:58 - cmdstanpy - INFO - Chain [1] start processing\n",
      "10:42:58 - cmdstanpy - INFO - Chain [1] done processing\n",
      "c:\\Users\\natra\\AppData\\Local\\Programs\\Python\\Python310\\lib\\site-packages\\sklearn\\metrics\\_regression.py:492: FutureWarning: 'squared' is deprecated in version 1.4 and will be removed in 1.6. To calculate the root mean squared error, use the function'root_mean_squared_error'.\n",
      "  warnings.warn(\n",
      "10:42:58 - cmdstanpy - INFO - Chain [1] start processing\n",
      "10:42:58 - cmdstanpy - INFO - Chain [1] done processing\n",
      "c:\\Users\\natra\\AppData\\Local\\Programs\\Python\\Python310\\lib\\site-packages\\sklearn\\metrics\\_regression.py:492: FutureWarning: 'squared' is deprecated in version 1.4 and will be removed in 1.6. To calculate the root mean squared error, use the function'root_mean_squared_error'.\n",
      "  warnings.warn(\n",
      "10:42:59 - cmdstanpy - INFO - Chain [1] start processing\n",
      "10:42:59 - cmdstanpy - INFO - Chain [1] done processing\n",
      "c:\\Users\\natra\\AppData\\Local\\Programs\\Python\\Python310\\lib\\site-packages\\sklearn\\metrics\\_regression.py:492: FutureWarning: 'squared' is deprecated in version 1.4 and will be removed in 1.6. To calculate the root mean squared error, use the function'root_mean_squared_error'.\n",
      "  warnings.warn(\n"
     ]
    },
    {
     "name": "stdout",
     "output_type": "stream",
     "text": [
      "R² Score: 0.733, RMSE: 2.683, MAE: 2.146\n",
      "\n",
      "Evaluating: changepoint_prior_scale=0.02, seasonality_prior_scale=9.1, seasonality_mode=additive\n"
     ]
    },
    {
     "name": "stderr",
     "output_type": "stream",
     "text": [
      "10:43:00 - cmdstanpy - INFO - Chain [1] start processing\n",
      "10:43:00 - cmdstanpy - INFO - Chain [1] done processing\n",
      "c:\\Users\\natra\\AppData\\Local\\Programs\\Python\\Python310\\lib\\site-packages\\sklearn\\metrics\\_regression.py:492: FutureWarning: 'squared' is deprecated in version 1.4 and will be removed in 1.6. To calculate the root mean squared error, use the function'root_mean_squared_error'.\n",
      "  warnings.warn(\n",
      "10:43:00 - cmdstanpy - INFO - Chain [1] start processing\n",
      "10:43:00 - cmdstanpy - INFO - Chain [1] done processing\n",
      "c:\\Users\\natra\\AppData\\Local\\Programs\\Python\\Python310\\lib\\site-packages\\sklearn\\metrics\\_regression.py:492: FutureWarning: 'squared' is deprecated in version 1.4 and will be removed in 1.6. To calculate the root mean squared error, use the function'root_mean_squared_error'.\n",
      "  warnings.warn(\n",
      "10:43:01 - cmdstanpy - INFO - Chain [1] start processing\n",
      "10:43:01 - cmdstanpy - INFO - Chain [1] done processing\n",
      "c:\\Users\\natra\\AppData\\Local\\Programs\\Python\\Python310\\lib\\site-packages\\sklearn\\metrics\\_regression.py:492: FutureWarning: 'squared' is deprecated in version 1.4 and will be removed in 1.6. To calculate the root mean squared error, use the function'root_mean_squared_error'.\n",
      "  warnings.warn(\n",
      "10:43:01 - cmdstanpy - INFO - Chain [1] start processing\n",
      "10:43:01 - cmdstanpy - INFO - Chain [1] done processing\n",
      "c:\\Users\\natra\\AppData\\Local\\Programs\\Python\\Python310\\lib\\site-packages\\sklearn\\metrics\\_regression.py:492: FutureWarning: 'squared' is deprecated in version 1.4 and will be removed in 1.6. To calculate the root mean squared error, use the function'root_mean_squared_error'.\n",
      "  warnings.warn(\n",
      "10:43:02 - cmdstanpy - INFO - Chain [1] start processing\n",
      "10:43:02 - cmdstanpy - INFO - Chain [1] done processing\n",
      "c:\\Users\\natra\\AppData\\Local\\Programs\\Python\\Python310\\lib\\site-packages\\sklearn\\metrics\\_regression.py:492: FutureWarning: 'squared' is deprecated in version 1.4 and will be removed in 1.6. To calculate the root mean squared error, use the function'root_mean_squared_error'.\n",
      "  warnings.warn(\n"
     ]
    },
    {
     "name": "stdout",
     "output_type": "stream",
     "text": [
      "R² Score: 0.734, RMSE: 2.677, MAE: 2.145\n",
      "\n",
      "Evaluating: changepoint_prior_scale=0.02, seasonality_prior_scale=9.1, seasonality_mode=multiplicative\n"
     ]
    },
    {
     "name": "stderr",
     "output_type": "stream",
     "text": [
      "10:43:03 - cmdstanpy - INFO - Chain [1] start processing\n",
      "10:43:03 - cmdstanpy - INFO - Chain [1] done processing\n",
      "c:\\Users\\natra\\AppData\\Local\\Programs\\Python\\Python310\\lib\\site-packages\\sklearn\\metrics\\_regression.py:492: FutureWarning: 'squared' is deprecated in version 1.4 and will be removed in 1.6. To calculate the root mean squared error, use the function'root_mean_squared_error'.\n",
      "  warnings.warn(\n",
      "10:43:03 - cmdstanpy - INFO - Chain [1] start processing\n",
      "10:43:03 - cmdstanpy - INFO - Chain [1] done processing\n",
      "c:\\Users\\natra\\AppData\\Local\\Programs\\Python\\Python310\\lib\\site-packages\\sklearn\\metrics\\_regression.py:492: FutureWarning: 'squared' is deprecated in version 1.4 and will be removed in 1.6. To calculate the root mean squared error, use the function'root_mean_squared_error'.\n",
      "  warnings.warn(\n",
      "10:43:04 - cmdstanpy - INFO - Chain [1] start processing\n",
      "10:43:04 - cmdstanpy - INFO - Chain [1] done processing\n",
      "c:\\Users\\natra\\AppData\\Local\\Programs\\Python\\Python310\\lib\\site-packages\\sklearn\\metrics\\_regression.py:492: FutureWarning: 'squared' is deprecated in version 1.4 and will be removed in 1.6. To calculate the root mean squared error, use the function'root_mean_squared_error'.\n",
      "  warnings.warn(\n",
      "10:43:04 - cmdstanpy - INFO - Chain [1] start processing\n",
      "10:43:04 - cmdstanpy - INFO - Chain [1] done processing\n",
      "c:\\Users\\natra\\AppData\\Local\\Programs\\Python\\Python310\\lib\\site-packages\\sklearn\\metrics\\_regression.py:492: FutureWarning: 'squared' is deprecated in version 1.4 and will be removed in 1.6. To calculate the root mean squared error, use the function'root_mean_squared_error'.\n",
      "  warnings.warn(\n",
      "10:43:05 - cmdstanpy - INFO - Chain [1] start processing\n",
      "10:43:05 - cmdstanpy - INFO - Chain [1] done processing\n",
      "c:\\Users\\natra\\AppData\\Local\\Programs\\Python\\Python310\\lib\\site-packages\\sklearn\\metrics\\_regression.py:492: FutureWarning: 'squared' is deprecated in version 1.4 and will be removed in 1.6. To calculate the root mean squared error, use the function'root_mean_squared_error'.\n",
      "  warnings.warn(\n"
     ]
    },
    {
     "name": "stdout",
     "output_type": "stream",
     "text": [
      "R² Score: 0.732, RMSE: 2.686, MAE: 2.148\n",
      "\n",
      "Evaluating: changepoint_prior_scale=0.02, seasonality_prior_scale=10.1, seasonality_mode=additive\n"
     ]
    },
    {
     "name": "stderr",
     "output_type": "stream",
     "text": [
      "10:43:05 - cmdstanpy - INFO - Chain [1] start processing\n",
      "10:43:05 - cmdstanpy - INFO - Chain [1] done processing\n",
      "c:\\Users\\natra\\AppData\\Local\\Programs\\Python\\Python310\\lib\\site-packages\\sklearn\\metrics\\_regression.py:492: FutureWarning: 'squared' is deprecated in version 1.4 and will be removed in 1.6. To calculate the root mean squared error, use the function'root_mean_squared_error'.\n",
      "  warnings.warn(\n",
      "10:43:06 - cmdstanpy - INFO - Chain [1] start processing\n",
      "10:43:06 - cmdstanpy - INFO - Chain [1] done processing\n",
      "c:\\Users\\natra\\AppData\\Local\\Programs\\Python\\Python310\\lib\\site-packages\\sklearn\\metrics\\_regression.py:492: FutureWarning: 'squared' is deprecated in version 1.4 and will be removed in 1.6. To calculate the root mean squared error, use the function'root_mean_squared_error'.\n",
      "  warnings.warn(\n",
      "10:43:06 - cmdstanpy - INFO - Chain [1] start processing\n",
      "10:43:07 - cmdstanpy - INFO - Chain [1] done processing\n",
      "c:\\Users\\natra\\AppData\\Local\\Programs\\Python\\Python310\\lib\\site-packages\\sklearn\\metrics\\_regression.py:492: FutureWarning: 'squared' is deprecated in version 1.4 and will be removed in 1.6. To calculate the root mean squared error, use the function'root_mean_squared_error'.\n",
      "  warnings.warn(\n",
      "10:43:07 - cmdstanpy - INFO - Chain [1] start processing\n",
      "10:43:07 - cmdstanpy - INFO - Chain [1] done processing\n",
      "c:\\Users\\natra\\AppData\\Local\\Programs\\Python\\Python310\\lib\\site-packages\\sklearn\\metrics\\_regression.py:492: FutureWarning: 'squared' is deprecated in version 1.4 and will be removed in 1.6. To calculate the root mean squared error, use the function'root_mean_squared_error'.\n",
      "  warnings.warn(\n",
      "10:43:08 - cmdstanpy - INFO - Chain [1] start processing\n",
      "10:43:08 - cmdstanpy - INFO - Chain [1] done processing\n",
      "c:\\Users\\natra\\AppData\\Local\\Programs\\Python\\Python310\\lib\\site-packages\\sklearn\\metrics\\_regression.py:492: FutureWarning: 'squared' is deprecated in version 1.4 and will be removed in 1.6. To calculate the root mean squared error, use the function'root_mean_squared_error'.\n",
      "  warnings.warn(\n"
     ]
    },
    {
     "name": "stdout",
     "output_type": "stream",
     "text": [
      "R² Score: 0.734, RMSE: 2.676, MAE: 2.144\n",
      "\n",
      "Evaluating: changepoint_prior_scale=0.02, seasonality_prior_scale=10.1, seasonality_mode=multiplicative\n"
     ]
    },
    {
     "name": "stderr",
     "output_type": "stream",
     "text": [
      "10:43:08 - cmdstanpy - INFO - Chain [1] start processing\n",
      "10:43:09 - cmdstanpy - INFO - Chain [1] done processing\n",
      "c:\\Users\\natra\\AppData\\Local\\Programs\\Python\\Python310\\lib\\site-packages\\sklearn\\metrics\\_regression.py:492: FutureWarning: 'squared' is deprecated in version 1.4 and will be removed in 1.6. To calculate the root mean squared error, use the function'root_mean_squared_error'.\n",
      "  warnings.warn(\n",
      "10:43:09 - cmdstanpy - INFO - Chain [1] start processing\n",
      "10:43:09 - cmdstanpy - INFO - Chain [1] done processing\n",
      "c:\\Users\\natra\\AppData\\Local\\Programs\\Python\\Python310\\lib\\site-packages\\sklearn\\metrics\\_regression.py:492: FutureWarning: 'squared' is deprecated in version 1.4 and will be removed in 1.6. To calculate the root mean squared error, use the function'root_mean_squared_error'.\n",
      "  warnings.warn(\n",
      "10:43:10 - cmdstanpy - INFO - Chain [1] start processing\n",
      "10:43:10 - cmdstanpy - INFO - Chain [1] done processing\n",
      "c:\\Users\\natra\\AppData\\Local\\Programs\\Python\\Python310\\lib\\site-packages\\sklearn\\metrics\\_regression.py:492: FutureWarning: 'squared' is deprecated in version 1.4 and will be removed in 1.6. To calculate the root mean squared error, use the function'root_mean_squared_error'.\n",
      "  warnings.warn(\n",
      "10:43:10 - cmdstanpy - INFO - Chain [1] start processing\n",
      "10:43:10 - cmdstanpy - INFO - Chain [1] done processing\n",
      "c:\\Users\\natra\\AppData\\Local\\Programs\\Python\\Python310\\lib\\site-packages\\sklearn\\metrics\\_regression.py:492: FutureWarning: 'squared' is deprecated in version 1.4 and will be removed in 1.6. To calculate the root mean squared error, use the function'root_mean_squared_error'.\n",
      "  warnings.warn(\n",
      "10:43:11 - cmdstanpy - INFO - Chain [1] start processing\n",
      "10:43:11 - cmdstanpy - INFO - Chain [1] done processing\n",
      "c:\\Users\\natra\\AppData\\Local\\Programs\\Python\\Python310\\lib\\site-packages\\sklearn\\metrics\\_regression.py:492: FutureWarning: 'squared' is deprecated in version 1.4 and will be removed in 1.6. To calculate the root mean squared error, use the function'root_mean_squared_error'.\n",
      "  warnings.warn(\n"
     ]
    },
    {
     "name": "stdout",
     "output_type": "stream",
     "text": [
      "R² Score: 0.732, RMSE: 2.686, MAE: 2.148\n",
      "\n",
      "Evaluating: changepoint_prior_scale=0.03, seasonality_prior_scale=0.1, seasonality_mode=additive\n"
     ]
    },
    {
     "name": "stderr",
     "output_type": "stream",
     "text": [
      "10:43:12 - cmdstanpy - INFO - Chain [1] start processing\n",
      "10:43:12 - cmdstanpy - INFO - Chain [1] done processing\n",
      "c:\\Users\\natra\\AppData\\Local\\Programs\\Python\\Python310\\lib\\site-packages\\sklearn\\metrics\\_regression.py:492: FutureWarning: 'squared' is deprecated in version 1.4 and will be removed in 1.6. To calculate the root mean squared error, use the function'root_mean_squared_error'.\n",
      "  warnings.warn(\n",
      "10:43:12 - cmdstanpy - INFO - Chain [1] start processing\n",
      "10:43:12 - cmdstanpy - INFO - Chain [1] done processing\n",
      "c:\\Users\\natra\\AppData\\Local\\Programs\\Python\\Python310\\lib\\site-packages\\sklearn\\metrics\\_regression.py:492: FutureWarning: 'squared' is deprecated in version 1.4 and will be removed in 1.6. To calculate the root mean squared error, use the function'root_mean_squared_error'.\n",
      "  warnings.warn(\n",
      "10:43:13 - cmdstanpy - INFO - Chain [1] start processing\n",
      "10:43:13 - cmdstanpy - INFO - Chain [1] done processing\n",
      "c:\\Users\\natra\\AppData\\Local\\Programs\\Python\\Python310\\lib\\site-packages\\sklearn\\metrics\\_regression.py:492: FutureWarning: 'squared' is deprecated in version 1.4 and will be removed in 1.6. To calculate the root mean squared error, use the function'root_mean_squared_error'.\n",
      "  warnings.warn(\n",
      "10:43:14 - cmdstanpy - INFO - Chain [1] start processing\n",
      "10:43:14 - cmdstanpy - INFO - Chain [1] done processing\n",
      "c:\\Users\\natra\\AppData\\Local\\Programs\\Python\\Python310\\lib\\site-packages\\sklearn\\metrics\\_regression.py:492: FutureWarning: 'squared' is deprecated in version 1.4 and will be removed in 1.6. To calculate the root mean squared error, use the function'root_mean_squared_error'.\n",
      "  warnings.warn(\n",
      "10:43:14 - cmdstanpy - INFO - Chain [1] start processing\n",
      "10:43:14 - cmdstanpy - INFO - Chain [1] done processing\n",
      "c:\\Users\\natra\\AppData\\Local\\Programs\\Python\\Python310\\lib\\site-packages\\sklearn\\metrics\\_regression.py:492: FutureWarning: 'squared' is deprecated in version 1.4 and will be removed in 1.6. To calculate the root mean squared error, use the function'root_mean_squared_error'.\n",
      "  warnings.warn(\n"
     ]
    },
    {
     "name": "stdout",
     "output_type": "stream",
     "text": [
      "R² Score: 0.731, RMSE: 2.689, MAE: 2.152\n",
      "\n",
      "Evaluating: changepoint_prior_scale=0.03, seasonality_prior_scale=0.1, seasonality_mode=multiplicative\n"
     ]
    },
    {
     "name": "stderr",
     "output_type": "stream",
     "text": [
      "10:43:15 - cmdstanpy - INFO - Chain [1] start processing\n",
      "10:43:15 - cmdstanpy - INFO - Chain [1] done processing\n",
      "c:\\Users\\natra\\AppData\\Local\\Programs\\Python\\Python310\\lib\\site-packages\\sklearn\\metrics\\_regression.py:492: FutureWarning: 'squared' is deprecated in version 1.4 and will be removed in 1.6. To calculate the root mean squared error, use the function'root_mean_squared_error'.\n",
      "  warnings.warn(\n",
      "10:43:16 - cmdstanpy - INFO - Chain [1] start processing\n",
      "10:43:16 - cmdstanpy - INFO - Chain [1] done processing\n",
      "c:\\Users\\natra\\AppData\\Local\\Programs\\Python\\Python310\\lib\\site-packages\\sklearn\\metrics\\_regression.py:492: FutureWarning: 'squared' is deprecated in version 1.4 and will be removed in 1.6. To calculate the root mean squared error, use the function'root_mean_squared_error'.\n",
      "  warnings.warn(\n",
      "10:43:16 - cmdstanpy - INFO - Chain [1] start processing\n",
      "10:43:16 - cmdstanpy - INFO - Chain [1] done processing\n",
      "c:\\Users\\natra\\AppData\\Local\\Programs\\Python\\Python310\\lib\\site-packages\\sklearn\\metrics\\_regression.py:492: FutureWarning: 'squared' is deprecated in version 1.4 and will be removed in 1.6. To calculate the root mean squared error, use the function'root_mean_squared_error'.\n",
      "  warnings.warn(\n",
      "10:43:17 - cmdstanpy - INFO - Chain [1] start processing\n",
      "10:43:17 - cmdstanpy - INFO - Chain [1] done processing\n",
      "c:\\Users\\natra\\AppData\\Local\\Programs\\Python\\Python310\\lib\\site-packages\\sklearn\\metrics\\_regression.py:492: FutureWarning: 'squared' is deprecated in version 1.4 and will be removed in 1.6. To calculate the root mean squared error, use the function'root_mean_squared_error'.\n",
      "  warnings.warn(\n",
      "10:43:18 - cmdstanpy - INFO - Chain [1] start processing\n",
      "10:43:18 - cmdstanpy - INFO - Chain [1] done processing\n",
      "c:\\Users\\natra\\AppData\\Local\\Programs\\Python\\Python310\\lib\\site-packages\\sklearn\\metrics\\_regression.py:492: FutureWarning: 'squared' is deprecated in version 1.4 and will be removed in 1.6. To calculate the root mean squared error, use the function'root_mean_squared_error'.\n",
      "  warnings.warn(\n"
     ]
    },
    {
     "name": "stdout",
     "output_type": "stream",
     "text": [
      "R² Score: 0.728, RMSE: 2.703, MAE: 2.163\n",
      "\n",
      "Evaluating: changepoint_prior_scale=0.03, seasonality_prior_scale=1.1, seasonality_mode=additive\n"
     ]
    },
    {
     "name": "stderr",
     "output_type": "stream",
     "text": [
      "10:43:18 - cmdstanpy - INFO - Chain [1] start processing\n",
      "10:43:18 - cmdstanpy - INFO - Chain [1] done processing\n",
      "c:\\Users\\natra\\AppData\\Local\\Programs\\Python\\Python310\\lib\\site-packages\\sklearn\\metrics\\_regression.py:492: FutureWarning: 'squared' is deprecated in version 1.4 and will be removed in 1.6. To calculate the root mean squared error, use the function'root_mean_squared_error'.\n",
      "  warnings.warn(\n",
      "10:43:19 - cmdstanpy - INFO - Chain [1] start processing\n",
      "10:43:19 - cmdstanpy - INFO - Chain [1] done processing\n",
      "c:\\Users\\natra\\AppData\\Local\\Programs\\Python\\Python310\\lib\\site-packages\\sklearn\\metrics\\_regression.py:492: FutureWarning: 'squared' is deprecated in version 1.4 and will be removed in 1.6. To calculate the root mean squared error, use the function'root_mean_squared_error'.\n",
      "  warnings.warn(\n",
      "10:43:19 - cmdstanpy - INFO - Chain [1] start processing\n",
      "10:43:19 - cmdstanpy - INFO - Chain [1] done processing\n",
      "c:\\Users\\natra\\AppData\\Local\\Programs\\Python\\Python310\\lib\\site-packages\\sklearn\\metrics\\_regression.py:492: FutureWarning: 'squared' is deprecated in version 1.4 and will be removed in 1.6. To calculate the root mean squared error, use the function'root_mean_squared_error'.\n",
      "  warnings.warn(\n",
      "10:43:20 - cmdstanpy - INFO - Chain [1] start processing\n",
      "10:43:20 - cmdstanpy - INFO - Chain [1] done processing\n",
      "c:\\Users\\natra\\AppData\\Local\\Programs\\Python\\Python310\\lib\\site-packages\\sklearn\\metrics\\_regression.py:492: FutureWarning: 'squared' is deprecated in version 1.4 and will be removed in 1.6. To calculate the root mean squared error, use the function'root_mean_squared_error'.\n",
      "  warnings.warn(\n",
      "10:43:20 - cmdstanpy - INFO - Chain [1] start processing\n",
      "10:43:21 - cmdstanpy - INFO - Chain [1] done processing\n",
      "c:\\Users\\natra\\AppData\\Local\\Programs\\Python\\Python310\\lib\\site-packages\\sklearn\\metrics\\_regression.py:492: FutureWarning: 'squared' is deprecated in version 1.4 and will be removed in 1.6. To calculate the root mean squared error, use the function'root_mean_squared_error'.\n",
      "  warnings.warn(\n"
     ]
    },
    {
     "name": "stdout",
     "output_type": "stream",
     "text": [
      "R² Score: 0.732, RMSE: 2.687, MAE: 2.151\n",
      "\n",
      "Evaluating: changepoint_prior_scale=0.03, seasonality_prior_scale=1.1, seasonality_mode=multiplicative\n"
     ]
    },
    {
     "name": "stderr",
     "output_type": "stream",
     "text": [
      "10:43:21 - cmdstanpy - INFO - Chain [1] start processing\n",
      "10:43:21 - cmdstanpy - INFO - Chain [1] done processing\n",
      "c:\\Users\\natra\\AppData\\Local\\Programs\\Python\\Python310\\lib\\site-packages\\sklearn\\metrics\\_regression.py:492: FutureWarning: 'squared' is deprecated in version 1.4 and will be removed in 1.6. To calculate the root mean squared error, use the function'root_mean_squared_error'.\n",
      "  warnings.warn(\n",
      "10:43:22 - cmdstanpy - INFO - Chain [1] start processing\n",
      "10:43:22 - cmdstanpy - INFO - Chain [1] done processing\n",
      "c:\\Users\\natra\\AppData\\Local\\Programs\\Python\\Python310\\lib\\site-packages\\sklearn\\metrics\\_regression.py:492: FutureWarning: 'squared' is deprecated in version 1.4 and will be removed in 1.6. To calculate the root mean squared error, use the function'root_mean_squared_error'.\n",
      "  warnings.warn(\n",
      "10:43:22 - cmdstanpy - INFO - Chain [1] start processing\n",
      "10:43:22 - cmdstanpy - INFO - Chain [1] done processing\n",
      "c:\\Users\\natra\\AppData\\Local\\Programs\\Python\\Python310\\lib\\site-packages\\sklearn\\metrics\\_regression.py:492: FutureWarning: 'squared' is deprecated in version 1.4 and will be removed in 1.6. To calculate the root mean squared error, use the function'root_mean_squared_error'.\n",
      "  warnings.warn(\n",
      "10:43:23 - cmdstanpy - INFO - Chain [1] start processing\n",
      "10:43:23 - cmdstanpy - INFO - Chain [1] done processing\n",
      "c:\\Users\\natra\\AppData\\Local\\Programs\\Python\\Python310\\lib\\site-packages\\sklearn\\metrics\\_regression.py:492: FutureWarning: 'squared' is deprecated in version 1.4 and will be removed in 1.6. To calculate the root mean squared error, use the function'root_mean_squared_error'.\n",
      "  warnings.warn(\n",
      "10:43:23 - cmdstanpy - INFO - Chain [1] start processing\n",
      "10:43:23 - cmdstanpy - INFO - Chain [1] done processing\n",
      "c:\\Users\\natra\\AppData\\Local\\Programs\\Python\\Python310\\lib\\site-packages\\sklearn\\metrics\\_regression.py:492: FutureWarning: 'squared' is deprecated in version 1.4 and will be removed in 1.6. To calculate the root mean squared error, use the function'root_mean_squared_error'.\n",
      "  warnings.warn(\n"
     ]
    },
    {
     "name": "stdout",
     "output_type": "stream",
     "text": [
      "R² Score: 0.729, RMSE: 2.702, MAE: 2.162\n",
      "\n",
      "Evaluating: changepoint_prior_scale=0.03, seasonality_prior_scale=2.1, seasonality_mode=additive\n"
     ]
    },
    {
     "name": "stderr",
     "output_type": "stream",
     "text": [
      "10:43:24 - cmdstanpy - INFO - Chain [1] start processing\n",
      "10:43:24 - cmdstanpy - INFO - Chain [1] done processing\n",
      "c:\\Users\\natra\\AppData\\Local\\Programs\\Python\\Python310\\lib\\site-packages\\sklearn\\metrics\\_regression.py:492: FutureWarning: 'squared' is deprecated in version 1.4 and will be removed in 1.6. To calculate the root mean squared error, use the function'root_mean_squared_error'.\n",
      "  warnings.warn(\n",
      "10:43:24 - cmdstanpy - INFO - Chain [1] start processing\n",
      "10:43:25 - cmdstanpy - INFO - Chain [1] done processing\n",
      "c:\\Users\\natra\\AppData\\Local\\Programs\\Python\\Python310\\lib\\site-packages\\sklearn\\metrics\\_regression.py:492: FutureWarning: 'squared' is deprecated in version 1.4 and will be removed in 1.6. To calculate the root mean squared error, use the function'root_mean_squared_error'.\n",
      "  warnings.warn(\n",
      "10:43:25 - cmdstanpy - INFO - Chain [1] start processing\n",
      "10:43:25 - cmdstanpy - INFO - Chain [1] done processing\n",
      "c:\\Users\\natra\\AppData\\Local\\Programs\\Python\\Python310\\lib\\site-packages\\sklearn\\metrics\\_regression.py:492: FutureWarning: 'squared' is deprecated in version 1.4 and will be removed in 1.6. To calculate the root mean squared error, use the function'root_mean_squared_error'.\n",
      "  warnings.warn(\n",
      "10:43:26 - cmdstanpy - INFO - Chain [1] start processing\n",
      "10:43:26 - cmdstanpy - INFO - Chain [1] done processing\n",
      "c:\\Users\\natra\\AppData\\Local\\Programs\\Python\\Python310\\lib\\site-packages\\sklearn\\metrics\\_regression.py:492: FutureWarning: 'squared' is deprecated in version 1.4 and will be removed in 1.6. To calculate the root mean squared error, use the function'root_mean_squared_error'.\n",
      "  warnings.warn(\n",
      "10:43:26 - cmdstanpy - INFO - Chain [1] start processing\n",
      "10:43:26 - cmdstanpy - INFO - Chain [1] done processing\n",
      "c:\\Users\\natra\\AppData\\Local\\Programs\\Python\\Python310\\lib\\site-packages\\sklearn\\metrics\\_regression.py:492: FutureWarning: 'squared' is deprecated in version 1.4 and will be removed in 1.6. To calculate the root mean squared error, use the function'root_mean_squared_error'.\n",
      "  warnings.warn(\n"
     ]
    },
    {
     "name": "stdout",
     "output_type": "stream",
     "text": [
      "R² Score: 0.732, RMSE: 2.687, MAE: 2.150\n",
      "\n",
      "Evaluating: changepoint_prior_scale=0.03, seasonality_prior_scale=2.1, seasonality_mode=multiplicative\n"
     ]
    },
    {
     "name": "stderr",
     "output_type": "stream",
     "text": [
      "10:43:27 - cmdstanpy - INFO - Chain [1] start processing\n",
      "10:43:27 - cmdstanpy - INFO - Chain [1] done processing\n",
      "c:\\Users\\natra\\AppData\\Local\\Programs\\Python\\Python310\\lib\\site-packages\\sklearn\\metrics\\_regression.py:492: FutureWarning: 'squared' is deprecated in version 1.4 and will be removed in 1.6. To calculate the root mean squared error, use the function'root_mean_squared_error'.\n",
      "  warnings.warn(\n",
      "10:43:27 - cmdstanpy - INFO - Chain [1] start processing\n",
      "10:43:27 - cmdstanpy - INFO - Chain [1] done processing\n",
      "c:\\Users\\natra\\AppData\\Local\\Programs\\Python\\Python310\\lib\\site-packages\\sklearn\\metrics\\_regression.py:492: FutureWarning: 'squared' is deprecated in version 1.4 and will be removed in 1.6. To calculate the root mean squared error, use the function'root_mean_squared_error'.\n",
      "  warnings.warn(\n",
      "10:43:28 - cmdstanpy - INFO - Chain [1] start processing\n",
      "10:43:28 - cmdstanpy - INFO - Chain [1] done processing\n",
      "c:\\Users\\natra\\AppData\\Local\\Programs\\Python\\Python310\\lib\\site-packages\\sklearn\\metrics\\_regression.py:492: FutureWarning: 'squared' is deprecated in version 1.4 and will be removed in 1.6. To calculate the root mean squared error, use the function'root_mean_squared_error'.\n",
      "  warnings.warn(\n",
      "10:43:29 - cmdstanpy - INFO - Chain [1] start processing\n",
      "10:43:29 - cmdstanpy - INFO - Chain [1] done processing\n",
      "c:\\Users\\natra\\AppData\\Local\\Programs\\Python\\Python310\\lib\\site-packages\\sklearn\\metrics\\_regression.py:492: FutureWarning: 'squared' is deprecated in version 1.4 and will be removed in 1.6. To calculate the root mean squared error, use the function'root_mean_squared_error'.\n",
      "  warnings.warn(\n",
      "10:43:29 - cmdstanpy - INFO - Chain [1] start processing\n",
      "10:43:29 - cmdstanpy - INFO - Chain [1] done processing\n",
      "c:\\Users\\natra\\AppData\\Local\\Programs\\Python\\Python310\\lib\\site-packages\\sklearn\\metrics\\_regression.py:492: FutureWarning: 'squared' is deprecated in version 1.4 and will be removed in 1.6. To calculate the root mean squared error, use the function'root_mean_squared_error'.\n",
      "  warnings.warn(\n"
     ]
    },
    {
     "name": "stdout",
     "output_type": "stream",
     "text": [
      "R² Score: 0.729, RMSE: 2.699, MAE: 2.160\n",
      "\n",
      "Evaluating: changepoint_prior_scale=0.03, seasonality_prior_scale=3.1, seasonality_mode=additive\n"
     ]
    },
    {
     "name": "stderr",
     "output_type": "stream",
     "text": [
      "10:43:30 - cmdstanpy - INFO - Chain [1] start processing\n",
      "10:43:30 - cmdstanpy - INFO - Chain [1] done processing\n",
      "c:\\Users\\natra\\AppData\\Local\\Programs\\Python\\Python310\\lib\\site-packages\\sklearn\\metrics\\_regression.py:492: FutureWarning: 'squared' is deprecated in version 1.4 and will be removed in 1.6. To calculate the root mean squared error, use the function'root_mean_squared_error'.\n",
      "  warnings.warn(\n",
      "10:43:30 - cmdstanpy - INFO - Chain [1] start processing\n",
      "10:43:31 - cmdstanpy - INFO - Chain [1] done processing\n",
      "c:\\Users\\natra\\AppData\\Local\\Programs\\Python\\Python310\\lib\\site-packages\\sklearn\\metrics\\_regression.py:492: FutureWarning: 'squared' is deprecated in version 1.4 and will be removed in 1.6. To calculate the root mean squared error, use the function'root_mean_squared_error'.\n",
      "  warnings.warn(\n",
      "10:43:31 - cmdstanpy - INFO - Chain [1] start processing\n",
      "10:43:31 - cmdstanpy - INFO - Chain [1] done processing\n",
      "c:\\Users\\natra\\AppData\\Local\\Programs\\Python\\Python310\\lib\\site-packages\\sklearn\\metrics\\_regression.py:492: FutureWarning: 'squared' is deprecated in version 1.4 and will be removed in 1.6. To calculate the root mean squared error, use the function'root_mean_squared_error'.\n",
      "  warnings.warn(\n",
      "10:43:32 - cmdstanpy - INFO - Chain [1] start processing\n",
      "10:43:32 - cmdstanpy - INFO - Chain [1] done processing\n",
      "c:\\Users\\natra\\AppData\\Local\\Programs\\Python\\Python310\\lib\\site-packages\\sklearn\\metrics\\_regression.py:492: FutureWarning: 'squared' is deprecated in version 1.4 and will be removed in 1.6. To calculate the root mean squared error, use the function'root_mean_squared_error'.\n",
      "  warnings.warn(\n",
      "10:43:32 - cmdstanpy - INFO - Chain [1] start processing\n",
      "10:43:32 - cmdstanpy - INFO - Chain [1] done processing\n",
      "c:\\Users\\natra\\AppData\\Local\\Programs\\Python\\Python310\\lib\\site-packages\\sklearn\\metrics\\_regression.py:492: FutureWarning: 'squared' is deprecated in version 1.4 and will be removed in 1.6. To calculate the root mean squared error, use the function'root_mean_squared_error'.\n",
      "  warnings.warn(\n"
     ]
    },
    {
     "name": "stdout",
     "output_type": "stream",
     "text": [
      "R² Score: 0.731, RMSE: 2.689, MAE: 2.152\n",
      "\n",
      "Evaluating: changepoint_prior_scale=0.03, seasonality_prior_scale=3.1, seasonality_mode=multiplicative\n"
     ]
    },
    {
     "name": "stderr",
     "output_type": "stream",
     "text": [
      "10:43:33 - cmdstanpy - INFO - Chain [1] start processing\n",
      "10:43:33 - cmdstanpy - INFO - Chain [1] done processing\n",
      "c:\\Users\\natra\\AppData\\Local\\Programs\\Python\\Python310\\lib\\site-packages\\sklearn\\metrics\\_regression.py:492: FutureWarning: 'squared' is deprecated in version 1.4 and will be removed in 1.6. To calculate the root mean squared error, use the function'root_mean_squared_error'.\n",
      "  warnings.warn(\n",
      "10:43:33 - cmdstanpy - INFO - Chain [1] start processing\n",
      "10:43:33 - cmdstanpy - INFO - Chain [1] done processing\n",
      "c:\\Users\\natra\\AppData\\Local\\Programs\\Python\\Python310\\lib\\site-packages\\sklearn\\metrics\\_regression.py:492: FutureWarning: 'squared' is deprecated in version 1.4 and will be removed in 1.6. To calculate the root mean squared error, use the function'root_mean_squared_error'.\n",
      "  warnings.warn(\n",
      "10:43:34 - cmdstanpy - INFO - Chain [1] start processing\n",
      "10:43:34 - cmdstanpy - INFO - Chain [1] done processing\n",
      "c:\\Users\\natra\\AppData\\Local\\Programs\\Python\\Python310\\lib\\site-packages\\sklearn\\metrics\\_regression.py:492: FutureWarning: 'squared' is deprecated in version 1.4 and will be removed in 1.6. To calculate the root mean squared error, use the function'root_mean_squared_error'.\n",
      "  warnings.warn(\n",
      "10:43:34 - cmdstanpy - INFO - Chain [1] start processing\n",
      "10:43:35 - cmdstanpy - INFO - Chain [1] done processing\n",
      "c:\\Users\\natra\\AppData\\Local\\Programs\\Python\\Python310\\lib\\site-packages\\sklearn\\metrics\\_regression.py:492: FutureWarning: 'squared' is deprecated in version 1.4 and will be removed in 1.6. To calculate the root mean squared error, use the function'root_mean_squared_error'.\n",
      "  warnings.warn(\n",
      "10:43:35 - cmdstanpy - INFO - Chain [1] start processing\n",
      "10:43:35 - cmdstanpy - INFO - Chain [1] done processing\n",
      "c:\\Users\\natra\\AppData\\Local\\Programs\\Python\\Python310\\lib\\site-packages\\sklearn\\metrics\\_regression.py:492: FutureWarning: 'squared' is deprecated in version 1.4 and will be removed in 1.6. To calculate the root mean squared error, use the function'root_mean_squared_error'.\n",
      "  warnings.warn(\n"
     ]
    },
    {
     "name": "stdout",
     "output_type": "stream",
     "text": [
      "R² Score: 0.729, RMSE: 2.702, MAE: 2.162\n",
      "\n",
      "Evaluating: changepoint_prior_scale=0.03, seasonality_prior_scale=4.1, seasonality_mode=additive\n"
     ]
    },
    {
     "name": "stderr",
     "output_type": "stream",
     "text": [
      "10:43:36 - cmdstanpy - INFO - Chain [1] start processing\n",
      "10:43:36 - cmdstanpy - INFO - Chain [1] done processing\n",
      "c:\\Users\\natra\\AppData\\Local\\Programs\\Python\\Python310\\lib\\site-packages\\sklearn\\metrics\\_regression.py:492: FutureWarning: 'squared' is deprecated in version 1.4 and will be removed in 1.6. To calculate the root mean squared error, use the function'root_mean_squared_error'.\n",
      "  warnings.warn(\n",
      "10:43:36 - cmdstanpy - INFO - Chain [1] start processing\n",
      "10:43:36 - cmdstanpy - INFO - Chain [1] done processing\n",
      "c:\\Users\\natra\\AppData\\Local\\Programs\\Python\\Python310\\lib\\site-packages\\sklearn\\metrics\\_regression.py:492: FutureWarning: 'squared' is deprecated in version 1.4 and will be removed in 1.6. To calculate the root mean squared error, use the function'root_mean_squared_error'.\n",
      "  warnings.warn(\n",
      "10:43:37 - cmdstanpy - INFO - Chain [1] start processing\n",
      "10:43:37 - cmdstanpy - INFO - Chain [1] done processing\n",
      "c:\\Users\\natra\\AppData\\Local\\Programs\\Python\\Python310\\lib\\site-packages\\sklearn\\metrics\\_regression.py:492: FutureWarning: 'squared' is deprecated in version 1.4 and will be removed in 1.6. To calculate the root mean squared error, use the function'root_mean_squared_error'.\n",
      "  warnings.warn(\n",
      "10:43:37 - cmdstanpy - INFO - Chain [1] start processing\n",
      "10:43:38 - cmdstanpy - INFO - Chain [1] done processing\n",
      "c:\\Users\\natra\\AppData\\Local\\Programs\\Python\\Python310\\lib\\site-packages\\sklearn\\metrics\\_regression.py:492: FutureWarning: 'squared' is deprecated in version 1.4 and will be removed in 1.6. To calculate the root mean squared error, use the function'root_mean_squared_error'.\n",
      "  warnings.warn(\n",
      "10:43:38 - cmdstanpy - INFO - Chain [1] start processing\n",
      "10:43:38 - cmdstanpy - INFO - Chain [1] done processing\n",
      "c:\\Users\\natra\\AppData\\Local\\Programs\\Python\\Python310\\lib\\site-packages\\sklearn\\metrics\\_regression.py:492: FutureWarning: 'squared' is deprecated in version 1.4 and will be removed in 1.6. To calculate the root mean squared error, use the function'root_mean_squared_error'.\n",
      "  warnings.warn(\n"
     ]
    },
    {
     "name": "stdout",
     "output_type": "stream",
     "text": [
      "R² Score: 0.732, RMSE: 2.686, MAE: 2.150\n",
      "\n",
      "Evaluating: changepoint_prior_scale=0.03, seasonality_prior_scale=4.1, seasonality_mode=multiplicative\n"
     ]
    },
    {
     "name": "stderr",
     "output_type": "stream",
     "text": [
      "10:43:39 - cmdstanpy - INFO - Chain [1] start processing\n",
      "10:43:39 - cmdstanpy - INFO - Chain [1] done processing\n",
      "c:\\Users\\natra\\AppData\\Local\\Programs\\Python\\Python310\\lib\\site-packages\\sklearn\\metrics\\_regression.py:492: FutureWarning: 'squared' is deprecated in version 1.4 and will be removed in 1.6. To calculate the root mean squared error, use the function'root_mean_squared_error'.\n",
      "  warnings.warn(\n",
      "10:43:39 - cmdstanpy - INFO - Chain [1] start processing\n",
      "10:43:39 - cmdstanpy - INFO - Chain [1] done processing\n",
      "c:\\Users\\natra\\AppData\\Local\\Programs\\Python\\Python310\\lib\\site-packages\\sklearn\\metrics\\_regression.py:492: FutureWarning: 'squared' is deprecated in version 1.4 and will be removed in 1.6. To calculate the root mean squared error, use the function'root_mean_squared_error'.\n",
      "  warnings.warn(\n",
      "10:43:40 - cmdstanpy - INFO - Chain [1] start processing\n",
      "10:43:40 - cmdstanpy - INFO - Chain [1] done processing\n",
      "c:\\Users\\natra\\AppData\\Local\\Programs\\Python\\Python310\\lib\\site-packages\\sklearn\\metrics\\_regression.py:492: FutureWarning: 'squared' is deprecated in version 1.4 and will be removed in 1.6. To calculate the root mean squared error, use the function'root_mean_squared_error'.\n",
      "  warnings.warn(\n",
      "10:43:40 - cmdstanpy - INFO - Chain [1] start processing\n",
      "10:43:40 - cmdstanpy - INFO - Chain [1] done processing\n",
      "c:\\Users\\natra\\AppData\\Local\\Programs\\Python\\Python310\\lib\\site-packages\\sklearn\\metrics\\_regression.py:492: FutureWarning: 'squared' is deprecated in version 1.4 and will be removed in 1.6. To calculate the root mean squared error, use the function'root_mean_squared_error'.\n",
      "  warnings.warn(\n",
      "10:43:41 - cmdstanpy - INFO - Chain [1] start processing\n",
      "10:43:41 - cmdstanpy - INFO - Chain [1] done processing\n",
      "c:\\Users\\natra\\AppData\\Local\\Programs\\Python\\Python310\\lib\\site-packages\\sklearn\\metrics\\_regression.py:492: FutureWarning: 'squared' is deprecated in version 1.4 and will be removed in 1.6. To calculate the root mean squared error, use the function'root_mean_squared_error'.\n",
      "  warnings.warn(\n"
     ]
    },
    {
     "name": "stdout",
     "output_type": "stream",
     "text": [
      "R² Score: 0.729, RMSE: 2.701, MAE: 2.161\n",
      "\n",
      "Evaluating: changepoint_prior_scale=0.03, seasonality_prior_scale=5.1, seasonality_mode=additive\n"
     ]
    },
    {
     "name": "stderr",
     "output_type": "stream",
     "text": [
      "10:43:41 - cmdstanpy - INFO - Chain [1] start processing\n",
      "10:43:42 - cmdstanpy - INFO - Chain [1] done processing\n",
      "c:\\Users\\natra\\AppData\\Local\\Programs\\Python\\Python310\\lib\\site-packages\\sklearn\\metrics\\_regression.py:492: FutureWarning: 'squared' is deprecated in version 1.4 and will be removed in 1.6. To calculate the root mean squared error, use the function'root_mean_squared_error'.\n",
      "  warnings.warn(\n",
      "10:43:42 - cmdstanpy - INFO - Chain [1] start processing\n",
      "10:43:42 - cmdstanpy - INFO - Chain [1] done processing\n",
      "c:\\Users\\natra\\AppData\\Local\\Programs\\Python\\Python310\\lib\\site-packages\\sklearn\\metrics\\_regression.py:492: FutureWarning: 'squared' is deprecated in version 1.4 and will be removed in 1.6. To calculate the root mean squared error, use the function'root_mean_squared_error'.\n",
      "  warnings.warn(\n",
      "10:43:43 - cmdstanpy - INFO - Chain [1] start processing\n",
      "10:43:43 - cmdstanpy - INFO - Chain [1] done processing\n",
      "c:\\Users\\natra\\AppData\\Local\\Programs\\Python\\Python310\\lib\\site-packages\\sklearn\\metrics\\_regression.py:492: FutureWarning: 'squared' is deprecated in version 1.4 and will be removed in 1.6. To calculate the root mean squared error, use the function'root_mean_squared_error'.\n",
      "  warnings.warn(\n",
      "10:43:43 - cmdstanpy - INFO - Chain [1] start processing\n",
      "10:43:43 - cmdstanpy - INFO - Chain [1] done processing\n",
      "c:\\Users\\natra\\AppData\\Local\\Programs\\Python\\Python310\\lib\\site-packages\\sklearn\\metrics\\_regression.py:492: FutureWarning: 'squared' is deprecated in version 1.4 and will be removed in 1.6. To calculate the root mean squared error, use the function'root_mean_squared_error'.\n",
      "  warnings.warn(\n",
      "10:43:44 - cmdstanpy - INFO - Chain [1] start processing\n",
      "10:43:44 - cmdstanpy - INFO - Chain [1] done processing\n",
      "c:\\Users\\natra\\AppData\\Local\\Programs\\Python\\Python310\\lib\\site-packages\\sklearn\\metrics\\_regression.py:492: FutureWarning: 'squared' is deprecated in version 1.4 and will be removed in 1.6. To calculate the root mean squared error, use the function'root_mean_squared_error'.\n",
      "  warnings.warn(\n"
     ]
    },
    {
     "name": "stdout",
     "output_type": "stream",
     "text": [
      "R² Score: 0.732, RMSE: 2.686, MAE: 2.150\n",
      "\n",
      "Evaluating: changepoint_prior_scale=0.03, seasonality_prior_scale=5.1, seasonality_mode=multiplicative\n"
     ]
    },
    {
     "name": "stderr",
     "output_type": "stream",
     "text": [
      "10:43:44 - cmdstanpy - INFO - Chain [1] start processing\n",
      "10:43:45 - cmdstanpy - INFO - Chain [1] done processing\n",
      "c:\\Users\\natra\\AppData\\Local\\Programs\\Python\\Python310\\lib\\site-packages\\sklearn\\metrics\\_regression.py:492: FutureWarning: 'squared' is deprecated in version 1.4 and will be removed in 1.6. To calculate the root mean squared error, use the function'root_mean_squared_error'.\n",
      "  warnings.warn(\n",
      "10:43:45 - cmdstanpy - INFO - Chain [1] start processing\n",
      "10:43:45 - cmdstanpy - INFO - Chain [1] done processing\n",
      "c:\\Users\\natra\\AppData\\Local\\Programs\\Python\\Python310\\lib\\site-packages\\sklearn\\metrics\\_regression.py:492: FutureWarning: 'squared' is deprecated in version 1.4 and will be removed in 1.6. To calculate the root mean squared error, use the function'root_mean_squared_error'.\n",
      "  warnings.warn(\n",
      "10:43:46 - cmdstanpy - INFO - Chain [1] start processing\n",
      "10:43:46 - cmdstanpy - INFO - Chain [1] done processing\n",
      "c:\\Users\\natra\\AppData\\Local\\Programs\\Python\\Python310\\lib\\site-packages\\sklearn\\metrics\\_regression.py:492: FutureWarning: 'squared' is deprecated in version 1.4 and will be removed in 1.6. To calculate the root mean squared error, use the function'root_mean_squared_error'.\n",
      "  warnings.warn(\n",
      "10:43:46 - cmdstanpy - INFO - Chain [1] start processing\n",
      "10:43:46 - cmdstanpy - INFO - Chain [1] done processing\n",
      "c:\\Users\\natra\\AppData\\Local\\Programs\\Python\\Python310\\lib\\site-packages\\sklearn\\metrics\\_regression.py:492: FutureWarning: 'squared' is deprecated in version 1.4 and will be removed in 1.6. To calculate the root mean squared error, use the function'root_mean_squared_error'.\n",
      "  warnings.warn(\n",
      "10:43:47 - cmdstanpy - INFO - Chain [1] start processing\n",
      "10:43:47 - cmdstanpy - INFO - Chain [1] done processing\n",
      "c:\\Users\\natra\\AppData\\Local\\Programs\\Python\\Python310\\lib\\site-packages\\sklearn\\metrics\\_regression.py:492: FutureWarning: 'squared' is deprecated in version 1.4 and will be removed in 1.6. To calculate the root mean squared error, use the function'root_mean_squared_error'.\n",
      "  warnings.warn(\n"
     ]
    },
    {
     "name": "stdout",
     "output_type": "stream",
     "text": [
      "R² Score: 0.728, RMSE: 2.704, MAE: 2.164\n",
      "\n",
      "Evaluating: changepoint_prior_scale=0.03, seasonality_prior_scale=6.1, seasonality_mode=additive\n"
     ]
    },
    {
     "name": "stderr",
     "output_type": "stream",
     "text": [
      "10:43:47 - cmdstanpy - INFO - Chain [1] start processing\n",
      "10:43:47 - cmdstanpy - INFO - Chain [1] done processing\n",
      "c:\\Users\\natra\\AppData\\Local\\Programs\\Python\\Python310\\lib\\site-packages\\sklearn\\metrics\\_regression.py:492: FutureWarning: 'squared' is deprecated in version 1.4 and will be removed in 1.6. To calculate the root mean squared error, use the function'root_mean_squared_error'.\n",
      "  warnings.warn(\n",
      "10:43:48 - cmdstanpy - INFO - Chain [1] start processing\n",
      "10:43:48 - cmdstanpy - INFO - Chain [1] done processing\n",
      "c:\\Users\\natra\\AppData\\Local\\Programs\\Python\\Python310\\lib\\site-packages\\sklearn\\metrics\\_regression.py:492: FutureWarning: 'squared' is deprecated in version 1.4 and will be removed in 1.6. To calculate the root mean squared error, use the function'root_mean_squared_error'.\n",
      "  warnings.warn(\n",
      "10:43:49 - cmdstanpy - INFO - Chain [1] start processing\n",
      "10:43:49 - cmdstanpy - INFO - Chain [1] done processing\n",
      "c:\\Users\\natra\\AppData\\Local\\Programs\\Python\\Python310\\lib\\site-packages\\sklearn\\metrics\\_regression.py:492: FutureWarning: 'squared' is deprecated in version 1.4 and will be removed in 1.6. To calculate the root mean squared error, use the function'root_mean_squared_error'.\n",
      "  warnings.warn(\n",
      "10:43:49 - cmdstanpy - INFO - Chain [1] start processing\n",
      "10:43:49 - cmdstanpy - INFO - Chain [1] done processing\n",
      "c:\\Users\\natra\\AppData\\Local\\Programs\\Python\\Python310\\lib\\site-packages\\sklearn\\metrics\\_regression.py:492: FutureWarning: 'squared' is deprecated in version 1.4 and will be removed in 1.6. To calculate the root mean squared error, use the function'root_mean_squared_error'.\n",
      "  warnings.warn(\n",
      "10:43:50 - cmdstanpy - INFO - Chain [1] start processing\n",
      "10:43:50 - cmdstanpy - INFO - Chain [1] done processing\n",
      "c:\\Users\\natra\\AppData\\Local\\Programs\\Python\\Python310\\lib\\site-packages\\sklearn\\metrics\\_regression.py:492: FutureWarning: 'squared' is deprecated in version 1.4 and will be removed in 1.6. To calculate the root mean squared error, use the function'root_mean_squared_error'.\n",
      "  warnings.warn(\n"
     ]
    },
    {
     "name": "stdout",
     "output_type": "stream",
     "text": [
      "R² Score: 0.732, RMSE: 2.688, MAE: 2.152\n",
      "\n",
      "Evaluating: changepoint_prior_scale=0.03, seasonality_prior_scale=6.1, seasonality_mode=multiplicative\n"
     ]
    },
    {
     "name": "stderr",
     "output_type": "stream",
     "text": [
      "10:43:51 - cmdstanpy - INFO - Chain [1] start processing\n",
      "10:43:51 - cmdstanpy - INFO - Chain [1] done processing\n",
      "c:\\Users\\natra\\AppData\\Local\\Programs\\Python\\Python310\\lib\\site-packages\\sklearn\\metrics\\_regression.py:492: FutureWarning: 'squared' is deprecated in version 1.4 and will be removed in 1.6. To calculate the root mean squared error, use the function'root_mean_squared_error'.\n",
      "  warnings.warn(\n",
      "10:43:51 - cmdstanpy - INFO - Chain [1] start processing\n",
      "10:43:51 - cmdstanpy - INFO - Chain [1] done processing\n",
      "c:\\Users\\natra\\AppData\\Local\\Programs\\Python\\Python310\\lib\\site-packages\\sklearn\\metrics\\_regression.py:492: FutureWarning: 'squared' is deprecated in version 1.4 and will be removed in 1.6. To calculate the root mean squared error, use the function'root_mean_squared_error'.\n",
      "  warnings.warn(\n",
      "10:43:52 - cmdstanpy - INFO - Chain [1] start processing\n",
      "10:43:52 - cmdstanpy - INFO - Chain [1] done processing\n",
      "c:\\Users\\natra\\AppData\\Local\\Programs\\Python\\Python310\\lib\\site-packages\\sklearn\\metrics\\_regression.py:492: FutureWarning: 'squared' is deprecated in version 1.4 and will be removed in 1.6. To calculate the root mean squared error, use the function'root_mean_squared_error'.\n",
      "  warnings.warn(\n",
      "10:43:53 - cmdstanpy - INFO - Chain [1] start processing\n",
      "10:43:53 - cmdstanpy - INFO - Chain [1] done processing\n",
      "c:\\Users\\natra\\AppData\\Local\\Programs\\Python\\Python310\\lib\\site-packages\\sklearn\\metrics\\_regression.py:492: FutureWarning: 'squared' is deprecated in version 1.4 and will be removed in 1.6. To calculate the root mean squared error, use the function'root_mean_squared_error'.\n",
      "  warnings.warn(\n",
      "10:43:53 - cmdstanpy - INFO - Chain [1] start processing\n",
      "10:43:53 - cmdstanpy - INFO - Chain [1] done processing\n",
      "c:\\Users\\natra\\AppData\\Local\\Programs\\Python\\Python310\\lib\\site-packages\\sklearn\\metrics\\_regression.py:492: FutureWarning: 'squared' is deprecated in version 1.4 and will be removed in 1.6. To calculate the root mean squared error, use the function'root_mean_squared_error'.\n",
      "  warnings.warn(\n"
     ]
    },
    {
     "name": "stdout",
     "output_type": "stream",
     "text": [
      "R² Score: 0.729, RMSE: 2.702, MAE: 2.163\n",
      "\n",
      "Evaluating: changepoint_prior_scale=0.03, seasonality_prior_scale=7.1, seasonality_mode=additive\n"
     ]
    },
    {
     "name": "stderr",
     "output_type": "stream",
     "text": [
      "10:43:54 - cmdstanpy - INFO - Chain [1] start processing\n",
      "10:43:54 - cmdstanpy - INFO - Chain [1] done processing\n",
      "c:\\Users\\natra\\AppData\\Local\\Programs\\Python\\Python310\\lib\\site-packages\\sklearn\\metrics\\_regression.py:492: FutureWarning: 'squared' is deprecated in version 1.4 and will be removed in 1.6. To calculate the root mean squared error, use the function'root_mean_squared_error'.\n",
      "  warnings.warn(\n",
      "10:43:55 - cmdstanpy - INFO - Chain [1] start processing\n",
      "10:43:55 - cmdstanpy - INFO - Chain [1] done processing\n",
      "c:\\Users\\natra\\AppData\\Local\\Programs\\Python\\Python310\\lib\\site-packages\\sklearn\\metrics\\_regression.py:492: FutureWarning: 'squared' is deprecated in version 1.4 and will be removed in 1.6. To calculate the root mean squared error, use the function'root_mean_squared_error'.\n",
      "  warnings.warn(\n",
      "10:43:55 - cmdstanpy - INFO - Chain [1] start processing\n",
      "10:43:55 - cmdstanpy - INFO - Chain [1] done processing\n",
      "c:\\Users\\natra\\AppData\\Local\\Programs\\Python\\Python310\\lib\\site-packages\\sklearn\\metrics\\_regression.py:492: FutureWarning: 'squared' is deprecated in version 1.4 and will be removed in 1.6. To calculate the root mean squared error, use the function'root_mean_squared_error'.\n",
      "  warnings.warn(\n",
      "10:43:56 - cmdstanpy - INFO - Chain [1] start processing\n",
      "10:43:56 - cmdstanpy - INFO - Chain [1] done processing\n",
      "c:\\Users\\natra\\AppData\\Local\\Programs\\Python\\Python310\\lib\\site-packages\\sklearn\\metrics\\_regression.py:492: FutureWarning: 'squared' is deprecated in version 1.4 and will be removed in 1.6. To calculate the root mean squared error, use the function'root_mean_squared_error'.\n",
      "  warnings.warn(\n",
      "10:43:57 - cmdstanpy - INFO - Chain [1] start processing\n",
      "10:43:57 - cmdstanpy - INFO - Chain [1] done processing\n",
      "c:\\Users\\natra\\AppData\\Local\\Programs\\Python\\Python310\\lib\\site-packages\\sklearn\\metrics\\_regression.py:492: FutureWarning: 'squared' is deprecated in version 1.4 and will be removed in 1.6. To calculate the root mean squared error, use the function'root_mean_squared_error'.\n",
      "  warnings.warn(\n"
     ]
    },
    {
     "name": "stdout",
     "output_type": "stream",
     "text": [
      "R² Score: 0.732, RMSE: 2.687, MAE: 2.151\n",
      "\n",
      "Evaluating: changepoint_prior_scale=0.03, seasonality_prior_scale=7.1, seasonality_mode=multiplicative\n"
     ]
    },
    {
     "name": "stderr",
     "output_type": "stream",
     "text": [
      "10:43:57 - cmdstanpy - INFO - Chain [1] start processing\n",
      "10:43:57 - cmdstanpy - INFO - Chain [1] done processing\n",
      "c:\\Users\\natra\\AppData\\Local\\Programs\\Python\\Python310\\lib\\site-packages\\sklearn\\metrics\\_regression.py:492: FutureWarning: 'squared' is deprecated in version 1.4 and will be removed in 1.6. To calculate the root mean squared error, use the function'root_mean_squared_error'.\n",
      "  warnings.warn(\n",
      "10:43:58 - cmdstanpy - INFO - Chain [1] start processing\n",
      "10:43:58 - cmdstanpy - INFO - Chain [1] done processing\n",
      "c:\\Users\\natra\\AppData\\Local\\Programs\\Python\\Python310\\lib\\site-packages\\sklearn\\metrics\\_regression.py:492: FutureWarning: 'squared' is deprecated in version 1.4 and will be removed in 1.6. To calculate the root mean squared error, use the function'root_mean_squared_error'.\n",
      "  warnings.warn(\n",
      "10:43:59 - cmdstanpy - INFO - Chain [1] start processing\n",
      "10:43:59 - cmdstanpy - INFO - Chain [1] done processing\n",
      "c:\\Users\\natra\\AppData\\Local\\Programs\\Python\\Python310\\lib\\site-packages\\sklearn\\metrics\\_regression.py:492: FutureWarning: 'squared' is deprecated in version 1.4 and will be removed in 1.6. To calculate the root mean squared error, use the function'root_mean_squared_error'.\n",
      "  warnings.warn(\n",
      "10:43:59 - cmdstanpy - INFO - Chain [1] start processing\n",
      "10:43:59 - cmdstanpy - INFO - Chain [1] done processing\n",
      "c:\\Users\\natra\\AppData\\Local\\Programs\\Python\\Python310\\lib\\site-packages\\sklearn\\metrics\\_regression.py:492: FutureWarning: 'squared' is deprecated in version 1.4 and will be removed in 1.6. To calculate the root mean squared error, use the function'root_mean_squared_error'.\n",
      "  warnings.warn(\n",
      "10:44:00 - cmdstanpy - INFO - Chain [1] start processing\n",
      "10:44:00 - cmdstanpy - INFO - Chain [1] done processing\n",
      "c:\\Users\\natra\\AppData\\Local\\Programs\\Python\\Python310\\lib\\site-packages\\sklearn\\metrics\\_regression.py:492: FutureWarning: 'squared' is deprecated in version 1.4 and will be removed in 1.6. To calculate the root mean squared error, use the function'root_mean_squared_error'.\n",
      "  warnings.warn(\n"
     ]
    },
    {
     "name": "stdout",
     "output_type": "stream",
     "text": [
      "R² Score: 0.728, RMSE: 2.705, MAE: 2.165\n",
      "\n",
      "Evaluating: changepoint_prior_scale=0.03, seasonality_prior_scale=8.1, seasonality_mode=additive\n"
     ]
    },
    {
     "name": "stderr",
     "output_type": "stream",
     "text": [
      "10:44:00 - cmdstanpy - INFO - Chain [1] start processing\n",
      "10:44:00 - cmdstanpy - INFO - Chain [1] done processing\n",
      "c:\\Users\\natra\\AppData\\Local\\Programs\\Python\\Python310\\lib\\site-packages\\sklearn\\metrics\\_regression.py:492: FutureWarning: 'squared' is deprecated in version 1.4 and will be removed in 1.6. To calculate the root mean squared error, use the function'root_mean_squared_error'.\n",
      "  warnings.warn(\n",
      "10:44:01 - cmdstanpy - INFO - Chain [1] start processing\n",
      "10:44:01 - cmdstanpy - INFO - Chain [1] done processing\n",
      "c:\\Users\\natra\\AppData\\Local\\Programs\\Python\\Python310\\lib\\site-packages\\sklearn\\metrics\\_regression.py:492: FutureWarning: 'squared' is deprecated in version 1.4 and will be removed in 1.6. To calculate the root mean squared error, use the function'root_mean_squared_error'.\n",
      "  warnings.warn(\n",
      "10:44:01 - cmdstanpy - INFO - Chain [1] start processing\n",
      "10:44:02 - cmdstanpy - INFO - Chain [1] done processing\n",
      "c:\\Users\\natra\\AppData\\Local\\Programs\\Python\\Python310\\lib\\site-packages\\sklearn\\metrics\\_regression.py:492: FutureWarning: 'squared' is deprecated in version 1.4 and will be removed in 1.6. To calculate the root mean squared error, use the function'root_mean_squared_error'.\n",
      "  warnings.warn(\n",
      "10:44:02 - cmdstanpy - INFO - Chain [1] start processing\n",
      "10:44:02 - cmdstanpy - INFO - Chain [1] done processing\n",
      "c:\\Users\\natra\\AppData\\Local\\Programs\\Python\\Python310\\lib\\site-packages\\sklearn\\metrics\\_regression.py:492: FutureWarning: 'squared' is deprecated in version 1.4 and will be removed in 1.6. To calculate the root mean squared error, use the function'root_mean_squared_error'.\n",
      "  warnings.warn(\n",
      "10:44:03 - cmdstanpy - INFO - Chain [1] start processing\n",
      "10:44:03 - cmdstanpy - INFO - Chain [1] done processing\n",
      "c:\\Users\\natra\\AppData\\Local\\Programs\\Python\\Python310\\lib\\site-packages\\sklearn\\metrics\\_regression.py:492: FutureWarning: 'squared' is deprecated in version 1.4 and will be removed in 1.6. To calculate the root mean squared error, use the function'root_mean_squared_error'.\n",
      "  warnings.warn(\n"
     ]
    },
    {
     "name": "stdout",
     "output_type": "stream",
     "text": [
      "R² Score: 0.732, RMSE: 2.687, MAE: 2.151\n",
      "\n",
      "Evaluating: changepoint_prior_scale=0.03, seasonality_prior_scale=8.1, seasonality_mode=multiplicative\n"
     ]
    },
    {
     "name": "stderr",
     "output_type": "stream",
     "text": [
      "10:44:03 - cmdstanpy - INFO - Chain [1] start processing\n",
      "10:44:03 - cmdstanpy - INFO - Chain [1] done processing\n",
      "c:\\Users\\natra\\AppData\\Local\\Programs\\Python\\Python310\\lib\\site-packages\\sklearn\\metrics\\_regression.py:492: FutureWarning: 'squared' is deprecated in version 1.4 and will be removed in 1.6. To calculate the root mean squared error, use the function'root_mean_squared_error'.\n",
      "  warnings.warn(\n",
      "10:44:04 - cmdstanpy - INFO - Chain [1] start processing\n",
      "10:44:04 - cmdstanpy - INFO - Chain [1] done processing\n",
      "c:\\Users\\natra\\AppData\\Local\\Programs\\Python\\Python310\\lib\\site-packages\\sklearn\\metrics\\_regression.py:492: FutureWarning: 'squared' is deprecated in version 1.4 and will be removed in 1.6. To calculate the root mean squared error, use the function'root_mean_squared_error'.\n",
      "  warnings.warn(\n",
      "10:44:04 - cmdstanpy - INFO - Chain [1] start processing\n",
      "10:44:04 - cmdstanpy - INFO - Chain [1] done processing\n",
      "c:\\Users\\natra\\AppData\\Local\\Programs\\Python\\Python310\\lib\\site-packages\\sklearn\\metrics\\_regression.py:492: FutureWarning: 'squared' is deprecated in version 1.4 and will be removed in 1.6. To calculate the root mean squared error, use the function'root_mean_squared_error'.\n",
      "  warnings.warn(\n",
      "10:44:05 - cmdstanpy - INFO - Chain [1] start processing\n",
      "10:44:05 - cmdstanpy - INFO - Chain [1] done processing\n",
      "c:\\Users\\natra\\AppData\\Local\\Programs\\Python\\Python310\\lib\\site-packages\\sklearn\\metrics\\_regression.py:492: FutureWarning: 'squared' is deprecated in version 1.4 and will be removed in 1.6. To calculate the root mean squared error, use the function'root_mean_squared_error'.\n",
      "  warnings.warn(\n",
      "10:44:05 - cmdstanpy - INFO - Chain [1] start processing\n",
      "10:44:06 - cmdstanpy - INFO - Chain [1] done processing\n",
      "c:\\Users\\natra\\AppData\\Local\\Programs\\Python\\Python310\\lib\\site-packages\\sklearn\\metrics\\_regression.py:492: FutureWarning: 'squared' is deprecated in version 1.4 and will be removed in 1.6. To calculate the root mean squared error, use the function'root_mean_squared_error'.\n",
      "  warnings.warn(\n"
     ]
    },
    {
     "name": "stdout",
     "output_type": "stream",
     "text": [
      "R² Score: 0.729, RMSE: 2.700, MAE: 2.160\n",
      "\n",
      "Evaluating: changepoint_prior_scale=0.03, seasonality_prior_scale=9.1, seasonality_mode=additive\n"
     ]
    },
    {
     "name": "stderr",
     "output_type": "stream",
     "text": [
      "10:44:06 - cmdstanpy - INFO - Chain [1] start processing\n",
      "10:44:06 - cmdstanpy - INFO - Chain [1] done processing\n",
      "c:\\Users\\natra\\AppData\\Local\\Programs\\Python\\Python310\\lib\\site-packages\\sklearn\\metrics\\_regression.py:492: FutureWarning: 'squared' is deprecated in version 1.4 and will be removed in 1.6. To calculate the root mean squared error, use the function'root_mean_squared_error'.\n",
      "  warnings.warn(\n",
      "10:44:07 - cmdstanpy - INFO - Chain [1] start processing\n",
      "10:44:07 - cmdstanpy - INFO - Chain [1] done processing\n",
      "c:\\Users\\natra\\AppData\\Local\\Programs\\Python\\Python310\\lib\\site-packages\\sklearn\\metrics\\_regression.py:492: FutureWarning: 'squared' is deprecated in version 1.4 and will be removed in 1.6. To calculate the root mean squared error, use the function'root_mean_squared_error'.\n",
      "  warnings.warn(\n",
      "10:44:07 - cmdstanpy - INFO - Chain [1] start processing\n",
      "10:44:07 - cmdstanpy - INFO - Chain [1] done processing\n",
      "c:\\Users\\natra\\AppData\\Local\\Programs\\Python\\Python310\\lib\\site-packages\\sklearn\\metrics\\_regression.py:492: FutureWarning: 'squared' is deprecated in version 1.4 and will be removed in 1.6. To calculate the root mean squared error, use the function'root_mean_squared_error'.\n",
      "  warnings.warn(\n",
      "10:44:08 - cmdstanpy - INFO - Chain [1] start processing\n",
      "10:44:08 - cmdstanpy - INFO - Chain [1] done processing\n",
      "c:\\Users\\natra\\AppData\\Local\\Programs\\Python\\Python310\\lib\\site-packages\\sklearn\\metrics\\_regression.py:492: FutureWarning: 'squared' is deprecated in version 1.4 and will be removed in 1.6. To calculate the root mean squared error, use the function'root_mean_squared_error'.\n",
      "  warnings.warn(\n",
      "10:44:08 - cmdstanpy - INFO - Chain [1] start processing\n",
      "10:44:09 - cmdstanpy - INFO - Chain [1] done processing\n",
      "c:\\Users\\natra\\AppData\\Local\\Programs\\Python\\Python310\\lib\\site-packages\\sklearn\\metrics\\_regression.py:492: FutureWarning: 'squared' is deprecated in version 1.4 and will be removed in 1.6. To calculate the root mean squared error, use the function'root_mean_squared_error'.\n",
      "  warnings.warn(\n"
     ]
    },
    {
     "name": "stdout",
     "output_type": "stream",
     "text": [
      "R² Score: 0.732, RMSE: 2.688, MAE: 2.151\n",
      "\n",
      "Evaluating: changepoint_prior_scale=0.03, seasonality_prior_scale=9.1, seasonality_mode=multiplicative\n"
     ]
    },
    {
     "name": "stderr",
     "output_type": "stream",
     "text": [
      "10:44:09 - cmdstanpy - INFO - Chain [1] start processing\n",
      "10:44:09 - cmdstanpy - INFO - Chain [1] done processing\n",
      "c:\\Users\\natra\\AppData\\Local\\Programs\\Python\\Python310\\lib\\site-packages\\sklearn\\metrics\\_regression.py:492: FutureWarning: 'squared' is deprecated in version 1.4 and will be removed in 1.6. To calculate the root mean squared error, use the function'root_mean_squared_error'.\n",
      "  warnings.warn(\n",
      "10:44:10 - cmdstanpy - INFO - Chain [1] start processing\n",
      "10:44:10 - cmdstanpy - INFO - Chain [1] done processing\n",
      "c:\\Users\\natra\\AppData\\Local\\Programs\\Python\\Python310\\lib\\site-packages\\sklearn\\metrics\\_regression.py:492: FutureWarning: 'squared' is deprecated in version 1.4 and will be removed in 1.6. To calculate the root mean squared error, use the function'root_mean_squared_error'.\n",
      "  warnings.warn(\n",
      "10:44:10 - cmdstanpy - INFO - Chain [1] start processing\n",
      "10:44:10 - cmdstanpy - INFO - Chain [1] done processing\n",
      "c:\\Users\\natra\\AppData\\Local\\Programs\\Python\\Python310\\lib\\site-packages\\sklearn\\metrics\\_regression.py:492: FutureWarning: 'squared' is deprecated in version 1.4 and will be removed in 1.6. To calculate the root mean squared error, use the function'root_mean_squared_error'.\n",
      "  warnings.warn(\n",
      "10:44:11 - cmdstanpy - INFO - Chain [1] start processing\n",
      "10:44:11 - cmdstanpy - INFO - Chain [1] done processing\n",
      "c:\\Users\\natra\\AppData\\Local\\Programs\\Python\\Python310\\lib\\site-packages\\sklearn\\metrics\\_regression.py:492: FutureWarning: 'squared' is deprecated in version 1.4 and will be removed in 1.6. To calculate the root mean squared error, use the function'root_mean_squared_error'.\n",
      "  warnings.warn(\n",
      "10:44:11 - cmdstanpy - INFO - Chain [1] start processing\n",
      "10:44:11 - cmdstanpy - INFO - Chain [1] done processing\n",
      "c:\\Users\\natra\\AppData\\Local\\Programs\\Python\\Python310\\lib\\site-packages\\sklearn\\metrics\\_regression.py:492: FutureWarning: 'squared' is deprecated in version 1.4 and will be removed in 1.6. To calculate the root mean squared error, use the function'root_mean_squared_error'.\n",
      "  warnings.warn(\n"
     ]
    },
    {
     "name": "stdout",
     "output_type": "stream",
     "text": [
      "R² Score: 0.729, RMSE: 2.702, MAE: 2.162\n",
      "\n",
      "Evaluating: changepoint_prior_scale=0.03, seasonality_prior_scale=10.1, seasonality_mode=additive\n"
     ]
    },
    {
     "name": "stderr",
     "output_type": "stream",
     "text": [
      "10:44:12 - cmdstanpy - INFO - Chain [1] start processing\n",
      "10:44:12 - cmdstanpy - INFO - Chain [1] done processing\n",
      "c:\\Users\\natra\\AppData\\Local\\Programs\\Python\\Python310\\lib\\site-packages\\sklearn\\metrics\\_regression.py:492: FutureWarning: 'squared' is deprecated in version 1.4 and will be removed in 1.6. To calculate the root mean squared error, use the function'root_mean_squared_error'.\n",
      "  warnings.warn(\n",
      "10:44:13 - cmdstanpy - INFO - Chain [1] start processing\n",
      "10:44:13 - cmdstanpy - INFO - Chain [1] done processing\n",
      "c:\\Users\\natra\\AppData\\Local\\Programs\\Python\\Python310\\lib\\site-packages\\sklearn\\metrics\\_regression.py:492: FutureWarning: 'squared' is deprecated in version 1.4 and will be removed in 1.6. To calculate the root mean squared error, use the function'root_mean_squared_error'.\n",
      "  warnings.warn(\n",
      "10:44:13 - cmdstanpy - INFO - Chain [1] start processing\n",
      "10:44:13 - cmdstanpy - INFO - Chain [1] done processing\n",
      "c:\\Users\\natra\\AppData\\Local\\Programs\\Python\\Python310\\lib\\site-packages\\sklearn\\metrics\\_regression.py:492: FutureWarning: 'squared' is deprecated in version 1.4 and will be removed in 1.6. To calculate the root mean squared error, use the function'root_mean_squared_error'.\n",
      "  warnings.warn(\n",
      "10:44:14 - cmdstanpy - INFO - Chain [1] start processing\n",
      "10:44:14 - cmdstanpy - INFO - Chain [1] done processing\n",
      "c:\\Users\\natra\\AppData\\Local\\Programs\\Python\\Python310\\lib\\site-packages\\sklearn\\metrics\\_regression.py:492: FutureWarning: 'squared' is deprecated in version 1.4 and will be removed in 1.6. To calculate the root mean squared error, use the function'root_mean_squared_error'.\n",
      "  warnings.warn(\n",
      "10:44:14 - cmdstanpy - INFO - Chain [1] start processing\n",
      "10:44:14 - cmdstanpy - INFO - Chain [1] done processing\n",
      "c:\\Users\\natra\\AppData\\Local\\Programs\\Python\\Python310\\lib\\site-packages\\sklearn\\metrics\\_regression.py:492: FutureWarning: 'squared' is deprecated in version 1.4 and will be removed in 1.6. To calculate the root mean squared error, use the function'root_mean_squared_error'.\n",
      "  warnings.warn(\n"
     ]
    },
    {
     "name": "stdout",
     "output_type": "stream",
     "text": [
      "R² Score: 0.732, RMSE: 2.686, MAE: 2.150\n",
      "\n",
      "Evaluating: changepoint_prior_scale=0.03, seasonality_prior_scale=10.1, seasonality_mode=multiplicative\n"
     ]
    },
    {
     "name": "stderr",
     "output_type": "stream",
     "text": [
      "10:44:15 - cmdstanpy - INFO - Chain [1] start processing\n",
      "10:44:15 - cmdstanpy - INFO - Chain [1] done processing\n",
      "c:\\Users\\natra\\AppData\\Local\\Programs\\Python\\Python310\\lib\\site-packages\\sklearn\\metrics\\_regression.py:492: FutureWarning: 'squared' is deprecated in version 1.4 and will be removed in 1.6. To calculate the root mean squared error, use the function'root_mean_squared_error'.\n",
      "  warnings.warn(\n",
      "10:44:15 - cmdstanpy - INFO - Chain [1] start processing\n",
      "10:44:16 - cmdstanpy - INFO - Chain [1] done processing\n",
      "c:\\Users\\natra\\AppData\\Local\\Programs\\Python\\Python310\\lib\\site-packages\\sklearn\\metrics\\_regression.py:492: FutureWarning: 'squared' is deprecated in version 1.4 and will be removed in 1.6. To calculate the root mean squared error, use the function'root_mean_squared_error'.\n",
      "  warnings.warn(\n",
      "10:44:16 - cmdstanpy - INFO - Chain [1] start processing\n",
      "10:44:16 - cmdstanpy - INFO - Chain [1] done processing\n",
      "c:\\Users\\natra\\AppData\\Local\\Programs\\Python\\Python310\\lib\\site-packages\\sklearn\\metrics\\_regression.py:492: FutureWarning: 'squared' is deprecated in version 1.4 and will be removed in 1.6. To calculate the root mean squared error, use the function'root_mean_squared_error'.\n",
      "  warnings.warn(\n",
      "10:44:17 - cmdstanpy - INFO - Chain [1] start processing\n",
      "10:44:17 - cmdstanpy - INFO - Chain [1] done processing\n",
      "c:\\Users\\natra\\AppData\\Local\\Programs\\Python\\Python310\\lib\\site-packages\\sklearn\\metrics\\_regression.py:492: FutureWarning: 'squared' is deprecated in version 1.4 and will be removed in 1.6. To calculate the root mean squared error, use the function'root_mean_squared_error'.\n",
      "  warnings.warn(\n",
      "10:44:17 - cmdstanpy - INFO - Chain [1] start processing\n",
      "10:44:17 - cmdstanpy - INFO - Chain [1] done processing\n",
      "c:\\Users\\natra\\AppData\\Local\\Programs\\Python\\Python310\\lib\\site-packages\\sklearn\\metrics\\_regression.py:492: FutureWarning: 'squared' is deprecated in version 1.4 and will be removed in 1.6. To calculate the root mean squared error, use the function'root_mean_squared_error'.\n",
      "  warnings.warn(\n"
     ]
    },
    {
     "name": "stdout",
     "output_type": "stream",
     "text": [
      "R² Score: 0.728, RMSE: 2.705, MAE: 2.164\n",
      "\n",
      "Evaluating: changepoint_prior_scale=0.04, seasonality_prior_scale=0.1, seasonality_mode=additive\n"
     ]
    },
    {
     "name": "stderr",
     "output_type": "stream",
     "text": [
      "10:44:18 - cmdstanpy - INFO - Chain [1] start processing\n",
      "10:44:18 - cmdstanpy - INFO - Chain [1] done processing\n",
      "c:\\Users\\natra\\AppData\\Local\\Programs\\Python\\Python310\\lib\\site-packages\\sklearn\\metrics\\_regression.py:492: FutureWarning: 'squared' is deprecated in version 1.4 and will be removed in 1.6. To calculate the root mean squared error, use the function'root_mean_squared_error'.\n",
      "  warnings.warn(\n",
      "10:44:18 - cmdstanpy - INFO - Chain [1] start processing\n",
      "10:44:19 - cmdstanpy - INFO - Chain [1] done processing\n",
      "c:\\Users\\natra\\AppData\\Local\\Programs\\Python\\Python310\\lib\\site-packages\\sklearn\\metrics\\_regression.py:492: FutureWarning: 'squared' is deprecated in version 1.4 and will be removed in 1.6. To calculate the root mean squared error, use the function'root_mean_squared_error'.\n",
      "  warnings.warn(\n",
      "10:44:19 - cmdstanpy - INFO - Chain [1] start processing\n",
      "10:44:19 - cmdstanpy - INFO - Chain [1] done processing\n",
      "c:\\Users\\natra\\AppData\\Local\\Programs\\Python\\Python310\\lib\\site-packages\\sklearn\\metrics\\_regression.py:492: FutureWarning: 'squared' is deprecated in version 1.4 and will be removed in 1.6. To calculate the root mean squared error, use the function'root_mean_squared_error'.\n",
      "  warnings.warn(\n",
      "10:44:20 - cmdstanpy - INFO - Chain [1] start processing\n",
      "10:44:20 - cmdstanpy - INFO - Chain [1] done processing\n",
      "c:\\Users\\natra\\AppData\\Local\\Programs\\Python\\Python310\\lib\\site-packages\\sklearn\\metrics\\_regression.py:492: FutureWarning: 'squared' is deprecated in version 1.4 and will be removed in 1.6. To calculate the root mean squared error, use the function'root_mean_squared_error'.\n",
      "  warnings.warn(\n",
      "10:44:20 - cmdstanpy - INFO - Chain [1] start processing\n",
      "10:44:20 - cmdstanpy - INFO - Chain [1] done processing\n",
      "c:\\Users\\natra\\AppData\\Local\\Programs\\Python\\Python310\\lib\\site-packages\\sklearn\\metrics\\_regression.py:492: FutureWarning: 'squared' is deprecated in version 1.4 and will be removed in 1.6. To calculate the root mean squared error, use the function'root_mean_squared_error'.\n",
      "  warnings.warn(\n"
     ]
    },
    {
     "name": "stdout",
     "output_type": "stream",
     "text": [
      "R² Score: 0.732, RMSE: 2.689, MAE: 2.158\n",
      "\n",
      "Evaluating: changepoint_prior_scale=0.04, seasonality_prior_scale=0.1, seasonality_mode=multiplicative\n"
     ]
    },
    {
     "name": "stderr",
     "output_type": "stream",
     "text": [
      "10:44:21 - cmdstanpy - INFO - Chain [1] start processing\n",
      "10:44:21 - cmdstanpy - INFO - Chain [1] done processing\n",
      "c:\\Users\\natra\\AppData\\Local\\Programs\\Python\\Python310\\lib\\site-packages\\sklearn\\metrics\\_regression.py:492: FutureWarning: 'squared' is deprecated in version 1.4 and will be removed in 1.6. To calculate the root mean squared error, use the function'root_mean_squared_error'.\n",
      "  warnings.warn(\n",
      "10:44:21 - cmdstanpy - INFO - Chain [1] start processing\n",
      "10:44:22 - cmdstanpy - INFO - Chain [1] done processing\n",
      "c:\\Users\\natra\\AppData\\Local\\Programs\\Python\\Python310\\lib\\site-packages\\sklearn\\metrics\\_regression.py:492: FutureWarning: 'squared' is deprecated in version 1.4 and will be removed in 1.6. To calculate the root mean squared error, use the function'root_mean_squared_error'.\n",
      "  warnings.warn(\n",
      "10:44:22 - cmdstanpy - INFO - Chain [1] start processing\n",
      "10:44:22 - cmdstanpy - INFO - Chain [1] done processing\n",
      "c:\\Users\\natra\\AppData\\Local\\Programs\\Python\\Python310\\lib\\site-packages\\sklearn\\metrics\\_regression.py:492: FutureWarning: 'squared' is deprecated in version 1.4 and will be removed in 1.6. To calculate the root mean squared error, use the function'root_mean_squared_error'.\n",
      "  warnings.warn(\n",
      "10:44:23 - cmdstanpy - INFO - Chain [1] start processing\n",
      "10:44:23 - cmdstanpy - INFO - Chain [1] done processing\n",
      "c:\\Users\\natra\\AppData\\Local\\Programs\\Python\\Python310\\lib\\site-packages\\sklearn\\metrics\\_regression.py:492: FutureWarning: 'squared' is deprecated in version 1.4 and will be removed in 1.6. To calculate the root mean squared error, use the function'root_mean_squared_error'.\n",
      "  warnings.warn(\n",
      "10:44:23 - cmdstanpy - INFO - Chain [1] start processing\n",
      "10:44:23 - cmdstanpy - INFO - Chain [1] done processing\n",
      "c:\\Users\\natra\\AppData\\Local\\Programs\\Python\\Python310\\lib\\site-packages\\sklearn\\metrics\\_regression.py:492: FutureWarning: 'squared' is deprecated in version 1.4 and will be removed in 1.6. To calculate the root mean squared error, use the function'root_mean_squared_error'.\n",
      "  warnings.warn(\n"
     ]
    },
    {
     "name": "stdout",
     "output_type": "stream",
     "text": [
      "R² Score: 0.724, RMSE: 2.724, MAE: 2.181\n",
      "\n",
      "Evaluating: changepoint_prior_scale=0.04, seasonality_prior_scale=1.1, seasonality_mode=additive\n"
     ]
    },
    {
     "name": "stderr",
     "output_type": "stream",
     "text": [
      "10:44:24 - cmdstanpy - INFO - Chain [1] start processing\n",
      "10:44:24 - cmdstanpy - INFO - Chain [1] done processing\n",
      "c:\\Users\\natra\\AppData\\Local\\Programs\\Python\\Python310\\lib\\site-packages\\sklearn\\metrics\\_regression.py:492: FutureWarning: 'squared' is deprecated in version 1.4 and will be removed in 1.6. To calculate the root mean squared error, use the function'root_mean_squared_error'.\n",
      "  warnings.warn(\n",
      "10:44:24 - cmdstanpy - INFO - Chain [1] start processing\n",
      "10:44:24 - cmdstanpy - INFO - Chain [1] done processing\n",
      "c:\\Users\\natra\\AppData\\Local\\Programs\\Python\\Python310\\lib\\site-packages\\sklearn\\metrics\\_regression.py:492: FutureWarning: 'squared' is deprecated in version 1.4 and will be removed in 1.6. To calculate the root mean squared error, use the function'root_mean_squared_error'.\n",
      "  warnings.warn(\n",
      "10:44:25 - cmdstanpy - INFO - Chain [1] start processing\n",
      "10:44:25 - cmdstanpy - INFO - Chain [1] done processing\n",
      "c:\\Users\\natra\\AppData\\Local\\Programs\\Python\\Python310\\lib\\site-packages\\sklearn\\metrics\\_regression.py:492: FutureWarning: 'squared' is deprecated in version 1.4 and will be removed in 1.6. To calculate the root mean squared error, use the function'root_mean_squared_error'.\n",
      "  warnings.warn(\n",
      "10:44:25 - cmdstanpy - INFO - Chain [1] start processing\n",
      "10:44:26 - cmdstanpy - INFO - Chain [1] done processing\n",
      "c:\\Users\\natra\\AppData\\Local\\Programs\\Python\\Python310\\lib\\site-packages\\sklearn\\metrics\\_regression.py:492: FutureWarning: 'squared' is deprecated in version 1.4 and will be removed in 1.6. To calculate the root mean squared error, use the function'root_mean_squared_error'.\n",
      "  warnings.warn(\n",
      "10:44:26 - cmdstanpy - INFO - Chain [1] start processing\n",
      "10:44:26 - cmdstanpy - INFO - Chain [1] done processing\n",
      "c:\\Users\\natra\\AppData\\Local\\Programs\\Python\\Python310\\lib\\site-packages\\sklearn\\metrics\\_regression.py:492: FutureWarning: 'squared' is deprecated in version 1.4 and will be removed in 1.6. To calculate the root mean squared error, use the function'root_mean_squared_error'.\n",
      "  warnings.warn(\n"
     ]
    },
    {
     "name": "stdout",
     "output_type": "stream",
     "text": [
      "R² Score: 0.731, RMSE: 2.691, MAE: 2.161\n",
      "\n",
      "Evaluating: changepoint_prior_scale=0.04, seasonality_prior_scale=1.1, seasonality_mode=multiplicative\n"
     ]
    },
    {
     "name": "stderr",
     "output_type": "stream",
     "text": [
      "10:44:27 - cmdstanpy - INFO - Chain [1] start processing\n",
      "10:44:27 - cmdstanpy - INFO - Chain [1] done processing\n",
      "c:\\Users\\natra\\AppData\\Local\\Programs\\Python\\Python310\\lib\\site-packages\\sklearn\\metrics\\_regression.py:492: FutureWarning: 'squared' is deprecated in version 1.4 and will be removed in 1.6. To calculate the root mean squared error, use the function'root_mean_squared_error'.\n",
      "  warnings.warn(\n",
      "10:44:27 - cmdstanpy - INFO - Chain [1] start processing\n",
      "10:44:27 - cmdstanpy - INFO - Chain [1] done processing\n",
      "c:\\Users\\natra\\AppData\\Local\\Programs\\Python\\Python310\\lib\\site-packages\\sklearn\\metrics\\_regression.py:492: FutureWarning: 'squared' is deprecated in version 1.4 and will be removed in 1.6. To calculate the root mean squared error, use the function'root_mean_squared_error'.\n",
      "  warnings.warn(\n",
      "10:44:28 - cmdstanpy - INFO - Chain [1] start processing\n",
      "10:44:28 - cmdstanpy - INFO - Chain [1] done processing\n",
      "c:\\Users\\natra\\AppData\\Local\\Programs\\Python\\Python310\\lib\\site-packages\\sklearn\\metrics\\_regression.py:492: FutureWarning: 'squared' is deprecated in version 1.4 and will be removed in 1.6. To calculate the root mean squared error, use the function'root_mean_squared_error'.\n",
      "  warnings.warn(\n",
      "10:44:28 - cmdstanpy - INFO - Chain [1] start processing\n",
      "10:44:29 - cmdstanpy - INFO - Chain [1] done processing\n",
      "c:\\Users\\natra\\AppData\\Local\\Programs\\Python\\Python310\\lib\\site-packages\\sklearn\\metrics\\_regression.py:492: FutureWarning: 'squared' is deprecated in version 1.4 and will be removed in 1.6. To calculate the root mean squared error, use the function'root_mean_squared_error'.\n",
      "  warnings.warn(\n",
      "10:44:29 - cmdstanpy - INFO - Chain [1] start processing\n",
      "10:44:29 - cmdstanpy - INFO - Chain [1] done processing\n",
      "c:\\Users\\natra\\AppData\\Local\\Programs\\Python\\Python310\\lib\\site-packages\\sklearn\\metrics\\_regression.py:492: FutureWarning: 'squared' is deprecated in version 1.4 and will be removed in 1.6. To calculate the root mean squared error, use the function'root_mean_squared_error'.\n",
      "  warnings.warn(\n"
     ]
    },
    {
     "name": "stdout",
     "output_type": "stream",
     "text": [
      "R² Score: 0.722, RMSE: 2.734, MAE: 2.190\n",
      "\n",
      "Evaluating: changepoint_prior_scale=0.04, seasonality_prior_scale=2.1, seasonality_mode=additive\n"
     ]
    },
    {
     "name": "stderr",
     "output_type": "stream",
     "text": [
      "10:44:30 - cmdstanpy - INFO - Chain [1] start processing\n",
      "10:44:30 - cmdstanpy - INFO - Chain [1] done processing\n",
      "c:\\Users\\natra\\AppData\\Local\\Programs\\Python\\Python310\\lib\\site-packages\\sklearn\\metrics\\_regression.py:492: FutureWarning: 'squared' is deprecated in version 1.4 and will be removed in 1.6. To calculate the root mean squared error, use the function'root_mean_squared_error'.\n",
      "  warnings.warn(\n",
      "10:44:31 - cmdstanpy - INFO - Chain [1] start processing\n",
      "10:44:31 - cmdstanpy - INFO - Chain [1] done processing\n",
      "c:\\Users\\natra\\AppData\\Local\\Programs\\Python\\Python310\\lib\\site-packages\\sklearn\\metrics\\_regression.py:492: FutureWarning: 'squared' is deprecated in version 1.4 and will be removed in 1.6. To calculate the root mean squared error, use the function'root_mean_squared_error'.\n",
      "  warnings.warn(\n",
      "10:44:31 - cmdstanpy - INFO - Chain [1] start processing\n",
      "10:44:31 - cmdstanpy - INFO - Chain [1] done processing\n",
      "c:\\Users\\natra\\AppData\\Local\\Programs\\Python\\Python310\\lib\\site-packages\\sklearn\\metrics\\_regression.py:492: FutureWarning: 'squared' is deprecated in version 1.4 and will be removed in 1.6. To calculate the root mean squared error, use the function'root_mean_squared_error'.\n",
      "  warnings.warn(\n",
      "10:44:32 - cmdstanpy - INFO - Chain [1] start processing\n",
      "10:44:32 - cmdstanpy - INFO - Chain [1] done processing\n",
      "c:\\Users\\natra\\AppData\\Local\\Programs\\Python\\Python310\\lib\\site-packages\\sklearn\\metrics\\_regression.py:492: FutureWarning: 'squared' is deprecated in version 1.4 and will be removed in 1.6. To calculate the root mean squared error, use the function'root_mean_squared_error'.\n",
      "  warnings.warn(\n",
      "10:44:33 - cmdstanpy - INFO - Chain [1] start processing\n",
      "10:44:33 - cmdstanpy - INFO - Chain [1] done processing\n",
      "c:\\Users\\natra\\AppData\\Local\\Programs\\Python\\Python310\\lib\\site-packages\\sklearn\\metrics\\_regression.py:492: FutureWarning: 'squared' is deprecated in version 1.4 and will be removed in 1.6. To calculate the root mean squared error, use the function'root_mean_squared_error'.\n",
      "  warnings.warn(\n"
     ]
    },
    {
     "name": "stdout",
     "output_type": "stream",
     "text": [
      "R² Score: 0.730, RMSE: 2.698, MAE: 2.161\n",
      "\n",
      "Evaluating: changepoint_prior_scale=0.04, seasonality_prior_scale=2.1, seasonality_mode=multiplicative\n"
     ]
    },
    {
     "name": "stderr",
     "output_type": "stream",
     "text": [
      "10:44:33 - cmdstanpy - INFO - Chain [1] start processing\n",
      "10:44:33 - cmdstanpy - INFO - Chain [1] done processing\n",
      "c:\\Users\\natra\\AppData\\Local\\Programs\\Python\\Python310\\lib\\site-packages\\sklearn\\metrics\\_regression.py:492: FutureWarning: 'squared' is deprecated in version 1.4 and will be removed in 1.6. To calculate the root mean squared error, use the function'root_mean_squared_error'.\n",
      "  warnings.warn(\n",
      "10:44:34 - cmdstanpy - INFO - Chain [1] start processing\n",
      "10:44:34 - cmdstanpy - INFO - Chain [1] done processing\n",
      "c:\\Users\\natra\\AppData\\Local\\Programs\\Python\\Python310\\lib\\site-packages\\sklearn\\metrics\\_regression.py:492: FutureWarning: 'squared' is deprecated in version 1.4 and will be removed in 1.6. To calculate the root mean squared error, use the function'root_mean_squared_error'.\n",
      "  warnings.warn(\n",
      "10:44:35 - cmdstanpy - INFO - Chain [1] start processing\n",
      "10:44:35 - cmdstanpy - INFO - Chain [1] done processing\n",
      "c:\\Users\\natra\\AppData\\Local\\Programs\\Python\\Python310\\lib\\site-packages\\sklearn\\metrics\\_regression.py:492: FutureWarning: 'squared' is deprecated in version 1.4 and will be removed in 1.6. To calculate the root mean squared error, use the function'root_mean_squared_error'.\n",
      "  warnings.warn(\n",
      "10:44:35 - cmdstanpy - INFO - Chain [1] start processing\n",
      "10:44:35 - cmdstanpy - INFO - Chain [1] done processing\n",
      "c:\\Users\\natra\\AppData\\Local\\Programs\\Python\\Python310\\lib\\site-packages\\sklearn\\metrics\\_regression.py:492: FutureWarning: 'squared' is deprecated in version 1.4 and will be removed in 1.6. To calculate the root mean squared error, use the function'root_mean_squared_error'.\n",
      "  warnings.warn(\n",
      "10:44:36 - cmdstanpy - INFO - Chain [1] start processing\n",
      "10:44:36 - cmdstanpy - INFO - Chain [1] done processing\n",
      "c:\\Users\\natra\\AppData\\Local\\Programs\\Python\\Python310\\lib\\site-packages\\sklearn\\metrics\\_regression.py:492: FutureWarning: 'squared' is deprecated in version 1.4 and will be removed in 1.6. To calculate the root mean squared error, use the function'root_mean_squared_error'.\n",
      "  warnings.warn(\n"
     ]
    },
    {
     "name": "stdout",
     "output_type": "stream",
     "text": [
      "R² Score: 0.723, RMSE: 2.730, MAE: 2.186\n",
      "\n",
      "Evaluating: changepoint_prior_scale=0.04, seasonality_prior_scale=3.1, seasonality_mode=additive\n"
     ]
    },
    {
     "name": "stderr",
     "output_type": "stream",
     "text": [
      "10:44:37 - cmdstanpy - INFO - Chain [1] start processing\n",
      "10:44:37 - cmdstanpy - INFO - Chain [1] done processing\n",
      "c:\\Users\\natra\\AppData\\Local\\Programs\\Python\\Python310\\lib\\site-packages\\sklearn\\metrics\\_regression.py:492: FutureWarning: 'squared' is deprecated in version 1.4 and will be removed in 1.6. To calculate the root mean squared error, use the function'root_mean_squared_error'.\n",
      "  warnings.warn(\n",
      "10:44:37 - cmdstanpy - INFO - Chain [1] start processing\n",
      "10:44:37 - cmdstanpy - INFO - Chain [1] done processing\n",
      "c:\\Users\\natra\\AppData\\Local\\Programs\\Python\\Python310\\lib\\site-packages\\sklearn\\metrics\\_regression.py:492: FutureWarning: 'squared' is deprecated in version 1.4 and will be removed in 1.6. To calculate the root mean squared error, use the function'root_mean_squared_error'.\n",
      "  warnings.warn(\n",
      "10:44:38 - cmdstanpy - INFO - Chain [1] start processing\n",
      "10:44:38 - cmdstanpy - INFO - Chain [1] done processing\n",
      "c:\\Users\\natra\\AppData\\Local\\Programs\\Python\\Python310\\lib\\site-packages\\sklearn\\metrics\\_regression.py:492: FutureWarning: 'squared' is deprecated in version 1.4 and will be removed in 1.6. To calculate the root mean squared error, use the function'root_mean_squared_error'.\n",
      "  warnings.warn(\n",
      "10:44:38 - cmdstanpy - INFO - Chain [1] start processing\n",
      "10:44:39 - cmdstanpy - INFO - Chain [1] done processing\n",
      "c:\\Users\\natra\\AppData\\Local\\Programs\\Python\\Python310\\lib\\site-packages\\sklearn\\metrics\\_regression.py:492: FutureWarning: 'squared' is deprecated in version 1.4 and will be removed in 1.6. To calculate the root mean squared error, use the function'root_mean_squared_error'.\n",
      "  warnings.warn(\n",
      "10:44:39 - cmdstanpy - INFO - Chain [1] start processing\n",
      "10:44:39 - cmdstanpy - INFO - Chain [1] done processing\n",
      "c:\\Users\\natra\\AppData\\Local\\Programs\\Python\\Python310\\lib\\site-packages\\sklearn\\metrics\\_regression.py:492: FutureWarning: 'squared' is deprecated in version 1.4 and will be removed in 1.6. To calculate the root mean squared error, use the function'root_mean_squared_error'.\n",
      "  warnings.warn(\n"
     ]
    },
    {
     "name": "stdout",
     "output_type": "stream",
     "text": [
      "R² Score: 0.729, RMSE: 2.700, MAE: 2.162\n",
      "\n",
      "Evaluating: changepoint_prior_scale=0.04, seasonality_prior_scale=3.1, seasonality_mode=multiplicative\n"
     ]
    },
    {
     "name": "stderr",
     "output_type": "stream",
     "text": [
      "10:44:40 - cmdstanpy - INFO - Chain [1] start processing\n",
      "10:44:40 - cmdstanpy - INFO - Chain [1] done processing\n",
      "c:\\Users\\natra\\AppData\\Local\\Programs\\Python\\Python310\\lib\\site-packages\\sklearn\\metrics\\_regression.py:492: FutureWarning: 'squared' is deprecated in version 1.4 and will be removed in 1.6. To calculate the root mean squared error, use the function'root_mean_squared_error'.\n",
      "  warnings.warn(\n",
      "10:44:40 - cmdstanpy - INFO - Chain [1] start processing\n",
      "10:44:40 - cmdstanpy - INFO - Chain [1] done processing\n",
      "c:\\Users\\natra\\AppData\\Local\\Programs\\Python\\Python310\\lib\\site-packages\\sklearn\\metrics\\_regression.py:492: FutureWarning: 'squared' is deprecated in version 1.4 and will be removed in 1.6. To calculate the root mean squared error, use the function'root_mean_squared_error'.\n",
      "  warnings.warn(\n",
      "10:44:41 - cmdstanpy - INFO - Chain [1] start processing\n",
      "10:44:41 - cmdstanpy - INFO - Chain [1] done processing\n",
      "c:\\Users\\natra\\AppData\\Local\\Programs\\Python\\Python310\\lib\\site-packages\\sklearn\\metrics\\_regression.py:492: FutureWarning: 'squared' is deprecated in version 1.4 and will be removed in 1.6. To calculate the root mean squared error, use the function'root_mean_squared_error'.\n",
      "  warnings.warn(\n",
      "10:44:41 - cmdstanpy - INFO - Chain [1] start processing\n",
      "10:44:41 - cmdstanpy - INFO - Chain [1] done processing\n",
      "c:\\Users\\natra\\AppData\\Local\\Programs\\Python\\Python310\\lib\\site-packages\\sklearn\\metrics\\_regression.py:492: FutureWarning: 'squared' is deprecated in version 1.4 and will be removed in 1.6. To calculate the root mean squared error, use the function'root_mean_squared_error'.\n",
      "  warnings.warn(\n",
      "10:44:42 - cmdstanpy - INFO - Chain [1] start processing\n",
      "10:44:42 - cmdstanpy - INFO - Chain [1] done processing\n",
      "c:\\Users\\natra\\AppData\\Local\\Programs\\Python\\Python310\\lib\\site-packages\\sklearn\\metrics\\_regression.py:492: FutureWarning: 'squared' is deprecated in version 1.4 and will be removed in 1.6. To calculate the root mean squared error, use the function'root_mean_squared_error'.\n",
      "  warnings.warn(\n"
     ]
    },
    {
     "name": "stdout",
     "output_type": "stream",
     "text": [
      "R² Score: 0.721, RMSE: 2.738, MAE: 2.193\n",
      "\n",
      "Evaluating: changepoint_prior_scale=0.04, seasonality_prior_scale=4.1, seasonality_mode=additive\n"
     ]
    },
    {
     "name": "stderr",
     "output_type": "stream",
     "text": [
      "10:44:43 - cmdstanpy - INFO - Chain [1] start processing\n",
      "10:44:43 - cmdstanpy - INFO - Chain [1] done processing\n",
      "c:\\Users\\natra\\AppData\\Local\\Programs\\Python\\Python310\\lib\\site-packages\\sklearn\\metrics\\_regression.py:492: FutureWarning: 'squared' is deprecated in version 1.4 and will be removed in 1.6. To calculate the root mean squared error, use the function'root_mean_squared_error'.\n",
      "  warnings.warn(\n",
      "10:44:43 - cmdstanpy - INFO - Chain [1] start processing\n",
      "10:44:43 - cmdstanpy - INFO - Chain [1] done processing\n",
      "c:\\Users\\natra\\AppData\\Local\\Programs\\Python\\Python310\\lib\\site-packages\\sklearn\\metrics\\_regression.py:492: FutureWarning: 'squared' is deprecated in version 1.4 and will be removed in 1.6. To calculate the root mean squared error, use the function'root_mean_squared_error'.\n",
      "  warnings.warn(\n",
      "10:44:44 - cmdstanpy - INFO - Chain [1] start processing\n",
      "10:44:44 - cmdstanpy - INFO - Chain [1] done processing\n",
      "c:\\Users\\natra\\AppData\\Local\\Programs\\Python\\Python310\\lib\\site-packages\\sklearn\\metrics\\_regression.py:492: FutureWarning: 'squared' is deprecated in version 1.4 and will be removed in 1.6. To calculate the root mean squared error, use the function'root_mean_squared_error'.\n",
      "  warnings.warn(\n",
      "10:44:44 - cmdstanpy - INFO - Chain [1] start processing\n",
      "10:44:44 - cmdstanpy - INFO - Chain [1] done processing\n",
      "c:\\Users\\natra\\AppData\\Local\\Programs\\Python\\Python310\\lib\\site-packages\\sklearn\\metrics\\_regression.py:492: FutureWarning: 'squared' is deprecated in version 1.4 and will be removed in 1.6. To calculate the root mean squared error, use the function'root_mean_squared_error'.\n",
      "  warnings.warn(\n",
      "10:44:45 - cmdstanpy - INFO - Chain [1] start processing\n",
      "10:44:45 - cmdstanpy - INFO - Chain [1] done processing\n",
      "c:\\Users\\natra\\AppData\\Local\\Programs\\Python\\Python310\\lib\\site-packages\\sklearn\\metrics\\_regression.py:492: FutureWarning: 'squared' is deprecated in version 1.4 and will be removed in 1.6. To calculate the root mean squared error, use the function'root_mean_squared_error'.\n",
      "  warnings.warn(\n"
     ]
    },
    {
     "name": "stdout",
     "output_type": "stream",
     "text": [
      "R² Score: 0.728, RMSE: 2.706, MAE: 2.167\n",
      "\n",
      "Evaluating: changepoint_prior_scale=0.04, seasonality_prior_scale=4.1, seasonality_mode=multiplicative\n"
     ]
    },
    {
     "name": "stderr",
     "output_type": "stream",
     "text": [
      "10:44:46 - cmdstanpy - INFO - Chain [1] start processing\n",
      "10:44:46 - cmdstanpy - INFO - Chain [1] done processing\n",
      "c:\\Users\\natra\\AppData\\Local\\Programs\\Python\\Python310\\lib\\site-packages\\sklearn\\metrics\\_regression.py:492: FutureWarning: 'squared' is deprecated in version 1.4 and will be removed in 1.6. To calculate the root mean squared error, use the function'root_mean_squared_error'.\n",
      "  warnings.warn(\n",
      "10:44:46 - cmdstanpy - INFO - Chain [1] start processing\n",
      "10:44:46 - cmdstanpy - INFO - Chain [1] done processing\n",
      "c:\\Users\\natra\\AppData\\Local\\Programs\\Python\\Python310\\lib\\site-packages\\sklearn\\metrics\\_regression.py:492: FutureWarning: 'squared' is deprecated in version 1.4 and will be removed in 1.6. To calculate the root mean squared error, use the function'root_mean_squared_error'.\n",
      "  warnings.warn(\n",
      "10:44:47 - cmdstanpy - INFO - Chain [1] start processing\n",
      "10:44:47 - cmdstanpy - INFO - Chain [1] done processing\n",
      "c:\\Users\\natra\\AppData\\Local\\Programs\\Python\\Python310\\lib\\site-packages\\sklearn\\metrics\\_regression.py:492: FutureWarning: 'squared' is deprecated in version 1.4 and will be removed in 1.6. To calculate the root mean squared error, use the function'root_mean_squared_error'.\n",
      "  warnings.warn(\n",
      "10:44:47 - cmdstanpy - INFO - Chain [1] start processing\n",
      "10:44:47 - cmdstanpy - INFO - Chain [1] done processing\n",
      "c:\\Users\\natra\\AppData\\Local\\Programs\\Python\\Python310\\lib\\site-packages\\sklearn\\metrics\\_regression.py:492: FutureWarning: 'squared' is deprecated in version 1.4 and will be removed in 1.6. To calculate the root mean squared error, use the function'root_mean_squared_error'.\n",
      "  warnings.warn(\n",
      "10:44:48 - cmdstanpy - INFO - Chain [1] start processing\n",
      "10:44:48 - cmdstanpy - INFO - Chain [1] done processing\n",
      "c:\\Users\\natra\\AppData\\Local\\Programs\\Python\\Python310\\lib\\site-packages\\sklearn\\metrics\\_regression.py:492: FutureWarning: 'squared' is deprecated in version 1.4 and will be removed in 1.6. To calculate the root mean squared error, use the function'root_mean_squared_error'.\n",
      "  warnings.warn(\n"
     ]
    },
    {
     "name": "stdout",
     "output_type": "stream",
     "text": [
      "R² Score: 0.721, RMSE: 2.736, MAE: 2.192\n",
      "\n",
      "Evaluating: changepoint_prior_scale=0.04, seasonality_prior_scale=5.1, seasonality_mode=additive\n"
     ]
    },
    {
     "name": "stderr",
     "output_type": "stream",
     "text": [
      "10:44:48 - cmdstanpy - INFO - Chain [1] start processing\n",
      "10:44:49 - cmdstanpy - INFO - Chain [1] done processing\n",
      "c:\\Users\\natra\\AppData\\Local\\Programs\\Python\\Python310\\lib\\site-packages\\sklearn\\metrics\\_regression.py:492: FutureWarning: 'squared' is deprecated in version 1.4 and will be removed in 1.6. To calculate the root mean squared error, use the function'root_mean_squared_error'.\n",
      "  warnings.warn(\n",
      "10:44:49 - cmdstanpy - INFO - Chain [1] start processing\n",
      "10:44:49 - cmdstanpy - INFO - Chain [1] done processing\n",
      "c:\\Users\\natra\\AppData\\Local\\Programs\\Python\\Python310\\lib\\site-packages\\sklearn\\metrics\\_regression.py:492: FutureWarning: 'squared' is deprecated in version 1.4 and will be removed in 1.6. To calculate the root mean squared error, use the function'root_mean_squared_error'.\n",
      "  warnings.warn(\n",
      "10:44:50 - cmdstanpy - INFO - Chain [1] start processing\n",
      "10:44:50 - cmdstanpy - INFO - Chain [1] done processing\n",
      "c:\\Users\\natra\\AppData\\Local\\Programs\\Python\\Python310\\lib\\site-packages\\sklearn\\metrics\\_regression.py:492: FutureWarning: 'squared' is deprecated in version 1.4 and will be removed in 1.6. To calculate the root mean squared error, use the function'root_mean_squared_error'.\n",
      "  warnings.warn(\n",
      "10:44:50 - cmdstanpy - INFO - Chain [1] start processing\n",
      "10:44:50 - cmdstanpy - INFO - Chain [1] done processing\n",
      "c:\\Users\\natra\\AppData\\Local\\Programs\\Python\\Python310\\lib\\site-packages\\sklearn\\metrics\\_regression.py:492: FutureWarning: 'squared' is deprecated in version 1.4 and will be removed in 1.6. To calculate the root mean squared error, use the function'root_mean_squared_error'.\n",
      "  warnings.warn(\n",
      "10:44:51 - cmdstanpy - INFO - Chain [1] start processing\n",
      "10:44:51 - cmdstanpy - INFO - Chain [1] done processing\n",
      "c:\\Users\\natra\\AppData\\Local\\Programs\\Python\\Python310\\lib\\site-packages\\sklearn\\metrics\\_regression.py:492: FutureWarning: 'squared' is deprecated in version 1.4 and will be removed in 1.6. To calculate the root mean squared error, use the function'root_mean_squared_error'.\n",
      "  warnings.warn(\n"
     ]
    },
    {
     "name": "stdout",
     "output_type": "stream",
     "text": [
      "R² Score: 0.727, RMSE: 2.709, MAE: 2.170\n",
      "\n",
      "Evaluating: changepoint_prior_scale=0.04, seasonality_prior_scale=5.1, seasonality_mode=multiplicative\n"
     ]
    },
    {
     "name": "stderr",
     "output_type": "stream",
     "text": [
      "10:44:51 - cmdstanpy - INFO - Chain [1] start processing\n",
      "10:44:52 - cmdstanpy - INFO - Chain [1] done processing\n",
      "c:\\Users\\natra\\AppData\\Local\\Programs\\Python\\Python310\\lib\\site-packages\\sklearn\\metrics\\_regression.py:492: FutureWarning: 'squared' is deprecated in version 1.4 and will be removed in 1.6. To calculate the root mean squared error, use the function'root_mean_squared_error'.\n",
      "  warnings.warn(\n",
      "10:44:52 - cmdstanpy - INFO - Chain [1] start processing\n",
      "10:44:52 - cmdstanpy - INFO - Chain [1] done processing\n",
      "c:\\Users\\natra\\AppData\\Local\\Programs\\Python\\Python310\\lib\\site-packages\\sklearn\\metrics\\_regression.py:492: FutureWarning: 'squared' is deprecated in version 1.4 and will be removed in 1.6. To calculate the root mean squared error, use the function'root_mean_squared_error'.\n",
      "  warnings.warn(\n",
      "10:44:53 - cmdstanpy - INFO - Chain [1] start processing\n",
      "10:44:53 - cmdstanpy - INFO - Chain [1] done processing\n",
      "c:\\Users\\natra\\AppData\\Local\\Programs\\Python\\Python310\\lib\\site-packages\\sklearn\\metrics\\_regression.py:492: FutureWarning: 'squared' is deprecated in version 1.4 and will be removed in 1.6. To calculate the root mean squared error, use the function'root_mean_squared_error'.\n",
      "  warnings.warn(\n",
      "10:44:53 - cmdstanpy - INFO - Chain [1] start processing\n",
      "10:44:53 - cmdstanpy - INFO - Chain [1] done processing\n",
      "c:\\Users\\natra\\AppData\\Local\\Programs\\Python\\Python310\\lib\\site-packages\\sklearn\\metrics\\_regression.py:492: FutureWarning: 'squared' is deprecated in version 1.4 and will be removed in 1.6. To calculate the root mean squared error, use the function'root_mean_squared_error'.\n",
      "  warnings.warn(\n",
      "10:44:54 - cmdstanpy - INFO - Chain [1] start processing\n",
      "10:44:54 - cmdstanpy - INFO - Chain [1] done processing\n",
      "c:\\Users\\natra\\AppData\\Local\\Programs\\Python\\Python310\\lib\\site-packages\\sklearn\\metrics\\_regression.py:492: FutureWarning: 'squared' is deprecated in version 1.4 and will be removed in 1.6. To calculate the root mean squared error, use the function'root_mean_squared_error'.\n",
      "  warnings.warn(\n"
     ]
    },
    {
     "name": "stdout",
     "output_type": "stream",
     "text": [
      "R² Score: 0.721, RMSE: 2.737, MAE: 2.192\n",
      "\n",
      "Evaluating: changepoint_prior_scale=0.04, seasonality_prior_scale=6.1, seasonality_mode=additive\n"
     ]
    },
    {
     "name": "stderr",
     "output_type": "stream",
     "text": [
      "10:44:54 - cmdstanpy - INFO - Chain [1] start processing\n",
      "10:44:55 - cmdstanpy - INFO - Chain [1] done processing\n",
      "c:\\Users\\natra\\AppData\\Local\\Programs\\Python\\Python310\\lib\\site-packages\\sklearn\\metrics\\_regression.py:492: FutureWarning: 'squared' is deprecated in version 1.4 and will be removed in 1.6. To calculate the root mean squared error, use the function'root_mean_squared_error'.\n",
      "  warnings.warn(\n",
      "10:44:55 - cmdstanpy - INFO - Chain [1] start processing\n",
      "10:44:55 - cmdstanpy - INFO - Chain [1] done processing\n",
      "c:\\Users\\natra\\AppData\\Local\\Programs\\Python\\Python310\\lib\\site-packages\\sklearn\\metrics\\_regression.py:492: FutureWarning: 'squared' is deprecated in version 1.4 and will be removed in 1.6. To calculate the root mean squared error, use the function'root_mean_squared_error'.\n",
      "  warnings.warn(\n",
      "10:44:56 - cmdstanpy - INFO - Chain [1] start processing\n",
      "10:44:56 - cmdstanpy - INFO - Chain [1] done processing\n",
      "c:\\Users\\natra\\AppData\\Local\\Programs\\Python\\Python310\\lib\\site-packages\\sklearn\\metrics\\_regression.py:492: FutureWarning: 'squared' is deprecated in version 1.4 and will be removed in 1.6. To calculate the root mean squared error, use the function'root_mean_squared_error'.\n",
      "  warnings.warn(\n",
      "10:44:56 - cmdstanpy - INFO - Chain [1] start processing\n",
      "10:44:56 - cmdstanpy - INFO - Chain [1] done processing\n",
      "c:\\Users\\natra\\AppData\\Local\\Programs\\Python\\Python310\\lib\\site-packages\\sklearn\\metrics\\_regression.py:492: FutureWarning: 'squared' is deprecated in version 1.4 and will be removed in 1.6. To calculate the root mean squared error, use the function'root_mean_squared_error'.\n",
      "  warnings.warn(\n",
      "10:44:57 - cmdstanpy - INFO - Chain [1] start processing\n",
      "10:44:57 - cmdstanpy - INFO - Chain [1] done processing\n",
      "c:\\Users\\natra\\AppData\\Local\\Programs\\Python\\Python310\\lib\\site-packages\\sklearn\\metrics\\_regression.py:492: FutureWarning: 'squared' is deprecated in version 1.4 and will be removed in 1.6. To calculate the root mean squared error, use the function'root_mean_squared_error'.\n",
      "  warnings.warn(\n"
     ]
    },
    {
     "name": "stdout",
     "output_type": "stream",
     "text": [
      "R² Score: 0.731, RMSE: 2.691, MAE: 2.162\n",
      "\n",
      "Evaluating: changepoint_prior_scale=0.04, seasonality_prior_scale=6.1, seasonality_mode=multiplicative\n"
     ]
    },
    {
     "name": "stderr",
     "output_type": "stream",
     "text": [
      "10:44:57 - cmdstanpy - INFO - Chain [1] start processing\n",
      "10:44:58 - cmdstanpy - INFO - Chain [1] done processing\n",
      "c:\\Users\\natra\\AppData\\Local\\Programs\\Python\\Python310\\lib\\site-packages\\sklearn\\metrics\\_regression.py:492: FutureWarning: 'squared' is deprecated in version 1.4 and will be removed in 1.6. To calculate the root mean squared error, use the function'root_mean_squared_error'.\n",
      "  warnings.warn(\n",
      "10:44:58 - cmdstanpy - INFO - Chain [1] start processing\n",
      "10:44:58 - cmdstanpy - INFO - Chain [1] done processing\n",
      "c:\\Users\\natra\\AppData\\Local\\Programs\\Python\\Python310\\lib\\site-packages\\sklearn\\metrics\\_regression.py:492: FutureWarning: 'squared' is deprecated in version 1.4 and will be removed in 1.6. To calculate the root mean squared error, use the function'root_mean_squared_error'.\n",
      "  warnings.warn(\n",
      "10:44:59 - cmdstanpy - INFO - Chain [1] start processing\n",
      "10:44:59 - cmdstanpy - INFO - Chain [1] done processing\n",
      "c:\\Users\\natra\\AppData\\Local\\Programs\\Python\\Python310\\lib\\site-packages\\sklearn\\metrics\\_regression.py:492: FutureWarning: 'squared' is deprecated in version 1.4 and will be removed in 1.6. To calculate the root mean squared error, use the function'root_mean_squared_error'.\n",
      "  warnings.warn(\n",
      "10:44:59 - cmdstanpy - INFO - Chain [1] start processing\n",
      "10:44:59 - cmdstanpy - INFO - Chain [1] done processing\n",
      "c:\\Users\\natra\\AppData\\Local\\Programs\\Python\\Python310\\lib\\site-packages\\sklearn\\metrics\\_regression.py:492: FutureWarning: 'squared' is deprecated in version 1.4 and will be removed in 1.6. To calculate the root mean squared error, use the function'root_mean_squared_error'.\n",
      "  warnings.warn(\n",
      "10:45:00 - cmdstanpy - INFO - Chain [1] start processing\n",
      "10:45:00 - cmdstanpy - INFO - Chain [1] done processing\n",
      "c:\\Users\\natra\\AppData\\Local\\Programs\\Python\\Python310\\lib\\site-packages\\sklearn\\metrics\\_regression.py:492: FutureWarning: 'squared' is deprecated in version 1.4 and will be removed in 1.6. To calculate the root mean squared error, use the function'root_mean_squared_error'.\n",
      "  warnings.warn(\n"
     ]
    },
    {
     "name": "stdout",
     "output_type": "stream",
     "text": [
      "R² Score: 0.723, RMSE: 2.729, MAE: 2.185\n",
      "\n",
      "Evaluating: changepoint_prior_scale=0.04, seasonality_prior_scale=7.1, seasonality_mode=additive\n"
     ]
    },
    {
     "name": "stderr",
     "output_type": "stream",
     "text": [
      "10:45:00 - cmdstanpy - INFO - Chain [1] start processing\n",
      "10:45:01 - cmdstanpy - INFO - Chain [1] done processing\n",
      "c:\\Users\\natra\\AppData\\Local\\Programs\\Python\\Python310\\lib\\site-packages\\sklearn\\metrics\\_regression.py:492: FutureWarning: 'squared' is deprecated in version 1.4 and will be removed in 1.6. To calculate the root mean squared error, use the function'root_mean_squared_error'.\n",
      "  warnings.warn(\n",
      "10:45:01 - cmdstanpy - INFO - Chain [1] start processing\n",
      "10:45:01 - cmdstanpy - INFO - Chain [1] done processing\n",
      "c:\\Users\\natra\\AppData\\Local\\Programs\\Python\\Python310\\lib\\site-packages\\sklearn\\metrics\\_regression.py:492: FutureWarning: 'squared' is deprecated in version 1.4 and will be removed in 1.6. To calculate the root mean squared error, use the function'root_mean_squared_error'.\n",
      "  warnings.warn(\n",
      "10:45:02 - cmdstanpy - INFO - Chain [1] start processing\n",
      "10:45:02 - cmdstanpy - INFO - Chain [1] done processing\n",
      "c:\\Users\\natra\\AppData\\Local\\Programs\\Python\\Python310\\lib\\site-packages\\sklearn\\metrics\\_regression.py:492: FutureWarning: 'squared' is deprecated in version 1.4 and will be removed in 1.6. To calculate the root mean squared error, use the function'root_mean_squared_error'.\n",
      "  warnings.warn(\n",
      "10:45:02 - cmdstanpy - INFO - Chain [1] start processing\n",
      "10:45:02 - cmdstanpy - INFO - Chain [1] done processing\n",
      "c:\\Users\\natra\\AppData\\Local\\Programs\\Python\\Python310\\lib\\site-packages\\sklearn\\metrics\\_regression.py:492: FutureWarning: 'squared' is deprecated in version 1.4 and will be removed in 1.6. To calculate the root mean squared error, use the function'root_mean_squared_error'.\n",
      "  warnings.warn(\n",
      "10:45:03 - cmdstanpy - INFO - Chain [1] start processing\n",
      "10:45:03 - cmdstanpy - INFO - Chain [1] done processing\n",
      "c:\\Users\\natra\\AppData\\Local\\Programs\\Python\\Python310\\lib\\site-packages\\sklearn\\metrics\\_regression.py:492: FutureWarning: 'squared' is deprecated in version 1.4 and will be removed in 1.6. To calculate the root mean squared error, use the function'root_mean_squared_error'.\n",
      "  warnings.warn(\n"
     ]
    },
    {
     "name": "stdout",
     "output_type": "stream",
     "text": [
      "R² Score: 0.731, RMSE: 2.690, MAE: 2.160\n",
      "\n",
      "Evaluating: changepoint_prior_scale=0.04, seasonality_prior_scale=7.1, seasonality_mode=multiplicative\n"
     ]
    },
    {
     "name": "stderr",
     "output_type": "stream",
     "text": [
      "10:45:03 - cmdstanpy - INFO - Chain [1] start processing\n",
      "10:45:03 - cmdstanpy - INFO - Chain [1] done processing\n",
      "c:\\Users\\natra\\AppData\\Local\\Programs\\Python\\Python310\\lib\\site-packages\\sklearn\\metrics\\_regression.py:492: FutureWarning: 'squared' is deprecated in version 1.4 and will be removed in 1.6. To calculate the root mean squared error, use the function'root_mean_squared_error'.\n",
      "  warnings.warn(\n",
      "10:45:04 - cmdstanpy - INFO - Chain [1] start processing\n",
      "10:45:04 - cmdstanpy - INFO - Chain [1] done processing\n",
      "c:\\Users\\natra\\AppData\\Local\\Programs\\Python\\Python310\\lib\\site-packages\\sklearn\\metrics\\_regression.py:492: FutureWarning: 'squared' is deprecated in version 1.4 and will be removed in 1.6. To calculate the root mean squared error, use the function'root_mean_squared_error'.\n",
      "  warnings.warn(\n",
      "10:45:04 - cmdstanpy - INFO - Chain [1] start processing\n",
      "10:45:05 - cmdstanpy - INFO - Chain [1] done processing\n",
      "c:\\Users\\natra\\AppData\\Local\\Programs\\Python\\Python310\\lib\\site-packages\\sklearn\\metrics\\_regression.py:492: FutureWarning: 'squared' is deprecated in version 1.4 and will be removed in 1.6. To calculate the root mean squared error, use the function'root_mean_squared_error'.\n",
      "  warnings.warn(\n",
      "10:45:05 - cmdstanpy - INFO - Chain [1] start processing\n",
      "10:45:05 - cmdstanpy - INFO - Chain [1] done processing\n",
      "c:\\Users\\natra\\AppData\\Local\\Programs\\Python\\Python310\\lib\\site-packages\\sklearn\\metrics\\_regression.py:492: FutureWarning: 'squared' is deprecated in version 1.4 and will be removed in 1.6. To calculate the root mean squared error, use the function'root_mean_squared_error'.\n",
      "  warnings.warn(\n",
      "10:45:06 - cmdstanpy - INFO - Chain [1] start processing\n",
      "10:45:06 - cmdstanpy - INFO - Chain [1] done processing\n",
      "c:\\Users\\natra\\AppData\\Local\\Programs\\Python\\Python310\\lib\\site-packages\\sklearn\\metrics\\_regression.py:492: FutureWarning: 'squared' is deprecated in version 1.4 and will be removed in 1.6. To calculate the root mean squared error, use the function'root_mean_squared_error'.\n",
      "  warnings.warn(\n"
     ]
    },
    {
     "name": "stdout",
     "output_type": "stream",
     "text": [
      "R² Score: 0.723, RMSE: 2.731, MAE: 2.187\n",
      "\n",
      "Evaluating: changepoint_prior_scale=0.04, seasonality_prior_scale=8.1, seasonality_mode=additive\n"
     ]
    },
    {
     "name": "stderr",
     "output_type": "stream",
     "text": [
      "10:45:06 - cmdstanpy - INFO - Chain [1] start processing\n",
      "10:45:06 - cmdstanpy - INFO - Chain [1] done processing\n",
      "c:\\Users\\natra\\AppData\\Local\\Programs\\Python\\Python310\\lib\\site-packages\\sklearn\\metrics\\_regression.py:492: FutureWarning: 'squared' is deprecated in version 1.4 and will be removed in 1.6. To calculate the root mean squared error, use the function'root_mean_squared_error'.\n",
      "  warnings.warn(\n",
      "10:45:07 - cmdstanpy - INFO - Chain [1] start processing\n",
      "10:45:07 - cmdstanpy - INFO - Chain [1] done processing\n",
      "c:\\Users\\natra\\AppData\\Local\\Programs\\Python\\Python310\\lib\\site-packages\\sklearn\\metrics\\_regression.py:492: FutureWarning: 'squared' is deprecated in version 1.4 and will be removed in 1.6. To calculate the root mean squared error, use the function'root_mean_squared_error'.\n",
      "  warnings.warn(\n",
      "10:45:07 - cmdstanpy - INFO - Chain [1] start processing\n",
      "10:45:08 - cmdstanpy - INFO - Chain [1] done processing\n",
      "c:\\Users\\natra\\AppData\\Local\\Programs\\Python\\Python310\\lib\\site-packages\\sklearn\\metrics\\_regression.py:492: FutureWarning: 'squared' is deprecated in version 1.4 and will be removed in 1.6. To calculate the root mean squared error, use the function'root_mean_squared_error'.\n",
      "  warnings.warn(\n",
      "10:45:08 - cmdstanpy - INFO - Chain [1] start processing\n",
      "10:45:08 - cmdstanpy - INFO - Chain [1] done processing\n",
      "c:\\Users\\natra\\AppData\\Local\\Programs\\Python\\Python310\\lib\\site-packages\\sklearn\\metrics\\_regression.py:492: FutureWarning: 'squared' is deprecated in version 1.4 and will be removed in 1.6. To calculate the root mean squared error, use the function'root_mean_squared_error'.\n",
      "  warnings.warn(\n",
      "10:45:09 - cmdstanpy - INFO - Chain [1] start processing\n",
      "10:45:09 - cmdstanpy - INFO - Chain [1] done processing\n",
      "c:\\Users\\natra\\AppData\\Local\\Programs\\Python\\Python310\\lib\\site-packages\\sklearn\\metrics\\_regression.py:492: FutureWarning: 'squared' is deprecated in version 1.4 and will be removed in 1.6. To calculate the root mean squared error, use the function'root_mean_squared_error'.\n",
      "  warnings.warn(\n"
     ]
    },
    {
     "name": "stdout",
     "output_type": "stream",
     "text": [
      "R² Score: 0.731, RMSE: 2.690, MAE: 2.157\n",
      "\n",
      "Evaluating: changepoint_prior_scale=0.04, seasonality_prior_scale=8.1, seasonality_mode=multiplicative\n"
     ]
    },
    {
     "name": "stderr",
     "output_type": "stream",
     "text": [
      "10:45:10 - cmdstanpy - INFO - Chain [1] start processing\n",
      "10:45:10 - cmdstanpy - INFO - Chain [1] done processing\n",
      "c:\\Users\\natra\\AppData\\Local\\Programs\\Python\\Python310\\lib\\site-packages\\sklearn\\metrics\\_regression.py:492: FutureWarning: 'squared' is deprecated in version 1.4 and will be removed in 1.6. To calculate the root mean squared error, use the function'root_mean_squared_error'.\n",
      "  warnings.warn(\n",
      "10:45:10 - cmdstanpy - INFO - Chain [1] start processing\n",
      "10:45:10 - cmdstanpy - INFO - Chain [1] done processing\n",
      "c:\\Users\\natra\\AppData\\Local\\Programs\\Python\\Python310\\lib\\site-packages\\sklearn\\metrics\\_regression.py:492: FutureWarning: 'squared' is deprecated in version 1.4 and will be removed in 1.6. To calculate the root mean squared error, use the function'root_mean_squared_error'.\n",
      "  warnings.warn(\n",
      "10:45:11 - cmdstanpy - INFO - Chain [1] start processing\n",
      "10:45:11 - cmdstanpy - INFO - Chain [1] done processing\n",
      "c:\\Users\\natra\\AppData\\Local\\Programs\\Python\\Python310\\lib\\site-packages\\sklearn\\metrics\\_regression.py:492: FutureWarning: 'squared' is deprecated in version 1.4 and will be removed in 1.6. To calculate the root mean squared error, use the function'root_mean_squared_error'.\n",
      "  warnings.warn(\n",
      "10:45:12 - cmdstanpy - INFO - Chain [1] start processing\n",
      "10:45:12 - cmdstanpy - INFO - Chain [1] done processing\n",
      "c:\\Users\\natra\\AppData\\Local\\Programs\\Python\\Python310\\lib\\site-packages\\sklearn\\metrics\\_regression.py:492: FutureWarning: 'squared' is deprecated in version 1.4 and will be removed in 1.6. To calculate the root mean squared error, use the function'root_mean_squared_error'.\n",
      "  warnings.warn(\n",
      "10:45:12 - cmdstanpy - INFO - Chain [1] start processing\n",
      "10:45:12 - cmdstanpy - INFO - Chain [1] done processing\n",
      "c:\\Users\\natra\\AppData\\Local\\Programs\\Python\\Python310\\lib\\site-packages\\sklearn\\metrics\\_regression.py:492: FutureWarning: 'squared' is deprecated in version 1.4 and will be removed in 1.6. To calculate the root mean squared error, use the function'root_mean_squared_error'.\n",
      "  warnings.warn(\n"
     ]
    },
    {
     "name": "stdout",
     "output_type": "stream",
     "text": [
      "R² Score: 0.723, RMSE: 2.729, MAE: 2.186\n",
      "\n",
      "Evaluating: changepoint_prior_scale=0.04, seasonality_prior_scale=9.1, seasonality_mode=additive\n"
     ]
    },
    {
     "name": "stderr",
     "output_type": "stream",
     "text": [
      "10:45:13 - cmdstanpy - INFO - Chain [1] start processing\n",
      "10:45:13 - cmdstanpy - INFO - Chain [1] done processing\n",
      "c:\\Users\\natra\\AppData\\Local\\Programs\\Python\\Python310\\lib\\site-packages\\sklearn\\metrics\\_regression.py:492: FutureWarning: 'squared' is deprecated in version 1.4 and will be removed in 1.6. To calculate the root mean squared error, use the function'root_mean_squared_error'.\n",
      "  warnings.warn(\n",
      "10:45:14 - cmdstanpy - INFO - Chain [1] start processing\n",
      "10:45:14 - cmdstanpy - INFO - Chain [1] done processing\n",
      "c:\\Users\\natra\\AppData\\Local\\Programs\\Python\\Python310\\lib\\site-packages\\sklearn\\metrics\\_regression.py:492: FutureWarning: 'squared' is deprecated in version 1.4 and will be removed in 1.6. To calculate the root mean squared error, use the function'root_mean_squared_error'.\n",
      "  warnings.warn(\n",
      "10:45:14 - cmdstanpy - INFO - Chain [1] start processing\n",
      "10:45:14 - cmdstanpy - INFO - Chain [1] done processing\n",
      "c:\\Users\\natra\\AppData\\Local\\Programs\\Python\\Python310\\lib\\site-packages\\sklearn\\metrics\\_regression.py:492: FutureWarning: 'squared' is deprecated in version 1.4 and will be removed in 1.6. To calculate the root mean squared error, use the function'root_mean_squared_error'.\n",
      "  warnings.warn(\n",
      "10:45:15 - cmdstanpy - INFO - Chain [1] start processing\n",
      "10:45:15 - cmdstanpy - INFO - Chain [1] done processing\n",
      "c:\\Users\\natra\\AppData\\Local\\Programs\\Python\\Python310\\lib\\site-packages\\sklearn\\metrics\\_regression.py:492: FutureWarning: 'squared' is deprecated in version 1.4 and will be removed in 1.6. To calculate the root mean squared error, use the function'root_mean_squared_error'.\n",
      "  warnings.warn(\n",
      "10:45:16 - cmdstanpy - INFO - Chain [1] start processing\n",
      "10:45:16 - cmdstanpy - INFO - Chain [1] done processing\n",
      "c:\\Users\\natra\\AppData\\Local\\Programs\\Python\\Python310\\lib\\site-packages\\sklearn\\metrics\\_regression.py:492: FutureWarning: 'squared' is deprecated in version 1.4 and will be removed in 1.6. To calculate the root mean squared error, use the function'root_mean_squared_error'.\n",
      "  warnings.warn(\n"
     ]
    },
    {
     "name": "stdout",
     "output_type": "stream",
     "text": [
      "R² Score: 0.729, RMSE: 2.702, MAE: 2.164\n",
      "\n",
      "Evaluating: changepoint_prior_scale=0.04, seasonality_prior_scale=9.1, seasonality_mode=multiplicative\n"
     ]
    },
    {
     "name": "stderr",
     "output_type": "stream",
     "text": [
      "10:45:16 - cmdstanpy - INFO - Chain [1] start processing\n",
      "10:45:16 - cmdstanpy - INFO - Chain [1] done processing\n",
      "c:\\Users\\natra\\AppData\\Local\\Programs\\Python\\Python310\\lib\\site-packages\\sklearn\\metrics\\_regression.py:492: FutureWarning: 'squared' is deprecated in version 1.4 and will be removed in 1.6. To calculate the root mean squared error, use the function'root_mean_squared_error'.\n",
      "  warnings.warn(\n",
      "10:45:17 - cmdstanpy - INFO - Chain [1] start processing\n",
      "10:45:17 - cmdstanpy - INFO - Chain [1] done processing\n",
      "c:\\Users\\natra\\AppData\\Local\\Programs\\Python\\Python310\\lib\\site-packages\\sklearn\\metrics\\_regression.py:492: FutureWarning: 'squared' is deprecated in version 1.4 and will be removed in 1.6. To calculate the root mean squared error, use the function'root_mean_squared_error'.\n",
      "  warnings.warn(\n",
      "10:45:18 - cmdstanpy - INFO - Chain [1] start processing\n",
      "10:45:18 - cmdstanpy - INFO - Chain [1] done processing\n",
      "c:\\Users\\natra\\AppData\\Local\\Programs\\Python\\Python310\\lib\\site-packages\\sklearn\\metrics\\_regression.py:492: FutureWarning: 'squared' is deprecated in version 1.4 and will be removed in 1.6. To calculate the root mean squared error, use the function'root_mean_squared_error'.\n",
      "  warnings.warn(\n",
      "10:45:18 - cmdstanpy - INFO - Chain [1] start processing\n",
      "10:45:18 - cmdstanpy - INFO - Chain [1] done processing\n",
      "c:\\Users\\natra\\AppData\\Local\\Programs\\Python\\Python310\\lib\\site-packages\\sklearn\\metrics\\_regression.py:492: FutureWarning: 'squared' is deprecated in version 1.4 and will be removed in 1.6. To calculate the root mean squared error, use the function'root_mean_squared_error'.\n",
      "  warnings.warn(\n",
      "10:45:19 - cmdstanpy - INFO - Chain [1] start processing\n",
      "10:45:19 - cmdstanpy - INFO - Chain [1] done processing\n",
      "c:\\Users\\natra\\AppData\\Local\\Programs\\Python\\Python310\\lib\\site-packages\\sklearn\\metrics\\_regression.py:492: FutureWarning: 'squared' is deprecated in version 1.4 and will be removed in 1.6. To calculate the root mean squared error, use the function'root_mean_squared_error'.\n",
      "  warnings.warn(\n"
     ]
    },
    {
     "name": "stdout",
     "output_type": "stream",
     "text": [
      "R² Score: 0.723, RMSE: 2.731, MAE: 2.188\n",
      "\n",
      "Evaluating: changepoint_prior_scale=0.04, seasonality_prior_scale=10.1, seasonality_mode=additive\n"
     ]
    },
    {
     "name": "stderr",
     "output_type": "stream",
     "text": [
      "10:45:19 - cmdstanpy - INFO - Chain [1] start processing\n",
      "10:45:20 - cmdstanpy - INFO - Chain [1] done processing\n",
      "c:\\Users\\natra\\AppData\\Local\\Programs\\Python\\Python310\\lib\\site-packages\\sklearn\\metrics\\_regression.py:492: FutureWarning: 'squared' is deprecated in version 1.4 and will be removed in 1.6. To calculate the root mean squared error, use the function'root_mean_squared_error'.\n",
      "  warnings.warn(\n",
      "10:45:20 - cmdstanpy - INFO - Chain [1] start processing\n",
      "10:45:20 - cmdstanpy - INFO - Chain [1] done processing\n",
      "c:\\Users\\natra\\AppData\\Local\\Programs\\Python\\Python310\\lib\\site-packages\\sklearn\\metrics\\_regression.py:492: FutureWarning: 'squared' is deprecated in version 1.4 and will be removed in 1.6. To calculate the root mean squared error, use the function'root_mean_squared_error'.\n",
      "  warnings.warn(\n",
      "10:45:21 - cmdstanpy - INFO - Chain [1] start processing\n",
      "10:45:21 - cmdstanpy - INFO - Chain [1] done processing\n",
      "c:\\Users\\natra\\AppData\\Local\\Programs\\Python\\Python310\\lib\\site-packages\\sklearn\\metrics\\_regression.py:492: FutureWarning: 'squared' is deprecated in version 1.4 and will be removed in 1.6. To calculate the root mean squared error, use the function'root_mean_squared_error'.\n",
      "  warnings.warn(\n",
      "10:45:21 - cmdstanpy - INFO - Chain [1] start processing\n",
      "10:45:21 - cmdstanpy - INFO - Chain [1] done processing\n",
      "c:\\Users\\natra\\AppData\\Local\\Programs\\Python\\Python310\\lib\\site-packages\\sklearn\\metrics\\_regression.py:492: FutureWarning: 'squared' is deprecated in version 1.4 and will be removed in 1.6. To calculate the root mean squared error, use the function'root_mean_squared_error'.\n",
      "  warnings.warn(\n",
      "10:45:22 - cmdstanpy - INFO - Chain [1] start processing\n",
      "10:45:22 - cmdstanpy - INFO - Chain [1] done processing\n",
      "c:\\Users\\natra\\AppData\\Local\\Programs\\Python\\Python310\\lib\\site-packages\\sklearn\\metrics\\_regression.py:492: FutureWarning: 'squared' is deprecated in version 1.4 and will be removed in 1.6. To calculate the root mean squared error, use the function'root_mean_squared_error'.\n",
      "  warnings.warn(\n"
     ]
    },
    {
     "name": "stdout",
     "output_type": "stream",
     "text": [
      "R² Score: 0.732, RMSE: 2.689, MAE: 2.159\n",
      "\n",
      "Evaluating: changepoint_prior_scale=0.04, seasonality_prior_scale=10.1, seasonality_mode=multiplicative\n"
     ]
    },
    {
     "name": "stderr",
     "output_type": "stream",
     "text": [
      "10:45:22 - cmdstanpy - INFO - Chain [1] start processing\n",
      "10:45:23 - cmdstanpy - INFO - Chain [1] done processing\n",
      "c:\\Users\\natra\\AppData\\Local\\Programs\\Python\\Python310\\lib\\site-packages\\sklearn\\metrics\\_regression.py:492: FutureWarning: 'squared' is deprecated in version 1.4 and will be removed in 1.6. To calculate the root mean squared error, use the function'root_mean_squared_error'.\n",
      "  warnings.warn(\n",
      "10:45:23 - cmdstanpy - INFO - Chain [1] start processing\n",
      "10:45:23 - cmdstanpy - INFO - Chain [1] done processing\n",
      "c:\\Users\\natra\\AppData\\Local\\Programs\\Python\\Python310\\lib\\site-packages\\sklearn\\metrics\\_regression.py:492: FutureWarning: 'squared' is deprecated in version 1.4 and will be removed in 1.6. To calculate the root mean squared error, use the function'root_mean_squared_error'.\n",
      "  warnings.warn(\n",
      "10:45:24 - cmdstanpy - INFO - Chain [1] start processing\n",
      "10:45:24 - cmdstanpy - INFO - Chain [1] done processing\n",
      "c:\\Users\\natra\\AppData\\Local\\Programs\\Python\\Python310\\lib\\site-packages\\sklearn\\metrics\\_regression.py:492: FutureWarning: 'squared' is deprecated in version 1.4 and will be removed in 1.6. To calculate the root mean squared error, use the function'root_mean_squared_error'.\n",
      "  warnings.warn(\n",
      "10:45:24 - cmdstanpy - INFO - Chain [1] start processing\n",
      "10:45:24 - cmdstanpy - INFO - Chain [1] done processing\n",
      "c:\\Users\\natra\\AppData\\Local\\Programs\\Python\\Python310\\lib\\site-packages\\sklearn\\metrics\\_regression.py:492: FutureWarning: 'squared' is deprecated in version 1.4 and will be removed in 1.6. To calculate the root mean squared error, use the function'root_mean_squared_error'.\n",
      "  warnings.warn(\n",
      "10:45:25 - cmdstanpy - INFO - Chain [1] start processing\n",
      "10:45:25 - cmdstanpy - INFO - Chain [1] done processing\n",
      "c:\\Users\\natra\\AppData\\Local\\Programs\\Python\\Python310\\lib\\site-packages\\sklearn\\metrics\\_regression.py:492: FutureWarning: 'squared' is deprecated in version 1.4 and will be removed in 1.6. To calculate the root mean squared error, use the function'root_mean_squared_error'.\n",
      "  warnings.warn(\n"
     ]
    },
    {
     "name": "stdout",
     "output_type": "stream",
     "text": [
      "R² Score: 0.723, RMSE: 2.728, MAE: 2.185\n",
      "\n",
      "Evaluating: changepoint_prior_scale=0.05, seasonality_prior_scale=0.1, seasonality_mode=additive\n"
     ]
    },
    {
     "name": "stderr",
     "output_type": "stream",
     "text": [
      "10:45:25 - cmdstanpy - INFO - Chain [1] start processing\n",
      "10:45:25 - cmdstanpy - INFO - Chain [1] done processing\n",
      "c:\\Users\\natra\\AppData\\Local\\Programs\\Python\\Python310\\lib\\site-packages\\sklearn\\metrics\\_regression.py:492: FutureWarning: 'squared' is deprecated in version 1.4 and will be removed in 1.6. To calculate the root mean squared error, use the function'root_mean_squared_error'.\n",
      "  warnings.warn(\n",
      "10:45:26 - cmdstanpy - INFO - Chain [1] start processing\n",
      "10:45:26 - cmdstanpy - INFO - Chain [1] done processing\n",
      "c:\\Users\\natra\\AppData\\Local\\Programs\\Python\\Python310\\lib\\site-packages\\sklearn\\metrics\\_regression.py:492: FutureWarning: 'squared' is deprecated in version 1.4 and will be removed in 1.6. To calculate the root mean squared error, use the function'root_mean_squared_error'.\n",
      "  warnings.warn(\n",
      "10:45:27 - cmdstanpy - INFO - Chain [1] start processing\n",
      "10:45:27 - cmdstanpy - INFO - Chain [1] done processing\n",
      "c:\\Users\\natra\\AppData\\Local\\Programs\\Python\\Python310\\lib\\site-packages\\sklearn\\metrics\\_regression.py:492: FutureWarning: 'squared' is deprecated in version 1.4 and will be removed in 1.6. To calculate the root mean squared error, use the function'root_mean_squared_error'.\n",
      "  warnings.warn(\n",
      "10:45:27 - cmdstanpy - INFO - Chain [1] start processing\n",
      "10:45:27 - cmdstanpy - INFO - Chain [1] done processing\n",
      "c:\\Users\\natra\\AppData\\Local\\Programs\\Python\\Python310\\lib\\site-packages\\sklearn\\metrics\\_regression.py:492: FutureWarning: 'squared' is deprecated in version 1.4 and will be removed in 1.6. To calculate the root mean squared error, use the function'root_mean_squared_error'.\n",
      "  warnings.warn(\n",
      "10:45:28 - cmdstanpy - INFO - Chain [1] start processing\n",
      "10:45:28 - cmdstanpy - INFO - Chain [1] done processing\n",
      "c:\\Users\\natra\\AppData\\Local\\Programs\\Python\\Python310\\lib\\site-packages\\sklearn\\metrics\\_regression.py:492: FutureWarning: 'squared' is deprecated in version 1.4 and will be removed in 1.6. To calculate the root mean squared error, use the function'root_mean_squared_error'.\n",
      "  warnings.warn(\n"
     ]
    },
    {
     "name": "stdout",
     "output_type": "stream",
     "text": [
      "R² Score: 0.729, RMSE: 2.704, MAE: 2.175\n",
      "\n",
      "Evaluating: changepoint_prior_scale=0.05, seasonality_prior_scale=0.1, seasonality_mode=multiplicative\n"
     ]
    },
    {
     "name": "stderr",
     "output_type": "stream",
     "text": [
      "10:45:28 - cmdstanpy - INFO - Chain [1] start processing\n",
      "10:45:28 - cmdstanpy - INFO - Chain [1] done processing\n",
      "c:\\Users\\natra\\AppData\\Local\\Programs\\Python\\Python310\\lib\\site-packages\\sklearn\\metrics\\_regression.py:492: FutureWarning: 'squared' is deprecated in version 1.4 and will be removed in 1.6. To calculate the root mean squared error, use the function'root_mean_squared_error'.\n",
      "  warnings.warn(\n",
      "10:45:29 - cmdstanpy - INFO - Chain [1] start processing\n",
      "10:45:29 - cmdstanpy - INFO - Chain [1] done processing\n",
      "c:\\Users\\natra\\AppData\\Local\\Programs\\Python\\Python310\\lib\\site-packages\\sklearn\\metrics\\_regression.py:492: FutureWarning: 'squared' is deprecated in version 1.4 and will be removed in 1.6. To calculate the root mean squared error, use the function'root_mean_squared_error'.\n",
      "  warnings.warn(\n",
      "10:45:30 - cmdstanpy - INFO - Chain [1] start processing\n",
      "10:45:30 - cmdstanpy - INFO - Chain [1] done processing\n",
      "c:\\Users\\natra\\AppData\\Local\\Programs\\Python\\Python310\\lib\\site-packages\\sklearn\\metrics\\_regression.py:492: FutureWarning: 'squared' is deprecated in version 1.4 and will be removed in 1.6. To calculate the root mean squared error, use the function'root_mean_squared_error'.\n",
      "  warnings.warn(\n",
      "10:45:30 - cmdstanpy - INFO - Chain [1] start processing\n",
      "10:45:30 - cmdstanpy - INFO - Chain [1] done processing\n",
      "c:\\Users\\natra\\AppData\\Local\\Programs\\Python\\Python310\\lib\\site-packages\\sklearn\\metrics\\_regression.py:492: FutureWarning: 'squared' is deprecated in version 1.4 and will be removed in 1.6. To calculate the root mean squared error, use the function'root_mean_squared_error'.\n",
      "  warnings.warn(\n",
      "10:45:31 - cmdstanpy - INFO - Chain [1] start processing\n",
      "10:45:31 - cmdstanpy - INFO - Chain [1] done processing\n",
      "c:\\Users\\natra\\AppData\\Local\\Programs\\Python\\Python310\\lib\\site-packages\\sklearn\\metrics\\_regression.py:492: FutureWarning: 'squared' is deprecated in version 1.4 and will be removed in 1.6. To calculate the root mean squared error, use the function'root_mean_squared_error'.\n",
      "  warnings.warn(\n"
     ]
    },
    {
     "name": "stdout",
     "output_type": "stream",
     "text": [
      "R² Score: 0.721, RMSE: 2.740, MAE: 2.197\n",
      "\n",
      "Evaluating: changepoint_prior_scale=0.05, seasonality_prior_scale=1.1, seasonality_mode=additive\n"
     ]
    },
    {
     "name": "stderr",
     "output_type": "stream",
     "text": [
      "10:45:31 - cmdstanpy - INFO - Chain [1] start processing\n",
      "10:45:32 - cmdstanpy - INFO - Chain [1] done processing\n",
      "c:\\Users\\natra\\AppData\\Local\\Programs\\Python\\Python310\\lib\\site-packages\\sklearn\\metrics\\_regression.py:492: FutureWarning: 'squared' is deprecated in version 1.4 and will be removed in 1.6. To calculate the root mean squared error, use the function'root_mean_squared_error'.\n",
      "  warnings.warn(\n",
      "10:45:32 - cmdstanpy - INFO - Chain [1] start processing\n",
      "10:45:32 - cmdstanpy - INFO - Chain [1] done processing\n",
      "c:\\Users\\natra\\AppData\\Local\\Programs\\Python\\Python310\\lib\\site-packages\\sklearn\\metrics\\_regression.py:492: FutureWarning: 'squared' is deprecated in version 1.4 and will be removed in 1.6. To calculate the root mean squared error, use the function'root_mean_squared_error'.\n",
      "  warnings.warn(\n",
      "10:45:33 - cmdstanpy - INFO - Chain [1] start processing\n",
      "10:45:33 - cmdstanpy - INFO - Chain [1] done processing\n",
      "c:\\Users\\natra\\AppData\\Local\\Programs\\Python\\Python310\\lib\\site-packages\\sklearn\\metrics\\_regression.py:492: FutureWarning: 'squared' is deprecated in version 1.4 and will be removed in 1.6. To calculate the root mean squared error, use the function'root_mean_squared_error'.\n",
      "  warnings.warn(\n",
      "10:45:33 - cmdstanpy - INFO - Chain [1] start processing\n",
      "10:45:33 - cmdstanpy - INFO - Chain [1] done processing\n",
      "c:\\Users\\natra\\AppData\\Local\\Programs\\Python\\Python310\\lib\\site-packages\\sklearn\\metrics\\_regression.py:492: FutureWarning: 'squared' is deprecated in version 1.4 and will be removed in 1.6. To calculate the root mean squared error, use the function'root_mean_squared_error'.\n",
      "  warnings.warn(\n",
      "10:45:34 - cmdstanpy - INFO - Chain [1] start processing\n",
      "10:45:34 - cmdstanpy - INFO - Chain [1] done processing\n",
      "c:\\Users\\natra\\AppData\\Local\\Programs\\Python\\Python310\\lib\\site-packages\\sklearn\\metrics\\_regression.py:492: FutureWarning: 'squared' is deprecated in version 1.4 and will be removed in 1.6. To calculate the root mean squared error, use the function'root_mean_squared_error'.\n",
      "  warnings.warn(\n"
     ]
    },
    {
     "name": "stdout",
     "output_type": "stream",
     "text": [
      "R² Score: 0.725, RMSE: 2.721, MAE: 2.190\n",
      "\n",
      "Evaluating: changepoint_prior_scale=0.05, seasonality_prior_scale=1.1, seasonality_mode=multiplicative\n"
     ]
    },
    {
     "name": "stderr",
     "output_type": "stream",
     "text": [
      "10:45:34 - cmdstanpy - INFO - Chain [1] start processing\n",
      "10:45:35 - cmdstanpy - INFO - Chain [1] done processing\n",
      "c:\\Users\\natra\\AppData\\Local\\Programs\\Python\\Python310\\lib\\site-packages\\sklearn\\metrics\\_regression.py:492: FutureWarning: 'squared' is deprecated in version 1.4 and will be removed in 1.6. To calculate the root mean squared error, use the function'root_mean_squared_error'.\n",
      "  warnings.warn(\n",
      "10:45:35 - cmdstanpy - INFO - Chain [1] start processing\n",
      "10:45:35 - cmdstanpy - INFO - Chain [1] done processing\n",
      "c:\\Users\\natra\\AppData\\Local\\Programs\\Python\\Python310\\lib\\site-packages\\sklearn\\metrics\\_regression.py:492: FutureWarning: 'squared' is deprecated in version 1.4 and will be removed in 1.6. To calculate the root mean squared error, use the function'root_mean_squared_error'.\n",
      "  warnings.warn(\n",
      "10:45:36 - cmdstanpy - INFO - Chain [1] start processing\n",
      "10:45:36 - cmdstanpy - INFO - Chain [1] done processing\n",
      "c:\\Users\\natra\\AppData\\Local\\Programs\\Python\\Python310\\lib\\site-packages\\sklearn\\metrics\\_regression.py:492: FutureWarning: 'squared' is deprecated in version 1.4 and will be removed in 1.6. To calculate the root mean squared error, use the function'root_mean_squared_error'.\n",
      "  warnings.warn(\n",
      "10:45:37 - cmdstanpy - INFO - Chain [1] start processing\n",
      "10:45:37 - cmdstanpy - INFO - Chain [1] done processing\n",
      "c:\\Users\\natra\\AppData\\Local\\Programs\\Python\\Python310\\lib\\site-packages\\sklearn\\metrics\\_regression.py:492: FutureWarning: 'squared' is deprecated in version 1.4 and will be removed in 1.6. To calculate the root mean squared error, use the function'root_mean_squared_error'.\n",
      "  warnings.warn(\n",
      "10:45:37 - cmdstanpy - INFO - Chain [1] start processing\n",
      "10:45:38 - cmdstanpy - INFO - Chain [1] done processing\n",
      "c:\\Users\\natra\\AppData\\Local\\Programs\\Python\\Python310\\lib\\site-packages\\sklearn\\metrics\\_regression.py:492: FutureWarning: 'squared' is deprecated in version 1.4 and will be removed in 1.6. To calculate the root mean squared error, use the function'root_mean_squared_error'.\n",
      "  warnings.warn(\n"
     ]
    },
    {
     "name": "stdout",
     "output_type": "stream",
     "text": [
      "R² Score: 0.721, RMSE: 2.741, MAE: 2.198\n",
      "\n",
      "Evaluating: changepoint_prior_scale=0.05, seasonality_prior_scale=2.1, seasonality_mode=additive\n"
     ]
    },
    {
     "name": "stderr",
     "output_type": "stream",
     "text": [
      "10:45:38 - cmdstanpy - INFO - Chain [1] start processing\n",
      "10:45:38 - cmdstanpy - INFO - Chain [1] done processing\n",
      "c:\\Users\\natra\\AppData\\Local\\Programs\\Python\\Python310\\lib\\site-packages\\sklearn\\metrics\\_regression.py:492: FutureWarning: 'squared' is deprecated in version 1.4 and will be removed in 1.6. To calculate the root mean squared error, use the function'root_mean_squared_error'.\n",
      "  warnings.warn(\n",
      "10:45:39 - cmdstanpy - INFO - Chain [1] start processing\n",
      "10:45:39 - cmdstanpy - INFO - Chain [1] done processing\n",
      "c:\\Users\\natra\\AppData\\Local\\Programs\\Python\\Python310\\lib\\site-packages\\sklearn\\metrics\\_regression.py:492: FutureWarning: 'squared' is deprecated in version 1.4 and will be removed in 1.6. To calculate the root mean squared error, use the function'root_mean_squared_error'.\n",
      "  warnings.warn(\n",
      "10:45:39 - cmdstanpy - INFO - Chain [1] start processing\n",
      "10:45:40 - cmdstanpy - INFO - Chain [1] done processing\n",
      "c:\\Users\\natra\\AppData\\Local\\Programs\\Python\\Python310\\lib\\site-packages\\sklearn\\metrics\\_regression.py:492: FutureWarning: 'squared' is deprecated in version 1.4 and will be removed in 1.6. To calculate the root mean squared error, use the function'root_mean_squared_error'.\n",
      "  warnings.warn(\n",
      "10:45:40 - cmdstanpy - INFO - Chain [1] start processing\n",
      "10:45:40 - cmdstanpy - INFO - Chain [1] done processing\n",
      "c:\\Users\\natra\\AppData\\Local\\Programs\\Python\\Python310\\lib\\site-packages\\sklearn\\metrics\\_regression.py:492: FutureWarning: 'squared' is deprecated in version 1.4 and will be removed in 1.6. To calculate the root mean squared error, use the function'root_mean_squared_error'.\n",
      "  warnings.warn(\n",
      "10:45:41 - cmdstanpy - INFO - Chain [1] start processing\n",
      "10:45:41 - cmdstanpy - INFO - Chain [1] done processing\n",
      "c:\\Users\\natra\\AppData\\Local\\Programs\\Python\\Python310\\lib\\site-packages\\sklearn\\metrics\\_regression.py:492: FutureWarning: 'squared' is deprecated in version 1.4 and will be removed in 1.6. To calculate the root mean squared error, use the function'root_mean_squared_error'.\n",
      "  warnings.warn(\n"
     ]
    },
    {
     "name": "stdout",
     "output_type": "stream",
     "text": [
      "R² Score: 0.729, RMSE: 2.702, MAE: 2.172\n",
      "\n",
      "Evaluating: changepoint_prior_scale=0.05, seasonality_prior_scale=2.1, seasonality_mode=multiplicative\n"
     ]
    },
    {
     "name": "stderr",
     "output_type": "stream",
     "text": [
      "10:45:41 - cmdstanpy - INFO - Chain [1] start processing\n",
      "10:45:42 - cmdstanpy - INFO - Chain [1] done processing\n",
      "c:\\Users\\natra\\AppData\\Local\\Programs\\Python\\Python310\\lib\\site-packages\\sklearn\\metrics\\_regression.py:492: FutureWarning: 'squared' is deprecated in version 1.4 and will be removed in 1.6. To calculate the root mean squared error, use the function'root_mean_squared_error'.\n",
      "  warnings.warn(\n",
      "10:45:42 - cmdstanpy - INFO - Chain [1] start processing\n",
      "10:45:42 - cmdstanpy - INFO - Chain [1] done processing\n",
      "c:\\Users\\natra\\AppData\\Local\\Programs\\Python\\Python310\\lib\\site-packages\\sklearn\\metrics\\_regression.py:492: FutureWarning: 'squared' is deprecated in version 1.4 and will be removed in 1.6. To calculate the root mean squared error, use the function'root_mean_squared_error'.\n",
      "  warnings.warn(\n",
      "10:45:43 - cmdstanpy - INFO - Chain [1] start processing\n",
      "10:45:43 - cmdstanpy - INFO - Chain [1] done processing\n",
      "c:\\Users\\natra\\AppData\\Local\\Programs\\Python\\Python310\\lib\\site-packages\\sklearn\\metrics\\_regression.py:492: FutureWarning: 'squared' is deprecated in version 1.4 and will be removed in 1.6. To calculate the root mean squared error, use the function'root_mean_squared_error'.\n",
      "  warnings.warn(\n",
      "10:45:44 - cmdstanpy - INFO - Chain [1] start processing\n",
      "10:45:44 - cmdstanpy - INFO - Chain [1] done processing\n",
      "c:\\Users\\natra\\AppData\\Local\\Programs\\Python\\Python310\\lib\\site-packages\\sklearn\\metrics\\_regression.py:492: FutureWarning: 'squared' is deprecated in version 1.4 and will be removed in 1.6. To calculate the root mean squared error, use the function'root_mean_squared_error'.\n",
      "  warnings.warn(\n",
      "10:45:44 - cmdstanpy - INFO - Chain [1] start processing\n",
      "10:45:44 - cmdstanpy - INFO - Chain [1] done processing\n",
      "c:\\Users\\natra\\AppData\\Local\\Programs\\Python\\Python310\\lib\\site-packages\\sklearn\\metrics\\_regression.py:492: FutureWarning: 'squared' is deprecated in version 1.4 and will be removed in 1.6. To calculate the root mean squared error, use the function'root_mean_squared_error'.\n",
      "  warnings.warn(\n"
     ]
    },
    {
     "name": "stdout",
     "output_type": "stream",
     "text": [
      "R² Score: 0.726, RMSE: 2.718, MAE: 2.186\n",
      "\n",
      "Evaluating: changepoint_prior_scale=0.05, seasonality_prior_scale=3.1, seasonality_mode=additive\n"
     ]
    },
    {
     "name": "stderr",
     "output_type": "stream",
     "text": [
      "10:45:45 - cmdstanpy - INFO - Chain [1] start processing\n",
      "10:45:45 - cmdstanpy - INFO - Chain [1] done processing\n",
      "c:\\Users\\natra\\AppData\\Local\\Programs\\Python\\Python310\\lib\\site-packages\\sklearn\\metrics\\_regression.py:492: FutureWarning: 'squared' is deprecated in version 1.4 and will be removed in 1.6. To calculate the root mean squared error, use the function'root_mean_squared_error'.\n",
      "  warnings.warn(\n",
      "10:45:46 - cmdstanpy - INFO - Chain [1] start processing\n",
      "10:45:46 - cmdstanpy - INFO - Chain [1] done processing\n",
      "c:\\Users\\natra\\AppData\\Local\\Programs\\Python\\Python310\\lib\\site-packages\\sklearn\\metrics\\_regression.py:492: FutureWarning: 'squared' is deprecated in version 1.4 and will be removed in 1.6. To calculate the root mean squared error, use the function'root_mean_squared_error'.\n",
      "  warnings.warn(\n",
      "10:45:46 - cmdstanpy - INFO - Chain [1] start processing\n",
      "10:45:46 - cmdstanpy - INFO - Chain [1] done processing\n",
      "c:\\Users\\natra\\AppData\\Local\\Programs\\Python\\Python310\\lib\\site-packages\\sklearn\\metrics\\_regression.py:492: FutureWarning: 'squared' is deprecated in version 1.4 and will be removed in 1.6. To calculate the root mean squared error, use the function'root_mean_squared_error'.\n",
      "  warnings.warn(\n",
      "10:45:47 - cmdstanpy - INFO - Chain [1] start processing\n",
      "10:45:47 - cmdstanpy - INFO - Chain [1] done processing\n",
      "c:\\Users\\natra\\AppData\\Local\\Programs\\Python\\Python310\\lib\\site-packages\\sklearn\\metrics\\_regression.py:492: FutureWarning: 'squared' is deprecated in version 1.4 and will be removed in 1.6. To calculate the root mean squared error, use the function'root_mean_squared_error'.\n",
      "  warnings.warn(\n",
      "10:45:47 - cmdstanpy - INFO - Chain [1] start processing\n",
      "10:45:48 - cmdstanpy - INFO - Chain [1] done processing\n",
      "c:\\Users\\natra\\AppData\\Local\\Programs\\Python\\Python310\\lib\\site-packages\\sklearn\\metrics\\_regression.py:492: FutureWarning: 'squared' is deprecated in version 1.4 and will be removed in 1.6. To calculate the root mean squared error, use the function'root_mean_squared_error'.\n",
      "  warnings.warn(\n"
     ]
    },
    {
     "name": "stdout",
     "output_type": "stream",
     "text": [
      "R² Score: 0.729, RMSE: 2.701, MAE: 2.171\n",
      "\n",
      "Evaluating: changepoint_prior_scale=0.05, seasonality_prior_scale=3.1, seasonality_mode=multiplicative\n"
     ]
    },
    {
     "name": "stderr",
     "output_type": "stream",
     "text": [
      "10:45:48 - cmdstanpy - INFO - Chain [1] start processing\n",
      "10:45:48 - cmdstanpy - INFO - Chain [1] done processing\n",
      "c:\\Users\\natra\\AppData\\Local\\Programs\\Python\\Python310\\lib\\site-packages\\sklearn\\metrics\\_regression.py:492: FutureWarning: 'squared' is deprecated in version 1.4 and will be removed in 1.6. To calculate the root mean squared error, use the function'root_mean_squared_error'.\n",
      "  warnings.warn(\n",
      "10:45:49 - cmdstanpy - INFO - Chain [1] start processing\n",
      "10:45:49 - cmdstanpy - INFO - Chain [1] done processing\n",
      "c:\\Users\\natra\\AppData\\Local\\Programs\\Python\\Python310\\lib\\site-packages\\sklearn\\metrics\\_regression.py:492: FutureWarning: 'squared' is deprecated in version 1.4 and will be removed in 1.6. To calculate the root mean squared error, use the function'root_mean_squared_error'.\n",
      "  warnings.warn(\n",
      "10:45:50 - cmdstanpy - INFO - Chain [1] start processing\n",
      "10:45:50 - cmdstanpy - INFO - Chain [1] done processing\n",
      "c:\\Users\\natra\\AppData\\Local\\Programs\\Python\\Python310\\lib\\site-packages\\sklearn\\metrics\\_regression.py:492: FutureWarning: 'squared' is deprecated in version 1.4 and will be removed in 1.6. To calculate the root mean squared error, use the function'root_mean_squared_error'.\n",
      "  warnings.warn(\n",
      "10:45:50 - cmdstanpy - INFO - Chain [1] start processing\n",
      "10:45:50 - cmdstanpy - INFO - Chain [1] done processing\n",
      "c:\\Users\\natra\\AppData\\Local\\Programs\\Python\\Python310\\lib\\site-packages\\sklearn\\metrics\\_regression.py:492: FutureWarning: 'squared' is deprecated in version 1.4 and will be removed in 1.6. To calculate the root mean squared error, use the function'root_mean_squared_error'.\n",
      "  warnings.warn(\n",
      "10:45:51 - cmdstanpy - INFO - Chain [1] start processing\n",
      "10:45:51 - cmdstanpy - INFO - Chain [1] done processing\n",
      "c:\\Users\\natra\\AppData\\Local\\Programs\\Python\\Python310\\lib\\site-packages\\sklearn\\metrics\\_regression.py:492: FutureWarning: 'squared' is deprecated in version 1.4 and will be removed in 1.6. To calculate the root mean squared error, use the function'root_mean_squared_error'.\n",
      "  warnings.warn(\n"
     ]
    },
    {
     "name": "stdout",
     "output_type": "stream",
     "text": [
      "R² Score: 0.720, RMSE: 2.743, MAE: 2.200\n",
      "\n",
      "Evaluating: changepoint_prior_scale=0.05, seasonality_prior_scale=4.1, seasonality_mode=additive\n"
     ]
    },
    {
     "name": "stderr",
     "output_type": "stream",
     "text": [
      "10:45:52 - cmdstanpy - INFO - Chain [1] start processing\n",
      "10:45:52 - cmdstanpy - INFO - Chain [1] done processing\n",
      "c:\\Users\\natra\\AppData\\Local\\Programs\\Python\\Python310\\lib\\site-packages\\sklearn\\metrics\\_regression.py:492: FutureWarning: 'squared' is deprecated in version 1.4 and will be removed in 1.6. To calculate the root mean squared error, use the function'root_mean_squared_error'.\n",
      "  warnings.warn(\n",
      "10:45:52 - cmdstanpy - INFO - Chain [1] start processing\n",
      "10:45:52 - cmdstanpy - INFO - Chain [1] done processing\n",
      "c:\\Users\\natra\\AppData\\Local\\Programs\\Python\\Python310\\lib\\site-packages\\sklearn\\metrics\\_regression.py:492: FutureWarning: 'squared' is deprecated in version 1.4 and will be removed in 1.6. To calculate the root mean squared error, use the function'root_mean_squared_error'.\n",
      "  warnings.warn(\n",
      "10:45:53 - cmdstanpy - INFO - Chain [1] start processing\n",
      "10:45:53 - cmdstanpy - INFO - Chain [1] done processing\n",
      "c:\\Users\\natra\\AppData\\Local\\Programs\\Python\\Python310\\lib\\site-packages\\sklearn\\metrics\\_regression.py:492: FutureWarning: 'squared' is deprecated in version 1.4 and will be removed in 1.6. To calculate the root mean squared error, use the function'root_mean_squared_error'.\n",
      "  warnings.warn(\n",
      "10:45:54 - cmdstanpy - INFO - Chain [1] start processing\n",
      "10:45:54 - cmdstanpy - INFO - Chain [1] done processing\n",
      "c:\\Users\\natra\\AppData\\Local\\Programs\\Python\\Python310\\lib\\site-packages\\sklearn\\metrics\\_regression.py:492: FutureWarning: 'squared' is deprecated in version 1.4 and will be removed in 1.6. To calculate the root mean squared error, use the function'root_mean_squared_error'.\n",
      "  warnings.warn(\n",
      "10:45:54 - cmdstanpy - INFO - Chain [1] start processing\n",
      "10:45:54 - cmdstanpy - INFO - Chain [1] done processing\n",
      "c:\\Users\\natra\\AppData\\Local\\Programs\\Python\\Python310\\lib\\site-packages\\sklearn\\metrics\\_regression.py:492: FutureWarning: 'squared' is deprecated in version 1.4 and will be removed in 1.6. To calculate the root mean squared error, use the function'root_mean_squared_error'.\n",
      "  warnings.warn(\n"
     ]
    },
    {
     "name": "stdout",
     "output_type": "stream",
     "text": [
      "R² Score: 0.725, RMSE: 2.719, MAE: 2.187\n",
      "\n",
      "Evaluating: changepoint_prior_scale=0.05, seasonality_prior_scale=4.1, seasonality_mode=multiplicative\n"
     ]
    },
    {
     "name": "stderr",
     "output_type": "stream",
     "text": [
      "10:45:55 - cmdstanpy - INFO - Chain [1] start processing\n",
      "10:45:55 - cmdstanpy - INFO - Chain [1] done processing\n",
      "c:\\Users\\natra\\AppData\\Local\\Programs\\Python\\Python310\\lib\\site-packages\\sklearn\\metrics\\_regression.py:492: FutureWarning: 'squared' is deprecated in version 1.4 and will be removed in 1.6. To calculate the root mean squared error, use the function'root_mean_squared_error'.\n",
      "  warnings.warn(\n",
      "10:45:56 - cmdstanpy - INFO - Chain [1] start processing\n",
      "10:45:56 - cmdstanpy - INFO - Chain [1] done processing\n",
      "c:\\Users\\natra\\AppData\\Local\\Programs\\Python\\Python310\\lib\\site-packages\\sklearn\\metrics\\_regression.py:492: FutureWarning: 'squared' is deprecated in version 1.4 and will be removed in 1.6. To calculate the root mean squared error, use the function'root_mean_squared_error'.\n",
      "  warnings.warn(\n",
      "10:45:56 - cmdstanpy - INFO - Chain [1] start processing\n",
      "10:45:57 - cmdstanpy - INFO - Chain [1] done processing\n",
      "c:\\Users\\natra\\AppData\\Local\\Programs\\Python\\Python310\\lib\\site-packages\\sklearn\\metrics\\_regression.py:492: FutureWarning: 'squared' is deprecated in version 1.4 and will be removed in 1.6. To calculate the root mean squared error, use the function'root_mean_squared_error'.\n",
      "  warnings.warn(\n",
      "10:45:57 - cmdstanpy - INFO - Chain [1] start processing\n",
      "10:45:57 - cmdstanpy - INFO - Chain [1] done processing\n",
      "c:\\Users\\natra\\AppData\\Local\\Programs\\Python\\Python310\\lib\\site-packages\\sklearn\\metrics\\_regression.py:492: FutureWarning: 'squared' is deprecated in version 1.4 and will be removed in 1.6. To calculate the root mean squared error, use the function'root_mean_squared_error'.\n",
      "  warnings.warn(\n",
      "10:45:58 - cmdstanpy - INFO - Chain [1] start processing\n",
      "10:45:58 - cmdstanpy - INFO - Chain [1] done processing\n",
      "c:\\Users\\natra\\AppData\\Local\\Programs\\Python\\Python310\\lib\\site-packages\\sklearn\\metrics\\_regression.py:492: FutureWarning: 'squared' is deprecated in version 1.4 and will be removed in 1.6. To calculate the root mean squared error, use the function'root_mean_squared_error'.\n",
      "  warnings.warn(\n"
     ]
    },
    {
     "name": "stdout",
     "output_type": "stream",
     "text": [
      "R² Score: 0.722, RMSE: 2.734, MAE: 2.192\n",
      "\n",
      "Evaluating: changepoint_prior_scale=0.05, seasonality_prior_scale=5.1, seasonality_mode=additive\n"
     ]
    },
    {
     "name": "stderr",
     "output_type": "stream",
     "text": [
      "10:45:58 - cmdstanpy - INFO - Chain [1] start processing\n",
      "10:45:59 - cmdstanpy - INFO - Chain [1] done processing\n",
      "c:\\Users\\natra\\AppData\\Local\\Programs\\Python\\Python310\\lib\\site-packages\\sklearn\\metrics\\_regression.py:492: FutureWarning: 'squared' is deprecated in version 1.4 and will be removed in 1.6. To calculate the root mean squared error, use the function'root_mean_squared_error'.\n",
      "  warnings.warn(\n",
      "10:45:59 - cmdstanpy - INFO - Chain [1] start processing\n",
      "10:45:59 - cmdstanpy - INFO - Chain [1] done processing\n",
      "c:\\Users\\natra\\AppData\\Local\\Programs\\Python\\Python310\\lib\\site-packages\\sklearn\\metrics\\_regression.py:492: FutureWarning: 'squared' is deprecated in version 1.4 and will be removed in 1.6. To calculate the root mean squared error, use the function'root_mean_squared_error'.\n",
      "  warnings.warn(\n",
      "10:46:00 - cmdstanpy - INFO - Chain [1] start processing\n",
      "10:46:00 - cmdstanpy - INFO - Chain [1] done processing\n",
      "c:\\Users\\natra\\AppData\\Local\\Programs\\Python\\Python310\\lib\\site-packages\\sklearn\\metrics\\_regression.py:492: FutureWarning: 'squared' is deprecated in version 1.4 and will be removed in 1.6. To calculate the root mean squared error, use the function'root_mean_squared_error'.\n",
      "  warnings.warn(\n",
      "10:46:00 - cmdstanpy - INFO - Chain [1] start processing\n",
      "10:46:00 - cmdstanpy - INFO - Chain [1] done processing\n",
      "c:\\Users\\natra\\AppData\\Local\\Programs\\Python\\Python310\\lib\\site-packages\\sklearn\\metrics\\_regression.py:492: FutureWarning: 'squared' is deprecated in version 1.4 and will be removed in 1.6. To calculate the root mean squared error, use the function'root_mean_squared_error'.\n",
      "  warnings.warn(\n",
      "10:46:01 - cmdstanpy - INFO - Chain [1] start processing\n",
      "10:46:01 - cmdstanpy - INFO - Chain [1] done processing\n",
      "c:\\Users\\natra\\AppData\\Local\\Programs\\Python\\Python310\\lib\\site-packages\\sklearn\\metrics\\_regression.py:492: FutureWarning: 'squared' is deprecated in version 1.4 and will be removed in 1.6. To calculate the root mean squared error, use the function'root_mean_squared_error'.\n",
      "  warnings.warn(\n"
     ]
    },
    {
     "name": "stdout",
     "output_type": "stream",
     "text": [
      "R² Score: 0.725, RMSE: 2.718, MAE: 2.187\n",
      "\n",
      "Evaluating: changepoint_prior_scale=0.05, seasonality_prior_scale=5.1, seasonality_mode=multiplicative\n"
     ]
    },
    {
     "name": "stderr",
     "output_type": "stream",
     "text": [
      "10:46:02 - cmdstanpy - INFO - Chain [1] start processing\n",
      "10:46:02 - cmdstanpy - INFO - Chain [1] done processing\n",
      "c:\\Users\\natra\\AppData\\Local\\Programs\\Python\\Python310\\lib\\site-packages\\sklearn\\metrics\\_regression.py:492: FutureWarning: 'squared' is deprecated in version 1.4 and will be removed in 1.6. To calculate the root mean squared error, use the function'root_mean_squared_error'.\n",
      "  warnings.warn(\n",
      "10:46:02 - cmdstanpy - INFO - Chain [1] start processing\n",
      "10:46:02 - cmdstanpy - INFO - Chain [1] done processing\n",
      "c:\\Users\\natra\\AppData\\Local\\Programs\\Python\\Python310\\lib\\site-packages\\sklearn\\metrics\\_regression.py:492: FutureWarning: 'squared' is deprecated in version 1.4 and will be removed in 1.6. To calculate the root mean squared error, use the function'root_mean_squared_error'.\n",
      "  warnings.warn(\n",
      "10:46:03 - cmdstanpy - INFO - Chain [1] start processing\n",
      "10:46:03 - cmdstanpy - INFO - Chain [1] done processing\n",
      "c:\\Users\\natra\\AppData\\Local\\Programs\\Python\\Python310\\lib\\site-packages\\sklearn\\metrics\\_regression.py:492: FutureWarning: 'squared' is deprecated in version 1.4 and will be removed in 1.6. To calculate the root mean squared error, use the function'root_mean_squared_error'.\n",
      "  warnings.warn(\n",
      "10:46:03 - cmdstanpy - INFO - Chain [1] start processing\n",
      "10:46:03 - cmdstanpy - INFO - Chain [1] done processing\n",
      "c:\\Users\\natra\\AppData\\Local\\Programs\\Python\\Python310\\lib\\site-packages\\sklearn\\metrics\\_regression.py:492: FutureWarning: 'squared' is deprecated in version 1.4 and will be removed in 1.6. To calculate the root mean squared error, use the function'root_mean_squared_error'.\n",
      "  warnings.warn(\n",
      "10:46:04 - cmdstanpy - INFO - Chain [1] start processing\n",
      "10:46:04 - cmdstanpy - INFO - Chain [1] done processing\n",
      "c:\\Users\\natra\\AppData\\Local\\Programs\\Python\\Python310\\lib\\site-packages\\sklearn\\metrics\\_regression.py:492: FutureWarning: 'squared' is deprecated in version 1.4 and will be removed in 1.6. To calculate the root mean squared error, use the function'root_mean_squared_error'.\n",
      "  warnings.warn(\n"
     ]
    },
    {
     "name": "stdout",
     "output_type": "stream",
     "text": [
      "R² Score: 0.722, RMSE: 2.735, MAE: 2.193\n",
      "\n",
      "Evaluating: changepoint_prior_scale=0.05, seasonality_prior_scale=6.1, seasonality_mode=additive\n"
     ]
    },
    {
     "name": "stderr",
     "output_type": "stream",
     "text": [
      "10:46:05 - cmdstanpy - INFO - Chain [1] start processing\n",
      "10:46:05 - cmdstanpy - INFO - Chain [1] done processing\n",
      "c:\\Users\\natra\\AppData\\Local\\Programs\\Python\\Python310\\lib\\site-packages\\sklearn\\metrics\\_regression.py:492: FutureWarning: 'squared' is deprecated in version 1.4 and will be removed in 1.6. To calculate the root mean squared error, use the function'root_mean_squared_error'.\n",
      "  warnings.warn(\n",
      "10:46:05 - cmdstanpy - INFO - Chain [1] start processing\n",
      "10:46:05 - cmdstanpy - INFO - Chain [1] done processing\n",
      "c:\\Users\\natra\\AppData\\Local\\Programs\\Python\\Python310\\lib\\site-packages\\sklearn\\metrics\\_regression.py:492: FutureWarning: 'squared' is deprecated in version 1.4 and will be removed in 1.6. To calculate the root mean squared error, use the function'root_mean_squared_error'.\n",
      "  warnings.warn(\n",
      "10:46:06 - cmdstanpy - INFO - Chain [1] start processing\n",
      "10:46:06 - cmdstanpy - INFO - Chain [1] done processing\n",
      "c:\\Users\\natra\\AppData\\Local\\Programs\\Python\\Python310\\lib\\site-packages\\sklearn\\metrics\\_regression.py:492: FutureWarning: 'squared' is deprecated in version 1.4 and will be removed in 1.6. To calculate the root mean squared error, use the function'root_mean_squared_error'.\n",
      "  warnings.warn(\n",
      "10:46:06 - cmdstanpy - INFO - Chain [1] start processing\n",
      "10:46:06 - cmdstanpy - INFO - Chain [1] done processing\n",
      "c:\\Users\\natra\\AppData\\Local\\Programs\\Python\\Python310\\lib\\site-packages\\sklearn\\metrics\\_regression.py:492: FutureWarning: 'squared' is deprecated in version 1.4 and will be removed in 1.6. To calculate the root mean squared error, use the function'root_mean_squared_error'.\n",
      "  warnings.warn(\n",
      "10:46:07 - cmdstanpy - INFO - Chain [1] start processing\n",
      "10:46:07 - cmdstanpy - INFO - Chain [1] done processing\n",
      "c:\\Users\\natra\\AppData\\Local\\Programs\\Python\\Python310\\lib\\site-packages\\sklearn\\metrics\\_regression.py:492: FutureWarning: 'squared' is deprecated in version 1.4 and will be removed in 1.6. To calculate the root mean squared error, use the function'root_mean_squared_error'.\n",
      "  warnings.warn(\n"
     ]
    },
    {
     "name": "stdout",
     "output_type": "stream",
     "text": [
      "R² Score: 0.729, RMSE: 2.700, MAE: 2.170\n",
      "\n",
      "Evaluating: changepoint_prior_scale=0.05, seasonality_prior_scale=6.1, seasonality_mode=multiplicative\n"
     ]
    },
    {
     "name": "stderr",
     "output_type": "stream",
     "text": [
      "10:46:07 - cmdstanpy - INFO - Chain [1] start processing\n",
      "10:46:08 - cmdstanpy - INFO - Chain [1] done processing\n",
      "c:\\Users\\natra\\AppData\\Local\\Programs\\Python\\Python310\\lib\\site-packages\\sklearn\\metrics\\_regression.py:492: FutureWarning: 'squared' is deprecated in version 1.4 and will be removed in 1.6. To calculate the root mean squared error, use the function'root_mean_squared_error'.\n",
      "  warnings.warn(\n",
      "10:46:08 - cmdstanpy - INFO - Chain [1] start processing\n",
      "10:46:08 - cmdstanpy - INFO - Chain [1] done processing\n",
      "c:\\Users\\natra\\AppData\\Local\\Programs\\Python\\Python310\\lib\\site-packages\\sklearn\\metrics\\_regression.py:492: FutureWarning: 'squared' is deprecated in version 1.4 and will be removed in 1.6. To calculate the root mean squared error, use the function'root_mean_squared_error'.\n",
      "  warnings.warn(\n",
      "10:46:09 - cmdstanpy - INFO - Chain [1] start processing\n",
      "10:46:09 - cmdstanpy - INFO - Chain [1] done processing\n",
      "c:\\Users\\natra\\AppData\\Local\\Programs\\Python\\Python310\\lib\\site-packages\\sklearn\\metrics\\_regression.py:492: FutureWarning: 'squared' is deprecated in version 1.4 and will be removed in 1.6. To calculate the root mean squared error, use the function'root_mean_squared_error'.\n",
      "  warnings.warn(\n",
      "10:46:09 - cmdstanpy - INFO - Chain [1] start processing\n",
      "10:46:09 - cmdstanpy - INFO - Chain [1] done processing\n",
      "c:\\Users\\natra\\AppData\\Local\\Programs\\Python\\Python310\\lib\\site-packages\\sklearn\\metrics\\_regression.py:492: FutureWarning: 'squared' is deprecated in version 1.4 and will be removed in 1.6. To calculate the root mean squared error, use the function'root_mean_squared_error'.\n",
      "  warnings.warn(\n",
      "10:46:10 - cmdstanpy - INFO - Chain [1] start processing\n",
      "10:46:10 - cmdstanpy - INFO - Chain [1] done processing\n",
      "c:\\Users\\natra\\AppData\\Local\\Programs\\Python\\Python310\\lib\\site-packages\\sklearn\\metrics\\_regression.py:492: FutureWarning: 'squared' is deprecated in version 1.4 and will be removed in 1.6. To calculate the root mean squared error, use the function'root_mean_squared_error'.\n",
      "  warnings.warn(\n"
     ]
    },
    {
     "name": "stdout",
     "output_type": "stream",
     "text": [
      "R² Score: 0.721, RMSE: 2.738, MAE: 2.195\n",
      "\n",
      "Evaluating: changepoint_prior_scale=0.05, seasonality_prior_scale=7.1, seasonality_mode=additive\n"
     ]
    },
    {
     "name": "stderr",
     "output_type": "stream",
     "text": [
      "10:46:11 - cmdstanpy - INFO - Chain [1] start processing\n",
      "10:46:11 - cmdstanpy - INFO - Chain [1] done processing\n",
      "c:\\Users\\natra\\AppData\\Local\\Programs\\Python\\Python310\\lib\\site-packages\\sklearn\\metrics\\_regression.py:492: FutureWarning: 'squared' is deprecated in version 1.4 and will be removed in 1.6. To calculate the root mean squared error, use the function'root_mean_squared_error'.\n",
      "  warnings.warn(\n",
      "10:46:11 - cmdstanpy - INFO - Chain [1] start processing\n",
      "10:46:11 - cmdstanpy - INFO - Chain [1] done processing\n",
      "c:\\Users\\natra\\AppData\\Local\\Programs\\Python\\Python310\\lib\\site-packages\\sklearn\\metrics\\_regression.py:492: FutureWarning: 'squared' is deprecated in version 1.4 and will be removed in 1.6. To calculate the root mean squared error, use the function'root_mean_squared_error'.\n",
      "  warnings.warn(\n",
      "10:46:12 - cmdstanpy - INFO - Chain [1] start processing\n",
      "10:46:12 - cmdstanpy - INFO - Chain [1] done processing\n",
      "c:\\Users\\natra\\AppData\\Local\\Programs\\Python\\Python310\\lib\\site-packages\\sklearn\\metrics\\_regression.py:492: FutureWarning: 'squared' is deprecated in version 1.4 and will be removed in 1.6. To calculate the root mean squared error, use the function'root_mean_squared_error'.\n",
      "  warnings.warn(\n",
      "10:46:12 - cmdstanpy - INFO - Chain [1] start processing\n",
      "10:46:12 - cmdstanpy - INFO - Chain [1] done processing\n",
      "c:\\Users\\natra\\AppData\\Local\\Programs\\Python\\Python310\\lib\\site-packages\\sklearn\\metrics\\_regression.py:492: FutureWarning: 'squared' is deprecated in version 1.4 and will be removed in 1.6. To calculate the root mean squared error, use the function'root_mean_squared_error'.\n",
      "  warnings.warn(\n",
      "10:46:13 - cmdstanpy - INFO - Chain [1] start processing\n",
      "10:46:13 - cmdstanpy - INFO - Chain [1] done processing\n",
      "c:\\Users\\natra\\AppData\\Local\\Programs\\Python\\Python310\\lib\\site-packages\\sklearn\\metrics\\_regression.py:492: FutureWarning: 'squared' is deprecated in version 1.4 and will be removed in 1.6. To calculate the root mean squared error, use the function'root_mean_squared_error'.\n",
      "  warnings.warn(\n"
     ]
    },
    {
     "name": "stdout",
     "output_type": "stream",
     "text": [
      "R² Score: 0.728, RMSE: 2.705, MAE: 2.176\n",
      "\n",
      "Evaluating: changepoint_prior_scale=0.05, seasonality_prior_scale=7.1, seasonality_mode=multiplicative\n"
     ]
    },
    {
     "name": "stderr",
     "output_type": "stream",
     "text": [
      "10:46:14 - cmdstanpy - INFO - Chain [1] start processing\n",
      "10:46:14 - cmdstanpy - INFO - Chain [1] done processing\n",
      "c:\\Users\\natra\\AppData\\Local\\Programs\\Python\\Python310\\lib\\site-packages\\sklearn\\metrics\\_regression.py:492: FutureWarning: 'squared' is deprecated in version 1.4 and will be removed in 1.6. To calculate the root mean squared error, use the function'root_mean_squared_error'.\n",
      "  warnings.warn(\n",
      "10:46:14 - cmdstanpy - INFO - Chain [1] start processing\n",
      "10:46:14 - cmdstanpy - INFO - Chain [1] done processing\n",
      "c:\\Users\\natra\\AppData\\Local\\Programs\\Python\\Python310\\lib\\site-packages\\sklearn\\metrics\\_regression.py:492: FutureWarning: 'squared' is deprecated in version 1.4 and will be removed in 1.6. To calculate the root mean squared error, use the function'root_mean_squared_error'.\n",
      "  warnings.warn(\n",
      "10:46:15 - cmdstanpy - INFO - Chain [1] start processing\n",
      "10:46:15 - cmdstanpy - INFO - Chain [1] done processing\n",
      "c:\\Users\\natra\\AppData\\Local\\Programs\\Python\\Python310\\lib\\site-packages\\sklearn\\metrics\\_regression.py:492: FutureWarning: 'squared' is deprecated in version 1.4 and will be removed in 1.6. To calculate the root mean squared error, use the function'root_mean_squared_error'.\n",
      "  warnings.warn(\n",
      "10:46:15 - cmdstanpy - INFO - Chain [1] start processing\n",
      "10:46:16 - cmdstanpy - INFO - Chain [1] done processing\n",
      "c:\\Users\\natra\\AppData\\Local\\Programs\\Python\\Python310\\lib\\site-packages\\sklearn\\metrics\\_regression.py:492: FutureWarning: 'squared' is deprecated in version 1.4 and will be removed in 1.6. To calculate the root mean squared error, use the function'root_mean_squared_error'.\n",
      "  warnings.warn(\n",
      "10:46:16 - cmdstanpy - INFO - Chain [1] start processing\n",
      "10:46:16 - cmdstanpy - INFO - Chain [1] done processing\n",
      "c:\\Users\\natra\\AppData\\Local\\Programs\\Python\\Python310\\lib\\site-packages\\sklearn\\metrics\\_regression.py:492: FutureWarning: 'squared' is deprecated in version 1.4 and will be removed in 1.6. To calculate the root mean squared error, use the function'root_mean_squared_error'.\n",
      "  warnings.warn(\n"
     ]
    },
    {
     "name": "stdout",
     "output_type": "stream",
     "text": [
      "R² Score: 0.720, RMSE: 2.742, MAE: 2.200\n",
      "\n",
      "Evaluating: changepoint_prior_scale=0.05, seasonality_prior_scale=8.1, seasonality_mode=additive\n"
     ]
    },
    {
     "name": "stderr",
     "output_type": "stream",
     "text": [
      "10:46:17 - cmdstanpy - INFO - Chain [1] start processing\n",
      "10:46:17 - cmdstanpy - INFO - Chain [1] done processing\n",
      "c:\\Users\\natra\\AppData\\Local\\Programs\\Python\\Python310\\lib\\site-packages\\sklearn\\metrics\\_regression.py:492: FutureWarning: 'squared' is deprecated in version 1.4 and will be removed in 1.6. To calculate the root mean squared error, use the function'root_mean_squared_error'.\n",
      "  warnings.warn(\n",
      "10:46:17 - cmdstanpy - INFO - Chain [1] start processing\n",
      "10:46:17 - cmdstanpy - INFO - Chain [1] done processing\n",
      "c:\\Users\\natra\\AppData\\Local\\Programs\\Python\\Python310\\lib\\site-packages\\sklearn\\metrics\\_regression.py:492: FutureWarning: 'squared' is deprecated in version 1.4 and will be removed in 1.6. To calculate the root mean squared error, use the function'root_mean_squared_error'.\n",
      "  warnings.warn(\n",
      "10:46:18 - cmdstanpy - INFO - Chain [1] start processing\n",
      "10:46:18 - cmdstanpy - INFO - Chain [1] done processing\n",
      "c:\\Users\\natra\\AppData\\Local\\Programs\\Python\\Python310\\lib\\site-packages\\sklearn\\metrics\\_regression.py:492: FutureWarning: 'squared' is deprecated in version 1.4 and will be removed in 1.6. To calculate the root mean squared error, use the function'root_mean_squared_error'.\n",
      "  warnings.warn(\n",
      "10:46:18 - cmdstanpy - INFO - Chain [1] start processing\n",
      "10:46:19 - cmdstanpy - INFO - Chain [1] done processing\n",
      "c:\\Users\\natra\\AppData\\Local\\Programs\\Python\\Python310\\lib\\site-packages\\sklearn\\metrics\\_regression.py:492: FutureWarning: 'squared' is deprecated in version 1.4 and will be removed in 1.6. To calculate the root mean squared error, use the function'root_mean_squared_error'.\n",
      "  warnings.warn(\n",
      "10:46:19 - cmdstanpy - INFO - Chain [1] start processing\n",
      "10:46:19 - cmdstanpy - INFO - Chain [1] done processing\n",
      "c:\\Users\\natra\\AppData\\Local\\Programs\\Python\\Python310\\lib\\site-packages\\sklearn\\metrics\\_regression.py:492: FutureWarning: 'squared' is deprecated in version 1.4 and will be removed in 1.6. To calculate the root mean squared error, use the function'root_mean_squared_error'.\n",
      "  warnings.warn(\n"
     ]
    },
    {
     "name": "stdout",
     "output_type": "stream",
     "text": [
      "R² Score: 0.727, RMSE: 2.712, MAE: 2.182\n",
      "\n",
      "Evaluating: changepoint_prior_scale=0.05, seasonality_prior_scale=8.1, seasonality_mode=multiplicative\n"
     ]
    },
    {
     "name": "stderr",
     "output_type": "stream",
     "text": [
      "10:46:20 - cmdstanpy - INFO - Chain [1] start processing\n",
      "10:46:20 - cmdstanpy - INFO - Chain [1] done processing\n",
      "c:\\Users\\natra\\AppData\\Local\\Programs\\Python\\Python310\\lib\\site-packages\\sklearn\\metrics\\_regression.py:492: FutureWarning: 'squared' is deprecated in version 1.4 and will be removed in 1.6. To calculate the root mean squared error, use the function'root_mean_squared_error'.\n",
      "  warnings.warn(\n",
      "10:46:20 - cmdstanpy - INFO - Chain [1] start processing\n",
      "10:46:21 - cmdstanpy - INFO - Chain [1] done processing\n",
      "c:\\Users\\natra\\AppData\\Local\\Programs\\Python\\Python310\\lib\\site-packages\\sklearn\\metrics\\_regression.py:492: FutureWarning: 'squared' is deprecated in version 1.4 and will be removed in 1.6. To calculate the root mean squared error, use the function'root_mean_squared_error'.\n",
      "  warnings.warn(\n",
      "10:46:21 - cmdstanpy - INFO - Chain [1] start processing\n",
      "10:46:21 - cmdstanpy - INFO - Chain [1] done processing\n",
      "c:\\Users\\natra\\AppData\\Local\\Programs\\Python\\Python310\\lib\\site-packages\\sklearn\\metrics\\_regression.py:492: FutureWarning: 'squared' is deprecated in version 1.4 and will be removed in 1.6. To calculate the root mean squared error, use the function'root_mean_squared_error'.\n",
      "  warnings.warn(\n",
      "10:46:22 - cmdstanpy - INFO - Chain [1] start processing\n",
      "10:46:22 - cmdstanpy - INFO - Chain [1] done processing\n",
      "c:\\Users\\natra\\AppData\\Local\\Programs\\Python\\Python310\\lib\\site-packages\\sklearn\\metrics\\_regression.py:492: FutureWarning: 'squared' is deprecated in version 1.4 and will be removed in 1.6. To calculate the root mean squared error, use the function'root_mean_squared_error'.\n",
      "  warnings.warn(\n",
      "10:46:22 - cmdstanpy - INFO - Chain [1] start processing\n",
      "10:46:22 - cmdstanpy - INFO - Chain [1] done processing\n",
      "c:\\Users\\natra\\AppData\\Local\\Programs\\Python\\Python310\\lib\\site-packages\\sklearn\\metrics\\_regression.py:492: FutureWarning: 'squared' is deprecated in version 1.4 and will be removed in 1.6. To calculate the root mean squared error, use the function'root_mean_squared_error'.\n",
      "  warnings.warn(\n"
     ]
    },
    {
     "name": "stdout",
     "output_type": "stream",
     "text": [
      "R² Score: 0.723, RMSE: 2.732, MAE: 2.191\n",
      "\n",
      "Evaluating: changepoint_prior_scale=0.05, seasonality_prior_scale=9.1, seasonality_mode=additive\n"
     ]
    },
    {
     "name": "stderr",
     "output_type": "stream",
     "text": [
      "10:46:23 - cmdstanpy - INFO - Chain [1] start processing\n",
      "10:46:23 - cmdstanpy - INFO - Chain [1] done processing\n",
      "c:\\Users\\natra\\AppData\\Local\\Programs\\Python\\Python310\\lib\\site-packages\\sklearn\\metrics\\_regression.py:492: FutureWarning: 'squared' is deprecated in version 1.4 and will be removed in 1.6. To calculate the root mean squared error, use the function'root_mean_squared_error'.\n",
      "  warnings.warn(\n",
      "10:46:23 - cmdstanpy - INFO - Chain [1] start processing\n",
      "10:46:24 - cmdstanpy - INFO - Chain [1] done processing\n",
      "c:\\Users\\natra\\AppData\\Local\\Programs\\Python\\Python310\\lib\\site-packages\\sklearn\\metrics\\_regression.py:492: FutureWarning: 'squared' is deprecated in version 1.4 and will be removed in 1.6. To calculate the root mean squared error, use the function'root_mean_squared_error'.\n",
      "  warnings.warn(\n",
      "10:46:24 - cmdstanpy - INFO - Chain [1] start processing\n",
      "10:46:24 - cmdstanpy - INFO - Chain [1] done processing\n",
      "c:\\Users\\natra\\AppData\\Local\\Programs\\Python\\Python310\\lib\\site-packages\\sklearn\\metrics\\_regression.py:492: FutureWarning: 'squared' is deprecated in version 1.4 and will be removed in 1.6. To calculate the root mean squared error, use the function'root_mean_squared_error'.\n",
      "  warnings.warn(\n",
      "10:46:25 - cmdstanpy - INFO - Chain [1] start processing\n",
      "10:46:25 - cmdstanpy - INFO - Chain [1] done processing\n",
      "c:\\Users\\natra\\AppData\\Local\\Programs\\Python\\Python310\\lib\\site-packages\\sklearn\\metrics\\_regression.py:492: FutureWarning: 'squared' is deprecated in version 1.4 and will be removed in 1.6. To calculate the root mean squared error, use the function'root_mean_squared_error'.\n",
      "  warnings.warn(\n",
      "10:46:25 - cmdstanpy - INFO - Chain [1] start processing\n",
      "10:46:25 - cmdstanpy - INFO - Chain [1] done processing\n",
      "c:\\Users\\natra\\AppData\\Local\\Programs\\Python\\Python310\\lib\\site-packages\\sklearn\\metrics\\_regression.py:492: FutureWarning: 'squared' is deprecated in version 1.4 and will be removed in 1.6. To calculate the root mean squared error, use the function'root_mean_squared_error'.\n",
      "  warnings.warn(\n"
     ]
    },
    {
     "name": "stdout",
     "output_type": "stream",
     "text": [
      "R² Score: 0.729, RMSE: 2.703, MAE: 2.174\n",
      "\n",
      "Evaluating: changepoint_prior_scale=0.05, seasonality_prior_scale=9.1, seasonality_mode=multiplicative\n"
     ]
    },
    {
     "name": "stderr",
     "output_type": "stream",
     "text": [
      "10:46:26 - cmdstanpy - INFO - Chain [1] start processing\n",
      "10:46:26 - cmdstanpy - INFO - Chain [1] done processing\n",
      "c:\\Users\\natra\\AppData\\Local\\Programs\\Python\\Python310\\lib\\site-packages\\sklearn\\metrics\\_regression.py:492: FutureWarning: 'squared' is deprecated in version 1.4 and will be removed in 1.6. To calculate the root mean squared error, use the function'root_mean_squared_error'.\n",
      "  warnings.warn(\n",
      "10:46:26 - cmdstanpy - INFO - Chain [1] start processing\n",
      "10:46:27 - cmdstanpy - INFO - Chain [1] done processing\n",
      "c:\\Users\\natra\\AppData\\Local\\Programs\\Python\\Python310\\lib\\site-packages\\sklearn\\metrics\\_regression.py:492: FutureWarning: 'squared' is deprecated in version 1.4 and will be removed in 1.6. To calculate the root mean squared error, use the function'root_mean_squared_error'.\n",
      "  warnings.warn(\n",
      "10:46:27 - cmdstanpy - INFO - Chain [1] start processing\n",
      "10:46:27 - cmdstanpy - INFO - Chain [1] done processing\n",
      "c:\\Users\\natra\\AppData\\Local\\Programs\\Python\\Python310\\lib\\site-packages\\sklearn\\metrics\\_regression.py:492: FutureWarning: 'squared' is deprecated in version 1.4 and will be removed in 1.6. To calculate the root mean squared error, use the function'root_mean_squared_error'.\n",
      "  warnings.warn(\n",
      "10:46:28 - cmdstanpy - INFO - Chain [1] start processing\n",
      "10:46:28 - cmdstanpy - INFO - Chain [1] done processing\n",
      "c:\\Users\\natra\\AppData\\Local\\Programs\\Python\\Python310\\lib\\site-packages\\sklearn\\metrics\\_regression.py:492: FutureWarning: 'squared' is deprecated in version 1.4 and will be removed in 1.6. To calculate the root mean squared error, use the function'root_mean_squared_error'.\n",
      "  warnings.warn(\n",
      "10:46:28 - cmdstanpy - INFO - Chain [1] start processing\n",
      "10:46:28 - cmdstanpy - INFO - Chain [1] done processing\n",
      "c:\\Users\\natra\\AppData\\Local\\Programs\\Python\\Python310\\lib\\site-packages\\sklearn\\metrics\\_regression.py:492: FutureWarning: 'squared' is deprecated in version 1.4 and will be removed in 1.6. To calculate the root mean squared error, use the function'root_mean_squared_error'.\n",
      "  warnings.warn(\n"
     ]
    },
    {
     "name": "stdout",
     "output_type": "stream",
     "text": [
      "R² Score: 0.721, RMSE: 2.740, MAE: 2.196\n",
      "\n",
      "Evaluating: changepoint_prior_scale=0.05, seasonality_prior_scale=10.1, seasonality_mode=additive\n"
     ]
    },
    {
     "name": "stderr",
     "output_type": "stream",
     "text": [
      "10:46:29 - cmdstanpy - INFO - Chain [1] start processing\n",
      "10:46:29 - cmdstanpy - INFO - Chain [1] done processing\n",
      "c:\\Users\\natra\\AppData\\Local\\Programs\\Python\\Python310\\lib\\site-packages\\sklearn\\metrics\\_regression.py:492: FutureWarning: 'squared' is deprecated in version 1.4 and will be removed in 1.6. To calculate the root mean squared error, use the function'root_mean_squared_error'.\n",
      "  warnings.warn(\n",
      "10:46:30 - cmdstanpy - INFO - Chain [1] start processing\n",
      "10:46:30 - cmdstanpy - INFO - Chain [1] done processing\n",
      "c:\\Users\\natra\\AppData\\Local\\Programs\\Python\\Python310\\lib\\site-packages\\sklearn\\metrics\\_regression.py:492: FutureWarning: 'squared' is deprecated in version 1.4 and will be removed in 1.6. To calculate the root mean squared error, use the function'root_mean_squared_error'.\n",
      "  warnings.warn(\n",
      "10:46:30 - cmdstanpy - INFO - Chain [1] start processing\n",
      "10:46:30 - cmdstanpy - INFO - Chain [1] done processing\n",
      "c:\\Users\\natra\\AppData\\Local\\Programs\\Python\\Python310\\lib\\site-packages\\sklearn\\metrics\\_regression.py:492: FutureWarning: 'squared' is deprecated in version 1.4 and will be removed in 1.6. To calculate the root mean squared error, use the function'root_mean_squared_error'.\n",
      "  warnings.warn(\n",
      "10:46:31 - cmdstanpy - INFO - Chain [1] start processing\n",
      "10:46:31 - cmdstanpy - INFO - Chain [1] done processing\n",
      "c:\\Users\\natra\\AppData\\Local\\Programs\\Python\\Python310\\lib\\site-packages\\sklearn\\metrics\\_regression.py:492: FutureWarning: 'squared' is deprecated in version 1.4 and will be removed in 1.6. To calculate the root mean squared error, use the function'root_mean_squared_error'.\n",
      "  warnings.warn(\n",
      "10:46:32 - cmdstanpy - INFO - Chain [1] start processing\n",
      "10:46:32 - cmdstanpy - INFO - Chain [1] done processing\n",
      "c:\\Users\\natra\\AppData\\Local\\Programs\\Python\\Python310\\lib\\site-packages\\sklearn\\metrics\\_regression.py:492: FutureWarning: 'squared' is deprecated in version 1.4 and will be removed in 1.6. To calculate the root mean squared error, use the function'root_mean_squared_error'.\n",
      "  warnings.warn(\n"
     ]
    },
    {
     "name": "stdout",
     "output_type": "stream",
     "text": [
      "R² Score: 0.729, RMSE: 2.700, MAE: 2.171\n",
      "\n",
      "Evaluating: changepoint_prior_scale=0.05, seasonality_prior_scale=10.1, seasonality_mode=multiplicative\n"
     ]
    },
    {
     "name": "stderr",
     "output_type": "stream",
     "text": [
      "10:46:32 - cmdstanpy - INFO - Chain [1] start processing\n",
      "10:46:33 - cmdstanpy - INFO - Chain [1] done processing\n",
      "c:\\Users\\natra\\AppData\\Local\\Programs\\Python\\Python310\\lib\\site-packages\\sklearn\\metrics\\_regression.py:492: FutureWarning: 'squared' is deprecated in version 1.4 and will be removed in 1.6. To calculate the root mean squared error, use the function'root_mean_squared_error'.\n",
      "  warnings.warn(\n",
      "10:46:33 - cmdstanpy - INFO - Chain [1] start processing\n",
      "10:46:33 - cmdstanpy - INFO - Chain [1] done processing\n",
      "c:\\Users\\natra\\AppData\\Local\\Programs\\Python\\Python310\\lib\\site-packages\\sklearn\\metrics\\_regression.py:492: FutureWarning: 'squared' is deprecated in version 1.4 and will be removed in 1.6. To calculate the root mean squared error, use the function'root_mean_squared_error'.\n",
      "  warnings.warn(\n",
      "10:46:34 - cmdstanpy - INFO - Chain [1] start processing\n",
      "10:46:34 - cmdstanpy - INFO - Chain [1] done processing\n",
      "c:\\Users\\natra\\AppData\\Local\\Programs\\Python\\Python310\\lib\\site-packages\\sklearn\\metrics\\_regression.py:492: FutureWarning: 'squared' is deprecated in version 1.4 and will be removed in 1.6. To calculate the root mean squared error, use the function'root_mean_squared_error'.\n",
      "  warnings.warn(\n",
      "10:46:34 - cmdstanpy - INFO - Chain [1] start processing\n",
      "10:46:35 - cmdstanpy - INFO - Chain [1] done processing\n",
      "c:\\Users\\natra\\AppData\\Local\\Programs\\Python\\Python310\\lib\\site-packages\\sklearn\\metrics\\_regression.py:492: FutureWarning: 'squared' is deprecated in version 1.4 and will be removed in 1.6. To calculate the root mean squared error, use the function'root_mean_squared_error'.\n",
      "  warnings.warn(\n",
      "10:46:35 - cmdstanpy - INFO - Chain [1] start processing\n",
      "10:46:35 - cmdstanpy - INFO - Chain [1] done processing\n",
      "c:\\Users\\natra\\AppData\\Local\\Programs\\Python\\Python310\\lib\\site-packages\\sklearn\\metrics\\_regression.py:492: FutureWarning: 'squared' is deprecated in version 1.4 and will be removed in 1.6. To calculate the root mean squared error, use the function'root_mean_squared_error'.\n",
      "  warnings.warn(\n"
     ]
    },
    {
     "name": "stdout",
     "output_type": "stream",
     "text": [
      "R² Score: 0.722, RMSE: 2.733, MAE: 2.191\n",
      "\n",
      "Evaluating: changepoint_prior_scale=0.060000000000000005, seasonality_prior_scale=0.1, seasonality_mode=additive\n"
     ]
    },
    {
     "name": "stderr",
     "output_type": "stream",
     "text": [
      "10:46:36 - cmdstanpy - INFO - Chain [1] start processing\n",
      "10:46:36 - cmdstanpy - INFO - Chain [1] done processing\n",
      "c:\\Users\\natra\\AppData\\Local\\Programs\\Python\\Python310\\lib\\site-packages\\sklearn\\metrics\\_regression.py:492: FutureWarning: 'squared' is deprecated in version 1.4 and will be removed in 1.6. To calculate the root mean squared error, use the function'root_mean_squared_error'.\n",
      "  warnings.warn(\n",
      "10:46:37 - cmdstanpy - INFO - Chain [1] start processing\n",
      "10:46:37 - cmdstanpy - INFO - Chain [1] done processing\n",
      "c:\\Users\\natra\\AppData\\Local\\Programs\\Python\\Python310\\lib\\site-packages\\sklearn\\metrics\\_regression.py:492: FutureWarning: 'squared' is deprecated in version 1.4 and will be removed in 1.6. To calculate the root mean squared error, use the function'root_mean_squared_error'.\n",
      "  warnings.warn(\n",
      "10:46:37 - cmdstanpy - INFO - Chain [1] start processing\n",
      "10:46:37 - cmdstanpy - INFO - Chain [1] done processing\n",
      "c:\\Users\\natra\\AppData\\Local\\Programs\\Python\\Python310\\lib\\site-packages\\sklearn\\metrics\\_regression.py:492: FutureWarning: 'squared' is deprecated in version 1.4 and will be removed in 1.6. To calculate the root mean squared error, use the function'root_mean_squared_error'.\n",
      "  warnings.warn(\n",
      "10:46:38 - cmdstanpy - INFO - Chain [1] start processing\n",
      "10:46:38 - cmdstanpy - INFO - Chain [1] done processing\n",
      "c:\\Users\\natra\\AppData\\Local\\Programs\\Python\\Python310\\lib\\site-packages\\sklearn\\metrics\\_regression.py:492: FutureWarning: 'squared' is deprecated in version 1.4 and will be removed in 1.6. To calculate the root mean squared error, use the function'root_mean_squared_error'.\n",
      "  warnings.warn(\n",
      "10:46:39 - cmdstanpy - INFO - Chain [1] start processing\n",
      "10:46:39 - cmdstanpy - INFO - Chain [1] done processing\n",
      "c:\\Users\\natra\\AppData\\Local\\Programs\\Python\\Python310\\lib\\site-packages\\sklearn\\metrics\\_regression.py:492: FutureWarning: 'squared' is deprecated in version 1.4 and will be removed in 1.6. To calculate the root mean squared error, use the function'root_mean_squared_error'.\n",
      "  warnings.warn(\n"
     ]
    },
    {
     "name": "stdout",
     "output_type": "stream",
     "text": [
      "R² Score: 0.716, RMSE: 2.758, MAE: 2.222\n",
      "\n",
      "Evaluating: changepoint_prior_scale=0.060000000000000005, seasonality_prior_scale=0.1, seasonality_mode=multiplicative\n"
     ]
    },
    {
     "name": "stderr",
     "output_type": "stream",
     "text": [
      "10:46:39 - cmdstanpy - INFO - Chain [1] start processing\n",
      "10:46:40 - cmdstanpy - INFO - Chain [1] done processing\n",
      "c:\\Users\\natra\\AppData\\Local\\Programs\\Python\\Python310\\lib\\site-packages\\sklearn\\metrics\\_regression.py:492: FutureWarning: 'squared' is deprecated in version 1.4 and will be removed in 1.6. To calculate the root mean squared error, use the function'root_mean_squared_error'.\n",
      "  warnings.warn(\n",
      "10:46:40 - cmdstanpy - INFO - Chain [1] start processing\n",
      "10:46:40 - cmdstanpy - INFO - Chain [1] done processing\n",
      "c:\\Users\\natra\\AppData\\Local\\Programs\\Python\\Python310\\lib\\site-packages\\sklearn\\metrics\\_regression.py:492: FutureWarning: 'squared' is deprecated in version 1.4 and will be removed in 1.6. To calculate the root mean squared error, use the function'root_mean_squared_error'.\n",
      "  warnings.warn(\n",
      "10:46:41 - cmdstanpy - INFO - Chain [1] start processing\n",
      "10:46:41 - cmdstanpy - INFO - Chain [1] done processing\n",
      "c:\\Users\\natra\\AppData\\Local\\Programs\\Python\\Python310\\lib\\site-packages\\sklearn\\metrics\\_regression.py:492: FutureWarning: 'squared' is deprecated in version 1.4 and will be removed in 1.6. To calculate the root mean squared error, use the function'root_mean_squared_error'.\n",
      "  warnings.warn(\n",
      "10:46:41 - cmdstanpy - INFO - Chain [1] start processing\n",
      "10:46:41 - cmdstanpy - INFO - Chain [1] done processing\n",
      "c:\\Users\\natra\\AppData\\Local\\Programs\\Python\\Python310\\lib\\site-packages\\sklearn\\metrics\\_regression.py:492: FutureWarning: 'squared' is deprecated in version 1.4 and will be removed in 1.6. To calculate the root mean squared error, use the function'root_mean_squared_error'.\n",
      "  warnings.warn(\n",
      "10:46:42 - cmdstanpy - INFO - Chain [1] start processing\n",
      "10:46:42 - cmdstanpy - INFO - Chain [1] done processing\n",
      "c:\\Users\\natra\\AppData\\Local\\Programs\\Python\\Python310\\lib\\site-packages\\sklearn\\metrics\\_regression.py:492: FutureWarning: 'squared' is deprecated in version 1.4 and will be removed in 1.6. To calculate the root mean squared error, use the function'root_mean_squared_error'.\n",
      "  warnings.warn(\n"
     ]
    },
    {
     "name": "stdout",
     "output_type": "stream",
     "text": [
      "R² Score: 0.720, RMSE: 2.744, MAE: 2.215\n",
      "\n",
      "Evaluating: changepoint_prior_scale=0.060000000000000005, seasonality_prior_scale=1.1, seasonality_mode=additive\n"
     ]
    },
    {
     "name": "stderr",
     "output_type": "stream",
     "text": [
      "10:46:42 - cmdstanpy - INFO - Chain [1] start processing\n",
      "10:46:43 - cmdstanpy - INFO - Chain [1] done processing\n",
      "c:\\Users\\natra\\AppData\\Local\\Programs\\Python\\Python310\\lib\\site-packages\\sklearn\\metrics\\_regression.py:492: FutureWarning: 'squared' is deprecated in version 1.4 and will be removed in 1.6. To calculate the root mean squared error, use the function'root_mean_squared_error'.\n",
      "  warnings.warn(\n",
      "10:46:43 - cmdstanpy - INFO - Chain [1] start processing\n",
      "10:46:43 - cmdstanpy - INFO - Chain [1] done processing\n",
      "c:\\Users\\natra\\AppData\\Local\\Programs\\Python\\Python310\\lib\\site-packages\\sklearn\\metrics\\_regression.py:492: FutureWarning: 'squared' is deprecated in version 1.4 and will be removed in 1.6. To calculate the root mean squared error, use the function'root_mean_squared_error'.\n",
      "  warnings.warn(\n",
      "10:46:44 - cmdstanpy - INFO - Chain [1] start processing\n",
      "10:46:44 - cmdstanpy - INFO - Chain [1] done processing\n",
      "c:\\Users\\natra\\AppData\\Local\\Programs\\Python\\Python310\\lib\\site-packages\\sklearn\\metrics\\_regression.py:492: FutureWarning: 'squared' is deprecated in version 1.4 and will be removed in 1.6. To calculate the root mean squared error, use the function'root_mean_squared_error'.\n",
      "  warnings.warn(\n",
      "10:46:44 - cmdstanpy - INFO - Chain [1] start processing\n",
      "10:46:44 - cmdstanpy - INFO - Chain [1] done processing\n",
      "c:\\Users\\natra\\AppData\\Local\\Programs\\Python\\Python310\\lib\\site-packages\\sklearn\\metrics\\_regression.py:492: FutureWarning: 'squared' is deprecated in version 1.4 and will be removed in 1.6. To calculate the root mean squared error, use the function'root_mean_squared_error'.\n",
      "  warnings.warn(\n",
      "10:46:45 - cmdstanpy - INFO - Chain [1] start processing\n",
      "10:46:45 - cmdstanpy - INFO - Chain [1] done processing\n",
      "c:\\Users\\natra\\AppData\\Local\\Programs\\Python\\Python310\\lib\\site-packages\\sklearn\\metrics\\_regression.py:492: FutureWarning: 'squared' is deprecated in version 1.4 and will be removed in 1.6. To calculate the root mean squared error, use the function'root_mean_squared_error'.\n",
      "  warnings.warn(\n"
     ]
    },
    {
     "name": "stdout",
     "output_type": "stream",
     "text": [
      "R² Score: 0.717, RMSE: 2.757, MAE: 2.222\n",
      "\n",
      "Evaluating: changepoint_prior_scale=0.060000000000000005, seasonality_prior_scale=1.1, seasonality_mode=multiplicative\n"
     ]
    },
    {
     "name": "stderr",
     "output_type": "stream",
     "text": [
      "10:46:45 - cmdstanpy - INFO - Chain [1] start processing\n",
      "10:46:46 - cmdstanpy - INFO - Chain [1] done processing\n",
      "c:\\Users\\natra\\AppData\\Local\\Programs\\Python\\Python310\\lib\\site-packages\\sklearn\\metrics\\_regression.py:492: FutureWarning: 'squared' is deprecated in version 1.4 and will be removed in 1.6. To calculate the root mean squared error, use the function'root_mean_squared_error'.\n",
      "  warnings.warn(\n",
      "10:46:46 - cmdstanpy - INFO - Chain [1] start processing\n",
      "10:46:46 - cmdstanpy - INFO - Chain [1] done processing\n",
      "c:\\Users\\natra\\AppData\\Local\\Programs\\Python\\Python310\\lib\\site-packages\\sklearn\\metrics\\_regression.py:492: FutureWarning: 'squared' is deprecated in version 1.4 and will be removed in 1.6. To calculate the root mean squared error, use the function'root_mean_squared_error'.\n",
      "  warnings.warn(\n",
      "10:46:47 - cmdstanpy - INFO - Chain [1] start processing\n",
      "10:46:47 - cmdstanpy - INFO - Chain [1] done processing\n",
      "c:\\Users\\natra\\AppData\\Local\\Programs\\Python\\Python310\\lib\\site-packages\\sklearn\\metrics\\_regression.py:492: FutureWarning: 'squared' is deprecated in version 1.4 and will be removed in 1.6. To calculate the root mean squared error, use the function'root_mean_squared_error'.\n",
      "  warnings.warn(\n",
      "10:46:47 - cmdstanpy - INFO - Chain [1] start processing\n",
      "10:46:47 - cmdstanpy - INFO - Chain [1] done processing\n",
      "c:\\Users\\natra\\AppData\\Local\\Programs\\Python\\Python310\\lib\\site-packages\\sklearn\\metrics\\_regression.py:492: FutureWarning: 'squared' is deprecated in version 1.4 and will be removed in 1.6. To calculate the root mean squared error, use the function'root_mean_squared_error'.\n",
      "  warnings.warn(\n",
      "10:46:48 - cmdstanpy - INFO - Chain [1] start processing\n",
      "10:46:48 - cmdstanpy - INFO - Chain [1] done processing\n",
      "c:\\Users\\natra\\AppData\\Local\\Programs\\Python\\Python310\\lib\\site-packages\\sklearn\\metrics\\_regression.py:492: FutureWarning: 'squared' is deprecated in version 1.4 and will be removed in 1.6. To calculate the root mean squared error, use the function'root_mean_squared_error'.\n",
      "  warnings.warn(\n"
     ]
    },
    {
     "name": "stdout",
     "output_type": "stream",
     "text": [
      "R² Score: 0.718, RMSE: 2.752, MAE: 2.224\n",
      "\n",
      "Evaluating: changepoint_prior_scale=0.060000000000000005, seasonality_prior_scale=2.1, seasonality_mode=additive\n"
     ]
    },
    {
     "name": "stderr",
     "output_type": "stream",
     "text": [
      "10:46:49 - cmdstanpy - INFO - Chain [1] start processing\n",
      "10:46:49 - cmdstanpy - INFO - Chain [1] done processing\n",
      "c:\\Users\\natra\\AppData\\Local\\Programs\\Python\\Python310\\lib\\site-packages\\sklearn\\metrics\\_regression.py:492: FutureWarning: 'squared' is deprecated in version 1.4 and will be removed in 1.6. To calculate the root mean squared error, use the function'root_mean_squared_error'.\n",
      "  warnings.warn(\n",
      "10:46:49 - cmdstanpy - INFO - Chain [1] start processing\n",
      "10:46:49 - cmdstanpy - INFO - Chain [1] done processing\n",
      "c:\\Users\\natra\\AppData\\Local\\Programs\\Python\\Python310\\lib\\site-packages\\sklearn\\metrics\\_regression.py:492: FutureWarning: 'squared' is deprecated in version 1.4 and will be removed in 1.6. To calculate the root mean squared error, use the function'root_mean_squared_error'.\n",
      "  warnings.warn(\n",
      "10:46:50 - cmdstanpy - INFO - Chain [1] start processing\n",
      "10:46:50 - cmdstanpy - INFO - Chain [1] done processing\n",
      "c:\\Users\\natra\\AppData\\Local\\Programs\\Python\\Python310\\lib\\site-packages\\sklearn\\metrics\\_regression.py:492: FutureWarning: 'squared' is deprecated in version 1.4 and will be removed in 1.6. To calculate the root mean squared error, use the function'root_mean_squared_error'.\n",
      "  warnings.warn(\n",
      "10:46:50 - cmdstanpy - INFO - Chain [1] start processing\n",
      "10:46:50 - cmdstanpy - INFO - Chain [1] done processing\n",
      "c:\\Users\\natra\\AppData\\Local\\Programs\\Python\\Python310\\lib\\site-packages\\sklearn\\metrics\\_regression.py:492: FutureWarning: 'squared' is deprecated in version 1.4 and will be removed in 1.6. To calculate the root mean squared error, use the function'root_mean_squared_error'.\n",
      "  warnings.warn(\n",
      "10:46:51 - cmdstanpy - INFO - Chain [1] start processing\n",
      "10:46:51 - cmdstanpy - INFO - Chain [1] done processing\n",
      "c:\\Users\\natra\\AppData\\Local\\Programs\\Python\\Python310\\lib\\site-packages\\sklearn\\metrics\\_regression.py:492: FutureWarning: 'squared' is deprecated in version 1.4 and will be removed in 1.6. To calculate the root mean squared error, use the function'root_mean_squared_error'.\n",
      "  warnings.warn(\n"
     ]
    },
    {
     "name": "stdout",
     "output_type": "stream",
     "text": [
      "R² Score: 0.719, RMSE: 2.748, MAE: 2.213\n",
      "\n",
      "Evaluating: changepoint_prior_scale=0.060000000000000005, seasonality_prior_scale=2.1, seasonality_mode=multiplicative\n"
     ]
    },
    {
     "name": "stderr",
     "output_type": "stream",
     "text": [
      "10:46:51 - cmdstanpy - INFO - Chain [1] start processing\n",
      "10:46:52 - cmdstanpy - INFO - Chain [1] done processing\n",
      "c:\\Users\\natra\\AppData\\Local\\Programs\\Python\\Python310\\lib\\site-packages\\sklearn\\metrics\\_regression.py:492: FutureWarning: 'squared' is deprecated in version 1.4 and will be removed in 1.6. To calculate the root mean squared error, use the function'root_mean_squared_error'.\n",
      "  warnings.warn(\n",
      "10:46:52 - cmdstanpy - INFO - Chain [1] start processing\n",
      "10:46:52 - cmdstanpy - INFO - Chain [1] done processing\n",
      "c:\\Users\\natra\\AppData\\Local\\Programs\\Python\\Python310\\lib\\site-packages\\sklearn\\metrics\\_regression.py:492: FutureWarning: 'squared' is deprecated in version 1.4 and will be removed in 1.6. To calculate the root mean squared error, use the function'root_mean_squared_error'.\n",
      "  warnings.warn(\n",
      "10:46:53 - cmdstanpy - INFO - Chain [1] start processing\n",
      "10:46:53 - cmdstanpy - INFO - Chain [1] done processing\n",
      "c:\\Users\\natra\\AppData\\Local\\Programs\\Python\\Python310\\lib\\site-packages\\sklearn\\metrics\\_regression.py:492: FutureWarning: 'squared' is deprecated in version 1.4 and will be removed in 1.6. To calculate the root mean squared error, use the function'root_mean_squared_error'.\n",
      "  warnings.warn(\n",
      "10:46:53 - cmdstanpy - INFO - Chain [1] start processing\n",
      "10:46:53 - cmdstanpy - INFO - Chain [1] done processing\n",
      "c:\\Users\\natra\\AppData\\Local\\Programs\\Python\\Python310\\lib\\site-packages\\sklearn\\metrics\\_regression.py:492: FutureWarning: 'squared' is deprecated in version 1.4 and will be removed in 1.6. To calculate the root mean squared error, use the function'root_mean_squared_error'.\n",
      "  warnings.warn(\n",
      "10:46:54 - cmdstanpy - INFO - Chain [1] start processing\n",
      "10:46:54 - cmdstanpy - INFO - Chain [1] done processing\n",
      "c:\\Users\\natra\\AppData\\Local\\Programs\\Python\\Python310\\lib\\site-packages\\sklearn\\metrics\\_regression.py:492: FutureWarning: 'squared' is deprecated in version 1.4 and will be removed in 1.6. To calculate the root mean squared error, use the function'root_mean_squared_error'.\n",
      "  warnings.warn(\n"
     ]
    },
    {
     "name": "stdout",
     "output_type": "stream",
     "text": [
      "R² Score: 0.722, RMSE: 2.736, MAE: 2.204\n",
      "\n",
      "Evaluating: changepoint_prior_scale=0.060000000000000005, seasonality_prior_scale=3.1, seasonality_mode=additive\n"
     ]
    },
    {
     "name": "stderr",
     "output_type": "stream",
     "text": [
      "10:46:55 - cmdstanpy - INFO - Chain [1] start processing\n",
      "10:46:55 - cmdstanpy - INFO - Chain [1] done processing\n",
      "c:\\Users\\natra\\AppData\\Local\\Programs\\Python\\Python310\\lib\\site-packages\\sklearn\\metrics\\_regression.py:492: FutureWarning: 'squared' is deprecated in version 1.4 and will be removed in 1.6. To calculate the root mean squared error, use the function'root_mean_squared_error'.\n",
      "  warnings.warn(\n",
      "10:46:55 - cmdstanpy - INFO - Chain [1] start processing\n",
      "10:46:55 - cmdstanpy - INFO - Chain [1] done processing\n",
      "c:\\Users\\natra\\AppData\\Local\\Programs\\Python\\Python310\\lib\\site-packages\\sklearn\\metrics\\_regression.py:492: FutureWarning: 'squared' is deprecated in version 1.4 and will be removed in 1.6. To calculate the root mean squared error, use the function'root_mean_squared_error'.\n",
      "  warnings.warn(\n",
      "10:46:56 - cmdstanpy - INFO - Chain [1] start processing\n",
      "10:46:56 - cmdstanpy - INFO - Chain [1] done processing\n",
      "c:\\Users\\natra\\AppData\\Local\\Programs\\Python\\Python310\\lib\\site-packages\\sklearn\\metrics\\_regression.py:492: FutureWarning: 'squared' is deprecated in version 1.4 and will be removed in 1.6. To calculate the root mean squared error, use the function'root_mean_squared_error'.\n",
      "  warnings.warn(\n",
      "10:46:56 - cmdstanpy - INFO - Chain [1] start processing\n",
      "10:46:56 - cmdstanpy - INFO - Chain [1] done processing\n",
      "c:\\Users\\natra\\AppData\\Local\\Programs\\Python\\Python310\\lib\\site-packages\\sklearn\\metrics\\_regression.py:492: FutureWarning: 'squared' is deprecated in version 1.4 and will be removed in 1.6. To calculate the root mean squared error, use the function'root_mean_squared_error'.\n",
      "  warnings.warn(\n",
      "10:46:57 - cmdstanpy - INFO - Chain [1] start processing\n",
      "10:46:57 - cmdstanpy - INFO - Chain [1] done processing\n",
      "c:\\Users\\natra\\AppData\\Local\\Programs\\Python\\Python310\\lib\\site-packages\\sklearn\\metrics\\_regression.py:492: FutureWarning: 'squared' is deprecated in version 1.4 and will be removed in 1.6. To calculate the root mean squared error, use the function'root_mean_squared_error'.\n",
      "  warnings.warn(\n"
     ]
    },
    {
     "name": "stdout",
     "output_type": "stream",
     "text": [
      "R² Score: 0.715, RMSE: 2.766, MAE: 2.229\n",
      "\n",
      "Evaluating: changepoint_prior_scale=0.060000000000000005, seasonality_prior_scale=3.1, seasonality_mode=multiplicative\n"
     ]
    },
    {
     "name": "stderr",
     "output_type": "stream",
     "text": [
      "10:46:58 - cmdstanpy - INFO - Chain [1] start processing\n",
      "10:46:58 - cmdstanpy - INFO - Chain [1] done processing\n",
      "c:\\Users\\natra\\AppData\\Local\\Programs\\Python\\Python310\\lib\\site-packages\\sklearn\\metrics\\_regression.py:492: FutureWarning: 'squared' is deprecated in version 1.4 and will be removed in 1.6. To calculate the root mean squared error, use the function'root_mean_squared_error'.\n",
      "  warnings.warn(\n",
      "10:46:58 - cmdstanpy - INFO - Chain [1] start processing\n",
      "10:46:58 - cmdstanpy - INFO - Chain [1] done processing\n",
      "c:\\Users\\natra\\AppData\\Local\\Programs\\Python\\Python310\\lib\\site-packages\\sklearn\\metrics\\_regression.py:492: FutureWarning: 'squared' is deprecated in version 1.4 and will be removed in 1.6. To calculate the root mean squared error, use the function'root_mean_squared_error'.\n",
      "  warnings.warn(\n",
      "10:46:59 - cmdstanpy - INFO - Chain [1] start processing\n",
      "10:46:59 - cmdstanpy - INFO - Chain [1] done processing\n",
      "c:\\Users\\natra\\AppData\\Local\\Programs\\Python\\Python310\\lib\\site-packages\\sklearn\\metrics\\_regression.py:492: FutureWarning: 'squared' is deprecated in version 1.4 and will be removed in 1.6. To calculate the root mean squared error, use the function'root_mean_squared_error'.\n",
      "  warnings.warn(\n",
      "10:46:59 - cmdstanpy - INFO - Chain [1] start processing\n",
      "10:47:00 - cmdstanpy - INFO - Chain [1] done processing\n",
      "c:\\Users\\natra\\AppData\\Local\\Programs\\Python\\Python310\\lib\\site-packages\\sklearn\\metrics\\_regression.py:492: FutureWarning: 'squared' is deprecated in version 1.4 and will be removed in 1.6. To calculate the root mean squared error, use the function'root_mean_squared_error'.\n",
      "  warnings.warn(\n",
      "10:47:00 - cmdstanpy - INFO - Chain [1] start processing\n",
      "10:47:00 - cmdstanpy - INFO - Chain [1] done processing\n",
      "c:\\Users\\natra\\AppData\\Local\\Programs\\Python\\Python310\\lib\\site-packages\\sklearn\\metrics\\_regression.py:492: FutureWarning: 'squared' is deprecated in version 1.4 and will be removed in 1.6. To calculate the root mean squared error, use the function'root_mean_squared_error'.\n",
      "  warnings.warn(\n"
     ]
    },
    {
     "name": "stdout",
     "output_type": "stream",
     "text": [
      "R² Score: 0.722, RMSE: 2.736, MAE: 2.204\n",
      "\n",
      "Evaluating: changepoint_prior_scale=0.060000000000000005, seasonality_prior_scale=4.1, seasonality_mode=additive\n"
     ]
    },
    {
     "name": "stderr",
     "output_type": "stream",
     "text": [
      "10:47:01 - cmdstanpy - INFO - Chain [1] start processing\n",
      "10:47:01 - cmdstanpy - INFO - Chain [1] done processing\n",
      "c:\\Users\\natra\\AppData\\Local\\Programs\\Python\\Python310\\lib\\site-packages\\sklearn\\metrics\\_regression.py:492: FutureWarning: 'squared' is deprecated in version 1.4 and will be removed in 1.6. To calculate the root mean squared error, use the function'root_mean_squared_error'.\n",
      "  warnings.warn(\n",
      "10:47:01 - cmdstanpy - INFO - Chain [1] start processing\n",
      "10:47:02 - cmdstanpy - INFO - Chain [1] done processing\n",
      "c:\\Users\\natra\\AppData\\Local\\Programs\\Python\\Python310\\lib\\site-packages\\sklearn\\metrics\\_regression.py:492: FutureWarning: 'squared' is deprecated in version 1.4 and will be removed in 1.6. To calculate the root mean squared error, use the function'root_mean_squared_error'.\n",
      "  warnings.warn(\n",
      "10:47:02 - cmdstanpy - INFO - Chain [1] start processing\n",
      "10:47:02 - cmdstanpy - INFO - Chain [1] done processing\n",
      "c:\\Users\\natra\\AppData\\Local\\Programs\\Python\\Python310\\lib\\site-packages\\sklearn\\metrics\\_regression.py:492: FutureWarning: 'squared' is deprecated in version 1.4 and will be removed in 1.6. To calculate the root mean squared error, use the function'root_mean_squared_error'.\n",
      "  warnings.warn(\n",
      "10:47:03 - cmdstanpy - INFO - Chain [1] start processing\n",
      "10:47:03 - cmdstanpy - INFO - Chain [1] done processing\n",
      "c:\\Users\\natra\\AppData\\Local\\Programs\\Python\\Python310\\lib\\site-packages\\sklearn\\metrics\\_regression.py:492: FutureWarning: 'squared' is deprecated in version 1.4 and will be removed in 1.6. To calculate the root mean squared error, use the function'root_mean_squared_error'.\n",
      "  warnings.warn(\n",
      "10:47:03 - cmdstanpy - INFO - Chain [1] start processing\n",
      "10:47:03 - cmdstanpy - INFO - Chain [1] done processing\n",
      "c:\\Users\\natra\\AppData\\Local\\Programs\\Python\\Python310\\lib\\site-packages\\sklearn\\metrics\\_regression.py:492: FutureWarning: 'squared' is deprecated in version 1.4 and will be removed in 1.6. To calculate the root mean squared error, use the function'root_mean_squared_error'.\n",
      "  warnings.warn(\n"
     ]
    },
    {
     "name": "stdout",
     "output_type": "stream",
     "text": [
      "R² Score: 0.719, RMSE: 2.748, MAE: 2.213\n",
      "\n",
      "Evaluating: changepoint_prior_scale=0.060000000000000005, seasonality_prior_scale=4.1, seasonality_mode=multiplicative\n"
     ]
    },
    {
     "name": "stderr",
     "output_type": "stream",
     "text": [
      "10:47:04 - cmdstanpy - INFO - Chain [1] start processing\n",
      "10:47:04 - cmdstanpy - INFO - Chain [1] done processing\n",
      "c:\\Users\\natra\\AppData\\Local\\Programs\\Python\\Python310\\lib\\site-packages\\sklearn\\metrics\\_regression.py:492: FutureWarning: 'squared' is deprecated in version 1.4 and will be removed in 1.6. To calculate the root mean squared error, use the function'root_mean_squared_error'.\n",
      "  warnings.warn(\n",
      "10:47:04 - cmdstanpy - INFO - Chain [1] start processing\n",
      "10:47:05 - cmdstanpy - INFO - Chain [1] done processing\n",
      "c:\\Users\\natra\\AppData\\Local\\Programs\\Python\\Python310\\lib\\site-packages\\sklearn\\metrics\\_regression.py:492: FutureWarning: 'squared' is deprecated in version 1.4 and will be removed in 1.6. To calculate the root mean squared error, use the function'root_mean_squared_error'.\n",
      "  warnings.warn(\n",
      "10:47:05 - cmdstanpy - INFO - Chain [1] start processing\n",
      "10:47:05 - cmdstanpy - INFO - Chain [1] done processing\n",
      "c:\\Users\\natra\\AppData\\Local\\Programs\\Python\\Python310\\lib\\site-packages\\sklearn\\metrics\\_regression.py:492: FutureWarning: 'squared' is deprecated in version 1.4 and will be removed in 1.6. To calculate the root mean squared error, use the function'root_mean_squared_error'.\n",
      "  warnings.warn(\n",
      "10:47:06 - cmdstanpy - INFO - Chain [1] start processing\n",
      "10:47:06 - cmdstanpy - INFO - Chain [1] done processing\n",
      "c:\\Users\\natra\\AppData\\Local\\Programs\\Python\\Python310\\lib\\site-packages\\sklearn\\metrics\\_regression.py:492: FutureWarning: 'squared' is deprecated in version 1.4 and will be removed in 1.6. To calculate the root mean squared error, use the function'root_mean_squared_error'.\n",
      "  warnings.warn(\n",
      "10:47:06 - cmdstanpy - INFO - Chain [1] start processing\n",
      "10:47:06 - cmdstanpy - INFO - Chain [1] done processing\n",
      "c:\\Users\\natra\\AppData\\Local\\Programs\\Python\\Python310\\lib\\site-packages\\sklearn\\metrics\\_regression.py:492: FutureWarning: 'squared' is deprecated in version 1.4 and will be removed in 1.6. To calculate the root mean squared error, use the function'root_mean_squared_error'.\n",
      "  warnings.warn(\n"
     ]
    },
    {
     "name": "stdout",
     "output_type": "stream",
     "text": [
      "R² Score: 0.719, RMSE: 2.749, MAE: 2.222\n",
      "\n",
      "Evaluating: changepoint_prior_scale=0.060000000000000005, seasonality_prior_scale=5.1, seasonality_mode=additive\n"
     ]
    },
    {
     "name": "stderr",
     "output_type": "stream",
     "text": [
      "10:47:07 - cmdstanpy - INFO - Chain [1] start processing\n",
      "10:47:07 - cmdstanpy - INFO - Chain [1] done processing\n",
      "c:\\Users\\natra\\AppData\\Local\\Programs\\Python\\Python310\\lib\\site-packages\\sklearn\\metrics\\_regression.py:492: FutureWarning: 'squared' is deprecated in version 1.4 and will be removed in 1.6. To calculate the root mean squared error, use the function'root_mean_squared_error'.\n",
      "  warnings.warn(\n",
      "10:47:07 - cmdstanpy - INFO - Chain [1] start processing\n",
      "10:47:08 - cmdstanpy - INFO - Chain [1] done processing\n",
      "c:\\Users\\natra\\AppData\\Local\\Programs\\Python\\Python310\\lib\\site-packages\\sklearn\\metrics\\_regression.py:492: FutureWarning: 'squared' is deprecated in version 1.4 and will be removed in 1.6. To calculate the root mean squared error, use the function'root_mean_squared_error'.\n",
      "  warnings.warn(\n",
      "10:47:08 - cmdstanpy - INFO - Chain [1] start processing\n",
      "10:47:08 - cmdstanpy - INFO - Chain [1] done processing\n",
      "c:\\Users\\natra\\AppData\\Local\\Programs\\Python\\Python310\\lib\\site-packages\\sklearn\\metrics\\_regression.py:492: FutureWarning: 'squared' is deprecated in version 1.4 and will be removed in 1.6. To calculate the root mean squared error, use the function'root_mean_squared_error'.\n",
      "  warnings.warn(\n",
      "10:47:09 - cmdstanpy - INFO - Chain [1] start processing\n",
      "10:47:09 - cmdstanpy - INFO - Chain [1] done processing\n",
      "c:\\Users\\natra\\AppData\\Local\\Programs\\Python\\Python310\\lib\\site-packages\\sklearn\\metrics\\_regression.py:492: FutureWarning: 'squared' is deprecated in version 1.4 and will be removed in 1.6. To calculate the root mean squared error, use the function'root_mean_squared_error'.\n",
      "  warnings.warn(\n",
      "10:47:09 - cmdstanpy - INFO - Chain [1] start processing\n",
      "10:47:10 - cmdstanpy - INFO - Chain [1] done processing\n",
      "c:\\Users\\natra\\AppData\\Local\\Programs\\Python\\Python310\\lib\\site-packages\\sklearn\\metrics\\_regression.py:492: FutureWarning: 'squared' is deprecated in version 1.4 and will be removed in 1.6. To calculate the root mean squared error, use the function'root_mean_squared_error'.\n",
      "  warnings.warn(\n"
     ]
    },
    {
     "name": "stdout",
     "output_type": "stream",
     "text": [
      "R² Score: 0.719, RMSE: 2.748, MAE: 2.214\n",
      "\n",
      "Evaluating: changepoint_prior_scale=0.060000000000000005, seasonality_prior_scale=5.1, seasonality_mode=multiplicative\n"
     ]
    },
    {
     "name": "stderr",
     "output_type": "stream",
     "text": [
      "10:47:10 - cmdstanpy - INFO - Chain [1] start processing\n",
      "10:47:10 - cmdstanpy - INFO - Chain [1] done processing\n",
      "c:\\Users\\natra\\AppData\\Local\\Programs\\Python\\Python310\\lib\\site-packages\\sklearn\\metrics\\_regression.py:492: FutureWarning: 'squared' is deprecated in version 1.4 and will be removed in 1.6. To calculate the root mean squared error, use the function'root_mean_squared_error'.\n",
      "  warnings.warn(\n",
      "10:47:11 - cmdstanpy - INFO - Chain [1] start processing\n",
      "10:47:11 - cmdstanpy - INFO - Chain [1] done processing\n",
      "c:\\Users\\natra\\AppData\\Local\\Programs\\Python\\Python310\\lib\\site-packages\\sklearn\\metrics\\_regression.py:492: FutureWarning: 'squared' is deprecated in version 1.4 and will be removed in 1.6. To calculate the root mean squared error, use the function'root_mean_squared_error'.\n",
      "  warnings.warn(\n",
      "10:47:11 - cmdstanpy - INFO - Chain [1] start processing\n",
      "10:47:12 - cmdstanpy - INFO - Chain [1] done processing\n",
      "c:\\Users\\natra\\AppData\\Local\\Programs\\Python\\Python310\\lib\\site-packages\\sklearn\\metrics\\_regression.py:492: FutureWarning: 'squared' is deprecated in version 1.4 and will be removed in 1.6. To calculate the root mean squared error, use the function'root_mean_squared_error'.\n",
      "  warnings.warn(\n",
      "10:47:12 - cmdstanpy - INFO - Chain [1] start processing\n",
      "10:47:12 - cmdstanpy - INFO - Chain [1] done processing\n",
      "c:\\Users\\natra\\AppData\\Local\\Programs\\Python\\Python310\\lib\\site-packages\\sklearn\\metrics\\_regression.py:492: FutureWarning: 'squared' is deprecated in version 1.4 and will be removed in 1.6. To calculate the root mean squared error, use the function'root_mean_squared_error'.\n",
      "  warnings.warn(\n",
      "10:47:13 - cmdstanpy - INFO - Chain [1] start processing\n",
      "10:47:13 - cmdstanpy - INFO - Chain [1] done processing\n",
      "c:\\Users\\natra\\AppData\\Local\\Programs\\Python\\Python310\\lib\\site-packages\\sklearn\\metrics\\_regression.py:492: FutureWarning: 'squared' is deprecated in version 1.4 and will be removed in 1.6. To calculate the root mean squared error, use the function'root_mean_squared_error'.\n",
      "  warnings.warn(\n"
     ]
    },
    {
     "name": "stdout",
     "output_type": "stream",
     "text": [
      "R² Score: 0.721, RMSE: 2.740, MAE: 2.202\n",
      "\n",
      "Evaluating: changepoint_prior_scale=0.060000000000000005, seasonality_prior_scale=6.1, seasonality_mode=additive\n"
     ]
    },
    {
     "name": "stderr",
     "output_type": "stream",
     "text": [
      "10:47:14 - cmdstanpy - INFO - Chain [1] start processing\n",
      "10:47:14 - cmdstanpy - INFO - Chain [1] done processing\n",
      "c:\\Users\\natra\\AppData\\Local\\Programs\\Python\\Python310\\lib\\site-packages\\sklearn\\metrics\\_regression.py:492: FutureWarning: 'squared' is deprecated in version 1.4 and will be removed in 1.6. To calculate the root mean squared error, use the function'root_mean_squared_error'.\n",
      "  warnings.warn(\n",
      "10:47:14 - cmdstanpy - INFO - Chain [1] start processing\n",
      "10:47:14 - cmdstanpy - INFO - Chain [1] done processing\n",
      "c:\\Users\\natra\\AppData\\Local\\Programs\\Python\\Python310\\lib\\site-packages\\sklearn\\metrics\\_regression.py:492: FutureWarning: 'squared' is deprecated in version 1.4 and will be removed in 1.6. To calculate the root mean squared error, use the function'root_mean_squared_error'.\n",
      "  warnings.warn(\n",
      "10:47:15 - cmdstanpy - INFO - Chain [1] start processing\n",
      "10:47:15 - cmdstanpy - INFO - Chain [1] done processing\n",
      "c:\\Users\\natra\\AppData\\Local\\Programs\\Python\\Python310\\lib\\site-packages\\sklearn\\metrics\\_regression.py:492: FutureWarning: 'squared' is deprecated in version 1.4 and will be removed in 1.6. To calculate the root mean squared error, use the function'root_mean_squared_error'.\n",
      "  warnings.warn(\n",
      "10:47:16 - cmdstanpy - INFO - Chain [1] start processing\n",
      "10:47:16 - cmdstanpy - INFO - Chain [1] done processing\n",
      "c:\\Users\\natra\\AppData\\Local\\Programs\\Python\\Python310\\lib\\site-packages\\sklearn\\metrics\\_regression.py:492: FutureWarning: 'squared' is deprecated in version 1.4 and will be removed in 1.6. To calculate the root mean squared error, use the function'root_mean_squared_error'.\n",
      "  warnings.warn(\n",
      "10:47:16 - cmdstanpy - INFO - Chain [1] start processing\n",
      "10:47:16 - cmdstanpy - INFO - Chain [1] done processing\n",
      "c:\\Users\\natra\\AppData\\Local\\Programs\\Python\\Python310\\lib\\site-packages\\sklearn\\metrics\\_regression.py:492: FutureWarning: 'squared' is deprecated in version 1.4 and will be removed in 1.6. To calculate the root mean squared error, use the function'root_mean_squared_error'.\n",
      "  warnings.warn(\n"
     ]
    },
    {
     "name": "stdout",
     "output_type": "stream",
     "text": [
      "R² Score: 0.719, RMSE: 2.746, MAE: 2.211\n",
      "\n",
      "Evaluating: changepoint_prior_scale=0.060000000000000005, seasonality_prior_scale=6.1, seasonality_mode=multiplicative\n"
     ]
    },
    {
     "name": "stderr",
     "output_type": "stream",
     "text": [
      "10:47:17 - cmdstanpy - INFO - Chain [1] start processing\n",
      "10:47:17 - cmdstanpy - INFO - Chain [1] done processing\n",
      "c:\\Users\\natra\\AppData\\Local\\Programs\\Python\\Python310\\lib\\site-packages\\sklearn\\metrics\\_regression.py:492: FutureWarning: 'squared' is deprecated in version 1.4 and will be removed in 1.6. To calculate the root mean squared error, use the function'root_mean_squared_error'.\n",
      "  warnings.warn(\n",
      "10:47:18 - cmdstanpy - INFO - Chain [1] start processing\n",
      "10:47:18 - cmdstanpy - INFO - Chain [1] done processing\n",
      "c:\\Users\\natra\\AppData\\Local\\Programs\\Python\\Python310\\lib\\site-packages\\sklearn\\metrics\\_regression.py:492: FutureWarning: 'squared' is deprecated in version 1.4 and will be removed in 1.6. To calculate the root mean squared error, use the function'root_mean_squared_error'.\n",
      "  warnings.warn(\n",
      "10:47:18 - cmdstanpy - INFO - Chain [1] start processing\n",
      "10:47:19 - cmdstanpy - INFO - Chain [1] done processing\n",
      "c:\\Users\\natra\\AppData\\Local\\Programs\\Python\\Python310\\lib\\site-packages\\sklearn\\metrics\\_regression.py:492: FutureWarning: 'squared' is deprecated in version 1.4 and will be removed in 1.6. To calculate the root mean squared error, use the function'root_mean_squared_error'.\n",
      "  warnings.warn(\n",
      "10:47:19 - cmdstanpy - INFO - Chain [1] start processing\n",
      "10:47:19 - cmdstanpy - INFO - Chain [1] done processing\n",
      "c:\\Users\\natra\\AppData\\Local\\Programs\\Python\\Python310\\lib\\site-packages\\sklearn\\metrics\\_regression.py:492: FutureWarning: 'squared' is deprecated in version 1.4 and will be removed in 1.6. To calculate the root mean squared error, use the function'root_mean_squared_error'.\n",
      "  warnings.warn(\n",
      "10:47:20 - cmdstanpy - INFO - Chain [1] start processing\n",
      "10:47:20 - cmdstanpy - INFO - Chain [1] done processing\n",
      "c:\\Users\\natra\\AppData\\Local\\Programs\\Python\\Python310\\lib\\site-packages\\sklearn\\metrics\\_regression.py:492: FutureWarning: 'squared' is deprecated in version 1.4 and will be removed in 1.6. To calculate the root mean squared error, use the function'root_mean_squared_error'.\n",
      "  warnings.warn(\n"
     ]
    },
    {
     "name": "stdout",
     "output_type": "stream",
     "text": [
      "R² Score: 0.722, RMSE: 2.738, MAE: 2.207\n",
      "\n",
      "Evaluating: changepoint_prior_scale=0.060000000000000005, seasonality_prior_scale=7.1, seasonality_mode=additive\n"
     ]
    },
    {
     "name": "stderr",
     "output_type": "stream",
     "text": [
      "10:47:20 - cmdstanpy - INFO - Chain [1] start processing\n",
      "10:47:21 - cmdstanpy - INFO - Chain [1] done processing\n",
      "c:\\Users\\natra\\AppData\\Local\\Programs\\Python\\Python310\\lib\\site-packages\\sklearn\\metrics\\_regression.py:492: FutureWarning: 'squared' is deprecated in version 1.4 and will be removed in 1.6. To calculate the root mean squared error, use the function'root_mean_squared_error'.\n",
      "  warnings.warn(\n",
      "10:47:21 - cmdstanpy - INFO - Chain [1] start processing\n",
      "10:47:21 - cmdstanpy - INFO - Chain [1] done processing\n",
      "c:\\Users\\natra\\AppData\\Local\\Programs\\Python\\Python310\\lib\\site-packages\\sklearn\\metrics\\_regression.py:492: FutureWarning: 'squared' is deprecated in version 1.4 and will be removed in 1.6. To calculate the root mean squared error, use the function'root_mean_squared_error'.\n",
      "  warnings.warn(\n",
      "10:47:22 - cmdstanpy - INFO - Chain [1] start processing\n",
      "10:47:22 - cmdstanpy - INFO - Chain [1] done processing\n",
      "c:\\Users\\natra\\AppData\\Local\\Programs\\Python\\Python310\\lib\\site-packages\\sklearn\\metrics\\_regression.py:492: FutureWarning: 'squared' is deprecated in version 1.4 and will be removed in 1.6. To calculate the root mean squared error, use the function'root_mean_squared_error'.\n",
      "  warnings.warn(\n",
      "10:47:22 - cmdstanpy - INFO - Chain [1] start processing\n",
      "10:47:22 - cmdstanpy - INFO - Chain [1] done processing\n",
      "c:\\Users\\natra\\AppData\\Local\\Programs\\Python\\Python310\\lib\\site-packages\\sklearn\\metrics\\_regression.py:492: FutureWarning: 'squared' is deprecated in version 1.4 and will be removed in 1.6. To calculate the root mean squared error, use the function'root_mean_squared_error'.\n",
      "  warnings.warn(\n",
      "10:47:23 - cmdstanpy - INFO - Chain [1] start processing\n",
      "10:47:23 - cmdstanpy - INFO - Chain [1] done processing\n",
      "c:\\Users\\natra\\AppData\\Local\\Programs\\Python\\Python310\\lib\\site-packages\\sklearn\\metrics\\_regression.py:492: FutureWarning: 'squared' is deprecated in version 1.4 and will be removed in 1.6. To calculate the root mean squared error, use the function'root_mean_squared_error'.\n",
      "  warnings.warn(\n"
     ]
    },
    {
     "name": "stdout",
     "output_type": "stream",
     "text": [
      "R² Score: 0.716, RMSE: 2.760, MAE: 2.222\n",
      "\n",
      "Evaluating: changepoint_prior_scale=0.060000000000000005, seasonality_prior_scale=7.1, seasonality_mode=multiplicative\n"
     ]
    },
    {
     "name": "stderr",
     "output_type": "stream",
     "text": [
      "10:47:23 - cmdstanpy - INFO - Chain [1] start processing\n",
      "10:47:23 - cmdstanpy - INFO - Chain [1] done processing\n",
      "c:\\Users\\natra\\AppData\\Local\\Programs\\Python\\Python310\\lib\\site-packages\\sklearn\\metrics\\_regression.py:492: FutureWarning: 'squared' is deprecated in version 1.4 and will be removed in 1.6. To calculate the root mean squared error, use the function'root_mean_squared_error'.\n",
      "  warnings.warn(\n",
      "10:47:24 - cmdstanpy - INFO - Chain [1] start processing\n",
      "10:47:24 - cmdstanpy - INFO - Chain [1] done processing\n",
      "c:\\Users\\natra\\AppData\\Local\\Programs\\Python\\Python310\\lib\\site-packages\\sklearn\\metrics\\_regression.py:492: FutureWarning: 'squared' is deprecated in version 1.4 and will be removed in 1.6. To calculate the root mean squared error, use the function'root_mean_squared_error'.\n",
      "  warnings.warn(\n",
      "10:47:25 - cmdstanpy - INFO - Chain [1] start processing\n",
      "10:47:25 - cmdstanpy - INFO - Chain [1] done processing\n",
      "c:\\Users\\natra\\AppData\\Local\\Programs\\Python\\Python310\\lib\\site-packages\\sklearn\\metrics\\_regression.py:492: FutureWarning: 'squared' is deprecated in version 1.4 and will be removed in 1.6. To calculate the root mean squared error, use the function'root_mean_squared_error'.\n",
      "  warnings.warn(\n",
      "10:47:25 - cmdstanpy - INFO - Chain [1] start processing\n",
      "10:47:25 - cmdstanpy - INFO - Chain [1] done processing\n",
      "c:\\Users\\natra\\AppData\\Local\\Programs\\Python\\Python310\\lib\\site-packages\\sklearn\\metrics\\_regression.py:492: FutureWarning: 'squared' is deprecated in version 1.4 and will be removed in 1.6. To calculate the root mean squared error, use the function'root_mean_squared_error'.\n",
      "  warnings.warn(\n",
      "10:47:26 - cmdstanpy - INFO - Chain [1] start processing\n",
      "10:47:26 - cmdstanpy - INFO - Chain [1] done processing\n",
      "c:\\Users\\natra\\AppData\\Local\\Programs\\Python\\Python310\\lib\\site-packages\\sklearn\\metrics\\_regression.py:492: FutureWarning: 'squared' is deprecated in version 1.4 and will be removed in 1.6. To calculate the root mean squared error, use the function'root_mean_squared_error'.\n",
      "  warnings.warn(\n"
     ]
    },
    {
     "name": "stdout",
     "output_type": "stream",
     "text": [
      "R² Score: 0.721, RMSE: 2.739, MAE: 2.207\n",
      "\n",
      "Evaluating: changepoint_prior_scale=0.060000000000000005, seasonality_prior_scale=8.1, seasonality_mode=additive\n"
     ]
    },
    {
     "name": "stderr",
     "output_type": "stream",
     "text": [
      "10:47:26 - cmdstanpy - INFO - Chain [1] start processing\n",
      "10:47:26 - cmdstanpy - INFO - Chain [1] done processing\n",
      "c:\\Users\\natra\\AppData\\Local\\Programs\\Python\\Python310\\lib\\site-packages\\sklearn\\metrics\\_regression.py:492: FutureWarning: 'squared' is deprecated in version 1.4 and will be removed in 1.6. To calculate the root mean squared error, use the function'root_mean_squared_error'.\n",
      "  warnings.warn(\n",
      "10:47:27 - cmdstanpy - INFO - Chain [1] start processing\n",
      "10:47:27 - cmdstanpy - INFO - Chain [1] done processing\n",
      "c:\\Users\\natra\\AppData\\Local\\Programs\\Python\\Python310\\lib\\site-packages\\sklearn\\metrics\\_regression.py:492: FutureWarning: 'squared' is deprecated in version 1.4 and will be removed in 1.6. To calculate the root mean squared error, use the function'root_mean_squared_error'.\n",
      "  warnings.warn(\n",
      "10:47:28 - cmdstanpy - INFO - Chain [1] start processing\n",
      "10:47:28 - cmdstanpy - INFO - Chain [1] done processing\n",
      "c:\\Users\\natra\\AppData\\Local\\Programs\\Python\\Python310\\lib\\site-packages\\sklearn\\metrics\\_regression.py:492: FutureWarning: 'squared' is deprecated in version 1.4 and will be removed in 1.6. To calculate the root mean squared error, use the function'root_mean_squared_error'.\n",
      "  warnings.warn(\n",
      "10:47:28 - cmdstanpy - INFO - Chain [1] start processing\n",
      "10:47:28 - cmdstanpy - INFO - Chain [1] done processing\n",
      "c:\\Users\\natra\\AppData\\Local\\Programs\\Python\\Python310\\lib\\site-packages\\sklearn\\metrics\\_regression.py:492: FutureWarning: 'squared' is deprecated in version 1.4 and will be removed in 1.6. To calculate the root mean squared error, use the function'root_mean_squared_error'.\n",
      "  warnings.warn(\n",
      "10:47:29 - cmdstanpy - INFO - Chain [1] start processing\n",
      "10:47:29 - cmdstanpy - INFO - Chain [1] done processing\n",
      "c:\\Users\\natra\\AppData\\Local\\Programs\\Python\\Python310\\lib\\site-packages\\sklearn\\metrics\\_regression.py:492: FutureWarning: 'squared' is deprecated in version 1.4 and will be removed in 1.6. To calculate the root mean squared error, use the function'root_mean_squared_error'.\n",
      "  warnings.warn(\n"
     ]
    },
    {
     "name": "stdout",
     "output_type": "stream",
     "text": [
      "R² Score: 0.723, RMSE: 2.731, MAE: 2.201\n",
      "\n",
      "Evaluating: changepoint_prior_scale=0.060000000000000005, seasonality_prior_scale=8.1, seasonality_mode=multiplicative\n"
     ]
    },
    {
     "name": "stderr",
     "output_type": "stream",
     "text": [
      "10:47:29 - cmdstanpy - INFO - Chain [1] start processing\n",
      "10:47:30 - cmdstanpy - INFO - Chain [1] done processing\n",
      "c:\\Users\\natra\\AppData\\Local\\Programs\\Python\\Python310\\lib\\site-packages\\sklearn\\metrics\\_regression.py:492: FutureWarning: 'squared' is deprecated in version 1.4 and will be removed in 1.6. To calculate the root mean squared error, use the function'root_mean_squared_error'.\n",
      "  warnings.warn(\n",
      "10:47:30 - cmdstanpy - INFO - Chain [1] start processing\n",
      "10:47:30 - cmdstanpy - INFO - Chain [1] done processing\n",
      "c:\\Users\\natra\\AppData\\Local\\Programs\\Python\\Python310\\lib\\site-packages\\sklearn\\metrics\\_regression.py:492: FutureWarning: 'squared' is deprecated in version 1.4 and will be removed in 1.6. To calculate the root mean squared error, use the function'root_mean_squared_error'.\n",
      "  warnings.warn(\n",
      "10:47:31 - cmdstanpy - INFO - Chain [1] start processing\n",
      "10:47:31 - cmdstanpy - INFO - Chain [1] done processing\n",
      "c:\\Users\\natra\\AppData\\Local\\Programs\\Python\\Python310\\lib\\site-packages\\sklearn\\metrics\\_regression.py:492: FutureWarning: 'squared' is deprecated in version 1.4 and will be removed in 1.6. To calculate the root mean squared error, use the function'root_mean_squared_error'.\n",
      "  warnings.warn(\n",
      "10:47:31 - cmdstanpy - INFO - Chain [1] start processing\n",
      "10:47:31 - cmdstanpy - INFO - Chain [1] done processing\n",
      "c:\\Users\\natra\\AppData\\Local\\Programs\\Python\\Python310\\lib\\site-packages\\sklearn\\metrics\\_regression.py:492: FutureWarning: 'squared' is deprecated in version 1.4 and will be removed in 1.6. To calculate the root mean squared error, use the function'root_mean_squared_error'.\n",
      "  warnings.warn(\n",
      "10:47:32 - cmdstanpy - INFO - Chain [1] start processing\n",
      "10:47:32 - cmdstanpy - INFO - Chain [1] done processing\n",
      "c:\\Users\\natra\\AppData\\Local\\Programs\\Python\\Python310\\lib\\site-packages\\sklearn\\metrics\\_regression.py:492: FutureWarning: 'squared' is deprecated in version 1.4 and will be removed in 1.6. To calculate the root mean squared error, use the function'root_mean_squared_error'.\n",
      "  warnings.warn(\n"
     ]
    },
    {
     "name": "stdout",
     "output_type": "stream",
     "text": [
      "R² Score: 0.722, RMSE: 2.737, MAE: 2.208\n",
      "\n",
      "Evaluating: changepoint_prior_scale=0.060000000000000005, seasonality_prior_scale=9.1, seasonality_mode=additive\n"
     ]
    },
    {
     "name": "stderr",
     "output_type": "stream",
     "text": [
      "10:47:32 - cmdstanpy - INFO - Chain [1] start processing\n",
      "10:47:33 - cmdstanpy - INFO - Chain [1] done processing\n",
      "c:\\Users\\natra\\AppData\\Local\\Programs\\Python\\Python310\\lib\\site-packages\\sklearn\\metrics\\_regression.py:492: FutureWarning: 'squared' is deprecated in version 1.4 and will be removed in 1.6. To calculate the root mean squared error, use the function'root_mean_squared_error'.\n",
      "  warnings.warn(\n",
      "10:47:33 - cmdstanpy - INFO - Chain [1] start processing\n",
      "10:47:33 - cmdstanpy - INFO - Chain [1] done processing\n",
      "c:\\Users\\natra\\AppData\\Local\\Programs\\Python\\Python310\\lib\\site-packages\\sklearn\\metrics\\_regression.py:492: FutureWarning: 'squared' is deprecated in version 1.4 and will be removed in 1.6. To calculate the root mean squared error, use the function'root_mean_squared_error'.\n",
      "  warnings.warn(\n",
      "10:47:34 - cmdstanpy - INFO - Chain [1] start processing\n",
      "10:47:34 - cmdstanpy - INFO - Chain [1] done processing\n",
      "c:\\Users\\natra\\AppData\\Local\\Programs\\Python\\Python310\\lib\\site-packages\\sklearn\\metrics\\_regression.py:492: FutureWarning: 'squared' is deprecated in version 1.4 and will be removed in 1.6. To calculate the root mean squared error, use the function'root_mean_squared_error'.\n",
      "  warnings.warn(\n",
      "10:47:34 - cmdstanpy - INFO - Chain [1] start processing\n",
      "10:47:34 - cmdstanpy - INFO - Chain [1] done processing\n",
      "c:\\Users\\natra\\AppData\\Local\\Programs\\Python\\Python310\\lib\\site-packages\\sklearn\\metrics\\_regression.py:492: FutureWarning: 'squared' is deprecated in version 1.4 and will be removed in 1.6. To calculate the root mean squared error, use the function'root_mean_squared_error'.\n",
      "  warnings.warn(\n",
      "10:47:35 - cmdstanpy - INFO - Chain [1] start processing\n",
      "10:47:35 - cmdstanpy - INFO - Chain [1] done processing\n",
      "c:\\Users\\natra\\AppData\\Local\\Programs\\Python\\Python310\\lib\\site-packages\\sklearn\\metrics\\_regression.py:492: FutureWarning: 'squared' is deprecated in version 1.4 and will be removed in 1.6. To calculate the root mean squared error, use the function'root_mean_squared_error'.\n",
      "  warnings.warn(\n"
     ]
    },
    {
     "name": "stdout",
     "output_type": "stream",
     "text": [
      "R² Score: 0.717, RMSE: 2.758, MAE: 2.222\n",
      "\n",
      "Evaluating: changepoint_prior_scale=0.060000000000000005, seasonality_prior_scale=9.1, seasonality_mode=multiplicative\n"
     ]
    },
    {
     "name": "stderr",
     "output_type": "stream",
     "text": [
      "10:47:35 - cmdstanpy - INFO - Chain [1] start processing\n",
      "10:47:36 - cmdstanpy - INFO - Chain [1] done processing\n",
      "c:\\Users\\natra\\AppData\\Local\\Programs\\Python\\Python310\\lib\\site-packages\\sklearn\\metrics\\_regression.py:492: FutureWarning: 'squared' is deprecated in version 1.4 and will be removed in 1.6. To calculate the root mean squared error, use the function'root_mean_squared_error'.\n",
      "  warnings.warn(\n",
      "10:47:36 - cmdstanpy - INFO - Chain [1] start processing\n",
      "10:47:36 - cmdstanpy - INFO - Chain [1] done processing\n",
      "c:\\Users\\natra\\AppData\\Local\\Programs\\Python\\Python310\\lib\\site-packages\\sklearn\\metrics\\_regression.py:492: FutureWarning: 'squared' is deprecated in version 1.4 and will be removed in 1.6. To calculate the root mean squared error, use the function'root_mean_squared_error'.\n",
      "  warnings.warn(\n",
      "10:47:37 - cmdstanpy - INFO - Chain [1] start processing\n",
      "10:47:37 - cmdstanpy - INFO - Chain [1] done processing\n",
      "c:\\Users\\natra\\AppData\\Local\\Programs\\Python\\Python310\\lib\\site-packages\\sklearn\\metrics\\_regression.py:492: FutureWarning: 'squared' is deprecated in version 1.4 and will be removed in 1.6. To calculate the root mean squared error, use the function'root_mean_squared_error'.\n",
      "  warnings.warn(\n",
      "10:47:37 - cmdstanpy - INFO - Chain [1] start processing\n",
      "10:47:38 - cmdstanpy - INFO - Chain [1] done processing\n",
      "c:\\Users\\natra\\AppData\\Local\\Programs\\Python\\Python310\\lib\\site-packages\\sklearn\\metrics\\_regression.py:492: FutureWarning: 'squared' is deprecated in version 1.4 and will be removed in 1.6. To calculate the root mean squared error, use the function'root_mean_squared_error'.\n",
      "  warnings.warn(\n",
      "10:47:38 - cmdstanpy - INFO - Chain [1] start processing\n",
      "10:47:38 - cmdstanpy - INFO - Chain [1] done processing\n",
      "c:\\Users\\natra\\AppData\\Local\\Programs\\Python\\Python310\\lib\\site-packages\\sklearn\\metrics\\_regression.py:492: FutureWarning: 'squared' is deprecated in version 1.4 and will be removed in 1.6. To calculate the root mean squared error, use the function'root_mean_squared_error'.\n",
      "  warnings.warn(\n"
     ]
    },
    {
     "name": "stdout",
     "output_type": "stream",
     "text": [
      "R² Score: 0.721, RMSE: 2.738, MAE: 2.202\n",
      "\n",
      "Evaluating: changepoint_prior_scale=0.060000000000000005, seasonality_prior_scale=10.1, seasonality_mode=additive\n"
     ]
    },
    {
     "name": "stderr",
     "output_type": "stream",
     "text": [
      "10:47:39 - cmdstanpy - INFO - Chain [1] start processing\n",
      "10:47:39 - cmdstanpy - INFO - Chain [1] done processing\n",
      "c:\\Users\\natra\\AppData\\Local\\Programs\\Python\\Python310\\lib\\site-packages\\sklearn\\metrics\\_regression.py:492: FutureWarning: 'squared' is deprecated in version 1.4 and will be removed in 1.6. To calculate the root mean squared error, use the function'root_mean_squared_error'.\n",
      "  warnings.warn(\n",
      "10:47:39 - cmdstanpy - INFO - Chain [1] start processing\n",
      "10:47:39 - cmdstanpy - INFO - Chain [1] done processing\n",
      "c:\\Users\\natra\\AppData\\Local\\Programs\\Python\\Python310\\lib\\site-packages\\sklearn\\metrics\\_regression.py:492: FutureWarning: 'squared' is deprecated in version 1.4 and will be removed in 1.6. To calculate the root mean squared error, use the function'root_mean_squared_error'.\n",
      "  warnings.warn(\n",
      "10:47:40 - cmdstanpy - INFO - Chain [1] start processing\n",
      "10:47:40 - cmdstanpy - INFO - Chain [1] done processing\n",
      "c:\\Users\\natra\\AppData\\Local\\Programs\\Python\\Python310\\lib\\site-packages\\sklearn\\metrics\\_regression.py:492: FutureWarning: 'squared' is deprecated in version 1.4 and will be removed in 1.6. To calculate the root mean squared error, use the function'root_mean_squared_error'.\n",
      "  warnings.warn(\n",
      "10:47:40 - cmdstanpy - INFO - Chain [1] start processing\n",
      "10:47:40 - cmdstanpy - INFO - Chain [1] done processing\n",
      "c:\\Users\\natra\\AppData\\Local\\Programs\\Python\\Python310\\lib\\site-packages\\sklearn\\metrics\\_regression.py:492: FutureWarning: 'squared' is deprecated in version 1.4 and will be removed in 1.6. To calculate the root mean squared error, use the function'root_mean_squared_error'.\n",
      "  warnings.warn(\n",
      "10:47:41 - cmdstanpy - INFO - Chain [1] start processing\n",
      "10:47:41 - cmdstanpy - INFO - Chain [1] done processing\n",
      "c:\\Users\\natra\\AppData\\Local\\Programs\\Python\\Python310\\lib\\site-packages\\sklearn\\metrics\\_regression.py:492: FutureWarning: 'squared' is deprecated in version 1.4 and will be removed in 1.6. To calculate the root mean squared error, use the function'root_mean_squared_error'.\n",
      "  warnings.warn(\n"
     ]
    },
    {
     "name": "stdout",
     "output_type": "stream",
     "text": [
      "R² Score: 0.716, RMSE: 2.762, MAE: 2.226\n",
      "\n",
      "Evaluating: changepoint_prior_scale=0.060000000000000005, seasonality_prior_scale=10.1, seasonality_mode=multiplicative\n"
     ]
    },
    {
     "name": "stderr",
     "output_type": "stream",
     "text": [
      "10:47:42 - cmdstanpy - INFO - Chain [1] start processing\n",
      "10:47:42 - cmdstanpy - INFO - Chain [1] done processing\n",
      "c:\\Users\\natra\\AppData\\Local\\Programs\\Python\\Python310\\lib\\site-packages\\sklearn\\metrics\\_regression.py:492: FutureWarning: 'squared' is deprecated in version 1.4 and will be removed in 1.6. To calculate the root mean squared error, use the function'root_mean_squared_error'.\n",
      "  warnings.warn(\n",
      "10:47:42 - cmdstanpy - INFO - Chain [1] start processing\n",
      "10:47:43 - cmdstanpy - INFO - Chain [1] done processing\n",
      "c:\\Users\\natra\\AppData\\Local\\Programs\\Python\\Python310\\lib\\site-packages\\sklearn\\metrics\\_regression.py:492: FutureWarning: 'squared' is deprecated in version 1.4 and will be removed in 1.6. To calculate the root mean squared error, use the function'root_mean_squared_error'.\n",
      "  warnings.warn(\n",
      "10:47:43 - cmdstanpy - INFO - Chain [1] start processing\n",
      "10:47:43 - cmdstanpy - INFO - Chain [1] done processing\n",
      "c:\\Users\\natra\\AppData\\Local\\Programs\\Python\\Python310\\lib\\site-packages\\sklearn\\metrics\\_regression.py:492: FutureWarning: 'squared' is deprecated in version 1.4 and will be removed in 1.6. To calculate the root mean squared error, use the function'root_mean_squared_error'.\n",
      "  warnings.warn(\n",
      "10:47:44 - cmdstanpy - INFO - Chain [1] start processing\n",
      "10:47:44 - cmdstanpy - INFO - Chain [1] done processing\n",
      "c:\\Users\\natra\\AppData\\Local\\Programs\\Python\\Python310\\lib\\site-packages\\sklearn\\metrics\\_regression.py:492: FutureWarning: 'squared' is deprecated in version 1.4 and will be removed in 1.6. To calculate the root mean squared error, use the function'root_mean_squared_error'.\n",
      "  warnings.warn(\n",
      "10:47:44 - cmdstanpy - INFO - Chain [1] start processing\n",
      "10:47:44 - cmdstanpy - INFO - Chain [1] done processing\n",
      "c:\\Users\\natra\\AppData\\Local\\Programs\\Python\\Python310\\lib\\site-packages\\sklearn\\metrics\\_regression.py:492: FutureWarning: 'squared' is deprecated in version 1.4 and will be removed in 1.6. To calculate the root mean squared error, use the function'root_mean_squared_error'.\n",
      "  warnings.warn(\n"
     ]
    },
    {
     "name": "stdout",
     "output_type": "stream",
     "text": [
      "R² Score: 0.722, RMSE: 2.737, MAE: 2.204\n",
      "\n",
      "Evaluating: changepoint_prior_scale=0.06999999999999999, seasonality_prior_scale=0.1, seasonality_mode=additive\n"
     ]
    },
    {
     "name": "stderr",
     "output_type": "stream",
     "text": [
      "10:47:45 - cmdstanpy - INFO - Chain [1] start processing\n",
      "10:47:45 - cmdstanpy - INFO - Chain [1] done processing\n",
      "c:\\Users\\natra\\AppData\\Local\\Programs\\Python\\Python310\\lib\\site-packages\\sklearn\\metrics\\_regression.py:492: FutureWarning: 'squared' is deprecated in version 1.4 and will be removed in 1.6. To calculate the root mean squared error, use the function'root_mean_squared_error'.\n",
      "  warnings.warn(\n",
      "10:47:45 - cmdstanpy - INFO - Chain [1] start processing\n",
      "10:47:46 - cmdstanpy - INFO - Chain [1] done processing\n",
      "c:\\Users\\natra\\AppData\\Local\\Programs\\Python\\Python310\\lib\\site-packages\\sklearn\\metrics\\_regression.py:492: FutureWarning: 'squared' is deprecated in version 1.4 and will be removed in 1.6. To calculate the root mean squared error, use the function'root_mean_squared_error'.\n",
      "  warnings.warn(\n",
      "10:47:46 - cmdstanpy - INFO - Chain [1] start processing\n",
      "10:47:46 - cmdstanpy - INFO - Chain [1] done processing\n",
      "c:\\Users\\natra\\AppData\\Local\\Programs\\Python\\Python310\\lib\\site-packages\\sklearn\\metrics\\_regression.py:492: FutureWarning: 'squared' is deprecated in version 1.4 and will be removed in 1.6. To calculate the root mean squared error, use the function'root_mean_squared_error'.\n",
      "  warnings.warn(\n",
      "10:47:47 - cmdstanpy - INFO - Chain [1] start processing\n",
      "10:47:47 - cmdstanpy - INFO - Chain [1] done processing\n",
      "c:\\Users\\natra\\AppData\\Local\\Programs\\Python\\Python310\\lib\\site-packages\\sklearn\\metrics\\_regression.py:492: FutureWarning: 'squared' is deprecated in version 1.4 and will be removed in 1.6. To calculate the root mean squared error, use the function'root_mean_squared_error'.\n",
      "  warnings.warn(\n",
      "10:47:48 - cmdstanpy - INFO - Chain [1] start processing\n",
      "10:47:48 - cmdstanpy - INFO - Chain [1] done processing\n",
      "c:\\Users\\natra\\AppData\\Local\\Programs\\Python\\Python310\\lib\\site-packages\\sklearn\\metrics\\_regression.py:492: FutureWarning: 'squared' is deprecated in version 1.4 and will be removed in 1.6. To calculate the root mean squared error, use the function'root_mean_squared_error'.\n",
      "  warnings.warn(\n"
     ]
    },
    {
     "name": "stdout",
     "output_type": "stream",
     "text": [
      "R² Score: 0.711, RMSE: 2.784, MAE: 2.245\n",
      "\n",
      "Evaluating: changepoint_prior_scale=0.06999999999999999, seasonality_prior_scale=0.1, seasonality_mode=multiplicative\n"
     ]
    },
    {
     "name": "stderr",
     "output_type": "stream",
     "text": [
      "10:47:48 - cmdstanpy - INFO - Chain [1] start processing\n",
      "10:47:49 - cmdstanpy - INFO - Chain [1] done processing\n",
      "c:\\Users\\natra\\AppData\\Local\\Programs\\Python\\Python310\\lib\\site-packages\\sklearn\\metrics\\_regression.py:492: FutureWarning: 'squared' is deprecated in version 1.4 and will be removed in 1.6. To calculate the root mean squared error, use the function'root_mean_squared_error'.\n",
      "  warnings.warn(\n",
      "10:47:49 - cmdstanpy - INFO - Chain [1] start processing\n",
      "10:47:49 - cmdstanpy - INFO - Chain [1] done processing\n",
      "c:\\Users\\natra\\AppData\\Local\\Programs\\Python\\Python310\\lib\\site-packages\\sklearn\\metrics\\_regression.py:492: FutureWarning: 'squared' is deprecated in version 1.4 and will be removed in 1.6. To calculate the root mean squared error, use the function'root_mean_squared_error'.\n",
      "  warnings.warn(\n",
      "10:47:50 - cmdstanpy - INFO - Chain [1] start processing\n",
      "10:47:50 - cmdstanpy - INFO - Chain [1] done processing\n",
      "c:\\Users\\natra\\AppData\\Local\\Programs\\Python\\Python310\\lib\\site-packages\\sklearn\\metrics\\_regression.py:492: FutureWarning: 'squared' is deprecated in version 1.4 and will be removed in 1.6. To calculate the root mean squared error, use the function'root_mean_squared_error'.\n",
      "  warnings.warn(\n",
      "10:47:50 - cmdstanpy - INFO - Chain [1] start processing\n",
      "10:47:50 - cmdstanpy - INFO - Chain [1] done processing\n",
      "c:\\Users\\natra\\AppData\\Local\\Programs\\Python\\Python310\\lib\\site-packages\\sklearn\\metrics\\_regression.py:492: FutureWarning: 'squared' is deprecated in version 1.4 and will be removed in 1.6. To calculate the root mean squared error, use the function'root_mean_squared_error'.\n",
      "  warnings.warn(\n",
      "10:47:51 - cmdstanpy - INFO - Chain [1] start processing\n",
      "10:47:51 - cmdstanpy - INFO - Chain [1] done processing\n",
      "c:\\Users\\natra\\AppData\\Local\\Programs\\Python\\Python310\\lib\\site-packages\\sklearn\\metrics\\_regression.py:492: FutureWarning: 'squared' is deprecated in version 1.4 and will be removed in 1.6. To calculate the root mean squared error, use the function'root_mean_squared_error'.\n",
      "  warnings.warn(\n"
     ]
    },
    {
     "name": "stdout",
     "output_type": "stream",
     "text": [
      "R² Score: 0.713, RMSE: 2.778, MAE: 2.250\n",
      "\n",
      "Evaluating: changepoint_prior_scale=0.06999999999999999, seasonality_prior_scale=1.1, seasonality_mode=additive\n"
     ]
    },
    {
     "name": "stderr",
     "output_type": "stream",
     "text": [
      "10:47:52 - cmdstanpy - INFO - Chain [1] start processing\n",
      "10:47:52 - cmdstanpy - INFO - Chain [1] done processing\n",
      "c:\\Users\\natra\\AppData\\Local\\Programs\\Python\\Python310\\lib\\site-packages\\sklearn\\metrics\\_regression.py:492: FutureWarning: 'squared' is deprecated in version 1.4 and will be removed in 1.6. To calculate the root mean squared error, use the function'root_mean_squared_error'.\n",
      "  warnings.warn(\n",
      "10:47:52 - cmdstanpy - INFO - Chain [1] start processing\n",
      "10:47:53 - cmdstanpy - INFO - Chain [1] done processing\n",
      "c:\\Users\\natra\\AppData\\Local\\Programs\\Python\\Python310\\lib\\site-packages\\sklearn\\metrics\\_regression.py:492: FutureWarning: 'squared' is deprecated in version 1.4 and will be removed in 1.6. To calculate the root mean squared error, use the function'root_mean_squared_error'.\n",
      "  warnings.warn(\n",
      "10:47:53 - cmdstanpy - INFO - Chain [1] start processing\n",
      "10:47:53 - cmdstanpy - INFO - Chain [1] done processing\n",
      "c:\\Users\\natra\\AppData\\Local\\Programs\\Python\\Python310\\lib\\site-packages\\sklearn\\metrics\\_regression.py:492: FutureWarning: 'squared' is deprecated in version 1.4 and will be removed in 1.6. To calculate the root mean squared error, use the function'root_mean_squared_error'.\n",
      "  warnings.warn(\n",
      "10:47:54 - cmdstanpy - INFO - Chain [1] start processing\n",
      "10:47:54 - cmdstanpy - INFO - Chain [1] done processing\n",
      "c:\\Users\\natra\\AppData\\Local\\Programs\\Python\\Python310\\lib\\site-packages\\sklearn\\metrics\\_regression.py:492: FutureWarning: 'squared' is deprecated in version 1.4 and will be removed in 1.6. To calculate the root mean squared error, use the function'root_mean_squared_error'.\n",
      "  warnings.warn(\n",
      "10:47:54 - cmdstanpy - INFO - Chain [1] start processing\n",
      "10:47:55 - cmdstanpy - INFO - Chain [1] done processing\n",
      "c:\\Users\\natra\\AppData\\Local\\Programs\\Python\\Python310\\lib\\site-packages\\sklearn\\metrics\\_regression.py:492: FutureWarning: 'squared' is deprecated in version 1.4 and will be removed in 1.6. To calculate the root mean squared error, use the function'root_mean_squared_error'.\n",
      "  warnings.warn(\n"
     ]
    },
    {
     "name": "stdout",
     "output_type": "stream",
     "text": [
      "R² Score: 0.708, RMSE: 2.796, MAE: 2.256\n",
      "\n",
      "Evaluating: changepoint_prior_scale=0.06999999999999999, seasonality_prior_scale=1.1, seasonality_mode=multiplicative\n"
     ]
    },
    {
     "name": "stderr",
     "output_type": "stream",
     "text": [
      "10:47:55 - cmdstanpy - INFO - Chain [1] start processing\n",
      "10:47:55 - cmdstanpy - INFO - Chain [1] done processing\n",
      "c:\\Users\\natra\\AppData\\Local\\Programs\\Python\\Python310\\lib\\site-packages\\sklearn\\metrics\\_regression.py:492: FutureWarning: 'squared' is deprecated in version 1.4 and will be removed in 1.6. To calculate the root mean squared error, use the function'root_mean_squared_error'.\n",
      "  warnings.warn(\n",
      "10:47:56 - cmdstanpy - INFO - Chain [1] start processing\n",
      "10:47:56 - cmdstanpy - INFO - Chain [1] done processing\n",
      "c:\\Users\\natra\\AppData\\Local\\Programs\\Python\\Python310\\lib\\site-packages\\sklearn\\metrics\\_regression.py:492: FutureWarning: 'squared' is deprecated in version 1.4 and will be removed in 1.6. To calculate the root mean squared error, use the function'root_mean_squared_error'.\n",
      "  warnings.warn(\n",
      "10:47:57 - cmdstanpy - INFO - Chain [1] start processing\n",
      "10:47:57 - cmdstanpy - INFO - Chain [1] done processing\n",
      "c:\\Users\\natra\\AppData\\Local\\Programs\\Python\\Python310\\lib\\site-packages\\sklearn\\metrics\\_regression.py:492: FutureWarning: 'squared' is deprecated in version 1.4 and will be removed in 1.6. To calculate the root mean squared error, use the function'root_mean_squared_error'.\n",
      "  warnings.warn(\n",
      "10:47:57 - cmdstanpy - INFO - Chain [1] start processing\n",
      "10:47:58 - cmdstanpy - INFO - Chain [1] done processing\n",
      "c:\\Users\\natra\\AppData\\Local\\Programs\\Python\\Python310\\lib\\site-packages\\sklearn\\metrics\\_regression.py:492: FutureWarning: 'squared' is deprecated in version 1.4 and will be removed in 1.6. To calculate the root mean squared error, use the function'root_mean_squared_error'.\n",
      "  warnings.warn(\n",
      "10:47:58 - cmdstanpy - INFO - Chain [1] start processing\n",
      "10:47:58 - cmdstanpy - INFO - Chain [1] done processing\n",
      "c:\\Users\\natra\\AppData\\Local\\Programs\\Python\\Python310\\lib\\site-packages\\sklearn\\metrics\\_regression.py:492: FutureWarning: 'squared' is deprecated in version 1.4 and will be removed in 1.6. To calculate the root mean squared error, use the function'root_mean_squared_error'.\n",
      "  warnings.warn(\n"
     ]
    },
    {
     "name": "stdout",
     "output_type": "stream",
     "text": [
      "R² Score: 0.715, RMSE: 2.770, MAE: 2.246\n",
      "\n",
      "Evaluating: changepoint_prior_scale=0.06999999999999999, seasonality_prior_scale=2.1, seasonality_mode=additive\n"
     ]
    },
    {
     "name": "stderr",
     "output_type": "stream",
     "text": [
      "10:47:59 - cmdstanpy - INFO - Chain [1] start processing\n",
      "10:47:59 - cmdstanpy - INFO - Chain [1] done processing\n",
      "c:\\Users\\natra\\AppData\\Local\\Programs\\Python\\Python310\\lib\\site-packages\\sklearn\\metrics\\_regression.py:492: FutureWarning: 'squared' is deprecated in version 1.4 and will be removed in 1.6. To calculate the root mean squared error, use the function'root_mean_squared_error'.\n",
      "  warnings.warn(\n",
      "10:48:00 - cmdstanpy - INFO - Chain [1] start processing\n",
      "10:48:00 - cmdstanpy - INFO - Chain [1] done processing\n",
      "c:\\Users\\natra\\AppData\\Local\\Programs\\Python\\Python310\\lib\\site-packages\\sklearn\\metrics\\_regression.py:492: FutureWarning: 'squared' is deprecated in version 1.4 and will be removed in 1.6. To calculate the root mean squared error, use the function'root_mean_squared_error'.\n",
      "  warnings.warn(\n",
      "10:48:00 - cmdstanpy - INFO - Chain [1] start processing\n",
      "10:48:00 - cmdstanpy - INFO - Chain [1] done processing\n",
      "c:\\Users\\natra\\AppData\\Local\\Programs\\Python\\Python310\\lib\\site-packages\\sklearn\\metrics\\_regression.py:492: FutureWarning: 'squared' is deprecated in version 1.4 and will be removed in 1.6. To calculate the root mean squared error, use the function'root_mean_squared_error'.\n",
      "  warnings.warn(\n",
      "10:48:01 - cmdstanpy - INFO - Chain [1] start processing\n",
      "10:48:01 - cmdstanpy - INFO - Chain [1] done processing\n",
      "c:\\Users\\natra\\AppData\\Local\\Programs\\Python\\Python310\\lib\\site-packages\\sklearn\\metrics\\_regression.py:492: FutureWarning: 'squared' is deprecated in version 1.4 and will be removed in 1.6. To calculate the root mean squared error, use the function'root_mean_squared_error'.\n",
      "  warnings.warn(\n",
      "10:48:02 - cmdstanpy - INFO - Chain [1] start processing\n",
      "10:48:02 - cmdstanpy - INFO - Chain [1] done processing\n",
      "c:\\Users\\natra\\AppData\\Local\\Programs\\Python\\Python310\\lib\\site-packages\\sklearn\\metrics\\_regression.py:492: FutureWarning: 'squared' is deprecated in version 1.4 and will be removed in 1.6. To calculate the root mean squared error, use the function'root_mean_squared_error'.\n",
      "  warnings.warn(\n"
     ]
    },
    {
     "name": "stdout",
     "output_type": "stream",
     "text": [
      "R² Score: 0.714, RMSE: 2.771, MAE: 2.234\n",
      "\n",
      "Evaluating: changepoint_prior_scale=0.06999999999999999, seasonality_prior_scale=2.1, seasonality_mode=multiplicative\n"
     ]
    },
    {
     "name": "stderr",
     "output_type": "stream",
     "text": [
      "10:48:02 - cmdstanpy - INFO - Chain [1] start processing\n",
      "10:48:02 - cmdstanpy - INFO - Chain [1] done processing\n",
      "c:\\Users\\natra\\AppData\\Local\\Programs\\Python\\Python310\\lib\\site-packages\\sklearn\\metrics\\_regression.py:492: FutureWarning: 'squared' is deprecated in version 1.4 and will be removed in 1.6. To calculate the root mean squared error, use the function'root_mean_squared_error'.\n",
      "  warnings.warn(\n",
      "10:48:03 - cmdstanpy - INFO - Chain [1] start processing\n",
      "10:48:03 - cmdstanpy - INFO - Chain [1] done processing\n",
      "c:\\Users\\natra\\AppData\\Local\\Programs\\Python\\Python310\\lib\\site-packages\\sklearn\\metrics\\_regression.py:492: FutureWarning: 'squared' is deprecated in version 1.4 and will be removed in 1.6. To calculate the root mean squared error, use the function'root_mean_squared_error'.\n",
      "  warnings.warn(\n",
      "10:48:03 - cmdstanpy - INFO - Chain [1] start processing\n",
      "10:48:04 - cmdstanpy - INFO - Chain [1] done processing\n",
      "c:\\Users\\natra\\AppData\\Local\\Programs\\Python\\Python310\\lib\\site-packages\\sklearn\\metrics\\_regression.py:492: FutureWarning: 'squared' is deprecated in version 1.4 and will be removed in 1.6. To calculate the root mean squared error, use the function'root_mean_squared_error'.\n",
      "  warnings.warn(\n",
      "10:48:04 - cmdstanpy - INFO - Chain [1] start processing\n",
      "10:48:04 - cmdstanpy - INFO - Chain [1] done processing\n",
      "c:\\Users\\natra\\AppData\\Local\\Programs\\Python\\Python310\\lib\\site-packages\\sklearn\\metrics\\_regression.py:492: FutureWarning: 'squared' is deprecated in version 1.4 and will be removed in 1.6. To calculate the root mean squared error, use the function'root_mean_squared_error'.\n",
      "  warnings.warn(\n",
      "10:48:05 - cmdstanpy - INFO - Chain [1] start processing\n",
      "10:48:05 - cmdstanpy - INFO - Chain [1] done processing\n",
      "c:\\Users\\natra\\AppData\\Local\\Programs\\Python\\Python310\\lib\\site-packages\\sklearn\\metrics\\_regression.py:492: FutureWarning: 'squared' is deprecated in version 1.4 and will be removed in 1.6. To calculate the root mean squared error, use the function'root_mean_squared_error'.\n",
      "  warnings.warn(\n"
     ]
    },
    {
     "name": "stdout",
     "output_type": "stream",
     "text": [
      "R² Score: 0.711, RMSE: 2.785, MAE: 2.258\n",
      "\n",
      "Evaluating: changepoint_prior_scale=0.06999999999999999, seasonality_prior_scale=3.1, seasonality_mode=additive\n"
     ]
    },
    {
     "name": "stderr",
     "output_type": "stream",
     "text": [
      "10:48:05 - cmdstanpy - INFO - Chain [1] start processing\n",
      "10:48:05 - cmdstanpy - INFO - Chain [1] done processing\n",
      "c:\\Users\\natra\\AppData\\Local\\Programs\\Python\\Python310\\lib\\site-packages\\sklearn\\metrics\\_regression.py:492: FutureWarning: 'squared' is deprecated in version 1.4 and will be removed in 1.6. To calculate the root mean squared error, use the function'root_mean_squared_error'.\n",
      "  warnings.warn(\n",
      "10:48:06 - cmdstanpy - INFO - Chain [1] start processing\n",
      "10:48:06 - cmdstanpy - INFO - Chain [1] done processing\n",
      "c:\\Users\\natra\\AppData\\Local\\Programs\\Python\\Python310\\lib\\site-packages\\sklearn\\metrics\\_regression.py:492: FutureWarning: 'squared' is deprecated in version 1.4 and will be removed in 1.6. To calculate the root mean squared error, use the function'root_mean_squared_error'.\n",
      "  warnings.warn(\n",
      "10:48:07 - cmdstanpy - INFO - Chain [1] start processing\n",
      "10:48:07 - cmdstanpy - INFO - Chain [1] done processing\n",
      "c:\\Users\\natra\\AppData\\Local\\Programs\\Python\\Python310\\lib\\site-packages\\sklearn\\metrics\\_regression.py:492: FutureWarning: 'squared' is deprecated in version 1.4 and will be removed in 1.6. To calculate the root mean squared error, use the function'root_mean_squared_error'.\n",
      "  warnings.warn(\n",
      "10:48:07 - cmdstanpy - INFO - Chain [1] start processing\n",
      "10:48:07 - cmdstanpy - INFO - Chain [1] done processing\n",
      "c:\\Users\\natra\\AppData\\Local\\Programs\\Python\\Python310\\lib\\site-packages\\sklearn\\metrics\\_regression.py:492: FutureWarning: 'squared' is deprecated in version 1.4 and will be removed in 1.6. To calculate the root mean squared error, use the function'root_mean_squared_error'.\n",
      "  warnings.warn(\n",
      "10:48:08 - cmdstanpy - INFO - Chain [1] start processing\n",
      "10:48:08 - cmdstanpy - INFO - Chain [1] done processing\n",
      "c:\\Users\\natra\\AppData\\Local\\Programs\\Python\\Python310\\lib\\site-packages\\sklearn\\metrics\\_regression.py:492: FutureWarning: 'squared' is deprecated in version 1.4 and will be removed in 1.6. To calculate the root mean squared error, use the function'root_mean_squared_error'.\n",
      "  warnings.warn(\n"
     ]
    },
    {
     "name": "stdout",
     "output_type": "stream",
     "text": [
      "R² Score: 0.711, RMSE: 2.784, MAE: 2.245\n",
      "\n",
      "Evaluating: changepoint_prior_scale=0.06999999999999999, seasonality_prior_scale=3.1, seasonality_mode=multiplicative\n"
     ]
    },
    {
     "name": "stderr",
     "output_type": "stream",
     "text": [
      "10:48:08 - cmdstanpy - INFO - Chain [1] start processing\n",
      "10:48:09 - cmdstanpy - INFO - Chain [1] done processing\n",
      "c:\\Users\\natra\\AppData\\Local\\Programs\\Python\\Python310\\lib\\site-packages\\sklearn\\metrics\\_regression.py:492: FutureWarning: 'squared' is deprecated in version 1.4 and will be removed in 1.6. To calculate the root mean squared error, use the function'root_mean_squared_error'.\n",
      "  warnings.warn(\n",
      "10:48:09 - cmdstanpy - INFO - Chain [1] start processing\n",
      "10:48:09 - cmdstanpy - INFO - Chain [1] done processing\n",
      "c:\\Users\\natra\\AppData\\Local\\Programs\\Python\\Python310\\lib\\site-packages\\sklearn\\metrics\\_regression.py:492: FutureWarning: 'squared' is deprecated in version 1.4 and will be removed in 1.6. To calculate the root mean squared error, use the function'root_mean_squared_error'.\n",
      "  warnings.warn(\n",
      "10:48:10 - cmdstanpy - INFO - Chain [1] start processing\n",
      "10:48:10 - cmdstanpy - INFO - Chain [1] done processing\n",
      "c:\\Users\\natra\\AppData\\Local\\Programs\\Python\\Python310\\lib\\site-packages\\sklearn\\metrics\\_regression.py:492: FutureWarning: 'squared' is deprecated in version 1.4 and will be removed in 1.6. To calculate the root mean squared error, use the function'root_mean_squared_error'.\n",
      "  warnings.warn(\n",
      "10:48:10 - cmdstanpy - INFO - Chain [1] start processing\n",
      "10:48:10 - cmdstanpy - INFO - Chain [1] done processing\n",
      "c:\\Users\\natra\\AppData\\Local\\Programs\\Python\\Python310\\lib\\site-packages\\sklearn\\metrics\\_regression.py:492: FutureWarning: 'squared' is deprecated in version 1.4 and will be removed in 1.6. To calculate the root mean squared error, use the function'root_mean_squared_error'.\n",
      "  warnings.warn(\n",
      "10:48:11 - cmdstanpy - INFO - Chain [1] start processing\n",
      "10:48:11 - cmdstanpy - INFO - Chain [1] done processing\n",
      "c:\\Users\\natra\\AppData\\Local\\Programs\\Python\\Python310\\lib\\site-packages\\sklearn\\metrics\\_regression.py:492: FutureWarning: 'squared' is deprecated in version 1.4 and will be removed in 1.6. To calculate the root mean squared error, use the function'root_mean_squared_error'.\n",
      "  warnings.warn(\n"
     ]
    },
    {
     "name": "stdout",
     "output_type": "stream",
     "text": [
      "R² Score: 0.718, RMSE: 2.756, MAE: 2.228\n",
      "\n",
      "Evaluating: changepoint_prior_scale=0.06999999999999999, seasonality_prior_scale=4.1, seasonality_mode=additive\n"
     ]
    },
    {
     "name": "stderr",
     "output_type": "stream",
     "text": [
      "10:48:12 - cmdstanpy - INFO - Chain [1] start processing\n",
      "10:48:12 - cmdstanpy - INFO - Chain [1] done processing\n",
      "c:\\Users\\natra\\AppData\\Local\\Programs\\Python\\Python310\\lib\\site-packages\\sklearn\\metrics\\_regression.py:492: FutureWarning: 'squared' is deprecated in version 1.4 and will be removed in 1.6. To calculate the root mean squared error, use the function'root_mean_squared_error'.\n",
      "  warnings.warn(\n",
      "10:48:12 - cmdstanpy - INFO - Chain [1] start processing\n",
      "10:48:12 - cmdstanpy - INFO - Chain [1] done processing\n",
      "c:\\Users\\natra\\AppData\\Local\\Programs\\Python\\Python310\\lib\\site-packages\\sklearn\\metrics\\_regression.py:492: FutureWarning: 'squared' is deprecated in version 1.4 and will be removed in 1.6. To calculate the root mean squared error, use the function'root_mean_squared_error'.\n",
      "  warnings.warn(\n",
      "10:48:13 - cmdstanpy - INFO - Chain [1] start processing\n",
      "10:48:13 - cmdstanpy - INFO - Chain [1] done processing\n",
      "c:\\Users\\natra\\AppData\\Local\\Programs\\Python\\Python310\\lib\\site-packages\\sklearn\\metrics\\_regression.py:492: FutureWarning: 'squared' is deprecated in version 1.4 and will be removed in 1.6. To calculate the root mean squared error, use the function'root_mean_squared_error'.\n",
      "  warnings.warn(\n",
      "10:48:13 - cmdstanpy - INFO - Chain [1] start processing\n",
      "10:48:14 - cmdstanpy - INFO - Chain [1] done processing\n",
      "c:\\Users\\natra\\AppData\\Local\\Programs\\Python\\Python310\\lib\\site-packages\\sklearn\\metrics\\_regression.py:492: FutureWarning: 'squared' is deprecated in version 1.4 and will be removed in 1.6. To calculate the root mean squared error, use the function'root_mean_squared_error'.\n",
      "  warnings.warn(\n",
      "10:48:14 - cmdstanpy - INFO - Chain [1] start processing\n",
      "10:48:14 - cmdstanpy - INFO - Chain [1] done processing\n",
      "c:\\Users\\natra\\AppData\\Local\\Programs\\Python\\Python310\\lib\\site-packages\\sklearn\\metrics\\_regression.py:492: FutureWarning: 'squared' is deprecated in version 1.4 and will be removed in 1.6. To calculate the root mean squared error, use the function'root_mean_squared_error'.\n",
      "  warnings.warn(\n"
     ]
    },
    {
     "name": "stdout",
     "output_type": "stream",
     "text": [
      "R² Score: 0.709, RMSE: 2.792, MAE: 2.251\n",
      "\n",
      "Evaluating: changepoint_prior_scale=0.06999999999999999, seasonality_prior_scale=4.1, seasonality_mode=multiplicative\n"
     ]
    },
    {
     "name": "stderr",
     "output_type": "stream",
     "text": [
      "10:48:15 - cmdstanpy - INFO - Chain [1] start processing\n",
      "10:48:15 - cmdstanpy - INFO - Chain [1] done processing\n",
      "c:\\Users\\natra\\AppData\\Local\\Programs\\Python\\Python310\\lib\\site-packages\\sklearn\\metrics\\_regression.py:492: FutureWarning: 'squared' is deprecated in version 1.4 and will be removed in 1.6. To calculate the root mean squared error, use the function'root_mean_squared_error'.\n",
      "  warnings.warn(\n",
      "10:48:15 - cmdstanpy - INFO - Chain [1] start processing\n",
      "10:48:15 - cmdstanpy - INFO - Chain [1] done processing\n",
      "c:\\Users\\natra\\AppData\\Local\\Programs\\Python\\Python310\\lib\\site-packages\\sklearn\\metrics\\_regression.py:492: FutureWarning: 'squared' is deprecated in version 1.4 and will be removed in 1.6. To calculate the root mean squared error, use the function'root_mean_squared_error'.\n",
      "  warnings.warn(\n",
      "10:48:16 - cmdstanpy - INFO - Chain [1] start processing\n",
      "10:48:16 - cmdstanpy - INFO - Chain [1] done processing\n",
      "c:\\Users\\natra\\AppData\\Local\\Programs\\Python\\Python310\\lib\\site-packages\\sklearn\\metrics\\_regression.py:492: FutureWarning: 'squared' is deprecated in version 1.4 and will be removed in 1.6. To calculate the root mean squared error, use the function'root_mean_squared_error'.\n",
      "  warnings.warn(\n",
      "10:48:16 - cmdstanpy - INFO - Chain [1] start processing\n",
      "10:48:17 - cmdstanpy - INFO - Chain [1] done processing\n",
      "c:\\Users\\natra\\AppData\\Local\\Programs\\Python\\Python310\\lib\\site-packages\\sklearn\\metrics\\_regression.py:492: FutureWarning: 'squared' is deprecated in version 1.4 and will be removed in 1.6. To calculate the root mean squared error, use the function'root_mean_squared_error'.\n",
      "  warnings.warn(\n",
      "10:48:17 - cmdstanpy - INFO - Chain [1] start processing\n",
      "10:48:17 - cmdstanpy - INFO - Chain [1] done processing\n",
      "c:\\Users\\natra\\AppData\\Local\\Programs\\Python\\Python310\\lib\\site-packages\\sklearn\\metrics\\_regression.py:492: FutureWarning: 'squared' is deprecated in version 1.4 and will be removed in 1.6. To calculate the root mean squared error, use the function'root_mean_squared_error'.\n",
      "  warnings.warn(\n"
     ]
    },
    {
     "name": "stdout",
     "output_type": "stream",
     "text": [
      "R² Score: 0.712, RMSE: 2.781, MAE: 2.252\n",
      "\n",
      "Evaluating: changepoint_prior_scale=0.06999999999999999, seasonality_prior_scale=5.1, seasonality_mode=additive\n"
     ]
    },
    {
     "name": "stderr",
     "output_type": "stream",
     "text": [
      "10:48:18 - cmdstanpy - INFO - Chain [1] start processing\n",
      "10:48:18 - cmdstanpy - INFO - Chain [1] done processing\n",
      "c:\\Users\\natra\\AppData\\Local\\Programs\\Python\\Python310\\lib\\site-packages\\sklearn\\metrics\\_regression.py:492: FutureWarning: 'squared' is deprecated in version 1.4 and will be removed in 1.6. To calculate the root mean squared error, use the function'root_mean_squared_error'.\n",
      "  warnings.warn(\n",
      "10:48:18 - cmdstanpy - INFO - Chain [1] start processing\n",
      "10:48:18 - cmdstanpy - INFO - Chain [1] done processing\n",
      "c:\\Users\\natra\\AppData\\Local\\Programs\\Python\\Python310\\lib\\site-packages\\sklearn\\metrics\\_regression.py:492: FutureWarning: 'squared' is deprecated in version 1.4 and will be removed in 1.6. To calculate the root mean squared error, use the function'root_mean_squared_error'.\n",
      "  warnings.warn(\n",
      "10:48:19 - cmdstanpy - INFO - Chain [1] start processing\n",
      "10:48:19 - cmdstanpy - INFO - Chain [1] done processing\n",
      "c:\\Users\\natra\\AppData\\Local\\Programs\\Python\\Python310\\lib\\site-packages\\sklearn\\metrics\\_regression.py:492: FutureWarning: 'squared' is deprecated in version 1.4 and will be removed in 1.6. To calculate the root mean squared error, use the function'root_mean_squared_error'.\n",
      "  warnings.warn(\n",
      "10:48:19 - cmdstanpy - INFO - Chain [1] start processing\n",
      "10:48:20 - cmdstanpy - INFO - Chain [1] done processing\n",
      "c:\\Users\\natra\\AppData\\Local\\Programs\\Python\\Python310\\lib\\site-packages\\sklearn\\metrics\\_regression.py:492: FutureWarning: 'squared' is deprecated in version 1.4 and will be removed in 1.6. To calculate the root mean squared error, use the function'root_mean_squared_error'.\n",
      "  warnings.warn(\n",
      "10:48:20 - cmdstanpy - INFO - Chain [1] start processing\n",
      "10:48:20 - cmdstanpy - INFO - Chain [1] done processing\n",
      "c:\\Users\\natra\\AppData\\Local\\Programs\\Python\\Python310\\lib\\site-packages\\sklearn\\metrics\\_regression.py:492: FutureWarning: 'squared' is deprecated in version 1.4 and will be removed in 1.6. To calculate the root mean squared error, use the function'root_mean_squared_error'.\n",
      "  warnings.warn(\n"
     ]
    },
    {
     "name": "stdout",
     "output_type": "stream",
     "text": [
      "R² Score: 0.709, RMSE: 2.790, MAE: 2.248\n",
      "\n",
      "Evaluating: changepoint_prior_scale=0.06999999999999999, seasonality_prior_scale=5.1, seasonality_mode=multiplicative\n"
     ]
    },
    {
     "name": "stderr",
     "output_type": "stream",
     "text": [
      "10:48:21 - cmdstanpy - INFO - Chain [1] start processing\n",
      "10:48:21 - cmdstanpy - INFO - Chain [1] done processing\n",
      "c:\\Users\\natra\\AppData\\Local\\Programs\\Python\\Python310\\lib\\site-packages\\sklearn\\metrics\\_regression.py:492: FutureWarning: 'squared' is deprecated in version 1.4 and will be removed in 1.6. To calculate the root mean squared error, use the function'root_mean_squared_error'.\n",
      "  warnings.warn(\n",
      "10:48:21 - cmdstanpy - INFO - Chain [1] start processing\n",
      "10:48:21 - cmdstanpy - INFO - Chain [1] done processing\n",
      "c:\\Users\\natra\\AppData\\Local\\Programs\\Python\\Python310\\lib\\site-packages\\sklearn\\metrics\\_regression.py:492: FutureWarning: 'squared' is deprecated in version 1.4 and will be removed in 1.6. To calculate the root mean squared error, use the function'root_mean_squared_error'.\n",
      "  warnings.warn(\n",
      "10:48:22 - cmdstanpy - INFO - Chain [1] start processing\n",
      "10:48:22 - cmdstanpy - INFO - Chain [1] done processing\n",
      "c:\\Users\\natra\\AppData\\Local\\Programs\\Python\\Python310\\lib\\site-packages\\sklearn\\metrics\\_regression.py:492: FutureWarning: 'squared' is deprecated in version 1.4 and will be removed in 1.6. To calculate the root mean squared error, use the function'root_mean_squared_error'.\n",
      "  warnings.warn(\n",
      "10:48:22 - cmdstanpy - INFO - Chain [1] start processing\n",
      "10:48:23 - cmdstanpy - INFO - Chain [1] done processing\n",
      "c:\\Users\\natra\\AppData\\Local\\Programs\\Python\\Python310\\lib\\site-packages\\sklearn\\metrics\\_regression.py:492: FutureWarning: 'squared' is deprecated in version 1.4 and will be removed in 1.6. To calculate the root mean squared error, use the function'root_mean_squared_error'.\n",
      "  warnings.warn(\n",
      "10:48:23 - cmdstanpy - INFO - Chain [1] start processing\n",
      "10:48:23 - cmdstanpy - INFO - Chain [1] done processing\n",
      "c:\\Users\\natra\\AppData\\Local\\Programs\\Python\\Python310\\lib\\site-packages\\sklearn\\metrics\\_regression.py:492: FutureWarning: 'squared' is deprecated in version 1.4 and will be removed in 1.6. To calculate the root mean squared error, use the function'root_mean_squared_error'.\n",
      "  warnings.warn(\n"
     ]
    },
    {
     "name": "stdout",
     "output_type": "stream",
     "text": [
      "R² Score: 0.711, RMSE: 2.787, MAE: 2.259\n",
      "\n",
      "Evaluating: changepoint_prior_scale=0.06999999999999999, seasonality_prior_scale=6.1, seasonality_mode=additive\n"
     ]
    },
    {
     "name": "stderr",
     "output_type": "stream",
     "text": [
      "10:48:24 - cmdstanpy - INFO - Chain [1] start processing\n",
      "10:48:24 - cmdstanpy - INFO - Chain [1] done processing\n",
      "c:\\Users\\natra\\AppData\\Local\\Programs\\Python\\Python310\\lib\\site-packages\\sklearn\\metrics\\_regression.py:492: FutureWarning: 'squared' is deprecated in version 1.4 and will be removed in 1.6. To calculate the root mean squared error, use the function'root_mean_squared_error'.\n",
      "  warnings.warn(\n",
      "10:48:24 - cmdstanpy - INFO - Chain [1] start processing\n",
      "10:48:24 - cmdstanpy - INFO - Chain [1] done processing\n",
      "c:\\Users\\natra\\AppData\\Local\\Programs\\Python\\Python310\\lib\\site-packages\\sklearn\\metrics\\_regression.py:492: FutureWarning: 'squared' is deprecated in version 1.4 and will be removed in 1.6. To calculate the root mean squared error, use the function'root_mean_squared_error'.\n",
      "  warnings.warn(\n",
      "10:48:25 - cmdstanpy - INFO - Chain [1] start processing\n",
      "10:48:25 - cmdstanpy - INFO - Chain [1] done processing\n",
      "c:\\Users\\natra\\AppData\\Local\\Programs\\Python\\Python310\\lib\\site-packages\\sklearn\\metrics\\_regression.py:492: FutureWarning: 'squared' is deprecated in version 1.4 and will be removed in 1.6. To calculate the root mean squared error, use the function'root_mean_squared_error'.\n",
      "  warnings.warn(\n",
      "10:48:26 - cmdstanpy - INFO - Chain [1] start processing\n",
      "10:48:26 - cmdstanpy - INFO - Chain [1] done processing\n",
      "c:\\Users\\natra\\AppData\\Local\\Programs\\Python\\Python310\\lib\\site-packages\\sklearn\\metrics\\_regression.py:492: FutureWarning: 'squared' is deprecated in version 1.4 and will be removed in 1.6. To calculate the root mean squared error, use the function'root_mean_squared_error'.\n",
      "  warnings.warn(\n",
      "10:48:26 - cmdstanpy - INFO - Chain [1] start processing\n",
      "10:48:26 - cmdstanpy - INFO - Chain [1] done processing\n",
      "c:\\Users\\natra\\AppData\\Local\\Programs\\Python\\Python310\\lib\\site-packages\\sklearn\\metrics\\_regression.py:492: FutureWarning: 'squared' is deprecated in version 1.4 and will be removed in 1.6. To calculate the root mean squared error, use the function'root_mean_squared_error'.\n",
      "  warnings.warn(\n"
     ]
    },
    {
     "name": "stdout",
     "output_type": "stream",
     "text": [
      "R² Score: 0.711, RMSE: 2.783, MAE: 2.244\n",
      "\n",
      "Evaluating: changepoint_prior_scale=0.06999999999999999, seasonality_prior_scale=6.1, seasonality_mode=multiplicative\n"
     ]
    },
    {
     "name": "stderr",
     "output_type": "stream",
     "text": [
      "10:48:27 - cmdstanpy - INFO - Chain [1] start processing\n",
      "10:48:27 - cmdstanpy - INFO - Chain [1] done processing\n",
      "c:\\Users\\natra\\AppData\\Local\\Programs\\Python\\Python310\\lib\\site-packages\\sklearn\\metrics\\_regression.py:492: FutureWarning: 'squared' is deprecated in version 1.4 and will be removed in 1.6. To calculate the root mean squared error, use the function'root_mean_squared_error'.\n",
      "  warnings.warn(\n",
      "10:48:27 - cmdstanpy - INFO - Chain [1] start processing\n",
      "10:48:27 - cmdstanpy - INFO - Chain [1] done processing\n",
      "c:\\Users\\natra\\AppData\\Local\\Programs\\Python\\Python310\\lib\\site-packages\\sklearn\\metrics\\_regression.py:492: FutureWarning: 'squared' is deprecated in version 1.4 and will be removed in 1.6. To calculate the root mean squared error, use the function'root_mean_squared_error'.\n",
      "  warnings.warn(\n",
      "10:48:28 - cmdstanpy - INFO - Chain [1] start processing\n",
      "10:48:28 - cmdstanpy - INFO - Chain [1] done processing\n",
      "c:\\Users\\natra\\AppData\\Local\\Programs\\Python\\Python310\\lib\\site-packages\\sklearn\\metrics\\_regression.py:492: FutureWarning: 'squared' is deprecated in version 1.4 and will be removed in 1.6. To calculate the root mean squared error, use the function'root_mean_squared_error'.\n",
      "  warnings.warn(\n",
      "10:48:29 - cmdstanpy - INFO - Chain [1] start processing\n",
      "10:48:29 - cmdstanpy - INFO - Chain [1] done processing\n",
      "c:\\Users\\natra\\AppData\\Local\\Programs\\Python\\Python310\\lib\\site-packages\\sklearn\\metrics\\_regression.py:492: FutureWarning: 'squared' is deprecated in version 1.4 and will be removed in 1.6. To calculate the root mean squared error, use the function'root_mean_squared_error'.\n",
      "  warnings.warn(\n",
      "10:48:29 - cmdstanpy - INFO - Chain [1] start processing\n",
      "10:48:29 - cmdstanpy - INFO - Chain [1] done processing\n",
      "c:\\Users\\natra\\AppData\\Local\\Programs\\Python\\Python310\\lib\\site-packages\\sklearn\\metrics\\_regression.py:492: FutureWarning: 'squared' is deprecated in version 1.4 and will be removed in 1.6. To calculate the root mean squared error, use the function'root_mean_squared_error'.\n",
      "  warnings.warn(\n"
     ]
    },
    {
     "name": "stdout",
     "output_type": "stream",
     "text": [
      "R² Score: 0.709, RMSE: 2.794, MAE: 2.266\n",
      "\n",
      "Evaluating: changepoint_prior_scale=0.06999999999999999, seasonality_prior_scale=7.1, seasonality_mode=additive\n"
     ]
    },
    {
     "name": "stderr",
     "output_type": "stream",
     "text": [
      "10:48:30 - cmdstanpy - INFO - Chain [1] start processing\n",
      "10:48:30 - cmdstanpy - INFO - Chain [1] done processing\n",
      "c:\\Users\\natra\\AppData\\Local\\Programs\\Python\\Python310\\lib\\site-packages\\sklearn\\metrics\\_regression.py:492: FutureWarning: 'squared' is deprecated in version 1.4 and will be removed in 1.6. To calculate the root mean squared error, use the function'root_mean_squared_error'.\n",
      "  warnings.warn(\n",
      "10:48:30 - cmdstanpy - INFO - Chain [1] start processing\n",
      "10:48:31 - cmdstanpy - INFO - Chain [1] done processing\n",
      "c:\\Users\\natra\\AppData\\Local\\Programs\\Python\\Python310\\lib\\site-packages\\sklearn\\metrics\\_regression.py:492: FutureWarning: 'squared' is deprecated in version 1.4 and will be removed in 1.6. To calculate the root mean squared error, use the function'root_mean_squared_error'.\n",
      "  warnings.warn(\n",
      "10:48:31 - cmdstanpy - INFO - Chain [1] start processing\n",
      "10:48:31 - cmdstanpy - INFO - Chain [1] done processing\n",
      "c:\\Users\\natra\\AppData\\Local\\Programs\\Python\\Python310\\lib\\site-packages\\sklearn\\metrics\\_regression.py:492: FutureWarning: 'squared' is deprecated in version 1.4 and will be removed in 1.6. To calculate the root mean squared error, use the function'root_mean_squared_error'.\n",
      "  warnings.warn(\n",
      "10:48:32 - cmdstanpy - INFO - Chain [1] start processing\n",
      "10:48:32 - cmdstanpy - INFO - Chain [1] done processing\n",
      "c:\\Users\\natra\\AppData\\Local\\Programs\\Python\\Python310\\lib\\site-packages\\sklearn\\metrics\\_regression.py:492: FutureWarning: 'squared' is deprecated in version 1.4 and will be removed in 1.6. To calculate the root mean squared error, use the function'root_mean_squared_error'.\n",
      "  warnings.warn(\n",
      "10:48:32 - cmdstanpy - INFO - Chain [1] start processing\n",
      "10:48:33 - cmdstanpy - INFO - Chain [1] done processing\n",
      "c:\\Users\\natra\\AppData\\Local\\Programs\\Python\\Python310\\lib\\site-packages\\sklearn\\metrics\\_regression.py:492: FutureWarning: 'squared' is deprecated in version 1.4 and will be removed in 1.6. To calculate the root mean squared error, use the function'root_mean_squared_error'.\n",
      "  warnings.warn(\n"
     ]
    },
    {
     "name": "stdout",
     "output_type": "stream",
     "text": [
      "R² Score: 0.708, RMSE: 2.797, MAE: 2.255\n",
      "\n",
      "Evaluating: changepoint_prior_scale=0.06999999999999999, seasonality_prior_scale=7.1, seasonality_mode=multiplicative\n"
     ]
    },
    {
     "name": "stderr",
     "output_type": "stream",
     "text": [
      "10:48:33 - cmdstanpy - INFO - Chain [1] start processing\n",
      "10:48:33 - cmdstanpy - INFO - Chain [1] done processing\n",
      "c:\\Users\\natra\\AppData\\Local\\Programs\\Python\\Python310\\lib\\site-packages\\sklearn\\metrics\\_regression.py:492: FutureWarning: 'squared' is deprecated in version 1.4 and will be removed in 1.6. To calculate the root mean squared error, use the function'root_mean_squared_error'.\n",
      "  warnings.warn(\n",
      "10:48:34 - cmdstanpy - INFO - Chain [1] start processing\n",
      "10:48:34 - cmdstanpy - INFO - Chain [1] done processing\n",
      "c:\\Users\\natra\\AppData\\Local\\Programs\\Python\\Python310\\lib\\site-packages\\sklearn\\metrics\\_regression.py:492: FutureWarning: 'squared' is deprecated in version 1.4 and will be removed in 1.6. To calculate the root mean squared error, use the function'root_mean_squared_error'.\n",
      "  warnings.warn(\n",
      "10:48:35 - cmdstanpy - INFO - Chain [1] start processing\n",
      "10:48:35 - cmdstanpy - INFO - Chain [1] done processing\n",
      "c:\\Users\\natra\\AppData\\Local\\Programs\\Python\\Python310\\lib\\site-packages\\sklearn\\metrics\\_regression.py:492: FutureWarning: 'squared' is deprecated in version 1.4 and will be removed in 1.6. To calculate the root mean squared error, use the function'root_mean_squared_error'.\n",
      "  warnings.warn(\n",
      "10:48:35 - cmdstanpy - INFO - Chain [1] start processing\n",
      "10:48:35 - cmdstanpy - INFO - Chain [1] done processing\n",
      "c:\\Users\\natra\\AppData\\Local\\Programs\\Python\\Python310\\lib\\site-packages\\sklearn\\metrics\\_regression.py:492: FutureWarning: 'squared' is deprecated in version 1.4 and will be removed in 1.6. To calculate the root mean squared error, use the function'root_mean_squared_error'.\n",
      "  warnings.warn(\n",
      "10:48:36 - cmdstanpy - INFO - Chain [1] start processing\n",
      "10:48:36 - cmdstanpy - INFO - Chain [1] done processing\n",
      "c:\\Users\\natra\\AppData\\Local\\Programs\\Python\\Python310\\lib\\site-packages\\sklearn\\metrics\\_regression.py:492: FutureWarning: 'squared' is deprecated in version 1.4 and will be removed in 1.6. To calculate the root mean squared error, use the function'root_mean_squared_error'.\n",
      "  warnings.warn(\n"
     ]
    },
    {
     "name": "stdout",
     "output_type": "stream",
     "text": [
      "R² Score: 0.712, RMSE: 2.784, MAE: 2.256\n",
      "\n",
      "Evaluating: changepoint_prior_scale=0.06999999999999999, seasonality_prior_scale=8.1, seasonality_mode=additive\n"
     ]
    },
    {
     "name": "stderr",
     "output_type": "stream",
     "text": [
      "10:48:37 - cmdstanpy - INFO - Chain [1] start processing\n",
      "10:48:37 - cmdstanpy - INFO - Chain [1] done processing\n",
      "c:\\Users\\natra\\AppData\\Local\\Programs\\Python\\Python310\\lib\\site-packages\\sklearn\\metrics\\_regression.py:492: FutureWarning: 'squared' is deprecated in version 1.4 and will be removed in 1.6. To calculate the root mean squared error, use the function'root_mean_squared_error'.\n",
      "  warnings.warn(\n",
      "10:48:37 - cmdstanpy - INFO - Chain [1] start processing\n",
      "10:48:38 - cmdstanpy - INFO - Chain [1] done processing\n",
      "c:\\Users\\natra\\AppData\\Local\\Programs\\Python\\Python310\\lib\\site-packages\\sklearn\\metrics\\_regression.py:492: FutureWarning: 'squared' is deprecated in version 1.4 and will be removed in 1.6. To calculate the root mean squared error, use the function'root_mean_squared_error'.\n",
      "  warnings.warn(\n",
      "10:48:38 - cmdstanpy - INFO - Chain [1] start processing\n",
      "10:48:38 - cmdstanpy - INFO - Chain [1] done processing\n",
      "c:\\Users\\natra\\AppData\\Local\\Programs\\Python\\Python310\\lib\\site-packages\\sklearn\\metrics\\_regression.py:492: FutureWarning: 'squared' is deprecated in version 1.4 and will be removed in 1.6. To calculate the root mean squared error, use the function'root_mean_squared_error'.\n",
      "  warnings.warn(\n",
      "10:48:39 - cmdstanpy - INFO - Chain [1] start processing\n",
      "10:48:39 - cmdstanpy - INFO - Chain [1] done processing\n",
      "c:\\Users\\natra\\AppData\\Local\\Programs\\Python\\Python310\\lib\\site-packages\\sklearn\\metrics\\_regression.py:492: FutureWarning: 'squared' is deprecated in version 1.4 and will be removed in 1.6. To calculate the root mean squared error, use the function'root_mean_squared_error'.\n",
      "  warnings.warn(\n",
      "10:48:39 - cmdstanpy - INFO - Chain [1] start processing\n",
      "10:48:40 - cmdstanpy - INFO - Chain [1] done processing\n",
      "c:\\Users\\natra\\AppData\\Local\\Programs\\Python\\Python310\\lib\\site-packages\\sklearn\\metrics\\_regression.py:492: FutureWarning: 'squared' is deprecated in version 1.4 and will be removed in 1.6. To calculate the root mean squared error, use the function'root_mean_squared_error'.\n",
      "  warnings.warn(\n"
     ]
    },
    {
     "name": "stdout",
     "output_type": "stream",
     "text": [
      "R² Score: 0.713, RMSE: 2.773, MAE: 2.235\n",
      "\n",
      "Evaluating: changepoint_prior_scale=0.06999999999999999, seasonality_prior_scale=8.1, seasonality_mode=multiplicative\n"
     ]
    },
    {
     "name": "stderr",
     "output_type": "stream",
     "text": [
      "10:48:40 - cmdstanpy - INFO - Chain [1] start processing\n",
      "10:48:40 - cmdstanpy - INFO - Chain [1] done processing\n",
      "c:\\Users\\natra\\AppData\\Local\\Programs\\Python\\Python310\\lib\\site-packages\\sklearn\\metrics\\_regression.py:492: FutureWarning: 'squared' is deprecated in version 1.4 and will be removed in 1.6. To calculate the root mean squared error, use the function'root_mean_squared_error'.\n",
      "  warnings.warn(\n",
      "10:48:41 - cmdstanpy - INFO - Chain [1] start processing\n",
      "10:48:41 - cmdstanpy - INFO - Chain [1] done processing\n",
      "c:\\Users\\natra\\AppData\\Local\\Programs\\Python\\Python310\\lib\\site-packages\\sklearn\\metrics\\_regression.py:492: FutureWarning: 'squared' is deprecated in version 1.4 and will be removed in 1.6. To calculate the root mean squared error, use the function'root_mean_squared_error'.\n",
      "  warnings.warn(\n",
      "10:48:41 - cmdstanpy - INFO - Chain [1] start processing\n",
      "10:48:41 - cmdstanpy - INFO - Chain [1] done processing\n",
      "c:\\Users\\natra\\AppData\\Local\\Programs\\Python\\Python310\\lib\\site-packages\\sklearn\\metrics\\_regression.py:492: FutureWarning: 'squared' is deprecated in version 1.4 and will be removed in 1.6. To calculate the root mean squared error, use the function'root_mean_squared_error'.\n",
      "  warnings.warn(\n",
      "10:48:42 - cmdstanpy - INFO - Chain [1] start processing\n",
      "10:48:42 - cmdstanpy - INFO - Chain [1] done processing\n",
      "c:\\Users\\natra\\AppData\\Local\\Programs\\Python\\Python310\\lib\\site-packages\\sklearn\\metrics\\_regression.py:492: FutureWarning: 'squared' is deprecated in version 1.4 and will be removed in 1.6. To calculate the root mean squared error, use the function'root_mean_squared_error'.\n",
      "  warnings.warn(\n",
      "10:48:42 - cmdstanpy - INFO - Chain [1] start processing\n",
      "10:48:43 - cmdstanpy - INFO - Chain [1] done processing\n",
      "c:\\Users\\natra\\AppData\\Local\\Programs\\Python\\Python310\\lib\\site-packages\\sklearn\\metrics\\_regression.py:492: FutureWarning: 'squared' is deprecated in version 1.4 and will be removed in 1.6. To calculate the root mean squared error, use the function'root_mean_squared_error'.\n",
      "  warnings.warn(\n"
     ]
    },
    {
     "name": "stdout",
     "output_type": "stream",
     "text": [
      "R² Score: 0.712, RMSE: 2.783, MAE: 2.255\n",
      "\n",
      "Evaluating: changepoint_prior_scale=0.06999999999999999, seasonality_prior_scale=9.1, seasonality_mode=additive\n"
     ]
    },
    {
     "name": "stderr",
     "output_type": "stream",
     "text": [
      "10:48:43 - cmdstanpy - INFO - Chain [1] start processing\n",
      "10:48:43 - cmdstanpy - INFO - Chain [1] done processing\n",
      "c:\\Users\\natra\\AppData\\Local\\Programs\\Python\\Python310\\lib\\site-packages\\sklearn\\metrics\\_regression.py:492: FutureWarning: 'squared' is deprecated in version 1.4 and will be removed in 1.6. To calculate the root mean squared error, use the function'root_mean_squared_error'.\n",
      "  warnings.warn(\n",
      "10:48:44 - cmdstanpy - INFO - Chain [1] start processing\n",
      "10:48:44 - cmdstanpy - INFO - Chain [1] done processing\n",
      "c:\\Users\\natra\\AppData\\Local\\Programs\\Python\\Python310\\lib\\site-packages\\sklearn\\metrics\\_regression.py:492: FutureWarning: 'squared' is deprecated in version 1.4 and will be removed in 1.6. To calculate the root mean squared error, use the function'root_mean_squared_error'.\n",
      "  warnings.warn(\n",
      "10:48:44 - cmdstanpy - INFO - Chain [1] start processing\n",
      "10:48:44 - cmdstanpy - INFO - Chain [1] done processing\n",
      "c:\\Users\\natra\\AppData\\Local\\Programs\\Python\\Python310\\lib\\site-packages\\sklearn\\metrics\\_regression.py:492: FutureWarning: 'squared' is deprecated in version 1.4 and will be removed in 1.6. To calculate the root mean squared error, use the function'root_mean_squared_error'.\n",
      "  warnings.warn(\n",
      "10:48:45 - cmdstanpy - INFO - Chain [1] start processing\n",
      "10:48:45 - cmdstanpy - INFO - Chain [1] done processing\n",
      "c:\\Users\\natra\\AppData\\Local\\Programs\\Python\\Python310\\lib\\site-packages\\sklearn\\metrics\\_regression.py:492: FutureWarning: 'squared' is deprecated in version 1.4 and will be removed in 1.6. To calculate the root mean squared error, use the function'root_mean_squared_error'.\n",
      "  warnings.warn(\n",
      "10:48:45 - cmdstanpy - INFO - Chain [1] start processing\n",
      "10:48:46 - cmdstanpy - INFO - Chain [1] done processing\n",
      "c:\\Users\\natra\\AppData\\Local\\Programs\\Python\\Python310\\lib\\site-packages\\sklearn\\metrics\\_regression.py:492: FutureWarning: 'squared' is deprecated in version 1.4 and will be removed in 1.6. To calculate the root mean squared error, use the function'root_mean_squared_error'.\n",
      "  warnings.warn(\n"
     ]
    },
    {
     "name": "stdout",
     "output_type": "stream",
     "text": [
      "R² Score: 0.711, RMSE: 2.781, MAE: 2.242\n",
      "\n",
      "Evaluating: changepoint_prior_scale=0.06999999999999999, seasonality_prior_scale=9.1, seasonality_mode=multiplicative\n"
     ]
    },
    {
     "name": "stderr",
     "output_type": "stream",
     "text": [
      "10:48:46 - cmdstanpy - INFO - Chain [1] start processing\n",
      "10:48:46 - cmdstanpy - INFO - Chain [1] done processing\n",
      "c:\\Users\\natra\\AppData\\Local\\Programs\\Python\\Python310\\lib\\site-packages\\sklearn\\metrics\\_regression.py:492: FutureWarning: 'squared' is deprecated in version 1.4 and will be removed in 1.6. To calculate the root mean squared error, use the function'root_mean_squared_error'.\n",
      "  warnings.warn(\n",
      "10:48:47 - cmdstanpy - INFO - Chain [1] start processing\n",
      "10:48:47 - cmdstanpy - INFO - Chain [1] done processing\n",
      "c:\\Users\\natra\\AppData\\Local\\Programs\\Python\\Python310\\lib\\site-packages\\sklearn\\metrics\\_regression.py:492: FutureWarning: 'squared' is deprecated in version 1.4 and will be removed in 1.6. To calculate the root mean squared error, use the function'root_mean_squared_error'.\n",
      "  warnings.warn(\n",
      "10:48:47 - cmdstanpy - INFO - Chain [1] start processing\n",
      "10:48:48 - cmdstanpy - INFO - Chain [1] done processing\n",
      "c:\\Users\\natra\\AppData\\Local\\Programs\\Python\\Python310\\lib\\site-packages\\sklearn\\metrics\\_regression.py:492: FutureWarning: 'squared' is deprecated in version 1.4 and will be removed in 1.6. To calculate the root mean squared error, use the function'root_mean_squared_error'.\n",
      "  warnings.warn(\n",
      "10:48:48 - cmdstanpy - INFO - Chain [1] start processing\n",
      "10:48:48 - cmdstanpy - INFO - Chain [1] done processing\n",
      "c:\\Users\\natra\\AppData\\Local\\Programs\\Python\\Python310\\lib\\site-packages\\sklearn\\metrics\\_regression.py:492: FutureWarning: 'squared' is deprecated in version 1.4 and will be removed in 1.6. To calculate the root mean squared error, use the function'root_mean_squared_error'.\n",
      "  warnings.warn(\n",
      "10:48:49 - cmdstanpy - INFO - Chain [1] start processing\n",
      "10:48:49 - cmdstanpy - INFO - Chain [1] done processing\n",
      "c:\\Users\\natra\\AppData\\Local\\Programs\\Python\\Python310\\lib\\site-packages\\sklearn\\metrics\\_regression.py:492: FutureWarning: 'squared' is deprecated in version 1.4 and will be removed in 1.6. To calculate the root mean squared error, use the function'root_mean_squared_error'.\n",
      "  warnings.warn(\n"
     ]
    },
    {
     "name": "stdout",
     "output_type": "stream",
     "text": [
      "R² Score: 0.717, RMSE: 2.761, MAE: 2.232\n",
      "\n",
      "Evaluating: changepoint_prior_scale=0.06999999999999999, seasonality_prior_scale=10.1, seasonality_mode=additive\n"
     ]
    },
    {
     "name": "stderr",
     "output_type": "stream",
     "text": [
      "10:48:49 - cmdstanpy - INFO - Chain [1] start processing\n",
      "10:48:49 - cmdstanpy - INFO - Chain [1] done processing\n",
      "c:\\Users\\natra\\AppData\\Local\\Programs\\Python\\Python310\\lib\\site-packages\\sklearn\\metrics\\_regression.py:492: FutureWarning: 'squared' is deprecated in version 1.4 and will be removed in 1.6. To calculate the root mean squared error, use the function'root_mean_squared_error'.\n",
      "  warnings.warn(\n",
      "10:48:50 - cmdstanpy - INFO - Chain [1] start processing\n",
      "10:48:50 - cmdstanpy - INFO - Chain [1] done processing\n",
      "c:\\Users\\natra\\AppData\\Local\\Programs\\Python\\Python310\\lib\\site-packages\\sklearn\\metrics\\_regression.py:492: FutureWarning: 'squared' is deprecated in version 1.4 and will be removed in 1.6. To calculate the root mean squared error, use the function'root_mean_squared_error'.\n",
      "  warnings.warn(\n",
      "10:48:50 - cmdstanpy - INFO - Chain [1] start processing\n",
      "10:48:51 - cmdstanpy - INFO - Chain [1] done processing\n",
      "c:\\Users\\natra\\AppData\\Local\\Programs\\Python\\Python310\\lib\\site-packages\\sklearn\\metrics\\_regression.py:492: FutureWarning: 'squared' is deprecated in version 1.4 and will be removed in 1.6. To calculate the root mean squared error, use the function'root_mean_squared_error'.\n",
      "  warnings.warn(\n",
      "10:48:51 - cmdstanpy - INFO - Chain [1] start processing\n",
      "10:48:51 - cmdstanpy - INFO - Chain [1] done processing\n",
      "c:\\Users\\natra\\AppData\\Local\\Programs\\Python\\Python310\\lib\\site-packages\\sklearn\\metrics\\_regression.py:492: FutureWarning: 'squared' is deprecated in version 1.4 and will be removed in 1.6. To calculate the root mean squared error, use the function'root_mean_squared_error'.\n",
      "  warnings.warn(\n",
      "10:48:52 - cmdstanpy - INFO - Chain [1] start processing\n",
      "10:48:52 - cmdstanpy - INFO - Chain [1] done processing\n",
      "c:\\Users\\natra\\AppData\\Local\\Programs\\Python\\Python310\\lib\\site-packages\\sklearn\\metrics\\_regression.py:492: FutureWarning: 'squared' is deprecated in version 1.4 and will be removed in 1.6. To calculate the root mean squared error, use the function'root_mean_squared_error'.\n",
      "  warnings.warn(\n"
     ]
    },
    {
     "name": "stdout",
     "output_type": "stream",
     "text": [
      "R² Score: 0.709, RMSE: 2.792, MAE: 2.250\n",
      "\n",
      "Evaluating: changepoint_prior_scale=0.06999999999999999, seasonality_prior_scale=10.1, seasonality_mode=multiplicative\n"
     ]
    },
    {
     "name": "stderr",
     "output_type": "stream",
     "text": [
      "10:48:52 - cmdstanpy - INFO - Chain [1] start processing\n",
      "10:48:53 - cmdstanpy - INFO - Chain [1] done processing\n",
      "c:\\Users\\natra\\AppData\\Local\\Programs\\Python\\Python310\\lib\\site-packages\\sklearn\\metrics\\_regression.py:492: FutureWarning: 'squared' is deprecated in version 1.4 and will be removed in 1.6. To calculate the root mean squared error, use the function'root_mean_squared_error'.\n",
      "  warnings.warn(\n",
      "10:48:53 - cmdstanpy - INFO - Chain [1] start processing\n",
      "10:48:53 - cmdstanpy - INFO - Chain [1] done processing\n",
      "c:\\Users\\natra\\AppData\\Local\\Programs\\Python\\Python310\\lib\\site-packages\\sklearn\\metrics\\_regression.py:492: FutureWarning: 'squared' is deprecated in version 1.4 and will be removed in 1.6. To calculate the root mean squared error, use the function'root_mean_squared_error'.\n",
      "  warnings.warn(\n",
      "10:48:54 - cmdstanpy - INFO - Chain [1] start processing\n",
      "10:48:54 - cmdstanpy - INFO - Chain [1] done processing\n",
      "c:\\Users\\natra\\AppData\\Local\\Programs\\Python\\Python310\\lib\\site-packages\\sklearn\\metrics\\_regression.py:492: FutureWarning: 'squared' is deprecated in version 1.4 and will be removed in 1.6. To calculate the root mean squared error, use the function'root_mean_squared_error'.\n",
      "  warnings.warn(\n",
      "10:48:54 - cmdstanpy - INFO - Chain [1] start processing\n",
      "10:48:54 - cmdstanpy - INFO - Chain [1] done processing\n",
      "c:\\Users\\natra\\AppData\\Local\\Programs\\Python\\Python310\\lib\\site-packages\\sklearn\\metrics\\_regression.py:492: FutureWarning: 'squared' is deprecated in version 1.4 and will be removed in 1.6. To calculate the root mean squared error, use the function'root_mean_squared_error'.\n",
      "  warnings.warn(\n",
      "10:48:55 - cmdstanpy - INFO - Chain [1] start processing\n",
      "10:48:55 - cmdstanpy - INFO - Chain [1] done processing\n",
      "c:\\Users\\natra\\AppData\\Local\\Programs\\Python\\Python310\\lib\\site-packages\\sklearn\\metrics\\_regression.py:492: FutureWarning: 'squared' is deprecated in version 1.4 and will be removed in 1.6. To calculate the root mean squared error, use the function'root_mean_squared_error'.\n",
      "  warnings.warn(\n"
     ]
    },
    {
     "name": "stdout",
     "output_type": "stream",
     "text": [
      "R² Score: 0.719, RMSE: 2.749, MAE: 2.220\n",
      "\n",
      "Evaluating: changepoint_prior_scale=0.08, seasonality_prior_scale=0.1, seasonality_mode=additive\n"
     ]
    },
    {
     "name": "stderr",
     "output_type": "stream",
     "text": [
      "10:48:55 - cmdstanpy - INFO - Chain [1] start processing\n",
      "10:48:56 - cmdstanpy - INFO - Chain [1] done processing\n",
      "c:\\Users\\natra\\AppData\\Local\\Programs\\Python\\Python310\\lib\\site-packages\\sklearn\\metrics\\_regression.py:492: FutureWarning: 'squared' is deprecated in version 1.4 and will be removed in 1.6. To calculate the root mean squared error, use the function'root_mean_squared_error'.\n",
      "  warnings.warn(\n",
      "10:48:56 - cmdstanpy - INFO - Chain [1] start processing\n",
      "10:48:56 - cmdstanpy - INFO - Chain [1] done processing\n",
      "c:\\Users\\natra\\AppData\\Local\\Programs\\Python\\Python310\\lib\\site-packages\\sklearn\\metrics\\_regression.py:492: FutureWarning: 'squared' is deprecated in version 1.4 and will be removed in 1.6. To calculate the root mean squared error, use the function'root_mean_squared_error'.\n",
      "  warnings.warn(\n",
      "10:48:57 - cmdstanpy - INFO - Chain [1] start processing\n",
      "10:48:57 - cmdstanpy - INFO - Chain [1] done processing\n",
      "c:\\Users\\natra\\AppData\\Local\\Programs\\Python\\Python310\\lib\\site-packages\\sklearn\\metrics\\_regression.py:492: FutureWarning: 'squared' is deprecated in version 1.4 and will be removed in 1.6. To calculate the root mean squared error, use the function'root_mean_squared_error'.\n",
      "  warnings.warn(\n",
      "10:48:57 - cmdstanpy - INFO - Chain [1] start processing\n",
      "10:48:57 - cmdstanpy - INFO - Chain [1] done processing\n",
      "c:\\Users\\natra\\AppData\\Local\\Programs\\Python\\Python310\\lib\\site-packages\\sklearn\\metrics\\_regression.py:492: FutureWarning: 'squared' is deprecated in version 1.4 and will be removed in 1.6. To calculate the root mean squared error, use the function'root_mean_squared_error'.\n",
      "  warnings.warn(\n",
      "10:48:58 - cmdstanpy - INFO - Chain [1] start processing\n",
      "10:48:58 - cmdstanpy - INFO - Chain [1] done processing\n",
      "c:\\Users\\natra\\AppData\\Local\\Programs\\Python\\Python310\\lib\\site-packages\\sklearn\\metrics\\_regression.py:492: FutureWarning: 'squared' is deprecated in version 1.4 and will be removed in 1.6. To calculate the root mean squared error, use the function'root_mean_squared_error'.\n",
      "  warnings.warn(\n"
     ]
    },
    {
     "name": "stdout",
     "output_type": "stream",
     "text": [
      "R² Score: 0.702, RMSE: 2.821, MAE: 2.277\n",
      "\n",
      "Evaluating: changepoint_prior_scale=0.08, seasonality_prior_scale=0.1, seasonality_mode=multiplicative\n"
     ]
    },
    {
     "name": "stderr",
     "output_type": "stream",
     "text": [
      "10:48:58 - cmdstanpy - INFO - Chain [1] start processing\n",
      "10:48:59 - cmdstanpy - INFO - Chain [1] done processing\n",
      "c:\\Users\\natra\\AppData\\Local\\Programs\\Python\\Python310\\lib\\site-packages\\sklearn\\metrics\\_regression.py:492: FutureWarning: 'squared' is deprecated in version 1.4 and will be removed in 1.6. To calculate the root mean squared error, use the function'root_mean_squared_error'.\n",
      "  warnings.warn(\n",
      "10:48:59 - cmdstanpy - INFO - Chain [1] start processing\n",
      "10:48:59 - cmdstanpy - INFO - Chain [1] done processing\n",
      "c:\\Users\\natra\\AppData\\Local\\Programs\\Python\\Python310\\lib\\site-packages\\sklearn\\metrics\\_regression.py:492: FutureWarning: 'squared' is deprecated in version 1.4 and will be removed in 1.6. To calculate the root mean squared error, use the function'root_mean_squared_error'.\n",
      "  warnings.warn(\n",
      "10:49:00 - cmdstanpy - INFO - Chain [1] start processing\n",
      "10:49:00 - cmdstanpy - INFO - Chain [1] done processing\n",
      "c:\\Users\\natra\\AppData\\Local\\Programs\\Python\\Python310\\lib\\site-packages\\sklearn\\metrics\\_regression.py:492: FutureWarning: 'squared' is deprecated in version 1.4 and will be removed in 1.6. To calculate the root mean squared error, use the function'root_mean_squared_error'.\n",
      "  warnings.warn(\n",
      "10:49:00 - cmdstanpy - INFO - Chain [1] start processing\n",
      "10:49:00 - cmdstanpy - INFO - Chain [1] done processing\n",
      "c:\\Users\\natra\\AppData\\Local\\Programs\\Python\\Python310\\lib\\site-packages\\sklearn\\metrics\\_regression.py:492: FutureWarning: 'squared' is deprecated in version 1.4 and will be removed in 1.6. To calculate the root mean squared error, use the function'root_mean_squared_error'.\n",
      "  warnings.warn(\n",
      "10:49:01 - cmdstanpy - INFO - Chain [1] start processing\n",
      "10:49:01 - cmdstanpy - INFO - Chain [1] done processing\n",
      "c:\\Users\\natra\\AppData\\Local\\Programs\\Python\\Python310\\lib\\site-packages\\sklearn\\metrics\\_regression.py:492: FutureWarning: 'squared' is deprecated in version 1.4 and will be removed in 1.6. To calculate the root mean squared error, use the function'root_mean_squared_error'.\n",
      "  warnings.warn(\n"
     ]
    },
    {
     "name": "stdout",
     "output_type": "stream",
     "text": [
      "R² Score: 0.705, RMSE: 2.813, MAE: 2.283\n",
      "\n",
      "Evaluating: changepoint_prior_scale=0.08, seasonality_prior_scale=1.1, seasonality_mode=additive\n"
     ]
    },
    {
     "name": "stderr",
     "output_type": "stream",
     "text": [
      "10:49:02 - cmdstanpy - INFO - Chain [1] start processing\n",
      "10:49:02 - cmdstanpy - INFO - Chain [1] done processing\n",
      "c:\\Users\\natra\\AppData\\Local\\Programs\\Python\\Python310\\lib\\site-packages\\sklearn\\metrics\\_regression.py:492: FutureWarning: 'squared' is deprecated in version 1.4 and will be removed in 1.6. To calculate the root mean squared error, use the function'root_mean_squared_error'.\n",
      "  warnings.warn(\n",
      "10:49:02 - cmdstanpy - INFO - Chain [1] start processing\n",
      "10:49:02 - cmdstanpy - INFO - Chain [1] done processing\n",
      "c:\\Users\\natra\\AppData\\Local\\Programs\\Python\\Python310\\lib\\site-packages\\sklearn\\metrics\\_regression.py:492: FutureWarning: 'squared' is deprecated in version 1.4 and will be removed in 1.6. To calculate the root mean squared error, use the function'root_mean_squared_error'.\n",
      "  warnings.warn(\n",
      "10:49:03 - cmdstanpy - INFO - Chain [1] start processing\n",
      "10:49:03 - cmdstanpy - INFO - Chain [1] done processing\n",
      "c:\\Users\\natra\\AppData\\Local\\Programs\\Python\\Python310\\lib\\site-packages\\sklearn\\metrics\\_regression.py:492: FutureWarning: 'squared' is deprecated in version 1.4 and will be removed in 1.6. To calculate the root mean squared error, use the function'root_mean_squared_error'.\n",
      "  warnings.warn(\n",
      "10:49:03 - cmdstanpy - INFO - Chain [1] start processing\n",
      "10:49:03 - cmdstanpy - INFO - Chain [1] done processing\n",
      "c:\\Users\\natra\\AppData\\Local\\Programs\\Python\\Python310\\lib\\site-packages\\sklearn\\metrics\\_regression.py:492: FutureWarning: 'squared' is deprecated in version 1.4 and will be removed in 1.6. To calculate the root mean squared error, use the function'root_mean_squared_error'.\n",
      "  warnings.warn(\n",
      "10:49:04 - cmdstanpy - INFO - Chain [1] start processing\n",
      "10:49:04 - cmdstanpy - INFO - Chain [1] done processing\n",
      "c:\\Users\\natra\\AppData\\Local\\Programs\\Python\\Python310\\lib\\site-packages\\sklearn\\metrics\\_regression.py:492: FutureWarning: 'squared' is deprecated in version 1.4 and will be removed in 1.6. To calculate the root mean squared error, use the function'root_mean_squared_error'.\n",
      "  warnings.warn(\n"
     ]
    },
    {
     "name": "stdout",
     "output_type": "stream",
     "text": [
      "R² Score: 0.701, RMSE: 2.822, MAE: 2.278\n",
      "\n",
      "Evaluating: changepoint_prior_scale=0.08, seasonality_prior_scale=1.1, seasonality_mode=multiplicative\n"
     ]
    },
    {
     "name": "stderr",
     "output_type": "stream",
     "text": [
      "10:49:05 - cmdstanpy - INFO - Chain [1] start processing\n",
      "10:49:05 - cmdstanpy - INFO - Chain [1] done processing\n",
      "c:\\Users\\natra\\AppData\\Local\\Programs\\Python\\Python310\\lib\\site-packages\\sklearn\\metrics\\_regression.py:492: FutureWarning: 'squared' is deprecated in version 1.4 and will be removed in 1.6. To calculate the root mean squared error, use the function'root_mean_squared_error'.\n",
      "  warnings.warn(\n",
      "10:49:05 - cmdstanpy - INFO - Chain [1] start processing\n",
      "10:49:05 - cmdstanpy - INFO - Chain [1] done processing\n",
      "c:\\Users\\natra\\AppData\\Local\\Programs\\Python\\Python310\\lib\\site-packages\\sklearn\\metrics\\_regression.py:492: FutureWarning: 'squared' is deprecated in version 1.4 and will be removed in 1.6. To calculate the root mean squared error, use the function'root_mean_squared_error'.\n",
      "  warnings.warn(\n",
      "10:49:06 - cmdstanpy - INFO - Chain [1] start processing\n",
      "10:49:06 - cmdstanpy - INFO - Chain [1] done processing\n",
      "c:\\Users\\natra\\AppData\\Local\\Programs\\Python\\Python310\\lib\\site-packages\\sklearn\\metrics\\_regression.py:492: FutureWarning: 'squared' is deprecated in version 1.4 and will be removed in 1.6. To calculate the root mean squared error, use the function'root_mean_squared_error'.\n",
      "  warnings.warn(\n",
      "10:49:06 - cmdstanpy - INFO - Chain [1] start processing\n",
      "10:49:06 - cmdstanpy - INFO - Chain [1] done processing\n",
      "c:\\Users\\natra\\AppData\\Local\\Programs\\Python\\Python310\\lib\\site-packages\\sklearn\\metrics\\_regression.py:492: FutureWarning: 'squared' is deprecated in version 1.4 and will be removed in 1.6. To calculate the root mean squared error, use the function'root_mean_squared_error'.\n",
      "  warnings.warn(\n",
      "10:49:07 - cmdstanpy - INFO - Chain [1] start processing\n",
      "10:49:07 - cmdstanpy - INFO - Chain [1] done processing\n",
      "c:\\Users\\natra\\AppData\\Local\\Programs\\Python\\Python310\\lib\\site-packages\\sklearn\\metrics\\_regression.py:492: FutureWarning: 'squared' is deprecated in version 1.4 and will be removed in 1.6. To calculate the root mean squared error, use the function'root_mean_squared_error'.\n",
      "  warnings.warn(\n"
     ]
    },
    {
     "name": "stdout",
     "output_type": "stream",
     "text": [
      "R² Score: 0.706, RMSE: 2.808, MAE: 2.279\n",
      "\n",
      "Evaluating: changepoint_prior_scale=0.08, seasonality_prior_scale=2.1, seasonality_mode=additive\n"
     ]
    },
    {
     "name": "stderr",
     "output_type": "stream",
     "text": [
      "10:49:08 - cmdstanpy - INFO - Chain [1] start processing\n",
      "10:49:08 - cmdstanpy - INFO - Chain [1] done processing\n",
      "c:\\Users\\natra\\AppData\\Local\\Programs\\Python\\Python310\\lib\\site-packages\\sklearn\\metrics\\_regression.py:492: FutureWarning: 'squared' is deprecated in version 1.4 and will be removed in 1.6. To calculate the root mean squared error, use the function'root_mean_squared_error'.\n",
      "  warnings.warn(\n",
      "10:49:08 - cmdstanpy - INFO - Chain [1] start processing\n",
      "10:49:08 - cmdstanpy - INFO - Chain [1] done processing\n",
      "c:\\Users\\natra\\AppData\\Local\\Programs\\Python\\Python310\\lib\\site-packages\\sklearn\\metrics\\_regression.py:492: FutureWarning: 'squared' is deprecated in version 1.4 and will be removed in 1.6. To calculate the root mean squared error, use the function'root_mean_squared_error'.\n",
      "  warnings.warn(\n",
      "10:49:09 - cmdstanpy - INFO - Chain [1] start processing\n",
      "10:49:09 - cmdstanpy - INFO - Chain [1] done processing\n",
      "c:\\Users\\natra\\AppData\\Local\\Programs\\Python\\Python310\\lib\\site-packages\\sklearn\\metrics\\_regression.py:492: FutureWarning: 'squared' is deprecated in version 1.4 and will be removed in 1.6. To calculate the root mean squared error, use the function'root_mean_squared_error'.\n",
      "  warnings.warn(\n",
      "10:49:09 - cmdstanpy - INFO - Chain [1] start processing\n",
      "10:49:10 - cmdstanpy - INFO - Chain [1] done processing\n",
      "c:\\Users\\natra\\AppData\\Local\\Programs\\Python\\Python310\\lib\\site-packages\\sklearn\\metrics\\_regression.py:492: FutureWarning: 'squared' is deprecated in version 1.4 and will be removed in 1.6. To calculate the root mean squared error, use the function'root_mean_squared_error'.\n",
      "  warnings.warn(\n",
      "10:49:10 - cmdstanpy - INFO - Chain [1] start processing\n",
      "10:49:10 - cmdstanpy - INFO - Chain [1] done processing\n",
      "c:\\Users\\natra\\AppData\\Local\\Programs\\Python\\Python310\\lib\\site-packages\\sklearn\\metrics\\_regression.py:492: FutureWarning: 'squared' is deprecated in version 1.4 and will be removed in 1.6. To calculate the root mean squared error, use the function'root_mean_squared_error'.\n",
      "  warnings.warn(\n"
     ]
    },
    {
     "name": "stdout",
     "output_type": "stream",
     "text": [
      "R² Score: 0.706, RMSE: 2.804, MAE: 2.263\n",
      "\n",
      "Evaluating: changepoint_prior_scale=0.08, seasonality_prior_scale=2.1, seasonality_mode=multiplicative\n"
     ]
    },
    {
     "name": "stderr",
     "output_type": "stream",
     "text": [
      "10:49:11 - cmdstanpy - INFO - Chain [1] start processing\n",
      "10:49:11 - cmdstanpy - INFO - Chain [1] done processing\n",
      "c:\\Users\\natra\\AppData\\Local\\Programs\\Python\\Python310\\lib\\site-packages\\sklearn\\metrics\\_regression.py:492: FutureWarning: 'squared' is deprecated in version 1.4 and will be removed in 1.6. To calculate the root mean squared error, use the function'root_mean_squared_error'.\n",
      "  warnings.warn(\n",
      "10:49:11 - cmdstanpy - INFO - Chain [1] start processing\n",
      "10:49:12 - cmdstanpy - INFO - Chain [1] done processing\n",
      "c:\\Users\\natra\\AppData\\Local\\Programs\\Python\\Python310\\lib\\site-packages\\sklearn\\metrics\\_regression.py:492: FutureWarning: 'squared' is deprecated in version 1.4 and will be removed in 1.6. To calculate the root mean squared error, use the function'root_mean_squared_error'.\n",
      "  warnings.warn(\n",
      "10:49:12 - cmdstanpy - INFO - Chain [1] start processing\n",
      "10:49:12 - cmdstanpy - INFO - Chain [1] done processing\n",
      "c:\\Users\\natra\\AppData\\Local\\Programs\\Python\\Python310\\lib\\site-packages\\sklearn\\metrics\\_regression.py:492: FutureWarning: 'squared' is deprecated in version 1.4 and will be removed in 1.6. To calculate the root mean squared error, use the function'root_mean_squared_error'.\n",
      "  warnings.warn(\n",
      "10:49:13 - cmdstanpy - INFO - Chain [1] start processing\n",
      "10:49:13 - cmdstanpy - INFO - Chain [1] done processing\n",
      "c:\\Users\\natra\\AppData\\Local\\Programs\\Python\\Python310\\lib\\site-packages\\sklearn\\metrics\\_regression.py:492: FutureWarning: 'squared' is deprecated in version 1.4 and will be removed in 1.6. To calculate the root mean squared error, use the function'root_mean_squared_error'.\n",
      "  warnings.warn(\n",
      "10:49:14 - cmdstanpy - INFO - Chain [1] start processing\n",
      "10:49:14 - cmdstanpy - INFO - Chain [1] done processing\n",
      "c:\\Users\\natra\\AppData\\Local\\Programs\\Python\\Python310\\lib\\site-packages\\sklearn\\metrics\\_regression.py:492: FutureWarning: 'squared' is deprecated in version 1.4 and will be removed in 1.6. To calculate the root mean squared error, use the function'root_mean_squared_error'.\n",
      "  warnings.warn(\n"
     ]
    },
    {
     "name": "stdout",
     "output_type": "stream",
     "text": [
      "R² Score: 0.708, RMSE: 2.800, MAE: 2.272\n",
      "\n",
      "Evaluating: changepoint_prior_scale=0.08, seasonality_prior_scale=3.1, seasonality_mode=additive\n"
     ]
    },
    {
     "name": "stderr",
     "output_type": "stream",
     "text": [
      "10:49:14 - cmdstanpy - INFO - Chain [1] start processing\n",
      "10:49:14 - cmdstanpy - INFO - Chain [1] done processing\n",
      "c:\\Users\\natra\\AppData\\Local\\Programs\\Python\\Python310\\lib\\site-packages\\sklearn\\metrics\\_regression.py:492: FutureWarning: 'squared' is deprecated in version 1.4 and will be removed in 1.6. To calculate the root mean squared error, use the function'root_mean_squared_error'.\n",
      "  warnings.warn(\n",
      "10:49:15 - cmdstanpy - INFO - Chain [1] start processing\n",
      "10:49:15 - cmdstanpy - INFO - Chain [1] done processing\n",
      "c:\\Users\\natra\\AppData\\Local\\Programs\\Python\\Python310\\lib\\site-packages\\sklearn\\metrics\\_regression.py:492: FutureWarning: 'squared' is deprecated in version 1.4 and will be removed in 1.6. To calculate the root mean squared error, use the function'root_mean_squared_error'.\n",
      "  warnings.warn(\n",
      "10:49:16 - cmdstanpy - INFO - Chain [1] start processing\n",
      "10:49:16 - cmdstanpy - INFO - Chain [1] done processing\n",
      "c:\\Users\\natra\\AppData\\Local\\Programs\\Python\\Python310\\lib\\site-packages\\sklearn\\metrics\\_regression.py:492: FutureWarning: 'squared' is deprecated in version 1.4 and will be removed in 1.6. To calculate the root mean squared error, use the function'root_mean_squared_error'.\n",
      "  warnings.warn(\n",
      "10:49:16 - cmdstanpy - INFO - Chain [1] start processing\n",
      "10:49:16 - cmdstanpy - INFO - Chain [1] done processing\n",
      "c:\\Users\\natra\\AppData\\Local\\Programs\\Python\\Python310\\lib\\site-packages\\sklearn\\metrics\\_regression.py:492: FutureWarning: 'squared' is deprecated in version 1.4 and will be removed in 1.6. To calculate the root mean squared error, use the function'root_mean_squared_error'.\n",
      "  warnings.warn(\n",
      "10:49:17 - cmdstanpy - INFO - Chain [1] start processing\n",
      "10:49:17 - cmdstanpy - INFO - Chain [1] done processing\n",
      "c:\\Users\\natra\\AppData\\Local\\Programs\\Python\\Python310\\lib\\site-packages\\sklearn\\metrics\\_regression.py:492: FutureWarning: 'squared' is deprecated in version 1.4 and will be removed in 1.6. To calculate the root mean squared error, use the function'root_mean_squared_error'.\n",
      "  warnings.warn(\n"
     ]
    },
    {
     "name": "stdout",
     "output_type": "stream",
     "text": [
      "R² Score: 0.705, RMSE: 2.809, MAE: 2.269\n",
      "\n",
      "Evaluating: changepoint_prior_scale=0.08, seasonality_prior_scale=3.1, seasonality_mode=multiplicative\n"
     ]
    },
    {
     "name": "stderr",
     "output_type": "stream",
     "text": [
      "10:49:18 - cmdstanpy - INFO - Chain [1] start processing\n",
      "10:49:18 - cmdstanpy - INFO - Chain [1] done processing\n",
      "c:\\Users\\natra\\AppData\\Local\\Programs\\Python\\Python310\\lib\\site-packages\\sklearn\\metrics\\_regression.py:492: FutureWarning: 'squared' is deprecated in version 1.4 and will be removed in 1.6. To calculate the root mean squared error, use the function'root_mean_squared_error'.\n",
      "  warnings.warn(\n",
      "10:49:18 - cmdstanpy - INFO - Chain [1] start processing\n",
      "10:49:19 - cmdstanpy - INFO - Chain [1] done processing\n",
      "c:\\Users\\natra\\AppData\\Local\\Programs\\Python\\Python310\\lib\\site-packages\\sklearn\\metrics\\_regression.py:492: FutureWarning: 'squared' is deprecated in version 1.4 and will be removed in 1.6. To calculate the root mean squared error, use the function'root_mean_squared_error'.\n",
      "  warnings.warn(\n",
      "10:49:19 - cmdstanpy - INFO - Chain [1] start processing\n",
      "10:49:19 - cmdstanpy - INFO - Chain [1] done processing\n",
      "c:\\Users\\natra\\AppData\\Local\\Programs\\Python\\Python310\\lib\\site-packages\\sklearn\\metrics\\_regression.py:492: FutureWarning: 'squared' is deprecated in version 1.4 and will be removed in 1.6. To calculate the root mean squared error, use the function'root_mean_squared_error'.\n",
      "  warnings.warn(\n",
      "10:49:20 - cmdstanpy - INFO - Chain [1] start processing\n",
      "10:49:20 - cmdstanpy - INFO - Chain [1] done processing\n",
      "c:\\Users\\natra\\AppData\\Local\\Programs\\Python\\Python310\\lib\\site-packages\\sklearn\\metrics\\_regression.py:492: FutureWarning: 'squared' is deprecated in version 1.4 and will be removed in 1.6. To calculate the root mean squared error, use the function'root_mean_squared_error'.\n",
      "  warnings.warn(\n",
      "10:49:21 - cmdstanpy - INFO - Chain [1] start processing\n",
      "10:49:21 - cmdstanpy - INFO - Chain [1] done processing\n",
      "c:\\Users\\natra\\AppData\\Local\\Programs\\Python\\Python310\\lib\\site-packages\\sklearn\\metrics\\_regression.py:492: FutureWarning: 'squared' is deprecated in version 1.4 and will be removed in 1.6. To calculate the root mean squared error, use the function'root_mean_squared_error'.\n",
      "  warnings.warn(\n"
     ]
    },
    {
     "name": "stdout",
     "output_type": "stream",
     "text": [
      "R² Score: 0.706, RMSE: 2.808, MAE: 2.279\n",
      "\n",
      "Evaluating: changepoint_prior_scale=0.08, seasonality_prior_scale=4.1, seasonality_mode=additive\n"
     ]
    },
    {
     "name": "stderr",
     "output_type": "stream",
     "text": [
      "10:49:21 - cmdstanpy - INFO - Chain [1] start processing\n",
      "10:49:21 - cmdstanpy - INFO - Chain [1] done processing\n",
      "c:\\Users\\natra\\AppData\\Local\\Programs\\Python\\Python310\\lib\\site-packages\\sklearn\\metrics\\_regression.py:492: FutureWarning: 'squared' is deprecated in version 1.4 and will be removed in 1.6. To calculate the root mean squared error, use the function'root_mean_squared_error'.\n",
      "  warnings.warn(\n",
      "10:49:22 - cmdstanpy - INFO - Chain [1] start processing\n",
      "10:49:22 - cmdstanpy - INFO - Chain [1] done processing\n",
      "c:\\Users\\natra\\AppData\\Local\\Programs\\Python\\Python310\\lib\\site-packages\\sklearn\\metrics\\_regression.py:492: FutureWarning: 'squared' is deprecated in version 1.4 and will be removed in 1.6. To calculate the root mean squared error, use the function'root_mean_squared_error'.\n",
      "  warnings.warn(\n",
      "10:49:22 - cmdstanpy - INFO - Chain [1] start processing\n",
      "10:49:23 - cmdstanpy - INFO - Chain [1] done processing\n",
      "c:\\Users\\natra\\AppData\\Local\\Programs\\Python\\Python310\\lib\\site-packages\\sklearn\\metrics\\_regression.py:492: FutureWarning: 'squared' is deprecated in version 1.4 and will be removed in 1.6. To calculate the root mean squared error, use the function'root_mean_squared_error'.\n",
      "  warnings.warn(\n",
      "10:49:23 - cmdstanpy - INFO - Chain [1] start processing\n",
      "10:49:23 - cmdstanpy - INFO - Chain [1] done processing\n",
      "c:\\Users\\natra\\AppData\\Local\\Programs\\Python\\Python310\\lib\\site-packages\\sklearn\\metrics\\_regression.py:492: FutureWarning: 'squared' is deprecated in version 1.4 and will be removed in 1.6. To calculate the root mean squared error, use the function'root_mean_squared_error'.\n",
      "  warnings.warn(\n",
      "10:49:24 - cmdstanpy - INFO - Chain [1] start processing\n",
      "10:49:24 - cmdstanpy - INFO - Chain [1] done processing\n",
      "c:\\Users\\natra\\AppData\\Local\\Programs\\Python\\Python310\\lib\\site-packages\\sklearn\\metrics\\_regression.py:492: FutureWarning: 'squared' is deprecated in version 1.4 and will be removed in 1.6. To calculate the root mean squared error, use the function'root_mean_squared_error'.\n",
      "  warnings.warn(\n"
     ]
    },
    {
     "name": "stdout",
     "output_type": "stream",
     "text": [
      "R² Score: 0.706, RMSE: 2.803, MAE: 2.262\n",
      "\n",
      "Evaluating: changepoint_prior_scale=0.08, seasonality_prior_scale=4.1, seasonality_mode=multiplicative\n"
     ]
    },
    {
     "name": "stderr",
     "output_type": "stream",
     "text": [
      "10:49:24 - cmdstanpy - INFO - Chain [1] start processing\n",
      "10:49:24 - cmdstanpy - INFO - Chain [1] done processing\n",
      "c:\\Users\\natra\\AppData\\Local\\Programs\\Python\\Python310\\lib\\site-packages\\sklearn\\metrics\\_regression.py:492: FutureWarning: 'squared' is deprecated in version 1.4 and will be removed in 1.6. To calculate the root mean squared error, use the function'root_mean_squared_error'.\n",
      "  warnings.warn(\n",
      "10:49:25 - cmdstanpy - INFO - Chain [1] start processing\n",
      "10:49:25 - cmdstanpy - INFO - Chain [1] done processing\n",
      "c:\\Users\\natra\\AppData\\Local\\Programs\\Python\\Python310\\lib\\site-packages\\sklearn\\metrics\\_regression.py:492: FutureWarning: 'squared' is deprecated in version 1.4 and will be removed in 1.6. To calculate the root mean squared error, use the function'root_mean_squared_error'.\n",
      "  warnings.warn(\n",
      "10:49:25 - cmdstanpy - INFO - Chain [1] start processing\n",
      "10:49:26 - cmdstanpy - INFO - Chain [1] done processing\n",
      "c:\\Users\\natra\\AppData\\Local\\Programs\\Python\\Python310\\lib\\site-packages\\sklearn\\metrics\\_regression.py:492: FutureWarning: 'squared' is deprecated in version 1.4 and will be removed in 1.6. To calculate the root mean squared error, use the function'root_mean_squared_error'.\n",
      "  warnings.warn(\n",
      "10:49:26 - cmdstanpy - INFO - Chain [1] start processing\n",
      "10:49:26 - cmdstanpy - INFO - Chain [1] done processing\n",
      "c:\\Users\\natra\\AppData\\Local\\Programs\\Python\\Python310\\lib\\site-packages\\sklearn\\metrics\\_regression.py:492: FutureWarning: 'squared' is deprecated in version 1.4 and will be removed in 1.6. To calculate the root mean squared error, use the function'root_mean_squared_error'.\n",
      "  warnings.warn(\n",
      "10:49:27 - cmdstanpy - INFO - Chain [1] start processing\n",
      "10:49:27 - cmdstanpy - INFO - Chain [1] done processing\n",
      "c:\\Users\\natra\\AppData\\Local\\Programs\\Python\\Python310\\lib\\site-packages\\sklearn\\metrics\\_regression.py:492: FutureWarning: 'squared' is deprecated in version 1.4 and will be removed in 1.6. To calculate the root mean squared error, use the function'root_mean_squared_error'.\n",
      "  warnings.warn(\n"
     ]
    },
    {
     "name": "stdout",
     "output_type": "stream",
     "text": [
      "R² Score: 0.704, RMSE: 2.815, MAE: 2.287\n",
      "\n",
      "Evaluating: changepoint_prior_scale=0.08, seasonality_prior_scale=5.1, seasonality_mode=additive\n"
     ]
    },
    {
     "name": "stderr",
     "output_type": "stream",
     "text": [
      "10:49:27 - cmdstanpy - INFO - Chain [1] start processing\n",
      "10:49:28 - cmdstanpy - INFO - Chain [1] done processing\n",
      "c:\\Users\\natra\\AppData\\Local\\Programs\\Python\\Python310\\lib\\site-packages\\sklearn\\metrics\\_regression.py:492: FutureWarning: 'squared' is deprecated in version 1.4 and will be removed in 1.6. To calculate the root mean squared error, use the function'root_mean_squared_error'.\n",
      "  warnings.warn(\n",
      "10:49:28 - cmdstanpy - INFO - Chain [1] start processing\n",
      "10:49:28 - cmdstanpy - INFO - Chain [1] done processing\n",
      "c:\\Users\\natra\\AppData\\Local\\Programs\\Python\\Python310\\lib\\site-packages\\sklearn\\metrics\\_regression.py:492: FutureWarning: 'squared' is deprecated in version 1.4 and will be removed in 1.6. To calculate the root mean squared error, use the function'root_mean_squared_error'.\n",
      "  warnings.warn(\n",
      "10:49:29 - cmdstanpy - INFO - Chain [1] start processing\n",
      "10:49:29 - cmdstanpy - INFO - Chain [1] done processing\n",
      "c:\\Users\\natra\\AppData\\Local\\Programs\\Python\\Python310\\lib\\site-packages\\sklearn\\metrics\\_regression.py:492: FutureWarning: 'squared' is deprecated in version 1.4 and will be removed in 1.6. To calculate the root mean squared error, use the function'root_mean_squared_error'.\n",
      "  warnings.warn(\n",
      "10:49:29 - cmdstanpy - INFO - Chain [1] start processing\n",
      "10:49:29 - cmdstanpy - INFO - Chain [1] done processing\n",
      "c:\\Users\\natra\\AppData\\Local\\Programs\\Python\\Python310\\lib\\site-packages\\sklearn\\metrics\\_regression.py:492: FutureWarning: 'squared' is deprecated in version 1.4 and will be removed in 1.6. To calculate the root mean squared error, use the function'root_mean_squared_error'.\n",
      "  warnings.warn(\n",
      "10:49:30 - cmdstanpy - INFO - Chain [1] start processing\n",
      "10:49:30 - cmdstanpy - INFO - Chain [1] done processing\n",
      "c:\\Users\\natra\\AppData\\Local\\Programs\\Python\\Python310\\lib\\site-packages\\sklearn\\metrics\\_regression.py:492: FutureWarning: 'squared' is deprecated in version 1.4 and will be removed in 1.6. To calculate the root mean squared error, use the function'root_mean_squared_error'.\n",
      "  warnings.warn(\n"
     ]
    },
    {
     "name": "stdout",
     "output_type": "stream",
     "text": [
      "R² Score: 0.707, RMSE: 2.801, MAE: 2.261\n",
      "\n",
      "Evaluating: changepoint_prior_scale=0.08, seasonality_prior_scale=5.1, seasonality_mode=multiplicative\n"
     ]
    },
    {
     "name": "stderr",
     "output_type": "stream",
     "text": [
      "10:49:30 - cmdstanpy - INFO - Chain [1] start processing\n",
      "10:49:31 - cmdstanpy - INFO - Chain [1] done processing\n",
      "c:\\Users\\natra\\AppData\\Local\\Programs\\Python\\Python310\\lib\\site-packages\\sklearn\\metrics\\_regression.py:492: FutureWarning: 'squared' is deprecated in version 1.4 and will be removed in 1.6. To calculate the root mean squared error, use the function'root_mean_squared_error'.\n",
      "  warnings.warn(\n",
      "10:49:31 - cmdstanpy - INFO - Chain [1] start processing\n",
      "10:49:31 - cmdstanpy - INFO - Chain [1] done processing\n",
      "c:\\Users\\natra\\AppData\\Local\\Programs\\Python\\Python310\\lib\\site-packages\\sklearn\\metrics\\_regression.py:492: FutureWarning: 'squared' is deprecated in version 1.4 and will be removed in 1.6. To calculate the root mean squared error, use the function'root_mean_squared_error'.\n",
      "  warnings.warn(\n",
      "10:49:32 - cmdstanpy - INFO - Chain [1] start processing\n",
      "10:49:32 - cmdstanpy - INFO - Chain [1] done processing\n",
      "c:\\Users\\natra\\AppData\\Local\\Programs\\Python\\Python310\\lib\\site-packages\\sklearn\\metrics\\_regression.py:492: FutureWarning: 'squared' is deprecated in version 1.4 and will be removed in 1.6. To calculate the root mean squared error, use the function'root_mean_squared_error'.\n",
      "  warnings.warn(\n",
      "10:49:32 - cmdstanpy - INFO - Chain [1] start processing\n",
      "10:49:32 - cmdstanpy - INFO - Chain [1] done processing\n",
      "c:\\Users\\natra\\AppData\\Local\\Programs\\Python\\Python310\\lib\\site-packages\\sklearn\\metrics\\_regression.py:492: FutureWarning: 'squared' is deprecated in version 1.4 and will be removed in 1.6. To calculate the root mean squared error, use the function'root_mean_squared_error'.\n",
      "  warnings.warn(\n",
      "10:49:33 - cmdstanpy - INFO - Chain [1] start processing\n",
      "10:49:33 - cmdstanpy - INFO - Chain [1] done processing\n",
      "c:\\Users\\natra\\AppData\\Local\\Programs\\Python\\Python310\\lib\\site-packages\\sklearn\\metrics\\_regression.py:492: FutureWarning: 'squared' is deprecated in version 1.4 and will be removed in 1.6. To calculate the root mean squared error, use the function'root_mean_squared_error'.\n",
      "  warnings.warn(\n"
     ]
    },
    {
     "name": "stdout",
     "output_type": "stream",
     "text": [
      "R² Score: 0.705, RMSE: 2.814, MAE: 2.285\n",
      "\n",
      "Evaluating: changepoint_prior_scale=0.08, seasonality_prior_scale=6.1, seasonality_mode=additive\n"
     ]
    },
    {
     "name": "stderr",
     "output_type": "stream",
     "text": [
      "10:49:34 - cmdstanpy - INFO - Chain [1] start processing\n",
      "10:49:34 - cmdstanpy - INFO - Chain [1] done processing\n",
      "c:\\Users\\natra\\AppData\\Local\\Programs\\Python\\Python310\\lib\\site-packages\\sklearn\\metrics\\_regression.py:492: FutureWarning: 'squared' is deprecated in version 1.4 and will be removed in 1.6. To calculate the root mean squared error, use the function'root_mean_squared_error'.\n",
      "  warnings.warn(\n",
      "10:49:34 - cmdstanpy - INFO - Chain [1] start processing\n",
      "10:49:34 - cmdstanpy - INFO - Chain [1] done processing\n",
      "c:\\Users\\natra\\AppData\\Local\\Programs\\Python\\Python310\\lib\\site-packages\\sklearn\\metrics\\_regression.py:492: FutureWarning: 'squared' is deprecated in version 1.4 and will be removed in 1.6. To calculate the root mean squared error, use the function'root_mean_squared_error'.\n",
      "  warnings.warn(\n",
      "10:49:35 - cmdstanpy - INFO - Chain [1] start processing\n",
      "10:49:35 - cmdstanpy - INFO - Chain [1] done processing\n",
      "c:\\Users\\natra\\AppData\\Local\\Programs\\Python\\Python310\\lib\\site-packages\\sklearn\\metrics\\_regression.py:492: FutureWarning: 'squared' is deprecated in version 1.4 and will be removed in 1.6. To calculate the root mean squared error, use the function'root_mean_squared_error'.\n",
      "  warnings.warn(\n",
      "10:49:36 - cmdstanpy - INFO - Chain [1] start processing\n",
      "10:49:36 - cmdstanpy - INFO - Chain [1] done processing\n",
      "c:\\Users\\natra\\AppData\\Local\\Programs\\Python\\Python310\\lib\\site-packages\\sklearn\\metrics\\_regression.py:492: FutureWarning: 'squared' is deprecated in version 1.4 and will be removed in 1.6. To calculate the root mean squared error, use the function'root_mean_squared_error'.\n",
      "  warnings.warn(\n",
      "10:49:36 - cmdstanpy - INFO - Chain [1] start processing\n",
      "10:49:36 - cmdstanpy - INFO - Chain [1] done processing\n",
      "c:\\Users\\natra\\AppData\\Local\\Programs\\Python\\Python310\\lib\\site-packages\\sklearn\\metrics\\_regression.py:492: FutureWarning: 'squared' is deprecated in version 1.4 and will be removed in 1.6. To calculate the root mean squared error, use the function'root_mean_squared_error'.\n",
      "  warnings.warn(\n"
     ]
    },
    {
     "name": "stdout",
     "output_type": "stream",
     "text": [
      "R² Score: 0.702, RMSE: 2.822, MAE: 2.277\n",
      "\n",
      "Evaluating: changepoint_prior_scale=0.08, seasonality_prior_scale=6.1, seasonality_mode=multiplicative\n"
     ]
    },
    {
     "name": "stderr",
     "output_type": "stream",
     "text": [
      "10:49:37 - cmdstanpy - INFO - Chain [1] start processing\n",
      "10:49:37 - cmdstanpy - INFO - Chain [1] done processing\n",
      "c:\\Users\\natra\\AppData\\Local\\Programs\\Python\\Python310\\lib\\site-packages\\sklearn\\metrics\\_regression.py:492: FutureWarning: 'squared' is deprecated in version 1.4 and will be removed in 1.6. To calculate the root mean squared error, use the function'root_mean_squared_error'.\n",
      "  warnings.warn(\n",
      "10:49:37 - cmdstanpy - INFO - Chain [1] start processing\n",
      "10:49:38 - cmdstanpy - INFO - Chain [1] done processing\n",
      "c:\\Users\\natra\\AppData\\Local\\Programs\\Python\\Python310\\lib\\site-packages\\sklearn\\metrics\\_regression.py:492: FutureWarning: 'squared' is deprecated in version 1.4 and will be removed in 1.6. To calculate the root mean squared error, use the function'root_mean_squared_error'.\n",
      "  warnings.warn(\n",
      "10:49:38 - cmdstanpy - INFO - Chain [1] start processing\n",
      "10:49:38 - cmdstanpy - INFO - Chain [1] done processing\n",
      "c:\\Users\\natra\\AppData\\Local\\Programs\\Python\\Python310\\lib\\site-packages\\sklearn\\metrics\\_regression.py:492: FutureWarning: 'squared' is deprecated in version 1.4 and will be removed in 1.6. To calculate the root mean squared error, use the function'root_mean_squared_error'.\n",
      "  warnings.warn(\n",
      "10:49:39 - cmdstanpy - INFO - Chain [1] start processing\n",
      "10:49:39 - cmdstanpy - INFO - Chain [1] done processing\n",
      "c:\\Users\\natra\\AppData\\Local\\Programs\\Python\\Python310\\lib\\site-packages\\sklearn\\metrics\\_regression.py:492: FutureWarning: 'squared' is deprecated in version 1.4 and will be removed in 1.6. To calculate the root mean squared error, use the function'root_mean_squared_error'.\n",
      "  warnings.warn(\n",
      "10:49:39 - cmdstanpy - INFO - Chain [1] start processing\n",
      "10:49:39 - cmdstanpy - INFO - Chain [1] done processing\n",
      "c:\\Users\\natra\\AppData\\Local\\Programs\\Python\\Python310\\lib\\site-packages\\sklearn\\metrics\\_regression.py:492: FutureWarning: 'squared' is deprecated in version 1.4 and will be removed in 1.6. To calculate the root mean squared error, use the function'root_mean_squared_error'.\n",
      "  warnings.warn(\n"
     ]
    },
    {
     "name": "stdout",
     "output_type": "stream",
     "text": [
      "R² Score: 0.707, RMSE: 2.806, MAE: 2.279\n",
      "\n",
      "Evaluating: changepoint_prior_scale=0.08, seasonality_prior_scale=7.1, seasonality_mode=additive\n"
     ]
    },
    {
     "name": "stderr",
     "output_type": "stream",
     "text": [
      "10:49:40 - cmdstanpy - INFO - Chain [1] start processing\n",
      "10:49:40 - cmdstanpy - INFO - Chain [1] done processing\n",
      "c:\\Users\\natra\\AppData\\Local\\Programs\\Python\\Python310\\lib\\site-packages\\sklearn\\metrics\\_regression.py:492: FutureWarning: 'squared' is deprecated in version 1.4 and will be removed in 1.6. To calculate the root mean squared error, use the function'root_mean_squared_error'.\n",
      "  warnings.warn(\n",
      "10:49:41 - cmdstanpy - INFO - Chain [1] start processing\n",
      "10:49:41 - cmdstanpy - INFO - Chain [1] done processing\n",
      "c:\\Users\\natra\\AppData\\Local\\Programs\\Python\\Python310\\lib\\site-packages\\sklearn\\metrics\\_regression.py:492: FutureWarning: 'squared' is deprecated in version 1.4 and will be removed in 1.6. To calculate the root mean squared error, use the function'root_mean_squared_error'.\n",
      "  warnings.warn(\n",
      "10:49:41 - cmdstanpy - INFO - Chain [1] start processing\n",
      "10:49:41 - cmdstanpy - INFO - Chain [1] done processing\n",
      "c:\\Users\\natra\\AppData\\Local\\Programs\\Python\\Python310\\lib\\site-packages\\sklearn\\metrics\\_regression.py:492: FutureWarning: 'squared' is deprecated in version 1.4 and will be removed in 1.6. To calculate the root mean squared error, use the function'root_mean_squared_error'.\n",
      "  warnings.warn(\n",
      "10:49:42 - cmdstanpy - INFO - Chain [1] start processing\n",
      "10:49:42 - cmdstanpy - INFO - Chain [1] done processing\n",
      "c:\\Users\\natra\\AppData\\Local\\Programs\\Python\\Python310\\lib\\site-packages\\sklearn\\metrics\\_regression.py:492: FutureWarning: 'squared' is deprecated in version 1.4 and will be removed in 1.6. To calculate the root mean squared error, use the function'root_mean_squared_error'.\n",
      "  warnings.warn(\n",
      "10:49:42 - cmdstanpy - INFO - Chain [1] start processing\n",
      "10:49:42 - cmdstanpy - INFO - Chain [1] done processing\n",
      "c:\\Users\\natra\\AppData\\Local\\Programs\\Python\\Python310\\lib\\site-packages\\sklearn\\metrics\\_regression.py:492: FutureWarning: 'squared' is deprecated in version 1.4 and will be removed in 1.6. To calculate the root mean squared error, use the function'root_mean_squared_error'.\n",
      "  warnings.warn(\n"
     ]
    },
    {
     "name": "stdout",
     "output_type": "stream",
     "text": [
      "R² Score: 0.703, RMSE: 2.818, MAE: 2.274\n",
      "\n",
      "Evaluating: changepoint_prior_scale=0.08, seasonality_prior_scale=7.1, seasonality_mode=multiplicative\n"
     ]
    },
    {
     "name": "stderr",
     "output_type": "stream",
     "text": [
      "10:49:43 - cmdstanpy - INFO - Chain [1] start processing\n",
      "10:49:43 - cmdstanpy - INFO - Chain [1] done processing\n",
      "c:\\Users\\natra\\AppData\\Local\\Programs\\Python\\Python310\\lib\\site-packages\\sklearn\\metrics\\_regression.py:492: FutureWarning: 'squared' is deprecated in version 1.4 and will be removed in 1.6. To calculate the root mean squared error, use the function'root_mean_squared_error'.\n",
      "  warnings.warn(\n",
      "10:49:44 - cmdstanpy - INFO - Chain [1] start processing\n",
      "10:49:44 - cmdstanpy - INFO - Chain [1] done processing\n",
      "c:\\Users\\natra\\AppData\\Local\\Programs\\Python\\Python310\\lib\\site-packages\\sklearn\\metrics\\_regression.py:492: FutureWarning: 'squared' is deprecated in version 1.4 and will be removed in 1.6. To calculate the root mean squared error, use the function'root_mean_squared_error'.\n",
      "  warnings.warn(\n",
      "10:49:44 - cmdstanpy - INFO - Chain [1] start processing\n",
      "10:49:44 - cmdstanpy - INFO - Chain [1] done processing\n",
      "c:\\Users\\natra\\AppData\\Local\\Programs\\Python\\Python310\\lib\\site-packages\\sklearn\\metrics\\_regression.py:492: FutureWarning: 'squared' is deprecated in version 1.4 and will be removed in 1.6. To calculate the root mean squared error, use the function'root_mean_squared_error'.\n",
      "  warnings.warn(\n",
      "10:49:45 - cmdstanpy - INFO - Chain [1] start processing\n",
      "10:49:45 - cmdstanpy - INFO - Chain [1] done processing\n",
      "c:\\Users\\natra\\AppData\\Local\\Programs\\Python\\Python310\\lib\\site-packages\\sklearn\\metrics\\_regression.py:492: FutureWarning: 'squared' is deprecated in version 1.4 and will be removed in 1.6. To calculate the root mean squared error, use the function'root_mean_squared_error'.\n",
      "  warnings.warn(\n",
      "10:49:46 - cmdstanpy - INFO - Chain [1] start processing\n",
      "10:49:46 - cmdstanpy - INFO - Chain [1] done processing\n",
      "c:\\Users\\natra\\AppData\\Local\\Programs\\Python\\Python310\\lib\\site-packages\\sklearn\\metrics\\_regression.py:492: FutureWarning: 'squared' is deprecated in version 1.4 and will be removed in 1.6. To calculate the root mean squared error, use the function'root_mean_squared_error'.\n",
      "  warnings.warn(\n"
     ]
    },
    {
     "name": "stdout",
     "output_type": "stream",
     "text": [
      "R² Score: 0.714, RMSE: 2.771, MAE: 2.247\n",
      "\n",
      "Evaluating: changepoint_prior_scale=0.08, seasonality_prior_scale=8.1, seasonality_mode=additive\n"
     ]
    },
    {
     "name": "stderr",
     "output_type": "stream",
     "text": [
      "10:49:46 - cmdstanpy - INFO - Chain [1] start processing\n",
      "10:49:46 - cmdstanpy - INFO - Chain [1] done processing\n",
      "c:\\Users\\natra\\AppData\\Local\\Programs\\Python\\Python310\\lib\\site-packages\\sklearn\\metrics\\_regression.py:492: FutureWarning: 'squared' is deprecated in version 1.4 and will be removed in 1.6. To calculate the root mean squared error, use the function'root_mean_squared_error'.\n",
      "  warnings.warn(\n",
      "10:49:47 - cmdstanpy - INFO - Chain [1] start processing\n",
      "10:49:47 - cmdstanpy - INFO - Chain [1] done processing\n",
      "c:\\Users\\natra\\AppData\\Local\\Programs\\Python\\Python310\\lib\\site-packages\\sklearn\\metrics\\_regression.py:492: FutureWarning: 'squared' is deprecated in version 1.4 and will be removed in 1.6. To calculate the root mean squared error, use the function'root_mean_squared_error'.\n",
      "  warnings.warn(\n",
      "10:49:47 - cmdstanpy - INFO - Chain [1] start processing\n",
      "10:49:47 - cmdstanpy - INFO - Chain [1] done processing\n",
      "c:\\Users\\natra\\AppData\\Local\\Programs\\Python\\Python310\\lib\\site-packages\\sklearn\\metrics\\_regression.py:492: FutureWarning: 'squared' is deprecated in version 1.4 and will be removed in 1.6. To calculate the root mean squared error, use the function'root_mean_squared_error'.\n",
      "  warnings.warn(\n",
      "10:49:48 - cmdstanpy - INFO - Chain [1] start processing\n",
      "10:49:48 - cmdstanpy - INFO - Chain [1] done processing\n",
      "c:\\Users\\natra\\AppData\\Local\\Programs\\Python\\Python310\\lib\\site-packages\\sklearn\\metrics\\_regression.py:492: FutureWarning: 'squared' is deprecated in version 1.4 and will be removed in 1.6. To calculate the root mean squared error, use the function'root_mean_squared_error'.\n",
      "  warnings.warn(\n",
      "10:49:49 - cmdstanpy - INFO - Chain [1] start processing\n",
      "10:49:49 - cmdstanpy - INFO - Chain [1] done processing\n",
      "c:\\Users\\natra\\AppData\\Local\\Programs\\Python\\Python310\\lib\\site-packages\\sklearn\\metrics\\_regression.py:492: FutureWarning: 'squared' is deprecated in version 1.4 and will be removed in 1.6. To calculate the root mean squared error, use the function'root_mean_squared_error'.\n",
      "  warnings.warn(\n"
     ]
    },
    {
     "name": "stdout",
     "output_type": "stream",
     "text": [
      "R² Score: 0.705, RMSE: 2.808, MAE: 2.268\n",
      "\n",
      "Evaluating: changepoint_prior_scale=0.08, seasonality_prior_scale=8.1, seasonality_mode=multiplicative\n"
     ]
    },
    {
     "name": "stderr",
     "output_type": "stream",
     "text": [
      "10:49:49 - cmdstanpy - INFO - Chain [1] start processing\n",
      "10:49:49 - cmdstanpy - INFO - Chain [1] done processing\n",
      "c:\\Users\\natra\\AppData\\Local\\Programs\\Python\\Python310\\lib\\site-packages\\sklearn\\metrics\\_regression.py:492: FutureWarning: 'squared' is deprecated in version 1.4 and will be removed in 1.6. To calculate the root mean squared error, use the function'root_mean_squared_error'.\n",
      "  warnings.warn(\n",
      "10:49:50 - cmdstanpy - INFO - Chain [1] start processing\n",
      "10:49:50 - cmdstanpy - INFO - Chain [1] done processing\n",
      "c:\\Users\\natra\\AppData\\Local\\Programs\\Python\\Python310\\lib\\site-packages\\sklearn\\metrics\\_regression.py:492: FutureWarning: 'squared' is deprecated in version 1.4 and will be removed in 1.6. To calculate the root mean squared error, use the function'root_mean_squared_error'.\n",
      "  warnings.warn(\n",
      "10:49:50 - cmdstanpy - INFO - Chain [1] start processing\n",
      "10:49:50 - cmdstanpy - INFO - Chain [1] done processing\n",
      "c:\\Users\\natra\\AppData\\Local\\Programs\\Python\\Python310\\lib\\site-packages\\sklearn\\metrics\\_regression.py:492: FutureWarning: 'squared' is deprecated in version 1.4 and will be removed in 1.6. To calculate the root mean squared error, use the function'root_mean_squared_error'.\n",
      "  warnings.warn(\n",
      "10:49:51 - cmdstanpy - INFO - Chain [1] start processing\n",
      "10:49:51 - cmdstanpy - INFO - Chain [1] done processing\n",
      "c:\\Users\\natra\\AppData\\Local\\Programs\\Python\\Python310\\lib\\site-packages\\sklearn\\metrics\\_regression.py:492: FutureWarning: 'squared' is deprecated in version 1.4 and will be removed in 1.6. To calculate the root mean squared error, use the function'root_mean_squared_error'.\n",
      "  warnings.warn(\n",
      "10:49:52 - cmdstanpy - INFO - Chain [1] start processing\n",
      "10:49:52 - cmdstanpy - INFO - Chain [1] done processing\n",
      "c:\\Users\\natra\\AppData\\Local\\Programs\\Python\\Python310\\lib\\site-packages\\sklearn\\metrics\\_regression.py:492: FutureWarning: 'squared' is deprecated in version 1.4 and will be removed in 1.6. To calculate the root mean squared error, use the function'root_mean_squared_error'.\n",
      "  warnings.warn(\n"
     ]
    },
    {
     "name": "stdout",
     "output_type": "stream",
     "text": [
      "R² Score: 0.704, RMSE: 2.817, MAE: 2.290\n",
      "\n",
      "Evaluating: changepoint_prior_scale=0.08, seasonality_prior_scale=9.1, seasonality_mode=additive\n"
     ]
    },
    {
     "name": "stderr",
     "output_type": "stream",
     "text": [
      "10:49:53 - cmdstanpy - INFO - Chain [1] start processing\n",
      "10:49:53 - cmdstanpy - INFO - Chain [1] done processing\n",
      "c:\\Users\\natra\\AppData\\Local\\Programs\\Python\\Python310\\lib\\site-packages\\sklearn\\metrics\\_regression.py:492: FutureWarning: 'squared' is deprecated in version 1.4 and will be removed in 1.6. To calculate the root mean squared error, use the function'root_mean_squared_error'.\n",
      "  warnings.warn(\n",
      "10:49:53 - cmdstanpy - INFO - Chain [1] start processing\n",
      "10:49:53 - cmdstanpy - INFO - Chain [1] done processing\n",
      "c:\\Users\\natra\\AppData\\Local\\Programs\\Python\\Python310\\lib\\site-packages\\sklearn\\metrics\\_regression.py:492: FutureWarning: 'squared' is deprecated in version 1.4 and will be removed in 1.6. To calculate the root mean squared error, use the function'root_mean_squared_error'.\n",
      "  warnings.warn(\n",
      "10:49:54 - cmdstanpy - INFO - Chain [1] start processing\n",
      "10:49:54 - cmdstanpy - INFO - Chain [1] done processing\n",
      "c:\\Users\\natra\\AppData\\Local\\Programs\\Python\\Python310\\lib\\site-packages\\sklearn\\metrics\\_regression.py:492: FutureWarning: 'squared' is deprecated in version 1.4 and will be removed in 1.6. To calculate the root mean squared error, use the function'root_mean_squared_error'.\n",
      "  warnings.warn(\n",
      "10:49:55 - cmdstanpy - INFO - Chain [1] start processing\n",
      "10:49:55 - cmdstanpy - INFO - Chain [1] done processing\n",
      "c:\\Users\\natra\\AppData\\Local\\Programs\\Python\\Python310\\lib\\site-packages\\sklearn\\metrics\\_regression.py:492: FutureWarning: 'squared' is deprecated in version 1.4 and will be removed in 1.6. To calculate the root mean squared error, use the function'root_mean_squared_error'.\n",
      "  warnings.warn(\n",
      "10:49:55 - cmdstanpy - INFO - Chain [1] start processing\n",
      "10:49:55 - cmdstanpy - INFO - Chain [1] done processing\n",
      "c:\\Users\\natra\\AppData\\Local\\Programs\\Python\\Python310\\lib\\site-packages\\sklearn\\metrics\\_regression.py:492: FutureWarning: 'squared' is deprecated in version 1.4 and will be removed in 1.6. To calculate the root mean squared error, use the function'root_mean_squared_error'.\n",
      "  warnings.warn(\n"
     ]
    },
    {
     "name": "stdout",
     "output_type": "stream",
     "text": [
      "R² Score: 0.703, RMSE: 2.818, MAE: 2.274\n",
      "\n",
      "Evaluating: changepoint_prior_scale=0.08, seasonality_prior_scale=9.1, seasonality_mode=multiplicative\n"
     ]
    },
    {
     "name": "stderr",
     "output_type": "stream",
     "text": [
      "10:49:56 - cmdstanpy - INFO - Chain [1] start processing\n",
      "10:49:56 - cmdstanpy - INFO - Chain [1] done processing\n",
      "c:\\Users\\natra\\AppData\\Local\\Programs\\Python\\Python310\\lib\\site-packages\\sklearn\\metrics\\_regression.py:492: FutureWarning: 'squared' is deprecated in version 1.4 and will be removed in 1.6. To calculate the root mean squared error, use the function'root_mean_squared_error'.\n",
      "  warnings.warn(\n",
      "10:49:57 - cmdstanpy - INFO - Chain [1] start processing\n",
      "10:49:57 - cmdstanpy - INFO - Chain [1] done processing\n",
      "c:\\Users\\natra\\AppData\\Local\\Programs\\Python\\Python310\\lib\\site-packages\\sklearn\\metrics\\_regression.py:492: FutureWarning: 'squared' is deprecated in version 1.4 and will be removed in 1.6. To calculate the root mean squared error, use the function'root_mean_squared_error'.\n",
      "  warnings.warn(\n",
      "10:49:57 - cmdstanpy - INFO - Chain [1] start processing\n",
      "10:49:57 - cmdstanpy - INFO - Chain [1] done processing\n",
      "c:\\Users\\natra\\AppData\\Local\\Programs\\Python\\Python310\\lib\\site-packages\\sklearn\\metrics\\_regression.py:492: FutureWarning: 'squared' is deprecated in version 1.4 and will be removed in 1.6. To calculate the root mean squared error, use the function'root_mean_squared_error'.\n",
      "  warnings.warn(\n",
      "10:49:58 - cmdstanpy - INFO - Chain [1] start processing\n",
      "10:49:58 - cmdstanpy - INFO - Chain [1] done processing\n",
      "c:\\Users\\natra\\AppData\\Local\\Programs\\Python\\Python310\\lib\\site-packages\\sklearn\\metrics\\_regression.py:492: FutureWarning: 'squared' is deprecated in version 1.4 and will be removed in 1.6. To calculate the root mean squared error, use the function'root_mean_squared_error'.\n",
      "  warnings.warn(\n",
      "10:49:59 - cmdstanpy - INFO - Chain [1] start processing\n",
      "10:49:59 - cmdstanpy - INFO - Chain [1] done processing\n",
      "c:\\Users\\natra\\AppData\\Local\\Programs\\Python\\Python310\\lib\\site-packages\\sklearn\\metrics\\_regression.py:492: FutureWarning: 'squared' is deprecated in version 1.4 and will be removed in 1.6. To calculate the root mean squared error, use the function'root_mean_squared_error'.\n",
      "  warnings.warn(\n"
     ]
    },
    {
     "name": "stdout",
     "output_type": "stream",
     "text": [
      "R² Score: 0.706, RMSE: 2.809, MAE: 2.280\n",
      "\n",
      "Evaluating: changepoint_prior_scale=0.08, seasonality_prior_scale=10.1, seasonality_mode=additive\n"
     ]
    },
    {
     "name": "stderr",
     "output_type": "stream",
     "text": [
      "10:49:59 - cmdstanpy - INFO - Chain [1] start processing\n",
      "10:50:00 - cmdstanpy - INFO - Chain [1] done processing\n",
      "c:\\Users\\natra\\AppData\\Local\\Programs\\Python\\Python310\\lib\\site-packages\\sklearn\\metrics\\_regression.py:492: FutureWarning: 'squared' is deprecated in version 1.4 and will be removed in 1.6. To calculate the root mean squared error, use the function'root_mean_squared_error'.\n",
      "  warnings.warn(\n",
      "10:50:00 - cmdstanpy - INFO - Chain [1] start processing\n",
      "10:50:00 - cmdstanpy - INFO - Chain [1] done processing\n",
      "c:\\Users\\natra\\AppData\\Local\\Programs\\Python\\Python310\\lib\\site-packages\\sklearn\\metrics\\_regression.py:492: FutureWarning: 'squared' is deprecated in version 1.4 and will be removed in 1.6. To calculate the root mean squared error, use the function'root_mean_squared_error'.\n",
      "  warnings.warn(\n",
      "10:50:01 - cmdstanpy - INFO - Chain [1] start processing\n",
      "10:50:01 - cmdstanpy - INFO - Chain [1] done processing\n",
      "c:\\Users\\natra\\AppData\\Local\\Programs\\Python\\Python310\\lib\\site-packages\\sklearn\\metrics\\_regression.py:492: FutureWarning: 'squared' is deprecated in version 1.4 and will be removed in 1.6. To calculate the root mean squared error, use the function'root_mean_squared_error'.\n",
      "  warnings.warn(\n",
      "10:50:01 - cmdstanpy - INFO - Chain [1] start processing\n",
      "10:50:02 - cmdstanpy - INFO - Chain [1] done processing\n",
      "c:\\Users\\natra\\AppData\\Local\\Programs\\Python\\Python310\\lib\\site-packages\\sklearn\\metrics\\_regression.py:492: FutureWarning: 'squared' is deprecated in version 1.4 and will be removed in 1.6. To calculate the root mean squared error, use the function'root_mean_squared_error'.\n",
      "  warnings.warn(\n",
      "10:50:02 - cmdstanpy - INFO - Chain [1] start processing\n",
      "10:50:02 - cmdstanpy - INFO - Chain [1] done processing\n",
      "c:\\Users\\natra\\AppData\\Local\\Programs\\Python\\Python310\\lib\\site-packages\\sklearn\\metrics\\_regression.py:492: FutureWarning: 'squared' is deprecated in version 1.4 and will be removed in 1.6. To calculate the root mean squared error, use the function'root_mean_squared_error'.\n",
      "  warnings.warn(\n"
     ]
    },
    {
     "name": "stdout",
     "output_type": "stream",
     "text": [
      "R² Score: 0.701, RMSE: 2.825, MAE: 2.281\n",
      "\n",
      "Evaluating: changepoint_prior_scale=0.08, seasonality_prior_scale=10.1, seasonality_mode=multiplicative\n"
     ]
    },
    {
     "name": "stderr",
     "output_type": "stream",
     "text": [
      "10:50:03 - cmdstanpy - INFO - Chain [1] start processing\n",
      "10:50:03 - cmdstanpy - INFO - Chain [1] done processing\n",
      "c:\\Users\\natra\\AppData\\Local\\Programs\\Python\\Python310\\lib\\site-packages\\sklearn\\metrics\\_regression.py:492: FutureWarning: 'squared' is deprecated in version 1.4 and will be removed in 1.6. To calculate the root mean squared error, use the function'root_mean_squared_error'.\n",
      "  warnings.warn(\n",
      "10:50:03 - cmdstanpy - INFO - Chain [1] start processing\n",
      "10:50:04 - cmdstanpy - INFO - Chain [1] done processing\n",
      "c:\\Users\\natra\\AppData\\Local\\Programs\\Python\\Python310\\lib\\site-packages\\sklearn\\metrics\\_regression.py:492: FutureWarning: 'squared' is deprecated in version 1.4 and will be removed in 1.6. To calculate the root mean squared error, use the function'root_mean_squared_error'.\n",
      "  warnings.warn(\n",
      "10:50:04 - cmdstanpy - INFO - Chain [1] start processing\n",
      "10:50:04 - cmdstanpy - INFO - Chain [1] done processing\n",
      "c:\\Users\\natra\\AppData\\Local\\Programs\\Python\\Python310\\lib\\site-packages\\sklearn\\metrics\\_regression.py:492: FutureWarning: 'squared' is deprecated in version 1.4 and will be removed in 1.6. To calculate the root mean squared error, use the function'root_mean_squared_error'.\n",
      "  warnings.warn(\n",
      "10:50:05 - cmdstanpy - INFO - Chain [1] start processing\n",
      "10:50:05 - cmdstanpy - INFO - Chain [1] done processing\n",
      "c:\\Users\\natra\\AppData\\Local\\Programs\\Python\\Python310\\lib\\site-packages\\sklearn\\metrics\\_regression.py:492: FutureWarning: 'squared' is deprecated in version 1.4 and will be removed in 1.6. To calculate the root mean squared error, use the function'root_mean_squared_error'.\n",
      "  warnings.warn(\n",
      "10:50:05 - cmdstanpy - INFO - Chain [1] start processing\n",
      "10:50:05 - cmdstanpy - INFO - Chain [1] done processing\n",
      "c:\\Users\\natra\\AppData\\Local\\Programs\\Python\\Python310\\lib\\site-packages\\sklearn\\metrics\\_regression.py:492: FutureWarning: 'squared' is deprecated in version 1.4 and will be removed in 1.6. To calculate the root mean squared error, use the function'root_mean_squared_error'.\n",
      "  warnings.warn(\n"
     ]
    },
    {
     "name": "stdout",
     "output_type": "stream",
     "text": [
      "R² Score: 0.706, RMSE: 2.806, MAE: 2.279\n",
      "\n",
      "Evaluating: changepoint_prior_scale=0.09, seasonality_prior_scale=0.1, seasonality_mode=additive\n"
     ]
    },
    {
     "name": "stderr",
     "output_type": "stream",
     "text": [
      "10:50:06 - cmdstanpy - INFO - Chain [1] start processing\n",
      "10:50:06 - cmdstanpy - INFO - Chain [1] done processing\n",
      "c:\\Users\\natra\\AppData\\Local\\Programs\\Python\\Python310\\lib\\site-packages\\sklearn\\metrics\\_regression.py:492: FutureWarning: 'squared' is deprecated in version 1.4 and will be removed in 1.6. To calculate the root mean squared error, use the function'root_mean_squared_error'.\n",
      "  warnings.warn(\n",
      "10:50:07 - cmdstanpy - INFO - Chain [1] start processing\n",
      "10:50:07 - cmdstanpy - INFO - Chain [1] done processing\n",
      "c:\\Users\\natra\\AppData\\Local\\Programs\\Python\\Python310\\lib\\site-packages\\sklearn\\metrics\\_regression.py:492: FutureWarning: 'squared' is deprecated in version 1.4 and will be removed in 1.6. To calculate the root mean squared error, use the function'root_mean_squared_error'.\n",
      "  warnings.warn(\n",
      "10:50:07 - cmdstanpy - INFO - Chain [1] start processing\n",
      "10:50:07 - cmdstanpy - INFO - Chain [1] done processing\n",
      "c:\\Users\\natra\\AppData\\Local\\Programs\\Python\\Python310\\lib\\site-packages\\sklearn\\metrics\\_regression.py:492: FutureWarning: 'squared' is deprecated in version 1.4 and will be removed in 1.6. To calculate the root mean squared error, use the function'root_mean_squared_error'.\n",
      "  warnings.warn(\n",
      "10:50:08 - cmdstanpy - INFO - Chain [1] start processing\n",
      "10:50:08 - cmdstanpy - INFO - Chain [1] done processing\n",
      "c:\\Users\\natra\\AppData\\Local\\Programs\\Python\\Python310\\lib\\site-packages\\sklearn\\metrics\\_regression.py:492: FutureWarning: 'squared' is deprecated in version 1.4 and will be removed in 1.6. To calculate the root mean squared error, use the function'root_mean_squared_error'.\n",
      "  warnings.warn(\n",
      "10:50:08 - cmdstanpy - INFO - Chain [1] start processing\n",
      "10:50:09 - cmdstanpy - INFO - Chain [1] done processing\n",
      "c:\\Users\\natra\\AppData\\Local\\Programs\\Python\\Python310\\lib\\site-packages\\sklearn\\metrics\\_regression.py:492: FutureWarning: 'squared' is deprecated in version 1.4 and will be removed in 1.6. To calculate the root mean squared error, use the function'root_mean_squared_error'.\n",
      "  warnings.warn(\n"
     ]
    },
    {
     "name": "stdout",
     "output_type": "stream",
     "text": [
      "R² Score: 0.695, RMSE: 2.848, MAE: 2.301\n",
      "\n",
      "Evaluating: changepoint_prior_scale=0.09, seasonality_prior_scale=0.1, seasonality_mode=multiplicative\n"
     ]
    },
    {
     "name": "stderr",
     "output_type": "stream",
     "text": [
      "10:50:09 - cmdstanpy - INFO - Chain [1] start processing\n",
      "10:50:09 - cmdstanpy - INFO - Chain [1] done processing\n",
      "c:\\Users\\natra\\AppData\\Local\\Programs\\Python\\Python310\\lib\\site-packages\\sklearn\\metrics\\_regression.py:492: FutureWarning: 'squared' is deprecated in version 1.4 and will be removed in 1.6. To calculate the root mean squared error, use the function'root_mean_squared_error'.\n",
      "  warnings.warn(\n",
      "10:50:10 - cmdstanpy - INFO - Chain [1] start processing\n",
      "10:50:10 - cmdstanpy - INFO - Chain [1] done processing\n",
      "c:\\Users\\natra\\AppData\\Local\\Programs\\Python\\Python310\\lib\\site-packages\\sklearn\\metrics\\_regression.py:492: FutureWarning: 'squared' is deprecated in version 1.4 and will be removed in 1.6. To calculate the root mean squared error, use the function'root_mean_squared_error'.\n",
      "  warnings.warn(\n",
      "10:50:10 - cmdstanpy - INFO - Chain [1] start processing\n",
      "10:50:10 - cmdstanpy - INFO - Chain [1] done processing\n",
      "c:\\Users\\natra\\AppData\\Local\\Programs\\Python\\Python310\\lib\\site-packages\\sklearn\\metrics\\_regression.py:492: FutureWarning: 'squared' is deprecated in version 1.4 and will be removed in 1.6. To calculate the root mean squared error, use the function'root_mean_squared_error'.\n",
      "  warnings.warn(\n",
      "10:50:11 - cmdstanpy - INFO - Chain [1] start processing\n",
      "10:50:11 - cmdstanpy - INFO - Chain [1] done processing\n",
      "c:\\Users\\natra\\AppData\\Local\\Programs\\Python\\Python310\\lib\\site-packages\\sklearn\\metrics\\_regression.py:492: FutureWarning: 'squared' is deprecated in version 1.4 and will be removed in 1.6. To calculate the root mean squared error, use the function'root_mean_squared_error'.\n",
      "  warnings.warn(\n",
      "10:50:11 - cmdstanpy - INFO - Chain [1] start processing\n",
      "10:50:12 - cmdstanpy - INFO - Chain [1] done processing\n",
      "c:\\Users\\natra\\AppData\\Local\\Programs\\Python\\Python310\\lib\\site-packages\\sklearn\\metrics\\_regression.py:492: FutureWarning: 'squared' is deprecated in version 1.4 and will be removed in 1.6. To calculate the root mean squared error, use the function'root_mean_squared_error'.\n",
      "  warnings.warn(\n"
     ]
    },
    {
     "name": "stdout",
     "output_type": "stream",
     "text": [
      "R² Score: 0.699, RMSE: 2.840, MAE: 2.310\n",
      "\n",
      "Evaluating: changepoint_prior_scale=0.09, seasonality_prior_scale=1.1, seasonality_mode=additive\n"
     ]
    },
    {
     "name": "stderr",
     "output_type": "stream",
     "text": [
      "10:50:12 - cmdstanpy - INFO - Chain [1] start processing\n",
      "10:50:12 - cmdstanpy - INFO - Chain [1] done processing\n",
      "c:\\Users\\natra\\AppData\\Local\\Programs\\Python\\Python310\\lib\\site-packages\\sklearn\\metrics\\_regression.py:492: FutureWarning: 'squared' is deprecated in version 1.4 and will be removed in 1.6. To calculate the root mean squared error, use the function'root_mean_squared_error'.\n",
      "  warnings.warn(\n",
      "10:50:13 - cmdstanpy - INFO - Chain [1] start processing\n",
      "10:50:13 - cmdstanpy - INFO - Chain [1] done processing\n",
      "c:\\Users\\natra\\AppData\\Local\\Programs\\Python\\Python310\\lib\\site-packages\\sklearn\\metrics\\_regression.py:492: FutureWarning: 'squared' is deprecated in version 1.4 and will be removed in 1.6. To calculate the root mean squared error, use the function'root_mean_squared_error'.\n",
      "  warnings.warn(\n",
      "10:50:13 - cmdstanpy - INFO - Chain [1] start processing\n",
      "10:50:13 - cmdstanpy - INFO - Chain [1] done processing\n",
      "c:\\Users\\natra\\AppData\\Local\\Programs\\Python\\Python310\\lib\\site-packages\\sklearn\\metrics\\_regression.py:492: FutureWarning: 'squared' is deprecated in version 1.4 and will be removed in 1.6. To calculate the root mean squared error, use the function'root_mean_squared_error'.\n",
      "  warnings.warn(\n",
      "10:50:14 - cmdstanpy - INFO - Chain [1] start processing\n",
      "10:50:14 - cmdstanpy - INFO - Chain [1] done processing\n",
      "c:\\Users\\natra\\AppData\\Local\\Programs\\Python\\Python310\\lib\\site-packages\\sklearn\\metrics\\_regression.py:492: FutureWarning: 'squared' is deprecated in version 1.4 and will be removed in 1.6. To calculate the root mean squared error, use the function'root_mean_squared_error'.\n",
      "  warnings.warn(\n",
      "10:50:14 - cmdstanpy - INFO - Chain [1] start processing\n",
      "10:50:15 - cmdstanpy - INFO - Chain [1] done processing\n",
      "c:\\Users\\natra\\AppData\\Local\\Programs\\Python\\Python310\\lib\\site-packages\\sklearn\\metrics\\_regression.py:492: FutureWarning: 'squared' is deprecated in version 1.4 and will be removed in 1.6. To calculate the root mean squared error, use the function'root_mean_squared_error'.\n",
      "  warnings.warn(\n"
     ]
    },
    {
     "name": "stdout",
     "output_type": "stream",
     "text": [
      "R² Score: 0.698, RMSE: 2.835, MAE: 2.291\n",
      "\n",
      "Evaluating: changepoint_prior_scale=0.09, seasonality_prior_scale=1.1, seasonality_mode=multiplicative\n"
     ]
    },
    {
     "name": "stderr",
     "output_type": "stream",
     "text": [
      "10:50:15 - cmdstanpy - INFO - Chain [1] start processing\n",
      "10:50:15 - cmdstanpy - INFO - Chain [1] done processing\n",
      "c:\\Users\\natra\\AppData\\Local\\Programs\\Python\\Python310\\lib\\site-packages\\sklearn\\metrics\\_regression.py:492: FutureWarning: 'squared' is deprecated in version 1.4 and will be removed in 1.6. To calculate the root mean squared error, use the function'root_mean_squared_error'.\n",
      "  warnings.warn(\n",
      "10:50:16 - cmdstanpy - INFO - Chain [1] start processing\n",
      "10:50:16 - cmdstanpy - INFO - Chain [1] done processing\n",
      "c:\\Users\\natra\\AppData\\Local\\Programs\\Python\\Python310\\lib\\site-packages\\sklearn\\metrics\\_regression.py:492: FutureWarning: 'squared' is deprecated in version 1.4 and will be removed in 1.6. To calculate the root mean squared error, use the function'root_mean_squared_error'.\n",
      "  warnings.warn(\n",
      "10:50:16 - cmdstanpy - INFO - Chain [1] start processing\n",
      "10:50:16 - cmdstanpy - INFO - Chain [1] done processing\n",
      "c:\\Users\\natra\\AppData\\Local\\Programs\\Python\\Python310\\lib\\site-packages\\sklearn\\metrics\\_regression.py:492: FutureWarning: 'squared' is deprecated in version 1.4 and will be removed in 1.6. To calculate the root mean squared error, use the function'root_mean_squared_error'.\n",
      "  warnings.warn(\n",
      "10:50:17 - cmdstanpy - INFO - Chain [1] start processing\n",
      "10:50:17 - cmdstanpy - INFO - Chain [1] done processing\n",
      "c:\\Users\\natra\\AppData\\Local\\Programs\\Python\\Python310\\lib\\site-packages\\sklearn\\metrics\\_regression.py:492: FutureWarning: 'squared' is deprecated in version 1.4 and will be removed in 1.6. To calculate the root mean squared error, use the function'root_mean_squared_error'.\n",
      "  warnings.warn(\n",
      "10:50:18 - cmdstanpy - INFO - Chain [1] start processing\n",
      "10:50:18 - cmdstanpy - INFO - Chain [1] done processing\n",
      "c:\\Users\\natra\\AppData\\Local\\Programs\\Python\\Python310\\lib\\site-packages\\sklearn\\metrics\\_regression.py:492: FutureWarning: 'squared' is deprecated in version 1.4 and will be removed in 1.6. To calculate the root mean squared error, use the function'root_mean_squared_error'.\n",
      "  warnings.warn(\n"
     ]
    },
    {
     "name": "stdout",
     "output_type": "stream",
     "text": [
      "R² Score: 0.698, RMSE: 2.841, MAE: 2.311\n",
      "\n",
      "Evaluating: changepoint_prior_scale=0.09, seasonality_prior_scale=2.1, seasonality_mode=additive\n"
     ]
    },
    {
     "name": "stderr",
     "output_type": "stream",
     "text": [
      "10:50:19 - cmdstanpy - INFO - Chain [1] start processing\n",
      "10:50:19 - cmdstanpy - INFO - Chain [1] done processing\n",
      "c:\\Users\\natra\\AppData\\Local\\Programs\\Python\\Python310\\lib\\site-packages\\sklearn\\metrics\\_regression.py:492: FutureWarning: 'squared' is deprecated in version 1.4 and will be removed in 1.6. To calculate the root mean squared error, use the function'root_mean_squared_error'.\n",
      "  warnings.warn(\n",
      "10:50:19 - cmdstanpy - INFO - Chain [1] start processing\n",
      "10:50:19 - cmdstanpy - INFO - Chain [1] done processing\n",
      "c:\\Users\\natra\\AppData\\Local\\Programs\\Python\\Python310\\lib\\site-packages\\sklearn\\metrics\\_regression.py:492: FutureWarning: 'squared' is deprecated in version 1.4 and will be removed in 1.6. To calculate the root mean squared error, use the function'root_mean_squared_error'.\n",
      "  warnings.warn(\n",
      "10:50:20 - cmdstanpy - INFO - Chain [1] start processing\n",
      "10:50:20 - cmdstanpy - INFO - Chain [1] done processing\n",
      "c:\\Users\\natra\\AppData\\Local\\Programs\\Python\\Python310\\lib\\site-packages\\sklearn\\metrics\\_regression.py:492: FutureWarning: 'squared' is deprecated in version 1.4 and will be removed in 1.6. To calculate the root mean squared error, use the function'root_mean_squared_error'.\n",
      "  warnings.warn(\n",
      "10:50:20 - cmdstanpy - INFO - Chain [1] start processing\n",
      "10:50:20 - cmdstanpy - INFO - Chain [1] done processing\n",
      "c:\\Users\\natra\\AppData\\Local\\Programs\\Python\\Python310\\lib\\site-packages\\sklearn\\metrics\\_regression.py:492: FutureWarning: 'squared' is deprecated in version 1.4 and will be removed in 1.6. To calculate the root mean squared error, use the function'root_mean_squared_error'.\n",
      "  warnings.warn(\n",
      "10:50:21 - cmdstanpy - INFO - Chain [1] start processing\n",
      "10:50:21 - cmdstanpy - INFO - Chain [1] done processing\n",
      "c:\\Users\\natra\\AppData\\Local\\Programs\\Python\\Python310\\lib\\site-packages\\sklearn\\metrics\\_regression.py:492: FutureWarning: 'squared' is deprecated in version 1.4 and will be removed in 1.6. To calculate the root mean squared error, use the function'root_mean_squared_error'.\n",
      "  warnings.warn(\n"
     ]
    },
    {
     "name": "stdout",
     "output_type": "stream",
     "text": [
      "R² Score: 0.694, RMSE: 2.854, MAE: 2.306\n",
      "\n",
      "Evaluating: changepoint_prior_scale=0.09, seasonality_prior_scale=2.1, seasonality_mode=multiplicative\n"
     ]
    },
    {
     "name": "stderr",
     "output_type": "stream",
     "text": [
      "10:50:22 - cmdstanpy - INFO - Chain [1] start processing\n",
      "10:50:22 - cmdstanpy - INFO - Chain [1] done processing\n",
      "c:\\Users\\natra\\AppData\\Local\\Programs\\Python\\Python310\\lib\\site-packages\\sklearn\\metrics\\_regression.py:492: FutureWarning: 'squared' is deprecated in version 1.4 and will be removed in 1.6. To calculate the root mean squared error, use the function'root_mean_squared_error'.\n",
      "  warnings.warn(\n",
      "10:50:22 - cmdstanpy - INFO - Chain [1] start processing\n",
      "10:50:22 - cmdstanpy - INFO - Chain [1] done processing\n",
      "c:\\Users\\natra\\AppData\\Local\\Programs\\Python\\Python310\\lib\\site-packages\\sklearn\\metrics\\_regression.py:492: FutureWarning: 'squared' is deprecated in version 1.4 and will be removed in 1.6. To calculate the root mean squared error, use the function'root_mean_squared_error'.\n",
      "  warnings.warn(\n",
      "10:50:23 - cmdstanpy - INFO - Chain [1] start processing\n",
      "10:50:23 - cmdstanpy - INFO - Chain [1] done processing\n",
      "c:\\Users\\natra\\AppData\\Local\\Programs\\Python\\Python310\\lib\\site-packages\\sklearn\\metrics\\_regression.py:492: FutureWarning: 'squared' is deprecated in version 1.4 and will be removed in 1.6. To calculate the root mean squared error, use the function'root_mean_squared_error'.\n",
      "  warnings.warn(\n",
      "10:50:23 - cmdstanpy - INFO - Chain [1] start processing\n",
      "10:50:24 - cmdstanpy - INFO - Chain [1] done processing\n",
      "c:\\Users\\natra\\AppData\\Local\\Programs\\Python\\Python310\\lib\\site-packages\\sklearn\\metrics\\_regression.py:492: FutureWarning: 'squared' is deprecated in version 1.4 and will be removed in 1.6. To calculate the root mean squared error, use the function'root_mean_squared_error'.\n",
      "  warnings.warn(\n",
      "10:50:24 - cmdstanpy - INFO - Chain [1] start processing\n",
      "10:50:24 - cmdstanpy - INFO - Chain [1] done processing\n",
      "c:\\Users\\natra\\AppData\\Local\\Programs\\Python\\Python310\\lib\\site-packages\\sklearn\\metrics\\_regression.py:492: FutureWarning: 'squared' is deprecated in version 1.4 and will be removed in 1.6. To calculate the root mean squared error, use the function'root_mean_squared_error'.\n",
      "  warnings.warn(\n"
     ]
    },
    {
     "name": "stdout",
     "output_type": "stream",
     "text": [
      "R² Score: 0.700, RMSE: 2.836, MAE: 2.307\n",
      "\n",
      "Evaluating: changepoint_prior_scale=0.09, seasonality_prior_scale=3.1, seasonality_mode=additive\n"
     ]
    },
    {
     "name": "stderr",
     "output_type": "stream",
     "text": [
      "10:50:25 - cmdstanpy - INFO - Chain [1] start processing\n",
      "10:50:25 - cmdstanpy - INFO - Chain [1] done processing\n",
      "c:\\Users\\natra\\AppData\\Local\\Programs\\Python\\Python310\\lib\\site-packages\\sklearn\\metrics\\_regression.py:492: FutureWarning: 'squared' is deprecated in version 1.4 and will be removed in 1.6. To calculate the root mean squared error, use the function'root_mean_squared_error'.\n",
      "  warnings.warn(\n",
      "10:50:25 - cmdstanpy - INFO - Chain [1] start processing\n",
      "10:50:25 - cmdstanpy - INFO - Chain [1] done processing\n",
      "c:\\Users\\natra\\AppData\\Local\\Programs\\Python\\Python310\\lib\\site-packages\\sklearn\\metrics\\_regression.py:492: FutureWarning: 'squared' is deprecated in version 1.4 and will be removed in 1.6. To calculate the root mean squared error, use the function'root_mean_squared_error'.\n",
      "  warnings.warn(\n",
      "10:50:26 - cmdstanpy - INFO - Chain [1] start processing\n",
      "10:50:26 - cmdstanpy - INFO - Chain [1] done processing\n",
      "c:\\Users\\natra\\AppData\\Local\\Programs\\Python\\Python310\\lib\\site-packages\\sklearn\\metrics\\_regression.py:492: FutureWarning: 'squared' is deprecated in version 1.4 and will be removed in 1.6. To calculate the root mean squared error, use the function'root_mean_squared_error'.\n",
      "  warnings.warn(\n",
      "10:50:26 - cmdstanpy - INFO - Chain [1] start processing\n",
      "10:50:27 - cmdstanpy - INFO - Chain [1] done processing\n",
      "c:\\Users\\natra\\AppData\\Local\\Programs\\Python\\Python310\\lib\\site-packages\\sklearn\\metrics\\_regression.py:492: FutureWarning: 'squared' is deprecated in version 1.4 and will be removed in 1.6. To calculate the root mean squared error, use the function'root_mean_squared_error'.\n",
      "  warnings.warn(\n",
      "10:50:27 - cmdstanpy - INFO - Chain [1] start processing\n",
      "10:50:27 - cmdstanpy - INFO - Chain [1] done processing\n",
      "c:\\Users\\natra\\AppData\\Local\\Programs\\Python\\Python310\\lib\\site-packages\\sklearn\\metrics\\_regression.py:492: FutureWarning: 'squared' is deprecated in version 1.4 and will be removed in 1.6. To calculate the root mean squared error, use the function'root_mean_squared_error'.\n",
      "  warnings.warn(\n"
     ]
    },
    {
     "name": "stdout",
     "output_type": "stream",
     "text": [
      "R² Score: 0.696, RMSE: 2.846, MAE: 2.300\n",
      "\n",
      "Evaluating: changepoint_prior_scale=0.09, seasonality_prior_scale=3.1, seasonality_mode=multiplicative\n"
     ]
    },
    {
     "name": "stderr",
     "output_type": "stream",
     "text": [
      "10:50:28 - cmdstanpy - INFO - Chain [1] start processing\n",
      "10:50:28 - cmdstanpy - INFO - Chain [1] done processing\n",
      "c:\\Users\\natra\\AppData\\Local\\Programs\\Python\\Python310\\lib\\site-packages\\sklearn\\metrics\\_regression.py:492: FutureWarning: 'squared' is deprecated in version 1.4 and will be removed in 1.6. To calculate the root mean squared error, use the function'root_mean_squared_error'.\n",
      "  warnings.warn(\n",
      "10:50:28 - cmdstanpy - INFO - Chain [1] start processing\n",
      "10:50:28 - cmdstanpy - INFO - Chain [1] done processing\n",
      "c:\\Users\\natra\\AppData\\Local\\Programs\\Python\\Python310\\lib\\site-packages\\sklearn\\metrics\\_regression.py:492: FutureWarning: 'squared' is deprecated in version 1.4 and will be removed in 1.6. To calculate the root mean squared error, use the function'root_mean_squared_error'.\n",
      "  warnings.warn(\n",
      "10:50:29 - cmdstanpy - INFO - Chain [1] start processing\n",
      "10:50:29 - cmdstanpy - INFO - Chain [1] done processing\n",
      "c:\\Users\\natra\\AppData\\Local\\Programs\\Python\\Python310\\lib\\site-packages\\sklearn\\metrics\\_regression.py:492: FutureWarning: 'squared' is deprecated in version 1.4 and will be removed in 1.6. To calculate the root mean squared error, use the function'root_mean_squared_error'.\n",
      "  warnings.warn(\n",
      "10:50:29 - cmdstanpy - INFO - Chain [1] start processing\n",
      "10:50:30 - cmdstanpy - INFO - Chain [1] done processing\n",
      "c:\\Users\\natra\\AppData\\Local\\Programs\\Python\\Python310\\lib\\site-packages\\sklearn\\metrics\\_regression.py:492: FutureWarning: 'squared' is deprecated in version 1.4 and will be removed in 1.6. To calculate the root mean squared error, use the function'root_mean_squared_error'.\n",
      "  warnings.warn(\n",
      "10:50:30 - cmdstanpy - INFO - Chain [1] start processing\n",
      "10:50:30 - cmdstanpy - INFO - Chain [1] done processing\n",
      "c:\\Users\\natra\\AppData\\Local\\Programs\\Python\\Python310\\lib\\site-packages\\sklearn\\metrics\\_regression.py:492: FutureWarning: 'squared' is deprecated in version 1.4 and will be removed in 1.6. To calculate the root mean squared error, use the function'root_mean_squared_error'.\n",
      "  warnings.warn(\n"
     ]
    },
    {
     "name": "stdout",
     "output_type": "stream",
     "text": [
      "R² Score: 0.698, RMSE: 2.844, MAE: 2.315\n",
      "\n",
      "Evaluating: changepoint_prior_scale=0.09, seasonality_prior_scale=4.1, seasonality_mode=additive\n"
     ]
    },
    {
     "name": "stderr",
     "output_type": "stream",
     "text": [
      "10:50:31 - cmdstanpy - INFO - Chain [1] start processing\n",
      "10:50:31 - cmdstanpy - INFO - Chain [1] done processing\n",
      "c:\\Users\\natra\\AppData\\Local\\Programs\\Python\\Python310\\lib\\site-packages\\sklearn\\metrics\\_regression.py:492: FutureWarning: 'squared' is deprecated in version 1.4 and will be removed in 1.6. To calculate the root mean squared error, use the function'root_mean_squared_error'.\n",
      "  warnings.warn(\n",
      "10:50:31 - cmdstanpy - INFO - Chain [1] start processing\n",
      "10:50:32 - cmdstanpy - INFO - Chain [1] done processing\n",
      "c:\\Users\\natra\\AppData\\Local\\Programs\\Python\\Python310\\lib\\site-packages\\sklearn\\metrics\\_regression.py:492: FutureWarning: 'squared' is deprecated in version 1.4 and will be removed in 1.6. To calculate the root mean squared error, use the function'root_mean_squared_error'.\n",
      "  warnings.warn(\n",
      "10:50:32 - cmdstanpy - INFO - Chain [1] start processing\n",
      "10:50:32 - cmdstanpy - INFO - Chain [1] done processing\n",
      "c:\\Users\\natra\\AppData\\Local\\Programs\\Python\\Python310\\lib\\site-packages\\sklearn\\metrics\\_regression.py:492: FutureWarning: 'squared' is deprecated in version 1.4 and will be removed in 1.6. To calculate the root mean squared error, use the function'root_mean_squared_error'.\n",
      "  warnings.warn(\n",
      "10:50:33 - cmdstanpy - INFO - Chain [1] start processing\n",
      "10:50:33 - cmdstanpy - INFO - Chain [1] done processing\n",
      "c:\\Users\\natra\\AppData\\Local\\Programs\\Python\\Python310\\lib\\site-packages\\sklearn\\metrics\\_regression.py:492: FutureWarning: 'squared' is deprecated in version 1.4 and will be removed in 1.6. To calculate the root mean squared error, use the function'root_mean_squared_error'.\n",
      "  warnings.warn(\n",
      "10:50:34 - cmdstanpy - INFO - Chain [1] start processing\n",
      "10:50:34 - cmdstanpy - INFO - Chain [1] done processing\n",
      "c:\\Users\\natra\\AppData\\Local\\Programs\\Python\\Python310\\lib\\site-packages\\sklearn\\metrics\\_regression.py:492: FutureWarning: 'squared' is deprecated in version 1.4 and will be removed in 1.6. To calculate the root mean squared error, use the function'root_mean_squared_error'.\n",
      "  warnings.warn(\n"
     ]
    },
    {
     "name": "stdout",
     "output_type": "stream",
     "text": [
      "R² Score: 0.697, RMSE: 2.840, MAE: 2.294\n",
      "\n",
      "Evaluating: changepoint_prior_scale=0.09, seasonality_prior_scale=4.1, seasonality_mode=multiplicative\n"
     ]
    },
    {
     "name": "stderr",
     "output_type": "stream",
     "text": [
      "10:50:34 - cmdstanpy - INFO - Chain [1] start processing\n",
      "10:50:34 - cmdstanpy - INFO - Chain [1] done processing\n",
      "c:\\Users\\natra\\AppData\\Local\\Programs\\Python\\Python310\\lib\\site-packages\\sklearn\\metrics\\_regression.py:492: FutureWarning: 'squared' is deprecated in version 1.4 and will be removed in 1.6. To calculate the root mean squared error, use the function'root_mean_squared_error'.\n",
      "  warnings.warn(\n",
      "10:50:35 - cmdstanpy - INFO - Chain [1] start processing\n",
      "10:50:35 - cmdstanpy - INFO - Chain [1] done processing\n",
      "c:\\Users\\natra\\AppData\\Local\\Programs\\Python\\Python310\\lib\\site-packages\\sklearn\\metrics\\_regression.py:492: FutureWarning: 'squared' is deprecated in version 1.4 and will be removed in 1.6. To calculate the root mean squared error, use the function'root_mean_squared_error'.\n",
      "  warnings.warn(\n",
      "10:50:36 - cmdstanpy - INFO - Chain [1] start processing\n",
      "10:50:36 - cmdstanpy - INFO - Chain [1] done processing\n",
      "c:\\Users\\natra\\AppData\\Local\\Programs\\Python\\Python310\\lib\\site-packages\\sklearn\\metrics\\_regression.py:492: FutureWarning: 'squared' is deprecated in version 1.4 and will be removed in 1.6. To calculate the root mean squared error, use the function'root_mean_squared_error'.\n",
      "  warnings.warn(\n",
      "10:50:36 - cmdstanpy - INFO - Chain [1] start processing\n",
      "10:50:37 - cmdstanpy - INFO - Chain [1] done processing\n",
      "c:\\Users\\natra\\AppData\\Local\\Programs\\Python\\Python310\\lib\\site-packages\\sklearn\\metrics\\_regression.py:492: FutureWarning: 'squared' is deprecated in version 1.4 and will be removed in 1.6. To calculate the root mean squared error, use the function'root_mean_squared_error'.\n",
      "  warnings.warn(\n",
      "10:50:37 - cmdstanpy - INFO - Chain [1] start processing\n",
      "10:50:37 - cmdstanpy - INFO - Chain [1] done processing\n",
      "c:\\Users\\natra\\AppData\\Local\\Programs\\Python\\Python310\\lib\\site-packages\\sklearn\\metrics\\_regression.py:492: FutureWarning: 'squared' is deprecated in version 1.4 and will be removed in 1.6. To calculate the root mean squared error, use the function'root_mean_squared_error'.\n",
      "  warnings.warn(\n"
     ]
    },
    {
     "name": "stdout",
     "output_type": "stream",
     "text": [
      "R² Score: 0.701, RMSE: 2.829, MAE: 2.300\n",
      "\n",
      "Evaluating: changepoint_prior_scale=0.09, seasonality_prior_scale=5.1, seasonality_mode=additive\n"
     ]
    },
    {
     "name": "stderr",
     "output_type": "stream",
     "text": [
      "10:50:38 - cmdstanpy - INFO - Chain [1] start processing\n",
      "10:50:38 - cmdstanpy - INFO - Chain [1] done processing\n",
      "c:\\Users\\natra\\AppData\\Local\\Programs\\Python\\Python310\\lib\\site-packages\\sklearn\\metrics\\_regression.py:492: FutureWarning: 'squared' is deprecated in version 1.4 and will be removed in 1.6. To calculate the root mean squared error, use the function'root_mean_squared_error'.\n",
      "  warnings.warn(\n",
      "10:50:38 - cmdstanpy - INFO - Chain [1] start processing\n",
      "10:50:39 - cmdstanpy - INFO - Chain [1] done processing\n",
      "c:\\Users\\natra\\AppData\\Local\\Programs\\Python\\Python310\\lib\\site-packages\\sklearn\\metrics\\_regression.py:492: FutureWarning: 'squared' is deprecated in version 1.4 and will be removed in 1.6. To calculate the root mean squared error, use the function'root_mean_squared_error'.\n",
      "  warnings.warn(\n",
      "10:50:39 - cmdstanpy - INFO - Chain [1] start processing\n",
      "10:50:39 - cmdstanpy - INFO - Chain [1] done processing\n",
      "c:\\Users\\natra\\AppData\\Local\\Programs\\Python\\Python310\\lib\\site-packages\\sklearn\\metrics\\_regression.py:492: FutureWarning: 'squared' is deprecated in version 1.4 and will be removed in 1.6. To calculate the root mean squared error, use the function'root_mean_squared_error'.\n",
      "  warnings.warn(\n",
      "10:50:40 - cmdstanpy - INFO - Chain [1] start processing\n",
      "10:50:40 - cmdstanpy - INFO - Chain [1] done processing\n",
      "c:\\Users\\natra\\AppData\\Local\\Programs\\Python\\Python310\\lib\\site-packages\\sklearn\\metrics\\_regression.py:492: FutureWarning: 'squared' is deprecated in version 1.4 and will be removed in 1.6. To calculate the root mean squared error, use the function'root_mean_squared_error'.\n",
      "  warnings.warn(\n",
      "10:50:40 - cmdstanpy - INFO - Chain [1] start processing\n",
      "10:50:41 - cmdstanpy - INFO - Chain [1] done processing\n",
      "c:\\Users\\natra\\AppData\\Local\\Programs\\Python\\Python310\\lib\\site-packages\\sklearn\\metrics\\_regression.py:492: FutureWarning: 'squared' is deprecated in version 1.4 and will be removed in 1.6. To calculate the root mean squared error, use the function'root_mean_squared_error'.\n",
      "  warnings.warn(\n"
     ]
    },
    {
     "name": "stdout",
     "output_type": "stream",
     "text": [
      "R² Score: 0.697, RMSE: 2.841, MAE: 2.295\n",
      "\n",
      "Evaluating: changepoint_prior_scale=0.09, seasonality_prior_scale=5.1, seasonality_mode=multiplicative\n"
     ]
    },
    {
     "name": "stderr",
     "output_type": "stream",
     "text": [
      "10:50:41 - cmdstanpy - INFO - Chain [1] start processing\n",
      "10:50:41 - cmdstanpy - INFO - Chain [1] done processing\n",
      "c:\\Users\\natra\\AppData\\Local\\Programs\\Python\\Python310\\lib\\site-packages\\sklearn\\metrics\\_regression.py:492: FutureWarning: 'squared' is deprecated in version 1.4 and will be removed in 1.6. To calculate the root mean squared error, use the function'root_mean_squared_error'.\n",
      "  warnings.warn(\n",
      "10:50:42 - cmdstanpy - INFO - Chain [1] start processing\n",
      "10:50:42 - cmdstanpy - INFO - Chain [1] done processing\n",
      "c:\\Users\\natra\\AppData\\Local\\Programs\\Python\\Python310\\lib\\site-packages\\sklearn\\metrics\\_regression.py:492: FutureWarning: 'squared' is deprecated in version 1.4 and will be removed in 1.6. To calculate the root mean squared error, use the function'root_mean_squared_error'.\n",
      "  warnings.warn(\n",
      "10:50:43 - cmdstanpy - INFO - Chain [1] start processing\n",
      "10:50:43 - cmdstanpy - INFO - Chain [1] done processing\n",
      "c:\\Users\\natra\\AppData\\Local\\Programs\\Python\\Python310\\lib\\site-packages\\sklearn\\metrics\\_regression.py:492: FutureWarning: 'squared' is deprecated in version 1.4 and will be removed in 1.6. To calculate the root mean squared error, use the function'root_mean_squared_error'.\n",
      "  warnings.warn(\n",
      "10:50:43 - cmdstanpy - INFO - Chain [1] start processing\n",
      "10:50:43 - cmdstanpy - INFO - Chain [1] done processing\n",
      "c:\\Users\\natra\\AppData\\Local\\Programs\\Python\\Python310\\lib\\site-packages\\sklearn\\metrics\\_regression.py:492: FutureWarning: 'squared' is deprecated in version 1.4 and will be removed in 1.6. To calculate the root mean squared error, use the function'root_mean_squared_error'.\n",
      "  warnings.warn(\n",
      "10:50:44 - cmdstanpy - INFO - Chain [1] start processing\n",
      "10:50:44 - cmdstanpy - INFO - Chain [1] done processing\n",
      "c:\\Users\\natra\\AppData\\Local\\Programs\\Python\\Python310\\lib\\site-packages\\sklearn\\metrics\\_regression.py:492: FutureWarning: 'squared' is deprecated in version 1.4 and will be removed in 1.6. To calculate the root mean squared error, use the function'root_mean_squared_error'.\n",
      "  warnings.warn(\n"
     ]
    },
    {
     "name": "stdout",
     "output_type": "stream",
     "text": [
      "R² Score: 0.701, RMSE: 2.831, MAE: 2.302\n",
      "\n",
      "Evaluating: changepoint_prior_scale=0.09, seasonality_prior_scale=6.1, seasonality_mode=additive\n"
     ]
    },
    {
     "name": "stderr",
     "output_type": "stream",
     "text": [
      "10:50:44 - cmdstanpy - INFO - Chain [1] start processing\n",
      "10:50:45 - cmdstanpy - INFO - Chain [1] done processing\n",
      "c:\\Users\\natra\\AppData\\Local\\Programs\\Python\\Python310\\lib\\site-packages\\sklearn\\metrics\\_regression.py:492: FutureWarning: 'squared' is deprecated in version 1.4 and will be removed in 1.6. To calculate the root mean squared error, use the function'root_mean_squared_error'.\n",
      "  warnings.warn(\n",
      "10:50:45 - cmdstanpy - INFO - Chain [1] start processing\n",
      "10:50:45 - cmdstanpy - INFO - Chain [1] done processing\n",
      "c:\\Users\\natra\\AppData\\Local\\Programs\\Python\\Python310\\lib\\site-packages\\sklearn\\metrics\\_regression.py:492: FutureWarning: 'squared' is deprecated in version 1.4 and will be removed in 1.6. To calculate the root mean squared error, use the function'root_mean_squared_error'.\n",
      "  warnings.warn(\n",
      "10:50:46 - cmdstanpy - INFO - Chain [1] start processing\n",
      "10:50:46 - cmdstanpy - INFO - Chain [1] done processing\n",
      "c:\\Users\\natra\\AppData\\Local\\Programs\\Python\\Python310\\lib\\site-packages\\sklearn\\metrics\\_regression.py:492: FutureWarning: 'squared' is deprecated in version 1.4 and will be removed in 1.6. To calculate the root mean squared error, use the function'root_mean_squared_error'.\n",
      "  warnings.warn(\n",
      "10:50:46 - cmdstanpy - INFO - Chain [1] start processing\n",
      "10:50:46 - cmdstanpy - INFO - Chain [1] done processing\n",
      "c:\\Users\\natra\\AppData\\Local\\Programs\\Python\\Python310\\lib\\site-packages\\sklearn\\metrics\\_regression.py:492: FutureWarning: 'squared' is deprecated in version 1.4 and will be removed in 1.6. To calculate the root mean squared error, use the function'root_mean_squared_error'.\n",
      "  warnings.warn(\n",
      "10:50:47 - cmdstanpy - INFO - Chain [1] start processing\n",
      "10:50:47 - cmdstanpy - INFO - Chain [1] done processing\n",
      "c:\\Users\\natra\\AppData\\Local\\Programs\\Python\\Python310\\lib\\site-packages\\sklearn\\metrics\\_regression.py:492: FutureWarning: 'squared' is deprecated in version 1.4 and will be removed in 1.6. To calculate the root mean squared error, use the function'root_mean_squared_error'.\n",
      "  warnings.warn(\n"
     ]
    },
    {
     "name": "stdout",
     "output_type": "stream",
     "text": [
      "R² Score: 0.697, RMSE: 2.840, MAE: 2.295\n",
      "\n",
      "Evaluating: changepoint_prior_scale=0.09, seasonality_prior_scale=6.1, seasonality_mode=multiplicative\n"
     ]
    },
    {
     "name": "stderr",
     "output_type": "stream",
     "text": [
      "10:50:48 - cmdstanpy - INFO - Chain [1] start processing\n",
      "10:50:48 - cmdstanpy - INFO - Chain [1] done processing\n",
      "c:\\Users\\natra\\AppData\\Local\\Programs\\Python\\Python310\\lib\\site-packages\\sklearn\\metrics\\_regression.py:492: FutureWarning: 'squared' is deprecated in version 1.4 and will be removed in 1.6. To calculate the root mean squared error, use the function'root_mean_squared_error'.\n",
      "  warnings.warn(\n",
      "10:50:48 - cmdstanpy - INFO - Chain [1] start processing\n",
      "10:50:48 - cmdstanpy - INFO - Chain [1] done processing\n",
      "c:\\Users\\natra\\AppData\\Local\\Programs\\Python\\Python310\\lib\\site-packages\\sklearn\\metrics\\_regression.py:492: FutureWarning: 'squared' is deprecated in version 1.4 and will be removed in 1.6. To calculate the root mean squared error, use the function'root_mean_squared_error'.\n",
      "  warnings.warn(\n",
      "10:50:49 - cmdstanpy - INFO - Chain [1] start processing\n",
      "10:50:49 - cmdstanpy - INFO - Chain [1] done processing\n",
      "c:\\Users\\natra\\AppData\\Local\\Programs\\Python\\Python310\\lib\\site-packages\\sklearn\\metrics\\_regression.py:492: FutureWarning: 'squared' is deprecated in version 1.4 and will be removed in 1.6. To calculate the root mean squared error, use the function'root_mean_squared_error'.\n",
      "  warnings.warn(\n",
      "10:50:49 - cmdstanpy - INFO - Chain [1] start processing\n",
      "10:50:49 - cmdstanpy - INFO - Chain [1] done processing\n",
      "c:\\Users\\natra\\AppData\\Local\\Programs\\Python\\Python310\\lib\\site-packages\\sklearn\\metrics\\_regression.py:492: FutureWarning: 'squared' is deprecated in version 1.4 and will be removed in 1.6. To calculate the root mean squared error, use the function'root_mean_squared_error'.\n",
      "  warnings.warn(\n",
      "10:50:50 - cmdstanpy - INFO - Chain [1] start processing\n",
      "10:50:50 - cmdstanpy - INFO - Chain [1] done processing\n",
      "c:\\Users\\natra\\AppData\\Local\\Programs\\Python\\Python310\\lib\\site-packages\\sklearn\\metrics\\_regression.py:492: FutureWarning: 'squared' is deprecated in version 1.4 and will be removed in 1.6. To calculate the root mean squared error, use the function'root_mean_squared_error'.\n",
      "  warnings.warn(\n"
     ]
    },
    {
     "name": "stdout",
     "output_type": "stream",
     "text": [
      "R² Score: 0.698, RMSE: 2.842, MAE: 2.314\n",
      "\n",
      "Evaluating: changepoint_prior_scale=0.09, seasonality_prior_scale=7.1, seasonality_mode=additive\n"
     ]
    },
    {
     "name": "stderr",
     "output_type": "stream",
     "text": [
      "10:50:51 - cmdstanpy - INFO - Chain [1] start processing\n",
      "10:50:51 - cmdstanpy - INFO - Chain [1] done processing\n",
      "c:\\Users\\natra\\AppData\\Local\\Programs\\Python\\Python310\\lib\\site-packages\\sklearn\\metrics\\_regression.py:492: FutureWarning: 'squared' is deprecated in version 1.4 and will be removed in 1.6. To calculate the root mean squared error, use the function'root_mean_squared_error'.\n",
      "  warnings.warn(\n",
      "10:50:51 - cmdstanpy - INFO - Chain [1] start processing\n",
      "10:50:51 - cmdstanpy - INFO - Chain [1] done processing\n",
      "c:\\Users\\natra\\AppData\\Local\\Programs\\Python\\Python310\\lib\\site-packages\\sklearn\\metrics\\_regression.py:492: FutureWarning: 'squared' is deprecated in version 1.4 and will be removed in 1.6. To calculate the root mean squared error, use the function'root_mean_squared_error'.\n",
      "  warnings.warn(\n",
      "10:50:52 - cmdstanpy - INFO - Chain [1] start processing\n",
      "10:50:52 - cmdstanpy - INFO - Chain [1] done processing\n",
      "c:\\Users\\natra\\AppData\\Local\\Programs\\Python\\Python310\\lib\\site-packages\\sklearn\\metrics\\_regression.py:492: FutureWarning: 'squared' is deprecated in version 1.4 and will be removed in 1.6. To calculate the root mean squared error, use the function'root_mean_squared_error'.\n",
      "  warnings.warn(\n",
      "10:50:52 - cmdstanpy - INFO - Chain [1] start processing\n",
      "10:50:53 - cmdstanpy - INFO - Chain [1] done processing\n",
      "c:\\Users\\natra\\AppData\\Local\\Programs\\Python\\Python310\\lib\\site-packages\\sklearn\\metrics\\_regression.py:492: FutureWarning: 'squared' is deprecated in version 1.4 and will be removed in 1.6. To calculate the root mean squared error, use the function'root_mean_squared_error'.\n",
      "  warnings.warn(\n",
      "10:50:53 - cmdstanpy - INFO - Chain [1] start processing\n",
      "10:50:53 - cmdstanpy - INFO - Chain [1] done processing\n",
      "c:\\Users\\natra\\AppData\\Local\\Programs\\Python\\Python310\\lib\\site-packages\\sklearn\\metrics\\_regression.py:492: FutureWarning: 'squared' is deprecated in version 1.4 and will be removed in 1.6. To calculate the root mean squared error, use the function'root_mean_squared_error'.\n",
      "  warnings.warn(\n"
     ]
    },
    {
     "name": "stdout",
     "output_type": "stream",
     "text": [
      "R² Score: 0.696, RMSE: 2.846, MAE: 2.299\n",
      "\n",
      "Evaluating: changepoint_prior_scale=0.09, seasonality_prior_scale=7.1, seasonality_mode=multiplicative\n"
     ]
    },
    {
     "name": "stderr",
     "output_type": "stream",
     "text": [
      "10:50:54 - cmdstanpy - INFO - Chain [1] start processing\n",
      "10:50:54 - cmdstanpy - INFO - Chain [1] done processing\n",
      "c:\\Users\\natra\\AppData\\Local\\Programs\\Python\\Python310\\lib\\site-packages\\sklearn\\metrics\\_regression.py:492: FutureWarning: 'squared' is deprecated in version 1.4 and will be removed in 1.6. To calculate the root mean squared error, use the function'root_mean_squared_error'.\n",
      "  warnings.warn(\n",
      "10:50:54 - cmdstanpy - INFO - Chain [1] start processing\n",
      "10:50:54 - cmdstanpy - INFO - Chain [1] done processing\n",
      "c:\\Users\\natra\\AppData\\Local\\Programs\\Python\\Python310\\lib\\site-packages\\sklearn\\metrics\\_regression.py:492: FutureWarning: 'squared' is deprecated in version 1.4 and will be removed in 1.6. To calculate the root mean squared error, use the function'root_mean_squared_error'.\n",
      "  warnings.warn(\n",
      "10:50:55 - cmdstanpy - INFO - Chain [1] start processing\n",
      "10:50:55 - cmdstanpy - INFO - Chain [1] done processing\n",
      "c:\\Users\\natra\\AppData\\Local\\Programs\\Python\\Python310\\lib\\site-packages\\sklearn\\metrics\\_regression.py:492: FutureWarning: 'squared' is deprecated in version 1.4 and will be removed in 1.6. To calculate the root mean squared error, use the function'root_mean_squared_error'.\n",
      "  warnings.warn(\n",
      "10:50:55 - cmdstanpy - INFO - Chain [1] start processing\n",
      "10:50:56 - cmdstanpy - INFO - Chain [1] done processing\n",
      "c:\\Users\\natra\\AppData\\Local\\Programs\\Python\\Python310\\lib\\site-packages\\sklearn\\metrics\\_regression.py:492: FutureWarning: 'squared' is deprecated in version 1.4 and will be removed in 1.6. To calculate the root mean squared error, use the function'root_mean_squared_error'.\n",
      "  warnings.warn(\n",
      "10:50:56 - cmdstanpy - INFO - Chain [1] start processing\n",
      "10:50:56 - cmdstanpy - INFO - Chain [1] done processing\n",
      "c:\\Users\\natra\\AppData\\Local\\Programs\\Python\\Python310\\lib\\site-packages\\sklearn\\metrics\\_regression.py:492: FutureWarning: 'squared' is deprecated in version 1.4 and will be removed in 1.6. To calculate the root mean squared error, use the function'root_mean_squared_error'.\n",
      "  warnings.warn(\n"
     ]
    },
    {
     "name": "stdout",
     "output_type": "stream",
     "text": [
      "R² Score: 0.700, RMSE: 2.836, MAE: 2.306\n",
      "\n",
      "Evaluating: changepoint_prior_scale=0.09, seasonality_prior_scale=8.1, seasonality_mode=additive\n"
     ]
    },
    {
     "name": "stderr",
     "output_type": "stream",
     "text": [
      "10:50:57 - cmdstanpy - INFO - Chain [1] start processing\n",
      "10:50:57 - cmdstanpy - INFO - Chain [1] done processing\n",
      "c:\\Users\\natra\\AppData\\Local\\Programs\\Python\\Python310\\lib\\site-packages\\sklearn\\metrics\\_regression.py:492: FutureWarning: 'squared' is deprecated in version 1.4 and will be removed in 1.6. To calculate the root mean squared error, use the function'root_mean_squared_error'.\n",
      "  warnings.warn(\n",
      "10:50:57 - cmdstanpy - INFO - Chain [1] start processing\n",
      "10:50:57 - cmdstanpy - INFO - Chain [1] done processing\n",
      "c:\\Users\\natra\\AppData\\Local\\Programs\\Python\\Python310\\lib\\site-packages\\sklearn\\metrics\\_regression.py:492: FutureWarning: 'squared' is deprecated in version 1.4 and will be removed in 1.6. To calculate the root mean squared error, use the function'root_mean_squared_error'.\n",
      "  warnings.warn(\n",
      "10:50:58 - cmdstanpy - INFO - Chain [1] start processing\n",
      "10:50:58 - cmdstanpy - INFO - Chain [1] done processing\n",
      "c:\\Users\\natra\\AppData\\Local\\Programs\\Python\\Python310\\lib\\site-packages\\sklearn\\metrics\\_regression.py:492: FutureWarning: 'squared' is deprecated in version 1.4 and will be removed in 1.6. To calculate the root mean squared error, use the function'root_mean_squared_error'.\n",
      "  warnings.warn(\n",
      "10:50:59 - cmdstanpy - INFO - Chain [1] start processing\n",
      "10:50:59 - cmdstanpy - INFO - Chain [1] done processing\n",
      "c:\\Users\\natra\\AppData\\Local\\Programs\\Python\\Python310\\lib\\site-packages\\sklearn\\metrics\\_regression.py:492: FutureWarning: 'squared' is deprecated in version 1.4 and will be removed in 1.6. To calculate the root mean squared error, use the function'root_mean_squared_error'.\n",
      "  warnings.warn(\n",
      "10:50:59 - cmdstanpy - INFO - Chain [1] start processing\n",
      "10:50:59 - cmdstanpy - INFO - Chain [1] done processing\n",
      "c:\\Users\\natra\\AppData\\Local\\Programs\\Python\\Python310\\lib\\site-packages\\sklearn\\metrics\\_regression.py:492: FutureWarning: 'squared' is deprecated in version 1.4 and will be removed in 1.6. To calculate the root mean squared error, use the function'root_mean_squared_error'.\n",
      "  warnings.warn(\n"
     ]
    },
    {
     "name": "stdout",
     "output_type": "stream",
     "text": [
      "R² Score: 0.697, RMSE: 2.841, MAE: 2.295\n",
      "\n",
      "Evaluating: changepoint_prior_scale=0.09, seasonality_prior_scale=8.1, seasonality_mode=multiplicative\n"
     ]
    },
    {
     "name": "stderr",
     "output_type": "stream",
     "text": [
      "10:51:00 - cmdstanpy - INFO - Chain [1] start processing\n",
      "10:51:00 - cmdstanpy - INFO - Chain [1] done processing\n",
      "c:\\Users\\natra\\AppData\\Local\\Programs\\Python\\Python310\\lib\\site-packages\\sklearn\\metrics\\_regression.py:492: FutureWarning: 'squared' is deprecated in version 1.4 and will be removed in 1.6. To calculate the root mean squared error, use the function'root_mean_squared_error'.\n",
      "  warnings.warn(\n",
      "10:51:01 - cmdstanpy - INFO - Chain [1] start processing\n",
      "10:51:01 - cmdstanpy - INFO - Chain [1] done processing\n",
      "c:\\Users\\natra\\AppData\\Local\\Programs\\Python\\Python310\\lib\\site-packages\\sklearn\\metrics\\_regression.py:492: FutureWarning: 'squared' is deprecated in version 1.4 and will be removed in 1.6. To calculate the root mean squared error, use the function'root_mean_squared_error'.\n",
      "  warnings.warn(\n",
      "10:51:01 - cmdstanpy - INFO - Chain [1] start processing\n",
      "10:51:01 - cmdstanpy - INFO - Chain [1] done processing\n",
      "c:\\Users\\natra\\AppData\\Local\\Programs\\Python\\Python310\\lib\\site-packages\\sklearn\\metrics\\_regression.py:492: FutureWarning: 'squared' is deprecated in version 1.4 and will be removed in 1.6. To calculate the root mean squared error, use the function'root_mean_squared_error'.\n",
      "  warnings.warn(\n",
      "10:51:02 - cmdstanpy - INFO - Chain [1] start processing\n",
      "10:51:02 - cmdstanpy - INFO - Chain [1] done processing\n",
      "c:\\Users\\natra\\AppData\\Local\\Programs\\Python\\Python310\\lib\\site-packages\\sklearn\\metrics\\_regression.py:492: FutureWarning: 'squared' is deprecated in version 1.4 and will be removed in 1.6. To calculate the root mean squared error, use the function'root_mean_squared_error'.\n",
      "  warnings.warn(\n",
      "10:51:02 - cmdstanpy - INFO - Chain [1] start processing\n",
      "10:51:03 - cmdstanpy - INFO - Chain [1] done processing\n",
      "c:\\Users\\natra\\AppData\\Local\\Programs\\Python\\Python310\\lib\\site-packages\\sklearn\\metrics\\_regression.py:492: FutureWarning: 'squared' is deprecated in version 1.4 and will be removed in 1.6. To calculate the root mean squared error, use the function'root_mean_squared_error'.\n",
      "  warnings.warn(\n"
     ]
    },
    {
     "name": "stdout",
     "output_type": "stream",
     "text": [
      "R² Score: 0.697, RMSE: 2.847, MAE: 2.319\n",
      "\n",
      "Evaluating: changepoint_prior_scale=0.09, seasonality_prior_scale=9.1, seasonality_mode=additive\n"
     ]
    },
    {
     "name": "stderr",
     "output_type": "stream",
     "text": [
      "10:51:03 - cmdstanpy - INFO - Chain [1] start processing\n",
      "10:51:03 - cmdstanpy - INFO - Chain [1] done processing\n",
      "c:\\Users\\natra\\AppData\\Local\\Programs\\Python\\Python310\\lib\\site-packages\\sklearn\\metrics\\_regression.py:492: FutureWarning: 'squared' is deprecated in version 1.4 and will be removed in 1.6. To calculate the root mean squared error, use the function'root_mean_squared_error'.\n",
      "  warnings.warn(\n",
      "10:51:04 - cmdstanpy - INFO - Chain [1] start processing\n",
      "10:51:04 - cmdstanpy - INFO - Chain [1] done processing\n",
      "c:\\Users\\natra\\AppData\\Local\\Programs\\Python\\Python310\\lib\\site-packages\\sklearn\\metrics\\_regression.py:492: FutureWarning: 'squared' is deprecated in version 1.4 and will be removed in 1.6. To calculate the root mean squared error, use the function'root_mean_squared_error'.\n",
      "  warnings.warn(\n",
      "10:51:04 - cmdstanpy - INFO - Chain [1] start processing\n",
      "10:51:04 - cmdstanpy - INFO - Chain [1] done processing\n",
      "c:\\Users\\natra\\AppData\\Local\\Programs\\Python\\Python310\\lib\\site-packages\\sklearn\\metrics\\_regression.py:492: FutureWarning: 'squared' is deprecated in version 1.4 and will be removed in 1.6. To calculate the root mean squared error, use the function'root_mean_squared_error'.\n",
      "  warnings.warn(\n",
      "10:51:05 - cmdstanpy - INFO - Chain [1] start processing\n",
      "10:51:05 - cmdstanpy - INFO - Chain [1] done processing\n",
      "c:\\Users\\natra\\AppData\\Local\\Programs\\Python\\Python310\\lib\\site-packages\\sklearn\\metrics\\_regression.py:492: FutureWarning: 'squared' is deprecated in version 1.4 and will be removed in 1.6. To calculate the root mean squared error, use the function'root_mean_squared_error'.\n",
      "  warnings.warn(\n",
      "10:51:06 - cmdstanpy - INFO - Chain [1] start processing\n",
      "10:51:06 - cmdstanpy - INFO - Chain [1] done processing\n",
      "c:\\Users\\natra\\AppData\\Local\\Programs\\Python\\Python310\\lib\\site-packages\\sklearn\\metrics\\_regression.py:492: FutureWarning: 'squared' is deprecated in version 1.4 and will be removed in 1.6. To calculate the root mean squared error, use the function'root_mean_squared_error'.\n",
      "  warnings.warn(\n"
     ]
    },
    {
     "name": "stdout",
     "output_type": "stream",
     "text": [
      "R² Score: 0.700, RMSE: 2.830, MAE: 2.286\n",
      "\n",
      "Evaluating: changepoint_prior_scale=0.09, seasonality_prior_scale=9.1, seasonality_mode=multiplicative\n"
     ]
    },
    {
     "name": "stderr",
     "output_type": "stream",
     "text": [
      "10:51:06 - cmdstanpy - INFO - Chain [1] start processing\n",
      "10:51:06 - cmdstanpy - INFO - Chain [1] done processing\n",
      "c:\\Users\\natra\\AppData\\Local\\Programs\\Python\\Python310\\lib\\site-packages\\sklearn\\metrics\\_regression.py:492: FutureWarning: 'squared' is deprecated in version 1.4 and will be removed in 1.6. To calculate the root mean squared error, use the function'root_mean_squared_error'.\n",
      "  warnings.warn(\n",
      "10:51:07 - cmdstanpy - INFO - Chain [1] start processing\n",
      "10:51:07 - cmdstanpy - INFO - Chain [1] done processing\n",
      "c:\\Users\\natra\\AppData\\Local\\Programs\\Python\\Python310\\lib\\site-packages\\sklearn\\metrics\\_regression.py:492: FutureWarning: 'squared' is deprecated in version 1.4 and will be removed in 1.6. To calculate the root mean squared error, use the function'root_mean_squared_error'.\n",
      "  warnings.warn(\n",
      "10:51:07 - cmdstanpy - INFO - Chain [1] start processing\n",
      "10:51:08 - cmdstanpy - INFO - Chain [1] done processing\n",
      "c:\\Users\\natra\\AppData\\Local\\Programs\\Python\\Python310\\lib\\site-packages\\sklearn\\metrics\\_regression.py:492: FutureWarning: 'squared' is deprecated in version 1.4 and will be removed in 1.6. To calculate the root mean squared error, use the function'root_mean_squared_error'.\n",
      "  warnings.warn(\n",
      "10:51:08 - cmdstanpy - INFO - Chain [1] start processing\n",
      "10:51:08 - cmdstanpy - INFO - Chain [1] done processing\n",
      "c:\\Users\\natra\\AppData\\Local\\Programs\\Python\\Python310\\lib\\site-packages\\sklearn\\metrics\\_regression.py:492: FutureWarning: 'squared' is deprecated in version 1.4 and will be removed in 1.6. To calculate the root mean squared error, use the function'root_mean_squared_error'.\n",
      "  warnings.warn(\n",
      "10:51:09 - cmdstanpy - INFO - Chain [1] start processing\n",
      "10:51:09 - cmdstanpy - INFO - Chain [1] done processing\n",
      "c:\\Users\\natra\\AppData\\Local\\Programs\\Python\\Python310\\lib\\site-packages\\sklearn\\metrics\\_regression.py:492: FutureWarning: 'squared' is deprecated in version 1.4 and will be removed in 1.6. To calculate the root mean squared error, use the function'root_mean_squared_error'.\n",
      "  warnings.warn(\n"
     ]
    },
    {
     "name": "stdout",
     "output_type": "stream",
     "text": [
      "R² Score: 0.699, RMSE: 2.838, MAE: 2.309\n",
      "\n",
      "Evaluating: changepoint_prior_scale=0.09, seasonality_prior_scale=10.1, seasonality_mode=additive\n"
     ]
    },
    {
     "name": "stderr",
     "output_type": "stream",
     "text": [
      "10:51:09 - cmdstanpy - INFO - Chain [1] start processing\n",
      "10:51:10 - cmdstanpy - INFO - Chain [1] done processing\n",
      "c:\\Users\\natra\\AppData\\Local\\Programs\\Python\\Python310\\lib\\site-packages\\sklearn\\metrics\\_regression.py:492: FutureWarning: 'squared' is deprecated in version 1.4 and will be removed in 1.6. To calculate the root mean squared error, use the function'root_mean_squared_error'.\n",
      "  warnings.warn(\n",
      "10:51:10 - cmdstanpy - INFO - Chain [1] start processing\n",
      "10:51:10 - cmdstanpy - INFO - Chain [1] done processing\n",
      "c:\\Users\\natra\\AppData\\Local\\Programs\\Python\\Python310\\lib\\site-packages\\sklearn\\metrics\\_regression.py:492: FutureWarning: 'squared' is deprecated in version 1.4 and will be removed in 1.6. To calculate the root mean squared error, use the function'root_mean_squared_error'.\n",
      "  warnings.warn(\n",
      "10:51:11 - cmdstanpy - INFO - Chain [1] start processing\n",
      "10:51:11 - cmdstanpy - INFO - Chain [1] done processing\n",
      "c:\\Users\\natra\\AppData\\Local\\Programs\\Python\\Python310\\lib\\site-packages\\sklearn\\metrics\\_regression.py:492: FutureWarning: 'squared' is deprecated in version 1.4 and will be removed in 1.6. To calculate the root mean squared error, use the function'root_mean_squared_error'.\n",
      "  warnings.warn(\n",
      "10:51:11 - cmdstanpy - INFO - Chain [1] start processing\n",
      "10:51:11 - cmdstanpy - INFO - Chain [1] done processing\n",
      "c:\\Users\\natra\\AppData\\Local\\Programs\\Python\\Python310\\lib\\site-packages\\sklearn\\metrics\\_regression.py:492: FutureWarning: 'squared' is deprecated in version 1.4 and will be removed in 1.6. To calculate the root mean squared error, use the function'root_mean_squared_error'.\n",
      "  warnings.warn(\n",
      "10:51:12 - cmdstanpy - INFO - Chain [1] start processing\n",
      "10:51:12 - cmdstanpy - INFO - Chain [1] done processing\n",
      "c:\\Users\\natra\\AppData\\Local\\Programs\\Python\\Python310\\lib\\site-packages\\sklearn\\metrics\\_regression.py:492: FutureWarning: 'squared' is deprecated in version 1.4 and will be removed in 1.6. To calculate the root mean squared error, use the function'root_mean_squared_error'.\n",
      "  warnings.warn(\n"
     ]
    },
    {
     "name": "stdout",
     "output_type": "stream",
     "text": [
      "R² Score: 0.699, RMSE: 2.833, MAE: 2.289\n",
      "\n",
      "Evaluating: changepoint_prior_scale=0.09, seasonality_prior_scale=10.1, seasonality_mode=multiplicative\n"
     ]
    },
    {
     "name": "stderr",
     "output_type": "stream",
     "text": [
      "10:51:13 - cmdstanpy - INFO - Chain [1] start processing\n",
      "10:51:13 - cmdstanpy - INFO - Chain [1] done processing\n",
      "c:\\Users\\natra\\AppData\\Local\\Programs\\Python\\Python310\\lib\\site-packages\\sklearn\\metrics\\_regression.py:492: FutureWarning: 'squared' is deprecated in version 1.4 and will be removed in 1.6. To calculate the root mean squared error, use the function'root_mean_squared_error'.\n",
      "  warnings.warn(\n",
      "10:51:14 - cmdstanpy - INFO - Chain [1] start processing\n",
      "10:51:14 - cmdstanpy - INFO - Chain [1] done processing\n",
      "c:\\Users\\natra\\AppData\\Local\\Programs\\Python\\Python310\\lib\\site-packages\\sklearn\\metrics\\_regression.py:492: FutureWarning: 'squared' is deprecated in version 1.4 and will be removed in 1.6. To calculate the root mean squared error, use the function'root_mean_squared_error'.\n",
      "  warnings.warn(\n",
      "10:51:15 - cmdstanpy - INFO - Chain [1] start processing\n",
      "10:51:15 - cmdstanpy - INFO - Chain [1] done processing\n",
      "c:\\Users\\natra\\AppData\\Local\\Programs\\Python\\Python310\\lib\\site-packages\\sklearn\\metrics\\_regression.py:492: FutureWarning: 'squared' is deprecated in version 1.4 and will be removed in 1.6. To calculate the root mean squared error, use the function'root_mean_squared_error'.\n",
      "  warnings.warn(\n",
      "10:51:16 - cmdstanpy - INFO - Chain [1] start processing\n",
      "10:51:16 - cmdstanpy - INFO - Chain [1] done processing\n",
      "c:\\Users\\natra\\AppData\\Local\\Programs\\Python\\Python310\\lib\\site-packages\\sklearn\\metrics\\_regression.py:492: FutureWarning: 'squared' is deprecated in version 1.4 and will be removed in 1.6. To calculate the root mean squared error, use the function'root_mean_squared_error'.\n",
      "  warnings.warn(\n",
      "10:51:16 - cmdstanpy - INFO - Chain [1] start processing\n",
      "10:51:17 - cmdstanpy - INFO - Chain [1] done processing\n",
      "c:\\Users\\natra\\AppData\\Local\\Programs\\Python\\Python310\\lib\\site-packages\\sklearn\\metrics\\_regression.py:492: FutureWarning: 'squared' is deprecated in version 1.4 and will be removed in 1.6. To calculate the root mean squared error, use the function'root_mean_squared_error'.\n",
      "  warnings.warn(\n"
     ]
    },
    {
     "name": "stdout",
     "output_type": "stream",
     "text": [
      "R² Score: 0.699, RMSE: 2.840, MAE: 2.311\n",
      "\n",
      "Evaluating: changepoint_prior_scale=0.09999999999999999, seasonality_prior_scale=0.1, seasonality_mode=additive\n"
     ]
    },
    {
     "name": "stderr",
     "output_type": "stream",
     "text": [
      "10:51:17 - cmdstanpy - INFO - Chain [1] start processing\n",
      "10:51:17 - cmdstanpy - INFO - Chain [1] done processing\n",
      "c:\\Users\\natra\\AppData\\Local\\Programs\\Python\\Python310\\lib\\site-packages\\sklearn\\metrics\\_regression.py:492: FutureWarning: 'squared' is deprecated in version 1.4 and will be removed in 1.6. To calculate the root mean squared error, use the function'root_mean_squared_error'.\n",
      "  warnings.warn(\n",
      "10:51:18 - cmdstanpy - INFO - Chain [1] start processing\n",
      "10:51:18 - cmdstanpy - INFO - Chain [1] done processing\n",
      "c:\\Users\\natra\\AppData\\Local\\Programs\\Python\\Python310\\lib\\site-packages\\sklearn\\metrics\\_regression.py:492: FutureWarning: 'squared' is deprecated in version 1.4 and will be removed in 1.6. To calculate the root mean squared error, use the function'root_mean_squared_error'.\n",
      "  warnings.warn(\n",
      "10:51:19 - cmdstanpy - INFO - Chain [1] start processing\n",
      "10:51:19 - cmdstanpy - INFO - Chain [1] done processing\n",
      "c:\\Users\\natra\\AppData\\Local\\Programs\\Python\\Python310\\lib\\site-packages\\sklearn\\metrics\\_regression.py:492: FutureWarning: 'squared' is deprecated in version 1.4 and will be removed in 1.6. To calculate the root mean squared error, use the function'root_mean_squared_error'.\n",
      "  warnings.warn(\n",
      "10:51:20 - cmdstanpy - INFO - Chain [1] start processing\n",
      "10:51:20 - cmdstanpy - INFO - Chain [1] done processing\n",
      "c:\\Users\\natra\\AppData\\Local\\Programs\\Python\\Python310\\lib\\site-packages\\sklearn\\metrics\\_regression.py:492: FutureWarning: 'squared' is deprecated in version 1.4 and will be removed in 1.6. To calculate the root mean squared error, use the function'root_mean_squared_error'.\n",
      "  warnings.warn(\n",
      "10:51:21 - cmdstanpy - INFO - Chain [1] start processing\n",
      "10:51:21 - cmdstanpy - INFO - Chain [1] done processing\n",
      "c:\\Users\\natra\\AppData\\Local\\Programs\\Python\\Python310\\lib\\site-packages\\sklearn\\metrics\\_regression.py:492: FutureWarning: 'squared' is deprecated in version 1.4 and will be removed in 1.6. To calculate the root mean squared error, use the function'root_mean_squared_error'.\n",
      "  warnings.warn(\n"
     ]
    },
    {
     "name": "stdout",
     "output_type": "stream",
     "text": [
      "R² Score: 0.691, RMSE: 2.866, MAE: 2.317\n",
      "\n",
      "Evaluating: changepoint_prior_scale=0.09999999999999999, seasonality_prior_scale=0.1, seasonality_mode=multiplicative\n"
     ]
    },
    {
     "name": "stderr",
     "output_type": "stream",
     "text": [
      "10:51:22 - cmdstanpy - INFO - Chain [1] start processing\n",
      "10:51:22 - cmdstanpy - INFO - Chain [1] done processing\n",
      "c:\\Users\\natra\\AppData\\Local\\Programs\\Python\\Python310\\lib\\site-packages\\sklearn\\metrics\\_regression.py:492: FutureWarning: 'squared' is deprecated in version 1.4 and will be removed in 1.6. To calculate the root mean squared error, use the function'root_mean_squared_error'.\n",
      "  warnings.warn(\n",
      "10:51:23 - cmdstanpy - INFO - Chain [1] start processing\n",
      "10:51:23 - cmdstanpy - INFO - Chain [1] done processing\n",
      "c:\\Users\\natra\\AppData\\Local\\Programs\\Python\\Python310\\lib\\site-packages\\sklearn\\metrics\\_regression.py:492: FutureWarning: 'squared' is deprecated in version 1.4 and will be removed in 1.6. To calculate the root mean squared error, use the function'root_mean_squared_error'.\n",
      "  warnings.warn(\n",
      "10:51:24 - cmdstanpy - INFO - Chain [1] start processing\n",
      "10:51:24 - cmdstanpy - INFO - Chain [1] done processing\n",
      "c:\\Users\\natra\\AppData\\Local\\Programs\\Python\\Python310\\lib\\site-packages\\sklearn\\metrics\\_regression.py:492: FutureWarning: 'squared' is deprecated in version 1.4 and will be removed in 1.6. To calculate the root mean squared error, use the function'root_mean_squared_error'.\n",
      "  warnings.warn(\n",
      "10:51:24 - cmdstanpy - INFO - Chain [1] start processing\n",
      "10:51:25 - cmdstanpy - INFO - Chain [1] done processing\n",
      "c:\\Users\\natra\\AppData\\Local\\Programs\\Python\\Python310\\lib\\site-packages\\sklearn\\metrics\\_regression.py:492: FutureWarning: 'squared' is deprecated in version 1.4 and will be removed in 1.6. To calculate the root mean squared error, use the function'root_mean_squared_error'.\n",
      "  warnings.warn(\n",
      "10:51:25 - cmdstanpy - INFO - Chain [1] start processing\n",
      "10:51:25 - cmdstanpy - INFO - Chain [1] done processing\n",
      "c:\\Users\\natra\\AppData\\Local\\Programs\\Python\\Python310\\lib\\site-packages\\sklearn\\metrics\\_regression.py:492: FutureWarning: 'squared' is deprecated in version 1.4 and will be removed in 1.6. To calculate the root mean squared error, use the function'root_mean_squared_error'.\n",
      "  warnings.warn(\n"
     ]
    },
    {
     "name": "stdout",
     "output_type": "stream",
     "text": [
      "R² Score: 0.694, RMSE: 2.862, MAE: 2.331\n",
      "\n",
      "Evaluating: changepoint_prior_scale=0.09999999999999999, seasonality_prior_scale=1.1, seasonality_mode=additive\n"
     ]
    },
    {
     "name": "stderr",
     "output_type": "stream",
     "text": [
      "10:51:26 - cmdstanpy - INFO - Chain [1] start processing\n",
      "10:51:26 - cmdstanpy - INFO - Chain [1] done processing\n",
      "c:\\Users\\natra\\AppData\\Local\\Programs\\Python\\Python310\\lib\\site-packages\\sklearn\\metrics\\_regression.py:492: FutureWarning: 'squared' is deprecated in version 1.4 and will be removed in 1.6. To calculate the root mean squared error, use the function'root_mean_squared_error'.\n",
      "  warnings.warn(\n",
      "10:51:27 - cmdstanpy - INFO - Chain [1] start processing\n",
      "10:51:27 - cmdstanpy - INFO - Chain [1] done processing\n",
      "c:\\Users\\natra\\AppData\\Local\\Programs\\Python\\Python310\\lib\\site-packages\\sklearn\\metrics\\_regression.py:492: FutureWarning: 'squared' is deprecated in version 1.4 and will be removed in 1.6. To calculate the root mean squared error, use the function'root_mean_squared_error'.\n",
      "  warnings.warn(\n",
      "10:51:28 - cmdstanpy - INFO - Chain [1] start processing\n",
      "10:51:28 - cmdstanpy - INFO - Chain [1] done processing\n",
      "c:\\Users\\natra\\AppData\\Local\\Programs\\Python\\Python310\\lib\\site-packages\\sklearn\\metrics\\_regression.py:492: FutureWarning: 'squared' is deprecated in version 1.4 and will be removed in 1.6. To calculate the root mean squared error, use the function'root_mean_squared_error'.\n",
      "  warnings.warn(\n",
      "10:51:28 - cmdstanpy - INFO - Chain [1] start processing\n",
      "10:51:29 - cmdstanpy - INFO - Chain [1] done processing\n",
      "c:\\Users\\natra\\AppData\\Local\\Programs\\Python\\Python310\\lib\\site-packages\\sklearn\\metrics\\_regression.py:492: FutureWarning: 'squared' is deprecated in version 1.4 and will be removed in 1.6. To calculate the root mean squared error, use the function'root_mean_squared_error'.\n",
      "  warnings.warn(\n",
      "10:51:29 - cmdstanpy - INFO - Chain [1] start processing\n",
      "10:51:29 - cmdstanpy - INFO - Chain [1] done processing\n",
      "c:\\Users\\natra\\AppData\\Local\\Programs\\Python\\Python310\\lib\\site-packages\\sklearn\\metrics\\_regression.py:492: FutureWarning: 'squared' is deprecated in version 1.4 and will be removed in 1.6. To calculate the root mean squared error, use the function'root_mean_squared_error'.\n",
      "  warnings.warn(\n"
     ]
    },
    {
     "name": "stdout",
     "output_type": "stream",
     "text": [
      "R² Score: 0.689, RMSE: 2.873, MAE: 2.323\n",
      "\n",
      "Evaluating: changepoint_prior_scale=0.09999999999999999, seasonality_prior_scale=1.1, seasonality_mode=multiplicative\n"
     ]
    },
    {
     "name": "stderr",
     "output_type": "stream",
     "text": [
      "10:51:30 - cmdstanpy - INFO - Chain [1] start processing\n",
      "10:51:30 - cmdstanpy - INFO - Chain [1] done processing\n",
      "c:\\Users\\natra\\AppData\\Local\\Programs\\Python\\Python310\\lib\\site-packages\\sklearn\\metrics\\_regression.py:492: FutureWarning: 'squared' is deprecated in version 1.4 and will be removed in 1.6. To calculate the root mean squared error, use the function'root_mean_squared_error'.\n",
      "  warnings.warn(\n",
      "10:51:31 - cmdstanpy - INFO - Chain [1] start processing\n",
      "10:51:31 - cmdstanpy - INFO - Chain [1] done processing\n",
      "c:\\Users\\natra\\AppData\\Local\\Programs\\Python\\Python310\\lib\\site-packages\\sklearn\\metrics\\_regression.py:492: FutureWarning: 'squared' is deprecated in version 1.4 and will be removed in 1.6. To calculate the root mean squared error, use the function'root_mean_squared_error'.\n",
      "  warnings.warn(\n",
      "10:51:32 - cmdstanpy - INFO - Chain [1] start processing\n",
      "10:51:32 - cmdstanpy - INFO - Chain [1] done processing\n",
      "c:\\Users\\natra\\AppData\\Local\\Programs\\Python\\Python310\\lib\\site-packages\\sklearn\\metrics\\_regression.py:492: FutureWarning: 'squared' is deprecated in version 1.4 and will be removed in 1.6. To calculate the root mean squared error, use the function'root_mean_squared_error'.\n",
      "  warnings.warn(\n",
      "10:51:32 - cmdstanpy - INFO - Chain [1] start processing\n",
      "10:51:32 - cmdstanpy - INFO - Chain [1] done processing\n",
      "c:\\Users\\natra\\AppData\\Local\\Programs\\Python\\Python310\\lib\\site-packages\\sklearn\\metrics\\_regression.py:492: FutureWarning: 'squared' is deprecated in version 1.4 and will be removed in 1.6. To calculate the root mean squared error, use the function'root_mean_squared_error'.\n",
      "  warnings.warn(\n",
      "10:51:33 - cmdstanpy - INFO - Chain [1] start processing\n",
      "10:51:33 - cmdstanpy - INFO - Chain [1] done processing\n",
      "c:\\Users\\natra\\AppData\\Local\\Programs\\Python\\Python310\\lib\\site-packages\\sklearn\\metrics\\_regression.py:492: FutureWarning: 'squared' is deprecated in version 1.4 and will be removed in 1.6. To calculate the root mean squared error, use the function'root_mean_squared_error'.\n",
      "  warnings.warn(\n"
     ]
    },
    {
     "name": "stdout",
     "output_type": "stream",
     "text": [
      "R² Score: 0.693, RMSE: 2.864, MAE: 2.334\n",
      "\n",
      "Evaluating: changepoint_prior_scale=0.09999999999999999, seasonality_prior_scale=2.1, seasonality_mode=additive\n"
     ]
    },
    {
     "name": "stderr",
     "output_type": "stream",
     "text": [
      "10:51:34 - cmdstanpy - INFO - Chain [1] start processing\n",
      "10:51:34 - cmdstanpy - INFO - Chain [1] done processing\n",
      "c:\\Users\\natra\\AppData\\Local\\Programs\\Python\\Python310\\lib\\site-packages\\sklearn\\metrics\\_regression.py:492: FutureWarning: 'squared' is deprecated in version 1.4 and will be removed in 1.6. To calculate the root mean squared error, use the function'root_mean_squared_error'.\n",
      "  warnings.warn(\n",
      "10:51:34 - cmdstanpy - INFO - Chain [1] start processing\n",
      "10:51:34 - cmdstanpy - INFO - Chain [1] done processing\n",
      "c:\\Users\\natra\\AppData\\Local\\Programs\\Python\\Python310\\lib\\site-packages\\sklearn\\metrics\\_regression.py:492: FutureWarning: 'squared' is deprecated in version 1.4 and will be removed in 1.6. To calculate the root mean squared error, use the function'root_mean_squared_error'.\n",
      "  warnings.warn(\n",
      "10:51:35 - cmdstanpy - INFO - Chain [1] start processing\n",
      "10:51:35 - cmdstanpy - INFO - Chain [1] done processing\n",
      "c:\\Users\\natra\\AppData\\Local\\Programs\\Python\\Python310\\lib\\site-packages\\sklearn\\metrics\\_regression.py:492: FutureWarning: 'squared' is deprecated in version 1.4 and will be removed in 1.6. To calculate the root mean squared error, use the function'root_mean_squared_error'.\n",
      "  warnings.warn(\n",
      "10:51:36 - cmdstanpy - INFO - Chain [1] start processing\n",
      "10:51:36 - cmdstanpy - INFO - Chain [1] done processing\n",
      "c:\\Users\\natra\\AppData\\Local\\Programs\\Python\\Python310\\lib\\site-packages\\sklearn\\metrics\\_regression.py:492: FutureWarning: 'squared' is deprecated in version 1.4 and will be removed in 1.6. To calculate the root mean squared error, use the function'root_mean_squared_error'.\n",
      "  warnings.warn(\n",
      "10:51:36 - cmdstanpy - INFO - Chain [1] start processing\n",
      "10:51:36 - cmdstanpy - INFO - Chain [1] done processing\n",
      "c:\\Users\\natra\\AppData\\Local\\Programs\\Python\\Python310\\lib\\site-packages\\sklearn\\metrics\\_regression.py:492: FutureWarning: 'squared' is deprecated in version 1.4 and will be removed in 1.6. To calculate the root mean squared error, use the function'root_mean_squared_error'.\n",
      "  warnings.warn(\n"
     ]
    },
    {
     "name": "stdout",
     "output_type": "stream",
     "text": [
      "R² Score: 0.690, RMSE: 2.869, MAE: 2.321\n",
      "\n",
      "Evaluating: changepoint_prior_scale=0.09999999999999999, seasonality_prior_scale=2.1, seasonality_mode=multiplicative\n"
     ]
    },
    {
     "name": "stderr",
     "output_type": "stream",
     "text": [
      "10:51:37 - cmdstanpy - INFO - Chain [1] start processing\n",
      "10:51:37 - cmdstanpy - INFO - Chain [1] done processing\n",
      "c:\\Users\\natra\\AppData\\Local\\Programs\\Python\\Python310\\lib\\site-packages\\sklearn\\metrics\\_regression.py:492: FutureWarning: 'squared' is deprecated in version 1.4 and will be removed in 1.6. To calculate the root mean squared error, use the function'root_mean_squared_error'.\n",
      "  warnings.warn(\n",
      "10:51:38 - cmdstanpy - INFO - Chain [1] start processing\n",
      "10:51:38 - cmdstanpy - INFO - Chain [1] done processing\n",
      "c:\\Users\\natra\\AppData\\Local\\Programs\\Python\\Python310\\lib\\site-packages\\sklearn\\metrics\\_regression.py:492: FutureWarning: 'squared' is deprecated in version 1.4 and will be removed in 1.6. To calculate the root mean squared error, use the function'root_mean_squared_error'.\n",
      "  warnings.warn(\n",
      "10:51:38 - cmdstanpy - INFO - Chain [1] start processing\n",
      "10:51:38 - cmdstanpy - INFO - Chain [1] done processing\n",
      "c:\\Users\\natra\\AppData\\Local\\Programs\\Python\\Python310\\lib\\site-packages\\sklearn\\metrics\\_regression.py:492: FutureWarning: 'squared' is deprecated in version 1.4 and will be removed in 1.6. To calculate the root mean squared error, use the function'root_mean_squared_error'.\n",
      "  warnings.warn(\n",
      "10:51:39 - cmdstanpy - INFO - Chain [1] start processing\n",
      "10:51:39 - cmdstanpy - INFO - Chain [1] done processing\n",
      "c:\\Users\\natra\\AppData\\Local\\Programs\\Python\\Python310\\lib\\site-packages\\sklearn\\metrics\\_regression.py:492: FutureWarning: 'squared' is deprecated in version 1.4 and will be removed in 1.6. To calculate the root mean squared error, use the function'root_mean_squared_error'.\n",
      "  warnings.warn(\n",
      "10:51:40 - cmdstanpy - INFO - Chain [1] start processing\n",
      "10:51:40 - cmdstanpy - INFO - Chain [1] done processing\n",
      "c:\\Users\\natra\\AppData\\Local\\Programs\\Python\\Python310\\lib\\site-packages\\sklearn\\metrics\\_regression.py:492: FutureWarning: 'squared' is deprecated in version 1.4 and will be removed in 1.6. To calculate the root mean squared error, use the function'root_mean_squared_error'.\n",
      "  warnings.warn(\n"
     ]
    },
    {
     "name": "stdout",
     "output_type": "stream",
     "text": [
      "R² Score: 0.692, RMSE: 2.869, MAE: 2.339\n",
      "\n",
      "Evaluating: changepoint_prior_scale=0.09999999999999999, seasonality_prior_scale=3.1, seasonality_mode=additive\n"
     ]
    },
    {
     "name": "stderr",
     "output_type": "stream",
     "text": [
      "10:51:40 - cmdstanpy - INFO - Chain [1] start processing\n",
      "10:51:40 - cmdstanpy - INFO - Chain [1] done processing\n",
      "c:\\Users\\natra\\AppData\\Local\\Programs\\Python\\Python310\\lib\\site-packages\\sklearn\\metrics\\_regression.py:492: FutureWarning: 'squared' is deprecated in version 1.4 and will be removed in 1.6. To calculate the root mean squared error, use the function'root_mean_squared_error'.\n",
      "  warnings.warn(\n",
      "10:51:41 - cmdstanpy - INFO - Chain [1] start processing\n",
      "10:51:41 - cmdstanpy - INFO - Chain [1] done processing\n",
      "c:\\Users\\natra\\AppData\\Local\\Programs\\Python\\Python310\\lib\\site-packages\\sklearn\\metrics\\_regression.py:492: FutureWarning: 'squared' is deprecated in version 1.4 and will be removed in 1.6. To calculate the root mean squared error, use the function'root_mean_squared_error'.\n",
      "  warnings.warn(\n",
      "10:51:42 - cmdstanpy - INFO - Chain [1] start processing\n",
      "10:51:42 - cmdstanpy - INFO - Chain [1] done processing\n",
      "c:\\Users\\natra\\AppData\\Local\\Programs\\Python\\Python310\\lib\\site-packages\\sklearn\\metrics\\_regression.py:492: FutureWarning: 'squared' is deprecated in version 1.4 and will be removed in 1.6. To calculate the root mean squared error, use the function'root_mean_squared_error'.\n",
      "  warnings.warn(\n",
      "10:51:42 - cmdstanpy - INFO - Chain [1] start processing\n",
      "10:51:42 - cmdstanpy - INFO - Chain [1] done processing\n",
      "c:\\Users\\natra\\AppData\\Local\\Programs\\Python\\Python310\\lib\\site-packages\\sklearn\\metrics\\_regression.py:492: FutureWarning: 'squared' is deprecated in version 1.4 and will be removed in 1.6. To calculate the root mean squared error, use the function'root_mean_squared_error'.\n",
      "  warnings.warn(\n",
      "10:51:43 - cmdstanpy - INFO - Chain [1] start processing\n",
      "10:51:43 - cmdstanpy - INFO - Chain [1] done processing\n",
      "c:\\Users\\natra\\AppData\\Local\\Programs\\Python\\Python310\\lib\\site-packages\\sklearn\\metrics\\_regression.py:492: FutureWarning: 'squared' is deprecated in version 1.4 and will be removed in 1.6. To calculate the root mean squared error, use the function'root_mean_squared_error'.\n",
      "  warnings.warn(\n"
     ]
    },
    {
     "name": "stdout",
     "output_type": "stream",
     "text": [
      "R² Score: 0.690, RMSE: 2.871, MAE: 2.321\n",
      "\n",
      "Evaluating: changepoint_prior_scale=0.09999999999999999, seasonality_prior_scale=3.1, seasonality_mode=multiplicative\n"
     ]
    },
    {
     "name": "stderr",
     "output_type": "stream",
     "text": [
      "10:51:44 - cmdstanpy - INFO - Chain [1] start processing\n",
      "10:51:44 - cmdstanpy - INFO - Chain [1] done processing\n",
      "c:\\Users\\natra\\AppData\\Local\\Programs\\Python\\Python310\\lib\\site-packages\\sklearn\\metrics\\_regression.py:492: FutureWarning: 'squared' is deprecated in version 1.4 and will be removed in 1.6. To calculate the root mean squared error, use the function'root_mean_squared_error'.\n",
      "  warnings.warn(\n",
      "10:51:44 - cmdstanpy - INFO - Chain [1] start processing\n",
      "10:51:45 - cmdstanpy - INFO - Chain [1] done processing\n",
      "c:\\Users\\natra\\AppData\\Local\\Programs\\Python\\Python310\\lib\\site-packages\\sklearn\\metrics\\_regression.py:492: FutureWarning: 'squared' is deprecated in version 1.4 and will be removed in 1.6. To calculate the root mean squared error, use the function'root_mean_squared_error'.\n",
      "  warnings.warn(\n",
      "10:51:45 - cmdstanpy - INFO - Chain [1] start processing\n",
      "10:51:45 - cmdstanpy - INFO - Chain [1] done processing\n",
      "c:\\Users\\natra\\AppData\\Local\\Programs\\Python\\Python310\\lib\\site-packages\\sklearn\\metrics\\_regression.py:492: FutureWarning: 'squared' is deprecated in version 1.4 and will be removed in 1.6. To calculate the root mean squared error, use the function'root_mean_squared_error'.\n",
      "  warnings.warn(\n",
      "10:51:46 - cmdstanpy - INFO - Chain [1] start processing\n",
      "10:51:46 - cmdstanpy - INFO - Chain [1] done processing\n",
      "c:\\Users\\natra\\AppData\\Local\\Programs\\Python\\Python310\\lib\\site-packages\\sklearn\\metrics\\_regression.py:492: FutureWarning: 'squared' is deprecated in version 1.4 and will be removed in 1.6. To calculate the root mean squared error, use the function'root_mean_squared_error'.\n",
      "  warnings.warn(\n",
      "10:51:46 - cmdstanpy - INFO - Chain [1] start processing\n",
      "10:51:47 - cmdstanpy - INFO - Chain [1] done processing\n",
      "c:\\Users\\natra\\AppData\\Local\\Programs\\Python\\Python310\\lib\\site-packages\\sklearn\\metrics\\_regression.py:492: FutureWarning: 'squared' is deprecated in version 1.4 and will be removed in 1.6. To calculate the root mean squared error, use the function'root_mean_squared_error'.\n",
      "  warnings.warn(\n"
     ]
    },
    {
     "name": "stdout",
     "output_type": "stream",
     "text": [
      "R² Score: 0.692, RMSE: 2.869, MAE: 2.340\n",
      "\n",
      "Evaluating: changepoint_prior_scale=0.09999999999999999, seasonality_prior_scale=4.1, seasonality_mode=additive\n"
     ]
    },
    {
     "name": "stderr",
     "output_type": "stream",
     "text": [
      "10:51:47 - cmdstanpy - INFO - Chain [1] start processing\n",
      "10:51:47 - cmdstanpy - INFO - Chain [1] done processing\n",
      "c:\\Users\\natra\\AppData\\Local\\Programs\\Python\\Python310\\lib\\site-packages\\sklearn\\metrics\\_regression.py:492: FutureWarning: 'squared' is deprecated in version 1.4 and will be removed in 1.6. To calculate the root mean squared error, use the function'root_mean_squared_error'.\n",
      "  warnings.warn(\n",
      "10:51:48 - cmdstanpy - INFO - Chain [1] start processing\n",
      "10:51:48 - cmdstanpy - INFO - Chain [1] done processing\n",
      "c:\\Users\\natra\\AppData\\Local\\Programs\\Python\\Python310\\lib\\site-packages\\sklearn\\metrics\\_regression.py:492: FutureWarning: 'squared' is deprecated in version 1.4 and will be removed in 1.6. To calculate the root mean squared error, use the function'root_mean_squared_error'.\n",
      "  warnings.warn(\n",
      "10:51:49 - cmdstanpy - INFO - Chain [1] start processing\n",
      "10:51:49 - cmdstanpy - INFO - Chain [1] done processing\n",
      "c:\\Users\\natra\\AppData\\Local\\Programs\\Python\\Python310\\lib\\site-packages\\sklearn\\metrics\\_regression.py:492: FutureWarning: 'squared' is deprecated in version 1.4 and will be removed in 1.6. To calculate the root mean squared error, use the function'root_mean_squared_error'.\n",
      "  warnings.warn(\n",
      "10:51:49 - cmdstanpy - INFO - Chain [1] start processing\n",
      "10:51:49 - cmdstanpy - INFO - Chain [1] done processing\n",
      "c:\\Users\\natra\\AppData\\Local\\Programs\\Python\\Python310\\lib\\site-packages\\sklearn\\metrics\\_regression.py:492: FutureWarning: 'squared' is deprecated in version 1.4 and will be removed in 1.6. To calculate the root mean squared error, use the function'root_mean_squared_error'.\n",
      "  warnings.warn(\n",
      "10:51:50 - cmdstanpy - INFO - Chain [1] start processing\n",
      "10:51:50 - cmdstanpy - INFO - Chain [1] done processing\n",
      "c:\\Users\\natra\\AppData\\Local\\Programs\\Python\\Python310\\lib\\site-packages\\sklearn\\metrics\\_regression.py:492: FutureWarning: 'squared' is deprecated in version 1.4 and will be removed in 1.6. To calculate the root mean squared error, use the function'root_mean_squared_error'.\n",
      "  warnings.warn(\n"
     ]
    },
    {
     "name": "stdout",
     "output_type": "stream",
     "text": [
      "R² Score: 0.689, RMSE: 2.874, MAE: 2.325\n",
      "\n",
      "Evaluating: changepoint_prior_scale=0.09999999999999999, seasonality_prior_scale=4.1, seasonality_mode=multiplicative\n"
     ]
    },
    {
     "name": "stderr",
     "output_type": "stream",
     "text": [
      "10:51:51 - cmdstanpy - INFO - Chain [1] start processing\n",
      "10:51:51 - cmdstanpy - INFO - Chain [1] done processing\n",
      "c:\\Users\\natra\\AppData\\Local\\Programs\\Python\\Python310\\lib\\site-packages\\sklearn\\metrics\\_regression.py:492: FutureWarning: 'squared' is deprecated in version 1.4 and will be removed in 1.6. To calculate the root mean squared error, use the function'root_mean_squared_error'.\n",
      "  warnings.warn(\n",
      "10:51:51 - cmdstanpy - INFO - Chain [1] start processing\n",
      "10:51:52 - cmdstanpy - INFO - Chain [1] done processing\n",
      "c:\\Users\\natra\\AppData\\Local\\Programs\\Python\\Python310\\lib\\site-packages\\sklearn\\metrics\\_regression.py:492: FutureWarning: 'squared' is deprecated in version 1.4 and will be removed in 1.6. To calculate the root mean squared error, use the function'root_mean_squared_error'.\n",
      "  warnings.warn(\n",
      "10:51:52 - cmdstanpy - INFO - Chain [1] start processing\n",
      "10:51:52 - cmdstanpy - INFO - Chain [1] done processing\n",
      "c:\\Users\\natra\\AppData\\Local\\Programs\\Python\\Python310\\lib\\site-packages\\sklearn\\metrics\\_regression.py:492: FutureWarning: 'squared' is deprecated in version 1.4 and will be removed in 1.6. To calculate the root mean squared error, use the function'root_mean_squared_error'.\n",
      "  warnings.warn(\n",
      "10:51:53 - cmdstanpy - INFO - Chain [1] start processing\n",
      "10:51:53 - cmdstanpy - INFO - Chain [1] done processing\n",
      "c:\\Users\\natra\\AppData\\Local\\Programs\\Python\\Python310\\lib\\site-packages\\sklearn\\metrics\\_regression.py:492: FutureWarning: 'squared' is deprecated in version 1.4 and will be removed in 1.6. To calculate the root mean squared error, use the function'root_mean_squared_error'.\n",
      "  warnings.warn(\n",
      "10:51:53 - cmdstanpy - INFO - Chain [1] start processing\n",
      "10:51:54 - cmdstanpy - INFO - Chain [1] done processing\n",
      "c:\\Users\\natra\\AppData\\Local\\Programs\\Python\\Python310\\lib\\site-packages\\sklearn\\metrics\\_regression.py:492: FutureWarning: 'squared' is deprecated in version 1.4 and will be removed in 1.6. To calculate the root mean squared error, use the function'root_mean_squared_error'.\n",
      "  warnings.warn(\n"
     ]
    },
    {
     "name": "stdout",
     "output_type": "stream",
     "text": [
      "R² Score: 0.693, RMSE: 2.862, MAE: 2.333\n",
      "\n",
      "Evaluating: changepoint_prior_scale=0.09999999999999999, seasonality_prior_scale=5.1, seasonality_mode=additive\n"
     ]
    },
    {
     "name": "stderr",
     "output_type": "stream",
     "text": [
      "10:51:54 - cmdstanpy - INFO - Chain [1] start processing\n",
      "10:51:54 - cmdstanpy - INFO - Chain [1] done processing\n",
      "c:\\Users\\natra\\AppData\\Local\\Programs\\Python\\Python310\\lib\\site-packages\\sklearn\\metrics\\_regression.py:492: FutureWarning: 'squared' is deprecated in version 1.4 and will be removed in 1.6. To calculate the root mean squared error, use the function'root_mean_squared_error'.\n",
      "  warnings.warn(\n",
      "10:51:55 - cmdstanpy - INFO - Chain [1] start processing\n",
      "10:51:55 - cmdstanpy - INFO - Chain [1] done processing\n",
      "c:\\Users\\natra\\AppData\\Local\\Programs\\Python\\Python310\\lib\\site-packages\\sklearn\\metrics\\_regression.py:492: FutureWarning: 'squared' is deprecated in version 1.4 and will be removed in 1.6. To calculate the root mean squared error, use the function'root_mean_squared_error'.\n",
      "  warnings.warn(\n",
      "10:51:55 - cmdstanpy - INFO - Chain [1] start processing\n",
      "10:51:56 - cmdstanpy - INFO - Chain [1] done processing\n",
      "c:\\Users\\natra\\AppData\\Local\\Programs\\Python\\Python310\\lib\\site-packages\\sklearn\\metrics\\_regression.py:492: FutureWarning: 'squared' is deprecated in version 1.4 and will be removed in 1.6. To calculate the root mean squared error, use the function'root_mean_squared_error'.\n",
      "  warnings.warn(\n",
      "10:51:56 - cmdstanpy - INFO - Chain [1] start processing\n",
      "10:51:56 - cmdstanpy - INFO - Chain [1] done processing\n",
      "c:\\Users\\natra\\AppData\\Local\\Programs\\Python\\Python310\\lib\\site-packages\\sklearn\\metrics\\_regression.py:492: FutureWarning: 'squared' is deprecated in version 1.4 and will be removed in 1.6. To calculate the root mean squared error, use the function'root_mean_squared_error'.\n",
      "  warnings.warn(\n",
      "10:51:57 - cmdstanpy - INFO - Chain [1] start processing\n",
      "10:51:57 - cmdstanpy - INFO - Chain [1] done processing\n",
      "c:\\Users\\natra\\AppData\\Local\\Programs\\Python\\Python310\\lib\\site-packages\\sklearn\\metrics\\_regression.py:492: FutureWarning: 'squared' is deprecated in version 1.4 and will be removed in 1.6. To calculate the root mean squared error, use the function'root_mean_squared_error'.\n",
      "  warnings.warn(\n"
     ]
    },
    {
     "name": "stdout",
     "output_type": "stream",
     "text": [
      "R² Score: 0.689, RMSE: 2.873, MAE: 2.325\n",
      "\n",
      "Evaluating: changepoint_prior_scale=0.09999999999999999, seasonality_prior_scale=5.1, seasonality_mode=multiplicative\n"
     ]
    },
    {
     "name": "stderr",
     "output_type": "stream",
     "text": [
      "10:51:58 - cmdstanpy - INFO - Chain [1] start processing\n",
      "10:51:58 - cmdstanpy - INFO - Chain [1] done processing\n",
      "c:\\Users\\natra\\AppData\\Local\\Programs\\Python\\Python310\\lib\\site-packages\\sklearn\\metrics\\_regression.py:492: FutureWarning: 'squared' is deprecated in version 1.4 and will be removed in 1.6. To calculate the root mean squared error, use the function'root_mean_squared_error'.\n",
      "  warnings.warn(\n",
      "10:51:59 - cmdstanpy - INFO - Chain [1] start processing\n",
      "10:51:59 - cmdstanpy - INFO - Chain [1] done processing\n",
      "c:\\Users\\natra\\AppData\\Local\\Programs\\Python\\Python310\\lib\\site-packages\\sklearn\\metrics\\_regression.py:492: FutureWarning: 'squared' is deprecated in version 1.4 and will be removed in 1.6. To calculate the root mean squared error, use the function'root_mean_squared_error'.\n",
      "  warnings.warn(\n",
      "10:51:59 - cmdstanpy - INFO - Chain [1] start processing\n",
      "10:51:59 - cmdstanpy - INFO - Chain [1] done processing\n",
      "c:\\Users\\natra\\AppData\\Local\\Programs\\Python\\Python310\\lib\\site-packages\\sklearn\\metrics\\_regression.py:492: FutureWarning: 'squared' is deprecated in version 1.4 and will be removed in 1.6. To calculate the root mean squared error, use the function'root_mean_squared_error'.\n",
      "  warnings.warn(\n",
      "10:52:00 - cmdstanpy - INFO - Chain [1] start processing\n",
      "10:52:00 - cmdstanpy - INFO - Chain [1] done processing\n",
      "c:\\Users\\natra\\AppData\\Local\\Programs\\Python\\Python310\\lib\\site-packages\\sklearn\\metrics\\_regression.py:492: FutureWarning: 'squared' is deprecated in version 1.4 and will be removed in 1.6. To calculate the root mean squared error, use the function'root_mean_squared_error'.\n",
      "  warnings.warn(\n",
      "10:52:01 - cmdstanpy - INFO - Chain [1] start processing\n",
      "10:52:01 - cmdstanpy - INFO - Chain [1] done processing\n",
      "c:\\Users\\natra\\AppData\\Local\\Programs\\Python\\Python310\\lib\\site-packages\\sklearn\\metrics\\_regression.py:492: FutureWarning: 'squared' is deprecated in version 1.4 and will be removed in 1.6. To calculate the root mean squared error, use the function'root_mean_squared_error'.\n",
      "  warnings.warn(\n"
     ]
    },
    {
     "name": "stdout",
     "output_type": "stream",
     "text": [
      "R² Score: 0.694, RMSE: 2.859, MAE: 2.330\n",
      "\n",
      "Evaluating: changepoint_prior_scale=0.09999999999999999, seasonality_prior_scale=6.1, seasonality_mode=additive\n"
     ]
    },
    {
     "name": "stderr",
     "output_type": "stream",
     "text": [
      "10:52:02 - cmdstanpy - INFO - Chain [1] start processing\n",
      "10:52:02 - cmdstanpy - INFO - Chain [1] done processing\n",
      "c:\\Users\\natra\\AppData\\Local\\Programs\\Python\\Python310\\lib\\site-packages\\sklearn\\metrics\\_regression.py:492: FutureWarning: 'squared' is deprecated in version 1.4 and will be removed in 1.6. To calculate the root mean squared error, use the function'root_mean_squared_error'.\n",
      "  warnings.warn(\n",
      "10:52:03 - cmdstanpy - INFO - Chain [1] start processing\n",
      "10:52:03 - cmdstanpy - INFO - Chain [1] done processing\n",
      "c:\\Users\\natra\\AppData\\Local\\Programs\\Python\\Python310\\lib\\site-packages\\sklearn\\metrics\\_regression.py:492: FutureWarning: 'squared' is deprecated in version 1.4 and will be removed in 1.6. To calculate the root mean squared error, use the function'root_mean_squared_error'.\n",
      "  warnings.warn(\n",
      "10:52:03 - cmdstanpy - INFO - Chain [1] start processing\n",
      "10:52:04 - cmdstanpy - INFO - Chain [1] done processing\n",
      "c:\\Users\\natra\\AppData\\Local\\Programs\\Python\\Python310\\lib\\site-packages\\sklearn\\metrics\\_regression.py:492: FutureWarning: 'squared' is deprecated in version 1.4 and will be removed in 1.6. To calculate the root mean squared error, use the function'root_mean_squared_error'.\n",
      "  warnings.warn(\n",
      "10:52:04 - cmdstanpy - INFO - Chain [1] start processing\n",
      "10:52:04 - cmdstanpy - INFO - Chain [1] done processing\n",
      "c:\\Users\\natra\\AppData\\Local\\Programs\\Python\\Python310\\lib\\site-packages\\sklearn\\metrics\\_regression.py:492: FutureWarning: 'squared' is deprecated in version 1.4 and will be removed in 1.6. To calculate the root mean squared error, use the function'root_mean_squared_error'.\n",
      "  warnings.warn(\n",
      "10:52:05 - cmdstanpy - INFO - Chain [1] start processing\n",
      "10:52:05 - cmdstanpy - INFO - Chain [1] done processing\n",
      "c:\\Users\\natra\\AppData\\Local\\Programs\\Python\\Python310\\lib\\site-packages\\sklearn\\metrics\\_regression.py:492: FutureWarning: 'squared' is deprecated in version 1.4 and will be removed in 1.6. To calculate the root mean squared error, use the function'root_mean_squared_error'.\n",
      "  warnings.warn(\n"
     ]
    },
    {
     "name": "stdout",
     "output_type": "stream",
     "text": [
      "R² Score: 0.690, RMSE: 2.868, MAE: 2.319\n",
      "\n",
      "Evaluating: changepoint_prior_scale=0.09999999999999999, seasonality_prior_scale=6.1, seasonality_mode=multiplicative\n"
     ]
    },
    {
     "name": "stderr",
     "output_type": "stream",
     "text": [
      "10:52:06 - cmdstanpy - INFO - Chain [1] start processing\n",
      "10:52:06 - cmdstanpy - INFO - Chain [1] done processing\n",
      "c:\\Users\\natra\\AppData\\Local\\Programs\\Python\\Python310\\lib\\site-packages\\sklearn\\metrics\\_regression.py:492: FutureWarning: 'squared' is deprecated in version 1.4 and will be removed in 1.6. To calculate the root mean squared error, use the function'root_mean_squared_error'.\n",
      "  warnings.warn(\n",
      "10:52:06 - cmdstanpy - INFO - Chain [1] start processing\n",
      "10:52:07 - cmdstanpy - INFO - Chain [1] done processing\n",
      "c:\\Users\\natra\\AppData\\Local\\Programs\\Python\\Python310\\lib\\site-packages\\sklearn\\metrics\\_regression.py:492: FutureWarning: 'squared' is deprecated in version 1.4 and will be removed in 1.6. To calculate the root mean squared error, use the function'root_mean_squared_error'.\n",
      "  warnings.warn(\n",
      "10:52:07 - cmdstanpy - INFO - Chain [1] start processing\n",
      "10:52:07 - cmdstanpy - INFO - Chain [1] done processing\n",
      "c:\\Users\\natra\\AppData\\Local\\Programs\\Python\\Python310\\lib\\site-packages\\sklearn\\metrics\\_regression.py:492: FutureWarning: 'squared' is deprecated in version 1.4 and will be removed in 1.6. To calculate the root mean squared error, use the function'root_mean_squared_error'.\n",
      "  warnings.warn(\n",
      "10:52:08 - cmdstanpy - INFO - Chain [1] start processing\n",
      "10:52:08 - cmdstanpy - INFO - Chain [1] done processing\n",
      "c:\\Users\\natra\\AppData\\Local\\Programs\\Python\\Python310\\lib\\site-packages\\sklearn\\metrics\\_regression.py:492: FutureWarning: 'squared' is deprecated in version 1.4 and will be removed in 1.6. To calculate the root mean squared error, use the function'root_mean_squared_error'.\n",
      "  warnings.warn(\n",
      "10:52:09 - cmdstanpy - INFO - Chain [1] start processing\n",
      "10:52:09 - cmdstanpy - INFO - Chain [1] done processing\n",
      "c:\\Users\\natra\\AppData\\Local\\Programs\\Python\\Python310\\lib\\site-packages\\sklearn\\metrics\\_regression.py:492: FutureWarning: 'squared' is deprecated in version 1.4 and will be removed in 1.6. To calculate the root mean squared error, use the function'root_mean_squared_error'.\n",
      "  warnings.warn(\n"
     ]
    },
    {
     "name": "stdout",
     "output_type": "stream",
     "text": [
      "R² Score: 0.693, RMSE: 2.863, MAE: 2.333\n",
      "\n",
      "Evaluating: changepoint_prior_scale=0.09999999999999999, seasonality_prior_scale=7.1, seasonality_mode=additive\n"
     ]
    },
    {
     "name": "stderr",
     "output_type": "stream",
     "text": [
      "10:52:09 - cmdstanpy - INFO - Chain [1] start processing\n",
      "10:52:10 - cmdstanpy - INFO - Chain [1] done processing\n",
      "c:\\Users\\natra\\AppData\\Local\\Programs\\Python\\Python310\\lib\\site-packages\\sklearn\\metrics\\_regression.py:492: FutureWarning: 'squared' is deprecated in version 1.4 and will be removed in 1.6. To calculate the root mean squared error, use the function'root_mean_squared_error'.\n",
      "  warnings.warn(\n",
      "10:52:10 - cmdstanpy - INFO - Chain [1] start processing\n",
      "10:52:10 - cmdstanpy - INFO - Chain [1] done processing\n",
      "c:\\Users\\natra\\AppData\\Local\\Programs\\Python\\Python310\\lib\\site-packages\\sklearn\\metrics\\_regression.py:492: FutureWarning: 'squared' is deprecated in version 1.4 and will be removed in 1.6. To calculate the root mean squared error, use the function'root_mean_squared_error'.\n",
      "  warnings.warn(\n",
      "10:52:11 - cmdstanpy - INFO - Chain [1] start processing\n",
      "10:52:11 - cmdstanpy - INFO - Chain [1] done processing\n",
      "c:\\Users\\natra\\AppData\\Local\\Programs\\Python\\Python310\\lib\\site-packages\\sklearn\\metrics\\_regression.py:492: FutureWarning: 'squared' is deprecated in version 1.4 and will be removed in 1.6. To calculate the root mean squared error, use the function'root_mean_squared_error'.\n",
      "  warnings.warn(\n",
      "10:52:11 - cmdstanpy - INFO - Chain [1] start processing\n",
      "10:52:11 - cmdstanpy - INFO - Chain [1] done processing\n",
      "c:\\Users\\natra\\AppData\\Local\\Programs\\Python\\Python310\\lib\\site-packages\\sklearn\\metrics\\_regression.py:492: FutureWarning: 'squared' is deprecated in version 1.4 and will be removed in 1.6. To calculate the root mean squared error, use the function'root_mean_squared_error'.\n",
      "  warnings.warn(\n",
      "10:52:12 - cmdstanpy - INFO - Chain [1] start processing\n",
      "10:52:12 - cmdstanpy - INFO - Chain [1] done processing\n",
      "c:\\Users\\natra\\AppData\\Local\\Programs\\Python\\Python310\\lib\\site-packages\\sklearn\\metrics\\_regression.py:492: FutureWarning: 'squared' is deprecated in version 1.4 and will be removed in 1.6. To calculate the root mean squared error, use the function'root_mean_squared_error'.\n",
      "  warnings.warn(\n"
     ]
    },
    {
     "name": "stdout",
     "output_type": "stream",
     "text": [
      "R² Score: 0.691, RMSE: 2.867, MAE: 2.319\n",
      "\n",
      "Evaluating: changepoint_prior_scale=0.09999999999999999, seasonality_prior_scale=7.1, seasonality_mode=multiplicative\n"
     ]
    },
    {
     "name": "stderr",
     "output_type": "stream",
     "text": [
      "10:52:12 - cmdstanpy - INFO - Chain [1] start processing\n",
      "10:52:12 - cmdstanpy - INFO - Chain [1] done processing\n",
      "c:\\Users\\natra\\AppData\\Local\\Programs\\Python\\Python310\\lib\\site-packages\\sklearn\\metrics\\_regression.py:492: FutureWarning: 'squared' is deprecated in version 1.4 and will be removed in 1.6. To calculate the root mean squared error, use the function'root_mean_squared_error'.\n",
      "  warnings.warn(\n",
      "10:52:13 - cmdstanpy - INFO - Chain [1] start processing\n",
      "10:52:13 - cmdstanpy - INFO - Chain [1] done processing\n",
      "c:\\Users\\natra\\AppData\\Local\\Programs\\Python\\Python310\\lib\\site-packages\\sklearn\\metrics\\_regression.py:492: FutureWarning: 'squared' is deprecated in version 1.4 and will be removed in 1.6. To calculate the root mean squared error, use the function'root_mean_squared_error'.\n",
      "  warnings.warn(\n",
      "10:52:14 - cmdstanpy - INFO - Chain [1] start processing\n",
      "10:52:14 - cmdstanpy - INFO - Chain [1] done processing\n",
      "c:\\Users\\natra\\AppData\\Local\\Programs\\Python\\Python310\\lib\\site-packages\\sklearn\\metrics\\_regression.py:492: FutureWarning: 'squared' is deprecated in version 1.4 and will be removed in 1.6. To calculate the root mean squared error, use the function'root_mean_squared_error'.\n",
      "  warnings.warn(\n",
      "10:52:14 - cmdstanpy - INFO - Chain [1] start processing\n",
      "10:52:14 - cmdstanpy - INFO - Chain [1] done processing\n",
      "c:\\Users\\natra\\AppData\\Local\\Programs\\Python\\Python310\\lib\\site-packages\\sklearn\\metrics\\_regression.py:492: FutureWarning: 'squared' is deprecated in version 1.4 and will be removed in 1.6. To calculate the root mean squared error, use the function'root_mean_squared_error'.\n",
      "  warnings.warn(\n",
      "10:52:15 - cmdstanpy - INFO - Chain [1] start processing\n",
      "10:52:15 - cmdstanpy - INFO - Chain [1] done processing\n",
      "c:\\Users\\natra\\AppData\\Local\\Programs\\Python\\Python310\\lib\\site-packages\\sklearn\\metrics\\_regression.py:492: FutureWarning: 'squared' is deprecated in version 1.4 and will be removed in 1.6. To calculate the root mean squared error, use the function'root_mean_squared_error'.\n",
      "  warnings.warn(\n"
     ]
    },
    {
     "name": "stdout",
     "output_type": "stream",
     "text": [
      "R² Score: 0.693, RMSE: 2.863, MAE: 2.333\n",
      "\n",
      "Evaluating: changepoint_prior_scale=0.09999999999999999, seasonality_prior_scale=8.1, seasonality_mode=additive\n"
     ]
    },
    {
     "name": "stderr",
     "output_type": "stream",
     "text": [
      "10:52:16 - cmdstanpy - INFO - Chain [1] start processing\n",
      "10:52:16 - cmdstanpy - INFO - Chain [1] done processing\n",
      "c:\\Users\\natra\\AppData\\Local\\Programs\\Python\\Python310\\lib\\site-packages\\sklearn\\metrics\\_regression.py:492: FutureWarning: 'squared' is deprecated in version 1.4 and will be removed in 1.6. To calculate the root mean squared error, use the function'root_mean_squared_error'.\n",
      "  warnings.warn(\n",
      "10:52:16 - cmdstanpy - INFO - Chain [1] start processing\n",
      "10:52:17 - cmdstanpy - INFO - Chain [1] done processing\n",
      "c:\\Users\\natra\\AppData\\Local\\Programs\\Python\\Python310\\lib\\site-packages\\sklearn\\metrics\\_regression.py:492: FutureWarning: 'squared' is deprecated in version 1.4 and will be removed in 1.6. To calculate the root mean squared error, use the function'root_mean_squared_error'.\n",
      "  warnings.warn(\n",
      "10:52:17 - cmdstanpy - INFO - Chain [1] start processing\n",
      "10:52:17 - cmdstanpy - INFO - Chain [1] done processing\n",
      "c:\\Users\\natra\\AppData\\Local\\Programs\\Python\\Python310\\lib\\site-packages\\sklearn\\metrics\\_regression.py:492: FutureWarning: 'squared' is deprecated in version 1.4 and will be removed in 1.6. To calculate the root mean squared error, use the function'root_mean_squared_error'.\n",
      "  warnings.warn(\n",
      "10:52:18 - cmdstanpy - INFO - Chain [1] start processing\n",
      "10:52:18 - cmdstanpy - INFO - Chain [1] done processing\n",
      "c:\\Users\\natra\\AppData\\Local\\Programs\\Python\\Python310\\lib\\site-packages\\sklearn\\metrics\\_regression.py:492: FutureWarning: 'squared' is deprecated in version 1.4 and will be removed in 1.6. To calculate the root mean squared error, use the function'root_mean_squared_error'.\n",
      "  warnings.warn(\n",
      "10:52:18 - cmdstanpy - INFO - Chain [1] start processing\n",
      "10:52:18 - cmdstanpy - INFO - Chain [1] done processing\n",
      "c:\\Users\\natra\\AppData\\Local\\Programs\\Python\\Python310\\lib\\site-packages\\sklearn\\metrics\\_regression.py:492: FutureWarning: 'squared' is deprecated in version 1.4 and will be removed in 1.6. To calculate the root mean squared error, use the function'root_mean_squared_error'.\n",
      "  warnings.warn(\n"
     ]
    },
    {
     "name": "stdout",
     "output_type": "stream",
     "text": [
      "R² Score: 0.691, RMSE: 2.867, MAE: 2.319\n",
      "\n",
      "Evaluating: changepoint_prior_scale=0.09999999999999999, seasonality_prior_scale=8.1, seasonality_mode=multiplicative\n"
     ]
    },
    {
     "name": "stderr",
     "output_type": "stream",
     "text": [
      "10:52:19 - cmdstanpy - INFO - Chain [1] start processing\n",
      "10:52:19 - cmdstanpy - INFO - Chain [1] done processing\n",
      "c:\\Users\\natra\\AppData\\Local\\Programs\\Python\\Python310\\lib\\site-packages\\sklearn\\metrics\\_regression.py:492: FutureWarning: 'squared' is deprecated in version 1.4 and will be removed in 1.6. To calculate the root mean squared error, use the function'root_mean_squared_error'.\n",
      "  warnings.warn(\n",
      "10:52:19 - cmdstanpy - INFO - Chain [1] start processing\n",
      "10:52:20 - cmdstanpy - INFO - Chain [1] done processing\n",
      "c:\\Users\\natra\\AppData\\Local\\Programs\\Python\\Python310\\lib\\site-packages\\sklearn\\metrics\\_regression.py:492: FutureWarning: 'squared' is deprecated in version 1.4 and will be removed in 1.6. To calculate the root mean squared error, use the function'root_mean_squared_error'.\n",
      "  warnings.warn(\n",
      "10:52:20 - cmdstanpy - INFO - Chain [1] start processing\n",
      "10:52:20 - cmdstanpy - INFO - Chain [1] done processing\n",
      "c:\\Users\\natra\\AppData\\Local\\Programs\\Python\\Python310\\lib\\site-packages\\sklearn\\metrics\\_regression.py:492: FutureWarning: 'squared' is deprecated in version 1.4 and will be removed in 1.6. To calculate the root mean squared error, use the function'root_mean_squared_error'.\n",
      "  warnings.warn(\n",
      "10:52:21 - cmdstanpy - INFO - Chain [1] start processing\n",
      "10:52:21 - cmdstanpy - INFO - Chain [1] done processing\n",
      "c:\\Users\\natra\\AppData\\Local\\Programs\\Python\\Python310\\lib\\site-packages\\sklearn\\metrics\\_regression.py:492: FutureWarning: 'squared' is deprecated in version 1.4 and will be removed in 1.6. To calculate the root mean squared error, use the function'root_mean_squared_error'.\n",
      "  warnings.warn(\n",
      "10:52:21 - cmdstanpy - INFO - Chain [1] start processing\n",
      "10:52:21 - cmdstanpy - INFO - Chain [1] done processing\n",
      "c:\\Users\\natra\\AppData\\Local\\Programs\\Python\\Python310\\lib\\site-packages\\sklearn\\metrics\\_regression.py:492: FutureWarning: 'squared' is deprecated in version 1.4 and will be removed in 1.6. To calculate the root mean squared error, use the function'root_mean_squared_error'.\n",
      "  warnings.warn(\n"
     ]
    },
    {
     "name": "stdout",
     "output_type": "stream",
     "text": [
      "R² Score: 0.695, RMSE: 2.857, MAE: 2.327\n",
      "\n",
      "Evaluating: changepoint_prior_scale=0.09999999999999999, seasonality_prior_scale=9.1, seasonality_mode=additive\n"
     ]
    },
    {
     "name": "stderr",
     "output_type": "stream",
     "text": [
      "10:52:22 - cmdstanpy - INFO - Chain [1] start processing\n",
      "10:52:22 - cmdstanpy - INFO - Chain [1] done processing\n",
      "c:\\Users\\natra\\AppData\\Local\\Programs\\Python\\Python310\\lib\\site-packages\\sklearn\\metrics\\_regression.py:492: FutureWarning: 'squared' is deprecated in version 1.4 and will be removed in 1.6. To calculate the root mean squared error, use the function'root_mean_squared_error'.\n",
      "  warnings.warn(\n",
      "10:52:22 - cmdstanpy - INFO - Chain [1] start processing\n",
      "10:52:23 - cmdstanpy - INFO - Chain [1] done processing\n",
      "c:\\Users\\natra\\AppData\\Local\\Programs\\Python\\Python310\\lib\\site-packages\\sklearn\\metrics\\_regression.py:492: FutureWarning: 'squared' is deprecated in version 1.4 and will be removed in 1.6. To calculate the root mean squared error, use the function'root_mean_squared_error'.\n",
      "  warnings.warn(\n",
      "10:52:23 - cmdstanpy - INFO - Chain [1] start processing\n",
      "10:52:23 - cmdstanpy - INFO - Chain [1] done processing\n",
      "c:\\Users\\natra\\AppData\\Local\\Programs\\Python\\Python310\\lib\\site-packages\\sklearn\\metrics\\_regression.py:492: FutureWarning: 'squared' is deprecated in version 1.4 and will be removed in 1.6. To calculate the root mean squared error, use the function'root_mean_squared_error'.\n",
      "  warnings.warn(\n",
      "10:52:24 - cmdstanpy - INFO - Chain [1] start processing\n",
      "10:52:24 - cmdstanpy - INFO - Chain [1] done processing\n",
      "c:\\Users\\natra\\AppData\\Local\\Programs\\Python\\Python310\\lib\\site-packages\\sklearn\\metrics\\_regression.py:492: FutureWarning: 'squared' is deprecated in version 1.4 and will be removed in 1.6. To calculate the root mean squared error, use the function'root_mean_squared_error'.\n",
      "  warnings.warn(\n",
      "10:52:24 - cmdstanpy - INFO - Chain [1] start processing\n",
      "10:52:24 - cmdstanpy - INFO - Chain [1] done processing\n",
      "c:\\Users\\natra\\AppData\\Local\\Programs\\Python\\Python310\\lib\\site-packages\\sklearn\\metrics\\_regression.py:492: FutureWarning: 'squared' is deprecated in version 1.4 and will be removed in 1.6. To calculate the root mean squared error, use the function'root_mean_squared_error'.\n",
      "  warnings.warn(\n"
     ]
    },
    {
     "name": "stdout",
     "output_type": "stream",
     "text": [
      "R² Score: 0.690, RMSE: 2.870, MAE: 2.321\n",
      "\n",
      "Evaluating: changepoint_prior_scale=0.09999999999999999, seasonality_prior_scale=9.1, seasonality_mode=multiplicative\n"
     ]
    },
    {
     "name": "stderr",
     "output_type": "stream",
     "text": [
      "10:52:25 - cmdstanpy - INFO - Chain [1] start processing\n",
      "10:52:25 - cmdstanpy - INFO - Chain [1] done processing\n",
      "c:\\Users\\natra\\AppData\\Local\\Programs\\Python\\Python310\\lib\\site-packages\\sklearn\\metrics\\_regression.py:492: FutureWarning: 'squared' is deprecated in version 1.4 and will be removed in 1.6. To calculate the root mean squared error, use the function'root_mean_squared_error'.\n",
      "  warnings.warn(\n",
      "10:52:26 - cmdstanpy - INFO - Chain [1] start processing\n",
      "10:52:26 - cmdstanpy - INFO - Chain [1] done processing\n",
      "c:\\Users\\natra\\AppData\\Local\\Programs\\Python\\Python310\\lib\\site-packages\\sklearn\\metrics\\_regression.py:492: FutureWarning: 'squared' is deprecated in version 1.4 and will be removed in 1.6. To calculate the root mean squared error, use the function'root_mean_squared_error'.\n",
      "  warnings.warn(\n",
      "10:52:26 - cmdstanpy - INFO - Chain [1] start processing\n",
      "10:52:26 - cmdstanpy - INFO - Chain [1] done processing\n",
      "c:\\Users\\natra\\AppData\\Local\\Programs\\Python\\Python310\\lib\\site-packages\\sklearn\\metrics\\_regression.py:492: FutureWarning: 'squared' is deprecated in version 1.4 and will be removed in 1.6. To calculate the root mean squared error, use the function'root_mean_squared_error'.\n",
      "  warnings.warn(\n",
      "10:52:27 - cmdstanpy - INFO - Chain [1] start processing\n",
      "10:52:27 - cmdstanpy - INFO - Chain [1] done processing\n",
      "c:\\Users\\natra\\AppData\\Local\\Programs\\Python\\Python310\\lib\\site-packages\\sklearn\\metrics\\_regression.py:492: FutureWarning: 'squared' is deprecated in version 1.4 and will be removed in 1.6. To calculate the root mean squared error, use the function'root_mean_squared_error'.\n",
      "  warnings.warn(\n",
      "10:52:27 - cmdstanpy - INFO - Chain [1] start processing\n",
      "10:52:27 - cmdstanpy - INFO - Chain [1] done processing\n",
      "c:\\Users\\natra\\AppData\\Local\\Programs\\Python\\Python310\\lib\\site-packages\\sklearn\\metrics\\_regression.py:492: FutureWarning: 'squared' is deprecated in version 1.4 and will be removed in 1.6. To calculate the root mean squared error, use the function'root_mean_squared_error'.\n",
      "  warnings.warn(\n"
     ]
    },
    {
     "name": "stdout",
     "output_type": "stream",
     "text": [
      "R² Score: 0.692, RMSE: 2.871, MAE: 2.341\n",
      "\n",
      "Evaluating: changepoint_prior_scale=0.09999999999999999, seasonality_prior_scale=10.1, seasonality_mode=additive\n"
     ]
    },
    {
     "name": "stderr",
     "output_type": "stream",
     "text": [
      "10:52:28 - cmdstanpy - INFO - Chain [1] start processing\n",
      "10:52:28 - cmdstanpy - INFO - Chain [1] done processing\n",
      "c:\\Users\\natra\\AppData\\Local\\Programs\\Python\\Python310\\lib\\site-packages\\sklearn\\metrics\\_regression.py:492: FutureWarning: 'squared' is deprecated in version 1.4 and will be removed in 1.6. To calculate the root mean squared error, use the function'root_mean_squared_error'.\n",
      "  warnings.warn(\n",
      "10:52:29 - cmdstanpy - INFO - Chain [1] start processing\n",
      "10:52:29 - cmdstanpy - INFO - Chain [1] done processing\n",
      "c:\\Users\\natra\\AppData\\Local\\Programs\\Python\\Python310\\lib\\site-packages\\sklearn\\metrics\\_regression.py:492: FutureWarning: 'squared' is deprecated in version 1.4 and will be removed in 1.6. To calculate the root mean squared error, use the function'root_mean_squared_error'.\n",
      "  warnings.warn(\n",
      "10:52:29 - cmdstanpy - INFO - Chain [1] start processing\n",
      "10:52:29 - cmdstanpy - INFO - Chain [1] done processing\n",
      "c:\\Users\\natra\\AppData\\Local\\Programs\\Python\\Python310\\lib\\site-packages\\sklearn\\metrics\\_regression.py:492: FutureWarning: 'squared' is deprecated in version 1.4 and will be removed in 1.6. To calculate the root mean squared error, use the function'root_mean_squared_error'.\n",
      "  warnings.warn(\n",
      "10:52:30 - cmdstanpy - INFO - Chain [1] start processing\n",
      "10:52:30 - cmdstanpy - INFO - Chain [1] done processing\n",
      "c:\\Users\\natra\\AppData\\Local\\Programs\\Python\\Python310\\lib\\site-packages\\sklearn\\metrics\\_regression.py:492: FutureWarning: 'squared' is deprecated in version 1.4 and will be removed in 1.6. To calculate the root mean squared error, use the function'root_mean_squared_error'.\n",
      "  warnings.warn(\n",
      "10:52:30 - cmdstanpy - INFO - Chain [1] start processing\n",
      "10:52:30 - cmdstanpy - INFO - Chain [1] done processing\n",
      "c:\\Users\\natra\\AppData\\Local\\Programs\\Python\\Python310\\lib\\site-packages\\sklearn\\metrics\\_regression.py:492: FutureWarning: 'squared' is deprecated in version 1.4 and will be removed in 1.6. To calculate the root mean squared error, use the function'root_mean_squared_error'.\n",
      "  warnings.warn(\n"
     ]
    },
    {
     "name": "stdout",
     "output_type": "stream",
     "text": [
      "R² Score: 0.690, RMSE: 2.870, MAE: 2.320\n",
      "\n",
      "Evaluating: changepoint_prior_scale=0.09999999999999999, seasonality_prior_scale=10.1, seasonality_mode=multiplicative\n"
     ]
    },
    {
     "name": "stderr",
     "output_type": "stream",
     "text": [
      "10:52:31 - cmdstanpy - INFO - Chain [1] start processing\n",
      "10:52:31 - cmdstanpy - INFO - Chain [1] done processing\n",
      "c:\\Users\\natra\\AppData\\Local\\Programs\\Python\\Python310\\lib\\site-packages\\sklearn\\metrics\\_regression.py:492: FutureWarning: 'squared' is deprecated in version 1.4 and will be removed in 1.6. To calculate the root mean squared error, use the function'root_mean_squared_error'.\n",
      "  warnings.warn(\n",
      "10:52:32 - cmdstanpy - INFO - Chain [1] start processing\n",
      "10:52:32 - cmdstanpy - INFO - Chain [1] done processing\n",
      "c:\\Users\\natra\\AppData\\Local\\Programs\\Python\\Python310\\lib\\site-packages\\sklearn\\metrics\\_regression.py:492: FutureWarning: 'squared' is deprecated in version 1.4 and will be removed in 1.6. To calculate the root mean squared error, use the function'root_mean_squared_error'.\n",
      "  warnings.warn(\n",
      "10:52:32 - cmdstanpy - INFO - Chain [1] start processing\n",
      "10:52:32 - cmdstanpy - INFO - Chain [1] done processing\n",
      "c:\\Users\\natra\\AppData\\Local\\Programs\\Python\\Python310\\lib\\site-packages\\sklearn\\metrics\\_regression.py:492: FutureWarning: 'squared' is deprecated in version 1.4 and will be removed in 1.6. To calculate the root mean squared error, use the function'root_mean_squared_error'.\n",
      "  warnings.warn(\n",
      "10:52:33 - cmdstanpy - INFO - Chain [1] start processing\n",
      "10:52:33 - cmdstanpy - INFO - Chain [1] done processing\n",
      "c:\\Users\\natra\\AppData\\Local\\Programs\\Python\\Python310\\lib\\site-packages\\sklearn\\metrics\\_regression.py:492: FutureWarning: 'squared' is deprecated in version 1.4 and will be removed in 1.6. To calculate the root mean squared error, use the function'root_mean_squared_error'.\n",
      "  warnings.warn(\n",
      "10:52:33 - cmdstanpy - INFO - Chain [1] start processing\n",
      "10:52:34 - cmdstanpy - INFO - Chain [1] done processing\n",
      "c:\\Users\\natra\\AppData\\Local\\Programs\\Python\\Python310\\lib\\site-packages\\sklearn\\metrics\\_regression.py:492: FutureWarning: 'squared' is deprecated in version 1.4 and will be removed in 1.6. To calculate the root mean squared error, use the function'root_mean_squared_error'.\n",
      "  warnings.warn(\n"
     ]
    },
    {
     "name": "stdout",
     "output_type": "stream",
     "text": [
      "R² Score: 0.693, RMSE: 2.864, MAE: 2.334\n",
      "\n",
      "Best R² Score: 0.734\n",
      "Best RMSE: 2.675\n",
      "Best MAE: 2.143\n",
      "Best Hyperparameters: changepoint_prior_scale=0.02, seasonality_prior_scale=0.1, seasonality_mode=additive\n"
     ]
    },
    {
     "name": "stderr",
     "output_type": "stream",
     "text": [
      "10:52:34 - cmdstanpy - INFO - Chain [1] start processing\n",
      "10:52:34 - cmdstanpy - INFO - Chain [1] done processing\n",
      "c:\\Users\\natra\\AppData\\Local\\Programs\\Python\\Python310\\lib\\site-packages\\prophet\\plot.py:72: FutureWarning: The behavior of DatetimeProperties.to_pydatetime is deprecated, in a future version this will return a Series containing python datetime objects instead of an ndarray. To retain the old behavior, call `np.array` on the result\n",
      "  fcst_t = fcst['ds'].dt.to_pydatetime()\n",
      "c:\\Users\\natra\\AppData\\Local\\Programs\\Python\\Python310\\lib\\site-packages\\prophet\\plot.py:73: FutureWarning: The behavior of DatetimeProperties.to_pydatetime is deprecated, in a future version this will return a Series containing python datetime objects instead of an ndarray. To retain the old behavior, call `np.array` on the result\n",
      "  ax.plot(m.history['ds'].dt.to_pydatetime(), m.history['y'], 'k.',\n"
     ]
    },
    {
     "data": {
      "image/png": "[encoded data removed]",
      "text/plain": [
       "<Figure size 1000x600 with 1 Axes>"
      ]
     },
     "metadata": {},
     "output_type": "display_data"
    },
    {
     "name": "stderr",
     "output_type": "stream",
     "text": [
      "c:\\Users\\natra\\AppData\\Local\\Programs\\Python\\Python310\\lib\\site-packages\\prophet\\plot.py:228: FutureWarning: The behavior of DatetimeProperties.to_pydatetime is deprecated, in a future version this will return a Series containing python datetime objects instead of an ndarray. To retain the old behavior, call `np.array` on the result\n",
      "  fcst_t = fcst['ds'].dt.to_pydatetime()\n",
      "c:\\Users\\natra\\AppData\\Local\\Programs\\Python\\Python310\\lib\\site-packages\\prophet\\plot.py:351: FutureWarning: The behavior of DatetimeProperties.to_pydatetime is deprecated, in a future version this will return a Series containing python datetime objects instead of an ndarray. To retain the old behavior, call `np.array` on the result\n",
      "  df_y['ds'].dt.to_pydatetime(), seas[name], ls='-', c='#0072B2')\n",
      "c:\\Users\\natra\\AppData\\Local\\Programs\\Python\\Python310\\lib\\site-packages\\prophet\\plot.py:354: FutureWarning: The behavior of DatetimeProperties.to_pydatetime is deprecated, in a future version this will return a Series containing python datetime objects instead of an ndarray. To retain the old behavior, call `np.array` on the result\n",
      "  df_y['ds'].dt.to_pydatetime(), seas[name + '_lower'],\n"
     ]
    },
    {
     "data": {
      "image/png": "[encoded data removed]",
      "text/plain": [
       "<Figure size 900x900 with 3 Axes>"
      ]
     },
     "metadata": {},
     "output_type": "display_data"
    }
   ],
   "source": [
    "import pandas as pd\n",
    "from sklearn.metrics import r2_score, mean_squared_error, mean_absolute_error\n",
    "from sklearn.model_selection import KFold\n",
    "from prophet import Prophet\n",
    "import numpy as np\n",
    "import matplotlib.pyplot as plt\n",
    "\n",
    "# Load the dataset\n",
    "file_path = '../../../dataset/data.csv'\n",
    "data = pd.read_csv(file_path)\n",
    "\n",
    "# Prepare the data for Prophet (for Average Temperature)\n",
    "data['ds'] = pd.to_datetime(data['datetime'], format='%m/%d/%Y')\n",
    "temp_data = data[['ds', 'temp']]  # Rename Average Temperature for Prophet\n",
    "temp_data.rename(columns={'temp': 'y'}, inplace=True)\n",
    "\n",
    "# Updated parameter grid\n",
    "param_grid = {\n",
    "    'changepoint_prior_scale': np.arange(0.01, 0.11, 0.01).tolist(),  # Trend flexibility from 0.01 to 0.1 with step 0.01\n",
    "    'seasonality_prior_scale': np.arange(0.1, 11, 1.0).tolist(),  # Seasonality flexibility from 0.1 to 10 with step 1.0\n",
    "    'seasonality_mode': ['additive', 'multiplicative']  # Additive vs multiplicative seasonality\n",
    "}\n",
    "\n",
    "# Define number of folds for cross-validation\n",
    "kf = KFold(n_splits=5)\n",
    "\n",
    "# Function to evaluate model with given parameters and cross-validation\n",
    "def evaluate_model_cv(changepoint_prior_scale, seasonality_prior_scale, seasonality_mode, data):\n",
    "    r2_scores = []\n",
    "    rmse_scores = []\n",
    "    mae_scores = []\n",
    "    \n",
    "    for train_index, test_index in kf.split(data):\n",
    "        # Split the data into train and test sets for each fold\n",
    "        train_data = data.iloc[train_index]\n",
    "        test_data = data.iloc[test_index]\n",
    "        \n",
    "        # Initialize the Prophet model with specified hyperparameters\n",
    "        model = Prophet(\n",
    "            yearly_seasonality=True,\n",
    "            changepoint_prior_scale=changepoint_prior_scale,\n",
    "            seasonality_prior_scale=seasonality_prior_scale,\n",
    "            seasonality_mode=seasonality_mode\n",
    "        )\n",
    "        \n",
    "        # Fit the model\n",
    "        model.fit(train_data)\n",
    "        \n",
    "        # Predict on the test set (validation set)\n",
    "        test_forecast = model.predict(test_data[['ds']])\n",
    "        \n",
    "        # Calculate R², RMSE, and MAE\n",
    "        y_true = test_data['y'].values  # Actual Average Temperatures\n",
    "        y_pred = test_forecast['yhat'].values  # Predicted Average Temperatures\n",
    "        \n",
    "        r2_scores.append(r2_score(y_true, y_pred))\n",
    "        rmse_scores.append(mean_squared_error(y_true, y_pred, squared=False))\n",
    "        mae_scores.append(mean_absolute_error(y_true, y_pred))\n",
    "    \n",
    "    # Calculate average scores across the folds\n",
    "    avg_r2 = np.mean(r2_scores)\n",
    "    avg_rmse = np.mean(rmse_scores)\n",
    "    avg_mae = np.mean(mae_scores)\n",
    "    \n",
    "    return avg_r2, avg_rmse, avg_mae\n",
    "\n",
    "# Iterate through the parameter grid and evaluate each combination using K-Fold CV\n",
    "best_score = -float('inf')\n",
    "best_params = None\n",
    "best_rmse = float('inf')\n",
    "best_mae = float('inf')\n",
    "\n",
    "for changepoint in param_grid['changepoint_prior_scale']:\n",
    "    for seasonality_prior in param_grid['seasonality_prior_scale']:\n",
    "        for seasonality_mode in param_grid['seasonality_mode']:\n",
    "            print(f\"Evaluating: changepoint_prior_scale={changepoint}, seasonality_prior_scale={seasonality_prior}, seasonality_mode={seasonality_mode}\")\n",
    "            r2, rmse, mae = evaluate_model_cv(changepoint, seasonality_prior, seasonality_mode, temp_data)\n",
    "            print(f\"R² Score: {r2:.3f}, RMSE: {rmse:.3f}, MAE: {mae:.3f}\\n\")\n",
    "            \n",
    "            # Keep track of the best model: prioritize highest R², then lowest RMSE and MAE\n",
    "            if r2 > best_score or (r2 == best_score and rmse < best_rmse and mae < best_mae):\n",
    "                best_score = r2\n",
    "                best_rmse = rmse\n",
    "                best_mae = mae\n",
    "                best_params = (changepoint, seasonality_prior, seasonality_mode)\n",
    "\n",
    "# Output the best hyperparameters\n",
    "print(f\"Best R² Score: {best_score:.3f}\")\n",
    "print(f\"Best RMSE: {best_rmse:.3f}\")\n",
    "print(f\"Best MAE: {best_mae:.3f}\")\n",
    "print(f\"Best Hyperparameters: changepoint_prior_scale={best_params[0]}, seasonality_prior_scale={best_params[1]}, seasonality_mode={best_params[2]}\")\n",
    "\n",
    "# Re-train the best model using the entire dataset and best hyperparameters\n",
    "best_model = Prophet(\n",
    "    yearly_seasonality=True,\n",
    "    changepoint_prior_scale=best_params[0],\n",
    "    seasonality_prior_scale=best_params[1],\n",
    "    seasonality_mode=best_params[2]\n",
    ")\n",
    "\n",
    "best_model.fit(temp_data)\n",
    "\n",
    "# Generate future dates (from 21/08/2024 to 31/12/2024)\n",
    "future_dates = best_model.make_future_dataframe(periods=len(pd.date_range('2024-08-21', '2024-12-31')), freq='D')\n",
    "\n",
    "# Predict future Average Temperatures\n",
    "feels_like_forecast = best_model.predict(future_dates)\n",
    "\n",
    "# Display and save the predicted Average Temperatures\n",
    "feels_like_forecast[['ds', 'yhat']].tail()\n",
    "feels_like_forecast[['ds', 'yhat']].to_csv('temp_forecast_fine_tuning2024.csv', index=False)\n",
    "\n",
    "# Plot the forecasted Average Temperatures with a title\n",
    "forecast_plot = best_model.plot(feels_like_forecast)\n",
    "plt.title(\"Average Temperature Forecast (2024)\")\n",
    "plt.xlabel(\"Date\")\n",
    "plt.ylabel(\"Average Temperature (°C)\")\n",
    "plt.show()\n",
    "\n",
    "# Plot seasonal components (trend, yearly, etc.) with titles\n",
    "components_plot = best_model.plot_components(feels_like_forecast)\n",
    "\n",
    "# Adding titles to individual component plots\n",
    "ax = components_plot.get_axes()\n",
    "\n",
    "# Titles for each component\n",
    "ax[0].set_title('Trend Component: Average Temperature')\n",
    "ax[1].set_title('Yearly Seasonality: Average Temperature')\n",
    "ax[2].set_title('Weekly Seasonality: Average Temperature')  # If applicable\n",
    "plt.show()\n"
   ]
  }
 ],
 "metadata": {
  "kernelspec": {
   "display_name": "Python 3",
   "language": "python",
   "name": "python3"
  },
  "language_info": {
   "codemirror_mode": {
    "name": "ipython",
    "version": 3
   },
   "file_extension": ".py",
   "mimetype": "text/x-python",
   "name": "python",
   "nbconvert_exporter": "python",
   "pygments_lexer": "ipython3",
   "version": "3.10.7"
  }
 },
 "nbformat": 4,
 "nbformat_minor": 2
}
