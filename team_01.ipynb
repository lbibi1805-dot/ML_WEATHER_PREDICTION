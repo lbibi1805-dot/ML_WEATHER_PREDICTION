{
 "cells": [
  {
   "cell_type": "code",
   "execution_count": null,
   "metadata": {},
   "outputs": [],
   "source": [
    "import pandas as pd\n",
    "import numpy as np\n",
    "import matplotlib.pyplot as plt\n",
    "from sklearn.base import BaseEstimator, TransformerMixin\n",
    "from sklearn.pipeline import FeatureUnion\n",
    "from sklearn.pipeline import Pipeline\n",
    "from sklearn.preprocessing import StandardScaler\n",
    "from sklearn.impute import SimpleImputer  \n",
    "from sklearn.preprocessing import OneHotEncoder      \n",
    "from sklearn.model_selection import KFold   \n",
    "from statistics import mean\n",
    "import joblib "
   ]
  },
  {
   "cell_type": "markdown",
   "metadata": {},
   "source": [
    "STEP 1. LOOK AT THE BIG PICTURE (DONE)"
   ]
  },
  {
   "cell_type": "markdown",
   "metadata": {},
   "source": [
    "STEP 2. GET THE DATA (DONE). LOAD DATA"
   ]
  },
  {
   "cell_type": "code",
   "execution_count": null,
   "metadata": {},
   "outputs": [],
   "source": [
    "raw_data = pd.read_csv(r'dataset/Data.csv')\n",
    "# raw_data.head(10) preview the first 10 column\n",
    "#raw_data.tail() preview the last 10 column "
   ]
  },
  {
   "cell_type": "markdown",
   "metadata": {},
   "source": [
    "STEP 3. DISCOVER THE DATA TO GAIN INSIGHTS"
   ]
  },
  {
   "cell_type": "code",
   "execution_count": null,
   "metadata": {},
   "outputs": [],
   "source": [
    "# 3.1 Quick view of the data\n",
    "print('\\n____________ Dataset info ____________')\n",
    "print(raw_data.info())              \n",
    "print('\\n____________ Some first data examples ____________')\n",
    "print(raw_data.head(5)) \n",
    "print('\\n____________ Counts on a feature ____________')\n",
    "# print(raw_data['LEGAL DOCUMENTS'].value_counts()) \n",
    "print('\\n____________ Statistics of numeric features ____________')\n",
    "print(raw_data.describe())    \n",
    "print('\\n____________ Get specific rows and cols ____________')     \n",
    "print(raw_data.iloc[[0,1,45], [2, 5]] ) # Refer using column ID\n"
   ]
  },
  {
   "cell_type": "code",
   "execution_count": null,
   "metadata": {},
   "outputs": [],
   "source": [
    "corr = raw_data.corr(numeric_only=True)\n",
    "corr"
   ]
  },
  {
   "cell_type": "code",
   "execution_count": null,
   "metadata": {},
   "outputs": [],
   "source": [
    "import pandas as pd\n",
    "import matplotlib.pyplot as plt\n",
    "\n",
    "# Load the dataset\n",
    "raw_data = pd.read_csv(r'dataset/Data.csv')\n",
    "\n",
    "# Convert 'datetime' column to pandas datetime\n",
    "raw_data['datetime'] = pd.to_datetime(raw_data['datetime'])\n",
    "\n",
    "# Extract the year from the 'datetime' column into a new 'year' column\n",
    "raw_data['year'] = raw_data['datetime'].dt.year\n",
    "\n",
    "# Filter data for the years 2020 to 2024\n",
    "years = [2020, 2021, 2022, 2023, 2024]\n",
    "filtered_data = raw_data[raw_data['year'].isin(years)]\n",
    "\n",
    "# Group the data by year and month, and calculate the average temp, feels like, and precip for each month\n",
    "monthly_avg = filtered_data.groupby([filtered_data['datetime'].dt.month, filtered_data['datetime'].dt.year])[['temp', 'feelslike', 'precip']].mean().unstack(1)\n",
    "\n",
    "# Define month names for the x-axis\n",
    "months = ['Jan', 'Feb', 'Mar', 'Apr', 'May', 'Jun', 'Jul', 'Aug', 'Sep', 'Oct', 'Nov', 'Dec']\n",
    "\n",
    "# Function to plot the data for each year\n",
    "def plot_year_data(year):\n",
    "    fig, ax = plt.subplots(figsize=(10, 6))\n",
    "    ax2 = ax.twinx()  # Create a secondary axis for the bar chart\n",
    "\n",
    "    # Plot temperature and feels like as line charts\n",
    "    ax.plot(monthly_avg.index, monthly_avg['temp'][year], label=f'Temp {year}', color='red')\n",
    "    ax.plot(monthly_avg.index, monthly_avg['feelslike'][year], label=f'Feels Like {year}', color='red', linestyle='dashed')\n",
    "\n",
    "    # Plot precipitation as a bar chart\n",
    "    ax2.bar(monthly_avg.index, monthly_avg['precip'][year], color='blue', alpha=0.3, label=f'Precip {year}')\n",
    "\n",
    "    # Set the axis labels and title\n",
    "    ax.set_title(f'Temperature, Feels Like, and Precipitation in {year}')\n",
    "    ax.set_xlabel('Month')\n",
    "    ax.set_ylabel('Temperature (°C)', color='red')\n",
    "    ax2.set_ylabel('Precipitation (mm)', color='blue')\n",
    "\n",
    "    # Set custom month labels on the x-axis\n",
    "    ax.set_xticks(range(1, 13))\n",
    "    ax.set_xticklabels(months)\n",
    "\n",
    "    # Add legends outside of the plot area, further right\n",
    "    ax.legend(loc='upper left', bbox_to_anchor=(1.15, 1))\n",
    "    ax2.legend(loc='upper left', bbox_to_anchor=(1.15, 0.85))\n",
    "\n",
    "    # Grid for better readability\n",
    "    ax.grid(True)\n",
    "\n",
    "    # Adjust layout and leave space for the legends\n",
    "    plt.tight_layout(rect=[0, 0, 0.85, 1])\n",
    "    plt.show()\n",
    "\n",
    "# Plot the data for each year separately (2020 to 2023)\n",
    "for year in years[:-1]:  # Exclude 2024\n",
    "    plot_year_data(year)\n",
    "\n",
    "# Plot the data for 2024 in a separate figure\n",
    "plot_year_data(2024)"
   ]
  }
 ],
 "metadata": {
  "kernelspec": {
   "display_name": "base",
   "language": "python",
   "name": "python3"
  },
  "language_info": {
   "codemirror_mode": {
    "name": "ipython",
    "version": 3
   },
   "file_extension": ".py",
   "mimetype": "text/x-python",
   "name": "python",
   "nbconvert_exporter": "python",
   "pygments_lexer": "ipython3",
   "version": "3.12.4"
  }
 },
 "nbformat": 4,
 "nbformat_minor": 2
}
