{
 "cells": [
  {
   "cell_type": "code",
   "execution_count": null,
   "metadata": {},
   "outputs": [],
   "source": [
    "import pandas as pd\n",
    "import numpy as np\n",
    "import matplotlib.pyplot as plt\n",
    "from sklearn.base import BaseEstimator, TransformerMixin\n",
    "from sklearn.pipeline import FeatureUnion\n",
    "from sklearn.pipeline import Pipeline\n",
    "from sklearn.preprocessing import StandardScaler\n",
    "from sklearn.impute import SimpleImputer  \n",
    "from sklearn.preprocessing import OneHotEncoder      \n",
    "from sklearn.model_selection import KFold   \n",
    "from statistics import mean\n",
    "import joblib "
   ]
  },
  {
   "cell_type": "markdown",
   "metadata": {},
   "source": [
    "STEP 1. LOOK AT THE BIG PICTURE (DONE)"
   ]
  },
  {
   "cell_type": "markdown",
   "metadata": {},
   "source": [
    "STEP 2. GET THE DATA (DONE). LOAD DATA"
   ]
  },
  {
   "cell_type": "code",
   "execution_count": null,
   "metadata": {},
   "outputs": [],
   "source": [
    "raw_data = pd.read_csv(r'dataset/Data.csv')\n",
    "# raw_data.head(10) preview the first 10 column\n",
    "#raw_data.tail() preview the last 10 column "
   ]
  },
  {
   "cell_type": "markdown",
   "metadata": {},
   "source": [
    "STEP 3. DISCOVER THE DATA TO GAIN INSIGHTS"
   ]
  },
  {
   "cell_type": "code",
   "execution_count": null,
   "metadata": {},
   "outputs": [],
   "source": [
    "# 3.1 Quick view of the data\n",
    "print('\\n____________ Dataset info ____________')\n",
    "print(raw_data.info())              \n",
    "print('\\n____________ Some first data examples ____________')\n",
    "print(raw_data.head(5)) \n",
    "print('\\n____________ Counts on a feature ____________')\n",
    "# print(raw_data['LEGAL DOCUMENTS'].value_counts()) \n",
    "print('\\n____________ Statistics of numeric features ____________')\n",
    "print(raw_data.describe())    \n",
    "print('\\n____________ Get specific rows and cols ____________')     \n",
    "print(raw_data.iloc[[0,1,45], [2, 5]] ) # Refer using column ID\n",
    "\n",
    "#3.2: Scatter plot b/w 2 features\n",
    "if 1:\n",
    "    raw_data.plot(kind=\"scatter\", y=\"temp\", x=\"sealevelpressure\", alpha= 0.5, color = 'b')\n",
    "    # plt.axis([0, 1000, 0, 1000])\n",
    "    plt.savefig('figures/scatter_1_feat.png', format='png', dpi=100)\n",
    "    plt.show()  \n",
    "if 2:\n",
    "    raw_data.plot(kind=\"scatter\", y=\"temp\", x=\"uvindex\", alpha= 0.5, color = 'b')\n",
    "    # plt.axis([0, 1000, 0, 1000])\n",
    "    plt.savefig('figures/scatter_1_feat.png', format='png', dpi=100)\n",
    "    plt.show()\n",
    "if 3:\n",
    "    raw_data.plot(kind=\"scatter\", y=\"temp\", x=\"moonphase\", alpha= 0.5, color = 'b')\n",
    "    # plt.axis([0, 1000, 0, 1000])\n",
    "    plt.savefig('figures/scatter_1_feat.png', format='png', dpi=100)\n",
    "    plt.show()    \n",
    "\n",
    "# 3.3 Scatter plot b/w every pair of features\n",
    "if 0:\n",
    "    from pandas.plotting import scatter_matrix   \n",
    "    features_to_plot = [\"PRICE IN MILLION VND\", \"NUMBER OF BEDROOMS\", \"NUMBER OF TOILETS\", \"AREA IN M2\"]\n",
    "    scatter_matrix(raw_data[features_to_plot], figsize=(12, 8)) # Note: histograms on the main diagonal\n",
    "    plt.savefig('figures/scatter_mat_all_feat.png', format='png', dpi=300)\n",
    "    plt.show()"
   ]
  }
 ],
 "metadata": {
  "kernelspec": {
   "display_name": "base",
   "language": "python",
   "name": "python3"
  },
  "language_info": {
   "codemirror_mode": {
    "name": "ipython",
    "version": 3
   },
   "file_extension": ".py",
   "mimetype": "text/x-python",
   "name": "python",
   "nbconvert_exporter": "python",
   "pygments_lexer": "ipython3",
   "version": "3.12.4"
  }
 },
 "nbformat": 4,
 "nbformat_minor": 2
}
